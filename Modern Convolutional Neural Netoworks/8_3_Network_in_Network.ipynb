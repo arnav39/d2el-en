{
  "nbformat": 4,
  "nbformat_minor": 0,
  "metadata": {
    "colab": {
      "provenance": [],
      "authorship_tag": "ABX9TyOB0aLcqDk81VBP4LoXOvcD",
      "include_colab_link": true
    },
    "kernelspec": {
      "name": "python3",
      "display_name": "Python 3"
    },
    "language_info": {
      "name": "python"
    },
    "gpuClass": "standard",
    "accelerator": "GPU",
    "widgets": {
      "application/vnd.jupyter.widget-state+json": {
        "28839c8a2e364a3db950869263058102": {
          "model_module": "@jupyter-widgets/controls",
          "model_name": "HBoxModel",
          "model_module_version": "1.5.0",
          "state": {
            "_dom_classes": [],
            "_model_module": "@jupyter-widgets/controls",
            "_model_module_version": "1.5.0",
            "_model_name": "HBoxModel",
            "_view_count": null,
            "_view_module": "@jupyter-widgets/controls",
            "_view_module_version": "1.5.0",
            "_view_name": "HBoxView",
            "box_style": "",
            "children": [
              "IPY_MODEL_7a42210b36204f9ca4738ea61b311d6d",
              "IPY_MODEL_025e0ff8df8f4b0f918c86d4ad8b58f5",
              "IPY_MODEL_6ac31e65e6a44798a1e703947950b799"
            ],
            "layout": "IPY_MODEL_e80562af30a04f71bb788cec43700f76"
          }
        },
        "7a42210b36204f9ca4738ea61b311d6d": {
          "model_module": "@jupyter-widgets/controls",
          "model_name": "HTMLModel",
          "model_module_version": "1.5.0",
          "state": {
            "_dom_classes": [],
            "_model_module": "@jupyter-widgets/controls",
            "_model_module_version": "1.5.0",
            "_model_name": "HTMLModel",
            "_view_count": null,
            "_view_module": "@jupyter-widgets/controls",
            "_view_module_version": "1.5.0",
            "_view_name": "HTMLView",
            "description": "",
            "description_tooltip": null,
            "layout": "IPY_MODEL_97deebdc18fc4a668bfe454eb222dbd6",
            "placeholder": "​",
            "style": "IPY_MODEL_cf15252e55ce474ba2cda67e990ca729",
            "value": "100%"
          }
        },
        "025e0ff8df8f4b0f918c86d4ad8b58f5": {
          "model_module": "@jupyter-widgets/controls",
          "model_name": "FloatProgressModel",
          "model_module_version": "1.5.0",
          "state": {
            "_dom_classes": [],
            "_model_module": "@jupyter-widgets/controls",
            "_model_module_version": "1.5.0",
            "_model_name": "FloatProgressModel",
            "_view_count": null,
            "_view_module": "@jupyter-widgets/controls",
            "_view_module_version": "1.5.0",
            "_view_name": "ProgressView",
            "bar_style": "success",
            "description": "",
            "description_tooltip": null,
            "layout": "IPY_MODEL_1fda89d2523340e89a20538df0c929c4",
            "max": 5148,
            "min": 0,
            "orientation": "horizontal",
            "style": "IPY_MODEL_40d608a3ffb74d61987c7a0e1321f3ba",
            "value": 5148
          }
        },
        "6ac31e65e6a44798a1e703947950b799": {
          "model_module": "@jupyter-widgets/controls",
          "model_name": "HTMLModel",
          "model_module_version": "1.5.0",
          "state": {
            "_dom_classes": [],
            "_model_module": "@jupyter-widgets/controls",
            "_model_module_version": "1.5.0",
            "_model_name": "HTMLModel",
            "_view_count": null,
            "_view_module": "@jupyter-widgets/controls",
            "_view_module_version": "1.5.0",
            "_view_name": "HTMLView",
            "description": "",
            "description_tooltip": null,
            "layout": "IPY_MODEL_c7be0acfa5d146818601ecbd23f7b772",
            "placeholder": "​",
            "style": "IPY_MODEL_a03a602dadee4134bf9cc17a61d06281",
            "value": " 5148/5148 [00:00&lt;00:00, 274620.06it/s]"
          }
        },
        "e80562af30a04f71bb788cec43700f76": {
          "model_module": "@jupyter-widgets/base",
          "model_name": "LayoutModel",
          "model_module_version": "1.2.0",
          "state": {
            "_model_module": "@jupyter-widgets/base",
            "_model_module_version": "1.2.0",
            "_model_name": "LayoutModel",
            "_view_count": null,
            "_view_module": "@jupyter-widgets/base",
            "_view_module_version": "1.2.0",
            "_view_name": "LayoutView",
            "align_content": null,
            "align_items": null,
            "align_self": null,
            "border": null,
            "bottom": null,
            "display": null,
            "flex": null,
            "flex_flow": null,
            "grid_area": null,
            "grid_auto_columns": null,
            "grid_auto_flow": null,
            "grid_auto_rows": null,
            "grid_column": null,
            "grid_gap": null,
            "grid_row": null,
            "grid_template_areas": null,
            "grid_template_columns": null,
            "grid_template_rows": null,
            "height": null,
            "justify_content": null,
            "justify_items": null,
            "left": null,
            "margin": null,
            "max_height": null,
            "max_width": null,
            "min_height": null,
            "min_width": null,
            "object_fit": null,
            "object_position": null,
            "order": null,
            "overflow": null,
            "overflow_x": null,
            "overflow_y": null,
            "padding": null,
            "right": null,
            "top": null,
            "visibility": null,
            "width": null
          }
        },
        "97deebdc18fc4a668bfe454eb222dbd6": {
          "model_module": "@jupyter-widgets/base",
          "model_name": "LayoutModel",
          "model_module_version": "1.2.0",
          "state": {
            "_model_module": "@jupyter-widgets/base",
            "_model_module_version": "1.2.0",
            "_model_name": "LayoutModel",
            "_view_count": null,
            "_view_module": "@jupyter-widgets/base",
            "_view_module_version": "1.2.0",
            "_view_name": "LayoutView",
            "align_content": null,
            "align_items": null,
            "align_self": null,
            "border": null,
            "bottom": null,
            "display": null,
            "flex": null,
            "flex_flow": null,
            "grid_area": null,
            "grid_auto_columns": null,
            "grid_auto_flow": null,
            "grid_auto_rows": null,
            "grid_column": null,
            "grid_gap": null,
            "grid_row": null,
            "grid_template_areas": null,
            "grid_template_columns": null,
            "grid_template_rows": null,
            "height": null,
            "justify_content": null,
            "justify_items": null,
            "left": null,
            "margin": null,
            "max_height": null,
            "max_width": null,
            "min_height": null,
            "min_width": null,
            "object_fit": null,
            "object_position": null,
            "order": null,
            "overflow": null,
            "overflow_x": null,
            "overflow_y": null,
            "padding": null,
            "right": null,
            "top": null,
            "visibility": null,
            "width": null
          }
        },
        "cf15252e55ce474ba2cda67e990ca729": {
          "model_module": "@jupyter-widgets/controls",
          "model_name": "DescriptionStyleModel",
          "model_module_version": "1.5.0",
          "state": {
            "_model_module": "@jupyter-widgets/controls",
            "_model_module_version": "1.5.0",
            "_model_name": "DescriptionStyleModel",
            "_view_count": null,
            "_view_module": "@jupyter-widgets/base",
            "_view_module_version": "1.2.0",
            "_view_name": "StyleView",
            "description_width": ""
          }
        },
        "1fda89d2523340e89a20538df0c929c4": {
          "model_module": "@jupyter-widgets/base",
          "model_name": "LayoutModel",
          "model_module_version": "1.2.0",
          "state": {
            "_model_module": "@jupyter-widgets/base",
            "_model_module_version": "1.2.0",
            "_model_name": "LayoutModel",
            "_view_count": null,
            "_view_module": "@jupyter-widgets/base",
            "_view_module_version": "1.2.0",
            "_view_name": "LayoutView",
            "align_content": null,
            "align_items": null,
            "align_self": null,
            "border": null,
            "bottom": null,
            "display": null,
            "flex": null,
            "flex_flow": null,
            "grid_area": null,
            "grid_auto_columns": null,
            "grid_auto_flow": null,
            "grid_auto_rows": null,
            "grid_column": null,
            "grid_gap": null,
            "grid_row": null,
            "grid_template_areas": null,
            "grid_template_columns": null,
            "grid_template_rows": null,
            "height": null,
            "justify_content": null,
            "justify_items": null,
            "left": null,
            "margin": null,
            "max_height": null,
            "max_width": null,
            "min_height": null,
            "min_width": null,
            "object_fit": null,
            "object_position": null,
            "order": null,
            "overflow": null,
            "overflow_x": null,
            "overflow_y": null,
            "padding": null,
            "right": null,
            "top": null,
            "visibility": null,
            "width": null
          }
        },
        "40d608a3ffb74d61987c7a0e1321f3ba": {
          "model_module": "@jupyter-widgets/controls",
          "model_name": "ProgressStyleModel",
          "model_module_version": "1.5.0",
          "state": {
            "_model_module": "@jupyter-widgets/controls",
            "_model_module_version": "1.5.0",
            "_model_name": "ProgressStyleModel",
            "_view_count": null,
            "_view_module": "@jupyter-widgets/base",
            "_view_module_version": "1.2.0",
            "_view_name": "StyleView",
            "bar_color": null,
            "description_width": ""
          }
        },
        "c7be0acfa5d146818601ecbd23f7b772": {
          "model_module": "@jupyter-widgets/base",
          "model_name": "LayoutModel",
          "model_module_version": "1.2.0",
          "state": {
            "_model_module": "@jupyter-widgets/base",
            "_model_module_version": "1.2.0",
            "_model_name": "LayoutModel",
            "_view_count": null,
            "_view_module": "@jupyter-widgets/base",
            "_view_module_version": "1.2.0",
            "_view_name": "LayoutView",
            "align_content": null,
            "align_items": null,
            "align_self": null,
            "border": null,
            "bottom": null,
            "display": null,
            "flex": null,
            "flex_flow": null,
            "grid_area": null,
            "grid_auto_columns": null,
            "grid_auto_flow": null,
            "grid_auto_rows": null,
            "grid_column": null,
            "grid_gap": null,
            "grid_row": null,
            "grid_template_areas": null,
            "grid_template_columns": null,
            "grid_template_rows": null,
            "height": null,
            "justify_content": null,
            "justify_items": null,
            "left": null,
            "margin": null,
            "max_height": null,
            "max_width": null,
            "min_height": null,
            "min_width": null,
            "object_fit": null,
            "object_position": null,
            "order": null,
            "overflow": null,
            "overflow_x": null,
            "overflow_y": null,
            "padding": null,
            "right": null,
            "top": null,
            "visibility": null,
            "width": null
          }
        },
        "a03a602dadee4134bf9cc17a61d06281": {
          "model_module": "@jupyter-widgets/controls",
          "model_name": "DescriptionStyleModel",
          "model_module_version": "1.5.0",
          "state": {
            "_model_module": "@jupyter-widgets/controls",
            "_model_module_version": "1.5.0",
            "_model_name": "DescriptionStyleModel",
            "_view_count": null,
            "_view_module": "@jupyter-widgets/base",
            "_view_module_version": "1.2.0",
            "_view_name": "StyleView",
            "description_width": ""
          }
        }
      }
    }
  },
  "cells": [
    {
      "cell_type": "markdown",
      "metadata": {
        "id": "view-in-github",
        "colab_type": "text"
      },
      "source": [
        "<a href=\"https://colab.research.google.com/github/arnav39/d2el-en/blob/main/8_3_Network_in_Network.ipynb\" target=\"_parent\"><img src=\"https://colab.research.google.com/assets/colab-badge.svg\" alt=\"Open In Colab\"/></a>"
      ]
    },
    {
      "cell_type": "markdown",
      "source": [
        "# 8.3 : Network in Network"
      ],
      "metadata": {
        "id": "q6xUvTHm2x4G"
      }
    },
    {
      "cell_type": "code",
      "execution_count": null,
      "metadata": {
        "id": "fhfuzLbJ027Z"
      },
      "outputs": [],
      "source": [
        "!pip install matplotlib_inline\n",
        "!pip install --upgrade d2l==1.0.0a0"
      ]
    },
    {
      "cell_type": "code",
      "source": [
        "import torch\n",
        "from d2l import torch as d2l\n",
        "from torch import nn"
      ],
      "metadata": {
        "id": "-vdYR7J025nS"
      },
      "execution_count": 2,
      "outputs": []
    },
    {
      "cell_type": "code",
      "source": [
        "def nin_block(out_channels, kernel_size, strides, padding):\n",
        "  return nn.Sequential(\n",
        "      nn.LazyConv2d(out_channels, kernel_size, strides, padding), nn.ReLU(),\n",
        "      nn.LazyConv2d(out_channels, kernel_size=1), nn.ReLU(),\n",
        "      nn.LazyConv2d(out_channels, kernel_size=1), nn.ReLU()\n",
        "  )"
      ],
      "metadata": {
        "id": "qQthsV1S3ATB"
      },
      "execution_count": 3,
      "outputs": []
    },
    {
      "cell_type": "code",
      "source": [
        "nn.AdaptiveAvgPool2d??"
      ],
      "metadata": {
        "id": "HvV8MSGL5-0s"
      },
      "execution_count": 6,
      "outputs": []
    },
    {
      "cell_type": "code",
      "source": [
        "avg_pool = nn.AdaptiveAvgPool2d((1, 1)) # target output : 1 x 1\n",
        "b = torch.ones(1, 50, 10, 10) * 2\n",
        "print(f\"b.shape = {b.shape}\")\n",
        "c = avg_pool(b)\n",
        "print(f\"c.shape = {c.shape}\")"
      ],
      "metadata": {
        "colab": {
          "base_uri": "https://localhost:8080/"
        },
        "id": "oZO8t-xs6d9O",
        "outputId": "e4d5900c-f76c-4be4-b6c6-b1fa8d0f2752"
      },
      "execution_count": 4,
      "outputs": [
        {
          "output_type": "stream",
          "name": "stdout",
          "text": [
            "b.shape = torch.Size([1, 50, 10, 10])\n",
            "c.shape = torch.Size([1, 50, 1, 1])\n"
          ]
        }
      ]
    },
    {
      "cell_type": "code",
      "source": [
        "flatten = nn.Flatten()\n",
        "d = flatten(c)\n",
        "print(d.shape)"
      ],
      "metadata": {
        "colab": {
          "base_uri": "https://localhost:8080/"
        },
        "id": "x1vXCHT97G56",
        "outputId": "b93806a4-abe3-47d5-a899-e70816423dfe"
      },
      "execution_count": 5,
      "outputs": [
        {
          "output_type": "stream",
          "name": "stdout",
          "text": [
            "torch.Size([1, 50])\n"
          ]
        }
      ]
    },
    {
      "cell_type": "code",
      "source": [
        "from torch.nn.modules.pooling import AdaptiveAvgPool2d\n",
        "class NiN(d2l.Classifier):\n",
        "\n",
        "  def __init__(self, lr=0.01, num_classes=10):\n",
        "    super().__init__()\n",
        "    self.save_hyperparameters()\n",
        "    self.net = nn.Sequential(\n",
        "        nin_block(96, kernel_size=11, strides=4, padding=0),\n",
        "        nn.MaxPool2d(kernel_size=3, stride=2),\n",
        "        nin_block(256, kernel_size=5, strides=1, padding=2),\n",
        "        nn.MaxPool2d(kernel_size=3, stride=2),\n",
        "        nin_block(384, kernel_size=3, strides=1, padding=1), \n",
        "        nn.MaxPool2d(kernel_size=3, stride=2),\n",
        "        nn.Dropout(p=0.5),\n",
        "        nin_block(num_classes, kernel_size=3, strides=1, padding=1),\n",
        "        nn.AdaptiveAvgPool2d((1, 1)), # computes average for all the pixels for each channel independently\n",
        "        nn.Flatten() # giving us the required number of outputs for using cross entropy loss \n",
        "    )\n",
        "    self.net.apply(d2l.init_cnn)\n",
        "\n",
        "  def forward(self, X):\n",
        "    return self.net(X)"
      ],
      "metadata": {
        "id": "e-Kvv8gA34K-"
      },
      "execution_count": 4,
      "outputs": []
    },
    {
      "cell_type": "code",
      "source": [
        "l1 = nn.MaxPool2d(kernel_size=2, stride=2)\n",
        "print(l1.__class__)\n",
        "print(l1.__class__.__name__)"
      ],
      "metadata": {
        "colab": {
          "base_uri": "https://localhost:8080/"
        },
        "id": "dFpbjFaD76v-",
        "outputId": "9a3f8182-5efd-4233-c2eb-0f3f426cef37"
      },
      "execution_count": 7,
      "outputs": [
        {
          "output_type": "stream",
          "name": "stdout",
          "text": [
            "<class 'torch.nn.modules.pooling.MaxPool2d'>\n",
            "MaxPool2d\n"
          ]
        }
      ]
    },
    {
      "cell_type": "code",
      "source": [
        "model = NiN()\n",
        "X = torch.randn(1, 1, 224, 224)\n",
        "for layer in model.net:\n",
        "  X = layer(X)\n",
        "  print(layer.__class__.__name__, 'output shape \\t', X.shape)"
      ],
      "metadata": {
        "colab": {
          "base_uri": "https://localhost:8080/"
        },
        "id": "2iWbX5kY3X2V",
        "outputId": "10b3061f-f374-4955-aa26-8ef86dd87f76"
      },
      "execution_count": 8,
      "outputs": [
        {
          "output_type": "stream",
          "name": "stdout",
          "text": [
            "Sequential output shape \t torch.Size([1, 96, 54, 54])\n",
            "MaxPool2d output shape \t torch.Size([1, 96, 26, 26])\n",
            "Sequential output shape \t torch.Size([1, 256, 26, 26])\n",
            "MaxPool2d output shape \t torch.Size([1, 256, 12, 12])\n",
            "Sequential output shape \t torch.Size([1, 384, 12, 12])\n",
            "MaxPool2d output shape \t torch.Size([1, 384, 5, 5])\n",
            "Dropout output shape \t torch.Size([1, 384, 5, 5])\n",
            "Sequential output shape \t torch.Size([1, 10, 5, 5])\n",
            "AdaptiveAvgPool2d output shape \t torch.Size([1, 10, 1, 1])\n",
            "Flatten output shape \t torch.Size([1, 10])\n"
          ]
        },
        {
          "output_type": "stream",
          "name": "stderr",
          "text": [
            "/usr/local/lib/python3.8/dist-packages/torch/nn/modules/lazy.py:180: UserWarning: Lazy modules are a new feature under heavy development so changes to the API or functionality can happen at any moment.\n",
            "  warnings.warn('Lazy modules are a new feature under heavy development '\n"
          ]
        }
      ]
    },
    {
      "cell_type": "code",
      "source": [
        "print(X)"
      ],
      "metadata": {
        "colab": {
          "base_uri": "https://localhost:8080/"
        },
        "id": "4VpzLBh_8a5f",
        "outputId": "151531ba-5ccf-4179-cb1e-aba7ef549924"
      },
      "execution_count": 19,
      "outputs": [
        {
          "output_type": "stream",
          "name": "stdout",
          "text": [
            "tensor([[0.2553, 0.0000, 0.0000, 0.2528, 0.0439, 0.0000, 0.0000, 0.1504, 0.2526,\n",
            "         0.0000]], grad_fn=<ReshapeAliasBackward0>)\n"
          ]
        }
      ]
    },
    {
      "cell_type": "code",
      "source": [
        "model = NiN(lr=0.05)\n",
        "trainer = d2l.Trainer(max_epochs=10, num_gpus=1)\n",
        "data = d2l.FashionMNIST(batch_size=128, resize=(224, 224))\n",
        "model.apply_init([next(iter(data.get_dataloader(True)))[0]], d2l.init_cnn)\n",
        "trainer.fit(model, data)"
      ],
      "metadata": {
        "colab": {
          "base_uri": "https://localhost:8080/",
          "height": 262
        },
        "id": "mv_zLa758efd",
        "outputId": "591a5884-bf29-4b31-c9d9-3bffa9c424e5"
      },
      "execution_count": 7,
      "outputs": [
        {
          "output_type": "display_data",
          "data": {
            "text/plain": [
              "<Figure size 252x180 with 1 Axes>"
            ],
            "image/svg+xml": "<?xml version=\"1.0\" encoding=\"utf-8\" standalone=\"no\"?>\n<!DOCTYPE svg PUBLIC \"-//W3C//DTD SVG 1.1//EN\"\n  \"http://www.w3.org/Graphics/SVG/1.1/DTD/svg11.dtd\">\n<!-- Created with matplotlib (https://matplotlib.org/) -->\n<svg height=\"180.65625pt\" version=\"1.1\" viewBox=\"0 0 238.965625 180.65625\" width=\"238.965625pt\" xmlns=\"http://www.w3.org/2000/svg\" xmlns:xlink=\"http://www.w3.org/1999/xlink\">\n <defs>\n  <style type=\"text/css\">\n*{stroke-linecap:butt;stroke-linejoin:round;}\n  </style>\n </defs>\n <g id=\"figure_1\">\n  <g id=\"patch_1\">\n   <path d=\"M 0 180.65625 \nL 238.965625 180.65625 \nL 238.965625 0 \nL 0 0 \nz\n\" style=\"fill:none;\"/>\n  </g>\n  <g id=\"axes_1\">\n   <g id=\"patch_2\">\n    <path d=\"M 30.103125 143.1 \nL 225.403125 143.1 \nL 225.403125 7.2 \nL 30.103125 7.2 \nz\n\" style=\"fill:#ffffff;\"/>\n   </g>\n   <g id=\"matplotlib.axis_1\">\n    <g id=\"xtick_1\">\n     <g id=\"line2d_1\">\n      <defs>\n       <path d=\"M 0 0 \nL 0 3.5 \n\" id=\"m0cf9e4c2e4\" style=\"stroke:#000000;stroke-width:0.8;\"/>\n      </defs>\n      <g>\n       <use style=\"stroke:#000000;stroke-width:0.8;\" x=\"30.103125\" xlink:href=\"#m0cf9e4c2e4\" y=\"143.1\"/>\n      </g>\n     </g>\n     <g id=\"text_1\">\n      <!-- 0 -->\n      <defs>\n       <path d=\"M 31.78125 66.40625 \nQ 24.171875 66.40625 20.328125 58.90625 \nQ 16.5 51.421875 16.5 36.375 \nQ 16.5 21.390625 20.328125 13.890625 \nQ 24.171875 6.390625 31.78125 6.390625 \nQ 39.453125 6.390625 43.28125 13.890625 \nQ 47.125 21.390625 47.125 36.375 \nQ 47.125 51.421875 43.28125 58.90625 \nQ 39.453125 66.40625 31.78125 66.40625 \nz\nM 31.78125 74.21875 \nQ 44.046875 74.21875 50.515625 64.515625 \nQ 56.984375 54.828125 56.984375 36.375 \nQ 56.984375 17.96875 50.515625 8.265625 \nQ 44.046875 -1.421875 31.78125 -1.421875 \nQ 19.53125 -1.421875 13.0625 8.265625 \nQ 6.59375 17.96875 6.59375 36.375 \nQ 6.59375 54.828125 13.0625 64.515625 \nQ 19.53125 74.21875 31.78125 74.21875 \nz\n\" id=\"DejaVuSans-48\"/>\n      </defs>\n      <g transform=\"translate(26.921875 157.698438)scale(0.1 -0.1)\">\n       <use xlink:href=\"#DejaVuSans-48\"/>\n      </g>\n     </g>\n    </g>\n    <g id=\"xtick_2\">\n     <g id=\"line2d_2\">\n      <g>\n       <use style=\"stroke:#000000;stroke-width:0.8;\" x=\"69.163125\" xlink:href=\"#m0cf9e4c2e4\" y=\"143.1\"/>\n      </g>\n     </g>\n     <g id=\"text_2\">\n      <!-- 2 -->\n      <defs>\n       <path d=\"M 19.1875 8.296875 \nL 53.609375 8.296875 \nL 53.609375 0 \nL 7.328125 0 \nL 7.328125 8.296875 \nQ 12.9375 14.109375 22.625 23.890625 \nQ 32.328125 33.6875 34.8125 36.53125 \nQ 39.546875 41.84375 41.421875 45.53125 \nQ 43.3125 49.21875 43.3125 52.78125 \nQ 43.3125 58.59375 39.234375 62.25 \nQ 35.15625 65.921875 28.609375 65.921875 \nQ 23.96875 65.921875 18.8125 64.3125 \nQ 13.671875 62.703125 7.8125 59.421875 \nL 7.8125 69.390625 \nQ 13.765625 71.78125 18.9375 73 \nQ 24.125 74.21875 28.421875 74.21875 \nQ 39.75 74.21875 46.484375 68.546875 \nQ 53.21875 62.890625 53.21875 53.421875 \nQ 53.21875 48.921875 51.53125 44.890625 \nQ 49.859375 40.875 45.40625 35.40625 \nQ 44.1875 33.984375 37.640625 27.21875 \nQ 31.109375 20.453125 19.1875 8.296875 \nz\n\" id=\"DejaVuSans-50\"/>\n      </defs>\n      <g transform=\"translate(65.981875 157.698438)scale(0.1 -0.1)\">\n       <use xlink:href=\"#DejaVuSans-50\"/>\n      </g>\n     </g>\n    </g>\n    <g id=\"xtick_3\">\n     <g id=\"line2d_3\">\n      <g>\n       <use style=\"stroke:#000000;stroke-width:0.8;\" x=\"108.223125\" xlink:href=\"#m0cf9e4c2e4\" y=\"143.1\"/>\n      </g>\n     </g>\n     <g id=\"text_3\">\n      <!-- 4 -->\n      <defs>\n       <path d=\"M 37.796875 64.3125 \nL 12.890625 25.390625 \nL 37.796875 25.390625 \nz\nM 35.203125 72.90625 \nL 47.609375 72.90625 \nL 47.609375 25.390625 \nL 58.015625 25.390625 \nL 58.015625 17.1875 \nL 47.609375 17.1875 \nL 47.609375 0 \nL 37.796875 0 \nL 37.796875 17.1875 \nL 4.890625 17.1875 \nL 4.890625 26.703125 \nz\n\" id=\"DejaVuSans-52\"/>\n      </defs>\n      <g transform=\"translate(105.041875 157.698438)scale(0.1 -0.1)\">\n       <use xlink:href=\"#DejaVuSans-52\"/>\n      </g>\n     </g>\n    </g>\n    <g id=\"xtick_4\">\n     <g id=\"line2d_4\">\n      <g>\n       <use style=\"stroke:#000000;stroke-width:0.8;\" x=\"147.283125\" xlink:href=\"#m0cf9e4c2e4\" y=\"143.1\"/>\n      </g>\n     </g>\n     <g id=\"text_4\">\n      <!-- 6 -->\n      <defs>\n       <path d=\"M 33.015625 40.375 \nQ 26.375 40.375 22.484375 35.828125 \nQ 18.609375 31.296875 18.609375 23.390625 \nQ 18.609375 15.53125 22.484375 10.953125 \nQ 26.375 6.390625 33.015625 6.390625 \nQ 39.65625 6.390625 43.53125 10.953125 \nQ 47.40625 15.53125 47.40625 23.390625 \nQ 47.40625 31.296875 43.53125 35.828125 \nQ 39.65625 40.375 33.015625 40.375 \nz\nM 52.59375 71.296875 \nL 52.59375 62.3125 \nQ 48.875 64.0625 45.09375 64.984375 \nQ 41.3125 65.921875 37.59375 65.921875 \nQ 27.828125 65.921875 22.671875 59.328125 \nQ 17.53125 52.734375 16.796875 39.40625 \nQ 19.671875 43.65625 24.015625 45.921875 \nQ 28.375 48.1875 33.59375 48.1875 \nQ 44.578125 48.1875 50.953125 41.515625 \nQ 57.328125 34.859375 57.328125 23.390625 \nQ 57.328125 12.15625 50.6875 5.359375 \nQ 44.046875 -1.421875 33.015625 -1.421875 \nQ 20.359375 -1.421875 13.671875 8.265625 \nQ 6.984375 17.96875 6.984375 36.375 \nQ 6.984375 53.65625 15.1875 63.9375 \nQ 23.390625 74.21875 37.203125 74.21875 \nQ 40.921875 74.21875 44.703125 73.484375 \nQ 48.484375 72.75 52.59375 71.296875 \nz\n\" id=\"DejaVuSans-54\"/>\n      </defs>\n      <g transform=\"translate(144.101875 157.698438)scale(0.1 -0.1)\">\n       <use xlink:href=\"#DejaVuSans-54\"/>\n      </g>\n     </g>\n    </g>\n    <g id=\"xtick_5\">\n     <g id=\"line2d_5\">\n      <g>\n       <use style=\"stroke:#000000;stroke-width:0.8;\" x=\"186.343125\" xlink:href=\"#m0cf9e4c2e4\" y=\"143.1\"/>\n      </g>\n     </g>\n     <g id=\"text_5\">\n      <!-- 8 -->\n      <defs>\n       <path d=\"M 31.78125 34.625 \nQ 24.75 34.625 20.71875 30.859375 \nQ 16.703125 27.09375 16.703125 20.515625 \nQ 16.703125 13.921875 20.71875 10.15625 \nQ 24.75 6.390625 31.78125 6.390625 \nQ 38.8125 6.390625 42.859375 10.171875 \nQ 46.921875 13.96875 46.921875 20.515625 \nQ 46.921875 27.09375 42.890625 30.859375 \nQ 38.875 34.625 31.78125 34.625 \nz\nM 21.921875 38.8125 \nQ 15.578125 40.375 12.03125 44.71875 \nQ 8.5 49.078125 8.5 55.328125 \nQ 8.5 64.0625 14.71875 69.140625 \nQ 20.953125 74.21875 31.78125 74.21875 \nQ 42.671875 74.21875 48.875 69.140625 \nQ 55.078125 64.0625 55.078125 55.328125 \nQ 55.078125 49.078125 51.53125 44.71875 \nQ 48 40.375 41.703125 38.8125 \nQ 48.828125 37.15625 52.796875 32.3125 \nQ 56.78125 27.484375 56.78125 20.515625 \nQ 56.78125 9.90625 50.3125 4.234375 \nQ 43.84375 -1.421875 31.78125 -1.421875 \nQ 19.734375 -1.421875 13.25 4.234375 \nQ 6.78125 9.90625 6.78125 20.515625 \nQ 6.78125 27.484375 10.78125 32.3125 \nQ 14.796875 37.15625 21.921875 38.8125 \nz\nM 18.3125 54.390625 \nQ 18.3125 48.734375 21.84375 45.5625 \nQ 25.390625 42.390625 31.78125 42.390625 \nQ 38.140625 42.390625 41.71875 45.5625 \nQ 45.3125 48.734375 45.3125 54.390625 \nQ 45.3125 60.0625 41.71875 63.234375 \nQ 38.140625 66.40625 31.78125 66.40625 \nQ 25.390625 66.40625 21.84375 63.234375 \nQ 18.3125 60.0625 18.3125 54.390625 \nz\n\" id=\"DejaVuSans-56\"/>\n      </defs>\n      <g transform=\"translate(183.161875 157.698438)scale(0.1 -0.1)\">\n       <use xlink:href=\"#DejaVuSans-56\"/>\n      </g>\n     </g>\n    </g>\n    <g id=\"xtick_6\">\n     <g id=\"line2d_6\">\n      <g>\n       <use style=\"stroke:#000000;stroke-width:0.8;\" x=\"225.403125\" xlink:href=\"#m0cf9e4c2e4\" y=\"143.1\"/>\n      </g>\n     </g>\n     <g id=\"text_6\">\n      <!-- 10 -->\n      <defs>\n       <path d=\"M 12.40625 8.296875 \nL 28.515625 8.296875 \nL 28.515625 63.921875 \nL 10.984375 60.40625 \nL 10.984375 69.390625 \nL 28.421875 72.90625 \nL 38.28125 72.90625 \nL 38.28125 8.296875 \nL 54.390625 8.296875 \nL 54.390625 0 \nL 12.40625 0 \nz\n\" id=\"DejaVuSans-49\"/>\n      </defs>\n      <g transform=\"translate(219.040625 157.698438)scale(0.1 -0.1)\">\n       <use xlink:href=\"#DejaVuSans-49\"/>\n       <use x=\"63.623047\" xlink:href=\"#DejaVuSans-48\"/>\n      </g>\n     </g>\n    </g>\n    <g id=\"text_7\">\n     <!-- epoch -->\n     <defs>\n      <path d=\"M 56.203125 29.59375 \nL 56.203125 25.203125 \nL 14.890625 25.203125 \nQ 15.484375 15.921875 20.484375 11.0625 \nQ 25.484375 6.203125 34.421875 6.203125 \nQ 39.59375 6.203125 44.453125 7.46875 \nQ 49.3125 8.734375 54.109375 11.28125 \nL 54.109375 2.78125 \nQ 49.265625 0.734375 44.1875 -0.34375 \nQ 39.109375 -1.421875 33.890625 -1.421875 \nQ 20.796875 -1.421875 13.15625 6.1875 \nQ 5.515625 13.8125 5.515625 26.8125 \nQ 5.515625 40.234375 12.765625 48.109375 \nQ 20.015625 56 32.328125 56 \nQ 43.359375 56 49.78125 48.890625 \nQ 56.203125 41.796875 56.203125 29.59375 \nz\nM 47.21875 32.234375 \nQ 47.125 39.59375 43.09375 43.984375 \nQ 39.0625 48.390625 32.421875 48.390625 \nQ 24.90625 48.390625 20.390625 44.140625 \nQ 15.875 39.890625 15.1875 32.171875 \nz\n\" id=\"DejaVuSans-101\"/>\n      <path d=\"M 18.109375 8.203125 \nL 18.109375 -20.796875 \nL 9.078125 -20.796875 \nL 9.078125 54.6875 \nL 18.109375 54.6875 \nL 18.109375 46.390625 \nQ 20.953125 51.265625 25.265625 53.625 \nQ 29.59375 56 35.59375 56 \nQ 45.5625 56 51.78125 48.09375 \nQ 58.015625 40.1875 58.015625 27.296875 \nQ 58.015625 14.40625 51.78125 6.484375 \nQ 45.5625 -1.421875 35.59375 -1.421875 \nQ 29.59375 -1.421875 25.265625 0.953125 \nQ 20.953125 3.328125 18.109375 8.203125 \nz\nM 48.6875 27.296875 \nQ 48.6875 37.203125 44.609375 42.84375 \nQ 40.53125 48.484375 33.40625 48.484375 \nQ 26.265625 48.484375 22.1875 42.84375 \nQ 18.109375 37.203125 18.109375 27.296875 \nQ 18.109375 17.390625 22.1875 11.75 \nQ 26.265625 6.109375 33.40625 6.109375 \nQ 40.53125 6.109375 44.609375 11.75 \nQ 48.6875 17.390625 48.6875 27.296875 \nz\n\" id=\"DejaVuSans-112\"/>\n      <path d=\"M 30.609375 48.390625 \nQ 23.390625 48.390625 19.1875 42.75 \nQ 14.984375 37.109375 14.984375 27.296875 \nQ 14.984375 17.484375 19.15625 11.84375 \nQ 23.34375 6.203125 30.609375 6.203125 \nQ 37.796875 6.203125 41.984375 11.859375 \nQ 46.1875 17.53125 46.1875 27.296875 \nQ 46.1875 37.015625 41.984375 42.703125 \nQ 37.796875 48.390625 30.609375 48.390625 \nz\nM 30.609375 56 \nQ 42.328125 56 49.015625 48.375 \nQ 55.71875 40.765625 55.71875 27.296875 \nQ 55.71875 13.875 49.015625 6.21875 \nQ 42.328125 -1.421875 30.609375 -1.421875 \nQ 18.84375 -1.421875 12.171875 6.21875 \nQ 5.515625 13.875 5.515625 27.296875 \nQ 5.515625 40.765625 12.171875 48.375 \nQ 18.84375 56 30.609375 56 \nz\n\" id=\"DejaVuSans-111\"/>\n      <path d=\"M 48.78125 52.59375 \nL 48.78125 44.1875 \nQ 44.96875 46.296875 41.140625 47.34375 \nQ 37.3125 48.390625 33.40625 48.390625 \nQ 24.65625 48.390625 19.8125 42.84375 \nQ 14.984375 37.3125 14.984375 27.296875 \nQ 14.984375 17.28125 19.8125 11.734375 \nQ 24.65625 6.203125 33.40625 6.203125 \nQ 37.3125 6.203125 41.140625 7.25 \nQ 44.96875 8.296875 48.78125 10.40625 \nL 48.78125 2.09375 \nQ 45.015625 0.34375 40.984375 -0.53125 \nQ 36.96875 -1.421875 32.421875 -1.421875 \nQ 20.0625 -1.421875 12.78125 6.34375 \nQ 5.515625 14.109375 5.515625 27.296875 \nQ 5.515625 40.671875 12.859375 48.328125 \nQ 20.21875 56 33.015625 56 \nQ 37.15625 56 41.109375 55.140625 \nQ 45.0625 54.296875 48.78125 52.59375 \nz\n\" id=\"DejaVuSans-99\"/>\n      <path d=\"M 54.890625 33.015625 \nL 54.890625 0 \nL 45.90625 0 \nL 45.90625 32.71875 \nQ 45.90625 40.484375 42.875 44.328125 \nQ 39.84375 48.1875 33.796875 48.1875 \nQ 26.515625 48.1875 22.3125 43.546875 \nQ 18.109375 38.921875 18.109375 30.90625 \nL 18.109375 0 \nL 9.078125 0 \nL 9.078125 75.984375 \nL 18.109375 75.984375 \nL 18.109375 46.1875 \nQ 21.34375 51.125 25.703125 53.5625 \nQ 30.078125 56 35.796875 56 \nQ 45.21875 56 50.046875 50.171875 \nQ 54.890625 44.34375 54.890625 33.015625 \nz\n\" id=\"DejaVuSans-104\"/>\n     </defs>\n     <g transform=\"translate(112.525 171.376563)scale(0.1 -0.1)\">\n      <use xlink:href=\"#DejaVuSans-101\"/>\n      <use x=\"61.523438\" xlink:href=\"#DejaVuSans-112\"/>\n      <use x=\"125\" xlink:href=\"#DejaVuSans-111\"/>\n      <use x=\"186.181641\" xlink:href=\"#DejaVuSans-99\"/>\n      <use x=\"241.162109\" xlink:href=\"#DejaVuSans-104\"/>\n     </g>\n    </g>\n   </g>\n   <g id=\"matplotlib.axis_2\">\n    <g id=\"ytick_1\">\n     <g id=\"line2d_7\">\n      <defs>\n       <path d=\"M 0 0 \nL -3.5 0 \n\" id=\"mc42cbb247a\" style=\"stroke:#000000;stroke-width:0.8;\"/>\n      </defs>\n      <g>\n       <use style=\"stroke:#000000;stroke-width:0.8;\" x=\"30.103125\" xlink:href=\"#mc42cbb247a\" y=\"142.506371\"/>\n      </g>\n     </g>\n     <g id=\"text_8\">\n      <!-- 0.0 -->\n      <defs>\n       <path d=\"M 10.6875 12.40625 \nL 21 12.40625 \nL 21 0 \nL 10.6875 0 \nz\n\" id=\"DejaVuSans-46\"/>\n      </defs>\n      <g transform=\"translate(7.2 146.305589)scale(0.1 -0.1)\">\n       <use xlink:href=\"#DejaVuSans-48\"/>\n       <use x=\"63.623047\" xlink:href=\"#DejaVuSans-46\"/>\n       <use x=\"95.410156\" xlink:href=\"#DejaVuSans-48\"/>\n      </g>\n     </g>\n    </g>\n    <g id=\"ytick_2\">\n     <g id=\"line2d_8\">\n      <g>\n       <use style=\"stroke:#000000;stroke-width:0.8;\" x=\"30.103125\" xlink:href=\"#mc42cbb247a\" y=\"114.471712\"/>\n      </g>\n     </g>\n     <g id=\"text_9\">\n      <!-- 0.5 -->\n      <defs>\n       <path d=\"M 10.796875 72.90625 \nL 49.515625 72.90625 \nL 49.515625 64.59375 \nL 19.828125 64.59375 \nL 19.828125 46.734375 \nQ 21.96875 47.46875 24.109375 47.828125 \nQ 26.265625 48.1875 28.421875 48.1875 \nQ 40.625 48.1875 47.75 41.5 \nQ 54.890625 34.8125 54.890625 23.390625 \nQ 54.890625 11.625 47.5625 5.09375 \nQ 40.234375 -1.421875 26.90625 -1.421875 \nQ 22.3125 -1.421875 17.546875 -0.640625 \nQ 12.796875 0.140625 7.71875 1.703125 \nL 7.71875 11.625 \nQ 12.109375 9.234375 16.796875 8.0625 \nQ 21.484375 6.890625 26.703125 6.890625 \nQ 35.15625 6.890625 40.078125 11.328125 \nQ 45.015625 15.765625 45.015625 23.390625 \nQ 45.015625 31 40.078125 35.4375 \nQ 35.15625 39.890625 26.703125 39.890625 \nQ 22.75 39.890625 18.8125 39.015625 \nQ 14.890625 38.140625 10.796875 36.28125 \nz\n\" id=\"DejaVuSans-53\"/>\n      </defs>\n      <g transform=\"translate(7.2 118.270931)scale(0.1 -0.1)\">\n       <use xlink:href=\"#DejaVuSans-48\"/>\n       <use x=\"63.623047\" xlink:href=\"#DejaVuSans-46\"/>\n       <use x=\"95.410156\" xlink:href=\"#DejaVuSans-53\"/>\n      </g>\n     </g>\n    </g>\n    <g id=\"ytick_3\">\n     <g id=\"line2d_9\">\n      <g>\n       <use style=\"stroke:#000000;stroke-width:0.8;\" x=\"30.103125\" xlink:href=\"#mc42cbb247a\" y=\"86.437054\"/>\n      </g>\n     </g>\n     <g id=\"text_10\">\n      <!-- 1.0 -->\n      <g transform=\"translate(7.2 90.236272)scale(0.1 -0.1)\">\n       <use xlink:href=\"#DejaVuSans-49\"/>\n       <use x=\"63.623047\" xlink:href=\"#DejaVuSans-46\"/>\n       <use x=\"95.410156\" xlink:href=\"#DejaVuSans-48\"/>\n      </g>\n     </g>\n    </g>\n    <g id=\"ytick_4\">\n     <g id=\"line2d_10\">\n      <g>\n       <use style=\"stroke:#000000;stroke-width:0.8;\" x=\"30.103125\" xlink:href=\"#mc42cbb247a\" y=\"58.402395\"/>\n      </g>\n     </g>\n     <g id=\"text_11\">\n      <!-- 1.5 -->\n      <g transform=\"translate(7.2 62.201614)scale(0.1 -0.1)\">\n       <use xlink:href=\"#DejaVuSans-49\"/>\n       <use x=\"63.623047\" xlink:href=\"#DejaVuSans-46\"/>\n       <use x=\"95.410156\" xlink:href=\"#DejaVuSans-53\"/>\n      </g>\n     </g>\n    </g>\n    <g id=\"ytick_5\">\n     <g id=\"line2d_11\">\n      <g>\n       <use style=\"stroke:#000000;stroke-width:0.8;\" x=\"30.103125\" xlink:href=\"#mc42cbb247a\" y=\"30.367737\"/>\n      </g>\n     </g>\n     <g id=\"text_12\">\n      <!-- 2.0 -->\n      <g transform=\"translate(7.2 34.166955)scale(0.1 -0.1)\">\n       <use xlink:href=\"#DejaVuSans-50\"/>\n       <use x=\"63.623047\" xlink:href=\"#DejaVuSans-46\"/>\n       <use x=\"95.410156\" xlink:href=\"#DejaVuSans-48\"/>\n      </g>\n     </g>\n    </g>\n   </g>\n   <g id=\"line2d_12\">\n    <path clip-path=\"url(#p4b6f89cb0a)\" d=\"M 34.954394 13.377273 \n\" style=\"fill:none;stroke:#1f77b4;stroke-linecap:square;stroke-width:1.5;\"/>\n   </g>\n   <g id=\"line2d_13\">\n    <path clip-path=\"url(#p4b6f89cb0a)\" d=\"M 34.954394 13.377273 \nL 44.698573 13.402962 \n\" style=\"fill:none;stroke:#1f77b4;stroke-linecap:square;stroke-width:1.5;\"/>\n   </g>\n   <g id=\"line2d_14\">\n    <path clip-path=\"url(#p4b6f89cb0a)\" d=\"M 34.954394 13.377273 \nL 44.698573 13.402962 \n\" style=\"fill:none;stroke:#1f77b4;stroke-linecap:square;stroke-width:1.5;\"/>\n   </g>\n   <g id=\"line2d_15\">\n    <path clip-path=\"url(#p4b6f89cb0a)\" d=\"M 49.633125 13.409005 \n\" style=\"fill:none;stroke:#ff7f0e;stroke-dasharray:5.55,2.4;stroke-dashoffset:0;stroke-width:1.5;\"/>\n   </g>\n   <g id=\"line2d_16\"/>\n   <g id=\"line2d_17\">\n    <path clip-path=\"url(#p4b6f89cb0a)\" d=\"M 34.954394 13.377273 \nL 44.698573 13.402962 \n\" style=\"fill:none;stroke:#1f77b4;stroke-linecap:square;stroke-width:1.5;\"/>\n   </g>\n   <g id=\"line2d_18\">\n    <path clip-path=\"url(#p4b6f89cb0a)\" d=\"M 49.633125 13.409005 \n\" style=\"fill:none;stroke:#ff7f0e;stroke-dasharray:5.55,2.4;stroke-dashoffset:0;stroke-width:1.5;\"/>\n   </g>\n   <g id=\"line2d_19\">\n    <path clip-path=\"url(#p4b6f89cb0a)\" d=\"M 49.633125 136.922727 \n\" style=\"fill:none;stroke:#2ca02c;stroke-dasharray:9.6,2.4,1.5,2.4;stroke-dashoffset:0;stroke-width:1.5;\"/>\n   </g>\n   <g id=\"line2d_20\">\n    <path clip-path=\"url(#p4b6f89cb0a)\" d=\"M 34.954394 13.377273 \nL 44.698573 13.402962 \nL 54.442752 13.41536 \n\" style=\"fill:none;stroke:#1f77b4;stroke-linecap:square;stroke-width:1.5;\"/>\n   </g>\n   <g id=\"line2d_21\">\n    <path clip-path=\"url(#p4b6f89cb0a)\" d=\"M 49.633125 13.409005 \n\" style=\"fill:none;stroke:#ff7f0e;stroke-dasharray:5.55,2.4;stroke-dashoffset:0;stroke-width:1.5;\"/>\n   </g>\n   <g id=\"line2d_22\">\n    <path clip-path=\"url(#p4b6f89cb0a)\" d=\"M 49.633125 136.922727 \n\" style=\"fill:none;stroke:#2ca02c;stroke-dasharray:9.6,2.4,1.5,2.4;stroke-dashoffset:0;stroke-width:1.5;\"/>\n   </g>\n   <g id=\"line2d_23\">\n    <path clip-path=\"url(#p4b6f89cb0a)\" d=\"M 34.954394 13.377273 \nL 44.698573 13.402962 \nL 54.442752 13.41536 \nL 64.186931 13.442738 \n\" style=\"fill:none;stroke:#1f77b4;stroke-linecap:square;stroke-width:1.5;\"/>\n   </g>\n   <g id=\"line2d_24\">\n    <path clip-path=\"url(#p4b6f89cb0a)\" d=\"M 49.633125 13.409005 \n\" style=\"fill:none;stroke:#ff7f0e;stroke-dasharray:5.55,2.4;stroke-dashoffset:0;stroke-width:1.5;\"/>\n   </g>\n   <g id=\"line2d_25\">\n    <path clip-path=\"url(#p4b6f89cb0a)\" d=\"M 49.633125 136.922727 \n\" style=\"fill:none;stroke:#2ca02c;stroke-dasharray:9.6,2.4,1.5,2.4;stroke-dashoffset:0;stroke-width:1.5;\"/>\n   </g>\n   <g id=\"line2d_26\">\n    <path clip-path=\"url(#p4b6f89cb0a)\" d=\"M 34.954394 13.377273 \nL 44.698573 13.402962 \nL 54.442752 13.41536 \nL 64.186931 13.442738 \n\" style=\"fill:none;stroke:#1f77b4;stroke-linecap:square;stroke-width:1.5;\"/>\n   </g>\n   <g id=\"line2d_27\">\n    <path clip-path=\"url(#p4b6f89cb0a)\" d=\"M 49.633125 13.409005 \nL 69.163125 13.489389 \n\" style=\"fill:none;stroke:#ff7f0e;stroke-dasharray:5.55,2.4;stroke-dashoffset:0;stroke-width:1.5;\"/>\n   </g>\n   <g id=\"line2d_28\">\n    <path clip-path=\"url(#p4b6f89cb0a)\" d=\"M 49.633125 136.922727 \n\" style=\"fill:none;stroke:#2ca02c;stroke-dasharray:9.6,2.4,1.5,2.4;stroke-dashoffset:0;stroke-width:1.5;\"/>\n   </g>\n   <g id=\"line2d_29\">\n    <path clip-path=\"url(#p4b6f89cb0a)\" d=\"M 34.954394 13.377273 \nL 44.698573 13.402962 \nL 54.442752 13.41536 \nL 64.186931 13.442738 \n\" style=\"fill:none;stroke:#1f77b4;stroke-linecap:square;stroke-width:1.5;\"/>\n   </g>\n   <g id=\"line2d_30\">\n    <path clip-path=\"url(#p4b6f89cb0a)\" d=\"M 49.633125 13.409005 \nL 69.163125 13.489389 \n\" style=\"fill:none;stroke:#ff7f0e;stroke-dasharray:5.55,2.4;stroke-dashoffset:0;stroke-width:1.5;\"/>\n   </g>\n   <g id=\"line2d_31\">\n    <path clip-path=\"url(#p4b6f89cb0a)\" d=\"M 49.633125 136.922727 \nL 69.163125 136.262893 \n\" style=\"fill:none;stroke:#2ca02c;stroke-dasharray:9.6,2.4,1.5,2.4;stroke-dashoffset:0;stroke-width:1.5;\"/>\n   </g>\n   <g id=\"line2d_32\">\n    <path clip-path=\"url(#p4b6f89cb0a)\" d=\"M 34.954394 13.377273 \nL 44.698573 13.402962 \nL 54.442752 13.41536 \nL 64.186931 13.442738 \nL 73.93111 13.76908 \n\" style=\"fill:none;stroke:#1f77b4;stroke-linecap:square;stroke-width:1.5;\"/>\n   </g>\n   <g id=\"line2d_33\">\n    <path clip-path=\"url(#p4b6f89cb0a)\" d=\"M 49.633125 13.409005 \nL 69.163125 13.489389 \n\" style=\"fill:none;stroke:#ff7f0e;stroke-dasharray:5.55,2.4;stroke-dashoffset:0;stroke-width:1.5;\"/>\n   </g>\n   <g id=\"line2d_34\">\n    <path clip-path=\"url(#p4b6f89cb0a)\" d=\"M 49.633125 136.922727 \nL 69.163125 136.262893 \n\" style=\"fill:none;stroke:#2ca02c;stroke-dasharray:9.6,2.4,1.5,2.4;stroke-dashoffset:0;stroke-width:1.5;\"/>\n   </g>\n   <g id=\"line2d_35\">\n    <path clip-path=\"url(#p4b6f89cb0a)\" d=\"M 34.954394 13.377273 \nL 44.698573 13.402962 \nL 54.442752 13.41536 \nL 64.186931 13.442738 \nL 73.93111 13.76908 \nL 83.675289 16.524531 \n\" style=\"fill:none;stroke:#1f77b4;stroke-linecap:square;stroke-width:1.5;\"/>\n   </g>\n   <g id=\"line2d_36\">\n    <path clip-path=\"url(#p4b6f89cb0a)\" d=\"M 49.633125 13.409005 \nL 69.163125 13.489389 \n\" style=\"fill:none;stroke:#ff7f0e;stroke-dasharray:5.55,2.4;stroke-dashoffset:0;stroke-width:1.5;\"/>\n   </g>\n   <g id=\"line2d_37\">\n    <path clip-path=\"url(#p4b6f89cb0a)\" d=\"M 49.633125 136.922727 \nL 69.163125 136.262893 \n\" style=\"fill:none;stroke:#2ca02c;stroke-dasharray:9.6,2.4,1.5,2.4;stroke-dashoffset:0;stroke-width:1.5;\"/>\n   </g>\n   <g id=\"line2d_38\">\n    <path clip-path=\"url(#p4b6f89cb0a)\" d=\"M 34.954394 13.377273 \nL 44.698573 13.402962 \nL 54.442752 13.41536 \nL 64.186931 13.442738 \nL 73.93111 13.76908 \nL 83.675289 16.524531 \n\" style=\"fill:none;stroke:#1f77b4;stroke-linecap:square;stroke-width:1.5;\"/>\n   </g>\n   <g id=\"line2d_39\">\n    <path clip-path=\"url(#p4b6f89cb0a)\" d=\"M 49.633125 13.409005 \nL 69.163125 13.489389 \nL 88.693125 19.378213 \n\" style=\"fill:none;stroke:#ff7f0e;stroke-dasharray:5.55,2.4;stroke-dashoffset:0;stroke-width:1.5;\"/>\n   </g>\n   <g id=\"line2d_40\">\n    <path clip-path=\"url(#p4b6f89cb0a)\" d=\"M 49.633125 136.922727 \nL 69.163125 136.262893 \n\" style=\"fill:none;stroke:#2ca02c;stroke-dasharray:9.6,2.4,1.5,2.4;stroke-dashoffset:0;stroke-width:1.5;\"/>\n   </g>\n   <g id=\"line2d_41\">\n    <path clip-path=\"url(#p4b6f89cb0a)\" d=\"M 34.954394 13.377273 \nL 44.698573 13.402962 \nL 54.442752 13.41536 \nL 64.186931 13.442738 \nL 73.93111 13.76908 \nL 83.675289 16.524531 \n\" style=\"fill:none;stroke:#1f77b4;stroke-linecap:square;stroke-width:1.5;\"/>\n   </g>\n   <g id=\"line2d_42\">\n    <path clip-path=\"url(#p4b6f89cb0a)\" d=\"M 49.633125 13.409005 \nL 69.163125 13.489389 \nL 88.693125 19.378213 \n\" style=\"fill:none;stroke:#ff7f0e;stroke-dasharray:5.55,2.4;stroke-dashoffset:0;stroke-width:1.5;\"/>\n   </g>\n   <g id=\"line2d_43\">\n    <path clip-path=\"url(#p4b6f89cb0a)\" d=\"M 49.633125 136.922727 \nL 69.163125 136.262893 \nL 88.693125 131.383442 \n\" style=\"fill:none;stroke:#2ca02c;stroke-dasharray:9.6,2.4,1.5,2.4;stroke-dashoffset:0;stroke-width:1.5;\"/>\n   </g>\n   <g id=\"line2d_44\">\n    <path clip-path=\"url(#p4b6f89cb0a)\" d=\"M 34.954394 13.377273 \nL 44.698573 13.402962 \nL 54.442752 13.41536 \nL 64.186931 13.442738 \nL 73.93111 13.76908 \nL 83.675289 16.524531 \nL 93.419468 20.700358 \n\" style=\"fill:none;stroke:#1f77b4;stroke-linecap:square;stroke-width:1.5;\"/>\n   </g>\n   <g id=\"line2d_45\">\n    <path clip-path=\"url(#p4b6f89cb0a)\" d=\"M 49.633125 13.409005 \nL 69.163125 13.489389 \nL 88.693125 19.378213 \n\" style=\"fill:none;stroke:#ff7f0e;stroke-dasharray:5.55,2.4;stroke-dashoffset:0;stroke-width:1.5;\"/>\n   </g>\n   <g id=\"line2d_46\">\n    <path clip-path=\"url(#p4b6f89cb0a)\" d=\"M 49.633125 136.922727 \nL 69.163125 136.262893 \nL 88.693125 131.383442 \n\" style=\"fill:none;stroke:#2ca02c;stroke-dasharray:9.6,2.4,1.5,2.4;stroke-dashoffset:0;stroke-width:1.5;\"/>\n   </g>\n   <g id=\"line2d_47\">\n    <path clip-path=\"url(#p4b6f89cb0a)\" d=\"M 34.954394 13.377273 \nL 44.698573 13.402962 \nL 54.442752 13.41536 \nL 64.186931 13.442738 \nL 73.93111 13.76908 \nL 83.675289 16.524531 \nL 93.419468 20.700358 \nL 103.163647 34.527232 \n\" style=\"fill:none;stroke:#1f77b4;stroke-linecap:square;stroke-width:1.5;\"/>\n   </g>\n   <g id=\"line2d_48\">\n    <path clip-path=\"url(#p4b6f89cb0a)\" d=\"M 49.633125 13.409005 \nL 69.163125 13.489389 \nL 88.693125 19.378213 \n\" style=\"fill:none;stroke:#ff7f0e;stroke-dasharray:5.55,2.4;stroke-dashoffset:0;stroke-width:1.5;\"/>\n   </g>\n   <g id=\"line2d_49\">\n    <path clip-path=\"url(#p4b6f89cb0a)\" d=\"M 49.633125 136.922727 \nL 69.163125 136.262893 \nL 88.693125 131.383442 \n\" style=\"fill:none;stroke:#2ca02c;stroke-dasharray:9.6,2.4,1.5,2.4;stroke-dashoffset:0;stroke-width:1.5;\"/>\n   </g>\n   <g id=\"line2d_50\">\n    <path clip-path=\"url(#p4b6f89cb0a)\" d=\"M 34.954394 13.377273 \nL 44.698573 13.402962 \nL 54.442752 13.41536 \nL 64.186931 13.442738 \nL 73.93111 13.76908 \nL 83.675289 16.524531 \nL 93.419468 20.700358 \nL 103.163647 34.527232 \n\" style=\"fill:none;stroke:#1f77b4;stroke-linecap:square;stroke-width:1.5;\"/>\n   </g>\n   <g id=\"line2d_51\">\n    <path clip-path=\"url(#p4b6f89cb0a)\" d=\"M 49.633125 13.409005 \nL 69.163125 13.489389 \nL 88.693125 19.378213 \nL 108.223125 45.255589 \n\" style=\"fill:none;stroke:#ff7f0e;stroke-dasharray:5.55,2.4;stroke-dashoffset:0;stroke-width:1.5;\"/>\n   </g>\n   <g id=\"line2d_52\">\n    <path clip-path=\"url(#p4b6f89cb0a)\" d=\"M 49.633125 136.922727 \nL 69.163125 136.262893 \nL 88.693125 131.383442 \n\" style=\"fill:none;stroke:#2ca02c;stroke-dasharray:9.6,2.4,1.5,2.4;stroke-dashoffset:0;stroke-width:1.5;\"/>\n   </g>\n   <g id=\"line2d_53\">\n    <path clip-path=\"url(#p4b6f89cb0a)\" d=\"M 34.954394 13.377273 \nL 44.698573 13.402962 \nL 54.442752 13.41536 \nL 64.186931 13.442738 \nL 73.93111 13.76908 \nL 83.675289 16.524531 \nL 93.419468 20.700358 \nL 103.163647 34.527232 \n\" style=\"fill:none;stroke:#1f77b4;stroke-linecap:square;stroke-width:1.5;\"/>\n   </g>\n   <g id=\"line2d_54\">\n    <path clip-path=\"url(#p4b6f89cb0a)\" d=\"M 49.633125 13.409005 \nL 69.163125 13.489389 \nL 88.693125 19.378213 \nL 108.223125 45.255589 \n\" style=\"fill:none;stroke:#ff7f0e;stroke-dasharray:5.55,2.4;stroke-dashoffset:0;stroke-width:1.5;\"/>\n   </g>\n   <g id=\"line2d_55\">\n    <path clip-path=\"url(#p4b6f89cb0a)\" d=\"M 49.633125 136.922727 \nL 69.163125 136.262893 \nL 88.693125 131.383442 \nL 108.223125 120.315963 \n\" style=\"fill:none;stroke:#2ca02c;stroke-dasharray:9.6,2.4,1.5,2.4;stroke-dashoffset:0;stroke-width:1.5;\"/>\n   </g>\n   <g id=\"line2d_56\">\n    <path clip-path=\"url(#p4b6f89cb0a)\" d=\"M 34.954394 13.377273 \nL 44.698573 13.402962 \nL 54.442752 13.41536 \nL 64.186931 13.442738 \nL 73.93111 13.76908 \nL 83.675289 16.524531 \nL 93.419468 20.700358 \nL 103.163647 34.527232 \nL 112.907826 51.40475 \n\" style=\"fill:none;stroke:#1f77b4;stroke-linecap:square;stroke-width:1.5;\"/>\n   </g>\n   <g id=\"line2d_57\">\n    <path clip-path=\"url(#p4b6f89cb0a)\" d=\"M 49.633125 13.409005 \nL 69.163125 13.489389 \nL 88.693125 19.378213 \nL 108.223125 45.255589 \n\" style=\"fill:none;stroke:#ff7f0e;stroke-dasharray:5.55,2.4;stroke-dashoffset:0;stroke-width:1.5;\"/>\n   </g>\n   <g id=\"line2d_58\">\n    <path clip-path=\"url(#p4b6f89cb0a)\" d=\"M 49.633125 136.922727 \nL 69.163125 136.262893 \nL 88.693125 131.383442 \nL 108.223125 120.315963 \n\" style=\"fill:none;stroke:#2ca02c;stroke-dasharray:9.6,2.4,1.5,2.4;stroke-dashoffset:0;stroke-width:1.5;\"/>\n   </g>\n   <g id=\"line2d_59\">\n    <path clip-path=\"url(#p4b6f89cb0a)\" d=\"M 34.954394 13.377273 \nL 44.698573 13.402962 \nL 54.442752 13.41536 \nL 64.186931 13.442738 \nL 73.93111 13.76908 \nL 83.675289 16.524531 \nL 93.419468 20.700358 \nL 103.163647 34.527232 \nL 112.907826 51.40475 \nL 122.652006 63.1053 \n\" style=\"fill:none;stroke:#1f77b4;stroke-linecap:square;stroke-width:1.5;\"/>\n   </g>\n   <g id=\"line2d_60\">\n    <path clip-path=\"url(#p4b6f89cb0a)\" d=\"M 49.633125 13.409005 \nL 69.163125 13.489389 \nL 88.693125 19.378213 \nL 108.223125 45.255589 \n\" style=\"fill:none;stroke:#ff7f0e;stroke-dasharray:5.55,2.4;stroke-dashoffset:0;stroke-width:1.5;\"/>\n   </g>\n   <g id=\"line2d_61\">\n    <path clip-path=\"url(#p4b6f89cb0a)\" d=\"M 49.633125 136.922727 \nL 69.163125 136.262893 \nL 88.693125 131.383442 \nL 108.223125 120.315963 \n\" style=\"fill:none;stroke:#2ca02c;stroke-dasharray:9.6,2.4,1.5,2.4;stroke-dashoffset:0;stroke-width:1.5;\"/>\n   </g>\n   <g id=\"line2d_62\">\n    <path clip-path=\"url(#p4b6f89cb0a)\" d=\"M 34.954394 13.377273 \nL 44.698573 13.402962 \nL 54.442752 13.41536 \nL 64.186931 13.442738 \nL 73.93111 13.76908 \nL 83.675289 16.524531 \nL 93.419468 20.700358 \nL 103.163647 34.527232 \nL 112.907826 51.40475 \nL 122.652006 63.1053 \n\" style=\"fill:none;stroke:#1f77b4;stroke-linecap:square;stroke-width:1.5;\"/>\n   </g>\n   <g id=\"line2d_63\">\n    <path clip-path=\"url(#p4b6f89cb0a)\" d=\"M 49.633125 13.409005 \nL 69.163125 13.489389 \nL 88.693125 19.378213 \nL 108.223125 45.255589 \nL 127.753125 66.25926 \n\" style=\"fill:none;stroke:#ff7f0e;stroke-dasharray:5.55,2.4;stroke-dashoffset:0;stroke-width:1.5;\"/>\n   </g>\n   <g id=\"line2d_64\">\n    <path clip-path=\"url(#p4b6f89cb0a)\" d=\"M 49.633125 136.922727 \nL 69.163125 136.262893 \nL 88.693125 131.383442 \nL 108.223125 120.315963 \n\" style=\"fill:none;stroke:#2ca02c;stroke-dasharray:9.6,2.4,1.5,2.4;stroke-dashoffset:0;stroke-width:1.5;\"/>\n   </g>\n   <g id=\"line2d_65\">\n    <path clip-path=\"url(#p4b6f89cb0a)\" d=\"M 34.954394 13.377273 \nL 44.698573 13.402962 \nL 54.442752 13.41536 \nL 64.186931 13.442738 \nL 73.93111 13.76908 \nL 83.675289 16.524531 \nL 93.419468 20.700358 \nL 103.163647 34.527232 \nL 112.907826 51.40475 \nL 122.652006 63.1053 \n\" style=\"fill:none;stroke:#1f77b4;stroke-linecap:square;stroke-width:1.5;\"/>\n   </g>\n   <g id=\"line2d_66\">\n    <path clip-path=\"url(#p4b6f89cb0a)\" d=\"M 49.633125 13.409005 \nL 69.163125 13.489389 \nL 88.693125 19.378213 \nL 108.223125 45.255589 \nL 127.753125 66.25926 \n\" style=\"fill:none;stroke:#ff7f0e;stroke-dasharray:5.55,2.4;stroke-dashoffset:0;stroke-width:1.5;\"/>\n   </g>\n   <g id=\"line2d_67\">\n    <path clip-path=\"url(#p4b6f89cb0a)\" d=\"M 49.633125 136.922727 \nL 69.163125 136.262893 \nL 88.693125 131.383442 \nL 108.223125 120.315963 \nL 127.753125 112.054166 \n\" style=\"fill:none;stroke:#2ca02c;stroke-dasharray:9.6,2.4,1.5,2.4;stroke-dashoffset:0;stroke-width:1.5;\"/>\n   </g>\n   <g id=\"line2d_68\">\n    <path clip-path=\"url(#p4b6f89cb0a)\" d=\"M 34.954394 13.377273 \nL 44.698573 13.402962 \nL 54.442752 13.41536 \nL 64.186931 13.442738 \nL 73.93111 13.76908 \nL 83.675289 16.524531 \nL 93.419468 20.700358 \nL 103.163647 34.527232 \nL 112.907826 51.40475 \nL 122.652006 63.1053 \nL 132.396185 68.565328 \n\" style=\"fill:none;stroke:#1f77b4;stroke-linecap:square;stroke-width:1.5;\"/>\n   </g>\n   <g id=\"line2d_69\">\n    <path clip-path=\"url(#p4b6f89cb0a)\" d=\"M 49.633125 13.409005 \nL 69.163125 13.489389 \nL 88.693125 19.378213 \nL 108.223125 45.255589 \nL 127.753125 66.25926 \n\" style=\"fill:none;stroke:#ff7f0e;stroke-dasharray:5.55,2.4;stroke-dashoffset:0;stroke-width:1.5;\"/>\n   </g>\n   <g id=\"line2d_70\">\n    <path clip-path=\"url(#p4b6f89cb0a)\" d=\"M 49.633125 136.922727 \nL 69.163125 136.262893 \nL 88.693125 131.383442 \nL 108.223125 120.315963 \nL 127.753125 112.054166 \n\" style=\"fill:none;stroke:#2ca02c;stroke-dasharray:9.6,2.4,1.5,2.4;stroke-dashoffset:0;stroke-width:1.5;\"/>\n   </g>\n   <g id=\"line2d_71\">\n    <path clip-path=\"url(#p4b6f89cb0a)\" d=\"M 34.954394 13.377273 \nL 44.698573 13.402962 \nL 54.442752 13.41536 \nL 64.186931 13.442738 \nL 73.93111 13.76908 \nL 83.675289 16.524531 \nL 93.419468 20.700358 \nL 103.163647 34.527232 \nL 112.907826 51.40475 \nL 122.652006 63.1053 \nL 132.396185 68.565328 \nL 142.140364 71.749303 \n\" style=\"fill:none;stroke:#1f77b4;stroke-linecap:square;stroke-width:1.5;\"/>\n   </g>\n   <g id=\"line2d_72\">\n    <path clip-path=\"url(#p4b6f89cb0a)\" d=\"M 49.633125 13.409005 \nL 69.163125 13.489389 \nL 88.693125 19.378213 \nL 108.223125 45.255589 \nL 127.753125 66.25926 \n\" style=\"fill:none;stroke:#ff7f0e;stroke-dasharray:5.55,2.4;stroke-dashoffset:0;stroke-width:1.5;\"/>\n   </g>\n   <g id=\"line2d_73\">\n    <path clip-path=\"url(#p4b6f89cb0a)\" d=\"M 49.633125 136.922727 \nL 69.163125 136.262893 \nL 88.693125 131.383442 \nL 108.223125 120.315963 \nL 127.753125 112.054166 \n\" style=\"fill:none;stroke:#2ca02c;stroke-dasharray:9.6,2.4,1.5,2.4;stroke-dashoffset:0;stroke-width:1.5;\"/>\n   </g>\n   <g id=\"line2d_74\">\n    <path clip-path=\"url(#p4b6f89cb0a)\" d=\"M 34.954394 13.377273 \nL 44.698573 13.402962 \nL 54.442752 13.41536 \nL 64.186931 13.442738 \nL 73.93111 13.76908 \nL 83.675289 16.524531 \nL 93.419468 20.700358 \nL 103.163647 34.527232 \nL 112.907826 51.40475 \nL 122.652006 63.1053 \nL 132.396185 68.565328 \nL 142.140364 71.749303 \n\" style=\"fill:none;stroke:#1f77b4;stroke-linecap:square;stroke-width:1.5;\"/>\n   </g>\n   <g id=\"line2d_75\">\n    <path clip-path=\"url(#p4b6f89cb0a)\" d=\"M 49.633125 13.409005 \nL 69.163125 13.489389 \nL 88.693125 19.378213 \nL 108.223125 45.255589 \nL 127.753125 66.25926 \nL 147.283125 68.693318 \n\" style=\"fill:none;stroke:#ff7f0e;stroke-dasharray:5.55,2.4;stroke-dashoffset:0;stroke-width:1.5;\"/>\n   </g>\n   <g id=\"line2d_76\">\n    <path clip-path=\"url(#p4b6f89cb0a)\" d=\"M 49.633125 136.922727 \nL 69.163125 136.262893 \nL 88.693125 131.383442 \nL 108.223125 120.315963 \nL 127.753125 112.054166 \n\" style=\"fill:none;stroke:#2ca02c;stroke-dasharray:9.6,2.4,1.5,2.4;stroke-dashoffset:0;stroke-width:1.5;\"/>\n   </g>\n   <g id=\"line2d_77\">\n    <path clip-path=\"url(#p4b6f89cb0a)\" d=\"M 34.954394 13.377273 \nL 44.698573 13.402962 \nL 54.442752 13.41536 \nL 64.186931 13.442738 \nL 73.93111 13.76908 \nL 83.675289 16.524531 \nL 93.419468 20.700358 \nL 103.163647 34.527232 \nL 112.907826 51.40475 \nL 122.652006 63.1053 \nL 132.396185 68.565328 \nL 142.140364 71.749303 \n\" style=\"fill:none;stroke:#1f77b4;stroke-linecap:square;stroke-width:1.5;\"/>\n   </g>\n   <g id=\"line2d_78\">\n    <path clip-path=\"url(#p4b6f89cb0a)\" d=\"M 49.633125 13.409005 \nL 69.163125 13.489389 \nL 88.693125 19.378213 \nL 108.223125 45.255589 \nL 127.753125 66.25926 \nL 147.283125 68.693318 \n\" style=\"fill:none;stroke:#ff7f0e;stroke-dasharray:5.55,2.4;stroke-dashoffset:0;stroke-width:1.5;\"/>\n   </g>\n   <g id=\"line2d_79\">\n    <path clip-path=\"url(#p4b6f89cb0a)\" d=\"M 49.633125 136.922727 \nL 69.163125 136.262893 \nL 88.693125 131.383442 \nL 108.223125 120.315963 \nL 127.753125 112.054166 \nL 147.283125 113.007877 \n\" style=\"fill:none;stroke:#2ca02c;stroke-dasharray:9.6,2.4,1.5,2.4;stroke-dashoffset:0;stroke-width:1.5;\"/>\n   </g>\n   <g id=\"line2d_80\">\n    <path clip-path=\"url(#p4b6f89cb0a)\" d=\"M 34.954394 13.377273 \nL 44.698573 13.402962 \nL 54.442752 13.41536 \nL 64.186931 13.442738 \nL 73.93111 13.76908 \nL 83.675289 16.524531 \nL 93.419468 20.700358 \nL 103.163647 34.527232 \nL 112.907826 51.40475 \nL 122.652006 63.1053 \nL 132.396185 68.565328 \nL 142.140364 71.749303 \nL 151.884543 74.318098 \n\" style=\"fill:none;stroke:#1f77b4;stroke-linecap:square;stroke-width:1.5;\"/>\n   </g>\n   <g id=\"line2d_81\">\n    <path clip-path=\"url(#p4b6f89cb0a)\" d=\"M 49.633125 13.409005 \nL 69.163125 13.489389 \nL 88.693125 19.378213 \nL 108.223125 45.255589 \nL 127.753125 66.25926 \nL 147.283125 68.693318 \n\" style=\"fill:none;stroke:#ff7f0e;stroke-dasharray:5.55,2.4;stroke-dashoffset:0;stroke-width:1.5;\"/>\n   </g>\n   <g id=\"line2d_82\">\n    <path clip-path=\"url(#p4b6f89cb0a)\" d=\"M 49.633125 136.922727 \nL 69.163125 136.262893 \nL 88.693125 131.383442 \nL 108.223125 120.315963 \nL 127.753125 112.054166 \nL 147.283125 113.007877 \n\" style=\"fill:none;stroke:#2ca02c;stroke-dasharray:9.6,2.4,1.5,2.4;stroke-dashoffset:0;stroke-width:1.5;\"/>\n   </g>\n   <g id=\"line2d_83\">\n    <path clip-path=\"url(#p4b6f89cb0a)\" d=\"M 34.954394 13.377273 \nL 44.698573 13.402962 \nL 54.442752 13.41536 \nL 64.186931 13.442738 \nL 73.93111 13.76908 \nL 83.675289 16.524531 \nL 93.419468 20.700358 \nL 103.163647 34.527232 \nL 112.907826 51.40475 \nL 122.652006 63.1053 \nL 132.396185 68.565328 \nL 142.140364 71.749303 \nL 151.884543 74.318098 \nL 161.628722 75.72866 \n\" style=\"fill:none;stroke:#1f77b4;stroke-linecap:square;stroke-width:1.5;\"/>\n   </g>\n   <g id=\"line2d_84\">\n    <path clip-path=\"url(#p4b6f89cb0a)\" d=\"M 49.633125 13.409005 \nL 69.163125 13.489389 \nL 88.693125 19.378213 \nL 108.223125 45.255589 \nL 127.753125 66.25926 \nL 147.283125 68.693318 \n\" style=\"fill:none;stroke:#ff7f0e;stroke-dasharray:5.55,2.4;stroke-dashoffset:0;stroke-width:1.5;\"/>\n   </g>\n   <g id=\"line2d_85\">\n    <path clip-path=\"url(#p4b6f89cb0a)\" d=\"M 49.633125 136.922727 \nL 69.163125 136.262893 \nL 88.693125 131.383442 \nL 108.223125 120.315963 \nL 127.753125 112.054166 \nL 147.283125 113.007877 \n\" style=\"fill:none;stroke:#2ca02c;stroke-dasharray:9.6,2.4,1.5,2.4;stroke-dashoffset:0;stroke-width:1.5;\"/>\n   </g>\n   <g id=\"line2d_86\">\n    <path clip-path=\"url(#p4b6f89cb0a)\" d=\"M 34.954394 13.377273 \nL 44.698573 13.402962 \nL 54.442752 13.41536 \nL 64.186931 13.442738 \nL 73.93111 13.76908 \nL 83.675289 16.524531 \nL 93.419468 20.700358 \nL 103.163647 34.527232 \nL 112.907826 51.40475 \nL 122.652006 63.1053 \nL 132.396185 68.565328 \nL 142.140364 71.749303 \nL 151.884543 74.318098 \nL 161.628722 75.72866 \n\" style=\"fill:none;stroke:#1f77b4;stroke-linecap:square;stroke-width:1.5;\"/>\n   </g>\n   <g id=\"line2d_87\">\n    <path clip-path=\"url(#p4b6f89cb0a)\" d=\"M 49.633125 13.409005 \nL 69.163125 13.489389 \nL 88.693125 19.378213 \nL 108.223125 45.255589 \nL 127.753125 66.25926 \nL 147.283125 68.693318 \nL 166.813125 77.852812 \n\" style=\"fill:none;stroke:#ff7f0e;stroke-dasharray:5.55,2.4;stroke-dashoffset:0;stroke-width:1.5;\"/>\n   </g>\n   <g id=\"line2d_88\">\n    <path clip-path=\"url(#p4b6f89cb0a)\" d=\"M 49.633125 136.922727 \nL 69.163125 136.262893 \nL 88.693125 131.383442 \nL 108.223125 120.315963 \nL 127.753125 112.054166 \nL 147.283125 113.007877 \n\" style=\"fill:none;stroke:#2ca02c;stroke-dasharray:9.6,2.4,1.5,2.4;stroke-dashoffset:0;stroke-width:1.5;\"/>\n   </g>\n   <g id=\"line2d_89\">\n    <path clip-path=\"url(#p4b6f89cb0a)\" d=\"M 34.954394 13.377273 \nL 44.698573 13.402962 \nL 54.442752 13.41536 \nL 64.186931 13.442738 \nL 73.93111 13.76908 \nL 83.675289 16.524531 \nL 93.419468 20.700358 \nL 103.163647 34.527232 \nL 112.907826 51.40475 \nL 122.652006 63.1053 \nL 132.396185 68.565328 \nL 142.140364 71.749303 \nL 151.884543 74.318098 \nL 161.628722 75.72866 \n\" style=\"fill:none;stroke:#1f77b4;stroke-linecap:square;stroke-width:1.5;\"/>\n   </g>\n   <g id=\"line2d_90\">\n    <path clip-path=\"url(#p4b6f89cb0a)\" d=\"M 49.633125 13.409005 \nL 69.163125 13.489389 \nL 88.693125 19.378213 \nL 108.223125 45.255589 \nL 127.753125 66.25926 \nL 147.283125 68.693318 \nL 166.813125 77.852812 \n\" style=\"fill:none;stroke:#ff7f0e;stroke-dasharray:5.55,2.4;stroke-dashoffset:0;stroke-width:1.5;\"/>\n   </g>\n   <g id=\"line2d_91\">\n    <path clip-path=\"url(#p4b6f89cb0a)\" d=\"M 49.633125 136.922727 \nL 69.163125 136.262893 \nL 88.693125 131.383442 \nL 108.223125 120.315963 \nL 127.753125 112.054166 \nL 147.283125 113.007877 \nL 166.813125 109.642166 \n\" style=\"fill:none;stroke:#2ca02c;stroke-dasharray:9.6,2.4,1.5,2.4;stroke-dashoffset:0;stroke-width:1.5;\"/>\n   </g>\n   <g id=\"line2d_92\">\n    <path clip-path=\"url(#p4b6f89cb0a)\" d=\"M 34.954394 13.377273 \nL 44.698573 13.402962 \nL 54.442752 13.41536 \nL 64.186931 13.442738 \nL 73.93111 13.76908 \nL 83.675289 16.524531 \nL 93.419468 20.700358 \nL 103.163647 34.527232 \nL 112.907826 51.40475 \nL 122.652006 63.1053 \nL 132.396185 68.565328 \nL 142.140364 71.749303 \nL 151.884543 74.318098 \nL 161.628722 75.72866 \nL 171.372901 78.131475 \n\" style=\"fill:none;stroke:#1f77b4;stroke-linecap:square;stroke-width:1.5;\"/>\n   </g>\n   <g id=\"line2d_93\">\n    <path clip-path=\"url(#p4b6f89cb0a)\" d=\"M 49.633125 13.409005 \nL 69.163125 13.489389 \nL 88.693125 19.378213 \nL 108.223125 45.255589 \nL 127.753125 66.25926 \nL 147.283125 68.693318 \nL 166.813125 77.852812 \n\" style=\"fill:none;stroke:#ff7f0e;stroke-dasharray:5.55,2.4;stroke-dashoffset:0;stroke-width:1.5;\"/>\n   </g>\n   <g id=\"line2d_94\">\n    <path clip-path=\"url(#p4b6f89cb0a)\" d=\"M 49.633125 136.922727 \nL 69.163125 136.262893 \nL 88.693125 131.383442 \nL 108.223125 120.315963 \nL 127.753125 112.054166 \nL 147.283125 113.007877 \nL 166.813125 109.642166 \n\" style=\"fill:none;stroke:#2ca02c;stroke-dasharray:9.6,2.4,1.5,2.4;stroke-dashoffset:0;stroke-width:1.5;\"/>\n   </g>\n   <g id=\"line2d_95\">\n    <path clip-path=\"url(#p4b6f89cb0a)\" d=\"M 34.954394 13.377273 \nL 44.698573 13.402962 \nL 54.442752 13.41536 \nL 64.186931 13.442738 \nL 73.93111 13.76908 \nL 83.675289 16.524531 \nL 93.419468 20.700358 \nL 103.163647 34.527232 \nL 112.907826 51.40475 \nL 122.652006 63.1053 \nL 132.396185 68.565328 \nL 142.140364 71.749303 \nL 151.884543 74.318098 \nL 161.628722 75.72866 \nL 171.372901 78.131475 \nL 181.11708 78.350637 \n\" style=\"fill:none;stroke:#1f77b4;stroke-linecap:square;stroke-width:1.5;\"/>\n   </g>\n   <g id=\"line2d_96\">\n    <path clip-path=\"url(#p4b6f89cb0a)\" d=\"M 49.633125 13.409005 \nL 69.163125 13.489389 \nL 88.693125 19.378213 \nL 108.223125 45.255589 \nL 127.753125 66.25926 \nL 147.283125 68.693318 \nL 166.813125 77.852812 \n\" style=\"fill:none;stroke:#ff7f0e;stroke-dasharray:5.55,2.4;stroke-dashoffset:0;stroke-width:1.5;\"/>\n   </g>\n   <g id=\"line2d_97\">\n    <path clip-path=\"url(#p4b6f89cb0a)\" d=\"M 49.633125 136.922727 \nL 69.163125 136.262893 \nL 88.693125 131.383442 \nL 108.223125 120.315963 \nL 127.753125 112.054166 \nL 147.283125 113.007877 \nL 166.813125 109.642166 \n\" style=\"fill:none;stroke:#2ca02c;stroke-dasharray:9.6,2.4,1.5,2.4;stroke-dashoffset:0;stroke-width:1.5;\"/>\n   </g>\n   <g id=\"line2d_98\">\n    <path clip-path=\"url(#p4b6f89cb0a)\" d=\"M 34.954394 13.377273 \nL 44.698573 13.402962 \nL 54.442752 13.41536 \nL 64.186931 13.442738 \nL 73.93111 13.76908 \nL 83.675289 16.524531 \nL 93.419468 20.700358 \nL 103.163647 34.527232 \nL 112.907826 51.40475 \nL 122.652006 63.1053 \nL 132.396185 68.565328 \nL 142.140364 71.749303 \nL 151.884543 74.318098 \nL 161.628722 75.72866 \nL 171.372901 78.131475 \nL 181.11708 78.350637 \n\" style=\"fill:none;stroke:#1f77b4;stroke-linecap:square;stroke-width:1.5;\"/>\n   </g>\n   <g id=\"line2d_99\">\n    <path clip-path=\"url(#p4b6f89cb0a)\" d=\"M 49.633125 13.409005 \nL 69.163125 13.489389 \nL 88.693125 19.378213 \nL 108.223125 45.255589 \nL 127.753125 66.25926 \nL 147.283125 68.693318 \nL 166.813125 77.852812 \nL 186.343125 79.827679 \n\" style=\"fill:none;stroke:#ff7f0e;stroke-dasharray:5.55,2.4;stroke-dashoffset:0;stroke-width:1.5;\"/>\n   </g>\n   <g id=\"line2d_100\">\n    <path clip-path=\"url(#p4b6f89cb0a)\" d=\"M 49.633125 136.922727 \nL 69.163125 136.262893 \nL 88.693125 131.383442 \nL 108.223125 120.315963 \nL 127.753125 112.054166 \nL 147.283125 113.007877 \nL 166.813125 109.642166 \n\" style=\"fill:none;stroke:#2ca02c;stroke-dasharray:9.6,2.4,1.5,2.4;stroke-dashoffset:0;stroke-width:1.5;\"/>\n   </g>\n   <g id=\"line2d_101\">\n    <path clip-path=\"url(#p4b6f89cb0a)\" d=\"M 34.954394 13.377273 \nL 44.698573 13.402962 \nL 54.442752 13.41536 \nL 64.186931 13.442738 \nL 73.93111 13.76908 \nL 83.675289 16.524531 \nL 93.419468 20.700358 \nL 103.163647 34.527232 \nL 112.907826 51.40475 \nL 122.652006 63.1053 \nL 132.396185 68.565328 \nL 142.140364 71.749303 \nL 151.884543 74.318098 \nL 161.628722 75.72866 \nL 171.372901 78.131475 \nL 181.11708 78.350637 \n\" style=\"fill:none;stroke:#1f77b4;stroke-linecap:square;stroke-width:1.5;\"/>\n   </g>\n   <g id=\"line2d_102\">\n    <path clip-path=\"url(#p4b6f89cb0a)\" d=\"M 49.633125 13.409005 \nL 69.163125 13.489389 \nL 88.693125 19.378213 \nL 108.223125 45.255589 \nL 127.753125 66.25926 \nL 147.283125 68.693318 \nL 166.813125 77.852812 \nL 186.343125 79.827679 \n\" style=\"fill:none;stroke:#ff7f0e;stroke-dasharray:5.55,2.4;stroke-dashoffset:0;stroke-width:1.5;\"/>\n   </g>\n   <g id=\"line2d_103\">\n    <path clip-path=\"url(#p4b6f89cb0a)\" d=\"M 49.633125 136.922727 \nL 69.163125 136.262893 \nL 88.693125 131.383442 \nL 108.223125 120.315963 \nL 127.753125 112.054166 \nL 147.283125 113.007877 \nL 166.813125 109.642166 \nL 186.343125 108.954607 \n\" style=\"fill:none;stroke:#2ca02c;stroke-dasharray:9.6,2.4,1.5,2.4;stroke-dashoffset:0;stroke-width:1.5;\"/>\n   </g>\n   <g id=\"line2d_104\">\n    <path clip-path=\"url(#p4b6f89cb0a)\" d=\"M 34.954394 13.377273 \nL 44.698573 13.402962 \nL 54.442752 13.41536 \nL 64.186931 13.442738 \nL 73.93111 13.76908 \nL 83.675289 16.524531 \nL 93.419468 20.700358 \nL 103.163647 34.527232 \nL 112.907826 51.40475 \nL 122.652006 63.1053 \nL 132.396185 68.565328 \nL 142.140364 71.749303 \nL 151.884543 74.318098 \nL 161.628722 75.72866 \nL 171.372901 78.131475 \nL 181.11708 78.350637 \nL 190.861259 79.335031 \n\" style=\"fill:none;stroke:#1f77b4;stroke-linecap:square;stroke-width:1.5;\"/>\n   </g>\n   <g id=\"line2d_105\">\n    <path clip-path=\"url(#p4b6f89cb0a)\" d=\"M 49.633125 13.409005 \nL 69.163125 13.489389 \nL 88.693125 19.378213 \nL 108.223125 45.255589 \nL 127.753125 66.25926 \nL 147.283125 68.693318 \nL 166.813125 77.852812 \nL 186.343125 79.827679 \n\" style=\"fill:none;stroke:#ff7f0e;stroke-dasharray:5.55,2.4;stroke-dashoffset:0;stroke-width:1.5;\"/>\n   </g>\n   <g id=\"line2d_106\">\n    <path clip-path=\"url(#p4b6f89cb0a)\" d=\"M 49.633125 136.922727 \nL 69.163125 136.262893 \nL 88.693125 131.383442 \nL 108.223125 120.315963 \nL 127.753125 112.054166 \nL 147.283125 113.007877 \nL 166.813125 109.642166 \nL 186.343125 108.954607 \n\" style=\"fill:none;stroke:#2ca02c;stroke-dasharray:9.6,2.4,1.5,2.4;stroke-dashoffset:0;stroke-width:1.5;\"/>\n   </g>\n   <g id=\"line2d_107\">\n    <path clip-path=\"url(#p4b6f89cb0a)\" d=\"M 34.954394 13.377273 \nL 44.698573 13.402962 \nL 54.442752 13.41536 \nL 64.186931 13.442738 \nL 73.93111 13.76908 \nL 83.675289 16.524531 \nL 93.419468 20.700358 \nL 103.163647 34.527232 \nL 112.907826 51.40475 \nL 122.652006 63.1053 \nL 132.396185 68.565328 \nL 142.140364 71.749303 \nL 151.884543 74.318098 \nL 161.628722 75.72866 \nL 171.372901 78.131475 \nL 181.11708 78.350637 \nL 190.861259 79.335031 \nL 200.605438 80.289043 \n\" style=\"fill:none;stroke:#1f77b4;stroke-linecap:square;stroke-width:1.5;\"/>\n   </g>\n   <g id=\"line2d_108\">\n    <path clip-path=\"url(#p4b6f89cb0a)\" d=\"M 49.633125 13.409005 \nL 69.163125 13.489389 \nL 88.693125 19.378213 \nL 108.223125 45.255589 \nL 127.753125 66.25926 \nL 147.283125 68.693318 \nL 166.813125 77.852812 \nL 186.343125 79.827679 \n\" style=\"fill:none;stroke:#ff7f0e;stroke-dasharray:5.55,2.4;stroke-dashoffset:0;stroke-width:1.5;\"/>\n   </g>\n   <g id=\"line2d_109\">\n    <path clip-path=\"url(#p4b6f89cb0a)\" d=\"M 49.633125 136.922727 \nL 69.163125 136.262893 \nL 88.693125 131.383442 \nL 108.223125 120.315963 \nL 127.753125 112.054166 \nL 147.283125 113.007877 \nL 166.813125 109.642166 \nL 186.343125 108.954607 \n\" style=\"fill:none;stroke:#2ca02c;stroke-dasharray:9.6,2.4,1.5,2.4;stroke-dashoffset:0;stroke-width:1.5;\"/>\n   </g>\n   <g id=\"line2d_110\">\n    <path clip-path=\"url(#p4b6f89cb0a)\" d=\"M 34.954394 13.377273 \nL 44.698573 13.402962 \nL 54.442752 13.41536 \nL 64.186931 13.442738 \nL 73.93111 13.76908 \nL 83.675289 16.524531 \nL 93.419468 20.700358 \nL 103.163647 34.527232 \nL 112.907826 51.40475 \nL 122.652006 63.1053 \nL 132.396185 68.565328 \nL 142.140364 71.749303 \nL 151.884543 74.318098 \nL 161.628722 75.72866 \nL 171.372901 78.131475 \nL 181.11708 78.350637 \nL 190.861259 79.335031 \nL 200.605438 80.289043 \n\" style=\"fill:none;stroke:#1f77b4;stroke-linecap:square;stroke-width:1.5;\"/>\n   </g>\n   <g id=\"line2d_111\">\n    <path clip-path=\"url(#p4b6f89cb0a)\" d=\"M 49.633125 13.409005 \nL 69.163125 13.489389 \nL 88.693125 19.378213 \nL 108.223125 45.255589 \nL 127.753125 66.25926 \nL 147.283125 68.693318 \nL 166.813125 77.852812 \nL 186.343125 79.827679 \nL 205.873125 80.842485 \n\" style=\"fill:none;stroke:#ff7f0e;stroke-dasharray:5.55,2.4;stroke-dashoffset:0;stroke-width:1.5;\"/>\n   </g>\n   <g id=\"line2d_112\">\n    <path clip-path=\"url(#p4b6f89cb0a)\" d=\"M 49.633125 136.922727 \nL 69.163125 136.262893 \nL 88.693125 131.383442 \nL 108.223125 120.315963 \nL 127.753125 112.054166 \nL 147.283125 113.007877 \nL 166.813125 109.642166 \nL 186.343125 108.954607 \n\" style=\"fill:none;stroke:#2ca02c;stroke-dasharray:9.6,2.4,1.5,2.4;stroke-dashoffset:0;stroke-width:1.5;\"/>\n   </g>\n   <g id=\"line2d_113\">\n    <path clip-path=\"url(#p4b6f89cb0a)\" d=\"M 34.954394 13.377273 \nL 44.698573 13.402962 \nL 54.442752 13.41536 \nL 64.186931 13.442738 \nL 73.93111 13.76908 \nL 83.675289 16.524531 \nL 93.419468 20.700358 \nL 103.163647 34.527232 \nL 112.907826 51.40475 \nL 122.652006 63.1053 \nL 132.396185 68.565328 \nL 142.140364 71.749303 \nL 151.884543 74.318098 \nL 161.628722 75.72866 \nL 171.372901 78.131475 \nL 181.11708 78.350637 \nL 190.861259 79.335031 \nL 200.605438 80.289043 \n\" style=\"fill:none;stroke:#1f77b4;stroke-linecap:square;stroke-width:1.5;\"/>\n   </g>\n   <g id=\"line2d_114\">\n    <path clip-path=\"url(#p4b6f89cb0a)\" d=\"M 49.633125 13.409005 \nL 69.163125 13.489389 \nL 88.693125 19.378213 \nL 108.223125 45.255589 \nL 127.753125 66.25926 \nL 147.283125 68.693318 \nL 166.813125 77.852812 \nL 186.343125 79.827679 \nL 205.873125 80.842485 \n\" style=\"fill:none;stroke:#ff7f0e;stroke-dasharray:5.55,2.4;stroke-dashoffset:0;stroke-width:1.5;\"/>\n   </g>\n   <g id=\"line2d_115\">\n    <path clip-path=\"url(#p4b6f89cb0a)\" d=\"M 49.633125 136.922727 \nL 69.163125 136.262893 \nL 88.693125 131.383442 \nL 108.223125 120.315963 \nL 127.753125 112.054166 \nL 147.283125 113.007877 \nL 166.813125 109.642166 \nL 186.343125 108.954607 \nL 205.873125 108.666276 \n\" style=\"fill:none;stroke:#2ca02c;stroke-dasharray:9.6,2.4,1.5,2.4;stroke-dashoffset:0;stroke-width:1.5;\"/>\n   </g>\n   <g id=\"line2d_116\">\n    <path clip-path=\"url(#p4b6f89cb0a)\" d=\"M 34.954394 13.377273 \nL 44.698573 13.402962 \nL 54.442752 13.41536 \nL 64.186931 13.442738 \nL 73.93111 13.76908 \nL 83.675289 16.524531 \nL 93.419468 20.700358 \nL 103.163647 34.527232 \nL 112.907826 51.40475 \nL 122.652006 63.1053 \nL 132.396185 68.565328 \nL 142.140364 71.749303 \nL 151.884543 74.318098 \nL 161.628722 75.72866 \nL 171.372901 78.131475 \nL 181.11708 78.350637 \nL 190.861259 79.335031 \nL 200.605438 80.289043 \nL 210.349618 80.949127 \n\" style=\"fill:none;stroke:#1f77b4;stroke-linecap:square;stroke-width:1.5;\"/>\n   </g>\n   <g id=\"line2d_117\">\n    <path clip-path=\"url(#p4b6f89cb0a)\" d=\"M 49.633125 13.409005 \nL 69.163125 13.489389 \nL 88.693125 19.378213 \nL 108.223125 45.255589 \nL 127.753125 66.25926 \nL 147.283125 68.693318 \nL 166.813125 77.852812 \nL 186.343125 79.827679 \nL 205.873125 80.842485 \n\" style=\"fill:none;stroke:#ff7f0e;stroke-dasharray:5.55,2.4;stroke-dashoffset:0;stroke-width:1.5;\"/>\n   </g>\n   <g id=\"line2d_118\">\n    <path clip-path=\"url(#p4b6f89cb0a)\" d=\"M 49.633125 136.922727 \nL 69.163125 136.262893 \nL 88.693125 131.383442 \nL 108.223125 120.315963 \nL 127.753125 112.054166 \nL 147.283125 113.007877 \nL 166.813125 109.642166 \nL 186.343125 108.954607 \nL 205.873125 108.666276 \n\" style=\"fill:none;stroke:#2ca02c;stroke-dasharray:9.6,2.4,1.5,2.4;stroke-dashoffset:0;stroke-width:1.5;\"/>\n   </g>\n   <g id=\"line2d_119\">\n    <path clip-path=\"url(#p4b6f89cb0a)\" d=\"M 34.954394 13.377273 \nL 44.698573 13.402962 \nL 54.442752 13.41536 \nL 64.186931 13.442738 \nL 73.93111 13.76908 \nL 83.675289 16.524531 \nL 93.419468 20.700358 \nL 103.163647 34.527232 \nL 112.907826 51.40475 \nL 122.652006 63.1053 \nL 132.396185 68.565328 \nL 142.140364 71.749303 \nL 151.884543 74.318098 \nL 161.628722 75.72866 \nL 171.372901 78.131475 \nL 181.11708 78.350637 \nL 190.861259 79.335031 \nL 200.605438 80.289043 \nL 210.349618 80.949127 \nL 220.093797 82.07307 \n\" style=\"fill:none;stroke:#1f77b4;stroke-linecap:square;stroke-width:1.5;\"/>\n   </g>\n   <g id=\"line2d_120\">\n    <path clip-path=\"url(#p4b6f89cb0a)\" d=\"M 49.633125 13.409005 \nL 69.163125 13.489389 \nL 88.693125 19.378213 \nL 108.223125 45.255589 \nL 127.753125 66.25926 \nL 147.283125 68.693318 \nL 166.813125 77.852812 \nL 186.343125 79.827679 \nL 205.873125 80.842485 \n\" style=\"fill:none;stroke:#ff7f0e;stroke-dasharray:5.55,2.4;stroke-dashoffset:0;stroke-width:1.5;\"/>\n   </g>\n   <g id=\"line2d_121\">\n    <path clip-path=\"url(#p4b6f89cb0a)\" d=\"M 49.633125 136.922727 \nL 69.163125 136.262893 \nL 88.693125 131.383442 \nL 108.223125 120.315963 \nL 127.753125 112.054166 \nL 147.283125 113.007877 \nL 166.813125 109.642166 \nL 186.343125 108.954607 \nL 205.873125 108.666276 \n\" style=\"fill:none;stroke:#2ca02c;stroke-dasharray:9.6,2.4,1.5,2.4;stroke-dashoffset:0;stroke-width:1.5;\"/>\n   </g>\n   <g id=\"line2d_122\">\n    <path clip-path=\"url(#p4b6f89cb0a)\" d=\"M 34.954394 13.377273 \nL 44.698573 13.402962 \nL 54.442752 13.41536 \nL 64.186931 13.442738 \nL 73.93111 13.76908 \nL 83.675289 16.524531 \nL 93.419468 20.700358 \nL 103.163647 34.527232 \nL 112.907826 51.40475 \nL 122.652006 63.1053 \nL 132.396185 68.565328 \nL 142.140364 71.749303 \nL 151.884543 74.318098 \nL 161.628722 75.72866 \nL 171.372901 78.131475 \nL 181.11708 78.350637 \nL 190.861259 79.335031 \nL 200.605438 80.289043 \nL 210.349618 80.949127 \nL 220.093797 82.07307 \n\" style=\"fill:none;stroke:#1f77b4;stroke-linecap:square;stroke-width:1.5;\"/>\n   </g>\n   <g id=\"line2d_123\">\n    <path clip-path=\"url(#p4b6f89cb0a)\" d=\"M 49.633125 13.409005 \nL 69.163125 13.489389 \nL 88.693125 19.378213 \nL 108.223125 45.255589 \nL 127.753125 66.25926 \nL 147.283125 68.693318 \nL 166.813125 77.852812 \nL 186.343125 79.827679 \nL 205.873125 80.842485 \nL 225.403125 81.572797 \n\" style=\"fill:none;stroke:#ff7f0e;stroke-dasharray:5.55,2.4;stroke-dashoffset:0;stroke-width:1.5;\"/>\n   </g>\n   <g id=\"line2d_124\">\n    <path clip-path=\"url(#p4b6f89cb0a)\" d=\"M 49.633125 136.922727 \nL 69.163125 136.262893 \nL 88.693125 131.383442 \nL 108.223125 120.315963 \nL 127.753125 112.054166 \nL 147.283125 113.007877 \nL 166.813125 109.642166 \nL 186.343125 108.954607 \nL 205.873125 108.666276 \n\" style=\"fill:none;stroke:#2ca02c;stroke-dasharray:9.6,2.4,1.5,2.4;stroke-dashoffset:0;stroke-width:1.5;\"/>\n   </g>\n   <g id=\"line2d_125\">\n    <path clip-path=\"url(#p4b6f89cb0a)\" d=\"M 34.954394 13.377273 \nL 44.698573 13.402962 \nL 54.442752 13.41536 \nL 64.186931 13.442738 \nL 73.93111 13.76908 \nL 83.675289 16.524531 \nL 93.419468 20.700358 \nL 103.163647 34.527232 \nL 112.907826 51.40475 \nL 122.652006 63.1053 \nL 132.396185 68.565328 \nL 142.140364 71.749303 \nL 151.884543 74.318098 \nL 161.628722 75.72866 \nL 171.372901 78.131475 \nL 181.11708 78.350637 \nL 190.861259 79.335031 \nL 200.605438 80.289043 \nL 210.349618 80.949127 \nL 220.093797 82.07307 \n\" style=\"fill:none;stroke:#1f77b4;stroke-linecap:square;stroke-width:1.5;\"/>\n   </g>\n   <g id=\"line2d_126\">\n    <path clip-path=\"url(#p4b6f89cb0a)\" d=\"M 49.633125 13.409005 \nL 69.163125 13.489389 \nL 88.693125 19.378213 \nL 108.223125 45.255589 \nL 127.753125 66.25926 \nL 147.283125 68.693318 \nL 166.813125 77.852812 \nL 186.343125 79.827679 \nL 205.873125 80.842485 \nL 225.403125 81.572797 \n\" style=\"fill:none;stroke:#ff7f0e;stroke-dasharray:5.55,2.4;stroke-dashoffset:0;stroke-width:1.5;\"/>\n   </g>\n   <g id=\"line2d_127\">\n    <path clip-path=\"url(#p4b6f89cb0a)\" d=\"M 49.633125 136.922727 \nL 69.163125 136.262893 \nL 88.693125 131.383442 \nL 108.223125 120.315963 \nL 127.753125 112.054166 \nL 147.283125 113.007877 \nL 166.813125 109.642166 \nL 186.343125 108.954607 \nL 205.873125 108.666276 \nL 225.403125 108.411213 \n\" style=\"fill:none;stroke:#2ca02c;stroke-dasharray:9.6,2.4,1.5,2.4;stroke-dashoffset:0;stroke-width:1.5;\"/>\n   </g>\n   <g id=\"patch_3\">\n    <path d=\"M 30.103125 143.1 \nL 30.103125 7.2 \n\" style=\"fill:none;stroke:#000000;stroke-linecap:square;stroke-linejoin:miter;stroke-width:0.8;\"/>\n   </g>\n   <g id=\"patch_4\">\n    <path d=\"M 225.403125 143.1 \nL 225.403125 7.2 \n\" style=\"fill:none;stroke:#000000;stroke-linecap:square;stroke-linejoin:miter;stroke-width:0.8;\"/>\n   </g>\n   <g id=\"patch_5\">\n    <path d=\"M 30.103125 143.1 \nL 225.403125 143.1 \n\" style=\"fill:none;stroke:#000000;stroke-linecap:square;stroke-linejoin:miter;stroke-width:0.8;\"/>\n   </g>\n   <g id=\"patch_6\">\n    <path d=\"M 30.103125 7.2 \nL 225.403125 7.2 \n\" style=\"fill:none;stroke:#000000;stroke-linecap:square;stroke-linejoin:miter;stroke-width:0.8;\"/>\n   </g>\n   <g id=\"legend_1\">\n    <g id=\"patch_7\">\n     <path d=\"M 138.8125 60.06875 \nL 218.403125 60.06875 \nQ 220.403125 60.06875 220.403125 58.06875 \nL 220.403125 14.2 \nQ 220.403125 12.2 218.403125 12.2 \nL 138.8125 12.2 \nQ 136.8125 12.2 136.8125 14.2 \nL 136.8125 58.06875 \nQ 136.8125 60.06875 138.8125 60.06875 \nz\n\" style=\"fill:#ffffff;opacity:0.8;stroke:#cccccc;stroke-linejoin:miter;\"/>\n    </g>\n    <g id=\"line2d_128\">\n     <path d=\"M 140.8125 20.298437 \nL 160.8125 20.298437 \n\" style=\"fill:none;stroke:#1f77b4;stroke-linecap:square;stroke-width:1.5;\"/>\n    </g>\n    <g id=\"line2d_129\"/>\n    <g id=\"text_13\">\n     <!-- train_loss -->\n     <defs>\n      <path d=\"M 18.3125 70.21875 \nL 18.3125 54.6875 \nL 36.8125 54.6875 \nL 36.8125 47.703125 \nL 18.3125 47.703125 \nL 18.3125 18.015625 \nQ 18.3125 11.328125 20.140625 9.421875 \nQ 21.96875 7.515625 27.59375 7.515625 \nL 36.8125 7.515625 \nL 36.8125 0 \nL 27.59375 0 \nQ 17.1875 0 13.234375 3.875 \nQ 9.28125 7.765625 9.28125 18.015625 \nL 9.28125 47.703125 \nL 2.6875 47.703125 \nL 2.6875 54.6875 \nL 9.28125 54.6875 \nL 9.28125 70.21875 \nz\n\" id=\"DejaVuSans-116\"/>\n      <path d=\"M 41.109375 46.296875 \nQ 39.59375 47.171875 37.8125 47.578125 \nQ 36.03125 48 33.890625 48 \nQ 26.265625 48 22.1875 43.046875 \nQ 18.109375 38.09375 18.109375 28.8125 \nL 18.109375 0 \nL 9.078125 0 \nL 9.078125 54.6875 \nL 18.109375 54.6875 \nL 18.109375 46.1875 \nQ 20.953125 51.171875 25.484375 53.578125 \nQ 30.03125 56 36.53125 56 \nQ 37.453125 56 38.578125 55.875 \nQ 39.703125 55.765625 41.0625 55.515625 \nz\n\" id=\"DejaVuSans-114\"/>\n      <path d=\"M 34.28125 27.484375 \nQ 23.390625 27.484375 19.1875 25 \nQ 14.984375 22.515625 14.984375 16.5 \nQ 14.984375 11.71875 18.140625 8.90625 \nQ 21.296875 6.109375 26.703125 6.109375 \nQ 34.1875 6.109375 38.703125 11.40625 \nQ 43.21875 16.703125 43.21875 25.484375 \nL 43.21875 27.484375 \nz\nM 52.203125 31.203125 \nL 52.203125 0 \nL 43.21875 0 \nL 43.21875 8.296875 \nQ 40.140625 3.328125 35.546875 0.953125 \nQ 30.953125 -1.421875 24.3125 -1.421875 \nQ 15.921875 -1.421875 10.953125 3.296875 \nQ 6 8.015625 6 15.921875 \nQ 6 25.140625 12.171875 29.828125 \nQ 18.359375 34.515625 30.609375 34.515625 \nL 43.21875 34.515625 \nL 43.21875 35.40625 \nQ 43.21875 41.609375 39.140625 45 \nQ 35.0625 48.390625 27.6875 48.390625 \nQ 23 48.390625 18.546875 47.265625 \nQ 14.109375 46.140625 10.015625 43.890625 \nL 10.015625 52.203125 \nQ 14.9375 54.109375 19.578125 55.046875 \nQ 24.21875 56 28.609375 56 \nQ 40.484375 56 46.34375 49.84375 \nQ 52.203125 43.703125 52.203125 31.203125 \nz\n\" id=\"DejaVuSans-97\"/>\n      <path d=\"M 9.421875 54.6875 \nL 18.40625 54.6875 \nL 18.40625 0 \nL 9.421875 0 \nz\nM 9.421875 75.984375 \nL 18.40625 75.984375 \nL 18.40625 64.59375 \nL 9.421875 64.59375 \nz\n\" id=\"DejaVuSans-105\"/>\n      <path d=\"M 54.890625 33.015625 \nL 54.890625 0 \nL 45.90625 0 \nL 45.90625 32.71875 \nQ 45.90625 40.484375 42.875 44.328125 \nQ 39.84375 48.1875 33.796875 48.1875 \nQ 26.515625 48.1875 22.3125 43.546875 \nQ 18.109375 38.921875 18.109375 30.90625 \nL 18.109375 0 \nL 9.078125 0 \nL 9.078125 54.6875 \nL 18.109375 54.6875 \nL 18.109375 46.1875 \nQ 21.34375 51.125 25.703125 53.5625 \nQ 30.078125 56 35.796875 56 \nQ 45.21875 56 50.046875 50.171875 \nQ 54.890625 44.34375 54.890625 33.015625 \nz\n\" id=\"DejaVuSans-110\"/>\n      <path d=\"M 50.984375 -16.609375 \nL 50.984375 -23.578125 \nL -0.984375 -23.578125 \nL -0.984375 -16.609375 \nz\n\" id=\"DejaVuSans-95\"/>\n      <path d=\"M 9.421875 75.984375 \nL 18.40625 75.984375 \nL 18.40625 0 \nL 9.421875 0 \nz\n\" id=\"DejaVuSans-108\"/>\n      <path d=\"M 44.28125 53.078125 \nL 44.28125 44.578125 \nQ 40.484375 46.53125 36.375 47.5 \nQ 32.28125 48.484375 27.875 48.484375 \nQ 21.1875 48.484375 17.84375 46.4375 \nQ 14.5 44.390625 14.5 40.28125 \nQ 14.5 37.15625 16.890625 35.375 \nQ 19.28125 33.59375 26.515625 31.984375 \nL 29.59375 31.296875 \nQ 39.15625 29.25 43.1875 25.515625 \nQ 47.21875 21.78125 47.21875 15.09375 \nQ 47.21875 7.46875 41.1875 3.015625 \nQ 35.15625 -1.421875 24.609375 -1.421875 \nQ 20.21875 -1.421875 15.453125 -0.5625 \nQ 10.6875 0.296875 5.421875 2 \nL 5.421875 11.28125 \nQ 10.40625 8.6875 15.234375 7.390625 \nQ 20.0625 6.109375 24.8125 6.109375 \nQ 31.15625 6.109375 34.5625 8.28125 \nQ 37.984375 10.453125 37.984375 14.40625 \nQ 37.984375 18.0625 35.515625 20.015625 \nQ 33.0625 21.96875 24.703125 23.78125 \nL 21.578125 24.515625 \nQ 13.234375 26.265625 9.515625 29.90625 \nQ 5.8125 33.546875 5.8125 39.890625 \nQ 5.8125 47.609375 11.28125 51.796875 \nQ 16.75 56 26.8125 56 \nQ 31.78125 56 36.171875 55.265625 \nQ 40.578125 54.546875 44.28125 53.078125 \nz\n\" id=\"DejaVuSans-115\"/>\n     </defs>\n     <g transform=\"translate(168.8125 23.798437)scale(0.1 -0.1)\">\n      <use xlink:href=\"#DejaVuSans-116\"/>\n      <use x=\"39.208984\" xlink:href=\"#DejaVuSans-114\"/>\n      <use x=\"80.322266\" xlink:href=\"#DejaVuSans-97\"/>\n      <use x=\"141.601562\" xlink:href=\"#DejaVuSans-105\"/>\n      <use x=\"169.384766\" xlink:href=\"#DejaVuSans-110\"/>\n      <use x=\"232.763672\" xlink:href=\"#DejaVuSans-95\"/>\n      <use x=\"282.763672\" xlink:href=\"#DejaVuSans-108\"/>\n      <use x=\"310.546875\" xlink:href=\"#DejaVuSans-111\"/>\n      <use x=\"371.728516\" xlink:href=\"#DejaVuSans-115\"/>\n      <use x=\"423.828125\" xlink:href=\"#DejaVuSans-115\"/>\n     </g>\n    </g>\n    <g id=\"line2d_130\">\n     <path d=\"M 140.8125 35.254687 \nL 160.8125 35.254687 \n\" style=\"fill:none;stroke:#ff7f0e;stroke-dasharray:5.55,2.4;stroke-dashoffset:0;stroke-width:1.5;\"/>\n    </g>\n    <g id=\"line2d_131\"/>\n    <g id=\"text_14\">\n     <!-- val_loss -->\n     <defs>\n      <path d=\"M 2.984375 54.6875 \nL 12.5 54.6875 \nL 29.59375 8.796875 \nL 46.6875 54.6875 \nL 56.203125 54.6875 \nL 35.6875 0 \nL 23.484375 0 \nz\n\" id=\"DejaVuSans-118\"/>\n     </defs>\n     <g transform=\"translate(168.8125 38.754687)scale(0.1 -0.1)\">\n      <use xlink:href=\"#DejaVuSans-118\"/>\n      <use x=\"59.179688\" xlink:href=\"#DejaVuSans-97\"/>\n      <use x=\"120.458984\" xlink:href=\"#DejaVuSans-108\"/>\n      <use x=\"148.242188\" xlink:href=\"#DejaVuSans-95\"/>\n      <use x=\"198.242188\" xlink:href=\"#DejaVuSans-108\"/>\n      <use x=\"226.025391\" xlink:href=\"#DejaVuSans-111\"/>\n      <use x=\"287.207031\" xlink:href=\"#DejaVuSans-115\"/>\n      <use x=\"339.306641\" xlink:href=\"#DejaVuSans-115\"/>\n     </g>\n    </g>\n    <g id=\"line2d_132\">\n     <path d=\"M 140.8125 50.210937 \nL 160.8125 50.210937 \n\" style=\"fill:none;stroke:#2ca02c;stroke-dasharray:9.6,2.4,1.5,2.4;stroke-dashoffset:0;stroke-width:1.5;\"/>\n    </g>\n    <g id=\"line2d_133\"/>\n    <g id=\"text_15\">\n     <!-- val_acc -->\n     <g transform=\"translate(168.8125 53.710937)scale(0.1 -0.1)\">\n      <use xlink:href=\"#DejaVuSans-118\"/>\n      <use x=\"59.179688\" xlink:href=\"#DejaVuSans-97\"/>\n      <use x=\"120.458984\" xlink:href=\"#DejaVuSans-108\"/>\n      <use x=\"148.242188\" xlink:href=\"#DejaVuSans-95\"/>\n      <use x=\"198.242188\" xlink:href=\"#DejaVuSans-97\"/>\n      <use x=\"259.521484\" xlink:href=\"#DejaVuSans-99\"/>\n      <use x=\"314.501953\" xlink:href=\"#DejaVuSans-99\"/>\n     </g>\n    </g>\n   </g>\n  </g>\n </g>\n <defs>\n  <clipPath id=\"p4b6f89cb0a\">\n   <rect height=\"135.9\" width=\"195.3\" x=\"30.103125\" y=\"7.2\"/>\n  </clipPath>\n </defs>\n</svg>\n"
          },
          "metadata": {
            "needs_background": "light"
          }
        }
      ]
    },
    {
      "cell_type": "code",
      "source": [
        "from torchsummary import summary\n",
        "summary(NiN(lr=0.05).net, (1, 224, 224), device='cpu')"
      ],
      "metadata": {
        "colab": {
          "base_uri": "https://localhost:8080/"
        },
        "id": "H2tKzI8n-s8h",
        "outputId": "eb2c7950-62e4-450c-f1ed-9ab3604825a5"
      },
      "execution_count": 8,
      "outputs": [
        {
          "output_type": "stream",
          "name": "stdout",
          "text": [
            "----------------------------------------------------------------\n",
            "        Layer (type)               Output Shape         Param #\n",
            "================================================================\n",
            "            Conv2d-1           [-1, 96, 54, 54]          11,712\n",
            "              ReLU-2           [-1, 96, 54, 54]               0\n",
            "            Conv2d-3           [-1, 96, 54, 54]           9,312\n",
            "              ReLU-4           [-1, 96, 54, 54]               0\n",
            "            Conv2d-5           [-1, 96, 54, 54]           9,312\n",
            "              ReLU-6           [-1, 96, 54, 54]               0\n",
            "         MaxPool2d-7           [-1, 96, 26, 26]               0\n",
            "            Conv2d-8          [-1, 256, 26, 26]         614,656\n",
            "              ReLU-9          [-1, 256, 26, 26]               0\n",
            "           Conv2d-10          [-1, 256, 26, 26]          65,792\n",
            "             ReLU-11          [-1, 256, 26, 26]               0\n",
            "           Conv2d-12          [-1, 256, 26, 26]          65,792\n",
            "             ReLU-13          [-1, 256, 26, 26]               0\n",
            "        MaxPool2d-14          [-1, 256, 12, 12]               0\n",
            "           Conv2d-15          [-1, 384, 12, 12]         885,120\n",
            "             ReLU-16          [-1, 384, 12, 12]               0\n",
            "           Conv2d-17          [-1, 384, 12, 12]         147,840\n",
            "             ReLU-18          [-1, 384, 12, 12]               0\n",
            "           Conv2d-19          [-1, 384, 12, 12]         147,840\n",
            "             ReLU-20          [-1, 384, 12, 12]               0\n",
            "        MaxPool2d-21            [-1, 384, 5, 5]               0\n",
            "          Dropout-22            [-1, 384, 5, 5]               0\n",
            "           Conv2d-23             [-1, 10, 5, 5]          34,570\n",
            "             ReLU-24             [-1, 10, 5, 5]               0\n",
            "           Conv2d-25             [-1, 10, 5, 5]             110\n",
            "             ReLU-26             [-1, 10, 5, 5]               0\n",
            "           Conv2d-27             [-1, 10, 5, 5]             110\n",
            "             ReLU-28             [-1, 10, 5, 5]               0\n",
            "AdaptiveAvgPool2d-29             [-1, 10, 1, 1]               0\n",
            "          Flatten-30                   [-1, 10]               0\n",
            "================================================================\n",
            "Total params: 1,992,166\n",
            "Trainable params: 1,992,166\n",
            "Non-trainable params: 0\n",
            "----------------------------------------------------------------\n",
            "Input size (MB): 0.19\n",
            "Forward/backward pass size (MB): 24.20\n",
            "Params size (MB): 7.60\n",
            "Estimated Total Size (MB): 31.99\n",
            "----------------------------------------------------------------\n"
          ]
        },
        {
          "output_type": "stream",
          "name": "stderr",
          "text": [
            "/usr/local/lib/python3.8/dist-packages/torch/nn/modules/lazy.py:180: UserWarning: Lazy modules are a new feature under heavy development so changes to the API or functionality can happen at any moment.\n",
            "  warnings.warn('Lazy modules are a new feature under heavy development '\n"
          ]
        }
      ]
    },
    {
      "cell_type": "code",
      "source": [
        "class model(nn.Module):\n",
        "\n",
        "  def __init__(self):\n",
        "    super().__init__()\n",
        "    self.net = nn.LazyLinear(4096)\n",
        "\n",
        "  def forward(self, X):\n",
        "    return self.net(X)\n",
        "\n",
        "summary(model(), (1, 1, 25088), device='cpu') # a single fully connect layer with 4096 outputs in VGG block takes 10 times more memory than the enitre NiN model"
      ],
      "metadata": {
        "colab": {
          "base_uri": "https://localhost:8080/"
        },
        "id": "uK0HCtxm9Poo",
        "outputId": "d95a4c6c-8c71-4c8c-d87d-e7b516961e6b"
      },
      "execution_count": 18,
      "outputs": [
        {
          "output_type": "stream",
          "name": "stdout",
          "text": [
            "----------------------------------------------------------------\n",
            "        Layer (type)               Output Shape         Param #\n",
            "================================================================\n",
            "            Linear-1           [-1, 1, 1, 4096]     102,764,544\n",
            "================================================================\n",
            "Total params: 102,764,544\n",
            "Trainable params: 102,764,544\n",
            "Non-trainable params: 0\n",
            "----------------------------------------------------------------\n",
            "Input size (MB): 0.10\n",
            "Forward/backward pass size (MB): 0.03\n",
            "Params size (MB): 392.02\n",
            "Estimated Total Size (MB): 392.14\n",
            "----------------------------------------------------------------\n"
          ]
        }
      ]
    },
    {
      "cell_type": "markdown",
      "source": [
        "Let's implement from scratch: "
      ],
      "metadata": {
        "id": "cx0GQzLwic0q"
      }
    },
    {
      "cell_type": "code",
      "source": [
        "import sys\n",
        "print(sys.executable)"
      ],
      "metadata": {
        "colab": {
          "base_uri": "https://localhost:8080/"
        },
        "id": "vwioRLngiq4C",
        "outputId": "1951a795-daf5-4788-91fc-490259c2d6ba"
      },
      "execution_count": 8,
      "outputs": [
        {
          "output_type": "stream",
          "name": "stdout",
          "text": [
            "/usr/bin/python3\n"
          ]
        }
      ]
    },
    {
      "cell_type": "code",
      "source": [
        "import torch\n",
        "from torch import nn\n",
        "import torchvision\n",
        "import torchvision.transforms as transforms\n",
        "import matplotlib.pyplot as plt\n",
        "import time"
      ],
      "metadata": {
        "id": "SqC71X8LAOn-"
      },
      "execution_count": 5,
      "outputs": []
    },
    {
      "cell_type": "code",
      "source": [
        "transform = transforms.Compose([\n",
        "    transforms.Resize(224),\n",
        "    transforms.ToTensor()\n",
        "])\n",
        "\n",
        "data = torchvision.datasets.FashionMNIST(root='./data1',\n",
        "                                         train=True,\n",
        "                                         download=True,\n",
        "                                         transform=transform)"
      ],
      "metadata": {
        "colab": {
          "base_uri": "https://localhost:8080/",
          "height": 100,
          "referenced_widgets": [
            "28839c8a2e364a3db950869263058102",
            "7a42210b36204f9ca4738ea61b311d6d",
            "025e0ff8df8f4b0f918c86d4ad8b58f5",
            "6ac31e65e6a44798a1e703947950b799",
            "e80562af30a04f71bb788cec43700f76",
            "97deebdc18fc4a668bfe454eb222dbd6",
            "cf15252e55ce474ba2cda67e990ca729",
            "1fda89d2523340e89a20538df0c929c4",
            "40d608a3ffb74d61987c7a0e1321f3ba",
            "c7be0acfa5d146818601ecbd23f7b772",
            "a03a602dadee4134bf9cc17a61d06281"
          ]
        },
        "id": "E1icnHqIiqVV",
        "outputId": "239beef4-5781-4e31-e582-8f0c21bdb5e2"
      },
      "execution_count": 6,
      "outputs": [
        {
          "output_type": "stream",
          "name": "stdout",
          "text": [
            "Downloading http://fashion-mnist.s3-website.eu-central-1.amazonaws.com/t10k-labels-idx1-ubyte.gz to ./data1/FashionMNIST/raw/t10k-labels-idx1-ubyte.gz\n"
          ]
        },
        {
          "output_type": "display_data",
          "data": {
            "text/plain": [
              "  0%|          | 0/5148 [00:00<?, ?it/s]"
            ],
            "application/vnd.jupyter.widget-view+json": {
              "version_major": 2,
              "version_minor": 0,
              "model_id": "28839c8a2e364a3db950869263058102"
            }
          },
          "metadata": {}
        },
        {
          "output_type": "stream",
          "name": "stdout",
          "text": [
            "Extracting ./data1/FashionMNIST/raw/t10k-labels-idx1-ubyte.gz to ./data1/FashionMNIST/raw\n",
            "\n"
          ]
        }
      ]
    },
    {
      "cell_type": "code",
      "source": [
        "data[0][0].shape"
      ],
      "metadata": {
        "colab": {
          "base_uri": "https://localhost:8080/"
        },
        "id": "0RtQnrzNkYU2",
        "outputId": "93bae3e0-49d2-4c78-ace8-cd16b484ddce"
      },
      "execution_count": 7,
      "outputs": [
        {
          "output_type": "execute_result",
          "data": {
            "text/plain": [
              "torch.Size([1, 224, 224])"
            ]
          },
          "metadata": {},
          "execution_count": 7
        }
      ]
    },
    {
      "cell_type": "code",
      "source": [
        "device = torch.device('cuda' if torch.cuda.is_available() else 'cpu')\n",
        "print(device)"
      ],
      "metadata": {
        "colab": {
          "base_uri": "https://localhost:8080/"
        },
        "id": "kUzP4iKXYBZX",
        "outputId": "0a1e57ca-1dd3-4d9c-edb9-ccb5bb3f7782"
      },
      "execution_count": 7,
      "outputs": [
        {
          "output_type": "stream",
          "name": "stdout",
          "text": [
            "cpu\n"
          ]
        }
      ]
    },
    {
      "cell_type": "code",
      "source": [
        "#@title FashionMNIST class\n",
        "class FashionMNIST():\n",
        "\n",
        "  def __init__(self, batch_size):\n",
        "    self.batch_size = batch_size\n",
        "    transform = transforms.Compose([\n",
        "        transforms.Resize(224),\n",
        "        transforms.ToTensor()\n",
        "    ])\n",
        "    self.train_set = torchvision.datasets.FashionMNIST(root='./data',\n",
        "                                                       download=True,\n",
        "                                                       train=True,\n",
        "                                                       transform = transform) # orignally the fashionMNIST dataset is PIL image\n",
        "    self.test_set = torchvision.datasets.FashionMNIST(root='./data',\n",
        "                                                      download=True,\n",
        "                                                      train=False,\n",
        "                                                      transform=transform)\n",
        "    \n",
        "  def get_dataloader(self, train):\n",
        "    if train:\n",
        "      return self.train_loader()\n",
        "    else:\n",
        "      return self.test_loader()\n",
        "    \n",
        "  def train_loader(self):\n",
        "    t = torch.utils.data.DataLoader(dataset=self.train_set,\n",
        "                                    batch_size=self.batch_size,\n",
        "                                    shuffle=True,\n",
        "                                    num_workers=2)\n",
        "    return t\n",
        "    \n",
        "  def test_loader(self):\n",
        "    t = torch.utils.data.DataLoader(dataset=self.test_set,\n",
        "                                    batch_size=self.batch_size,\n",
        "                                    shuffle=False,\n",
        "                                    num_workers=2)\n",
        "    \n",
        "    return t"
      ],
      "metadata": {
        "cellView": "form",
        "id": "y7nHNZT3jJF4"
      },
      "execution_count": 23,
      "outputs": []
    },
    {
      "cell_type": "code",
      "source": [
        "tot = 10000000\n",
        "\n",
        "for i in range(tot):\n",
        "  if (i+1)%(tot/2) == 0:\n",
        "    print(i)"
      ],
      "metadata": {
        "colab": {
          "base_uri": "https://localhost:8080/"
        },
        "id": "KO7PnPuwZg6w",
        "outputId": "b359cc83-287b-431f-cdc3-64fa201c8d1e"
      },
      "execution_count": 15,
      "outputs": [
        {
          "output_type": "stream",
          "name": "stdout",
          "text": [
            "4999999\n",
            "9999999\n"
          ]
        }
      ]
    },
    {
      "cell_type": "code",
      "source": [
        "a = torch.randn(1, requires_grad=True)\n",
        "\n",
        "with torch.no_grad():\n",
        "  b = 2 + a\n",
        "  t = b\n",
        "  print(t)\n"
      ],
      "metadata": {
        "colab": {
          "base_uri": "https://localhost:8080/"
        },
        "id": "r8EWq-jfbFfE",
        "outputId": "740c05c0-d454-49e4-b13f-6b6ae4533435"
      },
      "execution_count": 18,
      "outputs": [
        {
          "output_type": "stream",
          "name": "stdout",
          "text": [
            "tensor([0.7516])\n"
          ]
        }
      ]
    },
    {
      "cell_type": "code",
      "source": [
        "import time\n",
        "start = time.time()\n",
        "m1 = torch.randn(100, 100)\n",
        "m2 = torch.randn(100, 100)\n",
        "m = torch.mm(m1, m2)\n",
        "print(\"--- %s seconds ---\" % (time.time() - start))"
      ],
      "metadata": {
        "colab": {
          "base_uri": "https://localhost:8080/"
        },
        "id": "JTAglB16cRi6",
        "outputId": "94368172-32a1-48ae-c1a8-54ac6a5d0dd8"
      },
      "execution_count": 19,
      "outputs": [
        {
          "output_type": "stream",
          "name": "stdout",
          "text": [
            "--- 0.03789329528808594 seconds ---\n"
          ]
        }
      ]
    },
    {
      "cell_type": "code",
      "source": [
        "#@title Trainer Class code : \n",
        "class Trainer():\n",
        "\n",
        "  def __init__(self, num_epochs):\n",
        "    self.num_epochs = num_epochs\n",
        "    self.train_loss = []\n",
        "    self.val_loss = []\n",
        "    self.val_acc = []\n",
        "\n",
        "  def fit(self, model, data):\n",
        "\n",
        "    start = time.time()\n",
        "    # training loop : \n",
        "    train_loader = data.get_dataloader(True)\n",
        "    test_loader = data.get_dataloader(False)\n",
        "    optimizer = torch.optim.SGD(model.parameters(), model.lr)\n",
        "    criterion = nn.CrossEntropyLoss()\n",
        "    n_total_steps = len(train_loader)\n",
        "\n",
        "    for epoch in range(self.num_epochs):\n",
        "      t_loss = torch.zeros(1)\n",
        "      # training loop : \n",
        "      for i, (features, targets) in enumerate(train_loader):\n",
        "        features = features.to(device)\n",
        "        targets = targets.to(device)\n",
        "\n",
        "        outputs = model(features)\n",
        "        loss = criterion(outputs, targets)\n",
        "        t_loss += loss.detach().item()\n",
        "\n",
        "        optimizer.zero_grad()\n",
        "        loss.backward()\n",
        "        optimizer.step()\n",
        "\n",
        "        if (epoch+1)%(self.num_epochs/10) == 0 and (i+1)%(n_total_steps/2) == 0:\n",
        "          print(f\"epoch : {epoch+1}/{self.num_epochs}, step : {i+1}/{n_total_steps}, loss : {loss.item():.4f}\")\n",
        "\n",
        "      self.train_loss.append(t_loss)\n",
        "\n",
        "      # test loop : \n",
        "      with torch.no_grad():\n",
        "        n_samples = 0.0\n",
        "        n_correct = 0.0\n",
        "        v_loss = torch.zeros(1)\n",
        "        for features, targets in test_loader:\n",
        "\n",
        "          features = features.to(device)\n",
        "          targets = targets.to(device)\n",
        "\n",
        "          outputs = model(features)\n",
        "          loss = criterion(outputs, targets)\n",
        "          v_loss += loss.item()\n",
        "\n",
        "          _, preds = torch.max(outputs, 1)\n",
        "          n_samples += targets.shape[0]\n",
        "          n_correct += (preds == targets).sum().item()\n",
        "\n",
        "        acc = 100 * (n_correct / n_samples)\n",
        "        self.val_acc.append(acc)\n",
        "        self.val_loss.append(v_loss)\n",
        "\n",
        "      print(f\"Finished Training in {time.time()-start:.2f} seconds\")"
      ],
      "metadata": {
        "cellView": "form",
        "id": "4yxLE09hm1W0"
      },
      "execution_count": 58,
      "outputs": []
    },
    {
      "cell_type": "code",
      "source": [
        "def nin_block(out_channels, kernel_size, strides, padding):\n",
        "  return nn.Sequential(\n",
        "      nn.LazyConv2d(out_channels, kernel_size, strides, padding), nn.ReLU(),\n",
        "      nn.LazyConv2d(out_channels, kernel_size=1), nn.ReLU(),\n",
        "      nn.LazyConv2d(out_channels, kernel_size=1), nn.ReLU()\n",
        "  )"
      ],
      "metadata": {
        "id": "MDIn7XB8deSD"
      },
      "execution_count": 9,
      "outputs": []
    },
    {
      "cell_type": "code",
      "source": [
        "d2l.init_cnn"
      ],
      "metadata": {
        "id": "fiLxjrAbljzL"
      },
      "execution_count": 39,
      "outputs": []
    },
    {
      "cell_type": "code",
      "source": [
        "def init_cnn(module):\n",
        "  if type(module) == nn.Conv2d or type(module) == nn.Linear:\n",
        "    nn.init.xavier_uniform_(module.weight)"
      ],
      "metadata": {
        "id": "ZL5dJmB2hmZB"
      },
      "execution_count": 40,
      "outputs": []
    },
    {
      "cell_type": "code",
      "source": [
        "#@title NiN class\n",
        "class NiN(nn.Module):\n",
        "\n",
        "  def __init__(self, lr=0.05, num_classes=10):\n",
        "    super().__init__()\n",
        "    self.lr = lr\n",
        "    self.num_classes = num_classes\n",
        "    self.net = nn.Sequential(\n",
        "        nin_block(96, kernel_size=11, strides=4, padding=0),\n",
        "        nn.MaxPool2d(kernel_size=3, stride=2),\n",
        "        nin_block(256, kernel_size=5, strides=1, padding=2),\n",
        "        nn.MaxPool2d(kernel_size=3, stride=2),\n",
        "        nin_block(384, kernel_size=3, strides=1, padding=2),\n",
        "        nn.MaxPool2d(kernel_size=3, stride=2),\n",
        "        nn.Dropout(p=0.5),\n",
        "        nin_block(num_classes, kernel_size=3, strides=1, padding=1),\n",
        "        nn.AdaptiveAvgPool2d((1, 1)),\n",
        "        nn.Flatten()\n",
        "    )\n",
        "\n",
        "  def forward(self, X):\n",
        "    return self.net(X)\n",
        "\n",
        "  def apply_init(self, inputs, init=None):\n",
        "    self.forward(*inputs)\n",
        "    if init is not None:\n",
        "      self.net.apply(init)"
      ],
      "metadata": {
        "cellView": "form",
        "id": "7AIzukUmZIUG"
      },
      "execution_count": 41,
      "outputs": []
    },
    {
      "cell_type": "code",
      "source": [
        "from torchsummary import summary\n",
        "model = NiN()\n",
        "summary(model, (1, 224, 224), device='cpu')"
      ],
      "metadata": {
        "colab": {
          "base_uri": "https://localhost:8080/"
        },
        "id": "a6rF0ljcfMeM",
        "outputId": "328ab36d-dc3f-4c9e-c25b-28b67e7cd84c"
      },
      "execution_count": 32,
      "outputs": [
        {
          "output_type": "stream",
          "name": "stdout",
          "text": [
            "----------------------------------------------------------------\n",
            "        Layer (type)               Output Shape         Param #\n",
            "================================================================\n",
            "            Conv2d-1           [-1, 96, 54, 54]          11,712\n",
            "              ReLU-2           [-1, 96, 54, 54]               0\n",
            "            Conv2d-3           [-1, 96, 54, 54]           9,312\n",
            "              ReLU-4           [-1, 96, 54, 54]               0\n",
            "            Conv2d-5           [-1, 96, 54, 54]           9,312\n",
            "              ReLU-6           [-1, 96, 54, 54]               0\n",
            "         MaxPool2d-7           [-1, 96, 26, 26]               0\n",
            "            Conv2d-8          [-1, 256, 26, 26]         614,656\n",
            "              ReLU-9          [-1, 256, 26, 26]               0\n",
            "           Conv2d-10          [-1, 256, 26, 26]          65,792\n",
            "             ReLU-11          [-1, 256, 26, 26]               0\n",
            "           Conv2d-12          [-1, 256, 26, 26]          65,792\n",
            "             ReLU-13          [-1, 256, 26, 26]               0\n",
            "        MaxPool2d-14          [-1, 256, 12, 12]               0\n",
            "           Conv2d-15          [-1, 384, 14, 14]         885,120\n",
            "             ReLU-16          [-1, 384, 14, 14]               0\n",
            "           Conv2d-17          [-1, 384, 14, 14]         147,840\n",
            "             ReLU-18          [-1, 384, 14, 14]               0\n",
            "           Conv2d-19          [-1, 384, 14, 14]         147,840\n",
            "             ReLU-20          [-1, 384, 14, 14]               0\n",
            "        MaxPool2d-21            [-1, 384, 6, 6]               0\n",
            "          Dropout-22            [-1, 384, 6, 6]               0\n",
            "           Conv2d-23             [-1, 10, 6, 6]          34,570\n",
            "             ReLU-24             [-1, 10, 6, 6]               0\n",
            "           Conv2d-25             [-1, 10, 6, 6]             110\n",
            "             ReLU-26             [-1, 10, 6, 6]               0\n",
            "           Conv2d-27             [-1, 10, 6, 6]             110\n",
            "             ReLU-28             [-1, 10, 6, 6]               0\n",
            "AdaptiveAvgPool2d-29             [-1, 10, 1, 1]               0\n",
            "          Flatten-30                   [-1, 10]               0\n",
            "================================================================\n",
            "Total params: 1,992,166\n",
            "Trainable params: 1,992,166\n",
            "Non-trainable params: 0\n",
            "----------------------------------------------------------------\n",
            "Input size (MB): 0.19\n",
            "Forward/backward pass size (MB): 25.19\n",
            "Params size (MB): 7.60\n",
            "Estimated Total Size (MB): 32.98\n",
            "----------------------------------------------------------------\n"
          ]
        },
        {
          "output_type": "stream",
          "name": "stderr",
          "text": [
            "/usr/local/lib/python3.8/dist-packages/torch/nn/modules/lazy.py:180: UserWarning: Lazy modules are a new feature under heavy development so changes to the API or functionality can happen at any moment.\n",
            "  warnings.warn('Lazy modules are a new feature under heavy development '\n"
          ]
        }
      ]
    },
    {
      "cell_type": "code",
      "source": [
        "d2l.init_cnn"
      ],
      "metadata": {
        "id": "gS4o_m3HiSVH"
      },
      "execution_count": null,
      "outputs": []
    },
    {
      "cell_type": "code",
      "source": [
        "device = torch.device('cuda' if torch.cuda.is_available() else 'cpu')\n",
        "print(device)"
      ],
      "metadata": {
        "colab": {
          "base_uri": "https://localhost:8080/"
        },
        "id": "WDUGFQyWjRcf",
        "outputId": "fef4bd17-bbaf-410c-a177-98a90fb4b7a8"
      },
      "execution_count": 12,
      "outputs": [
        {
          "output_type": "stream",
          "name": "stdout",
          "text": [
            "cuda\n"
          ]
        }
      ]
    },
    {
      "cell_type": "code",
      "source": [
        "d = FashionMNIST(batch_size=128)\n",
        "train = d.get_dataloader(train=True)"
      ],
      "metadata": {
        "id": "08bk0Mq1j2vB"
      },
      "execution_count": 29,
      "outputs": []
    },
    {
      "cell_type": "code",
      "source": [
        "examples = next(iter(train))"
      ],
      "metadata": {
        "id": "gacR_bWnkFN1"
      },
      "execution_count": 30,
      "outputs": []
    },
    {
      "cell_type": "code",
      "source": [
        "next(iter(train))[0][0].shape"
      ],
      "metadata": {
        "colab": {
          "base_uri": "https://localhost:8080/"
        },
        "id": "I827lu9Ok26Q",
        "outputId": "adc94923-b1e5-4130-d1a5-cf440ef7693d"
      },
      "execution_count": 35,
      "outputs": [
        {
          "output_type": "execute_result",
          "data": {
            "text/plain": [
              "torch.Size([1, 224, 224])"
            ]
          },
          "metadata": {},
          "execution_count": 35
        }
      ]
    },
    {
      "cell_type": "code",
      "source": [
        "features, targets = examples\n",
        "print(features.shape)\n",
        "print(targets.shape)"
      ],
      "metadata": {
        "colab": {
          "base_uri": "https://localhost:8080/"
        },
        "id": "5_NEe-idkZTW",
        "outputId": "606ef54b-b36e-4c7b-e92f-9161e3376c52"
      },
      "execution_count": 31,
      "outputs": [
        {
          "output_type": "stream",
          "name": "stdout",
          "text": [
            "torch.Size([128, 1, 224, 224])\n",
            "torch.Size([128])\n"
          ]
        }
      ]
    },
    {
      "cell_type": "code",
      "source": [
        "d2l.Module.apply_init"
      ],
      "metadata": {
        "colab": {
          "base_uri": "https://localhost:8080/"
        },
        "id": "tTgy4_ZolN5t",
        "outputId": "33a15e0d-a20c-46c2-8888-2f39ec3e9851"
      },
      "execution_count": 38,
      "outputs": [
        {
          "output_type": "stream",
          "name": "stdout",
          "text": [
            "Object `d2l.apply_init` not found.\n"
          ]
        }
      ]
    },
    {
      "cell_type": "code",
      "source": [
        "model = NiN()\n",
        "data = FashionMNIST(batch_size=128)\n",
        "model.apply_init([next(iter(data.get_dataloader(True)))[0]], init=init_cnn)\n",
        "model = model.to(device)\n",
        "trainer = Trainer(num_epochs=10)\n",
        "trainer.fit(model, data)"
      ],
      "metadata": {
        "colab": {
          "base_uri": "https://localhost:8080/"
        },
        "id": "3YdPgiMFgLgH",
        "outputId": "b48a3bea-bfa3-4cb5-a4b5-66d3a89048d0"
      },
      "execution_count": 48,
      "outputs": [
        {
          "output_type": "stream",
          "name": "stdout",
          "text": [
            "epoch : 1/10, step : 469/469, loss : 2.3027\n",
            "Finished Training in 70.24943685531616 seconds\n",
            "epoch : 2/10, step : 469/469, loss : 2.3025\n",
            "Finished Training in 140.55046105384827 seconds\n",
            "epoch : 3/10, step : 469/469, loss : 2.2647\n",
            "Finished Training in 210.99098825454712 seconds\n",
            "epoch : 4/10, step : 469/469, loss : 1.6786\n",
            "Finished Training in 281.166140794754 seconds\n",
            "epoch : 5/10, step : 469/469, loss : 0.8079\n",
            "Finished Training in 351.3831284046173 seconds\n",
            "epoch : 6/10, step : 469/469, loss : 0.5448\n",
            "Finished Training in 421.46472358703613 seconds\n",
            "epoch : 7/10, step : 469/469, loss : 0.6721\n",
            "Finished Training in 492.06596088409424 seconds\n",
            "epoch : 8/10, step : 469/469, loss : 0.5215\n",
            "Finished Training in 562.5485315322876 seconds\n",
            "epoch : 9/10, step : 469/469, loss : 0.5082\n",
            "Finished Training in 633.1989538669586 seconds\n",
            "epoch : 10/10, step : 469/469, loss : 0.5887\n",
            "Finished Training in 703.9011731147766 seconds\n"
          ]
        }
      ]
    },
    {
      "cell_type": "code",
      "source": [
        "trainer.train_loss"
      ],
      "metadata": {
        "colab": {
          "base_uri": "https://localhost:8080/"
        },
        "id": "8Jf44M1Lg3DT",
        "outputId": "984687ba-652a-4707-a403-f0f66437fa0e"
      },
      "execution_count": 50,
      "outputs": [
        {
          "output_type": "execute_result",
          "data": {
            "text/plain": [
              "[tensor([1080.1505]),\n",
              " tensor([1079.7717]),\n",
              " tensor([1070.0380]),\n",
              " tensor([890.6583]),\n",
              " tensor([497.7125]),\n",
              " tensor([327.8217]),\n",
              " tensor([277.1233]),\n",
              " tensor([244.3626]),\n",
              " tensor([221.1949]),\n",
              " tensor([204.2803])]"
            ]
          },
          "metadata": {},
          "execution_count": 50
        }
      ]
    },
    {
      "cell_type": "code",
      "source": [
        "trainer.val_loss"
      ],
      "metadata": {
        "colab": {
          "base_uri": "https://localhost:8080/"
        },
        "id": "GzWrIW5er4cn",
        "outputId": "16cba644-01ae-4a5b-ede5-5e4d731700cb"
      },
      "execution_count": 51,
      "outputs": [
        {
          "output_type": "execute_result",
          "data": {
            "text/plain": [
              "[tensor([181.8941]),\n",
              " tensor([181.8322]),\n",
              " tensor([177.1063]),\n",
              " tensor([123.7993]),\n",
              " tensor([73.6670]),\n",
              " tensor([52.6037]),\n",
              " tensor([53.8539]),\n",
              " tensor([38.8749]),\n",
              " tensor([37.9160]),\n",
              " tensor([36.3016])]"
            ]
          },
          "metadata": {},
          "execution_count": 51
        }
      ]
    },
    {
      "cell_type": "code",
      "source": [
        "trainer.val_acc"
      ],
      "metadata": {
        "colab": {
          "base_uri": "https://localhost:8080/"
        },
        "id": "M0GkDcNumM6x",
        "outputId": "9f6f5186-e446-4a1f-dfba-bae190da23bd"
      },
      "execution_count": 49,
      "outputs": [
        {
          "output_type": "execute_result",
          "data": {
            "text/plain": [
              "[10.0,\n",
              " 11.82,\n",
              " 20.880000000000003,\n",
              " 43.05,\n",
              " 61.94,\n",
              " 76.38000000000001,\n",
              " 72.92,\n",
              " 81.78,\n",
              " 81.91000000000001,\n",
              " 82.32000000000001]"
            ]
          },
          "metadata": {},
          "execution_count": 49
        }
      ]
    },
    {
      "cell_type": "markdown",
      "source": [
        "## Ex 8.3:"
      ],
      "metadata": {
        "id": "HWI_DwrGsIBg"
      }
    },
    {
      "cell_type": "markdown",
      "source": [
        "### Q1:\n",
        "\n",
        "changing the number of 1x1 convs in nin_block:\n",
        "\n",
        "- 1 layer : acc = 87.27% (lr=0.05), 82.95% (lr=0.1) \n",
        "- 2 layers : acc = 82.32% (lr=0.05)\n",
        "- 3 layers : acc = 60.62% (lr=0.1), lr=0.05 not working for this one"
      ],
      "metadata": {
        "id": "v4C_dTfdsK7b"
      }
    },
    {
      "cell_type": "code",
      "source": [
        "def mod_nin_block(out_channels, kernel_size, strides, padding):\n",
        "  return nn.Sequential(\n",
        "      nn.LazyConv2d(out_channels, kernel_size, strides, padding), nn.ReLU(),\n",
        "      # let's use 3 1x1 conv layers\n",
        "      nn.LazyConv2d(out_channels, kernel_size=1), nn.ReLU()\n",
        "  )"
      ],
      "metadata": {
        "id": "tv3omORcsOWI"
      },
      "execution_count": 74,
      "outputs": []
    },
    {
      "cell_type": "code",
      "source": [
        "class NiN1(nn.Module):\n",
        "\n",
        "  def __init__(self, lr=0.01, num_classes=10):\n",
        "    super().__init__()\n",
        "    self.lr = lr\n",
        "    self.num_classes = num_classes\n",
        "    self.net = nn.Sequential(\n",
        "        mod_nin_block(96, kernel_size=11, strides=4, padding=0),\n",
        "        nn.MaxPool2d(kernel_size=3, stride=2),\n",
        "        mod_nin_block(256, kernel_size=5, strides=1, padding=2),\n",
        "        nn.MaxPool2d(kernel_size=3, stride=2),\n",
        "        mod_nin_block(384, kernel_size=3, strides=1, padding=2),\n",
        "        nn.MaxPool2d(kernel_size=3, stride=2),\n",
        "        nn.Dropout(p=0.5),\n",
        "        mod_nin_block(num_classes, kernel_size=3, strides=1, padding=1),\n",
        "        nn.AdaptiveAvgPool2d((1, 1)),\n",
        "        nn.Flatten()\n",
        "    )\n",
        "\n",
        "  def forward(self, X):\n",
        "    return self.net(X)\n",
        "\n",
        "  def apply_init(self, inputs, init=None):\n",
        "    self.forward(*inputs)\n",
        "    if init is not None:\n",
        "      self.net.apply(init)"
      ],
      "metadata": {
        "id": "aStIP0GZmO6F"
      },
      "execution_count": 75,
      "outputs": []
    },
    {
      "cell_type": "code",
      "source": [
        "model = NiN1(lr=0.1)\n",
        "data = FashionMNIST(batch_size=128)\n",
        "model.apply_init([next(iter(data.get_dataloader(True)))[0]], init=init_cnn)\n",
        "model = model.to(device)\n",
        "trainer = Trainer(num_epochs=10)\n",
        "trainer.fit(model, data)"
      ],
      "metadata": {
        "colab": {
          "base_uri": "https://localhost:8080/"
        },
        "id": "6XAV8T9MtczY",
        "outputId": "27eac36b-8a88-4933-9d70-e16787683741"
      },
      "execution_count": 80,
      "outputs": [
        {
          "output_type": "stream",
          "name": "stdout",
          "text": [
            "epoch : 1/10, step : 469/469, loss : 0.9384\n",
            "Finished Training in 53.07 seconds\n",
            "epoch : 2/10, step : 469/469, loss : 0.5674\n",
            "Finished Training in 107.48 seconds\n",
            "epoch : 3/10, step : 469/469, loss : 0.7406\n",
            "Finished Training in 160.22 seconds\n",
            "epoch : 4/10, step : 469/469, loss : 0.5877\n",
            "Finished Training in 212.97 seconds\n",
            "epoch : 5/10, step : 469/469, loss : 0.4590\n",
            "Finished Training in 265.88 seconds\n",
            "epoch : 6/10, step : 469/469, loss : 0.7563\n",
            "Finished Training in 319.31 seconds\n",
            "epoch : 7/10, step : 469/469, loss : 0.4786\n",
            "Finished Training in 371.98 seconds\n",
            "epoch : 8/10, step : 469/469, loss : 0.5778\n",
            "Finished Training in 424.74 seconds\n",
            "epoch : 9/10, step : 469/469, loss : 0.6461\n",
            "Finished Training in 477.32 seconds\n",
            "epoch : 10/10, step : 469/469, loss : 0.4189\n",
            "Finished Training in 530.39 seconds\n"
          ]
        }
      ]
    },
    {
      "cell_type": "code",
      "source": [
        "import matplotlib.pyplot as plt\n",
        "from matplotlib import rcParams, cycler\n",
        "\n",
        "rcParams['figure.figsize'] = 16, 8\n",
        "rcParams['lines.linewidth'] = 2.5\n",
        "rcParams['axes.prop_cycle'] = cycler(color = ['#424242'])\n",
        "rcParams['xtick.labelsize'] = 'xx-large'\n",
        "rcParams['ytick.labelsize'] = 'xx-large'"
      ],
      "metadata": {
        "id": "xVzZofiEtsvE"
      },
      "execution_count": 60,
      "outputs": []
    },
    {
      "cell_type": "code",
      "source": [
        "plt.plot(list(range(trainer.num_epochs)), trainer.train_loss, 'b-', label='training_loss')\n",
        "plt.grid()\n",
        "plt.legend();"
      ],
      "metadata": {
        "colab": {
          "base_uri": "https://localhost:8080/",
          "height": 579
        },
        "id": "Bt1V86tbt0vC",
        "outputId": "878afc34-4cac-48b1-886d-f9a6b6241967"
      },
      "execution_count": 77,
      "outputs": [
        {
          "output_type": "stream",
          "name": "stderr",
          "text": [
            "/usr/local/lib/python3.8/dist-packages/numpy/core/shape_base.py:65: FutureWarning: The input object of type 'Tensor' is an array-like implementing one of the corresponding protocols (`__array__`, `__array_interface__` or `__array_struct__`); but not a sequence (or 0-D). In the future, this object will be coerced as if it was first converted using `np.array(obj)`. To retain the old behaviour, you have to either modify the type 'Tensor', or assign to an empty array created with `np.empty(correct_shape, dtype=object)`.\n",
            "  ary = asanyarray(ary)\n",
            "/usr/local/lib/python3.8/dist-packages/numpy/core/shape_base.py:65: VisibleDeprecationWarning: Creating an ndarray from ragged nested sequences (which is a list-or-tuple of lists-or-tuples-or ndarrays with different lengths or shapes) is deprecated. If you meant to do this, you must specify 'dtype=object' when creating the ndarray.\n",
            "  ary = asanyarray(ary)\n"
          ]
        },
        {
          "output_type": "display_data",
          "data": {
            "text/plain": [
              "<Figure size 1152x576 with 1 Axes>"
            ],
            "image/png": "[encoded data removed]"
          },
          "metadata": {
            "needs_background": "light"
          }
        }
      ]
    },
    {
      "cell_type": "code",
      "source": [
        "plt.plot(list(range(trainer.num_epochs)), trainer.val_acc, 'g-', label='validation_accuracy')\n",
        "plt.grid()\n",
        "plt.legend();"
      ],
      "metadata": {
        "colab": {
          "base_uri": "https://localhost:8080/",
          "height": 491
        },
        "id": "_WJCOq_OzrQi",
        "outputId": "876bea73-f115-4dab-98f1-ac3b03f3674a"
      },
      "execution_count": 81,
      "outputs": [
        {
          "output_type": "display_data",
          "data": {
            "text/plain": [
              "<Figure size 1152x576 with 1 Axes>"
            ],
            "image/png": "[encoded data removed]"
          },
          "metadata": {
            "needs_background": "light"
          }
        }
      ]
    },
    {
      "cell_type": "code",
      "source": [
        "trainer.val_acc[-1]"
      ],
      "metadata": {
        "colab": {
          "base_uri": "https://localhost:8080/"
        },
        "id": "beukjvPcz6sy",
        "outputId": "80a2cc5a-4ced-400e-b62f-509f75fd00ba"
      },
      "execution_count": 82,
      "outputs": [
        {
          "output_type": "execute_result",
          "data": {
            "text/plain": [
              "82.95"
            ]
          },
          "metadata": {},
          "execution_count": 82
        }
      ]
    },
    {
      "cell_type": "markdown",
      "source": [
        "### Q2 : \n",
        "\n",
        "replacing 1x1 convs with 3x3 convs:\n",
        "\n",
        "- 3x3 convs, 3 layers : 79.92%\n",
        "- 3x3 convs, 2 layers : 86.27%"
      ],
      "metadata": {
        "id": "Chjuv8pr8H8u"
      }
    },
    {
      "cell_type": "code",
      "source": [
        "def mod_nin_block(out_channels, kernel_size, strides, padding):\n",
        "  return nn.Sequential(\n",
        "      nn.LazyConv2d(out_channels, kernel_size, strides, padding), nn.ReLU(),\n",
        "      nn.LazyConv2d(out_channels, kernel_size=3, padding=1), nn.ReLU(),\n",
        "      nn.LazyConv2d(out_channels, kernel_size=3, padding=1), nn.ReLU()\n",
        "  )"
      ],
      "metadata": {
        "id": "HfYTECMd0AHj"
      },
      "execution_count": 90,
      "outputs": []
    },
    {
      "cell_type": "code",
      "source": [
        "class NiN1(nn.Module):\n",
        "\n",
        "  def __init__(self, lr=0.01, num_classes=10):\n",
        "    super().__init__()\n",
        "    self.lr = lr\n",
        "    self.num_classes = num_classes\n",
        "    self.net = nn.Sequential(\n",
        "        mod_nin_block(96, kernel_size=11, strides=4, padding=0),\n",
        "        nn.MaxPool2d(kernel_size=3, stride=2),\n",
        "        mod_nin_block(256, kernel_size=5, strides=1, padding=2),\n",
        "        nn.MaxPool2d(kernel_size=3, stride=2),\n",
        "        mod_nin_block(384, kernel_size=3, strides=1, padding=2),\n",
        "        nn.MaxPool2d(kernel_size=3, stride=2),\n",
        "        nn.Dropout(p=0.5),\n",
        "        mod_nin_block(num_classes, kernel_size=3, strides=1, padding=1),\n",
        "        nn.AdaptiveAvgPool2d((1, 1)),\n",
        "        nn.Flatten()\n",
        "    )\n",
        "\n",
        "  def forward(self, X):\n",
        "    return self.net(X)\n",
        "\n",
        "  def apply_init(self, inputs, init=None):\n",
        "    self.forward(*inputs)\n",
        "    if init is not None:\n",
        "      self.net.apply(init)"
      ],
      "metadata": {
        "id": "0l9PXCA28SwV"
      },
      "execution_count": 91,
      "outputs": []
    },
    {
      "cell_type": "code",
      "source": [
        "model = NiN1(lr=0.05)\n",
        "data = FashionMNIST(batch_size=128)\n",
        "model.apply_init([next(iter(data.get_dataloader(True)))[0]], init=init_cnn)\n",
        "model = model.to(device)\n",
        "trainer = Trainer(num_epochs=10)\n",
        "trainer.fit(model, data)"
      ],
      "metadata": {
        "colab": {
          "base_uri": "https://localhost:8080/"
        },
        "id": "UCaqvChR8bJV",
        "outputId": "e13c1efb-a1bd-48e1-a6c0-6154db6f143b"
      },
      "execution_count": 92,
      "outputs": [
        {
          "output_type": "stream",
          "name": "stderr",
          "text": [
            "/usr/local/lib/python3.8/dist-packages/torch/nn/modules/lazy.py:180: UserWarning: Lazy modules are a new feature under heavy development so changes to the API or functionality can happen at any moment.\n",
            "  warnings.warn('Lazy modules are a new feature under heavy development '\n"
          ]
        },
        {
          "output_type": "stream",
          "name": "stdout",
          "text": [
            "epoch : 1/10, step : 469/469, loss : 2.3025\n",
            "Finished Training in 138.87 seconds\n",
            "epoch : 2/10, step : 469/469, loss : 2.1874\n",
            "Finished Training in 276.57 seconds\n",
            "epoch : 3/10, step : 469/469, loss : 1.4244\n",
            "Finished Training in 413.76 seconds\n",
            "epoch : 4/10, step : 469/469, loss : 1.0095\n",
            "Finished Training in 551.85 seconds\n",
            "epoch : 5/10, step : 469/469, loss : 0.7383\n",
            "Finished Training in 689.95 seconds\n",
            "epoch : 6/10, step : 469/469, loss : 0.5331\n",
            "Finished Training in 828.27 seconds\n",
            "epoch : 7/10, step : 469/469, loss : 0.4338\n",
            "Finished Training in 966.65 seconds\n",
            "epoch : 8/10, step : 469/469, loss : 0.3103\n",
            "Finished Training in 1105.02 seconds\n",
            "epoch : 9/10, step : 469/469, loss : 0.3681\n",
            "Finished Training in 1243.49 seconds\n",
            "epoch : 10/10, step : 469/469, loss : 0.2568\n",
            "Finished Training in 1382.03 seconds\n"
          ]
        }
      ]
    },
    {
      "cell_type": "code",
      "source": [
        "plt.plot(list(range(trainer.num_epochs)), trainer.val_acc, 'g-', label='validation_accuracy')\n",
        "plt.grid()\n",
        "plt.legend();"
      ],
      "metadata": {
        "colab": {
          "base_uri": "https://localhost:8080/",
          "height": 497
        },
        "id": "5THALALG8dTf",
        "outputId": "063c5f10-3f52-4abe-fa2a-74f4f20dc054"
      },
      "execution_count": 93,
      "outputs": [
        {
          "output_type": "display_data",
          "data": {
            "text/plain": [
              "<Figure size 1152x576 with 1 Axes>"
            ],
            "image/png": "[encoded data removed]"
          },
          "metadata": {
            "needs_background": "light"
          }
        }
      ]
    },
    {
      "cell_type": "code",
      "source": [
        "trainer.val_acc[9]"
      ],
      "metadata": {
        "colab": {
          "base_uri": "https://localhost:8080/"
        },
        "id": "7Ehv1hZ7HmFm",
        "outputId": "aa531211-c3db-449f-fea2-50da3c46e322"
      },
      "execution_count": 94,
      "outputs": [
        {
          "output_type": "execute_result",
          "data": {
            "text/plain": [
              "86.27"
            ]
          },
          "metadata": {},
          "execution_count": 94
        }
      ]
    }
  ]
}