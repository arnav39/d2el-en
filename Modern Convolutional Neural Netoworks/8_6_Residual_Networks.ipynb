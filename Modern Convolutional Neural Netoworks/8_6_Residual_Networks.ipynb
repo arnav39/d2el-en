{
  "nbformat": 4,
  "nbformat_minor": 0,
  "metadata": {
    "colab": {
      "provenance": [],
      "authorship_tag": "ABX9TyMgl1YcdpB7im5EsiRdLnlq",
      "include_colab_link": true
    },
    "kernelspec": {
      "name": "python3",
      "display_name": "Python 3"
    },
    "language_info": {
      "name": "python"
    },
    "accelerator": "GPU",
    "gpuClass": "standard",
    "widgets": {
      "application/vnd.jupyter.widget-state+json": {
        "976f917f376b4b1184d83b65e822024c": {
          "model_module": "@jupyter-widgets/controls",
          "model_name": "HBoxModel",
          "model_module_version": "1.5.0",
          "state": {
            "_dom_classes": [],
            "_model_module": "@jupyter-widgets/controls",
            "_model_module_version": "1.5.0",
            "_model_name": "HBoxModel",
            "_view_count": null,
            "_view_module": "@jupyter-widgets/controls",
            "_view_module_version": "1.5.0",
            "_view_name": "HBoxView",
            "box_style": "",
            "children": [
              "IPY_MODEL_69ba0bbf65534361b5543ad6ccf6701a",
              "IPY_MODEL_c7275293b05a4f2195f861b6ca18d54a",
              "IPY_MODEL_5a15acc7352743578e17c1d9a68cc9b5"
            ],
            "layout": "IPY_MODEL_3000972edb60446282ee654dd73e6db1"
          }
        },
        "69ba0bbf65534361b5543ad6ccf6701a": {
          "model_module": "@jupyter-widgets/controls",
          "model_name": "HTMLModel",
          "model_module_version": "1.5.0",
          "state": {
            "_dom_classes": [],
            "_model_module": "@jupyter-widgets/controls",
            "_model_module_version": "1.5.0",
            "_model_name": "HTMLModel",
            "_view_count": null,
            "_view_module": "@jupyter-widgets/controls",
            "_view_module_version": "1.5.0",
            "_view_name": "HTMLView",
            "description": "",
            "description_tooltip": null,
            "layout": "IPY_MODEL_64b6740d63dd4c9fab04cc83698853fe",
            "placeholder": "​",
            "style": "IPY_MODEL_4b22880e9c5a4795b47c4787de9ff801",
            "value": "100%"
          }
        },
        "c7275293b05a4f2195f861b6ca18d54a": {
          "model_module": "@jupyter-widgets/controls",
          "model_name": "FloatProgressModel",
          "model_module_version": "1.5.0",
          "state": {
            "_dom_classes": [],
            "_model_module": "@jupyter-widgets/controls",
            "_model_module_version": "1.5.0",
            "_model_name": "FloatProgressModel",
            "_view_count": null,
            "_view_module": "@jupyter-widgets/controls",
            "_view_module_version": "1.5.0",
            "_view_name": "ProgressView",
            "bar_style": "success",
            "description": "",
            "description_tooltip": null,
            "layout": "IPY_MODEL_a2a72a8d68184f3bb2d1bbae63f9376d",
            "max": 26421880,
            "min": 0,
            "orientation": "horizontal",
            "style": "IPY_MODEL_ca62793783b141cdb64728789a8f44a0",
            "value": 26421880
          }
        },
        "5a15acc7352743578e17c1d9a68cc9b5": {
          "model_module": "@jupyter-widgets/controls",
          "model_name": "HTMLModel",
          "model_module_version": "1.5.0",
          "state": {
            "_dom_classes": [],
            "_model_module": "@jupyter-widgets/controls",
            "_model_module_version": "1.5.0",
            "_model_name": "HTMLModel",
            "_view_count": null,
            "_view_module": "@jupyter-widgets/controls",
            "_view_module_version": "1.5.0",
            "_view_name": "HTMLView",
            "description": "",
            "description_tooltip": null,
            "layout": "IPY_MODEL_8084b9927d1e47d78178a61b65241b44",
            "placeholder": "​",
            "style": "IPY_MODEL_d22ac197a2d64433877349e16cf04ff6",
            "value": " 26421880/26421880 [00:03&lt;00:00, 13241875.60it/s]"
          }
        },
        "3000972edb60446282ee654dd73e6db1": {
          "model_module": "@jupyter-widgets/base",
          "model_name": "LayoutModel",
          "model_module_version": "1.2.0",
          "state": {
            "_model_module": "@jupyter-widgets/base",
            "_model_module_version": "1.2.0",
            "_model_name": "LayoutModel",
            "_view_count": null,
            "_view_module": "@jupyter-widgets/base",
            "_view_module_version": "1.2.0",
            "_view_name": "LayoutView",
            "align_content": null,
            "align_items": null,
            "align_self": null,
            "border": null,
            "bottom": null,
            "display": null,
            "flex": null,
            "flex_flow": null,
            "grid_area": null,
            "grid_auto_columns": null,
            "grid_auto_flow": null,
            "grid_auto_rows": null,
            "grid_column": null,
            "grid_gap": null,
            "grid_row": null,
            "grid_template_areas": null,
            "grid_template_columns": null,
            "grid_template_rows": null,
            "height": null,
            "justify_content": null,
            "justify_items": null,
            "left": null,
            "margin": null,
            "max_height": null,
            "max_width": null,
            "min_height": null,
            "min_width": null,
            "object_fit": null,
            "object_position": null,
            "order": null,
            "overflow": null,
            "overflow_x": null,
            "overflow_y": null,
            "padding": null,
            "right": null,
            "top": null,
            "visibility": null,
            "width": null
          }
        },
        "64b6740d63dd4c9fab04cc83698853fe": {
          "model_module": "@jupyter-widgets/base",
          "model_name": "LayoutModel",
          "model_module_version": "1.2.0",
          "state": {
            "_model_module": "@jupyter-widgets/base",
            "_model_module_version": "1.2.0",
            "_model_name": "LayoutModel",
            "_view_count": null,
            "_view_module": "@jupyter-widgets/base",
            "_view_module_version": "1.2.0",
            "_view_name": "LayoutView",
            "align_content": null,
            "align_items": null,
            "align_self": null,
            "border": null,
            "bottom": null,
            "display": null,
            "flex": null,
            "flex_flow": null,
            "grid_area": null,
            "grid_auto_columns": null,
            "grid_auto_flow": null,
            "grid_auto_rows": null,
            "grid_column": null,
            "grid_gap": null,
            "grid_row": null,
            "grid_template_areas": null,
            "grid_template_columns": null,
            "grid_template_rows": null,
            "height": null,
            "justify_content": null,
            "justify_items": null,
            "left": null,
            "margin": null,
            "max_height": null,
            "max_width": null,
            "min_height": null,
            "min_width": null,
            "object_fit": null,
            "object_position": null,
            "order": null,
            "overflow": null,
            "overflow_x": null,
            "overflow_y": null,
            "padding": null,
            "right": null,
            "top": null,
            "visibility": null,
            "width": null
          }
        },
        "4b22880e9c5a4795b47c4787de9ff801": {
          "model_module": "@jupyter-widgets/controls",
          "model_name": "DescriptionStyleModel",
          "model_module_version": "1.5.0",
          "state": {
            "_model_module": "@jupyter-widgets/controls",
            "_model_module_version": "1.5.0",
            "_model_name": "DescriptionStyleModel",
            "_view_count": null,
            "_view_module": "@jupyter-widgets/base",
            "_view_module_version": "1.2.0",
            "_view_name": "StyleView",
            "description_width": ""
          }
        },
        "a2a72a8d68184f3bb2d1bbae63f9376d": {
          "model_module": "@jupyter-widgets/base",
          "model_name": "LayoutModel",
          "model_module_version": "1.2.0",
          "state": {
            "_model_module": "@jupyter-widgets/base",
            "_model_module_version": "1.2.0",
            "_model_name": "LayoutModel",
            "_view_count": null,
            "_view_module": "@jupyter-widgets/base",
            "_view_module_version": "1.2.0",
            "_view_name": "LayoutView",
            "align_content": null,
            "align_items": null,
            "align_self": null,
            "border": null,
            "bottom": null,
            "display": null,
            "flex": null,
            "flex_flow": null,
            "grid_area": null,
            "grid_auto_columns": null,
            "grid_auto_flow": null,
            "grid_auto_rows": null,
            "grid_column": null,
            "grid_gap": null,
            "grid_row": null,
            "grid_template_areas": null,
            "grid_template_columns": null,
            "grid_template_rows": null,
            "height": null,
            "justify_content": null,
            "justify_items": null,
            "left": null,
            "margin": null,
            "max_height": null,
            "max_width": null,
            "min_height": null,
            "min_width": null,
            "object_fit": null,
            "object_position": null,
            "order": null,
            "overflow": null,
            "overflow_x": null,
            "overflow_y": null,
            "padding": null,
            "right": null,
            "top": null,
            "visibility": null,
            "width": null
          }
        },
        "ca62793783b141cdb64728789a8f44a0": {
          "model_module": "@jupyter-widgets/controls",
          "model_name": "ProgressStyleModel",
          "model_module_version": "1.5.0",
          "state": {
            "_model_module": "@jupyter-widgets/controls",
            "_model_module_version": "1.5.0",
            "_model_name": "ProgressStyleModel",
            "_view_count": null,
            "_view_module": "@jupyter-widgets/base",
            "_view_module_version": "1.2.0",
            "_view_name": "StyleView",
            "bar_color": null,
            "description_width": ""
          }
        },
        "8084b9927d1e47d78178a61b65241b44": {
          "model_module": "@jupyter-widgets/base",
          "model_name": "LayoutModel",
          "model_module_version": "1.2.0",
          "state": {
            "_model_module": "@jupyter-widgets/base",
            "_model_module_version": "1.2.0",
            "_model_name": "LayoutModel",
            "_view_count": null,
            "_view_module": "@jupyter-widgets/base",
            "_view_module_version": "1.2.0",
            "_view_name": "LayoutView",
            "align_content": null,
            "align_items": null,
            "align_self": null,
            "border": null,
            "bottom": null,
            "display": null,
            "flex": null,
            "flex_flow": null,
            "grid_area": null,
            "grid_auto_columns": null,
            "grid_auto_flow": null,
            "grid_auto_rows": null,
            "grid_column": null,
            "grid_gap": null,
            "grid_row": null,
            "grid_template_areas": null,
            "grid_template_columns": null,
            "grid_template_rows": null,
            "height": null,
            "justify_content": null,
            "justify_items": null,
            "left": null,
            "margin": null,
            "max_height": null,
            "max_width": null,
            "min_height": null,
            "min_width": null,
            "object_fit": null,
            "object_position": null,
            "order": null,
            "overflow": null,
            "overflow_x": null,
            "overflow_y": null,
            "padding": null,
            "right": null,
            "top": null,
            "visibility": null,
            "width": null
          }
        },
        "d22ac197a2d64433877349e16cf04ff6": {
          "model_module": "@jupyter-widgets/controls",
          "model_name": "DescriptionStyleModel",
          "model_module_version": "1.5.0",
          "state": {
            "_model_module": "@jupyter-widgets/controls",
            "_model_module_version": "1.5.0",
            "_model_name": "DescriptionStyleModel",
            "_view_count": null,
            "_view_module": "@jupyter-widgets/base",
            "_view_module_version": "1.2.0",
            "_view_name": "StyleView",
            "description_width": ""
          }
        },
        "5ef066578e3745f1b485f326790ea3d4": {
          "model_module": "@jupyter-widgets/controls",
          "model_name": "HBoxModel",
          "model_module_version": "1.5.0",
          "state": {
            "_dom_classes": [],
            "_model_module": "@jupyter-widgets/controls",
            "_model_module_version": "1.5.0",
            "_model_name": "HBoxModel",
            "_view_count": null,
            "_view_module": "@jupyter-widgets/controls",
            "_view_module_version": "1.5.0",
            "_view_name": "HBoxView",
            "box_style": "",
            "children": [
              "IPY_MODEL_c23ac35ccbde40cbba52011c8c0ae817",
              "IPY_MODEL_bf8d97b92d3449e4b513890e39b6414f",
              "IPY_MODEL_de7cc8380da648ab83aafb1c8702ce28"
            ],
            "layout": "IPY_MODEL_c3b24a37115040649091ac8af19df168"
          }
        },
        "c23ac35ccbde40cbba52011c8c0ae817": {
          "model_module": "@jupyter-widgets/controls",
          "model_name": "HTMLModel",
          "model_module_version": "1.5.0",
          "state": {
            "_dom_classes": [],
            "_model_module": "@jupyter-widgets/controls",
            "_model_module_version": "1.5.0",
            "_model_name": "HTMLModel",
            "_view_count": null,
            "_view_module": "@jupyter-widgets/controls",
            "_view_module_version": "1.5.0",
            "_view_name": "HTMLView",
            "description": "",
            "description_tooltip": null,
            "layout": "IPY_MODEL_8ea98c368cfd4e988014a373a7d0c945",
            "placeholder": "​",
            "style": "IPY_MODEL_f1dafe60975b4437b3643cfcf7cb01fc",
            "value": "100%"
          }
        },
        "bf8d97b92d3449e4b513890e39b6414f": {
          "model_module": "@jupyter-widgets/controls",
          "model_name": "FloatProgressModel",
          "model_module_version": "1.5.0",
          "state": {
            "_dom_classes": [],
            "_model_module": "@jupyter-widgets/controls",
            "_model_module_version": "1.5.0",
            "_model_name": "FloatProgressModel",
            "_view_count": null,
            "_view_module": "@jupyter-widgets/controls",
            "_view_module_version": "1.5.0",
            "_view_name": "ProgressView",
            "bar_style": "success",
            "description": "",
            "description_tooltip": null,
            "layout": "IPY_MODEL_0ac6419beb5f481a810c4d719cc4eac0",
            "max": 29515,
            "min": 0,
            "orientation": "horizontal",
            "style": "IPY_MODEL_3984b72580e94d0bae189db30d4dfa23",
            "value": 29515
          }
        },
        "de7cc8380da648ab83aafb1c8702ce28": {
          "model_module": "@jupyter-widgets/controls",
          "model_name": "HTMLModel",
          "model_module_version": "1.5.0",
          "state": {
            "_dom_classes": [],
            "_model_module": "@jupyter-widgets/controls",
            "_model_module_version": "1.5.0",
            "_model_name": "HTMLModel",
            "_view_count": null,
            "_view_module": "@jupyter-widgets/controls",
            "_view_module_version": "1.5.0",
            "_view_name": "HTMLView",
            "description": "",
            "description_tooltip": null,
            "layout": "IPY_MODEL_d2f647be42a8428185b213fd3fced202",
            "placeholder": "​",
            "style": "IPY_MODEL_c21324006e7d453db46980b4ed4fc1db",
            "value": " 29515/29515 [00:00&lt;00:00, 144481.28it/s]"
          }
        },
        "c3b24a37115040649091ac8af19df168": {
          "model_module": "@jupyter-widgets/base",
          "model_name": "LayoutModel",
          "model_module_version": "1.2.0",
          "state": {
            "_model_module": "@jupyter-widgets/base",
            "_model_module_version": "1.2.0",
            "_model_name": "LayoutModel",
            "_view_count": null,
            "_view_module": "@jupyter-widgets/base",
            "_view_module_version": "1.2.0",
            "_view_name": "LayoutView",
            "align_content": null,
            "align_items": null,
            "align_self": null,
            "border": null,
            "bottom": null,
            "display": null,
            "flex": null,
            "flex_flow": null,
            "grid_area": null,
            "grid_auto_columns": null,
            "grid_auto_flow": null,
            "grid_auto_rows": null,
            "grid_column": null,
            "grid_gap": null,
            "grid_row": null,
            "grid_template_areas": null,
            "grid_template_columns": null,
            "grid_template_rows": null,
            "height": null,
            "justify_content": null,
            "justify_items": null,
            "left": null,
            "margin": null,
            "max_height": null,
            "max_width": null,
            "min_height": null,
            "min_width": null,
            "object_fit": null,
            "object_position": null,
            "order": null,
            "overflow": null,
            "overflow_x": null,
            "overflow_y": null,
            "padding": null,
            "right": null,
            "top": null,
            "visibility": null,
            "width": null
          }
        },
        "8ea98c368cfd4e988014a373a7d0c945": {
          "model_module": "@jupyter-widgets/base",
          "model_name": "LayoutModel",
          "model_module_version": "1.2.0",
          "state": {
            "_model_module": "@jupyter-widgets/base",
            "_model_module_version": "1.2.0",
            "_model_name": "LayoutModel",
            "_view_count": null,
            "_view_module": "@jupyter-widgets/base",
            "_view_module_version": "1.2.0",
            "_view_name": "LayoutView",
            "align_content": null,
            "align_items": null,
            "align_self": null,
            "border": null,
            "bottom": null,
            "display": null,
            "flex": null,
            "flex_flow": null,
            "grid_area": null,
            "grid_auto_columns": null,
            "grid_auto_flow": null,
            "grid_auto_rows": null,
            "grid_column": null,
            "grid_gap": null,
            "grid_row": null,
            "grid_template_areas": null,
            "grid_template_columns": null,
            "grid_template_rows": null,
            "height": null,
            "justify_content": null,
            "justify_items": null,
            "left": null,
            "margin": null,
            "max_height": null,
            "max_width": null,
            "min_height": null,
            "min_width": null,
            "object_fit": null,
            "object_position": null,
            "order": null,
            "overflow": null,
            "overflow_x": null,
            "overflow_y": null,
            "padding": null,
            "right": null,
            "top": null,
            "visibility": null,
            "width": null
          }
        },
        "f1dafe60975b4437b3643cfcf7cb01fc": {
          "model_module": "@jupyter-widgets/controls",
          "model_name": "DescriptionStyleModel",
          "model_module_version": "1.5.0",
          "state": {
            "_model_module": "@jupyter-widgets/controls",
            "_model_module_version": "1.5.0",
            "_model_name": "DescriptionStyleModel",
            "_view_count": null,
            "_view_module": "@jupyter-widgets/base",
            "_view_module_version": "1.2.0",
            "_view_name": "StyleView",
            "description_width": ""
          }
        },
        "0ac6419beb5f481a810c4d719cc4eac0": {
          "model_module": "@jupyter-widgets/base",
          "model_name": "LayoutModel",
          "model_module_version": "1.2.0",
          "state": {
            "_model_module": "@jupyter-widgets/base",
            "_model_module_version": "1.2.0",
            "_model_name": "LayoutModel",
            "_view_count": null,
            "_view_module": "@jupyter-widgets/base",
            "_view_module_version": "1.2.0",
            "_view_name": "LayoutView",
            "align_content": null,
            "align_items": null,
            "align_self": null,
            "border": null,
            "bottom": null,
            "display": null,
            "flex": null,
            "flex_flow": null,
            "grid_area": null,
            "grid_auto_columns": null,
            "grid_auto_flow": null,
            "grid_auto_rows": null,
            "grid_column": null,
            "grid_gap": null,
            "grid_row": null,
            "grid_template_areas": null,
            "grid_template_columns": null,
            "grid_template_rows": null,
            "height": null,
            "justify_content": null,
            "justify_items": null,
            "left": null,
            "margin": null,
            "max_height": null,
            "max_width": null,
            "min_height": null,
            "min_width": null,
            "object_fit": null,
            "object_position": null,
            "order": null,
            "overflow": null,
            "overflow_x": null,
            "overflow_y": null,
            "padding": null,
            "right": null,
            "top": null,
            "visibility": null,
            "width": null
          }
        },
        "3984b72580e94d0bae189db30d4dfa23": {
          "model_module": "@jupyter-widgets/controls",
          "model_name": "ProgressStyleModel",
          "model_module_version": "1.5.0",
          "state": {
            "_model_module": "@jupyter-widgets/controls",
            "_model_module_version": "1.5.0",
            "_model_name": "ProgressStyleModel",
            "_view_count": null,
            "_view_module": "@jupyter-widgets/base",
            "_view_module_version": "1.2.0",
            "_view_name": "StyleView",
            "bar_color": null,
            "description_width": ""
          }
        },
        "d2f647be42a8428185b213fd3fced202": {
          "model_module": "@jupyter-widgets/base",
          "model_name": "LayoutModel",
          "model_module_version": "1.2.0",
          "state": {
            "_model_module": "@jupyter-widgets/base",
            "_model_module_version": "1.2.0",
            "_model_name": "LayoutModel",
            "_view_count": null,
            "_view_module": "@jupyter-widgets/base",
            "_view_module_version": "1.2.0",
            "_view_name": "LayoutView",
            "align_content": null,
            "align_items": null,
            "align_self": null,
            "border": null,
            "bottom": null,
            "display": null,
            "flex": null,
            "flex_flow": null,
            "grid_area": null,
            "grid_auto_columns": null,
            "grid_auto_flow": null,
            "grid_auto_rows": null,
            "grid_column": null,
            "grid_gap": null,
            "grid_row": null,
            "grid_template_areas": null,
            "grid_template_columns": null,
            "grid_template_rows": null,
            "height": null,
            "justify_content": null,
            "justify_items": null,
            "left": null,
            "margin": null,
            "max_height": null,
            "max_width": null,
            "min_height": null,
            "min_width": null,
            "object_fit": null,
            "object_position": null,
            "order": null,
            "overflow": null,
            "overflow_x": null,
            "overflow_y": null,
            "padding": null,
            "right": null,
            "top": null,
            "visibility": null,
            "width": null
          }
        },
        "c21324006e7d453db46980b4ed4fc1db": {
          "model_module": "@jupyter-widgets/controls",
          "model_name": "DescriptionStyleModel",
          "model_module_version": "1.5.0",
          "state": {
            "_model_module": "@jupyter-widgets/controls",
            "_model_module_version": "1.5.0",
            "_model_name": "DescriptionStyleModel",
            "_view_count": null,
            "_view_module": "@jupyter-widgets/base",
            "_view_module_version": "1.2.0",
            "_view_name": "StyleView",
            "description_width": ""
          }
        },
        "1c6898c062724a24826cc84c982cfb3d": {
          "model_module": "@jupyter-widgets/controls",
          "model_name": "HBoxModel",
          "model_module_version": "1.5.0",
          "state": {
            "_dom_classes": [],
            "_model_module": "@jupyter-widgets/controls",
            "_model_module_version": "1.5.0",
            "_model_name": "HBoxModel",
            "_view_count": null,
            "_view_module": "@jupyter-widgets/controls",
            "_view_module_version": "1.5.0",
            "_view_name": "HBoxView",
            "box_style": "",
            "children": [
              "IPY_MODEL_0c711c87b37b4fc19355fedd4688c693",
              "IPY_MODEL_bfdb6bfd813e42b2aadb6db7d2c47d0b",
              "IPY_MODEL_cc65fa27ad914cf0a6e06660c9403e77"
            ],
            "layout": "IPY_MODEL_c514705a58ef4eef92b2e4cae879e74a"
          }
        },
        "0c711c87b37b4fc19355fedd4688c693": {
          "model_module": "@jupyter-widgets/controls",
          "model_name": "HTMLModel",
          "model_module_version": "1.5.0",
          "state": {
            "_dom_classes": [],
            "_model_module": "@jupyter-widgets/controls",
            "_model_module_version": "1.5.0",
            "_model_name": "HTMLModel",
            "_view_count": null,
            "_view_module": "@jupyter-widgets/controls",
            "_view_module_version": "1.5.0",
            "_view_name": "HTMLView",
            "description": "",
            "description_tooltip": null,
            "layout": "IPY_MODEL_64dc20edd64f48bda6ed57983b89ea6f",
            "placeholder": "​",
            "style": "IPY_MODEL_99f6e17d6b7740a5b4dab2aa9f5d5a4e",
            "value": "100%"
          }
        },
        "bfdb6bfd813e42b2aadb6db7d2c47d0b": {
          "model_module": "@jupyter-widgets/controls",
          "model_name": "FloatProgressModel",
          "model_module_version": "1.5.0",
          "state": {
            "_dom_classes": [],
            "_model_module": "@jupyter-widgets/controls",
            "_model_module_version": "1.5.0",
            "_model_name": "FloatProgressModel",
            "_view_count": null,
            "_view_module": "@jupyter-widgets/controls",
            "_view_module_version": "1.5.0",
            "_view_name": "ProgressView",
            "bar_style": "success",
            "description": "",
            "description_tooltip": null,
            "layout": "IPY_MODEL_23f2e57cd6534af58ca64ac73ab2e030",
            "max": 4422102,
            "min": 0,
            "orientation": "horizontal",
            "style": "IPY_MODEL_2870a92534fb4b9894124818d2d504ea",
            "value": 4422102
          }
        },
        "cc65fa27ad914cf0a6e06660c9403e77": {
          "model_module": "@jupyter-widgets/controls",
          "model_name": "HTMLModel",
          "model_module_version": "1.5.0",
          "state": {
            "_dom_classes": [],
            "_model_module": "@jupyter-widgets/controls",
            "_model_module_version": "1.5.0",
            "_model_name": "HTMLModel",
            "_view_count": null,
            "_view_module": "@jupyter-widgets/controls",
            "_view_module_version": "1.5.0",
            "_view_name": "HTMLView",
            "description": "",
            "description_tooltip": null,
            "layout": "IPY_MODEL_88cde094d38749d98898740972b89aff",
            "placeholder": "​",
            "style": "IPY_MODEL_d887fcb384254e76a438eef26acdb6bc",
            "value": " 4422102/4422102 [00:01&lt;00:00, 4553460.78it/s]"
          }
        },
        "c514705a58ef4eef92b2e4cae879e74a": {
          "model_module": "@jupyter-widgets/base",
          "model_name": "LayoutModel",
          "model_module_version": "1.2.0",
          "state": {
            "_model_module": "@jupyter-widgets/base",
            "_model_module_version": "1.2.0",
            "_model_name": "LayoutModel",
            "_view_count": null,
            "_view_module": "@jupyter-widgets/base",
            "_view_module_version": "1.2.0",
            "_view_name": "LayoutView",
            "align_content": null,
            "align_items": null,
            "align_self": null,
            "border": null,
            "bottom": null,
            "display": null,
            "flex": null,
            "flex_flow": null,
            "grid_area": null,
            "grid_auto_columns": null,
            "grid_auto_flow": null,
            "grid_auto_rows": null,
            "grid_column": null,
            "grid_gap": null,
            "grid_row": null,
            "grid_template_areas": null,
            "grid_template_columns": null,
            "grid_template_rows": null,
            "height": null,
            "justify_content": null,
            "justify_items": null,
            "left": null,
            "margin": null,
            "max_height": null,
            "max_width": null,
            "min_height": null,
            "min_width": null,
            "object_fit": null,
            "object_position": null,
            "order": null,
            "overflow": null,
            "overflow_x": null,
            "overflow_y": null,
            "padding": null,
            "right": null,
            "top": null,
            "visibility": null,
            "width": null
          }
        },
        "64dc20edd64f48bda6ed57983b89ea6f": {
          "model_module": "@jupyter-widgets/base",
          "model_name": "LayoutModel",
          "model_module_version": "1.2.0",
          "state": {
            "_model_module": "@jupyter-widgets/base",
            "_model_module_version": "1.2.0",
            "_model_name": "LayoutModel",
            "_view_count": null,
            "_view_module": "@jupyter-widgets/base",
            "_view_module_version": "1.2.0",
            "_view_name": "LayoutView",
            "align_content": null,
            "align_items": null,
            "align_self": null,
            "border": null,
            "bottom": null,
            "display": null,
            "flex": null,
            "flex_flow": null,
            "grid_area": null,
            "grid_auto_columns": null,
            "grid_auto_flow": null,
            "grid_auto_rows": null,
            "grid_column": null,
            "grid_gap": null,
            "grid_row": null,
            "grid_template_areas": null,
            "grid_template_columns": null,
            "grid_template_rows": null,
            "height": null,
            "justify_content": null,
            "justify_items": null,
            "left": null,
            "margin": null,
            "max_height": null,
            "max_width": null,
            "min_height": null,
            "min_width": null,
            "object_fit": null,
            "object_position": null,
            "order": null,
            "overflow": null,
            "overflow_x": null,
            "overflow_y": null,
            "padding": null,
            "right": null,
            "top": null,
            "visibility": null,
            "width": null
          }
        },
        "99f6e17d6b7740a5b4dab2aa9f5d5a4e": {
          "model_module": "@jupyter-widgets/controls",
          "model_name": "DescriptionStyleModel",
          "model_module_version": "1.5.0",
          "state": {
            "_model_module": "@jupyter-widgets/controls",
            "_model_module_version": "1.5.0",
            "_model_name": "DescriptionStyleModel",
            "_view_count": null,
            "_view_module": "@jupyter-widgets/base",
            "_view_module_version": "1.2.0",
            "_view_name": "StyleView",
            "description_width": ""
          }
        },
        "23f2e57cd6534af58ca64ac73ab2e030": {
          "model_module": "@jupyter-widgets/base",
          "model_name": "LayoutModel",
          "model_module_version": "1.2.0",
          "state": {
            "_model_module": "@jupyter-widgets/base",
            "_model_module_version": "1.2.0",
            "_model_name": "LayoutModel",
            "_view_count": null,
            "_view_module": "@jupyter-widgets/base",
            "_view_module_version": "1.2.0",
            "_view_name": "LayoutView",
            "align_content": null,
            "align_items": null,
            "align_self": null,
            "border": null,
            "bottom": null,
            "display": null,
            "flex": null,
            "flex_flow": null,
            "grid_area": null,
            "grid_auto_columns": null,
            "grid_auto_flow": null,
            "grid_auto_rows": null,
            "grid_column": null,
            "grid_gap": null,
            "grid_row": null,
            "grid_template_areas": null,
            "grid_template_columns": null,
            "grid_template_rows": null,
            "height": null,
            "justify_content": null,
            "justify_items": null,
            "left": null,
            "margin": null,
            "max_height": null,
            "max_width": null,
            "min_height": null,
            "min_width": null,
            "object_fit": null,
            "object_position": null,
            "order": null,
            "overflow": null,
            "overflow_x": null,
            "overflow_y": null,
            "padding": null,
            "right": null,
            "top": null,
            "visibility": null,
            "width": null
          }
        },
        "2870a92534fb4b9894124818d2d504ea": {
          "model_module": "@jupyter-widgets/controls",
          "model_name": "ProgressStyleModel",
          "model_module_version": "1.5.0",
          "state": {
            "_model_module": "@jupyter-widgets/controls",
            "_model_module_version": "1.5.0",
            "_model_name": "ProgressStyleModel",
            "_view_count": null,
            "_view_module": "@jupyter-widgets/base",
            "_view_module_version": "1.2.0",
            "_view_name": "StyleView",
            "bar_color": null,
            "description_width": ""
          }
        },
        "88cde094d38749d98898740972b89aff": {
          "model_module": "@jupyter-widgets/base",
          "model_name": "LayoutModel",
          "model_module_version": "1.2.0",
          "state": {
            "_model_module": "@jupyter-widgets/base",
            "_model_module_version": "1.2.0",
            "_model_name": "LayoutModel",
            "_view_count": null,
            "_view_module": "@jupyter-widgets/base",
            "_view_module_version": "1.2.0",
            "_view_name": "LayoutView",
            "align_content": null,
            "align_items": null,
            "align_self": null,
            "border": null,
            "bottom": null,
            "display": null,
            "flex": null,
            "flex_flow": null,
            "grid_area": null,
            "grid_auto_columns": null,
            "grid_auto_flow": null,
            "grid_auto_rows": null,
            "grid_column": null,
            "grid_gap": null,
            "grid_row": null,
            "grid_template_areas": null,
            "grid_template_columns": null,
            "grid_template_rows": null,
            "height": null,
            "justify_content": null,
            "justify_items": null,
            "left": null,
            "margin": null,
            "max_height": null,
            "max_width": null,
            "min_height": null,
            "min_width": null,
            "object_fit": null,
            "object_position": null,
            "order": null,
            "overflow": null,
            "overflow_x": null,
            "overflow_y": null,
            "padding": null,
            "right": null,
            "top": null,
            "visibility": null,
            "width": null
          }
        },
        "d887fcb384254e76a438eef26acdb6bc": {
          "model_module": "@jupyter-widgets/controls",
          "model_name": "DescriptionStyleModel",
          "model_module_version": "1.5.0",
          "state": {
            "_model_module": "@jupyter-widgets/controls",
            "_model_module_version": "1.5.0",
            "_model_name": "DescriptionStyleModel",
            "_view_count": null,
            "_view_module": "@jupyter-widgets/base",
            "_view_module_version": "1.2.0",
            "_view_name": "StyleView",
            "description_width": ""
          }
        },
        "f1c12e4c200744a8b4e1cd505a502eec": {
          "model_module": "@jupyter-widgets/controls",
          "model_name": "HBoxModel",
          "model_module_version": "1.5.0",
          "state": {
            "_dom_classes": [],
            "_model_module": "@jupyter-widgets/controls",
            "_model_module_version": "1.5.0",
            "_model_name": "HBoxModel",
            "_view_count": null,
            "_view_module": "@jupyter-widgets/controls",
            "_view_module_version": "1.5.0",
            "_view_name": "HBoxView",
            "box_style": "",
            "children": [
              "IPY_MODEL_3b6d2898b95d43eabd43190816069d4a",
              "IPY_MODEL_1c473d34865e41138ff18626d16c06a4",
              "IPY_MODEL_3d0537e978b548c1a884a0e8eb06111c"
            ],
            "layout": "IPY_MODEL_d012aed456ec48c8b84b2ec625ed6208"
          }
        },
        "3b6d2898b95d43eabd43190816069d4a": {
          "model_module": "@jupyter-widgets/controls",
          "model_name": "HTMLModel",
          "model_module_version": "1.5.0",
          "state": {
            "_dom_classes": [],
            "_model_module": "@jupyter-widgets/controls",
            "_model_module_version": "1.5.0",
            "_model_name": "HTMLModel",
            "_view_count": null,
            "_view_module": "@jupyter-widgets/controls",
            "_view_module_version": "1.5.0",
            "_view_name": "HTMLView",
            "description": "",
            "description_tooltip": null,
            "layout": "IPY_MODEL_762ce41b9abf478ca3250cf81b179baf",
            "placeholder": "​",
            "style": "IPY_MODEL_3ec55ac025a949158c0626f9d20ca179",
            "value": "100%"
          }
        },
        "1c473d34865e41138ff18626d16c06a4": {
          "model_module": "@jupyter-widgets/controls",
          "model_name": "FloatProgressModel",
          "model_module_version": "1.5.0",
          "state": {
            "_dom_classes": [],
            "_model_module": "@jupyter-widgets/controls",
            "_model_module_version": "1.5.0",
            "_model_name": "FloatProgressModel",
            "_view_count": null,
            "_view_module": "@jupyter-widgets/controls",
            "_view_module_version": "1.5.0",
            "_view_name": "ProgressView",
            "bar_style": "success",
            "description": "",
            "description_tooltip": null,
            "layout": "IPY_MODEL_f3d7b06aa70646e39f630892bba3ba43",
            "max": 5148,
            "min": 0,
            "orientation": "horizontal",
            "style": "IPY_MODEL_d98917e97cac43e482424531c3f8aa71",
            "value": 5148
          }
        },
        "3d0537e978b548c1a884a0e8eb06111c": {
          "model_module": "@jupyter-widgets/controls",
          "model_name": "HTMLModel",
          "model_module_version": "1.5.0",
          "state": {
            "_dom_classes": [],
            "_model_module": "@jupyter-widgets/controls",
            "_model_module_version": "1.5.0",
            "_model_name": "HTMLModel",
            "_view_count": null,
            "_view_module": "@jupyter-widgets/controls",
            "_view_module_version": "1.5.0",
            "_view_name": "HTMLView",
            "description": "",
            "description_tooltip": null,
            "layout": "IPY_MODEL_988c32bc475e411cbab5f0580fd11e36",
            "placeholder": "​",
            "style": "IPY_MODEL_f6924a02c5e5489d86401ebd1bdd31fa",
            "value": " 5148/5148 [00:00&lt;00:00, 353849.94it/s]"
          }
        },
        "d012aed456ec48c8b84b2ec625ed6208": {
          "model_module": "@jupyter-widgets/base",
          "model_name": "LayoutModel",
          "model_module_version": "1.2.0",
          "state": {
            "_model_module": "@jupyter-widgets/base",
            "_model_module_version": "1.2.0",
            "_model_name": "LayoutModel",
            "_view_count": null,
            "_view_module": "@jupyter-widgets/base",
            "_view_module_version": "1.2.0",
            "_view_name": "LayoutView",
            "align_content": null,
            "align_items": null,
            "align_self": null,
            "border": null,
            "bottom": null,
            "display": null,
            "flex": null,
            "flex_flow": null,
            "grid_area": null,
            "grid_auto_columns": null,
            "grid_auto_flow": null,
            "grid_auto_rows": null,
            "grid_column": null,
            "grid_gap": null,
            "grid_row": null,
            "grid_template_areas": null,
            "grid_template_columns": null,
            "grid_template_rows": null,
            "height": null,
            "justify_content": null,
            "justify_items": null,
            "left": null,
            "margin": null,
            "max_height": null,
            "max_width": null,
            "min_height": null,
            "min_width": null,
            "object_fit": null,
            "object_position": null,
            "order": null,
            "overflow": null,
            "overflow_x": null,
            "overflow_y": null,
            "padding": null,
            "right": null,
            "top": null,
            "visibility": null,
            "width": null
          }
        },
        "762ce41b9abf478ca3250cf81b179baf": {
          "model_module": "@jupyter-widgets/base",
          "model_name": "LayoutModel",
          "model_module_version": "1.2.0",
          "state": {
            "_model_module": "@jupyter-widgets/base",
            "_model_module_version": "1.2.0",
            "_model_name": "LayoutModel",
            "_view_count": null,
            "_view_module": "@jupyter-widgets/base",
            "_view_module_version": "1.2.0",
            "_view_name": "LayoutView",
            "align_content": null,
            "align_items": null,
            "align_self": null,
            "border": null,
            "bottom": null,
            "display": null,
            "flex": null,
            "flex_flow": null,
            "grid_area": null,
            "grid_auto_columns": null,
            "grid_auto_flow": null,
            "grid_auto_rows": null,
            "grid_column": null,
            "grid_gap": null,
            "grid_row": null,
            "grid_template_areas": null,
            "grid_template_columns": null,
            "grid_template_rows": null,
            "height": null,
            "justify_content": null,
            "justify_items": null,
            "left": null,
            "margin": null,
            "max_height": null,
            "max_width": null,
            "min_height": null,
            "min_width": null,
            "object_fit": null,
            "object_position": null,
            "order": null,
            "overflow": null,
            "overflow_x": null,
            "overflow_y": null,
            "padding": null,
            "right": null,
            "top": null,
            "visibility": null,
            "width": null
          }
        },
        "3ec55ac025a949158c0626f9d20ca179": {
          "model_module": "@jupyter-widgets/controls",
          "model_name": "DescriptionStyleModel",
          "model_module_version": "1.5.0",
          "state": {
            "_model_module": "@jupyter-widgets/controls",
            "_model_module_version": "1.5.0",
            "_model_name": "DescriptionStyleModel",
            "_view_count": null,
            "_view_module": "@jupyter-widgets/base",
            "_view_module_version": "1.2.0",
            "_view_name": "StyleView",
            "description_width": ""
          }
        },
        "f3d7b06aa70646e39f630892bba3ba43": {
          "model_module": "@jupyter-widgets/base",
          "model_name": "LayoutModel",
          "model_module_version": "1.2.0",
          "state": {
            "_model_module": "@jupyter-widgets/base",
            "_model_module_version": "1.2.0",
            "_model_name": "LayoutModel",
            "_view_count": null,
            "_view_module": "@jupyter-widgets/base",
            "_view_module_version": "1.2.0",
            "_view_name": "LayoutView",
            "align_content": null,
            "align_items": null,
            "align_self": null,
            "border": null,
            "bottom": null,
            "display": null,
            "flex": null,
            "flex_flow": null,
            "grid_area": null,
            "grid_auto_columns": null,
            "grid_auto_flow": null,
            "grid_auto_rows": null,
            "grid_column": null,
            "grid_gap": null,
            "grid_row": null,
            "grid_template_areas": null,
            "grid_template_columns": null,
            "grid_template_rows": null,
            "height": null,
            "justify_content": null,
            "justify_items": null,
            "left": null,
            "margin": null,
            "max_height": null,
            "max_width": null,
            "min_height": null,
            "min_width": null,
            "object_fit": null,
            "object_position": null,
            "order": null,
            "overflow": null,
            "overflow_x": null,
            "overflow_y": null,
            "padding": null,
            "right": null,
            "top": null,
            "visibility": null,
            "width": null
          }
        },
        "d98917e97cac43e482424531c3f8aa71": {
          "model_module": "@jupyter-widgets/controls",
          "model_name": "ProgressStyleModel",
          "model_module_version": "1.5.0",
          "state": {
            "_model_module": "@jupyter-widgets/controls",
            "_model_module_version": "1.5.0",
            "_model_name": "ProgressStyleModel",
            "_view_count": null,
            "_view_module": "@jupyter-widgets/base",
            "_view_module_version": "1.2.0",
            "_view_name": "StyleView",
            "bar_color": null,
            "description_width": ""
          }
        },
        "988c32bc475e411cbab5f0580fd11e36": {
          "model_module": "@jupyter-widgets/base",
          "model_name": "LayoutModel",
          "model_module_version": "1.2.0",
          "state": {
            "_model_module": "@jupyter-widgets/base",
            "_model_module_version": "1.2.0",
            "_model_name": "LayoutModel",
            "_view_count": null,
            "_view_module": "@jupyter-widgets/base",
            "_view_module_version": "1.2.0",
            "_view_name": "LayoutView",
            "align_content": null,
            "align_items": null,
            "align_self": null,
            "border": null,
            "bottom": null,
            "display": null,
            "flex": null,
            "flex_flow": null,
            "grid_area": null,
            "grid_auto_columns": null,
            "grid_auto_flow": null,
            "grid_auto_rows": null,
            "grid_column": null,
            "grid_gap": null,
            "grid_row": null,
            "grid_template_areas": null,
            "grid_template_columns": null,
            "grid_template_rows": null,
            "height": null,
            "justify_content": null,
            "justify_items": null,
            "left": null,
            "margin": null,
            "max_height": null,
            "max_width": null,
            "min_height": null,
            "min_width": null,
            "object_fit": null,
            "object_position": null,
            "order": null,
            "overflow": null,
            "overflow_x": null,
            "overflow_y": null,
            "padding": null,
            "right": null,
            "top": null,
            "visibility": null,
            "width": null
          }
        },
        "f6924a02c5e5489d86401ebd1bdd31fa": {
          "model_module": "@jupyter-widgets/controls",
          "model_name": "DescriptionStyleModel",
          "model_module_version": "1.5.0",
          "state": {
            "_model_module": "@jupyter-widgets/controls",
            "_model_module_version": "1.5.0",
            "_model_name": "DescriptionStyleModel",
            "_view_count": null,
            "_view_module": "@jupyter-widgets/base",
            "_view_module_version": "1.2.0",
            "_view_name": "StyleView",
            "description_width": ""
          }
        },
        "343f54bb70954eb7ba4c0d31a033f497": {
          "model_module": "@jupyter-widgets/controls",
          "model_name": "HBoxModel",
          "model_module_version": "1.5.0",
          "state": {
            "_dom_classes": [],
            "_model_module": "@jupyter-widgets/controls",
            "_model_module_version": "1.5.0",
            "_model_name": "HBoxModel",
            "_view_count": null,
            "_view_module": "@jupyter-widgets/controls",
            "_view_module_version": "1.5.0",
            "_view_name": "HBoxView",
            "box_style": "",
            "children": [
              "IPY_MODEL_b1420209e064441c914a48ecdbeede5d",
              "IPY_MODEL_4e2effb7d2044130a8cac34672255b8d",
              "IPY_MODEL_49ab06a16fcd496a90b67f51c0e40423"
            ],
            "layout": "IPY_MODEL_00c836b58ef143e4a645dbee9dec4605"
          }
        },
        "b1420209e064441c914a48ecdbeede5d": {
          "model_module": "@jupyter-widgets/controls",
          "model_name": "HTMLModel",
          "model_module_version": "1.5.0",
          "state": {
            "_dom_classes": [],
            "_model_module": "@jupyter-widgets/controls",
            "_model_module_version": "1.5.0",
            "_model_name": "HTMLModel",
            "_view_count": null,
            "_view_module": "@jupyter-widgets/controls",
            "_view_module_version": "1.5.0",
            "_view_name": "HTMLView",
            "description": "",
            "description_tooltip": null,
            "layout": "IPY_MODEL_d0a008b4927a474dbdc016bd68240d99",
            "placeholder": "​",
            "style": "IPY_MODEL_240e7ca212fb41cc810168c11e1caed9",
            "value": "100%"
          }
        },
        "4e2effb7d2044130a8cac34672255b8d": {
          "model_module": "@jupyter-widgets/controls",
          "model_name": "FloatProgressModel",
          "model_module_version": "1.5.0",
          "state": {
            "_dom_classes": [],
            "_model_module": "@jupyter-widgets/controls",
            "_model_module_version": "1.5.0",
            "_model_name": "FloatProgressModel",
            "_view_count": null,
            "_view_module": "@jupyter-widgets/controls",
            "_view_module_version": "1.5.0",
            "_view_name": "ProgressView",
            "bar_style": "success",
            "description": "",
            "description_tooltip": null,
            "layout": "IPY_MODEL_0273094c2cab4f988de3af07c0dde6f6",
            "max": 26421880,
            "min": 0,
            "orientation": "horizontal",
            "style": "IPY_MODEL_a0ff0963f562400baee6ec3c6363616e",
            "value": 26421880
          }
        },
        "49ab06a16fcd496a90b67f51c0e40423": {
          "model_module": "@jupyter-widgets/controls",
          "model_name": "HTMLModel",
          "model_module_version": "1.5.0",
          "state": {
            "_dom_classes": [],
            "_model_module": "@jupyter-widgets/controls",
            "_model_module_version": "1.5.0",
            "_model_name": "HTMLModel",
            "_view_count": null,
            "_view_module": "@jupyter-widgets/controls",
            "_view_module_version": "1.5.0",
            "_view_name": "HTMLView",
            "description": "",
            "description_tooltip": null,
            "layout": "IPY_MODEL_f80f9d355fb042ac872ccfbef1b21b74",
            "placeholder": "​",
            "style": "IPY_MODEL_c3838624aca8405eb0f82d0d41f442e7",
            "value": " 26421880/26421880 [00:03&lt;00:00, 13672031.37it/s]"
          }
        },
        "00c836b58ef143e4a645dbee9dec4605": {
          "model_module": "@jupyter-widgets/base",
          "model_name": "LayoutModel",
          "model_module_version": "1.2.0",
          "state": {
            "_model_module": "@jupyter-widgets/base",
            "_model_module_version": "1.2.0",
            "_model_name": "LayoutModel",
            "_view_count": null,
            "_view_module": "@jupyter-widgets/base",
            "_view_module_version": "1.2.0",
            "_view_name": "LayoutView",
            "align_content": null,
            "align_items": null,
            "align_self": null,
            "border": null,
            "bottom": null,
            "display": null,
            "flex": null,
            "flex_flow": null,
            "grid_area": null,
            "grid_auto_columns": null,
            "grid_auto_flow": null,
            "grid_auto_rows": null,
            "grid_column": null,
            "grid_gap": null,
            "grid_row": null,
            "grid_template_areas": null,
            "grid_template_columns": null,
            "grid_template_rows": null,
            "height": null,
            "justify_content": null,
            "justify_items": null,
            "left": null,
            "margin": null,
            "max_height": null,
            "max_width": null,
            "min_height": null,
            "min_width": null,
            "object_fit": null,
            "object_position": null,
            "order": null,
            "overflow": null,
            "overflow_x": null,
            "overflow_y": null,
            "padding": null,
            "right": null,
            "top": null,
            "visibility": null,
            "width": null
          }
        },
        "d0a008b4927a474dbdc016bd68240d99": {
          "model_module": "@jupyter-widgets/base",
          "model_name": "LayoutModel",
          "model_module_version": "1.2.0",
          "state": {
            "_model_module": "@jupyter-widgets/base",
            "_model_module_version": "1.2.0",
            "_model_name": "LayoutModel",
            "_view_count": null,
            "_view_module": "@jupyter-widgets/base",
            "_view_module_version": "1.2.0",
            "_view_name": "LayoutView",
            "align_content": null,
            "align_items": null,
            "align_self": null,
            "border": null,
            "bottom": null,
            "display": null,
            "flex": null,
            "flex_flow": null,
            "grid_area": null,
            "grid_auto_columns": null,
            "grid_auto_flow": null,
            "grid_auto_rows": null,
            "grid_column": null,
            "grid_gap": null,
            "grid_row": null,
            "grid_template_areas": null,
            "grid_template_columns": null,
            "grid_template_rows": null,
            "height": null,
            "justify_content": null,
            "justify_items": null,
            "left": null,
            "margin": null,
            "max_height": null,
            "max_width": null,
            "min_height": null,
            "min_width": null,
            "object_fit": null,
            "object_position": null,
            "order": null,
            "overflow": null,
            "overflow_x": null,
            "overflow_y": null,
            "padding": null,
            "right": null,
            "top": null,
            "visibility": null,
            "width": null
          }
        },
        "240e7ca212fb41cc810168c11e1caed9": {
          "model_module": "@jupyter-widgets/controls",
          "model_name": "DescriptionStyleModel",
          "model_module_version": "1.5.0",
          "state": {
            "_model_module": "@jupyter-widgets/controls",
            "_model_module_version": "1.5.0",
            "_model_name": "DescriptionStyleModel",
            "_view_count": null,
            "_view_module": "@jupyter-widgets/base",
            "_view_module_version": "1.2.0",
            "_view_name": "StyleView",
            "description_width": ""
          }
        },
        "0273094c2cab4f988de3af07c0dde6f6": {
          "model_module": "@jupyter-widgets/base",
          "model_name": "LayoutModel",
          "model_module_version": "1.2.0",
          "state": {
            "_model_module": "@jupyter-widgets/base",
            "_model_module_version": "1.2.0",
            "_model_name": "LayoutModel",
            "_view_count": null,
            "_view_module": "@jupyter-widgets/base",
            "_view_module_version": "1.2.0",
            "_view_name": "LayoutView",
            "align_content": null,
            "align_items": null,
            "align_self": null,
            "border": null,
            "bottom": null,
            "display": null,
            "flex": null,
            "flex_flow": null,
            "grid_area": null,
            "grid_auto_columns": null,
            "grid_auto_flow": null,
            "grid_auto_rows": null,
            "grid_column": null,
            "grid_gap": null,
            "grid_row": null,
            "grid_template_areas": null,
            "grid_template_columns": null,
            "grid_template_rows": null,
            "height": null,
            "justify_content": null,
            "justify_items": null,
            "left": null,
            "margin": null,
            "max_height": null,
            "max_width": null,
            "min_height": null,
            "min_width": null,
            "object_fit": null,
            "object_position": null,
            "order": null,
            "overflow": null,
            "overflow_x": null,
            "overflow_y": null,
            "padding": null,
            "right": null,
            "top": null,
            "visibility": null,
            "width": null
          }
        },
        "a0ff0963f562400baee6ec3c6363616e": {
          "model_module": "@jupyter-widgets/controls",
          "model_name": "ProgressStyleModel",
          "model_module_version": "1.5.0",
          "state": {
            "_model_module": "@jupyter-widgets/controls",
            "_model_module_version": "1.5.0",
            "_model_name": "ProgressStyleModel",
            "_view_count": null,
            "_view_module": "@jupyter-widgets/base",
            "_view_module_version": "1.2.0",
            "_view_name": "StyleView",
            "bar_color": null,
            "description_width": ""
          }
        },
        "f80f9d355fb042ac872ccfbef1b21b74": {
          "model_module": "@jupyter-widgets/base",
          "model_name": "LayoutModel",
          "model_module_version": "1.2.0",
          "state": {
            "_model_module": "@jupyter-widgets/base",
            "_model_module_version": "1.2.0",
            "_model_name": "LayoutModel",
            "_view_count": null,
            "_view_module": "@jupyter-widgets/base",
            "_view_module_version": "1.2.0",
            "_view_name": "LayoutView",
            "align_content": null,
            "align_items": null,
            "align_self": null,
            "border": null,
            "bottom": null,
            "display": null,
            "flex": null,
            "flex_flow": null,
            "grid_area": null,
            "grid_auto_columns": null,
            "grid_auto_flow": null,
            "grid_auto_rows": null,
            "grid_column": null,
            "grid_gap": null,
            "grid_row": null,
            "grid_template_areas": null,
            "grid_template_columns": null,
            "grid_template_rows": null,
            "height": null,
            "justify_content": null,
            "justify_items": null,
            "left": null,
            "margin": null,
            "max_height": null,
            "max_width": null,
            "min_height": null,
            "min_width": null,
            "object_fit": null,
            "object_position": null,
            "order": null,
            "overflow": null,
            "overflow_x": null,
            "overflow_y": null,
            "padding": null,
            "right": null,
            "top": null,
            "visibility": null,
            "width": null
          }
        },
        "c3838624aca8405eb0f82d0d41f442e7": {
          "model_module": "@jupyter-widgets/controls",
          "model_name": "DescriptionStyleModel",
          "model_module_version": "1.5.0",
          "state": {
            "_model_module": "@jupyter-widgets/controls",
            "_model_module_version": "1.5.0",
            "_model_name": "DescriptionStyleModel",
            "_view_count": null,
            "_view_module": "@jupyter-widgets/base",
            "_view_module_version": "1.2.0",
            "_view_name": "StyleView",
            "description_width": ""
          }
        },
        "bcfda2e1dd3345fe9e89a1550e49b74b": {
          "model_module": "@jupyter-widgets/controls",
          "model_name": "HBoxModel",
          "model_module_version": "1.5.0",
          "state": {
            "_dom_classes": [],
            "_model_module": "@jupyter-widgets/controls",
            "_model_module_version": "1.5.0",
            "_model_name": "HBoxModel",
            "_view_count": null,
            "_view_module": "@jupyter-widgets/controls",
            "_view_module_version": "1.5.0",
            "_view_name": "HBoxView",
            "box_style": "",
            "children": [
              "IPY_MODEL_15c1735058ad49f38d59198bc356a871",
              "IPY_MODEL_7d8f3885eb2c4ef18aee7420c77a7c61",
              "IPY_MODEL_b9bc485853c94fe1a7e75b9d02e400a5"
            ],
            "layout": "IPY_MODEL_203d09a1c1564598a42c7236e465d1a7"
          }
        },
        "15c1735058ad49f38d59198bc356a871": {
          "model_module": "@jupyter-widgets/controls",
          "model_name": "HTMLModel",
          "model_module_version": "1.5.0",
          "state": {
            "_dom_classes": [],
            "_model_module": "@jupyter-widgets/controls",
            "_model_module_version": "1.5.0",
            "_model_name": "HTMLModel",
            "_view_count": null,
            "_view_module": "@jupyter-widgets/controls",
            "_view_module_version": "1.5.0",
            "_view_name": "HTMLView",
            "description": "",
            "description_tooltip": null,
            "layout": "IPY_MODEL_412899a75d094d0c864fd680bdf2d363",
            "placeholder": "​",
            "style": "IPY_MODEL_22e9eeaaf040448a9654dca284724568",
            "value": "100%"
          }
        },
        "7d8f3885eb2c4ef18aee7420c77a7c61": {
          "model_module": "@jupyter-widgets/controls",
          "model_name": "FloatProgressModel",
          "model_module_version": "1.5.0",
          "state": {
            "_dom_classes": [],
            "_model_module": "@jupyter-widgets/controls",
            "_model_module_version": "1.5.0",
            "_model_name": "FloatProgressModel",
            "_view_count": null,
            "_view_module": "@jupyter-widgets/controls",
            "_view_module_version": "1.5.0",
            "_view_name": "ProgressView",
            "bar_style": "success",
            "description": "",
            "description_tooltip": null,
            "layout": "IPY_MODEL_77b2e860dad44e4a9ae6860f39e44a13",
            "max": 29515,
            "min": 0,
            "orientation": "horizontal",
            "style": "IPY_MODEL_5a1aa1d3388747e5babc08b7fbeac65e",
            "value": 29515
          }
        },
        "b9bc485853c94fe1a7e75b9d02e400a5": {
          "model_module": "@jupyter-widgets/controls",
          "model_name": "HTMLModel",
          "model_module_version": "1.5.0",
          "state": {
            "_dom_classes": [],
            "_model_module": "@jupyter-widgets/controls",
            "_model_module_version": "1.5.0",
            "_model_name": "HTMLModel",
            "_view_count": null,
            "_view_module": "@jupyter-widgets/controls",
            "_view_module_version": "1.5.0",
            "_view_name": "HTMLView",
            "description": "",
            "description_tooltip": null,
            "layout": "IPY_MODEL_a817c972d1794712934f969a8f7f7468",
            "placeholder": "​",
            "style": "IPY_MODEL_0af82f4da8f940bb829ab0b3e473f408",
            "value": " 29515/29515 [00:00&lt;00:00, 146376.02it/s]"
          }
        },
        "203d09a1c1564598a42c7236e465d1a7": {
          "model_module": "@jupyter-widgets/base",
          "model_name": "LayoutModel",
          "model_module_version": "1.2.0",
          "state": {
            "_model_module": "@jupyter-widgets/base",
            "_model_module_version": "1.2.0",
            "_model_name": "LayoutModel",
            "_view_count": null,
            "_view_module": "@jupyter-widgets/base",
            "_view_module_version": "1.2.0",
            "_view_name": "LayoutView",
            "align_content": null,
            "align_items": null,
            "align_self": null,
            "border": null,
            "bottom": null,
            "display": null,
            "flex": null,
            "flex_flow": null,
            "grid_area": null,
            "grid_auto_columns": null,
            "grid_auto_flow": null,
            "grid_auto_rows": null,
            "grid_column": null,
            "grid_gap": null,
            "grid_row": null,
            "grid_template_areas": null,
            "grid_template_columns": null,
            "grid_template_rows": null,
            "height": null,
            "justify_content": null,
            "justify_items": null,
            "left": null,
            "margin": null,
            "max_height": null,
            "max_width": null,
            "min_height": null,
            "min_width": null,
            "object_fit": null,
            "object_position": null,
            "order": null,
            "overflow": null,
            "overflow_x": null,
            "overflow_y": null,
            "padding": null,
            "right": null,
            "top": null,
            "visibility": null,
            "width": null
          }
        },
        "412899a75d094d0c864fd680bdf2d363": {
          "model_module": "@jupyter-widgets/base",
          "model_name": "LayoutModel",
          "model_module_version": "1.2.0",
          "state": {
            "_model_module": "@jupyter-widgets/base",
            "_model_module_version": "1.2.0",
            "_model_name": "LayoutModel",
            "_view_count": null,
            "_view_module": "@jupyter-widgets/base",
            "_view_module_version": "1.2.0",
            "_view_name": "LayoutView",
            "align_content": null,
            "align_items": null,
            "align_self": null,
            "border": null,
            "bottom": null,
            "display": null,
            "flex": null,
            "flex_flow": null,
            "grid_area": null,
            "grid_auto_columns": null,
            "grid_auto_flow": null,
            "grid_auto_rows": null,
            "grid_column": null,
            "grid_gap": null,
            "grid_row": null,
            "grid_template_areas": null,
            "grid_template_columns": null,
            "grid_template_rows": null,
            "height": null,
            "justify_content": null,
            "justify_items": null,
            "left": null,
            "margin": null,
            "max_height": null,
            "max_width": null,
            "min_height": null,
            "min_width": null,
            "object_fit": null,
            "object_position": null,
            "order": null,
            "overflow": null,
            "overflow_x": null,
            "overflow_y": null,
            "padding": null,
            "right": null,
            "top": null,
            "visibility": null,
            "width": null
          }
        },
        "22e9eeaaf040448a9654dca284724568": {
          "model_module": "@jupyter-widgets/controls",
          "model_name": "DescriptionStyleModel",
          "model_module_version": "1.5.0",
          "state": {
            "_model_module": "@jupyter-widgets/controls",
            "_model_module_version": "1.5.0",
            "_model_name": "DescriptionStyleModel",
            "_view_count": null,
            "_view_module": "@jupyter-widgets/base",
            "_view_module_version": "1.2.0",
            "_view_name": "StyleView",
            "description_width": ""
          }
        },
        "77b2e860dad44e4a9ae6860f39e44a13": {
          "model_module": "@jupyter-widgets/base",
          "model_name": "LayoutModel",
          "model_module_version": "1.2.0",
          "state": {
            "_model_module": "@jupyter-widgets/base",
            "_model_module_version": "1.2.0",
            "_model_name": "LayoutModel",
            "_view_count": null,
            "_view_module": "@jupyter-widgets/base",
            "_view_module_version": "1.2.0",
            "_view_name": "LayoutView",
            "align_content": null,
            "align_items": null,
            "align_self": null,
            "border": null,
            "bottom": null,
            "display": null,
            "flex": null,
            "flex_flow": null,
            "grid_area": null,
            "grid_auto_columns": null,
            "grid_auto_flow": null,
            "grid_auto_rows": null,
            "grid_column": null,
            "grid_gap": null,
            "grid_row": null,
            "grid_template_areas": null,
            "grid_template_columns": null,
            "grid_template_rows": null,
            "height": null,
            "justify_content": null,
            "justify_items": null,
            "left": null,
            "margin": null,
            "max_height": null,
            "max_width": null,
            "min_height": null,
            "min_width": null,
            "object_fit": null,
            "object_position": null,
            "order": null,
            "overflow": null,
            "overflow_x": null,
            "overflow_y": null,
            "padding": null,
            "right": null,
            "top": null,
            "visibility": null,
            "width": null
          }
        },
        "5a1aa1d3388747e5babc08b7fbeac65e": {
          "model_module": "@jupyter-widgets/controls",
          "model_name": "ProgressStyleModel",
          "model_module_version": "1.5.0",
          "state": {
            "_model_module": "@jupyter-widgets/controls",
            "_model_module_version": "1.5.0",
            "_model_name": "ProgressStyleModel",
            "_view_count": null,
            "_view_module": "@jupyter-widgets/base",
            "_view_module_version": "1.2.0",
            "_view_name": "StyleView",
            "bar_color": null,
            "description_width": ""
          }
        },
        "a817c972d1794712934f969a8f7f7468": {
          "model_module": "@jupyter-widgets/base",
          "model_name": "LayoutModel",
          "model_module_version": "1.2.0",
          "state": {
            "_model_module": "@jupyter-widgets/base",
            "_model_module_version": "1.2.0",
            "_model_name": "LayoutModel",
            "_view_count": null,
            "_view_module": "@jupyter-widgets/base",
            "_view_module_version": "1.2.0",
            "_view_name": "LayoutView",
            "align_content": null,
            "align_items": null,
            "align_self": null,
            "border": null,
            "bottom": null,
            "display": null,
            "flex": null,
            "flex_flow": null,
            "grid_area": null,
            "grid_auto_columns": null,
            "grid_auto_flow": null,
            "grid_auto_rows": null,
            "grid_column": null,
            "grid_gap": null,
            "grid_row": null,
            "grid_template_areas": null,
            "grid_template_columns": null,
            "grid_template_rows": null,
            "height": null,
            "justify_content": null,
            "justify_items": null,
            "left": null,
            "margin": null,
            "max_height": null,
            "max_width": null,
            "min_height": null,
            "min_width": null,
            "object_fit": null,
            "object_position": null,
            "order": null,
            "overflow": null,
            "overflow_x": null,
            "overflow_y": null,
            "padding": null,
            "right": null,
            "top": null,
            "visibility": null,
            "width": null
          }
        },
        "0af82f4da8f940bb829ab0b3e473f408": {
          "model_module": "@jupyter-widgets/controls",
          "model_name": "DescriptionStyleModel",
          "model_module_version": "1.5.0",
          "state": {
            "_model_module": "@jupyter-widgets/controls",
            "_model_module_version": "1.5.0",
            "_model_name": "DescriptionStyleModel",
            "_view_count": null,
            "_view_module": "@jupyter-widgets/base",
            "_view_module_version": "1.2.0",
            "_view_name": "StyleView",
            "description_width": ""
          }
        },
        "bf0c1eee41ca4ca4a39fc425eca8fe1d": {
          "model_module": "@jupyter-widgets/controls",
          "model_name": "HBoxModel",
          "model_module_version": "1.5.0",
          "state": {
            "_dom_classes": [],
            "_model_module": "@jupyter-widgets/controls",
            "_model_module_version": "1.5.0",
            "_model_name": "HBoxModel",
            "_view_count": null,
            "_view_module": "@jupyter-widgets/controls",
            "_view_module_version": "1.5.0",
            "_view_name": "HBoxView",
            "box_style": "",
            "children": [
              "IPY_MODEL_a19783e18c734233a74df4e9a268fa63",
              "IPY_MODEL_0f058c071c3e4cd790972aa7bfaa680b",
              "IPY_MODEL_9894b9b8b5ba406089a8a8558200a9db"
            ],
            "layout": "IPY_MODEL_57717b2fae374f029de6e3c90fb50920"
          }
        },
        "a19783e18c734233a74df4e9a268fa63": {
          "model_module": "@jupyter-widgets/controls",
          "model_name": "HTMLModel",
          "model_module_version": "1.5.0",
          "state": {
            "_dom_classes": [],
            "_model_module": "@jupyter-widgets/controls",
            "_model_module_version": "1.5.0",
            "_model_name": "HTMLModel",
            "_view_count": null,
            "_view_module": "@jupyter-widgets/controls",
            "_view_module_version": "1.5.0",
            "_view_name": "HTMLView",
            "description": "",
            "description_tooltip": null,
            "layout": "IPY_MODEL_67d5d54c623448dc8a8a629f79bacd75",
            "placeholder": "​",
            "style": "IPY_MODEL_0af93a0cb4154dc7933071671aa4858a",
            "value": "100%"
          }
        },
        "0f058c071c3e4cd790972aa7bfaa680b": {
          "model_module": "@jupyter-widgets/controls",
          "model_name": "FloatProgressModel",
          "model_module_version": "1.5.0",
          "state": {
            "_dom_classes": [],
            "_model_module": "@jupyter-widgets/controls",
            "_model_module_version": "1.5.0",
            "_model_name": "FloatProgressModel",
            "_view_count": null,
            "_view_module": "@jupyter-widgets/controls",
            "_view_module_version": "1.5.0",
            "_view_name": "ProgressView",
            "bar_style": "success",
            "description": "",
            "description_tooltip": null,
            "layout": "IPY_MODEL_1746d164e5a844b8abaa87ec1cae2b1d",
            "max": 4422102,
            "min": 0,
            "orientation": "horizontal",
            "style": "IPY_MODEL_e01a9c28812e48959a4e4068d44decd2",
            "value": 4422102
          }
        },
        "9894b9b8b5ba406089a8a8558200a9db": {
          "model_module": "@jupyter-widgets/controls",
          "model_name": "HTMLModel",
          "model_module_version": "1.5.0",
          "state": {
            "_dom_classes": [],
            "_model_module": "@jupyter-widgets/controls",
            "_model_module_version": "1.5.0",
            "_model_name": "HTMLModel",
            "_view_count": null,
            "_view_module": "@jupyter-widgets/controls",
            "_view_module_version": "1.5.0",
            "_view_name": "HTMLView",
            "description": "",
            "description_tooltip": null,
            "layout": "IPY_MODEL_fb2e31623cee4c5fa2e7a76f40efc2b0",
            "placeholder": "​",
            "style": "IPY_MODEL_058f552c02634c4cbe38dc6f5b5ef4b6",
            "value": " 4422102/4422102 [00:01&lt;00:00, 4691208.73it/s]"
          }
        },
        "57717b2fae374f029de6e3c90fb50920": {
          "model_module": "@jupyter-widgets/base",
          "model_name": "LayoutModel",
          "model_module_version": "1.2.0",
          "state": {
            "_model_module": "@jupyter-widgets/base",
            "_model_module_version": "1.2.0",
            "_model_name": "LayoutModel",
            "_view_count": null,
            "_view_module": "@jupyter-widgets/base",
            "_view_module_version": "1.2.0",
            "_view_name": "LayoutView",
            "align_content": null,
            "align_items": null,
            "align_self": null,
            "border": null,
            "bottom": null,
            "display": null,
            "flex": null,
            "flex_flow": null,
            "grid_area": null,
            "grid_auto_columns": null,
            "grid_auto_flow": null,
            "grid_auto_rows": null,
            "grid_column": null,
            "grid_gap": null,
            "grid_row": null,
            "grid_template_areas": null,
            "grid_template_columns": null,
            "grid_template_rows": null,
            "height": null,
            "justify_content": null,
            "justify_items": null,
            "left": null,
            "margin": null,
            "max_height": null,
            "max_width": null,
            "min_height": null,
            "min_width": null,
            "object_fit": null,
            "object_position": null,
            "order": null,
            "overflow": null,
            "overflow_x": null,
            "overflow_y": null,
            "padding": null,
            "right": null,
            "top": null,
            "visibility": null,
            "width": null
          }
        },
        "67d5d54c623448dc8a8a629f79bacd75": {
          "model_module": "@jupyter-widgets/base",
          "model_name": "LayoutModel",
          "model_module_version": "1.2.0",
          "state": {
            "_model_module": "@jupyter-widgets/base",
            "_model_module_version": "1.2.0",
            "_model_name": "LayoutModel",
            "_view_count": null,
            "_view_module": "@jupyter-widgets/base",
            "_view_module_version": "1.2.0",
            "_view_name": "LayoutView",
            "align_content": null,
            "align_items": null,
            "align_self": null,
            "border": null,
            "bottom": null,
            "display": null,
            "flex": null,
            "flex_flow": null,
            "grid_area": null,
            "grid_auto_columns": null,
            "grid_auto_flow": null,
            "grid_auto_rows": null,
            "grid_column": null,
            "grid_gap": null,
            "grid_row": null,
            "grid_template_areas": null,
            "grid_template_columns": null,
            "grid_template_rows": null,
            "height": null,
            "justify_content": null,
            "justify_items": null,
            "left": null,
            "margin": null,
            "max_height": null,
            "max_width": null,
            "min_height": null,
            "min_width": null,
            "object_fit": null,
            "object_position": null,
            "order": null,
            "overflow": null,
            "overflow_x": null,
            "overflow_y": null,
            "padding": null,
            "right": null,
            "top": null,
            "visibility": null,
            "width": null
          }
        },
        "0af93a0cb4154dc7933071671aa4858a": {
          "model_module": "@jupyter-widgets/controls",
          "model_name": "DescriptionStyleModel",
          "model_module_version": "1.5.0",
          "state": {
            "_model_module": "@jupyter-widgets/controls",
            "_model_module_version": "1.5.0",
            "_model_name": "DescriptionStyleModel",
            "_view_count": null,
            "_view_module": "@jupyter-widgets/base",
            "_view_module_version": "1.2.0",
            "_view_name": "StyleView",
            "description_width": ""
          }
        },
        "1746d164e5a844b8abaa87ec1cae2b1d": {
          "model_module": "@jupyter-widgets/base",
          "model_name": "LayoutModel",
          "model_module_version": "1.2.0",
          "state": {
            "_model_module": "@jupyter-widgets/base",
            "_model_module_version": "1.2.0",
            "_model_name": "LayoutModel",
            "_view_count": null,
            "_view_module": "@jupyter-widgets/base",
            "_view_module_version": "1.2.0",
            "_view_name": "LayoutView",
            "align_content": null,
            "align_items": null,
            "align_self": null,
            "border": null,
            "bottom": null,
            "display": null,
            "flex": null,
            "flex_flow": null,
            "grid_area": null,
            "grid_auto_columns": null,
            "grid_auto_flow": null,
            "grid_auto_rows": null,
            "grid_column": null,
            "grid_gap": null,
            "grid_row": null,
            "grid_template_areas": null,
            "grid_template_columns": null,
            "grid_template_rows": null,
            "height": null,
            "justify_content": null,
            "justify_items": null,
            "left": null,
            "margin": null,
            "max_height": null,
            "max_width": null,
            "min_height": null,
            "min_width": null,
            "object_fit": null,
            "object_position": null,
            "order": null,
            "overflow": null,
            "overflow_x": null,
            "overflow_y": null,
            "padding": null,
            "right": null,
            "top": null,
            "visibility": null,
            "width": null
          }
        },
        "e01a9c28812e48959a4e4068d44decd2": {
          "model_module": "@jupyter-widgets/controls",
          "model_name": "ProgressStyleModel",
          "model_module_version": "1.5.0",
          "state": {
            "_model_module": "@jupyter-widgets/controls",
            "_model_module_version": "1.5.0",
            "_model_name": "ProgressStyleModel",
            "_view_count": null,
            "_view_module": "@jupyter-widgets/base",
            "_view_module_version": "1.2.0",
            "_view_name": "StyleView",
            "bar_color": null,
            "description_width": ""
          }
        },
        "fb2e31623cee4c5fa2e7a76f40efc2b0": {
          "model_module": "@jupyter-widgets/base",
          "model_name": "LayoutModel",
          "model_module_version": "1.2.0",
          "state": {
            "_model_module": "@jupyter-widgets/base",
            "_model_module_version": "1.2.0",
            "_model_name": "LayoutModel",
            "_view_count": null,
            "_view_module": "@jupyter-widgets/base",
            "_view_module_version": "1.2.0",
            "_view_name": "LayoutView",
            "align_content": null,
            "align_items": null,
            "align_self": null,
            "border": null,
            "bottom": null,
            "display": null,
            "flex": null,
            "flex_flow": null,
            "grid_area": null,
            "grid_auto_columns": null,
            "grid_auto_flow": null,
            "grid_auto_rows": null,
            "grid_column": null,
            "grid_gap": null,
            "grid_row": null,
            "grid_template_areas": null,
            "grid_template_columns": null,
            "grid_template_rows": null,
            "height": null,
            "justify_content": null,
            "justify_items": null,
            "left": null,
            "margin": null,
            "max_height": null,
            "max_width": null,
            "min_height": null,
            "min_width": null,
            "object_fit": null,
            "object_position": null,
            "order": null,
            "overflow": null,
            "overflow_x": null,
            "overflow_y": null,
            "padding": null,
            "right": null,
            "top": null,
            "visibility": null,
            "width": null
          }
        },
        "058f552c02634c4cbe38dc6f5b5ef4b6": {
          "model_module": "@jupyter-widgets/controls",
          "model_name": "DescriptionStyleModel",
          "model_module_version": "1.5.0",
          "state": {
            "_model_module": "@jupyter-widgets/controls",
            "_model_module_version": "1.5.0",
            "_model_name": "DescriptionStyleModel",
            "_view_count": null,
            "_view_module": "@jupyter-widgets/base",
            "_view_module_version": "1.2.0",
            "_view_name": "StyleView",
            "description_width": ""
          }
        },
        "7b5884b3c2cf4dc3b9b9e8ce36dd321a": {
          "model_module": "@jupyter-widgets/controls",
          "model_name": "HBoxModel",
          "model_module_version": "1.5.0",
          "state": {
            "_dom_classes": [],
            "_model_module": "@jupyter-widgets/controls",
            "_model_module_version": "1.5.0",
            "_model_name": "HBoxModel",
            "_view_count": null,
            "_view_module": "@jupyter-widgets/controls",
            "_view_module_version": "1.5.0",
            "_view_name": "HBoxView",
            "box_style": "",
            "children": [
              "IPY_MODEL_de40327ae5d643a19e97c17cf096f066",
              "IPY_MODEL_e25467a909b34bf4813a36d2d60a532a",
              "IPY_MODEL_69521ade3a7f4d57b77ba2cf32982d07"
            ],
            "layout": "IPY_MODEL_2b386f148560449ab5e027849be6ae46"
          }
        },
        "de40327ae5d643a19e97c17cf096f066": {
          "model_module": "@jupyter-widgets/controls",
          "model_name": "HTMLModel",
          "model_module_version": "1.5.0",
          "state": {
            "_dom_classes": [],
            "_model_module": "@jupyter-widgets/controls",
            "_model_module_version": "1.5.0",
            "_model_name": "HTMLModel",
            "_view_count": null,
            "_view_module": "@jupyter-widgets/controls",
            "_view_module_version": "1.5.0",
            "_view_name": "HTMLView",
            "description": "",
            "description_tooltip": null,
            "layout": "IPY_MODEL_dd8e529ab0b247199f3a25c2e78e2fd6",
            "placeholder": "​",
            "style": "IPY_MODEL_1d9d805be4de4006b7afd6f096adec03",
            "value": "100%"
          }
        },
        "e25467a909b34bf4813a36d2d60a532a": {
          "model_module": "@jupyter-widgets/controls",
          "model_name": "FloatProgressModel",
          "model_module_version": "1.5.0",
          "state": {
            "_dom_classes": [],
            "_model_module": "@jupyter-widgets/controls",
            "_model_module_version": "1.5.0",
            "_model_name": "FloatProgressModel",
            "_view_count": null,
            "_view_module": "@jupyter-widgets/controls",
            "_view_module_version": "1.5.0",
            "_view_name": "ProgressView",
            "bar_style": "success",
            "description": "",
            "description_tooltip": null,
            "layout": "IPY_MODEL_66d2cee266c44e81ad0bf61fdfa32338",
            "max": 5148,
            "min": 0,
            "orientation": "horizontal",
            "style": "IPY_MODEL_20eae84e783f4ddd92445b3928cdaf7c",
            "value": 5148
          }
        },
        "69521ade3a7f4d57b77ba2cf32982d07": {
          "model_module": "@jupyter-widgets/controls",
          "model_name": "HTMLModel",
          "model_module_version": "1.5.0",
          "state": {
            "_dom_classes": [],
            "_model_module": "@jupyter-widgets/controls",
            "_model_module_version": "1.5.0",
            "_model_name": "HTMLModel",
            "_view_count": null,
            "_view_module": "@jupyter-widgets/controls",
            "_view_module_version": "1.5.0",
            "_view_name": "HTMLView",
            "description": "",
            "description_tooltip": null,
            "layout": "IPY_MODEL_79c70e2998cf41d4ae7efb683f3e25b9",
            "placeholder": "​",
            "style": "IPY_MODEL_ec0b373d2f304dbcbc950b4bb467c2f7",
            "value": " 5148/5148 [00:00&lt;00:00, 337495.34it/s]"
          }
        },
        "2b386f148560449ab5e027849be6ae46": {
          "model_module": "@jupyter-widgets/base",
          "model_name": "LayoutModel",
          "model_module_version": "1.2.0",
          "state": {
            "_model_module": "@jupyter-widgets/base",
            "_model_module_version": "1.2.0",
            "_model_name": "LayoutModel",
            "_view_count": null,
            "_view_module": "@jupyter-widgets/base",
            "_view_module_version": "1.2.0",
            "_view_name": "LayoutView",
            "align_content": null,
            "align_items": null,
            "align_self": null,
            "border": null,
            "bottom": null,
            "display": null,
            "flex": null,
            "flex_flow": null,
            "grid_area": null,
            "grid_auto_columns": null,
            "grid_auto_flow": null,
            "grid_auto_rows": null,
            "grid_column": null,
            "grid_gap": null,
            "grid_row": null,
            "grid_template_areas": null,
            "grid_template_columns": null,
            "grid_template_rows": null,
            "height": null,
            "justify_content": null,
            "justify_items": null,
            "left": null,
            "margin": null,
            "max_height": null,
            "max_width": null,
            "min_height": null,
            "min_width": null,
            "object_fit": null,
            "object_position": null,
            "order": null,
            "overflow": null,
            "overflow_x": null,
            "overflow_y": null,
            "padding": null,
            "right": null,
            "top": null,
            "visibility": null,
            "width": null
          }
        },
        "dd8e529ab0b247199f3a25c2e78e2fd6": {
          "model_module": "@jupyter-widgets/base",
          "model_name": "LayoutModel",
          "model_module_version": "1.2.0",
          "state": {
            "_model_module": "@jupyter-widgets/base",
            "_model_module_version": "1.2.0",
            "_model_name": "LayoutModel",
            "_view_count": null,
            "_view_module": "@jupyter-widgets/base",
            "_view_module_version": "1.2.0",
            "_view_name": "LayoutView",
            "align_content": null,
            "align_items": null,
            "align_self": null,
            "border": null,
            "bottom": null,
            "display": null,
            "flex": null,
            "flex_flow": null,
            "grid_area": null,
            "grid_auto_columns": null,
            "grid_auto_flow": null,
            "grid_auto_rows": null,
            "grid_column": null,
            "grid_gap": null,
            "grid_row": null,
            "grid_template_areas": null,
            "grid_template_columns": null,
            "grid_template_rows": null,
            "height": null,
            "justify_content": null,
            "justify_items": null,
            "left": null,
            "margin": null,
            "max_height": null,
            "max_width": null,
            "min_height": null,
            "min_width": null,
            "object_fit": null,
            "object_position": null,
            "order": null,
            "overflow": null,
            "overflow_x": null,
            "overflow_y": null,
            "padding": null,
            "right": null,
            "top": null,
            "visibility": null,
            "width": null
          }
        },
        "1d9d805be4de4006b7afd6f096adec03": {
          "model_module": "@jupyter-widgets/controls",
          "model_name": "DescriptionStyleModel",
          "model_module_version": "1.5.0",
          "state": {
            "_model_module": "@jupyter-widgets/controls",
            "_model_module_version": "1.5.0",
            "_model_name": "DescriptionStyleModel",
            "_view_count": null,
            "_view_module": "@jupyter-widgets/base",
            "_view_module_version": "1.2.0",
            "_view_name": "StyleView",
            "description_width": ""
          }
        },
        "66d2cee266c44e81ad0bf61fdfa32338": {
          "model_module": "@jupyter-widgets/base",
          "model_name": "LayoutModel",
          "model_module_version": "1.2.0",
          "state": {
            "_model_module": "@jupyter-widgets/base",
            "_model_module_version": "1.2.0",
            "_model_name": "LayoutModel",
            "_view_count": null,
            "_view_module": "@jupyter-widgets/base",
            "_view_module_version": "1.2.0",
            "_view_name": "LayoutView",
            "align_content": null,
            "align_items": null,
            "align_self": null,
            "border": null,
            "bottom": null,
            "display": null,
            "flex": null,
            "flex_flow": null,
            "grid_area": null,
            "grid_auto_columns": null,
            "grid_auto_flow": null,
            "grid_auto_rows": null,
            "grid_column": null,
            "grid_gap": null,
            "grid_row": null,
            "grid_template_areas": null,
            "grid_template_columns": null,
            "grid_template_rows": null,
            "height": null,
            "justify_content": null,
            "justify_items": null,
            "left": null,
            "margin": null,
            "max_height": null,
            "max_width": null,
            "min_height": null,
            "min_width": null,
            "object_fit": null,
            "object_position": null,
            "order": null,
            "overflow": null,
            "overflow_x": null,
            "overflow_y": null,
            "padding": null,
            "right": null,
            "top": null,
            "visibility": null,
            "width": null
          }
        },
        "20eae84e783f4ddd92445b3928cdaf7c": {
          "model_module": "@jupyter-widgets/controls",
          "model_name": "ProgressStyleModel",
          "model_module_version": "1.5.0",
          "state": {
            "_model_module": "@jupyter-widgets/controls",
            "_model_module_version": "1.5.0",
            "_model_name": "ProgressStyleModel",
            "_view_count": null,
            "_view_module": "@jupyter-widgets/base",
            "_view_module_version": "1.2.0",
            "_view_name": "StyleView",
            "bar_color": null,
            "description_width": ""
          }
        },
        "79c70e2998cf41d4ae7efb683f3e25b9": {
          "model_module": "@jupyter-widgets/base",
          "model_name": "LayoutModel",
          "model_module_version": "1.2.0",
          "state": {
            "_model_module": "@jupyter-widgets/base",
            "_model_module_version": "1.2.0",
            "_model_name": "LayoutModel",
            "_view_count": null,
            "_view_module": "@jupyter-widgets/base",
            "_view_module_version": "1.2.0",
            "_view_name": "LayoutView",
            "align_content": null,
            "align_items": null,
            "align_self": null,
            "border": null,
            "bottom": null,
            "display": null,
            "flex": null,
            "flex_flow": null,
            "grid_area": null,
            "grid_auto_columns": null,
            "grid_auto_flow": null,
            "grid_auto_rows": null,
            "grid_column": null,
            "grid_gap": null,
            "grid_row": null,
            "grid_template_areas": null,
            "grid_template_columns": null,
            "grid_template_rows": null,
            "height": null,
            "justify_content": null,
            "justify_items": null,
            "left": null,
            "margin": null,
            "max_height": null,
            "max_width": null,
            "min_height": null,
            "min_width": null,
            "object_fit": null,
            "object_position": null,
            "order": null,
            "overflow": null,
            "overflow_x": null,
            "overflow_y": null,
            "padding": null,
            "right": null,
            "top": null,
            "visibility": null,
            "width": null
          }
        },
        "ec0b373d2f304dbcbc950b4bb467c2f7": {
          "model_module": "@jupyter-widgets/controls",
          "model_name": "DescriptionStyleModel",
          "model_module_version": "1.5.0",
          "state": {
            "_model_module": "@jupyter-widgets/controls",
            "_model_module_version": "1.5.0",
            "_model_name": "DescriptionStyleModel",
            "_view_count": null,
            "_view_module": "@jupyter-widgets/base",
            "_view_module_version": "1.2.0",
            "_view_name": "StyleView",
            "description_width": ""
          }
        }
      }
    }
  },
  "cells": [
    {
      "cell_type": "markdown",
      "metadata": {
        "id": "view-in-github",
        "colab_type": "text"
      },
      "source": [
        "<a href=\"https://colab.research.google.com/github/arnav39/d2el-en/blob/main/8_6_Residual_Networks.ipynb\" target=\"_parent\"><img src=\"https://colab.research.google.com/assets/colab-badge.svg\" alt=\"Open In Colab\"/></a>"
      ]
    },
    {
      "cell_type": "markdown",
      "source": [
        "# 8.6 : Reisdual Networks"
      ],
      "metadata": {
        "id": "W4X70k1PULPw"
      }
    },
    {
      "cell_type": "code",
      "execution_count": 1,
      "metadata": {
        "colab": {
          "base_uri": "https://localhost:8080/"
        },
        "id": "v3rUF-kmUEnQ",
        "outputId": "60a3c57f-4b7b-4ea3-d2f7-1c488ae0e84a"
      },
      "outputs": [
        {
          "output_type": "stream",
          "name": "stdout",
          "text": [
            "Installing collected packages: jedi, qtpy, qtconsole, jupyter, d2l\n",
            "Successfully installed d2l-1.0.0a0 jedi-0.18.2 jupyter-1.0.0 qtconsole-5.4.0 qtpy-2.3.0\n"
          ]
        }
      ],
      "source": [
        "!pip install matplotlib_inline\n",
        "!pip install --upgrade d2l==1.0.0a0"
      ]
    },
    {
      "cell_type": "code",
      "source": [
        "import torch\n",
        "from torch import nn\n",
        "import torch.nn.functional as F\n",
        "from d2l import torch as d2l"
      ],
      "metadata": {
        "id": "sPbg7HTSUKxl"
      },
      "execution_count": 2,
      "outputs": []
    },
    {
      "cell_type": "code",
      "source": [
        "a = torch.rand(6, 28, 28)\n",
        "b = torch.rand(1, 28, 28)\n",
        "c = a + b # b is broadcasted along all the channels"
      ],
      "metadata": {
        "id": "b2uVomI0eoLU"
      },
      "execution_count": 3,
      "outputs": []
    },
    {
      "cell_type": "code",
      "source": [
        "a1 = torch.randn(16, 14, 14)\n",
        "a2 = torch.randn(16, 28, 28)\n",
        "a_sum = a1 + a2\n",
        "print(a_sum.shape)"
      ],
      "metadata": {
        "colab": {
          "base_uri": "https://localhost:8080/",
          "height": 215
        },
        "id": "kwtMBM9Of1JB",
        "outputId": "8ec33f60-fe59-4c81-dfef-39803930d578"
      },
      "execution_count": 8,
      "outputs": [
        {
          "output_type": "error",
          "ename": "RuntimeError",
          "evalue": "ignored",
          "traceback": [
            "\u001b[0;31m---------------------------------------------------------------------------\u001b[0m",
            "\u001b[0;31mRuntimeError\u001b[0m                              Traceback (most recent call last)",
            "\u001b[0;32m<ipython-input-8-3028d0f5501c>\u001b[0m in \u001b[0;36m<module>\u001b[0;34m\u001b[0m\n\u001b[1;32m      1\u001b[0m \u001b[0ma1\u001b[0m \u001b[0;34m=\u001b[0m \u001b[0mtorch\u001b[0m\u001b[0;34m.\u001b[0m\u001b[0mrandn\u001b[0m\u001b[0;34m(\u001b[0m\u001b[0;36m16\u001b[0m\u001b[0;34m,\u001b[0m \u001b[0;36m14\u001b[0m\u001b[0;34m,\u001b[0m \u001b[0;36m14\u001b[0m\u001b[0;34m)\u001b[0m\u001b[0;34m\u001b[0m\u001b[0;34m\u001b[0m\u001b[0m\n\u001b[1;32m      2\u001b[0m \u001b[0ma2\u001b[0m \u001b[0;34m=\u001b[0m \u001b[0mtorch\u001b[0m\u001b[0;34m.\u001b[0m\u001b[0mrandn\u001b[0m\u001b[0;34m(\u001b[0m\u001b[0;36m16\u001b[0m\u001b[0;34m,\u001b[0m \u001b[0;36m28\u001b[0m\u001b[0;34m,\u001b[0m \u001b[0;36m28\u001b[0m\u001b[0;34m)\u001b[0m\u001b[0;34m\u001b[0m\u001b[0;34m\u001b[0m\u001b[0m\n\u001b[0;32m----> 3\u001b[0;31m \u001b[0ma_sum\u001b[0m \u001b[0;34m=\u001b[0m \u001b[0ma1\u001b[0m \u001b[0;34m+\u001b[0m \u001b[0ma2\u001b[0m\u001b[0;34m\u001b[0m\u001b[0;34m\u001b[0m\u001b[0m\n\u001b[0m\u001b[1;32m      4\u001b[0m \u001b[0mprint\u001b[0m\u001b[0;34m(\u001b[0m\u001b[0ma_sum\u001b[0m\u001b[0;34m.\u001b[0m\u001b[0mshape\u001b[0m\u001b[0;34m)\u001b[0m\u001b[0;34m\u001b[0m\u001b[0;34m\u001b[0m\u001b[0m\n",
            "\u001b[0;31mRuntimeError\u001b[0m: The size of tensor a (14) must match the size of tensor b (28) at non-singleton dimension 2"
          ]
        }
      ]
    },
    {
      "cell_type": "code",
      "source": [
        "class Residual(nn.Module):\n",
        "\n",
        "  def __init__(self, num_channels, use_1x1conv=False, strides=1):\n",
        "    super().__init__()\n",
        "    self.conv1 = nn.LazyConv2d(num_channels, kernel_size=3, padding=1, stride=strides)\n",
        "    self.conv2 = nn.LazyConv2d(num_channels, kernel_size=3, padding=1)\n",
        "\n",
        "    if use_1x1conv:\n",
        "      self.conv3 = nn.LazyConv2d(num_channels, kernel_size=1, stride=strides)\n",
        "    else:\n",
        "      self.conv3 = None\n",
        "    self.bn1 = nn.LazyBatchNorm2d()\n",
        "    self.bn2 = nn.LazyBatchNorm2d()\n",
        "\n",
        "  def forward(self, X):\n",
        "    Y = F.relu(self.bn1(self.conv1(X)))\n",
        "    Y = self.bn2(self.conv2(Y))\n",
        "    if self.conv3 is not None:\n",
        "      X = self.conv3(X)\n",
        "    Y += X\n",
        "    return F.relu(Y)"
      ],
      "metadata": {
        "id": "WEEC-oH-Uafb"
      },
      "execution_count": 3,
      "outputs": []
    },
    {
      "cell_type": "code",
      "source": [
        "blk = Residual(3)\n",
        "X = torch.randn(4, 3, 6, 6)\n",
        "blk(X).shape"
      ],
      "metadata": {
        "colab": {
          "base_uri": "https://localhost:8080/"
        },
        "id": "oRmkjDznfFZV",
        "outputId": "bef970bb-05df-4302-8cd6-8435dd0535f3"
      },
      "execution_count": 7,
      "outputs": [
        {
          "output_type": "stream",
          "name": "stderr",
          "text": [
            "/usr/local/lib/python3.8/dist-packages/torch/nn/modules/lazy.py:180: UserWarning: Lazy modules are a new feature under heavy development so changes to the API or functionality can happen at any moment.\n",
            "  warnings.warn('Lazy modules are a new feature under heavy development '\n"
          ]
        },
        {
          "output_type": "execute_result",
          "data": {
            "text/plain": [
              "torch.Size([4, 3, 6, 6])"
            ]
          },
          "metadata": {},
          "execution_count": 7
        }
      ]
    },
    {
      "cell_type": "code",
      "source": [
        "blk = Residual(6, use_1x1conv=True, strides=2)\n",
        "# when we are using stirdes > 1 we will need to use 1x1 conv net to transform the input into the desired shape\n",
        "X = torch.randn(4, 3, 6, 6)\n",
        "blk(X).shape"
      ],
      "metadata": {
        "colab": {
          "base_uri": "https://localhost:8080/"
        },
        "id": "z_UWsMExfXnQ",
        "outputId": "2240f5ba-2112-4633-ac3b-eee9ac80ab1f"
      },
      "execution_count": 9,
      "outputs": [
        {
          "output_type": "stream",
          "name": "stderr",
          "text": [
            "/usr/local/lib/python3.8/dist-packages/torch/nn/modules/lazy.py:180: UserWarning: Lazy modules are a new feature under heavy development so changes to the API or functionality can happen at any moment.\n",
            "  warnings.warn('Lazy modules are a new feature under heavy development '\n"
          ]
        },
        {
          "output_type": "execute_result",
          "data": {
            "text/plain": [
              "torch.Size([4, 6, 3, 3])"
            ]
          },
          "metadata": {},
          "execution_count": 9
        }
      ]
    },
    {
      "cell_type": "code",
      "source": [
        "d2l.Classifier.add_module()"
      ],
      "metadata": {
        "id": "Uuj13Ntuji89"
      },
      "execution_count": null,
      "outputs": []
    },
    {
      "cell_type": "code",
      "source": [
        "class ResNet(d2l.Classifier):\n",
        "\n",
        "  def __init__(self, arch, lr=0.1, num_classes=10):\n",
        "    super().__init__()\n",
        "    self.save_hyperparameters()\n",
        "    self.net = nn.Sequential(self.b1())\n",
        "\n",
        "    for i, b in enumerate(arch):\n",
        "      self.net.add_module(f'b{i+2}', self.block(*b, first_block=(i==0)))\n",
        "    self.net.add_module(\"last\", nn.Sequential(nn.AdaptiveAvgPool2d((1, 1)),\n",
        "                                              nn.Flatten(),\n",
        "                                              nn.LazyLinear(num_classes)))\n",
        "    \n",
        "    self.net.apply(d2l.init_cnn)\n",
        "\n",
        "\n",
        "  def b1(self):\n",
        "    return nn.Sequential(\n",
        "        nn.LazyConv2d(64, kernel_size=7, padding=3, stride=2),\n",
        "        nn.LazyBatchNorm2d(), nn.ReLU(),\n",
        "        nn.MaxPool2d(kernel_size=3, padding=1, stride=2)\n",
        "    )\n",
        "\n",
        "  def block(self, num_residuals, num_channels, first_block=False):\n",
        "    blk = []\n",
        "    for i in range(num_residuals):\n",
        "      if i == 0 and not first_block:\n",
        "        blk.append(Residual(num_channels, use_1x1conv=True, strides=2))\n",
        "      else:\n",
        "        blk.append(Residual(num_channels))\n",
        "    return nn.Sequential(*blk)"
      ],
      "metadata": {
        "id": "USEec5tSgkuB"
      },
      "execution_count": 6,
      "outputs": []
    },
    {
      "cell_type": "code",
      "source": [
        "arch = ((2, 64), (2, 128), (2, 256), (2, 512))\n",
        "\n",
        "for i, a in enumerate(arch):\n",
        "  print(f\"i = {i}, arch[i] = {a}\")"
      ],
      "metadata": {
        "colab": {
          "base_uri": "https://localhost:8080/"
        },
        "id": "5jpxjtT9nU5N",
        "outputId": "11aa9a88-2507-46d5-c1bf-743afc8b9481"
      },
      "execution_count": 14,
      "outputs": [
        {
          "output_type": "stream",
          "name": "stdout",
          "text": [
            "i = 0, arch[i] = (2, 64)\n",
            "i = 1, arch[i] = (2, 128)\n",
            "i = 2, arch[i] = (2, 256)\n",
            "i = 3, arch[i] = (2, 512)\n"
          ]
        }
      ]
    },
    {
      "cell_type": "code",
      "source": [
        "class ResNet18(ResNet):\n",
        "\n",
        "  def __init__(self, lr=0.1, num_classes=10):\n",
        "    arch = ((2, 64), (2, 128), (2, 256), (2, 512))\n",
        "    super().__init__(arch, lr, num_classes)\n",
        "\n",
        "  def forward(self, X):\n",
        "    return self.net(X)"
      ],
      "metadata": {
        "id": "9or-HBFolcWL"
      },
      "execution_count": 5,
      "outputs": []
    },
    {
      "cell_type": "code",
      "source": [
        "ResNet18().layer_summary((1, 1, 96, 96))"
      ],
      "metadata": {
        "colab": {
          "base_uri": "https://localhost:8080/"
        },
        "id": "0cwZZuZ2l0Vr",
        "outputId": "026cde7e-2ace-4ac2-8234-0ca6ffa6a65b"
      },
      "execution_count": 13,
      "outputs": [
        {
          "output_type": "stream",
          "name": "stderr",
          "text": [
            "/usr/local/lib/python3.8/dist-packages/torch/nn/modules/lazy.py:180: UserWarning: Lazy modules are a new feature under heavy development so changes to the API or functionality can happen at any moment.\n",
            "  warnings.warn('Lazy modules are a new feature under heavy development '\n"
          ]
        },
        {
          "output_type": "stream",
          "name": "stdout",
          "text": [
            "Sequential output shape:\t torch.Size([1, 64, 24, 24])\n",
            "Sequential output shape:\t torch.Size([1, 64, 24, 24])\n",
            "Sequential output shape:\t torch.Size([1, 128, 12, 12])\n",
            "Sequential output shape:\t torch.Size([1, 256, 6, 6])\n",
            "Sequential output shape:\t torch.Size([1, 512, 3, 3])\n",
            "Sequential output shape:\t torch.Size([1, 10])\n"
          ]
        }
      ]
    },
    {
      "cell_type": "markdown",
      "source": [
        "using gpu : time = 7min"
      ],
      "metadata": {
        "id": "iRKyJF7p2Lea"
      }
    },
    {
      "cell_type": "code",
      "source": [
        "model = ResNet18(lr=0.01)\n",
        "trainer = d2l.Trainer(max_epochs=10, num_gpus=1)\n",
        "data = d2l.FashionMNIST(batch_size=128, resize=(96, 96))\n",
        "model.apply_init([next(iter(data.get_dataloader(True)))[0]], d2l.init_cnn)\n",
        "trainer.fit(model, data)"
      ],
      "metadata": {
        "colab": {
          "base_uri": "https://localhost:8080/",
          "height": 262,
          "referenced_widgets": [
            "976f917f376b4b1184d83b65e822024c",
            "69ba0bbf65534361b5543ad6ccf6701a",
            "c7275293b05a4f2195f861b6ca18d54a",
            "5a15acc7352743578e17c1d9a68cc9b5",
            "3000972edb60446282ee654dd73e6db1",
            "64b6740d63dd4c9fab04cc83698853fe",
            "4b22880e9c5a4795b47c4787de9ff801",
            "a2a72a8d68184f3bb2d1bbae63f9376d",
            "ca62793783b141cdb64728789a8f44a0",
            "8084b9927d1e47d78178a61b65241b44",
            "d22ac197a2d64433877349e16cf04ff6",
            "5ef066578e3745f1b485f326790ea3d4",
            "c23ac35ccbde40cbba52011c8c0ae817",
            "bf8d97b92d3449e4b513890e39b6414f",
            "de7cc8380da648ab83aafb1c8702ce28",
            "c3b24a37115040649091ac8af19df168",
            "8ea98c368cfd4e988014a373a7d0c945",
            "f1dafe60975b4437b3643cfcf7cb01fc",
            "0ac6419beb5f481a810c4d719cc4eac0",
            "3984b72580e94d0bae189db30d4dfa23",
            "d2f647be42a8428185b213fd3fced202",
            "c21324006e7d453db46980b4ed4fc1db",
            "1c6898c062724a24826cc84c982cfb3d",
            "0c711c87b37b4fc19355fedd4688c693",
            "bfdb6bfd813e42b2aadb6db7d2c47d0b",
            "cc65fa27ad914cf0a6e06660c9403e77",
            "c514705a58ef4eef92b2e4cae879e74a",
            "64dc20edd64f48bda6ed57983b89ea6f",
            "99f6e17d6b7740a5b4dab2aa9f5d5a4e",
            "23f2e57cd6534af58ca64ac73ab2e030",
            "2870a92534fb4b9894124818d2d504ea",
            "88cde094d38749d98898740972b89aff",
            "d887fcb384254e76a438eef26acdb6bc",
            "f1c12e4c200744a8b4e1cd505a502eec",
            "3b6d2898b95d43eabd43190816069d4a",
            "1c473d34865e41138ff18626d16c06a4",
            "3d0537e978b548c1a884a0e8eb06111c",
            "d012aed456ec48c8b84b2ec625ed6208",
            "762ce41b9abf478ca3250cf81b179baf",
            "3ec55ac025a949158c0626f9d20ca179",
            "f3d7b06aa70646e39f630892bba3ba43",
            "d98917e97cac43e482424531c3f8aa71",
            "988c32bc475e411cbab5f0580fd11e36",
            "f6924a02c5e5489d86401ebd1bdd31fa"
          ]
        },
        "id": "Jk9wlaYml5Cf",
        "outputId": "5bf65b4b-19ef-461c-a843-45fc1353166e"
      },
      "execution_count": 6,
      "outputs": [
        {
          "output_type": "display_data",
          "data": {
            "text/plain": [
              "<Figure size 252x180 with 1 Axes>"
            ],
            "image/svg+xml": "<?xml version=\"1.0\" encoding=\"utf-8\" standalone=\"no\"?>\n<!DOCTYPE svg PUBLIC \"-//W3C//DTD SVG 1.1//EN\"\n  \"http://www.w3.org/Graphics/SVG/1.1/DTD/svg11.dtd\">\n<!-- Created with matplotlib (https://matplotlib.org/) -->\n<svg height=\"180.65625pt\" version=\"1.1\" viewBox=\"0 0 238.965625 180.65625\" width=\"238.965625pt\" xmlns=\"http://www.w3.org/2000/svg\" xmlns:xlink=\"http://www.w3.org/1999/xlink\">\n <defs>\n  <style type=\"text/css\">\n*{stroke-linecap:butt;stroke-linejoin:round;}\n  </style>\n </defs>\n <g id=\"figure_1\">\n  <g id=\"patch_1\">\n   <path d=\"M 0 180.65625 \nL 238.965625 180.65625 \nL 238.965625 0 \nL 0 0 \nz\n\" style=\"fill:none;\"/>\n  </g>\n  <g id=\"axes_1\">\n   <g id=\"patch_2\">\n    <path d=\"M 30.103125 143.1 \nL 225.403125 143.1 \nL 225.403125 7.2 \nL 30.103125 7.2 \nz\n\" style=\"fill:#ffffff;\"/>\n   </g>\n   <g id=\"matplotlib.axis_1\">\n    <g id=\"xtick_1\">\n     <g id=\"line2d_1\">\n      <defs>\n       <path d=\"M 0 0 \nL 0 3.5 \n\" id=\"mc797beec2c\" style=\"stroke:#000000;stroke-width:0.8;\"/>\n      </defs>\n      <g>\n       <use style=\"stroke:#000000;stroke-width:0.8;\" x=\"30.103125\" xlink:href=\"#mc797beec2c\" y=\"143.1\"/>\n      </g>\n     </g>\n     <g id=\"text_1\">\n      <!-- 0 -->\n      <defs>\n       <path d=\"M 31.78125 66.40625 \nQ 24.171875 66.40625 20.328125 58.90625 \nQ 16.5 51.421875 16.5 36.375 \nQ 16.5 21.390625 20.328125 13.890625 \nQ 24.171875 6.390625 31.78125 6.390625 \nQ 39.453125 6.390625 43.28125 13.890625 \nQ 47.125 21.390625 47.125 36.375 \nQ 47.125 51.421875 43.28125 58.90625 \nQ 39.453125 66.40625 31.78125 66.40625 \nz\nM 31.78125 74.21875 \nQ 44.046875 74.21875 50.515625 64.515625 \nQ 56.984375 54.828125 56.984375 36.375 \nQ 56.984375 17.96875 50.515625 8.265625 \nQ 44.046875 -1.421875 31.78125 -1.421875 \nQ 19.53125 -1.421875 13.0625 8.265625 \nQ 6.59375 17.96875 6.59375 36.375 \nQ 6.59375 54.828125 13.0625 64.515625 \nQ 19.53125 74.21875 31.78125 74.21875 \nz\n\" id=\"DejaVuSans-48\"/>\n      </defs>\n      <g transform=\"translate(26.921875 157.698438)scale(0.1 -0.1)\">\n       <use xlink:href=\"#DejaVuSans-48\"/>\n      </g>\n     </g>\n    </g>\n    <g id=\"xtick_2\">\n     <g id=\"line2d_2\">\n      <g>\n       <use style=\"stroke:#000000;stroke-width:0.8;\" x=\"69.163125\" xlink:href=\"#mc797beec2c\" y=\"143.1\"/>\n      </g>\n     </g>\n     <g id=\"text_2\">\n      <!-- 2 -->\n      <defs>\n       <path d=\"M 19.1875 8.296875 \nL 53.609375 8.296875 \nL 53.609375 0 \nL 7.328125 0 \nL 7.328125 8.296875 \nQ 12.9375 14.109375 22.625 23.890625 \nQ 32.328125 33.6875 34.8125 36.53125 \nQ 39.546875 41.84375 41.421875 45.53125 \nQ 43.3125 49.21875 43.3125 52.78125 \nQ 43.3125 58.59375 39.234375 62.25 \nQ 35.15625 65.921875 28.609375 65.921875 \nQ 23.96875 65.921875 18.8125 64.3125 \nQ 13.671875 62.703125 7.8125 59.421875 \nL 7.8125 69.390625 \nQ 13.765625 71.78125 18.9375 73 \nQ 24.125 74.21875 28.421875 74.21875 \nQ 39.75 74.21875 46.484375 68.546875 \nQ 53.21875 62.890625 53.21875 53.421875 \nQ 53.21875 48.921875 51.53125 44.890625 \nQ 49.859375 40.875 45.40625 35.40625 \nQ 44.1875 33.984375 37.640625 27.21875 \nQ 31.109375 20.453125 19.1875 8.296875 \nz\n\" id=\"DejaVuSans-50\"/>\n      </defs>\n      <g transform=\"translate(65.981875 157.698438)scale(0.1 -0.1)\">\n       <use xlink:href=\"#DejaVuSans-50\"/>\n      </g>\n     </g>\n    </g>\n    <g id=\"xtick_3\">\n     <g id=\"line2d_3\">\n      <g>\n       <use style=\"stroke:#000000;stroke-width:0.8;\" x=\"108.223125\" xlink:href=\"#mc797beec2c\" y=\"143.1\"/>\n      </g>\n     </g>\n     <g id=\"text_3\">\n      <!-- 4 -->\n      <defs>\n       <path d=\"M 37.796875 64.3125 \nL 12.890625 25.390625 \nL 37.796875 25.390625 \nz\nM 35.203125 72.90625 \nL 47.609375 72.90625 \nL 47.609375 25.390625 \nL 58.015625 25.390625 \nL 58.015625 17.1875 \nL 47.609375 17.1875 \nL 47.609375 0 \nL 37.796875 0 \nL 37.796875 17.1875 \nL 4.890625 17.1875 \nL 4.890625 26.703125 \nz\n\" id=\"DejaVuSans-52\"/>\n      </defs>\n      <g transform=\"translate(105.041875 157.698438)scale(0.1 -0.1)\">\n       <use xlink:href=\"#DejaVuSans-52\"/>\n      </g>\n     </g>\n    </g>\n    <g id=\"xtick_4\">\n     <g id=\"line2d_4\">\n      <g>\n       <use style=\"stroke:#000000;stroke-width:0.8;\" x=\"147.283125\" xlink:href=\"#mc797beec2c\" y=\"143.1\"/>\n      </g>\n     </g>\n     <g id=\"text_4\">\n      <!-- 6 -->\n      <defs>\n       <path d=\"M 33.015625 40.375 \nQ 26.375 40.375 22.484375 35.828125 \nQ 18.609375 31.296875 18.609375 23.390625 \nQ 18.609375 15.53125 22.484375 10.953125 \nQ 26.375 6.390625 33.015625 6.390625 \nQ 39.65625 6.390625 43.53125 10.953125 \nQ 47.40625 15.53125 47.40625 23.390625 \nQ 47.40625 31.296875 43.53125 35.828125 \nQ 39.65625 40.375 33.015625 40.375 \nz\nM 52.59375 71.296875 \nL 52.59375 62.3125 \nQ 48.875 64.0625 45.09375 64.984375 \nQ 41.3125 65.921875 37.59375 65.921875 \nQ 27.828125 65.921875 22.671875 59.328125 \nQ 17.53125 52.734375 16.796875 39.40625 \nQ 19.671875 43.65625 24.015625 45.921875 \nQ 28.375 48.1875 33.59375 48.1875 \nQ 44.578125 48.1875 50.953125 41.515625 \nQ 57.328125 34.859375 57.328125 23.390625 \nQ 57.328125 12.15625 50.6875 5.359375 \nQ 44.046875 -1.421875 33.015625 -1.421875 \nQ 20.359375 -1.421875 13.671875 8.265625 \nQ 6.984375 17.96875 6.984375 36.375 \nQ 6.984375 53.65625 15.1875 63.9375 \nQ 23.390625 74.21875 37.203125 74.21875 \nQ 40.921875 74.21875 44.703125 73.484375 \nQ 48.484375 72.75 52.59375 71.296875 \nz\n\" id=\"DejaVuSans-54\"/>\n      </defs>\n      <g transform=\"translate(144.101875 157.698438)scale(0.1 -0.1)\">\n       <use xlink:href=\"#DejaVuSans-54\"/>\n      </g>\n     </g>\n    </g>\n    <g id=\"xtick_5\">\n     <g id=\"line2d_5\">\n      <g>\n       <use style=\"stroke:#000000;stroke-width:0.8;\" x=\"186.343125\" xlink:href=\"#mc797beec2c\" y=\"143.1\"/>\n      </g>\n     </g>\n     <g id=\"text_5\">\n      <!-- 8 -->\n      <defs>\n       <path d=\"M 31.78125 34.625 \nQ 24.75 34.625 20.71875 30.859375 \nQ 16.703125 27.09375 16.703125 20.515625 \nQ 16.703125 13.921875 20.71875 10.15625 \nQ 24.75 6.390625 31.78125 6.390625 \nQ 38.8125 6.390625 42.859375 10.171875 \nQ 46.921875 13.96875 46.921875 20.515625 \nQ 46.921875 27.09375 42.890625 30.859375 \nQ 38.875 34.625 31.78125 34.625 \nz\nM 21.921875 38.8125 \nQ 15.578125 40.375 12.03125 44.71875 \nQ 8.5 49.078125 8.5 55.328125 \nQ 8.5 64.0625 14.71875 69.140625 \nQ 20.953125 74.21875 31.78125 74.21875 \nQ 42.671875 74.21875 48.875 69.140625 \nQ 55.078125 64.0625 55.078125 55.328125 \nQ 55.078125 49.078125 51.53125 44.71875 \nQ 48 40.375 41.703125 38.8125 \nQ 48.828125 37.15625 52.796875 32.3125 \nQ 56.78125 27.484375 56.78125 20.515625 \nQ 56.78125 9.90625 50.3125 4.234375 \nQ 43.84375 -1.421875 31.78125 -1.421875 \nQ 19.734375 -1.421875 13.25 4.234375 \nQ 6.78125 9.90625 6.78125 20.515625 \nQ 6.78125 27.484375 10.78125 32.3125 \nQ 14.796875 37.15625 21.921875 38.8125 \nz\nM 18.3125 54.390625 \nQ 18.3125 48.734375 21.84375 45.5625 \nQ 25.390625 42.390625 31.78125 42.390625 \nQ 38.140625 42.390625 41.71875 45.5625 \nQ 45.3125 48.734375 45.3125 54.390625 \nQ 45.3125 60.0625 41.71875 63.234375 \nQ 38.140625 66.40625 31.78125 66.40625 \nQ 25.390625 66.40625 21.84375 63.234375 \nQ 18.3125 60.0625 18.3125 54.390625 \nz\n\" id=\"DejaVuSans-56\"/>\n      </defs>\n      <g transform=\"translate(183.161875 157.698438)scale(0.1 -0.1)\">\n       <use xlink:href=\"#DejaVuSans-56\"/>\n      </g>\n     </g>\n    </g>\n    <g id=\"xtick_6\">\n     <g id=\"line2d_6\">\n      <g>\n       <use style=\"stroke:#000000;stroke-width:0.8;\" x=\"225.403125\" xlink:href=\"#mc797beec2c\" y=\"143.1\"/>\n      </g>\n     </g>\n     <g id=\"text_6\">\n      <!-- 10 -->\n      <defs>\n       <path d=\"M 12.40625 8.296875 \nL 28.515625 8.296875 \nL 28.515625 63.921875 \nL 10.984375 60.40625 \nL 10.984375 69.390625 \nL 28.421875 72.90625 \nL 38.28125 72.90625 \nL 38.28125 8.296875 \nL 54.390625 8.296875 \nL 54.390625 0 \nL 12.40625 0 \nz\n\" id=\"DejaVuSans-49\"/>\n      </defs>\n      <g transform=\"translate(219.040625 157.698438)scale(0.1 -0.1)\">\n       <use xlink:href=\"#DejaVuSans-49\"/>\n       <use x=\"63.623047\" xlink:href=\"#DejaVuSans-48\"/>\n      </g>\n     </g>\n    </g>\n    <g id=\"text_7\">\n     <!-- epoch -->\n     <defs>\n      <path d=\"M 56.203125 29.59375 \nL 56.203125 25.203125 \nL 14.890625 25.203125 \nQ 15.484375 15.921875 20.484375 11.0625 \nQ 25.484375 6.203125 34.421875 6.203125 \nQ 39.59375 6.203125 44.453125 7.46875 \nQ 49.3125 8.734375 54.109375 11.28125 \nL 54.109375 2.78125 \nQ 49.265625 0.734375 44.1875 -0.34375 \nQ 39.109375 -1.421875 33.890625 -1.421875 \nQ 20.796875 -1.421875 13.15625 6.1875 \nQ 5.515625 13.8125 5.515625 26.8125 \nQ 5.515625 40.234375 12.765625 48.109375 \nQ 20.015625 56 32.328125 56 \nQ 43.359375 56 49.78125 48.890625 \nQ 56.203125 41.796875 56.203125 29.59375 \nz\nM 47.21875 32.234375 \nQ 47.125 39.59375 43.09375 43.984375 \nQ 39.0625 48.390625 32.421875 48.390625 \nQ 24.90625 48.390625 20.390625 44.140625 \nQ 15.875 39.890625 15.1875 32.171875 \nz\n\" id=\"DejaVuSans-101\"/>\n      <path d=\"M 18.109375 8.203125 \nL 18.109375 -20.796875 \nL 9.078125 -20.796875 \nL 9.078125 54.6875 \nL 18.109375 54.6875 \nL 18.109375 46.390625 \nQ 20.953125 51.265625 25.265625 53.625 \nQ 29.59375 56 35.59375 56 \nQ 45.5625 56 51.78125 48.09375 \nQ 58.015625 40.1875 58.015625 27.296875 \nQ 58.015625 14.40625 51.78125 6.484375 \nQ 45.5625 -1.421875 35.59375 -1.421875 \nQ 29.59375 -1.421875 25.265625 0.953125 \nQ 20.953125 3.328125 18.109375 8.203125 \nz\nM 48.6875 27.296875 \nQ 48.6875 37.203125 44.609375 42.84375 \nQ 40.53125 48.484375 33.40625 48.484375 \nQ 26.265625 48.484375 22.1875 42.84375 \nQ 18.109375 37.203125 18.109375 27.296875 \nQ 18.109375 17.390625 22.1875 11.75 \nQ 26.265625 6.109375 33.40625 6.109375 \nQ 40.53125 6.109375 44.609375 11.75 \nQ 48.6875 17.390625 48.6875 27.296875 \nz\n\" id=\"DejaVuSans-112\"/>\n      <path d=\"M 30.609375 48.390625 \nQ 23.390625 48.390625 19.1875 42.75 \nQ 14.984375 37.109375 14.984375 27.296875 \nQ 14.984375 17.484375 19.15625 11.84375 \nQ 23.34375 6.203125 30.609375 6.203125 \nQ 37.796875 6.203125 41.984375 11.859375 \nQ 46.1875 17.53125 46.1875 27.296875 \nQ 46.1875 37.015625 41.984375 42.703125 \nQ 37.796875 48.390625 30.609375 48.390625 \nz\nM 30.609375 56 \nQ 42.328125 56 49.015625 48.375 \nQ 55.71875 40.765625 55.71875 27.296875 \nQ 55.71875 13.875 49.015625 6.21875 \nQ 42.328125 -1.421875 30.609375 -1.421875 \nQ 18.84375 -1.421875 12.171875 6.21875 \nQ 5.515625 13.875 5.515625 27.296875 \nQ 5.515625 40.765625 12.171875 48.375 \nQ 18.84375 56 30.609375 56 \nz\n\" id=\"DejaVuSans-111\"/>\n      <path d=\"M 48.78125 52.59375 \nL 48.78125 44.1875 \nQ 44.96875 46.296875 41.140625 47.34375 \nQ 37.3125 48.390625 33.40625 48.390625 \nQ 24.65625 48.390625 19.8125 42.84375 \nQ 14.984375 37.3125 14.984375 27.296875 \nQ 14.984375 17.28125 19.8125 11.734375 \nQ 24.65625 6.203125 33.40625 6.203125 \nQ 37.3125 6.203125 41.140625 7.25 \nQ 44.96875 8.296875 48.78125 10.40625 \nL 48.78125 2.09375 \nQ 45.015625 0.34375 40.984375 -0.53125 \nQ 36.96875 -1.421875 32.421875 -1.421875 \nQ 20.0625 -1.421875 12.78125 6.34375 \nQ 5.515625 14.109375 5.515625 27.296875 \nQ 5.515625 40.671875 12.859375 48.328125 \nQ 20.21875 56 33.015625 56 \nQ 37.15625 56 41.109375 55.140625 \nQ 45.0625 54.296875 48.78125 52.59375 \nz\n\" id=\"DejaVuSans-99\"/>\n      <path d=\"M 54.890625 33.015625 \nL 54.890625 0 \nL 45.90625 0 \nL 45.90625 32.71875 \nQ 45.90625 40.484375 42.875 44.328125 \nQ 39.84375 48.1875 33.796875 48.1875 \nQ 26.515625 48.1875 22.3125 43.546875 \nQ 18.109375 38.921875 18.109375 30.90625 \nL 18.109375 0 \nL 9.078125 0 \nL 9.078125 75.984375 \nL 18.109375 75.984375 \nL 18.109375 46.1875 \nQ 21.34375 51.125 25.703125 53.5625 \nQ 30.078125 56 35.796875 56 \nQ 45.21875 56 50.046875 50.171875 \nQ 54.890625 44.34375 54.890625 33.015625 \nz\n\" id=\"DejaVuSans-104\"/>\n     </defs>\n     <g transform=\"translate(112.525 171.376563)scale(0.1 -0.1)\">\n      <use xlink:href=\"#DejaVuSans-101\"/>\n      <use x=\"61.523438\" xlink:href=\"#DejaVuSans-112\"/>\n      <use x=\"125\" xlink:href=\"#DejaVuSans-111\"/>\n      <use x=\"186.181641\" xlink:href=\"#DejaVuSans-99\"/>\n      <use x=\"241.162109\" xlink:href=\"#DejaVuSans-104\"/>\n     </g>\n    </g>\n   </g>\n   <g id=\"matplotlib.axis_2\">\n    <g id=\"ytick_1\">\n     <g id=\"line2d_7\">\n      <defs>\n       <path d=\"M 0 0 \nL -3.5 0 \n\" id=\"m8ae6576c7e\" style=\"stroke:#000000;stroke-width:0.8;\"/>\n      </defs>\n      <g>\n       <use style=\"stroke:#000000;stroke-width:0.8;\" x=\"30.103125\" xlink:href=\"#m8ae6576c7e\" y=\"139.867236\"/>\n      </g>\n     </g>\n     <g id=\"text_8\">\n      <!-- 0.0 -->\n      <defs>\n       <path d=\"M 10.6875 12.40625 \nL 21 12.40625 \nL 21 0 \nL 10.6875 0 \nz\n\" id=\"DejaVuSans-46\"/>\n      </defs>\n      <g transform=\"translate(7.2 143.666455)scale(0.1 -0.1)\">\n       <use xlink:href=\"#DejaVuSans-48\"/>\n       <use x=\"63.623047\" xlink:href=\"#DejaVuSans-46\"/>\n       <use x=\"95.410156\" xlink:href=\"#DejaVuSans-48\"/>\n      </g>\n     </g>\n    </g>\n    <g id=\"ytick_2\">\n     <g id=\"line2d_8\">\n      <g>\n       <use style=\"stroke:#000000;stroke-width:0.8;\" x=\"30.103125\" xlink:href=\"#m8ae6576c7e\" y=\"112.333784\"/>\n      </g>\n     </g>\n     <g id=\"text_9\">\n      <!-- 0.2 -->\n      <g transform=\"translate(7.2 116.133003)scale(0.1 -0.1)\">\n       <use xlink:href=\"#DejaVuSans-48\"/>\n       <use x=\"63.623047\" xlink:href=\"#DejaVuSans-46\"/>\n       <use x=\"95.410156\" xlink:href=\"#DejaVuSans-50\"/>\n      </g>\n     </g>\n    </g>\n    <g id=\"ytick_3\">\n     <g id=\"line2d_9\">\n      <g>\n       <use style=\"stroke:#000000;stroke-width:0.8;\" x=\"30.103125\" xlink:href=\"#m8ae6576c7e\" y=\"84.800332\"/>\n      </g>\n     </g>\n     <g id=\"text_10\">\n      <!-- 0.4 -->\n      <g transform=\"translate(7.2 88.599551)scale(0.1 -0.1)\">\n       <use xlink:href=\"#DejaVuSans-48\"/>\n       <use x=\"63.623047\" xlink:href=\"#DejaVuSans-46\"/>\n       <use x=\"95.410156\" xlink:href=\"#DejaVuSans-52\"/>\n      </g>\n     </g>\n    </g>\n    <g id=\"ytick_4\">\n     <g id=\"line2d_10\">\n      <g>\n       <use style=\"stroke:#000000;stroke-width:0.8;\" x=\"30.103125\" xlink:href=\"#m8ae6576c7e\" y=\"57.26688\"/>\n      </g>\n     </g>\n     <g id=\"text_11\">\n      <!-- 0.6 -->\n      <g transform=\"translate(7.2 61.066099)scale(0.1 -0.1)\">\n       <use xlink:href=\"#DejaVuSans-48\"/>\n       <use x=\"63.623047\" xlink:href=\"#DejaVuSans-46\"/>\n       <use x=\"95.410156\" xlink:href=\"#DejaVuSans-54\"/>\n      </g>\n     </g>\n    </g>\n    <g id=\"ytick_5\">\n     <g id=\"line2d_11\">\n      <g>\n       <use style=\"stroke:#000000;stroke-width:0.8;\" x=\"30.103125\" xlink:href=\"#m8ae6576c7e\" y=\"29.733428\"/>\n      </g>\n     </g>\n     <g id=\"text_12\">\n      <!-- 0.8 -->\n      <g transform=\"translate(7.2 33.532647)scale(0.1 -0.1)\">\n       <use xlink:href=\"#DejaVuSans-48\"/>\n       <use x=\"63.623047\" xlink:href=\"#DejaVuSans-46\"/>\n       <use x=\"95.410156\" xlink:href=\"#DejaVuSans-56\"/>\n      </g>\n     </g>\n    </g>\n   </g>\n   <g id=\"line2d_12\">\n    <path clip-path=\"url(#p27fb978847)\" d=\"M 34.954394 64.196344 \n\" style=\"fill:none;stroke:#1f77b4;stroke-linecap:square;stroke-width:1.5;\"/>\n   </g>\n   <g id=\"line2d_13\">\n    <path clip-path=\"url(#p27fb978847)\" d=\"M 34.954394 64.196344 \nL 44.698573 92.835197 \n\" style=\"fill:none;stroke:#1f77b4;stroke-linecap:square;stroke-width:1.5;\"/>\n   </g>\n   <g id=\"line2d_14\">\n    <path clip-path=\"url(#p27fb978847)\" d=\"M 34.954394 64.196344 \nL 44.698573 92.835197 \n\" style=\"fill:none;stroke:#1f77b4;stroke-linecap:square;stroke-width:1.5;\"/>\n   </g>\n   <g id=\"line2d_15\">\n    <path clip-path=\"url(#p27fb978847)\" d=\"M 49.633125 93.492211 \n\" style=\"fill:none;stroke:#ff7f0e;stroke-dasharray:5.55,2.4;stroke-dashoffset:0;stroke-width:1.5;\"/>\n   </g>\n   <g id=\"line2d_16\"/>\n   <g id=\"line2d_17\">\n    <path clip-path=\"url(#p27fb978847)\" d=\"M 34.954394 64.196344 \nL 44.698573 92.835197 \n\" style=\"fill:none;stroke:#1f77b4;stroke-linecap:square;stroke-width:1.5;\"/>\n   </g>\n   <g id=\"line2d_18\">\n    <path clip-path=\"url(#p27fb978847)\" d=\"M 49.633125 93.492211 \n\" style=\"fill:none;stroke:#ff7f0e;stroke-dasharray:5.55,2.4;stroke-dashoffset:0;stroke-width:1.5;\"/>\n   </g>\n   <g id=\"line2d_19\">\n    <path clip-path=\"url(#p27fb978847)\" d=\"M 49.633125 19.231399 \n\" style=\"fill:none;stroke:#2ca02c;stroke-dasharray:9.6,2.4,1.5,2.4;stroke-dashoffset:0;stroke-width:1.5;\"/>\n   </g>\n   <g id=\"line2d_20\">\n    <path clip-path=\"url(#p27fb978847)\" d=\"M 34.954394 64.196344 \nL 44.698573 92.835197 \nL 54.442752 101.683101 \n\" style=\"fill:none;stroke:#1f77b4;stroke-linecap:square;stroke-width:1.5;\"/>\n   </g>\n   <g id=\"line2d_21\">\n    <path clip-path=\"url(#p27fb978847)\" d=\"M 49.633125 93.492211 \n\" style=\"fill:none;stroke:#ff7f0e;stroke-dasharray:5.55,2.4;stroke-dashoffset:0;stroke-width:1.5;\"/>\n   </g>\n   <g id=\"line2d_22\">\n    <path clip-path=\"url(#p27fb978847)\" d=\"M 49.633125 19.231399 \n\" style=\"fill:none;stroke:#2ca02c;stroke-dasharray:9.6,2.4,1.5,2.4;stroke-dashoffset:0;stroke-width:1.5;\"/>\n   </g>\n   <g id=\"line2d_23\">\n    <path clip-path=\"url(#p27fb978847)\" d=\"M 34.954394 64.196344 \nL 44.698573 92.835197 \nL 54.442752 101.683101 \nL 64.186931 104.221803 \n\" style=\"fill:none;stroke:#1f77b4;stroke-linecap:square;stroke-width:1.5;\"/>\n   </g>\n   <g id=\"line2d_24\">\n    <path clip-path=\"url(#p27fb978847)\" d=\"M 49.633125 93.492211 \n\" style=\"fill:none;stroke:#ff7f0e;stroke-dasharray:5.55,2.4;stroke-dashoffset:0;stroke-width:1.5;\"/>\n   </g>\n   <g id=\"line2d_25\">\n    <path clip-path=\"url(#p27fb978847)\" d=\"M 49.633125 19.231399 \n\" style=\"fill:none;stroke:#2ca02c;stroke-dasharray:9.6,2.4,1.5,2.4;stroke-dashoffset:0;stroke-width:1.5;\"/>\n   </g>\n   <g id=\"line2d_26\">\n    <path clip-path=\"url(#p27fb978847)\" d=\"M 34.954394 64.196344 \nL 44.698573 92.835197 \nL 54.442752 101.683101 \nL 64.186931 104.221803 \n\" style=\"fill:none;stroke:#1f77b4;stroke-linecap:square;stroke-width:1.5;\"/>\n   </g>\n   <g id=\"line2d_27\">\n    <path clip-path=\"url(#p27fb978847)\" d=\"M 49.633125 93.492211 \nL 69.163125 84.215311 \n\" style=\"fill:none;stroke:#ff7f0e;stroke-dasharray:5.55,2.4;stroke-dashoffset:0;stroke-width:1.5;\"/>\n   </g>\n   <g id=\"line2d_28\">\n    <path clip-path=\"url(#p27fb978847)\" d=\"M 49.633125 19.231399 \n\" style=\"fill:none;stroke:#2ca02c;stroke-dasharray:9.6,2.4,1.5,2.4;stroke-dashoffset:0;stroke-width:1.5;\"/>\n   </g>\n   <g id=\"line2d_29\">\n    <path clip-path=\"url(#p27fb978847)\" d=\"M 34.954394 64.196344 \nL 44.698573 92.835197 \nL 54.442752 101.683101 \nL 64.186931 104.221803 \n\" style=\"fill:none;stroke:#1f77b4;stroke-linecap:square;stroke-width:1.5;\"/>\n   </g>\n   <g id=\"line2d_30\">\n    <path clip-path=\"url(#p27fb978847)\" d=\"M 49.633125 93.492211 \nL 69.163125 84.215311 \n\" style=\"fill:none;stroke:#ff7f0e;stroke-dasharray:5.55,2.4;stroke-dashoffset:0;stroke-width:1.5;\"/>\n   </g>\n   <g id=\"line2d_31\">\n    <path clip-path=\"url(#p27fb978847)\" d=\"M 49.633125 19.231399 \nL 69.163125 22.662189 \n\" style=\"fill:none;stroke:#2ca02c;stroke-dasharray:9.6,2.4,1.5,2.4;stroke-dashoffset:0;stroke-width:1.5;\"/>\n   </g>\n   <g id=\"line2d_32\">\n    <path clip-path=\"url(#p27fb978847)\" d=\"M 34.954394 64.196344 \nL 44.698573 92.835197 \nL 54.442752 101.683101 \nL 64.186931 104.221803 \nL 73.93111 111.313987 \n\" style=\"fill:none;stroke:#1f77b4;stroke-linecap:square;stroke-width:1.5;\"/>\n   </g>\n   <g id=\"line2d_33\">\n    <path clip-path=\"url(#p27fb978847)\" d=\"M 49.633125 93.492211 \nL 69.163125 84.215311 \n\" style=\"fill:none;stroke:#ff7f0e;stroke-dasharray:5.55,2.4;stroke-dashoffset:0;stroke-width:1.5;\"/>\n   </g>\n   <g id=\"line2d_34\">\n    <path clip-path=\"url(#p27fb978847)\" d=\"M 49.633125 19.231399 \nL 69.163125 22.662189 \n\" style=\"fill:none;stroke:#2ca02c;stroke-dasharray:9.6,2.4,1.5,2.4;stroke-dashoffset:0;stroke-width:1.5;\"/>\n   </g>\n   <g id=\"line2d_35\">\n    <path clip-path=\"url(#p27fb978847)\" d=\"M 34.954394 64.196344 \nL 44.698573 92.835197 \nL 54.442752 101.683101 \nL 64.186931 104.221803 \nL 73.93111 111.313987 \nL 83.675289 109.834891 \n\" style=\"fill:none;stroke:#1f77b4;stroke-linecap:square;stroke-width:1.5;\"/>\n   </g>\n   <g id=\"line2d_36\">\n    <path clip-path=\"url(#p27fb978847)\" d=\"M 49.633125 93.492211 \nL 69.163125 84.215311 \n\" style=\"fill:none;stroke:#ff7f0e;stroke-dasharray:5.55,2.4;stroke-dashoffset:0;stroke-width:1.5;\"/>\n   </g>\n   <g id=\"line2d_37\">\n    <path clip-path=\"url(#p27fb978847)\" d=\"M 49.633125 19.231399 \nL 69.163125 22.662189 \n\" style=\"fill:none;stroke:#2ca02c;stroke-dasharray:9.6,2.4,1.5,2.4;stroke-dashoffset:0;stroke-width:1.5;\"/>\n   </g>\n   <g id=\"line2d_38\">\n    <path clip-path=\"url(#p27fb978847)\" d=\"M 34.954394 64.196344 \nL 44.698573 92.835197 \nL 54.442752 101.683101 \nL 64.186931 104.221803 \nL 73.93111 111.313987 \nL 83.675289 109.834891 \n\" style=\"fill:none;stroke:#1f77b4;stroke-linecap:square;stroke-width:1.5;\"/>\n   </g>\n   <g id=\"line2d_39\">\n    <path clip-path=\"url(#p27fb978847)\" d=\"M 49.633125 93.492211 \nL 69.163125 84.215311 \nL 88.693125 103.538798 \n\" style=\"fill:none;stroke:#ff7f0e;stroke-dasharray:5.55,2.4;stroke-dashoffset:0;stroke-width:1.5;\"/>\n   </g>\n   <g id=\"line2d_40\">\n    <path clip-path=\"url(#p27fb978847)\" d=\"M 49.633125 19.231399 \nL 69.163125 22.662189 \n\" style=\"fill:none;stroke:#2ca02c;stroke-dasharray:9.6,2.4,1.5,2.4;stroke-dashoffset:0;stroke-width:1.5;\"/>\n   </g>\n   <g id=\"line2d_41\">\n    <path clip-path=\"url(#p27fb978847)\" d=\"M 34.954394 64.196344 \nL 44.698573 92.835197 \nL 54.442752 101.683101 \nL 64.186931 104.221803 \nL 73.93111 111.313987 \nL 83.675289 109.834891 \n\" style=\"fill:none;stroke:#1f77b4;stroke-linecap:square;stroke-width:1.5;\"/>\n   </g>\n   <g id=\"line2d_42\">\n    <path clip-path=\"url(#p27fb978847)\" d=\"M 49.633125 93.492211 \nL 69.163125 84.215311 \nL 88.693125 103.538798 \n\" style=\"fill:none;stroke:#ff7f0e;stroke-dasharray:5.55,2.4;stroke-dashoffset:0;stroke-width:1.5;\"/>\n   </g>\n   <g id=\"line2d_43\">\n    <path clip-path=\"url(#p27fb978847)\" d=\"M 49.633125 19.231399 \nL 69.163125 22.662189 \nL 88.693125 15.596395 \n\" style=\"fill:none;stroke:#2ca02c;stroke-dasharray:9.6,2.4,1.5,2.4;stroke-dashoffset:0;stroke-width:1.5;\"/>\n   </g>\n   <g id=\"line2d_44\">\n    <path clip-path=\"url(#p27fb978847)\" d=\"M 34.954394 64.196344 \nL 44.698573 92.835197 \nL 54.442752 101.683101 \nL 64.186931 104.221803 \nL 73.93111 111.313987 \nL 83.675289 109.834891 \nL 93.419468 117.07377 \n\" style=\"fill:none;stroke:#1f77b4;stroke-linecap:square;stroke-width:1.5;\"/>\n   </g>\n   <g id=\"line2d_45\">\n    <path clip-path=\"url(#p27fb978847)\" d=\"M 49.633125 93.492211 \nL 69.163125 84.215311 \nL 88.693125 103.538798 \n\" style=\"fill:none;stroke:#ff7f0e;stroke-dasharray:5.55,2.4;stroke-dashoffset:0;stroke-width:1.5;\"/>\n   </g>\n   <g id=\"line2d_46\">\n    <path clip-path=\"url(#p27fb978847)\" d=\"M 49.633125 19.231399 \nL 69.163125 22.662189 \nL 88.693125 15.596395 \n\" style=\"fill:none;stroke:#2ca02c;stroke-dasharray:9.6,2.4,1.5,2.4;stroke-dashoffset:0;stroke-width:1.5;\"/>\n   </g>\n   <g id=\"line2d_47\">\n    <path clip-path=\"url(#p27fb978847)\" d=\"M 34.954394 64.196344 \nL 44.698573 92.835197 \nL 54.442752 101.683101 \nL 64.186931 104.221803 \nL 73.93111 111.313987 \nL 83.675289 109.834891 \nL 93.419468 117.07377 \nL 103.163647 116.003279 \n\" style=\"fill:none;stroke:#1f77b4;stroke-linecap:square;stroke-width:1.5;\"/>\n   </g>\n   <g id=\"line2d_48\">\n    <path clip-path=\"url(#p27fb978847)\" d=\"M 49.633125 93.492211 \nL 69.163125 84.215311 \nL 88.693125 103.538798 \n\" style=\"fill:none;stroke:#ff7f0e;stroke-dasharray:5.55,2.4;stroke-dashoffset:0;stroke-width:1.5;\"/>\n   </g>\n   <g id=\"line2d_49\">\n    <path clip-path=\"url(#p27fb978847)\" d=\"M 49.633125 19.231399 \nL 69.163125 22.662189 \nL 88.693125 15.596395 \n\" style=\"fill:none;stroke:#2ca02c;stroke-dasharray:9.6,2.4,1.5,2.4;stroke-dashoffset:0;stroke-width:1.5;\"/>\n   </g>\n   <g id=\"line2d_50\">\n    <path clip-path=\"url(#p27fb978847)\" d=\"M 34.954394 64.196344 \nL 44.698573 92.835197 \nL 54.442752 101.683101 \nL 64.186931 104.221803 \nL 73.93111 111.313987 \nL 83.675289 109.834891 \nL 93.419468 117.07377 \nL 103.163647 116.003279 \n\" style=\"fill:none;stroke:#1f77b4;stroke-linecap:square;stroke-width:1.5;\"/>\n   </g>\n   <g id=\"line2d_51\">\n    <path clip-path=\"url(#p27fb978847)\" d=\"M 49.633125 93.492211 \nL 69.163125 84.215311 \nL 88.693125 103.538798 \nL 108.223125 97.619903 \n\" style=\"fill:none;stroke:#ff7f0e;stroke-dasharray:5.55,2.4;stroke-dashoffset:0;stroke-width:1.5;\"/>\n   </g>\n   <g id=\"line2d_52\">\n    <path clip-path=\"url(#p27fb978847)\" d=\"M 49.633125 19.231399 \nL 69.163125 22.662189 \nL 88.693125 15.596395 \n\" style=\"fill:none;stroke:#2ca02c;stroke-dasharray:9.6,2.4,1.5,2.4;stroke-dashoffset:0;stroke-width:1.5;\"/>\n   </g>\n   <g id=\"line2d_53\">\n    <path clip-path=\"url(#p27fb978847)\" d=\"M 34.954394 64.196344 \nL 44.698573 92.835197 \nL 54.442752 101.683101 \nL 64.186931 104.221803 \nL 73.93111 111.313987 \nL 83.675289 109.834891 \nL 93.419468 117.07377 \nL 103.163647 116.003279 \n\" style=\"fill:none;stroke:#1f77b4;stroke-linecap:square;stroke-width:1.5;\"/>\n   </g>\n   <g id=\"line2d_54\">\n    <path clip-path=\"url(#p27fb978847)\" d=\"M 49.633125 93.492211 \nL 69.163125 84.215311 \nL 88.693125 103.538798 \nL 108.223125 97.619903 \n\" style=\"fill:none;stroke:#ff7f0e;stroke-dasharray:5.55,2.4;stroke-dashoffset:0;stroke-width:1.5;\"/>\n   </g>\n   <g id=\"line2d_55\">\n    <path clip-path=\"url(#p27fb978847)\" d=\"M 49.633125 19.231399 \nL 69.163125 22.662189 \nL 88.693125 15.596395 \nL 108.223125 17.080348 \n\" style=\"fill:none;stroke:#2ca02c;stroke-dasharray:9.6,2.4,1.5,2.4;stroke-dashoffset:0;stroke-width:1.5;\"/>\n   </g>\n   <g id=\"line2d_56\">\n    <path clip-path=\"url(#p27fb978847)\" d=\"M 34.954394 64.196344 \nL 44.698573 92.835197 \nL 54.442752 101.683101 \nL 64.186931 104.221803 \nL 73.93111 111.313987 \nL 83.675289 109.834891 \nL 93.419468 117.07377 \nL 103.163647 116.003279 \nL 112.907826 121.95256 \n\" style=\"fill:none;stroke:#1f77b4;stroke-linecap:square;stroke-width:1.5;\"/>\n   </g>\n   <g id=\"line2d_57\">\n    <path clip-path=\"url(#p27fb978847)\" d=\"M 49.633125 93.492211 \nL 69.163125 84.215311 \nL 88.693125 103.538798 \nL 108.223125 97.619903 \n\" style=\"fill:none;stroke:#ff7f0e;stroke-dasharray:5.55,2.4;stroke-dashoffset:0;stroke-width:1.5;\"/>\n   </g>\n   <g id=\"line2d_58\">\n    <path clip-path=\"url(#p27fb978847)\" d=\"M 49.633125 19.231399 \nL 69.163125 22.662189 \nL 88.693125 15.596395 \nL 108.223125 17.080348 \n\" style=\"fill:none;stroke:#2ca02c;stroke-dasharray:9.6,2.4,1.5,2.4;stroke-dashoffset:0;stroke-width:1.5;\"/>\n   </g>\n   <g id=\"line2d_59\">\n    <path clip-path=\"url(#p27fb978847)\" d=\"M 34.954394 64.196344 \nL 44.698573 92.835197 \nL 54.442752 101.683101 \nL 64.186931 104.221803 \nL 73.93111 111.313987 \nL 83.675289 109.834891 \nL 93.419468 117.07377 \nL 103.163647 116.003279 \nL 112.907826 121.95256 \nL 122.652006 121.218178 \n\" style=\"fill:none;stroke:#1f77b4;stroke-linecap:square;stroke-width:1.5;\"/>\n   </g>\n   <g id=\"line2d_60\">\n    <path clip-path=\"url(#p27fb978847)\" d=\"M 49.633125 93.492211 \nL 69.163125 84.215311 \nL 88.693125 103.538798 \nL 108.223125 97.619903 \n\" style=\"fill:none;stroke:#ff7f0e;stroke-dasharray:5.55,2.4;stroke-dashoffset:0;stroke-width:1.5;\"/>\n   </g>\n   <g id=\"line2d_61\">\n    <path clip-path=\"url(#p27fb978847)\" d=\"M 49.633125 19.231399 \nL 69.163125 22.662189 \nL 88.693125 15.596395 \nL 108.223125 17.080348 \n\" style=\"fill:none;stroke:#2ca02c;stroke-dasharray:9.6,2.4,1.5,2.4;stroke-dashoffset:0;stroke-width:1.5;\"/>\n   </g>\n   <g id=\"line2d_62\">\n    <path clip-path=\"url(#p27fb978847)\" d=\"M 34.954394 64.196344 \nL 44.698573 92.835197 \nL 54.442752 101.683101 \nL 64.186931 104.221803 \nL 73.93111 111.313987 \nL 83.675289 109.834891 \nL 93.419468 117.07377 \nL 103.163647 116.003279 \nL 112.907826 121.95256 \nL 122.652006 121.218178 \n\" style=\"fill:none;stroke:#1f77b4;stroke-linecap:square;stroke-width:1.5;\"/>\n   </g>\n   <g id=\"line2d_63\">\n    <path clip-path=\"url(#p27fb978847)\" d=\"M 49.633125 93.492211 \nL 69.163125 84.215311 \nL 88.693125 103.538798 \nL 108.223125 97.619903 \nL 127.753125 104.198245 \n\" style=\"fill:none;stroke:#ff7f0e;stroke-dasharray:5.55,2.4;stroke-dashoffset:0;stroke-width:1.5;\"/>\n   </g>\n   <g id=\"line2d_64\">\n    <path clip-path=\"url(#p27fb978847)\" d=\"M 49.633125 19.231399 \nL 69.163125 22.662189 \nL 88.693125 15.596395 \nL 108.223125 17.080348 \n\" style=\"fill:none;stroke:#2ca02c;stroke-dasharray:9.6,2.4,1.5,2.4;stroke-dashoffset:0;stroke-width:1.5;\"/>\n   </g>\n   <g id=\"line2d_65\">\n    <path clip-path=\"url(#p27fb978847)\" d=\"M 34.954394 64.196344 \nL 44.698573 92.835197 \nL 54.442752 101.683101 \nL 64.186931 104.221803 \nL 73.93111 111.313987 \nL 83.675289 109.834891 \nL 93.419468 117.07377 \nL 103.163647 116.003279 \nL 112.907826 121.95256 \nL 122.652006 121.218178 \n\" style=\"fill:none;stroke:#1f77b4;stroke-linecap:square;stroke-width:1.5;\"/>\n   </g>\n   <g id=\"line2d_66\">\n    <path clip-path=\"url(#p27fb978847)\" d=\"M 49.633125 93.492211 \nL 69.163125 84.215311 \nL 88.693125 103.538798 \nL 108.223125 97.619903 \nL 127.753125 104.198245 \n\" style=\"fill:none;stroke:#ff7f0e;stroke-dasharray:5.55,2.4;stroke-dashoffset:0;stroke-width:1.5;\"/>\n   </g>\n   <g id=\"line2d_67\">\n    <path clip-path=\"url(#p27fb978847)\" d=\"M 49.633125 19.231399 \nL 69.163125 22.662189 \nL 88.693125 15.596395 \nL 108.223125 17.080348 \nL 127.753125 15.296881 \n\" style=\"fill:none;stroke:#2ca02c;stroke-dasharray:9.6,2.4,1.5,2.4;stroke-dashoffset:0;stroke-width:1.5;\"/>\n   </g>\n   <g id=\"line2d_68\">\n    <path clip-path=\"url(#p27fb978847)\" d=\"M 34.954394 64.196344 \nL 44.698573 92.835197 \nL 54.442752 101.683101 \nL 64.186931 104.221803 \nL 73.93111 111.313987 \nL 83.675289 109.834891 \nL 93.419468 117.07377 \nL 103.163647 116.003279 \nL 112.907826 121.95256 \nL 122.652006 121.218178 \nL 132.396185 126.404787 \n\" style=\"fill:none;stroke:#1f77b4;stroke-linecap:square;stroke-width:1.5;\"/>\n   </g>\n   <g id=\"line2d_69\">\n    <path clip-path=\"url(#p27fb978847)\" d=\"M 49.633125 93.492211 \nL 69.163125 84.215311 \nL 88.693125 103.538798 \nL 108.223125 97.619903 \nL 127.753125 104.198245 \n\" style=\"fill:none;stroke:#ff7f0e;stroke-dasharray:5.55,2.4;stroke-dashoffset:0;stroke-width:1.5;\"/>\n   </g>\n   <g id=\"line2d_70\">\n    <path clip-path=\"url(#p27fb978847)\" d=\"M 49.633125 19.231399 \nL 69.163125 22.662189 \nL 88.693125 15.596395 \nL 108.223125 17.080348 \nL 127.753125 15.296881 \n\" style=\"fill:none;stroke:#2ca02c;stroke-dasharray:9.6,2.4,1.5,2.4;stroke-dashoffset:0;stroke-width:1.5;\"/>\n   </g>\n   <g id=\"line2d_71\">\n    <path clip-path=\"url(#p27fb978847)\" d=\"M 34.954394 64.196344 \nL 44.698573 92.835197 \nL 54.442752 101.683101 \nL 64.186931 104.221803 \nL 73.93111 111.313987 \nL 83.675289 109.834891 \nL 93.419468 117.07377 \nL 103.163647 116.003279 \nL 112.907826 121.95256 \nL 122.652006 121.218178 \nL 132.396185 126.404787 \nL 142.140364 124.855429 \n\" style=\"fill:none;stroke:#1f77b4;stroke-linecap:square;stroke-width:1.5;\"/>\n   </g>\n   <g id=\"line2d_72\">\n    <path clip-path=\"url(#p27fb978847)\" d=\"M 49.633125 93.492211 \nL 69.163125 84.215311 \nL 88.693125 103.538798 \nL 108.223125 97.619903 \nL 127.753125 104.198245 \n\" style=\"fill:none;stroke:#ff7f0e;stroke-dasharray:5.55,2.4;stroke-dashoffset:0;stroke-width:1.5;\"/>\n   </g>\n   <g id=\"line2d_73\">\n    <path clip-path=\"url(#p27fb978847)\" d=\"M 49.633125 19.231399 \nL 69.163125 22.662189 \nL 88.693125 15.596395 \nL 108.223125 17.080348 \nL 127.753125 15.296881 \n\" style=\"fill:none;stroke:#2ca02c;stroke-dasharray:9.6,2.4,1.5,2.4;stroke-dashoffset:0;stroke-width:1.5;\"/>\n   </g>\n   <g id=\"line2d_74\">\n    <path clip-path=\"url(#p27fb978847)\" d=\"M 34.954394 64.196344 \nL 44.698573 92.835197 \nL 54.442752 101.683101 \nL 64.186931 104.221803 \nL 73.93111 111.313987 \nL 83.675289 109.834891 \nL 93.419468 117.07377 \nL 103.163647 116.003279 \nL 112.907826 121.95256 \nL 122.652006 121.218178 \nL 132.396185 126.404787 \nL 142.140364 124.855429 \n\" style=\"fill:none;stroke:#1f77b4;stroke-linecap:square;stroke-width:1.5;\"/>\n   </g>\n   <g id=\"line2d_75\">\n    <path clip-path=\"url(#p27fb978847)\" d=\"M 49.633125 93.492211 \nL 69.163125 84.215311 \nL 88.693125 103.538798 \nL 108.223125 97.619903 \nL 127.753125 104.198245 \nL 147.283125 82.552622 \n\" style=\"fill:none;stroke:#ff7f0e;stroke-dasharray:5.55,2.4;stroke-dashoffset:0;stroke-width:1.5;\"/>\n   </g>\n   <g id=\"line2d_76\">\n    <path clip-path=\"url(#p27fb978847)\" d=\"M 49.633125 19.231399 \nL 69.163125 22.662189 \nL 88.693125 15.596395 \nL 108.223125 17.080348 \nL 127.753125 15.296881 \n\" style=\"fill:none;stroke:#2ca02c;stroke-dasharray:9.6,2.4,1.5,2.4;stroke-dashoffset:0;stroke-width:1.5;\"/>\n   </g>\n   <g id=\"line2d_77\">\n    <path clip-path=\"url(#p27fb978847)\" d=\"M 34.954394 64.196344 \nL 44.698573 92.835197 \nL 54.442752 101.683101 \nL 64.186931 104.221803 \nL 73.93111 111.313987 \nL 83.675289 109.834891 \nL 93.419468 117.07377 \nL 103.163647 116.003279 \nL 112.907826 121.95256 \nL 122.652006 121.218178 \nL 132.396185 126.404787 \nL 142.140364 124.855429 \n\" style=\"fill:none;stroke:#1f77b4;stroke-linecap:square;stroke-width:1.5;\"/>\n   </g>\n   <g id=\"line2d_78\">\n    <path clip-path=\"url(#p27fb978847)\" d=\"M 49.633125 93.492211 \nL 69.163125 84.215311 \nL 88.693125 103.538798 \nL 108.223125 97.619903 \nL 127.753125 104.198245 \nL 147.283125 82.552622 \n\" style=\"fill:none;stroke:#ff7f0e;stroke-dasharray:5.55,2.4;stroke-dashoffset:0;stroke-width:1.5;\"/>\n   </g>\n   <g id=\"line2d_79\">\n    <path clip-path=\"url(#p27fb978847)\" d=\"M 49.633125 19.231399 \nL 69.163125 22.662189 \nL 88.693125 15.596395 \nL 108.223125 17.080348 \nL 127.753125 15.296881 \nL 147.283125 20.74258 \n\" style=\"fill:none;stroke:#2ca02c;stroke-dasharray:9.6,2.4,1.5,2.4;stroke-dashoffset:0;stroke-width:1.5;\"/>\n   </g>\n   <g id=\"line2d_80\">\n    <path clip-path=\"url(#p27fb978847)\" d=\"M 34.954394 64.196344 \nL 44.698573 92.835197 \nL 54.442752 101.683101 \nL 64.186931 104.221803 \nL 73.93111 111.313987 \nL 83.675289 109.834891 \nL 93.419468 117.07377 \nL 103.163647 116.003279 \nL 112.907826 121.95256 \nL 122.652006 121.218178 \nL 132.396185 126.404787 \nL 142.140364 124.855429 \nL 151.884543 129.437077 \n\" style=\"fill:none;stroke:#1f77b4;stroke-linecap:square;stroke-width:1.5;\"/>\n   </g>\n   <g id=\"line2d_81\">\n    <path clip-path=\"url(#p27fb978847)\" d=\"M 49.633125 93.492211 \nL 69.163125 84.215311 \nL 88.693125 103.538798 \nL 108.223125 97.619903 \nL 127.753125 104.198245 \nL 147.283125 82.552622 \n\" style=\"fill:none;stroke:#ff7f0e;stroke-dasharray:5.55,2.4;stroke-dashoffset:0;stroke-width:1.5;\"/>\n   </g>\n   <g id=\"line2d_82\">\n    <path clip-path=\"url(#p27fb978847)\" d=\"M 49.633125 19.231399 \nL 69.163125 22.662189 \nL 88.693125 15.596395 \nL 108.223125 17.080348 \nL 127.753125 15.296881 \nL 147.283125 20.74258 \n\" style=\"fill:none;stroke:#2ca02c;stroke-dasharray:9.6,2.4,1.5,2.4;stroke-dashoffset:0;stroke-width:1.5;\"/>\n   </g>\n   <g id=\"line2d_83\">\n    <path clip-path=\"url(#p27fb978847)\" d=\"M 34.954394 64.196344 \nL 44.698573 92.835197 \nL 54.442752 101.683101 \nL 64.186931 104.221803 \nL 73.93111 111.313987 \nL 83.675289 109.834891 \nL 93.419468 117.07377 \nL 103.163647 116.003279 \nL 112.907826 121.95256 \nL 122.652006 121.218178 \nL 132.396185 126.404787 \nL 142.140364 124.855429 \nL 151.884543 129.437077 \nL 161.628722 128.839556 \n\" style=\"fill:none;stroke:#1f77b4;stroke-linecap:square;stroke-width:1.5;\"/>\n   </g>\n   <g id=\"line2d_84\">\n    <path clip-path=\"url(#p27fb978847)\" d=\"M 49.633125 93.492211 \nL 69.163125 84.215311 \nL 88.693125 103.538798 \nL 108.223125 97.619903 \nL 127.753125 104.198245 \nL 147.283125 82.552622 \n\" style=\"fill:none;stroke:#ff7f0e;stroke-dasharray:5.55,2.4;stroke-dashoffset:0;stroke-width:1.5;\"/>\n   </g>\n   <g id=\"line2d_85\">\n    <path clip-path=\"url(#p27fb978847)\" d=\"M 49.633125 19.231399 \nL 69.163125 22.662189 \nL 88.693125 15.596395 \nL 108.223125 17.080348 \nL 127.753125 15.296881 \nL 147.283125 20.74258 \n\" style=\"fill:none;stroke:#2ca02c;stroke-dasharray:9.6,2.4,1.5,2.4;stroke-dashoffset:0;stroke-width:1.5;\"/>\n   </g>\n   <g id=\"line2d_86\">\n    <path clip-path=\"url(#p27fb978847)\" d=\"M 34.954394 64.196344 \nL 44.698573 92.835197 \nL 54.442752 101.683101 \nL 64.186931 104.221803 \nL 73.93111 111.313987 \nL 83.675289 109.834891 \nL 93.419468 117.07377 \nL 103.163647 116.003279 \nL 112.907826 121.95256 \nL 122.652006 121.218178 \nL 132.396185 126.404787 \nL 142.140364 124.855429 \nL 151.884543 129.437077 \nL 161.628722 128.839556 \n\" style=\"fill:none;stroke:#1f77b4;stroke-linecap:square;stroke-width:1.5;\"/>\n   </g>\n   <g id=\"line2d_87\">\n    <path clip-path=\"url(#p27fb978847)\" d=\"M 49.633125 93.492211 \nL 69.163125 84.215311 \nL 88.693125 103.538798 \nL 108.223125 97.619903 \nL 127.753125 104.198245 \nL 147.283125 82.552622 \nL 166.813125 93.935094 \n\" style=\"fill:none;stroke:#ff7f0e;stroke-dasharray:5.55,2.4;stroke-dashoffset:0;stroke-width:1.5;\"/>\n   </g>\n   <g id=\"line2d_88\">\n    <path clip-path=\"url(#p27fb978847)\" d=\"M 49.633125 19.231399 \nL 69.163125 22.662189 \nL 88.693125 15.596395 \nL 108.223125 17.080348 \nL 127.753125 15.296881 \nL 147.283125 20.74258 \n\" style=\"fill:none;stroke:#2ca02c;stroke-dasharray:9.6,2.4,1.5,2.4;stroke-dashoffset:0;stroke-width:1.5;\"/>\n   </g>\n   <g id=\"line2d_89\">\n    <path clip-path=\"url(#p27fb978847)\" d=\"M 34.954394 64.196344 \nL 44.698573 92.835197 \nL 54.442752 101.683101 \nL 64.186931 104.221803 \nL 73.93111 111.313987 \nL 83.675289 109.834891 \nL 93.419468 117.07377 \nL 103.163647 116.003279 \nL 112.907826 121.95256 \nL 122.652006 121.218178 \nL 132.396185 126.404787 \nL 142.140364 124.855429 \nL 151.884543 129.437077 \nL 161.628722 128.839556 \n\" style=\"fill:none;stroke:#1f77b4;stroke-linecap:square;stroke-width:1.5;\"/>\n   </g>\n   <g id=\"line2d_90\">\n    <path clip-path=\"url(#p27fb978847)\" d=\"M 49.633125 93.492211 \nL 69.163125 84.215311 \nL 88.693125 103.538798 \nL 108.223125 97.619903 \nL 127.753125 104.198245 \nL 147.283125 82.552622 \nL 166.813125 93.935094 \n\" style=\"fill:none;stroke:#ff7f0e;stroke-dasharray:5.55,2.4;stroke-dashoffset:0;stroke-width:1.5;\"/>\n   </g>\n   <g id=\"line2d_91\">\n    <path clip-path=\"url(#p27fb978847)\" d=\"M 49.633125 19.231399 \nL 69.163125 22.662189 \nL 88.693125 15.596395 \nL 108.223125 17.080348 \nL 127.753125 15.296881 \nL 147.283125 20.74258 \nL 166.813125 17.230104 \n\" style=\"fill:none;stroke:#2ca02c;stroke-dasharray:9.6,2.4,1.5,2.4;stroke-dashoffset:0;stroke-width:1.5;\"/>\n   </g>\n   <g id=\"line2d_92\">\n    <path clip-path=\"url(#p27fb978847)\" d=\"M 34.954394 64.196344 \nL 44.698573 92.835197 \nL 54.442752 101.683101 \nL 64.186931 104.221803 \nL 73.93111 111.313987 \nL 83.675289 109.834891 \nL 93.419468 117.07377 \nL 103.163647 116.003279 \nL 112.907826 121.95256 \nL 122.652006 121.218178 \nL 132.396185 126.404787 \nL 142.140364 124.855429 \nL 151.884543 129.437077 \nL 161.628722 128.839556 \nL 171.372901 132.934276 \n\" style=\"fill:none;stroke:#1f77b4;stroke-linecap:square;stroke-width:1.5;\"/>\n   </g>\n   <g id=\"line2d_93\">\n    <path clip-path=\"url(#p27fb978847)\" d=\"M 49.633125 93.492211 \nL 69.163125 84.215311 \nL 88.693125 103.538798 \nL 108.223125 97.619903 \nL 127.753125 104.198245 \nL 147.283125 82.552622 \nL 166.813125 93.935094 \n\" style=\"fill:none;stroke:#ff7f0e;stroke-dasharray:5.55,2.4;stroke-dashoffset:0;stroke-width:1.5;\"/>\n   </g>\n   <g id=\"line2d_94\">\n    <path clip-path=\"url(#p27fb978847)\" d=\"M 49.633125 19.231399 \nL 69.163125 22.662189 \nL 88.693125 15.596395 \nL 108.223125 17.080348 \nL 127.753125 15.296881 \nL 147.283125 20.74258 \nL 166.813125 17.230104 \n\" style=\"fill:none;stroke:#2ca02c;stroke-dasharray:9.6,2.4,1.5,2.4;stroke-dashoffset:0;stroke-width:1.5;\"/>\n   </g>\n   <g id=\"line2d_95\">\n    <path clip-path=\"url(#p27fb978847)\" d=\"M 34.954394 64.196344 \nL 44.698573 92.835197 \nL 54.442752 101.683101 \nL 64.186931 104.221803 \nL 73.93111 111.313987 \nL 83.675289 109.834891 \nL 93.419468 117.07377 \nL 103.163647 116.003279 \nL 112.907826 121.95256 \nL 122.652006 121.218178 \nL 132.396185 126.404787 \nL 142.140364 124.855429 \nL 151.884543 129.437077 \nL 161.628722 128.839556 \nL 171.372901 132.934276 \nL 181.11708 131.059881 \n\" style=\"fill:none;stroke:#1f77b4;stroke-linecap:square;stroke-width:1.5;\"/>\n   </g>\n   <g id=\"line2d_96\">\n    <path clip-path=\"url(#p27fb978847)\" d=\"M 49.633125 93.492211 \nL 69.163125 84.215311 \nL 88.693125 103.538798 \nL 108.223125 97.619903 \nL 127.753125 104.198245 \nL 147.283125 82.552622 \nL 166.813125 93.935094 \n\" style=\"fill:none;stroke:#ff7f0e;stroke-dasharray:5.55,2.4;stroke-dashoffset:0;stroke-width:1.5;\"/>\n   </g>\n   <g id=\"line2d_97\">\n    <path clip-path=\"url(#p27fb978847)\" d=\"M 49.633125 19.231399 \nL 69.163125 22.662189 \nL 88.693125 15.596395 \nL 108.223125 17.080348 \nL 127.753125 15.296881 \nL 147.283125 20.74258 \nL 166.813125 17.230104 \n\" style=\"fill:none;stroke:#2ca02c;stroke-dasharray:9.6,2.4,1.5,2.4;stroke-dashoffset:0;stroke-width:1.5;\"/>\n   </g>\n   <g id=\"line2d_98\">\n    <path clip-path=\"url(#p27fb978847)\" d=\"M 34.954394 64.196344 \nL 44.698573 92.835197 \nL 54.442752 101.683101 \nL 64.186931 104.221803 \nL 73.93111 111.313987 \nL 83.675289 109.834891 \nL 93.419468 117.07377 \nL 103.163647 116.003279 \nL 112.907826 121.95256 \nL 122.652006 121.218178 \nL 132.396185 126.404787 \nL 142.140364 124.855429 \nL 151.884543 129.437077 \nL 161.628722 128.839556 \nL 171.372901 132.934276 \nL 181.11708 131.059881 \n\" style=\"fill:none;stroke:#1f77b4;stroke-linecap:square;stroke-width:1.5;\"/>\n   </g>\n   <g id=\"line2d_99\">\n    <path clip-path=\"url(#p27fb978847)\" d=\"M 49.633125 93.492211 \nL 69.163125 84.215311 \nL 88.693125 103.538798 \nL 108.223125 97.619903 \nL 127.753125 104.198245 \nL 147.283125 82.552622 \nL 166.813125 93.935094 \nL 186.343125 99.646506 \n\" style=\"fill:none;stroke:#ff7f0e;stroke-dasharray:5.55,2.4;stroke-dashoffset:0;stroke-width:1.5;\"/>\n   </g>\n   <g id=\"line2d_100\">\n    <path clip-path=\"url(#p27fb978847)\" d=\"M 49.633125 19.231399 \nL 69.163125 22.662189 \nL 88.693125 15.596395 \nL 108.223125 17.080348 \nL 127.753125 15.296881 \nL 147.283125 20.74258 \nL 166.813125 17.230104 \n\" style=\"fill:none;stroke:#2ca02c;stroke-dasharray:9.6,2.4,1.5,2.4;stroke-dashoffset:0;stroke-width:1.5;\"/>\n   </g>\n   <g id=\"line2d_101\">\n    <path clip-path=\"url(#p27fb978847)\" d=\"M 34.954394 64.196344 \nL 44.698573 92.835197 \nL 54.442752 101.683101 \nL 64.186931 104.221803 \nL 73.93111 111.313987 \nL 83.675289 109.834891 \nL 93.419468 117.07377 \nL 103.163647 116.003279 \nL 112.907826 121.95256 \nL 122.652006 121.218178 \nL 132.396185 126.404787 \nL 142.140364 124.855429 \nL 151.884543 129.437077 \nL 161.628722 128.839556 \nL 171.372901 132.934276 \nL 181.11708 131.059881 \n\" style=\"fill:none;stroke:#1f77b4;stroke-linecap:square;stroke-width:1.5;\"/>\n   </g>\n   <g id=\"line2d_102\">\n    <path clip-path=\"url(#p27fb978847)\" d=\"M 49.633125 93.492211 \nL 69.163125 84.215311 \nL 88.693125 103.538798 \nL 108.223125 97.619903 \nL 127.753125 104.198245 \nL 147.283125 82.552622 \nL 166.813125 93.935094 \nL 186.343125 99.646506 \n\" style=\"fill:none;stroke:#ff7f0e;stroke-dasharray:5.55,2.4;stroke-dashoffset:0;stroke-width:1.5;\"/>\n   </g>\n   <g id=\"line2d_103\">\n    <path clip-path=\"url(#p27fb978847)\" d=\"M 49.633125 19.231399 \nL 69.163125 22.662189 \nL 88.693125 15.596395 \nL 108.223125 17.080348 \nL 127.753125 15.296881 \nL 147.283125 20.74258 \nL 166.813125 17.230104 \nL 186.343125 14.207742 \n\" style=\"fill:none;stroke:#2ca02c;stroke-dasharray:9.6,2.4,1.5,2.4;stroke-dashoffset:0;stroke-width:1.5;\"/>\n   </g>\n   <g id=\"line2d_104\">\n    <path clip-path=\"url(#p27fb978847)\" d=\"M 34.954394 64.196344 \nL 44.698573 92.835197 \nL 54.442752 101.683101 \nL 64.186931 104.221803 \nL 73.93111 111.313987 \nL 83.675289 109.834891 \nL 93.419468 117.07377 \nL 103.163647 116.003279 \nL 112.907826 121.95256 \nL 122.652006 121.218178 \nL 132.396185 126.404787 \nL 142.140364 124.855429 \nL 151.884543 129.437077 \nL 161.628722 128.839556 \nL 171.372901 132.934276 \nL 181.11708 131.059881 \nL 190.861259 134.702451 \n\" style=\"fill:none;stroke:#1f77b4;stroke-linecap:square;stroke-width:1.5;\"/>\n   </g>\n   <g id=\"line2d_105\">\n    <path clip-path=\"url(#p27fb978847)\" d=\"M 49.633125 93.492211 \nL 69.163125 84.215311 \nL 88.693125 103.538798 \nL 108.223125 97.619903 \nL 127.753125 104.198245 \nL 147.283125 82.552622 \nL 166.813125 93.935094 \nL 186.343125 99.646506 \n\" style=\"fill:none;stroke:#ff7f0e;stroke-dasharray:5.55,2.4;stroke-dashoffset:0;stroke-width:1.5;\"/>\n   </g>\n   <g id=\"line2d_106\">\n    <path clip-path=\"url(#p27fb978847)\" d=\"M 49.633125 19.231399 \nL 69.163125 22.662189 \nL 88.693125 15.596395 \nL 108.223125 17.080348 \nL 127.753125 15.296881 \nL 147.283125 20.74258 \nL 166.813125 17.230104 \nL 186.343125 14.207742 \n\" style=\"fill:none;stroke:#2ca02c;stroke-dasharray:9.6,2.4,1.5,2.4;stroke-dashoffset:0;stroke-width:1.5;\"/>\n   </g>\n   <g id=\"line2d_107\">\n    <path clip-path=\"url(#p27fb978847)\" d=\"M 34.954394 64.196344 \nL 44.698573 92.835197 \nL 54.442752 101.683101 \nL 64.186931 104.221803 \nL 73.93111 111.313987 \nL 83.675289 109.834891 \nL 93.419468 117.07377 \nL 103.163647 116.003279 \nL 112.907826 121.95256 \nL 122.652006 121.218178 \nL 132.396185 126.404787 \nL 142.140364 124.855429 \nL 151.884543 129.437077 \nL 161.628722 128.839556 \nL 171.372901 132.934276 \nL 181.11708 131.059881 \nL 190.861259 134.702451 \nL 200.605438 134.340382 \n\" style=\"fill:none;stroke:#1f77b4;stroke-linecap:square;stroke-width:1.5;\"/>\n   </g>\n   <g id=\"line2d_108\">\n    <path clip-path=\"url(#p27fb978847)\" d=\"M 49.633125 93.492211 \nL 69.163125 84.215311 \nL 88.693125 103.538798 \nL 108.223125 97.619903 \nL 127.753125 104.198245 \nL 147.283125 82.552622 \nL 166.813125 93.935094 \nL 186.343125 99.646506 \n\" style=\"fill:none;stroke:#ff7f0e;stroke-dasharray:5.55,2.4;stroke-dashoffset:0;stroke-width:1.5;\"/>\n   </g>\n   <g id=\"line2d_109\">\n    <path clip-path=\"url(#p27fb978847)\" d=\"M 49.633125 19.231399 \nL 69.163125 22.662189 \nL 88.693125 15.596395 \nL 108.223125 17.080348 \nL 127.753125 15.296881 \nL 147.283125 20.74258 \nL 166.813125 17.230104 \nL 186.343125 14.207742 \n\" style=\"fill:none;stroke:#2ca02c;stroke-dasharray:9.6,2.4,1.5,2.4;stroke-dashoffset:0;stroke-width:1.5;\"/>\n   </g>\n   <g id=\"line2d_110\">\n    <path clip-path=\"url(#p27fb978847)\" d=\"M 34.954394 64.196344 \nL 44.698573 92.835197 \nL 54.442752 101.683101 \nL 64.186931 104.221803 \nL 73.93111 111.313987 \nL 83.675289 109.834891 \nL 93.419468 117.07377 \nL 103.163647 116.003279 \nL 112.907826 121.95256 \nL 122.652006 121.218178 \nL 132.396185 126.404787 \nL 142.140364 124.855429 \nL 151.884543 129.437077 \nL 161.628722 128.839556 \nL 171.372901 132.934276 \nL 181.11708 131.059881 \nL 190.861259 134.702451 \nL 200.605438 134.340382 \n\" style=\"fill:none;stroke:#1f77b4;stroke-linecap:square;stroke-width:1.5;\"/>\n   </g>\n   <g id=\"line2d_111\">\n    <path clip-path=\"url(#p27fb978847)\" d=\"M 49.633125 93.492211 \nL 69.163125 84.215311 \nL 88.693125 103.538798 \nL 108.223125 97.619903 \nL 127.753125 104.198245 \nL 147.283125 82.552622 \nL 166.813125 93.935094 \nL 186.343125 99.646506 \nL 205.873125 90.058797 \n\" style=\"fill:none;stroke:#ff7f0e;stroke-dasharray:5.55,2.4;stroke-dashoffset:0;stroke-width:1.5;\"/>\n   </g>\n   <g id=\"line2d_112\">\n    <path clip-path=\"url(#p27fb978847)\" d=\"M 49.633125 19.231399 \nL 69.163125 22.662189 \nL 88.693125 15.596395 \nL 108.223125 17.080348 \nL 127.753125 15.296881 \nL 147.283125 20.74258 \nL 166.813125 17.230104 \nL 186.343125 14.207742 \n\" style=\"fill:none;stroke:#2ca02c;stroke-dasharray:9.6,2.4,1.5,2.4;stroke-dashoffset:0;stroke-width:1.5;\"/>\n   </g>\n   <g id=\"line2d_113\">\n    <path clip-path=\"url(#p27fb978847)\" d=\"M 34.954394 64.196344 \nL 44.698573 92.835197 \nL 54.442752 101.683101 \nL 64.186931 104.221803 \nL 73.93111 111.313987 \nL 83.675289 109.834891 \nL 93.419468 117.07377 \nL 103.163647 116.003279 \nL 112.907826 121.95256 \nL 122.652006 121.218178 \nL 132.396185 126.404787 \nL 142.140364 124.855429 \nL 151.884543 129.437077 \nL 161.628722 128.839556 \nL 171.372901 132.934276 \nL 181.11708 131.059881 \nL 190.861259 134.702451 \nL 200.605438 134.340382 \n\" style=\"fill:none;stroke:#1f77b4;stroke-linecap:square;stroke-width:1.5;\"/>\n   </g>\n   <g id=\"line2d_114\">\n    <path clip-path=\"url(#p27fb978847)\" d=\"M 49.633125 93.492211 \nL 69.163125 84.215311 \nL 88.693125 103.538798 \nL 108.223125 97.619903 \nL 127.753125 104.198245 \nL 147.283125 82.552622 \nL 166.813125 93.935094 \nL 186.343125 99.646506 \nL 205.873125 90.058797 \n\" style=\"fill:none;stroke:#ff7f0e;stroke-dasharray:5.55,2.4;stroke-dashoffset:0;stroke-width:1.5;\"/>\n   </g>\n   <g id=\"line2d_115\">\n    <path clip-path=\"url(#p27fb978847)\" d=\"M 49.633125 19.231399 \nL 69.163125 22.662189 \nL 88.693125 15.596395 \nL 108.223125 17.080348 \nL 127.753125 15.296881 \nL 147.283125 20.74258 \nL 166.813125 17.230104 \nL 186.343125 14.207742 \nL 205.873125 16.549392 \n\" style=\"fill:none;stroke:#2ca02c;stroke-dasharray:9.6,2.4,1.5,2.4;stroke-dashoffset:0;stroke-width:1.5;\"/>\n   </g>\n   <g id=\"line2d_116\">\n    <path clip-path=\"url(#p27fb978847)\" d=\"M 34.954394 64.196344 \nL 44.698573 92.835197 \nL 54.442752 101.683101 \nL 64.186931 104.221803 \nL 73.93111 111.313987 \nL 83.675289 109.834891 \nL 93.419468 117.07377 \nL 103.163647 116.003279 \nL 112.907826 121.95256 \nL 122.652006 121.218178 \nL 132.396185 126.404787 \nL 142.140364 124.855429 \nL 151.884543 129.437077 \nL 161.628722 128.839556 \nL 171.372901 132.934276 \nL 181.11708 131.059881 \nL 190.861259 134.702451 \nL 200.605438 134.340382 \nL 210.349618 136.922727 \n\" style=\"fill:none;stroke:#1f77b4;stroke-linecap:square;stroke-width:1.5;\"/>\n   </g>\n   <g id=\"line2d_117\">\n    <path clip-path=\"url(#p27fb978847)\" d=\"M 49.633125 93.492211 \nL 69.163125 84.215311 \nL 88.693125 103.538798 \nL 108.223125 97.619903 \nL 127.753125 104.198245 \nL 147.283125 82.552622 \nL 166.813125 93.935094 \nL 186.343125 99.646506 \nL 205.873125 90.058797 \n\" style=\"fill:none;stroke:#ff7f0e;stroke-dasharray:5.55,2.4;stroke-dashoffset:0;stroke-width:1.5;\"/>\n   </g>\n   <g id=\"line2d_118\">\n    <path clip-path=\"url(#p27fb978847)\" d=\"M 49.633125 19.231399 \nL 69.163125 22.662189 \nL 88.693125 15.596395 \nL 108.223125 17.080348 \nL 127.753125 15.296881 \nL 147.283125 20.74258 \nL 166.813125 17.230104 \nL 186.343125 14.207742 \nL 205.873125 16.549392 \n\" style=\"fill:none;stroke:#2ca02c;stroke-dasharray:9.6,2.4,1.5,2.4;stroke-dashoffset:0;stroke-width:1.5;\"/>\n   </g>\n   <g id=\"line2d_119\">\n    <path clip-path=\"url(#p27fb978847)\" d=\"M 34.954394 64.196344 \nL 44.698573 92.835197 \nL 54.442752 101.683101 \nL 64.186931 104.221803 \nL 73.93111 111.313987 \nL 83.675289 109.834891 \nL 93.419468 117.07377 \nL 103.163647 116.003279 \nL 112.907826 121.95256 \nL 122.652006 121.218178 \nL 132.396185 126.404787 \nL 142.140364 124.855429 \nL 151.884543 129.437077 \nL 161.628722 128.839556 \nL 171.372901 132.934276 \nL 181.11708 131.059881 \nL 190.861259 134.702451 \nL 200.605438 134.340382 \nL 210.349618 136.922727 \nL 220.093797 136.335982 \n\" style=\"fill:none;stroke:#1f77b4;stroke-linecap:square;stroke-width:1.5;\"/>\n   </g>\n   <g id=\"line2d_120\">\n    <path clip-path=\"url(#p27fb978847)\" d=\"M 49.633125 93.492211 \nL 69.163125 84.215311 \nL 88.693125 103.538798 \nL 108.223125 97.619903 \nL 127.753125 104.198245 \nL 147.283125 82.552622 \nL 166.813125 93.935094 \nL 186.343125 99.646506 \nL 205.873125 90.058797 \n\" style=\"fill:none;stroke:#ff7f0e;stroke-dasharray:5.55,2.4;stroke-dashoffset:0;stroke-width:1.5;\"/>\n   </g>\n   <g id=\"line2d_121\">\n    <path clip-path=\"url(#p27fb978847)\" d=\"M 49.633125 19.231399 \nL 69.163125 22.662189 \nL 88.693125 15.596395 \nL 108.223125 17.080348 \nL 127.753125 15.296881 \nL 147.283125 20.74258 \nL 166.813125 17.230104 \nL 186.343125 14.207742 \nL 205.873125 16.549392 \n\" style=\"fill:none;stroke:#2ca02c;stroke-dasharray:9.6,2.4,1.5,2.4;stroke-dashoffset:0;stroke-width:1.5;\"/>\n   </g>\n   <g id=\"line2d_122\">\n    <path clip-path=\"url(#p27fb978847)\" d=\"M 34.954394 64.196344 \nL 44.698573 92.835197 \nL 54.442752 101.683101 \nL 64.186931 104.221803 \nL 73.93111 111.313987 \nL 83.675289 109.834891 \nL 93.419468 117.07377 \nL 103.163647 116.003279 \nL 112.907826 121.95256 \nL 122.652006 121.218178 \nL 132.396185 126.404787 \nL 142.140364 124.855429 \nL 151.884543 129.437077 \nL 161.628722 128.839556 \nL 171.372901 132.934276 \nL 181.11708 131.059881 \nL 190.861259 134.702451 \nL 200.605438 134.340382 \nL 210.349618 136.922727 \nL 220.093797 136.335982 \n\" style=\"fill:none;stroke:#1f77b4;stroke-linecap:square;stroke-width:1.5;\"/>\n   </g>\n   <g id=\"line2d_123\">\n    <path clip-path=\"url(#p27fb978847)\" d=\"M 49.633125 93.492211 \nL 69.163125 84.215311 \nL 88.693125 103.538798 \nL 108.223125 97.619903 \nL 127.753125 104.198245 \nL 147.283125 82.552622 \nL 166.813125 93.935094 \nL 186.343125 99.646506 \nL 205.873125 90.058797 \nL 225.403125 99.650866 \n\" style=\"fill:none;stroke:#ff7f0e;stroke-dasharray:5.55,2.4;stroke-dashoffset:0;stroke-width:1.5;\"/>\n   </g>\n   <g id=\"line2d_124\">\n    <path clip-path=\"url(#p27fb978847)\" d=\"M 49.633125 19.231399 \nL 69.163125 22.662189 \nL 88.693125 15.596395 \nL 108.223125 17.080348 \nL 127.753125 15.296881 \nL 147.283125 20.74258 \nL 166.813125 17.230104 \nL 186.343125 14.207742 \nL 205.873125 16.549392 \n\" style=\"fill:none;stroke:#2ca02c;stroke-dasharray:9.6,2.4,1.5,2.4;stroke-dashoffset:0;stroke-width:1.5;\"/>\n   </g>\n   <g id=\"line2d_125\">\n    <path clip-path=\"url(#p27fb978847)\" d=\"M 34.954394 64.196344 \nL 44.698573 92.835197 \nL 54.442752 101.683101 \nL 64.186931 104.221803 \nL 73.93111 111.313987 \nL 83.675289 109.834891 \nL 93.419468 117.07377 \nL 103.163647 116.003279 \nL 112.907826 121.95256 \nL 122.652006 121.218178 \nL 132.396185 126.404787 \nL 142.140364 124.855429 \nL 151.884543 129.437077 \nL 161.628722 128.839556 \nL 171.372901 132.934276 \nL 181.11708 131.059881 \nL 190.861259 134.702451 \nL 200.605438 134.340382 \nL 210.349618 136.922727 \nL 220.093797 136.335982 \n\" style=\"fill:none;stroke:#1f77b4;stroke-linecap:square;stroke-width:1.5;\"/>\n   </g>\n   <g id=\"line2d_126\">\n    <path clip-path=\"url(#p27fb978847)\" d=\"M 49.633125 93.492211 \nL 69.163125 84.215311 \nL 88.693125 103.538798 \nL 108.223125 97.619903 \nL 127.753125 104.198245 \nL 147.283125 82.552622 \nL 166.813125 93.935094 \nL 186.343125 99.646506 \nL 205.873125 90.058797 \nL 225.403125 99.650866 \n\" style=\"fill:none;stroke:#ff7f0e;stroke-dasharray:5.55,2.4;stroke-dashoffset:0;stroke-width:1.5;\"/>\n   </g>\n   <g id=\"line2d_127\">\n    <path clip-path=\"url(#p27fb978847)\" d=\"M 49.633125 19.231399 \nL 69.163125 22.662189 \nL 88.693125 15.596395 \nL 108.223125 17.080348 \nL 127.753125 15.296881 \nL 147.283125 20.74258 \nL 166.813125 17.230104 \nL 186.343125 14.207742 \nL 205.873125 16.549392 \nL 225.403125 13.377273 \n\" style=\"fill:none;stroke:#2ca02c;stroke-dasharray:9.6,2.4,1.5,2.4;stroke-dashoffset:0;stroke-width:1.5;\"/>\n   </g>\n   <g id=\"patch_3\">\n    <path d=\"M 30.103125 143.1 \nL 30.103125 7.2 \n\" style=\"fill:none;stroke:#000000;stroke-linecap:square;stroke-linejoin:miter;stroke-width:0.8;\"/>\n   </g>\n   <g id=\"patch_4\">\n    <path d=\"M 225.403125 143.1 \nL 225.403125 7.2 \n\" style=\"fill:none;stroke:#000000;stroke-linecap:square;stroke-linejoin:miter;stroke-width:0.8;\"/>\n   </g>\n   <g id=\"patch_5\">\n    <path d=\"M 30.103125 143.1 \nL 225.403125 143.1 \n\" style=\"fill:none;stroke:#000000;stroke-linecap:square;stroke-linejoin:miter;stroke-width:0.8;\"/>\n   </g>\n   <g id=\"patch_6\">\n    <path d=\"M 30.103125 7.2 \nL 225.403125 7.2 \n\" style=\"fill:none;stroke:#000000;stroke-linecap:square;stroke-linejoin:miter;stroke-width:0.8;\"/>\n   </g>\n   <g id=\"legend_1\">\n    <g id=\"patch_7\">\n     <path d=\"M 138.8125 99.084375 \nL 218.403125 99.084375 \nQ 220.403125 99.084375 220.403125 97.084375 \nL 220.403125 53.215625 \nQ 220.403125 51.215625 218.403125 51.215625 \nL 138.8125 51.215625 \nQ 136.8125 51.215625 136.8125 53.215625 \nL 136.8125 97.084375 \nQ 136.8125 99.084375 138.8125 99.084375 \nz\n\" style=\"fill:#ffffff;opacity:0.8;stroke:#cccccc;stroke-linejoin:miter;\"/>\n    </g>\n    <g id=\"line2d_128\">\n     <path d=\"M 140.8125 59.314062 \nL 160.8125 59.314062 \n\" style=\"fill:none;stroke:#1f77b4;stroke-linecap:square;stroke-width:1.5;\"/>\n    </g>\n    <g id=\"line2d_129\"/>\n    <g id=\"text_13\">\n     <!-- train_loss -->\n     <defs>\n      <path d=\"M 18.3125 70.21875 \nL 18.3125 54.6875 \nL 36.8125 54.6875 \nL 36.8125 47.703125 \nL 18.3125 47.703125 \nL 18.3125 18.015625 \nQ 18.3125 11.328125 20.140625 9.421875 \nQ 21.96875 7.515625 27.59375 7.515625 \nL 36.8125 7.515625 \nL 36.8125 0 \nL 27.59375 0 \nQ 17.1875 0 13.234375 3.875 \nQ 9.28125 7.765625 9.28125 18.015625 \nL 9.28125 47.703125 \nL 2.6875 47.703125 \nL 2.6875 54.6875 \nL 9.28125 54.6875 \nL 9.28125 70.21875 \nz\n\" id=\"DejaVuSans-116\"/>\n      <path d=\"M 41.109375 46.296875 \nQ 39.59375 47.171875 37.8125 47.578125 \nQ 36.03125 48 33.890625 48 \nQ 26.265625 48 22.1875 43.046875 \nQ 18.109375 38.09375 18.109375 28.8125 \nL 18.109375 0 \nL 9.078125 0 \nL 9.078125 54.6875 \nL 18.109375 54.6875 \nL 18.109375 46.1875 \nQ 20.953125 51.171875 25.484375 53.578125 \nQ 30.03125 56 36.53125 56 \nQ 37.453125 56 38.578125 55.875 \nQ 39.703125 55.765625 41.0625 55.515625 \nz\n\" id=\"DejaVuSans-114\"/>\n      <path d=\"M 34.28125 27.484375 \nQ 23.390625 27.484375 19.1875 25 \nQ 14.984375 22.515625 14.984375 16.5 \nQ 14.984375 11.71875 18.140625 8.90625 \nQ 21.296875 6.109375 26.703125 6.109375 \nQ 34.1875 6.109375 38.703125 11.40625 \nQ 43.21875 16.703125 43.21875 25.484375 \nL 43.21875 27.484375 \nz\nM 52.203125 31.203125 \nL 52.203125 0 \nL 43.21875 0 \nL 43.21875 8.296875 \nQ 40.140625 3.328125 35.546875 0.953125 \nQ 30.953125 -1.421875 24.3125 -1.421875 \nQ 15.921875 -1.421875 10.953125 3.296875 \nQ 6 8.015625 6 15.921875 \nQ 6 25.140625 12.171875 29.828125 \nQ 18.359375 34.515625 30.609375 34.515625 \nL 43.21875 34.515625 \nL 43.21875 35.40625 \nQ 43.21875 41.609375 39.140625 45 \nQ 35.0625 48.390625 27.6875 48.390625 \nQ 23 48.390625 18.546875 47.265625 \nQ 14.109375 46.140625 10.015625 43.890625 \nL 10.015625 52.203125 \nQ 14.9375 54.109375 19.578125 55.046875 \nQ 24.21875 56 28.609375 56 \nQ 40.484375 56 46.34375 49.84375 \nQ 52.203125 43.703125 52.203125 31.203125 \nz\n\" id=\"DejaVuSans-97\"/>\n      <path d=\"M 9.421875 54.6875 \nL 18.40625 54.6875 \nL 18.40625 0 \nL 9.421875 0 \nz\nM 9.421875 75.984375 \nL 18.40625 75.984375 \nL 18.40625 64.59375 \nL 9.421875 64.59375 \nz\n\" id=\"DejaVuSans-105\"/>\n      <path d=\"M 54.890625 33.015625 \nL 54.890625 0 \nL 45.90625 0 \nL 45.90625 32.71875 \nQ 45.90625 40.484375 42.875 44.328125 \nQ 39.84375 48.1875 33.796875 48.1875 \nQ 26.515625 48.1875 22.3125 43.546875 \nQ 18.109375 38.921875 18.109375 30.90625 \nL 18.109375 0 \nL 9.078125 0 \nL 9.078125 54.6875 \nL 18.109375 54.6875 \nL 18.109375 46.1875 \nQ 21.34375 51.125 25.703125 53.5625 \nQ 30.078125 56 35.796875 56 \nQ 45.21875 56 50.046875 50.171875 \nQ 54.890625 44.34375 54.890625 33.015625 \nz\n\" id=\"DejaVuSans-110\"/>\n      <path d=\"M 50.984375 -16.609375 \nL 50.984375 -23.578125 \nL -0.984375 -23.578125 \nL -0.984375 -16.609375 \nz\n\" id=\"DejaVuSans-95\"/>\n      <path d=\"M 9.421875 75.984375 \nL 18.40625 75.984375 \nL 18.40625 0 \nL 9.421875 0 \nz\n\" id=\"DejaVuSans-108\"/>\n      <path d=\"M 44.28125 53.078125 \nL 44.28125 44.578125 \nQ 40.484375 46.53125 36.375 47.5 \nQ 32.28125 48.484375 27.875 48.484375 \nQ 21.1875 48.484375 17.84375 46.4375 \nQ 14.5 44.390625 14.5 40.28125 \nQ 14.5 37.15625 16.890625 35.375 \nQ 19.28125 33.59375 26.515625 31.984375 \nL 29.59375 31.296875 \nQ 39.15625 29.25 43.1875 25.515625 \nQ 47.21875 21.78125 47.21875 15.09375 \nQ 47.21875 7.46875 41.1875 3.015625 \nQ 35.15625 -1.421875 24.609375 -1.421875 \nQ 20.21875 -1.421875 15.453125 -0.5625 \nQ 10.6875 0.296875 5.421875 2 \nL 5.421875 11.28125 \nQ 10.40625 8.6875 15.234375 7.390625 \nQ 20.0625 6.109375 24.8125 6.109375 \nQ 31.15625 6.109375 34.5625 8.28125 \nQ 37.984375 10.453125 37.984375 14.40625 \nQ 37.984375 18.0625 35.515625 20.015625 \nQ 33.0625 21.96875 24.703125 23.78125 \nL 21.578125 24.515625 \nQ 13.234375 26.265625 9.515625 29.90625 \nQ 5.8125 33.546875 5.8125 39.890625 \nQ 5.8125 47.609375 11.28125 51.796875 \nQ 16.75 56 26.8125 56 \nQ 31.78125 56 36.171875 55.265625 \nQ 40.578125 54.546875 44.28125 53.078125 \nz\n\" id=\"DejaVuSans-115\"/>\n     </defs>\n     <g transform=\"translate(168.8125 62.814062)scale(0.1 -0.1)\">\n      <use xlink:href=\"#DejaVuSans-116\"/>\n      <use x=\"39.208984\" xlink:href=\"#DejaVuSans-114\"/>\n      <use x=\"80.322266\" xlink:href=\"#DejaVuSans-97\"/>\n      <use x=\"141.601562\" xlink:href=\"#DejaVuSans-105\"/>\n      <use x=\"169.384766\" xlink:href=\"#DejaVuSans-110\"/>\n      <use x=\"232.763672\" xlink:href=\"#DejaVuSans-95\"/>\n      <use x=\"282.763672\" xlink:href=\"#DejaVuSans-108\"/>\n      <use x=\"310.546875\" xlink:href=\"#DejaVuSans-111\"/>\n      <use x=\"371.728516\" xlink:href=\"#DejaVuSans-115\"/>\n      <use x=\"423.828125\" xlink:href=\"#DejaVuSans-115\"/>\n     </g>\n    </g>\n    <g id=\"line2d_130\">\n     <path d=\"M 140.8125 74.270312 \nL 160.8125 74.270312 \n\" style=\"fill:none;stroke:#ff7f0e;stroke-dasharray:5.55,2.4;stroke-dashoffset:0;stroke-width:1.5;\"/>\n    </g>\n    <g id=\"line2d_131\"/>\n    <g id=\"text_14\">\n     <!-- val_loss -->\n     <defs>\n      <path d=\"M 2.984375 54.6875 \nL 12.5 54.6875 \nL 29.59375 8.796875 \nL 46.6875 54.6875 \nL 56.203125 54.6875 \nL 35.6875 0 \nL 23.484375 0 \nz\n\" id=\"DejaVuSans-118\"/>\n     </defs>\n     <g transform=\"translate(168.8125 77.770312)scale(0.1 -0.1)\">\n      <use xlink:href=\"#DejaVuSans-118\"/>\n      <use x=\"59.179688\" xlink:href=\"#DejaVuSans-97\"/>\n      <use x=\"120.458984\" xlink:href=\"#DejaVuSans-108\"/>\n      <use x=\"148.242188\" xlink:href=\"#DejaVuSans-95\"/>\n      <use x=\"198.242188\" xlink:href=\"#DejaVuSans-108\"/>\n      <use x=\"226.025391\" xlink:href=\"#DejaVuSans-111\"/>\n      <use x=\"287.207031\" xlink:href=\"#DejaVuSans-115\"/>\n      <use x=\"339.306641\" xlink:href=\"#DejaVuSans-115\"/>\n     </g>\n    </g>\n    <g id=\"line2d_132\">\n     <path d=\"M 140.8125 89.226562 \nL 160.8125 89.226562 \n\" style=\"fill:none;stroke:#2ca02c;stroke-dasharray:9.6,2.4,1.5,2.4;stroke-dashoffset:0;stroke-width:1.5;\"/>\n    </g>\n    <g id=\"line2d_133\"/>\n    <g id=\"text_15\">\n     <!-- val_acc -->\n     <g transform=\"translate(168.8125 92.726562)scale(0.1 -0.1)\">\n      <use xlink:href=\"#DejaVuSans-118\"/>\n      <use x=\"59.179688\" xlink:href=\"#DejaVuSans-97\"/>\n      <use x=\"120.458984\" xlink:href=\"#DejaVuSans-108\"/>\n      <use x=\"148.242188\" xlink:href=\"#DejaVuSans-95\"/>\n      <use x=\"198.242188\" xlink:href=\"#DejaVuSans-97\"/>\n      <use x=\"259.521484\" xlink:href=\"#DejaVuSans-99\"/>\n      <use x=\"314.501953\" xlink:href=\"#DejaVuSans-99\"/>\n     </g>\n    </g>\n   </g>\n  </g>\n </g>\n <defs>\n  <clipPath id=\"p27fb978847\">\n   <rect height=\"135.9\" width=\"195.3\" x=\"30.103125\" y=\"7.2\"/>\n  </clipPath>\n </defs>\n</svg>\n"
          },
          "metadata": {
            "needs_background": "light"
          }
        }
      ]
    },
    {
      "cell_type": "code",
      "source": [
        "4.52 * 3"
      ],
      "metadata": {
        "colab": {
          "base_uri": "https://localhost:8080/"
        },
        "id": "TerT-AU31wvK",
        "outputId": "ab5dde85-ab5f-4e29-993a-d337cf61642e"
      },
      "execution_count": 11,
      "outputs": [
        {
          "output_type": "execute_result",
          "data": {
            "text/plain": [
              "13.559999999999999"
            ]
          },
          "metadata": {},
          "execution_count": 11
        }
      ]
    },
    {
      "cell_type": "code",
      "source": [
        "int(round(4.52 * 3))"
      ],
      "metadata": {
        "colab": {
          "base_uri": "https://localhost:8080/"
        },
        "id": "XZV9xecb1tWE",
        "outputId": "2321118b-e931-42cd-962c-9316fc54474e"
      },
      "execution_count": 14,
      "outputs": [
        {
          "output_type": "execute_result",
          "data": {
            "text/plain": [
              "14"
            ]
          },
          "metadata": {},
          "execution_count": 14
        }
      ]
    },
    {
      "cell_type": "code",
      "source": [
        "nn.LazyConv2d??"
      ],
      "metadata": {
        "id": "Ve0JcjBa2Goo"
      },
      "execution_count": 15,
      "outputs": []
    },
    {
      "cell_type": "code",
      "source": [
        "3 // 4 # integer division"
      ],
      "metadata": {
        "colab": {
          "base_uri": "https://localhost:8080/"
        },
        "id": "Y1U9nSe23SMJ",
        "outputId": "cdaa84bf-1ee9-4e1d-e621-42129f0e0584"
      },
      "execution_count": 17,
      "outputs": [
        {
          "output_type": "execute_result",
          "data": {
            "text/plain": [
              "0"
            ]
          },
          "metadata": {},
          "execution_count": 17
        }
      ]
    },
    {
      "cell_type": "markdown",
      "source": [
        "grouped convulation : "
      ],
      "metadata": {
        "id": "nh3RaoCc6sJS"
      }
    },
    {
      "cell_type": "code",
      "source": [
        "nn.Conv1d??"
      ],
      "metadata": {
        "id": "-4Wt4wec7NYt"
      },
      "execution_count": 32,
      "outputs": []
    },
    {
      "cell_type": "code",
      "source": [
        "import numpy as np"
      ],
      "metadata": {
        "id": "1QUs56y78iqM"
      },
      "execution_count": 37,
      "outputs": []
    },
    {
      "cell_type": "code",
      "source": [
        "# 4 input channels, 2 groups, 2 output channels\n",
        "\n",
        "torch.manual_seed(2022)\n",
        "\n",
        "X = torch.randn(1, 4, 10, dtype=torch.float32)\n",
        "\n",
        "conv_layer = nn.Conv1d(\n",
        "    in_channels=4,\n",
        "    out_channels=2,\n",
        "    kernel_size=3,\n",
        "    padding='valid',\n",
        "    groups=2,\n",
        "    bias=False,\n",
        "    dtype=torch.float32\n",
        ")\n",
        "\n",
        "for param in conv_layer.parameters():\n",
        "  param.requires_grad=False"
      ],
      "metadata": {
        "id": "rM8pGdme6rSw"
      },
      "execution_count": 34,
      "outputs": []
    },
    {
      "cell_type": "code",
      "source": [
        "X"
      ],
      "metadata": {
        "colab": {
          "base_uri": "https://localhost:8080/"
        },
        "id": "zYPEoXYk73Vr",
        "outputId": "25d58eae-db19-4efc-ecb1-e0860322e79e"
      },
      "execution_count": 35,
      "outputs": [
        {
          "output_type": "execute_result",
          "data": {
            "text/plain": [
              "tensor([[[-0.9788, -1.5154, -0.8222,  0.1214,  0.0716, -0.0872, -0.0253,\n",
              "          -1.6267,  0.2230, -1.6746],\n",
              "         [-1.4725,  0.9721, -0.2191, -0.9397, -1.7756, -0.6259, -1.1104,\n",
              "           1.1890,  1.3730,  0.4915],\n",
              "         [ 0.3579, -0.1685, -0.8579, -1.0574,  0.2105,  1.9045,  1.8237,\n",
              "           1.5122, -0.3140, -0.0810],\n",
              "         [-1.3631, -0.0701, -1.1876, -1.0787,  0.9551, -0.2958,  1.0663,\n",
              "          -0.5134, -0.3846, -1.1481]]])"
            ]
          },
          "metadata": {},
          "execution_count": 35
        }
      ]
    },
    {
      "cell_type": "code",
      "source": [
        "X.shape"
      ],
      "metadata": {
        "colab": {
          "base_uri": "https://localhost:8080/"
        },
        "id": "8F6pQpWi-RI7",
        "outputId": "2532a517-923d-4240-ea78-37bdff59a18f"
      },
      "execution_count": 44,
      "outputs": [
        {
          "output_type": "execute_result",
          "data": {
            "text/plain": [
              "torch.Size([1, 4, 10])"
            ]
          },
          "metadata": {},
          "execution_count": 44
        }
      ]
    },
    {
      "cell_type": "code",
      "source": [
        "# since we have 4 input channels, nornmally there would have been 4 kernels per bank (total 8)\n",
        "# but since we have 2 groups, each bank has 2 input channels, there would be 2 kernels per bank (total 4)\n",
        "\n",
        "conv_layer.weight"
      ],
      "metadata": {
        "colab": {
          "base_uri": "https://localhost:8080/"
        },
        "id": "3JVlXmS87-xt",
        "outputId": "7d8783eb-3042-4f51-dcc0-a4cbd9e674fe"
      },
      "execution_count": 36,
      "outputs": [
        {
          "output_type": "execute_result",
          "data": {
            "text/plain": [
              "Parameter containing:\n",
              "tensor([[[-0.1461,  0.0036,  0.1194],\n",
              "         [ 0.3466,  0.0458,  0.3361]],\n",
              "\n",
              "        [[-0.0376,  0.0514,  0.2716],\n",
              "         [ 0.4019,  0.1485,  0.1384]]])"
            ]
          },
          "metadata": {},
          "execution_count": 36
        }
      ]
    },
    {
      "cell_type": "code",
      "source": [
        "np.correlate??"
      ],
      "metadata": {
        "id": "uC3BmGOj88qZ"
      },
      "execution_count": 38,
      "outputs": []
    },
    {
      "cell_type": "code",
      "source": [
        "a = [1, 2, 3, 4, 5, 6]\n",
        "v = [0, 1, 0.5]\n",
        "\n",
        "print(np.correlate(a, v))"
      ],
      "metadata": {
        "colab": {
          "base_uri": "https://localhost:8080/"
        },
        "id": "xamtpcTM9P0P",
        "outputId": "082970a6-3f4d-485c-b200-5f03f8bc4903"
      },
      "execution_count": 39,
      "outputs": [
        {
          "output_type": "stream",
          "name": "stdout",
          "text": [
            "[3.5 5.  6.5 8. ]\n"
          ]
        }
      ]
    },
    {
      "cell_type": "code",
      "source": [
        "np.squeeze??\n",
        "# removes axis of length = 1 "
      ],
      "metadata": {
        "id": "x05cUyQP97Jq"
      },
      "execution_count": 43,
      "outputs": []
    },
    {
      "cell_type": "code",
      "source": [
        "X.numpy()[0][0].squeeze()"
      ],
      "metadata": {
        "colab": {
          "base_uri": "https://localhost:8080/"
        },
        "id": "R2M9eS3Q9wpk",
        "outputId": "d0feed2b-d97d-4910-b708-4e1ab37c1166"
      },
      "execution_count": 42,
      "outputs": [
        {
          "output_type": "execute_result",
          "data": {
            "text/plain": [
              "array([-0.9787663 , -1.5154158 , -0.8222357 ,  0.12136107,  0.07158673,\n",
              "       -0.08717268, -0.0253445 , -1.626711  ,  0.22301038, -1.6746057 ],\n",
              "      dtype=float32)"
            ]
          },
          "metadata": {},
          "execution_count": 42
        }
      ]
    },
    {
      "cell_type": "code",
      "source": [
        "# now doing the operations manually\n",
        "\n",
        "# filter bank 1 will operate on Group1\n",
        "\n",
        "first_kernel = conv_layer.weight[0][0]\n",
        "second_kernel = conv_layer.weight[0][1]\n",
        "\n",
        "nconv1 = np.correlate(\n",
        "    X.numpy()[0][0].squeeze(), # channel - 1\n",
        "    first_kernel.numpy().squeeze()\n",
        ")\n",
        "\n",
        "nconv2 = np.correlate(\n",
        "    X.numpy()[0][1].squeeze(), # channel - 2\n",
        "    second_kernel.numpy().squeeze()\n",
        ")"
      ],
      "metadata": {
        "id": "Mxd5Jrjb8r-r"
      },
      "execution_count": 45,
      "outputs": []
    },
    {
      "cell_type": "code",
      "source": [
        "nconv1 + nconv2"
      ],
      "metadata": {
        "colab": {
          "base_uri": "https://localhost:8080/"
        },
        "id": "GQlX1a3U-qDR",
        "outputId": "d9f0a44c-e2d7-4fba-dac9-e0de3f94a53e"
      },
      "execution_count": 46,
      "outputs": [
        {
          "output_type": "execute_result",
          "data": {
            "text/plain": [
              "array([-0.50016016,  0.2439066 , -0.5868024 , -0.64536005, -1.0311576 ,\n",
              "       -0.04977366,  0.15564854,  0.6786802 ], dtype=float32)"
            ]
          },
          "metadata": {},
          "execution_count": 46
        }
      ]
    },
    {
      "cell_type": "code",
      "source": [
        "# the filter bank 2 will operate on group 2\n",
        "\n",
        "first_kernel = conv_layer.weight[1][0]\n",
        "second_kernel = conv_layer.weight[1][1]\n",
        "\n",
        "nconv1 = np.correlate(\n",
        "    X.numpy()[0][2].squeeze(),\n",
        "    first_kernel.squeeze()\n",
        ")\n",
        "\n",
        "nconv2 = np.correlate(\n",
        "    X.numpy()[0][3].squeeze(),\n",
        "    second_kernel.squeeze()\n",
        ")"
      ],
      "metadata": {
        "id": "Rx-wDJuy-uEy"
      },
      "execution_count": 47,
      "outputs": []
    },
    {
      "cell_type": "code",
      "source": [
        "nconv1 + nconv2"
      ],
      "metadata": {
        "colab": {
          "base_uri": "https://localhost:8080/"
        },
        "id": "hDpuhQ6a_O3-",
        "outputId": "2feed959-fe3d-4232-a8c6-4abb5b3cbf17"
      },
      "execution_count": 48,
      "outputs": [
        {
          "output_type": "execute_result",
          "data": {
            "text/plain": [
              "array([-0.9778408 , -0.678846  , -0.4702403 ,  0.235185  ,  1.0728369 ,\n",
              "        0.40115055,  0.22290531, -0.51747376], dtype=float32)"
            ]
          },
          "metadata": {},
          "execution_count": 48
        }
      ]
    },
    {
      "cell_type": "code",
      "source": [
        "y = conv_layer(X)\n",
        "y"
      ],
      "metadata": {
        "colab": {
          "base_uri": "https://localhost:8080/"
        },
        "id": "WuC6uLOI_ShV",
        "outputId": "75204f33-6c98-4060-a49c-98d355eed14f"
      },
      "execution_count": 49,
      "outputs": [
        {
          "output_type": "execute_result",
          "data": {
            "text/plain": [
              "tensor([[[-0.5002,  0.2439, -0.5868, -0.6454, -1.0312, -0.0498,  0.1556,\n",
              "           0.6787],\n",
              "         [-0.9778, -0.6788, -0.4702,  0.2352,  1.0728,  0.4012,  0.2229,\n",
              "          -0.5175]]])"
            ]
          },
          "metadata": {},
          "execution_count": 49
        }
      ]
    },
    {
      "cell_type": "code",
      "source": [
        "class ResNetXtBlock(nn.Module):\n",
        "\n",
        "  def __init__(self, num_channels, groups, bot_mul, use_1x1conv=False, strides=1):\n",
        "    super().__init__()\n",
        "    bot_channels = int(round(num_channels * bot_mul))\n",
        "    self.conv1 = nn.LazyConv2d(bot_channels, kernel_size=1)\n",
        "    self.conv2 = nn.LazyConv2d(bot_channels, kernel_size=3, padding=1, stride=strides, groups = groups)\n",
        "    self.conv3 = nn.LazyConv2d(num_channels, kernel_size=1)\n",
        "    self.bn1 = nn.LazyBatchNorm2d()\n",
        "    self.bn2 = nn.LazyBatchNorm2d()\n",
        "    self.bn3 = nn.LazyBatchNorm2d()\n",
        "\n",
        "    if use_1x1conv:\n",
        "      self.conv4 = nn.LazyConv2d(num_channels, kernel_size=1, stride=strides)\n",
        "      self.bn4 = nn.LazyBatchNorm2d()\n",
        "    else:\n",
        "      self.conv4 = None\n",
        "\n",
        "  def forward(self, X):\n",
        "    Y = F.relu(self.bn1(self.conv1(X)))\n",
        "    Y = F.relu(self.bn2(self.conv2(Y)))\n",
        "    Y = self.bn3(self.conv3(Y))\n",
        "\n",
        "    if self.conv4 is not None:\n",
        "      X = self.bn4(self.conv4(X))\n",
        "\n",
        "    return F.relu(Y + X)"
      ],
      "metadata": {
        "id": "9XIhaK-apth2"
      },
      "execution_count": 5,
      "outputs": []
    },
    {
      "cell_type": "code",
      "source": [
        "blk = ResNetXtBlock(num_channels=32, groups=16, bot_mul=1)\n",
        "X = torch.randn(4, 32, 96, 96)\n",
        "blk(X).shape"
      ],
      "metadata": {
        "colab": {
          "base_uri": "https://localhost:8080/"
        },
        "id": "OB40IP0v4OhZ",
        "outputId": "d6fe35f3-85c4-41d5-986f-cd454f58aa18"
      },
      "execution_count": 53,
      "outputs": [
        {
          "output_type": "stream",
          "name": "stderr",
          "text": [
            "/usr/local/lib/python3.8/dist-packages/torch/nn/modules/lazy.py:180: UserWarning: Lazy modules are a new feature under heavy development so changes to the API or functionality can happen at any moment.\n",
            "  warnings.warn('Lazy modules are a new feature under heavy development '\n"
          ]
        },
        {
          "output_type": "execute_result",
          "data": {
            "text/plain": [
              "torch.Size([4, 32, 96, 96])"
            ]
          },
          "metadata": {},
          "execution_count": 53
        }
      ]
    },
    {
      "cell_type": "code",
      "source": [
        "blk = ResNetXtBlock(32, 16, 1, use_1x1conv=True, strides=2)\n",
        "X = torch.randn(4, 32, 96, 96)\n",
        "blk(X).shape"
      ],
      "metadata": {
        "colab": {
          "base_uri": "https://localhost:8080/"
        },
        "id": "JsrPNCRf4h-x",
        "outputId": "36f07854-d05a-435b-e4e3-eb2d7c5da5fa"
      },
      "execution_count": 23,
      "outputs": [
        {
          "output_type": "stream",
          "name": "stderr",
          "text": [
            "/usr/local/lib/python3.8/dist-packages/torch/nn/modules/lazy.py:180: UserWarning: Lazy modules are a new feature under heavy development so changes to the API or functionality can happen at any moment.\n",
            "  warnings.warn('Lazy modules are a new feature under heavy development '\n"
          ]
        },
        {
          "output_type": "execute_result",
          "data": {
            "text/plain": [
              "torch.Size([4, 32, 48, 48])"
            ]
          },
          "metadata": {},
          "execution_count": 23
        }
      ]
    },
    {
      "cell_type": "code",
      "source": [
        "blk.conv1"
      ],
      "metadata": {
        "colab": {
          "base_uri": "https://localhost:8080/"
        },
        "id": "Ma9VD2qs43sL",
        "outputId": "37017793-4f7a-4cb0-d0f5-407e7c64bcca"
      },
      "execution_count": 54,
      "outputs": [
        {
          "output_type": "execute_result",
          "data": {
            "text/plain": [
              "Conv2d(32, 32, kernel_size=(1, 1), stride=(1, 1))"
            ]
          },
          "metadata": {},
          "execution_count": 54
        }
      ]
    },
    {
      "cell_type": "code",
      "source": [
        "blk.conv2"
      ],
      "metadata": {
        "colab": {
          "base_uri": "https://localhost:8080/"
        },
        "id": "xRP-65Eu5K8D",
        "outputId": "d53f50b5-5618-47c4-c9bf-78faaedfff0a"
      },
      "execution_count": 55,
      "outputs": [
        {
          "output_type": "execute_result",
          "data": {
            "text/plain": [
              "Conv2d(32, 32, kernel_size=(3, 3), stride=(1, 1), padding=(1, 1), groups=16)"
            ]
          },
          "metadata": {},
          "execution_count": 55
        }
      ]
    },
    {
      "cell_type": "markdown",
      "source": [
        "## Ex 8.6:"
      ],
      "metadata": {
        "id": "KuVcTWmzg6vu"
      }
    },
    {
      "cell_type": "markdown",
      "source": [
        "### Q2:\n",
        "\n",
        "using gpu : took 11min 52sec"
      ],
      "metadata": {
        "id": "UO3vhhuwg8qk"
      }
    },
    {
      "cell_type": "code",
      "source": [
        "# implementing the ResNet-34\n",
        "class ResNet34(ResNet):\n",
        "\n",
        "  def __init__(self, lr=0.1, num_classes=10):\n",
        "    arch = ((3, 64), (4, 128), (6, 256), (3, 512))\n",
        "    super().__init__(arch, lr, num_classes)\n",
        "\n",
        "  def forward(self, X):\n",
        "    return self.net(X)"
      ],
      "metadata": {
        "id": "ZBwWgGud5PIM"
      },
      "execution_count": 7,
      "outputs": []
    },
    {
      "cell_type": "code",
      "source": [
        "model = ResNet34(lr=0.01)\n",
        "trainer = d2l.Trainer(max_epochs=10, num_gpus=1)\n",
        "data = d2l.FashionMNIST(batch_size=128, resize=(96, 96))\n",
        "model.apply_init([next(iter(data.get_dataloader(True)))[0]], d2l.init_cnn)\n",
        "trainer.fit(model, data)"
      ],
      "metadata": {
        "colab": {
          "base_uri": "https://localhost:8080/",
          "height": 262,
          "referenced_widgets": [
            "343f54bb70954eb7ba4c0d31a033f497",
            "b1420209e064441c914a48ecdbeede5d",
            "4e2effb7d2044130a8cac34672255b8d",
            "49ab06a16fcd496a90b67f51c0e40423",
            "00c836b58ef143e4a645dbee9dec4605",
            "d0a008b4927a474dbdc016bd68240d99",
            "240e7ca212fb41cc810168c11e1caed9",
            "0273094c2cab4f988de3af07c0dde6f6",
            "a0ff0963f562400baee6ec3c6363616e",
            "f80f9d355fb042ac872ccfbef1b21b74",
            "c3838624aca8405eb0f82d0d41f442e7",
            "bcfda2e1dd3345fe9e89a1550e49b74b",
            "15c1735058ad49f38d59198bc356a871",
            "7d8f3885eb2c4ef18aee7420c77a7c61",
            "b9bc485853c94fe1a7e75b9d02e400a5",
            "203d09a1c1564598a42c7236e465d1a7",
            "412899a75d094d0c864fd680bdf2d363",
            "22e9eeaaf040448a9654dca284724568",
            "77b2e860dad44e4a9ae6860f39e44a13",
            "5a1aa1d3388747e5babc08b7fbeac65e",
            "a817c972d1794712934f969a8f7f7468",
            "0af82f4da8f940bb829ab0b3e473f408",
            "bf0c1eee41ca4ca4a39fc425eca8fe1d",
            "a19783e18c734233a74df4e9a268fa63",
            "0f058c071c3e4cd790972aa7bfaa680b",
            "9894b9b8b5ba406089a8a8558200a9db",
            "57717b2fae374f029de6e3c90fb50920",
            "67d5d54c623448dc8a8a629f79bacd75",
            "0af93a0cb4154dc7933071671aa4858a",
            "1746d164e5a844b8abaa87ec1cae2b1d",
            "e01a9c28812e48959a4e4068d44decd2",
            "fb2e31623cee4c5fa2e7a76f40efc2b0",
            "058f552c02634c4cbe38dc6f5b5ef4b6",
            "7b5884b3c2cf4dc3b9b9e8ce36dd321a",
            "de40327ae5d643a19e97c17cf096f066",
            "e25467a909b34bf4813a36d2d60a532a",
            "69521ade3a7f4d57b77ba2cf32982d07",
            "2b386f148560449ab5e027849be6ae46",
            "dd8e529ab0b247199f3a25c2e78e2fd6",
            "1d9d805be4de4006b7afd6f096adec03",
            "66d2cee266c44e81ad0bf61fdfa32338",
            "20eae84e783f4ddd92445b3928cdaf7c",
            "79c70e2998cf41d4ae7efb683f3e25b9",
            "ec0b373d2f304dbcbc950b4bb467c2f7"
          ]
        },
        "id": "mLKYsvLgiEsx",
        "outputId": "98147102-5bb1-4533-b241-e74eefc58761"
      },
      "execution_count": 8,
      "outputs": [
        {
          "output_type": "display_data",
          "data": {
            "text/plain": [
              "<Figure size 252x180 with 1 Axes>"
            ],
            "image/svg+xml": "<?xml version=\"1.0\" encoding=\"utf-8\" standalone=\"no\"?>\n<!DOCTYPE svg PUBLIC \"-//W3C//DTD SVG 1.1//EN\"\n  \"http://www.w3.org/Graphics/SVG/1.1/DTD/svg11.dtd\">\n<!-- Created with matplotlib (https://matplotlib.org/) -->\n<svg height=\"180.65625pt\" version=\"1.1\" viewBox=\"0 0 238.965625 180.65625\" width=\"238.965625pt\" xmlns=\"http://www.w3.org/2000/svg\" xmlns:xlink=\"http://www.w3.org/1999/xlink\">\n <defs>\n  <style type=\"text/css\">\n*{stroke-linecap:butt;stroke-linejoin:round;}\n  </style>\n </defs>\n <g id=\"figure_1\">\n  <g id=\"patch_1\">\n   <path d=\"M 0 180.65625 \nL 238.965625 180.65625 \nL 238.965625 0 \nL 0 0 \nz\n\" style=\"fill:none;\"/>\n  </g>\n  <g id=\"axes_1\">\n   <g id=\"patch_2\">\n    <path d=\"M 30.103125 143.1 \nL 225.403125 143.1 \nL 225.403125 7.2 \nL 30.103125 7.2 \nz\n\" style=\"fill:#ffffff;\"/>\n   </g>\n   <g id=\"matplotlib.axis_1\">\n    <g id=\"xtick_1\">\n     <g id=\"line2d_1\">\n      <defs>\n       <path d=\"M 0 0 \nL 0 3.5 \n\" id=\"m38ec9bc321\" style=\"stroke:#000000;stroke-width:0.8;\"/>\n      </defs>\n      <g>\n       <use style=\"stroke:#000000;stroke-width:0.8;\" x=\"30.103125\" xlink:href=\"#m38ec9bc321\" y=\"143.1\"/>\n      </g>\n     </g>\n     <g id=\"text_1\">\n      <!-- 0 -->\n      <defs>\n       <path d=\"M 31.78125 66.40625 \nQ 24.171875 66.40625 20.328125 58.90625 \nQ 16.5 51.421875 16.5 36.375 \nQ 16.5 21.390625 20.328125 13.890625 \nQ 24.171875 6.390625 31.78125 6.390625 \nQ 39.453125 6.390625 43.28125 13.890625 \nQ 47.125 21.390625 47.125 36.375 \nQ 47.125 51.421875 43.28125 58.90625 \nQ 39.453125 66.40625 31.78125 66.40625 \nz\nM 31.78125 74.21875 \nQ 44.046875 74.21875 50.515625 64.515625 \nQ 56.984375 54.828125 56.984375 36.375 \nQ 56.984375 17.96875 50.515625 8.265625 \nQ 44.046875 -1.421875 31.78125 -1.421875 \nQ 19.53125 -1.421875 13.0625 8.265625 \nQ 6.59375 17.96875 6.59375 36.375 \nQ 6.59375 54.828125 13.0625 64.515625 \nQ 19.53125 74.21875 31.78125 74.21875 \nz\n\" id=\"DejaVuSans-48\"/>\n      </defs>\n      <g transform=\"translate(26.921875 157.698438)scale(0.1 -0.1)\">\n       <use xlink:href=\"#DejaVuSans-48\"/>\n      </g>\n     </g>\n    </g>\n    <g id=\"xtick_2\">\n     <g id=\"line2d_2\">\n      <g>\n       <use style=\"stroke:#000000;stroke-width:0.8;\" x=\"69.163125\" xlink:href=\"#m38ec9bc321\" y=\"143.1\"/>\n      </g>\n     </g>\n     <g id=\"text_2\">\n      <!-- 2 -->\n      <defs>\n       <path d=\"M 19.1875 8.296875 \nL 53.609375 8.296875 \nL 53.609375 0 \nL 7.328125 0 \nL 7.328125 8.296875 \nQ 12.9375 14.109375 22.625 23.890625 \nQ 32.328125 33.6875 34.8125 36.53125 \nQ 39.546875 41.84375 41.421875 45.53125 \nQ 43.3125 49.21875 43.3125 52.78125 \nQ 43.3125 58.59375 39.234375 62.25 \nQ 35.15625 65.921875 28.609375 65.921875 \nQ 23.96875 65.921875 18.8125 64.3125 \nQ 13.671875 62.703125 7.8125 59.421875 \nL 7.8125 69.390625 \nQ 13.765625 71.78125 18.9375 73 \nQ 24.125 74.21875 28.421875 74.21875 \nQ 39.75 74.21875 46.484375 68.546875 \nQ 53.21875 62.890625 53.21875 53.421875 \nQ 53.21875 48.921875 51.53125 44.890625 \nQ 49.859375 40.875 45.40625 35.40625 \nQ 44.1875 33.984375 37.640625 27.21875 \nQ 31.109375 20.453125 19.1875 8.296875 \nz\n\" id=\"DejaVuSans-50\"/>\n      </defs>\n      <g transform=\"translate(65.981875 157.698438)scale(0.1 -0.1)\">\n       <use xlink:href=\"#DejaVuSans-50\"/>\n      </g>\n     </g>\n    </g>\n    <g id=\"xtick_3\">\n     <g id=\"line2d_3\">\n      <g>\n       <use style=\"stroke:#000000;stroke-width:0.8;\" x=\"108.223125\" xlink:href=\"#m38ec9bc321\" y=\"143.1\"/>\n      </g>\n     </g>\n     <g id=\"text_3\">\n      <!-- 4 -->\n      <defs>\n       <path d=\"M 37.796875 64.3125 \nL 12.890625 25.390625 \nL 37.796875 25.390625 \nz\nM 35.203125 72.90625 \nL 47.609375 72.90625 \nL 47.609375 25.390625 \nL 58.015625 25.390625 \nL 58.015625 17.1875 \nL 47.609375 17.1875 \nL 47.609375 0 \nL 37.796875 0 \nL 37.796875 17.1875 \nL 4.890625 17.1875 \nL 4.890625 26.703125 \nz\n\" id=\"DejaVuSans-52\"/>\n      </defs>\n      <g transform=\"translate(105.041875 157.698438)scale(0.1 -0.1)\">\n       <use xlink:href=\"#DejaVuSans-52\"/>\n      </g>\n     </g>\n    </g>\n    <g id=\"xtick_4\">\n     <g id=\"line2d_4\">\n      <g>\n       <use style=\"stroke:#000000;stroke-width:0.8;\" x=\"147.283125\" xlink:href=\"#m38ec9bc321\" y=\"143.1\"/>\n      </g>\n     </g>\n     <g id=\"text_4\">\n      <!-- 6 -->\n      <defs>\n       <path d=\"M 33.015625 40.375 \nQ 26.375 40.375 22.484375 35.828125 \nQ 18.609375 31.296875 18.609375 23.390625 \nQ 18.609375 15.53125 22.484375 10.953125 \nQ 26.375 6.390625 33.015625 6.390625 \nQ 39.65625 6.390625 43.53125 10.953125 \nQ 47.40625 15.53125 47.40625 23.390625 \nQ 47.40625 31.296875 43.53125 35.828125 \nQ 39.65625 40.375 33.015625 40.375 \nz\nM 52.59375 71.296875 \nL 52.59375 62.3125 \nQ 48.875 64.0625 45.09375 64.984375 \nQ 41.3125 65.921875 37.59375 65.921875 \nQ 27.828125 65.921875 22.671875 59.328125 \nQ 17.53125 52.734375 16.796875 39.40625 \nQ 19.671875 43.65625 24.015625 45.921875 \nQ 28.375 48.1875 33.59375 48.1875 \nQ 44.578125 48.1875 50.953125 41.515625 \nQ 57.328125 34.859375 57.328125 23.390625 \nQ 57.328125 12.15625 50.6875 5.359375 \nQ 44.046875 -1.421875 33.015625 -1.421875 \nQ 20.359375 -1.421875 13.671875 8.265625 \nQ 6.984375 17.96875 6.984375 36.375 \nQ 6.984375 53.65625 15.1875 63.9375 \nQ 23.390625 74.21875 37.203125 74.21875 \nQ 40.921875 74.21875 44.703125 73.484375 \nQ 48.484375 72.75 52.59375 71.296875 \nz\n\" id=\"DejaVuSans-54\"/>\n      </defs>\n      <g transform=\"translate(144.101875 157.698438)scale(0.1 -0.1)\">\n       <use xlink:href=\"#DejaVuSans-54\"/>\n      </g>\n     </g>\n    </g>\n    <g id=\"xtick_5\">\n     <g id=\"line2d_5\">\n      <g>\n       <use style=\"stroke:#000000;stroke-width:0.8;\" x=\"186.343125\" xlink:href=\"#m38ec9bc321\" y=\"143.1\"/>\n      </g>\n     </g>\n     <g id=\"text_5\">\n      <!-- 8 -->\n      <defs>\n       <path d=\"M 31.78125 34.625 \nQ 24.75 34.625 20.71875 30.859375 \nQ 16.703125 27.09375 16.703125 20.515625 \nQ 16.703125 13.921875 20.71875 10.15625 \nQ 24.75 6.390625 31.78125 6.390625 \nQ 38.8125 6.390625 42.859375 10.171875 \nQ 46.921875 13.96875 46.921875 20.515625 \nQ 46.921875 27.09375 42.890625 30.859375 \nQ 38.875 34.625 31.78125 34.625 \nz\nM 21.921875 38.8125 \nQ 15.578125 40.375 12.03125 44.71875 \nQ 8.5 49.078125 8.5 55.328125 \nQ 8.5 64.0625 14.71875 69.140625 \nQ 20.953125 74.21875 31.78125 74.21875 \nQ 42.671875 74.21875 48.875 69.140625 \nQ 55.078125 64.0625 55.078125 55.328125 \nQ 55.078125 49.078125 51.53125 44.71875 \nQ 48 40.375 41.703125 38.8125 \nQ 48.828125 37.15625 52.796875 32.3125 \nQ 56.78125 27.484375 56.78125 20.515625 \nQ 56.78125 9.90625 50.3125 4.234375 \nQ 43.84375 -1.421875 31.78125 -1.421875 \nQ 19.734375 -1.421875 13.25 4.234375 \nQ 6.78125 9.90625 6.78125 20.515625 \nQ 6.78125 27.484375 10.78125 32.3125 \nQ 14.796875 37.15625 21.921875 38.8125 \nz\nM 18.3125 54.390625 \nQ 18.3125 48.734375 21.84375 45.5625 \nQ 25.390625 42.390625 31.78125 42.390625 \nQ 38.140625 42.390625 41.71875 45.5625 \nQ 45.3125 48.734375 45.3125 54.390625 \nQ 45.3125 60.0625 41.71875 63.234375 \nQ 38.140625 66.40625 31.78125 66.40625 \nQ 25.390625 66.40625 21.84375 63.234375 \nQ 18.3125 60.0625 18.3125 54.390625 \nz\n\" id=\"DejaVuSans-56\"/>\n      </defs>\n      <g transform=\"translate(183.161875 157.698438)scale(0.1 -0.1)\">\n       <use xlink:href=\"#DejaVuSans-56\"/>\n      </g>\n     </g>\n    </g>\n    <g id=\"xtick_6\">\n     <g id=\"line2d_6\">\n      <g>\n       <use style=\"stroke:#000000;stroke-width:0.8;\" x=\"225.403125\" xlink:href=\"#m38ec9bc321\" y=\"143.1\"/>\n      </g>\n     </g>\n     <g id=\"text_6\">\n      <!-- 10 -->\n      <defs>\n       <path d=\"M 12.40625 8.296875 \nL 28.515625 8.296875 \nL 28.515625 63.921875 \nL 10.984375 60.40625 \nL 10.984375 69.390625 \nL 28.421875 72.90625 \nL 38.28125 72.90625 \nL 38.28125 8.296875 \nL 54.390625 8.296875 \nL 54.390625 0 \nL 12.40625 0 \nz\n\" id=\"DejaVuSans-49\"/>\n      </defs>\n      <g transform=\"translate(219.040625 157.698438)scale(0.1 -0.1)\">\n       <use xlink:href=\"#DejaVuSans-49\"/>\n       <use x=\"63.623047\" xlink:href=\"#DejaVuSans-48\"/>\n      </g>\n     </g>\n    </g>\n    <g id=\"text_7\">\n     <!-- epoch -->\n     <defs>\n      <path d=\"M 56.203125 29.59375 \nL 56.203125 25.203125 \nL 14.890625 25.203125 \nQ 15.484375 15.921875 20.484375 11.0625 \nQ 25.484375 6.203125 34.421875 6.203125 \nQ 39.59375 6.203125 44.453125 7.46875 \nQ 49.3125 8.734375 54.109375 11.28125 \nL 54.109375 2.78125 \nQ 49.265625 0.734375 44.1875 -0.34375 \nQ 39.109375 -1.421875 33.890625 -1.421875 \nQ 20.796875 -1.421875 13.15625 6.1875 \nQ 5.515625 13.8125 5.515625 26.8125 \nQ 5.515625 40.234375 12.765625 48.109375 \nQ 20.015625 56 32.328125 56 \nQ 43.359375 56 49.78125 48.890625 \nQ 56.203125 41.796875 56.203125 29.59375 \nz\nM 47.21875 32.234375 \nQ 47.125 39.59375 43.09375 43.984375 \nQ 39.0625 48.390625 32.421875 48.390625 \nQ 24.90625 48.390625 20.390625 44.140625 \nQ 15.875 39.890625 15.1875 32.171875 \nz\n\" id=\"DejaVuSans-101\"/>\n      <path d=\"M 18.109375 8.203125 \nL 18.109375 -20.796875 \nL 9.078125 -20.796875 \nL 9.078125 54.6875 \nL 18.109375 54.6875 \nL 18.109375 46.390625 \nQ 20.953125 51.265625 25.265625 53.625 \nQ 29.59375 56 35.59375 56 \nQ 45.5625 56 51.78125 48.09375 \nQ 58.015625 40.1875 58.015625 27.296875 \nQ 58.015625 14.40625 51.78125 6.484375 \nQ 45.5625 -1.421875 35.59375 -1.421875 \nQ 29.59375 -1.421875 25.265625 0.953125 \nQ 20.953125 3.328125 18.109375 8.203125 \nz\nM 48.6875 27.296875 \nQ 48.6875 37.203125 44.609375 42.84375 \nQ 40.53125 48.484375 33.40625 48.484375 \nQ 26.265625 48.484375 22.1875 42.84375 \nQ 18.109375 37.203125 18.109375 27.296875 \nQ 18.109375 17.390625 22.1875 11.75 \nQ 26.265625 6.109375 33.40625 6.109375 \nQ 40.53125 6.109375 44.609375 11.75 \nQ 48.6875 17.390625 48.6875 27.296875 \nz\n\" id=\"DejaVuSans-112\"/>\n      <path d=\"M 30.609375 48.390625 \nQ 23.390625 48.390625 19.1875 42.75 \nQ 14.984375 37.109375 14.984375 27.296875 \nQ 14.984375 17.484375 19.15625 11.84375 \nQ 23.34375 6.203125 30.609375 6.203125 \nQ 37.796875 6.203125 41.984375 11.859375 \nQ 46.1875 17.53125 46.1875 27.296875 \nQ 46.1875 37.015625 41.984375 42.703125 \nQ 37.796875 48.390625 30.609375 48.390625 \nz\nM 30.609375 56 \nQ 42.328125 56 49.015625 48.375 \nQ 55.71875 40.765625 55.71875 27.296875 \nQ 55.71875 13.875 49.015625 6.21875 \nQ 42.328125 -1.421875 30.609375 -1.421875 \nQ 18.84375 -1.421875 12.171875 6.21875 \nQ 5.515625 13.875 5.515625 27.296875 \nQ 5.515625 40.765625 12.171875 48.375 \nQ 18.84375 56 30.609375 56 \nz\n\" id=\"DejaVuSans-111\"/>\n      <path d=\"M 48.78125 52.59375 \nL 48.78125 44.1875 \nQ 44.96875 46.296875 41.140625 47.34375 \nQ 37.3125 48.390625 33.40625 48.390625 \nQ 24.65625 48.390625 19.8125 42.84375 \nQ 14.984375 37.3125 14.984375 27.296875 \nQ 14.984375 17.28125 19.8125 11.734375 \nQ 24.65625 6.203125 33.40625 6.203125 \nQ 37.3125 6.203125 41.140625 7.25 \nQ 44.96875 8.296875 48.78125 10.40625 \nL 48.78125 2.09375 \nQ 45.015625 0.34375 40.984375 -0.53125 \nQ 36.96875 -1.421875 32.421875 -1.421875 \nQ 20.0625 -1.421875 12.78125 6.34375 \nQ 5.515625 14.109375 5.515625 27.296875 \nQ 5.515625 40.671875 12.859375 48.328125 \nQ 20.21875 56 33.015625 56 \nQ 37.15625 56 41.109375 55.140625 \nQ 45.0625 54.296875 48.78125 52.59375 \nz\n\" id=\"DejaVuSans-99\"/>\n      <path d=\"M 54.890625 33.015625 \nL 54.890625 0 \nL 45.90625 0 \nL 45.90625 32.71875 \nQ 45.90625 40.484375 42.875 44.328125 \nQ 39.84375 48.1875 33.796875 48.1875 \nQ 26.515625 48.1875 22.3125 43.546875 \nQ 18.109375 38.921875 18.109375 30.90625 \nL 18.109375 0 \nL 9.078125 0 \nL 9.078125 75.984375 \nL 18.109375 75.984375 \nL 18.109375 46.1875 \nQ 21.34375 51.125 25.703125 53.5625 \nQ 30.078125 56 35.796875 56 \nQ 45.21875 56 50.046875 50.171875 \nQ 54.890625 44.34375 54.890625 33.015625 \nz\n\" id=\"DejaVuSans-104\"/>\n     </defs>\n     <g transform=\"translate(112.525 171.376563)scale(0.1 -0.1)\">\n      <use xlink:href=\"#DejaVuSans-101\"/>\n      <use x=\"61.523438\" xlink:href=\"#DejaVuSans-112\"/>\n      <use x=\"125\" xlink:href=\"#DejaVuSans-111\"/>\n      <use x=\"186.181641\" xlink:href=\"#DejaVuSans-99\"/>\n      <use x=\"241.162109\" xlink:href=\"#DejaVuSans-104\"/>\n     </g>\n    </g>\n   </g>\n   <g id=\"matplotlib.axis_2\">\n    <g id=\"ytick_1\">\n     <g id=\"line2d_7\">\n      <defs>\n       <path d=\"M 0 0 \nL -3.5 0 \n\" id=\"m6e3f0cbdc0\" style=\"stroke:#000000;stroke-width:0.8;\"/>\n      </defs>\n      <g>\n       <use style=\"stroke:#000000;stroke-width:0.8;\" x=\"30.103125\" xlink:href=\"#m6e3f0cbdc0\" y=\"140.409928\"/>\n      </g>\n     </g>\n     <g id=\"text_8\">\n      <!-- 0.0 -->\n      <defs>\n       <path d=\"M 10.6875 12.40625 \nL 21 12.40625 \nL 21 0 \nL 10.6875 0 \nz\n\" id=\"DejaVuSans-46\"/>\n      </defs>\n      <g transform=\"translate(7.2 144.209147)scale(0.1 -0.1)\">\n       <use xlink:href=\"#DejaVuSans-48\"/>\n       <use x=\"63.623047\" xlink:href=\"#DejaVuSans-46\"/>\n       <use x=\"95.410156\" xlink:href=\"#DejaVuSans-48\"/>\n      </g>\n     </g>\n    </g>\n    <g id=\"ytick_2\">\n     <g id=\"line2d_8\">\n      <g>\n       <use style=\"stroke:#000000;stroke-width:0.8;\" x=\"30.103125\" xlink:href=\"#m6e3f0cbdc0\" y=\"112.518186\"/>\n      </g>\n     </g>\n     <g id=\"text_9\">\n      <!-- 0.2 -->\n      <g transform=\"translate(7.2 116.317404)scale(0.1 -0.1)\">\n       <use xlink:href=\"#DejaVuSans-48\"/>\n       <use x=\"63.623047\" xlink:href=\"#DejaVuSans-46\"/>\n       <use x=\"95.410156\" xlink:href=\"#DejaVuSans-50\"/>\n      </g>\n     </g>\n    </g>\n    <g id=\"ytick_3\">\n     <g id=\"line2d_9\">\n      <g>\n       <use style=\"stroke:#000000;stroke-width:0.8;\" x=\"30.103125\" xlink:href=\"#m6e3f0cbdc0\" y=\"84.626443\"/>\n      </g>\n     </g>\n     <g id=\"text_10\">\n      <!-- 0.4 -->\n      <g transform=\"translate(7.2 88.425661)scale(0.1 -0.1)\">\n       <use xlink:href=\"#DejaVuSans-48\"/>\n       <use x=\"63.623047\" xlink:href=\"#DejaVuSans-46\"/>\n       <use x=\"95.410156\" xlink:href=\"#DejaVuSans-52\"/>\n      </g>\n     </g>\n    </g>\n    <g id=\"ytick_4\">\n     <g id=\"line2d_10\">\n      <g>\n       <use style=\"stroke:#000000;stroke-width:0.8;\" x=\"30.103125\" xlink:href=\"#m6e3f0cbdc0\" y=\"56.7347\"/>\n      </g>\n     </g>\n     <g id=\"text_11\">\n      <!-- 0.6 -->\n      <g transform=\"translate(7.2 60.533919)scale(0.1 -0.1)\">\n       <use xlink:href=\"#DejaVuSans-48\"/>\n       <use x=\"63.623047\" xlink:href=\"#DejaVuSans-46\"/>\n       <use x=\"95.410156\" xlink:href=\"#DejaVuSans-54\"/>\n      </g>\n     </g>\n    </g>\n    <g id=\"ytick_5\">\n     <g id=\"line2d_11\">\n      <g>\n       <use style=\"stroke:#000000;stroke-width:0.8;\" x=\"30.103125\" xlink:href=\"#m6e3f0cbdc0\" y=\"28.842957\"/>\n      </g>\n     </g>\n     <g id=\"text_12\">\n      <!-- 0.8 -->\n      <g transform=\"translate(7.2 32.642176)scale(0.1 -0.1)\">\n       <use xlink:href=\"#DejaVuSans-48\"/>\n       <use x=\"63.623047\" xlink:href=\"#DejaVuSans-46\"/>\n       <use x=\"95.410156\" xlink:href=\"#DejaVuSans-56\"/>\n      </g>\n     </g>\n    </g>\n   </g>\n   <g id=\"line2d_12\">\n    <path clip-path=\"url(#pb7a21beb04)\" d=\"M 34.954394 56.489376 \n\" style=\"fill:none;stroke:#1f77b4;stroke-linecap:square;stroke-width:1.5;\"/>\n   </g>\n   <g id=\"line2d_13\">\n    <path clip-path=\"url(#pb7a21beb04)\" d=\"M 34.954394 56.489376 \nL 44.698573 89.244603 \n\" style=\"fill:none;stroke:#1f77b4;stroke-linecap:square;stroke-width:1.5;\"/>\n   </g>\n   <g id=\"line2d_14\">\n    <path clip-path=\"url(#pb7a21beb04)\" d=\"M 34.954394 56.489376 \nL 44.698573 89.244603 \n\" style=\"fill:none;stroke:#1f77b4;stroke-linecap:square;stroke-width:1.5;\"/>\n   </g>\n   <g id=\"line2d_15\">\n    <path clip-path=\"url(#pb7a21beb04)\" d=\"M 49.633125 91.161556 \n\" style=\"fill:none;stroke:#ff7f0e;stroke-dasharray:5.55,2.4;stroke-dashoffset:0;stroke-width:1.5;\"/>\n   </g>\n   <g id=\"line2d_16\"/>\n   <g id=\"line2d_17\">\n    <path clip-path=\"url(#pb7a21beb04)\" d=\"M 34.954394 56.489376 \nL 44.698573 89.244603 \n\" style=\"fill:none;stroke:#1f77b4;stroke-linecap:square;stroke-width:1.5;\"/>\n   </g>\n   <g id=\"line2d_18\">\n    <path clip-path=\"url(#pb7a21beb04)\" d=\"M 49.633125 91.161556 \n\" style=\"fill:none;stroke:#ff7f0e;stroke-dasharray:5.55,2.4;stroke-dashoffset:0;stroke-width:1.5;\"/>\n   </g>\n   <g id=\"line2d_19\">\n    <path clip-path=\"url(#pb7a21beb04)\" d=\"M 49.633125 19.279995 \n\" style=\"fill:none;stroke:#2ca02c;stroke-dasharray:9.6,2.4,1.5,2.4;stroke-dashoffset:0;stroke-width:1.5;\"/>\n   </g>\n   <g id=\"line2d_20\">\n    <path clip-path=\"url(#pb7a21beb04)\" d=\"M 34.954394 56.489376 \nL 44.698573 89.244603 \nL 54.442752 99.588858 \n\" style=\"fill:none;stroke:#1f77b4;stroke-linecap:square;stroke-width:1.5;\"/>\n   </g>\n   <g id=\"line2d_21\">\n    <path clip-path=\"url(#pb7a21beb04)\" d=\"M 49.633125 91.161556 \n\" style=\"fill:none;stroke:#ff7f0e;stroke-dasharray:5.55,2.4;stroke-dashoffset:0;stroke-width:1.5;\"/>\n   </g>\n   <g id=\"line2d_22\">\n    <path clip-path=\"url(#pb7a21beb04)\" d=\"M 49.633125 19.279995 \n\" style=\"fill:none;stroke:#2ca02c;stroke-dasharray:9.6,2.4,1.5,2.4;stroke-dashoffset:0;stroke-width:1.5;\"/>\n   </g>\n   <g id=\"line2d_23\">\n    <path clip-path=\"url(#pb7a21beb04)\" d=\"M 34.954394 56.489376 \nL 44.698573 89.244603 \nL 54.442752 99.588858 \nL 64.186931 102.969075 \n\" style=\"fill:none;stroke:#1f77b4;stroke-linecap:square;stroke-width:1.5;\"/>\n   </g>\n   <g id=\"line2d_24\">\n    <path clip-path=\"url(#pb7a21beb04)\" d=\"M 49.633125 91.161556 \n\" style=\"fill:none;stroke:#ff7f0e;stroke-dasharray:5.55,2.4;stroke-dashoffset:0;stroke-width:1.5;\"/>\n   </g>\n   <g id=\"line2d_25\">\n    <path clip-path=\"url(#pb7a21beb04)\" d=\"M 49.633125 19.279995 \n\" style=\"fill:none;stroke:#2ca02c;stroke-dasharray:9.6,2.4,1.5,2.4;stroke-dashoffset:0;stroke-width:1.5;\"/>\n   </g>\n   <g id=\"line2d_26\">\n    <path clip-path=\"url(#pb7a21beb04)\" d=\"M 34.954394 56.489376 \nL 44.698573 89.244603 \nL 54.442752 99.588858 \nL 64.186931 102.969075 \n\" style=\"fill:none;stroke:#1f77b4;stroke-linecap:square;stroke-width:1.5;\"/>\n   </g>\n   <g id=\"line2d_27\">\n    <path clip-path=\"url(#pb7a21beb04)\" d=\"M 49.633125 91.161556 \nL 69.163125 87.210561 \n\" style=\"fill:none;stroke:#ff7f0e;stroke-dasharray:5.55,2.4;stroke-dashoffset:0;stroke-width:1.5;\"/>\n   </g>\n   <g id=\"line2d_28\">\n    <path clip-path=\"url(#pb7a21beb04)\" d=\"M 49.633125 19.279995 \n\" style=\"fill:none;stroke:#2ca02c;stroke-dasharray:9.6,2.4,1.5,2.4;stroke-dashoffset:0;stroke-width:1.5;\"/>\n   </g>\n   <g id=\"line2d_29\">\n    <path clip-path=\"url(#pb7a21beb04)\" d=\"M 34.954394 56.489376 \nL 44.698573 89.244603 \nL 54.442752 99.588858 \nL 64.186931 102.969075 \n\" style=\"fill:none;stroke:#1f77b4;stroke-linecap:square;stroke-width:1.5;\"/>\n   </g>\n   <g id=\"line2d_30\">\n    <path clip-path=\"url(#pb7a21beb04)\" d=\"M 49.633125 91.161556 \nL 69.163125 87.210561 \n\" style=\"fill:none;stroke:#ff7f0e;stroke-dasharray:5.55,2.4;stroke-dashoffset:0;stroke-width:1.5;\"/>\n   </g>\n   <g id=\"line2d_31\">\n    <path clip-path=\"url(#pb7a21beb04)\" d=\"M 49.633125 19.279995 \nL 69.163125 20.783259 \n\" style=\"fill:none;stroke:#2ca02c;stroke-dasharray:9.6,2.4,1.5,2.4;stroke-dashoffset:0;stroke-width:1.5;\"/>\n   </g>\n   <g id=\"line2d_32\">\n    <path clip-path=\"url(#pb7a21beb04)\" d=\"M 34.954394 56.489376 \nL 44.698573 89.244603 \nL 54.442752 99.588858 \nL 64.186931 102.969075 \nL 73.93111 109.824996 \n\" style=\"fill:none;stroke:#1f77b4;stroke-linecap:square;stroke-width:1.5;\"/>\n   </g>\n   <g id=\"line2d_33\">\n    <path clip-path=\"url(#pb7a21beb04)\" d=\"M 49.633125 91.161556 \nL 69.163125 87.210561 \n\" style=\"fill:none;stroke:#ff7f0e;stroke-dasharray:5.55,2.4;stroke-dashoffset:0;stroke-width:1.5;\"/>\n   </g>\n   <g id=\"line2d_34\">\n    <path clip-path=\"url(#pb7a21beb04)\" d=\"M 49.633125 19.279995 \nL 69.163125 20.783259 \n\" style=\"fill:none;stroke:#2ca02c;stroke-dasharray:9.6,2.4,1.5,2.4;stroke-dashoffset:0;stroke-width:1.5;\"/>\n   </g>\n   <g id=\"line2d_35\">\n    <path clip-path=\"url(#pb7a21beb04)\" d=\"M 34.954394 56.489376 \nL 44.698573 89.244603 \nL 54.442752 99.588858 \nL 64.186931 102.969075 \nL 73.93111 109.824996 \nL 83.675289 110.190802 \n\" style=\"fill:none;stroke:#1f77b4;stroke-linecap:square;stroke-width:1.5;\"/>\n   </g>\n   <g id=\"line2d_36\">\n    <path clip-path=\"url(#pb7a21beb04)\" d=\"M 49.633125 91.161556 \nL 69.163125 87.210561 \n\" style=\"fill:none;stroke:#ff7f0e;stroke-dasharray:5.55,2.4;stroke-dashoffset:0;stroke-width:1.5;\"/>\n   </g>\n   <g id=\"line2d_37\">\n    <path clip-path=\"url(#pb7a21beb04)\" d=\"M 49.633125 19.279995 \nL 69.163125 20.783259 \n\" style=\"fill:none;stroke:#2ca02c;stroke-dasharray:9.6,2.4,1.5,2.4;stroke-dashoffset:0;stroke-width:1.5;\"/>\n   </g>\n   <g id=\"line2d_38\">\n    <path clip-path=\"url(#pb7a21beb04)\" d=\"M 34.954394 56.489376 \nL 44.698573 89.244603 \nL 54.442752 99.588858 \nL 64.186931 102.969075 \nL 73.93111 109.824996 \nL 83.675289 110.190802 \n\" style=\"fill:none;stroke:#1f77b4;stroke-linecap:square;stroke-width:1.5;\"/>\n   </g>\n   <g id=\"line2d_39\">\n    <path clip-path=\"url(#pb7a21beb04)\" d=\"M 49.633125 91.161556 \nL 69.163125 87.210561 \nL 88.693125 87.683282 \n\" style=\"fill:none;stroke:#ff7f0e;stroke-dasharray:5.55,2.4;stroke-dashoffset:0;stroke-width:1.5;\"/>\n   </g>\n   <g id=\"line2d_40\">\n    <path clip-path=\"url(#pb7a21beb04)\" d=\"M 49.633125 19.279995 \nL 69.163125 20.783259 \n\" style=\"fill:none;stroke:#2ca02c;stroke-dasharray:9.6,2.4,1.5,2.4;stroke-dashoffset:0;stroke-width:1.5;\"/>\n   </g>\n   <g id=\"line2d_41\">\n    <path clip-path=\"url(#pb7a21beb04)\" d=\"M 34.954394 56.489376 \nL 44.698573 89.244603 \nL 54.442752 99.588858 \nL 64.186931 102.969075 \nL 73.93111 109.824996 \nL 83.675289 110.190802 \n\" style=\"fill:none;stroke:#1f77b4;stroke-linecap:square;stroke-width:1.5;\"/>\n   </g>\n   <g id=\"line2d_42\">\n    <path clip-path=\"url(#pb7a21beb04)\" d=\"M 49.633125 91.161556 \nL 69.163125 87.210561 \nL 88.693125 87.683282 \n\" style=\"fill:none;stroke:#ff7f0e;stroke-dasharray:5.55,2.4;stroke-dashoffset:0;stroke-width:1.5;\"/>\n   </g>\n   <g id=\"line2d_43\">\n    <path clip-path=\"url(#pb7a21beb04)\" d=\"M 49.633125 19.279995 \nL 69.163125 20.783259 \nL 88.693125 19.335161 \n\" style=\"fill:none;stroke:#2ca02c;stroke-dasharray:9.6,2.4,1.5,2.4;stroke-dashoffset:0;stroke-width:1.5;\"/>\n   </g>\n   <g id=\"line2d_44\">\n    <path clip-path=\"url(#pb7a21beb04)\" d=\"M 34.954394 56.489376 \nL 44.698573 89.244603 \nL 54.442752 99.588858 \nL 64.186931 102.969075 \nL 73.93111 109.824996 \nL 83.675289 110.190802 \nL 93.419468 116.884644 \n\" style=\"fill:none;stroke:#1f77b4;stroke-linecap:square;stroke-width:1.5;\"/>\n   </g>\n   <g id=\"line2d_45\">\n    <path clip-path=\"url(#pb7a21beb04)\" d=\"M 49.633125 91.161556 \nL 69.163125 87.210561 \nL 88.693125 87.683282 \n\" style=\"fill:none;stroke:#ff7f0e;stroke-dasharray:5.55,2.4;stroke-dashoffset:0;stroke-width:1.5;\"/>\n   </g>\n   <g id=\"line2d_46\">\n    <path clip-path=\"url(#pb7a21beb04)\" d=\"M 49.633125 19.279995 \nL 69.163125 20.783259 \nL 88.693125 19.335161 \n\" style=\"fill:none;stroke:#2ca02c;stroke-dasharray:9.6,2.4,1.5,2.4;stroke-dashoffset:0;stroke-width:1.5;\"/>\n   </g>\n   <g id=\"line2d_47\">\n    <path clip-path=\"url(#pb7a21beb04)\" d=\"M 34.954394 56.489376 \nL 44.698573 89.244603 \nL 54.442752 99.588858 \nL 64.186931 102.969075 \nL 73.93111 109.824996 \nL 83.675289 110.190802 \nL 93.419468 116.884644 \nL 103.163647 115.998876 \n\" style=\"fill:none;stroke:#1f77b4;stroke-linecap:square;stroke-width:1.5;\"/>\n   </g>\n   <g id=\"line2d_48\">\n    <path clip-path=\"url(#pb7a21beb04)\" d=\"M 49.633125 91.161556 \nL 69.163125 87.210561 \nL 88.693125 87.683282 \n\" style=\"fill:none;stroke:#ff7f0e;stroke-dasharray:5.55,2.4;stroke-dashoffset:0;stroke-width:1.5;\"/>\n   </g>\n   <g id=\"line2d_49\">\n    <path clip-path=\"url(#pb7a21beb04)\" d=\"M 49.633125 19.279995 \nL 69.163125 20.783259 \nL 88.693125 19.335161 \n\" style=\"fill:none;stroke:#2ca02c;stroke-dasharray:9.6,2.4,1.5,2.4;stroke-dashoffset:0;stroke-width:1.5;\"/>\n   </g>\n   <g id=\"line2d_50\">\n    <path clip-path=\"url(#pb7a21beb04)\" d=\"M 34.954394 56.489376 \nL 44.698573 89.244603 \nL 54.442752 99.588858 \nL 64.186931 102.969075 \nL 73.93111 109.824996 \nL 83.675289 110.190802 \nL 93.419468 116.884644 \nL 103.163647 115.998876 \n\" style=\"fill:none;stroke:#1f77b4;stroke-linecap:square;stroke-width:1.5;\"/>\n   </g>\n   <g id=\"line2d_51\">\n    <path clip-path=\"url(#pb7a21beb04)\" d=\"M 49.633125 91.161556 \nL 69.163125 87.210561 \nL 88.693125 87.683282 \nL 108.223125 102.146277 \n\" style=\"fill:none;stroke:#ff7f0e;stroke-dasharray:5.55,2.4;stroke-dashoffset:0;stroke-width:1.5;\"/>\n   </g>\n   <g id=\"line2d_52\">\n    <path clip-path=\"url(#pb7a21beb04)\" d=\"M 49.633125 19.279995 \nL 69.163125 20.783259 \nL 88.693125 19.335161 \n\" style=\"fill:none;stroke:#2ca02c;stroke-dasharray:9.6,2.4,1.5,2.4;stroke-dashoffset:0;stroke-width:1.5;\"/>\n   </g>\n   <g id=\"line2d_53\">\n    <path clip-path=\"url(#pb7a21beb04)\" d=\"M 34.954394 56.489376 \nL 44.698573 89.244603 \nL 54.442752 99.588858 \nL 64.186931 102.969075 \nL 73.93111 109.824996 \nL 83.675289 110.190802 \nL 93.419468 116.884644 \nL 103.163647 115.998876 \n\" style=\"fill:none;stroke:#1f77b4;stroke-linecap:square;stroke-width:1.5;\"/>\n   </g>\n   <g id=\"line2d_54\">\n    <path clip-path=\"url(#pb7a21beb04)\" d=\"M 49.633125 91.161556 \nL 69.163125 87.210561 \nL 88.693125 87.683282 \nL 108.223125 102.146277 \n\" style=\"fill:none;stroke:#ff7f0e;stroke-dasharray:5.55,2.4;stroke-dashoffset:0;stroke-width:1.5;\"/>\n   </g>\n   <g id=\"line2d_55\">\n    <path clip-path=\"url(#pb7a21beb04)\" d=\"M 49.633125 19.279995 \nL 69.163125 20.783259 \nL 88.693125 19.335161 \nL 108.223125 14.894328 \n\" style=\"fill:none;stroke:#2ca02c;stroke-dasharray:9.6,2.4,1.5,2.4;stroke-dashoffset:0;stroke-width:1.5;\"/>\n   </g>\n   <g id=\"line2d_56\">\n    <path clip-path=\"url(#pb7a21beb04)\" d=\"M 34.954394 56.489376 \nL 44.698573 89.244603 \nL 54.442752 99.588858 \nL 64.186931 102.969075 \nL 73.93111 109.824996 \nL 83.675289 110.190802 \nL 93.419468 116.884644 \nL 103.163647 115.998876 \nL 112.907826 122.397431 \n\" style=\"fill:none;stroke:#1f77b4;stroke-linecap:square;stroke-width:1.5;\"/>\n   </g>\n   <g id=\"line2d_57\">\n    <path clip-path=\"url(#pb7a21beb04)\" d=\"M 49.633125 91.161556 \nL 69.163125 87.210561 \nL 88.693125 87.683282 \nL 108.223125 102.146277 \n\" style=\"fill:none;stroke:#ff7f0e;stroke-dasharray:5.55,2.4;stroke-dashoffset:0;stroke-width:1.5;\"/>\n   </g>\n   <g id=\"line2d_58\">\n    <path clip-path=\"url(#pb7a21beb04)\" d=\"M 49.633125 19.279995 \nL 69.163125 20.783259 \nL 88.693125 19.335161 \nL 108.223125 14.894328 \n\" style=\"fill:none;stroke:#2ca02c;stroke-dasharray:9.6,2.4,1.5,2.4;stroke-dashoffset:0;stroke-width:1.5;\"/>\n   </g>\n   <g id=\"line2d_59\">\n    <path clip-path=\"url(#pb7a21beb04)\" d=\"M 34.954394 56.489376 \nL 44.698573 89.244603 \nL 54.442752 99.588858 \nL 64.186931 102.969075 \nL 73.93111 109.824996 \nL 83.675289 110.190802 \nL 93.419468 116.884644 \nL 103.163647 115.998876 \nL 112.907826 122.397431 \nL 122.652006 121.11373 \n\" style=\"fill:none;stroke:#1f77b4;stroke-linecap:square;stroke-width:1.5;\"/>\n   </g>\n   <g id=\"line2d_60\">\n    <path clip-path=\"url(#pb7a21beb04)\" d=\"M 49.633125 91.161556 \nL 69.163125 87.210561 \nL 88.693125 87.683282 \nL 108.223125 102.146277 \n\" style=\"fill:none;stroke:#ff7f0e;stroke-dasharray:5.55,2.4;stroke-dashoffset:0;stroke-width:1.5;\"/>\n   </g>\n   <g id=\"line2d_61\">\n    <path clip-path=\"url(#pb7a21beb04)\" d=\"M 49.633125 19.279995 \nL 69.163125 20.783259 \nL 88.693125 19.335161 \nL 108.223125 14.894328 \n\" style=\"fill:none;stroke:#2ca02c;stroke-dasharray:9.6,2.4,1.5,2.4;stroke-dashoffset:0;stroke-width:1.5;\"/>\n   </g>\n   <g id=\"line2d_62\">\n    <path clip-path=\"url(#pb7a21beb04)\" d=\"M 34.954394 56.489376 \nL 44.698573 89.244603 \nL 54.442752 99.588858 \nL 64.186931 102.969075 \nL 73.93111 109.824996 \nL 83.675289 110.190802 \nL 93.419468 116.884644 \nL 103.163647 115.998876 \nL 112.907826 122.397431 \nL 122.652006 121.11373 \n\" style=\"fill:none;stroke:#1f77b4;stroke-linecap:square;stroke-width:1.5;\"/>\n   </g>\n   <g id=\"line2d_63\">\n    <path clip-path=\"url(#pb7a21beb04)\" d=\"M 49.633125 91.161556 \nL 69.163125 87.210561 \nL 88.693125 87.683282 \nL 108.223125 102.146277 \nL 127.753125 99.134254 \n\" style=\"fill:none;stroke:#ff7f0e;stroke-dasharray:5.55,2.4;stroke-dashoffset:0;stroke-width:1.5;\"/>\n   </g>\n   <g id=\"line2d_64\">\n    <path clip-path=\"url(#pb7a21beb04)\" d=\"M 49.633125 19.279995 \nL 69.163125 20.783259 \nL 88.693125 19.335161 \nL 108.223125 14.894328 \n\" style=\"fill:none;stroke:#2ca02c;stroke-dasharray:9.6,2.4,1.5,2.4;stroke-dashoffset:0;stroke-width:1.5;\"/>\n   </g>\n   <g id=\"line2d_65\">\n    <path clip-path=\"url(#pb7a21beb04)\" d=\"M 34.954394 56.489376 \nL 44.698573 89.244603 \nL 54.442752 99.588858 \nL 64.186931 102.969075 \nL 73.93111 109.824996 \nL 83.675289 110.190802 \nL 93.419468 116.884644 \nL 103.163647 115.998876 \nL 112.907826 122.397431 \nL 122.652006 121.11373 \n\" style=\"fill:none;stroke:#1f77b4;stroke-linecap:square;stroke-width:1.5;\"/>\n   </g>\n   <g id=\"line2d_66\">\n    <path clip-path=\"url(#pb7a21beb04)\" d=\"M 49.633125 91.161556 \nL 69.163125 87.210561 \nL 88.693125 87.683282 \nL 108.223125 102.146277 \nL 127.753125 99.134254 \n\" style=\"fill:none;stroke:#ff7f0e;stroke-dasharray:5.55,2.4;stroke-dashoffset:0;stroke-width:1.5;\"/>\n   </g>\n   <g id=\"line2d_67\">\n    <path clip-path=\"url(#pb7a21beb04)\" d=\"M 49.633125 19.279995 \nL 69.163125 20.783259 \nL 88.693125 19.335161 \nL 108.223125 14.894328 \nL 127.753125 15.087407 \n\" style=\"fill:none;stroke:#2ca02c;stroke-dasharray:9.6,2.4,1.5,2.4;stroke-dashoffset:0;stroke-width:1.5;\"/>\n   </g>\n   <g id=\"line2d_68\">\n    <path clip-path=\"url(#pb7a21beb04)\" d=\"M 34.954394 56.489376 \nL 44.698573 89.244603 \nL 54.442752 99.588858 \nL 64.186931 102.969075 \nL 73.93111 109.824996 \nL 83.675289 110.190802 \nL 93.419468 116.884644 \nL 103.163647 115.998876 \nL 112.907826 122.397431 \nL 122.652006 121.11373 \nL 132.396185 127.241318 \n\" style=\"fill:none;stroke:#1f77b4;stroke-linecap:square;stroke-width:1.5;\"/>\n   </g>\n   <g id=\"line2d_69\">\n    <path clip-path=\"url(#pb7a21beb04)\" d=\"M 49.633125 91.161556 \nL 69.163125 87.210561 \nL 88.693125 87.683282 \nL 108.223125 102.146277 \nL 127.753125 99.134254 \n\" style=\"fill:none;stroke:#ff7f0e;stroke-dasharray:5.55,2.4;stroke-dashoffset:0;stroke-width:1.5;\"/>\n   </g>\n   <g id=\"line2d_70\">\n    <path clip-path=\"url(#pb7a21beb04)\" d=\"M 49.633125 19.279995 \nL 69.163125 20.783259 \nL 88.693125 19.335161 \nL 108.223125 14.894328 \nL 127.753125 15.087407 \n\" style=\"fill:none;stroke:#2ca02c;stroke-dasharray:9.6,2.4,1.5,2.4;stroke-dashoffset:0;stroke-width:1.5;\"/>\n   </g>\n   <g id=\"line2d_71\">\n    <path clip-path=\"url(#pb7a21beb04)\" d=\"M 34.954394 56.489376 \nL 44.698573 89.244603 \nL 54.442752 99.588858 \nL 64.186931 102.969075 \nL 73.93111 109.824996 \nL 83.675289 110.190802 \nL 93.419468 116.884644 \nL 103.163647 115.998876 \nL 112.907826 122.397431 \nL 122.652006 121.11373 \nL 132.396185 127.241318 \nL 142.140364 125.306232 \n\" style=\"fill:none;stroke:#1f77b4;stroke-linecap:square;stroke-width:1.5;\"/>\n   </g>\n   <g id=\"line2d_72\">\n    <path clip-path=\"url(#pb7a21beb04)\" d=\"M 49.633125 91.161556 \nL 69.163125 87.210561 \nL 88.693125 87.683282 \nL 108.223125 102.146277 \nL 127.753125 99.134254 \n\" style=\"fill:none;stroke:#ff7f0e;stroke-dasharray:5.55,2.4;stroke-dashoffset:0;stroke-width:1.5;\"/>\n   </g>\n   <g id=\"line2d_73\">\n    <path clip-path=\"url(#pb7a21beb04)\" d=\"M 49.633125 19.279995 \nL 69.163125 20.783259 \nL 88.693125 19.335161 \nL 108.223125 14.894328 \nL 127.753125 15.087407 \n\" style=\"fill:none;stroke:#2ca02c;stroke-dasharray:9.6,2.4,1.5,2.4;stroke-dashoffset:0;stroke-width:1.5;\"/>\n   </g>\n   <g id=\"line2d_74\">\n    <path clip-path=\"url(#pb7a21beb04)\" d=\"M 34.954394 56.489376 \nL 44.698573 89.244603 \nL 54.442752 99.588858 \nL 64.186931 102.969075 \nL 73.93111 109.824996 \nL 83.675289 110.190802 \nL 93.419468 116.884644 \nL 103.163647 115.998876 \nL 112.907826 122.397431 \nL 122.652006 121.11373 \nL 132.396185 127.241318 \nL 142.140364 125.306232 \n\" style=\"fill:none;stroke:#1f77b4;stroke-linecap:square;stroke-width:1.5;\"/>\n   </g>\n   <g id=\"line2d_75\">\n    <path clip-path=\"url(#pb7a21beb04)\" d=\"M 49.633125 91.161556 \nL 69.163125 87.210561 \nL 88.693125 87.683282 \nL 108.223125 102.146277 \nL 127.753125 99.134254 \nL 147.283125 99.31106 \n\" style=\"fill:none;stroke:#ff7f0e;stroke-dasharray:5.55,2.4;stroke-dashoffset:0;stroke-width:1.5;\"/>\n   </g>\n   <g id=\"line2d_76\">\n    <path clip-path=\"url(#pb7a21beb04)\" d=\"M 49.633125 19.279995 \nL 69.163125 20.783259 \nL 88.693125 19.335161 \nL 108.223125 14.894328 \nL 127.753125 15.087407 \n\" style=\"fill:none;stroke:#2ca02c;stroke-dasharray:9.6,2.4,1.5,2.4;stroke-dashoffset:0;stroke-width:1.5;\"/>\n   </g>\n   <g id=\"line2d_77\">\n    <path clip-path=\"url(#pb7a21beb04)\" d=\"M 34.954394 56.489376 \nL 44.698573 89.244603 \nL 54.442752 99.588858 \nL 64.186931 102.969075 \nL 73.93111 109.824996 \nL 83.675289 110.190802 \nL 93.419468 116.884644 \nL 103.163647 115.998876 \nL 112.907826 122.397431 \nL 122.652006 121.11373 \nL 132.396185 127.241318 \nL 142.140364 125.306232 \n\" style=\"fill:none;stroke:#1f77b4;stroke-linecap:square;stroke-width:1.5;\"/>\n   </g>\n   <g id=\"line2d_78\">\n    <path clip-path=\"url(#pb7a21beb04)\" d=\"M 49.633125 91.161556 \nL 69.163125 87.210561 \nL 88.693125 87.683282 \nL 108.223125 102.146277 \nL 127.753125 99.134254 \nL 147.283125 99.31106 \n\" style=\"fill:none;stroke:#ff7f0e;stroke-dasharray:5.55,2.4;stroke-dashoffset:0;stroke-width:1.5;\"/>\n   </g>\n   <g id=\"line2d_79\">\n    <path clip-path=\"url(#pb7a21beb04)\" d=\"M 49.633125 19.279995 \nL 69.163125 20.783259 \nL 88.693125 19.335161 \nL 108.223125 14.894328 \nL 127.753125 15.087407 \nL 147.283125 14.728831 \n\" style=\"fill:none;stroke:#2ca02c;stroke-dasharray:9.6,2.4,1.5,2.4;stroke-dashoffset:0;stroke-width:1.5;\"/>\n   </g>\n   <g id=\"line2d_80\">\n    <path clip-path=\"url(#pb7a21beb04)\" d=\"M 34.954394 56.489376 \nL 44.698573 89.244603 \nL 54.442752 99.588858 \nL 64.186931 102.969075 \nL 73.93111 109.824996 \nL 83.675289 110.190802 \nL 93.419468 116.884644 \nL 103.163647 115.998876 \nL 112.907826 122.397431 \nL 122.652006 121.11373 \nL 132.396185 127.241318 \nL 142.140364 125.306232 \nL 151.884543 131.211657 \n\" style=\"fill:none;stroke:#1f77b4;stroke-linecap:square;stroke-width:1.5;\"/>\n   </g>\n   <g id=\"line2d_81\">\n    <path clip-path=\"url(#pb7a21beb04)\" d=\"M 49.633125 91.161556 \nL 69.163125 87.210561 \nL 88.693125 87.683282 \nL 108.223125 102.146277 \nL 127.753125 99.134254 \nL 147.283125 99.31106 \n\" style=\"fill:none;stroke:#ff7f0e;stroke-dasharray:5.55,2.4;stroke-dashoffset:0;stroke-width:1.5;\"/>\n   </g>\n   <g id=\"line2d_82\">\n    <path clip-path=\"url(#pb7a21beb04)\" d=\"M 49.633125 19.279995 \nL 69.163125 20.783259 \nL 88.693125 19.335161 \nL 108.223125 14.894328 \nL 127.753125 15.087407 \nL 147.283125 14.728831 \n\" style=\"fill:none;stroke:#2ca02c;stroke-dasharray:9.6,2.4,1.5,2.4;stroke-dashoffset:0;stroke-width:1.5;\"/>\n   </g>\n   <g id=\"line2d_83\">\n    <path clip-path=\"url(#pb7a21beb04)\" d=\"M 34.954394 56.489376 \nL 44.698573 89.244603 \nL 54.442752 99.588858 \nL 64.186931 102.969075 \nL 73.93111 109.824996 \nL 83.675289 110.190802 \nL 93.419468 116.884644 \nL 103.163647 115.998876 \nL 112.907826 122.397431 \nL 122.652006 121.11373 \nL 132.396185 127.241318 \nL 142.140364 125.306232 \nL 151.884543 131.211657 \nL 161.628722 128.953189 \n\" style=\"fill:none;stroke:#1f77b4;stroke-linecap:square;stroke-width:1.5;\"/>\n   </g>\n   <g id=\"line2d_84\">\n    <path clip-path=\"url(#pb7a21beb04)\" d=\"M 49.633125 91.161556 \nL 69.163125 87.210561 \nL 88.693125 87.683282 \nL 108.223125 102.146277 \nL 127.753125 99.134254 \nL 147.283125 99.31106 \n\" style=\"fill:none;stroke:#ff7f0e;stroke-dasharray:5.55,2.4;stroke-dashoffset:0;stroke-width:1.5;\"/>\n   </g>\n   <g id=\"line2d_85\">\n    <path clip-path=\"url(#pb7a21beb04)\" d=\"M 49.633125 19.279995 \nL 69.163125 20.783259 \nL 88.693125 19.335161 \nL 108.223125 14.894328 \nL 127.753125 15.087407 \nL 147.283125 14.728831 \n\" style=\"fill:none;stroke:#2ca02c;stroke-dasharray:9.6,2.4,1.5,2.4;stroke-dashoffset:0;stroke-width:1.5;\"/>\n   </g>\n   <g id=\"line2d_86\">\n    <path clip-path=\"url(#pb7a21beb04)\" d=\"M 34.954394 56.489376 \nL 44.698573 89.244603 \nL 54.442752 99.588858 \nL 64.186931 102.969075 \nL 73.93111 109.824996 \nL 83.675289 110.190802 \nL 93.419468 116.884644 \nL 103.163647 115.998876 \nL 112.907826 122.397431 \nL 122.652006 121.11373 \nL 132.396185 127.241318 \nL 142.140364 125.306232 \nL 151.884543 131.211657 \nL 161.628722 128.953189 \n\" style=\"fill:none;stroke:#1f77b4;stroke-linecap:square;stroke-width:1.5;\"/>\n   </g>\n   <g id=\"line2d_87\">\n    <path clip-path=\"url(#pb7a21beb04)\" d=\"M 49.633125 91.161556 \nL 69.163125 87.210561 \nL 88.693125 87.683282 \nL 108.223125 102.146277 \nL 127.753125 99.134254 \nL 147.283125 99.31106 \nL 166.813125 92.057438 \n\" style=\"fill:none;stroke:#ff7f0e;stroke-dasharray:5.55,2.4;stroke-dashoffset:0;stroke-width:1.5;\"/>\n   </g>\n   <g id=\"line2d_88\">\n    <path clip-path=\"url(#pb7a21beb04)\" d=\"M 49.633125 19.279995 \nL 69.163125 20.783259 \nL 88.693125 19.335161 \nL 108.223125 14.894328 \nL 127.753125 15.087407 \nL 147.283125 14.728831 \n\" style=\"fill:none;stroke:#2ca02c;stroke-dasharray:9.6,2.4,1.5,2.4;stroke-dashoffset:0;stroke-width:1.5;\"/>\n   </g>\n   <g id=\"line2d_89\">\n    <path clip-path=\"url(#pb7a21beb04)\" d=\"M 34.954394 56.489376 \nL 44.698573 89.244603 \nL 54.442752 99.588858 \nL 64.186931 102.969075 \nL 73.93111 109.824996 \nL 83.675289 110.190802 \nL 93.419468 116.884644 \nL 103.163647 115.998876 \nL 112.907826 122.397431 \nL 122.652006 121.11373 \nL 132.396185 127.241318 \nL 142.140364 125.306232 \nL 151.884543 131.211657 \nL 161.628722 128.953189 \n\" style=\"fill:none;stroke:#1f77b4;stroke-linecap:square;stroke-width:1.5;\"/>\n   </g>\n   <g id=\"line2d_90\">\n    <path clip-path=\"url(#pb7a21beb04)\" d=\"M 49.633125 91.161556 \nL 69.163125 87.210561 \nL 88.693125 87.683282 \nL 108.223125 102.146277 \nL 127.753125 99.134254 \nL 147.283125 99.31106 \nL 166.813125 92.057438 \n\" style=\"fill:none;stroke:#ff7f0e;stroke-dasharray:5.55,2.4;stroke-dashoffset:0;stroke-width:1.5;\"/>\n   </g>\n   <g id=\"line2d_91\">\n    <path clip-path=\"url(#pb7a21beb04)\" d=\"M 49.633125 19.279995 \nL 69.163125 20.783259 \nL 88.693125 19.335161 \nL 108.223125 14.894328 \nL 127.753125 15.087407 \nL 147.283125 14.728831 \nL 166.813125 15.11499 \n\" style=\"fill:none;stroke:#2ca02c;stroke-dasharray:9.6,2.4,1.5,2.4;stroke-dashoffset:0;stroke-width:1.5;\"/>\n   </g>\n   <g id=\"line2d_92\">\n    <path clip-path=\"url(#pb7a21beb04)\" d=\"M 34.954394 56.489376 \nL 44.698573 89.244603 \nL 54.442752 99.588858 \nL 64.186931 102.969075 \nL 73.93111 109.824996 \nL 83.675289 110.190802 \nL 93.419468 116.884644 \nL 103.163647 115.998876 \nL 112.907826 122.397431 \nL 122.652006 121.11373 \nL 132.396185 127.241318 \nL 142.140364 125.306232 \nL 151.884543 131.211657 \nL 161.628722 128.953189 \nL 171.372901 133.123082 \n\" style=\"fill:none;stroke:#1f77b4;stroke-linecap:square;stroke-width:1.5;\"/>\n   </g>\n   <g id=\"line2d_93\">\n    <path clip-path=\"url(#pb7a21beb04)\" d=\"M 49.633125 91.161556 \nL 69.163125 87.210561 \nL 88.693125 87.683282 \nL 108.223125 102.146277 \nL 127.753125 99.134254 \nL 147.283125 99.31106 \nL 166.813125 92.057438 \n\" style=\"fill:none;stroke:#ff7f0e;stroke-dasharray:5.55,2.4;stroke-dashoffset:0;stroke-width:1.5;\"/>\n   </g>\n   <g id=\"line2d_94\">\n    <path clip-path=\"url(#pb7a21beb04)\" d=\"M 49.633125 19.279995 \nL 69.163125 20.783259 \nL 88.693125 19.335161 \nL 108.223125 14.894328 \nL 127.753125 15.087407 \nL 147.283125 14.728831 \nL 166.813125 15.11499 \n\" style=\"fill:none;stroke:#2ca02c;stroke-dasharray:9.6,2.4,1.5,2.4;stroke-dashoffset:0;stroke-width:1.5;\"/>\n   </g>\n   <g id=\"line2d_95\">\n    <path clip-path=\"url(#pb7a21beb04)\" d=\"M 34.954394 56.489376 \nL 44.698573 89.244603 \nL 54.442752 99.588858 \nL 64.186931 102.969075 \nL 73.93111 109.824996 \nL 83.675289 110.190802 \nL 93.419468 116.884644 \nL 103.163647 115.998876 \nL 112.907826 122.397431 \nL 122.652006 121.11373 \nL 132.396185 127.241318 \nL 142.140364 125.306232 \nL 151.884543 131.211657 \nL 161.628722 128.953189 \nL 171.372901 133.123082 \nL 181.11708 131.662788 \n\" style=\"fill:none;stroke:#1f77b4;stroke-linecap:square;stroke-width:1.5;\"/>\n   </g>\n   <g id=\"line2d_96\">\n    <path clip-path=\"url(#pb7a21beb04)\" d=\"M 49.633125 91.161556 \nL 69.163125 87.210561 \nL 88.693125 87.683282 \nL 108.223125 102.146277 \nL 127.753125 99.134254 \nL 147.283125 99.31106 \nL 166.813125 92.057438 \n\" style=\"fill:none;stroke:#ff7f0e;stroke-dasharray:5.55,2.4;stroke-dashoffset:0;stroke-width:1.5;\"/>\n   </g>\n   <g id=\"line2d_97\">\n    <path clip-path=\"url(#pb7a21beb04)\" d=\"M 49.633125 19.279995 \nL 69.163125 20.783259 \nL 88.693125 19.335161 \nL 108.223125 14.894328 \nL 127.753125 15.087407 \nL 147.283125 14.728831 \nL 166.813125 15.11499 \n\" style=\"fill:none;stroke:#2ca02c;stroke-dasharray:9.6,2.4,1.5,2.4;stroke-dashoffset:0;stroke-width:1.5;\"/>\n   </g>\n   <g id=\"line2d_98\">\n    <path clip-path=\"url(#pb7a21beb04)\" d=\"M 34.954394 56.489376 \nL 44.698573 89.244603 \nL 54.442752 99.588858 \nL 64.186931 102.969075 \nL 73.93111 109.824996 \nL 83.675289 110.190802 \nL 93.419468 116.884644 \nL 103.163647 115.998876 \nL 112.907826 122.397431 \nL 122.652006 121.11373 \nL 132.396185 127.241318 \nL 142.140364 125.306232 \nL 151.884543 131.211657 \nL 161.628722 128.953189 \nL 171.372901 133.123082 \nL 181.11708 131.662788 \n\" style=\"fill:none;stroke:#1f77b4;stroke-linecap:square;stroke-width:1.5;\"/>\n   </g>\n   <g id=\"line2d_99\">\n    <path clip-path=\"url(#pb7a21beb04)\" d=\"M 49.633125 91.161556 \nL 69.163125 87.210561 \nL 88.693125 87.683282 \nL 108.223125 102.146277 \nL 127.753125 99.134254 \nL 147.283125 99.31106 \nL 166.813125 92.057438 \nL 186.343125 97.828388 \n\" style=\"fill:none;stroke:#ff7f0e;stroke-dasharray:5.55,2.4;stroke-dashoffset:0;stroke-width:1.5;\"/>\n   </g>\n   <g id=\"line2d_100\">\n    <path clip-path=\"url(#pb7a21beb04)\" d=\"M 49.633125 19.279995 \nL 69.163125 20.783259 \nL 88.693125 19.335161 \nL 108.223125 14.894328 \nL 127.753125 15.087407 \nL 147.283125 14.728831 \nL 166.813125 15.11499 \n\" style=\"fill:none;stroke:#2ca02c;stroke-dasharray:9.6,2.4,1.5,2.4;stroke-dashoffset:0;stroke-width:1.5;\"/>\n   </g>\n   <g id=\"line2d_101\">\n    <path clip-path=\"url(#pb7a21beb04)\" d=\"M 34.954394 56.489376 \nL 44.698573 89.244603 \nL 54.442752 99.588858 \nL 64.186931 102.969075 \nL 73.93111 109.824996 \nL 83.675289 110.190802 \nL 93.419468 116.884644 \nL 103.163647 115.998876 \nL 112.907826 122.397431 \nL 122.652006 121.11373 \nL 132.396185 127.241318 \nL 142.140364 125.306232 \nL 151.884543 131.211657 \nL 161.628722 128.953189 \nL 171.372901 133.123082 \nL 181.11708 131.662788 \n\" style=\"fill:none;stroke:#1f77b4;stroke-linecap:square;stroke-width:1.5;\"/>\n   </g>\n   <g id=\"line2d_102\">\n    <path clip-path=\"url(#pb7a21beb04)\" d=\"M 49.633125 91.161556 \nL 69.163125 87.210561 \nL 88.693125 87.683282 \nL 108.223125 102.146277 \nL 127.753125 99.134254 \nL 147.283125 99.31106 \nL 166.813125 92.057438 \nL 186.343125 97.828388 \n\" style=\"fill:none;stroke:#ff7f0e;stroke-dasharray:5.55,2.4;stroke-dashoffset:0;stroke-width:1.5;\"/>\n   </g>\n   <g id=\"line2d_103\">\n    <path clip-path=\"url(#pb7a21beb04)\" d=\"M 49.633125 19.279995 \nL 69.163125 20.783259 \nL 88.693125 19.335161 \nL 108.223125 14.894328 \nL 127.753125 15.087407 \nL 147.283125 14.728831 \nL 166.813125 15.11499 \nL 186.343125 13.377273 \n\" style=\"fill:none;stroke:#2ca02c;stroke-dasharray:9.6,2.4,1.5,2.4;stroke-dashoffset:0;stroke-width:1.5;\"/>\n   </g>\n   <g id=\"line2d_104\">\n    <path clip-path=\"url(#pb7a21beb04)\" d=\"M 34.954394 56.489376 \nL 44.698573 89.244603 \nL 54.442752 99.588858 \nL 64.186931 102.969075 \nL 73.93111 109.824996 \nL 83.675289 110.190802 \nL 93.419468 116.884644 \nL 103.163647 115.998876 \nL 112.907826 122.397431 \nL 122.652006 121.11373 \nL 132.396185 127.241318 \nL 142.140364 125.306232 \nL 151.884543 131.211657 \nL 161.628722 128.953189 \nL 171.372901 133.123082 \nL 181.11708 131.662788 \nL 190.861259 135.263371 \n\" style=\"fill:none;stroke:#1f77b4;stroke-linecap:square;stroke-width:1.5;\"/>\n   </g>\n   <g id=\"line2d_105\">\n    <path clip-path=\"url(#pb7a21beb04)\" d=\"M 49.633125 91.161556 \nL 69.163125 87.210561 \nL 88.693125 87.683282 \nL 108.223125 102.146277 \nL 127.753125 99.134254 \nL 147.283125 99.31106 \nL 166.813125 92.057438 \nL 186.343125 97.828388 \n\" style=\"fill:none;stroke:#ff7f0e;stroke-dasharray:5.55,2.4;stroke-dashoffset:0;stroke-width:1.5;\"/>\n   </g>\n   <g id=\"line2d_106\">\n    <path clip-path=\"url(#pb7a21beb04)\" d=\"M 49.633125 19.279995 \nL 69.163125 20.783259 \nL 88.693125 19.335161 \nL 108.223125 14.894328 \nL 127.753125 15.087407 \nL 147.283125 14.728831 \nL 166.813125 15.11499 \nL 186.343125 13.377273 \n\" style=\"fill:none;stroke:#2ca02c;stroke-dasharray:9.6,2.4,1.5,2.4;stroke-dashoffset:0;stroke-width:1.5;\"/>\n   </g>\n   <g id=\"line2d_107\">\n    <path clip-path=\"url(#pb7a21beb04)\" d=\"M 34.954394 56.489376 \nL 44.698573 89.244603 \nL 54.442752 99.588858 \nL 64.186931 102.969075 \nL 73.93111 109.824996 \nL 83.675289 110.190802 \nL 93.419468 116.884644 \nL 103.163647 115.998876 \nL 112.907826 122.397431 \nL 122.652006 121.11373 \nL 132.396185 127.241318 \nL 142.140364 125.306232 \nL 151.884543 131.211657 \nL 161.628722 128.953189 \nL 171.372901 133.123082 \nL 181.11708 131.662788 \nL 190.861259 135.263371 \nL 200.605438 134.603978 \n\" style=\"fill:none;stroke:#1f77b4;stroke-linecap:square;stroke-width:1.5;\"/>\n   </g>\n   <g id=\"line2d_108\">\n    <path clip-path=\"url(#pb7a21beb04)\" d=\"M 49.633125 91.161556 \nL 69.163125 87.210561 \nL 88.693125 87.683282 \nL 108.223125 102.146277 \nL 127.753125 99.134254 \nL 147.283125 99.31106 \nL 166.813125 92.057438 \nL 186.343125 97.828388 \n\" style=\"fill:none;stroke:#ff7f0e;stroke-dasharray:5.55,2.4;stroke-dashoffset:0;stroke-width:1.5;\"/>\n   </g>\n   <g id=\"line2d_109\">\n    <path clip-path=\"url(#pb7a21beb04)\" d=\"M 49.633125 19.279995 \nL 69.163125 20.783259 \nL 88.693125 19.335161 \nL 108.223125 14.894328 \nL 127.753125 15.087407 \nL 147.283125 14.728831 \nL 166.813125 15.11499 \nL 186.343125 13.377273 \n\" style=\"fill:none;stroke:#2ca02c;stroke-dasharray:9.6,2.4,1.5,2.4;stroke-dashoffset:0;stroke-width:1.5;\"/>\n   </g>\n   <g id=\"line2d_110\">\n    <path clip-path=\"url(#pb7a21beb04)\" d=\"M 34.954394 56.489376 \nL 44.698573 89.244603 \nL 54.442752 99.588858 \nL 64.186931 102.969075 \nL 73.93111 109.824996 \nL 83.675289 110.190802 \nL 93.419468 116.884644 \nL 103.163647 115.998876 \nL 112.907826 122.397431 \nL 122.652006 121.11373 \nL 132.396185 127.241318 \nL 142.140364 125.306232 \nL 151.884543 131.211657 \nL 161.628722 128.953189 \nL 171.372901 133.123082 \nL 181.11708 131.662788 \nL 190.861259 135.263371 \nL 200.605438 134.603978 \n\" style=\"fill:none;stroke:#1f77b4;stroke-linecap:square;stroke-width:1.5;\"/>\n   </g>\n   <g id=\"line2d_111\">\n    <path clip-path=\"url(#pb7a21beb04)\" d=\"M 49.633125 91.161556 \nL 69.163125 87.210561 \nL 88.693125 87.683282 \nL 108.223125 102.146277 \nL 127.753125 99.134254 \nL 147.283125 99.31106 \nL 166.813125 92.057438 \nL 186.343125 97.828388 \nL 205.873125 93.915897 \n\" style=\"fill:none;stroke:#ff7f0e;stroke-dasharray:5.55,2.4;stroke-dashoffset:0;stroke-width:1.5;\"/>\n   </g>\n   <g id=\"line2d_112\">\n    <path clip-path=\"url(#pb7a21beb04)\" d=\"M 49.633125 19.279995 \nL 69.163125 20.783259 \nL 88.693125 19.335161 \nL 108.223125 14.894328 \nL 127.753125 15.087407 \nL 147.283125 14.728831 \nL 166.813125 15.11499 \nL 186.343125 13.377273 \n\" style=\"fill:none;stroke:#2ca02c;stroke-dasharray:9.6,2.4,1.5,2.4;stroke-dashoffset:0;stroke-width:1.5;\"/>\n   </g>\n   <g id=\"line2d_113\">\n    <path clip-path=\"url(#pb7a21beb04)\" d=\"M 34.954394 56.489376 \nL 44.698573 89.244603 \nL 54.442752 99.588858 \nL 64.186931 102.969075 \nL 73.93111 109.824996 \nL 83.675289 110.190802 \nL 93.419468 116.884644 \nL 103.163647 115.998876 \nL 112.907826 122.397431 \nL 122.652006 121.11373 \nL 132.396185 127.241318 \nL 142.140364 125.306232 \nL 151.884543 131.211657 \nL 161.628722 128.953189 \nL 171.372901 133.123082 \nL 181.11708 131.662788 \nL 190.861259 135.263371 \nL 200.605438 134.603978 \n\" style=\"fill:none;stroke:#1f77b4;stroke-linecap:square;stroke-width:1.5;\"/>\n   </g>\n   <g id=\"line2d_114\">\n    <path clip-path=\"url(#pb7a21beb04)\" d=\"M 49.633125 91.161556 \nL 69.163125 87.210561 \nL 88.693125 87.683282 \nL 108.223125 102.146277 \nL 127.753125 99.134254 \nL 147.283125 99.31106 \nL 166.813125 92.057438 \nL 186.343125 97.828388 \nL 205.873125 93.915897 \n\" style=\"fill:none;stroke:#ff7f0e;stroke-dasharray:5.55,2.4;stroke-dashoffset:0;stroke-width:1.5;\"/>\n   </g>\n   <g id=\"line2d_115\">\n    <path clip-path=\"url(#pb7a21beb04)\" d=\"M 49.633125 19.279995 \nL 69.163125 20.783259 \nL 88.693125 19.335161 \nL 108.223125 14.894328 \nL 127.753125 15.087407 \nL 147.283125 14.728831 \nL 166.813125 15.11499 \nL 186.343125 13.377273 \nL 205.873125 14.108217 \n\" style=\"fill:none;stroke:#2ca02c;stroke-dasharray:9.6,2.4,1.5,2.4;stroke-dashoffset:0;stroke-width:1.5;\"/>\n   </g>\n   <g id=\"line2d_116\">\n    <path clip-path=\"url(#pb7a21beb04)\" d=\"M 34.954394 56.489376 \nL 44.698573 89.244603 \nL 54.442752 99.588858 \nL 64.186931 102.969075 \nL 73.93111 109.824996 \nL 83.675289 110.190802 \nL 93.419468 116.884644 \nL 103.163647 115.998876 \nL 112.907826 122.397431 \nL 122.652006 121.11373 \nL 132.396185 127.241318 \nL 142.140364 125.306232 \nL 151.884543 131.211657 \nL 161.628722 128.953189 \nL 171.372901 133.123082 \nL 181.11708 131.662788 \nL 190.861259 135.263371 \nL 200.605438 134.603978 \nL 210.349618 136.922727 \n\" style=\"fill:none;stroke:#1f77b4;stroke-linecap:square;stroke-width:1.5;\"/>\n   </g>\n   <g id=\"line2d_117\">\n    <path clip-path=\"url(#pb7a21beb04)\" d=\"M 49.633125 91.161556 \nL 69.163125 87.210561 \nL 88.693125 87.683282 \nL 108.223125 102.146277 \nL 127.753125 99.134254 \nL 147.283125 99.31106 \nL 166.813125 92.057438 \nL 186.343125 97.828388 \nL 205.873125 93.915897 \n\" style=\"fill:none;stroke:#ff7f0e;stroke-dasharray:5.55,2.4;stroke-dashoffset:0;stroke-width:1.5;\"/>\n   </g>\n   <g id=\"line2d_118\">\n    <path clip-path=\"url(#pb7a21beb04)\" d=\"M 49.633125 19.279995 \nL 69.163125 20.783259 \nL 88.693125 19.335161 \nL 108.223125 14.894328 \nL 127.753125 15.087407 \nL 147.283125 14.728831 \nL 166.813125 15.11499 \nL 186.343125 13.377273 \nL 205.873125 14.108217 \n\" style=\"fill:none;stroke:#2ca02c;stroke-dasharray:9.6,2.4,1.5,2.4;stroke-dashoffset:0;stroke-width:1.5;\"/>\n   </g>\n   <g id=\"line2d_119\">\n    <path clip-path=\"url(#pb7a21beb04)\" d=\"M 34.954394 56.489376 \nL 44.698573 89.244603 \nL 54.442752 99.588858 \nL 64.186931 102.969075 \nL 73.93111 109.824996 \nL 83.675289 110.190802 \nL 93.419468 116.884644 \nL 103.163647 115.998876 \nL 112.907826 122.397431 \nL 122.652006 121.11373 \nL 132.396185 127.241318 \nL 142.140364 125.306232 \nL 151.884543 131.211657 \nL 161.628722 128.953189 \nL 171.372901 133.123082 \nL 181.11708 131.662788 \nL 190.861259 135.263371 \nL 200.605438 134.603978 \nL 210.349618 136.922727 \nL 220.093797 135.931134 \n\" style=\"fill:none;stroke:#1f77b4;stroke-linecap:square;stroke-width:1.5;\"/>\n   </g>\n   <g id=\"line2d_120\">\n    <path clip-path=\"url(#pb7a21beb04)\" d=\"M 49.633125 91.161556 \nL 69.163125 87.210561 \nL 88.693125 87.683282 \nL 108.223125 102.146277 \nL 127.753125 99.134254 \nL 147.283125 99.31106 \nL 166.813125 92.057438 \nL 186.343125 97.828388 \nL 205.873125 93.915897 \n\" style=\"fill:none;stroke:#ff7f0e;stroke-dasharray:5.55,2.4;stroke-dashoffset:0;stroke-width:1.5;\"/>\n   </g>\n   <g id=\"line2d_121\">\n    <path clip-path=\"url(#pb7a21beb04)\" d=\"M 49.633125 19.279995 \nL 69.163125 20.783259 \nL 88.693125 19.335161 \nL 108.223125 14.894328 \nL 127.753125 15.087407 \nL 147.283125 14.728831 \nL 166.813125 15.11499 \nL 186.343125 13.377273 \nL 205.873125 14.108217 \n\" style=\"fill:none;stroke:#2ca02c;stroke-dasharray:9.6,2.4,1.5,2.4;stroke-dashoffset:0;stroke-width:1.5;\"/>\n   </g>\n   <g id=\"line2d_122\">\n    <path clip-path=\"url(#pb7a21beb04)\" d=\"M 34.954394 56.489376 \nL 44.698573 89.244603 \nL 54.442752 99.588858 \nL 64.186931 102.969075 \nL 73.93111 109.824996 \nL 83.675289 110.190802 \nL 93.419468 116.884644 \nL 103.163647 115.998876 \nL 112.907826 122.397431 \nL 122.652006 121.11373 \nL 132.396185 127.241318 \nL 142.140364 125.306232 \nL 151.884543 131.211657 \nL 161.628722 128.953189 \nL 171.372901 133.123082 \nL 181.11708 131.662788 \nL 190.861259 135.263371 \nL 200.605438 134.603978 \nL 210.349618 136.922727 \nL 220.093797 135.931134 \n\" style=\"fill:none;stroke:#1f77b4;stroke-linecap:square;stroke-width:1.5;\"/>\n   </g>\n   <g id=\"line2d_123\">\n    <path clip-path=\"url(#pb7a21beb04)\" d=\"M 49.633125 91.161556 \nL 69.163125 87.210561 \nL 88.693125 87.683282 \nL 108.223125 102.146277 \nL 127.753125 99.134254 \nL 147.283125 99.31106 \nL 166.813125 92.057438 \nL 186.343125 97.828388 \nL 205.873125 93.915897 \nL 225.403125 90.219269 \n\" style=\"fill:none;stroke:#ff7f0e;stroke-dasharray:5.55,2.4;stroke-dashoffset:0;stroke-width:1.5;\"/>\n   </g>\n   <g id=\"line2d_124\">\n    <path clip-path=\"url(#pb7a21beb04)\" d=\"M 49.633125 19.279995 \nL 69.163125 20.783259 \nL 88.693125 19.335161 \nL 108.223125 14.894328 \nL 127.753125 15.087407 \nL 147.283125 14.728831 \nL 166.813125 15.11499 \nL 186.343125 13.377273 \nL 205.873125 14.108217 \n\" style=\"fill:none;stroke:#2ca02c;stroke-dasharray:9.6,2.4,1.5,2.4;stroke-dashoffset:0;stroke-width:1.5;\"/>\n   </g>\n   <g id=\"line2d_125\">\n    <path clip-path=\"url(#pb7a21beb04)\" d=\"M 34.954394 56.489376 \nL 44.698573 89.244603 \nL 54.442752 99.588858 \nL 64.186931 102.969075 \nL 73.93111 109.824996 \nL 83.675289 110.190802 \nL 93.419468 116.884644 \nL 103.163647 115.998876 \nL 112.907826 122.397431 \nL 122.652006 121.11373 \nL 132.396185 127.241318 \nL 142.140364 125.306232 \nL 151.884543 131.211657 \nL 161.628722 128.953189 \nL 171.372901 133.123082 \nL 181.11708 131.662788 \nL 190.861259 135.263371 \nL 200.605438 134.603978 \nL 210.349618 136.922727 \nL 220.093797 135.931134 \n\" style=\"fill:none;stroke:#1f77b4;stroke-linecap:square;stroke-width:1.5;\"/>\n   </g>\n   <g id=\"line2d_126\">\n    <path clip-path=\"url(#pb7a21beb04)\" d=\"M 49.633125 91.161556 \nL 69.163125 87.210561 \nL 88.693125 87.683282 \nL 108.223125 102.146277 \nL 127.753125 99.134254 \nL 147.283125 99.31106 \nL 166.813125 92.057438 \nL 186.343125 97.828388 \nL 205.873125 93.915897 \nL 225.403125 90.219269 \n\" style=\"fill:none;stroke:#ff7f0e;stroke-dasharray:5.55,2.4;stroke-dashoffset:0;stroke-width:1.5;\"/>\n   </g>\n   <g id=\"line2d_127\">\n    <path clip-path=\"url(#pb7a21beb04)\" d=\"M 49.633125 19.279995 \nL 69.163125 20.783259 \nL 88.693125 19.335161 \nL 108.223125 14.894328 \nL 127.753125 15.087407 \nL 147.283125 14.728831 \nL 166.813125 15.11499 \nL 186.343125 13.377273 \nL 205.873125 14.108217 \nL 225.403125 13.694475 \n\" style=\"fill:none;stroke:#2ca02c;stroke-dasharray:9.6,2.4,1.5,2.4;stroke-dashoffset:0;stroke-width:1.5;\"/>\n   </g>\n   <g id=\"patch_3\">\n    <path d=\"M 30.103125 143.1 \nL 30.103125 7.2 \n\" style=\"fill:none;stroke:#000000;stroke-linecap:square;stroke-linejoin:miter;stroke-width:0.8;\"/>\n   </g>\n   <g id=\"patch_4\">\n    <path d=\"M 225.403125 143.1 \nL 225.403125 7.2 \n\" style=\"fill:none;stroke:#000000;stroke-linecap:square;stroke-linejoin:miter;stroke-width:0.8;\"/>\n   </g>\n   <g id=\"patch_5\">\n    <path d=\"M 30.103125 143.1 \nL 225.403125 143.1 \n\" style=\"fill:none;stroke:#000000;stroke-linecap:square;stroke-linejoin:miter;stroke-width:0.8;\"/>\n   </g>\n   <g id=\"patch_6\">\n    <path d=\"M 30.103125 7.2 \nL 225.403125 7.2 \n\" style=\"fill:none;stroke:#000000;stroke-linecap:square;stroke-linejoin:miter;stroke-width:0.8;\"/>\n   </g>\n   <g id=\"legend_1\">\n    <g id=\"patch_7\">\n     <path d=\"M 138.8125 99.084375 \nL 218.403125 99.084375 \nQ 220.403125 99.084375 220.403125 97.084375 \nL 220.403125 53.215625 \nQ 220.403125 51.215625 218.403125 51.215625 \nL 138.8125 51.215625 \nQ 136.8125 51.215625 136.8125 53.215625 \nL 136.8125 97.084375 \nQ 136.8125 99.084375 138.8125 99.084375 \nz\n\" style=\"fill:#ffffff;opacity:0.8;stroke:#cccccc;stroke-linejoin:miter;\"/>\n    </g>\n    <g id=\"line2d_128\">\n     <path d=\"M 140.8125 59.314062 \nL 160.8125 59.314062 \n\" style=\"fill:none;stroke:#1f77b4;stroke-linecap:square;stroke-width:1.5;\"/>\n    </g>\n    <g id=\"line2d_129\"/>\n    <g id=\"text_13\">\n     <!-- train_loss -->\n     <defs>\n      <path d=\"M 18.3125 70.21875 \nL 18.3125 54.6875 \nL 36.8125 54.6875 \nL 36.8125 47.703125 \nL 18.3125 47.703125 \nL 18.3125 18.015625 \nQ 18.3125 11.328125 20.140625 9.421875 \nQ 21.96875 7.515625 27.59375 7.515625 \nL 36.8125 7.515625 \nL 36.8125 0 \nL 27.59375 0 \nQ 17.1875 0 13.234375 3.875 \nQ 9.28125 7.765625 9.28125 18.015625 \nL 9.28125 47.703125 \nL 2.6875 47.703125 \nL 2.6875 54.6875 \nL 9.28125 54.6875 \nL 9.28125 70.21875 \nz\n\" id=\"DejaVuSans-116\"/>\n      <path d=\"M 41.109375 46.296875 \nQ 39.59375 47.171875 37.8125 47.578125 \nQ 36.03125 48 33.890625 48 \nQ 26.265625 48 22.1875 43.046875 \nQ 18.109375 38.09375 18.109375 28.8125 \nL 18.109375 0 \nL 9.078125 0 \nL 9.078125 54.6875 \nL 18.109375 54.6875 \nL 18.109375 46.1875 \nQ 20.953125 51.171875 25.484375 53.578125 \nQ 30.03125 56 36.53125 56 \nQ 37.453125 56 38.578125 55.875 \nQ 39.703125 55.765625 41.0625 55.515625 \nz\n\" id=\"DejaVuSans-114\"/>\n      <path d=\"M 34.28125 27.484375 \nQ 23.390625 27.484375 19.1875 25 \nQ 14.984375 22.515625 14.984375 16.5 \nQ 14.984375 11.71875 18.140625 8.90625 \nQ 21.296875 6.109375 26.703125 6.109375 \nQ 34.1875 6.109375 38.703125 11.40625 \nQ 43.21875 16.703125 43.21875 25.484375 \nL 43.21875 27.484375 \nz\nM 52.203125 31.203125 \nL 52.203125 0 \nL 43.21875 0 \nL 43.21875 8.296875 \nQ 40.140625 3.328125 35.546875 0.953125 \nQ 30.953125 -1.421875 24.3125 -1.421875 \nQ 15.921875 -1.421875 10.953125 3.296875 \nQ 6 8.015625 6 15.921875 \nQ 6 25.140625 12.171875 29.828125 \nQ 18.359375 34.515625 30.609375 34.515625 \nL 43.21875 34.515625 \nL 43.21875 35.40625 \nQ 43.21875 41.609375 39.140625 45 \nQ 35.0625 48.390625 27.6875 48.390625 \nQ 23 48.390625 18.546875 47.265625 \nQ 14.109375 46.140625 10.015625 43.890625 \nL 10.015625 52.203125 \nQ 14.9375 54.109375 19.578125 55.046875 \nQ 24.21875 56 28.609375 56 \nQ 40.484375 56 46.34375 49.84375 \nQ 52.203125 43.703125 52.203125 31.203125 \nz\n\" id=\"DejaVuSans-97\"/>\n      <path d=\"M 9.421875 54.6875 \nL 18.40625 54.6875 \nL 18.40625 0 \nL 9.421875 0 \nz\nM 9.421875 75.984375 \nL 18.40625 75.984375 \nL 18.40625 64.59375 \nL 9.421875 64.59375 \nz\n\" id=\"DejaVuSans-105\"/>\n      <path d=\"M 54.890625 33.015625 \nL 54.890625 0 \nL 45.90625 0 \nL 45.90625 32.71875 \nQ 45.90625 40.484375 42.875 44.328125 \nQ 39.84375 48.1875 33.796875 48.1875 \nQ 26.515625 48.1875 22.3125 43.546875 \nQ 18.109375 38.921875 18.109375 30.90625 \nL 18.109375 0 \nL 9.078125 0 \nL 9.078125 54.6875 \nL 18.109375 54.6875 \nL 18.109375 46.1875 \nQ 21.34375 51.125 25.703125 53.5625 \nQ 30.078125 56 35.796875 56 \nQ 45.21875 56 50.046875 50.171875 \nQ 54.890625 44.34375 54.890625 33.015625 \nz\n\" id=\"DejaVuSans-110\"/>\n      <path d=\"M 50.984375 -16.609375 \nL 50.984375 -23.578125 \nL -0.984375 -23.578125 \nL -0.984375 -16.609375 \nz\n\" id=\"DejaVuSans-95\"/>\n      <path d=\"M 9.421875 75.984375 \nL 18.40625 75.984375 \nL 18.40625 0 \nL 9.421875 0 \nz\n\" id=\"DejaVuSans-108\"/>\n      <path d=\"M 44.28125 53.078125 \nL 44.28125 44.578125 \nQ 40.484375 46.53125 36.375 47.5 \nQ 32.28125 48.484375 27.875 48.484375 \nQ 21.1875 48.484375 17.84375 46.4375 \nQ 14.5 44.390625 14.5 40.28125 \nQ 14.5 37.15625 16.890625 35.375 \nQ 19.28125 33.59375 26.515625 31.984375 \nL 29.59375 31.296875 \nQ 39.15625 29.25 43.1875 25.515625 \nQ 47.21875 21.78125 47.21875 15.09375 \nQ 47.21875 7.46875 41.1875 3.015625 \nQ 35.15625 -1.421875 24.609375 -1.421875 \nQ 20.21875 -1.421875 15.453125 -0.5625 \nQ 10.6875 0.296875 5.421875 2 \nL 5.421875 11.28125 \nQ 10.40625 8.6875 15.234375 7.390625 \nQ 20.0625 6.109375 24.8125 6.109375 \nQ 31.15625 6.109375 34.5625 8.28125 \nQ 37.984375 10.453125 37.984375 14.40625 \nQ 37.984375 18.0625 35.515625 20.015625 \nQ 33.0625 21.96875 24.703125 23.78125 \nL 21.578125 24.515625 \nQ 13.234375 26.265625 9.515625 29.90625 \nQ 5.8125 33.546875 5.8125 39.890625 \nQ 5.8125 47.609375 11.28125 51.796875 \nQ 16.75 56 26.8125 56 \nQ 31.78125 56 36.171875 55.265625 \nQ 40.578125 54.546875 44.28125 53.078125 \nz\n\" id=\"DejaVuSans-115\"/>\n     </defs>\n     <g transform=\"translate(168.8125 62.814062)scale(0.1 -0.1)\">\n      <use xlink:href=\"#DejaVuSans-116\"/>\n      <use x=\"39.208984\" xlink:href=\"#DejaVuSans-114\"/>\n      <use x=\"80.322266\" xlink:href=\"#DejaVuSans-97\"/>\n      <use x=\"141.601562\" xlink:href=\"#DejaVuSans-105\"/>\n      <use x=\"169.384766\" xlink:href=\"#DejaVuSans-110\"/>\n      <use x=\"232.763672\" xlink:href=\"#DejaVuSans-95\"/>\n      <use x=\"282.763672\" xlink:href=\"#DejaVuSans-108\"/>\n      <use x=\"310.546875\" xlink:href=\"#DejaVuSans-111\"/>\n      <use x=\"371.728516\" xlink:href=\"#DejaVuSans-115\"/>\n      <use x=\"423.828125\" xlink:href=\"#DejaVuSans-115\"/>\n     </g>\n    </g>\n    <g id=\"line2d_130\">\n     <path d=\"M 140.8125 74.270312 \nL 160.8125 74.270312 \n\" style=\"fill:none;stroke:#ff7f0e;stroke-dasharray:5.55,2.4;stroke-dashoffset:0;stroke-width:1.5;\"/>\n    </g>\n    <g id=\"line2d_131\"/>\n    <g id=\"text_14\">\n     <!-- val_loss -->\n     <defs>\n      <path d=\"M 2.984375 54.6875 \nL 12.5 54.6875 \nL 29.59375 8.796875 \nL 46.6875 54.6875 \nL 56.203125 54.6875 \nL 35.6875 0 \nL 23.484375 0 \nz\n\" id=\"DejaVuSans-118\"/>\n     </defs>\n     <g transform=\"translate(168.8125 77.770312)scale(0.1 -0.1)\">\n      <use xlink:href=\"#DejaVuSans-118\"/>\n      <use x=\"59.179688\" xlink:href=\"#DejaVuSans-97\"/>\n      <use x=\"120.458984\" xlink:href=\"#DejaVuSans-108\"/>\n      <use x=\"148.242188\" xlink:href=\"#DejaVuSans-95\"/>\n      <use x=\"198.242188\" xlink:href=\"#DejaVuSans-108\"/>\n      <use x=\"226.025391\" xlink:href=\"#DejaVuSans-111\"/>\n      <use x=\"287.207031\" xlink:href=\"#DejaVuSans-115\"/>\n      <use x=\"339.306641\" xlink:href=\"#DejaVuSans-115\"/>\n     </g>\n    </g>\n    <g id=\"line2d_132\">\n     <path d=\"M 140.8125 89.226562 \nL 160.8125 89.226562 \n\" style=\"fill:none;stroke:#2ca02c;stroke-dasharray:9.6,2.4,1.5,2.4;stroke-dashoffset:0;stroke-width:1.5;\"/>\n    </g>\n    <g id=\"line2d_133\"/>\n    <g id=\"text_15\">\n     <!-- val_acc -->\n     <g transform=\"translate(168.8125 92.726562)scale(0.1 -0.1)\">\n      <use xlink:href=\"#DejaVuSans-118\"/>\n      <use x=\"59.179688\" xlink:href=\"#DejaVuSans-97\"/>\n      <use x=\"120.458984\" xlink:href=\"#DejaVuSans-108\"/>\n      <use x=\"148.242188\" xlink:href=\"#DejaVuSans-95\"/>\n      <use x=\"198.242188\" xlink:href=\"#DejaVuSans-97\"/>\n      <use x=\"259.521484\" xlink:href=\"#DejaVuSans-99\"/>\n      <use x=\"314.501953\" xlink:href=\"#DejaVuSans-99\"/>\n     </g>\n    </g>\n   </g>\n  </g>\n </g>\n <defs>\n  <clipPath id=\"pb7a21beb04\">\n   <rect height=\"135.9\" width=\"195.3\" x=\"30.103125\" y=\"7.2\"/>\n  </clipPath>\n </defs>\n</svg>\n"
          },
          "metadata": {
            "needs_background": "light"
          }
        }
      ]
    },
    {
      "cell_type": "markdown",
      "source": [
        "### Q3:"
      ],
      "metadata": {
        "id": "gaV4PPIWmXlM"
      }
    },
    {
      "cell_type": "markdown",
      "source": [
        "implementing the bottle neck architecture\n",
        "\n",
        "assuming we are getting 256 dimensions: \n",
        "\n",
        "first 1x1 conv : 256dim to 64 dim\n",
        "\n",
        "second 3x3 conv : 64dim to 64 dim\n",
        "\n",
        "third 1x1 conv : 64 dim to 256 dim , add the input here before applying relu\n",
        "\n",
        "using gpu : time = 4min only"
      ],
      "metadata": {
        "id": "BDa_C_8Kr4UZ"
      }
    },
    {
      "cell_type": "code",
      "source": [
        "#@title Residual Block with Bottle Neck\n",
        "class Residual_BN(nn.Module):\n",
        "\n",
        "  def __init__(self, num_channels=256, use_1x1conv=False, strides=1):\n",
        "    super().__init__()\n",
        "    self.conv1 = nn.LazyConv2d(num_channels // 4, kernel_size=1, stride=strides)\n",
        "    self.conv2 = nn.LazyConv2d(num_channels // 4, kernel_size=3, padding=1)\n",
        "    self.conv3 = nn.LazyConv2d(num_channels, kernel_size=1)\n",
        "\n",
        "    if use_1x1conv:\n",
        "      self.conv4 = nn.LazyConv2d(num_channels, kernel_size=1, stride=strides)\n",
        "    else:\n",
        "      self.conv4 = None\n",
        "    self.bn1 = nn.LazyBatchNorm2d()\n",
        "    self.bn2 = nn.LazyBatchNorm2d()\n",
        "    self.bn3 = nn.LazyBatchNorm2d()\n",
        "\n",
        "  def forward(self, X):\n",
        "    Y = F.relu(self.bn1(self.conv1(X)))\n",
        "    Y = F.relu(self.bn2(self.conv2(Y)))\n",
        "    Y = self.bn3(self.conv3(Y))\n",
        "\n",
        "    if self.conv4 is not None:\n",
        "      X = self.conv4(X)\n",
        "    return F.relu(Y+X)"
      ],
      "metadata": {
        "id": "VcdGEieDkZ-I"
      },
      "execution_count": 17,
      "outputs": []
    },
    {
      "cell_type": "code",
      "source": [
        "blk = Residual_BN(use_1x1conv=True, strides=2)\n",
        "X = torch.randn(4, 256, 96, 96)\n",
        "blk(X).shape"
      ],
      "metadata": {
        "colab": {
          "base_uri": "https://localhost:8080/"
        },
        "id": "l_uQJgKnq3iZ",
        "outputId": "423b5100-7cd1-46c3-c95d-9857ebb147a1"
      },
      "execution_count": 20,
      "outputs": [
        {
          "output_type": "stream",
          "name": "stderr",
          "text": [
            "/usr/local/lib/python3.8/dist-packages/torch/nn/modules/lazy.py:180: UserWarning: Lazy modules are a new feature under heavy development so changes to the API or functionality can happen at any moment.\n",
            "  warnings.warn('Lazy modules are a new feature under heavy development '\n"
          ]
        },
        {
          "output_type": "execute_result",
          "data": {
            "text/plain": [
              "torch.Size([4, 256, 48, 48])"
            ]
          },
          "metadata": {},
          "execution_count": 20
        }
      ]
    },
    {
      "cell_type": "code",
      "source": [
        "#@title ResNet with bottleneck block\n",
        "class ResNet_BN(d2l.Classifier):\n",
        "\n",
        "  def __init__(self, arch, lr=0.1, num_classes=10):\n",
        "    super().__init__()\n",
        "    self.save_hyperparameters()\n",
        "    self.net = nn.Sequential(self.b1())\n",
        "\n",
        "    for i, b in enumerate(arch):\n",
        "      self.net.add_module(f'b{i+2}', self.block(*b, first_block=(i==0)))\n",
        "    self.net.add_module(\"last\", nn.Sequential(nn.AdaptiveAvgPool2d((1, 1)),\n",
        "                                              nn.Flatten(),\n",
        "                                              nn.LazyLinear(num_classes)))\n",
        "    \n",
        "    self.net.apply(d2l.init_cnn)\n",
        "\n",
        "\n",
        "  def b1(self):\n",
        "    return nn.Sequential(\n",
        "        nn.LazyConv2d(64, kernel_size=7, padding=3, stride=2),\n",
        "        nn.LazyBatchNorm2d(), nn.ReLU(),\n",
        "        nn.MaxPool2d(kernel_size=3, padding=1, stride=2)\n",
        "    )\n",
        "\n",
        "  def block(self, num_residuals, num_channels, first_block=False):\n",
        "    blk = []\n",
        "    for i in range(num_residuals):\n",
        "      if i == 0 and not first_block:\n",
        "        blk.append(Residual_BN(num_channels, use_1x1conv=True, strides=2))\n",
        "      else:\n",
        "        blk.append(Residual_BN(num_channels))\n",
        "    return nn.Sequential(*blk)"
      ],
      "metadata": {
        "cellView": "form",
        "id": "sieFxtx4qEZC"
      },
      "execution_count": 18,
      "outputs": []
    },
    {
      "cell_type": "code",
      "source": [
        "#@title ResNet18 with bottle neck\n",
        "class ResNet18_BN(ResNet_BN):\n",
        "\n",
        "  def __init__(self, lr=0.1, num_classes=10):\n",
        "    arch = ((2, 64), (2, 128), (2, 256), (2, 512))\n",
        "    super().__init__(arch, lr, num_classes)\n",
        "\n",
        "  def forward(self, X):\n",
        "    return self.net(X)"
      ],
      "metadata": {
        "cellView": "form",
        "id": "WRq-Gwfcqgfb"
      },
      "execution_count": 19,
      "outputs": []
    },
    {
      "cell_type": "code",
      "source": [
        "model = ResNet18_BN(lr=0.01)\n",
        "trainer = d2l.Trainer(max_epochs=10, num_gpus=1)\n",
        "data = d2l.FashionMNIST(batch_size=128, resize=(96, 96))\n",
        "model.apply_init([next(iter(data.get_dataloader(True)))[0]], d2l.init_cnn)\n",
        "trainer.fit(model, data)"
      ],
      "metadata": {
        "colab": {
          "base_uri": "https://localhost:8080/",
          "height": 265
        },
        "id": "uaajkmFLqsmY",
        "outputId": "6a073282-feb8-42e2-f710-944a7fee3ff2"
      },
      "execution_count": 21,
      "outputs": [
        {
          "output_type": "display_data",
          "data": {
            "text/plain": [
              "<Figure size 252x180 with 1 Axes>"
            ],
            "image/svg+xml": "<?xml version=\"1.0\" encoding=\"utf-8\" standalone=\"no\"?>\n<!DOCTYPE svg PUBLIC \"-//W3C//DTD SVG 1.1//EN\"\n  \"http://www.w3.org/Graphics/SVG/1.1/DTD/svg11.dtd\">\n<!-- Created with matplotlib (https://matplotlib.org/) -->\n<svg height=\"182.74026pt\" version=\"1.1\" viewBox=\"0 0 238.965625 182.74026\" width=\"238.965625pt\" xmlns=\"http://www.w3.org/2000/svg\" xmlns:xlink=\"http://www.w3.org/1999/xlink\">\n <defs>\n  <style type=\"text/css\">\n*{stroke-linecap:butt;stroke-linejoin:round;}\n  </style>\n </defs>\n <g id=\"figure_1\">\n  <g id=\"patch_1\">\n   <path d=\"M 0 182.74026 \nL 238.965625 182.74026 \nL 238.965625 0 \nL 0 0 \nz\n\" style=\"fill:none;\"/>\n  </g>\n  <g id=\"axes_1\">\n   <g id=\"patch_2\">\n    <path d=\"M 30.103125 145.18401 \nL 225.403125 145.18401 \nL 225.403125 9.28401 \nL 30.103125 9.28401 \nz\n\" style=\"fill:#ffffff;\"/>\n   </g>\n   <g id=\"matplotlib.axis_1\">\n    <g id=\"xtick_1\">\n     <g id=\"line2d_1\">\n      <defs>\n       <path d=\"M 0 0 \nL 0 3.5 \n\" id=\"ma5fd445495\" style=\"stroke:#000000;stroke-width:0.8;\"/>\n      </defs>\n      <g>\n       <use style=\"stroke:#000000;stroke-width:0.8;\" x=\"30.103125\" xlink:href=\"#ma5fd445495\" y=\"145.18401\"/>\n      </g>\n     </g>\n     <g id=\"text_1\">\n      <!-- 0 -->\n      <defs>\n       <path d=\"M 31.78125 66.40625 \nQ 24.171875 66.40625 20.328125 58.90625 \nQ 16.5 51.421875 16.5 36.375 \nQ 16.5 21.390625 20.328125 13.890625 \nQ 24.171875 6.390625 31.78125 6.390625 \nQ 39.453125 6.390625 43.28125 13.890625 \nQ 47.125 21.390625 47.125 36.375 \nQ 47.125 51.421875 43.28125 58.90625 \nQ 39.453125 66.40625 31.78125 66.40625 \nz\nM 31.78125 74.21875 \nQ 44.046875 74.21875 50.515625 64.515625 \nQ 56.984375 54.828125 56.984375 36.375 \nQ 56.984375 17.96875 50.515625 8.265625 \nQ 44.046875 -1.421875 31.78125 -1.421875 \nQ 19.53125 -1.421875 13.0625 8.265625 \nQ 6.59375 17.96875 6.59375 36.375 \nQ 6.59375 54.828125 13.0625 64.515625 \nQ 19.53125 74.21875 31.78125 74.21875 \nz\n\" id=\"DejaVuSans-48\"/>\n      </defs>\n      <g transform=\"translate(26.921875 159.782447)scale(0.1 -0.1)\">\n       <use xlink:href=\"#DejaVuSans-48\"/>\n      </g>\n     </g>\n    </g>\n    <g id=\"xtick_2\">\n     <g id=\"line2d_2\">\n      <g>\n       <use style=\"stroke:#000000;stroke-width:0.8;\" x=\"69.163125\" xlink:href=\"#ma5fd445495\" y=\"145.18401\"/>\n      </g>\n     </g>\n     <g id=\"text_2\">\n      <!-- 2 -->\n      <defs>\n       <path d=\"M 19.1875 8.296875 \nL 53.609375 8.296875 \nL 53.609375 0 \nL 7.328125 0 \nL 7.328125 8.296875 \nQ 12.9375 14.109375 22.625 23.890625 \nQ 32.328125 33.6875 34.8125 36.53125 \nQ 39.546875 41.84375 41.421875 45.53125 \nQ 43.3125 49.21875 43.3125 52.78125 \nQ 43.3125 58.59375 39.234375 62.25 \nQ 35.15625 65.921875 28.609375 65.921875 \nQ 23.96875 65.921875 18.8125 64.3125 \nQ 13.671875 62.703125 7.8125 59.421875 \nL 7.8125 69.390625 \nQ 13.765625 71.78125 18.9375 73 \nQ 24.125 74.21875 28.421875 74.21875 \nQ 39.75 74.21875 46.484375 68.546875 \nQ 53.21875 62.890625 53.21875 53.421875 \nQ 53.21875 48.921875 51.53125 44.890625 \nQ 49.859375 40.875 45.40625 35.40625 \nQ 44.1875 33.984375 37.640625 27.21875 \nQ 31.109375 20.453125 19.1875 8.296875 \nz\n\" id=\"DejaVuSans-50\"/>\n      </defs>\n      <g transform=\"translate(65.981875 159.782447)scale(0.1 -0.1)\">\n       <use xlink:href=\"#DejaVuSans-50\"/>\n      </g>\n     </g>\n    </g>\n    <g id=\"xtick_3\">\n     <g id=\"line2d_3\">\n      <g>\n       <use style=\"stroke:#000000;stroke-width:0.8;\" x=\"108.223125\" xlink:href=\"#ma5fd445495\" y=\"145.18401\"/>\n      </g>\n     </g>\n     <g id=\"text_3\">\n      <!-- 4 -->\n      <defs>\n       <path d=\"M 37.796875 64.3125 \nL 12.890625 25.390625 \nL 37.796875 25.390625 \nz\nM 35.203125 72.90625 \nL 47.609375 72.90625 \nL 47.609375 25.390625 \nL 58.015625 25.390625 \nL 58.015625 17.1875 \nL 47.609375 17.1875 \nL 47.609375 0 \nL 37.796875 0 \nL 37.796875 17.1875 \nL 4.890625 17.1875 \nL 4.890625 26.703125 \nz\n\" id=\"DejaVuSans-52\"/>\n      </defs>\n      <g transform=\"translate(105.041875 159.782447)scale(0.1 -0.1)\">\n       <use xlink:href=\"#DejaVuSans-52\"/>\n      </g>\n     </g>\n    </g>\n    <g id=\"xtick_4\">\n     <g id=\"line2d_4\">\n      <g>\n       <use style=\"stroke:#000000;stroke-width:0.8;\" x=\"147.283125\" xlink:href=\"#ma5fd445495\" y=\"145.18401\"/>\n      </g>\n     </g>\n     <g id=\"text_4\">\n      <!-- 6 -->\n      <defs>\n       <path d=\"M 33.015625 40.375 \nQ 26.375 40.375 22.484375 35.828125 \nQ 18.609375 31.296875 18.609375 23.390625 \nQ 18.609375 15.53125 22.484375 10.953125 \nQ 26.375 6.390625 33.015625 6.390625 \nQ 39.65625 6.390625 43.53125 10.953125 \nQ 47.40625 15.53125 47.40625 23.390625 \nQ 47.40625 31.296875 43.53125 35.828125 \nQ 39.65625 40.375 33.015625 40.375 \nz\nM 52.59375 71.296875 \nL 52.59375 62.3125 \nQ 48.875 64.0625 45.09375 64.984375 \nQ 41.3125 65.921875 37.59375 65.921875 \nQ 27.828125 65.921875 22.671875 59.328125 \nQ 17.53125 52.734375 16.796875 39.40625 \nQ 19.671875 43.65625 24.015625 45.921875 \nQ 28.375 48.1875 33.59375 48.1875 \nQ 44.578125 48.1875 50.953125 41.515625 \nQ 57.328125 34.859375 57.328125 23.390625 \nQ 57.328125 12.15625 50.6875 5.359375 \nQ 44.046875 -1.421875 33.015625 -1.421875 \nQ 20.359375 -1.421875 13.671875 8.265625 \nQ 6.984375 17.96875 6.984375 36.375 \nQ 6.984375 53.65625 15.1875 63.9375 \nQ 23.390625 74.21875 37.203125 74.21875 \nQ 40.921875 74.21875 44.703125 73.484375 \nQ 48.484375 72.75 52.59375 71.296875 \nz\n\" id=\"DejaVuSans-54\"/>\n      </defs>\n      <g transform=\"translate(144.101875 159.782447)scale(0.1 -0.1)\">\n       <use xlink:href=\"#DejaVuSans-54\"/>\n      </g>\n     </g>\n    </g>\n    <g id=\"xtick_5\">\n     <g id=\"line2d_5\">\n      <g>\n       <use style=\"stroke:#000000;stroke-width:0.8;\" x=\"186.343125\" xlink:href=\"#ma5fd445495\" y=\"145.18401\"/>\n      </g>\n     </g>\n     <g id=\"text_5\">\n      <!-- 8 -->\n      <defs>\n       <path d=\"M 31.78125 34.625 \nQ 24.75 34.625 20.71875 30.859375 \nQ 16.703125 27.09375 16.703125 20.515625 \nQ 16.703125 13.921875 20.71875 10.15625 \nQ 24.75 6.390625 31.78125 6.390625 \nQ 38.8125 6.390625 42.859375 10.171875 \nQ 46.921875 13.96875 46.921875 20.515625 \nQ 46.921875 27.09375 42.890625 30.859375 \nQ 38.875 34.625 31.78125 34.625 \nz\nM 21.921875 38.8125 \nQ 15.578125 40.375 12.03125 44.71875 \nQ 8.5 49.078125 8.5 55.328125 \nQ 8.5 64.0625 14.71875 69.140625 \nQ 20.953125 74.21875 31.78125 74.21875 \nQ 42.671875 74.21875 48.875 69.140625 \nQ 55.078125 64.0625 55.078125 55.328125 \nQ 55.078125 49.078125 51.53125 44.71875 \nQ 48 40.375 41.703125 38.8125 \nQ 48.828125 37.15625 52.796875 32.3125 \nQ 56.78125 27.484375 56.78125 20.515625 \nQ 56.78125 9.90625 50.3125 4.234375 \nQ 43.84375 -1.421875 31.78125 -1.421875 \nQ 19.734375 -1.421875 13.25 4.234375 \nQ 6.78125 9.90625 6.78125 20.515625 \nQ 6.78125 27.484375 10.78125 32.3125 \nQ 14.796875 37.15625 21.921875 38.8125 \nz\nM 18.3125 54.390625 \nQ 18.3125 48.734375 21.84375 45.5625 \nQ 25.390625 42.390625 31.78125 42.390625 \nQ 38.140625 42.390625 41.71875 45.5625 \nQ 45.3125 48.734375 45.3125 54.390625 \nQ 45.3125 60.0625 41.71875 63.234375 \nQ 38.140625 66.40625 31.78125 66.40625 \nQ 25.390625 66.40625 21.84375 63.234375 \nQ 18.3125 60.0625 18.3125 54.390625 \nz\n\" id=\"DejaVuSans-56\"/>\n      </defs>\n      <g transform=\"translate(183.161875 159.782447)scale(0.1 -0.1)\">\n       <use xlink:href=\"#DejaVuSans-56\"/>\n      </g>\n     </g>\n    </g>\n    <g id=\"xtick_6\">\n     <g id=\"line2d_6\">\n      <g>\n       <use style=\"stroke:#000000;stroke-width:0.8;\" x=\"225.403125\" xlink:href=\"#ma5fd445495\" y=\"145.18401\"/>\n      </g>\n     </g>\n     <g id=\"text_6\">\n      <!-- 10 -->\n      <defs>\n       <path d=\"M 12.40625 8.296875 \nL 28.515625 8.296875 \nL 28.515625 63.921875 \nL 10.984375 60.40625 \nL 10.984375 69.390625 \nL 28.421875 72.90625 \nL 38.28125 72.90625 \nL 38.28125 8.296875 \nL 54.390625 8.296875 \nL 54.390625 0 \nL 12.40625 0 \nz\n\" id=\"DejaVuSans-49\"/>\n      </defs>\n      <g transform=\"translate(219.040625 159.782447)scale(0.1 -0.1)\">\n       <use xlink:href=\"#DejaVuSans-49\"/>\n       <use x=\"63.623047\" xlink:href=\"#DejaVuSans-48\"/>\n      </g>\n     </g>\n    </g>\n    <g id=\"text_7\">\n     <!-- epoch -->\n     <defs>\n      <path d=\"M 56.203125 29.59375 \nL 56.203125 25.203125 \nL 14.890625 25.203125 \nQ 15.484375 15.921875 20.484375 11.0625 \nQ 25.484375 6.203125 34.421875 6.203125 \nQ 39.59375 6.203125 44.453125 7.46875 \nQ 49.3125 8.734375 54.109375 11.28125 \nL 54.109375 2.78125 \nQ 49.265625 0.734375 44.1875 -0.34375 \nQ 39.109375 -1.421875 33.890625 -1.421875 \nQ 20.796875 -1.421875 13.15625 6.1875 \nQ 5.515625 13.8125 5.515625 26.8125 \nQ 5.515625 40.234375 12.765625 48.109375 \nQ 20.015625 56 32.328125 56 \nQ 43.359375 56 49.78125 48.890625 \nQ 56.203125 41.796875 56.203125 29.59375 \nz\nM 47.21875 32.234375 \nQ 47.125 39.59375 43.09375 43.984375 \nQ 39.0625 48.390625 32.421875 48.390625 \nQ 24.90625 48.390625 20.390625 44.140625 \nQ 15.875 39.890625 15.1875 32.171875 \nz\n\" id=\"DejaVuSans-101\"/>\n      <path d=\"M 18.109375 8.203125 \nL 18.109375 -20.796875 \nL 9.078125 -20.796875 \nL 9.078125 54.6875 \nL 18.109375 54.6875 \nL 18.109375 46.390625 \nQ 20.953125 51.265625 25.265625 53.625 \nQ 29.59375 56 35.59375 56 \nQ 45.5625 56 51.78125 48.09375 \nQ 58.015625 40.1875 58.015625 27.296875 \nQ 58.015625 14.40625 51.78125 6.484375 \nQ 45.5625 -1.421875 35.59375 -1.421875 \nQ 29.59375 -1.421875 25.265625 0.953125 \nQ 20.953125 3.328125 18.109375 8.203125 \nz\nM 48.6875 27.296875 \nQ 48.6875 37.203125 44.609375 42.84375 \nQ 40.53125 48.484375 33.40625 48.484375 \nQ 26.265625 48.484375 22.1875 42.84375 \nQ 18.109375 37.203125 18.109375 27.296875 \nQ 18.109375 17.390625 22.1875 11.75 \nQ 26.265625 6.109375 33.40625 6.109375 \nQ 40.53125 6.109375 44.609375 11.75 \nQ 48.6875 17.390625 48.6875 27.296875 \nz\n\" id=\"DejaVuSans-112\"/>\n      <path d=\"M 30.609375 48.390625 \nQ 23.390625 48.390625 19.1875 42.75 \nQ 14.984375 37.109375 14.984375 27.296875 \nQ 14.984375 17.484375 19.15625 11.84375 \nQ 23.34375 6.203125 30.609375 6.203125 \nQ 37.796875 6.203125 41.984375 11.859375 \nQ 46.1875 17.53125 46.1875 27.296875 \nQ 46.1875 37.015625 41.984375 42.703125 \nQ 37.796875 48.390625 30.609375 48.390625 \nz\nM 30.609375 56 \nQ 42.328125 56 49.015625 48.375 \nQ 55.71875 40.765625 55.71875 27.296875 \nQ 55.71875 13.875 49.015625 6.21875 \nQ 42.328125 -1.421875 30.609375 -1.421875 \nQ 18.84375 -1.421875 12.171875 6.21875 \nQ 5.515625 13.875 5.515625 27.296875 \nQ 5.515625 40.765625 12.171875 48.375 \nQ 18.84375 56 30.609375 56 \nz\n\" id=\"DejaVuSans-111\"/>\n      <path d=\"M 48.78125 52.59375 \nL 48.78125 44.1875 \nQ 44.96875 46.296875 41.140625 47.34375 \nQ 37.3125 48.390625 33.40625 48.390625 \nQ 24.65625 48.390625 19.8125 42.84375 \nQ 14.984375 37.3125 14.984375 27.296875 \nQ 14.984375 17.28125 19.8125 11.734375 \nQ 24.65625 6.203125 33.40625 6.203125 \nQ 37.3125 6.203125 41.140625 7.25 \nQ 44.96875 8.296875 48.78125 10.40625 \nL 48.78125 2.09375 \nQ 45.015625 0.34375 40.984375 -0.53125 \nQ 36.96875 -1.421875 32.421875 -1.421875 \nQ 20.0625 -1.421875 12.78125 6.34375 \nQ 5.515625 14.109375 5.515625 27.296875 \nQ 5.515625 40.671875 12.859375 48.328125 \nQ 20.21875 56 33.015625 56 \nQ 37.15625 56 41.109375 55.140625 \nQ 45.0625 54.296875 48.78125 52.59375 \nz\n\" id=\"DejaVuSans-99\"/>\n      <path d=\"M 54.890625 33.015625 \nL 54.890625 0 \nL 45.90625 0 \nL 45.90625 32.71875 \nQ 45.90625 40.484375 42.875 44.328125 \nQ 39.84375 48.1875 33.796875 48.1875 \nQ 26.515625 48.1875 22.3125 43.546875 \nQ 18.109375 38.921875 18.109375 30.90625 \nL 18.109375 0 \nL 9.078125 0 \nL 9.078125 75.984375 \nL 18.109375 75.984375 \nL 18.109375 46.1875 \nQ 21.34375 51.125 25.703125 53.5625 \nQ 30.078125 56 35.796875 56 \nQ 45.21875 56 50.046875 50.171875 \nQ 54.890625 44.34375 54.890625 33.015625 \nz\n\" id=\"DejaVuSans-104\"/>\n     </defs>\n     <g transform=\"translate(112.525 173.460572)scale(0.1 -0.1)\">\n      <use xlink:href=\"#DejaVuSans-101\"/>\n      <use x=\"61.523438\" xlink:href=\"#DejaVuSans-112\"/>\n      <use x=\"125\" xlink:href=\"#DejaVuSans-111\"/>\n      <use x=\"186.181641\" xlink:href=\"#DejaVuSans-99\"/>\n      <use x=\"241.162109\" xlink:href=\"#DejaVuSans-104\"/>\n     </g>\n    </g>\n   </g>\n   <g id=\"matplotlib.axis_2\">\n    <g id=\"ytick_1\">\n     <g id=\"line2d_7\">\n      <defs>\n       <path d=\"M 0 0 \nL -3.5 0 \n\" id=\"m36034569b2\" style=\"stroke:#000000;stroke-width:0.8;\"/>\n      </defs>\n      <g>\n       <use style=\"stroke:#000000;stroke-width:0.8;\" x=\"30.103125\" xlink:href=\"#m36034569b2\" y=\"130.113777\"/>\n      </g>\n     </g>\n     <g id=\"text_8\">\n      <!-- 0.2 -->\n      <defs>\n       <path d=\"M 10.6875 12.40625 \nL 21 12.40625 \nL 21 0 \nL 10.6875 0 \nz\n\" id=\"DejaVuSans-46\"/>\n      </defs>\n      <g transform=\"translate(7.2 133.912996)scale(0.1 -0.1)\">\n       <use xlink:href=\"#DejaVuSans-48\"/>\n       <use x=\"63.623047\" xlink:href=\"#DejaVuSans-46\"/>\n       <use x=\"95.410156\" xlink:href=\"#DejaVuSans-50\"/>\n      </g>\n     </g>\n    </g>\n    <g id=\"ytick_2\">\n     <g id=\"line2d_8\">\n      <g>\n       <use style=\"stroke:#000000;stroke-width:0.8;\" x=\"30.103125\" xlink:href=\"#m36034569b2\" y=\"100.335137\"/>\n      </g>\n     </g>\n     <g id=\"text_9\">\n      <!-- 0.4 -->\n      <g transform=\"translate(7.2 104.134356)scale(0.1 -0.1)\">\n       <use xlink:href=\"#DejaVuSans-48\"/>\n       <use x=\"63.623047\" xlink:href=\"#DejaVuSans-46\"/>\n       <use x=\"95.410156\" xlink:href=\"#DejaVuSans-52\"/>\n      </g>\n     </g>\n    </g>\n    <g id=\"ytick_3\">\n     <g id=\"line2d_9\">\n      <g>\n       <use style=\"stroke:#000000;stroke-width:0.8;\" x=\"30.103125\" xlink:href=\"#m36034569b2\" y=\"70.556498\"/>\n      </g>\n     </g>\n     <g id=\"text_10\">\n      <!-- 0.6 -->\n      <g transform=\"translate(7.2 74.355717)scale(0.1 -0.1)\">\n       <use xlink:href=\"#DejaVuSans-48\"/>\n       <use x=\"63.623047\" xlink:href=\"#DejaVuSans-46\"/>\n       <use x=\"95.410156\" xlink:href=\"#DejaVuSans-54\"/>\n      </g>\n     </g>\n    </g>\n    <g id=\"ytick_4\">\n     <g id=\"line2d_10\">\n      <g>\n       <use style=\"stroke:#000000;stroke-width:0.8;\" x=\"30.103125\" xlink:href=\"#m36034569b2\" y=\"40.777858\"/>\n      </g>\n     </g>\n     <g id=\"text_11\">\n      <!-- 0.8 -->\n      <g transform=\"translate(7.2 44.577077)scale(0.1 -0.1)\">\n       <use xlink:href=\"#DejaVuSans-48\"/>\n       <use x=\"63.623047\" xlink:href=\"#DejaVuSans-46\"/>\n       <use x=\"95.410156\" xlink:href=\"#DejaVuSans-56\"/>\n      </g>\n     </g>\n    </g>\n    <g id=\"ytick_5\">\n     <g id=\"line2d_11\">\n      <g>\n       <use style=\"stroke:#000000;stroke-width:0.8;\" x=\"30.103125\" xlink:href=\"#m36034569b2\" y=\"10.999219\"/>\n      </g>\n     </g>\n     <g id=\"text_12\">\n      <!-- 1.0 -->\n      <g transform=\"translate(7.2 14.798437)scale(0.1 -0.1)\">\n       <use xlink:href=\"#DejaVuSans-49\"/>\n       <use x=\"63.623047\" xlink:href=\"#DejaVuSans-46\"/>\n       <use x=\"95.410156\" xlink:href=\"#DejaVuSans-48\"/>\n      </g>\n     </g>\n    </g>\n   </g>\n   <g id=\"line2d_12\">\n    <path clip-path=\"url(#p930ffe379c)\" d=\"M 34.954394 15.461283 \n\" style=\"fill:none;stroke:#1f77b4;stroke-linecap:square;stroke-width:1.5;\"/>\n   </g>\n   <g id=\"line2d_13\">\n    <path clip-path=\"url(#p930ffe379c)\" d=\"M 34.954394 15.461283 \nL 44.698573 87.175721 \n\" style=\"fill:none;stroke:#1f77b4;stroke-linecap:square;stroke-width:1.5;\"/>\n   </g>\n   <g id=\"line2d_14\">\n    <path clip-path=\"url(#p930ffe379c)\" d=\"M 34.954394 15.461283 \nL 44.698573 87.175721 \n\" style=\"fill:none;stroke:#1f77b4;stroke-linecap:square;stroke-width:1.5;\"/>\n   </g>\n   <g id=\"line2d_15\">\n    <path clip-path=\"url(#p930ffe379c)\" d=\"M 49.633125 87.769253 \n\" style=\"fill:none;stroke:#ff7f0e;stroke-dasharray:5.55,2.4;stroke-dashoffset:0;stroke-width:1.5;\"/>\n   </g>\n   <g id=\"line2d_16\"/>\n   <g id=\"line2d_17\">\n    <path clip-path=\"url(#p930ffe379c)\" d=\"M 34.954394 15.461283 \nL 44.698573 87.175721 \n\" style=\"fill:none;stroke:#1f77b4;stroke-linecap:square;stroke-width:1.5;\"/>\n   </g>\n   <g id=\"line2d_18\">\n    <path clip-path=\"url(#p930ffe379c)\" d=\"M 49.633125 87.769253 \n\" style=\"fill:none;stroke:#ff7f0e;stroke-dasharray:5.55,2.4;stroke-dashoffset:0;stroke-width:1.5;\"/>\n   </g>\n   <g id=\"line2d_19\">\n    <path clip-path=\"url(#p930ffe379c)\" d=\"M 49.633125 37.297009 \n\" style=\"fill:none;stroke:#2ca02c;stroke-dasharray:9.6,2.4,1.5,2.4;stroke-dashoffset:0;stroke-width:1.5;\"/>\n   </g>\n   <g id=\"line2d_20\">\n    <path clip-path=\"url(#p930ffe379c)\" d=\"M 34.954394 15.461283 \nL 44.698573 87.175721 \nL 54.442752 100.763447 \n\" style=\"fill:none;stroke:#1f77b4;stroke-linecap:square;stroke-width:1.5;\"/>\n   </g>\n   <g id=\"line2d_21\">\n    <path clip-path=\"url(#p930ffe379c)\" d=\"M 49.633125 87.769253 \n\" style=\"fill:none;stroke:#ff7f0e;stroke-dasharray:5.55,2.4;stroke-dashoffset:0;stroke-width:1.5;\"/>\n   </g>\n   <g id=\"line2d_22\">\n    <path clip-path=\"url(#p930ffe379c)\" d=\"M 49.633125 37.297009 \n\" style=\"fill:none;stroke:#2ca02c;stroke-dasharray:9.6,2.4,1.5,2.4;stroke-dashoffset:0;stroke-width:1.5;\"/>\n   </g>\n   <g id=\"line2d_23\">\n    <path clip-path=\"url(#p930ffe379c)\" d=\"M 34.954394 15.461283 \nL 44.698573 87.175721 \nL 54.442752 100.763447 \nL 64.186931 105.144332 \n\" style=\"fill:none;stroke:#1f77b4;stroke-linecap:square;stroke-width:1.5;\"/>\n   </g>\n   <g id=\"line2d_24\">\n    <path clip-path=\"url(#p930ffe379c)\" d=\"M 49.633125 87.769253 \n\" style=\"fill:none;stroke:#ff7f0e;stroke-dasharray:5.55,2.4;stroke-dashoffset:0;stroke-width:1.5;\"/>\n   </g>\n   <g id=\"line2d_25\">\n    <path clip-path=\"url(#p930ffe379c)\" d=\"M 49.633125 37.297009 \n\" style=\"fill:none;stroke:#2ca02c;stroke-dasharray:9.6,2.4,1.5,2.4;stroke-dashoffset:0;stroke-width:1.5;\"/>\n   </g>\n   <g id=\"line2d_26\">\n    <path clip-path=\"url(#p930ffe379c)\" d=\"M 34.954394 15.461283 \nL 44.698573 87.175721 \nL 54.442752 100.763447 \nL 64.186931 105.144332 \n\" style=\"fill:none;stroke:#1f77b4;stroke-linecap:square;stroke-width:1.5;\"/>\n   </g>\n   <g id=\"line2d_27\">\n    <path clip-path=\"url(#p930ffe379c)\" d=\"M 49.633125 87.769253 \nL 69.163125 103.638607 \n\" style=\"fill:none;stroke:#ff7f0e;stroke-dasharray:5.55,2.4;stroke-dashoffset:0;stroke-width:1.5;\"/>\n   </g>\n   <g id=\"line2d_28\">\n    <path clip-path=\"url(#p930ffe379c)\" d=\"M 49.633125 37.297009 \n\" style=\"fill:none;stroke:#2ca02c;stroke-dasharray:9.6,2.4,1.5,2.4;stroke-dashoffset:0;stroke-width:1.5;\"/>\n   </g>\n   <g id=\"line2d_29\">\n    <path clip-path=\"url(#p930ffe379c)\" d=\"M 34.954394 15.461283 \nL 44.698573 87.175721 \nL 54.442752 100.763447 \nL 64.186931 105.144332 \n\" style=\"fill:none;stroke:#1f77b4;stroke-linecap:square;stroke-width:1.5;\"/>\n   </g>\n   <g id=\"line2d_30\">\n    <path clip-path=\"url(#p930ffe379c)\" d=\"M 49.633125 87.769253 \nL 69.163125 103.638607 \n\" style=\"fill:none;stroke:#ff7f0e;stroke-dasharray:5.55,2.4;stroke-dashoffset:0;stroke-width:1.5;\"/>\n   </g>\n   <g id=\"line2d_31\">\n    <path clip-path=\"url(#p930ffe379c)\" d=\"M 49.633125 37.297009 \nL 69.163125 31.480868 \n\" style=\"fill:none;stroke:#2ca02c;stroke-dasharray:9.6,2.4,1.5,2.4;stroke-dashoffset:0;stroke-width:1.5;\"/>\n   </g>\n   <g id=\"line2d_32\">\n    <path clip-path=\"url(#p930ffe379c)\" d=\"M 34.954394 15.461283 \nL 44.698573 87.175721 \nL 54.442752 100.763447 \nL 64.186931 105.144332 \nL 73.93111 111.724289 \n\" style=\"fill:none;stroke:#1f77b4;stroke-linecap:square;stroke-width:1.5;\"/>\n   </g>\n   <g id=\"line2d_33\">\n    <path clip-path=\"url(#p930ffe379c)\" d=\"M 49.633125 87.769253 \nL 69.163125 103.638607 \n\" style=\"fill:none;stroke:#ff7f0e;stroke-dasharray:5.55,2.4;stroke-dashoffset:0;stroke-width:1.5;\"/>\n   </g>\n   <g id=\"line2d_34\">\n    <path clip-path=\"url(#p930ffe379c)\" d=\"M 49.633125 37.297009 \nL 69.163125 31.480868 \n\" style=\"fill:none;stroke:#2ca02c;stroke-dasharray:9.6,2.4,1.5,2.4;stroke-dashoffset:0;stroke-width:1.5;\"/>\n   </g>\n   <g id=\"line2d_35\">\n    <path clip-path=\"url(#p930ffe379c)\" d=\"M 34.954394 15.461283 \nL 44.698573 87.175721 \nL 54.442752 100.763447 \nL 64.186931 105.144332 \nL 73.93111 111.724289 \nL 83.675289 113.563983 \n\" style=\"fill:none;stroke:#1f77b4;stroke-linecap:square;stroke-width:1.5;\"/>\n   </g>\n   <g id=\"line2d_36\">\n    <path clip-path=\"url(#p930ffe379c)\" d=\"M 49.633125 87.769253 \nL 69.163125 103.638607 \n\" style=\"fill:none;stroke:#ff7f0e;stroke-dasharray:5.55,2.4;stroke-dashoffset:0;stroke-width:1.5;\"/>\n   </g>\n   <g id=\"line2d_37\">\n    <path clip-path=\"url(#p930ffe379c)\" d=\"M 49.633125 37.297009 \nL 69.163125 31.480868 \n\" style=\"fill:none;stroke:#2ca02c;stroke-dasharray:9.6,2.4,1.5,2.4;stroke-dashoffset:0;stroke-width:1.5;\"/>\n   </g>\n   <g id=\"line2d_38\">\n    <path clip-path=\"url(#p930ffe379c)\" d=\"M 34.954394 15.461283 \nL 44.698573 87.175721 \nL 54.442752 100.763447 \nL 64.186931 105.144332 \nL 73.93111 111.724289 \nL 83.675289 113.563983 \n\" style=\"fill:none;stroke:#1f77b4;stroke-linecap:square;stroke-width:1.5;\"/>\n   </g>\n   <g id=\"line2d_39\">\n    <path clip-path=\"url(#p930ffe379c)\" d=\"M 49.633125 87.769253 \nL 69.163125 103.638607 \nL 88.693125 109.182222 \n\" style=\"fill:none;stroke:#ff7f0e;stroke-dasharray:5.55,2.4;stroke-dashoffset:0;stroke-width:1.5;\"/>\n   </g>\n   <g id=\"line2d_40\">\n    <path clip-path=\"url(#p930ffe379c)\" d=\"M 49.633125 37.297009 \nL 69.163125 31.480868 \n\" style=\"fill:none;stroke:#2ca02c;stroke-dasharray:9.6,2.4,1.5,2.4;stroke-dashoffset:0;stroke-width:1.5;\"/>\n   </g>\n   <g id=\"line2d_41\">\n    <path clip-path=\"url(#p930ffe379c)\" d=\"M 34.954394 15.461283 \nL 44.698573 87.175721 \nL 54.442752 100.763447 \nL 64.186931 105.144332 \nL 73.93111 111.724289 \nL 83.675289 113.563983 \n\" style=\"fill:none;stroke:#1f77b4;stroke-linecap:square;stroke-width:1.5;\"/>\n   </g>\n   <g id=\"line2d_42\">\n    <path clip-path=\"url(#p930ffe379c)\" d=\"M 49.633125 87.769253 \nL 69.163125 103.638607 \nL 88.693125 109.182222 \n\" style=\"fill:none;stroke:#ff7f0e;stroke-dasharray:5.55,2.4;stroke-dashoffset:0;stroke-width:1.5;\"/>\n   </g>\n   <g id=\"line2d_43\">\n    <path clip-path=\"url(#p930ffe379c)\" d=\"M 49.633125 37.297009 \nL 69.163125 31.480868 \nL 88.693125 30.199845 \n\" style=\"fill:none;stroke:#2ca02c;stroke-dasharray:9.6,2.4,1.5,2.4;stroke-dashoffset:0;stroke-width:1.5;\"/>\n   </g>\n   <g id=\"line2d_44\">\n    <path clip-path=\"url(#p930ffe379c)\" d=\"M 34.954394 15.461283 \nL 44.698573 87.175721 \nL 54.442752 100.763447 \nL 64.186931 105.144332 \nL 73.93111 111.724289 \nL 83.675289 113.563983 \nL 93.419468 118.325624 \n\" style=\"fill:none;stroke:#1f77b4;stroke-linecap:square;stroke-width:1.5;\"/>\n   </g>\n   <g id=\"line2d_45\">\n    <path clip-path=\"url(#p930ffe379c)\" d=\"M 49.633125 87.769253 \nL 69.163125 103.638607 \nL 88.693125 109.182222 \n\" style=\"fill:none;stroke:#ff7f0e;stroke-dasharray:5.55,2.4;stroke-dashoffset:0;stroke-width:1.5;\"/>\n   </g>\n   <g id=\"line2d_46\">\n    <path clip-path=\"url(#p930ffe379c)\" d=\"M 49.633125 37.297009 \nL 69.163125 31.480868 \nL 88.693125 30.199845 \n\" style=\"fill:none;stroke:#2ca02c;stroke-dasharray:9.6,2.4,1.5,2.4;stroke-dashoffset:0;stroke-width:1.5;\"/>\n   </g>\n   <g id=\"line2d_47\">\n    <path clip-path=\"url(#p930ffe379c)\" d=\"M 34.954394 15.461283 \nL 44.698573 87.175721 \nL 54.442752 100.763447 \nL 64.186931 105.144332 \nL 73.93111 111.724289 \nL 83.675289 113.563983 \nL 93.419468 118.325624 \nL 103.163647 118.741747 \n\" style=\"fill:none;stroke:#1f77b4;stroke-linecap:square;stroke-width:1.5;\"/>\n   </g>\n   <g id=\"line2d_48\">\n    <path clip-path=\"url(#p930ffe379c)\" d=\"M 49.633125 87.769253 \nL 69.163125 103.638607 \nL 88.693125 109.182222 \n\" style=\"fill:none;stroke:#ff7f0e;stroke-dasharray:5.55,2.4;stroke-dashoffset:0;stroke-width:1.5;\"/>\n   </g>\n   <g id=\"line2d_49\">\n    <path clip-path=\"url(#p930ffe379c)\" d=\"M 49.633125 37.297009 \nL 69.163125 31.480868 \nL 88.693125 30.199845 \n\" style=\"fill:none;stroke:#2ca02c;stroke-dasharray:9.6,2.4,1.5,2.4;stroke-dashoffset:0;stroke-width:1.5;\"/>\n   </g>\n   <g id=\"line2d_50\">\n    <path clip-path=\"url(#p930ffe379c)\" d=\"M 34.954394 15.461283 \nL 44.698573 87.175721 \nL 54.442752 100.763447 \nL 64.186931 105.144332 \nL 73.93111 111.724289 \nL 83.675289 113.563983 \nL 93.419468 118.325624 \nL 103.163647 118.741747 \n\" style=\"fill:none;stroke:#1f77b4;stroke-linecap:square;stroke-width:1.5;\"/>\n   </g>\n   <g id=\"line2d_51\">\n    <path clip-path=\"url(#p930ffe379c)\" d=\"M 49.633125 87.769253 \nL 69.163125 103.638607 \nL 88.693125 109.182222 \nL 108.223125 103.377582 \n\" style=\"fill:none;stroke:#ff7f0e;stroke-dasharray:5.55,2.4;stroke-dashoffset:0;stroke-width:1.5;\"/>\n   </g>\n   <g id=\"line2d_52\">\n    <path clip-path=\"url(#p930ffe379c)\" d=\"M 49.633125 37.297009 \nL 69.163125 31.480868 \nL 88.693125 30.199845 \n\" style=\"fill:none;stroke:#2ca02c;stroke-dasharray:9.6,2.4,1.5,2.4;stroke-dashoffset:0;stroke-width:1.5;\"/>\n   </g>\n   <g id=\"line2d_53\">\n    <path clip-path=\"url(#p930ffe379c)\" d=\"M 34.954394 15.461283 \nL 44.698573 87.175721 \nL 54.442752 100.763447 \nL 64.186931 105.144332 \nL 73.93111 111.724289 \nL 83.675289 113.563983 \nL 93.419468 118.325624 \nL 103.163647 118.741747 \n\" style=\"fill:none;stroke:#1f77b4;stroke-linecap:square;stroke-width:1.5;\"/>\n   </g>\n   <g id=\"line2d_54\">\n    <path clip-path=\"url(#p930ffe379c)\" d=\"M 49.633125 87.769253 \nL 69.163125 103.638607 \nL 88.693125 109.182222 \nL 108.223125 103.377582 \n\" style=\"fill:none;stroke:#ff7f0e;stroke-dasharray:5.55,2.4;stroke-dashoffset:0;stroke-width:1.5;\"/>\n   </g>\n   <g id=\"line2d_55\">\n    <path clip-path=\"url(#p930ffe379c)\" d=\"M 49.633125 37.297009 \nL 69.163125 31.480868 \nL 88.693125 30.199845 \nL 108.223125 32.158191 \n\" style=\"fill:none;stroke:#2ca02c;stroke-dasharray:9.6,2.4,1.5,2.4;stroke-dashoffset:0;stroke-width:1.5;\"/>\n   </g>\n   <g id=\"line2d_56\">\n    <path clip-path=\"url(#p930ffe379c)\" d=\"M 34.954394 15.461283 \nL 44.698573 87.175721 \nL 54.442752 100.763447 \nL 64.186931 105.144332 \nL 73.93111 111.724289 \nL 83.675289 113.563983 \nL 93.419468 118.325624 \nL 103.163647 118.741747 \nL 112.907826 123.408425 \n\" style=\"fill:none;stroke:#1f77b4;stroke-linecap:square;stroke-width:1.5;\"/>\n   </g>\n   <g id=\"line2d_57\">\n    <path clip-path=\"url(#p930ffe379c)\" d=\"M 49.633125 87.769253 \nL 69.163125 103.638607 \nL 88.693125 109.182222 \nL 108.223125 103.377582 \n\" style=\"fill:none;stroke:#ff7f0e;stroke-dasharray:5.55,2.4;stroke-dashoffset:0;stroke-width:1.5;\"/>\n   </g>\n   <g id=\"line2d_58\">\n    <path clip-path=\"url(#p930ffe379c)\" d=\"M 49.633125 37.297009 \nL 69.163125 31.480868 \nL 88.693125 30.199845 \nL 108.223125 32.158191 \n\" style=\"fill:none;stroke:#2ca02c;stroke-dasharray:9.6,2.4,1.5,2.4;stroke-dashoffset:0;stroke-width:1.5;\"/>\n   </g>\n   <g id=\"line2d_59\">\n    <path clip-path=\"url(#p930ffe379c)\" d=\"M 34.954394 15.461283 \nL 44.698573 87.175721 \nL 54.442752 100.763447 \nL 64.186931 105.144332 \nL 73.93111 111.724289 \nL 83.675289 113.563983 \nL 93.419468 118.325624 \nL 103.163647 118.741747 \nL 112.907826 123.408425 \nL 122.652006 122.419187 \n\" style=\"fill:none;stroke:#1f77b4;stroke-linecap:square;stroke-width:1.5;\"/>\n   </g>\n   <g id=\"line2d_60\">\n    <path clip-path=\"url(#p930ffe379c)\" d=\"M 49.633125 87.769253 \nL 69.163125 103.638607 \nL 88.693125 109.182222 \nL 108.223125 103.377582 \n\" style=\"fill:none;stroke:#ff7f0e;stroke-dasharray:5.55,2.4;stroke-dashoffset:0;stroke-width:1.5;\"/>\n   </g>\n   <g id=\"line2d_61\">\n    <path clip-path=\"url(#p930ffe379c)\" d=\"M 49.633125 37.297009 \nL 69.163125 31.480868 \nL 88.693125 30.199845 \nL 108.223125 32.158191 \n\" style=\"fill:none;stroke:#2ca02c;stroke-dasharray:9.6,2.4,1.5,2.4;stroke-dashoffset:0;stroke-width:1.5;\"/>\n   </g>\n   <g id=\"line2d_62\">\n    <path clip-path=\"url(#p930ffe379c)\" d=\"M 34.954394 15.461283 \nL 44.698573 87.175721 \nL 54.442752 100.763447 \nL 64.186931 105.144332 \nL 73.93111 111.724289 \nL 83.675289 113.563983 \nL 93.419468 118.325624 \nL 103.163647 118.741747 \nL 112.907826 123.408425 \nL 122.652006 122.419187 \n\" style=\"fill:none;stroke:#1f77b4;stroke-linecap:square;stroke-width:1.5;\"/>\n   </g>\n   <g id=\"line2d_63\">\n    <path clip-path=\"url(#p930ffe379c)\" d=\"M 49.633125 87.769253 \nL 69.163125 103.638607 \nL 88.693125 109.182222 \nL 108.223125 103.377582 \nL 127.753125 114.63227 \n\" style=\"fill:none;stroke:#ff7f0e;stroke-dasharray:5.55,2.4;stroke-dashoffset:0;stroke-width:1.5;\"/>\n   </g>\n   <g id=\"line2d_64\">\n    <path clip-path=\"url(#p930ffe379c)\" d=\"M 49.633125 37.297009 \nL 69.163125 31.480868 \nL 88.693125 30.199845 \nL 108.223125 32.158191 \n\" style=\"fill:none;stroke:#2ca02c;stroke-dasharray:9.6,2.4,1.5,2.4;stroke-dashoffset:0;stroke-width:1.5;\"/>\n   </g>\n   <g id=\"line2d_65\">\n    <path clip-path=\"url(#p930ffe379c)\" d=\"M 34.954394 15.461283 \nL 44.698573 87.175721 \nL 54.442752 100.763447 \nL 64.186931 105.144332 \nL 73.93111 111.724289 \nL 83.675289 113.563983 \nL 93.419468 118.325624 \nL 103.163647 118.741747 \nL 112.907826 123.408425 \nL 122.652006 122.419187 \n\" style=\"fill:none;stroke:#1f77b4;stroke-linecap:square;stroke-width:1.5;\"/>\n   </g>\n   <g id=\"line2d_66\">\n    <path clip-path=\"url(#p930ffe379c)\" d=\"M 49.633125 87.769253 \nL 69.163125 103.638607 \nL 88.693125 109.182222 \nL 108.223125 103.377582 \nL 127.753125 114.63227 \n\" style=\"fill:none;stroke:#ff7f0e;stroke-dasharray:5.55,2.4;stroke-dashoffset:0;stroke-width:1.5;\"/>\n   </g>\n   <g id=\"line2d_67\">\n    <path clip-path=\"url(#p930ffe379c)\" d=\"M 49.633125 37.297009 \nL 69.163125 31.480868 \nL 88.693125 30.199845 \nL 108.223125 32.158191 \nL 127.753125 28.256223 \n\" style=\"fill:none;stroke:#2ca02c;stroke-dasharray:9.6,2.4,1.5,2.4;stroke-dashoffset:0;stroke-width:1.5;\"/>\n   </g>\n   <g id=\"line2d_68\">\n    <path clip-path=\"url(#p930ffe379c)\" d=\"M 34.954394 15.461283 \nL 44.698573 87.175721 \nL 54.442752 100.763447 \nL 64.186931 105.144332 \nL 73.93111 111.724289 \nL 83.675289 113.563983 \nL 93.419468 118.325624 \nL 103.163647 118.741747 \nL 112.907826 123.408425 \nL 122.652006 122.419187 \nL 132.396185 126.614787 \n\" style=\"fill:none;stroke:#1f77b4;stroke-linecap:square;stroke-width:1.5;\"/>\n   </g>\n   <g id=\"line2d_69\">\n    <path clip-path=\"url(#p930ffe379c)\" d=\"M 49.633125 87.769253 \nL 69.163125 103.638607 \nL 88.693125 109.182222 \nL 108.223125 103.377582 \nL 127.753125 114.63227 \n\" style=\"fill:none;stroke:#ff7f0e;stroke-dasharray:5.55,2.4;stroke-dashoffset:0;stroke-width:1.5;\"/>\n   </g>\n   <g id=\"line2d_70\">\n    <path clip-path=\"url(#p930ffe379c)\" d=\"M 49.633125 37.297009 \nL 69.163125 31.480868 \nL 88.693125 30.199845 \nL 108.223125 32.158191 \nL 127.753125 28.256223 \n\" style=\"fill:none;stroke:#2ca02c;stroke-dasharray:9.6,2.4,1.5,2.4;stroke-dashoffset:0;stroke-width:1.5;\"/>\n   </g>\n   <g id=\"line2d_71\">\n    <path clip-path=\"url(#p930ffe379c)\" d=\"M 34.954394 15.461283 \nL 44.698573 87.175721 \nL 54.442752 100.763447 \nL 64.186931 105.144332 \nL 73.93111 111.724289 \nL 83.675289 113.563983 \nL 93.419468 118.325624 \nL 103.163647 118.741747 \nL 112.907826 123.408425 \nL 122.652006 122.419187 \nL 132.396185 126.614787 \nL 142.140364 126.890792 \n\" style=\"fill:none;stroke:#1f77b4;stroke-linecap:square;stroke-width:1.5;\"/>\n   </g>\n   <g id=\"line2d_72\">\n    <path clip-path=\"url(#p930ffe379c)\" d=\"M 49.633125 87.769253 \nL 69.163125 103.638607 \nL 88.693125 109.182222 \nL 108.223125 103.377582 \nL 127.753125 114.63227 \n\" style=\"fill:none;stroke:#ff7f0e;stroke-dasharray:5.55,2.4;stroke-dashoffset:0;stroke-width:1.5;\"/>\n   </g>\n   <g id=\"line2d_73\">\n    <path clip-path=\"url(#p930ffe379c)\" d=\"M 49.633125 37.297009 \nL 69.163125 31.480868 \nL 88.693125 30.199845 \nL 108.223125 32.158191 \nL 127.753125 28.256223 \n\" style=\"fill:none;stroke:#2ca02c;stroke-dasharray:9.6,2.4,1.5,2.4;stroke-dashoffset:0;stroke-width:1.5;\"/>\n   </g>\n   <g id=\"line2d_74\">\n    <path clip-path=\"url(#p930ffe379c)\" d=\"M 34.954394 15.461283 \nL 44.698573 87.175721 \nL 54.442752 100.763447 \nL 64.186931 105.144332 \nL 73.93111 111.724289 \nL 83.675289 113.563983 \nL 93.419468 118.325624 \nL 103.163647 118.741747 \nL 112.907826 123.408425 \nL 122.652006 122.419187 \nL 132.396185 126.614787 \nL 142.140364 126.890792 \n\" style=\"fill:none;stroke:#1f77b4;stroke-linecap:square;stroke-width:1.5;\"/>\n   </g>\n   <g id=\"line2d_75\">\n    <path clip-path=\"url(#p930ffe379c)\" d=\"M 49.633125 87.769253 \nL 69.163125 103.638607 \nL 88.693125 109.182222 \nL 108.223125 103.377582 \nL 127.753125 114.63227 \nL 147.283125 109.622244 \n\" style=\"fill:none;stroke:#ff7f0e;stroke-dasharray:5.55,2.4;stroke-dashoffset:0;stroke-width:1.5;\"/>\n   </g>\n   <g id=\"line2d_76\">\n    <path clip-path=\"url(#p930ffe379c)\" d=\"M 49.633125 37.297009 \nL 69.163125 31.480868 \nL 88.693125 30.199845 \nL 108.223125 32.158191 \nL 127.753125 28.256223 \n\" style=\"fill:none;stroke:#2ca02c;stroke-dasharray:9.6,2.4,1.5,2.4;stroke-dashoffset:0;stroke-width:1.5;\"/>\n   </g>\n   <g id=\"line2d_77\">\n    <path clip-path=\"url(#p930ffe379c)\" d=\"M 34.954394 15.461283 \nL 44.698573 87.175721 \nL 54.442752 100.763447 \nL 64.186931 105.144332 \nL 73.93111 111.724289 \nL 83.675289 113.563983 \nL 93.419468 118.325624 \nL 103.163647 118.741747 \nL 112.907826 123.408425 \nL 122.652006 122.419187 \nL 132.396185 126.614787 \nL 142.140364 126.890792 \n\" style=\"fill:none;stroke:#1f77b4;stroke-linecap:square;stroke-width:1.5;\"/>\n   </g>\n   <g id=\"line2d_78\">\n    <path clip-path=\"url(#p930ffe379c)\" d=\"M 49.633125 87.769253 \nL 69.163125 103.638607 \nL 88.693125 109.182222 \nL 108.223125 103.377582 \nL 127.753125 114.63227 \nL 147.283125 109.622244 \n\" style=\"fill:none;stroke:#ff7f0e;stroke-dasharray:5.55,2.4;stroke-dashoffset:0;stroke-width:1.5;\"/>\n   </g>\n   <g id=\"line2d_79\">\n    <path clip-path=\"url(#p930ffe379c)\" d=\"M 49.633125 37.297009 \nL 69.163125 31.480868 \nL 88.693125 30.199845 \nL 108.223125 32.158191 \nL 127.753125 28.256223 \nL 147.283125 29.463624 \n\" style=\"fill:none;stroke:#2ca02c;stroke-dasharray:9.6,2.4,1.5,2.4;stroke-dashoffset:0;stroke-width:1.5;\"/>\n   </g>\n   <g id=\"line2d_80\">\n    <path clip-path=\"url(#p930ffe379c)\" d=\"M 34.954394 15.461283 \nL 44.698573 87.175721 \nL 54.442752 100.763447 \nL 64.186931 105.144332 \nL 73.93111 111.724289 \nL 83.675289 113.563983 \nL 93.419468 118.325624 \nL 103.163647 118.741747 \nL 112.907826 123.408425 \nL 122.652006 122.419187 \nL 132.396185 126.614787 \nL 142.140364 126.890792 \nL 151.884543 130.700608 \n\" style=\"fill:none;stroke:#1f77b4;stroke-linecap:square;stroke-width:1.5;\"/>\n   </g>\n   <g id=\"line2d_81\">\n    <path clip-path=\"url(#p930ffe379c)\" d=\"M 49.633125 87.769253 \nL 69.163125 103.638607 \nL 88.693125 109.182222 \nL 108.223125 103.377582 \nL 127.753125 114.63227 \nL 147.283125 109.622244 \n\" style=\"fill:none;stroke:#ff7f0e;stroke-dasharray:5.55,2.4;stroke-dashoffset:0;stroke-width:1.5;\"/>\n   </g>\n   <g id=\"line2d_82\">\n    <path clip-path=\"url(#p930ffe379c)\" d=\"M 49.633125 37.297009 \nL 69.163125 31.480868 \nL 88.693125 30.199845 \nL 108.223125 32.158191 \nL 127.753125 28.256223 \nL 147.283125 29.463624 \n\" style=\"fill:none;stroke:#2ca02c;stroke-dasharray:9.6,2.4,1.5,2.4;stroke-dashoffset:0;stroke-width:1.5;\"/>\n   </g>\n   <g id=\"line2d_83\">\n    <path clip-path=\"url(#p930ffe379c)\" d=\"M 34.954394 15.461283 \nL 44.698573 87.175721 \nL 54.442752 100.763447 \nL 64.186931 105.144332 \nL 73.93111 111.724289 \nL 83.675289 113.563983 \nL 93.419468 118.325624 \nL 103.163647 118.741747 \nL 112.907826 123.408425 \nL 122.652006 122.419187 \nL 132.396185 126.614787 \nL 142.140364 126.890792 \nL 151.884543 130.700608 \nL 161.628722 129.038107 \n\" style=\"fill:none;stroke:#1f77b4;stroke-linecap:square;stroke-width:1.5;\"/>\n   </g>\n   <g id=\"line2d_84\">\n    <path clip-path=\"url(#p930ffe379c)\" d=\"M 49.633125 87.769253 \nL 69.163125 103.638607 \nL 88.693125 109.182222 \nL 108.223125 103.377582 \nL 127.753125 114.63227 \nL 147.283125 109.622244 \n\" style=\"fill:none;stroke:#ff7f0e;stroke-dasharray:5.55,2.4;stroke-dashoffset:0;stroke-width:1.5;\"/>\n   </g>\n   <g id=\"line2d_85\">\n    <path clip-path=\"url(#p930ffe379c)\" d=\"M 49.633125 37.297009 \nL 69.163125 31.480868 \nL 88.693125 30.199845 \nL 108.223125 32.158191 \nL 127.753125 28.256223 \nL 147.283125 29.463624 \n\" style=\"fill:none;stroke:#2ca02c;stroke-dasharray:9.6,2.4,1.5,2.4;stroke-dashoffset:0;stroke-width:1.5;\"/>\n   </g>\n   <g id=\"line2d_86\">\n    <path clip-path=\"url(#p930ffe379c)\" d=\"M 34.954394 15.461283 \nL 44.698573 87.175721 \nL 54.442752 100.763447 \nL 64.186931 105.144332 \nL 73.93111 111.724289 \nL 83.675289 113.563983 \nL 93.419468 118.325624 \nL 103.163647 118.741747 \nL 112.907826 123.408425 \nL 122.652006 122.419187 \nL 132.396185 126.614787 \nL 142.140364 126.890792 \nL 151.884543 130.700608 \nL 161.628722 129.038107 \n\" style=\"fill:none;stroke:#1f77b4;stroke-linecap:square;stroke-width:1.5;\"/>\n   </g>\n   <g id=\"line2d_87\">\n    <path clip-path=\"url(#p930ffe379c)\" d=\"M 49.633125 87.769253 \nL 69.163125 103.638607 \nL 88.693125 109.182222 \nL 108.223125 103.377582 \nL 127.753125 114.63227 \nL 147.283125 109.622244 \nL 166.813125 108.307399 \n\" style=\"fill:none;stroke:#ff7f0e;stroke-dasharray:5.55,2.4;stroke-dashoffset:0;stroke-width:1.5;\"/>\n   </g>\n   <g id=\"line2d_88\">\n    <path clip-path=\"url(#p930ffe379c)\" d=\"M 49.633125 37.297009 \nL 69.163125 31.480868 \nL 88.693125 30.199845 \nL 108.223125 32.158191 \nL 127.753125 28.256223 \nL 147.283125 29.463624 \n\" style=\"fill:none;stroke:#2ca02c;stroke-dasharray:9.6,2.4,1.5,2.4;stroke-dashoffset:0;stroke-width:1.5;\"/>\n   </g>\n   <g id=\"line2d_89\">\n    <path clip-path=\"url(#p930ffe379c)\" d=\"M 34.954394 15.461283 \nL 44.698573 87.175721 \nL 54.442752 100.763447 \nL 64.186931 105.144332 \nL 73.93111 111.724289 \nL 83.675289 113.563983 \nL 93.419468 118.325624 \nL 103.163647 118.741747 \nL 112.907826 123.408425 \nL 122.652006 122.419187 \nL 132.396185 126.614787 \nL 142.140364 126.890792 \nL 151.884543 130.700608 \nL 161.628722 129.038107 \n\" style=\"fill:none;stroke:#1f77b4;stroke-linecap:square;stroke-width:1.5;\"/>\n   </g>\n   <g id=\"line2d_90\">\n    <path clip-path=\"url(#p930ffe379c)\" d=\"M 49.633125 87.769253 \nL 69.163125 103.638607 \nL 88.693125 109.182222 \nL 108.223125 103.377582 \nL 127.753125 114.63227 \nL 147.283125 109.622244 \nL 166.813125 108.307399 \n\" style=\"fill:none;stroke:#ff7f0e;stroke-dasharray:5.55,2.4;stroke-dashoffset:0;stroke-width:1.5;\"/>\n   </g>\n   <g id=\"line2d_91\">\n    <path clip-path=\"url(#p930ffe379c)\" d=\"M 49.633125 37.297009 \nL 69.163125 31.480868 \nL 88.693125 30.199845 \nL 108.223125 32.158191 \nL 127.753125 28.256223 \nL 147.283125 29.463624 \nL 166.813125 29.831735 \n\" style=\"fill:none;stroke:#2ca02c;stroke-dasharray:9.6,2.4,1.5,2.4;stroke-dashoffset:0;stroke-width:1.5;\"/>\n   </g>\n   <g id=\"line2d_92\">\n    <path clip-path=\"url(#p930ffe379c)\" d=\"M 34.954394 15.461283 \nL 44.698573 87.175721 \nL 54.442752 100.763447 \nL 64.186931 105.144332 \nL 73.93111 111.724289 \nL 83.675289 113.563983 \nL 93.419468 118.325624 \nL 103.163647 118.741747 \nL 112.907826 123.408425 \nL 122.652006 122.419187 \nL 132.396185 126.614787 \nL 142.140364 126.890792 \nL 151.884543 130.700608 \nL 161.628722 129.038107 \nL 171.372901 132.772923 \n\" style=\"fill:none;stroke:#1f77b4;stroke-linecap:square;stroke-width:1.5;\"/>\n   </g>\n   <g id=\"line2d_93\">\n    <path clip-path=\"url(#p930ffe379c)\" d=\"M 49.633125 87.769253 \nL 69.163125 103.638607 \nL 88.693125 109.182222 \nL 108.223125 103.377582 \nL 127.753125 114.63227 \nL 147.283125 109.622244 \nL 166.813125 108.307399 \n\" style=\"fill:none;stroke:#ff7f0e;stroke-dasharray:5.55,2.4;stroke-dashoffset:0;stroke-width:1.5;\"/>\n   </g>\n   <g id=\"line2d_94\">\n    <path clip-path=\"url(#p930ffe379c)\" d=\"M 49.633125 37.297009 \nL 69.163125 31.480868 \nL 88.693125 30.199845 \nL 108.223125 32.158191 \nL 127.753125 28.256223 \nL 147.283125 29.463624 \nL 166.813125 29.831735 \n\" style=\"fill:none;stroke:#2ca02c;stroke-dasharray:9.6,2.4,1.5,2.4;stroke-dashoffset:0;stroke-width:1.5;\"/>\n   </g>\n   <g id=\"line2d_95\">\n    <path clip-path=\"url(#p930ffe379c)\" d=\"M 34.954394 15.461283 \nL 44.698573 87.175721 \nL 54.442752 100.763447 \nL 64.186931 105.144332 \nL 73.93111 111.724289 \nL 83.675289 113.563983 \nL 93.419468 118.325624 \nL 103.163647 118.741747 \nL 112.907826 123.408425 \nL 122.652006 122.419187 \nL 132.396185 126.614787 \nL 142.140364 126.890792 \nL 151.884543 130.700608 \nL 161.628722 129.038107 \nL 171.372901 132.772923 \nL 181.11708 132.917393 \n\" style=\"fill:none;stroke:#1f77b4;stroke-linecap:square;stroke-width:1.5;\"/>\n   </g>\n   <g id=\"line2d_96\">\n    <path clip-path=\"url(#p930ffe379c)\" d=\"M 49.633125 87.769253 \nL 69.163125 103.638607 \nL 88.693125 109.182222 \nL 108.223125 103.377582 \nL 127.753125 114.63227 \nL 147.283125 109.622244 \nL 166.813125 108.307399 \n\" style=\"fill:none;stroke:#ff7f0e;stroke-dasharray:5.55,2.4;stroke-dashoffset:0;stroke-width:1.5;\"/>\n   </g>\n   <g id=\"line2d_97\">\n    <path clip-path=\"url(#p930ffe379c)\" d=\"M 49.633125 37.297009 \nL 69.163125 31.480868 \nL 88.693125 30.199845 \nL 108.223125 32.158191 \nL 127.753125 28.256223 \nL 147.283125 29.463624 \nL 166.813125 29.831735 \n\" style=\"fill:none;stroke:#2ca02c;stroke-dasharray:9.6,2.4,1.5,2.4;stroke-dashoffset:0;stroke-width:1.5;\"/>\n   </g>\n   <g id=\"line2d_98\">\n    <path clip-path=\"url(#p930ffe379c)\" d=\"M 34.954394 15.461283 \nL 44.698573 87.175721 \nL 54.442752 100.763447 \nL 64.186931 105.144332 \nL 73.93111 111.724289 \nL 83.675289 113.563983 \nL 93.419468 118.325624 \nL 103.163647 118.741747 \nL 112.907826 123.408425 \nL 122.652006 122.419187 \nL 132.396185 126.614787 \nL 142.140364 126.890792 \nL 151.884543 130.700608 \nL 161.628722 129.038107 \nL 171.372901 132.772923 \nL 181.11708 132.917393 \n\" style=\"fill:none;stroke:#1f77b4;stroke-linecap:square;stroke-width:1.5;\"/>\n   </g>\n   <g id=\"line2d_99\">\n    <path clip-path=\"url(#p930ffe379c)\" d=\"M 49.633125 87.769253 \nL 69.163125 103.638607 \nL 88.693125 109.182222 \nL 108.223125 103.377582 \nL 127.753125 114.63227 \nL 147.283125 109.622244 \nL 166.813125 108.307399 \nL 186.343125 115.039627 \n\" style=\"fill:none;stroke:#ff7f0e;stroke-dasharray:5.55,2.4;stroke-dashoffset:0;stroke-width:1.5;\"/>\n   </g>\n   <g id=\"line2d_100\">\n    <path clip-path=\"url(#p930ffe379c)\" d=\"M 49.633125 37.297009 \nL 69.163125 31.480868 \nL 88.693125 30.199845 \nL 108.223125 32.158191 \nL 127.753125 28.256223 \nL 147.283125 29.463624 \nL 166.813125 29.831735 \n\" style=\"fill:none;stroke:#2ca02c;stroke-dasharray:9.6,2.4,1.5,2.4;stroke-dashoffset:0;stroke-width:1.5;\"/>\n   </g>\n   <g id=\"line2d_101\">\n    <path clip-path=\"url(#p930ffe379c)\" d=\"M 34.954394 15.461283 \nL 44.698573 87.175721 \nL 54.442752 100.763447 \nL 64.186931 105.144332 \nL 73.93111 111.724289 \nL 83.675289 113.563983 \nL 93.419468 118.325624 \nL 103.163647 118.741747 \nL 112.907826 123.408425 \nL 122.652006 122.419187 \nL 132.396185 126.614787 \nL 142.140364 126.890792 \nL 151.884543 130.700608 \nL 161.628722 129.038107 \nL 171.372901 132.772923 \nL 181.11708 132.917393 \n\" style=\"fill:none;stroke:#1f77b4;stroke-linecap:square;stroke-width:1.5;\"/>\n   </g>\n   <g id=\"line2d_102\">\n    <path clip-path=\"url(#p930ffe379c)\" d=\"M 49.633125 87.769253 \nL 69.163125 103.638607 \nL 88.693125 109.182222 \nL 108.223125 103.377582 \nL 127.753125 114.63227 \nL 147.283125 109.622244 \nL 166.813125 108.307399 \nL 186.343125 115.039627 \n\" style=\"fill:none;stroke:#ff7f0e;stroke-dasharray:5.55,2.4;stroke-dashoffset:0;stroke-width:1.5;\"/>\n   </g>\n   <g id=\"line2d_103\">\n    <path clip-path=\"url(#p930ffe379c)\" d=\"M 49.633125 37.297009 \nL 69.163125 31.480868 \nL 88.693125 30.199845 \nL 108.223125 32.158191 \nL 127.753125 28.256223 \nL 147.283125 29.463624 \nL 166.813125 29.831735 \nL 186.343125 27.402208 \n\" style=\"fill:none;stroke:#2ca02c;stroke-dasharray:9.6,2.4,1.5,2.4;stroke-dashoffset:0;stroke-width:1.5;\"/>\n   </g>\n   <g id=\"line2d_104\">\n    <path clip-path=\"url(#p930ffe379c)\" d=\"M 34.954394 15.461283 \nL 44.698573 87.175721 \nL 54.442752 100.763447 \nL 64.186931 105.144332 \nL 73.93111 111.724289 \nL 83.675289 113.563983 \nL 93.419468 118.325624 \nL 103.163647 118.741747 \nL 112.907826 123.408425 \nL 122.652006 122.419187 \nL 132.396185 126.614787 \nL 142.140364 126.890792 \nL 151.884543 130.700608 \nL 161.628722 129.038107 \nL 171.372901 132.772923 \nL 181.11708 132.917393 \nL 190.861259 135.95099 \n\" style=\"fill:none;stroke:#1f77b4;stroke-linecap:square;stroke-width:1.5;\"/>\n   </g>\n   <g id=\"line2d_105\">\n    <path clip-path=\"url(#p930ffe379c)\" d=\"M 49.633125 87.769253 \nL 69.163125 103.638607 \nL 88.693125 109.182222 \nL 108.223125 103.377582 \nL 127.753125 114.63227 \nL 147.283125 109.622244 \nL 166.813125 108.307399 \nL 186.343125 115.039627 \n\" style=\"fill:none;stroke:#ff7f0e;stroke-dasharray:5.55,2.4;stroke-dashoffset:0;stroke-width:1.5;\"/>\n   </g>\n   <g id=\"line2d_106\">\n    <path clip-path=\"url(#p930ffe379c)\" d=\"M 49.633125 37.297009 \nL 69.163125 31.480868 \nL 88.693125 30.199845 \nL 108.223125 32.158191 \nL 127.753125 28.256223 \nL 147.283125 29.463624 \nL 166.813125 29.831735 \nL 186.343125 27.402208 \n\" style=\"fill:none;stroke:#2ca02c;stroke-dasharray:9.6,2.4,1.5,2.4;stroke-dashoffset:0;stroke-width:1.5;\"/>\n   </g>\n   <g id=\"line2d_107\">\n    <path clip-path=\"url(#p930ffe379c)\" d=\"M 34.954394 15.461283 \nL 44.698573 87.175721 \nL 54.442752 100.763447 \nL 64.186931 105.144332 \nL 73.93111 111.724289 \nL 83.675289 113.563983 \nL 93.419468 118.325624 \nL 103.163647 118.741747 \nL 112.907826 123.408425 \nL 122.652006 122.419187 \nL 132.396185 126.614787 \nL 142.140364 126.890792 \nL 151.884543 130.700608 \nL 161.628722 129.038107 \nL 171.372901 132.772923 \nL 181.11708 132.917393 \nL 190.861259 135.95099 \nL 200.605438 135.140172 \n\" style=\"fill:none;stroke:#1f77b4;stroke-linecap:square;stroke-width:1.5;\"/>\n   </g>\n   <g id=\"line2d_108\">\n    <path clip-path=\"url(#p930ffe379c)\" d=\"M 49.633125 87.769253 \nL 69.163125 103.638607 \nL 88.693125 109.182222 \nL 108.223125 103.377582 \nL 127.753125 114.63227 \nL 147.283125 109.622244 \nL 166.813125 108.307399 \nL 186.343125 115.039627 \n\" style=\"fill:none;stroke:#ff7f0e;stroke-dasharray:5.55,2.4;stroke-dashoffset:0;stroke-width:1.5;\"/>\n   </g>\n   <g id=\"line2d_109\">\n    <path clip-path=\"url(#p930ffe379c)\" d=\"M 49.633125 37.297009 \nL 69.163125 31.480868 \nL 88.693125 30.199845 \nL 108.223125 32.158191 \nL 127.753125 28.256223 \nL 147.283125 29.463624 \nL 166.813125 29.831735 \nL 186.343125 27.402208 \n\" style=\"fill:none;stroke:#2ca02c;stroke-dasharray:9.6,2.4,1.5,2.4;stroke-dashoffset:0;stroke-width:1.5;\"/>\n   </g>\n   <g id=\"line2d_110\">\n    <path clip-path=\"url(#p930ffe379c)\" d=\"M 34.954394 15.461283 \nL 44.698573 87.175721 \nL 54.442752 100.763447 \nL 64.186931 105.144332 \nL 73.93111 111.724289 \nL 83.675289 113.563983 \nL 93.419468 118.325624 \nL 103.163647 118.741747 \nL 112.907826 123.408425 \nL 122.652006 122.419187 \nL 132.396185 126.614787 \nL 142.140364 126.890792 \nL 151.884543 130.700608 \nL 161.628722 129.038107 \nL 171.372901 132.772923 \nL 181.11708 132.917393 \nL 190.861259 135.95099 \nL 200.605438 135.140172 \n\" style=\"fill:none;stroke:#1f77b4;stroke-linecap:square;stroke-width:1.5;\"/>\n   </g>\n   <g id=\"line2d_111\">\n    <path clip-path=\"url(#p930ffe379c)\" d=\"M 49.633125 87.769253 \nL 69.163125 103.638607 \nL 88.693125 109.182222 \nL 108.223125 103.377582 \nL 127.753125 114.63227 \nL 147.283125 109.622244 \nL 166.813125 108.307399 \nL 186.343125 115.039627 \nL 205.873125 113.055856 \n\" style=\"fill:none;stroke:#ff7f0e;stroke-dasharray:5.55,2.4;stroke-dashoffset:0;stroke-width:1.5;\"/>\n   </g>\n   <g id=\"line2d_112\">\n    <path clip-path=\"url(#p930ffe379c)\" d=\"M 49.633125 37.297009 \nL 69.163125 31.480868 \nL 88.693125 30.199845 \nL 108.223125 32.158191 \nL 127.753125 28.256223 \nL 147.283125 29.463624 \nL 166.813125 29.831735 \nL 186.343125 27.402208 \n\" style=\"fill:none;stroke:#2ca02c;stroke-dasharray:9.6,2.4,1.5,2.4;stroke-dashoffset:0;stroke-width:1.5;\"/>\n   </g>\n   <g id=\"line2d_113\">\n    <path clip-path=\"url(#p930ffe379c)\" d=\"M 34.954394 15.461283 \nL 44.698573 87.175721 \nL 54.442752 100.763447 \nL 64.186931 105.144332 \nL 73.93111 111.724289 \nL 83.675289 113.563983 \nL 93.419468 118.325624 \nL 103.163647 118.741747 \nL 112.907826 123.408425 \nL 122.652006 122.419187 \nL 132.396185 126.614787 \nL 142.140364 126.890792 \nL 151.884543 130.700608 \nL 161.628722 129.038107 \nL 171.372901 132.772923 \nL 181.11708 132.917393 \nL 190.861259 135.95099 \nL 200.605438 135.140172 \n\" style=\"fill:none;stroke:#1f77b4;stroke-linecap:square;stroke-width:1.5;\"/>\n   </g>\n   <g id=\"line2d_114\">\n    <path clip-path=\"url(#p930ffe379c)\" d=\"M 49.633125 87.769253 \nL 69.163125 103.638607 \nL 88.693125 109.182222 \nL 108.223125 103.377582 \nL 127.753125 114.63227 \nL 147.283125 109.622244 \nL 166.813125 108.307399 \nL 186.343125 115.039627 \nL 205.873125 113.055856 \n\" style=\"fill:none;stroke:#ff7f0e;stroke-dasharray:5.55,2.4;stroke-dashoffset:0;stroke-width:1.5;\"/>\n   </g>\n   <g id=\"line2d_115\">\n    <path clip-path=\"url(#p930ffe379c)\" d=\"M 49.633125 37.297009 \nL 69.163125 31.480868 \nL 88.693125 30.199845 \nL 108.223125 32.158191 \nL 127.753125 28.256223 \nL 147.283125 29.463624 \nL 166.813125 29.831735 \nL 186.343125 27.402208 \nL 205.873125 28.020633 \n\" style=\"fill:none;stroke:#2ca02c;stroke-dasharray:9.6,2.4,1.5,2.4;stroke-dashoffset:0;stroke-width:1.5;\"/>\n   </g>\n   <g id=\"line2d_116\">\n    <path clip-path=\"url(#p930ffe379c)\" d=\"M 34.954394 15.461283 \nL 44.698573 87.175721 \nL 54.442752 100.763447 \nL 64.186931 105.144332 \nL 73.93111 111.724289 \nL 83.675289 113.563983 \nL 93.419468 118.325624 \nL 103.163647 118.741747 \nL 112.907826 123.408425 \nL 122.652006 122.419187 \nL 132.396185 126.614787 \nL 142.140364 126.890792 \nL 151.884543 130.700608 \nL 161.628722 129.038107 \nL 171.372901 132.772923 \nL 181.11708 132.917393 \nL 190.861259 135.95099 \nL 200.605438 135.140172 \nL 210.349618 139.006737 \n\" style=\"fill:none;stroke:#1f77b4;stroke-linecap:square;stroke-width:1.5;\"/>\n   </g>\n   <g id=\"line2d_117\">\n    <path clip-path=\"url(#p930ffe379c)\" d=\"M 49.633125 87.769253 \nL 69.163125 103.638607 \nL 88.693125 109.182222 \nL 108.223125 103.377582 \nL 127.753125 114.63227 \nL 147.283125 109.622244 \nL 166.813125 108.307399 \nL 186.343125 115.039627 \nL 205.873125 113.055856 \n\" style=\"fill:none;stroke:#ff7f0e;stroke-dasharray:5.55,2.4;stroke-dashoffset:0;stroke-width:1.5;\"/>\n   </g>\n   <g id=\"line2d_118\">\n    <path clip-path=\"url(#p930ffe379c)\" d=\"M 49.633125 37.297009 \nL 69.163125 31.480868 \nL 88.693125 30.199845 \nL 108.223125 32.158191 \nL 127.753125 28.256223 \nL 147.283125 29.463624 \nL 166.813125 29.831735 \nL 186.343125 27.402208 \nL 205.873125 28.020633 \n\" style=\"fill:none;stroke:#2ca02c;stroke-dasharray:9.6,2.4,1.5,2.4;stroke-dashoffset:0;stroke-width:1.5;\"/>\n   </g>\n   <g id=\"line2d_119\">\n    <path clip-path=\"url(#p930ffe379c)\" d=\"M 34.954394 15.461283 \nL 44.698573 87.175721 \nL 54.442752 100.763447 \nL 64.186931 105.144332 \nL 73.93111 111.724289 \nL 83.675289 113.563983 \nL 93.419468 118.325624 \nL 103.163647 118.741747 \nL 112.907826 123.408425 \nL 122.652006 122.419187 \nL 132.396185 126.614787 \nL 142.140364 126.890792 \nL 151.884543 130.700608 \nL 161.628722 129.038107 \nL 171.372901 132.772923 \nL 181.11708 132.917393 \nL 190.861259 135.95099 \nL 200.605438 135.140172 \nL 210.349618 139.006737 \nL 220.093797 136.492274 \n\" style=\"fill:none;stroke:#1f77b4;stroke-linecap:square;stroke-width:1.5;\"/>\n   </g>\n   <g id=\"line2d_120\">\n    <path clip-path=\"url(#p930ffe379c)\" d=\"M 49.633125 87.769253 \nL 69.163125 103.638607 \nL 88.693125 109.182222 \nL 108.223125 103.377582 \nL 127.753125 114.63227 \nL 147.283125 109.622244 \nL 166.813125 108.307399 \nL 186.343125 115.039627 \nL 205.873125 113.055856 \n\" style=\"fill:none;stroke:#ff7f0e;stroke-dasharray:5.55,2.4;stroke-dashoffset:0;stroke-width:1.5;\"/>\n   </g>\n   <g id=\"line2d_121\">\n    <path clip-path=\"url(#p930ffe379c)\" d=\"M 49.633125 37.297009 \nL 69.163125 31.480868 \nL 88.693125 30.199845 \nL 108.223125 32.158191 \nL 127.753125 28.256223 \nL 147.283125 29.463624 \nL 166.813125 29.831735 \nL 186.343125 27.402208 \nL 205.873125 28.020633 \n\" style=\"fill:none;stroke:#2ca02c;stroke-dasharray:9.6,2.4,1.5,2.4;stroke-dashoffset:0;stroke-width:1.5;\"/>\n   </g>\n   <g id=\"line2d_122\">\n    <path clip-path=\"url(#p930ffe379c)\" d=\"M 34.954394 15.461283 \nL 44.698573 87.175721 \nL 54.442752 100.763447 \nL 64.186931 105.144332 \nL 73.93111 111.724289 \nL 83.675289 113.563983 \nL 93.419468 118.325624 \nL 103.163647 118.741747 \nL 112.907826 123.408425 \nL 122.652006 122.419187 \nL 132.396185 126.614787 \nL 142.140364 126.890792 \nL 151.884543 130.700608 \nL 161.628722 129.038107 \nL 171.372901 132.772923 \nL 181.11708 132.917393 \nL 190.861259 135.95099 \nL 200.605438 135.140172 \nL 210.349618 139.006737 \nL 220.093797 136.492274 \n\" style=\"fill:none;stroke:#1f77b4;stroke-linecap:square;stroke-width:1.5;\"/>\n   </g>\n   <g id=\"line2d_123\">\n    <path clip-path=\"url(#p930ffe379c)\" d=\"M 49.633125 87.769253 \nL 69.163125 103.638607 \nL 88.693125 109.182222 \nL 108.223125 103.377582 \nL 127.753125 114.63227 \nL 147.283125 109.622244 \nL 166.813125 108.307399 \nL 186.343125 115.039627 \nL 205.873125 113.055856 \nL 225.403125 113.647716 \n\" style=\"fill:none;stroke:#ff7f0e;stroke-dasharray:5.55,2.4;stroke-dashoffset:0;stroke-width:1.5;\"/>\n   </g>\n   <g id=\"line2d_124\">\n    <path clip-path=\"url(#p930ffe379c)\" d=\"M 49.633125 37.297009 \nL 69.163125 31.480868 \nL 88.693125 30.199845 \nL 108.223125 32.158191 \nL 127.753125 28.256223 \nL 147.283125 29.463624 \nL 166.813125 29.831735 \nL 186.343125 27.402208 \nL 205.873125 28.020633 \n\" style=\"fill:none;stroke:#2ca02c;stroke-dasharray:9.6,2.4,1.5,2.4;stroke-dashoffset:0;stroke-width:1.5;\"/>\n   </g>\n   <g id=\"line2d_125\">\n    <path clip-path=\"url(#p930ffe379c)\" d=\"M 34.954394 15.461283 \nL 44.698573 87.175721 \nL 54.442752 100.763447 \nL 64.186931 105.144332 \nL 73.93111 111.724289 \nL 83.675289 113.563983 \nL 93.419468 118.325624 \nL 103.163647 118.741747 \nL 112.907826 123.408425 \nL 122.652006 122.419187 \nL 132.396185 126.614787 \nL 142.140364 126.890792 \nL 151.884543 130.700608 \nL 161.628722 129.038107 \nL 171.372901 132.772923 \nL 181.11708 132.917393 \nL 190.861259 135.95099 \nL 200.605438 135.140172 \nL 210.349618 139.006737 \nL 220.093797 136.492274 \n\" style=\"fill:none;stroke:#1f77b4;stroke-linecap:square;stroke-width:1.5;\"/>\n   </g>\n   <g id=\"line2d_126\">\n    <path clip-path=\"url(#p930ffe379c)\" d=\"M 49.633125 87.769253 \nL 69.163125 103.638607 \nL 88.693125 109.182222 \nL 108.223125 103.377582 \nL 127.753125 114.63227 \nL 147.283125 109.622244 \nL 166.813125 108.307399 \nL 186.343125 115.039627 \nL 205.873125 113.055856 \nL 225.403125 113.647716 \n\" style=\"fill:none;stroke:#ff7f0e;stroke-dasharray:5.55,2.4;stroke-dashoffset:0;stroke-width:1.5;\"/>\n   </g>\n   <g id=\"line2d_127\">\n    <path clip-path=\"url(#p930ffe379c)\" d=\"M 49.633125 37.297009 \nL 69.163125 31.480868 \nL 88.693125 30.199845 \nL 108.223125 32.158191 \nL 127.753125 28.256223 \nL 147.283125 29.463624 \nL 166.813125 29.831735 \nL 186.343125 27.402208 \nL 205.873125 28.020633 \nL 225.403125 27.122444 \n\" style=\"fill:none;stroke:#2ca02c;stroke-dasharray:9.6,2.4,1.5,2.4;stroke-dashoffset:0;stroke-width:1.5;\"/>\n   </g>\n   <g id=\"patch_3\">\n    <path d=\"M 30.103125 145.18401 \nL 30.103125 9.28401 \n\" style=\"fill:none;stroke:#000000;stroke-linecap:square;stroke-linejoin:miter;stroke-width:0.8;\"/>\n   </g>\n   <g id=\"patch_4\">\n    <path d=\"M 225.403125 145.18401 \nL 225.403125 9.28401 \n\" style=\"fill:none;stroke:#000000;stroke-linecap:square;stroke-linejoin:miter;stroke-width:0.8;\"/>\n   </g>\n   <g id=\"patch_5\">\n    <path d=\"M 30.103125 145.18401 \nL 225.403125 145.18401 \n\" style=\"fill:none;stroke:#000000;stroke-linecap:square;stroke-linejoin:miter;stroke-width:0.8;\"/>\n   </g>\n   <g id=\"patch_6\">\n    <path d=\"M 30.103125 9.28401 \nL 225.403125 9.28401 \n\" style=\"fill:none;stroke:#000000;stroke-linecap:square;stroke-linejoin:miter;stroke-width:0.8;\"/>\n   </g>\n   <g id=\"legend_1\">\n    <g id=\"patch_7\">\n     <path d=\"M 138.8125 101.168385 \nL 218.403125 101.168385 \nQ 220.403125 101.168385 220.403125 99.168385 \nL 220.403125 55.299635 \nQ 220.403125 53.299635 218.403125 53.299635 \nL 138.8125 53.299635 \nQ 136.8125 53.299635 136.8125 55.299635 \nL 136.8125 99.168385 \nQ 136.8125 101.168385 138.8125 101.168385 \nz\n\" style=\"fill:#ffffff;opacity:0.8;stroke:#cccccc;stroke-linejoin:miter;\"/>\n    </g>\n    <g id=\"line2d_128\">\n     <path d=\"M 140.8125 61.398072 \nL 160.8125 61.398072 \n\" style=\"fill:none;stroke:#1f77b4;stroke-linecap:square;stroke-width:1.5;\"/>\n    </g>\n    <g id=\"line2d_129\"/>\n    <g id=\"text_13\">\n     <!-- train_loss -->\n     <defs>\n      <path d=\"M 18.3125 70.21875 \nL 18.3125 54.6875 \nL 36.8125 54.6875 \nL 36.8125 47.703125 \nL 18.3125 47.703125 \nL 18.3125 18.015625 \nQ 18.3125 11.328125 20.140625 9.421875 \nQ 21.96875 7.515625 27.59375 7.515625 \nL 36.8125 7.515625 \nL 36.8125 0 \nL 27.59375 0 \nQ 17.1875 0 13.234375 3.875 \nQ 9.28125 7.765625 9.28125 18.015625 \nL 9.28125 47.703125 \nL 2.6875 47.703125 \nL 2.6875 54.6875 \nL 9.28125 54.6875 \nL 9.28125 70.21875 \nz\n\" id=\"DejaVuSans-116\"/>\n      <path d=\"M 41.109375 46.296875 \nQ 39.59375 47.171875 37.8125 47.578125 \nQ 36.03125 48 33.890625 48 \nQ 26.265625 48 22.1875 43.046875 \nQ 18.109375 38.09375 18.109375 28.8125 \nL 18.109375 0 \nL 9.078125 0 \nL 9.078125 54.6875 \nL 18.109375 54.6875 \nL 18.109375 46.1875 \nQ 20.953125 51.171875 25.484375 53.578125 \nQ 30.03125 56 36.53125 56 \nQ 37.453125 56 38.578125 55.875 \nQ 39.703125 55.765625 41.0625 55.515625 \nz\n\" id=\"DejaVuSans-114\"/>\n      <path d=\"M 34.28125 27.484375 \nQ 23.390625 27.484375 19.1875 25 \nQ 14.984375 22.515625 14.984375 16.5 \nQ 14.984375 11.71875 18.140625 8.90625 \nQ 21.296875 6.109375 26.703125 6.109375 \nQ 34.1875 6.109375 38.703125 11.40625 \nQ 43.21875 16.703125 43.21875 25.484375 \nL 43.21875 27.484375 \nz\nM 52.203125 31.203125 \nL 52.203125 0 \nL 43.21875 0 \nL 43.21875 8.296875 \nQ 40.140625 3.328125 35.546875 0.953125 \nQ 30.953125 -1.421875 24.3125 -1.421875 \nQ 15.921875 -1.421875 10.953125 3.296875 \nQ 6 8.015625 6 15.921875 \nQ 6 25.140625 12.171875 29.828125 \nQ 18.359375 34.515625 30.609375 34.515625 \nL 43.21875 34.515625 \nL 43.21875 35.40625 \nQ 43.21875 41.609375 39.140625 45 \nQ 35.0625 48.390625 27.6875 48.390625 \nQ 23 48.390625 18.546875 47.265625 \nQ 14.109375 46.140625 10.015625 43.890625 \nL 10.015625 52.203125 \nQ 14.9375 54.109375 19.578125 55.046875 \nQ 24.21875 56 28.609375 56 \nQ 40.484375 56 46.34375 49.84375 \nQ 52.203125 43.703125 52.203125 31.203125 \nz\n\" id=\"DejaVuSans-97\"/>\n      <path d=\"M 9.421875 54.6875 \nL 18.40625 54.6875 \nL 18.40625 0 \nL 9.421875 0 \nz\nM 9.421875 75.984375 \nL 18.40625 75.984375 \nL 18.40625 64.59375 \nL 9.421875 64.59375 \nz\n\" id=\"DejaVuSans-105\"/>\n      <path d=\"M 54.890625 33.015625 \nL 54.890625 0 \nL 45.90625 0 \nL 45.90625 32.71875 \nQ 45.90625 40.484375 42.875 44.328125 \nQ 39.84375 48.1875 33.796875 48.1875 \nQ 26.515625 48.1875 22.3125 43.546875 \nQ 18.109375 38.921875 18.109375 30.90625 \nL 18.109375 0 \nL 9.078125 0 \nL 9.078125 54.6875 \nL 18.109375 54.6875 \nL 18.109375 46.1875 \nQ 21.34375 51.125 25.703125 53.5625 \nQ 30.078125 56 35.796875 56 \nQ 45.21875 56 50.046875 50.171875 \nQ 54.890625 44.34375 54.890625 33.015625 \nz\n\" id=\"DejaVuSans-110\"/>\n      <path d=\"M 50.984375 -16.609375 \nL 50.984375 -23.578125 \nL -0.984375 -23.578125 \nL -0.984375 -16.609375 \nz\n\" id=\"DejaVuSans-95\"/>\n      <path d=\"M 9.421875 75.984375 \nL 18.40625 75.984375 \nL 18.40625 0 \nL 9.421875 0 \nz\n\" id=\"DejaVuSans-108\"/>\n      <path d=\"M 44.28125 53.078125 \nL 44.28125 44.578125 \nQ 40.484375 46.53125 36.375 47.5 \nQ 32.28125 48.484375 27.875 48.484375 \nQ 21.1875 48.484375 17.84375 46.4375 \nQ 14.5 44.390625 14.5 40.28125 \nQ 14.5 37.15625 16.890625 35.375 \nQ 19.28125 33.59375 26.515625 31.984375 \nL 29.59375 31.296875 \nQ 39.15625 29.25 43.1875 25.515625 \nQ 47.21875 21.78125 47.21875 15.09375 \nQ 47.21875 7.46875 41.1875 3.015625 \nQ 35.15625 -1.421875 24.609375 -1.421875 \nQ 20.21875 -1.421875 15.453125 -0.5625 \nQ 10.6875 0.296875 5.421875 2 \nL 5.421875 11.28125 \nQ 10.40625 8.6875 15.234375 7.390625 \nQ 20.0625 6.109375 24.8125 6.109375 \nQ 31.15625 6.109375 34.5625 8.28125 \nQ 37.984375 10.453125 37.984375 14.40625 \nQ 37.984375 18.0625 35.515625 20.015625 \nQ 33.0625 21.96875 24.703125 23.78125 \nL 21.578125 24.515625 \nQ 13.234375 26.265625 9.515625 29.90625 \nQ 5.8125 33.546875 5.8125 39.890625 \nQ 5.8125 47.609375 11.28125 51.796875 \nQ 16.75 56 26.8125 56 \nQ 31.78125 56 36.171875 55.265625 \nQ 40.578125 54.546875 44.28125 53.078125 \nz\n\" id=\"DejaVuSans-115\"/>\n     </defs>\n     <g transform=\"translate(168.8125 64.898072)scale(0.1 -0.1)\">\n      <use xlink:href=\"#DejaVuSans-116\"/>\n      <use x=\"39.208984\" xlink:href=\"#DejaVuSans-114\"/>\n      <use x=\"80.322266\" xlink:href=\"#DejaVuSans-97\"/>\n      <use x=\"141.601562\" xlink:href=\"#DejaVuSans-105\"/>\n      <use x=\"169.384766\" xlink:href=\"#DejaVuSans-110\"/>\n      <use x=\"232.763672\" xlink:href=\"#DejaVuSans-95\"/>\n      <use x=\"282.763672\" xlink:href=\"#DejaVuSans-108\"/>\n      <use x=\"310.546875\" xlink:href=\"#DejaVuSans-111\"/>\n      <use x=\"371.728516\" xlink:href=\"#DejaVuSans-115\"/>\n      <use x=\"423.828125\" xlink:href=\"#DejaVuSans-115\"/>\n     </g>\n    </g>\n    <g id=\"line2d_130\">\n     <path d=\"M 140.8125 76.354322 \nL 160.8125 76.354322 \n\" style=\"fill:none;stroke:#ff7f0e;stroke-dasharray:5.55,2.4;stroke-dashoffset:0;stroke-width:1.5;\"/>\n    </g>\n    <g id=\"line2d_131\"/>\n    <g id=\"text_14\">\n     <!-- val_loss -->\n     <defs>\n      <path d=\"M 2.984375 54.6875 \nL 12.5 54.6875 \nL 29.59375 8.796875 \nL 46.6875 54.6875 \nL 56.203125 54.6875 \nL 35.6875 0 \nL 23.484375 0 \nz\n\" id=\"DejaVuSans-118\"/>\n     </defs>\n     <g transform=\"translate(168.8125 79.854322)scale(0.1 -0.1)\">\n      <use xlink:href=\"#DejaVuSans-118\"/>\n      <use x=\"59.179688\" xlink:href=\"#DejaVuSans-97\"/>\n      <use x=\"120.458984\" xlink:href=\"#DejaVuSans-108\"/>\n      <use x=\"148.242188\" xlink:href=\"#DejaVuSans-95\"/>\n      <use x=\"198.242188\" xlink:href=\"#DejaVuSans-108\"/>\n      <use x=\"226.025391\" xlink:href=\"#DejaVuSans-111\"/>\n      <use x=\"287.207031\" xlink:href=\"#DejaVuSans-115\"/>\n      <use x=\"339.306641\" xlink:href=\"#DejaVuSans-115\"/>\n     </g>\n    </g>\n    <g id=\"line2d_132\">\n     <path d=\"M 140.8125 91.310572 \nL 160.8125 91.310572 \n\" style=\"fill:none;stroke:#2ca02c;stroke-dasharray:9.6,2.4,1.5,2.4;stroke-dashoffset:0;stroke-width:1.5;\"/>\n    </g>\n    <g id=\"line2d_133\"/>\n    <g id=\"text_15\">\n     <!-- val_acc -->\n     <g transform=\"translate(168.8125 94.810572)scale(0.1 -0.1)\">\n      <use xlink:href=\"#DejaVuSans-118\"/>\n      <use x=\"59.179688\" xlink:href=\"#DejaVuSans-97\"/>\n      <use x=\"120.458984\" xlink:href=\"#DejaVuSans-108\"/>\n      <use x=\"148.242188\" xlink:href=\"#DejaVuSans-95\"/>\n      <use x=\"198.242188\" xlink:href=\"#DejaVuSans-97\"/>\n      <use x=\"259.521484\" xlink:href=\"#DejaVuSans-99\"/>\n      <use x=\"314.501953\" xlink:href=\"#DejaVuSans-99\"/>\n     </g>\n    </g>\n   </g>\n  </g>\n </g>\n <defs>\n  <clipPath id=\"p930ffe379c\">\n   <rect height=\"135.9\" width=\"195.3\" x=\"30.103125\" y=\"9.28401\"/>\n  </clipPath>\n </defs>\n</svg>\n"
          },
          "metadata": {
            "needs_background": "light"
          }
        }
      ]
    },
    {
      "cell_type": "code",
      "source": [],
      "metadata": {
        "id": "oPXQCi82rPx9"
      },
      "execution_count": null,
      "outputs": []
    }
  ]
}