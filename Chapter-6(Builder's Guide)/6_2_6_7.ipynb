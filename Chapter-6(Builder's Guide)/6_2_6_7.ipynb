{
  "cells": [
    {
      "cell_type": "markdown",
      "metadata": {
        "id": "view-in-github",
        "colab_type": "text"
      },
      "source": [
        "<a href=\"https://colab.research.google.com/github/arnav39/d2el-en/blob/main/Chapter-6(Builder's%20Guide)/6_2_6_7.ipynb\" target=\"_parent\"><img src=\"https://colab.research.google.com/assets/colab-badge.svg\" alt=\"Open In Colab\"/></a>"
      ]
    },
    {
      "cell_type": "markdown",
      "metadata": {
        "id": "vOldJAZe34lR"
      },
      "source": [
        "# 6.2 : Parameter Management"
      ]
    },
    {
      "cell_type": "code",
      "execution_count": null,
      "metadata": {
        "id": "H9Fdf2kD392A"
      },
      "outputs": [],
      "source": [
        "import torch\n",
        "from torch import nn"
      ]
    },
    {
      "cell_type": "code",
      "execution_count": null,
      "metadata": {
        "colab": {
          "base_uri": "https://localhost:8080/"
        },
        "id": "XproDJws4Oiu",
        "outputId": "5ad5b108-2c14-409f-e24e-0cbd937e0d64"
      },
      "outputs": [
        {
          "name": "stderr",
          "output_type": "stream",
          "text": [
            "/usr/local/lib/python3.8/dist-packages/torch/nn/modules/lazy.py:180: UserWarning: Lazy modules are a new feature under heavy development so changes to the API or functionality can happen at any moment.\n",
            "  warnings.warn('Lazy modules are a new feature under heavy development '\n"
          ]
        },
        {
          "data": {
            "text/plain": [
              "torch.Size([2, 1])"
            ]
          },
          "execution_count": 5,
          "metadata": {},
          "output_type": "execute_result"
        }
      ],
      "source": [
        "net = nn.Sequential(nn.LazyLinear(8), nn.ReLU(), nn.LazyLinear(1))\n",
        "X = torch.randn(2, 4)\n",
        "net(X).shape"
      ]
    },
    {
      "cell_type": "code",
      "execution_count": null,
      "metadata": {
        "colab": {
          "base_uri": "https://localhost:8080/"
        },
        "id": "SaV0kOE24poe",
        "outputId": "9f8255ce-0484-4a2e-e9d6-15e3c5eacdc6"
      },
      "outputs": [
        {
          "data": {
            "text/plain": [
              "Sequential(\n",
              "  (0): Linear(in_features=4, out_features=8, bias=True)\n",
              "  (1): ReLU()\n",
              "  (2): Linear(in_features=8, out_features=1, bias=True)\n",
              ")"
            ]
          },
          "execution_count": 6,
          "metadata": {},
          "output_type": "execute_result"
        }
      ],
      "source": [
        "net"
      ]
    },
    {
      "cell_type": "code",
      "execution_count": null,
      "metadata": {
        "colab": {
          "base_uri": "https://localhost:8080/"
        },
        "id": "OcbQJ3Qr5RoF",
        "outputId": "eb62880d-931a-4916-ceb2-41b258ac2b9a"
      },
      "outputs": [
        {
          "data": {
            "text/plain": [
              "OrderedDict([('weight', tensor([[ 0.4381, -0.2563, -0.1464,  0.4440],\n",
              "                      [ 0.3292, -0.0811,  0.4635,  0.4075],\n",
              "                      [ 0.2028, -0.0660,  0.3773,  0.3556],\n",
              "                      [ 0.1367,  0.3034,  0.4320, -0.3711],\n",
              "                      [ 0.4030, -0.1065,  0.4554, -0.3622],\n",
              "                      [-0.4225, -0.0315,  0.2933, -0.4113],\n",
              "                      [ 0.0942,  0.3222,  0.2352, -0.0955],\n",
              "                      [ 0.4266, -0.1662, -0.3624, -0.3383]])),\n",
              "             ('bias',\n",
              "              tensor([ 0.4015,  0.3032,  0.0953, -0.3081,  0.3012, -0.0086, -0.1487,  0.0759]))])"
            ]
          },
          "execution_count": 9,
          "metadata": {},
          "output_type": "execute_result"
        }
      ],
      "source": [
        "net[0].state_dict()"
      ]
    },
    {
      "cell_type": "code",
      "execution_count": null,
      "metadata": {
        "colab": {
          "base_uri": "https://localhost:8080/"
        },
        "id": "-sC_tkt95TF0",
        "outputId": "f315a34d-b0fb-4982-95b7-70b98d74973a"
      },
      "outputs": [
        {
          "data": {
            "text/plain": [
              "ReLU()"
            ]
          },
          "execution_count": 10,
          "metadata": {},
          "output_type": "execute_result"
        }
      ],
      "source": [
        "net[1]"
      ]
    },
    {
      "cell_type": "code",
      "execution_count": null,
      "metadata": {
        "colab": {
          "base_uri": "https://localhost:8080/"
        },
        "id": "MA9scuq95e6l",
        "outputId": "561d9ad8-7d68-4207-c00e-6a655f54dfdf"
      },
      "outputs": [
        {
          "data": {
            "text/plain": [
              "OrderedDict([('weight',\n",
              "              tensor([[-0.0523,  0.0394,  0.0570, -0.3464,  0.0556,  0.0242, -0.3192, -0.2391]])),\n",
              "             ('bias', tensor([-0.3147]))])"
            ]
          },
          "execution_count": 11,
          "metadata": {},
          "output_type": "execute_result"
        }
      ],
      "source": [
        "net[2].state_dict()"
      ]
    },
    {
      "cell_type": "code",
      "execution_count": null,
      "metadata": {
        "colab": {
          "base_uri": "https://localhost:8080/"
        },
        "id": "_4SvrFU85h-2",
        "outputId": "b97ed589-c3b8-4768-80d2-6931911f06a9"
      },
      "outputs": [
        {
          "data": {
            "text/plain": [
              "(torch.nn.parameter.Parameter, torch.nn.parameter.Parameter)"
            ]
          },
          "execution_count": 12,
          "metadata": {},
          "output_type": "execute_result"
        }
      ],
      "source": [
        "type(net[2].bias), type(net[2].weight)"
      ]
    },
    {
      "cell_type": "code",
      "execution_count": null,
      "metadata": {
        "colab": {
          "base_uri": "https://localhost:8080/"
        },
        "id": "Y3QTRq0655ZE",
        "outputId": "a85d5061-3268-4e45-a011-95071383f890"
      },
      "outputs": [
        {
          "data": {
            "text/plain": [
              "tensor([-0.3147])"
            ]
          },
          "execution_count": 14,
          "metadata": {},
          "output_type": "execute_result"
        }
      ],
      "source": [
        "net[2].bias.data"
      ]
    },
    {
      "cell_type": "code",
      "execution_count": null,
      "metadata": {
        "colab": {
          "base_uri": "https://localhost:8080/"
        },
        "id": "xpLUy9nW59Dx",
        "outputId": "bb3530aa-c20b-47cf-8d7b-9e2007efc787"
      },
      "outputs": [
        {
          "data": {
            "text/plain": [
              "tensor([[-0.0523],\n",
              "        [ 0.0394],\n",
              "        [ 0.0570],\n",
              "        [-0.3464],\n",
              "        [ 0.0556],\n",
              "        [ 0.0242],\n",
              "        [-0.3192],\n",
              "        [-0.2391]])"
            ]
          },
          "execution_count": 16,
          "metadata": {},
          "output_type": "execute_result"
        }
      ],
      "source": [
        "net[2].weight.data.T"
      ]
    },
    {
      "cell_type": "code",
      "execution_count": null,
      "metadata": {
        "colab": {
          "base_uri": "https://localhost:8080/"
        },
        "id": "qb3Hl7a06lXV",
        "outputId": "c0085cec-2972-42e8-bdf4-b278b5b41f7f"
      },
      "outputs": [
        {
          "data": {
            "text/plain": [
              "True"
            ]
          },
          "execution_count": 17,
          "metadata": {},
          "output_type": "execute_result"
        }
      ],
      "source": [
        "net[2].weight.grad == None"
      ]
    },
    {
      "cell_type": "code",
      "execution_count": null,
      "metadata": {
        "colab": {
          "base_uri": "https://localhost:8080/"
        },
        "id": "zlVCt7BO6v_K",
        "outputId": "ba4e8c38-a2b7-4552-e7a3-3280061cdeb1"
      },
      "outputs": [
        {
          "data": {
            "text/plain": [
              "[('0.weight', Parameter containing:\n",
              "  tensor([[ 0.4381, -0.2563, -0.1464,  0.4440],\n",
              "          [ 0.3292, -0.0811,  0.4635,  0.4075],\n",
              "          [ 0.2028, -0.0660,  0.3773,  0.3556],\n",
              "          [ 0.1367,  0.3034,  0.4320, -0.3711],\n",
              "          [ 0.4030, -0.1065,  0.4554, -0.3622],\n",
              "          [-0.4225, -0.0315,  0.2933, -0.4113],\n",
              "          [ 0.0942,  0.3222,  0.2352, -0.0955],\n",
              "          [ 0.4266, -0.1662, -0.3624, -0.3383]], requires_grad=True)),\n",
              " ('0.bias', Parameter containing:\n",
              "  tensor([ 0.4015,  0.3032,  0.0953, -0.3081,  0.3012, -0.0086, -0.1487,  0.0759],\n",
              "         requires_grad=True)),\n",
              " ('2.weight', Parameter containing:\n",
              "  tensor([[-0.0523,  0.0394,  0.0570, -0.3464,  0.0556,  0.0242, -0.3192, -0.2391]],\n",
              "         requires_grad=True)),\n",
              " ('2.bias', Parameter containing:\n",
              "  tensor([-0.3147], requires_grad=True))]"
            ]
          },
          "execution_count": 18,
          "metadata": {},
          "output_type": "execute_result"
        }
      ],
      "source": [
        "# accessing all the parameters : \n",
        "[(name, param) for name, param in net.named_parameters()]"
      ]
    },
    {
      "cell_type": "code",
      "execution_count": null,
      "metadata": {
        "id": "gwjWGLsT7At6"
      },
      "outputs": [],
      "source": [
        "# tied Parameters"
      ]
    },
    {
      "cell_type": "code",
      "execution_count": null,
      "metadata": {
        "colab": {
          "base_uri": "https://localhost:8080/"
        },
        "id": "LjlICGGb7LBk",
        "outputId": "ebda4c10-9034-45a4-c533-b0edd0b88af1"
      },
      "outputs": [
        {
          "name": "stderr",
          "output_type": "stream",
          "text": [
            "/usr/local/lib/python3.8/dist-packages/torch/nn/modules/lazy.py:180: UserWarning: Lazy modules are a new feature under heavy development so changes to the API or functionality can happen at any moment.\n",
            "  warnings.warn('Lazy modules are a new feature under heavy development '\n"
          ]
        },
        {
          "data": {
            "text/plain": [
              "tensor([[-0.1048],\n",
              "        [-0.1122]], grad_fn=<AddmmBackward0>)"
            ]
          },
          "execution_count": 20,
          "metadata": {},
          "output_type": "execute_result"
        }
      ],
      "source": [
        "shared = nn.LazyLinear(8)\n",
        "net = nn.Sequential(nn.LazyLinear(8), nn.ReLU(),\n",
        "                    shared, nn.ReLU(),\n",
        "                    shared, nn.ReLU(),\n",
        "                    nn.LazyLinear(1))\n",
        "\n",
        "net(X)"
      ]
    },
    {
      "cell_type": "code",
      "execution_count": null,
      "metadata": {
        "colab": {
          "base_uri": "https://localhost:8080/"
        },
        "id": "7Encbu7e7a0M",
        "outputId": "2b5fd1d5-7d33-4aac-f4a3-1218fa377611"
      },
      "outputs": [
        {
          "data": {
            "text/plain": [
              "tensor([[True, True, True, True, True, True, True, True],\n",
              "        [True, True, True, True, True, True, True, True],\n",
              "        [True, True, True, True, True, True, True, True],\n",
              "        [True, True, True, True, True, True, True, True],\n",
              "        [True, True, True, True, True, True, True, True],\n",
              "        [True, True, True, True, True, True, True, True],\n",
              "        [True, True, True, True, True, True, True, True],\n",
              "        [True, True, True, True, True, True, True, True]])"
            ]
          },
          "execution_count": 25,
          "metadata": {},
          "output_type": "execute_result"
        }
      ],
      "source": [
        "net[2].weight.data == net[4].weight.data"
      ]
    },
    {
      "cell_type": "code",
      "execution_count": null,
      "metadata": {
        "colab": {
          "base_uri": "https://localhost:8080/"
        },
        "id": "RSJZBU1D7knp",
        "outputId": "f3a12a96-ad0d-497d-f40c-848afd2c8091"
      },
      "outputs": [
        {
          "data": {
            "text/plain": [
              "tensor([[ 1.0000e+02,  1.5629e-01,  1.7371e-01,  1.7948e-01, -1.9413e-01,\n",
              "         -1.3633e-02,  2.3916e-01,  1.8275e-01],\n",
              "        [ 5.8688e-02, -1.6743e-01, -3.2194e-01, -8.2838e-02, -3.3113e-01,\n",
              "          5.2319e-02,  2.3076e-01, -3.1964e-02],\n",
              "        [ 9.7246e-02,  1.8917e-02, -1.7082e-02,  2.7821e-01,  4.8336e-02,\n",
              "          3.2752e-01, -2.2913e-01, -2.1909e-01],\n",
              "        [-2.6832e-01, -1.2131e-01,  6.6699e-03,  1.1712e-01, -2.3786e-01,\n",
              "         -3.0982e-01,  2.2601e-01, -8.9856e-02],\n",
              "        [ 3.1830e-01,  3.0981e-01, -1.6538e-01, -8.9604e-02, -2.7544e-01,\n",
              "          1.1462e-01, -1.6542e-01, -1.8158e-01],\n",
              "        [ 2.3907e-01, -2.1194e-03, -4.5691e-02, -2.1805e-01,  1.0747e-01,\n",
              "          2.1401e-02, -1.9279e-01, -2.5022e-01],\n",
              "        [ 2.0308e-01,  9.6534e-03, -2.0628e-01,  2.6295e-01,  1.9924e-01,\n",
              "          7.6789e-03,  7.1431e-02,  1.8370e-01],\n",
              "        [ 1.8169e-01,  1.3398e-02,  1.8428e-02,  2.3559e-01, -1.1444e-01,\n",
              "         -1.1785e-02, -8.2226e-02,  8.4677e-02]])"
            ]
          },
          "execution_count": 27,
          "metadata": {},
          "output_type": "execute_result"
        }
      ],
      "source": [
        "net[2].weight.data[0, 0] = 100\n",
        "net[2].weight.data"
      ]
    },
    {
      "cell_type": "code",
      "execution_count": null,
      "metadata": {
        "colab": {
          "base_uri": "https://localhost:8080/"
        },
        "id": "Xl_avb9-75m_",
        "outputId": "150e464f-bcf8-45db-ae23-82ff6b61ad5a"
      },
      "outputs": [
        {
          "name": "stdout",
          "output_type": "stream",
          "text": [
            "tensor([True, True, True, True, True, True, True, True])\n"
          ]
        }
      ],
      "source": [
        "print(net[2].weight.data[0] == net[4].weight.data[0]) # thus the wights of the 2nd and 3rd layer are connected"
      ]
    },
    {
      "cell_type": "markdown",
      "metadata": {
        "id": "p2gN9U6Z8bTg"
      },
      "source": [
        "## Ex 6.2"
      ]
    },
    {
      "cell_type": "markdown",
      "metadata": {
        "id": "nkLKqZPg8dXj"
      },
      "source": [
        "### Q1:"
      ]
    },
    {
      "cell_type": "code",
      "execution_count": null,
      "metadata": {
        "id": "Z3tn3FgU8Cwj"
      },
      "outputs": [],
      "source": [
        "class NestMLP(nn.Module):\n",
        "\n",
        "  def __init__(self):\n",
        "    super().__init__()\n",
        "    self.net = nn.Sequential(nn.LazyLinear(64), nn.ReLU(),\n",
        "                             nn.LazyLinear(32), nn.ReLU())\n",
        "    self.linear = nn.LazyLinear(16)\n",
        "\n",
        "  def forward(self, X):\n",
        "    return self.linear(self.net(X))"
      ]
    },
    {
      "cell_type": "code",
      "execution_count": null,
      "metadata": {
        "colab": {
          "base_uri": "https://localhost:8080/"
        },
        "id": "hwfMMqvp9JhA",
        "outputId": "8f6cac12-40c1-4de6-ad66-70159494040b"
      },
      "outputs": [
        {
          "name": "stderr",
          "output_type": "stream",
          "text": [
            "/usr/local/lib/python3.8/dist-packages/torch/nn/modules/lazy.py:180: UserWarning: Lazy modules are a new feature under heavy development so changes to the API or functionality can happen at any moment.\n",
            "  warnings.warn('Lazy modules are a new feature under heavy development '\n"
          ]
        },
        {
          "data": {
            "text/plain": [
              "torch.Size([2, 16])"
            ]
          },
          "execution_count": 33,
          "metadata": {},
          "output_type": "execute_result"
        }
      ],
      "source": [
        "net = NestMLP()\n",
        "X = torch.randn(2, 10)\n",
        "net(X).shape"
      ]
    },
    {
      "cell_type": "code",
      "execution_count": null,
      "metadata": {
        "colab": {
          "base_uri": "https://localhost:8080/"
        },
        "id": "OBF6h8Rx9iM6",
        "outputId": "7d064865-4740-4509-999d-2ad91ff947d7"
      },
      "outputs": [
        {
          "data": {
            "text/plain": [
              "(torch.Size([64]), torch.Size([64, 10]))"
            ]
          },
          "execution_count": 42,
          "metadata": {},
          "output_type": "execute_result"
        }
      ],
      "source": [
        "  net.net[0].bias.data.shape, net.net[0].weight.data.shape"
      ]
    },
    {
      "cell_type": "code",
      "execution_count": null,
      "metadata": {
        "id": "q2aIaxMe9lj4"
      },
      "outputs": [],
      "source": [
        "[(name, param) for name, param in net.net.named_parameters()]"
      ]
    },
    {
      "cell_type": "code",
      "execution_count": null,
      "metadata": {
        "id": "WNMCdoMv-YwQ"
      },
      "outputs": [],
      "source": [
        "net.linear.bias.data, net.linear.weight.data"
      ]
    },
    {
      "cell_type": "markdown",
      "metadata": {
        "id": "6W34Kw8s-kUz"
      },
      "source": [
        "### Q2:"
      ]
    },
    {
      "cell_type": "code",
      "execution_count": null,
      "metadata": {
        "id": "folrYJgk-bZY"
      },
      "outputs": [],
      "source": [
        "class MLP(nn.Module):\n",
        "\n",
        "  def __init__(self):\n",
        "    super().__init__()\n",
        "    shared = nn.LazyLinear(2)\n",
        "    self.net = nn.Sequential(nn.LazyLinear(2), nn.ReLU(),\n",
        "                             shared, nn.ReLU(),\n",
        "                             shared, nn.ReLU(),\n",
        "                             nn.LazyLinear(1))\n",
        "    self.lr = 0.01\n",
        "    \n",
        "  def forward(self, X):\n",
        "    return self.net(X)"
      ]
    },
    {
      "cell_type": "code",
      "execution_count": null,
      "metadata": {
        "id": "D1Gusby5_B9y"
      },
      "outputs": [],
      "source": [
        "# data : \n",
        "X = torch.randn(1000, 1)\n",
        "y = torch.randn(1000, 1)"
      ]
    },
    {
      "cell_type": "code",
      "execution_count": null,
      "metadata": {
        "id": "A1AFgh-l_JjQ"
      },
      "outputs": [],
      "source": [
        "model = MLP()\n",
        "optimizer = torch.optim.SGD(model.parameters(), model.lr)\n",
        "crit = nn.MSELoss()"
      ]
    },
    {
      "cell_type": "code",
      "execution_count": null,
      "metadata": {
        "colab": {
          "base_uri": "https://localhost:8080/"
        },
        "id": "EBNCOSXs_RDo",
        "outputId": "bb5bfc00-9b72-4425-e749-28fab33be853"
      },
      "outputs": [
        {
          "name": "stdout",
          "output_type": "stream",
          "text": [
            "[('0.weight', Parameter containing:\n",
            "tensor([[-0.2698],\n",
            "        [ 0.1232]], requires_grad=True), tensor([[-4.3865e-03],\n",
            "        [ 5.5687e-06]])), ('0.bias', Parameter containing:\n",
            "tensor([ 0.6958, -0.2922], requires_grad=True), tensor([2.3329e-02, 3.6950e-06])), ('2.weight', Parameter containing:\n",
            "tensor([[0.2833, 0.4397],\n",
            "        [0.1358, 0.0921]], requires_grad=True), tensor([[0.0416, 0.0298],\n",
            "        [0.0636, 0.1738]])), ('2.bias', Parameter containing:\n",
            "tensor([-0.1647,  0.3205], requires_grad=True), tensor([0.1192, 0.4894])), ('6.weight', Parameter containing:\n",
            "tensor([[0.0951, 0.5130]], requires_grad=True), tensor([[0.0248, 0.3001]])), ('6.bias', Parameter containing:\n",
            "tensor([0.2322], requires_grad=True), tensor([0.8119]))]\n",
            "epoch : 1/2, loss = 1.1381\n",
            "[('0.weight', Parameter containing:\n",
            "tensor([[-0.2698],\n",
            "        [ 0.1232]], requires_grad=True), tensor([[-4.3442e-03],\n",
            "        [ 3.4269e-06]])), ('0.bias', Parameter containing:\n",
            "tensor([ 0.6956, -0.2922], requires_grad=True), tensor([2.1876e-02, 2.7940e-06])), ('2.weight', Parameter containing:\n",
            "tensor([[0.2829, 0.4394],\n",
            "        [0.1352, 0.0904]], requires_grad=True), tensor([[0.0392, 0.0275],\n",
            "        [0.0598, 0.1651]])), ('2.bias', Parameter containing:\n",
            "tensor([-0.1658,  0.3158], requires_grad=True), tensor([0.1116, 0.4695])), ('6.weight', Parameter containing:\n",
            "tensor([[0.0949, 0.5101]], requires_grad=True), tensor([[0.0211, 0.2856]])), ('6.bias', Parameter containing:\n",
            "tensor([0.2243], requires_grad=True), tensor([0.7863]))]\n",
            "epoch : 2/2, loss = 1.1278\n"
          ]
        }
      ],
      "source": [
        "max_epochs = 2\n",
        "\n",
        "for epoch in range(max_epochs):\n",
        "\n",
        "  # forward pass : y_hat and loss\n",
        "  y_hat = model(X)\n",
        "  loss = crit(y_hat, y)\n",
        "\n",
        "  # backward pass : gradient\n",
        "  loss.backward()\n",
        "\n",
        "  # update the params \n",
        "  optimizer.step()\n",
        "\n",
        "  # want to see the parameters and gradients and the end of each epoch for each layer\n",
        "  print([(name, param, param.grad) for name, param in model.net.named_parameters()])\n",
        "\n",
        "  # zero the grad\n",
        "  optimizer.zero_grad()\n",
        "\n",
        "  print(f\"epoch : {epoch+1}/{max_epochs}, loss = {loss.item():.4f}\")"
      ]
    },
    {
      "cell_type": "markdown",
      "metadata": {
        "id": "S4NLPDUuhN-H"
      },
      "source": [
        "# 6.3 : Parameter Initialization"
      ]
    },
    {
      "cell_type": "code",
      "execution_count": null,
      "metadata": {
        "id": "1YSfpPphhQuE"
      },
      "outputs": [],
      "source": [
        "import torch\n",
        "from torch import nn"
      ]
    },
    {
      "cell_type": "code",
      "execution_count": null,
      "metadata": {
        "colab": {
          "base_uri": "https://localhost:8080/"
        },
        "id": "AGkyJKCnhdJq",
        "outputId": "cae7ec67-f082-4641-cf1b-c9bcb7095cb2"
      },
      "outputs": [
        {
          "name": "stderr",
          "output_type": "stream",
          "text": [
            "/usr/local/lib/python3.8/dist-packages/torch/nn/modules/lazy.py:180: UserWarning: Lazy modules are a new feature under heavy development so changes to the API or functionality can happen at any moment.\n",
            "  warnings.warn('Lazy modules are a new feature under heavy development '\n"
          ]
        },
        {
          "data": {
            "text/plain": [
              "tensor([[-0.2939],\n",
              "        [-0.0141]], grad_fn=<AddmmBackward0>)"
            ]
          },
          "execution_count": 2,
          "metadata": {},
          "output_type": "execute_result"
        }
      ],
      "source": [
        "net = nn.Sequential(nn.LazyLinear(8), nn.ReLU(), nn.LazyLinear(1))\n",
        "X = torch.randn(2, 4)\n",
        "net(X)"
      ]
    },
    {
      "cell_type": "code",
      "execution_count": null,
      "metadata": {
        "colab": {
          "base_uri": "https://localhost:8080/"
        },
        "id": "OCwLDUuFh97V",
        "outputId": "a26e1cfb-83ce-475e-fad6-0f838f3b9403"
      },
      "outputs": [
        {
          "data": {
            "text/plain": [
              "True"
            ]
          },
          "execution_count": 5,
          "metadata": {},
          "output_type": "execute_result"
        }
      ],
      "source": [
        "type(net[0]) == nn.Linear"
      ]
    },
    {
      "cell_type": "code",
      "execution_count": null,
      "metadata": {
        "id": "HaMJljXniOjb"
      },
      "outputs": [],
      "source": [
        "nn.init??"
      ]
    },
    {
      "cell_type": "code",
      "execution_count": null,
      "metadata": {
        "colab": {
          "base_uri": "https://localhost:8080/"
        },
        "id": "vM8YUPjTif9l",
        "outputId": "57ae6b4a-cfc1-4a0f-94cb-345b8677c36c"
      },
      "outputs": [
        {
          "data": {
            "text/plain": [
              "Parameter containing:\n",
              "tensor([[-0.3658,  0.0247, -0.4847, -0.4327],\n",
              "        [-0.3415, -0.0106, -0.4513, -0.0614],\n",
              "        [-0.4063,  0.3049, -0.2068, -0.1867],\n",
              "        [ 0.3966, -0.2243,  0.3046,  0.0192],\n",
              "        [-0.3275, -0.3273,  0.2287, -0.0601],\n",
              "        [-0.0366,  0.4873, -0.0008,  0.2754],\n",
              "        [ 0.3241,  0.4014, -0.2576,  0.3616],\n",
              "        [ 0.3505,  0.2367, -0.3790,  0.0182]], requires_grad=True)"
            ]
          },
          "execution_count": 7,
          "metadata": {},
          "output_type": "execute_result"
        }
      ],
      "source": [
        "net[0].weight"
      ]
    },
    {
      "cell_type": "code",
      "execution_count": null,
      "metadata": {
        "id": "GbEDl_wehpWt"
      },
      "outputs": [],
      "source": [
        "def init_normal(module):\n",
        "  if type(module) == nn.Linear:\n",
        "    nn.init.normal_(module.weight, mean=0.0, std=0.01)\n",
        "    nn.init.zeros_(module.bias)"
      ]
    },
    {
      "cell_type": "code",
      "execution_count": null,
      "metadata": {
        "colab": {
          "base_uri": "https://localhost:8080/"
        },
        "id": "kIH7D4tOiqHk",
        "outputId": "d6c27176-7a93-4bd1-f059-f81ecfe63327"
      },
      "outputs": [
        {
          "data": {
            "text/plain": [
              "Sequential(\n",
              "  (0): Linear(in_features=4, out_features=8, bias=True)\n",
              "  (1): ReLU()\n",
              "  (2): Linear(in_features=8, out_features=1, bias=True)\n",
              ")"
            ]
          },
          "execution_count": 9,
          "metadata": {},
          "output_type": "execute_result"
        }
      ],
      "source": [
        "net.apply(init_normal)"
      ]
    },
    {
      "cell_type": "code",
      "execution_count": null,
      "metadata": {
        "colab": {
          "base_uri": "https://localhost:8080/"
        },
        "id": "drWbtBjqis09",
        "outputId": "f3757008-0527-4d04-c830-4cf16aedde37"
      },
      "outputs": [
        {
          "data": {
            "text/plain": [
              "tensor([-0.0023,  0.0037, -0.0031,  0.0035])"
            ]
          },
          "execution_count": 11,
          "metadata": {},
          "output_type": "execute_result"
        }
      ],
      "source": [
        "net[0].weight.data[0]"
      ]
    },
    {
      "cell_type": "code",
      "execution_count": null,
      "metadata": {
        "colab": {
          "base_uri": "https://localhost:8080/"
        },
        "id": "MZWR8PPNiwMd",
        "outputId": "785f9a4b-8f68-4bd9-c10f-6cab596ffa16"
      },
      "outputs": [
        {
          "data": {
            "text/plain": [
              "(tensor(0.0109), tensor(-0.0004))"
            ]
          },
          "execution_count": 14,
          "metadata": {},
          "output_type": "execute_result"
        }
      ],
      "source": [
        "net[0].weight.data.std(), net[0].weight.data.mean()"
      ]
    },
    {
      "cell_type": "code",
      "execution_count": null,
      "metadata": {
        "colab": {
          "base_uri": "https://localhost:8080/"
        },
        "id": "JTd7l-oKi-gV",
        "outputId": "17fc8b8c-7b28-47db-c865-df17426a67a7"
      },
      "outputs": [
        {
          "data": {
            "text/plain": [
              "tensor([0., 0., 0., 0., 0., 0., 0., 0.])"
            ]
          },
          "execution_count": 15,
          "metadata": {},
          "output_type": "execute_result"
        }
      ],
      "source": [
        "net[0].bias.data"
      ]
    },
    {
      "cell_type": "code",
      "execution_count": null,
      "metadata": {
        "id": "T38bPMYPjIPh"
      },
      "outputs": [],
      "source": [
        "def init_constant(module):\n",
        "  if type(module) == nn.Linear:\n",
        "    nn.init.constant_(module.weight, 1)\n",
        "    nn.init.zeros_(module.bias)"
      ]
    },
    {
      "cell_type": "code",
      "execution_count": null,
      "metadata": {
        "colab": {
          "base_uri": "https://localhost:8080/"
        },
        "id": "-YYqUD-XjaGD",
        "outputId": "98e61820-b916-465b-d4be-95a2b14fa29b"
      },
      "outputs": [
        {
          "data": {
            "text/plain": [
              "Sequential(\n",
              "  (0): Linear(in_features=4, out_features=8, bias=True)\n",
              "  (1): ReLU()\n",
              "  (2): Linear(in_features=8, out_features=1, bias=True)\n",
              ")"
            ]
          },
          "execution_count": 17,
          "metadata": {},
          "output_type": "execute_result"
        }
      ],
      "source": [
        "net.apply(init_constant)"
      ]
    },
    {
      "cell_type": "code",
      "execution_count": null,
      "metadata": {
        "colab": {
          "base_uri": "https://localhost:8080/"
        },
        "id": "Gfg2Gz5Pjclz",
        "outputId": "9a130894-ab21-40a9-e249-9b7ec385e238"
      },
      "outputs": [
        {
          "data": {
            "text/plain": [
              "(tensor([[1., 1., 1., 1.],\n",
              "         [1., 1., 1., 1.],\n",
              "         [1., 1., 1., 1.],\n",
              "         [1., 1., 1., 1.],\n",
              "         [1., 1., 1., 1.],\n",
              "         [1., 1., 1., 1.],\n",
              "         [1., 1., 1., 1.],\n",
              "         [1., 1., 1., 1.]]), tensor([0., 0., 0., 0., 0., 0., 0., 0.]))"
            ]
          },
          "execution_count": 21,
          "metadata": {},
          "output_type": "execute_result"
        }
      ],
      "source": [
        "net[0].weight.data, net[0].bias.data"
      ]
    },
    {
      "cell_type": "code",
      "execution_count": null,
      "metadata": {
        "id": "bgeC7LFnjfS6"
      },
      "outputs": [],
      "source": [
        "# Xavier initialization\n",
        "\n",
        "def init_xavier(module):\n",
        "  if type(module) == nn.Linear:\n",
        "    nn.init.xavier_uniform_(module.weight)"
      ]
    },
    {
      "cell_type": "code",
      "execution_count": null,
      "metadata": {
        "id": "9YmMg6jFkuYj"
      },
      "outputs": [],
      "source": [
        "def init_42(module):\n",
        "  if type(module) == nn.Linear:\n",
        "    nn.init.constant_(module.weight, 42)"
      ]
    },
    {
      "cell_type": "code",
      "execution_count": null,
      "metadata": {
        "colab": {
          "base_uri": "https://localhost:8080/"
        },
        "id": "QYn25o-ElKs2",
        "outputId": "e84e81fd-487b-4b16-bed4-0f04856edf36"
      },
      "outputs": [
        {
          "data": {
            "text/plain": [
              "Linear(in_features=4, out_features=8, bias=True)"
            ]
          },
          "execution_count": 26,
          "metadata": {},
          "output_type": "execute_result"
        }
      ],
      "source": [
        "net[0]"
      ]
    },
    {
      "cell_type": "code",
      "execution_count": null,
      "metadata": {
        "colab": {
          "base_uri": "https://localhost:8080/"
        },
        "id": "kj34rugwk2hZ",
        "outputId": "dfd5264f-f62b-4c80-8012-637773fc479c"
      },
      "outputs": [
        {
          "data": {
            "text/plain": [
              "Linear(in_features=8, out_features=1, bias=True)"
            ]
          },
          "execution_count": 24,
          "metadata": {},
          "output_type": "execute_result"
        }
      ],
      "source": [
        "net[0].apply(init_xavier)\n",
        "net[2].apply(init_42)"
      ]
    },
    {
      "cell_type": "code",
      "execution_count": null,
      "metadata": {
        "colab": {
          "base_uri": "https://localhost:8080/"
        },
        "id": "eejfwCDLlBbI",
        "outputId": "86b35fc2-6774-484c-e775-f7d12d06be07"
      },
      "outputs": [
        {
          "name": "stdout",
          "output_type": "stream",
          "text": [
            "tensor([-0.5619, -0.2062,  0.6404, -0.3916])\n",
            "tensor(0.0389) tensor(0.3548)\n"
          ]
        }
      ],
      "source": [
        "print(net[0].weight.data[0])\n",
        "print(net[0].weight.data.mean(), net[0].weight.data.std())"
      ]
    },
    {
      "cell_type": "code",
      "execution_count": null,
      "metadata": {
        "id": "3C2pS_t8mqTq"
      },
      "outputs": [],
      "source": [
        "a = nn.Linear(2, 1)"
      ]
    },
    {
      "cell_type": "code",
      "execution_count": null,
      "metadata": {
        "colab": {
          "base_uri": "https://localhost:8080/"
        },
        "id": "L0o9cvwKmvRl",
        "outputId": "295e9fa0-20e5-41c9-a69b-7095d9152c98"
      },
      "outputs": [
        {
          "name": "stdout",
          "output_type": "stream",
          "text": [
            "weight torch.Size([1, 2])\n"
          ]
        }
      ],
      "source": [
        "print(*[(name, param.shape) for name, param in a.named_parameters()][0])"
      ]
    },
    {
      "cell_type": "code",
      "execution_count": null,
      "metadata": {
        "id": "Mfjp3g79pkhJ"
      },
      "outputs": [],
      "source": [
        "nn.init.uniform_??"
      ]
    },
    {
      "cell_type": "code",
      "execution_count": null,
      "metadata": {
        "id": "s07-DHSMlGVd"
      },
      "outputs": [],
      "source": [
        "# custom init\n",
        "\n",
        "def my_init(module):\n",
        "  if type(module) == nn.Linear:\n",
        "    print(\"Init \", *[(name, param.shape) for name, param in module.named_parameters()][0])\n",
        "    nn.init.uniform_(module.weight, -10, 10)\n",
        "    module.weight.data *= module.weight.data.abs() >= 5"
      ]
    },
    {
      "cell_type": "code",
      "execution_count": null,
      "metadata": {
        "colab": {
          "base_uri": "https://localhost:8080/"
        },
        "id": "Uu2NOSyBqJON",
        "outputId": "44bf8dff-d433-461c-f0e0-69bc0eb60d69"
      },
      "outputs": [
        {
          "name": "stdout",
          "output_type": "stream",
          "text": [
            "Init  weight torch.Size([8, 4])\n",
            "Init  weight torch.Size([1, 8])\n"
          ]
        },
        {
          "data": {
            "text/plain": [
              "Sequential(\n",
              "  (0): Linear(in_features=4, out_features=8, bias=True)\n",
              "  (1): ReLU()\n",
              "  (2): Linear(in_features=8, out_features=1, bias=True)\n",
              ")"
            ]
          },
          "execution_count": 41,
          "metadata": {},
          "output_type": "execute_result"
        }
      ],
      "source": [
        "net.apply(my_init)"
      ]
    },
    {
      "cell_type": "code",
      "execution_count": null,
      "metadata": {
        "colab": {
          "base_uri": "https://localhost:8080/"
        },
        "id": "zMpnlWw4qLyc",
        "outputId": "813147ec-b045-463f-a76f-037ef7f576fb"
      },
      "outputs": [
        {
          "data": {
            "text/plain": [
              "tensor([[-5.9242, -0.0000,  0.0000, -0.0000],\n",
              "        [-6.2601,  0.0000, -8.9792, -6.1125],\n",
              "        [ 5.1667,  0.0000, -8.6108, -9.5067],\n",
              "        [-5.3649, -0.0000, -0.0000,  0.0000],\n",
              "        [ 0.0000, -0.0000, -0.0000, -0.0000],\n",
              "        [ 6.0985,  0.0000, -0.0000, -0.0000],\n",
              "        [ 0.0000, -0.0000,  0.0000,  0.0000],\n",
              "        [-0.0000,  8.2776, -9.4722,  0.0000]])"
            ]
          },
          "execution_count": 42,
          "metadata": {},
          "output_type": "execute_result"
        }
      ],
      "source": [
        "net[0].weight.data"
      ]
    },
    {
      "cell_type": "code",
      "execution_count": null,
      "metadata": {
        "colab": {
          "base_uri": "https://localhost:8080/"
        },
        "id": "W-HtRYcbqOyH",
        "outputId": "1c1eb9b0-5c6a-4b6d-9db2-2e7008937542"
      },
      "outputs": [
        {
          "data": {
            "text/plain": [
              "tensor([[-4.9242,  1.0000,  1.0000,  1.0000],\n",
              "        [-5.2601,  1.0000, -7.9792, -5.1125],\n",
              "        [ 6.1667,  1.0000, -7.6108, -8.5067],\n",
              "        [-4.3649,  1.0000,  1.0000,  1.0000],\n",
              "        [ 1.0000,  1.0000,  1.0000,  1.0000],\n",
              "        [ 7.0985,  1.0000,  1.0000,  1.0000],\n",
              "        [ 1.0000,  1.0000,  1.0000,  1.0000],\n",
              "        [ 1.0000,  9.2776, -8.4722,  1.0000]])"
            ]
          },
          "execution_count": 43,
          "metadata": {},
          "output_type": "execute_result"
        }
      ],
      "source": [
        "net[0].weight.data[:] += 1\n",
        "net[0].weight.data"
      ]
    },
    {
      "cell_type": "code",
      "execution_count": null,
      "metadata": {
        "colab": {
          "base_uri": "https://localhost:8080/"
        },
        "id": "d1nsnh2eqZ-L",
        "outputId": "5471a6f9-abda-4606-d04c-b78948a78ceb"
      },
      "outputs": [
        {
          "name": "stdout",
          "output_type": "stream",
          "text": [
            "tensor([42.,  1.,  1.,  1.])\n"
          ]
        }
      ],
      "source": [
        "net[0].weight.data[0, 0] = 42\n",
        "print(net[0].weight.data[0])"
      ]
    },
    {
      "cell_type": "markdown",
      "metadata": {
        "id": "PUjRUyksrHaS"
      },
      "source": [
        "# 6.4 : Lazy Initialization"
      ]
    },
    {
      "cell_type": "code",
      "execution_count": null,
      "metadata": {
        "id": "QeA7cryArRYj"
      },
      "outputs": [],
      "source": [
        "!pip install matplotlib_inline\n",
        "!pip install --upgrade d2l==1.0.0a0"
      ]
    },
    {
      "cell_type": "code",
      "execution_count": null,
      "metadata": {
        "colab": {
          "base_uri": "https://localhost:8080/"
        },
        "id": "49urNKJSqfrP",
        "outputId": "8ec4351b-c9e6-4da6-8042-e70f77e55109"
      },
      "outputs": [
        {
          "name": "stderr",
          "output_type": "stream",
          "text": [
            "/usr/local/lib/python3.8/dist-packages/torch/cuda/__init__.py:497: UserWarning: Can't initialize NVML\n",
            "  warnings.warn(\"Can't initialize NVML\")\n"
          ]
        }
      ],
      "source": [
        "import torch \n",
        "from torch import nn\n",
        "from d2l import torch as d2l"
      ]
    },
    {
      "cell_type": "code",
      "execution_count": null,
      "metadata": {
        "colab": {
          "base_uri": "https://localhost:8080/"
        },
        "id": "Yx9dDCv4rgp5",
        "outputId": "4a69d51a-ddd8-4f56-c023-314c8d69b4f5"
      },
      "outputs": [
        {
          "name": "stderr",
          "output_type": "stream",
          "text": [
            "/usr/local/lib/python3.8/dist-packages/torch/nn/modules/lazy.py:180: UserWarning: Lazy modules are a new feature under heavy development so changes to the API or functionality can happen at any moment.\n",
            "  warnings.warn('Lazy modules are a new feature under heavy development '\n"
          ]
        }
      ],
      "source": [
        "net = nn.Sequential(nn.LazyLinear(256), nn.ReLU(), nn.LazyLinear(10))"
      ]
    },
    {
      "cell_type": "code",
      "execution_count": null,
      "metadata": {
        "colab": {
          "base_uri": "https://localhost:8080/"
        },
        "id": "rnbJx8cBrpKj",
        "outputId": "caae7458-1d73-4c1e-e5f2-f0c97d9a304f"
      },
      "outputs": [
        {
          "data": {
            "text/plain": [
              "(<UninitializedParameter>, <UninitializedParameter>)"
            ]
          },
          "execution_count": 51,
          "metadata": {},
          "output_type": "execute_result"
        }
      ],
      "source": [
        "net[0].weight, net[0].bias"
      ]
    },
    {
      "cell_type": "code",
      "execution_count": null,
      "metadata": {
        "colab": {
          "base_uri": "https://localhost:8080/"
        },
        "id": "wBW4dK34rtSq",
        "outputId": "bc2db5ab-1d2f-46fb-f564-19d51d3774a7"
      },
      "outputs": [
        {
          "data": {
            "text/plain": [
              "(<UninitializedParameter>, <UninitializedParameter>)"
            ]
          },
          "execution_count": 50,
          "metadata": {},
          "output_type": "execute_result"
        }
      ],
      "source": [
        "net[2].weight, net[2].bias"
      ]
    },
    {
      "cell_type": "code",
      "execution_count": null,
      "metadata": {
        "colab": {
          "base_uri": "https://localhost:8080/"
        },
        "id": "yzg6dp_HrvSs",
        "outputId": "a55db07f-abc9-42cd-91f9-536ca45e0769"
      },
      "outputs": [
        {
          "data": {
            "text/plain": [
              "tensor([[ 0.0496,  0.0038,  0.2014, -0.2408,  0.2404,  0.0910,  0.0797,  0.1881,\n",
              "          0.3260, -0.0411],\n",
              "        [ 0.0582, -0.2042,  0.1336,  0.3856,  0.0877,  0.0228,  0.0095,  0.2333,\n",
              "          0.2788,  0.1618]], grad_fn=<AddmmBackward0>)"
            ]
          },
          "execution_count": 52,
          "metadata": {},
          "output_type": "execute_result"
        }
      ],
      "source": [
        "X = torch.randn(2, 20)\n",
        "net(X)"
      ]
    },
    {
      "cell_type": "code",
      "execution_count": null,
      "metadata": {
        "colab": {
          "base_uri": "https://localhost:8080/"
        },
        "id": "dBLusHZ9s8Gy",
        "outputId": "df9bb24f-02d2-48e4-df2b-0b1192651f1f"
      },
      "outputs": [
        {
          "data": {
            "text/plain": [
              "[('0.weight', torch.Size([256, 20])),\n",
              " ('0.bias', torch.Size([256])),\n",
              " ('2.weight', torch.Size([10, 256])),\n",
              " ('2.bias', torch.Size([10]))]"
            ]
          },
          "execution_count": 53,
          "metadata": {},
          "output_type": "execute_result"
        }
      ],
      "source": [
        "[(name, param.shape) for name, param in net.named_parameters()]"
      ]
    },
    {
      "cell_type": "code",
      "execution_count": null,
      "metadata": {
        "id": "cqaVa2zitDo4"
      },
      "outputs": [],
      "source": [
        "@d2l.add_to_class(d2l.DataModule)\n",
        "def apply_init(self, inputs, init=None):\n",
        "  self.forward(inputs)\n",
        "  if init is not None:\n",
        "    self.net.apply(init)"
      ]
    },
    {
      "cell_type": "markdown",
      "metadata": {
        "id": "-YUUtEydt7aZ"
      },
      "source": [
        "## Ex 6.4:"
      ]
    },
    {
      "cell_type": "markdown",
      "metadata": {
        "id": "snl8w4x2t-J_"
      },
      "source": [
        "### Q1: \n",
        "- we don't get immediate initialization"
      ]
    },
    {
      "cell_type": "code",
      "execution_count": null,
      "metadata": {
        "colab": {
          "base_uri": "https://localhost:8080/"
        },
        "id": "xOA0o94etusI",
        "outputId": "c780e1fb-e08d-43eb-f3c6-85215c2c1bed"
      },
      "outputs": [
        {
          "name": "stderr",
          "output_type": "stream",
          "text": [
            "/usr/local/lib/python3.8/dist-packages/torch/nn/modules/lazy.py:180: UserWarning: Lazy modules are a new feature under heavy development so changes to the API or functionality can happen at any moment.\n",
            "  warnings.warn('Lazy modules are a new feature under heavy development '\n"
          ]
        }
      ],
      "source": [
        "net = nn.Sequential(nn.Linear(4, 2), nn.ReLU(), nn.LazyLinear(6), nn.ReLU(), nn.LazyLinear(1))"
      ]
    },
    {
      "cell_type": "code",
      "execution_count": null,
      "metadata": {
        "colab": {
          "base_uri": "https://localhost:8080/",
          "height": 395
        },
        "id": "qBbwCsDSuevp",
        "outputId": "90cad67e-6b13-49d6-a803-2c1533ece84e"
      },
      "outputs": [
        {
          "name": "stderr",
          "output_type": "stream",
          "text": [
            "/usr/local/lib/python3.8/dist-packages/torch/nn/modules/lazy.py:180: UserWarning: Lazy modules are a new feature under heavy development so changes to the API or functionality can happen at any moment.\n",
            "  warnings.warn('Lazy modules are a new feature under heavy development '\n"
          ]
        },
        {
          "ename": "RuntimeError",
          "evalue": "ignored",
          "output_type": "error",
          "traceback": [
            "\u001b[0;31m---------------------------------------------------------------------------\u001b[0m",
            "\u001b[0;31mRuntimeError\u001b[0m                              Traceback (most recent call last)",
            "\u001b[0;32m<ipython-input-58-ebedcdf48557>\u001b[0m in \u001b[0;36m<module>\u001b[0;34m\u001b[0m\n\u001b[1;32m      1\u001b[0m \u001b[0mnet2\u001b[0m \u001b[0;34m=\u001b[0m \u001b[0mnn\u001b[0m\u001b[0;34m.\u001b[0m\u001b[0mSequential\u001b[0m\u001b[0;34m(\u001b[0m\u001b[0mnn\u001b[0m\u001b[0;34m.\u001b[0m\u001b[0mLinear\u001b[0m\u001b[0;34m(\u001b[0m\u001b[0;36m4\u001b[0m\u001b[0;34m,\u001b[0m \u001b[0;36m2\u001b[0m\u001b[0;34m)\u001b[0m\u001b[0;34m,\u001b[0m \u001b[0mnn\u001b[0m\u001b[0;34m.\u001b[0m\u001b[0mReLU\u001b[0m\u001b[0;34m(\u001b[0m\u001b[0;34m)\u001b[0m\u001b[0;34m,\u001b[0m \u001b[0mnn\u001b[0m\u001b[0;34m.\u001b[0m\u001b[0mLazyLinear\u001b[0m\u001b[0;34m(\u001b[0m\u001b[0;36m6\u001b[0m\u001b[0;34m)\u001b[0m\u001b[0;34m,\u001b[0m \u001b[0mnn\u001b[0m\u001b[0;34m.\u001b[0m\u001b[0mReLU\u001b[0m\u001b[0;34m(\u001b[0m\u001b[0;34m)\u001b[0m\u001b[0;34m,\u001b[0m \u001b[0mnn\u001b[0m\u001b[0;34m.\u001b[0m\u001b[0mLazyLinear\u001b[0m\u001b[0;34m(\u001b[0m\u001b[0;36m1\u001b[0m\u001b[0;34m)\u001b[0m\u001b[0;34m)\u001b[0m\u001b[0;34m\u001b[0m\u001b[0;34m\u001b[0m\u001b[0m\n\u001b[0;32m----> 2\u001b[0;31m \u001b[0;34m[\u001b[0m\u001b[0;34m(\u001b[0m\u001b[0mname\u001b[0m\u001b[0;34m,\u001b[0m \u001b[0mparam\u001b[0m\u001b[0;34m.\u001b[0m\u001b[0mshape\u001b[0m\u001b[0;34m)\u001b[0m \u001b[0;32mfor\u001b[0m \u001b[0mname\u001b[0m\u001b[0;34m,\u001b[0m \u001b[0mparam\u001b[0m \u001b[0;32min\u001b[0m \u001b[0mnet2\u001b[0m\u001b[0;34m.\u001b[0m\u001b[0mnamed_parameters\u001b[0m\u001b[0;34m(\u001b[0m\u001b[0;34m)\u001b[0m\u001b[0;34m]\u001b[0m\u001b[0;34m\u001b[0m\u001b[0;34m\u001b[0m\u001b[0m\n\u001b[0m",
            "\u001b[0;32m<ipython-input-58-ebedcdf48557>\u001b[0m in \u001b[0;36m<listcomp>\u001b[0;34m(.0)\u001b[0m\n\u001b[1;32m      1\u001b[0m \u001b[0mnet2\u001b[0m \u001b[0;34m=\u001b[0m \u001b[0mnn\u001b[0m\u001b[0;34m.\u001b[0m\u001b[0mSequential\u001b[0m\u001b[0;34m(\u001b[0m\u001b[0mnn\u001b[0m\u001b[0;34m.\u001b[0m\u001b[0mLinear\u001b[0m\u001b[0;34m(\u001b[0m\u001b[0;36m4\u001b[0m\u001b[0;34m,\u001b[0m \u001b[0;36m2\u001b[0m\u001b[0;34m)\u001b[0m\u001b[0;34m,\u001b[0m \u001b[0mnn\u001b[0m\u001b[0;34m.\u001b[0m\u001b[0mReLU\u001b[0m\u001b[0;34m(\u001b[0m\u001b[0;34m)\u001b[0m\u001b[0;34m,\u001b[0m \u001b[0mnn\u001b[0m\u001b[0;34m.\u001b[0m\u001b[0mLazyLinear\u001b[0m\u001b[0;34m(\u001b[0m\u001b[0;36m6\u001b[0m\u001b[0;34m)\u001b[0m\u001b[0;34m,\u001b[0m \u001b[0mnn\u001b[0m\u001b[0;34m.\u001b[0m\u001b[0mReLU\u001b[0m\u001b[0;34m(\u001b[0m\u001b[0;34m)\u001b[0m\u001b[0;34m,\u001b[0m \u001b[0mnn\u001b[0m\u001b[0;34m.\u001b[0m\u001b[0mLazyLinear\u001b[0m\u001b[0;34m(\u001b[0m\u001b[0;36m1\u001b[0m\u001b[0;34m)\u001b[0m\u001b[0;34m)\u001b[0m\u001b[0;34m\u001b[0m\u001b[0;34m\u001b[0m\u001b[0m\n\u001b[0;32m----> 2\u001b[0;31m \u001b[0;34m[\u001b[0m\u001b[0;34m(\u001b[0m\u001b[0mname\u001b[0m\u001b[0;34m,\u001b[0m \u001b[0mparam\u001b[0m\u001b[0;34m.\u001b[0m\u001b[0mshape\u001b[0m\u001b[0;34m)\u001b[0m \u001b[0;32mfor\u001b[0m \u001b[0mname\u001b[0m\u001b[0;34m,\u001b[0m \u001b[0mparam\u001b[0m \u001b[0;32min\u001b[0m \u001b[0mnet2\u001b[0m\u001b[0;34m.\u001b[0m\u001b[0mnamed_parameters\u001b[0m\u001b[0;34m(\u001b[0m\u001b[0;34m)\u001b[0m\u001b[0;34m]\u001b[0m\u001b[0;34m\u001b[0m\u001b[0;34m\u001b[0m\u001b[0m\n\u001b[0m",
            "\u001b[0;32m/usr/local/lib/python3.8/dist-packages/torch/nn/parameter.py\u001b[0m in \u001b[0;36mshape\u001b[0;34m(self)\u001b[0m\n\u001b[1;32m    112\u001b[0m     \u001b[0;34m@\u001b[0m\u001b[0mproperty\u001b[0m\u001b[0;34m\u001b[0m\u001b[0;34m\u001b[0m\u001b[0m\n\u001b[1;32m    113\u001b[0m     \u001b[0;32mdef\u001b[0m \u001b[0mshape\u001b[0m\u001b[0;34m(\u001b[0m\u001b[0mself\u001b[0m\u001b[0;34m)\u001b[0m\u001b[0;34m:\u001b[0m\u001b[0;34m\u001b[0m\u001b[0;34m\u001b[0m\u001b[0m\n\u001b[0;32m--> 114\u001b[0;31m         raise RuntimeError(\n\u001b[0m\u001b[1;32m    115\u001b[0m             \u001b[0;34m'Can\\'t access the shape of an uninitialized parameter or buffer. '\u001b[0m\u001b[0;34m\u001b[0m\u001b[0;34m\u001b[0m\u001b[0m\n\u001b[1;32m    116\u001b[0m             \u001b[0;34m'This error usually happens in `load_state_dict` when trying to load '\u001b[0m\u001b[0;34m\u001b[0m\u001b[0;34m\u001b[0m\u001b[0m\n",
            "\u001b[0;31mRuntimeError\u001b[0m: Can't access the shape of an uninitialized parameter or buffer. This error usually happens in `load_state_dict` when trying to load an uninitialized parameter into an initialized one. Call `forward` to initialize the parameters before accessing their attributes."
          ]
        }
      ],
      "source": [
        "net2 = nn.Sequential(nn.Linear(4, 2), nn.ReLU(), nn.LazyLinear(6), nn.ReLU(), nn.LazyLinear(1))\n",
        "[(name, param.shape) for name, param in net2.named_parameters()]"
      ]
    },
    {
      "cell_type": "code",
      "execution_count": null,
      "metadata": {
        "colab": {
          "base_uri": "https://localhost:8080/",
          "height": 324
        },
        "id": "w8usK5ZcuMry",
        "outputId": "44271d27-8adb-485a-9754-bf3553c967c0"
      },
      "outputs": [
        {
          "ename": "RuntimeError",
          "evalue": "ignored",
          "output_type": "error",
          "traceback": [
            "\u001b[0;31m---------------------------------------------------------------------------\u001b[0m",
            "\u001b[0;31mRuntimeError\u001b[0m                              Traceback (most recent call last)",
            "\u001b[0;32m<ipython-input-57-05a1dea5dd62>\u001b[0m in \u001b[0;36m<module>\u001b[0;34m\u001b[0m\n\u001b[0;32m----> 1\u001b[0;31m \u001b[0;34m[\u001b[0m\u001b[0;34m(\u001b[0m\u001b[0mname\u001b[0m\u001b[0;34m,\u001b[0m \u001b[0mparam\u001b[0m\u001b[0;34m.\u001b[0m\u001b[0mshape\u001b[0m\u001b[0;34m)\u001b[0m \u001b[0;32mfor\u001b[0m \u001b[0mname\u001b[0m\u001b[0;34m,\u001b[0m \u001b[0mparam\u001b[0m \u001b[0;32min\u001b[0m \u001b[0mnet\u001b[0m\u001b[0;34m.\u001b[0m\u001b[0mnamed_parameters\u001b[0m\u001b[0;34m(\u001b[0m\u001b[0;34m)\u001b[0m\u001b[0;34m]\u001b[0m\u001b[0;34m\u001b[0m\u001b[0;34m\u001b[0m\u001b[0m\n\u001b[0m",
            "\u001b[0;32m<ipython-input-57-05a1dea5dd62>\u001b[0m in \u001b[0;36m<listcomp>\u001b[0;34m(.0)\u001b[0m\n\u001b[0;32m----> 1\u001b[0;31m \u001b[0;34m[\u001b[0m\u001b[0;34m(\u001b[0m\u001b[0mname\u001b[0m\u001b[0;34m,\u001b[0m \u001b[0mparam\u001b[0m\u001b[0;34m.\u001b[0m\u001b[0mshape\u001b[0m\u001b[0;34m)\u001b[0m \u001b[0;32mfor\u001b[0m \u001b[0mname\u001b[0m\u001b[0;34m,\u001b[0m \u001b[0mparam\u001b[0m \u001b[0;32min\u001b[0m \u001b[0mnet\u001b[0m\u001b[0;34m.\u001b[0m\u001b[0mnamed_parameters\u001b[0m\u001b[0;34m(\u001b[0m\u001b[0;34m)\u001b[0m\u001b[0;34m]\u001b[0m\u001b[0;34m\u001b[0m\u001b[0;34m\u001b[0m\u001b[0m\n\u001b[0m",
            "\u001b[0;32m/usr/local/lib/python3.8/dist-packages/torch/nn/parameter.py\u001b[0m in \u001b[0;36mshape\u001b[0;34m(self)\u001b[0m\n\u001b[1;32m    112\u001b[0m     \u001b[0;34m@\u001b[0m\u001b[0mproperty\u001b[0m\u001b[0;34m\u001b[0m\u001b[0;34m\u001b[0m\u001b[0m\n\u001b[1;32m    113\u001b[0m     \u001b[0;32mdef\u001b[0m \u001b[0mshape\u001b[0m\u001b[0;34m(\u001b[0m\u001b[0mself\u001b[0m\u001b[0;34m)\u001b[0m\u001b[0;34m:\u001b[0m\u001b[0;34m\u001b[0m\u001b[0;34m\u001b[0m\u001b[0m\n\u001b[0;32m--> 114\u001b[0;31m         raise RuntimeError(\n\u001b[0m\u001b[1;32m    115\u001b[0m             \u001b[0;34m'Can\\'t access the shape of an uninitialized parameter or buffer. '\u001b[0m\u001b[0;34m\u001b[0m\u001b[0;34m\u001b[0m\u001b[0m\n\u001b[1;32m    116\u001b[0m             \u001b[0;34m'This error usually happens in `load_state_dict` when trying to load '\u001b[0m\u001b[0;34m\u001b[0m\u001b[0;34m\u001b[0m\u001b[0m\n",
            "\u001b[0;31mRuntimeError\u001b[0m: Can't access the shape of an uninitialized parameter or buffer. This error usually happens in `load_state_dict` when trying to load an uninitialized parameter into an initialized one. Call `forward` to initialize the parameters before accessing their attributes."
          ]
        }
      ],
      "source": [
        "[(name, param.shape) for name, param in net.named_parameters()]"
      ]
    },
    {
      "cell_type": "markdown",
      "metadata": {
        "id": "EQ5NaMG8u0Pl"
      },
      "source": [
        "### Q2:"
      ]
    },
    {
      "cell_type": "code",
      "execution_count": null,
      "metadata": {
        "id": "SyX5XQ_9uUiw"
      },
      "outputs": [],
      "source": [
        "net = nn.Sequential(nn.Linear(10, 20), nn.ReLU(), nn.Linear(30, 1))"
      ]
    },
    {
      "cell_type": "code",
      "execution_count": null,
      "metadata": {
        "colab": {
          "base_uri": "https://localhost:8080/"
        },
        "id": "lVLnOyS20NEY",
        "outputId": "cca2c439-a147-4463-904f-8618521d1835"
      },
      "outputs": [
        {
          "data": {
            "text/plain": [
              "[('0.weight', torch.Size([20, 10])),\n",
              " ('0.bias', torch.Size([20])),\n",
              " ('2.weight', torch.Size([1, 30])),\n",
              " ('2.bias', torch.Size([1]))]"
            ]
          },
          "execution_count": 60,
          "metadata": {},
          "output_type": "execute_result"
        }
      ],
      "source": [
        "[(name, param.shape) for name, param in net.named_parameters()]"
      ]
    },
    {
      "cell_type": "code",
      "execution_count": null,
      "metadata": {
        "colab": {
          "base_uri": "https://localhost:8080/",
          "height": 324
        },
        "id": "Pt-8ol2M0RhF",
        "outputId": "0572313a-ce7b-4cac-86e7-61cc79a79ead"
      },
      "outputs": [
        {
          "ename": "RuntimeError",
          "evalue": "ignored",
          "output_type": "error",
          "traceback": [
            "\u001b[0;31m---------------------------------------------------------------------------\u001b[0m",
            "\u001b[0;31mRuntimeError\u001b[0m                              Traceback (most recent call last)",
            "\u001b[0;32m<ipython-input-61-82997c433641>\u001b[0m in \u001b[0;36m<module>\u001b[0;34m\u001b[0m\n\u001b[1;32m      1\u001b[0m \u001b[0mX\u001b[0m \u001b[0;34m=\u001b[0m \u001b[0mtorch\u001b[0m\u001b[0;34m.\u001b[0m\u001b[0mrandn\u001b[0m\u001b[0;34m(\u001b[0m\u001b[0;36m1\u001b[0m\u001b[0;34m,\u001b[0m \u001b[0;36m10\u001b[0m\u001b[0;34m)\u001b[0m\u001b[0;34m\u001b[0m\u001b[0;34m\u001b[0m\u001b[0m\n\u001b[0;32m----> 2\u001b[0;31m \u001b[0mnet\u001b[0m\u001b[0;34m(\u001b[0m\u001b[0mX\u001b[0m\u001b[0;34m)\u001b[0m\u001b[0;34m\u001b[0m\u001b[0;34m\u001b[0m\u001b[0m\n\u001b[0m",
            "\u001b[0;32m/usr/local/lib/python3.8/dist-packages/torch/nn/modules/module.py\u001b[0m in \u001b[0;36m_call_impl\u001b[0;34m(self, *input, **kwargs)\u001b[0m\n\u001b[1;32m   1188\u001b[0m         if not (self._backward_hooks or self._forward_hooks or self._forward_pre_hooks or _global_backward_hooks\n\u001b[1;32m   1189\u001b[0m                 or _global_forward_hooks or _global_forward_pre_hooks):\n\u001b[0;32m-> 1190\u001b[0;31m             \u001b[0;32mreturn\u001b[0m \u001b[0mforward_call\u001b[0m\u001b[0;34m(\u001b[0m\u001b[0;34m*\u001b[0m\u001b[0minput\u001b[0m\u001b[0;34m,\u001b[0m \u001b[0;34m**\u001b[0m\u001b[0mkwargs\u001b[0m\u001b[0;34m)\u001b[0m\u001b[0;34m\u001b[0m\u001b[0;34m\u001b[0m\u001b[0m\n\u001b[0m\u001b[1;32m   1191\u001b[0m         \u001b[0;31m# Do not call functions when jit is used\u001b[0m\u001b[0;34m\u001b[0m\u001b[0;34m\u001b[0m\u001b[0;34m\u001b[0m\u001b[0m\n\u001b[1;32m   1192\u001b[0m         \u001b[0mfull_backward_hooks\u001b[0m\u001b[0;34m,\u001b[0m \u001b[0mnon_full_backward_hooks\u001b[0m \u001b[0;34m=\u001b[0m \u001b[0;34m[\u001b[0m\u001b[0;34m]\u001b[0m\u001b[0;34m,\u001b[0m \u001b[0;34m[\u001b[0m\u001b[0;34m]\u001b[0m\u001b[0;34m\u001b[0m\u001b[0;34m\u001b[0m\u001b[0m\n",
            "\u001b[0;32m/usr/local/lib/python3.8/dist-packages/torch/nn/modules/container.py\u001b[0m in \u001b[0;36mforward\u001b[0;34m(self, input)\u001b[0m\n\u001b[1;32m    202\u001b[0m     \u001b[0;32mdef\u001b[0m \u001b[0mforward\u001b[0m\u001b[0;34m(\u001b[0m\u001b[0mself\u001b[0m\u001b[0;34m,\u001b[0m \u001b[0minput\u001b[0m\u001b[0;34m)\u001b[0m\u001b[0;34m:\u001b[0m\u001b[0;34m\u001b[0m\u001b[0;34m\u001b[0m\u001b[0m\n\u001b[1;32m    203\u001b[0m         \u001b[0;32mfor\u001b[0m \u001b[0mmodule\u001b[0m \u001b[0;32min\u001b[0m \u001b[0mself\u001b[0m\u001b[0;34m:\u001b[0m\u001b[0;34m\u001b[0m\u001b[0;34m\u001b[0m\u001b[0m\n\u001b[0;32m--> 204\u001b[0;31m             \u001b[0minput\u001b[0m \u001b[0;34m=\u001b[0m \u001b[0mmodule\u001b[0m\u001b[0;34m(\u001b[0m\u001b[0minput\u001b[0m\u001b[0;34m)\u001b[0m\u001b[0;34m\u001b[0m\u001b[0;34m\u001b[0m\u001b[0m\n\u001b[0m\u001b[1;32m    205\u001b[0m         \u001b[0;32mreturn\u001b[0m \u001b[0minput\u001b[0m\u001b[0;34m\u001b[0m\u001b[0;34m\u001b[0m\u001b[0m\n\u001b[1;32m    206\u001b[0m \u001b[0;34m\u001b[0m\u001b[0m\n",
            "\u001b[0;32m/usr/local/lib/python3.8/dist-packages/torch/nn/modules/module.py\u001b[0m in \u001b[0;36m_call_impl\u001b[0;34m(self, *input, **kwargs)\u001b[0m\n\u001b[1;32m   1188\u001b[0m         if not (self._backward_hooks or self._forward_hooks or self._forward_pre_hooks or _global_backward_hooks\n\u001b[1;32m   1189\u001b[0m                 or _global_forward_hooks or _global_forward_pre_hooks):\n\u001b[0;32m-> 1190\u001b[0;31m             \u001b[0;32mreturn\u001b[0m \u001b[0mforward_call\u001b[0m\u001b[0;34m(\u001b[0m\u001b[0;34m*\u001b[0m\u001b[0minput\u001b[0m\u001b[0;34m,\u001b[0m \u001b[0;34m**\u001b[0m\u001b[0mkwargs\u001b[0m\u001b[0;34m)\u001b[0m\u001b[0;34m\u001b[0m\u001b[0;34m\u001b[0m\u001b[0m\n\u001b[0m\u001b[1;32m   1191\u001b[0m         \u001b[0;31m# Do not call functions when jit is used\u001b[0m\u001b[0;34m\u001b[0m\u001b[0;34m\u001b[0m\u001b[0;34m\u001b[0m\u001b[0m\n\u001b[1;32m   1192\u001b[0m         \u001b[0mfull_backward_hooks\u001b[0m\u001b[0;34m,\u001b[0m \u001b[0mnon_full_backward_hooks\u001b[0m \u001b[0;34m=\u001b[0m \u001b[0;34m[\u001b[0m\u001b[0;34m]\u001b[0m\u001b[0;34m,\u001b[0m \u001b[0;34m[\u001b[0m\u001b[0;34m]\u001b[0m\u001b[0;34m\u001b[0m\u001b[0;34m\u001b[0m\u001b[0m\n",
            "\u001b[0;32m/usr/local/lib/python3.8/dist-packages/torch/nn/modules/linear.py\u001b[0m in \u001b[0;36mforward\u001b[0;34m(self, input)\u001b[0m\n\u001b[1;32m    112\u001b[0m \u001b[0;34m\u001b[0m\u001b[0m\n\u001b[1;32m    113\u001b[0m     \u001b[0;32mdef\u001b[0m \u001b[0mforward\u001b[0m\u001b[0;34m(\u001b[0m\u001b[0mself\u001b[0m\u001b[0;34m,\u001b[0m \u001b[0minput\u001b[0m\u001b[0;34m:\u001b[0m \u001b[0mTensor\u001b[0m\u001b[0;34m)\u001b[0m \u001b[0;34m->\u001b[0m \u001b[0mTensor\u001b[0m\u001b[0;34m:\u001b[0m\u001b[0;34m\u001b[0m\u001b[0;34m\u001b[0m\u001b[0m\n\u001b[0;32m--> 114\u001b[0;31m         \u001b[0;32mreturn\u001b[0m \u001b[0mF\u001b[0m\u001b[0;34m.\u001b[0m\u001b[0mlinear\u001b[0m\u001b[0;34m(\u001b[0m\u001b[0minput\u001b[0m\u001b[0;34m,\u001b[0m \u001b[0mself\u001b[0m\u001b[0;34m.\u001b[0m\u001b[0mweight\u001b[0m\u001b[0;34m,\u001b[0m \u001b[0mself\u001b[0m\u001b[0;34m.\u001b[0m\u001b[0mbias\u001b[0m\u001b[0;34m)\u001b[0m\u001b[0;34m\u001b[0m\u001b[0;34m\u001b[0m\u001b[0m\n\u001b[0m\u001b[1;32m    115\u001b[0m \u001b[0;34m\u001b[0m\u001b[0m\n\u001b[1;32m    116\u001b[0m     \u001b[0;32mdef\u001b[0m \u001b[0mextra_repr\u001b[0m\u001b[0;34m(\u001b[0m\u001b[0mself\u001b[0m\u001b[0;34m)\u001b[0m \u001b[0;34m->\u001b[0m \u001b[0mstr\u001b[0m\u001b[0;34m:\u001b[0m\u001b[0;34m\u001b[0m\u001b[0;34m\u001b[0m\u001b[0m\n",
            "\u001b[0;31mRuntimeError\u001b[0m: mat1 and mat2 shapes cannot be multiplied (1x20 and 30x1)"
          ]
        }
      ],
      "source": [
        "X = torch.randn(1, 10)\n",
        "net(X)"
      ]
    },
    {
      "cell_type": "markdown",
      "metadata": {
        "id": "lNBqi8hm16G1"
      },
      "source": [
        "# 6.5 : Custom Layers"
      ]
    },
    {
      "cell_type": "code",
      "execution_count": 2,
      "metadata": {
        "id": "lH5Ls0dF0ipd",
        "colab": {
          "base_uri": "https://localhost:8080/"
        },
        "outputId": "16834d69-2b69-4aa7-de2e-272db903da8e"
      },
      "outputs": [
        {
          "output_type": "stream",
          "name": "stdout",
          "text": [
            "Looking in indexes: https://pypi.org/simple, https://us-python.pkg.dev/colab-wheels/public/simple/\n",
            "Collecting matplotlib_inline\n",
            "  Downloading matplotlib_inline-0.1.6-py3-none-any.whl (9.4 kB)\n",
            "Requirement already satisfied: traitlets in /usr/local/lib/python3.8/dist-packages (from matplotlib_inline) (5.6.0)\n",
            "Installing collected packages: matplotlib-inline\n",
            "Successfully installed matplotlib-inline-0.1.6\n",
            "Looking in indexes: https://pypi.org/simple, https://us-python.pkg.dev/colab-wheels/public/simple/\n",
            "Collecting d2l==1.0.0a0\n",
            "  Downloading d2l-1.0.0a0-py3-none-any.whl (92 kB)\n",
            "\u001b[K     |████████████████████████████████| 92 kB 1.1 MB/s \n",
            "\u001b[?25hRequirement already satisfied: gym in /usr/local/lib/python3.8/dist-packages (from d2l==1.0.0a0) (0.25.2)\n",
            "Collecting jupyter\n",
            "  Downloading jupyter-1.0.0-py2.py3-none-any.whl (2.7 kB)\n",
            "Requirement already satisfied: requests in /usr/local/lib/python3.8/dist-packages (from d2l==1.0.0a0) (2.23.0)\n",
            "Requirement already satisfied: pandas in /usr/local/lib/python3.8/dist-packages (from d2l==1.0.0a0) (1.3.5)\n",
            "Requirement already satisfied: numpy in /usr/local/lib/python3.8/dist-packages (from d2l==1.0.0a0) (1.21.6)\n",
            "Requirement already satisfied: matplotlib in /usr/local/lib/python3.8/dist-packages (from d2l==1.0.0a0) (3.2.2)\n",
            "Requirement already satisfied: importlib-metadata>=4.8.0 in /usr/local/lib/python3.8/dist-packages (from gym->d2l==1.0.0a0) (4.13.0)\n",
            "Requirement already satisfied: cloudpickle>=1.2.0 in /usr/local/lib/python3.8/dist-packages (from gym->d2l==1.0.0a0) (1.5.0)\n",
            "Requirement already satisfied: gym-notices>=0.0.4 in /usr/local/lib/python3.8/dist-packages (from gym->d2l==1.0.0a0) (0.0.8)\n",
            "Requirement already satisfied: zipp>=0.5 in /usr/local/lib/python3.8/dist-packages (from importlib-metadata>=4.8.0->gym->d2l==1.0.0a0) (3.11.0)\n",
            "Requirement already satisfied: notebook in /usr/local/lib/python3.8/dist-packages (from jupyter->d2l==1.0.0a0) (5.7.16)\n",
            "Collecting qtconsole\n",
            "  Downloading qtconsole-5.4.0-py3-none-any.whl (121 kB)\n",
            "\u001b[K     |████████████████████████████████| 121 kB 65.8 MB/s \n",
            "\u001b[?25hRequirement already satisfied: ipywidgets in /usr/local/lib/python3.8/dist-packages (from jupyter->d2l==1.0.0a0) (7.7.1)\n",
            "Requirement already satisfied: ipykernel in /usr/local/lib/python3.8/dist-packages (from jupyter->d2l==1.0.0a0) (5.3.4)\n",
            "Requirement already satisfied: nbconvert in /usr/local/lib/python3.8/dist-packages (from jupyter->d2l==1.0.0a0) (5.6.1)\n",
            "Requirement already satisfied: jupyter-console in /usr/local/lib/python3.8/dist-packages (from jupyter->d2l==1.0.0a0) (6.1.0)\n",
            "Requirement already satisfied: ipython>=5.0.0 in /usr/local/lib/python3.8/dist-packages (from ipykernel->jupyter->d2l==1.0.0a0) (7.9.0)\n",
            "Requirement already satisfied: tornado>=4.2 in /usr/local/lib/python3.8/dist-packages (from ipykernel->jupyter->d2l==1.0.0a0) (6.0.4)\n",
            "Requirement already satisfied: traitlets>=4.1.0 in /usr/local/lib/python3.8/dist-packages (from ipykernel->jupyter->d2l==1.0.0a0) (5.6.0)\n",
            "Requirement already satisfied: jupyter-client in /usr/local/lib/python3.8/dist-packages (from ipykernel->jupyter->d2l==1.0.0a0) (6.1.12)\n",
            "Requirement already satisfied: pexpect in /usr/local/lib/python3.8/dist-packages (from ipython>=5.0.0->ipykernel->jupyter->d2l==1.0.0a0) (4.8.0)\n",
            "Requirement already satisfied: pickleshare in /usr/local/lib/python3.8/dist-packages (from ipython>=5.0.0->ipykernel->jupyter->d2l==1.0.0a0) (0.7.5)\n",
            "Requirement already satisfied: setuptools>=18.5 in /usr/local/lib/python3.8/dist-packages (from ipython>=5.0.0->ipykernel->jupyter->d2l==1.0.0a0) (57.4.0)\n",
            "Requirement already satisfied: backcall in /usr/local/lib/python3.8/dist-packages (from ipython>=5.0.0->ipykernel->jupyter->d2l==1.0.0a0) (0.2.0)\n",
            "Requirement already satisfied: prompt-toolkit<2.1.0,>=2.0.0 in /usr/local/lib/python3.8/dist-packages (from ipython>=5.0.0->ipykernel->jupyter->d2l==1.0.0a0) (2.0.10)\n",
            "Collecting jedi>=0.10\n",
            "  Downloading jedi-0.18.2-py2.py3-none-any.whl (1.6 MB)\n",
            "\u001b[K     |████████████████████████████████| 1.6 MB 72.7 MB/s \n",
            "\u001b[?25hRequirement already satisfied: decorator in /usr/local/lib/python3.8/dist-packages (from ipython>=5.0.0->ipykernel->jupyter->d2l==1.0.0a0) (4.4.2)\n",
            "Requirement already satisfied: pygments in /usr/local/lib/python3.8/dist-packages (from ipython>=5.0.0->ipykernel->jupyter->d2l==1.0.0a0) (2.6.1)\n",
            "Requirement already satisfied: parso<0.9.0,>=0.8.0 in /usr/local/lib/python3.8/dist-packages (from jedi>=0.10->ipython>=5.0.0->ipykernel->jupyter->d2l==1.0.0a0) (0.8.3)\n",
            "Requirement already satisfied: six>=1.9.0 in /usr/local/lib/python3.8/dist-packages (from prompt-toolkit<2.1.0,>=2.0.0->ipython>=5.0.0->ipykernel->jupyter->d2l==1.0.0a0) (1.15.0)\n",
            "Requirement already satisfied: wcwidth in /usr/local/lib/python3.8/dist-packages (from prompt-toolkit<2.1.0,>=2.0.0->ipython>=5.0.0->ipykernel->jupyter->d2l==1.0.0a0) (0.2.5)\n",
            "Requirement already satisfied: jupyterlab-widgets>=1.0.0 in /usr/local/lib/python3.8/dist-packages (from ipywidgets->jupyter->d2l==1.0.0a0) (3.0.3)\n",
            "Requirement already satisfied: widgetsnbextension~=3.6.0 in /usr/local/lib/python3.8/dist-packages (from ipywidgets->jupyter->d2l==1.0.0a0) (3.6.1)\n",
            "Requirement already satisfied: ipython-genutils~=0.2.0 in /usr/local/lib/python3.8/dist-packages (from ipywidgets->jupyter->d2l==1.0.0a0) (0.2.0)\n",
            "Requirement already satisfied: prometheus-client in /usr/local/lib/python3.8/dist-packages (from notebook->jupyter->d2l==1.0.0a0) (0.15.0)\n",
            "Requirement already satisfied: Send2Trash in /usr/local/lib/python3.8/dist-packages (from notebook->jupyter->d2l==1.0.0a0) (1.8.0)\n",
            "Requirement already satisfied: jupyter-core>=4.4.0 in /usr/local/lib/python3.8/dist-packages (from notebook->jupyter->d2l==1.0.0a0) (5.1.0)\n",
            "Requirement already satisfied: nbformat in /usr/local/lib/python3.8/dist-packages (from notebook->jupyter->d2l==1.0.0a0) (5.7.0)\n",
            "Requirement already satisfied: terminado>=0.8.1 in /usr/local/lib/python3.8/dist-packages (from notebook->jupyter->d2l==1.0.0a0) (0.13.3)\n",
            "Requirement already satisfied: jinja2<=3.0.0 in /usr/local/lib/python3.8/dist-packages (from notebook->jupyter->d2l==1.0.0a0) (2.11.3)\n",
            "Requirement already satisfied: pyzmq>=17 in /usr/local/lib/python3.8/dist-packages (from notebook->jupyter->d2l==1.0.0a0) (23.2.1)\n",
            "Requirement already satisfied: MarkupSafe>=0.23 in /usr/local/lib/python3.8/dist-packages (from jinja2<=3.0.0->notebook->jupyter->d2l==1.0.0a0) (2.0.1)\n",
            "Requirement already satisfied: python-dateutil>=2.1 in /usr/local/lib/python3.8/dist-packages (from jupyter-client->ipykernel->jupyter->d2l==1.0.0a0) (2.8.2)\n",
            "Requirement already satisfied: platformdirs>=2.5 in /usr/local/lib/python3.8/dist-packages (from jupyter-core>=4.4.0->notebook->jupyter->d2l==1.0.0a0) (2.5.4)\n",
            "Requirement already satisfied: defusedxml in /usr/local/lib/python3.8/dist-packages (from nbconvert->jupyter->d2l==1.0.0a0) (0.7.1)\n",
            "Requirement already satisfied: testpath in /usr/local/lib/python3.8/dist-packages (from nbconvert->jupyter->d2l==1.0.0a0) (0.6.0)\n",
            "Requirement already satisfied: bleach in /usr/local/lib/python3.8/dist-packages (from nbconvert->jupyter->d2l==1.0.0a0) (5.0.1)\n",
            "Requirement already satisfied: entrypoints>=0.2.2 in /usr/local/lib/python3.8/dist-packages (from nbconvert->jupyter->d2l==1.0.0a0) (0.4)\n",
            "Requirement already satisfied: pandocfilters>=1.4.1 in /usr/local/lib/python3.8/dist-packages (from nbconvert->jupyter->d2l==1.0.0a0) (1.5.0)\n",
            "Requirement already satisfied: mistune<2,>=0.8.1 in /usr/local/lib/python3.8/dist-packages (from nbconvert->jupyter->d2l==1.0.0a0) (0.8.4)\n",
            "Requirement already satisfied: fastjsonschema in /usr/local/lib/python3.8/dist-packages (from nbformat->notebook->jupyter->d2l==1.0.0a0) (2.16.2)\n",
            "Requirement already satisfied: jsonschema>=2.6 in /usr/local/lib/python3.8/dist-packages (from nbformat->notebook->jupyter->d2l==1.0.0a0) (4.3.3)\n",
            "Requirement already satisfied: pyrsistent!=0.17.0,!=0.17.1,!=0.17.2,>=0.14.0 in /usr/local/lib/python3.8/dist-packages (from jsonschema>=2.6->nbformat->notebook->jupyter->d2l==1.0.0a0) (0.19.2)\n",
            "Requirement already satisfied: importlib-resources>=1.4.0 in /usr/local/lib/python3.8/dist-packages (from jsonschema>=2.6->nbformat->notebook->jupyter->d2l==1.0.0a0) (5.10.0)\n",
            "Requirement already satisfied: attrs>=17.4.0 in /usr/local/lib/python3.8/dist-packages (from jsonschema>=2.6->nbformat->notebook->jupyter->d2l==1.0.0a0) (22.1.0)\n",
            "Requirement already satisfied: ptyprocess in /usr/local/lib/python3.8/dist-packages (from terminado>=0.8.1->notebook->jupyter->d2l==1.0.0a0) (0.7.0)\n",
            "Requirement already satisfied: webencodings in /usr/local/lib/python3.8/dist-packages (from bleach->nbconvert->jupyter->d2l==1.0.0a0) (0.5.1)\n",
            "Requirement already satisfied: pyparsing!=2.0.4,!=2.1.2,!=2.1.6,>=2.0.1 in /usr/local/lib/python3.8/dist-packages (from matplotlib->d2l==1.0.0a0) (3.0.9)\n",
            "Requirement already satisfied: cycler>=0.10 in /usr/local/lib/python3.8/dist-packages (from matplotlib->d2l==1.0.0a0) (0.11.0)\n",
            "Requirement already satisfied: kiwisolver>=1.0.1 in /usr/local/lib/python3.8/dist-packages (from matplotlib->d2l==1.0.0a0) (1.4.4)\n",
            "Requirement already satisfied: pytz>=2017.3 in /usr/local/lib/python3.8/dist-packages (from pandas->d2l==1.0.0a0) (2022.6)\n",
            "Collecting qtpy>=2.0.1\n",
            "  Downloading QtPy-2.3.0-py3-none-any.whl (83 kB)\n",
            "\u001b[K     |████████████████████████████████| 83 kB 2.7 MB/s \n",
            "\u001b[?25hRequirement already satisfied: packaging in /usr/local/lib/python3.8/dist-packages (from qtpy>=2.0.1->qtconsole->jupyter->d2l==1.0.0a0) (21.3)\n",
            "Requirement already satisfied: urllib3!=1.25.0,!=1.25.1,<1.26,>=1.21.1 in /usr/local/lib/python3.8/dist-packages (from requests->d2l==1.0.0a0) (1.24.3)\n",
            "Requirement already satisfied: chardet<4,>=3.0.2 in /usr/local/lib/python3.8/dist-packages (from requests->d2l==1.0.0a0) (3.0.4)\n",
            "Requirement already satisfied: certifi>=2017.4.17 in /usr/local/lib/python3.8/dist-packages (from requests->d2l==1.0.0a0) (2022.9.24)\n",
            "Requirement already satisfied: idna<3,>=2.5 in /usr/local/lib/python3.8/dist-packages (from requests->d2l==1.0.0a0) (2.10)\n",
            "Installing collected packages: jedi, qtpy, qtconsole, jupyter, d2l\n",
            "Successfully installed d2l-1.0.0a0 jedi-0.18.2 jupyter-1.0.0 qtconsole-5.4.0 qtpy-2.3.0\n"
          ]
        }
      ],
      "source": [
        "!pip install matplotlib_inline\n",
        "!pip install --upgrade d2l==1.0.0a0"
      ]
    },
    {
      "cell_type": "code",
      "execution_count": null,
      "metadata": {
        "id": "RDRbYjNQ2a3O"
      },
      "outputs": [],
      "source": [
        "import torch\n",
        "from torch import nn\n",
        "from torch.nn import functional as F\n",
        "from d2l import torch as d2l"
      ]
    },
    {
      "cell_type": "code",
      "execution_count": null,
      "metadata": {
        "id": "Fuv--kPI2kCz"
      },
      "outputs": [],
      "source": [
        "class CenteredLayer(nn.Module):\n",
        "\n",
        "  # custom layer without any parameters\n",
        "\n",
        "  def __init__(self):\n",
        "    super().__init__()\n",
        "\n",
        "  def forward(self, X):\n",
        "    return X - X.mean()"
      ]
    },
    {
      "cell_type": "code",
      "execution_count": null,
      "metadata": {
        "colab": {
          "base_uri": "https://localhost:8080/"
        },
        "id": "WeFttJBd2u-q",
        "outputId": "61fa0bc8-e0c6-42dd-af2d-02e7fa4f8ee0"
      },
      "outputs": [
        {
          "data": {
            "text/plain": [
              "tensor([-2., -1.,  0.,  1.,  2.])"
            ]
          },
          "execution_count": 66,
          "metadata": {},
          "output_type": "execute_result"
        }
      ],
      "source": [
        "layer = CenteredLayer()\n",
        "x = torch.arange(5, dtype=torch.float32)\n",
        "layer(x)"
      ]
    },
    {
      "cell_type": "code",
      "execution_count": null,
      "metadata": {
        "colab": {
          "base_uri": "https://localhost:8080/"
        },
        "id": "BTsB7IxX22le",
        "outputId": "8a48b225-9b20-4977-c29c-c5b2c1b7241b"
      },
      "outputs": [
        {
          "name": "stderr",
          "output_type": "stream",
          "text": [
            "/usr/local/lib/python3.8/dist-packages/torch/nn/modules/lazy.py:180: UserWarning: Lazy modules are a new feature under heavy development so changes to the API or functionality can happen at any moment.\n",
            "  warnings.warn('Lazy modules are a new feature under heavy development '\n"
          ]
        }
      ],
      "source": [
        "net = nn.Sequential(nn.LazyLinear(128), CenteredLayer())"
      ]
    },
    {
      "cell_type": "code",
      "execution_count": null,
      "metadata": {
        "colab": {
          "base_uri": "https://localhost:8080/"
        },
        "id": "LubPjCpe3Dyj",
        "outputId": "3be097dd-ffdd-4a44-dc9e-8abb6eccb122"
      },
      "outputs": [
        {
          "data": {
            "text/plain": [
              "tensor(2.6077e-08, grad_fn=<MeanBackward0>)"
            ]
          },
          "execution_count": 70,
          "metadata": {},
          "output_type": "execute_result"
        }
      ],
      "source": [
        "x = torch.arange(5, dtype=torch.float32)\n",
        "net(x).mean()"
      ]
    },
    {
      "cell_type": "code",
      "execution_count": null,
      "metadata": {
        "colab": {
          "base_uri": "https://localhost:8080/"
        },
        "id": "MLx9gHrz4Ysm",
        "outputId": "644368f9-cd82-41be-9aa7-04f409bf0ecc"
      },
      "outputs": [
        {
          "data": {
            "text/plain": [
              "tensor([0., 0., 0.])"
            ]
          },
          "execution_count": 71,
          "metadata": {},
          "output_type": "execute_result"
        }
      ],
      "source": [
        "torch.zeros(3,)"
      ]
    },
    {
      "cell_type": "code",
      "execution_count": null,
      "metadata": {
        "id": "aHEktUx13J5z"
      },
      "outputs": [],
      "source": [
        "# layers with parameters:\n",
        "\n",
        "class MyLinear(nn.Module):\n",
        "  \n",
        "  def __init__(self, in_units, units):\n",
        "    super().__init__()\n",
        "    self.weight = nn.Parameter(torch.randn(in_units, units))\n",
        "    self.bias = nn.Parameter(torch.zeros(units))\n",
        "\n",
        "  def forward(self, X):\n",
        "    linear = torch.mm(X, self.weight.data) + self.bias.data\n",
        "    return F.relu(linear)"
      ]
    },
    {
      "cell_type": "code",
      "execution_count": null,
      "metadata": {
        "colab": {
          "base_uri": "https://localhost:8080/"
        },
        "id": "IEh4j1Th4l9Y",
        "outputId": "01cf0caf-8c3a-45c9-f4a8-adff240e533a"
      },
      "outputs": [
        {
          "name": "stdout",
          "output_type": "stream",
          "text": [
            "Parameter containing:\n",
            "tensor([[-1.4032,  1.6394,  0.5610],\n",
            "        [-0.6801,  0.9381,  0.5027],\n",
            "        [-1.3480,  1.7244,  0.6592],\n",
            "        [ 1.2576,  0.0978, -0.9279],\n",
            "        [ 0.3018,  0.5490,  3.2611]], requires_grad=True) Parameter containing:\n",
            "tensor([0., 0., 0.], requires_grad=True)\n"
          ]
        }
      ],
      "source": [
        "linear = MyLinear(5, 3)\n",
        "print(linear.weight, linear.bias)"
      ]
    },
    {
      "cell_type": "code",
      "execution_count": null,
      "metadata": {
        "colab": {
          "base_uri": "https://localhost:8080/"
        },
        "id": "f_Cbx_ze4sau",
        "outputId": "dfb716d4-1c8b-4ac8-a9a3-75480d7be1da"
      },
      "outputs": [
        {
          "data": {
            "text/plain": [
              "tensor([[4.1940, 0.0000, 0.0000],\n",
              "        [0.0000, 6.9300, 5.2530]])"
            ]
          },
          "execution_count": 78,
          "metadata": {},
          "output_type": "execute_result"
        }
      ],
      "source": [
        "linear(torch.randn(2, 5)) # forward prop"
      ]
    },
    {
      "cell_type": "code",
      "execution_count": null,
      "metadata": {
        "colab": {
          "base_uri": "https://localhost:8080/"
        },
        "id": "-FX_ReQI44Z3",
        "outputId": "5a3052b4-0366-45b5-be85-7a0f5e8a5b32"
      },
      "outputs": [
        {
          "data": {
            "text/plain": [
              "tensor([[0.6922],\n",
              "        [0.8097]], grad_fn=<ReluBackward0>)"
            ]
          },
          "execution_count": 79,
          "metadata": {},
          "output_type": "execute_result"
        }
      ],
      "source": [
        "net = nn.Sequential(nn.Linear(64, 8), nn.ReLU(), MyLinear(8, 1))\n",
        "net(torch.randn(2, 64))"
      ]
    },
    {
      "cell_type": "code",
      "execution_count": null,
      "metadata": {
        "colab": {
          "base_uri": "https://localhost:8080/"
        },
        "id": "fgLwtsg_5K3j",
        "outputId": "2f817898-1bce-4a75-d275-5bb727c96df2"
      },
      "outputs": [
        {
          "data": {
            "text/plain": [
              "Sequential(\n",
              "  (0): Linear(in_features=64, out_features=8, bias=True)\n",
              "  (1): ReLU()\n",
              "  (2): MyLinear()\n",
              ")"
            ]
          },
          "execution_count": 80,
          "metadata": {},
          "output_type": "execute_result"
        }
      ],
      "source": [
        "net"
      ]
    },
    {
      "cell_type": "code",
      "execution_count": null,
      "metadata": {
        "colab": {
          "base_uri": "https://localhost:8080/"
        },
        "id": "3yCEdulM5Mgn",
        "outputId": "a5c80070-98d4-466e-e65e-fb91c0759aff"
      },
      "outputs": [
        {
          "data": {
            "text/plain": [
              "tensor([[ 0.3108],\n",
              "        [-0.5707],\n",
              "        [-0.6616],\n",
              "        [-0.1237],\n",
              "        [-1.1553],\n",
              "        [-0.6196],\n",
              "        [-0.1295],\n",
              "        [ 3.0451]])"
            ]
          },
          "execution_count": 81,
          "metadata": {},
          "output_type": "execute_result"
        }
      ],
      "source": [
        "net[2].weight.data"
      ]
    },
    {
      "cell_type": "markdown",
      "metadata": {
        "id": "ci8VLz0T5bjS"
      },
      "source": [
        "## Ex 6.5:"
      ]
    },
    {
      "cell_type": "markdown",
      "metadata": {
        "id": "8Zileafs5eEO"
      },
      "source": [
        "### Q1:"
      ]
    },
    {
      "cell_type": "code",
      "execution_count": null,
      "metadata": {
        "colab": {
          "base_uri": "https://localhost:8080/"
        },
        "id": "fHfnmWoF6Km5",
        "outputId": "e93f9f5e-5887-4168-ddc0-6c400243a6cb"
      },
      "outputs": [
        {
          "data": {
            "text/plain": [
              "tensor([[-1.0971,  1.1966,  0.7876, -0.3313,  0.2007],\n",
              "        [ 0.9734, -2.2663,  0.7433, -1.4301,  0.3147],\n",
              "        [-1.3858, -1.1057, -1.4039, -0.7757,  0.5048],\n",
              "        [-0.2304,  1.7303,  0.5853,  1.1391,  0.4691],\n",
              "        [ 0.5361, -1.1057,  0.6948,  0.8105, -2.3090]])"
            ]
          },
          "execution_count": 82,
          "metadata": {},
          "output_type": "execute_result"
        }
      ],
      "source": [
        "a = torch.randn(5, 5)\n",
        "torch.randn(a.shape)"
      ]
    },
    {
      "cell_type": "code",
      "execution_count": null,
      "metadata": {
        "id": "i_L_JIGY5RYe"
      },
      "outputs": [],
      "source": [
        "class RedLayer(nn.Module):\n",
        "\n",
        "  # we are performing x.T * W * x\n",
        "\n",
        "  def __init__(self, num_inputs, num_outputs):\n",
        "    super().__init__()\n",
        "    self.weight = nn.Parameter(torch.randn(num_inputs, num_outputs))\n",
        "    self.bias = nn.Parameter(torch.randn(num_outputs))\n",
        "\n",
        "  def forward(self, X):\n",
        "   out = torch.mm(X, self.weight)\n",
        "   out = torch.mm(out, X)\n",
        "   return F.relu(X)"
      ]
    },
    {
      "cell_type": "code",
      "execution_count": null,
      "metadata": {
        "colab": {
          "base_uri": "https://localhost:8080/"
        },
        "id": "e48q5pBK6UhU",
        "outputId": "1756c1cb-a842-4035-f3a3-34284b62018e"
      },
      "outputs": [
        {
          "data": {
            "text/plain": [
              "tensor([[0.1928, 0.9445, 0.0000, 0.9150]])"
            ]
          },
          "execution_count": 91,
          "metadata": {},
          "output_type": "execute_result"
        }
      ],
      "source": [
        "layer = RedLayer(4, 1)\n",
        "X = torch.randn(1, 4)\n",
        "layer(X)"
      ]
    },
    {
      "cell_type": "markdown",
      "metadata": {
        "id": "AYJHRXZy8NX1"
      },
      "source": [
        "# 6.6 : File I/O"
      ]
    },
    {
      "cell_type": "code",
      "execution_count": null,
      "metadata": {
        "id": "7Irk4Hud6l-k"
      },
      "outputs": [],
      "source": [
        "import torch\n",
        "from torch import nn\n",
        "import torch.nn.functional as F"
      ]
    },
    {
      "cell_type": "code",
      "execution_count": null,
      "metadata": {
        "colab": {
          "base_uri": "https://localhost:8080/"
        },
        "id": "KtRHoh4q8o2-",
        "outputId": "43f54907-74be-45b7-d372-f58fd13f4002"
      },
      "outputs": [
        {
          "name": "stdout",
          "output_type": "stream",
          "text": [
            "tensor([0, 1, 2, 3])\n"
          ]
        }
      ],
      "source": [
        "x = torch.arange(4)\n",
        "print(x)"
      ]
    },
    {
      "cell_type": "code",
      "execution_count": null,
      "metadata": {
        "id": "c8pfDjMl8yfx"
      },
      "outputs": [],
      "source": [
        "torch.save??"
      ]
    },
    {
      "cell_type": "code",
      "execution_count": null,
      "metadata": {
        "id": "t0wSBXEs806_"
      },
      "outputs": [],
      "source": [
        "torch.save(x, 'x-file')"
      ]
    },
    {
      "cell_type": "code",
      "execution_count": null,
      "metadata": {
        "id": "mf6AQ3C49DLb"
      },
      "outputs": [],
      "source": [
        "torch.load??"
      ]
    },
    {
      "cell_type": "code",
      "execution_count": null,
      "metadata": {
        "id": "4f_0QIbM859t"
      },
      "outputs": [],
      "source": [
        "x2 = torch.load('x-file')"
      ]
    },
    {
      "cell_type": "code",
      "execution_count": null,
      "metadata": {
        "colab": {
          "base_uri": "https://localhost:8080/"
        },
        "id": "Gmr8OuTT9I6b",
        "outputId": "cdf843ea-5bd8-4ca4-da17-60b933874f19"
      },
      "outputs": [
        {
          "name": "stdout",
          "output_type": "stream",
          "text": [
            "tensor([0, 1, 2, 3])\n"
          ]
        }
      ],
      "source": [
        "print(x2)"
      ]
    },
    {
      "cell_type": "code",
      "execution_count": null,
      "metadata": {
        "colab": {
          "background_save": true
        },
        "id": "uWgMrBCT9J2A"
      },
      "outputs": [],
      "source": [
        "y = torch.zeros(4)\n",
        "torch.save([x, y], 'x-files')"
      ]
    },
    {
      "cell_type": "code",
      "execution_count": 100,
      "metadata": {
        "id": "jKdQazeW9TBi"
      },
      "outputs": [],
      "source": [
        "x2, y2 = torch.load('x-files')"
      ]
    },
    {
      "cell_type": "code",
      "source": [
        "print(x2, y2)"
      ],
      "metadata": {
        "colab": {
          "base_uri": "https://localhost:8080/"
        },
        "id": "wqQ4eCvl9pVN",
        "outputId": "835110d3-38b1-49ce-b16d-137baedae10e"
      },
      "execution_count": 101,
      "outputs": [
        {
          "output_type": "stream",
          "name": "stdout",
          "text": [
            "tensor([0, 1, 2, 3]) tensor([0., 0., 0., 0.])\n"
          ]
        }
      ]
    },
    {
      "cell_type": "code",
      "source": [
        "my_dict = {'x' : x, 'y' : y}\n",
        "print(my_dict)"
      ],
      "metadata": {
        "colab": {
          "base_uri": "https://localhost:8080/"
        },
        "id": "mUAoOa749qyt",
        "outputId": "00529644-ce51-4f33-ed59-c9d9041e4f8d"
      },
      "execution_count": 102,
      "outputs": [
        {
          "output_type": "stream",
          "name": "stdout",
          "text": [
            "{'x': tensor([0, 1, 2, 3]), 'y': tensor([0., 0., 0., 0.])}\n"
          ]
        }
      ]
    },
    {
      "cell_type": "code",
      "source": [
        "torch.save(my_dict, 'mydict')"
      ],
      "metadata": {
        "id": "MM27PAzS90rh"
      },
      "execution_count": 103,
      "outputs": []
    },
    {
      "cell_type": "code",
      "source": [
        "mydict2 = torch.load('mydict')\n",
        "print(mydict2)"
      ],
      "metadata": {
        "colab": {
          "base_uri": "https://localhost:8080/"
        },
        "id": "8PyQj_Tu94CI",
        "outputId": "cbcf940e-7f08-4d19-a377-5b804add9a15"
      },
      "execution_count": 104,
      "outputs": [
        {
          "output_type": "stream",
          "name": "stdout",
          "text": [
            "{'x': tensor([0, 1, 2, 3]), 'y': tensor([0., 0., 0., 0.])}\n"
          ]
        }
      ]
    },
    {
      "cell_type": "code",
      "source": [
        "class MLP(nn.Module):\n",
        "\n",
        "  def __init__(self):\n",
        "    super().__init__()\n",
        "    self.hidden = nn.LazyLinear(256)\n",
        "    self.output = nn.LazyLinear(10)\n",
        "\n",
        "  def forward(self, x):\n",
        "    return self.output(F.relu(self.hidden(X)))"
      ],
      "metadata": {
        "id": "QjmyfwEn9-ka"
      },
      "execution_count": 105,
      "outputs": []
    },
    {
      "cell_type": "code",
      "source": [
        "net = MLP()\n",
        "X = torch.randn(2, 20)\n",
        "y = net(X)"
      ],
      "metadata": {
        "colab": {
          "base_uri": "https://localhost:8080/"
        },
        "id": "JtSBlOkF_n5p",
        "outputId": "644ef446-4ef5-4401-cdc7-0418500a7e31"
      },
      "execution_count": 106,
      "outputs": [
        {
          "output_type": "stream",
          "name": "stderr",
          "text": [
            "/usr/local/lib/python3.8/dist-packages/torch/nn/modules/lazy.py:180: UserWarning: Lazy modules are a new feature under heavy development so changes to the API or functionality can happen at any moment.\n",
            "  warnings.warn('Lazy modules are a new feature under heavy development '\n"
          ]
        }
      ]
    },
    {
      "cell_type": "code",
      "source": [
        "net.state_dict()"
      ],
      "metadata": {
        "colab": {
          "base_uri": "https://localhost:8080/"
        },
        "id": "RYTUzyRk_tEO",
        "outputId": "06195c01-b9f4-46b9-9f28-eb16da9abede"
      },
      "execution_count": 108,
      "outputs": [
        {
          "output_type": "execute_result",
          "data": {
            "text/plain": [
              "OrderedDict([('hidden.weight',\n",
              "              tensor([[ 0.0287, -0.0146,  0.0701,  ...,  0.1563,  0.0158, -0.0303],\n",
              "                      [ 0.0798, -0.1728,  0.1105,  ..., -0.2046,  0.2036, -0.1254],\n",
              "                      [ 0.1253, -0.1406, -0.0009,  ..., -0.0819, -0.0044,  0.2143],\n",
              "                      ...,\n",
              "                      [ 0.1281,  0.0398,  0.0074,  ...,  0.1229, -0.1714,  0.1434],\n",
              "                      [ 0.1541, -0.0851,  0.0280,  ...,  0.0616,  0.0299, -0.2087],\n",
              "                      [ 0.1846,  0.0469, -0.1249,  ...,  0.1342, -0.0126, -0.1100]])),\n",
              "             ('hidden.bias',\n",
              "              tensor([ 0.1265,  0.0047, -0.0804,  0.0236, -0.0020, -0.1066,  0.0773, -0.0313,\n",
              "                       0.1432, -0.1947, -0.1669, -0.2203,  0.1170,  0.0254,  0.1359,  0.0636,\n",
              "                       0.0987,  0.1478,  0.0551,  0.1652,  0.1703, -0.0137,  0.0888,  0.0736,\n",
              "                      -0.0634,  0.0950,  0.0031,  0.0596, -0.1446,  0.0529,  0.1491, -0.0073,\n",
              "                       0.2232, -0.0635, -0.1870,  0.0012,  0.0401,  0.1934,  0.1704,  0.1278,\n",
              "                       0.0423, -0.2000,  0.1872, -0.0972,  0.1114,  0.0170, -0.0543, -0.2086,\n",
              "                      -0.0466, -0.0737,  0.0840,  0.0682, -0.1375, -0.1789,  0.1609,  0.1142,\n",
              "                       0.0600, -0.0418,  0.0882, -0.0659,  0.2147, -0.1524, -0.1363,  0.1902,\n",
              "                       0.1312,  0.1308,  0.2106,  0.1483,  0.1196, -0.0227,  0.0975,  0.0206,\n",
              "                      -0.1093, -0.0289,  0.0507,  0.1591,  0.0969, -0.0068,  0.1360,  0.2227,\n",
              "                       0.0571, -0.1078,  0.0283, -0.2111,  0.0146,  0.1144,  0.1755,  0.0199,\n",
              "                      -0.0345, -0.1032, -0.0048, -0.0214, -0.1536, -0.2202, -0.0510,  0.0155,\n",
              "                      -0.0832,  0.1737, -0.1712,  0.2137,  0.1821,  0.2058, -0.1377, -0.0684,\n",
              "                      -0.1783, -0.1160, -0.0696,  0.0658,  0.0707,  0.0069, -0.2028,  0.1570,\n",
              "                       0.1571, -0.0814,  0.0725,  0.1151, -0.0155, -0.0328,  0.0385, -0.0201,\n",
              "                       0.1499,  0.0616, -0.1561,  0.0362, -0.2049,  0.0539,  0.1096, -0.1633,\n",
              "                       0.2127,  0.0041, -0.1211,  0.1495, -0.0498, -0.1863, -0.1823,  0.1854,\n",
              "                      -0.1498, -0.1587, -0.2022,  0.1165, -0.0713, -0.0964, -0.0497,  0.1300,\n",
              "                      -0.2159,  0.1475,  0.0357, -0.1181,  0.0754, -0.2118, -0.0714,  0.1413,\n",
              "                      -0.1102,  0.0309,  0.0520,  0.0405,  0.1510, -0.0318,  0.1313, -0.1490,\n",
              "                       0.1581, -0.0694, -0.0871, -0.0330,  0.0758,  0.2036, -0.1462,  0.2055,\n",
              "                       0.0516, -0.0681, -0.0842,  0.0583,  0.2005,  0.1054,  0.0631, -0.0757,\n",
              "                       0.0197,  0.0126,  0.1954,  0.1752,  0.1438,  0.1894,  0.1261, -0.0122,\n",
              "                       0.0798, -0.0333, -0.1166, -0.2205, -0.1094,  0.0299, -0.0302, -0.0853,\n",
              "                      -0.2144, -0.2115, -0.0373, -0.0451,  0.2123,  0.0564, -0.0440, -0.1897,\n",
              "                      -0.1224,  0.1443,  0.2191, -0.1657,  0.0750, -0.0971, -0.0305,  0.1434,\n",
              "                       0.1111, -0.0133, -0.1994, -0.0061,  0.2161, -0.0274, -0.1133,  0.0978,\n",
              "                       0.0574,  0.0103, -0.2021, -0.0820, -0.2230, -0.1939,  0.0749,  0.1243,\n",
              "                       0.1828,  0.1982, -0.0333,  0.2167,  0.2213,  0.2107,  0.1843, -0.0341,\n",
              "                       0.1630,  0.0139, -0.0844,  0.1200, -0.0366, -0.1143,  0.0515, -0.2126,\n",
              "                      -0.0345, -0.0374, -0.1000, -0.1164,  0.0597,  0.0223, -0.1047, -0.1988,\n",
              "                       0.1855, -0.1803, -0.1253,  0.0084, -0.1902,  0.1407,  0.1732,  0.0545])),\n",
              "             ('output.weight',\n",
              "              tensor([[ 0.0336,  0.0487,  0.0100,  ..., -0.0206, -0.0548, -0.0172],\n",
              "                      [ 0.0440,  0.0423, -0.0606,  ..., -0.0621, -0.0326, -0.0420],\n",
              "                      [ 0.0481,  0.0213, -0.0197,  ..., -0.0146, -0.0345, -0.0356],\n",
              "                      ...,\n",
              "                      [ 0.0037, -0.0073,  0.0480,  ..., -0.0403, -0.0623, -0.0225],\n",
              "                      [ 0.0507, -0.0442,  0.0315,  ..., -0.0059, -0.0309, -0.0611],\n",
              "                      [ 0.0617,  0.0169,  0.0107,  ...,  0.0615,  0.0204, -0.0412]])),\n",
              "             ('output.bias',\n",
              "              tensor([ 0.0475, -0.0421, -0.0489,  0.0014,  0.0116, -0.0582,  0.0236,  0.0597,\n",
              "                       0.0360,  0.0496]))])"
            ]
          },
          "metadata": {},
          "execution_count": 108
        }
      ]
    },
    {
      "cell_type": "code",
      "source": [
        "torch.save(net.state_dict(), 'mlp.params')"
      ],
      "metadata": {
        "id": "NL1GJAgZ_x9y"
      },
      "execution_count": 109,
      "outputs": []
    },
    {
      "cell_type": "code",
      "source": [
        "clone = MLP()"
      ],
      "metadata": {
        "colab": {
          "base_uri": "https://localhost:8080/"
        },
        "id": "mWLJpw4u_89T",
        "outputId": "5eb0d348-cf6a-4dc0-a107-f70ffa8f2fa8"
      },
      "execution_count": 110,
      "outputs": [
        {
          "output_type": "stream",
          "name": "stderr",
          "text": [
            "/usr/local/lib/python3.8/dist-packages/torch/nn/modules/lazy.py:180: UserWarning: Lazy modules are a new feature under heavy development so changes to the API or functionality can happen at any moment.\n",
            "  warnings.warn('Lazy modules are a new feature under heavy development '\n"
          ]
        }
      ]
    },
    {
      "cell_type": "code",
      "source": [
        "clone.load_state_dict(torch.load('mlp.params'))"
      ],
      "metadata": {
        "colab": {
          "base_uri": "https://localhost:8080/"
        },
        "id": "JHc2JOE9AF78",
        "outputId": "833eb8d5-4691-4eac-d500-993e8889a42a"
      },
      "execution_count": 111,
      "outputs": [
        {
          "output_type": "execute_result",
          "data": {
            "text/plain": [
              "<All keys matched successfully>"
            ]
          },
          "metadata": {},
          "execution_count": 111
        }
      ]
    },
    {
      "cell_type": "code",
      "source": [
        "clone.state_dict()"
      ],
      "metadata": {
        "colab": {
          "base_uri": "https://localhost:8080/"
        },
        "id": "-gzoO4-GAOIB",
        "outputId": "c7661c3e-89e9-4ff1-aad2-5fc20dada20a"
      },
      "execution_count": 112,
      "outputs": [
        {
          "output_type": "execute_result",
          "data": {
            "text/plain": [
              "OrderedDict([('hidden.weight',\n",
              "              tensor([[ 0.0287, -0.0146,  0.0701,  ...,  0.1563,  0.0158, -0.0303],\n",
              "                      [ 0.0798, -0.1728,  0.1105,  ..., -0.2046,  0.2036, -0.1254],\n",
              "                      [ 0.1253, -0.1406, -0.0009,  ..., -0.0819, -0.0044,  0.2143],\n",
              "                      ...,\n",
              "                      [ 0.1281,  0.0398,  0.0074,  ...,  0.1229, -0.1714,  0.1434],\n",
              "                      [ 0.1541, -0.0851,  0.0280,  ...,  0.0616,  0.0299, -0.2087],\n",
              "                      [ 0.1846,  0.0469, -0.1249,  ...,  0.1342, -0.0126, -0.1100]])),\n",
              "             ('hidden.bias',\n",
              "              tensor([ 0.1265,  0.0047, -0.0804,  0.0236, -0.0020, -0.1066,  0.0773, -0.0313,\n",
              "                       0.1432, -0.1947, -0.1669, -0.2203,  0.1170,  0.0254,  0.1359,  0.0636,\n",
              "                       0.0987,  0.1478,  0.0551,  0.1652,  0.1703, -0.0137,  0.0888,  0.0736,\n",
              "                      -0.0634,  0.0950,  0.0031,  0.0596, -0.1446,  0.0529,  0.1491, -0.0073,\n",
              "                       0.2232, -0.0635, -0.1870,  0.0012,  0.0401,  0.1934,  0.1704,  0.1278,\n",
              "                       0.0423, -0.2000,  0.1872, -0.0972,  0.1114,  0.0170, -0.0543, -0.2086,\n",
              "                      -0.0466, -0.0737,  0.0840,  0.0682, -0.1375, -0.1789,  0.1609,  0.1142,\n",
              "                       0.0600, -0.0418,  0.0882, -0.0659,  0.2147, -0.1524, -0.1363,  0.1902,\n",
              "                       0.1312,  0.1308,  0.2106,  0.1483,  0.1196, -0.0227,  0.0975,  0.0206,\n",
              "                      -0.1093, -0.0289,  0.0507,  0.1591,  0.0969, -0.0068,  0.1360,  0.2227,\n",
              "                       0.0571, -0.1078,  0.0283, -0.2111,  0.0146,  0.1144,  0.1755,  0.0199,\n",
              "                      -0.0345, -0.1032, -0.0048, -0.0214, -0.1536, -0.2202, -0.0510,  0.0155,\n",
              "                      -0.0832,  0.1737, -0.1712,  0.2137,  0.1821,  0.2058, -0.1377, -0.0684,\n",
              "                      -0.1783, -0.1160, -0.0696,  0.0658,  0.0707,  0.0069, -0.2028,  0.1570,\n",
              "                       0.1571, -0.0814,  0.0725,  0.1151, -0.0155, -0.0328,  0.0385, -0.0201,\n",
              "                       0.1499,  0.0616, -0.1561,  0.0362, -0.2049,  0.0539,  0.1096, -0.1633,\n",
              "                       0.2127,  0.0041, -0.1211,  0.1495, -0.0498, -0.1863, -0.1823,  0.1854,\n",
              "                      -0.1498, -0.1587, -0.2022,  0.1165, -0.0713, -0.0964, -0.0497,  0.1300,\n",
              "                      -0.2159,  0.1475,  0.0357, -0.1181,  0.0754, -0.2118, -0.0714,  0.1413,\n",
              "                      -0.1102,  0.0309,  0.0520,  0.0405,  0.1510, -0.0318,  0.1313, -0.1490,\n",
              "                       0.1581, -0.0694, -0.0871, -0.0330,  0.0758,  0.2036, -0.1462,  0.2055,\n",
              "                       0.0516, -0.0681, -0.0842,  0.0583,  0.2005,  0.1054,  0.0631, -0.0757,\n",
              "                       0.0197,  0.0126,  0.1954,  0.1752,  0.1438,  0.1894,  0.1261, -0.0122,\n",
              "                       0.0798, -0.0333, -0.1166, -0.2205, -0.1094,  0.0299, -0.0302, -0.0853,\n",
              "                      -0.2144, -0.2115, -0.0373, -0.0451,  0.2123,  0.0564, -0.0440, -0.1897,\n",
              "                      -0.1224,  0.1443,  0.2191, -0.1657,  0.0750, -0.0971, -0.0305,  0.1434,\n",
              "                       0.1111, -0.0133, -0.1994, -0.0061,  0.2161, -0.0274, -0.1133,  0.0978,\n",
              "                       0.0574,  0.0103, -0.2021, -0.0820, -0.2230, -0.1939,  0.0749,  0.1243,\n",
              "                       0.1828,  0.1982, -0.0333,  0.2167,  0.2213,  0.2107,  0.1843, -0.0341,\n",
              "                       0.1630,  0.0139, -0.0844,  0.1200, -0.0366, -0.1143,  0.0515, -0.2126,\n",
              "                      -0.0345, -0.0374, -0.1000, -0.1164,  0.0597,  0.0223, -0.1047, -0.1988,\n",
              "                       0.1855, -0.1803, -0.1253,  0.0084, -0.1902,  0.1407,  0.1732,  0.0545])),\n",
              "             ('output.weight',\n",
              "              tensor([[ 0.0336,  0.0487,  0.0100,  ..., -0.0206, -0.0548, -0.0172],\n",
              "                      [ 0.0440,  0.0423, -0.0606,  ..., -0.0621, -0.0326, -0.0420],\n",
              "                      [ 0.0481,  0.0213, -0.0197,  ..., -0.0146, -0.0345, -0.0356],\n",
              "                      ...,\n",
              "                      [ 0.0037, -0.0073,  0.0480,  ..., -0.0403, -0.0623, -0.0225],\n",
              "                      [ 0.0507, -0.0442,  0.0315,  ..., -0.0059, -0.0309, -0.0611],\n",
              "                      [ 0.0617,  0.0169,  0.0107,  ...,  0.0615,  0.0204, -0.0412]])),\n",
              "             ('output.bias',\n",
              "              tensor([ 0.0475, -0.0421, -0.0489,  0.0014,  0.0116, -0.0582,  0.0236,  0.0597,\n",
              "                       0.0360,  0.0496]))])"
            ]
          },
          "metadata": {},
          "execution_count": 112
        }
      ]
    },
    {
      "cell_type": "code",
      "source": [
        "clone.eval??"
      ],
      "metadata": {
        "id": "p3n_SWWbAQwl"
      },
      "execution_count": 114,
      "outputs": []
    },
    {
      "cell_type": "code",
      "source": [
        "clone.eval()"
      ],
      "metadata": {
        "colab": {
          "base_uri": "https://localhost:8080/"
        },
        "id": "x8FBMAgRAU9d",
        "outputId": "724a860a-a964-4af4-b5b0-c036b09044fd"
      },
      "execution_count": 115,
      "outputs": [
        {
          "output_type": "execute_result",
          "data": {
            "text/plain": [
              "MLP(\n",
              "  (hidden): LazyLinear(in_features=0, out_features=256, bias=True)\n",
              "  (output): LazyLinear(in_features=0, out_features=10, bias=True)\n",
              ")"
            ]
          },
          "metadata": {},
          "execution_count": 115
        }
      ]
    },
    {
      "cell_type": "code",
      "source": [
        "y_clone = clone(X)\n",
        "(y_clone == y).sum() / y.numel()"
      ],
      "metadata": {
        "colab": {
          "base_uri": "https://localhost:8080/"
        },
        "id": "2YFaDIgCAkCd",
        "outputId": "9d036662-e055-4c14-cc54-d44d17251287"
      },
      "execution_count": 117,
      "outputs": [
        {
          "output_type": "execute_result",
          "data": {
            "text/plain": [
              "tensor(1.)"
            ]
          },
          "metadata": {},
          "execution_count": 117
        }
      ]
    },
    {
      "cell_type": "code",
      "source": [
        "net"
      ],
      "metadata": {
        "colab": {
          "base_uri": "https://localhost:8080/"
        },
        "id": "Fi65z-wNAsnE",
        "outputId": "e25ef200-625d-4d56-8b97-e7087a46ceea"
      },
      "execution_count": 118,
      "outputs": [
        {
          "output_type": "execute_result",
          "data": {
            "text/plain": [
              "MLP(\n",
              "  (hidden): Linear(in_features=20, out_features=256, bias=True)\n",
              "  (output): Linear(in_features=256, out_features=10, bias=True)\n",
              ")"
            ]
          },
          "metadata": {},
          "execution_count": 118
        }
      ]
    },
    {
      "cell_type": "markdown",
      "source": [
        "## Ex 6.6 :"
      ],
      "metadata": {
        "id": "JWqRhYS4Bp_J"
      }
    },
    {
      "cell_type": "markdown",
      "source": [
        "### Q2:"
      ],
      "metadata": {
        "id": "BvVKCLe2Bs8k"
      }
    },
    {
      "cell_type": "code",
      "source": [
        "torch.save(net.hidden.state_dict(), \"hidden-layer.params\")"
      ],
      "metadata": {
        "id": "iWnHb2F4BO2t"
      },
      "execution_count": 123,
      "outputs": []
    },
    {
      "cell_type": "code",
      "source": [
        "class MLPNew(nn.Module):\n",
        "\n",
        "  def __init__(self):\n",
        "    super().__init__()\n",
        "    self.lin = nn.Linear(20, 256)\n",
        "\n",
        "  def forward(self, X):\n",
        "    return self.lin(X)"
      ],
      "metadata": {
        "id": "mX9nABX3CAVL"
      },
      "execution_count": 139,
      "outputs": []
    },
    {
      "cell_type": "code",
      "source": [
        "net = MLPNew()\n",
        "net.lin.weight = nn.Parameter(clone.state_dict()['hidden.weight'])"
      ],
      "metadata": {
        "id": "U19HZ2DpCISI"
      },
      "execution_count": 132,
      "outputs": []
    },
    {
      "cell_type": "code",
      "source": [
        "net.lin.state_dict()"
      ],
      "metadata": {
        "colab": {
          "base_uri": "https://localhost:8080/"
        },
        "id": "ac6B3f3ODOSS",
        "outputId": "bdf21544-72a2-425b-938f-e3d8a011be86"
      },
      "execution_count": 133,
      "outputs": [
        {
          "output_type": "execute_result",
          "data": {
            "text/plain": [
              "OrderedDict([('weight',\n",
              "              tensor([[ 0.0287, -0.0146,  0.0701,  ...,  0.1563,  0.0158, -0.0303],\n",
              "                      [ 0.0798, -0.1728,  0.1105,  ..., -0.2046,  0.2036, -0.1254],\n",
              "                      [ 0.1253, -0.1406, -0.0009,  ..., -0.0819, -0.0044,  0.2143],\n",
              "                      ...,\n",
              "                      [ 0.1281,  0.0398,  0.0074,  ...,  0.1229, -0.1714,  0.1434],\n",
              "                      [ 0.1541, -0.0851,  0.0280,  ...,  0.0616,  0.0299, -0.2087],\n",
              "                      [ 0.1846,  0.0469, -0.1249,  ...,  0.1342, -0.0126, -0.1100]])),\n",
              "             ('bias',\n",
              "              tensor([ 0.0069, -0.2186, -0.1652,  0.0923,  0.0552,  0.0040,  0.0875,  0.1530,\n",
              "                      -0.0502, -0.1344,  0.0320,  0.1739, -0.0271, -0.2046,  0.0388, -0.1067,\n",
              "                       0.0258, -0.0936,  0.0227, -0.0755,  0.0630,  0.0881, -0.0777, -0.1336,\n",
              "                      -0.1337, -0.0519,  0.0351, -0.0594,  0.0970,  0.1163, -0.0597,  0.1036,\n",
              "                       0.1027, -0.2203, -0.0135, -0.2010,  0.2211, -0.0800, -0.0117, -0.1423,\n",
              "                      -0.1727, -0.1781,  0.0304, -0.0799,  0.2144,  0.0111, -0.1950, -0.1075,\n",
              "                      -0.0723, -0.1625,  0.1357,  0.0202, -0.0245, -0.0545,  0.2148, -0.0223,\n",
              "                       0.0301, -0.1249, -0.2070,  0.0115,  0.0263, -0.2211, -0.1443,  0.0251,\n",
              "                      -0.0914, -0.0653, -0.1868, -0.1321, -0.0804,  0.1188, -0.0482, -0.0501,\n",
              "                       0.2199,  0.0360,  0.0320, -0.0334,  0.1587, -0.1561, -0.0536,  0.0265,\n",
              "                       0.0269,  0.2089,  0.1961,  0.0631, -0.0472, -0.0256, -0.0578,  0.1920,\n",
              "                       0.1274,  0.0291, -0.0932, -0.1591, -0.0778, -0.1459,  0.1434, -0.2162,\n",
              "                      -0.1965, -0.2106, -0.1498, -0.1864,  0.0382, -0.1776, -0.0683,  0.1952,\n",
              "                       0.0014,  0.0096, -0.0498, -0.1132, -0.1313,  0.1300,  0.1774, -0.2146,\n",
              "                       0.1919,  0.0938,  0.1674, -0.1933, -0.2198, -0.2171, -0.1696, -0.1175,\n",
              "                       0.1670, -0.2126, -0.1752,  0.0799, -0.1247,  0.1048, -0.1724,  0.0419,\n",
              "                      -0.1317, -0.1154, -0.1113,  0.2184,  0.1031, -0.0178, -0.1244,  0.1906,\n",
              "                       0.2121, -0.1143, -0.0052, -0.0314,  0.1072, -0.1672, -0.0407,  0.0994,\n",
              "                      -0.0666, -0.1676, -0.0637, -0.0015,  0.0128, -0.0827, -0.0632,  0.1722,\n",
              "                      -0.0427, -0.2224, -0.1402, -0.1562, -0.2001,  0.1667, -0.1527,  0.0245,\n",
              "                       0.0683, -0.2057,  0.0925, -0.1436, -0.2025,  0.0426,  0.2165, -0.1143,\n",
              "                      -0.1026,  0.0687, -0.1951, -0.0251, -0.1785, -0.2176,  0.1805, -0.2130,\n",
              "                       0.0123,  0.0922,  0.0157, -0.1241, -0.0432,  0.2182, -0.1492,  0.0463,\n",
              "                      -0.1397,  0.1754, -0.0069, -0.1134, -0.0011,  0.1416,  0.1154,  0.1483,\n",
              "                       0.2178, -0.0970, -0.0500,  0.2029, -0.0761,  0.1761, -0.0169, -0.0170,\n",
              "                      -0.0230, -0.1774, -0.1317, -0.0809, -0.1665, -0.0128, -0.0022, -0.0291,\n",
              "                      -0.0904, -0.1828,  0.0669, -0.0807, -0.1519, -0.0116, -0.1908, -0.0298,\n",
              "                       0.1035,  0.0793, -0.1297, -0.1229, -0.0231, -0.0671, -0.0559, -0.0759,\n",
              "                      -0.0463,  0.0917, -0.1991,  0.1483, -0.1582, -0.1940,  0.0216, -0.1426,\n",
              "                       0.1504, -0.1432,  0.1423, -0.1169,  0.0169,  0.1378, -0.0539, -0.1786,\n",
              "                       0.0747,  0.0066, -0.0381, -0.0409, -0.1911, -0.1464, -0.0443,  0.1700,\n",
              "                       0.2171,  0.0245,  0.1156,  0.0230, -0.0021, -0.0977,  0.0034, -0.1454]))])"
            ]
          },
          "metadata": {},
          "execution_count": 133
        }
      ]
    },
    {
      "cell_type": "markdown",
      "source": [
        "### Q3:"
      ],
      "metadata": {
        "id": "hta9RBO6DaEh"
      }
    },
    {
      "cell_type": "code",
      "source": [
        "torch.save(net, 'net')"
      ],
      "metadata": {
        "id": "FzH9SiByDT3R"
      },
      "execution_count": 134,
      "outputs": []
    },
    {
      "cell_type": "code",
      "source": [
        "net2 = torch.load('net')"
      ],
      "metadata": {
        "id": "adVRaUXZDdaf"
      },
      "execution_count": 140,
      "outputs": []
    },
    {
      "cell_type": "code",
      "source": [
        "net2"
      ],
      "metadata": {
        "colab": {
          "base_uri": "https://localhost:8080/"
        },
        "id": "qsU1D8QLDhl5",
        "outputId": "45936a70-cd9d-40eb-e310-584cf26e9fcf"
      },
      "execution_count": 141,
      "outputs": [
        {
          "output_type": "execute_result",
          "data": {
            "text/plain": [
              "MLPNew(\n",
              "  (lin): Linear(in_features=20, out_features=256, bias=True)\n",
              ")"
            ]
          },
          "metadata": {},
          "execution_count": 141
        }
      ]
    },
    {
      "cell_type": "markdown",
      "source": [
        "# 6.7 : GPUs"
      ],
      "metadata": {
        "id": "8pRpgjbiDyF4"
      }
    },
    {
      "cell_type": "code",
      "source": [
        "!nvidia-smi"
      ],
      "metadata": {
        "colab": {
          "base_uri": "https://localhost:8080/"
        },
        "id": "jbTtXuC2D0gQ",
        "outputId": "604f2fd5-445f-4fad-d5d9-af30921fb71d"
      },
      "execution_count": 1,
      "outputs": [
        {
          "output_type": "stream",
          "name": "stdout",
          "text": [
            "Wed Dec 14 19:47:13 2022       \n",
            "+-----------------------------------------------------------------------------+\n",
            "| NVIDIA-SMI 460.32.03    Driver Version: 460.32.03    CUDA Version: 11.2     |\n",
            "|-------------------------------+----------------------+----------------------+\n",
            "| GPU  Name        Persistence-M| Bus-Id        Disp.A | Volatile Uncorr. ECC |\n",
            "| Fan  Temp  Perf  Pwr:Usage/Cap|         Memory-Usage | GPU-Util  Compute M. |\n",
            "|                               |                      |               MIG M. |\n",
            "|===============================+======================+======================|\n",
            "|   0  Tesla T4            Off  | 00000000:00:04.0 Off |                    0 |\n",
            "| N/A   54C    P0    29W /  70W |      0MiB / 15109MiB |      0%      Default |\n",
            "|                               |                      |                  N/A |\n",
            "+-------------------------------+----------------------+----------------------+\n",
            "                                                                               \n",
            "+-----------------------------------------------------------------------------+\n",
            "| Processes:                                                                  |\n",
            "|  GPU   GI   CI        PID   Type   Process name                  GPU Memory |\n",
            "|        ID   ID                                                   Usage      |\n",
            "|=============================================================================|\n",
            "|  No running processes found                                                 |\n",
            "+-----------------------------------------------------------------------------+\n"
          ]
        }
      ]
    },
    {
      "cell_type": "code",
      "source": [
        "import torch\n",
        "from torch import nn\n",
        "from d2l import torch as d2l"
      ],
      "metadata": {
        "id": "MSEYzP0PLK0t"
      },
      "execution_count": 3,
      "outputs": []
    },
    {
      "cell_type": "code",
      "source": [
        "def cpu():\n",
        "  return torch.device('cpu')\n",
        "\n",
        "def gpu(i=0):\n",
        "  return torch.device(f\"cuda:{i}\")"
      ],
      "metadata": {
        "id": "5R0MR_uFLiYD"
      },
      "execution_count": 6,
      "outputs": []
    },
    {
      "cell_type": "code",
      "source": [
        "cpu(), gpu(), gpu(1)"
      ],
      "metadata": {
        "colab": {
          "base_uri": "https://localhost:8080/"
        },
        "id": "o54uQyLqLtS3",
        "outputId": "c415af5d-4a1e-44c6-83ac-e1244cde248e"
      },
      "execution_count": 7,
      "outputs": [
        {
          "output_type": "execute_result",
          "data": {
            "text/plain": [
              "(device(type='cpu'),\n",
              " device(type='cuda', index=0),\n",
              " device(type='cuda', index=1))"
            ]
          },
          "metadata": {},
          "execution_count": 7
        }
      ]
    },
    {
      "cell_type": "code",
      "source": [
        "# number of available gpus\n",
        "def num_gpus():\n",
        "  return torch.cuda.device_count()"
      ],
      "metadata": {
        "id": "RW06fFVCLwaY"
      },
      "execution_count": 8,
      "outputs": []
    },
    {
      "cell_type": "code",
      "source": [
        "num_gpus()"
      ],
      "metadata": {
        "colab": {
          "base_uri": "https://localhost:8080/"
        },
        "id": "7pLMb3x4L_dC",
        "outputId": "6c880a60-6f22-4d15-ca70-072e1369c5ad"
      },
      "execution_count": 9,
      "outputs": [
        {
          "output_type": "execute_result",
          "data": {
            "text/plain": [
              "1"
            ]
          },
          "metadata": {},
          "execution_count": 9
        }
      ]
    },
    {
      "cell_type": "code",
      "source": [
        "def try_gpu(i=0):\n",
        "  if num_gpus() >= i+1:\n",
        "    return gpu(i)\n",
        "  return cpu()"
      ],
      "metadata": {
        "id": "0r1nzLWFMBL9"
      },
      "execution_count": 10,
      "outputs": []
    },
    {
      "cell_type": "code",
      "source": [
        "def try_all_gpus():\n",
        "  return [gpu(i) for i in range(num_gpus())]"
      ],
      "metadata": {
        "id": "dZn4IwRNMSX0"
      },
      "execution_count": 11,
      "outputs": []
    },
    {
      "cell_type": "code",
      "source": [
        "try_gpu(), try_gpu(10), try_all_gpus()"
      ],
      "metadata": {
        "colab": {
          "base_uri": "https://localhost:8080/"
        },
        "id": "tX_emEfVMcC6",
        "outputId": "47fbed3a-039c-4152-f1bd-edd9b1ac0571"
      },
      "execution_count": 12,
      "outputs": [
        {
          "output_type": "execute_result",
          "data": {
            "text/plain": [
              "(device(type='cuda', index=0),\n",
              " device(type='cpu'),\n",
              " [device(type='cuda', index=0)])"
            ]
          },
          "metadata": {},
          "execution_count": 12
        }
      ]
    },
    {
      "cell_type": "code",
      "source": [
        "x = torch.tensor([1, 2, 3])\n",
        "x.device"
      ],
      "metadata": {
        "colab": {
          "base_uri": "https://localhost:8080/"
        },
        "id": "ixfla0NiMglI",
        "outputId": "b7e95670-dd10-4763-c48d-a20463eb5192"
      },
      "execution_count": 13,
      "outputs": [
        {
          "output_type": "execute_result",
          "data": {
            "text/plain": [
              "device(type='cpu')"
            ]
          },
          "metadata": {},
          "execution_count": 13
        }
      ]
    },
    {
      "cell_type": "code",
      "source": [
        "X = torch.ones(2, 3, device=try_gpu())\n",
        "X"
      ],
      "metadata": {
        "colab": {
          "base_uri": "https://localhost:8080/"
        },
        "id": "Wt9OBEqZMnu3",
        "outputId": "552358ad-b604-465e-ae2b-b93ce9312900"
      },
      "execution_count": 14,
      "outputs": [
        {
          "output_type": "execute_result",
          "data": {
            "text/plain": [
              "tensor([[1., 1., 1.],\n",
              "        [1., 1., 1.]], device='cuda:0')"
            ]
          },
          "metadata": {},
          "execution_count": 14
        }
      ]
    },
    {
      "cell_type": "code",
      "source": [
        "X.cuda(0) is X"
      ],
      "metadata": {
        "colab": {
          "base_uri": "https://localhost:8080/"
        },
        "id": "mWpwXhQsM5wG",
        "outputId": "000a5321-7cff-4b0b-9861-49815ecf6d33"
      },
      "execution_count": 15,
      "outputs": [
        {
          "output_type": "execute_result",
          "data": {
            "text/plain": [
              "True"
            ]
          },
          "metadata": {},
          "execution_count": 15
        }
      ]
    },
    {
      "cell_type": "code",
      "source": [
        "net = nn.Sequential(nn.LazyLinear(1))\n",
        "net = net.to(device=try_gpu())"
      ],
      "metadata": {
        "colab": {
          "base_uri": "https://localhost:8080/"
        },
        "id": "E3Npzsp9NMaF",
        "outputId": "5ec9da2e-7d1b-4e89-bf52-ba2b63e4798f"
      },
      "execution_count": 16,
      "outputs": [
        {
          "output_type": "stream",
          "name": "stderr",
          "text": [
            "/usr/local/lib/python3.8/dist-packages/torch/nn/modules/lazy.py:180: UserWarning: Lazy modules are a new feature under heavy development so changes to the API or functionality can happen at any moment.\n",
            "  warnings.warn('Lazy modules are a new feature under heavy development '\n"
          ]
        }
      ]
    },
    {
      "cell_type": "code",
      "source": [
        "net"
      ],
      "metadata": {
        "colab": {
          "base_uri": "https://localhost:8080/"
        },
        "id": "HxK7M3QeNxmh",
        "outputId": "7cc0abf8-3fc6-41e3-ac74-6c6488db168b"
      },
      "execution_count": 17,
      "outputs": [
        {
          "output_type": "execute_result",
          "data": {
            "text/plain": [
              "Sequential(\n",
              "  (0): LazyLinear(in_features=0, out_features=1, bias=True)\n",
              ")"
            ]
          },
          "metadata": {},
          "execution_count": 17
        }
      ]
    },
    {
      "cell_type": "code",
      "source": [
        "X = torch.randn(4, 5).to(device=try_gpu())\n",
        "net(X)"
      ],
      "metadata": {
        "colab": {
          "base_uri": "https://localhost:8080/"
        },
        "id": "W_aqzHR6Nynz",
        "outputId": "38c6133f-d00f-4306-eb7e-1328586e563e"
      },
      "execution_count": 19,
      "outputs": [
        {
          "output_type": "execute_result",
          "data": {
            "text/plain": [
              "tensor([[ 0.0521],\n",
              "        [-1.0764],\n",
              "        [ 1.0121],\n",
              "        [ 0.5752]], device='cuda:0', grad_fn=<AddmmBackward0>)"
            ]
          },
          "metadata": {},
          "execution_count": 19
        }
      ]
    },
    {
      "cell_type": "code",
      "source": [
        "net[0].weight.data"
      ],
      "metadata": {
        "colab": {
          "base_uri": "https://localhost:8080/"
        },
        "id": "bctKJsDKN6OF",
        "outputId": "5afd3a7d-cee2-4589-e670-1d9a5dab21b2"
      },
      "execution_count": 21,
      "outputs": [
        {
          "output_type": "execute_result",
          "data": {
            "text/plain": [
              "tensor([[ 0.0932,  0.3174, -0.1168, -0.3216, -0.3239]], device='cuda:0')"
            ]
          },
          "metadata": {},
          "execution_count": 21
        }
      ]
    },
    {
      "cell_type": "code",
      "source": [
        "net[0].bias.data"
      ],
      "metadata": {
        "colab": {
          "base_uri": "https://localhost:8080/"
        },
        "id": "oFWK7dYXOEJG",
        "outputId": "775a9cdf-49d7-40e1-fcb9-e500c6eef6be"
      },
      "execution_count": 22,
      "outputs": [
        {
          "output_type": "execute_result",
          "data": {
            "text/plain": [
              "tensor([0.0663], device='cuda:0')"
            ]
          },
          "metadata": {},
          "execution_count": 22
        }
      ]
    },
    {
      "cell_type": "code",
      "source": [
        "@d2l.add_to_class(d2l.Trainer)\n",
        "def __init__(self, max_epochs, num_gpus=0, gradient_clip_val=0):\n",
        "  self.save_hyperparameters()\n",
        "  self.gpus = [d2l.gpu(i) for i in range(min(num_gpus, d2l.num_gpus()))]\n",
        "\n",
        "@d2l.add_to_class(d2l.Trainer)\n",
        "def prepare_batch(self, batch):\n",
        "  if self.gpus:\n",
        "    batch = [a.to(self.gpus[0]) for a in batch]\n",
        "  return batch\n",
        "\n",
        "@d2l.add_to_class(d2l.Trainer)\n",
        "def prepare_model(self, model):\n",
        "  model.trainer = self\n",
        "  model.board.xlim = [0, self.max_epochs]\n",
        "  if self.gpus:\n",
        "    model.to(self.gpus[0])\n",
        "  self.model = model"
      ],
      "metadata": {
        "id": "1T63K8h6OH8X"
      },
      "execution_count": 23,
      "outputs": []
    },
    {
      "cell_type": "markdown",
      "source": [
        "## Ex 6.7:"
      ],
      "metadata": {
        "id": "wClfzKjyPqvz"
      }
    },
    {
      "cell_type": "markdown",
      "source": [
        "### Q2:"
      ],
      "metadata": {
        "id": "EUXkEzOQPs6j"
      }
    },
    {
      "cell_type": "code",
      "source": [
        "net.to(device=try_gpu())"
      ],
      "metadata": {
        "id": "Il989KgiPTKA"
      },
      "execution_count": null,
      "outputs": []
    },
    {
      "cell_type": "markdown",
      "source": [
        "### Q3:"
      ],
      "metadata": {
        "id": "uNeNlMMUQic2"
      }
    },
    {
      "cell_type": "code",
      "source": [
        "X = torch.randn(100, 100).to(device=try_gpu())\n",
        "for i in range(1000):\n",
        "  X = torch.mm(X, torch.randn(100, 100).to(device=gpu()))\n",
        "\n",
        "\n",
        "log_X_fn = torch.log(torch.sqrt(((X.reshape(-1)) ** 2).sum()))\n",
        "ans = log_X_fn.to(device=cpu())\n",
        "print(ans)"
      ],
      "metadata": {
        "id": "I4BzuhJZQjr7"
      },
      "execution_count": 39,
      "outputs": []
    },
    {
      "cell_type": "code",
      "source": [
        "torch.rand??"
      ],
      "metadata": {
        "id": "aVtU3iPwSFb3"
      },
      "execution_count": 38,
      "outputs": []
    },
    {
      "cell_type": "code",
      "source": [],
      "metadata": {
        "id": "cTzEkGeNSTp4"
      },
      "execution_count": null,
      "outputs": []
    }
  ],
  "metadata": {
    "colab": {
      "provenance": [],
      "collapsed_sections": [
        "vOldJAZe34lR",
        "S4NLPDUuhN-H",
        "PUjRUyksrHaS",
        "lNBqi8hm16G1",
        "AYJHRXZy8NX1"
      ],
      "authorship_tag": "ABX9TyN0BPbFX5o9HuHnw1Lzfkb9",
      "include_colab_link": true
    },
    "kernelspec": {
      "display_name": "Python 3",
      "name": "python3"
    },
    "language_info": {
      "name": "python"
    },
    "accelerator": "GPU",
    "gpuClass": "standard"
  },
  "nbformat": 4,
  "nbformat_minor": 0
}