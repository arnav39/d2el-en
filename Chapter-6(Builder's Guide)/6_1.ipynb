{
  "nbformat": 4,
  "nbformat_minor": 0,
  "metadata": {
    "colab": {
      "provenance": [],
      "authorship_tag": "ABX9TyPi4gwkecWvVewOEobDPmU1",
      "include_colab_link": true
    },
    "kernelspec": {
      "name": "python3",
      "display_name": "Python 3"
    },
    "language_info": {
      "name": "python"
    }
  },
  "cells": [
    {
      "cell_type": "markdown",
      "metadata": {
        "id": "view-in-github",
        "colab_type": "text"
      },
      "source": [
        "<a href=\"https://colab.research.google.com/github/arnav39/d2el-en/blob/main/6_1.ipynb\" target=\"_parent\"><img src=\"https://colab.research.google.com/assets/colab-badge.svg\" alt=\"Open In Colab\"/></a>"
      ]
    },
    {
      "cell_type": "markdown",
      "source": [
        "# 6.1 : Layers and Modules"
      ],
      "metadata": {
        "id": "14L423z2nAVn"
      }
    },
    {
      "cell_type": "code",
      "execution_count": 1,
      "metadata": {
        "id": "EY1ZVTp1m9V4"
      },
      "outputs": [],
      "source": [
        "import torch\n",
        "from torch import nn\n",
        "from torch.nn import functional as F"
      ]
    },
    {
      "cell_type": "code",
      "source": [
        "net = nn.Sequential(nn.LazyLinear(256),\n",
        "                    nn.ReLU(),\n",
        "                    nn.LazyLinear(10))"
      ],
      "metadata": {
        "colab": {
          "base_uri": "https://localhost:8080/"
        },
        "id": "M_KEs3fan4fc",
        "outputId": "a9d12a04-db49-4e3d-fd41-08977b5cad17"
      },
      "execution_count": 2,
      "outputs": [
        {
          "output_type": "stream",
          "name": "stderr",
          "text": [
            "/usr/local/lib/python3.8/dist-packages/torch/nn/modules/lazy.py:180: UserWarning: Lazy modules are a new feature under heavy development so changes to the API or functionality can happen at any moment.\n",
            "  warnings.warn('Lazy modules are a new feature under heavy development '\n"
          ]
        }
      ]
    },
    {
      "cell_type": "code",
      "source": [
        "X = torch.randn(2, 20)\n",
        "net(X).shape"
      ],
      "metadata": {
        "colab": {
          "base_uri": "https://localhost:8080/"
        },
        "id": "0j1PN6iwoF-z",
        "outputId": "148b9b54-b823-4245-a278-5b4941c369d4"
      },
      "execution_count": 11,
      "outputs": [
        {
          "output_type": "stream",
          "name": "stdout",
          "text": [
            "Linear(in_features=20, out_features=256, bias=True)\n",
            "ReLU()\n",
            "Linear(in_features=256, out_features=10, bias=True)\n"
          ]
        },
        {
          "output_type": "execute_result",
          "data": {
            "text/plain": [
              "torch.Size([2, 10])"
            ]
          },
          "metadata": {},
          "execution_count": 11
        }
      ]
    },
    {
      "cell_type": "code",
      "source": [
        "net.__call__(X).shape"
      ],
      "metadata": {
        "colab": {
          "base_uri": "https://localhost:8080/"
        },
        "id": "VpNp7jb4oKzj",
        "outputId": "2fb99b24-9cf6-424d-e3ad-9fabbd652b7c"
      },
      "execution_count": 4,
      "outputs": [
        {
          "output_type": "execute_result",
          "data": {
            "text/plain": [
              "torch.Size([2, 10])"
            ]
          },
          "metadata": {},
          "execution_count": 4
        }
      ]
    },
    {
      "cell_type": "code",
      "source": [
        "class MLP(nn.Module):\n",
        "\n",
        "  def __init__(self):\n",
        "    super().__init__()\n",
        "    self.hidden = nn.LazyLinear(256)\n",
        "    self.out = nn.LazyLinear(10)\n",
        "\n",
        "  def forward(self, X):\n",
        "    return self.out(F.relu(self.hidden(X)))"
      ],
      "metadata": {
        "id": "8kttZXieodVO"
      },
      "execution_count": 5,
      "outputs": []
    },
    {
      "cell_type": "code",
      "source": [
        "net = MLP()\n",
        "net(X).shape"
      ],
      "metadata": {
        "colab": {
          "base_uri": "https://localhost:8080/"
        },
        "id": "Wo41wiJxpHN8",
        "outputId": "a65ab11b-c7d1-47ae-a326-a5700a58dbe5"
      },
      "execution_count": 6,
      "outputs": [
        {
          "output_type": "stream",
          "name": "stderr",
          "text": [
            "/usr/local/lib/python3.8/dist-packages/torch/nn/modules/lazy.py:180: UserWarning: Lazy modules are a new feature under heavy development so changes to the API or functionality can happen at any moment.\n",
            "  warnings.warn('Lazy modules are a new feature under heavy development '\n"
          ]
        },
        {
          "output_type": "execute_result",
          "data": {
            "text/plain": [
              "torch.Size([2, 10])"
            ]
          },
          "metadata": {},
          "execution_count": 6
        }
      ]
    },
    {
      "cell_type": "code",
      "source": [
        "nn.Sequential.add_module??"
      ],
      "metadata": {
        "id": "IlNaiFLkp8QE"
      },
      "execution_count": 7,
      "outputs": []
    },
    {
      "cell_type": "code",
      "source": [
        "class MySequential(nn.Module):\n",
        "  \n",
        "  def __init__(self, *args):\n",
        "    super().__init__()\n",
        "    for idx, module in enumerate(args):\n",
        "      self.add_module(str(idx), module)\n",
        "    \n",
        "  def forward(self, X):\n",
        "    for module in self.children():\n",
        "      print(module)\n",
        "      X = module(X)\n",
        "    return X"
      ],
      "metadata": {
        "id": "q-I4oLVkpYB4"
      },
      "execution_count": 44,
      "outputs": []
    },
    {
      "cell_type": "code",
      "source": [
        "net = MySequential(nn.LazyLinear(256), nn.ReLU(), nn.LazyLinear(10))\n",
        "net(X).shape"
      ],
      "metadata": {
        "colab": {
          "base_uri": "https://localhost:8080/"
        },
        "id": "cbCR8cSXqaXK",
        "outputId": "ddd3c167-c664-48b2-806f-7b8de3d8bb99"
      },
      "execution_count": 45,
      "outputs": [
        {
          "output_type": "stream",
          "name": "stdout",
          "text": [
            "LazyLinear(in_features=0, out_features=256, bias=True)\n",
            "ReLU()\n",
            "LazyLinear(in_features=0, out_features=10, bias=True)\n"
          ]
        },
        {
          "output_type": "stream",
          "name": "stderr",
          "text": [
            "/usr/local/lib/python3.8/dist-packages/torch/nn/modules/lazy.py:180: UserWarning: Lazy modules are a new feature under heavy development so changes to the API or functionality can happen at any moment.\n",
            "  warnings.warn('Lazy modules are a new feature under heavy development '\n"
          ]
        },
        {
          "output_type": "execute_result",
          "data": {
            "text/plain": [
              "torch.Size([2, 10])"
            ]
          },
          "metadata": {},
          "execution_count": 45
        }
      ]
    },
    {
      "cell_type": "code",
      "source": [
        "\n",
        "class FixedHiddenMLP(nn.Module):\n",
        "\n",
        "  def __init__(self):\n",
        "    super().__init__()\n",
        "    self.rand_weight = torch.rand(20, 20) # keeps constant during training phase\n",
        "    self.linear = nn.LazyLinear(20)\n",
        "\n",
        "  def forward(self, X):\n",
        "    X = self.linear(X)\n",
        "    X = F.relu(torch.mm(X, self.rand_weight) + 1)\n",
        "    X = self.linear(X)\n",
        "\n",
        "    # control flow : \n",
        "    while X.abs().sum() > 1:\n",
        "      X /= 2\n",
        "    return X.sum()"
      ],
      "metadata": {
        "id": "Ulh0_7yNqnw-"
      },
      "execution_count": 13,
      "outputs": []
    },
    {
      "cell_type": "code",
      "source": [
        "net = FixedHiddenMLP()\n",
        "net(X).shape\n",
        "print(net(X))"
      ],
      "metadata": {
        "colab": {
          "base_uri": "https://localhost:8080/"
        },
        "id": "kCK6w4dVsRDh",
        "outputId": "2d788b9d-dce0-4d6e-d3db-5dbcb90cef38"
      },
      "execution_count": 15,
      "outputs": [
        {
          "output_type": "stream",
          "name": "stdout",
          "text": [
            "tensor(-0.3517, grad_fn=<SumBackward0>)\n"
          ]
        },
        {
          "output_type": "stream",
          "name": "stderr",
          "text": [
            "/usr/local/lib/python3.8/dist-packages/torch/nn/modules/lazy.py:180: UserWarning: Lazy modules are a new feature under heavy development so changes to the API or functionality can happen at any moment.\n",
            "  warnings.warn('Lazy modules are a new feature under heavy development '\n"
          ]
        }
      ]
    },
    {
      "cell_type": "code",
      "source": [
        "class NestMLP(nn.Module):\n",
        "\n",
        "  def __init__(self):\n",
        "    super().__init__()\n",
        "    self.net = nn.Sequential(nn.LazyLinear(64), nn.ReLU(),\n",
        "                             nn.LazyLinear(32), nn.ReLU())\n",
        "    self.linear = nn.LazyLinear(16)\n",
        "\n",
        "  def forward(self, X):\n",
        "    return self.linear(self.net(X))"
      ],
      "metadata": {
        "id": "_Ei_luIMsU7i"
      },
      "execution_count": 16,
      "outputs": []
    },
    {
      "cell_type": "code",
      "source": [
        "chimera = nn.Sequential(NestMLP(), nn.LazyLinear(20), FixedHiddenMLP())"
      ],
      "metadata": {
        "colab": {
          "base_uri": "https://localhost:8080/"
        },
        "id": "hNHmKeKpulyR",
        "outputId": "d1f5116e-4ecb-4a9c-fa02-da198b1a10f9"
      },
      "execution_count": 17,
      "outputs": [
        {
          "output_type": "stream",
          "name": "stderr",
          "text": [
            "/usr/local/lib/python3.8/dist-packages/torch/nn/modules/lazy.py:180: UserWarning: Lazy modules are a new feature under heavy development so changes to the API or functionality can happen at any moment.\n",
            "  warnings.warn('Lazy modules are a new feature under heavy development '\n"
          ]
        }
      ]
    },
    {
      "cell_type": "code",
      "source": [
        "chimera(X)"
      ],
      "metadata": {
        "colab": {
          "base_uri": "https://localhost:8080/"
        },
        "id": "0VgUsyBcuuQj",
        "outputId": "4c5f37cd-2f4c-40d6-93df-fe19ce63cfd4"
      },
      "execution_count": 18,
      "outputs": [
        {
          "output_type": "execute_result",
          "data": {
            "text/plain": [
              "tensor(0.0050, grad_fn=<SumBackward0>)"
            ]
          },
          "metadata": {},
          "execution_count": 18
        }
      ]
    },
    {
      "cell_type": "markdown",
      "source": [
        "## Ex 6.1 :"
      ],
      "metadata": {
        "id": "sOQxWRDBveI4"
      }
    },
    {
      "cell_type": "markdown",
      "source": [
        "### Q1:\n",
        "\n",
        "- state_dic : Python dictionary that maps each layer to its parameter tensor\n",
        "- when we use list instead of add_module the state_dict is empty"
      ],
      "metadata": {
        "id": "3xtamDSgvhjS"
      }
    },
    {
      "cell_type": "code",
      "source": [
        "class ListNet(nn.Module):\n",
        "\n",
        "  def __init__(self, *args):\n",
        "    super().__init__()\n",
        "    self.net = []\n",
        "    for module in args:\n",
        "      self.net.append(module)\n",
        "\n",
        "  def forward(self, X):\n",
        "    for module in self.net:\n",
        "      X = module(X)\n",
        "    return X"
      ],
      "metadata": {
        "id": "5BkSkySouvvS"
      },
      "execution_count": 19,
      "outputs": []
    },
    {
      "cell_type": "code",
      "source": [
        "net = ListNet(nn.LazyLinear(256), nn.ReLU(), nn.LazyLinear(128), nn.ReLU(), nn.LazyLinear(10))\n",
        "net(X)"
      ],
      "metadata": {
        "colab": {
          "base_uri": "https://localhost:8080/"
        },
        "id": "8SUsAj73w5KG",
        "outputId": "b50c234e-ac95-49c7-a4e6-c580244954b9"
      },
      "execution_count": 21,
      "outputs": [
        {
          "output_type": "execute_result",
          "data": {
            "text/plain": [
              "tensor([[ 0.0274,  0.0260,  0.1973,  0.0147,  0.0318,  0.0287, -0.0385, -0.1426,\n",
              "         -0.1011, -0.0644],\n",
              "        [-0.0413, -0.0193,  0.0711, -0.0793,  0.0913, -0.0307, -0.0787, -0.0820,\n",
              "         -0.0446, -0.0593]], grad_fn=<AddmmBackward0>)"
            ]
          },
          "metadata": {},
          "execution_count": 21
        }
      ]
    },
    {
      "cell_type": "code",
      "source": [
        "net.parameters()"
      ],
      "metadata": {
        "colab": {
          "base_uri": "https://localhost:8080/"
        },
        "id": "1x67iuuIxHnk",
        "outputId": "f47adad6-ffa6-4a2f-d2fb-f7b8eab00365"
      },
      "execution_count": 22,
      "outputs": [
        {
          "output_type": "execute_result",
          "data": {
            "text/plain": [
              "<generator object Module.parameters at 0x7f1359a0ec10>"
            ]
          },
          "metadata": {},
          "execution_count": 22
        }
      ]
    },
    {
      "cell_type": "code",
      "source": [
        "net.state_dict()"
      ],
      "metadata": {
        "colab": {
          "base_uri": "https://localhost:8080/"
        },
        "id": "qBIcPxAmyIYi",
        "outputId": "b9f8ad88-0ca5-43b1-fec7-dbc1c59f63ec"
      },
      "execution_count": 24,
      "outputs": [
        {
          "output_type": "execute_result",
          "data": {
            "text/plain": [
              "OrderedDict()"
            ]
          },
          "metadata": {},
          "execution_count": 24
        }
      ]
    },
    {
      "cell_type": "code",
      "source": [
        "net2 = nn.Sequential(nn.LazyLinear(256), nn.ReLU(), nn.LazyLinear(128), nn.ReLU(), nn.LazyLinear(10))\n",
        "net2(X)"
      ],
      "metadata": {
        "colab": {
          "base_uri": "https://localhost:8080/"
        },
        "id": "kxXzsvIAyPj4",
        "outputId": "ad97065e-b394-4cfb-c549-43d9efe92adb"
      },
      "execution_count": 25,
      "outputs": [
        {
          "output_type": "stream",
          "name": "stderr",
          "text": [
            "/usr/local/lib/python3.8/dist-packages/torch/nn/modules/lazy.py:180: UserWarning: Lazy modules are a new feature under heavy development so changes to the API or functionality can happen at any moment.\n",
            "  warnings.warn('Lazy modules are a new feature under heavy development '\n"
          ]
        },
        {
          "output_type": "execute_result",
          "data": {
            "text/plain": [
              "tensor([[ 0.0505, -0.1869,  0.1089, -0.2721,  0.2790,  0.3549,  0.0273, -0.1172,\n",
              "         -0.0839,  0.1032],\n",
              "        [ 0.0409, -0.0927,  0.0719, -0.1463,  0.3058,  0.2286,  0.0459, -0.0259,\n",
              "          0.0939, -0.0117]], grad_fn=<AddmmBackward0>)"
            ]
          },
          "metadata": {},
          "execution_count": 25
        }
      ]
    },
    {
      "cell_type": "code",
      "source": [
        "net2.parameters()"
      ],
      "metadata": {
        "colab": {
          "base_uri": "https://localhost:8080/"
        },
        "id": "qnrHyNgaydsS",
        "outputId": "185b1e32-7e56-435f-b671-3fc45c7f8721"
      },
      "execution_count": 26,
      "outputs": [
        {
          "output_type": "execute_result",
          "data": {
            "text/plain": [
              "<generator object Module.parameters at 0x7f1359a0e900>"
            ]
          },
          "metadata": {},
          "execution_count": 26
        }
      ]
    },
    {
      "cell_type": "code",
      "source": [
        "net2.state_dict()"
      ],
      "metadata": {
        "colab": {
          "base_uri": "https://localhost:8080/"
        },
        "id": "PXa4Martyfz2",
        "outputId": "13567bf9-0095-4cdc-e2a8-bfc8d11a17dd"
      },
      "execution_count": 27,
      "outputs": [
        {
          "output_type": "execute_result",
          "data": {
            "text/plain": [
              "OrderedDict([('0.weight',\n",
              "              tensor([[ 0.1522,  0.1257, -0.0810,  ...,  0.0219, -0.2201, -0.1467],\n",
              "                      [ 0.1635,  0.0977, -0.0466,  ..., -0.0032,  0.1955, -0.1167],\n",
              "                      [-0.2150, -0.2152,  0.0601,  ..., -0.1217, -0.0639, -0.1730],\n",
              "                      ...,\n",
              "                      [ 0.1438, -0.2214,  0.1239,  ...,  0.2232, -0.1249,  0.1647],\n",
              "                      [-0.1176,  0.0283,  0.1825,  ..., -0.1848,  0.0491, -0.2024],\n",
              "                      [ 0.1709, -0.0777, -0.0927,  ...,  0.1083,  0.1943, -0.1743]])),\n",
              "             ('0.bias',\n",
              "              tensor([ 3.7598e-02,  1.0214e-01, -2.0139e-01, -6.8573e-02,  3.2602e-02,\n",
              "                       4.0698e-02,  1.3531e-01, -1.4177e-01, -2.5217e-02,  1.2709e-01,\n",
              "                       2.1259e-01, -6.8385e-02,  7.0430e-02, -1.3538e-01, -1.0265e-01,\n",
              "                       1.5972e-01, -1.1400e-01, -6.8815e-02,  8.2187e-02, -3.2376e-02,\n",
              "                      -2.9798e-02,  1.8135e-01, -2.0759e-01,  1.7790e-01,  1.3411e-01,\n",
              "                      -1.9844e-01, -1.1559e-01,  7.2103e-02,  7.3468e-02,  1.4131e-01,\n",
              "                      -3.6877e-02,  1.2729e-01,  8.7815e-02,  1.6431e-01, -1.4621e-01,\n",
              "                      -7.1311e-02, -3.0029e-02, -1.3086e-01,  8.7981e-02,  2.1873e-01,\n",
              "                      -1.6023e-01,  3.0741e-02, -1.3973e-01, -2.0746e-02,  1.6314e-01,\n",
              "                       1.5891e-01,  3.7514e-02, -1.6101e-01,  9.1277e-02,  2.0336e-01,\n",
              "                       1.3059e-01,  2.8530e-02,  8.2467e-02,  2.0884e-01,  2.8472e-02,\n",
              "                      -2.0773e-01, -1.1317e-01,  1.5314e-01, -1.3801e-01,  1.0110e-01,\n",
              "                      -1.9527e-01, -1.0171e-01, -1.2882e-03, -4.5618e-02,  1.8563e-01,\n",
              "                      -1.8790e-01, -1.7724e-01,  7.6874e-02, -1.8451e-01, -1.3358e-01,\n",
              "                      -9.7250e-02, -1.0225e-01,  5.4798e-02,  9.7971e-02, -4.4248e-02,\n",
              "                      -4.4194e-02, -7.1838e-02, -1.4699e-01,  1.9592e-01,  1.5823e-01,\n",
              "                      -1.0035e-01,  1.4401e-01, -2.1641e-02,  1.3749e-01, -6.5481e-02,\n",
              "                      -6.7629e-02, -4.1834e-02,  1.1755e-01, -7.4203e-02,  1.9208e-01,\n",
              "                      -4.1506e-02, -8.6488e-02,  7.8140e-02, -1.6427e-01,  1.9952e-01,\n",
              "                      -1.9429e-02,  1.0795e-01,  3.8768e-02, -6.4022e-02,  1.3158e-01,\n",
              "                       2.2262e-01, -8.6364e-02,  1.8680e-01, -7.4429e-02,  2.2176e-01,\n",
              "                      -2.0333e-01,  1.0793e-01, -4.3046e-02, -1.8791e-01,  5.2360e-02,\n",
              "                      -1.3941e-01,  1.8373e-01, -4.0131e-02,  8.0593e-02,  5.9540e-02,\n",
              "                      -2.0800e-01, -1.1258e-01,  1.3727e-01, -1.5301e-01, -1.8831e-01,\n",
              "                      -2.0752e-01,  1.7792e-02, -2.4360e-03, -1.2496e-01, -4.6459e-02,\n",
              "                       1.2824e-01,  2.1407e-02, -1.2595e-01,  9.4664e-02, -1.6719e-01,\n",
              "                       1.7972e-01,  2.1214e-01,  4.6126e-02, -1.4171e-01, -1.0699e-01,\n",
              "                      -1.2879e-02, -1.9030e-01, -2.0376e-01,  1.8945e-01,  6.3708e-03,\n",
              "                      -1.5299e-01, -7.0499e-02,  1.5418e-01, -4.7231e-02, -8.0777e-02,\n",
              "                       1.1093e-01, -1.2337e-01, -2.0956e-01, -3.5089e-02, -3.4256e-02,\n",
              "                      -4.4390e-02,  9.4297e-02,  1.4103e-01,  1.5795e-01, -2.2533e-02,\n",
              "                       1.8408e-01, -1.3351e-01,  7.0080e-02, -2.0832e-02,  3.7699e-02,\n",
              "                       1.2790e-01,  7.7159e-02,  1.4670e-01,  1.8805e-01, -4.2047e-02,\n",
              "                       1.1168e-01,  6.5913e-02, -2.0860e-01, -2.0718e-01,  1.1728e-01,\n",
              "                      -7.1801e-02, -7.4563e-02, -2.0381e-01, -1.8834e-02, -7.6608e-02,\n",
              "                      -1.1635e-01, -1.9026e-01, -1.7706e-01, -3.1255e-02, -1.9074e-01,\n",
              "                      -4.3039e-02, -1.3852e-01,  5.2875e-02, -1.4917e-01, -1.6346e-01,\n",
              "                      -1.7586e-02, -1.1114e-01, -5.7108e-02, -1.5290e-01, -1.3356e-01,\n",
              "                       1.7549e-01,  4.3491e-02, -1.6570e-02,  1.5066e-01,  1.8914e-01,\n",
              "                       3.7932e-02,  2.8655e-05, -3.3708e-02,  1.1401e-01,  1.9559e-02,\n",
              "                      -9.2543e-02,  7.1438e-02,  1.4906e-01,  1.3040e-01,  1.0274e-02,\n",
              "                       1.0223e-01, -5.0853e-02,  1.6391e-01, -2.0596e-01,  1.2119e-01,\n",
              "                       3.2165e-02,  1.8055e-01,  2.1230e-01,  1.8037e-02, -2.1612e-01,\n",
              "                       1.2443e-01,  1.8144e-01, -2.1286e-01,  1.9423e-02, -9.2796e-02,\n",
              "                      -1.8607e-01, -3.7003e-02,  5.8791e-02,  1.6075e-02, -7.3140e-02,\n",
              "                       2.8106e-02,  1.5298e-02,  1.7112e-01, -9.6365e-02,  1.6194e-01,\n",
              "                      -9.6906e-02,  8.6810e-02, -1.4810e-01,  7.7841e-02,  8.6146e-02,\n",
              "                      -1.3396e-01,  8.8511e-03,  2.5481e-02,  2.1236e-01, -3.5817e-02,\n",
              "                      -1.8460e-01,  2.1451e-01, -1.4007e-01, -8.9400e-02,  1.3900e-01,\n",
              "                       1.8893e-01, -2.1111e-01, -1.0378e-01,  4.2620e-02, -2.2806e-02,\n",
              "                       1.1745e-01, -5.8306e-02,  2.1624e-01,  1.2712e-01, -2.1801e-01,\n",
              "                       1.7193e-01])),\n",
              "             ('2.weight',\n",
              "              tensor([[-0.0232,  0.0073,  0.0191,  ..., -0.0251, -0.0496, -0.0474],\n",
              "                      [-0.0030, -0.0539,  0.0166,  ..., -0.0207, -0.0191, -0.0240],\n",
              "                      [-0.0241,  0.0428, -0.0493,  ...,  0.0516,  0.0583, -0.0598],\n",
              "                      ...,\n",
              "                      [ 0.0476, -0.0029, -0.0373,  ...,  0.0353, -0.0229,  0.0187],\n",
              "                      [ 0.0033,  0.0105, -0.0330,  ...,  0.0234,  0.0043,  0.0427],\n",
              "                      [ 0.0451, -0.0167,  0.0240,  ...,  0.0258, -0.0254,  0.0206]])),\n",
              "             ('2.bias',\n",
              "              tensor([ 0.0077, -0.0148,  0.0268,  0.0596,  0.0578,  0.0089,  0.0014,  0.0514,\n",
              "                      -0.0148,  0.0178,  0.0303,  0.0092, -0.0050, -0.0615, -0.0380, -0.0215,\n",
              "                      -0.0387, -0.0414,  0.0218,  0.0151,  0.0440, -0.0191,  0.0295, -0.0557,\n",
              "                       0.0100, -0.0002, -0.0088,  0.0344, -0.0447, -0.0232,  0.0454,  0.0325,\n",
              "                      -0.0135,  0.0294,  0.0328, -0.0474,  0.0227,  0.0142,  0.0415,  0.0601,\n",
              "                       0.0081,  0.0359,  0.0454,  0.0596,  0.0072,  0.0218, -0.0548, -0.0623,\n",
              "                       0.0488,  0.0567,  0.0172, -0.0220, -0.0008, -0.0133, -0.0307,  0.0598,\n",
              "                       0.0542,  0.0048,  0.0123,  0.0178, -0.0562, -0.0354, -0.0028, -0.0487,\n",
              "                      -0.0552, -0.0276, -0.0038, -0.0448, -0.0592, -0.0581,  0.0332, -0.0004,\n",
              "                       0.0094,  0.0360, -0.0203, -0.0251, -0.0376, -0.0108, -0.0252,  0.0194,\n",
              "                      -0.0494, -0.0565, -0.0486, -0.0120,  0.0251,  0.0206, -0.0572, -0.0561,\n",
              "                      -0.0450, -0.0364, -0.0366,  0.0211,  0.0219, -0.0592,  0.0287, -0.0235,\n",
              "                       0.0599,  0.0501, -0.0375, -0.0501, -0.0306,  0.0356, -0.0484,  0.0210,\n",
              "                      -0.0278, -0.0512, -0.0088, -0.0473,  0.0145,  0.0603,  0.0107, -0.0464,\n",
              "                      -0.0460,  0.0356,  0.0613,  0.0579, -0.0587,  0.0206, -0.0460,  0.0105,\n",
              "                       0.0525, -0.0558, -0.0590, -0.0622,  0.0466,  0.0136,  0.0617, -0.0508])),\n",
              "             ('4.weight',\n",
              "              tensor([[-0.0186,  0.0550,  0.0418,  ...,  0.0283,  0.0669, -0.0085],\n",
              "                      [ 0.0651,  0.0590, -0.0836,  ..., -0.0124,  0.0007, -0.0323],\n",
              "                      [ 0.0757, -0.0056,  0.0084,  ...,  0.0151,  0.0257,  0.0755],\n",
              "                      ...,\n",
              "                      [ 0.0666,  0.0500,  0.0531,  ...,  0.0218, -0.0001,  0.0308],\n",
              "                      [-0.0397, -0.0546,  0.0650,  ...,  0.0178, -0.0417,  0.0799],\n",
              "                      [-0.0628, -0.0596,  0.0110,  ..., -0.0223,  0.0319,  0.0535]])),\n",
              "             ('4.bias',\n",
              "              tensor([-0.0376,  0.0465, -0.0514,  0.0443,  0.0797,  0.0421, -0.0568, -0.0240,\n",
              "                       0.0207,  0.0882]))])"
            ]
          },
          "metadata": {},
          "execution_count": 27
        }
      ]
    },
    {
      "cell_type": "markdown",
      "source": [
        "### Q2:"
      ],
      "metadata": {
        "id": "JBx6GzBYzCbA"
      }
    },
    {
      "cell_type": "code",
      "source": [
        "class Parallel(nn.Module):\n",
        "\n",
        "  def __init__(self, net1, net2):\n",
        "    super().__init__()\n",
        "    self.net = nn.Sequential(net1, net2)\n",
        "\n",
        "  def forward(self, X):\n",
        "    return self.net(X)"
      ],
      "metadata": {
        "id": "x98bkUaAyhww"
      },
      "execution_count": 40,
      "outputs": []
    },
    {
      "cell_type": "code",
      "source": [
        "net1 = nn.Sequential(nn.LazyLinear(20), nn.ReLU(), nn.LazyLinear(256), nn.ReLU(), nn.LazyLinear(10))\n",
        "net2 = nn.Sequential(nn.LazyLinear(40), nn.ReLU(), nn.LazyLinear(80), nn.ReLU(), nn.LazyLinear(1))"
      ],
      "metadata": {
        "id": "U6xCTvUV0sk3"
      },
      "execution_count": 36,
      "outputs": []
    },
    {
      "cell_type": "code",
      "source": [
        "parallel_net = Parallel(net1=net1,net2=net2)\n",
        "parallel_net(X)"
      ],
      "metadata": {
        "colab": {
          "base_uri": "https://localhost:8080/"
        },
        "id": "qEwp6lya1Df6",
        "outputId": "13da6d1b-6586-492f-871f-a8845ad593b0"
      },
      "execution_count": 41,
      "outputs": [
        {
          "output_type": "execute_result",
          "data": {
            "text/plain": [
              "tensor([[0.0616],\n",
              "        [0.0693]], grad_fn=<AddmmBackward0>)"
            ]
          },
          "metadata": {},
          "execution_count": 41
        }
      ]
    },
    {
      "cell_type": "markdown",
      "source": [
        "### Q3:"
      ],
      "metadata": {
        "id": "tl_ON1Kq1-RH"
      }
    },
    {
      "cell_type": "code",
      "source": [
        "class Network(nn.Module):\n",
        "\n",
        "  def __init__(self, net, k):\n",
        "    super().__init__()\n",
        "    self.k = k # number of times to concatenate the network\n",
        "    for i in range(k):\n",
        "      self.add_module(str(i), net)\n",
        "\n",
        "  def forward(self, X):\n",
        "    for module in self.children():\n",
        "      X = module(X)\n",
        "    return X"
      ],
      "metadata": {
        "id": "9E3U9aWv1hq9"
      },
      "execution_count": 46,
      "outputs": []
    },
    {
      "cell_type": "code",
      "source": [
        "inst = nn.Sequential(nn.LazyLinear(128), nn.ReLU(), nn.LazyLinear(64), nn.ReLU(), nn.LazyLinear(512), nn.ReLU(), nn.LazyLinear(1))\n",
        "net = Network(inst, 100)\n",
        "net(X)"
      ],
      "metadata": {
        "colab": {
          "base_uri": "https://localhost:8080/"
        },
        "id": "1MjKHEF2248T",
        "outputId": "4d10495d-8e42-4e1f-cc7d-ce66ea41e434"
      },
      "execution_count": 47,
      "outputs": [
        {
          "output_type": "stream",
          "name": "stderr",
          "text": [
            "/usr/local/lib/python3.8/dist-packages/torch/nn/modules/lazy.py:180: UserWarning: Lazy modules are a new feature under heavy development so changes to the API or functionality can happen at any moment.\n",
            "  warnings.warn('Lazy modules are a new feature under heavy development '\n"
          ]
        },
        {
          "output_type": "execute_result",
          "data": {
            "text/plain": [
              "tensor([[0.0553],\n",
              "        [0.0169]], grad_fn=<AddmmBackward0>)"
            ]
          },
          "metadata": {},
          "execution_count": 47
        }
      ]
    },
    {
      "cell_type": "code",
      "source": [
        "net"
      ],
      "metadata": {
        "colab": {
          "base_uri": "https://localhost:8080/"
        },
        "id": "pfx5DXfB3MEe",
        "outputId": "5a116a87-658f-4582-b8a5-b61ac366d56a"
      },
      "execution_count": 48,
      "outputs": [
        {
          "output_type": "execute_result",
          "data": {
            "text/plain": [
              "Network(\n",
              "  (0): Sequential(\n",
              "    (0): Linear(in_features=20, out_features=128, bias=True)\n",
              "    (1): ReLU()\n",
              "    (2): Linear(in_features=128, out_features=64, bias=True)\n",
              "    (3): ReLU()\n",
              "    (4): Linear(in_features=64, out_features=512, bias=True)\n",
              "    (5): ReLU()\n",
              "    (6): Linear(in_features=512, out_features=1, bias=True)\n",
              "  )\n",
              "  (1): Sequential(\n",
              "    (0): Linear(in_features=20, out_features=128, bias=True)\n",
              "    (1): ReLU()\n",
              "    (2): Linear(in_features=128, out_features=64, bias=True)\n",
              "    (3): ReLU()\n",
              "    (4): Linear(in_features=64, out_features=512, bias=True)\n",
              "    (5): ReLU()\n",
              "    (6): Linear(in_features=512, out_features=1, bias=True)\n",
              "  )\n",
              "  (2): Sequential(\n",
              "    (0): Linear(in_features=20, out_features=128, bias=True)\n",
              "    (1): ReLU()\n",
              "    (2): Linear(in_features=128, out_features=64, bias=True)\n",
              "    (3): ReLU()\n",
              "    (4): Linear(in_features=64, out_features=512, bias=True)\n",
              "    (5): ReLU()\n",
              "    (6): Linear(in_features=512, out_features=1, bias=True)\n",
              "  )\n",
              "  (3): Sequential(\n",
              "    (0): Linear(in_features=20, out_features=128, bias=True)\n",
              "    (1): ReLU()\n",
              "    (2): Linear(in_features=128, out_features=64, bias=True)\n",
              "    (3): ReLU()\n",
              "    (4): Linear(in_features=64, out_features=512, bias=True)\n",
              "    (5): ReLU()\n",
              "    (6): Linear(in_features=512, out_features=1, bias=True)\n",
              "  )\n",
              "  (4): Sequential(\n",
              "    (0): Linear(in_features=20, out_features=128, bias=True)\n",
              "    (1): ReLU()\n",
              "    (2): Linear(in_features=128, out_features=64, bias=True)\n",
              "    (3): ReLU()\n",
              "    (4): Linear(in_features=64, out_features=512, bias=True)\n",
              "    (5): ReLU()\n",
              "    (6): Linear(in_features=512, out_features=1, bias=True)\n",
              "  )\n",
              "  (5): Sequential(\n",
              "    (0): Linear(in_features=20, out_features=128, bias=True)\n",
              "    (1): ReLU()\n",
              "    (2): Linear(in_features=128, out_features=64, bias=True)\n",
              "    (3): ReLU()\n",
              "    (4): Linear(in_features=64, out_features=512, bias=True)\n",
              "    (5): ReLU()\n",
              "    (6): Linear(in_features=512, out_features=1, bias=True)\n",
              "  )\n",
              "  (6): Sequential(\n",
              "    (0): Linear(in_features=20, out_features=128, bias=True)\n",
              "    (1): ReLU()\n",
              "    (2): Linear(in_features=128, out_features=64, bias=True)\n",
              "    (3): ReLU()\n",
              "    (4): Linear(in_features=64, out_features=512, bias=True)\n",
              "    (5): ReLU()\n",
              "    (6): Linear(in_features=512, out_features=1, bias=True)\n",
              "  )\n",
              "  (7): Sequential(\n",
              "    (0): Linear(in_features=20, out_features=128, bias=True)\n",
              "    (1): ReLU()\n",
              "    (2): Linear(in_features=128, out_features=64, bias=True)\n",
              "    (3): ReLU()\n",
              "    (4): Linear(in_features=64, out_features=512, bias=True)\n",
              "    (5): ReLU()\n",
              "    (6): Linear(in_features=512, out_features=1, bias=True)\n",
              "  )\n",
              "  (8): Sequential(\n",
              "    (0): Linear(in_features=20, out_features=128, bias=True)\n",
              "    (1): ReLU()\n",
              "    (2): Linear(in_features=128, out_features=64, bias=True)\n",
              "    (3): ReLU()\n",
              "    (4): Linear(in_features=64, out_features=512, bias=True)\n",
              "    (5): ReLU()\n",
              "    (6): Linear(in_features=512, out_features=1, bias=True)\n",
              "  )\n",
              "  (9): Sequential(\n",
              "    (0): Linear(in_features=20, out_features=128, bias=True)\n",
              "    (1): ReLU()\n",
              "    (2): Linear(in_features=128, out_features=64, bias=True)\n",
              "    (3): ReLU()\n",
              "    (4): Linear(in_features=64, out_features=512, bias=True)\n",
              "    (5): ReLU()\n",
              "    (6): Linear(in_features=512, out_features=1, bias=True)\n",
              "  )\n",
              "  (10): Sequential(\n",
              "    (0): Linear(in_features=20, out_features=128, bias=True)\n",
              "    (1): ReLU()\n",
              "    (2): Linear(in_features=128, out_features=64, bias=True)\n",
              "    (3): ReLU()\n",
              "    (4): Linear(in_features=64, out_features=512, bias=True)\n",
              "    (5): ReLU()\n",
              "    (6): Linear(in_features=512, out_features=1, bias=True)\n",
              "  )\n",
              "  (11): Sequential(\n",
              "    (0): Linear(in_features=20, out_features=128, bias=True)\n",
              "    (1): ReLU()\n",
              "    (2): Linear(in_features=128, out_features=64, bias=True)\n",
              "    (3): ReLU()\n",
              "    (4): Linear(in_features=64, out_features=512, bias=True)\n",
              "    (5): ReLU()\n",
              "    (6): Linear(in_features=512, out_features=1, bias=True)\n",
              "  )\n",
              "  (12): Sequential(\n",
              "    (0): Linear(in_features=20, out_features=128, bias=True)\n",
              "    (1): ReLU()\n",
              "    (2): Linear(in_features=128, out_features=64, bias=True)\n",
              "    (3): ReLU()\n",
              "    (4): Linear(in_features=64, out_features=512, bias=True)\n",
              "    (5): ReLU()\n",
              "    (6): Linear(in_features=512, out_features=1, bias=True)\n",
              "  )\n",
              "  (13): Sequential(\n",
              "    (0): Linear(in_features=20, out_features=128, bias=True)\n",
              "    (1): ReLU()\n",
              "    (2): Linear(in_features=128, out_features=64, bias=True)\n",
              "    (3): ReLU()\n",
              "    (4): Linear(in_features=64, out_features=512, bias=True)\n",
              "    (5): ReLU()\n",
              "    (6): Linear(in_features=512, out_features=1, bias=True)\n",
              "  )\n",
              "  (14): Sequential(\n",
              "    (0): Linear(in_features=20, out_features=128, bias=True)\n",
              "    (1): ReLU()\n",
              "    (2): Linear(in_features=128, out_features=64, bias=True)\n",
              "    (3): ReLU()\n",
              "    (4): Linear(in_features=64, out_features=512, bias=True)\n",
              "    (5): ReLU()\n",
              "    (6): Linear(in_features=512, out_features=1, bias=True)\n",
              "  )\n",
              "  (15): Sequential(\n",
              "    (0): Linear(in_features=20, out_features=128, bias=True)\n",
              "    (1): ReLU()\n",
              "    (2): Linear(in_features=128, out_features=64, bias=True)\n",
              "    (3): ReLU()\n",
              "    (4): Linear(in_features=64, out_features=512, bias=True)\n",
              "    (5): ReLU()\n",
              "    (6): Linear(in_features=512, out_features=1, bias=True)\n",
              "  )\n",
              "  (16): Sequential(\n",
              "    (0): Linear(in_features=20, out_features=128, bias=True)\n",
              "    (1): ReLU()\n",
              "    (2): Linear(in_features=128, out_features=64, bias=True)\n",
              "    (3): ReLU()\n",
              "    (4): Linear(in_features=64, out_features=512, bias=True)\n",
              "    (5): ReLU()\n",
              "    (6): Linear(in_features=512, out_features=1, bias=True)\n",
              "  )\n",
              "  (17): Sequential(\n",
              "    (0): Linear(in_features=20, out_features=128, bias=True)\n",
              "    (1): ReLU()\n",
              "    (2): Linear(in_features=128, out_features=64, bias=True)\n",
              "    (3): ReLU()\n",
              "    (4): Linear(in_features=64, out_features=512, bias=True)\n",
              "    (5): ReLU()\n",
              "    (6): Linear(in_features=512, out_features=1, bias=True)\n",
              "  )\n",
              "  (18): Sequential(\n",
              "    (0): Linear(in_features=20, out_features=128, bias=True)\n",
              "    (1): ReLU()\n",
              "    (2): Linear(in_features=128, out_features=64, bias=True)\n",
              "    (3): ReLU()\n",
              "    (4): Linear(in_features=64, out_features=512, bias=True)\n",
              "    (5): ReLU()\n",
              "    (6): Linear(in_features=512, out_features=1, bias=True)\n",
              "  )\n",
              "  (19): Sequential(\n",
              "    (0): Linear(in_features=20, out_features=128, bias=True)\n",
              "    (1): ReLU()\n",
              "    (2): Linear(in_features=128, out_features=64, bias=True)\n",
              "    (3): ReLU()\n",
              "    (4): Linear(in_features=64, out_features=512, bias=True)\n",
              "    (5): ReLU()\n",
              "    (6): Linear(in_features=512, out_features=1, bias=True)\n",
              "  )\n",
              "  (20): Sequential(\n",
              "    (0): Linear(in_features=20, out_features=128, bias=True)\n",
              "    (1): ReLU()\n",
              "    (2): Linear(in_features=128, out_features=64, bias=True)\n",
              "    (3): ReLU()\n",
              "    (4): Linear(in_features=64, out_features=512, bias=True)\n",
              "    (5): ReLU()\n",
              "    (6): Linear(in_features=512, out_features=1, bias=True)\n",
              "  )\n",
              "  (21): Sequential(\n",
              "    (0): Linear(in_features=20, out_features=128, bias=True)\n",
              "    (1): ReLU()\n",
              "    (2): Linear(in_features=128, out_features=64, bias=True)\n",
              "    (3): ReLU()\n",
              "    (4): Linear(in_features=64, out_features=512, bias=True)\n",
              "    (5): ReLU()\n",
              "    (6): Linear(in_features=512, out_features=1, bias=True)\n",
              "  )\n",
              "  (22): Sequential(\n",
              "    (0): Linear(in_features=20, out_features=128, bias=True)\n",
              "    (1): ReLU()\n",
              "    (2): Linear(in_features=128, out_features=64, bias=True)\n",
              "    (3): ReLU()\n",
              "    (4): Linear(in_features=64, out_features=512, bias=True)\n",
              "    (5): ReLU()\n",
              "    (6): Linear(in_features=512, out_features=1, bias=True)\n",
              "  )\n",
              "  (23): Sequential(\n",
              "    (0): Linear(in_features=20, out_features=128, bias=True)\n",
              "    (1): ReLU()\n",
              "    (2): Linear(in_features=128, out_features=64, bias=True)\n",
              "    (3): ReLU()\n",
              "    (4): Linear(in_features=64, out_features=512, bias=True)\n",
              "    (5): ReLU()\n",
              "    (6): Linear(in_features=512, out_features=1, bias=True)\n",
              "  )\n",
              "  (24): Sequential(\n",
              "    (0): Linear(in_features=20, out_features=128, bias=True)\n",
              "    (1): ReLU()\n",
              "    (2): Linear(in_features=128, out_features=64, bias=True)\n",
              "    (3): ReLU()\n",
              "    (4): Linear(in_features=64, out_features=512, bias=True)\n",
              "    (5): ReLU()\n",
              "    (6): Linear(in_features=512, out_features=1, bias=True)\n",
              "  )\n",
              "  (25): Sequential(\n",
              "    (0): Linear(in_features=20, out_features=128, bias=True)\n",
              "    (1): ReLU()\n",
              "    (2): Linear(in_features=128, out_features=64, bias=True)\n",
              "    (3): ReLU()\n",
              "    (4): Linear(in_features=64, out_features=512, bias=True)\n",
              "    (5): ReLU()\n",
              "    (6): Linear(in_features=512, out_features=1, bias=True)\n",
              "  )\n",
              "  (26): Sequential(\n",
              "    (0): Linear(in_features=20, out_features=128, bias=True)\n",
              "    (1): ReLU()\n",
              "    (2): Linear(in_features=128, out_features=64, bias=True)\n",
              "    (3): ReLU()\n",
              "    (4): Linear(in_features=64, out_features=512, bias=True)\n",
              "    (5): ReLU()\n",
              "    (6): Linear(in_features=512, out_features=1, bias=True)\n",
              "  )\n",
              "  (27): Sequential(\n",
              "    (0): Linear(in_features=20, out_features=128, bias=True)\n",
              "    (1): ReLU()\n",
              "    (2): Linear(in_features=128, out_features=64, bias=True)\n",
              "    (3): ReLU()\n",
              "    (4): Linear(in_features=64, out_features=512, bias=True)\n",
              "    (5): ReLU()\n",
              "    (6): Linear(in_features=512, out_features=1, bias=True)\n",
              "  )\n",
              "  (28): Sequential(\n",
              "    (0): Linear(in_features=20, out_features=128, bias=True)\n",
              "    (1): ReLU()\n",
              "    (2): Linear(in_features=128, out_features=64, bias=True)\n",
              "    (3): ReLU()\n",
              "    (4): Linear(in_features=64, out_features=512, bias=True)\n",
              "    (5): ReLU()\n",
              "    (6): Linear(in_features=512, out_features=1, bias=True)\n",
              "  )\n",
              "  (29): Sequential(\n",
              "    (0): Linear(in_features=20, out_features=128, bias=True)\n",
              "    (1): ReLU()\n",
              "    (2): Linear(in_features=128, out_features=64, bias=True)\n",
              "    (3): ReLU()\n",
              "    (4): Linear(in_features=64, out_features=512, bias=True)\n",
              "    (5): ReLU()\n",
              "    (6): Linear(in_features=512, out_features=1, bias=True)\n",
              "  )\n",
              "  (30): Sequential(\n",
              "    (0): Linear(in_features=20, out_features=128, bias=True)\n",
              "    (1): ReLU()\n",
              "    (2): Linear(in_features=128, out_features=64, bias=True)\n",
              "    (3): ReLU()\n",
              "    (4): Linear(in_features=64, out_features=512, bias=True)\n",
              "    (5): ReLU()\n",
              "    (6): Linear(in_features=512, out_features=1, bias=True)\n",
              "  )\n",
              "  (31): Sequential(\n",
              "    (0): Linear(in_features=20, out_features=128, bias=True)\n",
              "    (1): ReLU()\n",
              "    (2): Linear(in_features=128, out_features=64, bias=True)\n",
              "    (3): ReLU()\n",
              "    (4): Linear(in_features=64, out_features=512, bias=True)\n",
              "    (5): ReLU()\n",
              "    (6): Linear(in_features=512, out_features=1, bias=True)\n",
              "  )\n",
              "  (32): Sequential(\n",
              "    (0): Linear(in_features=20, out_features=128, bias=True)\n",
              "    (1): ReLU()\n",
              "    (2): Linear(in_features=128, out_features=64, bias=True)\n",
              "    (3): ReLU()\n",
              "    (4): Linear(in_features=64, out_features=512, bias=True)\n",
              "    (5): ReLU()\n",
              "    (6): Linear(in_features=512, out_features=1, bias=True)\n",
              "  )\n",
              "  (33): Sequential(\n",
              "    (0): Linear(in_features=20, out_features=128, bias=True)\n",
              "    (1): ReLU()\n",
              "    (2): Linear(in_features=128, out_features=64, bias=True)\n",
              "    (3): ReLU()\n",
              "    (4): Linear(in_features=64, out_features=512, bias=True)\n",
              "    (5): ReLU()\n",
              "    (6): Linear(in_features=512, out_features=1, bias=True)\n",
              "  )\n",
              "  (34): Sequential(\n",
              "    (0): Linear(in_features=20, out_features=128, bias=True)\n",
              "    (1): ReLU()\n",
              "    (2): Linear(in_features=128, out_features=64, bias=True)\n",
              "    (3): ReLU()\n",
              "    (4): Linear(in_features=64, out_features=512, bias=True)\n",
              "    (5): ReLU()\n",
              "    (6): Linear(in_features=512, out_features=1, bias=True)\n",
              "  )\n",
              "  (35): Sequential(\n",
              "    (0): Linear(in_features=20, out_features=128, bias=True)\n",
              "    (1): ReLU()\n",
              "    (2): Linear(in_features=128, out_features=64, bias=True)\n",
              "    (3): ReLU()\n",
              "    (4): Linear(in_features=64, out_features=512, bias=True)\n",
              "    (5): ReLU()\n",
              "    (6): Linear(in_features=512, out_features=1, bias=True)\n",
              "  )\n",
              "  (36): Sequential(\n",
              "    (0): Linear(in_features=20, out_features=128, bias=True)\n",
              "    (1): ReLU()\n",
              "    (2): Linear(in_features=128, out_features=64, bias=True)\n",
              "    (3): ReLU()\n",
              "    (4): Linear(in_features=64, out_features=512, bias=True)\n",
              "    (5): ReLU()\n",
              "    (6): Linear(in_features=512, out_features=1, bias=True)\n",
              "  )\n",
              "  (37): Sequential(\n",
              "    (0): Linear(in_features=20, out_features=128, bias=True)\n",
              "    (1): ReLU()\n",
              "    (2): Linear(in_features=128, out_features=64, bias=True)\n",
              "    (3): ReLU()\n",
              "    (4): Linear(in_features=64, out_features=512, bias=True)\n",
              "    (5): ReLU()\n",
              "    (6): Linear(in_features=512, out_features=1, bias=True)\n",
              "  )\n",
              "  (38): Sequential(\n",
              "    (0): Linear(in_features=20, out_features=128, bias=True)\n",
              "    (1): ReLU()\n",
              "    (2): Linear(in_features=128, out_features=64, bias=True)\n",
              "    (3): ReLU()\n",
              "    (4): Linear(in_features=64, out_features=512, bias=True)\n",
              "    (5): ReLU()\n",
              "    (6): Linear(in_features=512, out_features=1, bias=True)\n",
              "  )\n",
              "  (39): Sequential(\n",
              "    (0): Linear(in_features=20, out_features=128, bias=True)\n",
              "    (1): ReLU()\n",
              "    (2): Linear(in_features=128, out_features=64, bias=True)\n",
              "    (3): ReLU()\n",
              "    (4): Linear(in_features=64, out_features=512, bias=True)\n",
              "    (5): ReLU()\n",
              "    (6): Linear(in_features=512, out_features=1, bias=True)\n",
              "  )\n",
              "  (40): Sequential(\n",
              "    (0): Linear(in_features=20, out_features=128, bias=True)\n",
              "    (1): ReLU()\n",
              "    (2): Linear(in_features=128, out_features=64, bias=True)\n",
              "    (3): ReLU()\n",
              "    (4): Linear(in_features=64, out_features=512, bias=True)\n",
              "    (5): ReLU()\n",
              "    (6): Linear(in_features=512, out_features=1, bias=True)\n",
              "  )\n",
              "  (41): Sequential(\n",
              "    (0): Linear(in_features=20, out_features=128, bias=True)\n",
              "    (1): ReLU()\n",
              "    (2): Linear(in_features=128, out_features=64, bias=True)\n",
              "    (3): ReLU()\n",
              "    (4): Linear(in_features=64, out_features=512, bias=True)\n",
              "    (5): ReLU()\n",
              "    (6): Linear(in_features=512, out_features=1, bias=True)\n",
              "  )\n",
              "  (42): Sequential(\n",
              "    (0): Linear(in_features=20, out_features=128, bias=True)\n",
              "    (1): ReLU()\n",
              "    (2): Linear(in_features=128, out_features=64, bias=True)\n",
              "    (3): ReLU()\n",
              "    (4): Linear(in_features=64, out_features=512, bias=True)\n",
              "    (5): ReLU()\n",
              "    (6): Linear(in_features=512, out_features=1, bias=True)\n",
              "  )\n",
              "  (43): Sequential(\n",
              "    (0): Linear(in_features=20, out_features=128, bias=True)\n",
              "    (1): ReLU()\n",
              "    (2): Linear(in_features=128, out_features=64, bias=True)\n",
              "    (3): ReLU()\n",
              "    (4): Linear(in_features=64, out_features=512, bias=True)\n",
              "    (5): ReLU()\n",
              "    (6): Linear(in_features=512, out_features=1, bias=True)\n",
              "  )\n",
              "  (44): Sequential(\n",
              "    (0): Linear(in_features=20, out_features=128, bias=True)\n",
              "    (1): ReLU()\n",
              "    (2): Linear(in_features=128, out_features=64, bias=True)\n",
              "    (3): ReLU()\n",
              "    (4): Linear(in_features=64, out_features=512, bias=True)\n",
              "    (5): ReLU()\n",
              "    (6): Linear(in_features=512, out_features=1, bias=True)\n",
              "  )\n",
              "  (45): Sequential(\n",
              "    (0): Linear(in_features=20, out_features=128, bias=True)\n",
              "    (1): ReLU()\n",
              "    (2): Linear(in_features=128, out_features=64, bias=True)\n",
              "    (3): ReLU()\n",
              "    (4): Linear(in_features=64, out_features=512, bias=True)\n",
              "    (5): ReLU()\n",
              "    (6): Linear(in_features=512, out_features=1, bias=True)\n",
              "  )\n",
              "  (46): Sequential(\n",
              "    (0): Linear(in_features=20, out_features=128, bias=True)\n",
              "    (1): ReLU()\n",
              "    (2): Linear(in_features=128, out_features=64, bias=True)\n",
              "    (3): ReLU()\n",
              "    (4): Linear(in_features=64, out_features=512, bias=True)\n",
              "    (5): ReLU()\n",
              "    (6): Linear(in_features=512, out_features=1, bias=True)\n",
              "  )\n",
              "  (47): Sequential(\n",
              "    (0): Linear(in_features=20, out_features=128, bias=True)\n",
              "    (1): ReLU()\n",
              "    (2): Linear(in_features=128, out_features=64, bias=True)\n",
              "    (3): ReLU()\n",
              "    (4): Linear(in_features=64, out_features=512, bias=True)\n",
              "    (5): ReLU()\n",
              "    (6): Linear(in_features=512, out_features=1, bias=True)\n",
              "  )\n",
              "  (48): Sequential(\n",
              "    (0): Linear(in_features=20, out_features=128, bias=True)\n",
              "    (1): ReLU()\n",
              "    (2): Linear(in_features=128, out_features=64, bias=True)\n",
              "    (3): ReLU()\n",
              "    (4): Linear(in_features=64, out_features=512, bias=True)\n",
              "    (5): ReLU()\n",
              "    (6): Linear(in_features=512, out_features=1, bias=True)\n",
              "  )\n",
              "  (49): Sequential(\n",
              "    (0): Linear(in_features=20, out_features=128, bias=True)\n",
              "    (1): ReLU()\n",
              "    (2): Linear(in_features=128, out_features=64, bias=True)\n",
              "    (3): ReLU()\n",
              "    (4): Linear(in_features=64, out_features=512, bias=True)\n",
              "    (5): ReLU()\n",
              "    (6): Linear(in_features=512, out_features=1, bias=True)\n",
              "  )\n",
              "  (50): Sequential(\n",
              "    (0): Linear(in_features=20, out_features=128, bias=True)\n",
              "    (1): ReLU()\n",
              "    (2): Linear(in_features=128, out_features=64, bias=True)\n",
              "    (3): ReLU()\n",
              "    (4): Linear(in_features=64, out_features=512, bias=True)\n",
              "    (5): ReLU()\n",
              "    (6): Linear(in_features=512, out_features=1, bias=True)\n",
              "  )\n",
              "  (51): Sequential(\n",
              "    (0): Linear(in_features=20, out_features=128, bias=True)\n",
              "    (1): ReLU()\n",
              "    (2): Linear(in_features=128, out_features=64, bias=True)\n",
              "    (3): ReLU()\n",
              "    (4): Linear(in_features=64, out_features=512, bias=True)\n",
              "    (5): ReLU()\n",
              "    (6): Linear(in_features=512, out_features=1, bias=True)\n",
              "  )\n",
              "  (52): Sequential(\n",
              "    (0): Linear(in_features=20, out_features=128, bias=True)\n",
              "    (1): ReLU()\n",
              "    (2): Linear(in_features=128, out_features=64, bias=True)\n",
              "    (3): ReLU()\n",
              "    (4): Linear(in_features=64, out_features=512, bias=True)\n",
              "    (5): ReLU()\n",
              "    (6): Linear(in_features=512, out_features=1, bias=True)\n",
              "  )\n",
              "  (53): Sequential(\n",
              "    (0): Linear(in_features=20, out_features=128, bias=True)\n",
              "    (1): ReLU()\n",
              "    (2): Linear(in_features=128, out_features=64, bias=True)\n",
              "    (3): ReLU()\n",
              "    (4): Linear(in_features=64, out_features=512, bias=True)\n",
              "    (5): ReLU()\n",
              "    (6): Linear(in_features=512, out_features=1, bias=True)\n",
              "  )\n",
              "  (54): Sequential(\n",
              "    (0): Linear(in_features=20, out_features=128, bias=True)\n",
              "    (1): ReLU()\n",
              "    (2): Linear(in_features=128, out_features=64, bias=True)\n",
              "    (3): ReLU()\n",
              "    (4): Linear(in_features=64, out_features=512, bias=True)\n",
              "    (5): ReLU()\n",
              "    (6): Linear(in_features=512, out_features=1, bias=True)\n",
              "  )\n",
              "  (55): Sequential(\n",
              "    (0): Linear(in_features=20, out_features=128, bias=True)\n",
              "    (1): ReLU()\n",
              "    (2): Linear(in_features=128, out_features=64, bias=True)\n",
              "    (3): ReLU()\n",
              "    (4): Linear(in_features=64, out_features=512, bias=True)\n",
              "    (5): ReLU()\n",
              "    (6): Linear(in_features=512, out_features=1, bias=True)\n",
              "  )\n",
              "  (56): Sequential(\n",
              "    (0): Linear(in_features=20, out_features=128, bias=True)\n",
              "    (1): ReLU()\n",
              "    (2): Linear(in_features=128, out_features=64, bias=True)\n",
              "    (3): ReLU()\n",
              "    (4): Linear(in_features=64, out_features=512, bias=True)\n",
              "    (5): ReLU()\n",
              "    (6): Linear(in_features=512, out_features=1, bias=True)\n",
              "  )\n",
              "  (57): Sequential(\n",
              "    (0): Linear(in_features=20, out_features=128, bias=True)\n",
              "    (1): ReLU()\n",
              "    (2): Linear(in_features=128, out_features=64, bias=True)\n",
              "    (3): ReLU()\n",
              "    (4): Linear(in_features=64, out_features=512, bias=True)\n",
              "    (5): ReLU()\n",
              "    (6): Linear(in_features=512, out_features=1, bias=True)\n",
              "  )\n",
              "  (58): Sequential(\n",
              "    (0): Linear(in_features=20, out_features=128, bias=True)\n",
              "    (1): ReLU()\n",
              "    (2): Linear(in_features=128, out_features=64, bias=True)\n",
              "    (3): ReLU()\n",
              "    (4): Linear(in_features=64, out_features=512, bias=True)\n",
              "    (5): ReLU()\n",
              "    (6): Linear(in_features=512, out_features=1, bias=True)\n",
              "  )\n",
              "  (59): Sequential(\n",
              "    (0): Linear(in_features=20, out_features=128, bias=True)\n",
              "    (1): ReLU()\n",
              "    (2): Linear(in_features=128, out_features=64, bias=True)\n",
              "    (3): ReLU()\n",
              "    (4): Linear(in_features=64, out_features=512, bias=True)\n",
              "    (5): ReLU()\n",
              "    (6): Linear(in_features=512, out_features=1, bias=True)\n",
              "  )\n",
              "  (60): Sequential(\n",
              "    (0): Linear(in_features=20, out_features=128, bias=True)\n",
              "    (1): ReLU()\n",
              "    (2): Linear(in_features=128, out_features=64, bias=True)\n",
              "    (3): ReLU()\n",
              "    (4): Linear(in_features=64, out_features=512, bias=True)\n",
              "    (5): ReLU()\n",
              "    (6): Linear(in_features=512, out_features=1, bias=True)\n",
              "  )\n",
              "  (61): Sequential(\n",
              "    (0): Linear(in_features=20, out_features=128, bias=True)\n",
              "    (1): ReLU()\n",
              "    (2): Linear(in_features=128, out_features=64, bias=True)\n",
              "    (3): ReLU()\n",
              "    (4): Linear(in_features=64, out_features=512, bias=True)\n",
              "    (5): ReLU()\n",
              "    (6): Linear(in_features=512, out_features=1, bias=True)\n",
              "  )\n",
              "  (62): Sequential(\n",
              "    (0): Linear(in_features=20, out_features=128, bias=True)\n",
              "    (1): ReLU()\n",
              "    (2): Linear(in_features=128, out_features=64, bias=True)\n",
              "    (3): ReLU()\n",
              "    (4): Linear(in_features=64, out_features=512, bias=True)\n",
              "    (5): ReLU()\n",
              "    (6): Linear(in_features=512, out_features=1, bias=True)\n",
              "  )\n",
              "  (63): Sequential(\n",
              "    (0): Linear(in_features=20, out_features=128, bias=True)\n",
              "    (1): ReLU()\n",
              "    (2): Linear(in_features=128, out_features=64, bias=True)\n",
              "    (3): ReLU()\n",
              "    (4): Linear(in_features=64, out_features=512, bias=True)\n",
              "    (5): ReLU()\n",
              "    (6): Linear(in_features=512, out_features=1, bias=True)\n",
              "  )\n",
              "  (64): Sequential(\n",
              "    (0): Linear(in_features=20, out_features=128, bias=True)\n",
              "    (1): ReLU()\n",
              "    (2): Linear(in_features=128, out_features=64, bias=True)\n",
              "    (3): ReLU()\n",
              "    (4): Linear(in_features=64, out_features=512, bias=True)\n",
              "    (5): ReLU()\n",
              "    (6): Linear(in_features=512, out_features=1, bias=True)\n",
              "  )\n",
              "  (65): Sequential(\n",
              "    (0): Linear(in_features=20, out_features=128, bias=True)\n",
              "    (1): ReLU()\n",
              "    (2): Linear(in_features=128, out_features=64, bias=True)\n",
              "    (3): ReLU()\n",
              "    (4): Linear(in_features=64, out_features=512, bias=True)\n",
              "    (5): ReLU()\n",
              "    (6): Linear(in_features=512, out_features=1, bias=True)\n",
              "  )\n",
              "  (66): Sequential(\n",
              "    (0): Linear(in_features=20, out_features=128, bias=True)\n",
              "    (1): ReLU()\n",
              "    (2): Linear(in_features=128, out_features=64, bias=True)\n",
              "    (3): ReLU()\n",
              "    (4): Linear(in_features=64, out_features=512, bias=True)\n",
              "    (5): ReLU()\n",
              "    (6): Linear(in_features=512, out_features=1, bias=True)\n",
              "  )\n",
              "  (67): Sequential(\n",
              "    (0): Linear(in_features=20, out_features=128, bias=True)\n",
              "    (1): ReLU()\n",
              "    (2): Linear(in_features=128, out_features=64, bias=True)\n",
              "    (3): ReLU()\n",
              "    (4): Linear(in_features=64, out_features=512, bias=True)\n",
              "    (5): ReLU()\n",
              "    (6): Linear(in_features=512, out_features=1, bias=True)\n",
              "  )\n",
              "  (68): Sequential(\n",
              "    (0): Linear(in_features=20, out_features=128, bias=True)\n",
              "    (1): ReLU()\n",
              "    (2): Linear(in_features=128, out_features=64, bias=True)\n",
              "    (3): ReLU()\n",
              "    (4): Linear(in_features=64, out_features=512, bias=True)\n",
              "    (5): ReLU()\n",
              "    (6): Linear(in_features=512, out_features=1, bias=True)\n",
              "  )\n",
              "  (69): Sequential(\n",
              "    (0): Linear(in_features=20, out_features=128, bias=True)\n",
              "    (1): ReLU()\n",
              "    (2): Linear(in_features=128, out_features=64, bias=True)\n",
              "    (3): ReLU()\n",
              "    (4): Linear(in_features=64, out_features=512, bias=True)\n",
              "    (5): ReLU()\n",
              "    (6): Linear(in_features=512, out_features=1, bias=True)\n",
              "  )\n",
              "  (70): Sequential(\n",
              "    (0): Linear(in_features=20, out_features=128, bias=True)\n",
              "    (1): ReLU()\n",
              "    (2): Linear(in_features=128, out_features=64, bias=True)\n",
              "    (3): ReLU()\n",
              "    (4): Linear(in_features=64, out_features=512, bias=True)\n",
              "    (5): ReLU()\n",
              "    (6): Linear(in_features=512, out_features=1, bias=True)\n",
              "  )\n",
              "  (71): Sequential(\n",
              "    (0): Linear(in_features=20, out_features=128, bias=True)\n",
              "    (1): ReLU()\n",
              "    (2): Linear(in_features=128, out_features=64, bias=True)\n",
              "    (3): ReLU()\n",
              "    (4): Linear(in_features=64, out_features=512, bias=True)\n",
              "    (5): ReLU()\n",
              "    (6): Linear(in_features=512, out_features=1, bias=True)\n",
              "  )\n",
              "  (72): Sequential(\n",
              "    (0): Linear(in_features=20, out_features=128, bias=True)\n",
              "    (1): ReLU()\n",
              "    (2): Linear(in_features=128, out_features=64, bias=True)\n",
              "    (3): ReLU()\n",
              "    (4): Linear(in_features=64, out_features=512, bias=True)\n",
              "    (5): ReLU()\n",
              "    (6): Linear(in_features=512, out_features=1, bias=True)\n",
              "  )\n",
              "  (73): Sequential(\n",
              "    (0): Linear(in_features=20, out_features=128, bias=True)\n",
              "    (1): ReLU()\n",
              "    (2): Linear(in_features=128, out_features=64, bias=True)\n",
              "    (3): ReLU()\n",
              "    (4): Linear(in_features=64, out_features=512, bias=True)\n",
              "    (5): ReLU()\n",
              "    (6): Linear(in_features=512, out_features=1, bias=True)\n",
              "  )\n",
              "  (74): Sequential(\n",
              "    (0): Linear(in_features=20, out_features=128, bias=True)\n",
              "    (1): ReLU()\n",
              "    (2): Linear(in_features=128, out_features=64, bias=True)\n",
              "    (3): ReLU()\n",
              "    (4): Linear(in_features=64, out_features=512, bias=True)\n",
              "    (5): ReLU()\n",
              "    (6): Linear(in_features=512, out_features=1, bias=True)\n",
              "  )\n",
              "  (75): Sequential(\n",
              "    (0): Linear(in_features=20, out_features=128, bias=True)\n",
              "    (1): ReLU()\n",
              "    (2): Linear(in_features=128, out_features=64, bias=True)\n",
              "    (3): ReLU()\n",
              "    (4): Linear(in_features=64, out_features=512, bias=True)\n",
              "    (5): ReLU()\n",
              "    (6): Linear(in_features=512, out_features=1, bias=True)\n",
              "  )\n",
              "  (76): Sequential(\n",
              "    (0): Linear(in_features=20, out_features=128, bias=True)\n",
              "    (1): ReLU()\n",
              "    (2): Linear(in_features=128, out_features=64, bias=True)\n",
              "    (3): ReLU()\n",
              "    (4): Linear(in_features=64, out_features=512, bias=True)\n",
              "    (5): ReLU()\n",
              "    (6): Linear(in_features=512, out_features=1, bias=True)\n",
              "  )\n",
              "  (77): Sequential(\n",
              "    (0): Linear(in_features=20, out_features=128, bias=True)\n",
              "    (1): ReLU()\n",
              "    (2): Linear(in_features=128, out_features=64, bias=True)\n",
              "    (3): ReLU()\n",
              "    (4): Linear(in_features=64, out_features=512, bias=True)\n",
              "    (5): ReLU()\n",
              "    (6): Linear(in_features=512, out_features=1, bias=True)\n",
              "  )\n",
              "  (78): Sequential(\n",
              "    (0): Linear(in_features=20, out_features=128, bias=True)\n",
              "    (1): ReLU()\n",
              "    (2): Linear(in_features=128, out_features=64, bias=True)\n",
              "    (3): ReLU()\n",
              "    (4): Linear(in_features=64, out_features=512, bias=True)\n",
              "    (5): ReLU()\n",
              "    (6): Linear(in_features=512, out_features=1, bias=True)\n",
              "  )\n",
              "  (79): Sequential(\n",
              "    (0): Linear(in_features=20, out_features=128, bias=True)\n",
              "    (1): ReLU()\n",
              "    (2): Linear(in_features=128, out_features=64, bias=True)\n",
              "    (3): ReLU()\n",
              "    (4): Linear(in_features=64, out_features=512, bias=True)\n",
              "    (5): ReLU()\n",
              "    (6): Linear(in_features=512, out_features=1, bias=True)\n",
              "  )\n",
              "  (80): Sequential(\n",
              "    (0): Linear(in_features=20, out_features=128, bias=True)\n",
              "    (1): ReLU()\n",
              "    (2): Linear(in_features=128, out_features=64, bias=True)\n",
              "    (3): ReLU()\n",
              "    (4): Linear(in_features=64, out_features=512, bias=True)\n",
              "    (5): ReLU()\n",
              "    (6): Linear(in_features=512, out_features=1, bias=True)\n",
              "  )\n",
              "  (81): Sequential(\n",
              "    (0): Linear(in_features=20, out_features=128, bias=True)\n",
              "    (1): ReLU()\n",
              "    (2): Linear(in_features=128, out_features=64, bias=True)\n",
              "    (3): ReLU()\n",
              "    (4): Linear(in_features=64, out_features=512, bias=True)\n",
              "    (5): ReLU()\n",
              "    (6): Linear(in_features=512, out_features=1, bias=True)\n",
              "  )\n",
              "  (82): Sequential(\n",
              "    (0): Linear(in_features=20, out_features=128, bias=True)\n",
              "    (1): ReLU()\n",
              "    (2): Linear(in_features=128, out_features=64, bias=True)\n",
              "    (3): ReLU()\n",
              "    (4): Linear(in_features=64, out_features=512, bias=True)\n",
              "    (5): ReLU()\n",
              "    (6): Linear(in_features=512, out_features=1, bias=True)\n",
              "  )\n",
              "  (83): Sequential(\n",
              "    (0): Linear(in_features=20, out_features=128, bias=True)\n",
              "    (1): ReLU()\n",
              "    (2): Linear(in_features=128, out_features=64, bias=True)\n",
              "    (3): ReLU()\n",
              "    (4): Linear(in_features=64, out_features=512, bias=True)\n",
              "    (5): ReLU()\n",
              "    (6): Linear(in_features=512, out_features=1, bias=True)\n",
              "  )\n",
              "  (84): Sequential(\n",
              "    (0): Linear(in_features=20, out_features=128, bias=True)\n",
              "    (1): ReLU()\n",
              "    (2): Linear(in_features=128, out_features=64, bias=True)\n",
              "    (3): ReLU()\n",
              "    (4): Linear(in_features=64, out_features=512, bias=True)\n",
              "    (5): ReLU()\n",
              "    (6): Linear(in_features=512, out_features=1, bias=True)\n",
              "  )\n",
              "  (85): Sequential(\n",
              "    (0): Linear(in_features=20, out_features=128, bias=True)\n",
              "    (1): ReLU()\n",
              "    (2): Linear(in_features=128, out_features=64, bias=True)\n",
              "    (3): ReLU()\n",
              "    (4): Linear(in_features=64, out_features=512, bias=True)\n",
              "    (5): ReLU()\n",
              "    (6): Linear(in_features=512, out_features=1, bias=True)\n",
              "  )\n",
              "  (86): Sequential(\n",
              "    (0): Linear(in_features=20, out_features=128, bias=True)\n",
              "    (1): ReLU()\n",
              "    (2): Linear(in_features=128, out_features=64, bias=True)\n",
              "    (3): ReLU()\n",
              "    (4): Linear(in_features=64, out_features=512, bias=True)\n",
              "    (5): ReLU()\n",
              "    (6): Linear(in_features=512, out_features=1, bias=True)\n",
              "  )\n",
              "  (87): Sequential(\n",
              "    (0): Linear(in_features=20, out_features=128, bias=True)\n",
              "    (1): ReLU()\n",
              "    (2): Linear(in_features=128, out_features=64, bias=True)\n",
              "    (3): ReLU()\n",
              "    (4): Linear(in_features=64, out_features=512, bias=True)\n",
              "    (5): ReLU()\n",
              "    (6): Linear(in_features=512, out_features=1, bias=True)\n",
              "  )\n",
              "  (88): Sequential(\n",
              "    (0): Linear(in_features=20, out_features=128, bias=True)\n",
              "    (1): ReLU()\n",
              "    (2): Linear(in_features=128, out_features=64, bias=True)\n",
              "    (3): ReLU()\n",
              "    (4): Linear(in_features=64, out_features=512, bias=True)\n",
              "    (5): ReLU()\n",
              "    (6): Linear(in_features=512, out_features=1, bias=True)\n",
              "  )\n",
              "  (89): Sequential(\n",
              "    (0): Linear(in_features=20, out_features=128, bias=True)\n",
              "    (1): ReLU()\n",
              "    (2): Linear(in_features=128, out_features=64, bias=True)\n",
              "    (3): ReLU()\n",
              "    (4): Linear(in_features=64, out_features=512, bias=True)\n",
              "    (5): ReLU()\n",
              "    (6): Linear(in_features=512, out_features=1, bias=True)\n",
              "  )\n",
              "  (90): Sequential(\n",
              "    (0): Linear(in_features=20, out_features=128, bias=True)\n",
              "    (1): ReLU()\n",
              "    (2): Linear(in_features=128, out_features=64, bias=True)\n",
              "    (3): ReLU()\n",
              "    (4): Linear(in_features=64, out_features=512, bias=True)\n",
              "    (5): ReLU()\n",
              "    (6): Linear(in_features=512, out_features=1, bias=True)\n",
              "  )\n",
              "  (91): Sequential(\n",
              "    (0): Linear(in_features=20, out_features=128, bias=True)\n",
              "    (1): ReLU()\n",
              "    (2): Linear(in_features=128, out_features=64, bias=True)\n",
              "    (3): ReLU()\n",
              "    (4): Linear(in_features=64, out_features=512, bias=True)\n",
              "    (5): ReLU()\n",
              "    (6): Linear(in_features=512, out_features=1, bias=True)\n",
              "  )\n",
              "  (92): Sequential(\n",
              "    (0): Linear(in_features=20, out_features=128, bias=True)\n",
              "    (1): ReLU()\n",
              "    (2): Linear(in_features=128, out_features=64, bias=True)\n",
              "    (3): ReLU()\n",
              "    (4): Linear(in_features=64, out_features=512, bias=True)\n",
              "    (5): ReLU()\n",
              "    (6): Linear(in_features=512, out_features=1, bias=True)\n",
              "  )\n",
              "  (93): Sequential(\n",
              "    (0): Linear(in_features=20, out_features=128, bias=True)\n",
              "    (1): ReLU()\n",
              "    (2): Linear(in_features=128, out_features=64, bias=True)\n",
              "    (3): ReLU()\n",
              "    (4): Linear(in_features=64, out_features=512, bias=True)\n",
              "    (5): ReLU()\n",
              "    (6): Linear(in_features=512, out_features=1, bias=True)\n",
              "  )\n",
              "  (94): Sequential(\n",
              "    (0): Linear(in_features=20, out_features=128, bias=True)\n",
              "    (1): ReLU()\n",
              "    (2): Linear(in_features=128, out_features=64, bias=True)\n",
              "    (3): ReLU()\n",
              "    (4): Linear(in_features=64, out_features=512, bias=True)\n",
              "    (5): ReLU()\n",
              "    (6): Linear(in_features=512, out_features=1, bias=True)\n",
              "  )\n",
              "  (95): Sequential(\n",
              "    (0): Linear(in_features=20, out_features=128, bias=True)\n",
              "    (1): ReLU()\n",
              "    (2): Linear(in_features=128, out_features=64, bias=True)\n",
              "    (3): ReLU()\n",
              "    (4): Linear(in_features=64, out_features=512, bias=True)\n",
              "    (5): ReLU()\n",
              "    (6): Linear(in_features=512, out_features=1, bias=True)\n",
              "  )\n",
              "  (96): Sequential(\n",
              "    (0): Linear(in_features=20, out_features=128, bias=True)\n",
              "    (1): ReLU()\n",
              "    (2): Linear(in_features=128, out_features=64, bias=True)\n",
              "    (3): ReLU()\n",
              "    (4): Linear(in_features=64, out_features=512, bias=True)\n",
              "    (5): ReLU()\n",
              "    (6): Linear(in_features=512, out_features=1, bias=True)\n",
              "  )\n",
              "  (97): Sequential(\n",
              "    (0): Linear(in_features=20, out_features=128, bias=True)\n",
              "    (1): ReLU()\n",
              "    (2): Linear(in_features=128, out_features=64, bias=True)\n",
              "    (3): ReLU()\n",
              "    (4): Linear(in_features=64, out_features=512, bias=True)\n",
              "    (5): ReLU()\n",
              "    (6): Linear(in_features=512, out_features=1, bias=True)\n",
              "  )\n",
              "  (98): Sequential(\n",
              "    (0): Linear(in_features=20, out_features=128, bias=True)\n",
              "    (1): ReLU()\n",
              "    (2): Linear(in_features=128, out_features=64, bias=True)\n",
              "    (3): ReLU()\n",
              "    (4): Linear(in_features=64, out_features=512, bias=True)\n",
              "    (5): ReLU()\n",
              "    (6): Linear(in_features=512, out_features=1, bias=True)\n",
              "  )\n",
              "  (99): Sequential(\n",
              "    (0): Linear(in_features=20, out_features=128, bias=True)\n",
              "    (1): ReLU()\n",
              "    (2): Linear(in_features=128, out_features=64, bias=True)\n",
              "    (3): ReLU()\n",
              "    (4): Linear(in_features=64, out_features=512, bias=True)\n",
              "    (5): ReLU()\n",
              "    (6): Linear(in_features=512, out_features=1, bias=True)\n",
              "  )\n",
              ")"
            ]
          },
          "metadata": {},
          "execution_count": 48
        }
      ]
    },
    {
      "cell_type": "code",
      "source": [],
      "metadata": {
        "id": "F-lYx_sY3o7j"
      },
      "execution_count": null,
      "outputs": []
    }
  ]
}