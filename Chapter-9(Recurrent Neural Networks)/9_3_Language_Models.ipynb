{
  "nbformat": 4,
  "nbformat_minor": 0,
  "metadata": {
    "colab": {
      "provenance": [],
      "authorship_tag": "ABX9TyNwVSWoruUYYAmigZzYXmHa",
      "include_colab_link": true
    },
    "kernelspec": {
      "name": "python3",
      "display_name": "Python 3"
    },
    "language_info": {
      "name": "python"
    }
  },
  "cells": [
    {
      "cell_type": "markdown",
      "metadata": {
        "id": "view-in-github",
        "colab_type": "text"
      },
      "source": [
        "<a href=\"https://colab.research.google.com/github/arnav39/d2el-en/blob/main/9_3_Language_Models.ipynb\" target=\"_parent\"><img src=\"https://colab.research.google.com/assets/colab-badge.svg\" alt=\"Open In Colab\"/></a>"
      ]
    },
    {
      "cell_type": "code",
      "execution_count": null,
      "metadata": {
        "id": "-Yy1wi59ipML"
      },
      "outputs": [],
      "source": [
        "!pip install matplotlib_inline\n",
        "!pip install --upgrade d2l==1.0.0a0"
      ]
    },
    {
      "cell_type": "code",
      "source": [
        "import torch\n",
        "from d2l import torch as d2l"
      ],
      "metadata": {
        "colab": {
          "base_uri": "https://localhost:8080/"
        },
        "id": "73DQXto4jI-E",
        "outputId": "4f4094d2-d135-4516-fd59-2979862f65a4"
      },
      "execution_count": 2,
      "outputs": [
        {
          "output_type": "stream",
          "name": "stderr",
          "text": [
            "/usr/local/lib/python3.8/dist-packages/torch/cuda/__init__.py:497: UserWarning: Can't initialize NVML\n",
            "  warnings.warn(\"Can't initialize NVML\")\n"
          ]
        }
      ]
    },
    {
      "cell_type": "code",
      "source": [
        "!pip list --local"
      ],
      "metadata": {
        "id": "uv1ydJQ9jUzX"
      },
      "execution_count": null,
      "outputs": []
    },
    {
      "cell_type": "code",
      "source": [
        "a = \"I am a boy\"\n",
        "print(len(a))\n",
        "\n",
        "a[0:4] # 0 to 3"
      ],
      "metadata": {
        "colab": {
          "base_uri": "https://localhost:8080/",
          "height": 52
        },
        "id": "fGTK2dNuDxqk",
        "outputId": "2b258010-1e2a-4a8f-b9d5-effa652d2d60"
      },
      "execution_count": 5,
      "outputs": [
        {
          "output_type": "stream",
          "name": "stdout",
          "text": [
            "10\n"
          ]
        },
        {
          "output_type": "execute_result",
          "data": {
            "text/plain": [
              "'I am'"
            ],
            "application/vnd.google.colaboratory.intrinsic+json": {
              "type": "string"
            }
          },
          "metadata": {},
          "execution_count": 5
        }
      ]
    },
    {
      "cell_type": "code",
      "source": [
        "torch.StringType??"
      ],
      "metadata": {
        "id": "R5zrOhPzGrVU"
      },
      "execution_count": 12,
      "outputs": []
    },
    {
      "cell_type": "code",
      "source": [
        "import collections"
      ],
      "metadata": {
        "id": "wHIHIrpjZquN"
      },
      "execution_count": 14,
      "outputs": []
    },
    {
      "cell_type": "code",
      "source": [
        "c = collections.Counter()\n",
        "c"
      ],
      "metadata": {
        "colab": {
          "base_uri": "https://localhost:8080/"
        },
        "id": "0r1x9WgraGvY",
        "outputId": "828c4c31-2d9f-469c-c431-8733835beeac"
      },
      "execution_count": 15,
      "outputs": [
        {
          "output_type": "execute_result",
          "data": {
            "text/plain": [
              "Counter()"
            ]
          },
          "metadata": {},
          "execution_count": 15
        }
      ]
    },
    {
      "cell_type": "code",
      "source": [
        "c = collections.Counter('chandigarh')\n",
        "c"
      ],
      "metadata": {
        "colab": {
          "base_uri": "https://localhost:8080/"
        },
        "id": "S12jSJR5aJdv",
        "outputId": "52050034-3751-4fed-a62d-8d17d1807554"
      },
      "execution_count": 16,
      "outputs": [
        {
          "output_type": "execute_result",
          "data": {
            "text/plain": [
              "Counter({'c': 1, 'h': 2, 'a': 2, 'n': 1, 'd': 1, 'i': 1, 'g': 1, 'r': 1})"
            ]
          },
          "metadata": {},
          "execution_count": 16
        }
      ]
    },
    {
      "cell_type": "code",
      "source": [
        "text = \"I am a boy. My name is Arnav Singla\"\n",
        "text = text.lower()\n",
        "tokens = list(text) # tokenize on the characters level\n",
        "counter = collections.Counter(tokens)\n",
        "print(counter.items())"
      ],
      "metadata": {
        "colab": {
          "base_uri": "https://localhost:8080/"
        },
        "id": "C0eVg-XZEkSE",
        "outputId": "c0bc4fed-fe2a-4e86-ace7-01a37bbf193d"
      },
      "execution_count": 22,
      "outputs": [
        {
          "output_type": "stream",
          "name": "stdout",
          "text": [
            "dict_items([('i', 3), (' ', 8), ('a', 6), ('m', 3), ('b', 1), ('o', 1), ('y', 2), ('.', 1), ('n', 3), ('e', 1), ('s', 2), ('r', 1), ('v', 1), ('g', 1), ('l', 1)])\n"
          ]
        }
      ]
    },
    {
      "cell_type": "code",
      "source": [
        "sorted??"
      ],
      "metadata": {
        "id": "6HdexmhFam05"
      },
      "execution_count": 18,
      "outputs": []
    },
    {
      "cell_type": "code",
      "source": [
        "freqs = sorted(counter.items(), key=lambda x: x[1], reverse=False)\n",
        "print(freqs)"
      ],
      "metadata": {
        "colab": {
          "base_uri": "https://localhost:8080/"
        },
        "id": "-Bp85nIpaTrg",
        "outputId": "b317f0a5-9a70-43a2-936f-7abed56c1f02"
      },
      "execution_count": 23,
      "outputs": [
        {
          "output_type": "stream",
          "name": "stdout",
          "text": [
            "[('b', 1), ('o', 1), ('.', 1), ('e', 1), ('r', 1), ('v', 1), ('g', 1), ('l', 1), ('y', 2), ('s', 2), ('i', 3), ('m', 3), ('n', 3), ('a', 6), (' ', 8)]\n"
          ]
        }
      ]
    },
    {
      "cell_type": "code",
      "source": [
        "idx_to_tokens = list(sorted([token for token, freq in freqs]))\n",
        "print(idx_to_tokens)"
      ],
      "metadata": {
        "colab": {
          "base_uri": "https://localhost:8080/"
        },
        "id": "GjqMa6KofWV7",
        "outputId": "8c160f9b-7d49-49c0-ec2f-5ccbabd63eee"
      },
      "execution_count": 24,
      "outputs": [
        {
          "output_type": "stream",
          "name": "stdout",
          "text": [
            "[' ', '.', 'a', 'b', 'e', 'g', 'i', 'l', 'm', 'n', 'o', 'r', 's', 'v', 'y']\n"
          ]
        }
      ]
    },
    {
      "cell_type": "code",
      "source": [
        "token_to_idx = {token : idx for idx, token in enumerate(idx_to_tokens)}\n",
        "print(token_to_idx)"
      ],
      "metadata": {
        "colab": {
          "base_uri": "https://localhost:8080/"
        },
        "id": "DELR_bsifoQj",
        "outputId": "0fcc115b-daf1-4e04-ae79-96bf42ef3f36"
      },
      "execution_count": 26,
      "outputs": [
        {
          "output_type": "stream",
          "name": "stdout",
          "text": [
            "{' ': 0, '.': 1, 'a': 2, 'b': 3, 'e': 4, 'g': 5, 'i': 6, 'l': 7, 'm': 8, 'n': 9, 'o': 10, 'r': 11, 's': 12, 'v': 13, 'y': 14}\n"
          ]
        }
      ]
    },
    {
      "cell_type": "code",
      "source": [
        "corpus = [token_to_idx[token] for token in tokens]\n",
        "print(corpus)"
      ],
      "metadata": {
        "colab": {
          "base_uri": "https://localhost:8080/"
        },
        "id": "kvxNTkeAf0z4",
        "outputId": "0f957804-4216-4948-d36a-d82d191f23f8"
      },
      "execution_count": 27,
      "outputs": [
        {
          "output_type": "stream",
          "name": "stdout",
          "text": [
            "[6, 0, 2, 8, 0, 2, 0, 3, 10, 14, 1, 0, 8, 14, 0, 9, 2, 8, 4, 0, 6, 12, 0, 2, 11, 9, 2, 13, 0, 12, 6, 9, 5, 7, 2]\n"
          ]
        }
      ]
    },
    {
      "cell_type": "code",
      "source": [
        "print(text)\n",
        "print(corpus)"
      ],
      "metadata": {
        "colab": {
          "base_uri": "https://localhost:8080/"
        },
        "id": "BTeFF-S4gPec",
        "outputId": "ee172193-2de4-4db2-d49e-f1af92cb6e65"
      },
      "execution_count": 28,
      "outputs": [
        {
          "output_type": "stream",
          "name": "stdout",
          "text": [
            "i am a boy. my name is arnav singla\n",
            "[6, 0, 2, 8, 0, 2, 0, 3, 10, 14, 1, 0, 8, 14, 0, 9, 2, 8, 4, 0, 6, 12, 0, 2, 11, 9, 2, 13, 0, 12, 6, 9, 5, 7, 2]\n"
          ]
        }
      ]
    },
    {
      "cell_type": "code",
      "source": [
        "print(len(corpus))"
      ],
      "metadata": {
        "colab": {
          "base_uri": "https://localhost:8080/"
        },
        "id": "I7oVhmfggqTm",
        "outputId": "5f9311d1-fda4-4adf-a5a5-0c4d4b87b38d"
      },
      "execution_count": 32,
      "outputs": [
        {
          "output_type": "stream",
          "name": "stdout",
          "text": [
            "35\n"
          ]
        }
      ]
    },
    {
      "cell_type": "code",
      "source": [
        "corpus[len(corpus)-1]"
      ],
      "metadata": {
        "colab": {
          "base_uri": "https://localhost:8080/"
        },
        "id": "6Keh6IvQgtqu",
        "outputId": "dfa2e01d-bbfd-40e1-d1e4-13e5f9ece561"
      },
      "execution_count": 34,
      "outputs": [
        {
          "output_type": "execute_result",
          "data": {
            "text/plain": [
              "2"
            ]
          },
          "metadata": {},
          "execution_count": 34
        }
      ]
    },
    {
      "cell_type": "code",
      "source": [],
      "metadata": {
        "id": "ygH3Ih_xg0T9"
      },
      "execution_count": null,
      "outputs": []
    },
    {
      "cell_type": "code",
      "source": [
        "for i in range(3):\n",
        "  print(i)"
      ],
      "metadata": {
        "colab": {
          "base_uri": "https://localhost:8080/"
        },
        "id": "ylsqssLbhAsf",
        "outputId": "1f862e7a-62d1-44f6-c38c-bc77f7c55425"
      },
      "execution_count": 36,
      "outputs": [
        {
          "output_type": "stream",
          "name": "stdout",
          "text": [
            "0\n",
            "1\n",
            "2\n"
          ]
        }
      ]
    },
    {
      "cell_type": "code",
      "source": [
        "corpus[31]"
      ],
      "metadata": {
        "colab": {
          "base_uri": "https://localhost:8080/"
        },
        "id": "cn7yh_C_hL7p",
        "outputId": "5d79446b-d8f6-4a49-da71-32b7cf937d50"
      },
      "execution_count": 38,
      "outputs": [
        {
          "output_type": "execute_result",
          "data": {
            "text/plain": [
              "9"
            ]
          },
          "metadata": {},
          "execution_count": 38
        }
      ]
    },
    {
      "cell_type": "code",
      "source": [
        "num_steps = 3\n",
        "array = torch.tensor([corpus[i:i+num_steps+1] for i in range(0, len(corpus)-num_steps)])"
      ],
      "metadata": {
        "id": "KR_8UAbugM6S"
      },
      "execution_count": 39,
      "outputs": []
    },
    {
      "cell_type": "code",
      "source": [
        "array"
      ],
      "metadata": {
        "colab": {
          "base_uri": "https://localhost:8080/"
        },
        "id": "D7g7HGIMgdXu",
        "outputId": "de4456ef-54d1-4f88-e7ad-414b1fa49c58"
      },
      "execution_count": 40,
      "outputs": [
        {
          "output_type": "execute_result",
          "data": {
            "text/plain": [
              "tensor([[ 6,  0,  2,  8],\n",
              "        [ 0,  2,  8,  0],\n",
              "        [ 2,  8,  0,  2],\n",
              "        [ 8,  0,  2,  0],\n",
              "        [ 0,  2,  0,  3],\n",
              "        [ 2,  0,  3, 10],\n",
              "        [ 0,  3, 10, 14],\n",
              "        [ 3, 10, 14,  1],\n",
              "        [10, 14,  1,  0],\n",
              "        [14,  1,  0,  8],\n",
              "        [ 1,  0,  8, 14],\n",
              "        [ 0,  8, 14,  0],\n",
              "        [ 8, 14,  0,  9],\n",
              "        [14,  0,  9,  2],\n",
              "        [ 0,  9,  2,  8],\n",
              "        [ 9,  2,  8,  4],\n",
              "        [ 2,  8,  4,  0],\n",
              "        [ 8,  4,  0,  6],\n",
              "        [ 4,  0,  6, 12],\n",
              "        [ 0,  6, 12,  0],\n",
              "        [ 6, 12,  0,  2],\n",
              "        [12,  0,  2, 11],\n",
              "        [ 0,  2, 11,  9],\n",
              "        [ 2, 11,  9,  2],\n",
              "        [11,  9,  2, 13],\n",
              "        [ 9,  2, 13,  0],\n",
              "        [ 2, 13,  0, 12],\n",
              "        [13,  0, 12,  6],\n",
              "        [ 0, 12,  6,  9],\n",
              "        [12,  6,  9,  5],\n",
              "        [ 6,  9,  5,  7],\n",
              "        [ 9,  5,  7,  2]])"
            ]
          },
          "metadata": {},
          "execution_count": 40
        }
      ]
    },
    {
      "cell_type": "code",
      "source": [
        "for j, seq in enumerate(array):\n",
        "  sentence = [idx_to_tokens[i] for i in seq]\n",
        "  print(f\"j = {j}\")\n",
        "  print(\"\".join(sentence))\n",
        "  print('-' * 10)"
      ],
      "metadata": {
        "colab": {
          "base_uri": "https://localhost:8080/"
        },
        "id": "MmBJXph9iH1j",
        "outputId": "42e27003-4f5a-4e3e-e301-278219717562"
      },
      "execution_count": 50,
      "outputs": [
        {
          "output_type": "stream",
          "name": "stdout",
          "text": [
            "j = 0\n",
            "i am\n",
            "----------\n",
            "j = 1\n",
            " am \n",
            "----------\n",
            "j = 2\n",
            "am a\n",
            "----------\n",
            "j = 3\n",
            "m a \n",
            "----------\n",
            "j = 4\n",
            " a b\n",
            "----------\n",
            "j = 5\n",
            "a bo\n",
            "----------\n",
            "j = 6\n",
            " boy\n",
            "----------\n",
            "j = 7\n",
            "boy.\n",
            "----------\n",
            "j = 8\n",
            "oy. \n",
            "----------\n",
            "j = 9\n",
            "y. m\n",
            "----------\n",
            "j = 10\n",
            ". my\n",
            "----------\n",
            "j = 11\n",
            " my \n",
            "----------\n",
            "j = 12\n",
            "my n\n",
            "----------\n",
            "j = 13\n",
            "y na\n",
            "----------\n",
            "j = 14\n",
            " nam\n",
            "----------\n",
            "j = 15\n",
            "name\n",
            "----------\n",
            "j = 16\n",
            "ame \n",
            "----------\n",
            "j = 17\n",
            "me i\n",
            "----------\n",
            "j = 18\n",
            "e is\n",
            "----------\n",
            "j = 19\n",
            " is \n",
            "----------\n",
            "j = 20\n",
            "is a\n",
            "----------\n",
            "j = 21\n",
            "s ar\n",
            "----------\n",
            "j = 22\n",
            " arn\n",
            "----------\n",
            "j = 23\n",
            "arna\n",
            "----------\n",
            "j = 24\n",
            "rnav\n",
            "----------\n",
            "j = 25\n",
            "nav \n",
            "----------\n",
            "j = 26\n",
            "av s\n",
            "----------\n",
            "j = 27\n",
            "v si\n",
            "----------\n",
            "j = 28\n",
            " sin\n",
            "----------\n",
            "j = 29\n",
            "sing\n",
            "----------\n",
            "j = 30\n",
            "ingl\n",
            "----------\n",
            "j = 31\n",
            "ngla\n",
            "----------\n"
          ]
        }
      ]
    },
    {
      "cell_type": "markdown",
      "source": [
        "there are certain sequences that dont' make any sense"
      ],
      "metadata": {
        "id": "-ZVGv_rXi_W7"
      }
    },
    {
      "cell_type": "code",
      "source": [
        "array.shape"
      ],
      "metadata": {
        "colab": {
          "base_uri": "https://localhost:8080/"
        },
        "id": "xesjVVVVhUw4",
        "outputId": "3e68bd27-d233-4abd-d997-5371ab011bd0"
      },
      "execution_count": 41,
      "outputs": [
        {
          "output_type": "execute_result",
          "data": {
            "text/plain": [
              "torch.Size([32, 4])"
            ]
          },
          "metadata": {},
          "execution_count": 41
        }
      ]
    },
    {
      "cell_type": "code",
      "source": [
        "x = array[:, :-1]\n",
        "y = array[:, 1:]"
      ],
      "metadata": {
        "id": "AstqazLmha38"
      },
      "execution_count": null,
      "outputs": []
    },
    {
      "cell_type": "code",
      "source": [
        "d2l.TimeMachine??"
      ],
      "metadata": {
        "id": "v2DCTTDhj9tH"
      },
      "execution_count": 54,
      "outputs": []
    },
    {
      "cell_type": "code",
      "source": [
        "@d2l.add_to_class(d2l.TimeMachine)\n",
        "def __init__(self, batch_size, num_steps, num_train=10000, num_val=5000):\n",
        "  super(d2l.TimeMachine, self).__init__()\n",
        "  self.save_hyperparameters()\n",
        "  corpus, self.vocab = self.build(self._download())\n",
        "  array = torch.tensor([corpus[i:i+num_steps+1] for i in range(0, len(corpus)-num_steps)])\n",
        "  self.X, self.Y = array[:, :-1], array[:, 1:]"
      ],
      "metadata": {
        "id": "6wEVVRvTC8U5"
      },
      "execution_count": 55,
      "outputs": []
    },
    {
      "cell_type": "code",
      "source": [
        "d2l.DataModule.get_tensorloader??"
      ],
      "metadata": {
        "id": "RR6h0BPUjXpG"
      },
      "execution_count": 51,
      "outputs": []
    },
    {
      "cell_type": "code",
      "source": [
        "@d2l.add_to_class(d2l.TimeMachine)\n",
        "def get_dataloader(self, train):\n",
        "  idx = slice(0, self.num_train) if train else slice(self.num_train, self.num_train + self.num_val)\n",
        "  return self.get_tensorloader([self.X, self.Y], train, indices=idx)"
      ],
      "metadata": {
        "id": "wNI8uKUsiA2m"
      },
      "execution_count": 56,
      "outputs": []
    },
    {
      "cell_type": "code",
      "source": [
        "data = d2l.TimeMachine(batch_size=2, num_steps=10)"
      ],
      "metadata": {
        "colab": {
          "base_uri": "https://localhost:8080/"
        },
        "id": "S9T_89O1jlyS",
        "outputId": "7da2a5bb-1c23-4172-b797-5c568150562f"
      },
      "execution_count": 57,
      "outputs": [
        {
          "output_type": "stream",
          "name": "stdout",
          "text": [
            "Downloading ../data/timemachine.txt from http://d2l-data.s3-accelerate.amazonaws.com/timemachine.txt...\n"
          ]
        }
      ]
    },
    {
      "cell_type": "code",
      "source": [
        "for X, Y in data.train_dataloader():\n",
        "  print(\"X : \", X, \"\\nY : \", Y)\n",
        "  break"
      ],
      "metadata": {
        "colab": {
          "base_uri": "https://localhost:8080/"
        },
        "id": "L2HyN0wVj6vP",
        "outputId": "a82af42e-23f3-4eaf-8db7-6e61c65d970e"
      },
      "execution_count": 58,
      "outputs": [
        {
          "output_type": "stream",
          "name": "stdout",
          "text": [
            "X :  tensor([[ 6, 20,  0,  2, 13, 16, 15,  8,  0, 10],\n",
            "        [26,  0, 21, 10, 14,  6,  0,  2, 21,  0]]) \n",
            "Y :  tensor([[20,  0,  2, 13, 16, 15,  8,  0, 10, 21],\n",
            "        [ 0, 21, 10, 14,  6,  0,  2, 21,  0,  2]])\n"
          ]
        }
      ]
    },
    {
      "cell_type": "code",
      "source": [
        "for i in X:\n",
        "  sent = [data.vocab.idx_to_token[j.item()] for j in i]\n",
        "  print(\"\".join(sent))"
      ],
      "metadata": {
        "colab": {
          "base_uri": "https://localhost:8080/"
        },
        "id": "vklUoRIikUd3",
        "outputId": "46668611-9ebe-4d50-9097-01b74ead512f"
      },
      "execution_count": 64,
      "outputs": [
        {
          "output_type": "stream",
          "name": "stdout",
          "text": [
            "es along i\n",
            "y time at \n"
          ]
        }
      ]
    },
    {
      "cell_type": "code",
      "source": [
        "data.vocab.token_freqs"
      ],
      "metadata": {
        "colab": {
          "base_uri": "https://localhost:8080/"
        },
        "id": "BDswJUPRkNCq",
        "outputId": "46affc82-2af0-41cc-9f17-770355695f2a"
      },
      "execution_count": 60,
      "outputs": [
        {
          "output_type": "execute_result",
          "data": {
            "text/plain": [
              "[(' ', 32775),\n",
              " ('e', 17838),\n",
              " ('t', 13515),\n",
              " ('a', 11704),\n",
              " ('i', 10138),\n",
              " ('n', 9917),\n",
              " ('o', 9758),\n",
              " ('s', 8486),\n",
              " ('h', 8257),\n",
              " ('r', 7674),\n",
              " ('d', 6337),\n",
              " ('l', 6146),\n",
              " ('m', 4043),\n",
              " ('u', 3805),\n",
              " ('c', 3424),\n",
              " ('f', 3354),\n",
              " ('w', 3225),\n",
              " ('g', 3075),\n",
              " ('y', 2679),\n",
              " ('p', 2427),\n",
              " ('b', 1897),\n",
              " ('v', 1295),\n",
              " ('k', 1087),\n",
              " ('x', 236),\n",
              " ('z', 144),\n",
              " ('j', 97),\n",
              " ('q', 95)]"
            ]
          },
          "metadata": {},
          "execution_count": 60
        }
      ]
    },
    {
      "cell_type": "code",
      "source": [
        "data = d2l.TimeMachine(batch_size=4, num_steps=100)"
      ],
      "metadata": {
        "id": "jPrlvjeekQxy"
      },
      "execution_count": 65,
      "outputs": []
    },
    {
      "cell_type": "code",
      "source": [
        "for X,Y in data.get_dataloader(train=True):\n",
        "  print(\"X\", X, \"\\nY : \", Y)\n",
        "  break"
      ],
      "metadata": {
        "colab": {
          "base_uri": "https://localhost:8080/"
        },
        "id": "Z6Is-CIjk_sE",
        "outputId": "022ede61-ecda-418e-86e1-0ea0f8bbaf5e"
      },
      "execution_count": 67,
      "outputs": [
        {
          "output_type": "stream",
          "name": "stdout",
          "text": [
            "X tensor([[25,  0,  7,  6,  6, 21,  0,  2,  3, 16, 23,  6,  0, 21,  9,  6,  0,  8,\n",
            "         19, 16, 22, 15,  5,  0,  3, 22, 21,  0,  2,  0,  4, 10, 23, 10, 13, 10,\n",
            "         27,  6,  5,  0, 14,  2, 15,  0, 10, 20,  0,  3,  6, 21, 21,  6, 19,  0,\n",
            "         16,  7,  7,  0, 21,  9,  2, 15,  0, 21,  9,  6,  0, 20,  2, 23,  2,  8,\n",
            "          6,  0, 10, 15,  0, 21,  9, 10, 20,  0, 19,  6, 20, 17,  6,  4, 21,  0,\n",
            "          9,  6,  0,  4,  2, 15,  0,  8, 16,  0],\n",
            "        [ 6, 15, 20, 10, 16, 15, 20,  0, 16,  7,  0, 20, 17,  2,  4,  6,  0,  8,\n",
            "          6, 15,  6, 19,  2, 13, 13, 26,  0, 19,  6,  4, 16,  8, 15, 10, 27,  6,\n",
            "          5,  0,  3, 22, 21,  0,  4,  6, 19, 21,  2, 10, 15, 13, 26,  0, 10, 21,\n",
            "          0, 21, 19,  2,  4,  6,  5,  0, 20, 22,  4,  9,  0,  2,  0, 13, 10, 15,\n",
            "          6,  0,  2, 15,  5,  0, 21,  9,  2, 21,  0, 13, 10, 15,  6,  0, 21,  9,\n",
            "          6, 19,  6,  7, 16, 19,  6,  0, 24,  6],\n",
            "        [26,  0, 20,  2, 10,  5,  0, 21,  9,  6,  0, 14,  6,  5, 10,  4,  2, 13,\n",
            "          0, 14,  2, 15,  0, 21,  9,  6, 19,  6,  0,  2, 19,  6,  0,  3,  2, 13,\n",
            "         13, 16, 16, 15, 20,  0,  3, 22, 21,  0,  3,  6,  7, 16, 19,  6,  0, 21,\n",
            "          9,  6,  0,  3,  2, 13, 13, 16, 16, 15, 20,  0, 20,  2, 23,  6,  0,  7,\n",
            "         16, 19,  0, 20, 17,  2, 20, 14, 16,  5, 10,  4,  0, 11, 22, 14, 17, 10,\n",
            "         15,  8,  0,  2, 15,  5,  0, 21,  9,  6],\n",
            "        [ 8,  0, 14,  2, 15,  0, 14,  2, 12, 10, 15,  8,  0, 20, 17,  2, 20, 14,\n",
            "         16,  5, 10,  4,  0,  6,  7,  7, 16, 19, 21, 20,  0, 21, 16,  0, 19,  6,\n",
            "         13, 10,  8,  9, 21,  0,  9, 10, 20,  0,  4, 10,  8,  2, 19,  0, 16, 23,\n",
            "          6, 19,  0, 21,  9,  6,  0, 13,  2, 14, 17,  0, 21,  9,  2, 21,  0, 23,\n",
            "          6, 19, 26,  0,  4, 13,  6,  2, 19,  0, 10, 15,  5,  6,  6,  5,  0, 15,\n",
            "         16, 24,  0, 10, 21,  0, 10, 20,  0, 23]]) \n",
            "Y :  tensor([[ 0,  7,  6,  6, 21,  0,  2,  3, 16, 23,  6,  0, 21,  9,  6,  0,  8, 19,\n",
            "         16, 22, 15,  5,  0,  3, 22, 21,  0,  2,  0,  4, 10, 23, 10, 13, 10, 27,\n",
            "          6,  5,  0, 14,  2, 15,  0, 10, 20,  0,  3,  6, 21, 21,  6, 19,  0, 16,\n",
            "          7,  7,  0, 21,  9,  2, 15,  0, 21,  9,  6,  0, 20,  2, 23,  2,  8,  6,\n",
            "          0, 10, 15,  0, 21,  9, 10, 20,  0, 19,  6, 20, 17,  6,  4, 21,  0,  9,\n",
            "          6,  0,  4,  2, 15,  0,  8, 16,  0, 22],\n",
            "        [15, 20, 10, 16, 15, 20,  0, 16,  7,  0, 20, 17,  2,  4,  6,  0,  8,  6,\n",
            "         15,  6, 19,  2, 13, 13, 26,  0, 19,  6,  4, 16,  8, 15, 10, 27,  6,  5,\n",
            "          0,  3, 22, 21,  0,  4,  6, 19, 21,  2, 10, 15, 13, 26,  0, 10, 21,  0,\n",
            "         21, 19,  2,  4,  6,  5,  0, 20, 22,  4,  9,  0,  2,  0, 13, 10, 15,  6,\n",
            "          0,  2, 15,  5,  0, 21,  9,  2, 21,  0, 13, 10, 15,  6,  0, 21,  9,  6,\n",
            "         19,  6,  7, 16, 19,  6,  0, 24,  6,  0],\n",
            "        [ 0, 20,  2, 10,  5,  0, 21,  9,  6,  0, 14,  6,  5, 10,  4,  2, 13,  0,\n",
            "         14,  2, 15,  0, 21,  9,  6, 19,  6,  0,  2, 19,  6,  0,  3,  2, 13, 13,\n",
            "         16, 16, 15, 20,  0,  3, 22, 21,  0,  3,  6,  7, 16, 19,  6,  0, 21,  9,\n",
            "          6,  0,  3,  2, 13, 13, 16, 16, 15, 20,  0, 20,  2, 23,  6,  0,  7, 16,\n",
            "         19,  0, 20, 17,  2, 20, 14, 16,  5, 10,  4,  0, 11, 22, 14, 17, 10, 15,\n",
            "          8,  0,  2, 15,  5,  0, 21,  9,  6,  0],\n",
            "        [ 0, 14,  2, 15,  0, 14,  2, 12, 10, 15,  8,  0, 20, 17,  2, 20, 14, 16,\n",
            "          5, 10,  4,  0,  6,  7,  7, 16, 19, 21, 20,  0, 21, 16,  0, 19,  6, 13,\n",
            "         10,  8,  9, 21,  0,  9, 10, 20,  0,  4, 10,  8,  2, 19,  0, 16, 23,  6,\n",
            "         19,  0, 21,  9,  6,  0, 13,  2, 14, 17,  0, 21,  9,  2, 21,  0, 23,  6,\n",
            "         19, 26,  0,  4, 13,  6,  2, 19,  0, 10, 15,  5,  6,  6,  5,  0, 15, 16,\n",
            "         24,  0, 10, 21,  0, 10, 20,  0, 23,  6]])\n"
          ]
        }
      ]
    },
    {
      "cell_type": "code",
      "source": [
        "for i in X:\n",
        "  sent = [data.vocab.idx_to_token[j.item()] for j in i]\n",
        "  print(\"\".join(sent))"
      ],
      "metadata": {
        "colab": {
          "base_uri": "https://localhost:8080/"
        },
        "id": "ZErlS-gxljfD",
        "outputId": "d165f2ab-47a9-47d5-ea0c-5237e3e69d43"
      },
      "execution_count": 68,
      "outputs": [
        {
          "output_type": "stream",
          "name": "stdout",
          "text": [
            "x feet above the ground but a civilized man is better off than the savage in this respect he can go \n",
            "ensions of space generally recognized but certainly it traced such a line and that line therefore we\n",
            "y said the medical man there are balloons but before the balloons save for spasmodic jumping and the\n",
            "g man making spasmodic efforts to relight his cigar over the lamp that very clear indeed now it is v\n"
          ]
        }
      ]
    },
    {
      "cell_type": "code",
      "source": [],
      "metadata": {
        "id": "-KCsQdVglqY-"
      },
      "execution_count": null,
      "outputs": []
    }
  ]
}