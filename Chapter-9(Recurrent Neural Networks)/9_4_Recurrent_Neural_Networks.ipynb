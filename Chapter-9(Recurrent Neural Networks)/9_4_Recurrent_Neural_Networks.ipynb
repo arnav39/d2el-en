{
  "nbformat": 4,
  "nbformat_minor": 0,
  "metadata": {
    "colab": {
      "provenance": [],
      "authorship_tag": "ABX9TyM5OA5YoXoq+xHKEpM71mro",
      "include_colab_link": true
    },
    "kernelspec": {
      "name": "python3",
      "display_name": "Python 3"
    },
    "language_info": {
      "name": "python"
    }
  },
  "cells": [
    {
      "cell_type": "markdown",
      "metadata": {
        "id": "view-in-github",
        "colab_type": "text"
      },
      "source": [
        "<a href=\"https://colab.research.google.com/github/arnav39/d2el-en/blob/main/9_4_Recurrent_Neural_Networks.ipynb\" target=\"_parent\"><img src=\"https://colab.research.google.com/assets/colab-badge.svg\" alt=\"Open In Colab\"/></a>"
      ]
    },
    {
      "cell_type": "markdown",
      "source": [
        "# 9.4 : Recurrent Neural Network"
      ],
      "metadata": {
        "id": "_FgVeoz4d19d"
      }
    },
    {
      "cell_type": "code",
      "execution_count": null,
      "metadata": {
        "id": "Y_pR1zL6dxVS"
      },
      "outputs": [],
      "source": [
        "!pip install matplotlib_inline\n",
        "!pip install --upgrade d2l==1.0.0a0"
      ]
    },
    {
      "cell_type": "code",
      "source": [
        "import torch\n",
        "from d2l import torch as d2l"
      ],
      "metadata": {
        "colab": {
          "base_uri": "https://localhost:8080/"
        },
        "id": "tlb0y2YEd_tP",
        "outputId": "71bb6660-5160-4b3c-c721-6961ccba69dd"
      },
      "execution_count": 2,
      "outputs": [
        {
          "output_type": "stream",
          "name": "stderr",
          "text": [
            "/usr/local/lib/python3.8/dist-packages/torch/cuda/__init__.py:497: UserWarning: Can't initialize NVML\n",
            "  warnings.warn(\"Can't initialize NVML\")\n"
          ]
        }
      ]
    },
    {
      "cell_type": "code",
      "source": [
        "X = torch.randn(3, 1)\n",
        "W_xh = torch.randn(1, 4)\n",
        "H = torch.randn(3, 4)\n",
        "W_hh = torch.randn(4, 4)\n",
        "\n",
        "output = torch.mm(X, W_xh) + torch.mm(H, W_hh) \n",
        "print(output.shape)"
      ],
      "metadata": {
        "colab": {
          "base_uri": "https://localhost:8080/"
        },
        "id": "EUnftylLfxr3",
        "outputId": "f267da35-f9bc-4e5c-b2ce-448f51747555"
      },
      "execution_count": 3,
      "outputs": [
        {
          "output_type": "stream",
          "name": "stdout",
          "text": [
            "torch.Size([3, 4])\n"
          ]
        }
      ]
    },
    {
      "cell_type": "code",
      "source": [
        "X_cat = torch.cat([X, H], dim=1)\n",
        "W_cat = torch.cat([W_xh, W_hh], dim=0)\n",
        "\n",
        "print(X_cat.shape)\n",
        "print(W_cat.shape)"
      ],
      "metadata": {
        "colab": {
          "base_uri": "https://localhost:8080/"
        },
        "id": "7cxz1sfOgFlu",
        "outputId": "63104ccc-b574-4d5b-d3e3-b96a2c7a8d6f"
      },
      "execution_count": 5,
      "outputs": [
        {
          "output_type": "stream",
          "name": "stdout",
          "text": [
            "torch.Size([3, 5])\n",
            "torch.Size([5, 4])\n"
          ]
        }
      ]
    },
    {
      "cell_type": "code",
      "source": [
        "output_2 = torch.mm(X_cat, W_cat)\n",
        "print(output_2.shape)\n",
        "print(sum(output_2 == output))"
      ],
      "metadata": {
        "colab": {
          "base_uri": "https://localhost:8080/"
        },
        "id": "6SLhU8QegUfX",
        "outputId": "a06cd9fc-b16d-4a03-85f7-db9032261b83"
      },
      "execution_count": 6,
      "outputs": [
        {
          "output_type": "stream",
          "name": "stdout",
          "text": [
            "torch.Size([3, 4])\n",
            "tensor([2, 0, 1, 1])\n"
          ]
        }
      ]
    },
    {
      "cell_type": "code",
      "source": [
        "print(output)"
      ],
      "metadata": {
        "colab": {
          "base_uri": "https://localhost:8080/"
        },
        "id": "3uQG5X3bglh1",
        "outputId": "0604d1cb-94c3-42b4-e16e-f733c706cae6"
      },
      "execution_count": 9,
      "outputs": [
        {
          "output_type": "stream",
          "name": "stdout",
          "text": [
            "tensor([[ 2.2389, -0.5993, -0.8848, -0.5440],\n",
            "        [ 1.7007, -0.1637,  0.1962, -0.3221],\n",
            "        [ 3.0469, -0.8332, -1.3527, -1.2876]])\n"
          ]
        }
      ]
    },
    {
      "cell_type": "code",
      "source": [
        "print(output_2)"
      ],
      "metadata": {
        "colab": {
          "base_uri": "https://localhost:8080/"
        },
        "id": "EpYdhYRFgfqR",
        "outputId": "93a6d202-8fb5-48f6-fe98-c6e71f37634b"
      },
      "execution_count": 8,
      "outputs": [
        {
          "output_type": "stream",
          "name": "stdout",
          "text": [
            "tensor([[ 2.2389, -0.5993, -0.8848, -0.5440],\n",
            "        [ 1.7007, -0.1637,  0.1962, -0.3221],\n",
            "        [ 3.0469, -0.8332, -1.3527, -1.2876]])\n"
          ]
        }
      ]
    },
    {
      "cell_type": "code",
      "source": [],
      "metadata": {
        "id": "JNVKIXZNgjqT"
      },
      "execution_count": null,
      "outputs": []
    }
  ]
}