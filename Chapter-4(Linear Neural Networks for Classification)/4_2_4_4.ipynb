{
  "cells": [
    {
      "cell_type": "markdown",
      "metadata": {
        "id": "view-in-github",
        "colab_type": "text"
      },
      "source": [
        "<a href=\"https://colab.research.google.com/github/arnav39/d2el-en/blob/main/4_2_4_4.ipynb\" target=\"_parent\"><img src=\"https://colab.research.google.com/assets/colab-badge.svg\" alt=\"Open In Colab\"/></a>"
      ]
    },
    {
      "cell_type": "markdown",
      "metadata": {
        "id": "oSQMBDBm7Lzs"
      },
      "source": [
        "# 4.2 The Image classification Dataset"
      ]
    },
    {
      "cell_type": "code",
      "execution_count": 2,
      "metadata": {
        "id": "PRDdEPKN7RGL",
        "colab": {
          "base_uri": "https://localhost:8080/"
        },
        "outputId": "caa54ec4-07d2-42ef-8c52-cf78ab4c9319"
      },
      "outputs": [
        {
          "output_type": "stream",
          "name": "stdout",
          "text": [
            "Installing collected packages: jedi, qtpy, qtconsole, jupyter, d2l\n",
            "Successfully installed d2l-1.0.0a0 jedi-0.18.2 jupyter-1.0.0 qtconsole-5.4.0 qtpy-2.3.0\n"
          ]
        }
      ],
      "source": [
        "!pip install matplotlib_inline\n",
        "!pip install --upgrade d2l==1.0.0a0"
      ]
    },
    {
      "cell_type": "code",
      "execution_count": 3,
      "metadata": {
        "id": "LTCrYen674F6"
      },
      "outputs": [],
      "source": [
        "%matplotlib inline \n",
        "import time\n",
        "import torch\n",
        "import torchvision\n",
        "from torchvision import transforms\n",
        "from d2l import torch as d2l\n",
        "\n",
        "d2l.use_svg_display()"
      ]
    },
    {
      "cell_type": "code",
      "execution_count": 4,
      "metadata": {
        "id": "_azkJqlEF51J"
      },
      "outputs": [],
      "source": [
        "import numpy as np"
      ]
    },
    {
      "cell_type": "code",
      "execution_count": 5,
      "metadata": {
        "id": "Has5Wb73AfNN"
      },
      "outputs": [],
      "source": [
        "def add_to_class(Class):\n",
        "  def wrapper(obj):\n",
        "    setattr(Class, obj.__name__, obj)\n",
        "  return wrapper"
      ]
    },
    {
      "cell_type": "code",
      "execution_count": null,
      "metadata": {
        "id": "xIzOp7UK9t7G"
      },
      "outputs": [],
      "source": [
        "transforms.Resize??"
      ]
    },
    {
      "cell_type": "code",
      "execution_count": null,
      "metadata": {
        "id": "QcCh3mN3-DC2"
      },
      "outputs": [],
      "source": [
        "transforms.ToTensor??"
      ]
    },
    {
      "cell_type": "code",
      "execution_count": null,
      "metadata": {
        "id": "yEk4FG0U-MAx"
      },
      "outputs": [],
      "source": [
        "transforms.Compose?? # can apply a list of transforms"
      ]
    },
    {
      "cell_type": "code",
      "execution_count": null,
      "metadata": {
        "id": "1apVxQ-X-cBj"
      },
      "outputs": [],
      "source": [
        "torchvision.datasets.FashionMNIST??"
      ]
    },
    {
      "cell_type": "code",
      "execution_count": 6,
      "metadata": {
        "id": "FvyA2Ly28MfF"
      },
      "outputs": [],
      "source": [
        "class FashionMNIST(d2l.DataModule):\n",
        "\n",
        "  def __init__(self, batch_size=64, resize=(28, 28)):\n",
        "    super().__init__()\n",
        "    self.save_hyperparameters()\n",
        "    trans = transforms.Compose([transforms.Resize(resize), transforms.ToTensor()])\n",
        "    self.train = torchvision.datasets.FashionMNIST(root=self.root,\n",
        "                                                   train=True,\n",
        "                                                   transform=trans,\n",
        "                                                   download=True)\n",
        "    self.val = torchvision.datasets.FashionMNIST(root=self.root,\n",
        "                                                 train=False,\n",
        "                                                 transform=trans,\n",
        "                                                 download=True)"
      ]
    },
    {
      "cell_type": "code",
      "execution_count": null,
      "metadata": {
        "id": "89oDg8_29FQG"
      },
      "outputs": [],
      "source": [
        "d2l.DataModule?? # used to generate data"
      ]
    },
    {
      "cell_type": "code",
      "execution_count": 7,
      "metadata": {
        "colab": {
          "base_uri": "https://localhost:8080/",
          "height": 417,
          "referenced_widgets": [
            "2d08a4063e044c32bc32d04f80cd0c1c",
            "823dad8cb9964a1eb20f9e4c95fb2d1a",
            "402d21f3e73745e48576e93ddf6b01bf",
            "84f28890f6c743eab43c49bcd6b79ccd",
            "2fd7d1ba4f1547799bb176f3a18c3929",
            "8d7f1a7b8959441bada67db84e72b250",
            "12e75e50eb5242e4b1bfb5e621a425dd",
            "f1b50d7249fd4299a39a9e8bcd57b6aa",
            "a92cbd33f98549bb8add79bf21266b55",
            "055a8a61d9154ab8bca96660b0117c99",
            "a529ea0b95d54760b56a2b3c11b7afa0",
            "d985d998e8ba48238d1fe3da9a0f20cf",
            "c6f7e498ec6d4e738d6661ab6d29d08d",
            "bae1c06c88b645718e941695386c796e",
            "165b886b816f4f55b5c9f75aae7d78a3",
            "15ce1105945643e4b26da0ae87bb4300",
            "d5efc756b52b405692d43d4c89b1ef9a",
            "cd3a0b5efa2740298601458f00fa3d57",
            "ee2221893a384312b5cc5a1f419ad5f6",
            "7e4475c5b465433ca6c533e981732f30",
            "1c894470f6e7458aac39d9e67b98a9a8",
            "d18f74c7afaf4b13b434382786788fea",
            "2d198dfde8ea44d3a29ae69665376c85",
            "62ba328ab25a4086973628e810df7b3c",
            "1ab3a769100247bb9a91ca4a78b53403",
            "459ac33bdca440e892f5c9866e882b10",
            "fa3c8b4fb6c244d79b2f0073aba0b096",
            "8e9134a13b824773bee81a3cb3c281db",
            "c4a008a84768434784114598efe4a8d7",
            "afde3c6e68784a72b65c5dc4e26b5ad0",
            "d1c3b9d8215a4497bd8cac5a14eb0a63",
            "de33ec2382f5400f8c418389116cad6d",
            "afece3fd8a56468c8e06270662a7bbef",
            "8b437266a7bd46c1a4eb50acafd15f75",
            "0ac5b197605e4e78b4e4cebf224beb7a",
            "9e60ac53d5c7446db41dc6f903734bcb",
            "778ff989b78c4eeeb74d3df48a3a1abd",
            "3c71bdf084f4470589192b0648d42732",
            "a57cb6b6fe39442483e9f45cd8ce8b73",
            "6f8d8182327a404e85fc58a374dee822",
            "689dcdf2abd9407cb354514f797b1783",
            "1d50e4b0ede54f8da1de13dc8e6824b8",
            "b283b02c71204b6ab866f0f54070d22e",
            "70af70efbd2e440abc87507a4e48e267"
          ]
        },
        "id": "YDncw6c99MSo",
        "outputId": "10b8c50e-5e6d-4976-efb7-a7c7a197fd07"
      },
      "outputs": [
        {
          "output_type": "stream",
          "name": "stdout",
          "text": [
            "Downloading http://fashion-mnist.s3-website.eu-central-1.amazonaws.com/train-images-idx3-ubyte.gz\n",
            "Downloading http://fashion-mnist.s3-website.eu-central-1.amazonaws.com/train-images-idx3-ubyte.gz to ../data/FashionMNIST/raw/train-images-idx3-ubyte.gz\n"
          ]
        },
        {
          "output_type": "display_data",
          "data": {
            "text/plain": [
              "  0%|          | 0/26421880 [00:00<?, ?it/s]"
            ],
            "application/vnd.jupyter.widget-view+json": {
              "version_major": 2,
              "version_minor": 0,
              "model_id": "2d08a4063e044c32bc32d04f80cd0c1c"
            }
          },
          "metadata": {}
        },
        {
          "output_type": "stream",
          "name": "stdout",
          "text": [
            "Extracting ../data/FashionMNIST/raw/train-images-idx3-ubyte.gz to ../data/FashionMNIST/raw\n",
            "\n",
            "Downloading http://fashion-mnist.s3-website.eu-central-1.amazonaws.com/train-labels-idx1-ubyte.gz\n",
            "Downloading http://fashion-mnist.s3-website.eu-central-1.amazonaws.com/train-labels-idx1-ubyte.gz to ../data/FashionMNIST/raw/train-labels-idx1-ubyte.gz\n"
          ]
        },
        {
          "output_type": "display_data",
          "data": {
            "text/plain": [
              "  0%|          | 0/29515 [00:00<?, ?it/s]"
            ],
            "application/vnd.jupyter.widget-view+json": {
              "version_major": 2,
              "version_minor": 0,
              "model_id": "d985d998e8ba48238d1fe3da9a0f20cf"
            }
          },
          "metadata": {}
        },
        {
          "output_type": "stream",
          "name": "stdout",
          "text": [
            "Extracting ../data/FashionMNIST/raw/train-labels-idx1-ubyte.gz to ../data/FashionMNIST/raw\n",
            "\n",
            "Downloading http://fashion-mnist.s3-website.eu-central-1.amazonaws.com/t10k-images-idx3-ubyte.gz\n",
            "Downloading http://fashion-mnist.s3-website.eu-central-1.amazonaws.com/t10k-images-idx3-ubyte.gz to ../data/FashionMNIST/raw/t10k-images-idx3-ubyte.gz\n"
          ]
        },
        {
          "output_type": "display_data",
          "data": {
            "text/plain": [
              "  0%|          | 0/4422102 [00:00<?, ?it/s]"
            ],
            "application/vnd.jupyter.widget-view+json": {
              "version_major": 2,
              "version_minor": 0,
              "model_id": "2d198dfde8ea44d3a29ae69665376c85"
            }
          },
          "metadata": {}
        },
        {
          "output_type": "stream",
          "name": "stdout",
          "text": [
            "Extracting ../data/FashionMNIST/raw/t10k-images-idx3-ubyte.gz to ../data/FashionMNIST/raw\n",
            "\n",
            "Downloading http://fashion-mnist.s3-website.eu-central-1.amazonaws.com/t10k-labels-idx1-ubyte.gz\n",
            "Downloading http://fashion-mnist.s3-website.eu-central-1.amazonaws.com/t10k-labels-idx1-ubyte.gz to ../data/FashionMNIST/raw/t10k-labels-idx1-ubyte.gz\n"
          ]
        },
        {
          "output_type": "display_data",
          "data": {
            "text/plain": [
              "  0%|          | 0/5148 [00:00<?, ?it/s]"
            ],
            "application/vnd.jupyter.widget-view+json": {
              "version_major": 2,
              "version_minor": 0,
              "model_id": "8b437266a7bd46c1a4eb50acafd15f75"
            }
          },
          "metadata": {}
        },
        {
          "output_type": "stream",
          "name": "stdout",
          "text": [
            "Extracting ../data/FashionMNIST/raw/t10k-labels-idx1-ubyte.gz to ../data/FashionMNIST/raw\n",
            "\n"
          ]
        }
      ],
      "source": [
        "data = FashionMNIST(resize=(32, 32))"
      ]
    },
    {
      "cell_type": "code",
      "execution_count": null,
      "metadata": {
        "colab": {
          "base_uri": "https://localhost:8080/"
        },
        "id": "pBKNzPsH_Oom",
        "outputId": "2b84ac82-fd4b-4ee1-ca55-7a68b1419f26"
      },
      "outputs": [
        {
          "name": "stdout",
          "output_type": "stream",
          "text": [
            "len of data.train = 60000\n",
            "len of data.val = 10000\n"
          ]
        }
      ],
      "source": [
        "print(f\"len of data.train = {len(data.train)}\")\n",
        "print(f\"len of data.val = {len(data.val)}\")"
      ]
    },
    {
      "cell_type": "code",
      "execution_count": null,
      "metadata": {
        "colab": {
          "base_uri": "https://localhost:8080/"
        },
        "id": "_mbWW_rY_fx8",
        "outputId": "3caea4c4-3d83-426d-9f3b-3abbb77f5e39"
      },
      "outputs": [
        {
          "data": {
            "text/plain": [
              "(tensor([[[0., 0., 0.,  ..., 0., 0., 0.],\n",
              "          [0., 0., 0.,  ..., 0., 0., 0.],\n",
              "          [0., 0., 0.,  ..., 0., 0., 0.],\n",
              "          ...,\n",
              "          [0., 0., 0.,  ..., 0., 0., 0.],\n",
              "          [0., 0., 0.,  ..., 0., 0., 0.],\n",
              "          [0., 0., 0.,  ..., 0., 0., 0.]]]), 9)"
            ]
          },
          "execution_count": 30,
          "metadata": {},
          "output_type": "execute_result"
        }
      ],
      "source": [
        "data.train[0] # this is a tuple with (X, y) : X being the image in tensor format and y being the label(int) for the category"
      ]
    },
    {
      "cell_type": "code",
      "execution_count": null,
      "metadata": {
        "colab": {
          "base_uri": "https://localhost:8080/"
        },
        "id": "S1fMLiP_AGj2",
        "outputId": "a04b923b-a7f3-42f4-9820-4ad814b21108"
      },
      "outputs": [
        {
          "data": {
            "text/plain": [
              "torch.Size([1, 32, 32])"
            ]
          },
          "execution_count": 29,
          "metadata": {},
          "output_type": "execute_result"
        }
      ],
      "source": [
        "data.train[0][0].shape # C x H x W"
      ]
    },
    {
      "cell_type": "code",
      "execution_count": 8,
      "metadata": {
        "id": "NN-Frd_TAa37"
      },
      "outputs": [],
      "source": [
        "@add_to_class(FashionMNIST)\n",
        "def text_labels(self, indices):\n",
        "  # return the text labels corresponding the indices give\n",
        "  labels = [\"T-shirt/top\", \"Trouser\", \"Pullover\", \"Dress\", \"Coat\", \"Sandal\", \"Shirt\", \"Sneaker\", \"Bag\", \"Ankle boot\"]\n",
        "  # we have zero indexing\n",
        "  \n",
        "  return [labels[i] for i in indices]"
      ]
    },
    {
      "cell_type": "code",
      "execution_count": 9,
      "metadata": {
        "id": "kLFsjOKxBVnT"
      },
      "outputs": [],
      "source": [
        "# next we need a data iterator\n",
        "@add_to_class(FashionMNIST)\n",
        "def get_dataloader(self, train):\n",
        "  data = self.train if train else self.val # decides which data to use\n",
        "  return torch.utils.data.DataLoader(data, self.batch_size, shuffle=train, num_workers=self.num_workers)"
      ]
    },
    {
      "cell_type": "code",
      "execution_count": null,
      "metadata": {
        "id": "NUJgbBStCD-W"
      },
      "outputs": [],
      "source": [
        "torch.utils.data.DataLoader??"
      ]
    },
    {
      "cell_type": "code",
      "execution_count": null,
      "metadata": {
        "id": "vdwY5na2CyAX"
      },
      "outputs": [],
      "source": [
        "d2l.DataModule??"
      ]
    },
    {
      "cell_type": "code",
      "execution_count": null,
      "metadata": {
        "id": "a0jNC2QhCVLF"
      },
      "outputs": [],
      "source": [
        "X, y = next(iter(data.train_dataloader()))"
      ]
    },
    {
      "cell_type": "code",
      "execution_count": null,
      "metadata": {
        "colab": {
          "base_uri": "https://localhost:8080/"
        },
        "id": "n68cI-ZIC-cf",
        "outputId": "24b98124-7b01-4018-9be5-0127488fbe24"
      },
      "outputs": [
        {
          "name": "stdout",
          "output_type": "stream",
          "text": [
            "X.shape = torch.Size([64, 1, 32, 32])\n",
            "y.shape = torch.Size([64])\n"
          ]
        }
      ],
      "source": [
        "print(f\"X.shape = {X.shape}\")\n",
        "print(f\"y.shape = {y.shape}\")"
      ]
    },
    {
      "cell_type": "code",
      "execution_count": null,
      "metadata": {
        "colab": {
          "base_uri": "https://localhost:8080/"
        },
        "id": "XKocBy9lkuMJ",
        "outputId": "24488656-6ada-483f-8a83-fd8b4a67cfb8"
      },
      "outputs": [
        {
          "data": {
            "text/plain": [
              "torch.Size([64, 1024])"
            ]
          },
          "execution_count": 34,
          "metadata": {},
          "output_type": "execute_result"
        }
      ],
      "source": [
        "X.reshape(-1, 32*32).shape"
      ]
    },
    {
      "cell_type": "code",
      "execution_count": null,
      "metadata": {
        "colab": {
          "base_uri": "https://localhost:8080/"
        },
        "id": "3N7HrO-cDEPo",
        "outputId": "266c4f12-e7ab-434a-d87f-ef488b5232e2"
      },
      "outputs": [
        {
          "name": "stdout",
          "output_type": "stream",
          "text": [
            "X.dtype = torch.float32\n",
            "y.dtype = torch.int64\n"
          ]
        }
      ],
      "source": [
        "print(f\"X.dtype = {X.dtype}\")\n",
        "print(f\"y.dtype = {y.dtype}\")"
      ]
    },
    {
      "cell_type": "code",
      "execution_count": null,
      "metadata": {
        "colab": {
          "base_uri": "https://localhost:8080/"
        },
        "id": "kvRAAeN8D8ZU",
        "outputId": "15d6d1d3-7e37-4422-ed34-42a7727189e6"
      },
      "outputs": [
        {
          "name": "stderr",
          "output_type": "stream",
          "text": [
            "/usr/local/lib/python3.8/dist-packages/torch/utils/data/dataloader.py:563: UserWarning: This DataLoader will create 4 worker processes in total. Our suggested max number of worker in current system is 2, which is smaller than what this DataLoader is going to create. Please be aware that excessive worker creation might get DataLoader running slow or even freeze, lower the worker number to avoid potential slowness/freeze if necessary.\n",
            "  warnings.warn(_create_warning_msg(\n"
          ]
        },
        {
          "name": "stdout",
          "output_type": "stream",
          "text": [
            "10.11 sec\n"
          ]
        }
      ],
      "source": [
        "tic = time.time()\n",
        "for X, y in data.train_dataloader():\n",
        "  continue\n",
        "print(f\"{time.time() - tic :.2f} sec\") # time taken to get 64 images"
      ]
    },
    {
      "cell_type": "code",
      "execution_count": null,
      "metadata": {
        "colab": {
          "base_uri": "https://localhost:8080/"
        },
        "id": "9BmppSw0DOUq",
        "outputId": "5db7b172-2828-4be0-b16c-683798413962"
      },
      "outputs": [
        {
          "name": "stderr",
          "output_type": "stream",
          "text": [
            "/usr/local/lib/python3.8/dist-packages/torch/utils/data/dataloader.py:563: UserWarning: This DataLoader will create 4 worker processes in total. Our suggested max number of worker in current system is 2, which is smaller than what this DataLoader is going to create. Please be aware that excessive worker creation might get DataLoader running slow or even freeze, lower the worker number to avoid potential slowness/freeze if necessary.\n",
            "  warnings.warn(_create_warning_msg(\n"
          ]
        }
      ],
      "source": [
        "a = data.train_dataloader()"
      ]
    },
    {
      "cell_type": "code",
      "execution_count": null,
      "metadata": {
        "colab": {
          "base_uri": "https://localhost:8080/"
        },
        "id": "25kx3DpXDlzp",
        "outputId": "881246b7-d628-4fc5-cee1-832a82eb54e6"
      },
      "outputs": [
        {
          "data": {
            "text/plain": [
              "<torch.utils.data.dataloader.DataLoader at 0x7f6c61e381f0>"
            ]
          },
          "execution_count": 33,
          "metadata": {},
          "output_type": "execute_result"
        }
      ],
      "source": [
        "a"
      ]
    },
    {
      "cell_type": "code",
      "execution_count": null,
      "metadata": {
        "id": "kaSptNjHDm1m"
      },
      "outputs": [],
      "source": [
        "for some in a:\n",
        "  print(some)"
      ]
    },
    {
      "cell_type": "code",
      "execution_count": null,
      "metadata": {
        "colab": {
          "base_uri": "https://localhost:8080/"
        },
        "id": "J5oLT7odFam-",
        "outputId": "00d361a5-726e-4434-df0d-25ed6bce4734"
      },
      "outputs": [
        {
          "name": "stdout",
          "output_type": "stream",
          "text": [
            "FUck you\n"
          ]
        }
      ],
      "source": [
        "a = []\n",
        "if not a:\n",
        "  print(\"FUck you\")\n",
        "else:\n",
        "  print(\"fuck off\")"
      ]
    },
    {
      "cell_type": "code",
      "execution_count": null,
      "metadata": {
        "id": "Wwg62SEoGQ9-"
      },
      "outputs": [],
      "source": [
        "torch.squeeze??"
      ]
    },
    {
      "cell_type": "code",
      "execution_count": null,
      "metadata": {
        "colab": {
          "base_uri": "https://localhost:8080/"
        },
        "id": "CppncqZLGa2k",
        "outputId": "6c06cd2c-ee29-4227-974e-3468d05be8ca"
      },
      "outputs": [
        {
          "name": "stdout",
          "output_type": "stream",
          "text": [
            "torch.Size([5, 1, 1])\n",
            "tensor([[0.],\n",
            "        [0.],\n",
            "        [0.],\n",
            "        [0.],\n",
            "        [0.]])\n"
          ]
        }
      ],
      "source": [
        "a = torch.zeros(5, 1, 1)\n",
        "print(a.shape)\n",
        "print(a.squeeze(1))"
      ]
    },
    {
      "cell_type": "code",
      "execution_count": null,
      "metadata": {
        "colab": {
          "base_uri": "https://localhost:8080/",
          "height": 130
        },
        "id": "K6tsywLFFs_X",
        "outputId": "9f771a02-314a-411f-a333-0ab0fa9ed14c"
      },
      "outputs": [
        {
          "ename": "SyntaxError",
          "evalue": "ignored",
          "output_type": "error",
          "traceback": [
            "\u001b[0;36m  File \u001b[0;32m\"<ipython-input-47-234aff84e153>\"\u001b[0;36m, line \u001b[0;32m1\u001b[0m\n\u001b[0;31m    torch.squeeze?? # removes dimension of size 1\u001b[0m\n\u001b[0m                 ^\u001b[0m\n\u001b[0;31mSyntaxError\u001b[0m\u001b[0;31m:\u001b[0m invalid syntax\n"
          ]
        }
      ],
      "source": [
        "torch.squeeze?? # removes dimension of size 1"
      ]
    },
    {
      "cell_type": "code",
      "execution_count": null,
      "metadata": {
        "id": "fzQ8JG1rF2S2"
      },
      "outputs": [],
      "source": [
        "d2l.show_images??"
      ]
    },
    {
      "cell_type": "code",
      "execution_count": 10,
      "metadata": {
        "id": "hXKwsVuSDpsV"
      },
      "outputs": [],
      "source": [
        "@add_to_class(FashionMNIST)\n",
        "def visualize(self, batch, nrows=1, ncols=8, labels=[]):\n",
        "  X, y = batch\n",
        "  if not labels: # is labels is empty then not labels is True\n",
        "    labels = self.text_labels(y)\n",
        "  d2l.show_images(X.squeeze(1), nrows, ncols, titles=labels)"
      ]
    },
    {
      "cell_type": "code",
      "execution_count": null,
      "metadata": {
        "colab": {
          "base_uri": "https://localhost:8080/",
          "height": 214
        },
        "id": "mxTttp_CHGsU",
        "outputId": "43cce564-e815-4a50-a00d-19e469ba27d3"
      },
      "outputs": [
        {
          "name": "stderr",
          "output_type": "stream",
          "text": [
            "/usr/local/lib/python3.8/dist-packages/torch/utils/data/dataloader.py:563: UserWarning: This DataLoader will create 4 worker processes in total. Our suggested max number of worker in current system is 2, which is smaller than what this DataLoader is going to create. Please be aware that excessive worker creation might get DataLoader running slow or even freeze, lower the worker number to avoid potential slowness/freeze if necessary.\n",
            "  warnings.warn(_create_warning_msg(\n"
          ]
        },
        {
          "data": {
            "image/svg+xml": "<?xml version=\"1.0\" encoding=\"utf-8\" standalone=\"no\"?>\n<!DOCTYPE svg PUBLIC \"-//W3C//DTD SVG 1.1//EN\"\n  \"http://www.w3.org/Graphics/SVG/1.1/DTD/svg11.dtd\">\n<!-- Created with matplotlib (https://matplotlib.org/) -->\n<svg height=\"104.252168pt\" version=\"1.1\" viewBox=\"0 0 687.5 104.252168\" width=\"687.5pt\" xmlns=\"http://www.w3.org/2000/svg\" xmlns:xlink=\"http://www.w3.org/1999/xlink\">\n <defs>\n  <style type=\"text/css\">\n*{stroke-linecap:butt;stroke-linejoin:round;}\n  </style>\n </defs>\n <g id=\"figure_1\">\n  <g id=\"patch_1\">\n   <path d=\"M 0 104.252168 \nL 687.5 104.252168 \nL 687.5 0 \nL 0 0 \nz\n\" style=\"fill:none;\"/>\n  </g>\n  <g id=\"axes_1\">\n   <g id=\"patch_2\">\n    <path d=\"M 10.7 93.552168 \nL 81.934043 93.552168 \nL 81.934043 22.318125 \nL 10.7 22.318125 \nz\n\" style=\"fill:#ffffff;\"/>\n   </g>\n   <g clip-path=\"url(#p04a3bf6f46)\">\n    <image height=\"72\" id=\"image05b5055c4d\" transform=\"scale(1 -1)translate(0 -72)\" width=\"72\" x=\"10.7\" xlink:href=\"data:image/png;base64,\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\" y=\"-21.552168\"/>\n   </g>\n   <g id=\"patch_3\">\n    <path d=\"M 10.7 93.552168 \nL 10.7 22.318125 \n\" style=\"fill:none;stroke:#000000;stroke-linecap:square;stroke-linejoin:miter;stroke-width:0.8;\"/>\n   </g>\n   <g id=\"patch_4\">\n    <path d=\"M 81.934043 93.552168 \nL 81.934043 22.318125 \n\" style=\"fill:none;stroke:#000000;stroke-linecap:square;stroke-linejoin:miter;stroke-width:0.8;\"/>\n   </g>\n   <g id=\"patch_5\">\n    <path d=\"M 10.7 93.552168 \nL 81.934043 93.552168 \n\" style=\"fill:none;stroke:#000000;stroke-linecap:square;stroke-linejoin:miter;stroke-width:0.8;\"/>\n   </g>\n   <g id=\"patch_6\">\n    <path d=\"M 10.7 22.318125 \nL 81.934043 22.318125 \n\" style=\"fill:none;stroke:#000000;stroke-linecap:square;stroke-linejoin:miter;stroke-width:0.8;\"/>\n   </g>\n   <g id=\"text_1\">\n    <!-- Ankle boot -->\n    <defs>\n     <path d=\"M 34.1875 63.1875 \nL 20.796875 26.90625 \nL 47.609375 26.90625 \nz\nM 28.609375 72.90625 \nL 39.796875 72.90625 \nL 67.578125 0 \nL 57.328125 0 \nL 50.6875 18.703125 \nL 17.828125 18.703125 \nL 11.1875 0 \nL 0.78125 0 \nz\n\" id=\"DejaVuSans-65\"/>\n     <path d=\"M 54.890625 33.015625 \nL 54.890625 0 \nL 45.90625 0 \nL 45.90625 32.71875 \nQ 45.90625 40.484375 42.875 44.328125 \nQ 39.84375 48.1875 33.796875 48.1875 \nQ 26.515625 48.1875 22.3125 43.546875 \nQ 18.109375 38.921875 18.109375 30.90625 \nL 18.109375 0 \nL 9.078125 0 \nL 9.078125 54.6875 \nL 18.109375 54.6875 \nL 18.109375 46.1875 \nQ 21.34375 51.125 25.703125 53.5625 \nQ 30.078125 56 35.796875 56 \nQ 45.21875 56 50.046875 50.171875 \nQ 54.890625 44.34375 54.890625 33.015625 \nz\n\" id=\"DejaVuSans-110\"/>\n     <path d=\"M 9.078125 75.984375 \nL 18.109375 75.984375 \nL 18.109375 31.109375 \nL 44.921875 54.6875 \nL 56.390625 54.6875 \nL 27.390625 29.109375 \nL 57.625 0 \nL 45.90625 0 \nL 18.109375 26.703125 \nL 18.109375 0 \nL 9.078125 0 \nz\n\" id=\"DejaVuSans-107\"/>\n     <path d=\"M 9.421875 75.984375 \nL 18.40625 75.984375 \nL 18.40625 0 \nL 9.421875 0 \nz\n\" id=\"DejaVuSans-108\"/>\n     <path d=\"M 56.203125 29.59375 \nL 56.203125 25.203125 \nL 14.890625 25.203125 \nQ 15.484375 15.921875 20.484375 11.0625 \nQ 25.484375 6.203125 34.421875 6.203125 \nQ 39.59375 6.203125 44.453125 7.46875 \nQ 49.3125 8.734375 54.109375 11.28125 \nL 54.109375 2.78125 \nQ 49.265625 0.734375 44.1875 -0.34375 \nQ 39.109375 -1.421875 33.890625 -1.421875 \nQ 20.796875 -1.421875 13.15625 6.1875 \nQ 5.515625 13.8125 5.515625 26.8125 \nQ 5.515625 40.234375 12.765625 48.109375 \nQ 20.015625 56 32.328125 56 \nQ 43.359375 56 49.78125 48.890625 \nQ 56.203125 41.796875 56.203125 29.59375 \nz\nM 47.21875 32.234375 \nQ 47.125 39.59375 43.09375 43.984375 \nQ 39.0625 48.390625 32.421875 48.390625 \nQ 24.90625 48.390625 20.390625 44.140625 \nQ 15.875 39.890625 15.1875 32.171875 \nz\n\" id=\"DejaVuSans-101\"/>\n     <path id=\"DejaVuSans-32\"/>\n     <path d=\"M 48.6875 27.296875 \nQ 48.6875 37.203125 44.609375 42.84375 \nQ 40.53125 48.484375 33.40625 48.484375 \nQ 26.265625 48.484375 22.1875 42.84375 \nQ 18.109375 37.203125 18.109375 27.296875 \nQ 18.109375 17.390625 22.1875 11.75 \nQ 26.265625 6.109375 33.40625 6.109375 \nQ 40.53125 6.109375 44.609375 11.75 \nQ 48.6875 17.390625 48.6875 27.296875 \nz\nM 18.109375 46.390625 \nQ 20.953125 51.265625 25.265625 53.625 \nQ 29.59375 56 35.59375 56 \nQ 45.5625 56 51.78125 48.09375 \nQ 58.015625 40.1875 58.015625 27.296875 \nQ 58.015625 14.40625 51.78125 6.484375 \nQ 45.5625 -1.421875 35.59375 -1.421875 \nQ 29.59375 -1.421875 25.265625 0.953125 \nQ 20.953125 3.328125 18.109375 8.203125 \nL 18.109375 0 \nL 9.078125 0 \nL 9.078125 75.984375 \nL 18.109375 75.984375 \nz\n\" id=\"DejaVuSans-98\"/>\n     <path d=\"M 30.609375 48.390625 \nQ 23.390625 48.390625 19.1875 42.75 \nQ 14.984375 37.109375 14.984375 27.296875 \nQ 14.984375 17.484375 19.15625 11.84375 \nQ 23.34375 6.203125 30.609375 6.203125 \nQ 37.796875 6.203125 41.984375 11.859375 \nQ 46.1875 17.53125 46.1875 27.296875 \nQ 46.1875 37.015625 41.984375 42.703125 \nQ 37.796875 48.390625 30.609375 48.390625 \nz\nM 30.609375 56 \nQ 42.328125 56 49.015625 48.375 \nQ 55.71875 40.765625 55.71875 27.296875 \nQ 55.71875 13.875 49.015625 6.21875 \nQ 42.328125 -1.421875 30.609375 -1.421875 \nQ 18.84375 -1.421875 12.171875 6.21875 \nQ 5.515625 13.875 5.515625 27.296875 \nQ 5.515625 40.765625 12.171875 48.375 \nQ 18.84375 56 30.609375 56 \nz\n\" id=\"DejaVuSans-111\"/>\n     <path d=\"M 18.3125 70.21875 \nL 18.3125 54.6875 \nL 36.8125 54.6875 \nL 36.8125 47.703125 \nL 18.3125 47.703125 \nL 18.3125 18.015625 \nQ 18.3125 11.328125 20.140625 9.421875 \nQ 21.96875 7.515625 27.59375 7.515625 \nL 36.8125 7.515625 \nL 36.8125 0 \nL 27.59375 0 \nQ 17.1875 0 13.234375 3.875 \nQ 9.28125 7.765625 9.28125 18.015625 \nL 9.28125 47.703125 \nL 2.6875 47.703125 \nL 2.6875 54.6875 \nL 9.28125 54.6875 \nL 9.28125 70.21875 \nz\n\" id=\"DejaVuSans-116\"/>\n    </defs>\n    <g transform=\"translate(14.166396 16.318125)scale(0.12 -0.12)\">\n     <use xlink:href=\"#DejaVuSans-65\"/>\n     <use x=\"68.408203\" xlink:href=\"#DejaVuSans-110\"/>\n     <use x=\"131.787109\" xlink:href=\"#DejaVuSans-107\"/>\n     <use x=\"189.697266\" xlink:href=\"#DejaVuSans-108\"/>\n     <use x=\"217.480469\" xlink:href=\"#DejaVuSans-101\"/>\n     <use x=\"279.003906\" xlink:href=\"#DejaVuSans-32\"/>\n     <use x=\"310.791016\" xlink:href=\"#DejaVuSans-98\"/>\n     <use x=\"374.267578\" xlink:href=\"#DejaVuSans-111\"/>\n     <use x=\"435.449219\" xlink:href=\"#DejaVuSans-111\"/>\n     <use x=\"496.630859\" xlink:href=\"#DejaVuSans-116\"/>\n    </g>\n   </g>\n  </g>\n  <g id=\"axes_2\">\n   <g id=\"patch_7\">\n    <path d=\"M 96.180851 93.552168 \nL 167.414894 93.552168 \nL 167.414894 22.318125 \nL 96.180851 22.318125 \nz\n\" style=\"fill:#ffffff;\"/>\n   </g>\n   <g clip-path=\"url(#p475afedbdf)\">\n    <image height=\"72\" id=\"image8188fa48d5\" transform=\"scale(1 -1)translate(0 -72)\" width=\"72\" x=\"96.180851\" xlink:href=\"data:image/png;base64,\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\" y=\"-21.552168\"/>\n   </g>\n   <g id=\"patch_8\">\n    <path d=\"M 96.180851 93.552168 \nL 96.180851 22.318125 \n\" style=\"fill:none;stroke:#000000;stroke-linecap:square;stroke-linejoin:miter;stroke-width:0.8;\"/>\n   </g>\n   <g id=\"patch_9\">\n    <path d=\"M 167.414894 93.552168 \nL 167.414894 22.318125 \n\" style=\"fill:none;stroke:#000000;stroke-linecap:square;stroke-linejoin:miter;stroke-width:0.8;\"/>\n   </g>\n   <g id=\"patch_10\">\n    <path d=\"M 96.180851 93.552168 \nL 167.414894 93.552168 \n\" style=\"fill:none;stroke:#000000;stroke-linecap:square;stroke-linejoin:miter;stroke-width:0.8;\"/>\n   </g>\n   <g id=\"patch_11\">\n    <path d=\"M 96.180851 22.318125 \nL 167.414894 22.318125 \n\" style=\"fill:none;stroke:#000000;stroke-linecap:square;stroke-linejoin:miter;stroke-width:0.8;\"/>\n   </g>\n   <g id=\"text_2\">\n    <!-- Pullover -->\n    <defs>\n     <path d=\"M 19.671875 64.796875 \nL 19.671875 37.40625 \nL 32.078125 37.40625 \nQ 38.96875 37.40625 42.71875 40.96875 \nQ 46.484375 44.53125 46.484375 51.125 \nQ 46.484375 57.671875 42.71875 61.234375 \nQ 38.96875 64.796875 32.078125 64.796875 \nz\nM 9.8125 72.90625 \nL 32.078125 72.90625 \nQ 44.34375 72.90625 50.609375 67.359375 \nQ 56.890625 61.8125 56.890625 51.125 \nQ 56.890625 40.328125 50.609375 34.8125 \nQ 44.34375 29.296875 32.078125 29.296875 \nL 19.671875 29.296875 \nL 19.671875 0 \nL 9.8125 0 \nz\n\" id=\"DejaVuSans-80\"/>\n     <path d=\"M 8.5 21.578125 \nL 8.5 54.6875 \nL 17.484375 54.6875 \nL 17.484375 21.921875 \nQ 17.484375 14.15625 20.5 10.265625 \nQ 23.53125 6.390625 29.59375 6.390625 \nQ 36.859375 6.390625 41.078125 11.03125 \nQ 45.3125 15.671875 45.3125 23.6875 \nL 45.3125 54.6875 \nL 54.296875 54.6875 \nL 54.296875 0 \nL 45.3125 0 \nL 45.3125 8.40625 \nQ 42.046875 3.421875 37.71875 1 \nQ 33.40625 -1.421875 27.6875 -1.421875 \nQ 18.265625 -1.421875 13.375 4.4375 \nQ 8.5 10.296875 8.5 21.578125 \nz\nM 31.109375 56 \nz\n\" id=\"DejaVuSans-117\"/>\n     <path d=\"M 2.984375 54.6875 \nL 12.5 54.6875 \nL 29.59375 8.796875 \nL 46.6875 54.6875 \nL 56.203125 54.6875 \nL 35.6875 0 \nL 23.484375 0 \nz\n\" id=\"DejaVuSans-118\"/>\n     <path d=\"M 41.109375 46.296875 \nQ 39.59375 47.171875 37.8125 47.578125 \nQ 36.03125 48 33.890625 48 \nQ 26.265625 48 22.1875 43.046875 \nQ 18.109375 38.09375 18.109375 28.8125 \nL 18.109375 0 \nL 9.078125 0 \nL 9.078125 54.6875 \nL 18.109375 54.6875 \nL 18.109375 46.1875 \nQ 20.953125 51.171875 25.484375 53.578125 \nQ 30.03125 56 36.53125 56 \nQ 37.453125 56 38.578125 55.875 \nQ 39.703125 55.765625 41.0625 55.515625 \nz\n\" id=\"DejaVuSans-114\"/>\n    </defs>\n    <g transform=\"translate(107.767872 16.318125)scale(0.12 -0.12)\">\n     <use xlink:href=\"#DejaVuSans-80\"/>\n     <use x=\"58.552734\" xlink:href=\"#DejaVuSans-117\"/>\n     <use x=\"121.931641\" xlink:href=\"#DejaVuSans-108\"/>\n     <use x=\"149.714844\" xlink:href=\"#DejaVuSans-108\"/>\n     <use x=\"177.498047\" xlink:href=\"#DejaVuSans-111\"/>\n     <use x=\"238.679688\" xlink:href=\"#DejaVuSans-118\"/>\n     <use x=\"297.859375\" xlink:href=\"#DejaVuSans-101\"/>\n     <use x=\"359.382812\" xlink:href=\"#DejaVuSans-114\"/>\n    </g>\n   </g>\n  </g>\n  <g id=\"axes_3\">\n   <g id=\"patch_12\">\n    <path d=\"M 181.661702 93.552168 \nL 252.895745 93.552168 \nL 252.895745 22.318125 \nL 181.661702 22.318125 \nz\n\" style=\"fill:#ffffff;\"/>\n   </g>\n   <g clip-path=\"url(#pb500065f5c)\">\n    <image height=\"72\" id=\"image45c7c74b05\" transform=\"scale(1 -1)translate(0 -72)\" width=\"72\" x=\"181.661702\" xlink:href=\"data:image/png;base64,\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\" y=\"-21.552168\"/>\n   </g>\n   <g id=\"patch_13\">\n    <path d=\"M 181.661702 93.552168 \nL 181.661702 22.318125 \n\" style=\"fill:none;stroke:#000000;stroke-linecap:square;stroke-linejoin:miter;stroke-width:0.8;\"/>\n   </g>\n   <g id=\"patch_14\">\n    <path d=\"M 252.895745 93.552168 \nL 252.895745 22.318125 \n\" style=\"fill:none;stroke:#000000;stroke-linecap:square;stroke-linejoin:miter;stroke-width:0.8;\"/>\n   </g>\n   <g id=\"patch_15\">\n    <path d=\"M 181.661702 93.552168 \nL 252.895745 93.552168 \n\" style=\"fill:none;stroke:#000000;stroke-linecap:square;stroke-linejoin:miter;stroke-width:0.8;\"/>\n   </g>\n   <g id=\"patch_16\">\n    <path d=\"M 181.661702 22.318125 \nL 252.895745 22.318125 \n\" style=\"fill:none;stroke:#000000;stroke-linecap:square;stroke-linejoin:miter;stroke-width:0.8;\"/>\n   </g>\n   <g id=\"text_3\">\n    <!-- Trouser -->\n    <defs>\n     <path d=\"M -0.296875 72.90625 \nL 61.375 72.90625 \nL 61.375 64.59375 \nL 35.5 64.59375 \nL 35.5 0 \nL 25.59375 0 \nL 25.59375 64.59375 \nL -0.296875 64.59375 \nz\n\" id=\"DejaVuSans-84\"/>\n     <path d=\"M 44.28125 53.078125 \nL 44.28125 44.578125 \nQ 40.484375 46.53125 36.375 47.5 \nQ 32.28125 48.484375 27.875 48.484375 \nQ 21.1875 48.484375 17.84375 46.4375 \nQ 14.5 44.390625 14.5 40.28125 \nQ 14.5 37.15625 16.890625 35.375 \nQ 19.28125 33.59375 26.515625 31.984375 \nL 29.59375 31.296875 \nQ 39.15625 29.25 43.1875 25.515625 \nQ 47.21875 21.78125 47.21875 15.09375 \nQ 47.21875 7.46875 41.1875 3.015625 \nQ 35.15625 -1.421875 24.609375 -1.421875 \nQ 20.21875 -1.421875 15.453125 -0.5625 \nQ 10.6875 0.296875 5.421875 2 \nL 5.421875 11.28125 \nQ 10.40625 8.6875 15.234375 7.390625 \nQ 20.0625 6.109375 24.8125 6.109375 \nQ 31.15625 6.109375 34.5625 8.28125 \nQ 37.984375 10.453125 37.984375 14.40625 \nQ 37.984375 18.0625 35.515625 20.015625 \nQ 33.0625 21.96875 24.703125 23.78125 \nL 21.578125 24.515625 \nQ 13.234375 26.265625 9.515625 29.90625 \nQ 5.8125 33.546875 5.8125 39.890625 \nQ 5.8125 47.609375 11.28125 51.796875 \nQ 16.75 56 26.8125 56 \nQ 31.78125 56 36.171875 55.265625 \nQ 40.578125 54.546875 44.28125 53.078125 \nz\n\" id=\"DejaVuSans-115\"/>\n    </defs>\n    <g transform=\"translate(195.409661 16.318125)scale(0.12 -0.12)\">\n     <use xlink:href=\"#DejaVuSans-84\"/>\n     <use x=\"46.333984\" xlink:href=\"#DejaVuSans-114\"/>\n     <use x=\"85.197266\" xlink:href=\"#DejaVuSans-111\"/>\n     <use x=\"146.378906\" xlink:href=\"#DejaVuSans-117\"/>\n     <use x=\"209.757812\" xlink:href=\"#DejaVuSans-115\"/>\n     <use x=\"261.857422\" xlink:href=\"#DejaVuSans-101\"/>\n     <use x=\"323.380859\" xlink:href=\"#DejaVuSans-114\"/>\n    </g>\n   </g>\n  </g>\n  <g id=\"axes_4\">\n   <g id=\"patch_17\">\n    <path d=\"M 267.142553 93.552168 \nL 338.376596 93.552168 \nL 338.376596 22.318125 \nL 267.142553 22.318125 \nz\n\" style=\"fill:#ffffff;\"/>\n   </g>\n   <g clip-path=\"url(#p2863bddd8a)\">\n    <image height=\"72\" id=\"image22b659d823\" transform=\"scale(1 -1)translate(0 -72)\" width=\"72\" x=\"267.142553\" xlink:href=\"data:image/png;base64,\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\" y=\"-21.552168\"/>\n   </g>\n   <g id=\"patch_18\">\n    <path d=\"M 267.142553 93.552168 \nL 267.142553 22.318125 \n\" style=\"fill:none;stroke:#000000;stroke-linecap:square;stroke-linejoin:miter;stroke-width:0.8;\"/>\n   </g>\n   <g id=\"patch_19\">\n    <path d=\"M 338.376596 93.552168 \nL 338.376596 22.318125 \n\" style=\"fill:none;stroke:#000000;stroke-linecap:square;stroke-linejoin:miter;stroke-width:0.8;\"/>\n   </g>\n   <g id=\"patch_20\">\n    <path d=\"M 267.142553 93.552168 \nL 338.376596 93.552168 \n\" style=\"fill:none;stroke:#000000;stroke-linecap:square;stroke-linejoin:miter;stroke-width:0.8;\"/>\n   </g>\n   <g id=\"patch_21\">\n    <path d=\"M 267.142553 22.318125 \nL 338.376596 22.318125 \n\" style=\"fill:none;stroke:#000000;stroke-linecap:square;stroke-linejoin:miter;stroke-width:0.8;\"/>\n   </g>\n   <g id=\"text_4\">\n    <!-- Trouser -->\n    <g transform=\"translate(280.890512 16.318125)scale(0.12 -0.12)\">\n     <use xlink:href=\"#DejaVuSans-84\"/>\n     <use x=\"46.333984\" xlink:href=\"#DejaVuSans-114\"/>\n     <use x=\"85.197266\" xlink:href=\"#DejaVuSans-111\"/>\n     <use x=\"146.378906\" xlink:href=\"#DejaVuSans-117\"/>\n     <use x=\"209.757812\" xlink:href=\"#DejaVuSans-115\"/>\n     <use x=\"261.857422\" xlink:href=\"#DejaVuSans-101\"/>\n     <use x=\"323.380859\" xlink:href=\"#DejaVuSans-114\"/>\n    </g>\n   </g>\n  </g>\n  <g id=\"axes_5\">\n   <g id=\"patch_22\">\n    <path d=\"M 352.623404 93.552168 \nL 423.857447 93.552168 \nL 423.857447 22.318125 \nL 352.623404 22.318125 \nz\n\" style=\"fill:#ffffff;\"/>\n   </g>\n   <g clip-path=\"url(#pe1035e989c)\">\n    <image height=\"72\" id=\"image53899eaa66\" transform=\"scale(1 -1)translate(0 -72)\" width=\"72\" x=\"352.623404\" xlink:href=\"data:image/png;base64,\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\" y=\"-21.552168\"/>\n   </g>\n   <g id=\"patch_23\">\n    <path d=\"M 352.623404 93.552168 \nL 352.623404 22.318125 \n\" style=\"fill:none;stroke:#000000;stroke-linecap:square;stroke-linejoin:miter;stroke-width:0.8;\"/>\n   </g>\n   <g id=\"patch_24\">\n    <path d=\"M 423.857447 93.552168 \nL 423.857447 22.318125 \n\" style=\"fill:none;stroke:#000000;stroke-linecap:square;stroke-linejoin:miter;stroke-width:0.8;\"/>\n   </g>\n   <g id=\"patch_25\">\n    <path d=\"M 352.623404 93.552168 \nL 423.857447 93.552168 \n\" style=\"fill:none;stroke:#000000;stroke-linecap:square;stroke-linejoin:miter;stroke-width:0.8;\"/>\n   </g>\n   <g id=\"patch_26\">\n    <path d=\"M 352.623404 22.318125 \nL 423.857447 22.318125 \n\" style=\"fill:none;stroke:#000000;stroke-linecap:square;stroke-linejoin:miter;stroke-width:0.8;\"/>\n   </g>\n   <g id=\"text_5\">\n    <!-- Shirt -->\n    <defs>\n     <path d=\"M 53.515625 70.515625 \nL 53.515625 60.890625 \nQ 47.90625 63.578125 42.921875 64.890625 \nQ 37.9375 66.21875 33.296875 66.21875 \nQ 25.25 66.21875 20.875 63.09375 \nQ 16.5 59.96875 16.5 54.203125 \nQ 16.5 49.359375 19.40625 46.890625 \nQ 22.3125 44.4375 30.421875 42.921875 \nL 36.375 41.703125 \nQ 47.40625 39.59375 52.65625 34.296875 \nQ 57.90625 29 57.90625 20.125 \nQ 57.90625 9.515625 50.796875 4.046875 \nQ 43.703125 -1.421875 29.984375 -1.421875 \nQ 24.8125 -1.421875 18.96875 -0.25 \nQ 13.140625 0.921875 6.890625 3.21875 \nL 6.890625 13.375 \nQ 12.890625 10.015625 18.65625 8.296875 \nQ 24.421875 6.59375 29.984375 6.59375 \nQ 38.421875 6.59375 43.015625 9.90625 \nQ 47.609375 13.234375 47.609375 19.390625 \nQ 47.609375 24.75 44.3125 27.78125 \nQ 41.015625 30.8125 33.5 32.328125 \nL 27.484375 33.5 \nQ 16.453125 35.6875 11.515625 40.375 \nQ 6.59375 45.0625 6.59375 53.421875 \nQ 6.59375 63.09375 13.40625 68.65625 \nQ 20.21875 74.21875 32.171875 74.21875 \nQ 37.3125 74.21875 42.625 73.28125 \nQ 47.953125 72.359375 53.515625 70.515625 \nz\n\" id=\"DejaVuSans-83\"/>\n     <path d=\"M 54.890625 33.015625 \nL 54.890625 0 \nL 45.90625 0 \nL 45.90625 32.71875 \nQ 45.90625 40.484375 42.875 44.328125 \nQ 39.84375 48.1875 33.796875 48.1875 \nQ 26.515625 48.1875 22.3125 43.546875 \nQ 18.109375 38.921875 18.109375 30.90625 \nL 18.109375 0 \nL 9.078125 0 \nL 9.078125 75.984375 \nL 18.109375 75.984375 \nL 18.109375 46.1875 \nQ 21.34375 51.125 25.703125 53.5625 \nQ 30.078125 56 35.796875 56 \nQ 45.21875 56 50.046875 50.171875 \nQ 54.890625 44.34375 54.890625 33.015625 \nz\n\" id=\"DejaVuSans-104\"/>\n     <path d=\"M 9.421875 54.6875 \nL 18.40625 54.6875 \nL 18.40625 0 \nL 9.421875 0 \nz\nM 9.421875 75.984375 \nL 18.40625 75.984375 \nL 18.40625 64.59375 \nL 9.421875 64.59375 \nz\n\" id=\"DejaVuSans-105\"/>\n    </defs>\n    <g transform=\"translate(374.143238 16.318125)scale(0.12 -0.12)\">\n     <use xlink:href=\"#DejaVuSans-83\"/>\n     <use x=\"63.476562\" xlink:href=\"#DejaVuSans-104\"/>\n     <use x=\"126.855469\" xlink:href=\"#DejaVuSans-105\"/>\n     <use x=\"154.638672\" xlink:href=\"#DejaVuSans-114\"/>\n     <use x=\"195.751953\" xlink:href=\"#DejaVuSans-116\"/>\n    </g>\n   </g>\n  </g>\n  <g id=\"axes_6\">\n   <g id=\"patch_27\">\n    <path d=\"M 438.104255 93.552168 \nL 509.338298 93.552168 \nL 509.338298 22.318125 \nL 438.104255 22.318125 \nz\n\" style=\"fill:#ffffff;\"/>\n   </g>\n   <g clip-path=\"url(#p0e84e8ab98)\">\n    <image height=\"72\" id=\"imagef057ada49a\" transform=\"scale(1 -1)translate(0 -72)\" width=\"72\" x=\"438.104255\" xlink:href=\"data:image/png;base64,\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\" y=\"-21.552168\"/>\n   </g>\n   <g id=\"patch_28\">\n    <path d=\"M 438.104255 93.552168 \nL 438.104255 22.318125 \n\" style=\"fill:none;stroke:#000000;stroke-linecap:square;stroke-linejoin:miter;stroke-width:0.8;\"/>\n   </g>\n   <g id=\"patch_29\">\n    <path d=\"M 509.338298 93.552168 \nL 509.338298 22.318125 \n\" style=\"fill:none;stroke:#000000;stroke-linecap:square;stroke-linejoin:miter;stroke-width:0.8;\"/>\n   </g>\n   <g id=\"patch_30\">\n    <path d=\"M 438.104255 93.552168 \nL 509.338298 93.552168 \n\" style=\"fill:none;stroke:#000000;stroke-linecap:square;stroke-linejoin:miter;stroke-width:0.8;\"/>\n   </g>\n   <g id=\"patch_31\">\n    <path d=\"M 438.104255 22.318125 \nL 509.338298 22.318125 \n\" style=\"fill:none;stroke:#000000;stroke-linecap:square;stroke-linejoin:miter;stroke-width:0.8;\"/>\n   </g>\n   <g id=\"text_6\">\n    <!-- Trouser -->\n    <g transform=\"translate(451.852214 16.318125)scale(0.12 -0.12)\">\n     <use xlink:href=\"#DejaVuSans-84\"/>\n     <use x=\"46.333984\" xlink:href=\"#DejaVuSans-114\"/>\n     <use x=\"85.197266\" xlink:href=\"#DejaVuSans-111\"/>\n     <use x=\"146.378906\" xlink:href=\"#DejaVuSans-117\"/>\n     <use x=\"209.757812\" xlink:href=\"#DejaVuSans-115\"/>\n     <use x=\"261.857422\" xlink:href=\"#DejaVuSans-101\"/>\n     <use x=\"323.380859\" xlink:href=\"#DejaVuSans-114\"/>\n    </g>\n   </g>\n  </g>\n  <g id=\"axes_7\">\n   <g id=\"patch_32\">\n    <path d=\"M 523.585106 93.552168 \nL 594.819149 93.552168 \nL 594.819149 22.318125 \nL 523.585106 22.318125 \nz\n\" style=\"fill:#ffffff;\"/>\n   </g>\n   <g clip-path=\"url(#p8f153c70ad)\">\n    <image height=\"72\" id=\"image920364d23a\" transform=\"scale(1 -1)translate(0 -72)\" width=\"72\" x=\"523.585106\" xlink:href=\"data:image/png;base64,\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\" y=\"-21.552168\"/>\n   </g>\n   <g id=\"patch_33\">\n    <path d=\"M 523.585106 93.552168 \nL 523.585106 22.318125 \n\" style=\"fill:none;stroke:#000000;stroke-linecap:square;stroke-linejoin:miter;stroke-width:0.8;\"/>\n   </g>\n   <g id=\"patch_34\">\n    <path d=\"M 594.819149 93.552168 \nL 594.819149 22.318125 \n\" style=\"fill:none;stroke:#000000;stroke-linecap:square;stroke-linejoin:miter;stroke-width:0.8;\"/>\n   </g>\n   <g id=\"patch_35\">\n    <path d=\"M 523.585106 93.552168 \nL 594.819149 93.552168 \n\" style=\"fill:none;stroke:#000000;stroke-linecap:square;stroke-linejoin:miter;stroke-width:0.8;\"/>\n   </g>\n   <g id=\"patch_36\">\n    <path d=\"M 523.585106 22.318125 \nL 594.819149 22.318125 \n\" style=\"fill:none;stroke:#000000;stroke-linecap:square;stroke-linejoin:miter;stroke-width:0.8;\"/>\n   </g>\n   <g id=\"text_7\">\n    <!-- Coat -->\n    <defs>\n     <path d=\"M 64.40625 67.28125 \nL 64.40625 56.890625 \nQ 59.421875 61.53125 53.78125 63.8125 \nQ 48.140625 66.109375 41.796875 66.109375 \nQ 29.296875 66.109375 22.65625 58.46875 \nQ 16.015625 50.828125 16.015625 36.375 \nQ 16.015625 21.96875 22.65625 14.328125 \nQ 29.296875 6.6875 41.796875 6.6875 \nQ 48.140625 6.6875 53.78125 8.984375 \nQ 59.421875 11.28125 64.40625 15.921875 \nL 64.40625 5.609375 \nQ 59.234375 2.09375 53.4375 0.328125 \nQ 47.65625 -1.421875 41.21875 -1.421875 \nQ 24.65625 -1.421875 15.125 8.703125 \nQ 5.609375 18.84375 5.609375 36.375 \nQ 5.609375 53.953125 15.125 64.078125 \nQ 24.65625 74.21875 41.21875 74.21875 \nQ 47.75 74.21875 53.53125 72.484375 \nQ 59.328125 70.75 64.40625 67.28125 \nz\n\" id=\"DejaVuSans-67\"/>\n     <path d=\"M 34.28125 27.484375 \nQ 23.390625 27.484375 19.1875 25 \nQ 14.984375 22.515625 14.984375 16.5 \nQ 14.984375 11.71875 18.140625 8.90625 \nQ 21.296875 6.109375 26.703125 6.109375 \nQ 34.1875 6.109375 38.703125 11.40625 \nQ 43.21875 16.703125 43.21875 25.484375 \nL 43.21875 27.484375 \nz\nM 52.203125 31.203125 \nL 52.203125 0 \nL 43.21875 0 \nL 43.21875 8.296875 \nQ 40.140625 3.328125 35.546875 0.953125 \nQ 30.953125 -1.421875 24.3125 -1.421875 \nQ 15.921875 -1.421875 10.953125 3.296875 \nQ 6 8.015625 6 15.921875 \nQ 6 25.140625 12.171875 29.828125 \nQ 18.359375 34.515625 30.609375 34.515625 \nL 43.21875 34.515625 \nL 43.21875 35.40625 \nQ 43.21875 41.609375 39.140625 45 \nQ 35.0625 48.390625 27.6875 48.390625 \nQ 23 48.390625 18.546875 47.265625 \nQ 14.109375 46.140625 10.015625 43.890625 \nL 10.015625 52.203125 \nQ 14.9375 54.109375 19.578125 55.046875 \nQ 24.21875 56 28.609375 56 \nQ 40.484375 56 46.34375 49.84375 \nQ 52.203125 43.703125 52.203125 31.203125 \nz\n\" id=\"DejaVuSans-97\"/>\n    </defs>\n    <g transform=\"translate(545.312128 16.318125)scale(0.12 -0.12)\">\n     <use xlink:href=\"#DejaVuSans-67\"/>\n     <use x=\"69.824219\" xlink:href=\"#DejaVuSans-111\"/>\n     <use x=\"131.005859\" xlink:href=\"#DejaVuSans-97\"/>\n     <use x=\"192.285156\" xlink:href=\"#DejaVuSans-116\"/>\n    </g>\n   </g>\n  </g>\n  <g id=\"axes_8\">\n   <g id=\"patch_37\">\n    <path d=\"M 609.065957 93.552168 \nL 680.3 93.552168 \nL 680.3 22.318125 \nL 609.065957 22.318125 \nz\n\" style=\"fill:#ffffff;\"/>\n   </g>\n   <g clip-path=\"url(#p01ab4a9979)\">\n    <image height=\"72\" id=\"imagee22f14ad55\" transform=\"scale(1 -1)translate(0 -72)\" width=\"72\" x=\"609.065957\" xlink:href=\"data:image/png;base64,\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\" y=\"-21.552168\"/>\n   </g>\n   <g id=\"patch_38\">\n    <path d=\"M 609.065957 93.552168 \nL 609.065957 22.318125 \n\" style=\"fill:none;stroke:#000000;stroke-linecap:square;stroke-linejoin:miter;stroke-width:0.8;\"/>\n   </g>\n   <g id=\"patch_39\">\n    <path d=\"M 680.3 93.552168 \nL 680.3 22.318125 \n\" style=\"fill:none;stroke:#000000;stroke-linecap:square;stroke-linejoin:miter;stroke-width:0.8;\"/>\n   </g>\n   <g id=\"patch_40\">\n    <path d=\"M 609.065957 93.552168 \nL 680.3 93.552168 \n\" style=\"fill:none;stroke:#000000;stroke-linecap:square;stroke-linejoin:miter;stroke-width:0.8;\"/>\n   </g>\n   <g id=\"patch_41\">\n    <path d=\"M 609.065957 22.318125 \nL 680.3 22.318125 \n\" style=\"fill:none;stroke:#000000;stroke-linecap:square;stroke-linejoin:miter;stroke-width:0.8;\"/>\n   </g>\n   <g id=\"text_8\">\n    <!-- Shirt -->\n    <g transform=\"translate(630.585791 16.318125)scale(0.12 -0.12)\">\n     <use xlink:href=\"#DejaVuSans-83\"/>\n     <use x=\"63.476562\" xlink:href=\"#DejaVuSans-104\"/>\n     <use x=\"126.855469\" xlink:href=\"#DejaVuSans-105\"/>\n     <use x=\"154.638672\" xlink:href=\"#DejaVuSans-114\"/>\n     <use x=\"195.751953\" xlink:href=\"#DejaVuSans-116\"/>\n    </g>\n   </g>\n  </g>\n </g>\n <defs>\n  <clipPath id=\"p04a3bf6f46\">\n   <rect height=\"71.234043\" width=\"71.234043\" x=\"10.7\" y=\"22.318125\"/>\n  </clipPath>\n  <clipPath id=\"p475afedbdf\">\n   <rect height=\"71.234043\" width=\"71.234043\" x=\"96.180851\" y=\"22.318125\"/>\n  </clipPath>\n  <clipPath id=\"pb500065f5c\">\n   <rect height=\"71.234043\" width=\"71.234043\" x=\"181.661702\" y=\"22.318125\"/>\n  </clipPath>\n  <clipPath id=\"p2863bddd8a\">\n   <rect height=\"71.234043\" width=\"71.234043\" x=\"267.142553\" y=\"22.318125\"/>\n  </clipPath>\n  <clipPath id=\"pe1035e989c\">\n   <rect height=\"71.234043\" width=\"71.234043\" x=\"352.623404\" y=\"22.318125\"/>\n  </clipPath>\n  <clipPath id=\"p0e84e8ab98\">\n   <rect height=\"71.234043\" width=\"71.234043\" x=\"438.104255\" y=\"22.318125\"/>\n  </clipPath>\n  <clipPath id=\"p8f153c70ad\">\n   <rect height=\"71.234043\" width=\"71.234043\" x=\"523.585106\" y=\"22.318125\"/>\n  </clipPath>\n  <clipPath id=\"p01ab4a9979\">\n   <rect height=\"71.234043\" width=\"71.234043\" x=\"609.065957\" y=\"22.318125\"/>\n  </clipPath>\n </defs>\n</svg>\n",
            "text/plain": [
              "<Figure size 864x108 with 8 Axes>"
            ]
          },
          "metadata": {},
          "output_type": "display_data"
        }
      ],
      "source": [
        "batch = next(iter(data.val_dataloader()))\n",
        "data.visualize(batch)"
      ]
    },
    {
      "cell_type": "markdown",
      "metadata": {
        "id": "mDIf4UZUHj26"
      },
      "source": [
        "## Ex 4.2"
      ]
    },
    {
      "cell_type": "markdown",
      "metadata": {
        "id": "Yy89S-H_Hm8R"
      },
      "source": [
        "### Q1:\n",
        "\n",
        "as we decrease the batch_size it is taking much more time to laod the data"
      ]
    },
    {
      "cell_type": "code",
      "execution_count": null,
      "metadata": {
        "id": "EI1JZ90HHR2r"
      },
      "outputs": [],
      "source": [
        "inst = FashionMNIST(batch_size=32, resize=(32, 32))"
      ]
    },
    {
      "cell_type": "code",
      "execution_count": null,
      "metadata": {
        "colab": {
          "base_uri": "https://localhost:8080/"
        },
        "id": "Zr93UvF7IH7M",
        "outputId": "8f9f35c8-e1e4-4aa8-d00d-621e7510747f"
      },
      "outputs": [
        {
          "data": {
            "text/plain": [
              "1670274649.2048228"
            ]
          },
          "execution_count": 64,
          "metadata": {},
          "output_type": "execute_result"
        }
      ],
      "source": [
        "time.time()"
      ]
    },
    {
      "cell_type": "code",
      "execution_count": null,
      "metadata": {
        "colab": {
          "base_uri": "https://localhost:8080/"
        },
        "id": "fSWydFDjH2G5",
        "outputId": "65248d88-5266-4c59-c15b-adb96f621838"
      },
      "outputs": [
        {
          "name": "stderr",
          "output_type": "stream",
          "text": [
            "/usr/local/lib/python3.8/dist-packages/torch/utils/data/dataloader.py:563: UserWarning: This DataLoader will create 4 worker processes in total. Our suggested max number of worker in current system is 2, which is smaller than what this DataLoader is going to create. Please be aware that excessive worker creation might get DataLoader running slow or even freeze, lower the worker number to avoid potential slowness/freeze if necessary.\n",
            "  warnings.warn(_create_warning_msg(\n"
          ]
        },
        {
          "name": "stdout",
          "output_type": "stream",
          "text": [
            "12.62 sec\n"
          ]
        }
      ],
      "source": [
        "tic = time.time()\n",
        "for X, y in inst.train_dataloader():\n",
        "  continue\n",
        "print(f\"{time.time() - tic:.2f} sec\")"
      ]
    },
    {
      "cell_type": "code",
      "execution_count": null,
      "metadata": {
        "colab": {
          "base_uri": "https://localhost:8080/"
        },
        "id": "UyuxpWQfIMyp",
        "outputId": "5a9033e7-dea1-465a-be2f-3a9a0bc890f3"
      },
      "outputs": [
        {
          "name": "stdout",
          "output_type": "stream",
          "text": [
            "16.65 sec\n"
          ]
        }
      ],
      "source": [
        "inst = FashionMNIST(batch_size=16, resize=(32, 32))\n",
        "tic = time.time()\n",
        "for X, y in inst.train_dataloader():\n",
        "  continue\n",
        "print(f\"{time.time() - tic:.2f} sec\")"
      ]
    },
    {
      "cell_type": "code",
      "execution_count": null,
      "metadata": {
        "colab": {
          "base_uri": "https://localhost:8080/"
        },
        "id": "4XC1S3S-IcE1",
        "outputId": "2d830c2a-3d95-4044-f88c-513a2b2f15cf"
      },
      "outputs": [
        {
          "name": "stdout",
          "output_type": "stream",
          "text": [
            "145.24 sec\n"
          ]
        }
      ],
      "source": [
        "inst = FashionMNIST(batch_size=1, resize=(32, 32))\n",
        "tic = time.time()\n",
        "for X, y in inst.train_dataloader():\n",
        "  continue\n",
        "print(f\"{time.time() - tic:.2f} sec\")"
      ]
    },
    {
      "cell_type": "code",
      "execution_count": null,
      "metadata": {
        "colab": {
          "base_uri": "https://localhost:8080/"
        },
        "id": "7tQrlkRXIjAp",
        "outputId": "623e77f2-9b21-477b-d77d-f004939d1083"
      },
      "outputs": [
        {
          "name": "stdout",
          "output_type": "stream",
          "text": [
            "CPU times: user 4 µs, sys: 1 µs, total: 5 µs\n",
            "Wall time: 9.06 µs\n"
          ]
        }
      ],
      "source": [
        "%time"
      ]
    },
    {
      "cell_type": "markdown",
      "metadata": {
        "id": "9R9CHoA5JTqq"
      },
      "source": [
        "# 4.3 The Base Clasification Model"
      ]
    },
    {
      "cell_type": "code",
      "execution_count": 11,
      "metadata": {
        "id": "TQ2JmPc9JHu0"
      },
      "outputs": [],
      "source": [
        "import torch\n",
        "from d2l import torch as d2l"
      ]
    },
    {
      "cell_type": "code",
      "execution_count": null,
      "metadata": {
        "colab": {
          "base_uri": "https://localhost:8080/"
        },
        "id": "I8HY_gIoKMKN",
        "outputId": "dd44024f-6f6b-4f90-b334-f4f2610d1495"
      },
      "outputs": [
        {
          "name": "stderr",
          "output_type": "stream",
          "text": [
            "/usr/local/lib/python3.8/dist-packages/torch/utils/data/dataloader.py:563: UserWarning: This DataLoader will create 4 worker processes in total. Our suggested max number of worker in current system is 2, which is smaller than what this DataLoader is going to create. Please be aware that excessive worker creation might get DataLoader running slow or even freeze, lower the worker number to avoid potential slowness/freeze if necessary.\n",
            "  warnings.warn(_create_warning_msg(\n"
          ]
        }
      ],
      "source": [
        "inst = FashionMNIST(resize=(32, 32))\n",
        "data = inst.val_dataloader()"
      ]
    },
    {
      "cell_type": "code",
      "execution_count": null,
      "metadata": {
        "colab": {
          "base_uri": "https://localhost:8080/",
          "height": 130
        },
        "id": "YHiPVlKgKXK5",
        "outputId": "2c7bfdea-2d5d-4413-dbfb-95e95aedad7e"
      },
      "outputs": [
        {
          "ename": "SyntaxError",
          "evalue": "ignored",
          "output_type": "error",
          "traceback": [
            "\u001b[0;36m  File \u001b[0;32m\"<ipython-input-73-df3263955497>\"\u001b[0;36m, line \u001b[0;32m1\u001b[0m\n\u001b[0;31m    *data[:-1]\u001b[0m\n\u001b[0m    ^\u001b[0m\n\u001b[0;31mSyntaxError\u001b[0m\u001b[0;31m:\u001b[0m can't use starred expression here\n"
          ]
        }
      ],
      "source": [
        "*data[:-1]"
      ]
    },
    {
      "cell_type": "code",
      "execution_count": 12,
      "metadata": {
        "id": "acRbGTkrJjmU"
      },
      "outputs": [],
      "source": [
        "class Classifier(d2l.Module):\n",
        "  def validation_step(self, batch):\n",
        "    Y_hat = self(*batch[:-1])\n",
        "    self.plot('loss', self.loss(Y_hat, batch[-1]), train=False)\n",
        "    self.plot('acc', self.accuracy(Y_hat, batch[-1]), train=False)"
      ]
    },
    {
      "cell_type": "code",
      "execution_count": 13,
      "metadata": {
        "id": "SMNxuoP-K8Ns"
      },
      "outputs": [],
      "source": [
        "# still using SGD\n",
        "@add_to_class(d2l.Module)\n",
        "def configure_optimizers(self):\n",
        "  return torch.optim.SGD(self.parameters(), lr=self.lr)"
      ]
    },
    {
      "cell_type": "code",
      "execution_count": null,
      "metadata": {
        "colab": {
          "base_uri": "https://localhost:8080/"
        },
        "id": "PWkqtQC_Mgjh",
        "outputId": "340f05c5-1569-42a7-c089-cfbe09740de0"
      },
      "outputs": [
        {
          "name": "stdout",
          "output_type": "stream",
          "text": [
            "torch.Size([30])\n"
          ]
        }
      ],
      "source": [
        "a = torch.zeros(5, 6)\n",
        "b = a.reshape(-1)\n",
        "print(b.shape)"
      ]
    },
    {
      "cell_type": "code",
      "execution_count": null,
      "metadata": {
        "colab": {
          "base_uri": "https://localhost:8080/"
        },
        "id": "DRl1vQCkMsUJ",
        "outputId": "4c5077d0-42d4-4246-b251-2d746a13b11a"
      },
      "outputs": [
        {
          "data": {
            "text/plain": [
              "7"
            ]
          },
          "execution_count": 79,
          "metadata": {},
          "output_type": "execute_result"
        }
      ],
      "source": [
        "a = torch.zeros(5, 6, 7)\n",
        "a.shape[-1]"
      ]
    },
    {
      "cell_type": "code",
      "execution_count": null,
      "metadata": {
        "colab": {
          "base_uri": "https://localhost:8080/"
        },
        "id": "wUNw2r5WNLA6",
        "outputId": "3d6d25a0-6afd-43b4-85d9-7558ed8b96c0"
      },
      "outputs": [
        {
          "name": "stdout",
          "output_type": "stream",
          "text": [
            "tensor([[ 0,  1,  2,  3,  4],\n",
            "        [ 5,  6,  7,  8,  9],\n",
            "        [10, 11, 12, 13, 14],\n",
            "        [15, 16, 17, 18, 19]])\n",
            "tensor([4, 4, 4, 4])\n"
          ]
        }
      ],
      "source": [
        "a = torch.arange(20).reshape(4, 5)\n",
        "print(a)\n",
        "print(a.argmax(axis=1))"
      ]
    },
    {
      "cell_type": "code",
      "execution_count": 14,
      "metadata": {
        "id": "G7BjpkmrLdV7"
      },
      "outputs": [],
      "source": [
        "# accuracy\n",
        "@add_to_class(Classifier)\n",
        "def accuracy(self, Y_hat, Y, averaged=True):\n",
        "  Y_hat = Y_hat.reshape((-1, Y_hat.shape[-1]))\n",
        "  preds = Y_hat.argmax(axis=1).type(Y.dtype)\n",
        "  compare = (preds == Y.reshape(-1)).type(torch.float32)\n",
        "  return compare.mean() if averaged else compare"
      ]
    },
    {
      "cell_type": "markdown",
      "metadata": {
        "id": "dVhsNL-SzvA5"
      },
      "source": [
        "# 4.4 Softmax Regression Implementation from Scratch"
      ]
    },
    {
      "cell_type": "code",
      "execution_count": null,
      "metadata": {
        "colab": {
          "base_uri": "https://localhost:8080/"
        },
        "id": "DXB3Q6kH0EK-",
        "outputId": "62ac637d-3116-4fe3-93fc-5e39312c63ce"
      },
      "outputs": [
        {
          "name": "stdout",
          "output_type": "stream",
          "text": [
            "Looking in indexes: https://pypi.org/simple, https://us-python.pkg.dev/colab-wheels/public/simple/\n",
            "Requirement already satisfied: matplotlib_inline in /usr/local/lib/python3.8/dist-packages (0.1.6)\n",
            "Requirement already satisfied: traitlets in /usr/local/lib/python3.8/dist-packages (from matplotlib_inline) (5.6.0)\n",
            "Looking in indexes: https://pypi.org/simple, https://us-python.pkg.dev/colab-wheels/public/simple/\n",
            "Requirement already satisfied: d2l==1.0.0a0 in /usr/local/lib/python3.8/dist-packages (1.0.0a0)\n",
            "\u001b[31mERROR: Operation cancelled by user\u001b[0m\n"
          ]
        }
      ],
      "source": [
        "!pip install matplotlib_inline\n",
        "!pip install --upgrade d2l==1.0.0a0"
      ]
    },
    {
      "cell_type": "code",
      "execution_count": 15,
      "metadata": {
        "id": "5VwxbxVJz0P8"
      },
      "outputs": [],
      "source": [
        "import torch\n",
        "from d2l import torch as d2l"
      ]
    },
    {
      "cell_type": "code",
      "execution_count": 16,
      "metadata": {
        "id": "Aujs7wsB5FB2"
      },
      "outputs": [],
      "source": [
        "import torch.nn as nn"
      ]
    },
    {
      "cell_type": "code",
      "execution_count": null,
      "metadata": {
        "id": "8cnlEYkhz722"
      },
      "outputs": [],
      "source": [
        "X = torch.arange(1, 7, 1, dtype=torch.float32).reshape(2, -1)"
      ]
    },
    {
      "cell_type": "code",
      "execution_count": null,
      "metadata": {
        "colab": {
          "base_uri": "https://localhost:8080/"
        },
        "id": "rti_ikTg0fyu",
        "outputId": "a3f90e55-f519-43f8-94cf-bd437c33fd1f"
      },
      "outputs": [
        {
          "data": {
            "text/plain": [
              "tensor([[1., 2., 3.],\n",
              "        [4., 5., 6.]])"
            ]
          },
          "execution_count": 15,
          "metadata": {},
          "output_type": "execute_result"
        }
      ],
      "source": [
        "X"
      ]
    },
    {
      "cell_type": "code",
      "execution_count": null,
      "metadata": {
        "colab": {
          "base_uri": "https://localhost:8080/"
        },
        "id": "HV_Zn_ak0g37",
        "outputId": "5a0c3682-2f35-4597-983a-53b6de8b8ed2"
      },
      "outputs": [
        {
          "data": {
            "text/plain": [
              "tensor([5., 7., 9.])"
            ]
          },
          "execution_count": 16,
          "metadata": {},
          "output_type": "execute_result"
        }
      ],
      "source": [
        "X.sum(axis=0) # add the rows of X"
      ]
    },
    {
      "cell_type": "code",
      "execution_count": null,
      "metadata": {
        "colab": {
          "base_uri": "https://localhost:8080/"
        },
        "id": "EVFuf_dP00wk",
        "outputId": "9c2b5b99-b8bd-4159-ce11-e3b70320cb10"
      },
      "outputs": [
        {
          "data": {
            "text/plain": [
              "tensor([[ 6.],\n",
              "        [15.]])"
            ]
          },
          "execution_count": 17,
          "metadata": {},
          "output_type": "execute_result"
        }
      ],
      "source": [
        "X.sum(axis=1, keepdims=True) # adds the columns"
      ]
    },
    {
      "cell_type": "code",
      "execution_count": null,
      "metadata": {
        "colab": {
          "base_uri": "https://localhost:8080/"
        },
        "id": "dhb6gnyw6Cjk",
        "outputId": "c8c1ced3-cc1b-4e14-8ae7-eb6f03d40bef"
      },
      "outputs": [
        {
          "data": {
            "text/plain": [
              "tensor([[1., 2., 3.],\n",
              "        [4., 5., 6.]])"
            ]
          },
          "execution_count": 18,
          "metadata": {},
          "output_type": "execute_result"
        }
      ],
      "source": [
        "X"
      ]
    },
    {
      "cell_type": "code",
      "execution_count": null,
      "metadata": {
        "colab": {
          "base_uri": "https://localhost:8080/"
        },
        "id": "MEWxt_qW59Vi",
        "outputId": "d4946284-3633-442a-a353-e20d7ed40948"
      },
      "outputs": [
        {
          "data": {
            "text/plain": [
              "tensor([1., 2., 3., 4., 5., 6.])"
            ]
          },
          "execution_count": 19,
          "metadata": {},
          "output_type": "execute_result"
        }
      ],
      "source": [
        "X.reshape(-1) # it unpacks the matrix row-wise"
      ]
    },
    {
      "cell_type": "code",
      "execution_count": null,
      "metadata": {
        "colab": {
          "base_uri": "https://localhost:8080/"
        },
        "id": "tSku241-6kZ8",
        "outputId": "0a5acb92-7983-4c5d-9a5a-0ca2e3eafc0f"
      },
      "outputs": [
        {
          "data": {
            "text/plain": [
              "tensor([[1., 2.],\n",
              "        [3., 4.],\n",
              "        [5., 6.]])"
            ]
          },
          "execution_count": 20,
          "metadata": {},
          "output_type": "execute_result"
        }
      ],
      "source": [
        "X.reshape(-1, 2)"
      ]
    },
    {
      "cell_type": "code",
      "execution_count": 17,
      "metadata": {
        "id": "3vEX1Q_s05PM"
      },
      "outputs": [],
      "source": [
        "def softmax(X):\n",
        "  X_exp = torch.exp(X)\n",
        "  partition = X_exp.sum(axis=1, keepdims=True)\n",
        "  return X_exp / partition"
      ]
    },
    {
      "cell_type": "code",
      "execution_count": null,
      "metadata": {
        "colab": {
          "base_uri": "https://localhost:8080/"
        },
        "id": "1eTc7ELo1ja4",
        "outputId": "f08db1b1-2174-4d95-e9c4-001980c7c7c6"
      },
      "outputs": [
        {
          "name": "stdout",
          "output_type": "stream",
          "text": [
            "tensor([[0.1613, 0.0864, 0.0157, 0.1264, 0.6102],\n",
            "        [0.0368, 0.2361, 0.2408, 0.2058, 0.2805]])\n"
          ]
        }
      ],
      "source": [
        "X = torch.randn(2, 5) # 2 examples into 5 categories\n",
        "X_prob = softmax(X)\n",
        "print(X_prob)"
      ]
    },
    {
      "cell_type": "code",
      "execution_count": null,
      "metadata": {
        "colab": {
          "base_uri": "https://localhost:8080/"
        },
        "id": "qWtkdK2U12bk",
        "outputId": "d5c0067d-8f9d-4959-85ff-ef6e06b28c40"
      },
      "outputs": [
        {
          "name": "stdout",
          "output_type": "stream",
          "text": [
            "tensor([1.0000, 1.0000])\n"
          ]
        }
      ],
      "source": [
        "print(X_prob.sum(axis=1))"
      ]
    },
    {
      "cell_type": "code",
      "execution_count": null,
      "metadata": {
        "id": "W7nVrsQo4tYp"
      },
      "outputs": [],
      "source": [
        "nn.Module??"
      ]
    },
    {
      "cell_type": "markdown",
      "metadata": {
        "id": "OFddwNcz5KgR"
      },
      "source": [
        "This is a base class for all neural network modules"
      ]
    },
    {
      "cell_type": "code",
      "execution_count": null,
      "metadata": {
        "id": "GXwTB_HS4dCW"
      },
      "outputs": [],
      "source": [
        "d2l.nn_Module??"
      ]
    },
    {
      "cell_type": "code",
      "execution_count": null,
      "metadata": {
        "colab": {
          "base_uri": "https://localhost:8080/",
          "height": 130
        },
        "id": "rU1LgeHk3kER",
        "outputId": "2dd74da1-888a-42a5-d602-576b506021e4"
      },
      "outputs": [
        {
          "ename": "SyntaxError",
          "evalue": "ignored",
          "output_type": "error",
          "traceback": [
            "\u001b[0;36m  File \u001b[0;32m\"<ipython-input-26-dd0a71a25ea2>\"\u001b[0;36m, line \u001b[0;32m1\u001b[0m\n\u001b[0;31m    d2l.Module?? # Module class is the base class for all the models to be implemented\u001b[0m\n\u001b[0m              ^\u001b[0m\n\u001b[0;31mSyntaxError\u001b[0m\u001b[0;31m:\u001b[0m invalid syntax\n"
          ]
        }
      ],
      "source": [
        "d2l.Module?? # Module class is the base class for all the models to be implemented\n",
        "# The init method stores the learnable parameters\n",
        "# training_step method accepts a data batch and returns the loss value\n",
        "# configure optimizers method returns the optimization method or a list of them, which will be used to update the learnable parameters"
      ]
    },
    {
      "cell_type": "code",
      "execution_count": null,
      "metadata": {
        "id": "nQVpqH-115by"
      },
      "outputs": [],
      "source": [
        "class SoftmaxRegressionScratch(d2l.Classifier):\n",
        "  def __init__(self, num_inputs, num_outputs, lr, sigma=0.01):\n",
        "    super().__init__()\n",
        "    self.save_hyperparameters()\n",
        "    self.W = torch.normal(0, sigma, size=(num_inputs, num_outputs), requires_grad=True)\n",
        "    self.b = torch.zeros(num_outputs, requires_grad=True)\n",
        "\n",
        "  def forward(self, X):\n",
        "    # O = XW + b\n",
        "    o = torch.mm(X.reshape(-1, self.W.shape[0]), self.W) + self.b\n",
        "    return softmax(o)\n",
        "\n",
        "  def loss(self, y, y_hat):\n",
        "    return cross_entropy(y_hat, y)"
      ]
    },
    {
      "cell_type": "code",
      "execution_count": null,
      "metadata": {
        "id": "1pHrkXct7dFW"
      },
      "outputs": [],
      "source": [
        "y = torch.tensor([0, 2]) # this is the label for each examples : 1st example correspond to class 0, 2nd example belong to class 2\n",
        "y_hat = torch.tensor([[0.1, 0.3, 0.6], [0.3, 0.2, 0.5]])  # n_samples x n_classes\n",
        "# y_hat[[0, 1], y]"
      ]
    },
    {
      "cell_type": "code",
      "execution_count": null,
      "metadata": {
        "colab": {
          "base_uri": "https://localhost:8080/"
        },
        "id": "CmPZQabw3bTX",
        "outputId": "df10663f-5a62-4036-acdd-a56c7445d0eb"
      },
      "outputs": [
        {
          "data": {
            "text/plain": [
              "tensor([[0.1000, 0.3000, 0.6000],\n",
              "        [0.3000, 0.2000, 0.5000]])"
            ]
          },
          "execution_count": 103,
          "metadata": {},
          "output_type": "execute_result"
        }
      ],
      "source": [
        "y_hat"
      ]
    },
    {
      "cell_type": "code",
      "execution_count": null,
      "metadata": {
        "colab": {
          "base_uri": "https://localhost:8080/"
        },
        "id": "r05YQxsg3LT1",
        "outputId": "7a3dcdce-5a19-4871-ff6f-e2595701084b"
      },
      "outputs": [
        {
          "data": {
            "text/plain": [
              "[0, 1]"
            ]
          },
          "execution_count": 100,
          "metadata": {},
          "output_type": "execute_result"
        }
      ],
      "source": [
        "list(range(len(y)))"
      ]
    },
    {
      "cell_type": "code",
      "execution_count": null,
      "metadata": {
        "colab": {
          "base_uri": "https://localhost:8080/"
        },
        "id": "itKxMd0L3ZgV",
        "outputId": "7b9b5a5b-07bc-43f3-ac5f-854405e552b1"
      },
      "outputs": [
        {
          "data": {
            "text/plain": [
              "tensor([0.1000, 0.3000, 0.6000])"
            ]
          },
          "execution_count": 104,
          "metadata": {},
          "output_type": "execute_result"
        }
      ],
      "source": [
        "y_hat[0] # Gives the 0th row"
      ]
    },
    {
      "cell_type": "code",
      "execution_count": null,
      "metadata": {
        "colab": {
          "base_uri": "https://localhost:8080/"
        },
        "id": "9IOk4CPZ3S1E",
        "outputId": "90f368d5-5e33-4d48-d692-98cb4854bdda"
      },
      "outputs": [
        {
          "data": {
            "text/plain": [
              "tensor([[0.1000, 0.3000, 0.6000],\n",
              "        [0.3000, 0.2000, 0.5000]])"
            ]
          },
          "execution_count": 102,
          "metadata": {},
          "output_type": "execute_result"
        }
      ],
      "source": [
        "y_hat[list(range(len(y)))] # gives the 0th and 1st row of y_hat"
      ]
    },
    {
      "cell_type": "code",
      "execution_count": null,
      "metadata": {
        "colab": {
          "base_uri": "https://localhost:8080/"
        },
        "id": "dS5VpI3h7w3m",
        "outputId": "61c9d0b0-9e7a-47e3-d772-ecc93b570606"
      },
      "outputs": [
        {
          "data": {
            "text/plain": [
              "tensor([0.1000, 0.5000])"
            ]
          },
          "execution_count": 105,
          "metadata": {},
          "output_type": "execute_result"
        }
      ],
      "source": [
        "y_hat[[0, 1], [0, 2]] # (0, 0) and (1, 2) th element"
      ]
    },
    {
      "cell_type": "code",
      "execution_count": null,
      "metadata": {
        "colab": {
          "base_uri": "https://localhost:8080/"
        },
        "id": "3QYQsjp-83IE",
        "outputId": "ebeb1345-7420-4bad-86db-afdbe47a8abe"
      },
      "outputs": [
        {
          "data": {
            "text/plain": [
              "[0, 1]"
            ]
          },
          "execution_count": 33,
          "metadata": {},
          "output_type": "execute_result"
        }
      ],
      "source": [
        "list(range(len(y_hat)))"
      ]
    },
    {
      "cell_type": "code",
      "execution_count": null,
      "metadata": {
        "colab": {
          "base_uri": "https://localhost:8080/"
        },
        "id": "RYpMJaVu9eeq",
        "outputId": "904462f6-5761-4d09-82a8-5577eb8cb447"
      },
      "outputs": [
        {
          "data": {
            "text/plain": [
              "tensor(0.3000)"
            ]
          },
          "execution_count": 34,
          "metadata": {},
          "output_type": "execute_result"
        }
      ],
      "source": [
        "y_hat[[0, 1], [0, 2]].mean()"
      ]
    },
    {
      "cell_type": "code",
      "execution_count": 18,
      "metadata": {
        "id": "hofMUoQx75s9"
      },
      "outputs": [],
      "source": [
        "def cross_entropy(y_hat, y):\n",
        "  l = -torch.log(y_hat[list(range(len(y_hat))), y]).mean()\n",
        "  return l"
      ]
    },
    {
      "cell_type": "code",
      "execution_count": 19,
      "metadata": {
        "id": "X-fNiKnKBEhk"
      },
      "outputs": [],
      "source": [
        "def accuracy(Y_hat, Y, averaged=True):\n",
        "  Y_hat = Y_hat.reshape((-1, Y_hat.shape[-1]))\n",
        "  preds = Y_hat.argmax(axis=1).type(Y.dtype)\n",
        "  compare = (preds == Y.reshape(-1)).type(torch.float32)\n",
        "  return compare.mean() if averaged else compare"
      ]
    },
    {
      "cell_type": "code",
      "execution_count": 20,
      "metadata": {
        "id": "ZnaPDa5wAODF"
      },
      "outputs": [],
      "source": [
        "class Trainer_my():\n",
        "  def __init__(self, max_epochs):\n",
        "    self.max_epochs = max_epochs\n",
        "    self.train_loss = []\n",
        "    self.val_loss = []\n",
        "    self.val_acc = []\n",
        "\n",
        "  def fit(self, model, data):\n",
        "\n",
        "    optimizer = torch.optim.SGD([model.W, model.b], model.lr)\n",
        "\n",
        "    for epoch in range(self.max_epochs):\n",
        "\n",
        "      # Training loop:\n",
        "      t_loss = torch.zeros(1, requires_grad=False)\n",
        "      for X, y in data.train_dataloader():\n",
        "\n",
        "        # forward_pass\n",
        "        y_hat = model.forward(X)\n",
        "        l = model.loss(y, y_hat)\n",
        "        \n",
        "        with torch.no_grad():\n",
        "          t_loss += l\n",
        "       \n",
        "        # backward_pass\n",
        "        l.backward()\n",
        "\n",
        "        # update the params\n",
        "        optimizer.step()\n",
        "\n",
        "        # zero the grad\n",
        "        optimizer.zero_grad()\n",
        "\n",
        "      self.train_loss.append(t_loss.item())\n",
        "\n",
        "      with torch.no_grad():\n",
        "      # Validation_loop:\n",
        "        t_loss = torch.zeros(1)\n",
        "        t_acc = torch.zeros(1)\n",
        "        for X, y in data.val_dataloader():\n",
        "          y_hat = model.forward(X)\n",
        "          t_loss += model.loss(y, y_hat)\n",
        "          t_acc += accuracy(y_hat, y)\n",
        "\n",
        "        self.val_loss.append(t_loss.item())\n",
        "        self.val_acc.append(t_acc.item())"
      ]
    },
    {
      "cell_type": "code",
      "execution_count": null,
      "metadata": {
        "colab": {
          "base_uri": "https://localhost:8080/"
        },
        "id": "T2lMxkW39yi_",
        "outputId": "9fbca763-dbd3-4b91-e4b1-6e114f00e3c5"
      },
      "outputs": [
        {
          "name": "stderr",
          "output_type": "stream",
          "text": [
            "/usr/local/lib/python3.8/dist-packages/torch/utils/data/dataloader.py:554: UserWarning: This DataLoader will create 4 worker processes in total. Our suggested max number of worker in current system is 2, which is smaller than what this DataLoader is going to create. Please be aware that excessive worker creation might get DataLoader running slow or even freeze, lower the worker number to avoid potential slowness/freeze if necessary.\n",
            "  warnings.warn(_create_warning_msg(\n"
          ]
        }
      ],
      "source": [
        "data = d2l.FashionMNIST(batch_size=256)\n",
        "model = SoftmaxRegressionScratch(num_inputs=784, num_outputs=10, lr=0.1)\n",
        "trainer = Trainer_my(max_epochs=10)\n",
        "trainer.fit(model, data)"
      ]
    },
    {
      "cell_type": "markdown",
      "metadata": {
        "id": "hJfcavrAjZDG"
      },
      "source": [
        "Now our model as has been trained"
      ]
    },
    {
      "cell_type": "code",
      "execution_count": 21,
      "metadata": {
        "id": "gLremHgM_A_t"
      },
      "outputs": [],
      "source": [
        "import matplotlib.pyplot as plt\n",
        "from matplotlib import rcParams, cycler\n",
        "\n",
        "rcParams['figure.figsize'] = 12,6\n",
        "rcParams['lines.linewidth'] = 2.5\n",
        "rcParams['axes.prop_cycle'] = cycler(color = ['#424242'])\n",
        "rcParams['xtick.labelsize'] = 'xx-large'\n",
        "rcParams['ytick.labelsize'] = 'xx-large'"
      ]
    },
    {
      "cell_type": "code",
      "execution_count": null,
      "metadata": {
        "colab": {
          "base_uri": "https://localhost:8080/",
          "height": 164
        },
        "id": "W0aNwfe0lCHZ",
        "outputId": "e3d35ac0-45ed-4466-aa4f-720373cf5c1e"
      },
      "outputs": [
        {
          "ename": "TypeError",
          "evalue": "ignored",
          "output_type": "error",
          "traceback": [
            "\u001b[0;31m---------------------------------------------------------------------------\u001b[0m",
            "\u001b[0;31mTypeError\u001b[0m                                 Traceback (most recent call last)",
            "\u001b[0;32m<ipython-input-40-4f2d7009db13>\u001b[0m in \u001b[0;36m<module>\u001b[0;34m\u001b[0m\n\u001b[0;32m----> 1\u001b[0;31m \u001b[0mtrainer\u001b[0m\u001b[0;34m.\u001b[0m\u001b[0mtrain_loss\u001b[0m \u001b[0;34m/\u001b[0m \u001b[0mmax\u001b[0m\u001b[0;34m(\u001b[0m\u001b[0mtrainer\u001b[0m\u001b[0;34m.\u001b[0m\u001b[0mtrain_loss\u001b[0m\u001b[0;34m)\u001b[0m\u001b[0;34m\u001b[0m\u001b[0;34m\u001b[0m\u001b[0m\n\u001b[0m",
            "\u001b[0;31mTypeError\u001b[0m: unsupported operand type(s) for /: 'list' and 'float'"
          ]
        }
      ],
      "source": [
        "trainer.train_loss / max(trainer.train_loss)"
      ]
    },
    {
      "cell_type": "code",
      "execution_count": null,
      "metadata": {
        "colab": {
          "base_uri": "https://localhost:8080/"
        },
        "id": "odNc5SlykYNO",
        "outputId": "5ee1c52d-0cd9-4602-ce02-20020a701922"
      },
      "outputs": [
        {
          "data": {
            "text/plain": [
              "184.3553924560547"
            ]
          },
          "execution_count": 41,
          "metadata": {},
          "output_type": "execute_result"
        }
      ],
      "source": [
        "max(trainer.train_loss)"
      ]
    },
    {
      "cell_type": "code",
      "execution_count": null,
      "metadata": {
        "colab": {
          "base_uri": "https://localhost:8080/"
        },
        "id": "gNafPhoRkrov",
        "outputId": "67d397b5-87ed-4515-98ff-956c00974e9a"
      },
      "outputs": [
        {
          "data": {
            "text/plain": [
              "26.234943389892578"
            ]
          },
          "execution_count": 42,
          "metadata": {},
          "output_type": "execute_result"
        }
      ],
      "source": [
        "max(trainer.val_loss)"
      ]
    },
    {
      "cell_type": "code",
      "execution_count": null,
      "metadata": {
        "colab": {
          "base_uri": "https://localhost:8080/"
        },
        "id": "y5HakNoxkuZx",
        "outputId": "7338c585-878d-475e-94fe-fb5841d3536b"
      },
      "outputs": [
        {
          "data": {
            "text/plain": [
              "[30.62109375,\n",
              " 32.2578125,\n",
              " 31.484375,\n",
              " 33.07421875,\n",
              " 32.9765625,\n",
              " 33.17578125,\n",
              " 33.234375,\n",
              " 33.04296875,\n",
              " 32.88671875,\n",
              " 33.34375]"
            ]
          },
          "execution_count": 43,
          "metadata": {},
          "output_type": "execute_result"
        }
      ],
      "source": [
        "trainer.val_acc"
      ]
    },
    {
      "cell_type": "code",
      "execution_count": 22,
      "metadata": {
        "colab": {
          "base_uri": "https://localhost:8080/",
          "height": 232
        },
        "id": "UoqKUc5QjlDQ",
        "outputId": "0c79d74d-fcb7-4518-abc2-0baa4d237d08"
      },
      "outputs": [
        {
          "output_type": "error",
          "ename": "NameError",
          "evalue": "ignored",
          "traceback": [
            "\u001b[0;31m---------------------------------------------------------------------------\u001b[0m",
            "\u001b[0;31mNameError\u001b[0m                                 Traceback (most recent call last)",
            "\u001b[0;32m<ipython-input-22-b576adfa3da0>\u001b[0m in \u001b[0;36m<module>\u001b[0;34m\u001b[0m\n\u001b[0;32m----> 1\u001b[0;31m \u001b[0mtrain_loss\u001b[0m \u001b[0;34m=\u001b[0m \u001b[0;34m[\u001b[0m\u001b[0mx\u001b[0m\u001b[0;34m/\u001b[0m\u001b[0mmax\u001b[0m\u001b[0;34m(\u001b[0m\u001b[0mtrainer\u001b[0m\u001b[0;34m.\u001b[0m\u001b[0mtrain_loss\u001b[0m\u001b[0;34m)\u001b[0m \u001b[0;32mfor\u001b[0m \u001b[0mx\u001b[0m \u001b[0;32min\u001b[0m \u001b[0mtrainer\u001b[0m\u001b[0;34m.\u001b[0m\u001b[0mtrain_loss\u001b[0m\u001b[0;34m]\u001b[0m\u001b[0;34m\u001b[0m\u001b[0;34m\u001b[0m\u001b[0m\n\u001b[0m\u001b[1;32m      2\u001b[0m \u001b[0mval_loss\u001b[0m \u001b[0;34m=\u001b[0m \u001b[0;34m[\u001b[0m\u001b[0mx\u001b[0m\u001b[0;34m/\u001b[0m\u001b[0mmax\u001b[0m\u001b[0;34m(\u001b[0m\u001b[0mtrainer\u001b[0m\u001b[0;34m.\u001b[0m\u001b[0mval_loss\u001b[0m\u001b[0;34m)\u001b[0m \u001b[0;32mfor\u001b[0m \u001b[0mx\u001b[0m \u001b[0;32min\u001b[0m \u001b[0mtrainer\u001b[0m\u001b[0;34m.\u001b[0m\u001b[0mval_loss\u001b[0m\u001b[0;34m]\u001b[0m\u001b[0;34m\u001b[0m\u001b[0;34m\u001b[0m\u001b[0m\n\u001b[1;32m      3\u001b[0m \u001b[0mval_acc\u001b[0m \u001b[0;34m=\u001b[0m \u001b[0;34m[\u001b[0m\u001b[0mx\u001b[0m \u001b[0;34m/\u001b[0m \u001b[0;36m100\u001b[0m \u001b[0;32mfor\u001b[0m \u001b[0mx\u001b[0m \u001b[0;32min\u001b[0m \u001b[0mtrainer\u001b[0m\u001b[0;34m.\u001b[0m\u001b[0mval_acc\u001b[0m\u001b[0;34m]\u001b[0m\u001b[0;34m\u001b[0m\u001b[0;34m\u001b[0m\u001b[0m\n\u001b[1;32m      4\u001b[0m \u001b[0;34m\u001b[0m\u001b[0m\n\u001b[1;32m      5\u001b[0m \u001b[0;34m\u001b[0m\u001b[0m\n",
            "\u001b[0;31mNameError\u001b[0m: name 'trainer' is not defined"
          ]
        }
      ],
      "source": [
        "train_loss = [x/max(trainer.train_loss) for x in trainer.train_loss]\n",
        "val_loss = [x/max(trainer.val_loss) for x in trainer.val_loss]\n",
        "val_acc = [x / 100 for x in trainer.val_acc]\n",
        "\n",
        "\n",
        "plt.plot(list(range(trainer.max_epochs)), train_loss, label=\"train_loss\", color='blue')\n",
        "plt.plot(list(range(trainer.max_epochs)), val_loss, label='val_loss', color='orange', linestyle='dashed')\n",
        "plt.plot(list(range(trainer.max_epochs)), val_acc, label='val_acc', color='green', linestyle='dashed') \n",
        "\n",
        "plt.legend()\n",
        "plt.grid()\n",
        "plt.show()"
      ]
    },
    {
      "cell_type": "code",
      "execution_count": null,
      "metadata": {
        "colab": {
          "base_uri": "https://localhost:8080/"
        },
        "id": "k6zCNxttkHso",
        "outputId": "d1bdf067-2411-4deb-ca0b-89659f5393ab"
      },
      "outputs": [
        {
          "data": {
            "text/plain": [
              "torch.Size([256])"
            ]
          },
          "execution_count": 45,
          "metadata": {},
          "output_type": "execute_result"
        }
      ],
      "source": [
        "X, y = next(iter(data.val_dataloader()))\n",
        "preds = model(X).argmax(axis=1)\n",
        "preds.shape"
      ]
    },
    {
      "cell_type": "code",
      "execution_count": null,
      "metadata": {
        "colab": {
          "base_uri": "https://localhost:8080/"
        },
        "id": "oYTLAiK5oRiE",
        "outputId": "f5db0955-b156-408d-c4a2-496c63357c47"
      },
      "outputs": [
        {
          "data": {
            "text/plain": [
              "torch.Size([256])"
            ]
          },
          "execution_count": 46,
          "metadata": {},
          "output_type": "execute_result"
        }
      ],
      "source": [
        "y.shape"
      ]
    },
    {
      "cell_type": "code",
      "execution_count": null,
      "metadata": {
        "colab": {
          "base_uri": "https://localhost:8080/"
        },
        "id": "fxx1E7W7oY90",
        "outputId": "19a68a51-3ed6-4ff2-926f-0fd6bddaae5b"
      },
      "outputs": [
        {
          "data": {
            "text/plain": [
              "tensor([9, 2, 1, 1, 6, 1, 4, 6, 5, 7, 4, 5, 5, 3, 4, 1, 2, 2, 8, 0, 0, 7, 7, 7,\n",
              "        1, 2, 6, 0, 9, 3, 8, 8, 3, 3, 8, 0, 7, 5, 7, 9, 0, 1, 3, 9, 6, 7, 2, 1,\n",
              "        2, 6, 6, 2, 5, 6, 2, 2, 8, 2, 8, 0, 7, 7, 8, 5, 1, 1, 0, 4, 7, 8, 7, 0,\n",
              "        6, 6, 2, 3, 1, 2, 8, 4, 1, 8, 5, 9, 5, 0, 3, 2, 0, 6, 5, 3, 6, 7, 1, 8,\n",
              "        0, 1, 6, 2, 3, 6, 7, 6, 7, 8, 5, 9, 9, 4, 2, 5, 7, 0, 5, 2, 8, 4, 7, 8,\n",
              "        0, 0, 9, 9, 3, 0, 8, 2, 1, 5, 4, 1, 9, 1, 8, 4, 2, 1, 2, 5, 1, 0, 0, 0,\n",
              "        1, 6, 1, 3, 2, 2, 6, 2, 1, 3, 5, 0, 4, 7, 9, 3, 7, 2, 3, 9, 0, 9, 4, 7,\n",
              "        4, 2, 0, 5, 2, 1, 2, 1, 3, 0, 9, 1, 0, 9, 3, 8, 7, 9, 9, 4, 4, 7, 1, 2,\n",
              "        1, 6, 3, 2, 8, 3, 6, 1, 1, 0, 2, 9, 2, 4, 0, 7, 9, 8, 4, 1, 8, 4, 1, 3,\n",
              "        1, 6, 7, 4, 8, 5, 3, 0, 7, 7, 6, 6, 7, 0, 7, 8, 9, 2, 9, 0, 5, 1, 4, 2,\n",
              "        5, 4, 9, 6, 2, 8, 6, 2, 6, 4, 9, 7, 4, 5, 5, 4])"
            ]
          },
          "execution_count": 47,
          "metadata": {},
          "output_type": "execute_result"
        }
      ],
      "source": [
        "preds"
      ]
    },
    {
      "cell_type": "code",
      "execution_count": null,
      "metadata": {
        "colab": {
          "base_uri": "https://localhost:8080/"
        },
        "id": "tGUwJ3bWoagY",
        "outputId": "edc3fc30-8335-4937-ddc6-012a4ad20190"
      },
      "outputs": [
        {
          "data": {
            "text/plain": [
              "tensor([False, False, False, False, False, False, False, False, False, False,\n",
              "        False, False,  True, False, False, False, False,  True, False, False,\n",
              "         True,  True, False,  True, False,  True, False, False, False, False,\n",
              "        False, False, False, False, False, False, False, False, False, False,\n",
              "         True, False, False,  True, False, False, False, False, False,  True,\n",
              "         True,  True, False,  True, False, False, False,  True, False, False,\n",
              "        False, False, False, False, False, False,  True,  True,  True, False,\n",
              "        False, False,  True, False, False, False, False, False, False, False,\n",
              "        False, False, False, False, False, False, False, False, False, False,\n",
              "        False, False, False, False, False, False, False, False,  True, False,\n",
              "        False, False, False,  True, False, False, False, False, False, False,\n",
              "        False, False, False, False, False, False, False,  True, False, False,\n",
              "        False, False, False, False, False, False, False,  True, False, False,\n",
              "        False, False, False, False, False,  True, False, False, False, False,\n",
              "        False, False, False, False, False, False, False,  True, False, False,\n",
              "         True,  True, False,  True, False, False, False, False, False, False,\n",
              "        False, False, False, False, False, False, False, False, False, False,\n",
              "        False, False, False, False, False, False, False, False, False, False,\n",
              "        False, False, False,  True, False, False, False, False, False, False,\n",
              "        False, False, False, False, False, False, False, False, False, False,\n",
              "        False, False, False, False, False, False, False, False, False, False,\n",
              "        False, False, False, False, False, False, False, False, False,  True,\n",
              "        False, False,  True, False, False, False, False,  True, False, False,\n",
              "        False, False, False, False, False, False, False, False, False,  True,\n",
              "        False,  True, False,  True,  True, False, False,  True,  True,  True,\n",
              "        False, False,  True, False, False,  True])"
            ]
          },
          "execution_count": 48,
          "metadata": {},
          "output_type": "execute_result"
        }
      ],
      "source": [
        "wrong = (preds.type(y.dtype) != y)\n",
        "wrong"
      ]
    },
    {
      "cell_type": "code",
      "execution_count": null,
      "metadata": {
        "colab": {
          "base_uri": "https://localhost:8080/"
        },
        "id": "ZUSZXZcCpmct",
        "outputId": "e1b80798-b070-4058-cfbd-fd03b83578f2"
      },
      "outputs": [
        {
          "name": "stdout",
          "output_type": "stream",
          "text": [
            "m1 = {('d', 4), ('b', 2), ('c', 3), ('a', 1)}\n",
            "m2 = {(3, 'c'), (1, 'a'), (4, 'd'), (2, 'b')}\n"
          ]
        }
      ],
      "source": [
        "name = ['a', 'b', 'c', 'd', 'e']\n",
        "roll_no = [1, 2, 3, 4]\n",
        "\n",
        "m1 = zip(name, roll_no)\n",
        "m2 = zip(roll_no, name)\n",
        "\n",
        "print(f\"m1 = {set(m1)}\")\n",
        "print(f\"m2 = {set(m2)}\")"
      ]
    },
    {
      "cell_type": "code",
      "execution_count": null,
      "metadata": {
        "id": "yjYzT6m1qbk0"
      },
      "outputs": [],
      "source": [
        "d2l.FashionMNIST.visualize??"
      ]
    },
    {
      "cell_type": "code",
      "execution_count": null,
      "metadata": {
        "colab": {
          "base_uri": "https://localhost:8080/",
          "height": 178
        },
        "id": "QXRJ29z5oooy",
        "outputId": "2e6561e9-ff78-43f0-de45-7f260702008e"
      },
      "outputs": [
        {
          "data": {
            "image/svg+xml": "<?xml version=\"1.0\" encoding=\"utf-8\" standalone=\"no\"?>\n<!DOCTYPE svg PUBLIC \"-//W3C//DTD SVG 1.1//EN\"\n  \"http://www.w3.org/Graphics/SVG/1.1/DTD/svg11.dtd\">\n<!-- Created with matplotlib (https://matplotlib.org/) -->\n<svg height=\"117.689543pt\" version=\"1.1\" viewBox=\"0 0 687.5 117.689543\" width=\"687.5pt\" xmlns=\"http://www.w3.org/2000/svg\" xmlns:xlink=\"http://www.w3.org/1999/xlink\">\n <defs>\n  <style type=\"text/css\">\n*{stroke-linecap:butt;stroke-linejoin:round;}\n  </style>\n </defs>\n <g id=\"figure_1\">\n  <g id=\"patch_1\">\n   <path d=\"M 0 117.689543 \nL 687.5 117.689543 \nL 687.5 0 \nL 0 0 \nz\n\" style=\"fill:none;\"/>\n  </g>\n  <g id=\"axes_1\">\n   <g id=\"patch_2\">\n    <path d=\"M 10.7 106.989543 \nL 81.934043 106.989543 \nL 81.934043 35.7555 \nL 10.7 35.7555 \nz\n\" style=\"fill:#ffffff;\"/>\n   </g>\n   <g clip-path=\"url(#p97c6fae5b4)\">\n    <image height=\"72\" id=\"image9522d671de\" transform=\"scale(1 -1)translate(0 -72)\" width=\"72\" x=\"10.7\" xlink:href=\"data:image/png;base64,\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\" y=\"-34.989543\"/>\n   </g>\n   <g id=\"patch_3\">\n    <path d=\"M 10.7 106.989543 \nL 10.7 35.7555 \n\" style=\"fill:none;stroke:#000000;stroke-linecap:square;stroke-linejoin:miter;stroke-width:0.8;\"/>\n   </g>\n   <g id=\"patch_4\">\n    <path d=\"M 81.934043 106.989543 \nL 81.934043 35.7555 \n\" style=\"fill:none;stroke:#000000;stroke-linecap:square;stroke-linejoin:miter;stroke-width:0.8;\"/>\n   </g>\n   <g id=\"patch_5\">\n    <path d=\"M 10.7 106.989543 \nL 81.934043 106.989543 \n\" style=\"fill:none;stroke:#000000;stroke-linecap:square;stroke-linejoin:miter;stroke-width:0.8;\"/>\n   </g>\n   <g id=\"patch_6\">\n    <path d=\"M 10.7 35.7555 \nL 81.934043 35.7555 \n\" style=\"fill:none;stroke:#000000;stroke-linecap:square;stroke-linejoin:miter;stroke-width:0.8;\"/>\n   </g>\n   <g id=\"text_1\">\n    <!-- sneaker -->\n    <defs>\n     <path d=\"M 44.28125 53.078125 \nL 44.28125 44.578125 \nQ 40.484375 46.53125 36.375 47.5 \nQ 32.28125 48.484375 27.875 48.484375 \nQ 21.1875 48.484375 17.84375 46.4375 \nQ 14.5 44.390625 14.5 40.28125 \nQ 14.5 37.15625 16.890625 35.375 \nQ 19.28125 33.59375 26.515625 31.984375 \nL 29.59375 31.296875 \nQ 39.15625 29.25 43.1875 25.515625 \nQ 47.21875 21.78125 47.21875 15.09375 \nQ 47.21875 7.46875 41.1875 3.015625 \nQ 35.15625 -1.421875 24.609375 -1.421875 \nQ 20.21875 -1.421875 15.453125 -0.5625 \nQ 10.6875 0.296875 5.421875 2 \nL 5.421875 11.28125 \nQ 10.40625 8.6875 15.234375 7.390625 \nQ 20.0625 6.109375 24.8125 6.109375 \nQ 31.15625 6.109375 34.5625 8.28125 \nQ 37.984375 10.453125 37.984375 14.40625 \nQ 37.984375 18.0625 35.515625 20.015625 \nQ 33.0625 21.96875 24.703125 23.78125 \nL 21.578125 24.515625 \nQ 13.234375 26.265625 9.515625 29.90625 \nQ 5.8125 33.546875 5.8125 39.890625 \nQ 5.8125 47.609375 11.28125 51.796875 \nQ 16.75 56 26.8125 56 \nQ 31.78125 56 36.171875 55.265625 \nQ 40.578125 54.546875 44.28125 53.078125 \nz\n\" id=\"DejaVuSans-115\"/>\n     <path d=\"M 54.890625 33.015625 \nL 54.890625 0 \nL 45.90625 0 \nL 45.90625 32.71875 \nQ 45.90625 40.484375 42.875 44.328125 \nQ 39.84375 48.1875 33.796875 48.1875 \nQ 26.515625 48.1875 22.3125 43.546875 \nQ 18.109375 38.921875 18.109375 30.90625 \nL 18.109375 0 \nL 9.078125 0 \nL 9.078125 54.6875 \nL 18.109375 54.6875 \nL 18.109375 46.1875 \nQ 21.34375 51.125 25.703125 53.5625 \nQ 30.078125 56 35.796875 56 \nQ 45.21875 56 50.046875 50.171875 \nQ 54.890625 44.34375 54.890625 33.015625 \nz\n\" id=\"DejaVuSans-110\"/>\n     <path d=\"M 56.203125 29.59375 \nL 56.203125 25.203125 \nL 14.890625 25.203125 \nQ 15.484375 15.921875 20.484375 11.0625 \nQ 25.484375 6.203125 34.421875 6.203125 \nQ 39.59375 6.203125 44.453125 7.46875 \nQ 49.3125 8.734375 54.109375 11.28125 \nL 54.109375 2.78125 \nQ 49.265625 0.734375 44.1875 -0.34375 \nQ 39.109375 -1.421875 33.890625 -1.421875 \nQ 20.796875 -1.421875 13.15625 6.1875 \nQ 5.515625 13.8125 5.515625 26.8125 \nQ 5.515625 40.234375 12.765625 48.109375 \nQ 20.015625 56 32.328125 56 \nQ 43.359375 56 49.78125 48.890625 \nQ 56.203125 41.796875 56.203125 29.59375 \nz\nM 47.21875 32.234375 \nQ 47.125 39.59375 43.09375 43.984375 \nQ 39.0625 48.390625 32.421875 48.390625 \nQ 24.90625 48.390625 20.390625 44.140625 \nQ 15.875 39.890625 15.1875 32.171875 \nz\n\" id=\"DejaVuSans-101\"/>\n     <path d=\"M 34.28125 27.484375 \nQ 23.390625 27.484375 19.1875 25 \nQ 14.984375 22.515625 14.984375 16.5 \nQ 14.984375 11.71875 18.140625 8.90625 \nQ 21.296875 6.109375 26.703125 6.109375 \nQ 34.1875 6.109375 38.703125 11.40625 \nQ 43.21875 16.703125 43.21875 25.484375 \nL 43.21875 27.484375 \nz\nM 52.203125 31.203125 \nL 52.203125 0 \nL 43.21875 0 \nL 43.21875 8.296875 \nQ 40.140625 3.328125 35.546875 0.953125 \nQ 30.953125 -1.421875 24.3125 -1.421875 \nQ 15.921875 -1.421875 10.953125 3.296875 \nQ 6 8.015625 6 15.921875 \nQ 6 25.140625 12.171875 29.828125 \nQ 18.359375 34.515625 30.609375 34.515625 \nL 43.21875 34.515625 \nL 43.21875 35.40625 \nQ 43.21875 41.609375 39.140625 45 \nQ 35.0625 48.390625 27.6875 48.390625 \nQ 23 48.390625 18.546875 47.265625 \nQ 14.109375 46.140625 10.015625 43.890625 \nL 10.015625 52.203125 \nQ 14.9375 54.109375 19.578125 55.046875 \nQ 24.21875 56 28.609375 56 \nQ 40.484375 56 46.34375 49.84375 \nQ 52.203125 43.703125 52.203125 31.203125 \nz\n\" id=\"DejaVuSans-97\"/>\n     <path d=\"M 9.078125 75.984375 \nL 18.109375 75.984375 \nL 18.109375 31.109375 \nL 44.921875 54.6875 \nL 56.390625 54.6875 \nL 27.390625 29.109375 \nL 57.625 0 \nL 45.90625 0 \nL 18.109375 26.703125 \nL 18.109375 0 \nL 9.078125 0 \nz\n\" id=\"DejaVuSans-107\"/>\n     <path d=\"M 41.109375 46.296875 \nQ 39.59375 47.171875 37.8125 47.578125 \nQ 36.03125 48 33.890625 48 \nQ 26.265625 48 22.1875 43.046875 \nQ 18.109375 38.09375 18.109375 28.8125 \nL 18.109375 0 \nL 9.078125 0 \nL 9.078125 54.6875 \nL 18.109375 54.6875 \nL 18.109375 46.1875 \nQ 20.953125 51.171875 25.484375 53.578125 \nQ 30.03125 56 36.53125 56 \nQ 37.453125 56 38.578125 55.875 \nQ 39.703125 55.765625 41.0625 55.515625 \nz\n\" id=\"DejaVuSans-114\"/>\n    </defs>\n    <g transform=\"translate(22.604834 16.318125)scale(0.12 -0.12)\">\n     <use xlink:href=\"#DejaVuSans-115\"/>\n     <use x=\"52.099609\" xlink:href=\"#DejaVuSans-110\"/>\n     <use x=\"115.478516\" xlink:href=\"#DejaVuSans-101\"/>\n     <use x=\"177.001953\" xlink:href=\"#DejaVuSans-97\"/>\n     <use x=\"238.28125\" xlink:href=\"#DejaVuSans-107\"/>\n     <use x=\"292.566406\" xlink:href=\"#DejaVuSans-101\"/>\n     <use x=\"354.089844\" xlink:href=\"#DejaVuSans-114\"/>\n    </g>\n    <!-- sandal -->\n    <defs>\n     <path d=\"M 45.40625 46.390625 \nL 45.40625 75.984375 \nL 54.390625 75.984375 \nL 54.390625 0 \nL 45.40625 0 \nL 45.40625 8.203125 \nQ 42.578125 3.328125 38.25 0.953125 \nQ 33.9375 -1.421875 27.875 -1.421875 \nQ 17.96875 -1.421875 11.734375 6.484375 \nQ 5.515625 14.40625 5.515625 27.296875 \nQ 5.515625 40.1875 11.734375 48.09375 \nQ 17.96875 56 27.875 56 \nQ 33.9375 56 38.25 53.625 \nQ 42.578125 51.265625 45.40625 46.390625 \nz\nM 14.796875 27.296875 \nQ 14.796875 17.390625 18.875 11.75 \nQ 22.953125 6.109375 30.078125 6.109375 \nQ 37.203125 6.109375 41.296875 11.75 \nQ 45.40625 17.390625 45.40625 27.296875 \nQ 45.40625 37.203125 41.296875 42.84375 \nQ 37.203125 48.484375 30.078125 48.484375 \nQ 22.953125 48.484375 18.875 42.84375 \nQ 14.796875 37.203125 14.796875 27.296875 \nz\n\" id=\"DejaVuSans-100\"/>\n     <path d=\"M 9.421875 75.984375 \nL 18.40625 75.984375 \nL 18.40625 0 \nL 9.421875 0 \nz\n\" id=\"DejaVuSans-108\"/>\n    </defs>\n    <g transform=\"translate(26.559209 29.7555)scale(0.12 -0.12)\">\n     <use xlink:href=\"#DejaVuSans-115\"/>\n     <use x=\"52.099609\" xlink:href=\"#DejaVuSans-97\"/>\n     <use x=\"113.378906\" xlink:href=\"#DejaVuSans-110\"/>\n     <use x=\"176.757812\" xlink:href=\"#DejaVuSans-100\"/>\n     <use x=\"240.234375\" xlink:href=\"#DejaVuSans-97\"/>\n     <use x=\"301.513672\" xlink:href=\"#DejaVuSans-108\"/>\n    </g>\n   </g>\n  </g>\n  <g id=\"axes_2\">\n   <g id=\"patch_7\">\n    <path d=\"M 96.180851 106.989543 \nL 167.414894 106.989543 \nL 167.414894 35.7555 \nL 96.180851 35.7555 \nz\n\" style=\"fill:#ffffff;\"/>\n   </g>\n   <g clip-path=\"url(#p89893f2210)\">\n    <image height=\"72\" id=\"image14167a2838\" transform=\"scale(1 -1)translate(0 -72)\" width=\"72\" x=\"96.180851\" xlink:href=\"data:image/png;base64,\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\" y=\"-34.989543\"/>\n   </g>\n   <g id=\"patch_8\">\n    <path d=\"M 96.180851 106.989543 \nL 96.180851 35.7555 \n\" style=\"fill:none;stroke:#000000;stroke-linecap:square;stroke-linejoin:miter;stroke-width:0.8;\"/>\n   </g>\n   <g id=\"patch_9\">\n    <path d=\"M 167.414894 106.989543 \nL 167.414894 35.7555 \n\" style=\"fill:none;stroke:#000000;stroke-linecap:square;stroke-linejoin:miter;stroke-width:0.8;\"/>\n   </g>\n   <g id=\"patch_10\">\n    <path d=\"M 96.180851 106.989543 \nL 167.414894 106.989543 \n\" style=\"fill:none;stroke:#000000;stroke-linecap:square;stroke-linejoin:miter;stroke-width:0.8;\"/>\n   </g>\n   <g id=\"patch_11\">\n    <path d=\"M 96.180851 35.7555 \nL 167.414894 35.7555 \n\" style=\"fill:none;stroke:#000000;stroke-linecap:square;stroke-linejoin:miter;stroke-width:0.8;\"/>\n   </g>\n   <g id=\"text_2\">\n    <!-- coat -->\n    <defs>\n     <path d=\"M 48.78125 52.59375 \nL 48.78125 44.1875 \nQ 44.96875 46.296875 41.140625 47.34375 \nQ 37.3125 48.390625 33.40625 48.390625 \nQ 24.65625 48.390625 19.8125 42.84375 \nQ 14.984375 37.3125 14.984375 27.296875 \nQ 14.984375 17.28125 19.8125 11.734375 \nQ 24.65625 6.203125 33.40625 6.203125 \nQ 37.3125 6.203125 41.140625 7.25 \nQ 44.96875 8.296875 48.78125 10.40625 \nL 48.78125 2.09375 \nQ 45.015625 0.34375 40.984375 -0.53125 \nQ 36.96875 -1.421875 32.421875 -1.421875 \nQ 20.0625 -1.421875 12.78125 6.34375 \nQ 5.515625 14.109375 5.515625 27.296875 \nQ 5.515625 40.671875 12.859375 48.328125 \nQ 20.21875 56 33.015625 56 \nQ 37.15625 56 41.109375 55.140625 \nQ 45.0625 54.296875 48.78125 52.59375 \nz\n\" id=\"DejaVuSans-99\"/>\n     <path d=\"M 30.609375 48.390625 \nQ 23.390625 48.390625 19.1875 42.75 \nQ 14.984375 37.109375 14.984375 27.296875 \nQ 14.984375 17.484375 19.15625 11.84375 \nQ 23.34375 6.203125 30.609375 6.203125 \nQ 37.796875 6.203125 41.984375 11.859375 \nQ 46.1875 17.53125 46.1875 27.296875 \nQ 46.1875 37.015625 41.984375 42.703125 \nQ 37.796875 48.390625 30.609375 48.390625 \nz\nM 30.609375 56 \nQ 42.328125 56 49.015625 48.375 \nQ 55.71875 40.765625 55.71875 27.296875 \nQ 55.71875 13.875 49.015625 6.21875 \nQ 42.328125 -1.421875 30.609375 -1.421875 \nQ 18.84375 -1.421875 12.171875 6.21875 \nQ 5.515625 13.875 5.515625 27.296875 \nQ 5.515625 40.765625 12.171875 48.375 \nQ 18.84375 56 30.609375 56 \nz\n\" id=\"DejaVuSans-111\"/>\n     <path d=\"M 18.3125 70.21875 \nL 18.3125 54.6875 \nL 36.8125 54.6875 \nL 36.8125 47.703125 \nL 18.3125 47.703125 \nL 18.3125 18.015625 \nQ 18.3125 11.328125 20.140625 9.421875 \nQ 21.96875 7.515625 27.59375 7.515625 \nL 36.8125 7.515625 \nL 36.8125 0 \nL 27.59375 0 \nQ 17.1875 0 13.234375 3.875 \nQ 9.28125 7.765625 9.28125 18.015625 \nL 9.28125 47.703125 \nL 2.6875 47.703125 \nL 2.6875 54.6875 \nL 9.28125 54.6875 \nL 9.28125 70.21875 \nz\n\" id=\"DejaVuSans-116\"/>\n    </defs>\n    <g transform=\"translate(118.798497 16.318125)scale(0.12 -0.12)\">\n     <use xlink:href=\"#DejaVuSans-99\"/>\n     <use x=\"54.980469\" xlink:href=\"#DejaVuSans-111\"/>\n     <use x=\"116.162109\" xlink:href=\"#DejaVuSans-97\"/>\n     <use x=\"177.441406\" xlink:href=\"#DejaVuSans-116\"/>\n    </g>\n    <!-- pullover -->\n    <defs>\n     <path d=\"M 18.109375 8.203125 \nL 18.109375 -20.796875 \nL 9.078125 -20.796875 \nL 9.078125 54.6875 \nL 18.109375 54.6875 \nL 18.109375 46.390625 \nQ 20.953125 51.265625 25.265625 53.625 \nQ 29.59375 56 35.59375 56 \nQ 45.5625 56 51.78125 48.09375 \nQ 58.015625 40.1875 58.015625 27.296875 \nQ 58.015625 14.40625 51.78125 6.484375 \nQ 45.5625 -1.421875 35.59375 -1.421875 \nQ 29.59375 -1.421875 25.265625 0.953125 \nQ 20.953125 3.328125 18.109375 8.203125 \nz\nM 48.6875 27.296875 \nQ 48.6875 37.203125 44.609375 42.84375 \nQ 40.53125 48.484375 33.40625 48.484375 \nQ 26.265625 48.484375 22.1875 42.84375 \nQ 18.109375 37.203125 18.109375 27.296875 \nQ 18.109375 17.390625 22.1875 11.75 \nQ 26.265625 6.109375 33.40625 6.109375 \nQ 40.53125 6.109375 44.609375 11.75 \nQ 48.6875 17.390625 48.6875 27.296875 \nz\n\" id=\"DejaVuSans-112\"/>\n     <path d=\"M 8.5 21.578125 \nL 8.5 54.6875 \nL 17.484375 54.6875 \nL 17.484375 21.921875 \nQ 17.484375 14.15625 20.5 10.265625 \nQ 23.53125 6.390625 29.59375 6.390625 \nQ 36.859375 6.390625 41.078125 11.03125 \nQ 45.3125 15.671875 45.3125 23.6875 \nL 45.3125 54.6875 \nL 54.296875 54.6875 \nL 54.296875 0 \nL 45.3125 0 \nL 45.3125 8.40625 \nQ 42.046875 3.421875 37.71875 1 \nQ 33.40625 -1.421875 27.6875 -1.421875 \nQ 18.265625 -1.421875 13.375 4.4375 \nQ 8.5 10.296875 8.5 21.578125 \nz\nM 31.109375 56 \nz\n\" id=\"DejaVuSans-117\"/>\n     <path d=\"M 2.984375 54.6875 \nL 12.5 54.6875 \nL 29.59375 8.796875 \nL 46.6875 54.6875 \nL 56.203125 54.6875 \nL 35.6875 0 \nL 23.484375 0 \nz\n\" id=\"DejaVuSans-118\"/>\n    </defs>\n    <g transform=\"translate(107.471622 29.7555)scale(0.12 -0.12)\">\n     <use xlink:href=\"#DejaVuSans-112\"/>\n     <use x=\"63.476562\" xlink:href=\"#DejaVuSans-117\"/>\n     <use x=\"126.855469\" xlink:href=\"#DejaVuSans-108\"/>\n     <use x=\"154.638672\" xlink:href=\"#DejaVuSans-108\"/>\n     <use x=\"182.421875\" xlink:href=\"#DejaVuSans-111\"/>\n     <use x=\"243.603516\" xlink:href=\"#DejaVuSans-118\"/>\n     <use x=\"302.783203\" xlink:href=\"#DejaVuSans-101\"/>\n     <use x=\"364.306641\" xlink:href=\"#DejaVuSans-114\"/>\n    </g>\n   </g>\n  </g>\n  <g id=\"axes_3\">\n   <g id=\"patch_12\">\n    <path d=\"M 181.661702 106.989543 \nL 252.895745 106.989543 \nL 252.895745 35.7555 \nL 181.661702 35.7555 \nz\n\" style=\"fill:#ffffff;\"/>\n   </g>\n   <g clip-path=\"url(#pbed2a53c95)\">\n    <image height=\"72\" id=\"image84cb013ef3\" transform=\"scale(1 -1)translate(0 -72)\" width=\"72\" x=\"181.661702\" xlink:href=\"data:image/png;base64,\niVBORw0KGgoAAAANSUhEUgAAAEgAAABICAYAAABV7bNHAAAABHNCSVQICAgIfAhkiAAAIABJREFUeJy9nMuPJUmW1n92zMzd7yMe+aisrOd0dat70DCDYIGGh1ggISEWrGDJkg3iv+IfQIDEghmxgJEGGubZDMNQQ1dVV3dVVmZlZkTcl7vb47Awc783IiN7ZmgNLoUiMq5fv2bf+c453znHIs0/MP9UuXsZA0bIf+fX+NnfXxJWSlpmtFHclWX9pcFvlYd/eIP+/v9E1mv45APSWcezv7Vk/PUNTRNxkrGiHEZP33s0G1BQrd+zATWQ6heAlOWYJiNNKj/XZaXRogdbfreK+DaiCpoFgKYNdE3g9ecP+MG/2mN+9CkaIxoj9t0nvPyH32PzkSEtlLhSVMAkMArnf2p471//mPjsm1tQuDfA+QUurfv9f7rMiZ3MvT/+2Y8wIObkTSL33PTmvxVQY8oD7lxvAmQM0raYpmE494yXmbTK0GSMy8QM/SNHXBjSukEA03Uc3j+jf2gZHipniwFvM2O0DNGSs0FMsVhhj5bNSLr10aqmfoHzibYNGECMYoxyGBoG8aAgLqM6LVkxolwsD3ywvubV5Ypw3tCdn5F3e3SzwThH/8DQv5PBKmq1gGMVRInrBroW4xs0JcjpbQAJZrXENA3jmSU9DLSrEZGyyMEqQzbEnRDOHC1glh3b9x37dw3hceDxck/G8G1YEYJDFcTmsvlsyGqwNtO1ASsZZzNWMikLfXDkLCyawKoZy+smY4yyaVpuXEdKQkpSXLSC41zivdUNf/38p/zk4QOGy0e052tMyrDdgneMD8A/3Zf3DxZjwHWBpkmM5x5dtJiuhX5A3waQEYNpGlh0pMZgrCI1LkzW5ZTGlcqxK76NU6IKWQ1JDTkbTHUfYxQ1FNaduNSROUcGpWwIWYhZSJIBCKmwcbonq8GoASng5+rfxijZGbTxiLOzZ2RbgNRsmLhbmJwLu0UwVlA5bu5NgJqG/O5DxocLhkuDuGK9cfCkKOhgkcEgAUyqwHUN/WMYnkZsm/h2uwJgHB2aDVrd2xjF1eepGsbgKkCQc1mUZkGBcfBsTVdckhonspkD/RzsjCLOENWwCR0vw4qYLKwM4fGSph/AlFikFhqXCMFCMiiQKxsxkJcety6s02F4i4tZS1w3jBeOtCj+D2UDGgSiQaKZo3/5YEtcKm4dMJIZq1vlVJgkdSOFbIpIJiUhRgE15CzkdCdAnoIxfTfH58yXGLLJgBCS5ZAbUjYYD3FhaRp/QpXCFmMqwFqxnozgLXiHscfgfg+DPP2Tlu37luGy+Pet4G4gNwrZkG19wRpyp6yWQ9lsdYOUBE0GtYpoiWFBDcaUe1KwqJo5yKKgSVCtjHP5Flv05GcjJ0ApaIYhWW5CB8B4bugfWrpvW4wYVAypVR4uD8RkGW0DuWJulOyV8cIjwxm2H+Dq+i0AdR2bDy0338voOrJ0tzMNVsldRo2Qm6KX1Al5lXhnvWMztOz6BlVBo6CjoE6hSQXdWPeUpDBSgTYhPhcXSqYwpklYl6vxFYwW8GOxrtgCeM6GPFo0K/3ouRoXqBqGhwoIi29bWiNgLXmZ+Hj1mpAs202HJsFURuVW2b/jULtkdbOCrytB7wKECKkFXSSMz0fLVfZQF3tbtxiwysIFvE0z447x4nhbeZ45PvPk0Xd/YSTXr8LiW/fU1F8eSGH0rSANqQF1priMlDW2NmJr0D+91CqphdgZ8G5e7D0xSIhL8OcDqGEY/OyvxmY0CyYIMggSI2hGneCXIx8sr4hZ2PYtSSo7kgGnWJvBKGqKC2EV9cWFTL316FYG6zJtG2dXzbkEVaZgngzZgkaBUWb01n5g3Y68XiVisISVZblekZcNWMWZRFZTmJhMSQqaoMkc3nGkzrL6WTcb402AREidsl4OHIaGuC8lgrElTihgokESUA2hYmjbwCO/46VfYaVkKhRM3ZjYjIiSEkf9csK02fpWQRXrEt6mkr5z1RVVR5V1GsjlvSaa+itlZUeWfoQmkzohtgbTdeTGFckysS6X8maSFsZnwoWizpAWbgbm3lJDDdgqDOd6CX1D/6gz2LMzxtYCgaCWfWzoR08MtuzJlffFaDHcdq+jy9WNGq2uVTLgYWjm16c4NAVnI0WfqcuoL5Eiq+E6dPRxylzH9RpVNAqH5AnJzm5/y1Xvud4ASMVUvRDZG19cJBtwJUVn0cnjGNfC6uk7jBcOVcNN7LgeOvptO7MOF4sw27sj+lPKrgucU65VbJcwRomjJWyqWywizqdSrthCW+cTziWSE0IFLavh6905m74tbJMTuZQURuHlsGKIbgZQTHH/OSveweqtxepMlJPAZ07cotQxoI0vqlUhZktItmSiGmeMVBZOAXt+7hufVCv9wiytLkA2aHcUhTMjTGWQ1u8UrdYHV4QflM5AXfDkBH3yxHSC3Ol1D5HeTPNZkQSH6YOqPjFWcT4VbeMUtZCtQb1FpYi9Q/KIUaQpsWPOPlbRrPOii+Y5EYInWkujlDIgSolfVtEMqQbUaRM5CQFI0ZJC2XCoBlQ1uFUgtcJ41qGrBbmxmGjYji1DcBBKmVISQKnrjJb2xylQbzJIFRNhCJ48AQRYm3EuEa0lWEVtcUWclJZOMvSpPM66WphOoBvAViXtMyL5mEkq+Ea0ZKbRHt1aJ1ZN2WYSjFV912foWGJKskIQi4iyXA4oEFcdumjIjYVs2I0N4+gwQYp3p5IENNfqIBeSvAmQWIy1aONRB94mgthbVJyCrInHzJGdFKDUENWWRdfG0BSMTwOzZsjGzG43F78cJf+kt9SV7+TjJqgZEKgtlPI1va/UeTAGR86GJlGM6QzqM6tm5MZ2zErIMIcOtfXrvmJVVktkvSI8XBHXmYerPUkN46aZb7a1arY7we1LXyctHakpqXKIrrQrRnt0n9PLVAWdFU0CoQLpcunLTODY0hUo7gIaDRrc8Xmi4EvgNqKkep+1RRWnKIS9hyAs+lJjpVaQ88D3L16wGRpesyylRg3S0iTiooST3NxTixkr0LVoU2JMayN2VqpmDtKqYCOlmlfIXsi1o5Axc8+HzO2MNdVauUri09fTiUw+SePGFvZoFXV3sJ6DdJ7lwbRGA0GQXjCpMCI7g/OJS7+n8/HNZxklOy1Z/KS+uB2DVAuqwXAzdIxx6qWUTNG4VBZVpdGURtVC2wUetHu2XUPfNSVOTLHk9COSgSnLTFnpns5oubne1qTCtGQgFlDTaOnVoLmwEkBaRbxiJIMcu4YmKxKVFC1XYUnKgjYZksEAcWp5TB2KnxekTVZkMOyGpvRNtPi8tZnWptIZFCZhCwLZGdbdwNPuhn1s2A8NKQvjaMlZjvFIQWMNwqa4ETX9zkyrn0fdPAasLzVZCpacXGHVIKShIlvfkxuDSEZESilTn2+SYrKSRuE6dCVGNhmtAIVg0Zo1ybfLzDeF4qn6NEcrqxpilttFpqE0uwWcZBY20EiswTNjrWDMseDVXCWCatFIJ82zY8qbPvvoNlOZknMFNesd1hWV7Vya3We0zZHpE4mzYUyOdF98PD6G000eATKCOltaFw5aHxmjZazBMyVhP3pStCVjTy7mIDu47A582LzmeXOGsxlRaF1RxWIUW1N7YaabNzP9XtWUNmttq4qU900Ne2OU6C2hiRijtD7S1FZM1jIUeLzc8U635UW/5tPBM2ZD9sxajWC4Ghb0Y60Q1GAEvE/E0ZUUn97GIDHMPQWrOClWm0RdrovXdKJMKQxSC0s3cmYPNFI2YA10rgDgJOMlzRvpbaJxiXUzYk3tJ1MYuhsbYhKsKM7e7kV5m2kq6GftwMqPtwB6t9vwbnuDoHzuHxJcntO2ClCbaulUSdf4OhXXqCkMfROg0m7M1tyi+Vxd24y3CXF1fGNL7CkLKPcnFcbsCNHOi3ZagB2MI9efpwp6uiZwUh0AToXyzPx6b64sM4YS4+qzcl3wLjbc2I5NbImxdjMF4rKkeUyeP2PKllINaKzW2Kp1uHYHIGOF7C3ZC1oXZ2twBvAu0fqIdYnotaRPZ0i+LCKrIajlkDz96Gc3drVlEfMxaBgga0YoLhQmdlJ74Heq68kFsx7BClkwyc1AlfWWtb4elsTgYBRUIKwtYVHfFwuoJUEo3ie8S6VPLtwqcG8zqFBmbhHMvl+RdjbhJWNtJlhgepicMOhOvi4FZC0JKkDmLQDcd+md30+jHbkF2rGXdMqmWbkLZG/IDqgDAxGd+1EiircJa5UoRQedNuHf1EGUBy1cIFWXMKY0ux91O5Iavlp1RGOJC0tqSyCcGlGNRBofZ1AypcqexjrT2Of0moJxUkPKQsrHzUNR8Fb0DUCm58Qk830X/kAffW3NQOqU4cIwnhnaBz2fXL7ip5tLhkPpGS2awKPFnjE6+kVHikVUljbniclV9QSgUot5KXHH28SZ73nc7Lhoe6RLaJvJzdT3VVyltzeZ1kd8DbBTuzRPbdN70uucrSgDw1QHhiFaYpLZvXJNFhOzJqOkGr+cZNZ2oHMBsUUsZg9hZYgruFwf+HB5xUXbz6q7c5Fz37NqRkyT0KbWgG8wKCsm5tJYykdLpSxYyYzZsUsNQzrWRCaBHUHGUskPuVhlBiefNMdPJhSqhpiEQ/TzyHmaxJ5uXlyaXX3qDmht7Jy63wSUM4lWIs7kWZhOLQxT665WivGm7ByysI+eProy5UhmHojeBihGTD9ihwzJEbIlVMtkLX0UMco++CrsDHaEZpMZ9pbrccF1WpAxLH0g1MlBygZvM50rAu760DGE0oHcnriJmMqeuvHWJVbNWLTT6InJzjO3u4c2pmd0NnLhDqzcUI1uMFPdGMFL5qHbsXQjziVyEobgeL4/Y9u3MAoymtLu0HwHIM2Q8y305pdqFhqTPabJuSlfvgoDak2EzgIxYbCSaW0kY45sUCVlma2v5jYrStzJGDWnWXdez91r+jwxJ6ydmJ5PeipMCajsQStz08SefHzfLYC0H2CzxfYXIJ4z35PVFNVJcZvGJpY+0C4Coyip8+XQQgutjXQSEMrhhZAs+9ETY7G8PQnMUk90LJpQTowExxjdySZvG6mpgjMkwZhy36ypZnCgT47XYcUmdLX7WDNanQBvh4Yv+4fcjF1tc0DXBM6bgY3tMKPB9gaJ97hYHgNGd5hDANNx0fSM2eGqDmok0UiktZFlNyCSCYuO2BlyA41NeDPFnhJkx9ERxvIRrY9Hd6oqeeEDYpQxFnVratyZSospWzU2gU1YsbcYFGqXUWrTa8yOq7hkH5tbzbdJhvSj51l/xj4082d0LnLRHngmZ8hosANIOLLwtoulhNFSJE4ibtpUpgTtqEKscl0FUmtIjdJIxJt06z1TEVrKFEFq0Tu9HpItfZh8nMefBuXpdTkBbNJVxRBH/WOFOdBnaidgqhmr2r9vvOPq+SNn07F9c68OUq0nq8pEv7WxbNqWGipmKa2M4Dn0nhQsNMrwwBDOlTM/0EooWaTGD9XSq4nBsTdH15oGgruhmTMlk6tUzZOyzKC2rjwzJjur9ElXiRQ1rJqJWYjZMiZLDhYTytGbuIC0UJYu0Uiqg82y7dZGznxP5yNXXlH/ZzbMSm4USsE6ddug1Fop1ylAErDlg7XNNBKxZMSUEsLcfWyuzSM7AUBtn0yHrMq9UlmUKlvU6Bwzc33OPIlVQxl9HzsCU1dzmupSOw7qioFOY9wU87zJ2Km/bbi/FpsvMRinnLsDN7GttVLJYBPll8uB3AlhEUiPLZfrA5f+AMDaDry7vKFPntZF+uiwRmldRCjfnUlELZZOWkVhraecnJzomAEuC174SHO+q8s81oveFtc+a3oEZeUHVg8O9AtP2Dvi0qKNYkXZhpZD8HPMG5NlyI5D8Lit4LdgD8cuwv2HOH3mgd/xMqzmBU4B0Urm4fJQZH1z4KLpWdmRd/0NAA/8bn7UJ6uXc1U/BfDCBENCGHKp8A+pYciWMTv2sSFmoZHE0o1EFa6HBUNyrJuB86bHmczKjbRSpMOknabroun5zsNXDMlxdViw2bdzzbWLDUN0pGQwxhCyZciW/eBpbgztlWL7OLP2/tm8QsiOfOKMYpRcLdy5QGMTXY1TThJ99ojJhOxm6wrp1uB0Ame6LBlrIEuc2RCzIFgaWzqTcqf1N7mImIyrPSZnpmfXGb3JRQyaTGhKuXKaGFKuQ8g7x2BMKoKSfF8WO0EnD5aXYcUuNqWnM/VMjHLWDLzbbWglckieTeg4JE/MFicJS57dZAIkq2HIfrZ2VkFMpq3AtBJY2JGgloUtRXLMlnDSKsharL0NLc6UBpw15TjLwgZsnXQlhIWOeEkkNTxo94S1pU+OZ7tzNkM5XJGiYGqsWdhQDDSA6xUT0s9hUFZIhm1qiZMyrn5uq2UeNju8SQRdE2NLzoabWBiwsIGVGW4BNGTPIRWAQi7NtGms5Ko0aCXitWiprIaDacjJI+gsMaZsikDItrDXgDdp7gV50qzosxrE9YhRNrHj+f6sMKgeDZz3Vt9rEkjUt9Ri844y5mD5cveArGYuPFsb54r91bjCSyqbri4TsyXfcYkpNuSTEmSy1pTtAIKWBFB0lj0yqA7cLpoDZ74nqp0bb2Iy3mSyCjexm5mwlBFMnt38kBoOyTNkR+siZ91QGnb1+F1Wwy41hNGxGBTXK8Q0dzbeHPvEhL8x/OT1A9bdwOPlrvR4bMKZTFThRb8mY2brZzWMWjYzZssuNbMFoajwhQ2zW82Ku3ZbDskzZjcDk08ClzOZp92GhR25Ckte9OvCFJNpJXDIDa+Gsp4n7aYARIlvGGGXGr45nJHVsHCBlRtpbLp1DO967IiDw+8Ut0uYMfwcBqlisiFGmYvJ09ooV61RvtdOOLxx33yvGpzJs8Wn+6bXssrMlkmpn4JbphsZbxJe0q1iNCGzcp7YV+KckDg5zD49C8VJEYvTRMTVNakW95IxFQa9FaCJSbW+mViyjw1jsjQ2sXYDYoqm2IQOL4nH3fYY7KrQ24SOqEJrI2tb3lP61g1DduxiM5/Kz3fccSp4y1Sk6KaQLUsXZtYdkp83iSlx6eW4vgWiN5nL9lBYnhxjdbWnboOYzKN2z7k78HvuI7pXEf/sGt0epcr9AM09mjr+McoQHbvQsG4GVl3JEjeh4xA8eGglzSAAcwM/JsGZPIM3RFeEWfLchK6k9XvYNyTHEB1WMvvYzMAvbCCrYRNb9rGhkcjaD0UiqBBTMzMFwEnizAzltSyMybN0Ixe+p7WRh37HhdtjBNxmhJdX5P3+5wCkioyGYXAcvGdMbv6waRNDdYfOBi67MgvLajjkpha5+RiY68KvwhIxmUM6smYyQFPrNyjlR1YhSwJXJhVOSikwPRuKkKRqneNrk2HzLSZDSRhRSz9rrAbKGLbSFlccBRMyOo5vmYtNV8r4HfTXDXtRDmee1hU/n46/3IwLnCQeNAc+WrwmqOXVuGKXGlwNxFOgdSZzSJ7XwxJgFoAlNhUhOanxjCmsUqGjZrua+SYjWaPY2lqdDBGqMXyNdVBctcQmqeyxDNFxiP5ooKjsYlmz2Tlk15P2+7eMnk8ZFEB6Q4oyB8BTC0UVyOAlce569rmZrY+AnJbDlIA71pQt5igkj4pbaSUwVDUulV3T/Xfdb/q9N6nAeFfxn4x/Tlsgp7+bXLvHF0MlUxT0nanCm4cX+p6zLyMSLNe5hQ/KWDmK3DpBlo3h0u355e5rrtKSXWy5Me1s5WnjmKI1XNUctzdZB4cq3MRFXbi9ZZSsdlbe9hZQflbl03NbG2k0zqxJauiTp696zUvC+jy7dQGruPQ9NngLQIee1ecbmpsFw4MOQelsIIuQNTJWuR+zcOEOfLd5zot0xk+GR4T6YVFlDpS2AjAxUE4SwCQUY7bEyrAJnOnnsigAe+s9Y33PqWaKKqTaXh1rIbyPDbtQSqaVH+d456rh+prZii3vaai9AVBKyH7AOcH2HWM+WrCV25qnz56rtGSTFoQTSy+moF6DalsrcyhZZZL20+amTc+lCObe16fPPq6hKrHqYp0NnNeJRmacA/ShHiw/lRMLG4gqvOxXXA8dtjdvuNf9AI0j+rNnyDeO7lfOOQTPmC2P254z17OJHfvYkDF8M57z3813GdRxE0twvXADj/2WpFJBM6VH1NbRTG3sB7VsUzu7XyeBkC03cTG3Qabga0+YMwHkJc2lyMTY97obPmxeIyazkgLUj3Yfsg3t3CePuWHpdrzb3rBNLT+8+pjDszVnzwycKOi3AoTqrAPcoByirS0IpZPAICXtj9kxJMfruCRooXtSg6WUAAD71BKweJMKMJMiNokh+xnAVspEJBjLPjfHHk++y5rbbQiRUsiSy2tLGbmwOxqTOLO1gVdFba597omVnZQ/nRgGj7sR/F4h3fnTr1sAGVOOAWed/+LX7xJffVsq4OW7gffbq7kxP7UZLtyBpMJSRhLlu+XIFq/HSjursM+uuJLamSkX7sADt2OfGzapHJFrRPGun/VVyBZvMgs7zg240yacNZn3/BWXthg3qCslhxahKvbIQi+JfWp4Ppwhny94/AfK8puRvDsKxDcAMtZinCvN+7GkO7+N+Gcd23HNq8sl3XnAm1K0IrCwIxf2cMuyubqWmExrMpYyPAxqCdlxnRZziTDFLG8Sj+yWzjS8lhUxC2s3sLY9ITueByFkSyuBB25PJ4ELu2clA2IynQnY+r0zgV49L+I5vfrqwgXIRhJOyvr3ueFFv+biU7j8zf+NjoG83b4dIM23G+0AMiSaa4OK5RD9WzXJfde0+VNwgk5a6ESrqMzBfp9b+up6ffZ4U3o73iRW1VUGLQfEWwl4jdjaEbCqIGWwELC1kL2tx5wk2lrwTn9XYoOiuz2a3tRAtwBCc73pxM9/+pKnP3TsnzR89ckF9n3FTiBpqbd6LSnydnu2KtzcVHDsLCZbKYXrkF35ewsV/tfuXf4wf1Dey+26bGEDnyy+5bHf8LPxAZ9unwDwpNvwwBWXmOLK5HbeJJZyLI6nsubSH1jbgW1quQoLtqFBQhmanu77foAoKb78UNPu9Q3tZxbpH/Ds4G81uQpLDCG7eZGTtaFYcmLDVJxOAHmTyMZwqEy7Gpdc9QusZM6aYZ56xCycNz1LO/DE3fA8nHM1LupRl+MBzqnJ5mufeikjT5pMR5hbKlLLk8k4Yy7j7jYdY+7PB0iVOW1MVwjo7oC7WSAvHvIbL36FzgUu/IGHEnnkdyztUINvc7RmjUPb1JbxtUlc+kOdm+mtID3UVG0l00iis4FGElFTaa9ME1syj92GX7v8agZ8E7oSsKu2WrmBC3vAS6QzJV6u3cCjdjeDuU0tv/PyY7740yc0rywfPzu8FZw3GHTXB3PfwxiwwNkXj/iDy49ZP97xj7/zP/igfY03icZERnWFLRWcBAzZcR0W7GLDk3bLe80VFuU6Ldjf6QdBPfxgIxe+Z2HHAoJ41m6cWfnd5jm/1n3JLrf8xs2v8unmyWwwJ4nHfsP7/urWHh67LbIornYTO7ah5YsfP+GX/p3SvdggX3zD2/nz5/nfX3KCMNLcKO6lY9d23MQFD/yuWKsu3kucx8GnwXHKIiX9l+wxpWknCXJRwM6U0yNTRmwl0kosh9NNxJpMYxIrE0BgaUea2ie3VdlbdJ7uTlcrgaUd2KaOb4c1V+MCd2Ppvt1iX24KCX4hgIC8O/Dod15x9uWK1z9o+Q/+r/D04Q2//s7n/L2zPwFgKQNBHVdpyXVcksWwsiOC8sRv+F7zDb4KuKu0Yp8b1m4gqXBme9a2Z5s6vugfsYkdv7L+ir+5+OwNCfEyL0kq/KB7xnv+ik3ueD6ez5nvKi1ZysBTd00ngaYa8Mv+Ib/9B99n9RPHk/+TsF+9JN9s0MNfxMXecmkYSX/0J9g/gseHv8bN91b8NFi+c/6S1cWARTmnJ9Vssk0dnjQr6gu356nd0tXFNqYMGpdSTpC971/z1F3zVXzAF/0jDsnzjtvwt7tSLnwRR65yw15bNnmBkPnIv2TVjPwsXhaDpBLX9rktskAGzqTM2nbSsost5586nvzuAf98S3r+LRrGP3Pvf+H/YMleHzj7bMVw1fGfh1/m0w/f4bwZ+P75Cy79ngu357HbzBOLTeo4kwNLk7AGGhLeREZja73l+L39d7iJHV/sH/K7n32Mbh1//P67/PCDz1jIyNoNtCYWoN31HISXJtJMpYs5bmWTO36//yUA/uv1J/zo+ftcfbvmva8y7vUBsz28Na3/wgDpZ1/y3tUG2ob0+Jzx8pLrp55//+sf4B73/N1Pfsy/ePc/AvCpPOVVXPPEbbgUQYzhSgI7DQTjSAib1PFvf/KrvP78Ad03lu/+Vk/z9Sv6jy74bx/9DcKZ4eaXE+5hzw/ee84/e++/cGkClzJyKXCd93P5M5U0X4+X/P6rD3l1WLL5ncd88J8GnmwG3Jc/JV/fkEL5b7v+UgDKfU/++hkYg706Z7Fe4w7vcPPJkoNt+erJBVdpSWPK6Ldop7dbK6hl37f4a6G5hubFDr55Qecsas8YLh37p0JoGm6GMiAswVjxFLU+/SnDtS7YmI6v+3N+dn3Bftty+Uzp/vQ5ut2RbrZ/Lrf6hQCaL1XyoUey4n8qPP1tSzh3fPPHH/MvP/znxLPER997wfcvXrBddazkT+hMZJM7QpUF07Hhp5c3/OSXHNfvW26+f4mEB+XvYhPlf5p5r+d81fPh+oqlDHgT2akj5cSPxyf88PV3eL5b8/z/PGL1hcUOsLxRzkbl7PM9+vq6tHHuqdb/8gACdBhIwwA3N/gvv6IRw9nlBVyeM370gB//kyfw/SIe3/OvWck4u8GotpQBGD5av6Z5P/HOYss/evQjPnCv+c3NX+W3nn8PgKUf6WzgO8uXrKQkhV4tvVq+GB/z2auHbF8tee+3DBf/5ndn99F6nDfdd3r9/wdAt66cStyLERMTJmTIxwlpfuvfXdZJRf2TqZWADVrKAAAAI0lEQVQMLGVgKeN8/O++Anmq/ZLKfKJMkpa66ueUDn/R6/8CQ9j6lt2mXfcAAAAASUVORK5CYII=\" y=\"-34.989543\"/>\n   </g>\n   <g id=\"patch_13\">\n    <path d=\"M 181.661702 106.989543 \nL 181.661702 35.7555 \n\" style=\"fill:none;stroke:#000000;stroke-linecap:square;stroke-linejoin:miter;stroke-width:0.8;\"/>\n   </g>\n   <g id=\"patch_14\">\n    <path d=\"M 252.895745 106.989543 \nL 252.895745 35.7555 \n\" style=\"fill:none;stroke:#000000;stroke-linecap:square;stroke-linejoin:miter;stroke-width:0.8;\"/>\n   </g>\n   <g id=\"patch_15\">\n    <path d=\"M 181.661702 106.989543 \nL 252.895745 106.989543 \n\" style=\"fill:none;stroke:#000000;stroke-linecap:square;stroke-linejoin:miter;stroke-width:0.8;\"/>\n   </g>\n   <g id=\"patch_16\">\n    <path d=\"M 181.661702 35.7555 \nL 252.895745 35.7555 \n\" style=\"fill:none;stroke:#000000;stroke-linecap:square;stroke-linejoin:miter;stroke-width:0.8;\"/>\n   </g>\n   <g id=\"text_3\">\n    <!-- pullover -->\n    <g transform=\"translate(192.952473 16.318125)scale(0.12 -0.12)\">\n     <use xlink:href=\"#DejaVuSans-112\"/>\n     <use x=\"63.476562\" xlink:href=\"#DejaVuSans-117\"/>\n     <use x=\"126.855469\" xlink:href=\"#DejaVuSans-108\"/>\n     <use x=\"154.638672\" xlink:href=\"#DejaVuSans-108\"/>\n     <use x=\"182.421875\" xlink:href=\"#DejaVuSans-111\"/>\n     <use x=\"243.603516\" xlink:href=\"#DejaVuSans-118\"/>\n     <use x=\"302.783203\" xlink:href=\"#DejaVuSans-101\"/>\n     <use x=\"364.306641\" xlink:href=\"#DejaVuSans-114\"/>\n    </g>\n    <!-- t-shirt -->\n    <defs>\n     <path d=\"M 4.890625 31.390625 \nL 31.203125 31.390625 \nL 31.203125 23.390625 \nL 4.890625 23.390625 \nz\n\" id=\"DejaVuSans-45\"/>\n     <path d=\"M 54.890625 33.015625 \nL 54.890625 0 \nL 45.90625 0 \nL 45.90625 32.71875 \nQ 45.90625 40.484375 42.875 44.328125 \nQ 39.84375 48.1875 33.796875 48.1875 \nQ 26.515625 48.1875 22.3125 43.546875 \nQ 18.109375 38.921875 18.109375 30.90625 \nL 18.109375 0 \nL 9.078125 0 \nL 9.078125 75.984375 \nL 18.109375 75.984375 \nL 18.109375 46.1875 \nQ 21.34375 51.125 25.703125 53.5625 \nQ 30.078125 56 35.796875 56 \nQ 45.21875 56 50.046875 50.171875 \nQ 54.890625 44.34375 54.890625 33.015625 \nz\n\" id=\"DejaVuSans-104\"/>\n     <path d=\"M 9.421875 54.6875 \nL 18.40625 54.6875 \nL 18.40625 0 \nL 9.421875 0 \nz\nM 9.421875 75.984375 \nL 18.40625 75.984375 \nL 18.40625 64.59375 \nL 9.421875 64.59375 \nz\n\" id=\"DejaVuSans-105\"/>\n    </defs>\n    <g transform=\"translate(199.348098 29.7555)scale(0.12 -0.12)\">\n     <use xlink:href=\"#DejaVuSans-116\"/>\n     <use x=\"39.208984\" xlink:href=\"#DejaVuSans-45\"/>\n     <use x=\"75.292969\" xlink:href=\"#DejaVuSans-115\"/>\n     <use x=\"127.392578\" xlink:href=\"#DejaVuSans-104\"/>\n     <use x=\"190.771484\" xlink:href=\"#DejaVuSans-105\"/>\n     <use x=\"218.554688\" xlink:href=\"#DejaVuSans-114\"/>\n     <use x=\"259.667969\" xlink:href=\"#DejaVuSans-116\"/>\n    </g>\n   </g>\n  </g>\n  <g id=\"axes_4\">\n   <g id=\"patch_17\">\n    <path d=\"M 267.142553 106.989543 \nL 338.376596 106.989543 \nL 338.376596 35.7555 \nL 267.142553 35.7555 \nz\n\" style=\"fill:#ffffff;\"/>\n   </g>\n   <g clip-path=\"url(#p3ad952c9ff)\">\n    <image height=\"72\" id=\"image5bdbd44c95\" transform=\"scale(1 -1)translate(0 -72)\" width=\"72\" x=\"267.142553\" xlink:href=\"data:image/png;base64,\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\" y=\"-34.989543\"/>\n   </g>\n   <g id=\"patch_18\">\n    <path d=\"M 267.142553 106.989543 \nL 267.142553 35.7555 \n\" style=\"fill:none;stroke:#000000;stroke-linecap:square;stroke-linejoin:miter;stroke-width:0.8;\"/>\n   </g>\n   <g id=\"patch_19\">\n    <path d=\"M 338.376596 106.989543 \nL 338.376596 35.7555 \n\" style=\"fill:none;stroke:#000000;stroke-linecap:square;stroke-linejoin:miter;stroke-width:0.8;\"/>\n   </g>\n   <g id=\"patch_20\">\n    <path d=\"M 267.142553 106.989543 \nL 338.376596 106.989543 \n\" style=\"fill:none;stroke:#000000;stroke-linecap:square;stroke-linejoin:miter;stroke-width:0.8;\"/>\n   </g>\n   <g id=\"patch_21\">\n    <path d=\"M 267.142553 35.7555 \nL 338.376596 35.7555 \n\" style=\"fill:none;stroke:#000000;stroke-linecap:square;stroke-linejoin:miter;stroke-width:0.8;\"/>\n   </g>\n   <g id=\"text_4\">\n    <!-- sandal -->\n    <g transform=\"translate(283.001762 16.318125)scale(0.12 -0.12)\">\n     <use xlink:href=\"#DejaVuSans-115\"/>\n     <use x=\"52.099609\" xlink:href=\"#DejaVuSans-97\"/>\n     <use x=\"113.378906\" xlink:href=\"#DejaVuSans-110\"/>\n     <use x=\"176.757812\" xlink:href=\"#DejaVuSans-100\"/>\n     <use x=\"240.234375\" xlink:href=\"#DejaVuSans-97\"/>\n     <use x=\"301.513672\" xlink:href=\"#DejaVuSans-108\"/>\n    </g>\n    <!-- sneaker -->\n    <g transform=\"translate(279.047387 29.7555)scale(0.12 -0.12)\">\n     <use xlink:href=\"#DejaVuSans-115\"/>\n     <use x=\"52.099609\" xlink:href=\"#DejaVuSans-110\"/>\n     <use x=\"115.478516\" xlink:href=\"#DejaVuSans-101\"/>\n     <use x=\"177.001953\" xlink:href=\"#DejaVuSans-97\"/>\n     <use x=\"238.28125\" xlink:href=\"#DejaVuSans-107\"/>\n     <use x=\"292.566406\" xlink:href=\"#DejaVuSans-101\"/>\n     <use x=\"354.089844\" xlink:href=\"#DejaVuSans-114\"/>\n    </g>\n   </g>\n  </g>\n  <g id=\"axes_5\">\n   <g id=\"patch_22\">\n    <path d=\"M 352.623404 106.989543 \nL 423.857447 106.989543 \nL 423.857447 35.7555 \nL 352.623404 35.7555 \nz\n\" style=\"fill:#ffffff;\"/>\n   </g>\n   <g clip-path=\"url(#p4bceee949e)\">\n    <image height=\"72\" id=\"image9bccaac8f0\" transform=\"scale(1 -1)translate(0 -72)\" width=\"72\" x=\"352.623404\" xlink:href=\"data:image/png;base64,\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\" y=\"-34.989543\"/>\n   </g>\n   <g id=\"patch_23\">\n    <path d=\"M 352.623404 106.989543 \nL 352.623404 35.7555 \n\" style=\"fill:none;stroke:#000000;stroke-linecap:square;stroke-linejoin:miter;stroke-width:0.8;\"/>\n   </g>\n   <g id=\"patch_24\">\n    <path d=\"M 423.857447 106.989543 \nL 423.857447 35.7555 \n\" style=\"fill:none;stroke:#000000;stroke-linecap:square;stroke-linejoin:miter;stroke-width:0.8;\"/>\n   </g>\n   <g id=\"patch_25\">\n    <path d=\"M 352.623404 106.989543 \nL 423.857447 106.989543 \n\" style=\"fill:none;stroke:#000000;stroke-linecap:square;stroke-linejoin:miter;stroke-width:0.8;\"/>\n   </g>\n   <g id=\"patch_26\">\n    <path d=\"M 352.623404 35.7555 \nL 423.857447 35.7555 \n\" style=\"fill:none;stroke:#000000;stroke-linecap:square;stroke-linejoin:miter;stroke-width:0.8;\"/>\n   </g>\n   <g id=\"text_5\">\n    <!-- ankle boot -->\n    <defs>\n     <path id=\"DejaVuSans-32\"/>\n     <path d=\"M 48.6875 27.296875 \nQ 48.6875 37.203125 44.609375 42.84375 \nQ 40.53125 48.484375 33.40625 48.484375 \nQ 26.265625 48.484375 22.1875 42.84375 \nQ 18.109375 37.203125 18.109375 27.296875 \nQ 18.109375 17.390625 22.1875 11.75 \nQ 26.265625 6.109375 33.40625 6.109375 \nQ 40.53125 6.109375 44.609375 11.75 \nQ 48.6875 17.390625 48.6875 27.296875 \nz\nM 18.109375 46.390625 \nQ 20.953125 51.265625 25.265625 53.625 \nQ 29.59375 56 35.59375 56 \nQ 45.5625 56 51.78125 48.09375 \nQ 58.015625 40.1875 58.015625 27.296875 \nQ 58.015625 14.40625 51.78125 6.484375 \nQ 45.5625 -1.421875 35.59375 -1.421875 \nQ 29.59375 -1.421875 25.265625 0.953125 \nQ 20.953125 3.328125 18.109375 8.203125 \nL 18.109375 0 \nL 9.078125 0 \nL 9.078125 75.984375 \nL 18.109375 75.984375 \nz\n\" id=\"DejaVuSans-98\"/>\n    </defs>\n    <g transform=\"translate(356.517301 16.318125)scale(0.12 -0.12)\">\n     <use xlink:href=\"#DejaVuSans-97\"/>\n     <use x=\"61.279297\" xlink:href=\"#DejaVuSans-110\"/>\n     <use x=\"124.658203\" xlink:href=\"#DejaVuSans-107\"/>\n     <use x=\"182.568359\" xlink:href=\"#DejaVuSans-108\"/>\n     <use x=\"210.351562\" xlink:href=\"#DejaVuSans-101\"/>\n     <use x=\"271.875\" xlink:href=\"#DejaVuSans-32\"/>\n     <use x=\"303.662109\" xlink:href=\"#DejaVuSans-98\"/>\n     <use x=\"367.138672\" xlink:href=\"#DejaVuSans-111\"/>\n     <use x=\"428.320312\" xlink:href=\"#DejaVuSans-111\"/>\n     <use x=\"489.501953\" xlink:href=\"#DejaVuSans-116\"/>\n    </g>\n    <!-- sneaker -->\n    <g transform=\"translate(364.528238 29.7555)scale(0.12 -0.12)\">\n     <use xlink:href=\"#DejaVuSans-115\"/>\n     <use x=\"52.099609\" xlink:href=\"#DejaVuSans-110\"/>\n     <use x=\"115.478516\" xlink:href=\"#DejaVuSans-101\"/>\n     <use x=\"177.001953\" xlink:href=\"#DejaVuSans-97\"/>\n     <use x=\"238.28125\" xlink:href=\"#DejaVuSans-107\"/>\n     <use x=\"292.566406\" xlink:href=\"#DejaVuSans-101\"/>\n     <use x=\"354.089844\" xlink:href=\"#DejaVuSans-114\"/>\n    </g>\n   </g>\n  </g>\n  <g id=\"axes_6\">\n   <g id=\"patch_27\">\n    <path d=\"M 438.104255 106.989543 \nL 509.338298 106.989543 \nL 509.338298 35.7555 \nL 438.104255 35.7555 \nz\n\" style=\"fill:#ffffff;\"/>\n   </g>\n   <g clip-path=\"url(#p4af976846d)\">\n    <image height=\"72\" id=\"image2257a3c600\" transform=\"scale(1 -1)translate(0 -72)\" width=\"72\" x=\"438.104255\" xlink:href=\"data:image/png;base64,\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\" y=\"-34.989543\"/>\n   </g>\n   <g id=\"patch_28\">\n    <path d=\"M 438.104255 106.989543 \nL 438.104255 35.7555 \n\" style=\"fill:none;stroke:#000000;stroke-linecap:square;stroke-linejoin:miter;stroke-width:0.8;\"/>\n   </g>\n   <g id=\"patch_29\">\n    <path d=\"M 509.338298 106.989543 \nL 509.338298 35.7555 \n\" style=\"fill:none;stroke:#000000;stroke-linecap:square;stroke-linejoin:miter;stroke-width:0.8;\"/>\n   </g>\n   <g id=\"patch_30\">\n    <path d=\"M 438.104255 106.989543 \nL 509.338298 106.989543 \n\" style=\"fill:none;stroke:#000000;stroke-linecap:square;stroke-linejoin:miter;stroke-width:0.8;\"/>\n   </g>\n   <g id=\"patch_31\">\n    <path d=\"M 438.104255 35.7555 \nL 509.338298 35.7555 \n\" style=\"fill:none;stroke:#000000;stroke-linecap:square;stroke-linejoin:miter;stroke-width:0.8;\"/>\n   </g>\n   <g id=\"text_6\">\n    <!-- coat -->\n    <g transform=\"translate(460.721902 16.318125)scale(0.12 -0.12)\">\n     <use xlink:href=\"#DejaVuSans-99\"/>\n     <use x=\"54.980469\" xlink:href=\"#DejaVuSans-111\"/>\n     <use x=\"116.162109\" xlink:href=\"#DejaVuSans-97\"/>\n     <use x=\"177.441406\" xlink:href=\"#DejaVuSans-116\"/>\n    </g>\n    <!-- pullover -->\n    <g transform=\"translate(449.395027 29.7555)scale(0.12 -0.12)\">\n     <use xlink:href=\"#DejaVuSans-112\"/>\n     <use x=\"63.476562\" xlink:href=\"#DejaVuSans-117\"/>\n     <use x=\"126.855469\" xlink:href=\"#DejaVuSans-108\"/>\n     <use x=\"154.638672\" xlink:href=\"#DejaVuSans-108\"/>\n     <use x=\"182.421875\" xlink:href=\"#DejaVuSans-111\"/>\n     <use x=\"243.603516\" xlink:href=\"#DejaVuSans-118\"/>\n     <use x=\"302.783203\" xlink:href=\"#DejaVuSans-101\"/>\n     <use x=\"364.306641\" xlink:href=\"#DejaVuSans-114\"/>\n    </g>\n   </g>\n  </g>\n  <g id=\"axes_7\">\n   <g id=\"patch_32\">\n    <path d=\"M 523.585106 106.989543 \nL 594.819149 106.989543 \nL 594.819149 35.7555 \nL 523.585106 35.7555 \nz\n\" style=\"fill:#ffffff;\"/>\n   </g>\n   <g clip-path=\"url(#p320f973b41)\">\n    <image height=\"72\" id=\"imageab410e6bb4\" transform=\"scale(1 -1)translate(0 -72)\" width=\"72\" x=\"523.585106\" xlink:href=\"data:image/png;base64,\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\" y=\"-34.989543\"/>\n   </g>\n   <g id=\"patch_33\">\n    <path d=\"M 523.585106 106.989543 \nL 523.585106 35.7555 \n\" style=\"fill:none;stroke:#000000;stroke-linecap:square;stroke-linejoin:miter;stroke-width:0.8;\"/>\n   </g>\n   <g id=\"patch_34\">\n    <path d=\"M 594.819149 106.989543 \nL 594.819149 35.7555 \n\" style=\"fill:none;stroke:#000000;stroke-linecap:square;stroke-linejoin:miter;stroke-width:0.8;\"/>\n   </g>\n   <g id=\"patch_35\">\n    <path d=\"M 523.585106 106.989543 \nL 594.819149 106.989543 \n\" style=\"fill:none;stroke:#000000;stroke-linecap:square;stroke-linejoin:miter;stroke-width:0.8;\"/>\n   </g>\n   <g id=\"patch_36\">\n    <path d=\"M 523.585106 35.7555 \nL 594.819149 35.7555 \n\" style=\"fill:none;stroke:#000000;stroke-linecap:square;stroke-linejoin:miter;stroke-width:0.8;\"/>\n   </g>\n   <g id=\"text_7\">\n    <!-- shirt -->\n    <g transform=\"translate(545.788378 16.318125)scale(0.12 -0.12)\">\n     <use xlink:href=\"#DejaVuSans-115\"/>\n     <use x=\"52.099609\" xlink:href=\"#DejaVuSans-104\"/>\n     <use x=\"115.478516\" xlink:href=\"#DejaVuSans-105\"/>\n     <use x=\"143.261719\" xlink:href=\"#DejaVuSans-114\"/>\n     <use x=\"184.375\" xlink:href=\"#DejaVuSans-116\"/>\n    </g>\n    <!-- t-shirt -->\n    <g transform=\"translate(541.271503 29.7555)scale(0.12 -0.12)\">\n     <use xlink:href=\"#DejaVuSans-116\"/>\n     <use x=\"39.208984\" xlink:href=\"#DejaVuSans-45\"/>\n     <use x=\"75.292969\" xlink:href=\"#DejaVuSans-115\"/>\n     <use x=\"127.392578\" xlink:href=\"#DejaVuSans-104\"/>\n     <use x=\"190.771484\" xlink:href=\"#DejaVuSans-105\"/>\n     <use x=\"218.554688\" xlink:href=\"#DejaVuSans-114\"/>\n     <use x=\"259.667969\" xlink:href=\"#DejaVuSans-116\"/>\n    </g>\n   </g>\n  </g>\n  <g id=\"axes_8\">\n   <g id=\"patch_37\">\n    <path d=\"M 609.065957 106.989543 \nL 680.3 106.989543 \nL 680.3 35.7555 \nL 609.065957 35.7555 \nz\n\" style=\"fill:#ffffff;\"/>\n   </g>\n   <g clip-path=\"url(#pb26c7b2277)\">\n    <image height=\"72\" id=\"image239196ca53\" transform=\"scale(1 -1)translate(0 -72)\" width=\"72\" x=\"609.065957\" xlink:href=\"data:image/png;base64,\niVBORw0KGgoAAAANSUhEUgAAAEgAAABICAYAAABV7bNHAAAABHNCSVQICAgIfAhkiAAAEllJREFUeJztmkmPZNlVx3/n3nffezFm5FBzd1W73APGBmHJgLGs3hgJdkgIMXwHkNix4yuwhR1rxNILRiMvjDFicNM0bXe3u7u6pqycMyLjxZvuPSzei8jIykxnNW5wIuVfCkXEG+/93zOfK78qv6Vc4VyYn/YALjuuCLoAVwRdgCuCLsAVQRfgiqALcEXQBbgi6AJcEXQBrgi6AFcEXYDopz2AcyGCWPtCl2q4IJ3U8Nz/F08/Lx9BpiFFXITEcfNbBIycvC4o2k5UwhIB88lLe733qG/Pt0Rp0NOkLd+7hP85QSIgjYaKOf79Qlge6NL/xaONINJ8gIac+fMXRHlkPm+z9O4QwJjFvQpLE7cQFLGAniS8Gcv8gcdEvThB7QsljjGdFKIIGQ4I/RR1Ft+N0UhQI82759+yNBBVotwjZcCUNfaoAO+R6QzNm98hy1Dvm8t9WBAi8tyE5tIjAsY071FtCFKFJAEjjSSGuOXHnCBaRCCKFvdqVTUSl80IWfYpCQIQg8QxMhigiaO8uUKxEVMnhmIk+FhQS/MRwCwtlIAEcBMlmkE0U9LdFFsEosMEM84gL2CWg9ZoXZ8k5JwhqbGY2B2TFhSZk2FtQ8KcRNeQodaAMagImkSos0gdkLyCEBAf4BRBrcqIizDDIZLEaCdBeykaGUJsUWuoEkPdt3gn5KuGckUIEdQ9RSNFDajVMwhSJAh2JthCMIUw20gwtWLzlKgYYWrFHd3FVAEJitSK+ICZ1Yj3SFEjWQ4hoNNpI3XQTB7Ae9CAqiB13UjFwhT4xlYZgxjTqm0jOVIHqD1S1c2zWwk+QZDEMSZJkJUh05+/RbYRkd0Spq/USKemN8zppwWJ9XSjith6RnHGyM0IaihCRFChYys6tjyxykaO178OhkotRYiYeUdQw1o8ZdVl+PY5lVq28gHPZgMmRcL20xXMUUSya+g9VlymDD7OiJ7uQ1kRjqYNOUEbyfOesDTJ0/ZrSWXn6rmQwHBCeqOF5EQRdFK0mzbk3BSylzz3X91kPZ3yxcFT7iU7OPH0TIEhMDQ5A5OTa8RmPSJXR88UDMysWVBtBmbl2AjbJWUp1RKL574bc8d2se1EvAY+rjN+UG3wuFrjm/2f59HhCvu9IeId7kiIDxPspAtFiVQVzCd1pndqnUJ1/G59/vyykwlLElT+2lcAmG1YZhuGugOzOx4GFb1hTs+VGFG2ywFFiHDG0zUlRgIrdsbQzPAYJj7FY5iGhKlJWjJOD9ZIWJBUqcW05O35ltTGgrDrV5n4DgBvDJ5xLTnicf+Ixxsr5JXlwc+lyGyE1IItb0IA8WC8QABTgfHNMfENI6YCCYqpIMoVCc23LQK2CLhxiZQ1srmLf7bVEPT4zQgEwt2cX7j7kNTW9KKCxNQUIWJaJwQVtoo+m/mAyARiU+MkMHIZwyg/QYATz770MBJw4rEoHiGoWToWWoIaDd+uh6eONUQGjCi/2P+QWDxmPRDf9TipuWmPWDGeAFTaEFupoVLDWBM+LK8zDQmHdZf9uksRIraKAVkdszfrsjPuUdcWfxATHUVER0LvSYzLlJEqbG03XrdeCagoo/6Ml7oHJKZeDGxuI4LKwsYYUZwEIuMXtuWECrUkNBKkGAkYILRSM382gKNupcbgMQQ1ZCHGq1k8x4mnMhGxeGLxdE1BKhUrxjMyER4ltC4/V0+Fx4VAFh0yDQmpVHRtQREcTjxHPiE2NQrkVcQhUMcRPrWIWqJM6Gz1SNfXGoJeenULI8rnhzu81nkGwGHdpdCIVZex7qaNWiILm+LEYyWQmIpUqsUkAVKpSE21kAgjp9VsrmJWAl4NuTry4Mg0Ya/uHS8MQiSeddejawsGJmctOiIWz56vcHJsTL0aJqHDNMRUGpFr84xGsprofBjl9KOCkZtxu3NIUMPsmqPSY/tzVCW8ff1Vrq++2qjgG6MtjATupXtci8atR3JU3pKYioHJMaIEFTxmIQGWgJWAaYkISwR1TXGSkHNIMgQQIEAlzSRm3jGtEyo1lCEiau/NQkxlo8XizGGW7Nye73Pk0/b4aelOTbOYfZtjnS5U3olnZKe84naYhJTfv3+To6eDhqBvfefnwMDK/X1+85W3cOI5rDsUobEFXVNi8KSmWtiP+YvmEjU3rPOJz+3IHIGwWO08xFRqF94QGmNdarRYaSOKI+BsSWQ8qy6ja0pWbMbIZlgJlGoJSxINMGm9TyNN8cIkWAKe41BkLp0GpRcVdE1JETlGJiNXh4gS4mbhojf+dBsiy4Pf2ODfRi/TdydXfyXKcOIZmJyBmRG3vy3KVB3TkJy4PldH1h7zGLxKS27dDjxl4jt0TYGTejHZLMTkwS2e07EVialITM11N2ZkM3qmYM0etRKVkKvDEOiZonm2STmkS66WnaLPzDsi40mMp1bDYZmSe0cVLJW3iCgrcU7fFdxIxqxFR3gVRBSftASxuQ0uIt1d56P9dbpJE+QJsJP0Oai6dGzFzeSQFTujawquRWNi8SeI8a2NmkvPnBygsQVqFmp4LFkGtPFcldolCQrtR3HGt2pQL6RwOXyw87ChVXdnaggxAaFWA6F5f62G3DsKH1F5SxUMRpS6PTc3H4jBe0NUNqlRFGY5FML17x0w3l9B7XEWvBfBthM0gnxdqPpK3VW4VhCnNV++/YhvrL1Lro6takgeHBtuwm13gCXgzLHr3vN9ALpLUjAn6dB32SxWFscSUx9/pCaVklSqhQTO1Wh5cSxKaipW7KxdEKEOjVesQ7NAWdXYViOKiGJFSW1Fz5ZcdxNei5+Ra0S51eXlf5whPhBp1UiMvvUu/bc4E+JizKv3qDb65Bsx41c6lAP4T3eTL698QuYTPsrWyeoY+nAjOsRKY4+sBCqNmPgORgLXojHrZkqJZRJSqhCRhZhx3ZxPTN2GEn5hkOcuvlS7UOm5JzQY5iYwlYqeKchMk73Xail8xKxyeBWKKsIHQ2Q9cdSEKZEJdGzFSpRx25ZkWuIODdG/vYfW9Qtm8xqQoxmRtaSqBJdSdYXDZMSfTd8keEGzCPHC2xu3eevaHVJbs5pkxKbmdnLIFzqPsSiPqzV+6G+zYjNedrukdkrf5iSmbtXCYlTBNF6na0qceAwBK4JVXTgFK2HhpTyClUAqFSOb8VJ6wDAq2Cu7HJgOhY+ovaUOoAvVl4VKN88TjCpqQTopUlYvRpDWNX5zC9ndI7KWlR/EYC3Xvt1BO62Rrj2IMPnZdR69cQ+fQLkSCJ3A668/4bc//y/EEviTrW/w3c17fGF9i9+/+ffcsDO2oyFPoxFFiJhUKZUahtGM1WhKKuWS7dHW5tASdjL6dnhSO2VgZlwbjPFq+LC8zgfZDQ6qDlnlyKsIVcG3NmgO21pIK+BjhdEQqV5UggCtSubqyOSci0To9ROK4ZC6A6Yy1B1h89aAiTpiDTyZDTkc99juNjbJydnBpBEllpr4jLgnYE4cm0uUaUl0pmJIkwLt2T69qKBSgzON4Tftd1OR0QVRAfBKo7KmqRl9yoLZc3Xh52u4qtgnu6wBIY4oRzE+NRw9W+V3H/wBWMUdGuJMeL+6wXt3buDkCe/lt3jn8BbdqORed4++LViLpqRSYVob1iiZWTLO0YkgsRlf47GMBkKbna/ZI77YeUSWJKy7KeO60wSjPsag3OkcsBplpKbiYe3Y9T3cRGB//Cls0DIxJ2rP4RRJ9dNN2HyGsZbuYIAkMcNOys1hF40jivWUqm/Y7sR8Um6wHh3xUbbBw4MRq90ZvzB81JZV6kUo0QSF7thWoPjWNXNiNIGKYykzBEY242bUpBWvJZvk6tisRnxSruPVsOEmDEyOE8/jesTDap1oKoT9/U9jpPWYpOdrJ+dcr0HRsmwMPGBE0MjiIoPUEd3NhL/48Mv848p9ZrWjm5T046KJY2hjpzMKrfbc4utJeASPxT5XH5qHA11T4tUwaqPzrXrI96d3eZCt4SbHDYUXV7FlSVF//nVL/SwtCrQoYDpDDg7BWqLdhCiKuPVxj/rfV8iGd/jk1y3f+OrbjFxGKnUTNGIp28DRytylL3mtNhFdnvi8ChAwVG2qNCVZlFpSqYjFk0rFDXeIIfB6/IwbdsafZ/f4y+/9IumziFvvFYsi22ffF5PjzoHW1YJYrdrzWdac395FPvB0h0OSX/pSkxO1pdpSozaqbe9pB+vkODmdl0fMsptvSZqjyeQj8uCaeMp6oInKU6naFKpkzVoyH5M+jeg9UeKDYiGnnz1BGo4r9XIcxJ26pkUoCq59v+av+SWqvmJeyuj3cr5262N+b/27WJTd0FsEiMepjJywSXMsezc3J7M1D3lwlHKczjREeVJJeFYMGH6sDD+cYbcPqfXTqtinwFx/xdpTHVGt6hPqqkVB96/e4nP/kMBLN9l8c53Z9R7/+fWCN27OcGJ4t2SR5+XaJLRO6lP2aE6OISwMfMAQpDHouTp8MDip6ZmyqWkJJOLYmg1YffcIvv9D6qWC/2e/eUHPaesCnNND16LAj8fIJCPKwZawn3X4oEp5UAvjkJ5KdC/Csn2al2/nsKKLJLdSKLSiChYp6ybWC2e0fT5TqIJ69Dyi5l3Qs061BffJwyF/GP8Oo3TG1zd+xOeS7SYBlvrM++DYcNvW0VccJ7VGAikVXsyi8+LEsxdisqrmYJZy3X+WvfkXwVkkLBp5p2MoVJuGYRDcgeHZJ2vsDCruD3Z5Kd4DadKJOeaGefl/UNOwrKclzkgApS2dNMW/XCOmGlPWEXKGd/6/392h7SaBM8jT2YzBg4J44qjTCD8sWRlkvNrZ4rW4CfImobOQlDkZi9qUGqycnuScxFybrN6rIW6JnmrcHPdN9/V5/HS2v5yjXn5vn+hfc1yScHT7Z1hdG/PaaJtf7n7AVxLPozrjnTKhxDbphwoxYKRq6+Mni3LzuGgeWVfBkgdHr+3rAUx9woHvUlcWtDw1psu1w0yVkGWEyQSbw7SI2S16PK5XeVQXHIR4UR8CPrXhPguNZ2zq15/t/qD/Raj3rP4wY+vv1vhRf40/unsXu1LypTtP+cOX/paBHfOwXmO37lNicRpB22Nb7rLM3f48yTUc9+zmbaFJSDnyKaE2Z3rZS0kQqrhPdrhRB3zPMXmUUA66/MdX75C+XHHDlmz7qq0jtymHRifaUHO1guU9AsqcyKYG3kTZE5+i/qyI9jIR9Jzr1zzHHs4IsWV6R8hue25dPyBXx2Eo8QiplE1M0xrhszL8k/lak2inpmRkZu3eAG2aBeEyE9QmuBp0EaSFg0PkaIrtf57wlTF//KW/IZWKcUiZatOeHtqmKDaXkFzdcWeEeRn1ZNXQSc3IZNyLKnIteacIzLwDf7YNuhxGenmvYwuta0KeI15Z7Wd8rfMRr7gdKo2YhmRR74GT+Zc/I/6B+Z6A04FrFhIOqi7Ul9lIazi/glIHDqYd3i5uLXr4cEzKvEPrpCY1JdY2k5xXI+eo1LLr++TB8Xb+Mt/LEnaqPt988EUmTwcM34ua3WvP4ZIQdH4RTEIgzzq8m9/GiScx1YnzXdP0zJypGZicnpRYlK45mcxONeLA98hCwvuzG/zHwR12p12Kd0asfwz9JxWazU69/3IQ9ONQVsizhL95+gXuDvb5ldGPmiYizbacnikY2SlOPEENu6FHhWVSdijVslMP2an6jOsO74+vMS4TDo665PspMrOsPBU6u574oDq1cRQuI0HzXE3bdGT3gDvfvsbRezf5zlc2+NU3/4v78RZ5cFRY1s2U+y7HAP9SrPHW7C4P8zW+u3mPyTTFP+nSf2iIMmXwqKZ/WDHwiikzpA6YyQyyGVqU+Gl2ajiXkKCTRlaLgu7DI9xRyuR+0tgcKcGA1UAqNUl7zzikPC1XeJSN2NsZYA4d/QeG9XdLoklF9P4j/M5u89z2c069YYHLR9BzTQGtauzOIXFWEB/c4Ek1IpWKb4/f4MOjDXayHtu7A0JhsQcRbmKwOWxsK9FM6W4VJE/GSF4SZqeN8EW4hASdzPa1KqkfP0GsJd29zuNiFYC/f/A6+ScD+p8YXv/WPmZ3jOY5lFWzndf7ds9zwM8rhOHHNBvOweUjCM6sE2ldE4+Vf3r2CivJTWabfTpbhs52wOyOCTu7aH16h/5PistJ0DlY/eenTMfXya3w6n6BPSowkxlhb59QVueXen8C/L8iqP7oAclHDxb/Axcb2Z8UlyPVuMS4IugCXBF0Aa4IugBXBF2AK4IuwBVBF+CKoAtwRdAFuCLoAlwRdAH+G7QiAqSSi3tRAAAAAElFTkSuQmCC\" y=\"-34.989543\"/>\n   </g>\n   <g id=\"patch_38\">\n    <path d=\"M 609.065957 106.989543 \nL 609.065957 35.7555 \n\" style=\"fill:none;stroke:#000000;stroke-linecap:square;stroke-linejoin:miter;stroke-width:0.8;\"/>\n   </g>\n   <g id=\"patch_39\">\n    <path d=\"M 680.3 106.989543 \nL 680.3 35.7555 \n\" style=\"fill:none;stroke:#000000;stroke-linecap:square;stroke-linejoin:miter;stroke-width:0.8;\"/>\n   </g>\n   <g id=\"patch_40\">\n    <path d=\"M 609.065957 106.989543 \nL 680.3 106.989543 \n\" style=\"fill:none;stroke:#000000;stroke-linecap:square;stroke-linejoin:miter;stroke-width:0.8;\"/>\n   </g>\n   <g id=\"patch_41\">\n    <path d=\"M 609.065957 35.7555 \nL 680.3 35.7555 \n\" style=\"fill:none;stroke:#000000;stroke-linecap:square;stroke-linejoin:miter;stroke-width:0.8;\"/>\n   </g>\n   <g id=\"text_8\">\n    <!-- sneaker -->\n    <g transform=\"translate(620.970791 16.318125)scale(0.12 -0.12)\">\n     <use xlink:href=\"#DejaVuSans-115\"/>\n     <use x=\"52.099609\" xlink:href=\"#DejaVuSans-110\"/>\n     <use x=\"115.478516\" xlink:href=\"#DejaVuSans-101\"/>\n     <use x=\"177.001953\" xlink:href=\"#DejaVuSans-97\"/>\n     <use x=\"238.28125\" xlink:href=\"#DejaVuSans-107\"/>\n     <use x=\"292.566406\" xlink:href=\"#DejaVuSans-101\"/>\n     <use x=\"354.089844\" xlink:href=\"#DejaVuSans-114\"/>\n    </g>\n    <!-- ankle boot -->\n    <g transform=\"translate(612.959854 29.7555)scale(0.12 -0.12)\">\n     <use xlink:href=\"#DejaVuSans-97\"/>\n     <use x=\"61.279297\" xlink:href=\"#DejaVuSans-110\"/>\n     <use x=\"124.658203\" xlink:href=\"#DejaVuSans-107\"/>\n     <use x=\"182.568359\" xlink:href=\"#DejaVuSans-108\"/>\n     <use x=\"210.351562\" xlink:href=\"#DejaVuSans-101\"/>\n     <use x=\"271.875\" xlink:href=\"#DejaVuSans-32\"/>\n     <use x=\"303.662109\" xlink:href=\"#DejaVuSans-98\"/>\n     <use x=\"367.138672\" xlink:href=\"#DejaVuSans-111\"/>\n     <use x=\"428.320312\" xlink:href=\"#DejaVuSans-111\"/>\n     <use x=\"489.501953\" xlink:href=\"#DejaVuSans-116\"/>\n    </g>\n   </g>\n  </g>\n </g>\n <defs>\n  <clipPath id=\"p97c6fae5b4\">\n   <rect height=\"71.234043\" width=\"71.234043\" x=\"10.7\" y=\"35.7555\"/>\n  </clipPath>\n  <clipPath id=\"p89893f2210\">\n   <rect height=\"71.234043\" width=\"71.234043\" x=\"96.180851\" y=\"35.7555\"/>\n  </clipPath>\n  <clipPath id=\"pbed2a53c95\">\n   <rect height=\"71.234043\" width=\"71.234043\" x=\"181.661702\" y=\"35.7555\"/>\n  </clipPath>\n  <clipPath id=\"p3ad952c9ff\">\n   <rect height=\"71.234043\" width=\"71.234043\" x=\"267.142553\" y=\"35.7555\"/>\n  </clipPath>\n  <clipPath id=\"p4bceee949e\">\n   <rect height=\"71.234043\" width=\"71.234043\" x=\"352.623404\" y=\"35.7555\"/>\n  </clipPath>\n  <clipPath id=\"p4af976846d\">\n   <rect height=\"71.234043\" width=\"71.234043\" x=\"438.104255\" y=\"35.7555\"/>\n  </clipPath>\n  <clipPath id=\"p320f973b41\">\n   <rect height=\"71.234043\" width=\"71.234043\" x=\"523.585106\" y=\"35.7555\"/>\n  </clipPath>\n  <clipPath id=\"pb26c7b2277\">\n   <rect height=\"71.234043\" width=\"71.234043\" x=\"609.065957\" y=\"35.7555\"/>\n  </clipPath>\n </defs>\n</svg>\n",
            "text/plain": [
              "<Figure size 864x108 with 8 Axes>"
            ]
          },
          "metadata": {},
          "output_type": "display_data"
        }
      ],
      "source": [
        "X, y, preds = X[wrong], y[wrong], preds[wrong]\n",
        "labels = [a + \"\\n\" + b for a,b in zip(data.text_labels(y), data.text_labels(preds))]\n",
        "data.visualize([X, y], labels=labels)"
      ]
    },
    {
      "cell_type": "markdown",
      "metadata": {
        "id": "rGLDpaATqtpt"
      },
      "source": [
        "## Ex 4.4"
      ]
    },
    {
      "cell_type": "markdown",
      "metadata": {
        "id": "yd3Ma74TrBOS"
      },
      "source": [
        "### Q1:\n",
        "\n",
        "1 : doesn't work\n",
        "\n",
        "2 : doesn't work"
      ]
    },
    {
      "cell_type": "code",
      "execution_count": 23,
      "metadata": {
        "id": "LVIh57NeqliW"
      },
      "outputs": [],
      "source": [
        "def softmax(X):\n",
        "  X_exp = torch.exp(X)\n",
        "  sum = X_exp.sum(axis=1, keepdims=True)\n",
        "  return (X_exp / sum)"
      ]
    },
    {
      "cell_type": "code",
      "execution_count": null,
      "metadata": {
        "colab": {
          "base_uri": "https://localhost:8080/"
        },
        "id": "OXvnOFWGrAh5",
        "outputId": "1544ef78-b303-4c59-cd8a-4e87ca497498"
      },
      "outputs": [
        {
          "data": {
            "text/plain": [
              "tensor([[nan, nan, 0.]], grad_fn=<DivBackward0>)"
            ]
          },
          "execution_count": 39,
          "metadata": {},
          "output_type": "execute_result"
        }
      ],
      "source": [
        "a = torch.tensor([100., 200. ,50.], dtype=torch.float32, requires_grad=True).reshape(1, -1)\n",
        "softmax(a)"
      ]
    },
    {
      "cell_type": "code",
      "execution_count": null,
      "metadata": {
        "colab": {
          "base_uri": "https://localhost:8080/"
        },
        "id": "swEMC73QrO3O",
        "outputId": "bbe6deb4-00e7-4978-ff9d-4aba7041a808"
      },
      "outputs": [
        {
          "data": {
            "text/plain": [
              "tensor([[nan, nan, nan]])"
            ]
          },
          "execution_count": 40,
          "metadata": {},
          "output_type": "execute_result"
        }
      ],
      "source": [
        "b = torch.tensor([-150, -200, -187], dtype=torch.float32).reshape(1, -1)\n",
        "softmax(b)"
      ]
    },
    {
      "cell_type": "code",
      "execution_count": 24,
      "metadata": {
        "id": "b00s94P5rfxT"
      },
      "outputs": [],
      "source": [
        "def new_softmax(X): \n",
        "  sum1 = X.sum(axis=1, keepdims=True) \n",
        "  X = X / sum1\n",
        "  X_exp = torch.exp(X)\n",
        "  sum2 = X_exp.sum(axis=1, keepdims=True)\n",
        "  return (X_exp / sum2)"
      ]
    },
    {
      "cell_type": "code",
      "execution_count": null,
      "metadata": {
        "colab": {
          "base_uri": "https://localhost:8080/"
        },
        "id": "KNnfLJG4sO3-",
        "outputId": "b091b2a9-a214-46a4-9390-22667174a986"
      },
      "outputs": [
        {
          "data": {
            "text/plain": [
              "tensor([[0.3127, 0.4162, 0.2711]], grad_fn=<DivBackward0>)"
            ]
          },
          "execution_count": 41,
          "metadata": {},
          "output_type": "execute_result"
        }
      ],
      "source": [
        "new_softmax(a)"
      ]
    },
    {
      "cell_type": "code",
      "execution_count": null,
      "metadata": {
        "colab": {
          "base_uri": "https://localhost:8080/"
        },
        "id": "UADZGSCvsSj-",
        "outputId": "aa982d73-57ba-4246-e5be-d737d4a1dede"
      },
      "outputs": [
        {
          "data": {
            "text/plain": [
              "tensor([[0.3156, 0.3464, 0.3381]])"
            ]
          },
          "execution_count": 42,
          "metadata": {},
          "output_type": "execute_result"
        }
      ],
      "source": [
        "new_softmax(b)"
      ]
    },
    {
      "cell_type": "code",
      "execution_count": null,
      "metadata": {
        "colab": {
          "base_uri": "https://localhost:8080/"
        },
        "id": "UqvKUZVRlTfR",
        "outputId": "af54f7eb-6b49-4c50-85fb-366f4eb21fc0"
      },
      "outputs": [
        {
          "data": {
            "text/plain": [
              "tensor([[0.2390, 0.5426, 0.2184]])"
            ]
          },
          "execution_count": 48,
          "metadata": {},
          "output_type": "execute_result"
        }
      ],
      "source": [
        "a = torch.tensor([990, 10000, 0.01], dtype=torch.float32).reshape(1, -1)\n",
        "\n",
        "new_softmax(a)"
      ]
    },
    {
      "cell_type": "markdown",
      "metadata": {
        "id": "_Pnx48MisveN"
      },
      "source": [
        "### Q2:\n",
        "\n",
        "if y_hat for certain class is 0 then log of that will give us -inf\n",
        "\n",
        "there is another problem with pd.get_dummies\n",
        "\n",
        "if in a batch there is no instance of class 6 then there will be no column for class 6 in the hot encoded data"
      ]
    },
    {
      "cell_type": "code",
      "execution_count": 25,
      "metadata": {
        "id": "wY5S9zeFthYV"
      },
      "outputs": [],
      "source": [
        "import pandas as pd"
      ]
    },
    {
      "cell_type": "code",
      "execution_count": 26,
      "metadata": {
        "id": "f4w9FnAfuO0t"
      },
      "outputs": [],
      "source": [
        "import numpy as np"
      ]
    },
    {
      "cell_type": "code",
      "execution_count": null,
      "metadata": {
        "colab": {
          "base_uri": "https://localhost:8080/"
        },
        "id": "-7MhgK_stCv6",
        "outputId": "cf823cbf-aa3b-4849-c865-900bd5dfabf9"
      },
      "outputs": [
        {
          "data": {
            "text/plain": [
              "torch.Size([39, 1, 28, 28])"
            ]
          },
          "execution_count": 60,
          "metadata": {},
          "output_type": "execute_result"
        }
      ],
      "source": [
        "X.shape"
      ]
    },
    {
      "cell_type": "code",
      "execution_count": null,
      "metadata": {
        "colab": {
          "base_uri": "https://localhost:8080/",
          "height": 204
        },
        "id": "VMGebN6ctk1l",
        "outputId": "684aca5c-4e37-4ffe-e06f-32a777082823"
      },
      "outputs": [
        {
          "data": {
            "text/html": [
              "\n",
              "  <div id=\"df-2a5c1af7-ee7a-4b90-9afb-b765a843be8c\">\n",
              "    <div class=\"colab-df-container\">\n",
              "      <div>\n",
              "<style scoped>\n",
              "    .dataframe tbody tr th:only-of-type {\n",
              "        vertical-align: middle;\n",
              "    }\n",
              "\n",
              "    .dataframe tbody tr th {\n",
              "        vertical-align: top;\n",
              "    }\n",
              "\n",
              "    .dataframe thead th {\n",
              "        text-align: right;\n",
              "    }\n",
              "</style>\n",
              "<table border=\"1\" class=\"dataframe\">\n",
              "  <thead>\n",
              "    <tr style=\"text-align: right;\">\n",
              "      <th></th>\n",
              "      <th>2</th>\n",
              "      <th>3</th>\n",
              "      <th>4</th>\n",
              "      <th>5</th>\n",
              "      <th>6</th>\n",
              "      <th>7</th>\n",
              "      <th>8</th>\n",
              "      <th>9</th>\n",
              "    </tr>\n",
              "  </thead>\n",
              "  <tbody>\n",
              "    <tr>\n",
              "      <th>0</th>\n",
              "      <td>0</td>\n",
              "      <td>0</td>\n",
              "      <td>0</td>\n",
              "      <td>0</td>\n",
              "      <td>0</td>\n",
              "      <td>1</td>\n",
              "      <td>0</td>\n",
              "      <td>0</td>\n",
              "    </tr>\n",
              "    <tr>\n",
              "      <th>1</th>\n",
              "      <td>0</td>\n",
              "      <td>0</td>\n",
              "      <td>1</td>\n",
              "      <td>0</td>\n",
              "      <td>0</td>\n",
              "      <td>0</td>\n",
              "      <td>0</td>\n",
              "      <td>0</td>\n",
              "    </tr>\n",
              "    <tr>\n",
              "      <th>2</th>\n",
              "      <td>1</td>\n",
              "      <td>0</td>\n",
              "      <td>0</td>\n",
              "      <td>0</td>\n",
              "      <td>0</td>\n",
              "      <td>0</td>\n",
              "      <td>0</td>\n",
              "      <td>0</td>\n",
              "    </tr>\n",
              "    <tr>\n",
              "      <th>3</th>\n",
              "      <td>0</td>\n",
              "      <td>0</td>\n",
              "      <td>0</td>\n",
              "      <td>1</td>\n",
              "      <td>0</td>\n",
              "      <td>0</td>\n",
              "      <td>0</td>\n",
              "      <td>0</td>\n",
              "    </tr>\n",
              "    <tr>\n",
              "      <th>4</th>\n",
              "      <td>0</td>\n",
              "      <td>0</td>\n",
              "      <td>0</td>\n",
              "      <td>0</td>\n",
              "      <td>0</td>\n",
              "      <td>0</td>\n",
              "      <td>0</td>\n",
              "      <td>1</td>\n",
              "    </tr>\n",
              "  </tbody>\n",
              "</table>\n",
              "</div>\n",
              "      <button class=\"colab-df-convert\" onclick=\"convertToInteractive('df-2a5c1af7-ee7a-4b90-9afb-b765a843be8c')\"\n",
              "              title=\"Convert this dataframe to an interactive table.\"\n",
              "              style=\"display:none;\">\n",
              "        \n",
              "  <svg xmlns=\"http://www.w3.org/2000/svg\" height=\"24px\"viewBox=\"0 0 24 24\"\n",
              "       width=\"24px\">\n",
              "    <path d=\"M0 0h24v24H0V0z\" fill=\"none\"/>\n",
              "    <path d=\"M18.56 5.44l.94 2.06.94-2.06 2.06-.94-2.06-.94-.94-2.06-.94 2.06-2.06.94zm-11 1L8.5 8.5l.94-2.06 2.06-.94-2.06-.94L8.5 2.5l-.94 2.06-2.06.94zm10 10l.94 2.06.94-2.06 2.06-.94-2.06-.94-.94-2.06-.94 2.06-2.06.94z\"/><path d=\"M17.41 7.96l-1.37-1.37c-.4-.4-.92-.59-1.43-.59-.52 0-1.04.2-1.43.59L10.3 9.45l-7.72 7.72c-.78.78-.78 2.05 0 2.83L4 21.41c.39.39.9.59 1.41.59.51 0 1.02-.2 1.41-.59l7.78-7.78 2.81-2.81c.8-.78.8-2.07 0-2.86zM5.41 20L4 18.59l7.72-7.72 1.47 1.35L5.41 20z\"/>\n",
              "  </svg>\n",
              "      </button>\n",
              "      \n",
              "  <style>\n",
              "    .colab-df-container {\n",
              "      display:flex;\n",
              "      flex-wrap:wrap;\n",
              "      gap: 12px;\n",
              "    }\n",
              "\n",
              "    .colab-df-convert {\n",
              "      background-color: #E8F0FE;\n",
              "      border: none;\n",
              "      border-radius: 50%;\n",
              "      cursor: pointer;\n",
              "      display: none;\n",
              "      fill: #1967D2;\n",
              "      height: 32px;\n",
              "      padding: 0 0 0 0;\n",
              "      width: 32px;\n",
              "    }\n",
              "\n",
              "    .colab-df-convert:hover {\n",
              "      background-color: #E2EBFA;\n",
              "      box-shadow: 0px 1px 2px rgba(60, 64, 67, 0.3), 0px 1px 3px 1px rgba(60, 64, 67, 0.15);\n",
              "      fill: #174EA6;\n",
              "    }\n",
              "\n",
              "    [theme=dark] .colab-df-convert {\n",
              "      background-color: #3B4455;\n",
              "      fill: #D2E3FC;\n",
              "    }\n",
              "\n",
              "    [theme=dark] .colab-df-convert:hover {\n",
              "      background-color: #434B5C;\n",
              "      box-shadow: 0px 1px 3px 1px rgba(0, 0, 0, 0.15);\n",
              "      filter: drop-shadow(0px 1px 2px rgba(0, 0, 0, 0.3));\n",
              "      fill: #FFFFFF;\n",
              "    }\n",
              "  </style>\n",
              "\n",
              "      <script>\n",
              "        const buttonEl =\n",
              "          document.querySelector('#df-2a5c1af7-ee7a-4b90-9afb-b765a843be8c button.colab-df-convert');\n",
              "        buttonEl.style.display =\n",
              "          google.colab.kernel.accessAllowed ? 'block' : 'none';\n",
              "\n",
              "        async function convertToInteractive(key) {\n",
              "          const element = document.querySelector('#df-2a5c1af7-ee7a-4b90-9afb-b765a843be8c');\n",
              "          const dataTable =\n",
              "            await google.colab.kernel.invokeFunction('convertToInteractive',\n",
              "                                                     [key], {});\n",
              "          if (!dataTable) return;\n",
              "\n",
              "          const docLinkHtml = 'Like what you see? Visit the ' +\n",
              "            '<a target=\"_blank\" href=https://colab.research.google.com/notebooks/data_table.ipynb>data table notebook</a>'\n",
              "            + ' to learn more about interactive tables.';\n",
              "          element.innerHTML = '';\n",
              "          dataTable['output_type'] = 'display_data';\n",
              "          await google.colab.output.renderOutput(dataTable, element);\n",
              "          const docLink = document.createElement('div');\n",
              "          docLink.innerHTML = docLinkHtml;\n",
              "          element.appendChild(docLink);\n",
              "        }\n",
              "      </script>\n",
              "    </div>\n",
              "  </div>\n",
              "  "
            ],
            "text/plain": [
              "   2  3  4  5  6  7  8  9\n",
              "0  0  0  0  0  0  1  0  0\n",
              "1  0  0  1  0  0  0  0  0\n",
              "2  1  0  0  0  0  0  0  0\n",
              "3  0  0  0  1  0  0  0  0\n",
              "4  0  0  0  0  0  0  0  1"
            ]
          },
          "execution_count": 61,
          "metadata": {},
          "output_type": "execute_result"
        }
      ],
      "source": [
        "one_hot_encoded_data = pd.get_dummies(y.numpy())\n",
        "one_hot_encoded_data.head()"
      ]
    },
    {
      "cell_type": "code",
      "execution_count": null,
      "metadata": {
        "colab": {
          "base_uri": "https://localhost:8080/",
          "height": 204
        },
        "id": "LRhItb-_vzFA",
        "outputId": "f0252136-02f3-4f7c-e404-576fb7677b1e"
      },
      "outputs": [
        {
          "data": {
            "text/html": [
              "\n",
              "  <div id=\"df-e34092c0-599c-4deb-9cb0-0c155d07ecc9\">\n",
              "    <div class=\"colab-df-container\">\n",
              "      <div>\n",
              "<style scoped>\n",
              "    .dataframe tbody tr th:only-of-type {\n",
              "        vertical-align: middle;\n",
              "    }\n",
              "\n",
              "    .dataframe tbody tr th {\n",
              "        vertical-align: top;\n",
              "    }\n",
              "\n",
              "    .dataframe thead th {\n",
              "        text-align: right;\n",
              "    }\n",
              "</style>\n",
              "<table border=\"1\" class=\"dataframe\">\n",
              "  <thead>\n",
              "    <tr style=\"text-align: right;\">\n",
              "      <th></th>\n",
              "      <th>2</th>\n",
              "      <th>3</th>\n",
              "      <th>4</th>\n",
              "      <th>5</th>\n",
              "      <th>6</th>\n",
              "      <th>7</th>\n",
              "      <th>8</th>\n",
              "      <th>9</th>\n",
              "      <th>1</th>\n",
              "      <th>0</th>\n",
              "    </tr>\n",
              "  </thead>\n",
              "  <tbody>\n",
              "    <tr>\n",
              "      <th>0</th>\n",
              "      <td>0</td>\n",
              "      <td>0</td>\n",
              "      <td>0</td>\n",
              "      <td>0</td>\n",
              "      <td>0</td>\n",
              "      <td>1</td>\n",
              "      <td>0</td>\n",
              "      <td>0</td>\n",
              "      <td>0</td>\n",
              "      <td>0</td>\n",
              "    </tr>\n",
              "    <tr>\n",
              "      <th>1</th>\n",
              "      <td>0</td>\n",
              "      <td>0</td>\n",
              "      <td>1</td>\n",
              "      <td>0</td>\n",
              "      <td>0</td>\n",
              "      <td>0</td>\n",
              "      <td>0</td>\n",
              "      <td>0</td>\n",
              "      <td>0</td>\n",
              "      <td>0</td>\n",
              "    </tr>\n",
              "    <tr>\n",
              "      <th>2</th>\n",
              "      <td>1</td>\n",
              "      <td>0</td>\n",
              "      <td>0</td>\n",
              "      <td>0</td>\n",
              "      <td>0</td>\n",
              "      <td>0</td>\n",
              "      <td>0</td>\n",
              "      <td>0</td>\n",
              "      <td>0</td>\n",
              "      <td>0</td>\n",
              "    </tr>\n",
              "    <tr>\n",
              "      <th>3</th>\n",
              "      <td>0</td>\n",
              "      <td>0</td>\n",
              "      <td>0</td>\n",
              "      <td>1</td>\n",
              "      <td>0</td>\n",
              "      <td>0</td>\n",
              "      <td>0</td>\n",
              "      <td>0</td>\n",
              "      <td>0</td>\n",
              "      <td>0</td>\n",
              "    </tr>\n",
              "    <tr>\n",
              "      <th>4</th>\n",
              "      <td>0</td>\n",
              "      <td>0</td>\n",
              "      <td>0</td>\n",
              "      <td>0</td>\n",
              "      <td>0</td>\n",
              "      <td>0</td>\n",
              "      <td>0</td>\n",
              "      <td>1</td>\n",
              "      <td>0</td>\n",
              "      <td>0</td>\n",
              "    </tr>\n",
              "  </tbody>\n",
              "</table>\n",
              "</div>\n",
              "      <button class=\"colab-df-convert\" onclick=\"convertToInteractive('df-e34092c0-599c-4deb-9cb0-0c155d07ecc9')\"\n",
              "              title=\"Convert this dataframe to an interactive table.\"\n",
              "              style=\"display:none;\">\n",
              "        \n",
              "  <svg xmlns=\"http://www.w3.org/2000/svg\" height=\"24px\"viewBox=\"0 0 24 24\"\n",
              "       width=\"24px\">\n",
              "    <path d=\"M0 0h24v24H0V0z\" fill=\"none\"/>\n",
              "    <path d=\"M18.56 5.44l.94 2.06.94-2.06 2.06-.94-2.06-.94-.94-2.06-.94 2.06-2.06.94zm-11 1L8.5 8.5l.94-2.06 2.06-.94-2.06-.94L8.5 2.5l-.94 2.06-2.06.94zm10 10l.94 2.06.94-2.06 2.06-.94-2.06-.94-.94-2.06-.94 2.06-2.06.94z\"/><path d=\"M17.41 7.96l-1.37-1.37c-.4-.4-.92-.59-1.43-.59-.52 0-1.04.2-1.43.59L10.3 9.45l-7.72 7.72c-.78.78-.78 2.05 0 2.83L4 21.41c.39.39.9.59 1.41.59.51 0 1.02-.2 1.41-.59l7.78-7.78 2.81-2.81c.8-.78.8-2.07 0-2.86zM5.41 20L4 18.59l7.72-7.72 1.47 1.35L5.41 20z\"/>\n",
              "  </svg>\n",
              "      </button>\n",
              "      \n",
              "  <style>\n",
              "    .colab-df-container {\n",
              "      display:flex;\n",
              "      flex-wrap:wrap;\n",
              "      gap: 12px;\n",
              "    }\n",
              "\n",
              "    .colab-df-convert {\n",
              "      background-color: #E8F0FE;\n",
              "      border: none;\n",
              "      border-radius: 50%;\n",
              "      cursor: pointer;\n",
              "      display: none;\n",
              "      fill: #1967D2;\n",
              "      height: 32px;\n",
              "      padding: 0 0 0 0;\n",
              "      width: 32px;\n",
              "    }\n",
              "\n",
              "    .colab-df-convert:hover {\n",
              "      background-color: #E2EBFA;\n",
              "      box-shadow: 0px 1px 2px rgba(60, 64, 67, 0.3), 0px 1px 3px 1px rgba(60, 64, 67, 0.15);\n",
              "      fill: #174EA6;\n",
              "    }\n",
              "\n",
              "    [theme=dark] .colab-df-convert {\n",
              "      background-color: #3B4455;\n",
              "      fill: #D2E3FC;\n",
              "    }\n",
              "\n",
              "    [theme=dark] .colab-df-convert:hover {\n",
              "      background-color: #434B5C;\n",
              "      box-shadow: 0px 1px 3px 1px rgba(0, 0, 0, 0.15);\n",
              "      filter: drop-shadow(0px 1px 2px rgba(0, 0, 0, 0.3));\n",
              "      fill: #FFFFFF;\n",
              "    }\n",
              "  </style>\n",
              "\n",
              "      <script>\n",
              "        const buttonEl =\n",
              "          document.querySelector('#df-e34092c0-599c-4deb-9cb0-0c155d07ecc9 button.colab-df-convert');\n",
              "        buttonEl.style.display =\n",
              "          google.colab.kernel.accessAllowed ? 'block' : 'none';\n",
              "\n",
              "        async function convertToInteractive(key) {\n",
              "          const element = document.querySelector('#df-e34092c0-599c-4deb-9cb0-0c155d07ecc9');\n",
              "          const dataTable =\n",
              "            await google.colab.kernel.invokeFunction('convertToInteractive',\n",
              "                                                     [key], {});\n",
              "          if (!dataTable) return;\n",
              "\n",
              "          const docLinkHtml = 'Like what you see? Visit the ' +\n",
              "            '<a target=\"_blank\" href=https://colab.research.google.com/notebooks/data_table.ipynb>data table notebook</a>'\n",
              "            + ' to learn more about interactive tables.';\n",
              "          element.innerHTML = '';\n",
              "          dataTable['output_type'] = 'display_data';\n",
              "          await google.colab.output.renderOutput(dataTable, element);\n",
              "          const docLink = document.createElement('div');\n",
              "          docLink.innerHTML = docLinkHtml;\n",
              "          element.appendChild(docLink);\n",
              "        }\n",
              "      </script>\n",
              "    </div>\n",
              "  </div>\n",
              "  "
            ],
            "text/plain": [
              "   2  3  4  5  6  7  8  9  1  0\n",
              "0  0  0  0  0  0  1  0  0  0  0\n",
              "1  0  0  1  0  0  0  0  0  0  0\n",
              "2  1  0  0  0  0  0  0  0  0  0\n",
              "3  0  0  0  1  0  0  0  0  0  0\n",
              "4  0  0  0  0  0  0  0  1  0  0"
            ]
          },
          "execution_count": 67,
          "metadata": {},
          "output_type": "execute_result"
        }
      ],
      "source": [
        "one_hot_encoded_data[0] = 0\n",
        "one_hot_encoded_data.head() "
      ]
    },
    {
      "cell_type": "code",
      "execution_count": null,
      "metadata": {
        "colab": {
          "base_uri": "https://localhost:8080/",
          "height": 204
        },
        "id": "HznBDbeNxVWm",
        "outputId": "28c36c8e-4b07-492b-dc0c-f30f0ea458a0"
      },
      "outputs": [
        {
          "data": {
            "text/html": [
              "\n",
              "  <div id=\"df-a8c5d2f9-5afb-42b4-9084-8acb485310c8\">\n",
              "    <div class=\"colab-df-container\">\n",
              "      <div>\n",
              "<style scoped>\n",
              "    .dataframe tbody tr th:only-of-type {\n",
              "        vertical-align: middle;\n",
              "    }\n",
              "\n",
              "    .dataframe tbody tr th {\n",
              "        vertical-align: top;\n",
              "    }\n",
              "\n",
              "    .dataframe thead th {\n",
              "        text-align: right;\n",
              "    }\n",
              "</style>\n",
              "<table border=\"1\" class=\"dataframe\">\n",
              "  <thead>\n",
              "    <tr style=\"text-align: right;\">\n",
              "      <th></th>\n",
              "      <th>2</th>\n",
              "      <th>3</th>\n",
              "      <th>4</th>\n",
              "      <th>5</th>\n",
              "      <th>6</th>\n",
              "      <th>7</th>\n",
              "      <th>8</th>\n",
              "      <th>9</th>\n",
              "      <th>1</th>\n",
              "      <th>0</th>\n",
              "    </tr>\n",
              "  </thead>\n",
              "  <tbody>\n",
              "    <tr>\n",
              "      <th>0</th>\n",
              "      <td>0</td>\n",
              "      <td>0</td>\n",
              "      <td>0</td>\n",
              "      <td>0</td>\n",
              "      <td>0</td>\n",
              "      <td>1</td>\n",
              "      <td>0</td>\n",
              "      <td>0</td>\n",
              "      <td>0</td>\n",
              "      <td>0</td>\n",
              "    </tr>\n",
              "    <tr>\n",
              "      <th>1</th>\n",
              "      <td>0</td>\n",
              "      <td>0</td>\n",
              "      <td>1</td>\n",
              "      <td>0</td>\n",
              "      <td>0</td>\n",
              "      <td>0</td>\n",
              "      <td>0</td>\n",
              "      <td>0</td>\n",
              "      <td>0</td>\n",
              "      <td>0</td>\n",
              "    </tr>\n",
              "    <tr>\n",
              "      <th>2</th>\n",
              "      <td>1</td>\n",
              "      <td>0</td>\n",
              "      <td>0</td>\n",
              "      <td>0</td>\n",
              "      <td>0</td>\n",
              "      <td>0</td>\n",
              "      <td>0</td>\n",
              "      <td>0</td>\n",
              "      <td>0</td>\n",
              "      <td>0</td>\n",
              "    </tr>\n",
              "    <tr>\n",
              "      <th>3</th>\n",
              "      <td>0</td>\n",
              "      <td>0</td>\n",
              "      <td>0</td>\n",
              "      <td>1</td>\n",
              "      <td>0</td>\n",
              "      <td>0</td>\n",
              "      <td>0</td>\n",
              "      <td>0</td>\n",
              "      <td>0</td>\n",
              "      <td>0</td>\n",
              "    </tr>\n",
              "    <tr>\n",
              "      <th>4</th>\n",
              "      <td>0</td>\n",
              "      <td>0</td>\n",
              "      <td>0</td>\n",
              "      <td>0</td>\n",
              "      <td>0</td>\n",
              "      <td>0</td>\n",
              "      <td>0</td>\n",
              "      <td>1</td>\n",
              "      <td>0</td>\n",
              "      <td>0</td>\n",
              "    </tr>\n",
              "  </tbody>\n",
              "</table>\n",
              "</div>\n",
              "      <button class=\"colab-df-convert\" onclick=\"convertToInteractive('df-a8c5d2f9-5afb-42b4-9084-8acb485310c8')\"\n",
              "              title=\"Convert this dataframe to an interactive table.\"\n",
              "              style=\"display:none;\">\n",
              "        \n",
              "  <svg xmlns=\"http://www.w3.org/2000/svg\" height=\"24px\"viewBox=\"0 0 24 24\"\n",
              "       width=\"24px\">\n",
              "    <path d=\"M0 0h24v24H0V0z\" fill=\"none\"/>\n",
              "    <path d=\"M18.56 5.44l.94 2.06.94-2.06 2.06-.94-2.06-.94-.94-2.06-.94 2.06-2.06.94zm-11 1L8.5 8.5l.94-2.06 2.06-.94-2.06-.94L8.5 2.5l-.94 2.06-2.06.94zm10 10l.94 2.06.94-2.06 2.06-.94-2.06-.94-.94-2.06-.94 2.06-2.06.94z\"/><path d=\"M17.41 7.96l-1.37-1.37c-.4-.4-.92-.59-1.43-.59-.52 0-1.04.2-1.43.59L10.3 9.45l-7.72 7.72c-.78.78-.78 2.05 0 2.83L4 21.41c.39.39.9.59 1.41.59.51 0 1.02-.2 1.41-.59l7.78-7.78 2.81-2.81c.8-.78.8-2.07 0-2.86zM5.41 20L4 18.59l7.72-7.72 1.47 1.35L5.41 20z\"/>\n",
              "  </svg>\n",
              "      </button>\n",
              "      \n",
              "  <style>\n",
              "    .colab-df-container {\n",
              "      display:flex;\n",
              "      flex-wrap:wrap;\n",
              "      gap: 12px;\n",
              "    }\n",
              "\n",
              "    .colab-df-convert {\n",
              "      background-color: #E8F0FE;\n",
              "      border: none;\n",
              "      border-radius: 50%;\n",
              "      cursor: pointer;\n",
              "      display: none;\n",
              "      fill: #1967D2;\n",
              "      height: 32px;\n",
              "      padding: 0 0 0 0;\n",
              "      width: 32px;\n",
              "    }\n",
              "\n",
              "    .colab-df-convert:hover {\n",
              "      background-color: #E2EBFA;\n",
              "      box-shadow: 0px 1px 2px rgba(60, 64, 67, 0.3), 0px 1px 3px 1px rgba(60, 64, 67, 0.15);\n",
              "      fill: #174EA6;\n",
              "    }\n",
              "\n",
              "    [theme=dark] .colab-df-convert {\n",
              "      background-color: #3B4455;\n",
              "      fill: #D2E3FC;\n",
              "    }\n",
              "\n",
              "    [theme=dark] .colab-df-convert:hover {\n",
              "      background-color: #434B5C;\n",
              "      box-shadow: 0px 1px 3px 1px rgba(0, 0, 0, 0.15);\n",
              "      filter: drop-shadow(0px 1px 2px rgba(0, 0, 0, 0.3));\n",
              "      fill: #FFFFFF;\n",
              "    }\n",
              "  </style>\n",
              "\n",
              "      <script>\n",
              "        const buttonEl =\n",
              "          document.querySelector('#df-a8c5d2f9-5afb-42b4-9084-8acb485310c8 button.colab-df-convert');\n",
              "        buttonEl.style.display =\n",
              "          google.colab.kernel.accessAllowed ? 'block' : 'none';\n",
              "\n",
              "        async function convertToInteractive(key) {\n",
              "          const element = document.querySelector('#df-a8c5d2f9-5afb-42b4-9084-8acb485310c8');\n",
              "          const dataTable =\n",
              "            await google.colab.kernel.invokeFunction('convertToInteractive',\n",
              "                                                     [key], {});\n",
              "          if (!dataTable) return;\n",
              "\n",
              "          const docLinkHtml = 'Like what you see? Visit the ' +\n",
              "            '<a target=\"_blank\" href=https://colab.research.google.com/notebooks/data_table.ipynb>data table notebook</a>'\n",
              "            + ' to learn more about interactive tables.';\n",
              "          element.innerHTML = '';\n",
              "          dataTable['output_type'] = 'display_data';\n",
              "          await google.colab.output.renderOutput(dataTable, element);\n",
              "          const docLink = document.createElement('div');\n",
              "          docLink.innerHTML = docLinkHtml;\n",
              "          element.appendChild(docLink);\n",
              "        }\n",
              "      </script>\n",
              "    </div>\n",
              "  </div>\n",
              "  "
            ],
            "text/plain": [
              "   2  3  4  5  6  7  8  9  1  0\n",
              "0  0  0  0  0  0  1  0  0  0  0\n",
              "1  0  0  1  0  0  0  0  0  0  0\n",
              "2  1  0  0  0  0  0  0  0  0  0\n",
              "3  0  0  0  1  0  0  0  0  0  0\n",
              "4  0  0  0  0  0  0  0  1  0  0"
            ]
          },
          "execution_count": 68,
          "metadata": {},
          "output_type": "execute_result"
        }
      ],
      "source": [
        "one_hot_encoded_data.head()"
      ]
    },
    {
      "cell_type": "code",
      "execution_count": null,
      "metadata": {
        "colab": {
          "base_uri": "https://localhost:8080/",
          "height": 204
        },
        "id": "VsfLUnoPxdqg",
        "outputId": "f6af100b-78ba-42ae-a95a-4c9ff9b03436"
      },
      "outputs": [
        {
          "data": {
            "text/html": [
              "\n",
              "  <div id=\"df-197e4424-98a7-461a-abbd-5a9b757f2e48\">\n",
              "    <div class=\"colab-df-container\">\n",
              "      <div>\n",
              "<style scoped>\n",
              "    .dataframe tbody tr th:only-of-type {\n",
              "        vertical-align: middle;\n",
              "    }\n",
              "\n",
              "    .dataframe tbody tr th {\n",
              "        vertical-align: top;\n",
              "    }\n",
              "\n",
              "    .dataframe thead th {\n",
              "        text-align: right;\n",
              "    }\n",
              "</style>\n",
              "<table border=\"1\" class=\"dataframe\">\n",
              "  <thead>\n",
              "    <tr style=\"text-align: right;\">\n",
              "      <th></th>\n",
              "      <th>0</th>\n",
              "      <th>1</th>\n",
              "      <th>2</th>\n",
              "      <th>3</th>\n",
              "      <th>4</th>\n",
              "      <th>5</th>\n",
              "      <th>6</th>\n",
              "      <th>7</th>\n",
              "      <th>8</th>\n",
              "      <th>9</th>\n",
              "    </tr>\n",
              "  </thead>\n",
              "  <tbody>\n",
              "    <tr>\n",
              "      <th>0</th>\n",
              "      <td>0</td>\n",
              "      <td>0</td>\n",
              "      <td>0</td>\n",
              "      <td>0</td>\n",
              "      <td>0</td>\n",
              "      <td>0</td>\n",
              "      <td>0</td>\n",
              "      <td>1</td>\n",
              "      <td>0</td>\n",
              "      <td>0</td>\n",
              "    </tr>\n",
              "    <tr>\n",
              "      <th>1</th>\n",
              "      <td>0</td>\n",
              "      <td>0</td>\n",
              "      <td>0</td>\n",
              "      <td>0</td>\n",
              "      <td>1</td>\n",
              "      <td>0</td>\n",
              "      <td>0</td>\n",
              "      <td>0</td>\n",
              "      <td>0</td>\n",
              "      <td>0</td>\n",
              "    </tr>\n",
              "    <tr>\n",
              "      <th>2</th>\n",
              "      <td>0</td>\n",
              "      <td>0</td>\n",
              "      <td>1</td>\n",
              "      <td>0</td>\n",
              "      <td>0</td>\n",
              "      <td>0</td>\n",
              "      <td>0</td>\n",
              "      <td>0</td>\n",
              "      <td>0</td>\n",
              "      <td>0</td>\n",
              "    </tr>\n",
              "    <tr>\n",
              "      <th>3</th>\n",
              "      <td>0</td>\n",
              "      <td>0</td>\n",
              "      <td>0</td>\n",
              "      <td>0</td>\n",
              "      <td>0</td>\n",
              "      <td>1</td>\n",
              "      <td>0</td>\n",
              "      <td>0</td>\n",
              "      <td>0</td>\n",
              "      <td>0</td>\n",
              "    </tr>\n",
              "    <tr>\n",
              "      <th>4</th>\n",
              "      <td>0</td>\n",
              "      <td>0</td>\n",
              "      <td>0</td>\n",
              "      <td>0</td>\n",
              "      <td>0</td>\n",
              "      <td>0</td>\n",
              "      <td>0</td>\n",
              "      <td>0</td>\n",
              "      <td>0</td>\n",
              "      <td>1</td>\n",
              "    </tr>\n",
              "  </tbody>\n",
              "</table>\n",
              "</div>\n",
              "      <button class=\"colab-df-convert\" onclick=\"convertToInteractive('df-197e4424-98a7-461a-abbd-5a9b757f2e48')\"\n",
              "              title=\"Convert this dataframe to an interactive table.\"\n",
              "              style=\"display:none;\">\n",
              "        \n",
              "  <svg xmlns=\"http://www.w3.org/2000/svg\" height=\"24px\"viewBox=\"0 0 24 24\"\n",
              "       width=\"24px\">\n",
              "    <path d=\"M0 0h24v24H0V0z\" fill=\"none\"/>\n",
              "    <path d=\"M18.56 5.44l.94 2.06.94-2.06 2.06-.94-2.06-.94-.94-2.06-.94 2.06-2.06.94zm-11 1L8.5 8.5l.94-2.06 2.06-.94-2.06-.94L8.5 2.5l-.94 2.06-2.06.94zm10 10l.94 2.06.94-2.06 2.06-.94-2.06-.94-.94-2.06-.94 2.06-2.06.94z\"/><path d=\"M17.41 7.96l-1.37-1.37c-.4-.4-.92-.59-1.43-.59-.52 0-1.04.2-1.43.59L10.3 9.45l-7.72 7.72c-.78.78-.78 2.05 0 2.83L4 21.41c.39.39.9.59 1.41.59.51 0 1.02-.2 1.41-.59l7.78-7.78 2.81-2.81c.8-.78.8-2.07 0-2.86zM5.41 20L4 18.59l7.72-7.72 1.47 1.35L5.41 20z\"/>\n",
              "  </svg>\n",
              "      </button>\n",
              "      \n",
              "  <style>\n",
              "    .colab-df-container {\n",
              "      display:flex;\n",
              "      flex-wrap:wrap;\n",
              "      gap: 12px;\n",
              "    }\n",
              "\n",
              "    .colab-df-convert {\n",
              "      background-color: #E8F0FE;\n",
              "      border: none;\n",
              "      border-radius: 50%;\n",
              "      cursor: pointer;\n",
              "      display: none;\n",
              "      fill: #1967D2;\n",
              "      height: 32px;\n",
              "      padding: 0 0 0 0;\n",
              "      width: 32px;\n",
              "    }\n",
              "\n",
              "    .colab-df-convert:hover {\n",
              "      background-color: #E2EBFA;\n",
              "      box-shadow: 0px 1px 2px rgba(60, 64, 67, 0.3), 0px 1px 3px 1px rgba(60, 64, 67, 0.15);\n",
              "      fill: #174EA6;\n",
              "    }\n",
              "\n",
              "    [theme=dark] .colab-df-convert {\n",
              "      background-color: #3B4455;\n",
              "      fill: #D2E3FC;\n",
              "    }\n",
              "\n",
              "    [theme=dark] .colab-df-convert:hover {\n",
              "      background-color: #434B5C;\n",
              "      box-shadow: 0px 1px 3px 1px rgba(0, 0, 0, 0.15);\n",
              "      filter: drop-shadow(0px 1px 2px rgba(0, 0, 0, 0.3));\n",
              "      fill: #FFFFFF;\n",
              "    }\n",
              "  </style>\n",
              "\n",
              "      <script>\n",
              "        const buttonEl =\n",
              "          document.querySelector('#df-197e4424-98a7-461a-abbd-5a9b757f2e48 button.colab-df-convert');\n",
              "        buttonEl.style.display =\n",
              "          google.colab.kernel.accessAllowed ? 'block' : 'none';\n",
              "\n",
              "        async function convertToInteractive(key) {\n",
              "          const element = document.querySelector('#df-197e4424-98a7-461a-abbd-5a9b757f2e48');\n",
              "          const dataTable =\n",
              "            await google.colab.kernel.invokeFunction('convertToInteractive',\n",
              "                                                     [key], {});\n",
              "          if (!dataTable) return;\n",
              "\n",
              "          const docLinkHtml = 'Like what you see? Visit the ' +\n",
              "            '<a target=\"_blank\" href=https://colab.research.google.com/notebooks/data_table.ipynb>data table notebook</a>'\n",
              "            + ' to learn more about interactive tables.';\n",
              "          element.innerHTML = '';\n",
              "          dataTable['output_type'] = 'display_data';\n",
              "          await google.colab.output.renderOutput(dataTable, element);\n",
              "          const docLink = document.createElement('div');\n",
              "          docLink.innerHTML = docLinkHtml;\n",
              "          element.appendChild(docLink);\n",
              "        }\n",
              "      </script>\n",
              "    </div>\n",
              "  </div>\n",
              "  "
            ],
            "text/plain": [
              "   0  1  2  3  4  5  6  7  8  9\n",
              "0  0  0  0  0  0  0  0  1  0  0\n",
              "1  0  0  0  0  1  0  0  0  0  0\n",
              "2  0  0  1  0  0  0  0  0  0  0\n",
              "3  0  0  0  0  0  1  0  0  0  0\n",
              "4  0  0  0  0  0  0  0  0  0  1"
            ]
          },
          "execution_count": 69,
          "metadata": {},
          "output_type": "execute_result"
        }
      ],
      "source": [
        "a = one_hot_encoded_data[[0, 1, 2, 3, 4, 5, 6, 7, 8, 9]]\n",
        "a.head()"
      ]
    },
    {
      "cell_type": "code",
      "execution_count": null,
      "metadata": {
        "colab": {
          "base_uri": "https://localhost:8080/"
        },
        "id": "ipYJ1g-zwvxp",
        "outputId": "caec6cb9-6eb6-4b92-9902-3cea1ccf8a10"
      },
      "outputs": [
        {
          "data": {
            "text/plain": [
              "Int64Index([2, 3, 4, 5, 6, 7, 8, 9, 1, 0], dtype='int64')"
            ]
          },
          "execution_count": 70,
          "metadata": {},
          "output_type": "execute_result"
        }
      ],
      "source": [
        "one_hot_encoded_data.columns"
      ]
    },
    {
      "cell_type": "code",
      "execution_count": null,
      "metadata": {
        "id": "OzDZkpMjt9DU"
      },
      "outputs": [],
      "source": [
        "y_numpy = a.to_numpy()"
      ]
    },
    {
      "cell_type": "code",
      "execution_count": null,
      "metadata": {
        "colab": {
          "base_uri": "https://localhost:8080/"
        },
        "id": "ZSGShpTsyUTe",
        "outputId": "cd7b394e-58f6-4ccb-cb9d-0e1aa1f73c4a"
      },
      "outputs": [
        {
          "data": {
            "text/plain": [
              "(39, 10)"
            ]
          },
          "execution_count": 72,
          "metadata": {},
          "output_type": "execute_result"
        }
      ],
      "source": [
        "y_numpy.shape"
      ]
    },
    {
      "cell_type": "code",
      "execution_count": null,
      "metadata": {
        "colab": {
          "base_uri": "https://localhost:8080/"
        },
        "id": "GQdnknoJvBt_",
        "outputId": "189224ec-e6c5-4f60-bcc1-2b93901acc26"
      },
      "outputs": [
        {
          "data": {
            "text/plain": [
              "torch.Size([39])"
            ]
          },
          "execution_count": 73,
          "metadata": {},
          "output_type": "execute_result"
        }
      ],
      "source": [
        "preds.shape"
      ]
    },
    {
      "cell_type": "code",
      "execution_count": null,
      "metadata": {
        "colab": {
          "base_uri": "https://localhost:8080/",
          "height": 204
        },
        "id": "yzNAls9avTis",
        "outputId": "0b4e880b-9bf2-45bf-9665-d4b04a147b7c"
      },
      "outputs": [
        {
          "data": {
            "text/html": [
              "\n",
              "  <div id=\"df-6c22e725-10f7-4019-b04b-7f758eb9f100\">\n",
              "    <div class=\"colab-df-container\">\n",
              "      <div>\n",
              "<style scoped>\n",
              "    .dataframe tbody tr th:only-of-type {\n",
              "        vertical-align: middle;\n",
              "    }\n",
              "\n",
              "    .dataframe tbody tr th {\n",
              "        vertical-align: top;\n",
              "    }\n",
              "\n",
              "    .dataframe thead th {\n",
              "        text-align: right;\n",
              "    }\n",
              "</style>\n",
              "<table border=\"1\" class=\"dataframe\">\n",
              "  <thead>\n",
              "    <tr style=\"text-align: right;\">\n",
              "      <th></th>\n",
              "      <th>0</th>\n",
              "      <th>2</th>\n",
              "      <th>3</th>\n",
              "      <th>4</th>\n",
              "      <th>5</th>\n",
              "      <th>6</th>\n",
              "      <th>7</th>\n",
              "      <th>8</th>\n",
              "      <th>9</th>\n",
              "    </tr>\n",
              "  </thead>\n",
              "  <tbody>\n",
              "    <tr>\n",
              "      <th>0</th>\n",
              "      <td>0</td>\n",
              "      <td>0</td>\n",
              "      <td>0</td>\n",
              "      <td>0</td>\n",
              "      <td>1</td>\n",
              "      <td>0</td>\n",
              "      <td>0</td>\n",
              "      <td>0</td>\n",
              "      <td>0</td>\n",
              "    </tr>\n",
              "    <tr>\n",
              "      <th>1</th>\n",
              "      <td>0</td>\n",
              "      <td>1</td>\n",
              "      <td>0</td>\n",
              "      <td>0</td>\n",
              "      <td>0</td>\n",
              "      <td>0</td>\n",
              "      <td>0</td>\n",
              "      <td>0</td>\n",
              "      <td>0</td>\n",
              "    </tr>\n",
              "    <tr>\n",
              "      <th>2</th>\n",
              "      <td>1</td>\n",
              "      <td>0</td>\n",
              "      <td>0</td>\n",
              "      <td>0</td>\n",
              "      <td>0</td>\n",
              "      <td>0</td>\n",
              "      <td>0</td>\n",
              "      <td>0</td>\n",
              "      <td>0</td>\n",
              "    </tr>\n",
              "    <tr>\n",
              "      <th>3</th>\n",
              "      <td>0</td>\n",
              "      <td>0</td>\n",
              "      <td>0</td>\n",
              "      <td>0</td>\n",
              "      <td>0</td>\n",
              "      <td>0</td>\n",
              "      <td>1</td>\n",
              "      <td>0</td>\n",
              "      <td>0</td>\n",
              "    </tr>\n",
              "    <tr>\n",
              "      <th>4</th>\n",
              "      <td>0</td>\n",
              "      <td>0</td>\n",
              "      <td>0</td>\n",
              "      <td>0</td>\n",
              "      <td>0</td>\n",
              "      <td>0</td>\n",
              "      <td>1</td>\n",
              "      <td>0</td>\n",
              "      <td>0</td>\n",
              "    </tr>\n",
              "  </tbody>\n",
              "</table>\n",
              "</div>\n",
              "      <button class=\"colab-df-convert\" onclick=\"convertToInteractive('df-6c22e725-10f7-4019-b04b-7f758eb9f100')\"\n",
              "              title=\"Convert this dataframe to an interactive table.\"\n",
              "              style=\"display:none;\">\n",
              "        \n",
              "  <svg xmlns=\"http://www.w3.org/2000/svg\" height=\"24px\"viewBox=\"0 0 24 24\"\n",
              "       width=\"24px\">\n",
              "    <path d=\"M0 0h24v24H0V0z\" fill=\"none\"/>\n",
              "    <path d=\"M18.56 5.44l.94 2.06.94-2.06 2.06-.94-2.06-.94-.94-2.06-.94 2.06-2.06.94zm-11 1L8.5 8.5l.94-2.06 2.06-.94-2.06-.94L8.5 2.5l-.94 2.06-2.06.94zm10 10l.94 2.06.94-2.06 2.06-.94-2.06-.94-.94-2.06-.94 2.06-2.06.94z\"/><path d=\"M17.41 7.96l-1.37-1.37c-.4-.4-.92-.59-1.43-.59-.52 0-1.04.2-1.43.59L10.3 9.45l-7.72 7.72c-.78.78-.78 2.05 0 2.83L4 21.41c.39.39.9.59 1.41.59.51 0 1.02-.2 1.41-.59l7.78-7.78 2.81-2.81c.8-.78.8-2.07 0-2.86zM5.41 20L4 18.59l7.72-7.72 1.47 1.35L5.41 20z\"/>\n",
              "  </svg>\n",
              "      </button>\n",
              "      \n",
              "  <style>\n",
              "    .colab-df-container {\n",
              "      display:flex;\n",
              "      flex-wrap:wrap;\n",
              "      gap: 12px;\n",
              "    }\n",
              "\n",
              "    .colab-df-convert {\n",
              "      background-color: #E8F0FE;\n",
              "      border: none;\n",
              "      border-radius: 50%;\n",
              "      cursor: pointer;\n",
              "      display: none;\n",
              "      fill: #1967D2;\n",
              "      height: 32px;\n",
              "      padding: 0 0 0 0;\n",
              "      width: 32px;\n",
              "    }\n",
              "\n",
              "    .colab-df-convert:hover {\n",
              "      background-color: #E2EBFA;\n",
              "      box-shadow: 0px 1px 2px rgba(60, 64, 67, 0.3), 0px 1px 3px 1px rgba(60, 64, 67, 0.15);\n",
              "      fill: #174EA6;\n",
              "    }\n",
              "\n",
              "    [theme=dark] .colab-df-convert {\n",
              "      background-color: #3B4455;\n",
              "      fill: #D2E3FC;\n",
              "    }\n",
              "\n",
              "    [theme=dark] .colab-df-convert:hover {\n",
              "      background-color: #434B5C;\n",
              "      box-shadow: 0px 1px 3px 1px rgba(0, 0, 0, 0.15);\n",
              "      filter: drop-shadow(0px 1px 2px rgba(0, 0, 0, 0.3));\n",
              "      fill: #FFFFFF;\n",
              "    }\n",
              "  </style>\n",
              "\n",
              "      <script>\n",
              "        const buttonEl =\n",
              "          document.querySelector('#df-6c22e725-10f7-4019-b04b-7f758eb9f100 button.colab-df-convert');\n",
              "        buttonEl.style.display =\n",
              "          google.colab.kernel.accessAllowed ? 'block' : 'none';\n",
              "\n",
              "        async function convertToInteractive(key) {\n",
              "          const element = document.querySelector('#df-6c22e725-10f7-4019-b04b-7f758eb9f100');\n",
              "          const dataTable =\n",
              "            await google.colab.kernel.invokeFunction('convertToInteractive',\n",
              "                                                     [key], {});\n",
              "          if (!dataTable) return;\n",
              "\n",
              "          const docLinkHtml = 'Like what you see? Visit the ' +\n",
              "            '<a target=\"_blank\" href=https://colab.research.google.com/notebooks/data_table.ipynb>data table notebook</a>'\n",
              "            + ' to learn more about interactive tables.';\n",
              "          element.innerHTML = '';\n",
              "          dataTable['output_type'] = 'display_data';\n",
              "          await google.colab.output.renderOutput(dataTable, element);\n",
              "          const docLink = document.createElement('div');\n",
              "          docLink.innerHTML = docLinkHtml;\n",
              "          element.appendChild(docLink);\n",
              "        }\n",
              "      </script>\n",
              "    </div>\n",
              "  </div>\n",
              "  "
            ],
            "text/plain": [
              "   0  2  3  4  5  6  7  8  9\n",
              "0  0  0  0  0  1  0  0  0  0\n",
              "1  0  1  0  0  0  0  0  0  0\n",
              "2  1  0  0  0  0  0  0  0  0\n",
              "3  0  0  0  0  0  0  1  0  0\n",
              "4  0  0  0  0  0  0  1  0  0"
            ]
          },
          "execution_count": 74,
          "metadata": {},
          "output_type": "execute_result"
        }
      ],
      "source": [
        "preds_enc = pd.get_dummies(preds.numpy())\n",
        "preds_enc.head()"
      ]
    },
    {
      "cell_type": "code",
      "execution_count": null,
      "metadata": {
        "colab": {
          "base_uri": "https://localhost:8080/",
          "height": 204
        },
        "id": "1xPXaZZ5vegT",
        "outputId": "0d262ff4-049a-4f71-97e8-44290af49616"
      },
      "outputs": [
        {
          "data": {
            "text/html": [
              "\n",
              "  <div id=\"df-3b0901ce-8c0c-475c-a5ba-6b4fa454ae0f\">\n",
              "    <div class=\"colab-df-container\">\n",
              "      <div>\n",
              "<style scoped>\n",
              "    .dataframe tbody tr th:only-of-type {\n",
              "        vertical-align: middle;\n",
              "    }\n",
              "\n",
              "    .dataframe tbody tr th {\n",
              "        vertical-align: top;\n",
              "    }\n",
              "\n",
              "    .dataframe thead th {\n",
              "        text-align: right;\n",
              "    }\n",
              "</style>\n",
              "<table border=\"1\" class=\"dataframe\">\n",
              "  <thead>\n",
              "    <tr style=\"text-align: right;\">\n",
              "      <th></th>\n",
              "      <th>0</th>\n",
              "      <th>2</th>\n",
              "      <th>3</th>\n",
              "      <th>4</th>\n",
              "      <th>5</th>\n",
              "      <th>6</th>\n",
              "      <th>7</th>\n",
              "      <th>8</th>\n",
              "      <th>9</th>\n",
              "      <th>1</th>\n",
              "    </tr>\n",
              "  </thead>\n",
              "  <tbody>\n",
              "    <tr>\n",
              "      <th>0</th>\n",
              "      <td>0</td>\n",
              "      <td>0</td>\n",
              "      <td>0</td>\n",
              "      <td>0</td>\n",
              "      <td>1</td>\n",
              "      <td>0</td>\n",
              "      <td>0</td>\n",
              "      <td>0</td>\n",
              "      <td>0</td>\n",
              "      <td>0</td>\n",
              "    </tr>\n",
              "    <tr>\n",
              "      <th>1</th>\n",
              "      <td>0</td>\n",
              "      <td>1</td>\n",
              "      <td>0</td>\n",
              "      <td>0</td>\n",
              "      <td>0</td>\n",
              "      <td>0</td>\n",
              "      <td>0</td>\n",
              "      <td>0</td>\n",
              "      <td>0</td>\n",
              "      <td>0</td>\n",
              "    </tr>\n",
              "    <tr>\n",
              "      <th>2</th>\n",
              "      <td>1</td>\n",
              "      <td>0</td>\n",
              "      <td>0</td>\n",
              "      <td>0</td>\n",
              "      <td>0</td>\n",
              "      <td>0</td>\n",
              "      <td>0</td>\n",
              "      <td>0</td>\n",
              "      <td>0</td>\n",
              "      <td>0</td>\n",
              "    </tr>\n",
              "    <tr>\n",
              "      <th>3</th>\n",
              "      <td>0</td>\n",
              "      <td>0</td>\n",
              "      <td>0</td>\n",
              "      <td>0</td>\n",
              "      <td>0</td>\n",
              "      <td>0</td>\n",
              "      <td>1</td>\n",
              "      <td>0</td>\n",
              "      <td>0</td>\n",
              "      <td>0</td>\n",
              "    </tr>\n",
              "    <tr>\n",
              "      <th>4</th>\n",
              "      <td>0</td>\n",
              "      <td>0</td>\n",
              "      <td>0</td>\n",
              "      <td>0</td>\n",
              "      <td>0</td>\n",
              "      <td>0</td>\n",
              "      <td>1</td>\n",
              "      <td>0</td>\n",
              "      <td>0</td>\n",
              "      <td>0</td>\n",
              "    </tr>\n",
              "  </tbody>\n",
              "</table>\n",
              "</div>\n",
              "      <button class=\"colab-df-convert\" onclick=\"convertToInteractive('df-3b0901ce-8c0c-475c-a5ba-6b4fa454ae0f')\"\n",
              "              title=\"Convert this dataframe to an interactive table.\"\n",
              "              style=\"display:none;\">\n",
              "        \n",
              "  <svg xmlns=\"http://www.w3.org/2000/svg\" height=\"24px\"viewBox=\"0 0 24 24\"\n",
              "       width=\"24px\">\n",
              "    <path d=\"M0 0h24v24H0V0z\" fill=\"none\"/>\n",
              "    <path d=\"M18.56 5.44l.94 2.06.94-2.06 2.06-.94-2.06-.94-.94-2.06-.94 2.06-2.06.94zm-11 1L8.5 8.5l.94-2.06 2.06-.94-2.06-.94L8.5 2.5l-.94 2.06-2.06.94zm10 10l.94 2.06.94-2.06 2.06-.94-2.06-.94-.94-2.06-.94 2.06-2.06.94z\"/><path d=\"M17.41 7.96l-1.37-1.37c-.4-.4-.92-.59-1.43-.59-.52 0-1.04.2-1.43.59L10.3 9.45l-7.72 7.72c-.78.78-.78 2.05 0 2.83L4 21.41c.39.39.9.59 1.41.59.51 0 1.02-.2 1.41-.59l7.78-7.78 2.81-2.81c.8-.78.8-2.07 0-2.86zM5.41 20L4 18.59l7.72-7.72 1.47 1.35L5.41 20z\"/>\n",
              "  </svg>\n",
              "      </button>\n",
              "      \n",
              "  <style>\n",
              "    .colab-df-container {\n",
              "      display:flex;\n",
              "      flex-wrap:wrap;\n",
              "      gap: 12px;\n",
              "    }\n",
              "\n",
              "    .colab-df-convert {\n",
              "      background-color: #E8F0FE;\n",
              "      border: none;\n",
              "      border-radius: 50%;\n",
              "      cursor: pointer;\n",
              "      display: none;\n",
              "      fill: #1967D2;\n",
              "      height: 32px;\n",
              "      padding: 0 0 0 0;\n",
              "      width: 32px;\n",
              "    }\n",
              "\n",
              "    .colab-df-convert:hover {\n",
              "      background-color: #E2EBFA;\n",
              "      box-shadow: 0px 1px 2px rgba(60, 64, 67, 0.3), 0px 1px 3px 1px rgba(60, 64, 67, 0.15);\n",
              "      fill: #174EA6;\n",
              "    }\n",
              "\n",
              "    [theme=dark] .colab-df-convert {\n",
              "      background-color: #3B4455;\n",
              "      fill: #D2E3FC;\n",
              "    }\n",
              "\n",
              "    [theme=dark] .colab-df-convert:hover {\n",
              "      background-color: #434B5C;\n",
              "      box-shadow: 0px 1px 3px 1px rgba(0, 0, 0, 0.15);\n",
              "      filter: drop-shadow(0px 1px 2px rgba(0, 0, 0, 0.3));\n",
              "      fill: #FFFFFF;\n",
              "    }\n",
              "  </style>\n",
              "\n",
              "      <script>\n",
              "        const buttonEl =\n",
              "          document.querySelector('#df-3b0901ce-8c0c-475c-a5ba-6b4fa454ae0f button.colab-df-convert');\n",
              "        buttonEl.style.display =\n",
              "          google.colab.kernel.accessAllowed ? 'block' : 'none';\n",
              "\n",
              "        async function convertToInteractive(key) {\n",
              "          const element = document.querySelector('#df-3b0901ce-8c0c-475c-a5ba-6b4fa454ae0f');\n",
              "          const dataTable =\n",
              "            await google.colab.kernel.invokeFunction('convertToInteractive',\n",
              "                                                     [key], {});\n",
              "          if (!dataTable) return;\n",
              "\n",
              "          const docLinkHtml = 'Like what you see? Visit the ' +\n",
              "            '<a target=\"_blank\" href=https://colab.research.google.com/notebooks/data_table.ipynb>data table notebook</a>'\n",
              "            + ' to learn more about interactive tables.';\n",
              "          element.innerHTML = '';\n",
              "          dataTable['output_type'] = 'display_data';\n",
              "          await google.colab.output.renderOutput(dataTable, element);\n",
              "          const docLink = document.createElement('div');\n",
              "          docLink.innerHTML = docLinkHtml;\n",
              "          element.appendChild(docLink);\n",
              "        }\n",
              "      </script>\n",
              "    </div>\n",
              "  </div>\n",
              "  "
            ],
            "text/plain": [
              "   0  2  3  4  5  6  7  8  9  1\n",
              "0  0  0  0  0  1  0  0  0  0  0\n",
              "1  0  1  0  0  0  0  0  0  0  0\n",
              "2  1  0  0  0  0  0  0  0  0  0\n",
              "3  0  0  0  0  0  0  1  0  0  0\n",
              "4  0  0  0  0  0  0  1  0  0  0"
            ]
          },
          "execution_count": 75,
          "metadata": {},
          "output_type": "execute_result"
        }
      ],
      "source": [
        "preds_enc[1] = 0\n",
        "# preds_enc[9] = 0 \n",
        "preds_enc.head()"
      ]
    },
    {
      "cell_type": "code",
      "execution_count": null,
      "metadata": {
        "colab": {
          "base_uri": "https://localhost:8080/",
          "height": 204
        },
        "id": "0ygujSrgyCjE",
        "outputId": "864a2dfe-6a18-4640-d26c-59b5d7db5a36"
      },
      "outputs": [
        {
          "data": {
            "text/html": [
              "\n",
              "  <div id=\"df-018d83e2-08c1-489e-93b4-3afb3ead3960\">\n",
              "    <div class=\"colab-df-container\">\n",
              "      <div>\n",
              "<style scoped>\n",
              "    .dataframe tbody tr th:only-of-type {\n",
              "        vertical-align: middle;\n",
              "    }\n",
              "\n",
              "    .dataframe tbody tr th {\n",
              "        vertical-align: top;\n",
              "    }\n",
              "\n",
              "    .dataframe thead th {\n",
              "        text-align: right;\n",
              "    }\n",
              "</style>\n",
              "<table border=\"1\" class=\"dataframe\">\n",
              "  <thead>\n",
              "    <tr style=\"text-align: right;\">\n",
              "      <th></th>\n",
              "      <th>0</th>\n",
              "      <th>1</th>\n",
              "      <th>2</th>\n",
              "      <th>3</th>\n",
              "      <th>4</th>\n",
              "      <th>5</th>\n",
              "      <th>6</th>\n",
              "      <th>7</th>\n",
              "      <th>8</th>\n",
              "      <th>9</th>\n",
              "    </tr>\n",
              "  </thead>\n",
              "  <tbody>\n",
              "    <tr>\n",
              "      <th>0</th>\n",
              "      <td>0</td>\n",
              "      <td>0</td>\n",
              "      <td>0</td>\n",
              "      <td>0</td>\n",
              "      <td>0</td>\n",
              "      <td>1</td>\n",
              "      <td>0</td>\n",
              "      <td>0</td>\n",
              "      <td>0</td>\n",
              "      <td>0</td>\n",
              "    </tr>\n",
              "    <tr>\n",
              "      <th>1</th>\n",
              "      <td>0</td>\n",
              "      <td>0</td>\n",
              "      <td>1</td>\n",
              "      <td>0</td>\n",
              "      <td>0</td>\n",
              "      <td>0</td>\n",
              "      <td>0</td>\n",
              "      <td>0</td>\n",
              "      <td>0</td>\n",
              "      <td>0</td>\n",
              "    </tr>\n",
              "    <tr>\n",
              "      <th>2</th>\n",
              "      <td>1</td>\n",
              "      <td>0</td>\n",
              "      <td>0</td>\n",
              "      <td>0</td>\n",
              "      <td>0</td>\n",
              "      <td>0</td>\n",
              "      <td>0</td>\n",
              "      <td>0</td>\n",
              "      <td>0</td>\n",
              "      <td>0</td>\n",
              "    </tr>\n",
              "    <tr>\n",
              "      <th>3</th>\n",
              "      <td>0</td>\n",
              "      <td>0</td>\n",
              "      <td>0</td>\n",
              "      <td>0</td>\n",
              "      <td>0</td>\n",
              "      <td>0</td>\n",
              "      <td>0</td>\n",
              "      <td>1</td>\n",
              "      <td>0</td>\n",
              "      <td>0</td>\n",
              "    </tr>\n",
              "    <tr>\n",
              "      <th>4</th>\n",
              "      <td>0</td>\n",
              "      <td>0</td>\n",
              "      <td>0</td>\n",
              "      <td>0</td>\n",
              "      <td>0</td>\n",
              "      <td>0</td>\n",
              "      <td>0</td>\n",
              "      <td>1</td>\n",
              "      <td>0</td>\n",
              "      <td>0</td>\n",
              "    </tr>\n",
              "  </tbody>\n",
              "</table>\n",
              "</div>\n",
              "      <button class=\"colab-df-convert\" onclick=\"convertToInteractive('df-018d83e2-08c1-489e-93b4-3afb3ead3960')\"\n",
              "              title=\"Convert this dataframe to an interactive table.\"\n",
              "              style=\"display:none;\">\n",
              "        \n",
              "  <svg xmlns=\"http://www.w3.org/2000/svg\" height=\"24px\"viewBox=\"0 0 24 24\"\n",
              "       width=\"24px\">\n",
              "    <path d=\"M0 0h24v24H0V0z\" fill=\"none\"/>\n",
              "    <path d=\"M18.56 5.44l.94 2.06.94-2.06 2.06-.94-2.06-.94-.94-2.06-.94 2.06-2.06.94zm-11 1L8.5 8.5l.94-2.06 2.06-.94-2.06-.94L8.5 2.5l-.94 2.06-2.06.94zm10 10l.94 2.06.94-2.06 2.06-.94-2.06-.94-.94-2.06-.94 2.06-2.06.94z\"/><path d=\"M17.41 7.96l-1.37-1.37c-.4-.4-.92-.59-1.43-.59-.52 0-1.04.2-1.43.59L10.3 9.45l-7.72 7.72c-.78.78-.78 2.05 0 2.83L4 21.41c.39.39.9.59 1.41.59.51 0 1.02-.2 1.41-.59l7.78-7.78 2.81-2.81c.8-.78.8-2.07 0-2.86zM5.41 20L4 18.59l7.72-7.72 1.47 1.35L5.41 20z\"/>\n",
              "  </svg>\n",
              "      </button>\n",
              "      \n",
              "  <style>\n",
              "    .colab-df-container {\n",
              "      display:flex;\n",
              "      flex-wrap:wrap;\n",
              "      gap: 12px;\n",
              "    }\n",
              "\n",
              "    .colab-df-convert {\n",
              "      background-color: #E8F0FE;\n",
              "      border: none;\n",
              "      border-radius: 50%;\n",
              "      cursor: pointer;\n",
              "      display: none;\n",
              "      fill: #1967D2;\n",
              "      height: 32px;\n",
              "      padding: 0 0 0 0;\n",
              "      width: 32px;\n",
              "    }\n",
              "\n",
              "    .colab-df-convert:hover {\n",
              "      background-color: #E2EBFA;\n",
              "      box-shadow: 0px 1px 2px rgba(60, 64, 67, 0.3), 0px 1px 3px 1px rgba(60, 64, 67, 0.15);\n",
              "      fill: #174EA6;\n",
              "    }\n",
              "\n",
              "    [theme=dark] .colab-df-convert {\n",
              "      background-color: #3B4455;\n",
              "      fill: #D2E3FC;\n",
              "    }\n",
              "\n",
              "    [theme=dark] .colab-df-convert:hover {\n",
              "      background-color: #434B5C;\n",
              "      box-shadow: 0px 1px 3px 1px rgba(0, 0, 0, 0.15);\n",
              "      filter: drop-shadow(0px 1px 2px rgba(0, 0, 0, 0.3));\n",
              "      fill: #FFFFFF;\n",
              "    }\n",
              "  </style>\n",
              "\n",
              "      <script>\n",
              "        const buttonEl =\n",
              "          document.querySelector('#df-018d83e2-08c1-489e-93b4-3afb3ead3960 button.colab-df-convert');\n",
              "        buttonEl.style.display =\n",
              "          google.colab.kernel.accessAllowed ? 'block' : 'none';\n",
              "\n",
              "        async function convertToInteractive(key) {\n",
              "          const element = document.querySelector('#df-018d83e2-08c1-489e-93b4-3afb3ead3960');\n",
              "          const dataTable =\n",
              "            await google.colab.kernel.invokeFunction('convertToInteractive',\n",
              "                                                     [key], {});\n",
              "          if (!dataTable) return;\n",
              "\n",
              "          const docLinkHtml = 'Like what you see? Visit the ' +\n",
              "            '<a target=\"_blank\" href=https://colab.research.google.com/notebooks/data_table.ipynb>data table notebook</a>'\n",
              "            + ' to learn more about interactive tables.';\n",
              "          element.innerHTML = '';\n",
              "          dataTable['output_type'] = 'display_data';\n",
              "          await google.colab.output.renderOutput(dataTable, element);\n",
              "          const docLink = document.createElement('div');\n",
              "          docLink.innerHTML = docLinkHtml;\n",
              "          element.appendChild(docLink);\n",
              "        }\n",
              "      </script>\n",
              "    </div>\n",
              "  </div>\n",
              "  "
            ],
            "text/plain": [
              "   0  1  2  3  4  5  6  7  8  9\n",
              "0  0  0  0  0  0  1  0  0  0  0\n",
              "1  0  0  1  0  0  0  0  0  0  0\n",
              "2  1  0  0  0  0  0  0  0  0  0\n",
              "3  0  0  0  0  0  0  0  1  0  0\n",
              "4  0  0  0  0  0  0  0  1  0  0"
            ]
          },
          "execution_count": 76,
          "metadata": {},
          "output_type": "execute_result"
        }
      ],
      "source": [
        "b = preds_enc[[0, 1, 2, 3, 4, 5, 6, 7, 8, 9]]\n",
        "b.head()"
      ]
    },
    {
      "cell_type": "code",
      "execution_count": null,
      "metadata": {
        "colab": {
          "base_uri": "https://localhost:8080/"
        },
        "id": "-VIBCrk3yLOz",
        "outputId": "dc1b3d63-8aa4-4e23-ebe2-1a38eb6974e6"
      },
      "outputs": [
        {
          "data": {
            "text/plain": [
              "(39, 10)"
            ]
          },
          "execution_count": 77,
          "metadata": {},
          "output_type": "execute_result"
        }
      ],
      "source": [
        "preds_numpy = b.to_numpy()\n",
        "preds_numpy.shape"
      ]
    },
    {
      "cell_type": "code",
      "execution_count": null,
      "metadata": {
        "colab": {
          "base_uri": "https://localhost:8080/"
        },
        "id": "TTWyo8lDySCv",
        "outputId": "0cd9bd78-e45e-46f7-89a4-f63265b26446"
      },
      "outputs": [
        {
          "data": {
            "text/plain": [
              "(torch.Size([39, 10]), torch.Size([39, 10]))"
            ]
          },
          "execution_count": 78,
          "metadata": {},
          "output_type": "execute_result"
        }
      ],
      "source": [
        "y = torch.from_numpy(y_numpy)\n",
        "preds = torch.from_numpy(preds_numpy)\n",
        "y.shape, preds.shape "
      ]
    },
    {
      "cell_type": "markdown",
      "metadata": {
        "id": "hV8VDJU6y5sn"
      },
      "source": [
        "now we have the hot_encoded versions of both preds and y so now we can calculate the cross entropy"
      ]
    },
    {
      "cell_type": "code",
      "execution_count": null,
      "metadata": {
        "colab": {
          "base_uri": "https://localhost:8080/"
        },
        "id": "JND8cQ_rzLDE",
        "outputId": "d8a414bf-dd25-4066-c411-47fa7b238d14"
      },
      "outputs": [
        {
          "name": "stdout",
          "output_type": "stream",
          "text": [
            "tensor([[1., 1., 1., 1., 1.],\n",
            "        [1., 1., 1., 1., 1.],\n",
            "        [1., 1., 1., 1., 1.],\n",
            "        [1., 1., 1., 1., 1.],\n",
            "        [1., 1., 1., 1., 1.]])\n"
          ]
        }
      ],
      "source": [
        "a = torch.ones(5, 5)\n",
        "b = torch.ones(5, 5)\n",
        "\n",
        "torch.matmul(a, b)\n",
        "print(a * b)"
      ]
    },
    {
      "cell_type": "code",
      "execution_count": 27,
      "metadata": {
        "id": "D26fjM8Pyrdx"
      },
      "outputs": [],
      "source": [
        "def cross_entropy(y, y_hat):\n",
        "  # y_hat : matrix of (n_samples * classes) \n",
        "  # y : \n",
        "\n",
        "  ans = (y * torch.log(y_hat)).sum(axis=1)\n",
        "  # print(ans)\n",
        "  return ans.sum()"
      ]
    },
    {
      "cell_type": "code",
      "execution_count": null,
      "metadata": {
        "colab": {
          "base_uri": "https://localhost:8080/"
        },
        "id": "CH5kciQ7zhU7",
        "outputId": "2ea0bc6f-9514-4736-8033-c97559e49ba1"
      },
      "outputs": [
        {
          "data": {
            "text/plain": [
              "tensor(nan)"
            ]
          },
          "execution_count": 81,
          "metadata": {},
          "output_type": "execute_result"
        }
      ],
      "source": [
        "cross_entropy(y, preds)"
      ]
    },
    {
      "cell_type": "code",
      "execution_count": null,
      "metadata": {
        "colab": {
          "base_uri": "https://localhost:8080/"
        },
        "id": "LCJbU229zkCH",
        "outputId": "45a547d4-bcb5-4d87-c7dd-48f1dc049b9e"
      },
      "outputs": [
        {
          "data": {
            "text/plain": [
              "tensor([-inf])"
            ]
          },
          "execution_count": 82,
          "metadata": {},
          "output_type": "execute_result"
        }
      ],
      "source": [
        "torch.log(torch.zeros(1)) # useless"
      ]
    },
    {
      "cell_type": "markdown",
      "metadata": {
        "id": "oA6McwqP1Vo4"
      },
      "source": [
        "Will have to redo"
      ]
    },
    {
      "cell_type": "code",
      "execution_count": null,
      "metadata": {
        "id": "i9xQfAorzp8S"
      },
      "outputs": [],
      "source": [
        "data = d2l.FashionMNIST(batch_size=40)"
      ]
    },
    {
      "cell_type": "code",
      "execution_count": null,
      "metadata": {
        "colab": {
          "base_uri": "https://localhost:8080/"
        },
        "id": "6e_G5A3R1gHh",
        "outputId": "2b69b474-626e-4ae8-fcd0-2266f7b6c4e7"
      },
      "outputs": [
        {
          "name": "stdout",
          "output_type": "stream",
          "text": [
            "X.shape = torch.Size([40, 1, 28, 28])\n",
            "y.shape = torch.Size([40])\n"
          ]
        }
      ],
      "source": [
        "X, y = next(iter(data.val_dataloader()))\n",
        "print(f\"X.shape = {X.shape}\")\n",
        "print(f\"y.shape = {y.shape}\")"
      ]
    },
    {
      "cell_type": "code",
      "execution_count": null,
      "metadata": {
        "colab": {
          "base_uri": "https://localhost:8080/"
        },
        "id": "yPJ4hXjM1xUa",
        "outputId": "e5f64e31-e516-483f-e4a2-eeebe2d46e2f"
      },
      "outputs": [
        {
          "name": "stdout",
          "output_type": "stream",
          "text": [
            "y_hat.shape = torch.Size([40, 10])\n"
          ]
        }
      ],
      "source": [
        "y_hat = model.forward(X)\n",
        "print(f\"y_hat.shape = {y_hat.shape}\")"
      ]
    },
    {
      "cell_type": "code",
      "execution_count": null,
      "metadata": {
        "colab": {
          "base_uri": "https://localhost:8080/",
          "height": 204
        },
        "id": "SQCgHDQj2Fp_",
        "outputId": "d1cd9790-93bd-48a3-f66e-06086c37558c"
      },
      "outputs": [
        {
          "data": {
            "text/html": [
              "\n",
              "  <div id=\"df-d87fd611-00e8-4676-8320-07e47fcf6712\">\n",
              "    <div class=\"colab-df-container\">\n",
              "      <div>\n",
              "<style scoped>\n",
              "    .dataframe tbody tr th:only-of-type {\n",
              "        vertical-align: middle;\n",
              "    }\n",
              "\n",
              "    .dataframe tbody tr th {\n",
              "        vertical-align: top;\n",
              "    }\n",
              "\n",
              "    .dataframe thead th {\n",
              "        text-align: right;\n",
              "    }\n",
              "</style>\n",
              "<table border=\"1\" class=\"dataframe\">\n",
              "  <thead>\n",
              "    <tr style=\"text-align: right;\">\n",
              "      <th></th>\n",
              "      <th>0</th>\n",
              "      <th>1</th>\n",
              "      <th>2</th>\n",
              "      <th>3</th>\n",
              "      <th>4</th>\n",
              "      <th>5</th>\n",
              "      <th>6</th>\n",
              "      <th>7</th>\n",
              "      <th>8</th>\n",
              "      <th>9</th>\n",
              "    </tr>\n",
              "  </thead>\n",
              "  <tbody>\n",
              "    <tr>\n",
              "      <th>0</th>\n",
              "      <td>0</td>\n",
              "      <td>0</td>\n",
              "      <td>0</td>\n",
              "      <td>0</td>\n",
              "      <td>0</td>\n",
              "      <td>0</td>\n",
              "      <td>0</td>\n",
              "      <td>0</td>\n",
              "      <td>0</td>\n",
              "      <td>1</td>\n",
              "    </tr>\n",
              "    <tr>\n",
              "      <th>1</th>\n",
              "      <td>0</td>\n",
              "      <td>0</td>\n",
              "      <td>1</td>\n",
              "      <td>0</td>\n",
              "      <td>0</td>\n",
              "      <td>0</td>\n",
              "      <td>0</td>\n",
              "      <td>0</td>\n",
              "      <td>0</td>\n",
              "      <td>0</td>\n",
              "    </tr>\n",
              "    <tr>\n",
              "      <th>2</th>\n",
              "      <td>0</td>\n",
              "      <td>1</td>\n",
              "      <td>0</td>\n",
              "      <td>0</td>\n",
              "      <td>0</td>\n",
              "      <td>0</td>\n",
              "      <td>0</td>\n",
              "      <td>0</td>\n",
              "      <td>0</td>\n",
              "      <td>0</td>\n",
              "    </tr>\n",
              "    <tr>\n",
              "      <th>3</th>\n",
              "      <td>0</td>\n",
              "      <td>1</td>\n",
              "      <td>0</td>\n",
              "      <td>0</td>\n",
              "      <td>0</td>\n",
              "      <td>0</td>\n",
              "      <td>0</td>\n",
              "      <td>0</td>\n",
              "      <td>0</td>\n",
              "      <td>0</td>\n",
              "    </tr>\n",
              "    <tr>\n",
              "      <th>4</th>\n",
              "      <td>0</td>\n",
              "      <td>0</td>\n",
              "      <td>0</td>\n",
              "      <td>0</td>\n",
              "      <td>0</td>\n",
              "      <td>0</td>\n",
              "      <td>1</td>\n",
              "      <td>0</td>\n",
              "      <td>0</td>\n",
              "      <td>0</td>\n",
              "    </tr>\n",
              "  </tbody>\n",
              "</table>\n",
              "</div>\n",
              "      <button class=\"colab-df-convert\" onclick=\"convertToInteractive('df-d87fd611-00e8-4676-8320-07e47fcf6712')\"\n",
              "              title=\"Convert this dataframe to an interactive table.\"\n",
              "              style=\"display:none;\">\n",
              "        \n",
              "  <svg xmlns=\"http://www.w3.org/2000/svg\" height=\"24px\"viewBox=\"0 0 24 24\"\n",
              "       width=\"24px\">\n",
              "    <path d=\"M0 0h24v24H0V0z\" fill=\"none\"/>\n",
              "    <path d=\"M18.56 5.44l.94 2.06.94-2.06 2.06-.94-2.06-.94-.94-2.06-.94 2.06-2.06.94zm-11 1L8.5 8.5l.94-2.06 2.06-.94-2.06-.94L8.5 2.5l-.94 2.06-2.06.94zm10 10l.94 2.06.94-2.06 2.06-.94-2.06-.94-.94-2.06-.94 2.06-2.06.94z\"/><path d=\"M17.41 7.96l-1.37-1.37c-.4-.4-.92-.59-1.43-.59-.52 0-1.04.2-1.43.59L10.3 9.45l-7.72 7.72c-.78.78-.78 2.05 0 2.83L4 21.41c.39.39.9.59 1.41.59.51 0 1.02-.2 1.41-.59l7.78-7.78 2.81-2.81c.8-.78.8-2.07 0-2.86zM5.41 20L4 18.59l7.72-7.72 1.47 1.35L5.41 20z\"/>\n",
              "  </svg>\n",
              "      </button>\n",
              "      \n",
              "  <style>\n",
              "    .colab-df-container {\n",
              "      display:flex;\n",
              "      flex-wrap:wrap;\n",
              "      gap: 12px;\n",
              "    }\n",
              "\n",
              "    .colab-df-convert {\n",
              "      background-color: #E8F0FE;\n",
              "      border: none;\n",
              "      border-radius: 50%;\n",
              "      cursor: pointer;\n",
              "      display: none;\n",
              "      fill: #1967D2;\n",
              "      height: 32px;\n",
              "      padding: 0 0 0 0;\n",
              "      width: 32px;\n",
              "    }\n",
              "\n",
              "    .colab-df-convert:hover {\n",
              "      background-color: #E2EBFA;\n",
              "      box-shadow: 0px 1px 2px rgba(60, 64, 67, 0.3), 0px 1px 3px 1px rgba(60, 64, 67, 0.15);\n",
              "      fill: #174EA6;\n",
              "    }\n",
              "\n",
              "    [theme=dark] .colab-df-convert {\n",
              "      background-color: #3B4455;\n",
              "      fill: #D2E3FC;\n",
              "    }\n",
              "\n",
              "    [theme=dark] .colab-df-convert:hover {\n",
              "      background-color: #434B5C;\n",
              "      box-shadow: 0px 1px 3px 1px rgba(0, 0, 0, 0.15);\n",
              "      filter: drop-shadow(0px 1px 2px rgba(0, 0, 0, 0.3));\n",
              "      fill: #FFFFFF;\n",
              "    }\n",
              "  </style>\n",
              "\n",
              "      <script>\n",
              "        const buttonEl =\n",
              "          document.querySelector('#df-d87fd611-00e8-4676-8320-07e47fcf6712 button.colab-df-convert');\n",
              "        buttonEl.style.display =\n",
              "          google.colab.kernel.accessAllowed ? 'block' : 'none';\n",
              "\n",
              "        async function convertToInteractive(key) {\n",
              "          const element = document.querySelector('#df-d87fd611-00e8-4676-8320-07e47fcf6712');\n",
              "          const dataTable =\n",
              "            await google.colab.kernel.invokeFunction('convertToInteractive',\n",
              "                                                     [key], {});\n",
              "          if (!dataTable) return;\n",
              "\n",
              "          const docLinkHtml = 'Like what you see? Visit the ' +\n",
              "            '<a target=\"_blank\" href=https://colab.research.google.com/notebooks/data_table.ipynb>data table notebook</a>'\n",
              "            + ' to learn more about interactive tables.';\n",
              "          element.innerHTML = '';\n",
              "          dataTable['output_type'] = 'display_data';\n",
              "          await google.colab.output.renderOutput(dataTable, element);\n",
              "          const docLink = document.createElement('div');\n",
              "          docLink.innerHTML = docLinkHtml;\n",
              "          element.appendChild(docLink);\n",
              "        }\n",
              "      </script>\n",
              "    </div>\n",
              "  </div>\n",
              "  "
            ],
            "text/plain": [
              "   0  1  2  3  4  5  6  7  8  9\n",
              "0  0  0  0  0  0  0  0  0  0  1\n",
              "1  0  0  1  0  0  0  0  0  0  0\n",
              "2  0  1  0  0  0  0  0  0  0  0\n",
              "3  0  1  0  0  0  0  0  0  0  0\n",
              "4  0  0  0  0  0  0  1  0  0  0"
            ]
          },
          "execution_count": 89,
          "metadata": {},
          "output_type": "execute_result"
        }
      ],
      "source": [
        "y_enc = pd.get_dummies(y.numpy())\n",
        "y_enc.head()"
      ]
    },
    {
      "cell_type": "code",
      "execution_count": null,
      "metadata": {
        "colab": {
          "base_uri": "https://localhost:8080/"
        },
        "id": "q3tru6s62sWv",
        "outputId": "8495f6ad-c70a-4c6b-ccd3-27686e3c2d8b"
      },
      "outputs": [
        {
          "data": {
            "text/plain": [
              "torch.Size([40, 10])"
            ]
          },
          "execution_count": 90,
          "metadata": {},
          "output_type": "execute_result"
        }
      ],
      "source": [
        "y_numpy = y_enc.to_numpy()\n",
        "y = torch.from_numpy(y_numpy)\n",
        "y.shape # this is the encoded version"
      ]
    },
    {
      "cell_type": "code",
      "execution_count": null,
      "metadata": {
        "colab": {
          "base_uri": "https://localhost:8080/"
        },
        "id": "hPNl6X-929mV",
        "outputId": "4746cb49-9594-4b04-d0e2-194e7bfac29a"
      },
      "outputs": [
        {
          "data": {
            "text/plain": [
              "tensor(-16.5953, grad_fn=<SumBackward0>)"
            ]
          },
          "execution_count": 91,
          "metadata": {},
          "output_type": "execute_result"
        }
      ],
      "source": [
        "cross_entropy(y, y_hat)"
      ]
    },
    {
      "cell_type": "markdown",
      "metadata": {
        "id": "Hz96TKLo3bp4"
      },
      "source": [
        "### Q4:\n",
        "\n",
        "in large vocab many words might have similar probability, so depending on the sentence we would have to make a decision"
      ]
    },
    {
      "cell_type": "markdown",
      "metadata": {
        "id": "STAjCfU54NHo"
      },
      "source": [
        "### Q5:"
      ]
    },
    {
      "cell_type": "code",
      "execution_count": null,
      "metadata": {
        "id": "CSliKnltJrO-"
      },
      "outputs": [],
      "source": [
        "a = SoftmaxRegressionScratch(num_inputs=784, num_outputs=10, lr=0.01)"
      ]
    },
    {
      "cell_type": "code",
      "execution_count": null,
      "metadata": {
        "colab": {
          "base_uri": "https://localhost:8080/"
        },
        "id": "LicMP9cKJwYH",
        "outputId": "2572aac1-ac35-4033-cfc8-8195fced6073"
      },
      "outputs": [
        {
          "data": {
            "text/plain": [
              "SoftmaxRegressionScratch()"
            ]
          },
          "execution_count": 94,
          "metadata": {},
          "output_type": "execute_result"
        }
      ],
      "source": [
        "a"
      ]
    },
    {
      "cell_type": "code",
      "execution_count": null,
      "metadata": {
        "id": "k1QhroAiIuxa"
      },
      "outputs": [],
      "source": [
        "SoftmaxRegressionScratch??"
      ]
    },
    {
      "cell_type": "code",
      "execution_count": 28,
      "metadata": {
        "id": "g4ddTITu3wyS"
      },
      "outputs": [],
      "source": [
        "def cross_entropy(y_hat, y):\n",
        "\n",
        "  return -torch.log(y_hat[list(range(len(y_hat))), y]).mean()"
      ]
    },
    {
      "cell_type": "code",
      "execution_count": null,
      "metadata": {
        "id": "4x1rnnvYpw6P"
      },
      "outputs": [],
      "source": [
        "def give_val_loss(lr):\n",
        "  model = SoftmaxRegressionScratch(num_inputs=784, num_outputs=10, lr=lr)\n",
        "\n",
        "  max_epochs=10\n",
        "  optimizer = torch.optim.SGD([model.W, model.b], model.lr)\n",
        "\n",
        "  #training loop:\n",
        "  for epoch in range(max_epochs):\n",
        "    for X, y in data.train_dataloader():\n",
        "\n",
        "      # forward pass : y_hat and loss\n",
        "      y_hat = model.forward(X)\n",
        "      l = model.loss(y, y_hat)\n",
        "\n",
        "      # backward pass : gradient\n",
        "      l.backward()\n",
        "\n",
        "      # update the params\n",
        "      optimizer.step()\n",
        "\n",
        "      # empty the grad\n",
        "      optimizer.zero_grad()\n",
        "\n",
        "  # After the training is done i just need the validation loss\n",
        "  with torch.no_grad():\n",
        "    val_loss = torch.zeros(1)\n",
        "    for X, y in data.val_dataloader():\n",
        "      y_hat = model.forward(X)\n",
        "      val_loss += model.loss(y, y_hat)\n",
        "  \n",
        "  return val_loss.item()"
      ]
    },
    {
      "cell_type": "code",
      "execution_count": null,
      "metadata": {
        "colab": {
          "base_uri": "https://localhost:8080/"
        },
        "id": "VAxf4hiU3Hpv",
        "outputId": "baff8d28-3d9d-4bb1-ef29-cdb6977d4bcb"
      },
      "outputs": [
        {
          "name": "stderr",
          "output_type": "stream",
          "text": [
            "/usr/local/lib/python3.8/dist-packages/torch/utils/data/dataloader.py:554: UserWarning: This DataLoader will create 4 worker processes in total. Our suggested max number of worker in current system is 2, which is smaller than what this DataLoader is going to create. Please be aware that excessive worker creation might get DataLoader running slow or even freeze, lower the worker number to avoid potential slowness/freeze if necessary.\n",
            "  warnings.warn(_create_warning_msg(\n"
          ]
        }
      ],
      "source": [
        "lr_list = [0.01, 0.02, 0.03, 0.04, 0.05, 0.06, 0.07, 0.08, 0.09, 0.1, 0.2, 0.3]\n",
        "data = d2l.FashionMNIST(batch_size=256)\n",
        "\n",
        "val_loss_list = []\n",
        "for lr in lr_list:\n",
        "  t = give_val_loss(lr)\n",
        "  val_loss_list.append(t)"
      ]
    },
    {
      "cell_type": "markdown",
      "metadata": {
        "id": "YPTGmm0JRCJ7"
      },
      "source": [
        "took 23.1 mintues to finish"
      ]
    },
    {
      "cell_type": "code",
      "execution_count": null,
      "metadata": {
        "colab": {
          "base_uri": "https://localhost:8080/"
        },
        "id": "z2yUM8FKREo3",
        "outputId": "0c26241d-f7ac-404d-d938-6927a02009a4"
      },
      "outputs": [
        {
          "data": {
            "text/plain": [
              "[24.67364501953125,\n",
              " 22.214550018310547,\n",
              " 21.268463134765625,\n",
              " 20.477718353271484,\n",
              " 20.344980239868164,\n",
              " 19.69390106201172,\n",
              " 19.374948501586914,\n",
              " 19.225393295288086,\n",
              " 19.419525146484375,\n",
              " 19.0858097076416,\n",
              " 18.37587547302246,\n",
              " 23.052000045776367]"
            ]
          },
          "execution_count": 111,
          "metadata": {},
          "output_type": "execute_result"
        }
      ],
      "source": [
        "val_loss_list"
      ]
    },
    {
      "cell_type": "code",
      "execution_count": null,
      "metadata": {
        "colab": {
          "base_uri": "https://localhost:8080/",
          "height": 525
        },
        "id": "cDFGFcukRIkS",
        "outputId": "b317e92f-129b-47ba-d26a-cfd3fcab23df"
      },
      "outputs": [
        {
          "data": {
            "image/svg+xml": "<?xml version=\"1.0\" encoding=\"utf-8\" standalone=\"no\"?>\n<!DOCTYPE svg PUBLIC \"-//W3C//DTD SVG 1.1//EN\"\n  \"http://www.w3.org/Graphics/SVG/1.1/DTD/svg11.dtd\">\n<!-- Created with matplotlib (https://matplotlib.org/) -->\n<svg height=\"377.961925pt\" version=\"1.1\" viewBox=\"0 0 726.666925 377.961925\" width=\"726.666925pt\" xmlns=\"http://www.w3.org/2000/svg\" xmlns:xlink=\"http://www.w3.org/1999/xlink\">\n <defs>\n  <style type=\"text/css\">\n*{stroke-linecap:butt;stroke-linejoin:round;}\n  </style>\n </defs>\n <g id=\"figure_1\">\n  <g id=\"patch_1\">\n   <path d=\"M 0 377.961925 \nL 726.666925 377.961925 \nL 726.666925 0 \nL 0 0 \nz\n\" style=\"fill:none;\"/>\n  </g>\n  <g id=\"axes_1\">\n   <g id=\"patch_2\">\n    <path d=\"M 49.866925 333.36 \nL 719.466925 333.36 \nL 719.466925 7.2 \nL 49.866925 7.2 \nz\n\" style=\"fill:#ffffff;\"/>\n   </g>\n   <g id=\"matplotlib.axis_1\">\n    <g id=\"xtick_1\">\n     <g id=\"line2d_1\">\n      <path clip-path=\"url(#p6effe2bac5)\" d=\"M 59.312693 333.36 \nL 59.312693 7.2 \n\" style=\"fill:none;stroke:#b0b0b0;stroke-linecap:square;stroke-width:0.8;\"/>\n     </g>\n     <g id=\"line2d_2\">\n      <defs>\n       <path d=\"M 0 0 \nL 0 3.5 \n\" id=\"m0f62e4cb8d\" style=\"stroke:#000000;stroke-width:0.8;\"/>\n      </defs>\n      <g>\n       <use style=\"stroke:#000000;stroke-width:0.8;\" x=\"59.312693\" xlink:href=\"#m0f62e4cb8d\" y=\"333.36\"/>\n      </g>\n     </g>\n     <g id=\"text_1\">\n      <!-- 0.00 -->\n      <defs>\n       <path d=\"M 31.78125 66.40625 \nQ 24.171875 66.40625 20.328125 58.90625 \nQ 16.5 51.421875 16.5 36.375 \nQ 16.5 21.390625 20.328125 13.890625 \nQ 24.171875 6.390625 31.78125 6.390625 \nQ 39.453125 6.390625 43.28125 13.890625 \nQ 47.125 21.390625 47.125 36.375 \nQ 47.125 51.421875 43.28125 58.90625 \nQ 39.453125 66.40625 31.78125 66.40625 \nz\nM 31.78125 74.21875 \nQ 44.046875 74.21875 50.515625 64.515625 \nQ 56.984375 54.828125 56.984375 36.375 \nQ 56.984375 17.96875 50.515625 8.265625 \nQ 44.046875 -1.421875 31.78125 -1.421875 \nQ 19.53125 -1.421875 13.0625 8.265625 \nQ 6.59375 17.96875 6.59375 36.375 \nQ 6.59375 54.828125 13.0625 64.515625 \nQ 19.53125 74.21875 31.78125 74.21875 \nz\n\" id=\"DejaVuSans-48\"/>\n       <path d=\"M 10.6875 12.40625 \nL 21 12.40625 \nL 21 0 \nL 10.6875 0 \nz\n\" id=\"DejaVuSans-46\"/>\n      </defs>\n      <g transform=\"translate(40.075193 353.4901)scale(0.1728 -0.1728)\">\n       <use xlink:href=\"#DejaVuSans-48\"/>\n       <use x=\"63.623047\" xlink:href=\"#DejaVuSans-46\"/>\n       <use x=\"95.410156\" xlink:href=\"#DejaVuSans-48\"/>\n       <use x=\"159.033203\" xlink:href=\"#DejaVuSans-48\"/>\n      </g>\n     </g>\n    </g>\n    <g id=\"xtick_2\">\n     <g id=\"line2d_3\">\n      <path clip-path=\"url(#p6effe2bac5)\" d=\"M 164.265671 333.36 \nL 164.265671 7.2 \n\" style=\"fill:none;stroke:#b0b0b0;stroke-linecap:square;stroke-width:0.8;\"/>\n     </g>\n     <g id=\"line2d_4\">\n      <g>\n       <use style=\"stroke:#000000;stroke-width:0.8;\" x=\"164.265671\" xlink:href=\"#m0f62e4cb8d\" y=\"333.36\"/>\n      </g>\n     </g>\n     <g id=\"text_2\">\n      <!-- 0.05 -->\n      <defs>\n       <path d=\"M 10.796875 72.90625 \nL 49.515625 72.90625 \nL 49.515625 64.59375 \nL 19.828125 64.59375 \nL 19.828125 46.734375 \nQ 21.96875 47.46875 24.109375 47.828125 \nQ 26.265625 48.1875 28.421875 48.1875 \nQ 40.625 48.1875 47.75 41.5 \nQ 54.890625 34.8125 54.890625 23.390625 \nQ 54.890625 11.625 47.5625 5.09375 \nQ 40.234375 -1.421875 26.90625 -1.421875 \nQ 22.3125 -1.421875 17.546875 -0.640625 \nQ 12.796875 0.140625 7.71875 1.703125 \nL 7.71875 11.625 \nQ 12.109375 9.234375 16.796875 8.0625 \nQ 21.484375 6.890625 26.703125 6.890625 \nQ 35.15625 6.890625 40.078125 11.328125 \nQ 45.015625 15.765625 45.015625 23.390625 \nQ 45.015625 31 40.078125 35.4375 \nQ 35.15625 39.890625 26.703125 39.890625 \nQ 22.75 39.890625 18.8125 39.015625 \nQ 14.890625 38.140625 10.796875 36.28125 \nz\n\" id=\"DejaVuSans-53\"/>\n      </defs>\n      <g transform=\"translate(145.028171 353.4901)scale(0.1728 -0.1728)\">\n       <use xlink:href=\"#DejaVuSans-48\"/>\n       <use x=\"63.623047\" xlink:href=\"#DejaVuSans-46\"/>\n       <use x=\"95.410156\" xlink:href=\"#DejaVuSans-48\"/>\n       <use x=\"159.033203\" xlink:href=\"#DejaVuSans-53\"/>\n      </g>\n     </g>\n    </g>\n    <g id=\"xtick_3\">\n     <g id=\"line2d_5\">\n      <path clip-path=\"url(#p6effe2bac5)\" d=\"M 269.218649 333.36 \nL 269.218649 7.2 \n\" style=\"fill:none;stroke:#b0b0b0;stroke-linecap:square;stroke-width:0.8;\"/>\n     </g>\n     <g id=\"line2d_6\">\n      <g>\n       <use style=\"stroke:#000000;stroke-width:0.8;\" x=\"269.218649\" xlink:href=\"#m0f62e4cb8d\" y=\"333.36\"/>\n      </g>\n     </g>\n     <g id=\"text_3\">\n      <!-- 0.10 -->\n      <defs>\n       <path d=\"M 12.40625 8.296875 \nL 28.515625 8.296875 \nL 28.515625 63.921875 \nL 10.984375 60.40625 \nL 10.984375 69.390625 \nL 28.421875 72.90625 \nL 38.28125 72.90625 \nL 38.28125 8.296875 \nL 54.390625 8.296875 \nL 54.390625 0 \nL 12.40625 0 \nz\n\" id=\"DejaVuSans-49\"/>\n      </defs>\n      <g transform=\"translate(249.981149 353.4901)scale(0.1728 -0.1728)\">\n       <use xlink:href=\"#DejaVuSans-48\"/>\n       <use x=\"63.623047\" xlink:href=\"#DejaVuSans-46\"/>\n       <use x=\"95.410156\" xlink:href=\"#DejaVuSans-49\"/>\n       <use x=\"159.033203\" xlink:href=\"#DejaVuSans-48\"/>\n      </g>\n     </g>\n    </g>\n    <g id=\"xtick_4\">\n     <g id=\"line2d_7\">\n      <path clip-path=\"url(#p6effe2bac5)\" d=\"M 374.171627 333.36 \nL 374.171627 7.2 \n\" style=\"fill:none;stroke:#b0b0b0;stroke-linecap:square;stroke-width:0.8;\"/>\n     </g>\n     <g id=\"line2d_8\">\n      <g>\n       <use style=\"stroke:#000000;stroke-width:0.8;\" x=\"374.171627\" xlink:href=\"#m0f62e4cb8d\" y=\"333.36\"/>\n      </g>\n     </g>\n     <g id=\"text_4\">\n      <!-- 0.15 -->\n      <g transform=\"translate(354.934127 353.4901)scale(0.1728 -0.1728)\">\n       <use xlink:href=\"#DejaVuSans-48\"/>\n       <use x=\"63.623047\" xlink:href=\"#DejaVuSans-46\"/>\n       <use x=\"95.410156\" xlink:href=\"#DejaVuSans-49\"/>\n       <use x=\"159.033203\" xlink:href=\"#DejaVuSans-53\"/>\n      </g>\n     </g>\n    </g>\n    <g id=\"xtick_5\">\n     <g id=\"line2d_9\">\n      <path clip-path=\"url(#p6effe2bac5)\" d=\"M 479.124605 333.36 \nL 479.124605 7.2 \n\" style=\"fill:none;stroke:#b0b0b0;stroke-linecap:square;stroke-width:0.8;\"/>\n     </g>\n     <g id=\"line2d_10\">\n      <g>\n       <use style=\"stroke:#000000;stroke-width:0.8;\" x=\"479.124605\" xlink:href=\"#m0f62e4cb8d\" y=\"333.36\"/>\n      </g>\n     </g>\n     <g id=\"text_5\">\n      <!-- 0.20 -->\n      <defs>\n       <path d=\"M 19.1875 8.296875 \nL 53.609375 8.296875 \nL 53.609375 0 \nL 7.328125 0 \nL 7.328125 8.296875 \nQ 12.9375 14.109375 22.625 23.890625 \nQ 32.328125 33.6875 34.8125 36.53125 \nQ 39.546875 41.84375 41.421875 45.53125 \nQ 43.3125 49.21875 43.3125 52.78125 \nQ 43.3125 58.59375 39.234375 62.25 \nQ 35.15625 65.921875 28.609375 65.921875 \nQ 23.96875 65.921875 18.8125 64.3125 \nQ 13.671875 62.703125 7.8125 59.421875 \nL 7.8125 69.390625 \nQ 13.765625 71.78125 18.9375 73 \nQ 24.125 74.21875 28.421875 74.21875 \nQ 39.75 74.21875 46.484375 68.546875 \nQ 53.21875 62.890625 53.21875 53.421875 \nQ 53.21875 48.921875 51.53125 44.890625 \nQ 49.859375 40.875 45.40625 35.40625 \nQ 44.1875 33.984375 37.640625 27.21875 \nQ 31.109375 20.453125 19.1875 8.296875 \nz\n\" id=\"DejaVuSans-50\"/>\n      </defs>\n      <g transform=\"translate(459.887105 353.4901)scale(0.1728 -0.1728)\">\n       <use xlink:href=\"#DejaVuSans-48\"/>\n       <use x=\"63.623047\" xlink:href=\"#DejaVuSans-46\"/>\n       <use x=\"95.410156\" xlink:href=\"#DejaVuSans-50\"/>\n       <use x=\"159.033203\" xlink:href=\"#DejaVuSans-48\"/>\n      </g>\n     </g>\n    </g>\n    <g id=\"xtick_6\">\n     <g id=\"line2d_11\">\n      <path clip-path=\"url(#p6effe2bac5)\" d=\"M 584.077583 333.36 \nL 584.077583 7.2 \n\" style=\"fill:none;stroke:#b0b0b0;stroke-linecap:square;stroke-width:0.8;\"/>\n     </g>\n     <g id=\"line2d_12\">\n      <g>\n       <use style=\"stroke:#000000;stroke-width:0.8;\" x=\"584.077583\" xlink:href=\"#m0f62e4cb8d\" y=\"333.36\"/>\n      </g>\n     </g>\n     <g id=\"text_6\">\n      <!-- 0.25 -->\n      <g transform=\"translate(564.840083 353.4901)scale(0.1728 -0.1728)\">\n       <use xlink:href=\"#DejaVuSans-48\"/>\n       <use x=\"63.623047\" xlink:href=\"#DejaVuSans-46\"/>\n       <use x=\"95.410156\" xlink:href=\"#DejaVuSans-50\"/>\n       <use x=\"159.033203\" xlink:href=\"#DejaVuSans-53\"/>\n      </g>\n     </g>\n    </g>\n    <g id=\"xtick_7\">\n     <g id=\"line2d_13\">\n      <path clip-path=\"url(#p6effe2bac5)\" d=\"M 689.030561 333.36 \nL 689.030561 7.2 \n\" style=\"fill:none;stroke:#b0b0b0;stroke-linecap:square;stroke-width:0.8;\"/>\n     </g>\n     <g id=\"line2d_14\">\n      <g>\n       <use style=\"stroke:#000000;stroke-width:0.8;\" x=\"689.030561\" xlink:href=\"#m0f62e4cb8d\" y=\"333.36\"/>\n      </g>\n     </g>\n     <g id=\"text_7\">\n      <!-- 0.30 -->\n      <defs>\n       <path d=\"M 40.578125 39.3125 \nQ 47.65625 37.796875 51.625 33 \nQ 55.609375 28.21875 55.609375 21.1875 \nQ 55.609375 10.40625 48.1875 4.484375 \nQ 40.765625 -1.421875 27.09375 -1.421875 \nQ 22.515625 -1.421875 17.65625 -0.515625 \nQ 12.796875 0.390625 7.625 2.203125 \nL 7.625 11.71875 \nQ 11.71875 9.328125 16.59375 8.109375 \nQ 21.484375 6.890625 26.8125 6.890625 \nQ 36.078125 6.890625 40.9375 10.546875 \nQ 45.796875 14.203125 45.796875 21.1875 \nQ 45.796875 27.640625 41.28125 31.265625 \nQ 36.765625 34.90625 28.71875 34.90625 \nL 20.21875 34.90625 \nL 20.21875 43.015625 \nL 29.109375 43.015625 \nQ 36.375 43.015625 40.234375 45.921875 \nQ 44.09375 48.828125 44.09375 54.296875 \nQ 44.09375 59.90625 40.109375 62.90625 \nQ 36.140625 65.921875 28.71875 65.921875 \nQ 24.65625 65.921875 20.015625 65.03125 \nQ 15.375 64.15625 9.8125 62.3125 \nL 9.8125 71.09375 \nQ 15.4375 72.65625 20.34375 73.4375 \nQ 25.25 74.21875 29.59375 74.21875 \nQ 40.828125 74.21875 47.359375 69.109375 \nQ 53.90625 64.015625 53.90625 55.328125 \nQ 53.90625 49.265625 50.4375 45.09375 \nQ 46.96875 40.921875 40.578125 39.3125 \nz\n\" id=\"DejaVuSans-51\"/>\n      </defs>\n      <g transform=\"translate(669.793061 353.4901)scale(0.1728 -0.1728)\">\n       <use xlink:href=\"#DejaVuSans-48\"/>\n       <use x=\"63.623047\" xlink:href=\"#DejaVuSans-46\"/>\n       <use x=\"95.410156\" xlink:href=\"#DejaVuSans-51\"/>\n       <use x=\"159.033203\" xlink:href=\"#DejaVuSans-48\"/>\n      </g>\n     </g>\n    </g>\n    <g id=\"text_8\">\n     <!-- learning rate -->\n     <defs>\n      <path d=\"M 9.421875 75.984375 \nL 18.40625 75.984375 \nL 18.40625 0 \nL 9.421875 0 \nz\n\" id=\"DejaVuSans-108\"/>\n      <path d=\"M 56.203125 29.59375 \nL 56.203125 25.203125 \nL 14.890625 25.203125 \nQ 15.484375 15.921875 20.484375 11.0625 \nQ 25.484375 6.203125 34.421875 6.203125 \nQ 39.59375 6.203125 44.453125 7.46875 \nQ 49.3125 8.734375 54.109375 11.28125 \nL 54.109375 2.78125 \nQ 49.265625 0.734375 44.1875 -0.34375 \nQ 39.109375 -1.421875 33.890625 -1.421875 \nQ 20.796875 -1.421875 13.15625 6.1875 \nQ 5.515625 13.8125 5.515625 26.8125 \nQ 5.515625 40.234375 12.765625 48.109375 \nQ 20.015625 56 32.328125 56 \nQ 43.359375 56 49.78125 48.890625 \nQ 56.203125 41.796875 56.203125 29.59375 \nz\nM 47.21875 32.234375 \nQ 47.125 39.59375 43.09375 43.984375 \nQ 39.0625 48.390625 32.421875 48.390625 \nQ 24.90625 48.390625 20.390625 44.140625 \nQ 15.875 39.890625 15.1875 32.171875 \nz\n\" id=\"DejaVuSans-101\"/>\n      <path d=\"M 34.28125 27.484375 \nQ 23.390625 27.484375 19.1875 25 \nQ 14.984375 22.515625 14.984375 16.5 \nQ 14.984375 11.71875 18.140625 8.90625 \nQ 21.296875 6.109375 26.703125 6.109375 \nQ 34.1875 6.109375 38.703125 11.40625 \nQ 43.21875 16.703125 43.21875 25.484375 \nL 43.21875 27.484375 \nz\nM 52.203125 31.203125 \nL 52.203125 0 \nL 43.21875 0 \nL 43.21875 8.296875 \nQ 40.140625 3.328125 35.546875 0.953125 \nQ 30.953125 -1.421875 24.3125 -1.421875 \nQ 15.921875 -1.421875 10.953125 3.296875 \nQ 6 8.015625 6 15.921875 \nQ 6 25.140625 12.171875 29.828125 \nQ 18.359375 34.515625 30.609375 34.515625 \nL 43.21875 34.515625 \nL 43.21875 35.40625 \nQ 43.21875 41.609375 39.140625 45 \nQ 35.0625 48.390625 27.6875 48.390625 \nQ 23 48.390625 18.546875 47.265625 \nQ 14.109375 46.140625 10.015625 43.890625 \nL 10.015625 52.203125 \nQ 14.9375 54.109375 19.578125 55.046875 \nQ 24.21875 56 28.609375 56 \nQ 40.484375 56 46.34375 49.84375 \nQ 52.203125 43.703125 52.203125 31.203125 \nz\n\" id=\"DejaVuSans-97\"/>\n      <path d=\"M 41.109375 46.296875 \nQ 39.59375 47.171875 37.8125 47.578125 \nQ 36.03125 48 33.890625 48 \nQ 26.265625 48 22.1875 43.046875 \nQ 18.109375 38.09375 18.109375 28.8125 \nL 18.109375 0 \nL 9.078125 0 \nL 9.078125 54.6875 \nL 18.109375 54.6875 \nL 18.109375 46.1875 \nQ 20.953125 51.171875 25.484375 53.578125 \nQ 30.03125 56 36.53125 56 \nQ 37.453125 56 38.578125 55.875 \nQ 39.703125 55.765625 41.0625 55.515625 \nz\n\" id=\"DejaVuSans-114\"/>\n      <path d=\"M 54.890625 33.015625 \nL 54.890625 0 \nL 45.90625 0 \nL 45.90625 32.71875 \nQ 45.90625 40.484375 42.875 44.328125 \nQ 39.84375 48.1875 33.796875 48.1875 \nQ 26.515625 48.1875 22.3125 43.546875 \nQ 18.109375 38.921875 18.109375 30.90625 \nL 18.109375 0 \nL 9.078125 0 \nL 9.078125 54.6875 \nL 18.109375 54.6875 \nL 18.109375 46.1875 \nQ 21.34375 51.125 25.703125 53.5625 \nQ 30.078125 56 35.796875 56 \nQ 45.21875 56 50.046875 50.171875 \nQ 54.890625 44.34375 54.890625 33.015625 \nz\n\" id=\"DejaVuSans-110\"/>\n      <path d=\"M 9.421875 54.6875 \nL 18.40625 54.6875 \nL 18.40625 0 \nL 9.421875 0 \nz\nM 9.421875 75.984375 \nL 18.40625 75.984375 \nL 18.40625 64.59375 \nL 9.421875 64.59375 \nz\n\" id=\"DejaVuSans-105\"/>\n      <path d=\"M 45.40625 27.984375 \nQ 45.40625 37.75 41.375 43.109375 \nQ 37.359375 48.484375 30.078125 48.484375 \nQ 22.859375 48.484375 18.828125 43.109375 \nQ 14.796875 37.75 14.796875 27.984375 \nQ 14.796875 18.265625 18.828125 12.890625 \nQ 22.859375 7.515625 30.078125 7.515625 \nQ 37.359375 7.515625 41.375 12.890625 \nQ 45.40625 18.265625 45.40625 27.984375 \nz\nM 54.390625 6.78125 \nQ 54.390625 -7.171875 48.1875 -13.984375 \nQ 42 -20.796875 29.203125 -20.796875 \nQ 24.46875 -20.796875 20.265625 -20.09375 \nQ 16.0625 -19.390625 12.109375 -17.921875 \nL 12.109375 -9.1875 \nQ 16.0625 -11.328125 19.921875 -12.34375 \nQ 23.78125 -13.375 27.78125 -13.375 \nQ 36.625 -13.375 41.015625 -8.765625 \nQ 45.40625 -4.15625 45.40625 5.171875 \nL 45.40625 9.625 \nQ 42.625 4.78125 38.28125 2.390625 \nQ 33.9375 0 27.875 0 \nQ 17.828125 0 11.671875 7.65625 \nQ 5.515625 15.328125 5.515625 27.984375 \nQ 5.515625 40.671875 11.671875 48.328125 \nQ 17.828125 56 27.875 56 \nQ 33.9375 56 38.28125 53.609375 \nQ 42.625 51.21875 45.40625 46.390625 \nL 45.40625 54.6875 \nL 54.390625 54.6875 \nz\n\" id=\"DejaVuSans-103\"/>\n      <path id=\"DejaVuSans-32\"/>\n      <path d=\"M 18.3125 70.21875 \nL 18.3125 54.6875 \nL 36.8125 54.6875 \nL 36.8125 47.703125 \nL 18.3125 47.703125 \nL 18.3125 18.015625 \nQ 18.3125 11.328125 20.140625 9.421875 \nQ 21.96875 7.515625 27.59375 7.515625 \nL 36.8125 7.515625 \nL 36.8125 0 \nL 27.59375 0 \nQ 17.1875 0 13.234375 3.875 \nQ 9.28125 7.765625 9.28125 18.015625 \nL 9.28125 47.703125 \nL 2.6875 47.703125 \nL 2.6875 54.6875 \nL 9.28125 54.6875 \nL 9.28125 70.21875 \nz\n\" id=\"DejaVuSans-116\"/>\n     </defs>\n     <g transform=\"translate(352.523175 368.682238)scale(0.1 -0.1)\">\n      <use xlink:href=\"#DejaVuSans-108\"/>\n      <use x=\"27.783203\" xlink:href=\"#DejaVuSans-101\"/>\n      <use x=\"89.306641\" xlink:href=\"#DejaVuSans-97\"/>\n      <use x=\"150.585938\" xlink:href=\"#DejaVuSans-114\"/>\n      <use x=\"189.949219\" xlink:href=\"#DejaVuSans-110\"/>\n      <use x=\"253.328125\" xlink:href=\"#DejaVuSans-105\"/>\n      <use x=\"281.111328\" xlink:href=\"#DejaVuSans-110\"/>\n      <use x=\"344.490234\" xlink:href=\"#DejaVuSans-103\"/>\n      <use x=\"407.966797\" xlink:href=\"#DejaVuSans-32\"/>\n      <use x=\"439.753906\" xlink:href=\"#DejaVuSans-114\"/>\n      <use x=\"480.867188\" xlink:href=\"#DejaVuSans-97\"/>\n      <use x=\"542.146484\" xlink:href=\"#DejaVuSans-116\"/>\n      <use x=\"581.355469\" xlink:href=\"#DejaVuSans-101\"/>\n     </g>\n    </g>\n   </g>\n   <g id=\"matplotlib.axis_2\">\n    <g id=\"ytick_1\">\n     <g id=\"line2d_15\">\n      <path clip-path=\"url(#p6effe2bac5)\" d=\"M 49.866925 289.149762 \nL 719.466925 289.149762 \n\" style=\"fill:none;stroke:#b0b0b0;stroke-linecap:square;stroke-width:0.8;\"/>\n     </g>\n     <g id=\"line2d_16\">\n      <defs>\n       <path d=\"M 0 0 \nL -3.5 0 \n\" id=\"ma39c487821\" style=\"stroke:#000000;stroke-width:0.8;\"/>\n      </defs>\n      <g>\n       <use style=\"stroke:#000000;stroke-width:0.8;\" x=\"49.866925\" xlink:href=\"#ma39c487821\" y=\"289.149762\"/>\n      </g>\n     </g>\n     <g id=\"text_9\">\n      <!-- 19 -->\n      <defs>\n       <path d=\"M 10.984375 1.515625 \nL 10.984375 10.5 \nQ 14.703125 8.734375 18.5 7.8125 \nQ 22.3125 6.890625 25.984375 6.890625 \nQ 35.75 6.890625 40.890625 13.453125 \nQ 46.046875 20.015625 46.78125 33.40625 \nQ 43.953125 29.203125 39.59375 26.953125 \nQ 35.25 24.703125 29.984375 24.703125 \nQ 19.046875 24.703125 12.671875 31.3125 \nQ 6.296875 37.9375 6.296875 49.421875 \nQ 6.296875 60.640625 12.9375 67.421875 \nQ 19.578125 74.21875 30.609375 74.21875 \nQ 43.265625 74.21875 49.921875 64.515625 \nQ 56.59375 54.828125 56.59375 36.375 \nQ 56.59375 19.140625 48.40625 8.859375 \nQ 40.234375 -1.421875 26.421875 -1.421875 \nQ 22.703125 -1.421875 18.890625 -0.6875 \nQ 15.09375 0.046875 10.984375 1.515625 \nz\nM 30.609375 32.421875 \nQ 37.25 32.421875 41.125 36.953125 \nQ 45.015625 41.5 45.015625 49.421875 \nQ 45.015625 57.28125 41.125 61.84375 \nQ 37.25 66.40625 30.609375 66.40625 \nQ 23.96875 66.40625 20.09375 61.84375 \nQ 16.21875 57.28125 16.21875 49.421875 \nQ 16.21875 41.5 20.09375 36.953125 \nQ 23.96875 32.421875 30.609375 32.421875 \nz\n\" id=\"DejaVuSans-57\"/>\n      </defs>\n      <g transform=\"translate(20.878125 295.714812)scale(0.1728 -0.1728)\">\n       <use xlink:href=\"#DejaVuSans-49\"/>\n       <use x=\"63.623047\" xlink:href=\"#DejaVuSans-57\"/>\n      </g>\n     </g>\n    </g>\n    <g id=\"ytick_2\">\n     <g id=\"line2d_17\">\n      <path clip-path=\"url(#p6effe2bac5)\" d=\"M 49.866925 242.068158 \nL 719.466925 242.068158 \n\" style=\"fill:none;stroke:#b0b0b0;stroke-linecap:square;stroke-width:0.8;\"/>\n     </g>\n     <g id=\"line2d_18\">\n      <g>\n       <use style=\"stroke:#000000;stroke-width:0.8;\" x=\"49.866925\" xlink:href=\"#ma39c487821\" y=\"242.068158\"/>\n      </g>\n     </g>\n     <g id=\"text_10\">\n      <!-- 20 -->\n      <g transform=\"translate(20.878125 248.633208)scale(0.1728 -0.1728)\">\n       <use xlink:href=\"#DejaVuSans-50\"/>\n       <use x=\"63.623047\" xlink:href=\"#DejaVuSans-48\"/>\n      </g>\n     </g>\n    </g>\n    <g id=\"ytick_3\">\n     <g id=\"line2d_19\">\n      <path clip-path=\"url(#p6effe2bac5)\" d=\"M 49.866925 194.986554 \nL 719.466925 194.986554 \n\" style=\"fill:none;stroke:#b0b0b0;stroke-linecap:square;stroke-width:0.8;\"/>\n     </g>\n     <g id=\"line2d_20\">\n      <g>\n       <use style=\"stroke:#000000;stroke-width:0.8;\" x=\"49.866925\" xlink:href=\"#ma39c487821\" y=\"194.986554\"/>\n      </g>\n     </g>\n     <g id=\"text_11\">\n      <!-- 21 -->\n      <g transform=\"translate(20.878125 201.551604)scale(0.1728 -0.1728)\">\n       <use xlink:href=\"#DejaVuSans-50\"/>\n       <use x=\"63.623047\" xlink:href=\"#DejaVuSans-49\"/>\n      </g>\n     </g>\n    </g>\n    <g id=\"ytick_4\">\n     <g id=\"line2d_21\">\n      <path clip-path=\"url(#p6effe2bac5)\" d=\"M 49.866925 147.90495 \nL 719.466925 147.90495 \n\" style=\"fill:none;stroke:#b0b0b0;stroke-linecap:square;stroke-width:0.8;\"/>\n     </g>\n     <g id=\"line2d_22\">\n      <g>\n       <use style=\"stroke:#000000;stroke-width:0.8;\" x=\"49.866925\" xlink:href=\"#ma39c487821\" y=\"147.90495\"/>\n      </g>\n     </g>\n     <g id=\"text_12\">\n      <!-- 22 -->\n      <g transform=\"translate(20.878125 154.47)scale(0.1728 -0.1728)\">\n       <use xlink:href=\"#DejaVuSans-50\"/>\n       <use x=\"63.623047\" xlink:href=\"#DejaVuSans-50\"/>\n      </g>\n     </g>\n    </g>\n    <g id=\"ytick_5\">\n     <g id=\"line2d_23\">\n      <path clip-path=\"url(#p6effe2bac5)\" d=\"M 49.866925 100.823346 \nL 719.466925 100.823346 \n\" style=\"fill:none;stroke:#b0b0b0;stroke-linecap:square;stroke-width:0.8;\"/>\n     </g>\n     <g id=\"line2d_24\">\n      <g>\n       <use style=\"stroke:#000000;stroke-width:0.8;\" x=\"49.866925\" xlink:href=\"#ma39c487821\" y=\"100.823346\"/>\n      </g>\n     </g>\n     <g id=\"text_13\">\n      <!-- 23 -->\n      <g transform=\"translate(20.878125 107.388396)scale(0.1728 -0.1728)\">\n       <use xlink:href=\"#DejaVuSans-50\"/>\n       <use x=\"63.623047\" xlink:href=\"#DejaVuSans-51\"/>\n      </g>\n     </g>\n    </g>\n    <g id=\"ytick_6\">\n     <g id=\"line2d_25\">\n      <path clip-path=\"url(#p6effe2bac5)\" d=\"M 49.866925 53.741742 \nL 719.466925 53.741742 \n\" style=\"fill:none;stroke:#b0b0b0;stroke-linecap:square;stroke-width:0.8;\"/>\n     </g>\n     <g id=\"line2d_26\">\n      <g>\n       <use style=\"stroke:#000000;stroke-width:0.8;\" x=\"49.866925\" xlink:href=\"#ma39c487821\" y=\"53.741742\"/>\n      </g>\n     </g>\n     <g id=\"text_14\">\n      <!-- 24 -->\n      <defs>\n       <path d=\"M 37.796875 64.3125 \nL 12.890625 25.390625 \nL 37.796875 25.390625 \nz\nM 35.203125 72.90625 \nL 47.609375 72.90625 \nL 47.609375 25.390625 \nL 58.015625 25.390625 \nL 58.015625 17.1875 \nL 47.609375 17.1875 \nL 47.609375 0 \nL 37.796875 0 \nL 37.796875 17.1875 \nL 4.890625 17.1875 \nL 4.890625 26.703125 \nz\n\" id=\"DejaVuSans-52\"/>\n      </defs>\n      <g transform=\"translate(20.878125 60.306792)scale(0.1728 -0.1728)\">\n       <use xlink:href=\"#DejaVuSans-50\"/>\n       <use x=\"63.623047\" xlink:href=\"#DejaVuSans-52\"/>\n      </g>\n     </g>\n    </g>\n    <g id=\"text_15\">\n     <!-- validation loss -->\n     <defs>\n      <path d=\"M 2.984375 54.6875 \nL 12.5 54.6875 \nL 29.59375 8.796875 \nL 46.6875 54.6875 \nL 56.203125 54.6875 \nL 35.6875 0 \nL 23.484375 0 \nz\n\" id=\"DejaVuSans-118\"/>\n      <path d=\"M 45.40625 46.390625 \nL 45.40625 75.984375 \nL 54.390625 75.984375 \nL 54.390625 0 \nL 45.40625 0 \nL 45.40625 8.203125 \nQ 42.578125 3.328125 38.25 0.953125 \nQ 33.9375 -1.421875 27.875 -1.421875 \nQ 17.96875 -1.421875 11.734375 6.484375 \nQ 5.515625 14.40625 5.515625 27.296875 \nQ 5.515625 40.1875 11.734375 48.09375 \nQ 17.96875 56 27.875 56 \nQ 33.9375 56 38.25 53.625 \nQ 42.578125 51.265625 45.40625 46.390625 \nz\nM 14.796875 27.296875 \nQ 14.796875 17.390625 18.875 11.75 \nQ 22.953125 6.109375 30.078125 6.109375 \nQ 37.203125 6.109375 41.296875 11.75 \nQ 45.40625 17.390625 45.40625 27.296875 \nQ 45.40625 37.203125 41.296875 42.84375 \nQ 37.203125 48.484375 30.078125 48.484375 \nQ 22.953125 48.484375 18.875 42.84375 \nQ 14.796875 37.203125 14.796875 27.296875 \nz\n\" id=\"DejaVuSans-100\"/>\n      <path d=\"M 30.609375 48.390625 \nQ 23.390625 48.390625 19.1875 42.75 \nQ 14.984375 37.109375 14.984375 27.296875 \nQ 14.984375 17.484375 19.15625 11.84375 \nQ 23.34375 6.203125 30.609375 6.203125 \nQ 37.796875 6.203125 41.984375 11.859375 \nQ 46.1875 17.53125 46.1875 27.296875 \nQ 46.1875 37.015625 41.984375 42.703125 \nQ 37.796875 48.390625 30.609375 48.390625 \nz\nM 30.609375 56 \nQ 42.328125 56 49.015625 48.375 \nQ 55.71875 40.765625 55.71875 27.296875 \nQ 55.71875 13.875 49.015625 6.21875 \nQ 42.328125 -1.421875 30.609375 -1.421875 \nQ 18.84375 -1.421875 12.171875 6.21875 \nQ 5.515625 13.875 5.515625 27.296875 \nQ 5.515625 40.765625 12.171875 48.375 \nQ 18.84375 56 30.609375 56 \nz\n\" id=\"DejaVuSans-111\"/>\n      <path d=\"M 44.28125 53.078125 \nL 44.28125 44.578125 \nQ 40.484375 46.53125 36.375 47.5 \nQ 32.28125 48.484375 27.875 48.484375 \nQ 21.1875 48.484375 17.84375 46.4375 \nQ 14.5 44.390625 14.5 40.28125 \nQ 14.5 37.15625 16.890625 35.375 \nQ 19.28125 33.59375 26.515625 31.984375 \nL 29.59375 31.296875 \nQ 39.15625 29.25 43.1875 25.515625 \nQ 47.21875 21.78125 47.21875 15.09375 \nQ 47.21875 7.46875 41.1875 3.015625 \nQ 35.15625 -1.421875 24.609375 -1.421875 \nQ 20.21875 -1.421875 15.453125 -0.5625 \nQ 10.6875 0.296875 5.421875 2 \nL 5.421875 11.28125 \nQ 10.40625 8.6875 15.234375 7.390625 \nQ 20.0625 6.109375 24.8125 6.109375 \nQ 31.15625 6.109375 34.5625 8.28125 \nQ 37.984375 10.453125 37.984375 14.40625 \nQ 37.984375 18.0625 35.515625 20.015625 \nQ 33.0625 21.96875 24.703125 23.78125 \nL 21.578125 24.515625 \nQ 13.234375 26.265625 9.515625 29.90625 \nQ 5.8125 33.546875 5.8125 39.890625 \nQ 5.8125 47.609375 11.28125 51.796875 \nQ 16.75 56 26.8125 56 \nQ 31.78125 56 36.171875 55.265625 \nQ 40.578125 54.546875 44.28125 53.078125 \nz\n\" id=\"DejaVuSans-115\"/>\n     </defs>\n     <g transform=\"translate(14.798438 206.144063)rotate(-90)scale(0.1 -0.1)\">\n      <use xlink:href=\"#DejaVuSans-118\"/>\n      <use x=\"59.179688\" xlink:href=\"#DejaVuSans-97\"/>\n      <use x=\"120.458984\" xlink:href=\"#DejaVuSans-108\"/>\n      <use x=\"148.242188\" xlink:href=\"#DejaVuSans-105\"/>\n      <use x=\"176.025391\" xlink:href=\"#DejaVuSans-100\"/>\n      <use x=\"239.501953\" xlink:href=\"#DejaVuSans-97\"/>\n      <use x=\"300.78125\" xlink:href=\"#DejaVuSans-116\"/>\n      <use x=\"339.990234\" xlink:href=\"#DejaVuSans-105\"/>\n      <use x=\"367.773438\" xlink:href=\"#DejaVuSans-111\"/>\n      <use x=\"428.955078\" xlink:href=\"#DejaVuSans-110\"/>\n      <use x=\"492.333984\" xlink:href=\"#DejaVuSans-32\"/>\n      <use x=\"524.121094\" xlink:href=\"#DejaVuSans-108\"/>\n      <use x=\"551.904297\" xlink:href=\"#DejaVuSans-111\"/>\n      <use x=\"613.085938\" xlink:href=\"#DejaVuSans-115\"/>\n      <use x=\"665.185547\" xlink:href=\"#DejaVuSans-115\"/>\n     </g>\n    </g>\n   </g>\n   <g id=\"line2d_27\">\n    <defs>\n     <path d=\"M 0 3 \nC 0.795609 3 1.55874 2.683901 2.12132 2.12132 \nC 2.683901 1.55874 3 0.795609 3 0 \nC 3 -0.795609 2.683901 -1.55874 2.12132 -2.12132 \nC 1.55874 -2.683901 0.795609 -3 0 -3 \nC -0.795609 -3 -1.55874 -2.683901 -2.12132 -2.12132 \nC -2.683901 -1.55874 -3 -0.795609 -3 0 \nC -3 0.795609 -2.683901 1.55874 -2.12132 2.12132 \nC -1.55874 2.683901 -0.795609 3 0 3 \nz\n\" id=\"mf19320cdc8\" style=\"stroke:#ff0000;\"/>\n    </defs>\n    <g clip-path=\"url(#p6effe2bac5)\">\n     <use style=\"fill:#ff0000;stroke:#ff0000;\" x=\"80.303289\" xlink:href=\"#mf19320cdc8\" y=\"22.025455\"/>\n     <use style=\"fill:#ff0000;stroke:#ff0000;\" x=\"101.293884\" xlink:href=\"#mf19320cdc8\" y=\"137.803591\"/>\n     <use style=\"fill:#ff0000;stroke:#ff0000;\" x=\"122.28448\" xlink:href=\"#mf19320cdc8\" y=\"182.346879\"/>\n     <use style=\"fill:#ff0000;stroke:#ff0000;\" x=\"143.275075\" xlink:href=\"#mf19320cdc8\" y=\"219.576412\"/>\n     <use style=\"fill:#ff0000;stroke:#ff0000;\" x=\"164.265671\" xlink:href=\"#mf19320cdc8\" y=\"225.825935\"/>\n     <use style=\"fill:#ff0000;stroke:#ff0000;\" x=\"185.256267\" xlink:href=\"#mf19320cdc8\" y=\"256.479787\"/>\n     <use style=\"fill:#ff0000;stroke:#ff0000;\" x=\"206.246862\" xlink:href=\"#mf19320cdc8\" y=\"271.496585\"/>\n     <use style=\"fill:#ff0000;stroke:#ff0000;\" x=\"227.237458\" xlink:href=\"#mf19320cdc8\" y=\"278.537884\"/>\n     <use style=\"fill:#ff0000;stroke:#ff0000;\" x=\"248.228054\" xlink:href=\"#mf19320cdc8\" y=\"269.397845\"/>\n     <use style=\"fill:#ff0000;stroke:#ff0000;\" x=\"269.218649\" xlink:href=\"#mf19320cdc8\" y=\"285.109703\"/>\n     <use style=\"fill:#ff0000;stroke:#ff0000;\" x=\"479.124605\" xlink:href=\"#mf19320cdc8\" y=\"318.534545\"/>\n     <use style=\"fill:#ff0000;stroke:#ff0000;\" x=\"689.030561\" xlink:href=\"#mf19320cdc8\" y=\"98.375101\"/>\n    </g>\n   </g>\n   <g id=\"line2d_28\">\n    <path clip-path=\"url(#p6effe2bac5)\" d=\"M 80.303289 22.025455 \nL 101.293884 137.803591 \nL 122.28448 182.346879 \nL 143.275075 219.576412 \nL 164.265671 225.825935 \nL 185.256267 256.479787 \nL 206.246862 271.496585 \nL 227.237458 278.537884 \nL 248.228054 269.397845 \nL 269.218649 285.109703 \nL 479.124605 318.534545 \nL 689.030561 98.375101 \n\" style=\"fill:none;stroke:#0000ff;stroke-linecap:square;\"/>\n   </g>\n   <g id=\"patch_3\">\n    <path d=\"M 49.866925 333.36 \nL 49.866925 7.2 \n\" style=\"fill:none;stroke:#000000;stroke-linecap:square;stroke-linejoin:miter;stroke-width:0.8;\"/>\n   </g>\n   <g id=\"patch_4\">\n    <path d=\"M 719.466925 333.36 \nL 719.466925 7.2 \n\" style=\"fill:none;stroke:#000000;stroke-linecap:square;stroke-linejoin:miter;stroke-width:0.8;\"/>\n   </g>\n   <g id=\"patch_5\">\n    <path d=\"M 49.866925 333.36 \nL 719.466925 333.36 \n\" style=\"fill:none;stroke:#000000;stroke-linecap:square;stroke-linejoin:miter;stroke-width:0.8;\"/>\n   </g>\n   <g id=\"patch_6\">\n    <path d=\"M 49.866925 7.2 \nL 719.466925 7.2 \n\" style=\"fill:none;stroke:#000000;stroke-linecap:square;stroke-linejoin:miter;stroke-width:0.8;\"/>\n   </g>\n  </g>\n </g>\n <defs>\n  <clipPath id=\"p6effe2bac5\">\n   <rect height=\"326.16\" width=\"669.6\" x=\"49.866925\" y=\"7.2\"/>\n  </clipPath>\n </defs>\n</svg>\n",
            "text/plain": [
              "<Figure size 864x432 with 1 Axes>"
            ]
          },
          "metadata": {},
          "output_type": "display_data"
        }
      ],
      "source": [
        "plt.plot(lr_list, val_loss_list, 'ro')\n",
        "plt.plot(lr_list, val_loss_list, 'b', linewidth=1)\n",
        "plt.grid()\n",
        "plt.xlabel(\"learning rate\")\n",
        "plt.ylabel('validation loss')\n",
        "plt.show()"
      ]
    },
    {
      "cell_type": "markdown",
      "metadata": {
        "id": "uX0onhn9RliG"
      },
      "source": [
        "lowest loss at 0.09 and 0.2 learning rate"
      ]
    },
    {
      "cell_type": "code",
      "execution_count": null,
      "metadata": {
        "colab": {
          "base_uri": "https://localhost:8080/"
        },
        "id": "v6oTJ3-MgAeX",
        "outputId": "d2a978c5-7fd8-4839-dae2-007676736074"
      },
      "outputs": [
        {
          "name": "stdout",
          "output_type": "stream",
          "text": [
            "cuda\n"
          ]
        }
      ],
      "source": [
        "device = torch.device(\"cuda\" if torch.cuda.is_available() else \"cpu\")\n",
        "print(device)"
      ]
    },
    {
      "cell_type": "markdown",
      "source": [
        "as we increase the batch_size both the validation_loss and the training_loss decrease and their difference is tending to zero"
      ],
      "metadata": {
        "id": "uMluG46I5IKA"
      }
    },
    {
      "cell_type": "code",
      "execution_count": 36,
      "metadata": {
        "id": "91QsCA1RLFxW"
      },
      "outputs": [],
      "source": [
        "def give_diff_loss(batch_size):\n",
        "\n",
        "  model = SoftmaxRegressionMod(num_inputs=784, num_outputs=10, lr=0.01)\n",
        "\n",
        "  # give the difference between the train_loss and val_loss at the end of the training\n",
        "  data = d2l.FashionMNIST(batch_size=batch_size)\n",
        "\n",
        "  max_epochs=10\n",
        "  optimizer = torch.optim.SGD([model.W, model.b], model.lr)\n",
        "\n",
        "  for epoch in range(max_epochs):\n",
        "\n",
        "    # training loop\n",
        "    train_loss = torch.zeros(1)\n",
        "    for X, y in data.train_dataloader():\n",
        "\n",
        "      # forward pass : y_hat and loss\n",
        "      y_hat = model.forward(X)\n",
        "      l = model.loss(y, y_hat)\n",
        "      train_loss += l.detach()\n",
        "\n",
        "      # backward pass : gradient\n",
        "      l.backward()\n",
        "\n",
        "      # update the params\n",
        "      optimizer.step()\n",
        "\n",
        "      # zero the grad\n",
        "      optimizer.zero_grad()\n",
        "  \n",
        "  # validation loop :\n",
        "  with torch.no_grad():\n",
        "    val_loss = torch.zeros(1)\n",
        "    for X, y in data.val_dataloader():\n",
        "      y_hat = model.forward(X)\n",
        "      val_loss += model.loss(y, y_hat)\n",
        "\n",
        "    print(f\"val_loss = {val_loss.item():.4f}, train_loss = {train_loss.item():.4f}\")\n",
        "    return (val_loss.item() - train_loss.item())"
      ]
    },
    {
      "cell_type": "code",
      "execution_count": 29,
      "metadata": {
        "id": "XtNxDPWqKVA4"
      },
      "outputs": [],
      "source": [
        "def new_softmax(X): \n",
        "  sum1 = X.sum(axis=1, keepdims=True) \n",
        "  X = X / sum1\n",
        "  X_exp = torch.exp(X)\n",
        "  sum2 = X_exp.sum(axis=1, keepdims=True)\n",
        "  return (X_exp / sum2)"
      ]
    },
    {
      "cell_type": "code",
      "execution_count": 30,
      "metadata": {
        "id": "Tc-1q_StJ50o"
      },
      "outputs": [],
      "source": [
        "class SoftmaxRegressionMod(d2l.Classifier):\n",
        "  def __init__(self, num_inputs, num_outputs, lr, sigma=0.01):\n",
        "    super().__init__()\n",
        "    self.save_hyperparameters()\n",
        "    self.W = torch.normal(0, sigma, size=(num_inputs, num_outputs), requires_grad=True)\n",
        "    self.b = torch.zeros(num_outputs, requires_grad=True)\n",
        "\n",
        "  def forward(self, X):\n",
        "    # O = XW + b\n",
        "    o = torch.mm(X.reshape(-1, self.W.shape[0]), self.W) + self.b\n",
        "    return new_softmax(o)\n",
        "\n",
        "  def loss(self, y, y_hat):\n",
        "    return cross_entropy(y_hat, y)"
      ]
    },
    {
      "cell_type": "code",
      "execution_count": 37,
      "metadata": {
        "colab": {
          "base_uri": "https://localhost:8080/"
        },
        "id": "aMfPdJFKL7qG",
        "outputId": "0cac08e5-6f64-4fbd-92b0-d9d2ea8557bc"
      },
      "outputs": [
        {
          "output_type": "stream",
          "name": "stdout",
          "text": [
            "val_loss = 11500.2852, train_loss = 69004.1172\n",
            "i = 0, diff_list[i] = -57503.83203125\n",
            "val_loss = 5734.5132, train_loss = 34412.8750\n",
            "i = 1, diff_list[i] = -28678.36181640625\n",
            "val_loss = nan, train_loss = nan\n",
            "i = 2, diff_list[i] = nan\n",
            "val_loss = 1437.7999, train_loss = 8627.1523\n",
            "i = 3, diff_list[i] = -7189.3524169921875\n",
            "val_loss = 715.3057, train_loss = 4286.8955\n",
            "i = 4, diff_list[i] = -3571.58984375\n",
            "val_loss = 358.1099, train_loss = 2140.1262\n",
            "i = 5, diff_list[i] = -1782.016357421875\n",
            "val_loss = nan, train_loss = nan\n",
            "i = 6, diff_list[i] = nan\n",
            "val_loss = nan, train_loss = nan\n",
            "i = 7, diff_list[i] = nan\n"
          ]
        },
        {
          "output_type": "stream",
          "name": "stderr",
          "text": [
            "Exception ignored in: <function _MultiProcessingDataLoaderIter.__del__ at 0x7f8fd0c53790>\n",
            "Traceback (most recent call last):\n",
            "  File \"/usr/local/lib/python3.8/dist-packages/torch/utils/data/dataloader.py\", line 1466, in __del__\n",
            "    self._shutdown_workers()\n",
            "  File \"/usr/local/lib/python3.8/dist-packages/torch/utils/data/dataloader.py\", line 1449, in _shutdown_workers\n",
            "    if w.is_alive():\n",
            "  File \"/usr/lib/python3.8/multiprocessing/process.py\", line 160, in is_alive\n",
            "Exception ignored in:     <function _MultiProcessingDataLoaderIter.__del__ at 0x7f8fd0c53790>\n",
            "assert self._parent_pid == os.getpid(), 'can only test a child process'Traceback (most recent call last):\n",
            "\n",
            "  File \"/usr/local/lib/python3.8/dist-packages/torch/utils/data/dataloader.py\", line 1466, in __del__\n",
            "AssertionError    : can only test a child processself._shutdown_workers()\n",
            "\n",
            "  File \"/usr/local/lib/python3.8/dist-packages/torch/utils/data/dataloader.py\", line 1449, in _shutdown_workers\n",
            "    if w.is_alive():Exception ignored in: \n",
            "  File \"/usr/lib/python3.8/multiprocessing/process.py\", line 160, in is_alive\n",
            "<function _MultiProcessingDataLoaderIter.__del__ at 0x7f8fd0c53790>    assert self._parent_pid == os.getpid(), 'can only test a child process'\n",
            "\n",
            "AssertionError: can only test a child processTraceback (most recent call last):\n",
            "\n",
            "  File \"/usr/local/lib/python3.8/dist-packages/torch/utils/data/dataloader.py\", line 1466, in __del__\n",
            "    self._shutdown_workers()\n",
            "  File \"/usr/local/lib/python3.8/dist-packages/torch/utils/data/dataloader.py\", line 1449, in _shutdown_workers\n",
            "    if w.is_alive():\n",
            "  File \"/usr/lib/python3.8/multiprocessing/process.py\", line 160, in is_alive\n",
            "    assert self._parent_pid == os.getpid(), 'can only test a child process'\n",
            "AssertionError: can only test a child process\n",
            "Exception ignored in: <function _MultiProcessingDataLoaderIter.__del__ at 0x7f8fd0c53790>\n",
            "Traceback (most recent call last):\n",
            "  File \"/usr/local/lib/python3.8/dist-packages/torch/utils/data/dataloader.py\", line 1466, in __del__\n",
            "    Exception ignored in: self._shutdown_workers()<function _MultiProcessingDataLoaderIter.__del__ at 0x7f8fd0c53790>\n",
            "\n",
            "  File \"/usr/local/lib/python3.8/dist-packages/torch/utils/data/dataloader.py\", line 1449, in _shutdown_workers\n",
            "Traceback (most recent call last):\n",
            "    if w.is_alive():\n",
            "  File \"/usr/lib/python3.8/multiprocessing/process.py\", line 160, in is_alive\n",
            "  File \"/usr/local/lib/python3.8/dist-packages/torch/utils/data/dataloader.py\", line 1466, in __del__\n",
            "        self._shutdown_workers()assert self._parent_pid == os.getpid(), 'can only test a child process'\n",
            "\n",
            "AssertionError  File \"/usr/local/lib/python3.8/dist-packages/torch/utils/data/dataloader.py\", line 1449, in _shutdown_workers\n",
            "    : if w.is_alive():can only test a child process\n",
            "\n",
            "  File \"/usr/lib/python3.8/multiprocessing/process.py\", line 160, in is_alive\n",
            "    assert self._parent_pid == os.getpid(), 'can only test a child process'\n",
            "AssertionError: can only test a child process\n",
            "Exception ignored in: <function _MultiProcessingDataLoaderIter.__del__ at 0x7f8fd0c53790>\n",
            "Traceback (most recent call last):\n",
            "Exception ignored in:   File \"/usr/local/lib/python3.8/dist-packages/torch/utils/data/dataloader.py\", line 1466, in __del__\n",
            "<function _MultiProcessingDataLoaderIter.__del__ at 0x7f8fd0c53790>    \n",
            "self._shutdown_workers()Traceback (most recent call last):\n",
            "\n",
            "  File \"/usr/local/lib/python3.8/dist-packages/torch/utils/data/dataloader.py\", line 1466, in __del__\n",
            "  File \"/usr/local/lib/python3.8/dist-packages/torch/utils/data/dataloader.py\", line 1449, in _shutdown_workers\n",
            "        self._shutdown_workers()if w.is_alive():\n",
            "\n",
            "  File \"/usr/lib/python3.8/multiprocessing/process.py\", line 160, in is_alive\n",
            "  File \"/usr/local/lib/python3.8/dist-packages/torch/utils/data/dataloader.py\", line 1449, in _shutdown_workers\n",
            "        assert self._parent_pid == os.getpid(), 'can only test a child process'if w.is_alive():\n",
            "\n",
            "AssertionError:   File \"/usr/lib/python3.8/multiprocessing/process.py\", line 160, in is_alive\n",
            "can only test a child process    assert self._parent_pid == os.getpid(), 'can only test a child process'\n",
            "\n",
            "AssertionError: can only test a child process\n",
            "Exception ignored in: <function _MultiProcessingDataLoaderIter.__del__ at 0x7f8fd0c53790>\n",
            "Traceback (most recent call last):\n",
            "  File \"/usr/local/lib/python3.8/dist-packages/torch/utils/data/dataloader.py\", line 1466, in __del__\n",
            "    self._shutdown_workers()\n",
            "  File \"/usr/local/lib/python3.8/dist-packages/torch/utils/data/dataloader.py\", line 1449, in _shutdown_workers\n",
            "    if w.is_alive():\n",
            "  File \"/usr/lib/python3.8/multiprocessing/process.py\", line 160, in is_alive\n",
            "    assert self._parent_pid == os.getpid(), 'can only test a child process'\n",
            "AssertionError: can only test a child process\n",
            "Exception ignored in: Exception ignored in: <function _MultiProcessingDataLoaderIter.__del__ at 0x7f8fd0c53790><function _MultiProcessingDataLoaderIter.__del__ at 0x7f8fd0c53790>\n",
            "Traceback (most recent call last):\n",
            "Exception ignored in:   File \"/usr/local/lib/python3.8/dist-packages/torch/utils/data/dataloader.py\", line 1466, in __del__\n",
            "\n",
            "  File \"/usr/local/lib/python3.8/dist-packages/torch/utils/data/dataloader.py\", line 1449, in _shutdown_workers\n",
            "\n",
            "    self._shutdown_workers()    if w.is_alive():  File \"/usr/lib/python3.8/multiprocessing/process.py\", line 160, in is_alive\n",
            "    assert self._parent_pid == os.getpid(), 'can only test a child process'\n",
            "\n",
            "Traceback (most recent call last):\n",
            "AssertionError  File \"/usr/local/lib/python3.8/dist-packages/torch/utils/data/dataloader.py\", line 1466, in __del__\n",
            ":     can only test a child processself._shutdown_workers()\n",
            "\n",
            "  File \"/usr/local/lib/python3.8/dist-packages/torch/utils/data/dataloader.py\", line 1449, in _shutdown_workers\n",
            "    Exception ignored in: if w.is_alive():<function _MultiProcessingDataLoaderIter.__del__ at 0x7f8fd0c53790>    \n",
            "\n",
            "  File \"/usr/lib/python3.8/multiprocessing/process.py\", line 160, in is_alive\n",
            "Traceback (most recent call last):\n",
            "  File \"/usr/local/lib/python3.8/dist-packages/torch/utils/data/dataloader.py\", line 1466, in __del__\n",
            "        assert self._parent_pid == os.getpid(), 'can only test a child process'self._shutdown_workers()\n",
            "\n",
            "AssertionError  File \"/usr/local/lib/python3.8/dist-packages/torch/utils/data/dataloader.py\", line 1449, in _shutdown_workers\n",
            ":     can only test a child processif w.is_alive():\n",
            "<function _MultiProcessingDataLoaderIter.__del__ at 0x7f8fd0c53790>\n",
            "  File \"/usr/lib/python3.8/multiprocessing/process.py\", line 160, in is_alive\n",
            "\n",
            "Traceback (most recent call last):\n",
            "assert self._parent_pid == os.getpid(), 'can only test a child process'  File \"/usr/local/lib/python3.8/dist-packages/torch/utils/data/dataloader.py\", line 1466, in __del__\n",
            "\n",
            "Exception ignored in:     self._shutdown_workers()\n",
            "AssertionError  File \"/usr/local/lib/python3.8/dist-packages/torch/utils/data/dataloader.py\", line 1449, in _shutdown_workers\n",
            "    <function _MultiProcessingDataLoaderIter.__del__ at 0x7f8fd0c53790>: if w.is_alive():can only test a child process\n",
            "\n",
            "\n",
            "Traceback (most recent call last):\n",
            "  File \"/usr/local/lib/python3.8/dist-packages/torch/utils/data/dataloader.py\", line 1466, in __del__\n",
            "  File \"/usr/lib/python3.8/multiprocessing/process.py\", line 160, in is_alive\n",
            "        assert self._parent_pid == os.getpid(), 'can only test a child process'self._shutdown_workers()\n",
            "\n",
            "  File \"/usr/local/lib/python3.8/dist-packages/torch/utils/data/dataloader.py\", line 1449, in _shutdown_workers\n",
            "AssertionError:     can only test a child processif w.is_alive():\n",
            "Exception ignored in: \n",
            "<function _MultiProcessingDataLoaderIter.__del__ at 0x7f8fd0c53790>  File \"/usr/lib/python3.8/multiprocessing/process.py\", line 160, in is_alive\n",
            "    \n",
            "assert self._parent_pid == os.getpid(), 'can only test a child process'Traceback (most recent call last):\n",
            "  File \"/usr/local/lib/python3.8/dist-packages/torch/utils/data/dataloader.py\", line 1466, in __del__\n",
            "\n",
            "Exception ignored in:     <function _MultiProcessingDataLoaderIter.__del__ at 0x7f8fd0c53790>self._shutdown_workers()\n",
            "\n",
            "  File \"/usr/local/lib/python3.8/dist-packages/torch/utils/data/dataloader.py\", line 1449, in _shutdown_workers\n",
            "AssertionError: Traceback (most recent call last):\n",
            "      File \"/usr/local/lib/python3.8/dist-packages/torch/utils/data/dataloader.py\", line 1466, in __del__\n",
            "can only test a child processif w.is_alive():    \n",
            "self._shutdown_workers()\n",
            "\n",
            "  File \"/usr/lib/python3.8/multiprocessing/process.py\", line 160, in is_alive\n",
            "    assert self._parent_pid == os.getpid(), 'can only test a child process'\n",
            "  File \"/usr/local/lib/python3.8/dist-packages/torch/utils/data/dataloader.py\", line 1449, in _shutdown_workers\n",
            "AssertionError    if w.is_alive():: \n",
            "can only test a child process  File \"/usr/lib/python3.8/multiprocessing/process.py\", line 160, in is_alive\n",
            "\n",
            "    assert self._parent_pid == os.getpid(), 'can only test a child process'\n",
            "AssertionError: Exception ignored in: can only test a child process\n",
            "<function _MultiProcessingDataLoaderIter.__del__ at 0x7f8fd0c53790>\n",
            "Traceback (most recent call last):\n",
            "  File \"/usr/local/lib/python3.8/dist-packages/torch/utils/data/dataloader.py\", line 1466, in __del__\n",
            "    self._shutdown_workers()\n",
            "  File \"/usr/local/lib/python3.8/dist-packages/torch/utils/data/dataloader.py\", line 1449, in _shutdown_workers\n",
            "    if w.is_alive():\n",
            "  File \"/usr/lib/python3.8/multiprocessing/process.py\", line 160, in is_alive\n",
            "    assert self._parent_pid == os.getpid(), 'can only test a child process'\n",
            "AssertionError: can only test a child process\n",
            "Exception ignored in: <function _MultiProcessingDataLoaderIter.__del__ at 0x7f8fd0c53790>Exception ignored in: \n",
            "<function _MultiProcessingDataLoaderIter.__del__ at 0x7f8fd0c53790>\n",
            "Traceback (most recent call last):\n",
            "Traceback (most recent call last):\n",
            "  File \"/usr/local/lib/python3.8/dist-packages/torch/utils/data/dataloader.py\", line 1466, in __del__\n",
            "  File \"/usr/local/lib/python3.8/dist-packages/torch/utils/data/dataloader.py\", line 1466, in __del__\n",
            "        self._shutdown_workers()self._shutdown_workers()\n",
            "  File \"/usr/local/lib/python3.8/dist-packages/torch/utils/data/dataloader.py\", line 1449, in _shutdown_workers\n",
            "\n",
            "      File \"/usr/local/lib/python3.8/dist-packages/torch/utils/data/dataloader.py\", line 1449, in _shutdown_workers\n",
            "if w.is_alive():\n",
            "      File \"/usr/lib/python3.8/multiprocessing/process.py\", line 160, in is_alive\n",
            "if w.is_alive():    \n",
            "assert self._parent_pid == os.getpid(), 'can only test a child process'  File \"/usr/lib/python3.8/multiprocessing/process.py\", line 160, in is_alive\n",
            "\n",
            "    AssertionErrorException ignored in: <function _MultiProcessingDataLoaderIter.__del__ at 0x7f8fd0c53790>: assert self._parent_pid == os.getpid(), 'can only test a child process'\n",
            "\n",
            "AssertionErrorcan only test a child process: \n",
            "Traceback (most recent call last):\n",
            "can only test a child process  File \"/usr/local/lib/python3.8/dist-packages/torch/utils/data/dataloader.py\", line 1466, in __del__\n",
            "\n",
            "    Exception ignored in: self._shutdown_workers()Exception ignored in: <function _MultiProcessingDataLoaderIter.__del__ at 0x7f8fd0c53790>\n",
            "\n",
            "Traceback (most recent call last):\n",
            "  File \"/usr/local/lib/python3.8/dist-packages/torch/utils/data/dataloader.py\", line 1466, in __del__\n",
            "<function _MultiProcessingDataLoaderIter.__del__ at 0x7f8fd0c53790>    self._shutdown_workers()  File \"/usr/local/lib/python3.8/dist-packages/torch/utils/data/dataloader.py\", line 1449, in _shutdown_workers\n",
            "\n",
            "\n",
            "Traceback (most recent call last):\n",
            "  File \"/usr/local/lib/python3.8/dist-packages/torch/utils/data/dataloader.py\", line 1449, in _shutdown_workers\n",
            "          File \"/usr/local/lib/python3.8/dist-packages/torch/utils/data/dataloader.py\", line 1466, in __del__\n",
            "if w.is_alive():if w.is_alive():\n",
            "    \n",
            "  File \"/usr/lib/python3.8/multiprocessing/process.py\", line 160, in is_alive\n",
            "self._shutdown_workers()    assert self._parent_pid == os.getpid(), 'can only test a child process'\n",
            "\n",
            "  File \"/usr/lib/python3.8/multiprocessing/process.py\", line 160, in is_alive\n",
            "AssertionError  File \"/usr/local/lib/python3.8/dist-packages/torch/utils/data/dataloader.py\", line 1449, in _shutdown_workers\n",
            "Exception ignored in:     <function _MultiProcessingDataLoaderIter.__del__ at 0x7f8fd0c53790>assert self._parent_pid == os.getpid(), 'can only test a child process'\n",
            "\n",
            ":     can only test a child processif w.is_alive():Traceback (most recent call last):\n",
            "AssertionError\n",
            "\n",
            "  File \"/usr/local/lib/python3.8/dist-packages/torch/utils/data/dataloader.py\", line 1466, in __del__\n",
            ":   File \"/usr/lib/python3.8/multiprocessing/process.py\", line 160, in is_alive\n",
            "    can only test a child process    assert self._parent_pid == os.getpid(), 'can only test a child process'\n",
            "self._shutdown_workers()\n",
            "AssertionErrorException ignored in: \n",
            ":   File \"/usr/local/lib/python3.8/dist-packages/torch/utils/data/dataloader.py\", line 1449, in _shutdown_workers\n",
            "<function _MultiProcessingDataLoaderIter.__del__ at 0x7f8fd0c53790>can only test a child process    \n",
            "if w.is_alive():\n",
            "\n",
            "  File \"/usr/lib/python3.8/multiprocessing/process.py\", line 160, in is_alive\n",
            "    Traceback (most recent call last):\n",
            "assert self._parent_pid == os.getpid(), 'can only test a child process'  File \"/usr/local/lib/python3.8/dist-packages/torch/utils/data/dataloader.py\", line 1466, in __del__\n",
            "\n",
            "    self._shutdown_workers()AssertionError: \n",
            "can only test a child process  File \"/usr/local/lib/python3.8/dist-packages/torch/utils/data/dataloader.py\", line 1449, in _shutdown_workers\n",
            "\n",
            "    if w.is_alive():\n",
            "  File \"/usr/lib/python3.8/multiprocessing/process.py\", line 160, in is_alive\n",
            "    assert self._parent_pid == os.getpid(), 'can only test a child process'Exception ignored in: \n",
            "AssertionError: <function _MultiProcessingDataLoaderIter.__del__ at 0x7f8fd0c53790>\n",
            "Traceback (most recent call last):\n",
            "  File \"/usr/local/lib/python3.8/dist-packages/torch/utils/data/dataloader.py\", line 1466, in __del__\n",
            "    self._shutdown_workers()can only test a child process\n",
            "\n",
            "  File \"/usr/local/lib/python3.8/dist-packages/torch/utils/data/dataloader.py\", line 1449, in _shutdown_workers\n",
            "    if w.is_alive():\n",
            "  File \"/usr/lib/python3.8/multiprocessing/process.py\", line 160, in is_alive\n",
            "    assert self._parent_pid == os.getpid(), 'can only test a child process'\n",
            "AssertionError: can only test a child process\n",
            "Exception ignored in: <function _MultiProcessingDataLoaderIter.__del__ at 0x7f8fd0c53790>\n",
            "Exception ignored in: <function _MultiProcessingDataLoaderIter.__del__ at 0x7f8fd0c53790>Traceback (most recent call last):\n",
            "\n",
            "  File \"/usr/local/lib/python3.8/dist-packages/torch/utils/data/dataloader.py\", line 1466, in __del__\n",
            "Traceback (most recent call last):\n",
            "      File \"/usr/local/lib/python3.8/dist-packages/torch/utils/data/dataloader.py\", line 1466, in __del__\n",
            "    self._shutdown_workers()\n",
            "self._shutdown_workers()  File \"/usr/local/lib/python3.8/dist-packages/torch/utils/data/dataloader.py\", line 1449, in _shutdown_workers\n",
            "Exception ignored in:     if w.is_alive():\n",
            "<function _MultiProcessingDataLoaderIter.__del__ at 0x7f8fd0c53790>  File \"/usr/lib/python3.8/multiprocessing/process.py\", line 160, in is_alive\n",
            "\n",
            "    Traceback (most recent call last):\n",
            "\n",
            "assert self._parent_pid == os.getpid(), 'can only test a child process'  File \"/usr/local/lib/python3.8/dist-packages/torch/utils/data/dataloader.py\", line 1449, in _shutdown_workers\n",
            "  File \"/usr/local/lib/python3.8/dist-packages/torch/utils/data/dataloader.py\", line 1466, in __del__\n",
            "\n",
            "    self._shutdown_workers()    AssertionErrorif w.is_alive():\n",
            ":   File \"/usr/local/lib/python3.8/dist-packages/torch/utils/data/dataloader.py\", line 1449, in _shutdown_workers\n",
            "\n",
            "can only test a child process      File \"/usr/lib/python3.8/multiprocessing/process.py\", line 160, in is_alive\n",
            "\n",
            "if w.is_alive():    \n",
            "assert self._parent_pid == os.getpid(), 'can only test a child process'  File \"/usr/lib/python3.8/multiprocessing/process.py\", line 160, in is_alive\n",
            "\n",
            "    AssertionErrorException ignored in: assert self._parent_pid == os.getpid(), 'can only test a child process': <function _MultiProcessingDataLoaderIter.__del__ at 0x7f8fd0c53790>\n",
            "\n",
            "AssertionErrorTraceback (most recent call last):\n",
            ":   File \"/usr/local/lib/python3.8/dist-packages/torch/utils/data/dataloader.py\", line 1466, in __del__\n",
            "can only test a child process    \n",
            "self._shutdown_workers()can only test a child process\n",
            "\n",
            "  File \"/usr/local/lib/python3.8/dist-packages/torch/utils/data/dataloader.py\", line 1449, in _shutdown_workers\n",
            "Exception ignored in:     <function _MultiProcessingDataLoaderIter.__del__ at 0x7f8fd0c53790>if w.is_alive():\n",
            "Exception ignored in: \n",
            "<function _MultiProcessingDataLoaderIter.__del__ at 0x7f8fd0c53790>  File \"/usr/lib/python3.8/multiprocessing/process.py\", line 160, in is_alive\n",
            "\n",
            "    assert self._parent_pid == os.getpid(), 'can only test a child process'Traceback (most recent call last):\n",
            "\n",
            "  File \"/usr/local/lib/python3.8/dist-packages/torch/utils/data/dataloader.py\", line 1466, in __del__\n",
            "AssertionError    : self._shutdown_workers()Traceback (most recent call last):\n",
            "can only test a child process\n",
            "\n",
            "  File \"/usr/local/lib/python3.8/dist-packages/torch/utils/data/dataloader.py\", line 1449, in _shutdown_workers\n",
            "      File \"/usr/local/lib/python3.8/dist-packages/torch/utils/data/dataloader.py\", line 1466, in __del__\n",
            "if w.is_alive():    Exception ignored in: \n",
            "self._shutdown_workers()  File \"/usr/lib/python3.8/multiprocessing/process.py\", line 160, in is_alive\n",
            "<function _MultiProcessingDataLoaderIter.__del__ at 0x7f8fd0c53790>\n",
            "    \n",
            "Traceback (most recent call last):\n",
            "assert self._parent_pid == os.getpid(), 'can only test a child process'  File \"/usr/local/lib/python3.8/dist-packages/torch/utils/data/dataloader.py\", line 1449, in _shutdown_workers\n",
            "\n",
            "    AssertionError  File \"/usr/local/lib/python3.8/dist-packages/torch/utils/data/dataloader.py\", line 1466, in __del__\n",
            "if w.is_alive():: \n",
            "    can only test a child process  File \"/usr/lib/python3.8/multiprocessing/process.py\", line 160, in is_alive\n",
            "\n",
            "self._shutdown_workers()    \n",
            "  File \"/usr/local/lib/python3.8/dist-packages/torch/utils/data/dataloader.py\", line 1449, in _shutdown_workers\n",
            "assert self._parent_pid == os.getpid(), 'can only test a child process'    \n",
            "AssertionErrorif w.is_alive():: \n",
            "\n",
            "can only test a child process  File \"/usr/lib/python3.8/multiprocessing/process.py\", line 160, in is_alive\n",
            "    assert self._parent_pid == os.getpid(), 'can only test a child process'\n",
            "AssertionError: can only test a child process\n",
            "Exception ignored in: <function _MultiProcessingDataLoaderIter.__del__ at 0x7f8fd0c53790>\n",
            "Traceback (most recent call last):\n",
            "  File \"/usr/local/lib/python3.8/dist-packages/torch/utils/data/dataloader.py\", line 1466, in __del__\n",
            "    self._shutdown_workers()\n",
            "  File \"/usr/local/lib/python3.8/dist-packages/torch/utils/data/dataloader.py\", line 1449, in _shutdown_workers\n",
            "    if w.is_alive():\n",
            "  File \"/usr/lib/python3.8/multiprocessing/process.py\", line 160, in is_alive\n",
            "    assert self._parent_pid == os.getpid(), 'can only test a child process'\n",
            "AssertionError: can only test a child process\n",
            "Exception ignored in: <function _MultiProcessingDataLoaderIter.__del__ at 0x7f8fd0c53790>\n",
            "Traceback (most recent call last):\n",
            "  File \"/usr/local/lib/python3.8/dist-packages/torch/utils/data/dataloader.py\", line 1466, in __del__\n",
            "    self._shutdown_workers()\n",
            "Exception ignored in:   File \"/usr/local/lib/python3.8/dist-packages/torch/utils/data/dataloader.py\", line 1449, in _shutdown_workers\n",
            "<function _MultiProcessingDataLoaderIter.__del__ at 0x7f8fd0c53790>\n",
            "    Traceback (most recent call last):\n",
            "if w.is_alive():  File \"/usr/local/lib/python3.8/dist-packages/torch/utils/data/dataloader.py\", line 1466, in __del__\n",
            "\n",
            "    self._shutdown_workers()  File \"/usr/lib/python3.8/multiprocessing/process.py\", line 160, in is_alive\n",
            "    Exception ignored in: Exception ignored in: assert self._parent_pid == os.getpid(), 'can only test a child process'<function _MultiProcessingDataLoaderIter.__del__ at 0x7f8fd0c53790><function _MultiProcessingDataLoaderIter.__del__ at 0x7f8fd0c53790>\n",
            "Traceback (most recent call last):\n",
            "  File \"/usr/local/lib/python3.8/dist-packages/torch/utils/data/dataloader.py\", line 1466, in __del__\n",
            "    self._shutdown_workers()\n",
            "  File \"/usr/local/lib/python3.8/dist-packages/torch/utils/data/dataloader.py\", line 1449, in _shutdown_workers\n",
            "    if w.is_alive():\n",
            "  File \"/usr/lib/python3.8/multiprocessing/process.py\", line 160, in is_alive\n",
            "    assert self._parent_pid == os.getpid(), 'can only test a child process'\n",
            "AssertionError: \n",
            "\n",
            "  File \"/usr/local/lib/python3.8/dist-packages/torch/utils/data/dataloader.py\", line 1449, in _shutdown_workers\n",
            "can only test a child process    \n",
            "if w.is_alive():\n",
            "AssertionError\n",
            "  File \"/usr/lib/python3.8/multiprocessing/process.py\", line 160, in is_alive\n",
            "Traceback (most recent call last):\n",
            "    assert self._parent_pid == os.getpid(), 'can only test a child process'Exception ignored in: \n",
            "<function _MultiProcessingDataLoaderIter.__del__ at 0x7f8fd0c53790>AssertionError\n",
            ":   File \"/usr/local/lib/python3.8/dist-packages/torch/utils/data/dataloader.py\", line 1466, in __del__\n",
            "Traceback (most recent call last):\n",
            ":       File \"/usr/local/lib/python3.8/dist-packages/torch/utils/data/dataloader.py\", line 1466, in __del__\n",
            "self._shutdown_workers()can only test a child process    \n",
            "\n",
            "self._shutdown_workers()  File \"/usr/local/lib/python3.8/dist-packages/torch/utils/data/dataloader.py\", line 1449, in _shutdown_workers\n",
            "\n",
            "    if w.is_alive():  File \"/usr/local/lib/python3.8/dist-packages/torch/utils/data/dataloader.py\", line 1449, in _shutdown_workers\n",
            "can only test a child processException ignored in:     \n",
            "<function _MultiProcessingDataLoaderIter.__del__ at 0x7f8fd0c53790>if w.is_alive():  File \"/usr/lib/python3.8/multiprocessing/process.py\", line 160, in is_alive\n",
            "\n",
            "\n",
            "    Traceback (most recent call last):\n",
            "  File \"/usr/lib/python3.8/multiprocessing/process.py\", line 160, in is_alive\n",
            "assert self._parent_pid == os.getpid(), 'can only test a child process'  File \"/usr/local/lib/python3.8/dist-packages/torch/utils/data/dataloader.py\", line 1466, in __del__\n",
            "    \n",
            "    assert self._parent_pid == os.getpid(), 'can only test a child process'AssertionError\n",
            ": can only test a child process\n",
            "\n",
            "AssertionErrorself._shutdown_workers()\n",
            ":   File \"/usr/local/lib/python3.8/dist-packages/torch/utils/data/dataloader.py\", line 1449, in _shutdown_workers\n",
            "can only test a child processException ignored in:     Exception ignored in: \n",
            "<function _MultiProcessingDataLoaderIter.__del__ at 0x7f8fd0c53790>if w.is_alive():\n",
            "<function _MultiProcessingDataLoaderIter.__del__ at 0x7f8fd0c53790>\n",
            "  File \"/usr/lib/python3.8/multiprocessing/process.py\", line 160, in is_alive\n",
            "    \n",
            "Traceback (most recent call last):\n",
            "Traceback (most recent call last):\n",
            "assert self._parent_pid == os.getpid(), 'can only test a child process'\n",
            "  File \"/usr/local/lib/python3.8/dist-packages/torch/utils/data/dataloader.py\", line 1466, in __del__\n",
            "  File \"/usr/local/lib/python3.8/dist-packages/torch/utils/data/dataloader.py\", line 1466, in __del__\n",
            "AssertionError    :     can only test a child processself._shutdown_workers()self._shutdown_workers()\n",
            "\n",
            "\n",
            "  File \"/usr/local/lib/python3.8/dist-packages/torch/utils/data/dataloader.py\", line 1449, in _shutdown_workers\n",
            "  File \"/usr/local/lib/python3.8/dist-packages/torch/utils/data/dataloader.py\", line 1449, in _shutdown_workers\n",
            "    if w.is_alive():\n",
            "  File \"/usr/lib/python3.8/multiprocessing/process.py\", line 160, in is_alive\n",
            "        assert self._parent_pid == os.getpid(), 'can only test a child process'\n",
            "AssertionErrorif w.is_alive():: \n",
            "can only test a child process\n",
            "  File \"/usr/lib/python3.8/multiprocessing/process.py\", line 160, in is_alive\n",
            "    assert self._parent_pid == os.getpid(), 'can only test a child process'\n",
            "AssertionError: can only test a child process\n",
            "Exception ignored in: <function _MultiProcessingDataLoaderIter.__del__ at 0x7f8fd0c53790>\n",
            "Traceback (most recent call last):\n",
            "  File \"/usr/local/lib/python3.8/dist-packages/torch/utils/data/dataloader.py\", line 1466, in __del__\n",
            "    self._shutdown_workers()\n",
            "  File \"/usr/local/lib/python3.8/dist-packages/torch/utils/data/dataloader.py\", line 1449, in _shutdown_workers\n",
            "    if w.is_alive():\n",
            "Exception ignored in:   File \"/usr/lib/python3.8/multiprocessing/process.py\", line 160, in is_alive\n",
            "    <function _MultiProcessingDataLoaderIter.__del__ at 0x7f8fd0c53790>\n",
            "assert self._parent_pid == os.getpid(), 'can only test a child process'\n",
            "Traceback (most recent call last):\n",
            "  File \"/usr/local/lib/python3.8/dist-packages/torch/utils/data/dataloader.py\", line 1466, in __del__\n",
            "AssertionError:     self._shutdown_workers()can only test a child process\n",
            "\n",
            "  File \"/usr/local/lib/python3.8/dist-packages/torch/utils/data/dataloader.py\", line 1449, in _shutdown_workers\n",
            "    if w.is_alive():\n",
            "  File \"/usr/lib/python3.8/multiprocessing/process.py\", line 160, in is_alive\n",
            "Exception ignored in:     <function _MultiProcessingDataLoaderIter.__del__ at 0x7f8fd0c53790>\n",
            "assert self._parent_pid == os.getpid(), 'can only test a child process'\n",
            "Traceback (most recent call last):\n",
            "  File \"/usr/local/lib/python3.8/dist-packages/torch/utils/data/dataloader.py\", line 1466, in __del__\n",
            "AssertionError    : self._shutdown_workers()can only test a child process\n",
            "\n",
            "  File \"/usr/local/lib/python3.8/dist-packages/torch/utils/data/dataloader.py\", line 1449, in _shutdown_workers\n",
            "    if w.is_alive():Exception ignored in: Exception ignored in: \n",
            "<function _MultiProcessingDataLoaderIter.__del__ at 0x7f8fd0c53790><function _MultiProcessingDataLoaderIter.__del__ at 0x7f8fd0c53790>  File \"/usr/lib/python3.8/multiprocessing/process.py\", line 160, in is_alive\n",
            "\n",
            "\n",
            "    Traceback (most recent call last):\n",
            "Traceback (most recent call last):\n",
            "assert self._parent_pid == os.getpid(), 'can only test a child process'  File \"/usr/local/lib/python3.8/dist-packages/torch/utils/data/dataloader.py\", line 1466, in __del__\n",
            "  File \"/usr/local/lib/python3.8/dist-packages/torch/utils/data/dataloader.py\", line 1466, in __del__\n",
            "\n",
            "    AssertionError    self._shutdown_workers()Exception ignored in: self._shutdown_workers(): \n",
            "<function _MultiProcessingDataLoaderIter.__del__ at 0x7f8fd0c53790>\n",
            "can only test a child process  File \"/usr/local/lib/python3.8/dist-packages/torch/utils/data/dataloader.py\", line 1449, in _shutdown_workers\n",
            "\n",
            "  File \"/usr/local/lib/python3.8/dist-packages/torch/utils/data/dataloader.py\", line 1449, in _shutdown_workers\n",
            "        Traceback (most recent call last):\n",
            "\n",
            "if w.is_alive():if w.is_alive():\n",
            "\n",
            "  File \"/usr/local/lib/python3.8/dist-packages/torch/utils/data/dataloader.py\", line 1466, in __del__\n",
            "  File \"/usr/lib/python3.8/multiprocessing/process.py\", line 160, in is_alive\n",
            "          File \"/usr/lib/python3.8/multiprocessing/process.py\", line 160, in is_alive\n",
            "self._shutdown_workers()    assert self._parent_pid == os.getpid(), 'can only test a child process'\n",
            "assert self._parent_pid == os.getpid(), 'can only test a child process'\n",
            "\n",
            "  File \"/usr/local/lib/python3.8/dist-packages/torch/utils/data/dataloader.py\", line 1449, in _shutdown_workers\n",
            "AssertionErrorAssertionError    : : if w.is_alive():can only test a child processcan only test a child process\n",
            "\n",
            "\n",
            "  File \"/usr/lib/python3.8/multiprocessing/process.py\", line 160, in is_alive\n",
            "    assert self._parent_pid == os.getpid(), 'can only test a child process'\n",
            "Exception ignored in: AssertionError<function _MultiProcessingDataLoaderIter.__del__ at 0x7f8fd0c53790>: \n",
            "can only test a child processTraceback (most recent call last):\n",
            "\n",
            "  File \"/usr/local/lib/python3.8/dist-packages/torch/utils/data/dataloader.py\", line 1466, in __del__\n",
            "    Exception ignored in: self._shutdown_workers()<function _MultiProcessingDataLoaderIter.__del__ at 0x7f8fd0c53790>\n",
            "  File \"/usr/local/lib/python3.8/dist-packages/torch/utils/data/dataloader.py\", line 1449, in _shutdown_workers\n",
            "\n",
            "    Traceback (most recent call last):\n",
            "  File \"/usr/local/lib/python3.8/dist-packages/torch/utils/data/dataloader.py\", line 1466, in __del__\n",
            "if w.is_alive():    \n",
            "self._shutdown_workers()  File \"/usr/lib/python3.8/multiprocessing/process.py\", line 160, in is_alive\n",
            "\n",
            "      File \"/usr/local/lib/python3.8/dist-packages/torch/utils/data/dataloader.py\", line 1449, in _shutdown_workers\n",
            "assert self._parent_pid == os.getpid(), 'can only test a child process'    \n",
            "if w.is_alive():AssertionError\n",
            ":   File \"/usr/lib/python3.8/multiprocessing/process.py\", line 160, in is_alive\n",
            "can only test a child process    \n",
            "assert self._parent_pid == os.getpid(), 'can only test a child process'\n",
            "AssertionError: can only test a child process\n",
            "Exception ignored in: <function _MultiProcessingDataLoaderIter.__del__ at 0x7f8fd0c53790>\n",
            "Traceback (most recent call last):\n",
            "  File \"/usr/local/lib/python3.8/dist-packages/torch/utils/data/dataloader.py\", line 1466, in __del__\n",
            "    self._shutdown_workers()\n",
            "  File \"/usr/local/lib/python3.8/dist-packages/torch/utils/data/dataloader.py\", line 1449, in _shutdown_workers\n",
            "Exception ignored in: Exception ignored in:     if w.is_alive():<function _MultiProcessingDataLoaderIter.__del__ at 0x7f8fd0c53790>\n",
            "  File \"/usr/lib/python3.8/multiprocessing/process.py\", line 160, in is_alive\n",
            "<function _MultiProcessingDataLoaderIter.__del__ at 0x7f8fd0c53790>\n",
            "Traceback (most recent call last):\n",
            "    assert self._parent_pid == os.getpid(), 'can only test a child process'\n",
            "  File \"/usr/local/lib/python3.8/dist-packages/torch/utils/data/dataloader.py\", line 1466, in __del__\n",
            "    \n",
            "Traceback (most recent call last):\n",
            "AssertionErrorself._shutdown_workers()  File \"/usr/local/lib/python3.8/dist-packages/torch/utils/data/dataloader.py\", line 1466, in __del__\n",
            ": \n",
            "    self._shutdown_workers()\n",
            "  File \"/usr/local/lib/python3.8/dist-packages/torch/utils/data/dataloader.py\", line 1449, in _shutdown_workers\n",
            "if w.is_alive():    Exception ignored in: \n",
            "  File \"/usr/lib/python3.8/multiprocessing/process.py\", line 160, in is_alive\n",
            "<function _MultiProcessingDataLoaderIter.__del__ at 0x7f8fd0c53790>can only test a child process  File \"/usr/local/lib/python3.8/dist-packages/torch/utils/data/dataloader.py\", line 1449, in _shutdown_workers\n",
            "        if w.is_alive():\n",
            "\n",
            "assert self._parent_pid == os.getpid(), 'can only test a child process'\n",
            "\n",
            "  File \"/usr/lib/python3.8/multiprocessing/process.py\", line 160, in is_alive\n",
            "Exception ignored in: AssertionErrorTraceback (most recent call last):\n",
            "    <function _MultiProcessingDataLoaderIter.__del__ at 0x7f8fd0c53790>assert self._parent_pid == os.getpid(), 'can only test a child process'  File \"/usr/local/lib/python3.8/dist-packages/torch/utils/data/dataloader.py\", line 1466, in __del__\n",
            "    \n",
            "\n",
            ": self._shutdown_workers()AssertionErrorcan only test a child processTraceback (most recent call last):\n",
            "\n",
            "\n",
            ":   File \"/usr/local/lib/python3.8/dist-packages/torch/utils/data/dataloader.py\", line 1466, in __del__\n",
            "can only test a child process      File \"/usr/local/lib/python3.8/dist-packages/torch/utils/data/dataloader.py\", line 1449, in _shutdown_workers\n",
            "    self._shutdown_workers()if w.is_alive():\n",
            "\n",
            "  File \"/usr/local/lib/python3.8/dist-packages/torch/utils/data/dataloader.py\", line 1449, in _shutdown_workers\n",
            "    \n",
            "if w.is_alive():\n",
            "  File \"/usr/lib/python3.8/multiprocessing/process.py\", line 160, in is_alive\n",
            "Exception ignored in:   File \"/usr/lib/python3.8/multiprocessing/process.py\", line 160, in is_alive\n",
            "    <function _MultiProcessingDataLoaderIter.__del__ at 0x7f8fd0c53790>    Exception ignored in: assert self._parent_pid == os.getpid(), 'can only test a child process'assert self._parent_pid == os.getpid(), 'can only test a child process'\n",
            "Traceback (most recent call last):\n",
            "<function _MultiProcessingDataLoaderIter.__del__ at 0x7f8fd0c53790>\n",
            "\n",
            "AssertionError\n",
            "  File \"/usr/local/lib/python3.8/dist-packages/torch/utils/data/dataloader.py\", line 1466, in __del__\n",
            "    : AssertionErrorTraceback (most recent call last):\n",
            "can only test a child process  File \"/usr/local/lib/python3.8/dist-packages/torch/utils/data/dataloader.py\", line 1466, in __del__\n",
            ": self._shutdown_workers()\n",
            "    \n",
            "can only test a child process  File \"/usr/local/lib/python3.8/dist-packages/torch/utils/data/dataloader.py\", line 1449, in _shutdown_workers\n",
            "self._shutdown_workers()    \n",
            "\n",
            "if w.is_alive():\n",
            "  File \"/usr/local/lib/python3.8/dist-packages/torch/utils/data/dataloader.py\", line 1449, in _shutdown_workers\n",
            "Exception ignored in:       File \"/usr/lib/python3.8/multiprocessing/process.py\", line 160, in is_alive\n",
            "<function _MultiProcessingDataLoaderIter.__del__ at 0x7f8fd0c53790>if w.is_alive():\n",
            "  File \"/usr/lib/python3.8/multiprocessing/process.py\", line 160, in is_alive\n",
            "    \n",
            "assert self._parent_pid == os.getpid(), 'can only test a child process'    Traceback (most recent call last):\n",
            "\n",
            "assert self._parent_pid == os.getpid(), 'can only test a child process'  File \"/usr/local/lib/python3.8/dist-packages/torch/utils/data/dataloader.py\", line 1466, in __del__\n",
            "\n",
            "AssertionErrorAssertionError:     self._shutdown_workers(): can only test a child process\n",
            "can only test a child process\n",
            "\n",
            "  File \"/usr/local/lib/python3.8/dist-packages/torch/utils/data/dataloader.py\", line 1449, in _shutdown_workers\n",
            "    if w.is_alive():\n",
            "  File \"/usr/lib/python3.8/multiprocessing/process.py\", line 160, in is_alive\n",
            "    assert self._parent_pid == os.getpid(), 'can only test a child process'\n",
            "AssertionError: can only test a child process\n",
            "Exception ignored in: <function _MultiProcessingDataLoaderIter.__del__ at 0x7f8fd0c53790>\n",
            "Traceback (most recent call last):\n",
            "  File \"/usr/local/lib/python3.8/dist-packages/torch/utils/data/dataloader.py\", line 1466, in __del__\n",
            "    self._shutdown_workers()\n",
            "  File \"/usr/local/lib/python3.8/dist-packages/torch/utils/data/dataloader.py\", line 1449, in _shutdown_workers\n",
            "    Exception ignored in: <function _MultiProcessingDataLoaderIter.__del__ at 0x7f8fd0c53790>if w.is_alive():\n",
            "Traceback (most recent call last):\n",
            "\n",
            "  File \"/usr/lib/python3.8/multiprocessing/process.py\", line 160, in is_alive\n",
            "  File \"/usr/local/lib/python3.8/dist-packages/torch/utils/data/dataloader.py\", line 1466, in __del__\n",
            "Exception ignored in:     <function _MultiProcessingDataLoaderIter.__del__ at 0x7f8fd0c53790>    assert self._parent_pid == os.getpid(), 'can only test a child process'\n",
            "AssertionErrorself._shutdown_workers(): can only test a child process\n",
            "\n",
            "\n",
            "Traceback (most recent call last):\n",
            "  File \"/usr/local/lib/python3.8/dist-packages/torch/utils/data/dataloader.py\", line 1449, in _shutdown_workers\n",
            "    Exception ignored in: if w.is_alive():  File \"/usr/local/lib/python3.8/dist-packages/torch/utils/data/dataloader.py\", line 1466, in __del__\n",
            "<function _MultiProcessingDataLoaderIter.__del__ at 0x7f8fd0c53790>\n",
            "  File \"/usr/lib/python3.8/multiprocessing/process.py\", line 160, in is_alive\n",
            "        \n",
            "self._shutdown_workers()Traceback (most recent call last):\n",
            "assert self._parent_pid == os.getpid(), 'can only test a child process'Exception ignored in:   File \"/usr/local/lib/python3.8/dist-packages/torch/utils/data/dataloader.py\", line 1466, in __del__\n",
            "\n",
            "<function _MultiProcessingDataLoaderIter.__del__ at 0x7f8fd0c53790>    \n",
            "self._shutdown_workers()  File \"/usr/local/lib/python3.8/dist-packages/torch/utils/data/dataloader.py\", line 1449, in _shutdown_workers\n",
            "\n",
            "AssertionError\n",
            "    : Traceback (most recent call last):\n",
            "  File \"/usr/local/lib/python3.8/dist-packages/torch/utils/data/dataloader.py\", line 1466, in __del__\n",
            "can only test a child process    \n",
            "  File \"/usr/local/lib/python3.8/dist-packages/torch/utils/data/dataloader.py\", line 1449, in _shutdown_workers\n",
            "if w.is_alive():self._shutdown_workers()\n",
            "\n",
            "  File \"/usr/local/lib/python3.8/dist-packages/torch/utils/data/dataloader.py\", line 1449, in _shutdown_workers\n",
            "        if w.is_alive():  File \"/usr/lib/python3.8/multiprocessing/process.py\", line 160, in is_alive\n",
            "if w.is_alive():    \n",
            "\n",
            "assert self._parent_pid == os.getpid(), 'can only test a child process'  File \"/usr/lib/python3.8/multiprocessing/process.py\", line 160, in is_alive\n",
            "\n",
            "Exception ignored in:     AssertionError  File \"/usr/lib/python3.8/multiprocessing/process.py\", line 160, in is_alive\n",
            "<function _MultiProcessingDataLoaderIter.__del__ at 0x7f8fd0c53790>assert self._parent_pid == os.getpid(), 'can only test a child process'\n",
            "    : Traceback (most recent call last):\n",
            "can only test a child processassert self._parent_pid == os.getpid(), 'can only test a child process'\n",
            "\n",
            "  File \"/usr/local/lib/python3.8/dist-packages/torch/utils/data/dataloader.py\", line 1466, in __del__\n",
            "\n",
            "AssertionErrorAssertionError    : : can only test a child processself._shutdown_workers()\n",
            "can only test a child processException ignored in: \n",
            "  File \"/usr/local/lib/python3.8/dist-packages/torch/utils/data/dataloader.py\", line 1449, in _shutdown_workers\n",
            "Exception ignored in:     \n",
            "<function _MultiProcessingDataLoaderIter.__del__ at 0x7f8fd0c53790><function _MultiProcessingDataLoaderIter.__del__ at 0x7f8fd0c53790>\n",
            "if w.is_alive():\n",
            "\n",
            "Traceback (most recent call last):\n",
            "  File \"/usr/lib/python3.8/multiprocessing/process.py\", line 160, in is_alive\n",
            "  File \"/usr/local/lib/python3.8/dist-packages/torch/utils/data/dataloader.py\", line 1466, in __del__\n",
            "    Traceback (most recent call last):\n",
            "      File \"/usr/local/lib/python3.8/dist-packages/torch/utils/data/dataloader.py\", line 1466, in __del__\n",
            "assert self._parent_pid == os.getpid(), 'can only test a child process'self._shutdown_workers()    \n",
            "\n",
            "self._shutdown_workers()AssertionError  File \"/usr/local/lib/python3.8/dist-packages/torch/utils/data/dataloader.py\", line 1449, in _shutdown_workers\n",
            "    \n",
            "if w.is_alive()::   File \"/usr/local/lib/python3.8/dist-packages/torch/utils/data/dataloader.py\", line 1449, in _shutdown_workers\n",
            "\n",
            "    can only test a child process  File \"/usr/lib/python3.8/multiprocessing/process.py\", line 160, in is_alive\n",
            "if w.is_alive():\n",
            "    assert self._parent_pid == os.getpid(), 'can only test a child process'\n",
            "  File \"/usr/lib/python3.8/multiprocessing/process.py\", line 160, in is_alive\n",
            "\n",
            "AssertionError    : assert self._parent_pid == os.getpid(), 'can only test a child process'can only test a child process\n",
            "AssertionError\n",
            ": can only test a child process\n",
            "Exception ignored in: <function _MultiProcessingDataLoaderIter.__del__ at 0x7f8fd0c53790>\n",
            "Traceback (most recent call last):\n",
            "  File \"/usr/local/lib/python3.8/dist-packages/torch/utils/data/dataloader.py\", line 1466, in __del__\n",
            "    self._shutdown_workers()\n",
            "Exception ignored in:   File \"/usr/local/lib/python3.8/dist-packages/torch/utils/data/dataloader.py\", line 1449, in _shutdown_workers\n",
            "<function _MultiProcessingDataLoaderIter.__del__ at 0x7f8fd0c53790>    \n",
            "if w.is_alive():Traceback (most recent call last):\n",
            "\n",
            "  File \"/usr/lib/python3.8/multiprocessing/process.py\", line 160, in is_alive\n",
            "  File \"/usr/local/lib/python3.8/dist-packages/torch/utils/data/dataloader.py\", line 1466, in __del__\n",
            "    assert self._parent_pid == os.getpid(), 'can only test a child process'    self._shutdown_workers()\n",
            "  File \"/usr/local/lib/python3.8/dist-packages/torch/utils/data/dataloader.py\", line 1449, in _shutdown_workers\n",
            "    \n",
            "if w.is_alive():AssertionError\n",
            ":   File \"/usr/lib/python3.8/multiprocessing/process.py\", line 160, in is_alive\n",
            "Exception ignored in: can only test a child process\n",
            "<function _MultiProcessingDataLoaderIter.__del__ at 0x7f8fd0c53790>    \n",
            "Traceback (most recent call last):\n",
            "  File \"/usr/local/lib/python3.8/dist-packages/torch/utils/data/dataloader.py\", line 1466, in __del__\n",
            "    Exception ignored in: <function _MultiProcessingDataLoaderIter.__del__ at 0x7f8fd0c53790>self._shutdown_workers()assert self._parent_pid == os.getpid(), 'can only test a child process'\n",
            "\n",
            "Traceback (most recent call last):\n",
            "AssertionError  File \"/usr/local/lib/python3.8/dist-packages/torch/utils/data/dataloader.py\", line 1466, in __del__\n",
            ":     self._shutdown_workers()can only test a child process\n",
            "\n",
            "  File \"/usr/local/lib/python3.8/dist-packages/torch/utils/data/dataloader.py\", line 1449, in _shutdown_workers\n",
            "\n",
            "      File \"/usr/local/lib/python3.8/dist-packages/torch/utils/data/dataloader.py\", line 1449, in _shutdown_workers\n",
            "if w.is_alive():    \n",
            "if w.is_alive():\n",
            "  File \"/usr/lib/python3.8/multiprocessing/process.py\", line 160, in is_alive\n",
            "    assert self._parent_pid == os.getpid(), 'can only test a child process'  File \"/usr/lib/python3.8/multiprocessing/process.py\", line 160, in is_alive\n",
            "\n",
            "AssertionError: can only test a child process\n",
            "Exception ignored in: <function _MultiProcessingDataLoaderIter.__del__ at 0x7f8fd0c53790>\n",
            "    Traceback (most recent call last):\n",
            "assert self._parent_pid == os.getpid(), 'can only test a child process'Exception ignored in: \n",
            "<function _MultiProcessingDataLoaderIter.__del__ at 0x7f8fd0c53790>\n",
            "AssertionError: Traceback (most recent call last):\n",
            "  File \"/usr/local/lib/python3.8/dist-packages/torch/utils/data/dataloader.py\", line 1466, in __del__\n",
            "can only test a child process  File \"/usr/local/lib/python3.8/dist-packages/torch/utils/data/dataloader.py\", line 1466, in __del__\n",
            "    \n",
            "self._shutdown_workers()    \n",
            "self._shutdown_workers()\n",
            "  File \"/usr/local/lib/python3.8/dist-packages/torch/utils/data/dataloader.py\", line 1449, in _shutdown_workers\n",
            "  File \"/usr/local/lib/python3.8/dist-packages/torch/utils/data/dataloader.py\", line 1449, in _shutdown_workers\n",
            "        Exception ignored in: if w.is_alive():if w.is_alive():<function _MultiProcessingDataLoaderIter.__del__ at 0x7f8fd0c53790>\n",
            "\n",
            "\n",
            "  File \"/usr/lib/python3.8/multiprocessing/process.py\", line 160, in is_alive\n",
            "  File \"/usr/lib/python3.8/multiprocessing/process.py\", line 160, in is_alive\n",
            "Traceback (most recent call last):\n",
            "          File \"/usr/local/lib/python3.8/dist-packages/torch/utils/data/dataloader.py\", line 1466, in __del__\n",
            "assert self._parent_pid == os.getpid(), 'can only test a child process'assert self._parent_pid == os.getpid(), 'can only test a child process'    \n",
            "\n",
            "self._shutdown_workers()AssertionErrorAssertionError\n",
            ": :   File \"/usr/local/lib/python3.8/dist-packages/torch/utils/data/dataloader.py\", line 1449, in _shutdown_workers\n",
            "can only test a child processcan only test a child process    \n",
            "\n",
            "if w.is_alive():\n",
            "  File \"/usr/lib/python3.8/multiprocessing/process.py\", line 160, in is_alive\n",
            "    assert self._parent_pid == os.getpid(), 'can only test a child process'\n",
            "AssertionError: can only test a child process\n",
            "Exception ignored in: <function _MultiProcessingDataLoaderIter.__del__ at 0x7f8fd0c53790>\n",
            "Traceback (most recent call last):\n",
            "  File \"/usr/local/lib/python3.8/dist-packages/torch/utils/data/dataloader.py\", line 1466, in __del__\n",
            "    self._shutdown_workers()\n",
            "  File \"/usr/local/lib/python3.8/dist-packages/torch/utils/data/dataloader.py\", line 1449, in _shutdown_workers\n",
            "    if w.is_alive():\n",
            "  File \"/usr/lib/python3.8/multiprocessing/process.py\", line 160, in is_alive\n",
            "    assert self._parent_pid == os.getpid(), 'can only test a child process'\n",
            "AssertionError: can only test a child process\n",
            "Exception ignored in: <function _MultiProcessingDataLoaderIter.__del__ at 0x7f8fd0c53790>\n",
            "Traceback (most recent call last):\n",
            "  File \"/usr/local/lib/python3.8/dist-packages/torch/utils/data/dataloader.py\", line 1466, in __del__\n",
            "    self._shutdown_workers()\n",
            "  File \"/usr/local/lib/python3.8/dist-packages/torch/utils/data/dataloader.py\", line 1449, in _shutdown_workers\n",
            "Exception ignored in:     <function _MultiProcessingDataLoaderIter.__del__ at 0x7f8fd0c53790>Exception ignored in: \n",
            "if w.is_alive():<function _MultiProcessingDataLoaderIter.__del__ at 0x7f8fd0c53790>\n",
            "Traceback (most recent call last):\n",
            "  File \"/usr/local/lib/python3.8/dist-packages/torch/utils/data/dataloader.py\", line 1466, in __del__\n",
            "\n",
            "  File \"/usr/lib/python3.8/multiprocessing/process.py\", line 160, in is_alive\n",
            "    Traceback (most recent call last):\n",
            "    self._shutdown_workers()  File \"/usr/local/lib/python3.8/dist-packages/torch/utils/data/dataloader.py\", line 1466, in __del__\n",
            "assert self._parent_pid == os.getpid(), 'can only test a child process'\n",
            "\n",
            "    AssertionError: self._shutdown_workers()  File \"/usr/local/lib/python3.8/dist-packages/torch/utils/data/dataloader.py\", line 1449, in _shutdown_workers\n",
            "    \n",
            "can only test a child process  File \"/usr/local/lib/python3.8/dist-packages/torch/utils/data/dataloader.py\", line 1449, in _shutdown_workers\n",
            "\n",
            "if w.is_alive():    \n",
            "Exception ignored in: if w.is_alive():  File \"/usr/lib/python3.8/multiprocessing/process.py\", line 160, in is_alive\n",
            "\n",
            "  File \"/usr/lib/python3.8/multiprocessing/process.py\", line 160, in is_alive\n",
            "<function _MultiProcessingDataLoaderIter.__del__ at 0x7f8fd0c53790>        assert self._parent_pid == os.getpid(), 'can only test a child process'\n",
            "Traceback (most recent call last):\n",
            "\n",
            "assert self._parent_pid == os.getpid(), 'can only test a child process'\n",
            "AssertionError:   File \"/usr/local/lib/python3.8/dist-packages/torch/utils/data/dataloader.py\", line 1466, in __del__\n",
            "AssertionErrorcan only test a child process\n",
            ":     can only test a child processself._shutdown_workers()\n",
            "  File \"/usr/local/lib/python3.8/dist-packages/torch/utils/data/dataloader.py\", line 1449, in _shutdown_workers\n",
            "\n",
            "    Exception ignored in: if w.is_alive():<function _MultiProcessingDataLoaderIter.__del__ at 0x7f8fd0c53790>\n",
            "\n",
            "Traceback (most recent call last):\n",
            "Exception ignored in:   File \"/usr/lib/python3.8/multiprocessing/process.py\", line 160, in is_alive\n",
            "  File \"/usr/local/lib/python3.8/dist-packages/torch/utils/data/dataloader.py\", line 1466, in __del__\n",
            "Exception ignored in: <function _MultiProcessingDataLoaderIter.__del__ at 0x7f8fd0c53790>        <function _MultiProcessingDataLoaderIter.__del__ at 0x7f8fd0c53790>\n",
            "assert self._parent_pid == os.getpid(), 'can only test a child process'self._shutdown_workers()\n",
            "\n",
            "Traceback (most recent call last):\n",
            "\n",
            "Traceback (most recent call last):\n",
            "  File \"/usr/local/lib/python3.8/dist-packages/torch/utils/data/dataloader.py\", line 1466, in __del__\n",
            "AssertionError  File \"/usr/local/lib/python3.8/dist-packages/torch/utils/data/dataloader.py\", line 1449, in _shutdown_workers\n",
            "  File \"/usr/local/lib/python3.8/dist-packages/torch/utils/data/dataloader.py\", line 1466, in __del__\n",
            "    :         self._shutdown_workers()can only test a child processif w.is_alive():self._shutdown_workers()\n",
            "\n",
            "\n",
            "\n",
            "  File \"/usr/local/lib/python3.8/dist-packages/torch/utils/data/dataloader.py\", line 1449, in _shutdown_workers\n",
            "  File \"/usr/lib/python3.8/multiprocessing/process.py\", line 160, in is_alive\n",
            "  File \"/usr/local/lib/python3.8/dist-packages/torch/utils/data/dataloader.py\", line 1449, in _shutdown_workers\n",
            "            if w.is_alive():assert self._parent_pid == os.getpid(), 'can only test a child process'if w.is_alive():\n",
            "\n",
            "  File \"/usr/lib/python3.8/multiprocessing/process.py\", line 160, in is_alive\n",
            "\n",
            "AssertionError  File \"/usr/lib/python3.8/multiprocessing/process.py\", line 160, in is_alive\n",
            "    :     assert self._parent_pid == os.getpid(), 'can only test a child process'can only test a child process\n",
            "assert self._parent_pid == os.getpid(), 'can only test a child process'\n",
            "\n",
            "AssertionError: AssertionErrorcan only test a child process: \n",
            "can only test a child process\n",
            "Exception ignored in: <function _MultiProcessingDataLoaderIter.__del__ at 0x7f8fd0c53790>\n",
            "Traceback (most recent call last):\n",
            "  File \"/usr/local/lib/python3.8/dist-packages/torch/utils/data/dataloader.py\", line 1466, in __del__\n",
            "    self._shutdown_workers()\n",
            "  File \"/usr/local/lib/python3.8/dist-packages/torch/utils/data/dataloader.py\", line 1449, in _shutdown_workers\n",
            "    if w.is_alive():\n",
            "  File \"/usr/lib/python3.8/multiprocessing/process.py\", line 160, in is_alive\n",
            "    assert self._parent_pid == os.getpid(), 'can only test a child process'\n",
            "AssertionError: can only test a child process\n"
          ]
        },
        {
          "output_type": "stream",
          "name": "stdout",
          "text": [
            "val_loss = nan, train_loss = nan\n",
            "i = 8, diff_list[i] = nan\n"
          ]
        }
      ],
      "source": [
        "bs_list = [2, 4, 8, 16, 32, 64, 128, 256, 512, 1024, 2048, 4096] # len(bs_list) = 11\n",
        "diff_list = []\n",
        "\n",
        "for i, bs in enumerate(bs_list):\n",
        "  if (i > 8) :\n",
        "    continue \n",
        "  diff_list.append(give_diff_loss(bs))\n",
        "  print(f\"i = {i}, diff_list[i] = {diff_list[i]}\")"
      ]
    },
    {
      "cell_type": "markdown",
      "source": [
        "train_loss > val_loss \n",
        "\n",
        "differnece between them is decreasing"
      ],
      "metadata": {
        "id": "4p2iwrJj1zmd"
      }
    },
    {
      "cell_type": "code",
      "execution_count": null,
      "metadata": {
        "colab": {
          "base_uri": "https://localhost:8080/"
        },
        "id": "DW_JeeQ4SMPZ",
        "outputId": "e0bd1973-cffd-466a-fcf7-beee387f9a96"
      },
      "outputs": [
        {
          "data": {
            "text/plain": [
              "[nan, nan, nan, nan, nan, nan, nan, nan, nan, nan, nan, nan]"
            ]
          },
          "execution_count": 115,
          "metadata": {},
          "output_type": "execute_result"
        }
      ],
      "source": [
        "diff_list"
      ]
    },
    {
      "cell_type": "code",
      "execution_count": null,
      "metadata": {
        "colab": {
          "base_uri": "https://localhost:8080/",
          "height": 525
        },
        "id": "Y4tRiKofR5Tc",
        "outputId": "83971222-e09c-4a29-b737-7f07bf3d2e37"
      },
      "outputs": [
        {
          "data": {
            "image/svg+xml": "<?xml version=\"1.0\" encoding=\"utf-8\" standalone=\"no\"?>\n<!DOCTYPE svg PUBLIC \"-//W3C//DTD SVG 1.1//EN\"\n  \"http://www.w3.org/Graphics/SVG/1.1/DTD/svg11.dtd\">\n<!-- Created with matplotlib (https://matplotlib.org/) -->\n<svg height=\"378.24005pt\" version=\"1.1\" viewBox=\"0 0 757.91135 378.24005\" width=\"757.91135pt\" xmlns=\"http://www.w3.org/2000/svg\" xmlns:xlink=\"http://www.w3.org/1999/xlink\">\n <defs>\n  <style type=\"text/css\">\n*{stroke-linecap:butt;stroke-linejoin:round;}\n  </style>\n </defs>\n <g id=\"figure_1\">\n  <g id=\"patch_1\">\n   <path d=\"M 0 378.24005 \nL 757.91135 378.24005 \nL 757.91135 0 \nL 0 0 \nz\n\" style=\"fill:none;\"/>\n  </g>\n  <g id=\"axes_1\">\n   <g id=\"patch_2\">\n    <path d=\"M 81.11135 333.36 \nL 750.71135 333.36 \nL 750.71135 7.2 \nL 81.11135 7.2 \nz\n\" style=\"fill:#ffffff;\"/>\n   </g>\n   <g id=\"matplotlib.axis_1\">\n    <g id=\"xtick_1\">\n     <g id=\"line2d_1\">\n      <path clip-path=\"url(#pc68ac601c5)\" d=\"M 172.420441 333.36 \nL 172.420441 7.2 \n\" style=\"fill:none;stroke:#b0b0b0;stroke-linecap:square;stroke-width:0.8;\"/>\n     </g>\n     <g id=\"line2d_2\">\n      <defs>\n       <path d=\"M 0 0 \nL 0 3.5 \n\" id=\"mb72579d8e3\" style=\"stroke:#000000;stroke-width:0.8;\"/>\n      </defs>\n      <g>\n       <use style=\"stroke:#000000;stroke-width:0.8;\" x=\"172.420441\" xlink:href=\"#mb72579d8e3\" y=\"333.36\"/>\n      </g>\n     </g>\n     <g id=\"text_1\">\n      <!-- −0.04 -->\n      <defs>\n       <path d=\"M 10.59375 35.5 \nL 73.1875 35.5 \nL 73.1875 27.203125 \nL 10.59375 27.203125 \nz\n\" id=\"DejaVuSans-8722\"/>\n       <path d=\"M 31.78125 66.40625 \nQ 24.171875 66.40625 20.328125 58.90625 \nQ 16.5 51.421875 16.5 36.375 \nQ 16.5 21.390625 20.328125 13.890625 \nQ 24.171875 6.390625 31.78125 6.390625 \nQ 39.453125 6.390625 43.28125 13.890625 \nQ 47.125 21.390625 47.125 36.375 \nQ 47.125 51.421875 43.28125 58.90625 \nQ 39.453125 66.40625 31.78125 66.40625 \nz\nM 31.78125 74.21875 \nQ 44.046875 74.21875 50.515625 64.515625 \nQ 56.984375 54.828125 56.984375 36.375 \nQ 56.984375 17.96875 50.515625 8.265625 \nQ 44.046875 -1.421875 31.78125 -1.421875 \nQ 19.53125 -1.421875 13.0625 8.265625 \nQ 6.59375 17.96875 6.59375 36.375 \nQ 6.59375 54.828125 13.0625 64.515625 \nQ 19.53125 74.21875 31.78125 74.21875 \nz\n\" id=\"DejaVuSans-48\"/>\n       <path d=\"M 10.6875 12.40625 \nL 21 12.40625 \nL 21 0 \nL 10.6875 0 \nz\n\" id=\"DejaVuSans-46\"/>\n       <path d=\"M 37.796875 64.3125 \nL 12.890625 25.390625 \nL 37.796875 25.390625 \nz\nM 35.203125 72.90625 \nL 47.609375 72.90625 \nL 47.609375 25.390625 \nL 58.015625 25.390625 \nL 58.015625 17.1875 \nL 47.609375 17.1875 \nL 47.609375 0 \nL 37.796875 0 \nL 37.796875 17.1875 \nL 4.890625 17.1875 \nL 4.890625 26.703125 \nz\n\" id=\"DejaVuSans-52\"/>\n      </defs>\n      <g transform=\"translate(145.942891 353.4901)scale(0.1728 -0.1728)\">\n       <use xlink:href=\"#DejaVuSans-8722\"/>\n       <use x=\"83.789062\" xlink:href=\"#DejaVuSans-48\"/>\n       <use x=\"147.412109\" xlink:href=\"#DejaVuSans-46\"/>\n       <use x=\"179.199219\" xlink:href=\"#DejaVuSans-48\"/>\n       <use x=\"242.822266\" xlink:href=\"#DejaVuSans-52\"/>\n      </g>\n     </g>\n    </g>\n    <g id=\"xtick_2\">\n     <g id=\"line2d_3\">\n      <path clip-path=\"url(#pc68ac601c5)\" d=\"M 294.165895 333.36 \nL 294.165895 7.2 \n\" style=\"fill:none;stroke:#b0b0b0;stroke-linecap:square;stroke-width:0.8;\"/>\n     </g>\n     <g id=\"line2d_4\">\n      <g>\n       <use style=\"stroke:#000000;stroke-width:0.8;\" x=\"294.165895\" xlink:href=\"#mb72579d8e3\" y=\"333.36\"/>\n      </g>\n     </g>\n     <g id=\"text_2\">\n      <!-- −0.02 -->\n      <defs>\n       <path d=\"M 19.1875 8.296875 \nL 53.609375 8.296875 \nL 53.609375 0 \nL 7.328125 0 \nL 7.328125 8.296875 \nQ 12.9375 14.109375 22.625 23.890625 \nQ 32.328125 33.6875 34.8125 36.53125 \nQ 39.546875 41.84375 41.421875 45.53125 \nQ 43.3125 49.21875 43.3125 52.78125 \nQ 43.3125 58.59375 39.234375 62.25 \nQ 35.15625 65.921875 28.609375 65.921875 \nQ 23.96875 65.921875 18.8125 64.3125 \nQ 13.671875 62.703125 7.8125 59.421875 \nL 7.8125 69.390625 \nQ 13.765625 71.78125 18.9375 73 \nQ 24.125 74.21875 28.421875 74.21875 \nQ 39.75 74.21875 46.484375 68.546875 \nQ 53.21875 62.890625 53.21875 53.421875 \nQ 53.21875 48.921875 51.53125 44.890625 \nQ 49.859375 40.875 45.40625 35.40625 \nQ 44.1875 33.984375 37.640625 27.21875 \nQ 31.109375 20.453125 19.1875 8.296875 \nz\n\" id=\"DejaVuSans-50\"/>\n      </defs>\n      <g transform=\"translate(267.688345 353.4901)scale(0.1728 -0.1728)\">\n       <use xlink:href=\"#DejaVuSans-8722\"/>\n       <use x=\"83.789062\" xlink:href=\"#DejaVuSans-48\"/>\n       <use x=\"147.412109\" xlink:href=\"#DejaVuSans-46\"/>\n       <use x=\"179.199219\" xlink:href=\"#DejaVuSans-48\"/>\n       <use x=\"242.822266\" xlink:href=\"#DejaVuSans-50\"/>\n      </g>\n     </g>\n    </g>\n    <g id=\"xtick_3\">\n     <g id=\"line2d_5\">\n      <path clip-path=\"url(#pc68ac601c5)\" d=\"M 415.91135 333.36 \nL 415.91135 7.2 \n\" style=\"fill:none;stroke:#b0b0b0;stroke-linecap:square;stroke-width:0.8;\"/>\n     </g>\n     <g id=\"line2d_6\">\n      <g>\n       <use style=\"stroke:#000000;stroke-width:0.8;\" x=\"415.91135\" xlink:href=\"#mb72579d8e3\" y=\"333.36\"/>\n      </g>\n     </g>\n     <g id=\"text_3\">\n      <!-- 0.00 -->\n      <g transform=\"translate(396.67385 353.4901)scale(0.1728 -0.1728)\">\n       <use xlink:href=\"#DejaVuSans-48\"/>\n       <use x=\"63.623047\" xlink:href=\"#DejaVuSans-46\"/>\n       <use x=\"95.410156\" xlink:href=\"#DejaVuSans-48\"/>\n       <use x=\"159.033203\" xlink:href=\"#DejaVuSans-48\"/>\n      </g>\n     </g>\n    </g>\n    <g id=\"xtick_4\">\n     <g id=\"line2d_7\">\n      <path clip-path=\"url(#pc68ac601c5)\" d=\"M 537.656805 333.36 \nL 537.656805 7.2 \n\" style=\"fill:none;stroke:#b0b0b0;stroke-linecap:square;stroke-width:0.8;\"/>\n     </g>\n     <g id=\"line2d_8\">\n      <g>\n       <use style=\"stroke:#000000;stroke-width:0.8;\" x=\"537.656805\" xlink:href=\"#mb72579d8e3\" y=\"333.36\"/>\n      </g>\n     </g>\n     <g id=\"text_4\">\n      <!-- 0.02 -->\n      <g transform=\"translate(518.419305 353.4901)scale(0.1728 -0.1728)\">\n       <use xlink:href=\"#DejaVuSans-48\"/>\n       <use x=\"63.623047\" xlink:href=\"#DejaVuSans-46\"/>\n       <use x=\"95.410156\" xlink:href=\"#DejaVuSans-48\"/>\n       <use x=\"159.033203\" xlink:href=\"#DejaVuSans-50\"/>\n      </g>\n     </g>\n    </g>\n    <g id=\"xtick_5\">\n     <g id=\"line2d_9\">\n      <path clip-path=\"url(#pc68ac601c5)\" d=\"M 659.402259 333.36 \nL 659.402259 7.2 \n\" style=\"fill:none;stroke:#b0b0b0;stroke-linecap:square;stroke-width:0.8;\"/>\n     </g>\n     <g id=\"line2d_10\">\n      <g>\n       <use style=\"stroke:#000000;stroke-width:0.8;\" x=\"659.402259\" xlink:href=\"#mb72579d8e3\" y=\"333.36\"/>\n      </g>\n     </g>\n     <g id=\"text_5\">\n      <!-- 0.04 -->\n      <g transform=\"translate(640.164759 353.4901)scale(0.1728 -0.1728)\">\n       <use xlink:href=\"#DejaVuSans-48\"/>\n       <use x=\"63.623047\" xlink:href=\"#DejaVuSans-46\"/>\n       <use x=\"95.410156\" xlink:href=\"#DejaVuSans-48\"/>\n       <use x=\"159.033203\" xlink:href=\"#DejaVuSans-52\"/>\n      </g>\n     </g>\n    </g>\n    <g id=\"text_6\">\n     <!-- batch_size -->\n     <defs>\n      <path d=\"M 48.6875 27.296875 \nQ 48.6875 37.203125 44.609375 42.84375 \nQ 40.53125 48.484375 33.40625 48.484375 \nQ 26.265625 48.484375 22.1875 42.84375 \nQ 18.109375 37.203125 18.109375 27.296875 \nQ 18.109375 17.390625 22.1875 11.75 \nQ 26.265625 6.109375 33.40625 6.109375 \nQ 40.53125 6.109375 44.609375 11.75 \nQ 48.6875 17.390625 48.6875 27.296875 \nz\nM 18.109375 46.390625 \nQ 20.953125 51.265625 25.265625 53.625 \nQ 29.59375 56 35.59375 56 \nQ 45.5625 56 51.78125 48.09375 \nQ 58.015625 40.1875 58.015625 27.296875 \nQ 58.015625 14.40625 51.78125 6.484375 \nQ 45.5625 -1.421875 35.59375 -1.421875 \nQ 29.59375 -1.421875 25.265625 0.953125 \nQ 20.953125 3.328125 18.109375 8.203125 \nL 18.109375 0 \nL 9.078125 0 \nL 9.078125 75.984375 \nL 18.109375 75.984375 \nz\n\" id=\"DejaVuSans-98\"/>\n      <path d=\"M 34.28125 27.484375 \nQ 23.390625 27.484375 19.1875 25 \nQ 14.984375 22.515625 14.984375 16.5 \nQ 14.984375 11.71875 18.140625 8.90625 \nQ 21.296875 6.109375 26.703125 6.109375 \nQ 34.1875 6.109375 38.703125 11.40625 \nQ 43.21875 16.703125 43.21875 25.484375 \nL 43.21875 27.484375 \nz\nM 52.203125 31.203125 \nL 52.203125 0 \nL 43.21875 0 \nL 43.21875 8.296875 \nQ 40.140625 3.328125 35.546875 0.953125 \nQ 30.953125 -1.421875 24.3125 -1.421875 \nQ 15.921875 -1.421875 10.953125 3.296875 \nQ 6 8.015625 6 15.921875 \nQ 6 25.140625 12.171875 29.828125 \nQ 18.359375 34.515625 30.609375 34.515625 \nL 43.21875 34.515625 \nL 43.21875 35.40625 \nQ 43.21875 41.609375 39.140625 45 \nQ 35.0625 48.390625 27.6875 48.390625 \nQ 23 48.390625 18.546875 47.265625 \nQ 14.109375 46.140625 10.015625 43.890625 \nL 10.015625 52.203125 \nQ 14.9375 54.109375 19.578125 55.046875 \nQ 24.21875 56 28.609375 56 \nQ 40.484375 56 46.34375 49.84375 \nQ 52.203125 43.703125 52.203125 31.203125 \nz\n\" id=\"DejaVuSans-97\"/>\n      <path d=\"M 18.3125 70.21875 \nL 18.3125 54.6875 \nL 36.8125 54.6875 \nL 36.8125 47.703125 \nL 18.3125 47.703125 \nL 18.3125 18.015625 \nQ 18.3125 11.328125 20.140625 9.421875 \nQ 21.96875 7.515625 27.59375 7.515625 \nL 36.8125 7.515625 \nL 36.8125 0 \nL 27.59375 0 \nQ 17.1875 0 13.234375 3.875 \nQ 9.28125 7.765625 9.28125 18.015625 \nL 9.28125 47.703125 \nL 2.6875 47.703125 \nL 2.6875 54.6875 \nL 9.28125 54.6875 \nL 9.28125 70.21875 \nz\n\" id=\"DejaVuSans-116\"/>\n      <path d=\"M 48.78125 52.59375 \nL 48.78125 44.1875 \nQ 44.96875 46.296875 41.140625 47.34375 \nQ 37.3125 48.390625 33.40625 48.390625 \nQ 24.65625 48.390625 19.8125 42.84375 \nQ 14.984375 37.3125 14.984375 27.296875 \nQ 14.984375 17.28125 19.8125 11.734375 \nQ 24.65625 6.203125 33.40625 6.203125 \nQ 37.3125 6.203125 41.140625 7.25 \nQ 44.96875 8.296875 48.78125 10.40625 \nL 48.78125 2.09375 \nQ 45.015625 0.34375 40.984375 -0.53125 \nQ 36.96875 -1.421875 32.421875 -1.421875 \nQ 20.0625 -1.421875 12.78125 6.34375 \nQ 5.515625 14.109375 5.515625 27.296875 \nQ 5.515625 40.671875 12.859375 48.328125 \nQ 20.21875 56 33.015625 56 \nQ 37.15625 56 41.109375 55.140625 \nQ 45.0625 54.296875 48.78125 52.59375 \nz\n\" id=\"DejaVuSans-99\"/>\n      <path d=\"M 54.890625 33.015625 \nL 54.890625 0 \nL 45.90625 0 \nL 45.90625 32.71875 \nQ 45.90625 40.484375 42.875 44.328125 \nQ 39.84375 48.1875 33.796875 48.1875 \nQ 26.515625 48.1875 22.3125 43.546875 \nQ 18.109375 38.921875 18.109375 30.90625 \nL 18.109375 0 \nL 9.078125 0 \nL 9.078125 75.984375 \nL 18.109375 75.984375 \nL 18.109375 46.1875 \nQ 21.34375 51.125 25.703125 53.5625 \nQ 30.078125 56 35.796875 56 \nQ 45.21875 56 50.046875 50.171875 \nQ 54.890625 44.34375 54.890625 33.015625 \nz\n\" id=\"DejaVuSans-104\"/>\n      <path d=\"M 50.984375 -16.609375 \nL 50.984375 -23.578125 \nL -0.984375 -23.578125 \nL -0.984375 -16.609375 \nz\n\" id=\"DejaVuSans-95\"/>\n      <path d=\"M 44.28125 53.078125 \nL 44.28125 44.578125 \nQ 40.484375 46.53125 36.375 47.5 \nQ 32.28125 48.484375 27.875 48.484375 \nQ 21.1875 48.484375 17.84375 46.4375 \nQ 14.5 44.390625 14.5 40.28125 \nQ 14.5 37.15625 16.890625 35.375 \nQ 19.28125 33.59375 26.515625 31.984375 \nL 29.59375 31.296875 \nQ 39.15625 29.25 43.1875 25.515625 \nQ 47.21875 21.78125 47.21875 15.09375 \nQ 47.21875 7.46875 41.1875 3.015625 \nQ 35.15625 -1.421875 24.609375 -1.421875 \nQ 20.21875 -1.421875 15.453125 -0.5625 \nQ 10.6875 0.296875 5.421875 2 \nL 5.421875 11.28125 \nQ 10.40625 8.6875 15.234375 7.390625 \nQ 20.0625 6.109375 24.8125 6.109375 \nQ 31.15625 6.109375 34.5625 8.28125 \nQ 37.984375 10.453125 37.984375 14.40625 \nQ 37.984375 18.0625 35.515625 20.015625 \nQ 33.0625 21.96875 24.703125 23.78125 \nL 21.578125 24.515625 \nQ 13.234375 26.265625 9.515625 29.90625 \nQ 5.8125 33.546875 5.8125 39.890625 \nQ 5.8125 47.609375 11.28125 51.796875 \nQ 16.75 56 26.8125 56 \nQ 31.78125 56 36.171875 55.265625 \nQ 40.578125 54.546875 44.28125 53.078125 \nz\n\" id=\"DejaVuSans-115\"/>\n      <path d=\"M 9.421875 54.6875 \nL 18.40625 54.6875 \nL 18.40625 0 \nL 9.421875 0 \nz\nM 9.421875 75.984375 \nL 18.40625 75.984375 \nL 18.40625 64.59375 \nL 9.421875 64.59375 \nz\n\" id=\"DejaVuSans-105\"/>\n      <path d=\"M 5.515625 54.6875 \nL 48.1875 54.6875 \nL 48.1875 46.484375 \nL 14.40625 7.171875 \nL 48.1875 7.171875 \nL 48.1875 0 \nL 4.296875 0 \nL 4.296875 8.203125 \nL 38.09375 47.515625 \nL 5.515625 47.515625 \nz\n\" id=\"DejaVuSans-122\"/>\n      <path d=\"M 56.203125 29.59375 \nL 56.203125 25.203125 \nL 14.890625 25.203125 \nQ 15.484375 15.921875 20.484375 11.0625 \nQ 25.484375 6.203125 34.421875 6.203125 \nQ 39.59375 6.203125 44.453125 7.46875 \nQ 49.3125 8.734375 54.109375 11.28125 \nL 54.109375 2.78125 \nQ 49.265625 0.734375 44.1875 -0.34375 \nQ 39.109375 -1.421875 33.890625 -1.421875 \nQ 20.796875 -1.421875 13.15625 6.1875 \nQ 5.515625 13.8125 5.515625 26.8125 \nQ 5.515625 40.234375 12.765625 48.109375 \nQ 20.015625 56 32.328125 56 \nQ 43.359375 56 49.78125 48.890625 \nQ 56.203125 41.796875 56.203125 29.59375 \nz\nM 47.21875 32.234375 \nQ 47.125 39.59375 43.09375 43.984375 \nQ 39.0625 48.390625 32.421875 48.390625 \nQ 24.90625 48.390625 20.390625 44.140625 \nQ 15.875 39.890625 15.1875 32.171875 \nz\n\" id=\"DejaVuSans-101\"/>\n     </defs>\n     <g transform=\"translate(389.600413 368.682237)scale(0.1 -0.1)\">\n      <use xlink:href=\"#DejaVuSans-98\"/>\n      <use x=\"63.476562\" xlink:href=\"#DejaVuSans-97\"/>\n      <use x=\"124.755859\" xlink:href=\"#DejaVuSans-116\"/>\n      <use x=\"163.964844\" xlink:href=\"#DejaVuSans-99\"/>\n      <use x=\"218.945312\" xlink:href=\"#DejaVuSans-104\"/>\n      <use x=\"282.324219\" xlink:href=\"#DejaVuSans-95\"/>\n      <use x=\"332.324219\" xlink:href=\"#DejaVuSans-115\"/>\n      <use x=\"384.423828\" xlink:href=\"#DejaVuSans-105\"/>\n      <use x=\"412.207031\" xlink:href=\"#DejaVuSans-122\"/>\n      <use x=\"464.697266\" xlink:href=\"#DejaVuSans-101\"/>\n     </g>\n    </g>\n   </g>\n   <g id=\"matplotlib.axis_2\">\n    <g id=\"ytick_1\">\n     <g id=\"line2d_11\">\n      <path clip-path=\"url(#pc68ac601c5)\" d=\"M 81.11135 288.883636 \nL 750.71135 288.883636 \n\" style=\"fill:none;stroke:#b0b0b0;stroke-linecap:square;stroke-width:0.8;\"/>\n     </g>\n     <g id=\"line2d_12\">\n      <defs>\n       <path d=\"M 0 0 \nL -3.5 0 \n\" id=\"m336c3f9131\" style=\"stroke:#000000;stroke-width:0.8;\"/>\n      </defs>\n      <g>\n       <use style=\"stroke:#000000;stroke-width:0.8;\" x=\"81.11135\" xlink:href=\"#m336c3f9131\" y=\"288.883636\"/>\n      </g>\n     </g>\n     <g id=\"text_7\">\n      <!-- −0.04 -->\n      <g transform=\"translate(21.15625 295.448686)scale(0.1728 -0.1728)\">\n       <use xlink:href=\"#DejaVuSans-8722\"/>\n       <use x=\"83.789062\" xlink:href=\"#DejaVuSans-48\"/>\n       <use x=\"147.412109\" xlink:href=\"#DejaVuSans-46\"/>\n       <use x=\"179.199219\" xlink:href=\"#DejaVuSans-48\"/>\n       <use x=\"242.822266\" xlink:href=\"#DejaVuSans-52\"/>\n      </g>\n     </g>\n    </g>\n    <g id=\"ytick_2\">\n     <g id=\"line2d_13\">\n      <path clip-path=\"url(#pc68ac601c5)\" d=\"M 81.11135 229.581818 \nL 750.71135 229.581818 \n\" style=\"fill:none;stroke:#b0b0b0;stroke-linecap:square;stroke-width:0.8;\"/>\n     </g>\n     <g id=\"line2d_14\">\n      <g>\n       <use style=\"stroke:#000000;stroke-width:0.8;\" x=\"81.11135\" xlink:href=\"#m336c3f9131\" y=\"229.581818\"/>\n      </g>\n     </g>\n     <g id=\"text_8\">\n      <!-- −0.02 -->\n      <g transform=\"translate(21.15625 236.146868)scale(0.1728 -0.1728)\">\n       <use xlink:href=\"#DejaVuSans-8722\"/>\n       <use x=\"83.789062\" xlink:href=\"#DejaVuSans-48\"/>\n       <use x=\"147.412109\" xlink:href=\"#DejaVuSans-46\"/>\n       <use x=\"179.199219\" xlink:href=\"#DejaVuSans-48\"/>\n       <use x=\"242.822266\" xlink:href=\"#DejaVuSans-50\"/>\n      </g>\n     </g>\n    </g>\n    <g id=\"ytick_3\">\n     <g id=\"line2d_15\">\n      <path clip-path=\"url(#pc68ac601c5)\" d=\"M 81.11135 170.28 \nL 750.71135 170.28 \n\" style=\"fill:none;stroke:#b0b0b0;stroke-linecap:square;stroke-width:0.8;\"/>\n     </g>\n     <g id=\"line2d_16\">\n      <g>\n       <use style=\"stroke:#000000;stroke-width:0.8;\" x=\"81.11135\" xlink:href=\"#m336c3f9131\" y=\"170.28\"/>\n      </g>\n     </g>\n     <g id=\"text_9\">\n      <!-- 0.00 -->\n      <g transform=\"translate(35.63635 176.84505)scale(0.1728 -0.1728)\">\n       <use xlink:href=\"#DejaVuSans-48\"/>\n       <use x=\"63.623047\" xlink:href=\"#DejaVuSans-46\"/>\n       <use x=\"95.410156\" xlink:href=\"#DejaVuSans-48\"/>\n       <use x=\"159.033203\" xlink:href=\"#DejaVuSans-48\"/>\n      </g>\n     </g>\n    </g>\n    <g id=\"ytick_4\">\n     <g id=\"line2d_17\">\n      <path clip-path=\"url(#pc68ac601c5)\" d=\"M 81.11135 110.978182 \nL 750.71135 110.978182 \n\" style=\"fill:none;stroke:#b0b0b0;stroke-linecap:square;stroke-width:0.8;\"/>\n     </g>\n     <g id=\"line2d_18\">\n      <g>\n       <use style=\"stroke:#000000;stroke-width:0.8;\" x=\"81.11135\" xlink:href=\"#m336c3f9131\" y=\"110.978182\"/>\n      </g>\n     </g>\n     <g id=\"text_10\">\n      <!-- 0.02 -->\n      <g transform=\"translate(35.63635 117.543232)scale(0.1728 -0.1728)\">\n       <use xlink:href=\"#DejaVuSans-48\"/>\n       <use x=\"63.623047\" xlink:href=\"#DejaVuSans-46\"/>\n       <use x=\"95.410156\" xlink:href=\"#DejaVuSans-48\"/>\n       <use x=\"159.033203\" xlink:href=\"#DejaVuSans-50\"/>\n      </g>\n     </g>\n    </g>\n    <g id=\"ytick_5\">\n     <g id=\"line2d_19\">\n      <path clip-path=\"url(#pc68ac601c5)\" d=\"M 81.11135 51.676364 \nL 750.71135 51.676364 \n\" style=\"fill:none;stroke:#b0b0b0;stroke-linecap:square;stroke-width:0.8;\"/>\n     </g>\n     <g id=\"line2d_20\">\n      <g>\n       <use style=\"stroke:#000000;stroke-width:0.8;\" x=\"81.11135\" xlink:href=\"#m336c3f9131\" y=\"51.676364\"/>\n      </g>\n     </g>\n     <g id=\"text_11\">\n      <!-- 0.04 -->\n      <g transform=\"translate(35.63635 58.241414)scale(0.1728 -0.1728)\">\n       <use xlink:href=\"#DejaVuSans-48\"/>\n       <use x=\"63.623047\" xlink:href=\"#DejaVuSans-46\"/>\n       <use x=\"95.410156\" xlink:href=\"#DejaVuSans-48\"/>\n       <use x=\"159.033203\" xlink:href=\"#DejaVuSans-52\"/>\n      </g>\n     </g>\n    </g>\n    <g id=\"text_12\">\n     <!-- val_loss - train_loss -->\n     <defs>\n      <path d=\"M 2.984375 54.6875 \nL 12.5 54.6875 \nL 29.59375 8.796875 \nL 46.6875 54.6875 \nL 56.203125 54.6875 \nL 35.6875 0 \nL 23.484375 0 \nz\n\" id=\"DejaVuSans-118\"/>\n      <path d=\"M 9.421875 75.984375 \nL 18.40625 75.984375 \nL 18.40625 0 \nL 9.421875 0 \nz\n\" id=\"DejaVuSans-108\"/>\n      <path d=\"M 30.609375 48.390625 \nQ 23.390625 48.390625 19.1875 42.75 \nQ 14.984375 37.109375 14.984375 27.296875 \nQ 14.984375 17.484375 19.15625 11.84375 \nQ 23.34375 6.203125 30.609375 6.203125 \nQ 37.796875 6.203125 41.984375 11.859375 \nQ 46.1875 17.53125 46.1875 27.296875 \nQ 46.1875 37.015625 41.984375 42.703125 \nQ 37.796875 48.390625 30.609375 48.390625 \nz\nM 30.609375 56 \nQ 42.328125 56 49.015625 48.375 \nQ 55.71875 40.765625 55.71875 27.296875 \nQ 55.71875 13.875 49.015625 6.21875 \nQ 42.328125 -1.421875 30.609375 -1.421875 \nQ 18.84375 -1.421875 12.171875 6.21875 \nQ 5.515625 13.875 5.515625 27.296875 \nQ 5.515625 40.765625 12.171875 48.375 \nQ 18.84375 56 30.609375 56 \nz\n\" id=\"DejaVuSans-111\"/>\n      <path id=\"DejaVuSans-32\"/>\n      <path d=\"M 4.890625 31.390625 \nL 31.203125 31.390625 \nL 31.203125 23.390625 \nL 4.890625 23.390625 \nz\n\" id=\"DejaVuSans-45\"/>\n      <path d=\"M 41.109375 46.296875 \nQ 39.59375 47.171875 37.8125 47.578125 \nQ 36.03125 48 33.890625 48 \nQ 26.265625 48 22.1875 43.046875 \nQ 18.109375 38.09375 18.109375 28.8125 \nL 18.109375 0 \nL 9.078125 0 \nL 9.078125 54.6875 \nL 18.109375 54.6875 \nL 18.109375 46.1875 \nQ 20.953125 51.171875 25.484375 53.578125 \nQ 30.03125 56 36.53125 56 \nQ 37.453125 56 38.578125 55.875 \nQ 39.703125 55.765625 41.0625 55.515625 \nz\n\" id=\"DejaVuSans-114\"/>\n      <path d=\"M 54.890625 33.015625 \nL 54.890625 0 \nL 45.90625 0 \nL 45.90625 32.71875 \nQ 45.90625 40.484375 42.875 44.328125 \nQ 39.84375 48.1875 33.796875 48.1875 \nQ 26.515625 48.1875 22.3125 43.546875 \nQ 18.109375 38.921875 18.109375 30.90625 \nL 18.109375 0 \nL 9.078125 0 \nL 9.078125 54.6875 \nL 18.109375 54.6875 \nL 18.109375 46.1875 \nQ 21.34375 51.125 25.703125 53.5625 \nQ 30.078125 56 35.796875 56 \nQ 45.21875 56 50.046875 50.171875 \nQ 54.890625 44.34375 54.890625 33.015625 \nz\n\" id=\"DejaVuSans-110\"/>\n     </defs>\n     <g transform=\"translate(14.798437 218.627656)rotate(-90)scale(0.1 -0.1)\">\n      <use xlink:href=\"#DejaVuSans-118\"/>\n      <use x=\"59.179688\" xlink:href=\"#DejaVuSans-97\"/>\n      <use x=\"120.458984\" xlink:href=\"#DejaVuSans-108\"/>\n      <use x=\"148.242188\" xlink:href=\"#DejaVuSans-95\"/>\n      <use x=\"198.242188\" xlink:href=\"#DejaVuSans-108\"/>\n      <use x=\"226.025391\" xlink:href=\"#DejaVuSans-111\"/>\n      <use x=\"287.207031\" xlink:href=\"#DejaVuSans-115\"/>\n      <use x=\"339.306641\" xlink:href=\"#DejaVuSans-115\"/>\n      <use x=\"391.40625\" xlink:href=\"#DejaVuSans-32\"/>\n      <use x=\"423.193359\" xlink:href=\"#DejaVuSans-45\"/>\n      <use x=\"459.277344\" xlink:href=\"#DejaVuSans-32\"/>\n      <use x=\"491.064453\" xlink:href=\"#DejaVuSans-116\"/>\n      <use x=\"530.273438\" xlink:href=\"#DejaVuSans-114\"/>\n      <use x=\"571.386719\" xlink:href=\"#DejaVuSans-97\"/>\n      <use x=\"632.666016\" xlink:href=\"#DejaVuSans-105\"/>\n      <use x=\"660.449219\" xlink:href=\"#DejaVuSans-110\"/>\n      <use x=\"723.828125\" xlink:href=\"#DejaVuSans-95\"/>\n      <use x=\"773.828125\" xlink:href=\"#DejaVuSans-108\"/>\n      <use x=\"801.611328\" xlink:href=\"#DejaVuSans-111\"/>\n      <use x=\"862.792969\" xlink:href=\"#DejaVuSans-115\"/>\n      <use x=\"914.892578\" xlink:href=\"#DejaVuSans-115\"/>\n     </g>\n    </g>\n   </g>\n   <g id=\"line2d_21\">\n    <defs>\n     <path d=\"M 0 3 \nC 0.795609 3 1.55874 2.683901 2.12132 2.12132 \nC 2.683901 1.55874 3 0.795609 3 0 \nC 3 -0.795609 2.683901 -1.55874 2.12132 -2.12132 \nC 1.55874 -2.683901 0.795609 -3 0 -3 \nC -0.795609 -3 -1.55874 -2.683901 -2.12132 -2.12132 \nC -2.683901 -1.55874 -3 -0.795609 -3 0 \nC -3 0.795609 -2.683901 1.55874 -2.12132 2.12132 \nC -1.55874 2.683901 -0.795609 3 0 3 \nz\n\" id=\"mc4d0beed93\" style=\"stroke:#ff0000;\"/>\n    </defs>\n    <g clip-path=\"url(#pc68ac601c5)\">\n     <use style=\"fill:#ff0000;stroke:#ff0000;\" x=\"0\" xlink:href=\"#mc4d0beed93\" y=\"0\"/>\n    </g>\n   </g>\n   <g id=\"line2d_22\">\n    <path clip-path=\"url(#pc68ac601c5)\" d=\"M 0 0 \n\" style=\"fill:none;stroke:#0000ff;stroke-linecap:square;\"/>\n   </g>\n   <g id=\"patch_3\">\n    <path d=\"M 81.11135 333.36 \nL 81.11135 7.2 \n\" style=\"fill:none;stroke:#000000;stroke-linecap:square;stroke-linejoin:miter;stroke-width:0.8;\"/>\n   </g>\n   <g id=\"patch_4\">\n    <path d=\"M 750.71135 333.36 \nL 750.71135 7.2 \n\" style=\"fill:none;stroke:#000000;stroke-linecap:square;stroke-linejoin:miter;stroke-width:0.8;\"/>\n   </g>\n   <g id=\"patch_5\">\n    <path d=\"M 81.11135 333.36 \nL 750.71135 333.36 \n\" style=\"fill:none;stroke:#000000;stroke-linecap:square;stroke-linejoin:miter;stroke-width:0.8;\"/>\n   </g>\n   <g id=\"patch_6\">\n    <path d=\"M 81.11135 7.2 \nL 750.71135 7.2 \n\" style=\"fill:none;stroke:#000000;stroke-linecap:square;stroke-linejoin:miter;stroke-width:0.8;\"/>\n   </g>\n  </g>\n </g>\n <defs>\n  <clipPath id=\"pc68ac601c5\">\n   <rect height=\"326.16\" width=\"669.6\" x=\"81.11135\" y=\"7.2\"/>\n  </clipPath>\n </defs>\n</svg>\n",
            "text/plain": [
              "<Figure size 864x432 with 1 Axes>"
            ]
          },
          "metadata": {},
          "output_type": "display_data"
        }
      ],
      "source": [
        "plt.plot(bs_list, diff_list, 'ro')\n",
        "plt.plot(bs_list, diff_list, 'b', linewidth=1)\n",
        "plt.grid()\n",
        "plt.xlabel(\"batch_size\")\n",
        "plt.ylabel('val_loss - train_loss')\n",
        "plt.show()"
      ]
    }
  ],
  "metadata": {
    "accelerator": "GPU",
    "colab": {
      "provenance": [],
      "collapsed_sections": [
        "Hz96TKLo3bp4"
      ],
      "authorship_tag": "ABX9TyOZiEfFQE2QlxBSmfIbgsMj",
      "include_colab_link": true
    },
    "gpuClass": "standard",
    "kernelspec": {
      "display_name": "Python 3",
      "name": "python3"
    },
    "language_info": {
      "name": "python"
    },
    "widgets": {
      "application/vnd.jupyter.widget-state+json": {
        "2d08a4063e044c32bc32d04f80cd0c1c": {
          "model_module": "@jupyter-widgets/controls",
          "model_name": "HBoxModel",
          "model_module_version": "1.5.0",
          "state": {
            "_dom_classes": [],
            "_model_module": "@jupyter-widgets/controls",
            "_model_module_version": "1.5.0",
            "_model_name": "HBoxModel",
            "_view_count": null,
            "_view_module": "@jupyter-widgets/controls",
            "_view_module_version": "1.5.0",
            "_view_name": "HBoxView",
            "box_style": "",
            "children": [
              "IPY_MODEL_823dad8cb9964a1eb20f9e4c95fb2d1a",
              "IPY_MODEL_402d21f3e73745e48576e93ddf6b01bf",
              "IPY_MODEL_84f28890f6c743eab43c49bcd6b79ccd"
            ],
            "layout": "IPY_MODEL_2fd7d1ba4f1547799bb176f3a18c3929"
          }
        },
        "823dad8cb9964a1eb20f9e4c95fb2d1a": {
          "model_module": "@jupyter-widgets/controls",
          "model_name": "HTMLModel",
          "model_module_version": "1.5.0",
          "state": {
            "_dom_classes": [],
            "_model_module": "@jupyter-widgets/controls",
            "_model_module_version": "1.5.0",
            "_model_name": "HTMLModel",
            "_view_count": null,
            "_view_module": "@jupyter-widgets/controls",
            "_view_module_version": "1.5.0",
            "_view_name": "HTMLView",
            "description": "",
            "description_tooltip": null,
            "layout": "IPY_MODEL_8d7f1a7b8959441bada67db84e72b250",
            "placeholder": "​",
            "style": "IPY_MODEL_12e75e50eb5242e4b1bfb5e621a425dd",
            "value": "100%"
          }
        },
        "402d21f3e73745e48576e93ddf6b01bf": {
          "model_module": "@jupyter-widgets/controls",
          "model_name": "FloatProgressModel",
          "model_module_version": "1.5.0",
          "state": {
            "_dom_classes": [],
            "_model_module": "@jupyter-widgets/controls",
            "_model_module_version": "1.5.0",
            "_model_name": "FloatProgressModel",
            "_view_count": null,
            "_view_module": "@jupyter-widgets/controls",
            "_view_module_version": "1.5.0",
            "_view_name": "ProgressView",
            "bar_style": "success",
            "description": "",
            "description_tooltip": null,
            "layout": "IPY_MODEL_f1b50d7249fd4299a39a9e8bcd57b6aa",
            "max": 26421880,
            "min": 0,
            "orientation": "horizontal",
            "style": "IPY_MODEL_a92cbd33f98549bb8add79bf21266b55",
            "value": 26421880
          }
        },
        "84f28890f6c743eab43c49bcd6b79ccd": {
          "model_module": "@jupyter-widgets/controls",
          "model_name": "HTMLModel",
          "model_module_version": "1.5.0",
          "state": {
            "_dom_classes": [],
            "_model_module": "@jupyter-widgets/controls",
            "_model_module_version": "1.5.0",
            "_model_name": "HTMLModel",
            "_view_count": null,
            "_view_module": "@jupyter-widgets/controls",
            "_view_module_version": "1.5.0",
            "_view_name": "HTMLView",
            "description": "",
            "description_tooltip": null,
            "layout": "IPY_MODEL_055a8a61d9154ab8bca96660b0117c99",
            "placeholder": "​",
            "style": "IPY_MODEL_a529ea0b95d54760b56a2b3c11b7afa0",
            "value": " 26421880/26421880 [00:03&lt;00:00, 13831625.28it/s]"
          }
        },
        "2fd7d1ba4f1547799bb176f3a18c3929": {
          "model_module": "@jupyter-widgets/base",
          "model_name": "LayoutModel",
          "model_module_version": "1.2.0",
          "state": {
            "_model_module": "@jupyter-widgets/base",
            "_model_module_version": "1.2.0",
            "_model_name": "LayoutModel",
            "_view_count": null,
            "_view_module": "@jupyter-widgets/base",
            "_view_module_version": "1.2.0",
            "_view_name": "LayoutView",
            "align_content": null,
            "align_items": null,
            "align_self": null,
            "border": null,
            "bottom": null,
            "display": null,
            "flex": null,
            "flex_flow": null,
            "grid_area": null,
            "grid_auto_columns": null,
            "grid_auto_flow": null,
            "grid_auto_rows": null,
            "grid_column": null,
            "grid_gap": null,
            "grid_row": null,
            "grid_template_areas": null,
            "grid_template_columns": null,
            "grid_template_rows": null,
            "height": null,
            "justify_content": null,
            "justify_items": null,
            "left": null,
            "margin": null,
            "max_height": null,
            "max_width": null,
            "min_height": null,
            "min_width": null,
            "object_fit": null,
            "object_position": null,
            "order": null,
            "overflow": null,
            "overflow_x": null,
            "overflow_y": null,
            "padding": null,
            "right": null,
            "top": null,
            "visibility": null,
            "width": null
          }
        },
        "8d7f1a7b8959441bada67db84e72b250": {
          "model_module": "@jupyter-widgets/base",
          "model_name": "LayoutModel",
          "model_module_version": "1.2.0",
          "state": {
            "_model_module": "@jupyter-widgets/base",
            "_model_module_version": "1.2.0",
            "_model_name": "LayoutModel",
            "_view_count": null,
            "_view_module": "@jupyter-widgets/base",
            "_view_module_version": "1.2.0",
            "_view_name": "LayoutView",
            "align_content": null,
            "align_items": null,
            "align_self": null,
            "border": null,
            "bottom": null,
            "display": null,
            "flex": null,
            "flex_flow": null,
            "grid_area": null,
            "grid_auto_columns": null,
            "grid_auto_flow": null,
            "grid_auto_rows": null,
            "grid_column": null,
            "grid_gap": null,
            "grid_row": null,
            "grid_template_areas": null,
            "grid_template_columns": null,
            "grid_template_rows": null,
            "height": null,
            "justify_content": null,
            "justify_items": null,
            "left": null,
            "margin": null,
            "max_height": null,
            "max_width": null,
            "min_height": null,
            "min_width": null,
            "object_fit": null,
            "object_position": null,
            "order": null,
            "overflow": null,
            "overflow_x": null,
            "overflow_y": null,
            "padding": null,
            "right": null,
            "top": null,
            "visibility": null,
            "width": null
          }
        },
        "12e75e50eb5242e4b1bfb5e621a425dd": {
          "model_module": "@jupyter-widgets/controls",
          "model_name": "DescriptionStyleModel",
          "model_module_version": "1.5.0",
          "state": {
            "_model_module": "@jupyter-widgets/controls",
            "_model_module_version": "1.5.0",
            "_model_name": "DescriptionStyleModel",
            "_view_count": null,
            "_view_module": "@jupyter-widgets/base",
            "_view_module_version": "1.2.0",
            "_view_name": "StyleView",
            "description_width": ""
          }
        },
        "f1b50d7249fd4299a39a9e8bcd57b6aa": {
          "model_module": "@jupyter-widgets/base",
          "model_name": "LayoutModel",
          "model_module_version": "1.2.0",
          "state": {
            "_model_module": "@jupyter-widgets/base",
            "_model_module_version": "1.2.0",
            "_model_name": "LayoutModel",
            "_view_count": null,
            "_view_module": "@jupyter-widgets/base",
            "_view_module_version": "1.2.0",
            "_view_name": "LayoutView",
            "align_content": null,
            "align_items": null,
            "align_self": null,
            "border": null,
            "bottom": null,
            "display": null,
            "flex": null,
            "flex_flow": null,
            "grid_area": null,
            "grid_auto_columns": null,
            "grid_auto_flow": null,
            "grid_auto_rows": null,
            "grid_column": null,
            "grid_gap": null,
            "grid_row": null,
            "grid_template_areas": null,
            "grid_template_columns": null,
            "grid_template_rows": null,
            "height": null,
            "justify_content": null,
            "justify_items": null,
            "left": null,
            "margin": null,
            "max_height": null,
            "max_width": null,
            "min_height": null,
            "min_width": null,
            "object_fit": null,
            "object_position": null,
            "order": null,
            "overflow": null,
            "overflow_x": null,
            "overflow_y": null,
            "padding": null,
            "right": null,
            "top": null,
            "visibility": null,
            "width": null
          }
        },
        "a92cbd33f98549bb8add79bf21266b55": {
          "model_module": "@jupyter-widgets/controls",
          "model_name": "ProgressStyleModel",
          "model_module_version": "1.5.0",
          "state": {
            "_model_module": "@jupyter-widgets/controls",
            "_model_module_version": "1.5.0",
            "_model_name": "ProgressStyleModel",
            "_view_count": null,
            "_view_module": "@jupyter-widgets/base",
            "_view_module_version": "1.2.0",
            "_view_name": "StyleView",
            "bar_color": null,
            "description_width": ""
          }
        },
        "055a8a61d9154ab8bca96660b0117c99": {
          "model_module": "@jupyter-widgets/base",
          "model_name": "LayoutModel",
          "model_module_version": "1.2.0",
          "state": {
            "_model_module": "@jupyter-widgets/base",
            "_model_module_version": "1.2.0",
            "_model_name": "LayoutModel",
            "_view_count": null,
            "_view_module": "@jupyter-widgets/base",
            "_view_module_version": "1.2.0",
            "_view_name": "LayoutView",
            "align_content": null,
            "align_items": null,
            "align_self": null,
            "border": null,
            "bottom": null,
            "display": null,
            "flex": null,
            "flex_flow": null,
            "grid_area": null,
            "grid_auto_columns": null,
            "grid_auto_flow": null,
            "grid_auto_rows": null,
            "grid_column": null,
            "grid_gap": null,
            "grid_row": null,
            "grid_template_areas": null,
            "grid_template_columns": null,
            "grid_template_rows": null,
            "height": null,
            "justify_content": null,
            "justify_items": null,
            "left": null,
            "margin": null,
            "max_height": null,
            "max_width": null,
            "min_height": null,
            "min_width": null,
            "object_fit": null,
            "object_position": null,
            "order": null,
            "overflow": null,
            "overflow_x": null,
            "overflow_y": null,
            "padding": null,
            "right": null,
            "top": null,
            "visibility": null,
            "width": null
          }
        },
        "a529ea0b95d54760b56a2b3c11b7afa0": {
          "model_module": "@jupyter-widgets/controls",
          "model_name": "DescriptionStyleModel",
          "model_module_version": "1.5.0",
          "state": {
            "_model_module": "@jupyter-widgets/controls",
            "_model_module_version": "1.5.0",
            "_model_name": "DescriptionStyleModel",
            "_view_count": null,
            "_view_module": "@jupyter-widgets/base",
            "_view_module_version": "1.2.0",
            "_view_name": "StyleView",
            "description_width": ""
          }
        },
        "d985d998e8ba48238d1fe3da9a0f20cf": {
          "model_module": "@jupyter-widgets/controls",
          "model_name": "HBoxModel",
          "model_module_version": "1.5.0",
          "state": {
            "_dom_classes": [],
            "_model_module": "@jupyter-widgets/controls",
            "_model_module_version": "1.5.0",
            "_model_name": "HBoxModel",
            "_view_count": null,
            "_view_module": "@jupyter-widgets/controls",
            "_view_module_version": "1.5.0",
            "_view_name": "HBoxView",
            "box_style": "",
            "children": [
              "IPY_MODEL_c6f7e498ec6d4e738d6661ab6d29d08d",
              "IPY_MODEL_bae1c06c88b645718e941695386c796e",
              "IPY_MODEL_165b886b816f4f55b5c9f75aae7d78a3"
            ],
            "layout": "IPY_MODEL_15ce1105945643e4b26da0ae87bb4300"
          }
        },
        "c6f7e498ec6d4e738d6661ab6d29d08d": {
          "model_module": "@jupyter-widgets/controls",
          "model_name": "HTMLModel",
          "model_module_version": "1.5.0",
          "state": {
            "_dom_classes": [],
            "_model_module": "@jupyter-widgets/controls",
            "_model_module_version": "1.5.0",
            "_model_name": "HTMLModel",
            "_view_count": null,
            "_view_module": "@jupyter-widgets/controls",
            "_view_module_version": "1.5.0",
            "_view_name": "HTMLView",
            "description": "",
            "description_tooltip": null,
            "layout": "IPY_MODEL_d5efc756b52b405692d43d4c89b1ef9a",
            "placeholder": "​",
            "style": "IPY_MODEL_cd3a0b5efa2740298601458f00fa3d57",
            "value": "100%"
          }
        },
        "bae1c06c88b645718e941695386c796e": {
          "model_module": "@jupyter-widgets/controls",
          "model_name": "FloatProgressModel",
          "model_module_version": "1.5.0",
          "state": {
            "_dom_classes": [],
            "_model_module": "@jupyter-widgets/controls",
            "_model_module_version": "1.5.0",
            "_model_name": "FloatProgressModel",
            "_view_count": null,
            "_view_module": "@jupyter-widgets/controls",
            "_view_module_version": "1.5.0",
            "_view_name": "ProgressView",
            "bar_style": "success",
            "description": "",
            "description_tooltip": null,
            "layout": "IPY_MODEL_ee2221893a384312b5cc5a1f419ad5f6",
            "max": 29515,
            "min": 0,
            "orientation": "horizontal",
            "style": "IPY_MODEL_7e4475c5b465433ca6c533e981732f30",
            "value": 29515
          }
        },
        "165b886b816f4f55b5c9f75aae7d78a3": {
          "model_module": "@jupyter-widgets/controls",
          "model_name": "HTMLModel",
          "model_module_version": "1.5.0",
          "state": {
            "_dom_classes": [],
            "_model_module": "@jupyter-widgets/controls",
            "_model_module_version": "1.5.0",
            "_model_name": "HTMLModel",
            "_view_count": null,
            "_view_module": "@jupyter-widgets/controls",
            "_view_module_version": "1.5.0",
            "_view_name": "HTMLView",
            "description": "",
            "description_tooltip": null,
            "layout": "IPY_MODEL_1c894470f6e7458aac39d9e67b98a9a8",
            "placeholder": "​",
            "style": "IPY_MODEL_d18f74c7afaf4b13b434382786788fea",
            "value": " 29515/29515 [00:00&lt;00:00, 147050.47it/s]"
          }
        },
        "15ce1105945643e4b26da0ae87bb4300": {
          "model_module": "@jupyter-widgets/base",
          "model_name": "LayoutModel",
          "model_module_version": "1.2.0",
          "state": {
            "_model_module": "@jupyter-widgets/base",
            "_model_module_version": "1.2.0",
            "_model_name": "LayoutModel",
            "_view_count": null,
            "_view_module": "@jupyter-widgets/base",
            "_view_module_version": "1.2.0",
            "_view_name": "LayoutView",
            "align_content": null,
            "align_items": null,
            "align_self": null,
            "border": null,
            "bottom": null,
            "display": null,
            "flex": null,
            "flex_flow": null,
            "grid_area": null,
            "grid_auto_columns": null,
            "grid_auto_flow": null,
            "grid_auto_rows": null,
            "grid_column": null,
            "grid_gap": null,
            "grid_row": null,
            "grid_template_areas": null,
            "grid_template_columns": null,
            "grid_template_rows": null,
            "height": null,
            "justify_content": null,
            "justify_items": null,
            "left": null,
            "margin": null,
            "max_height": null,
            "max_width": null,
            "min_height": null,
            "min_width": null,
            "object_fit": null,
            "object_position": null,
            "order": null,
            "overflow": null,
            "overflow_x": null,
            "overflow_y": null,
            "padding": null,
            "right": null,
            "top": null,
            "visibility": null,
            "width": null
          }
        },
        "d5efc756b52b405692d43d4c89b1ef9a": {
          "model_module": "@jupyter-widgets/base",
          "model_name": "LayoutModel",
          "model_module_version": "1.2.0",
          "state": {
            "_model_module": "@jupyter-widgets/base",
            "_model_module_version": "1.2.0",
            "_model_name": "LayoutModel",
            "_view_count": null,
            "_view_module": "@jupyter-widgets/base",
            "_view_module_version": "1.2.0",
            "_view_name": "LayoutView",
            "align_content": null,
            "align_items": null,
            "align_self": null,
            "border": null,
            "bottom": null,
            "display": null,
            "flex": null,
            "flex_flow": null,
            "grid_area": null,
            "grid_auto_columns": null,
            "grid_auto_flow": null,
            "grid_auto_rows": null,
            "grid_column": null,
            "grid_gap": null,
            "grid_row": null,
            "grid_template_areas": null,
            "grid_template_columns": null,
            "grid_template_rows": null,
            "height": null,
            "justify_content": null,
            "justify_items": null,
            "left": null,
            "margin": null,
            "max_height": null,
            "max_width": null,
            "min_height": null,
            "min_width": null,
            "object_fit": null,
            "object_position": null,
            "order": null,
            "overflow": null,
            "overflow_x": null,
            "overflow_y": null,
            "padding": null,
            "right": null,
            "top": null,
            "visibility": null,
            "width": null
          }
        },
        "cd3a0b5efa2740298601458f00fa3d57": {
          "model_module": "@jupyter-widgets/controls",
          "model_name": "DescriptionStyleModel",
          "model_module_version": "1.5.0",
          "state": {
            "_model_module": "@jupyter-widgets/controls",
            "_model_module_version": "1.5.0",
            "_model_name": "DescriptionStyleModel",
            "_view_count": null,
            "_view_module": "@jupyter-widgets/base",
            "_view_module_version": "1.2.0",
            "_view_name": "StyleView",
            "description_width": ""
          }
        },
        "ee2221893a384312b5cc5a1f419ad5f6": {
          "model_module": "@jupyter-widgets/base",
          "model_name": "LayoutModel",
          "model_module_version": "1.2.0",
          "state": {
            "_model_module": "@jupyter-widgets/base",
            "_model_module_version": "1.2.0",
            "_model_name": "LayoutModel",
            "_view_count": null,
            "_view_module": "@jupyter-widgets/base",
            "_view_module_version": "1.2.0",
            "_view_name": "LayoutView",
            "align_content": null,
            "align_items": null,
            "align_self": null,
            "border": null,
            "bottom": null,
            "display": null,
            "flex": null,
            "flex_flow": null,
            "grid_area": null,
            "grid_auto_columns": null,
            "grid_auto_flow": null,
            "grid_auto_rows": null,
            "grid_column": null,
            "grid_gap": null,
            "grid_row": null,
            "grid_template_areas": null,
            "grid_template_columns": null,
            "grid_template_rows": null,
            "height": null,
            "justify_content": null,
            "justify_items": null,
            "left": null,
            "margin": null,
            "max_height": null,
            "max_width": null,
            "min_height": null,
            "min_width": null,
            "object_fit": null,
            "object_position": null,
            "order": null,
            "overflow": null,
            "overflow_x": null,
            "overflow_y": null,
            "padding": null,
            "right": null,
            "top": null,
            "visibility": null,
            "width": null
          }
        },
        "7e4475c5b465433ca6c533e981732f30": {
          "model_module": "@jupyter-widgets/controls",
          "model_name": "ProgressStyleModel",
          "model_module_version": "1.5.0",
          "state": {
            "_model_module": "@jupyter-widgets/controls",
            "_model_module_version": "1.5.0",
            "_model_name": "ProgressStyleModel",
            "_view_count": null,
            "_view_module": "@jupyter-widgets/base",
            "_view_module_version": "1.2.0",
            "_view_name": "StyleView",
            "bar_color": null,
            "description_width": ""
          }
        },
        "1c894470f6e7458aac39d9e67b98a9a8": {
          "model_module": "@jupyter-widgets/base",
          "model_name": "LayoutModel",
          "model_module_version": "1.2.0",
          "state": {
            "_model_module": "@jupyter-widgets/base",
            "_model_module_version": "1.2.0",
            "_model_name": "LayoutModel",
            "_view_count": null,
            "_view_module": "@jupyter-widgets/base",
            "_view_module_version": "1.2.0",
            "_view_name": "LayoutView",
            "align_content": null,
            "align_items": null,
            "align_self": null,
            "border": null,
            "bottom": null,
            "display": null,
            "flex": null,
            "flex_flow": null,
            "grid_area": null,
            "grid_auto_columns": null,
            "grid_auto_flow": null,
            "grid_auto_rows": null,
            "grid_column": null,
            "grid_gap": null,
            "grid_row": null,
            "grid_template_areas": null,
            "grid_template_columns": null,
            "grid_template_rows": null,
            "height": null,
            "justify_content": null,
            "justify_items": null,
            "left": null,
            "margin": null,
            "max_height": null,
            "max_width": null,
            "min_height": null,
            "min_width": null,
            "object_fit": null,
            "object_position": null,
            "order": null,
            "overflow": null,
            "overflow_x": null,
            "overflow_y": null,
            "padding": null,
            "right": null,
            "top": null,
            "visibility": null,
            "width": null
          }
        },
        "d18f74c7afaf4b13b434382786788fea": {
          "model_module": "@jupyter-widgets/controls",
          "model_name": "DescriptionStyleModel",
          "model_module_version": "1.5.0",
          "state": {
            "_model_module": "@jupyter-widgets/controls",
            "_model_module_version": "1.5.0",
            "_model_name": "DescriptionStyleModel",
            "_view_count": null,
            "_view_module": "@jupyter-widgets/base",
            "_view_module_version": "1.2.0",
            "_view_name": "StyleView",
            "description_width": ""
          }
        },
        "2d198dfde8ea44d3a29ae69665376c85": {
          "model_module": "@jupyter-widgets/controls",
          "model_name": "HBoxModel",
          "model_module_version": "1.5.0",
          "state": {
            "_dom_classes": [],
            "_model_module": "@jupyter-widgets/controls",
            "_model_module_version": "1.5.0",
            "_model_name": "HBoxModel",
            "_view_count": null,
            "_view_module": "@jupyter-widgets/controls",
            "_view_module_version": "1.5.0",
            "_view_name": "HBoxView",
            "box_style": "",
            "children": [
              "IPY_MODEL_62ba328ab25a4086973628e810df7b3c",
              "IPY_MODEL_1ab3a769100247bb9a91ca4a78b53403",
              "IPY_MODEL_459ac33bdca440e892f5c9866e882b10"
            ],
            "layout": "IPY_MODEL_fa3c8b4fb6c244d79b2f0073aba0b096"
          }
        },
        "62ba328ab25a4086973628e810df7b3c": {
          "model_module": "@jupyter-widgets/controls",
          "model_name": "HTMLModel",
          "model_module_version": "1.5.0",
          "state": {
            "_dom_classes": [],
            "_model_module": "@jupyter-widgets/controls",
            "_model_module_version": "1.5.0",
            "_model_name": "HTMLModel",
            "_view_count": null,
            "_view_module": "@jupyter-widgets/controls",
            "_view_module_version": "1.5.0",
            "_view_name": "HTMLView",
            "description": "",
            "description_tooltip": null,
            "layout": "IPY_MODEL_8e9134a13b824773bee81a3cb3c281db",
            "placeholder": "​",
            "style": "IPY_MODEL_c4a008a84768434784114598efe4a8d7",
            "value": "100%"
          }
        },
        "1ab3a769100247bb9a91ca4a78b53403": {
          "model_module": "@jupyter-widgets/controls",
          "model_name": "FloatProgressModel",
          "model_module_version": "1.5.0",
          "state": {
            "_dom_classes": [],
            "_model_module": "@jupyter-widgets/controls",
            "_model_module_version": "1.5.0",
            "_model_name": "FloatProgressModel",
            "_view_count": null,
            "_view_module": "@jupyter-widgets/controls",
            "_view_module_version": "1.5.0",
            "_view_name": "ProgressView",
            "bar_style": "success",
            "description": "",
            "description_tooltip": null,
            "layout": "IPY_MODEL_afde3c6e68784a72b65c5dc4e26b5ad0",
            "max": 4422102,
            "min": 0,
            "orientation": "horizontal",
            "style": "IPY_MODEL_d1c3b9d8215a4497bd8cac5a14eb0a63",
            "value": 4422102
          }
        },
        "459ac33bdca440e892f5c9866e882b10": {
          "model_module": "@jupyter-widgets/controls",
          "model_name": "HTMLModel",
          "model_module_version": "1.5.0",
          "state": {
            "_dom_classes": [],
            "_model_module": "@jupyter-widgets/controls",
            "_model_module_version": "1.5.0",
            "_model_name": "HTMLModel",
            "_view_count": null,
            "_view_module": "@jupyter-widgets/controls",
            "_view_module_version": "1.5.0",
            "_view_name": "HTMLView",
            "description": "",
            "description_tooltip": null,
            "layout": "IPY_MODEL_de33ec2382f5400f8c418389116cad6d",
            "placeholder": "​",
            "style": "IPY_MODEL_afece3fd8a56468c8e06270662a7bbef",
            "value": " 4422102/4422102 [00:01&lt;00:00, 4627253.04it/s]"
          }
        },
        "fa3c8b4fb6c244d79b2f0073aba0b096": {
          "model_module": "@jupyter-widgets/base",
          "model_name": "LayoutModel",
          "model_module_version": "1.2.0",
          "state": {
            "_model_module": "@jupyter-widgets/base",
            "_model_module_version": "1.2.0",
            "_model_name": "LayoutModel",
            "_view_count": null,
            "_view_module": "@jupyter-widgets/base",
            "_view_module_version": "1.2.0",
            "_view_name": "LayoutView",
            "align_content": null,
            "align_items": null,
            "align_self": null,
            "border": null,
            "bottom": null,
            "display": null,
            "flex": null,
            "flex_flow": null,
            "grid_area": null,
            "grid_auto_columns": null,
            "grid_auto_flow": null,
            "grid_auto_rows": null,
            "grid_column": null,
            "grid_gap": null,
            "grid_row": null,
            "grid_template_areas": null,
            "grid_template_columns": null,
            "grid_template_rows": null,
            "height": null,
            "justify_content": null,
            "justify_items": null,
            "left": null,
            "margin": null,
            "max_height": null,
            "max_width": null,
            "min_height": null,
            "min_width": null,
            "object_fit": null,
            "object_position": null,
            "order": null,
            "overflow": null,
            "overflow_x": null,
            "overflow_y": null,
            "padding": null,
            "right": null,
            "top": null,
            "visibility": null,
            "width": null
          }
        },
        "8e9134a13b824773bee81a3cb3c281db": {
          "model_module": "@jupyter-widgets/base",
          "model_name": "LayoutModel",
          "model_module_version": "1.2.0",
          "state": {
            "_model_module": "@jupyter-widgets/base",
            "_model_module_version": "1.2.0",
            "_model_name": "LayoutModel",
            "_view_count": null,
            "_view_module": "@jupyter-widgets/base",
            "_view_module_version": "1.2.0",
            "_view_name": "LayoutView",
            "align_content": null,
            "align_items": null,
            "align_self": null,
            "border": null,
            "bottom": null,
            "display": null,
            "flex": null,
            "flex_flow": null,
            "grid_area": null,
            "grid_auto_columns": null,
            "grid_auto_flow": null,
            "grid_auto_rows": null,
            "grid_column": null,
            "grid_gap": null,
            "grid_row": null,
            "grid_template_areas": null,
            "grid_template_columns": null,
            "grid_template_rows": null,
            "height": null,
            "justify_content": null,
            "justify_items": null,
            "left": null,
            "margin": null,
            "max_height": null,
            "max_width": null,
            "min_height": null,
            "min_width": null,
            "object_fit": null,
            "object_position": null,
            "order": null,
            "overflow": null,
            "overflow_x": null,
            "overflow_y": null,
            "padding": null,
            "right": null,
            "top": null,
            "visibility": null,
            "width": null
          }
        },
        "c4a008a84768434784114598efe4a8d7": {
          "model_module": "@jupyter-widgets/controls",
          "model_name": "DescriptionStyleModel",
          "model_module_version": "1.5.0",
          "state": {
            "_model_module": "@jupyter-widgets/controls",
            "_model_module_version": "1.5.0",
            "_model_name": "DescriptionStyleModel",
            "_view_count": null,
            "_view_module": "@jupyter-widgets/base",
            "_view_module_version": "1.2.0",
            "_view_name": "StyleView",
            "description_width": ""
          }
        },
        "afde3c6e68784a72b65c5dc4e26b5ad0": {
          "model_module": "@jupyter-widgets/base",
          "model_name": "LayoutModel",
          "model_module_version": "1.2.0",
          "state": {
            "_model_module": "@jupyter-widgets/base",
            "_model_module_version": "1.2.0",
            "_model_name": "LayoutModel",
            "_view_count": null,
            "_view_module": "@jupyter-widgets/base",
            "_view_module_version": "1.2.0",
            "_view_name": "LayoutView",
            "align_content": null,
            "align_items": null,
            "align_self": null,
            "border": null,
            "bottom": null,
            "display": null,
            "flex": null,
            "flex_flow": null,
            "grid_area": null,
            "grid_auto_columns": null,
            "grid_auto_flow": null,
            "grid_auto_rows": null,
            "grid_column": null,
            "grid_gap": null,
            "grid_row": null,
            "grid_template_areas": null,
            "grid_template_columns": null,
            "grid_template_rows": null,
            "height": null,
            "justify_content": null,
            "justify_items": null,
            "left": null,
            "margin": null,
            "max_height": null,
            "max_width": null,
            "min_height": null,
            "min_width": null,
            "object_fit": null,
            "object_position": null,
            "order": null,
            "overflow": null,
            "overflow_x": null,
            "overflow_y": null,
            "padding": null,
            "right": null,
            "top": null,
            "visibility": null,
            "width": null
          }
        },
        "d1c3b9d8215a4497bd8cac5a14eb0a63": {
          "model_module": "@jupyter-widgets/controls",
          "model_name": "ProgressStyleModel",
          "model_module_version": "1.5.0",
          "state": {
            "_model_module": "@jupyter-widgets/controls",
            "_model_module_version": "1.5.0",
            "_model_name": "ProgressStyleModel",
            "_view_count": null,
            "_view_module": "@jupyter-widgets/base",
            "_view_module_version": "1.2.0",
            "_view_name": "StyleView",
            "bar_color": null,
            "description_width": ""
          }
        },
        "de33ec2382f5400f8c418389116cad6d": {
          "model_module": "@jupyter-widgets/base",
          "model_name": "LayoutModel",
          "model_module_version": "1.2.0",
          "state": {
            "_model_module": "@jupyter-widgets/base",
            "_model_module_version": "1.2.0",
            "_model_name": "LayoutModel",
            "_view_count": null,
            "_view_module": "@jupyter-widgets/base",
            "_view_module_version": "1.2.0",
            "_view_name": "LayoutView",
            "align_content": null,
            "align_items": null,
            "align_self": null,
            "border": null,
            "bottom": null,
            "display": null,
            "flex": null,
            "flex_flow": null,
            "grid_area": null,
            "grid_auto_columns": null,
            "grid_auto_flow": null,
            "grid_auto_rows": null,
            "grid_column": null,
            "grid_gap": null,
            "grid_row": null,
            "grid_template_areas": null,
            "grid_template_columns": null,
            "grid_template_rows": null,
            "height": null,
            "justify_content": null,
            "justify_items": null,
            "left": null,
            "margin": null,
            "max_height": null,
            "max_width": null,
            "min_height": null,
            "min_width": null,
            "object_fit": null,
            "object_position": null,
            "order": null,
            "overflow": null,
            "overflow_x": null,
            "overflow_y": null,
            "padding": null,
            "right": null,
            "top": null,
            "visibility": null,
            "width": null
          }
        },
        "afece3fd8a56468c8e06270662a7bbef": {
          "model_module": "@jupyter-widgets/controls",
          "model_name": "DescriptionStyleModel",
          "model_module_version": "1.5.0",
          "state": {
            "_model_module": "@jupyter-widgets/controls",
            "_model_module_version": "1.5.0",
            "_model_name": "DescriptionStyleModel",
            "_view_count": null,
            "_view_module": "@jupyter-widgets/base",
            "_view_module_version": "1.2.0",
            "_view_name": "StyleView",
            "description_width": ""
          }
        },
        "8b437266a7bd46c1a4eb50acafd15f75": {
          "model_module": "@jupyter-widgets/controls",
          "model_name": "HBoxModel",
          "model_module_version": "1.5.0",
          "state": {
            "_dom_classes": [],
            "_model_module": "@jupyter-widgets/controls",
            "_model_module_version": "1.5.0",
            "_model_name": "HBoxModel",
            "_view_count": null,
            "_view_module": "@jupyter-widgets/controls",
            "_view_module_version": "1.5.0",
            "_view_name": "HBoxView",
            "box_style": "",
            "children": [
              "IPY_MODEL_0ac5b197605e4e78b4e4cebf224beb7a",
              "IPY_MODEL_9e60ac53d5c7446db41dc6f903734bcb",
              "IPY_MODEL_778ff989b78c4eeeb74d3df48a3a1abd"
            ],
            "layout": "IPY_MODEL_3c71bdf084f4470589192b0648d42732"
          }
        },
        "0ac5b197605e4e78b4e4cebf224beb7a": {
          "model_module": "@jupyter-widgets/controls",
          "model_name": "HTMLModel",
          "model_module_version": "1.5.0",
          "state": {
            "_dom_classes": [],
            "_model_module": "@jupyter-widgets/controls",
            "_model_module_version": "1.5.0",
            "_model_name": "HTMLModel",
            "_view_count": null,
            "_view_module": "@jupyter-widgets/controls",
            "_view_module_version": "1.5.0",
            "_view_name": "HTMLView",
            "description": "",
            "description_tooltip": null,
            "layout": "IPY_MODEL_a57cb6b6fe39442483e9f45cd8ce8b73",
            "placeholder": "​",
            "style": "IPY_MODEL_6f8d8182327a404e85fc58a374dee822",
            "value": "100%"
          }
        },
        "9e60ac53d5c7446db41dc6f903734bcb": {
          "model_module": "@jupyter-widgets/controls",
          "model_name": "FloatProgressModel",
          "model_module_version": "1.5.0",
          "state": {
            "_dom_classes": [],
            "_model_module": "@jupyter-widgets/controls",
            "_model_module_version": "1.5.0",
            "_model_name": "FloatProgressModel",
            "_view_count": null,
            "_view_module": "@jupyter-widgets/controls",
            "_view_module_version": "1.5.0",
            "_view_name": "ProgressView",
            "bar_style": "success",
            "description": "",
            "description_tooltip": null,
            "layout": "IPY_MODEL_689dcdf2abd9407cb354514f797b1783",
            "max": 5148,
            "min": 0,
            "orientation": "horizontal",
            "style": "IPY_MODEL_1d50e4b0ede54f8da1de13dc8e6824b8",
            "value": 5148
          }
        },
        "778ff989b78c4eeeb74d3df48a3a1abd": {
          "model_module": "@jupyter-widgets/controls",
          "model_name": "HTMLModel",
          "model_module_version": "1.5.0",
          "state": {
            "_dom_classes": [],
            "_model_module": "@jupyter-widgets/controls",
            "_model_module_version": "1.5.0",
            "_model_name": "HTMLModel",
            "_view_count": null,
            "_view_module": "@jupyter-widgets/controls",
            "_view_module_version": "1.5.0",
            "_view_name": "HTMLView",
            "description": "",
            "description_tooltip": null,
            "layout": "IPY_MODEL_b283b02c71204b6ab866f0f54070d22e",
            "placeholder": "​",
            "style": "IPY_MODEL_70af70efbd2e440abc87507a4e48e267",
            "value": " 5148/5148 [00:00&lt;00:00, 119687.13it/s]"
          }
        },
        "3c71bdf084f4470589192b0648d42732": {
          "model_module": "@jupyter-widgets/base",
          "model_name": "LayoutModel",
          "model_module_version": "1.2.0",
          "state": {
            "_model_module": "@jupyter-widgets/base",
            "_model_module_version": "1.2.0",
            "_model_name": "LayoutModel",
            "_view_count": null,
            "_view_module": "@jupyter-widgets/base",
            "_view_module_version": "1.2.0",
            "_view_name": "LayoutView",
            "align_content": null,
            "align_items": null,
            "align_self": null,
            "border": null,
            "bottom": null,
            "display": null,
            "flex": null,
            "flex_flow": null,
            "grid_area": null,
            "grid_auto_columns": null,
            "grid_auto_flow": null,
            "grid_auto_rows": null,
            "grid_column": null,
            "grid_gap": null,
            "grid_row": null,
            "grid_template_areas": null,
            "grid_template_columns": null,
            "grid_template_rows": null,
            "height": null,
            "justify_content": null,
            "justify_items": null,
            "left": null,
            "margin": null,
            "max_height": null,
            "max_width": null,
            "min_height": null,
            "min_width": null,
            "object_fit": null,
            "object_position": null,
            "order": null,
            "overflow": null,
            "overflow_x": null,
            "overflow_y": null,
            "padding": null,
            "right": null,
            "top": null,
            "visibility": null,
            "width": null
          }
        },
        "a57cb6b6fe39442483e9f45cd8ce8b73": {
          "model_module": "@jupyter-widgets/base",
          "model_name": "LayoutModel",
          "model_module_version": "1.2.0",
          "state": {
            "_model_module": "@jupyter-widgets/base",
            "_model_module_version": "1.2.0",
            "_model_name": "LayoutModel",
            "_view_count": null,
            "_view_module": "@jupyter-widgets/base",
            "_view_module_version": "1.2.0",
            "_view_name": "LayoutView",
            "align_content": null,
            "align_items": null,
            "align_self": null,
            "border": null,
            "bottom": null,
            "display": null,
            "flex": null,
            "flex_flow": null,
            "grid_area": null,
            "grid_auto_columns": null,
            "grid_auto_flow": null,
            "grid_auto_rows": null,
            "grid_column": null,
            "grid_gap": null,
            "grid_row": null,
            "grid_template_areas": null,
            "grid_template_columns": null,
            "grid_template_rows": null,
            "height": null,
            "justify_content": null,
            "justify_items": null,
            "left": null,
            "margin": null,
            "max_height": null,
            "max_width": null,
            "min_height": null,
            "min_width": null,
            "object_fit": null,
            "object_position": null,
            "order": null,
            "overflow": null,
            "overflow_x": null,
            "overflow_y": null,
            "padding": null,
            "right": null,
            "top": null,
            "visibility": null,
            "width": null
          }
        },
        "6f8d8182327a404e85fc58a374dee822": {
          "model_module": "@jupyter-widgets/controls",
          "model_name": "DescriptionStyleModel",
          "model_module_version": "1.5.0",
          "state": {
            "_model_module": "@jupyter-widgets/controls",
            "_model_module_version": "1.5.0",
            "_model_name": "DescriptionStyleModel",
            "_view_count": null,
            "_view_module": "@jupyter-widgets/base",
            "_view_module_version": "1.2.0",
            "_view_name": "StyleView",
            "description_width": ""
          }
        },
        "689dcdf2abd9407cb354514f797b1783": {
          "model_module": "@jupyter-widgets/base",
          "model_name": "LayoutModel",
          "model_module_version": "1.2.0",
          "state": {
            "_model_module": "@jupyter-widgets/base",
            "_model_module_version": "1.2.0",
            "_model_name": "LayoutModel",
            "_view_count": null,
            "_view_module": "@jupyter-widgets/base",
            "_view_module_version": "1.2.0",
            "_view_name": "LayoutView",
            "align_content": null,
            "align_items": null,
            "align_self": null,
            "border": null,
            "bottom": null,
            "display": null,
            "flex": null,
            "flex_flow": null,
            "grid_area": null,
            "grid_auto_columns": null,
            "grid_auto_flow": null,
            "grid_auto_rows": null,
            "grid_column": null,
            "grid_gap": null,
            "grid_row": null,
            "grid_template_areas": null,
            "grid_template_columns": null,
            "grid_template_rows": null,
            "height": null,
            "justify_content": null,
            "justify_items": null,
            "left": null,
            "margin": null,
            "max_height": null,
            "max_width": null,
            "min_height": null,
            "min_width": null,
            "object_fit": null,
            "object_position": null,
            "order": null,
            "overflow": null,
            "overflow_x": null,
            "overflow_y": null,
            "padding": null,
            "right": null,
            "top": null,
            "visibility": null,
            "width": null
          }
        },
        "1d50e4b0ede54f8da1de13dc8e6824b8": {
          "model_module": "@jupyter-widgets/controls",
          "model_name": "ProgressStyleModel",
          "model_module_version": "1.5.0",
          "state": {
            "_model_module": "@jupyter-widgets/controls",
            "_model_module_version": "1.5.0",
            "_model_name": "ProgressStyleModel",
            "_view_count": null,
            "_view_module": "@jupyter-widgets/base",
            "_view_module_version": "1.2.0",
            "_view_name": "StyleView",
            "bar_color": null,
            "description_width": ""
          }
        },
        "b283b02c71204b6ab866f0f54070d22e": {
          "model_module": "@jupyter-widgets/base",
          "model_name": "LayoutModel",
          "model_module_version": "1.2.0",
          "state": {
            "_model_module": "@jupyter-widgets/base",
            "_model_module_version": "1.2.0",
            "_model_name": "LayoutModel",
            "_view_count": null,
            "_view_module": "@jupyter-widgets/base",
            "_view_module_version": "1.2.0",
            "_view_name": "LayoutView",
            "align_content": null,
            "align_items": null,
            "align_self": null,
            "border": null,
            "bottom": null,
            "display": null,
            "flex": null,
            "flex_flow": null,
            "grid_area": null,
            "grid_auto_columns": null,
            "grid_auto_flow": null,
            "grid_auto_rows": null,
            "grid_column": null,
            "grid_gap": null,
            "grid_row": null,
            "grid_template_areas": null,
            "grid_template_columns": null,
            "grid_template_rows": null,
            "height": null,
            "justify_content": null,
            "justify_items": null,
            "left": null,
            "margin": null,
            "max_height": null,
            "max_width": null,
            "min_height": null,
            "min_width": null,
            "object_fit": null,
            "object_position": null,
            "order": null,
            "overflow": null,
            "overflow_x": null,
            "overflow_y": null,
            "padding": null,
            "right": null,
            "top": null,
            "visibility": null,
            "width": null
          }
        },
        "70af70efbd2e440abc87507a4e48e267": {
          "model_module": "@jupyter-widgets/controls",
          "model_name": "DescriptionStyleModel",
          "model_module_version": "1.5.0",
          "state": {
            "_model_module": "@jupyter-widgets/controls",
            "_model_module_version": "1.5.0",
            "_model_name": "DescriptionStyleModel",
            "_view_count": null,
            "_view_module": "@jupyter-widgets/base",
            "_view_module_version": "1.2.0",
            "_view_name": "StyleView",
            "description_width": ""
          }
        }
      }
    }
  },
  "nbformat": 4,
  "nbformat_minor": 0
}