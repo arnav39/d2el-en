{
  "nbformat": 4,
  "nbformat_minor": 0,
  "metadata": {
    "colab": {
      "provenance": [],
      "collapsed_sections": [
        "EDxS6hIWYtRZ"
      ],
      "authorship_tag": "ABX9TyOZV12J6xvRwfMzQN5Gjjj7",
      "include_colab_link": true
    },
    "kernelspec": {
      "name": "python3",
      "display_name": "Python 3"
    },
    "language_info": {
      "name": "python"
    }
  },
  "cells": [
    {
      "cell_type": "markdown",
      "metadata": {
        "id": "view-in-github",
        "colab_type": "text"
      },
      "source": [
        "<a href=\"https://colab.research.google.com/github/arnav39/d2el-en/blob/main/7_4-7_5.ipynb\" target=\"_parent\"><img src=\"https://colab.research.google.com/assets/colab-badge.svg\" alt=\"Open In Colab\"/></a>"
      ]
    },
    {
      "cell_type": "markdown",
      "source": [
        "# 7.4 : Multiple Input and Multiple Output channels"
      ],
      "metadata": {
        "id": "EDxS6hIWYtRZ"
      }
    },
    {
      "cell_type": "code",
      "execution_count": null,
      "metadata": {
        "id": "j6jn6qe6Yq2i"
      },
      "outputs": [],
      "source": [
        "!pip install matplotlib_inline\n",
        "!pip install --upgrade d2l==1.0.0a0"
      ]
    },
    {
      "cell_type": "code",
      "source": [
        "import torch\n",
        "from d2l import torch as d2l"
      ],
      "metadata": {
        "colab": {
          "base_uri": "https://localhost:8080/"
        },
        "id": "dG3wk0w_Zztz",
        "outputId": "4f21affc-6c31-41eb-cd3e-3723d66f8c3d"
      },
      "execution_count": 2,
      "outputs": [
        {
          "output_type": "stream",
          "name": "stderr",
          "text": [
            "/usr/local/lib/python3.8/dist-packages/torch/cuda/__init__.py:497: UserWarning: Can't initialize NVML\n",
            "  warnings.warn(\"Can't initialize NVML\")\n"
          ]
        }
      ]
    },
    {
      "cell_type": "code",
      "source": [
        "def corr2d(X, K):\n",
        "  h, w = K.shape\n",
        "  Y = torch.zeros(X.shape[0]-h+1, X.shape[1]-w+1)\n",
        "\n",
        "  for i in range(Y.shape[0]):\n",
        "    for j in range(Y.shape[1]):\n",
        "      Y[i, j] = (X[i:i+h, j:j+w] * K).sum()\n",
        "  return Y"
      ],
      "metadata": {
        "id": "5a45SPBgZ3HF"
      },
      "execution_count": 3,
      "outputs": []
    },
    {
      "cell_type": "code",
      "source": [
        "X = torch.arange(1, 10, dtype=torch.float32).reshape(3, 3)\n",
        "K = torch.arange(1, 5, dtype=torch.float32).reshape(2, 2)\n",
        "print(X, K)"
      ],
      "metadata": {
        "colab": {
          "base_uri": "https://localhost:8080/"
        },
        "id": "t1BnDRLvapzA",
        "outputId": "832663cc-3e83-47db-f174-eff69fe288eb"
      },
      "execution_count": 4,
      "outputs": [
        {
          "output_type": "stream",
          "name": "stdout",
          "text": [
            "tensor([[1., 2., 3.],\n",
            "        [4., 5., 6.],\n",
            "        [7., 8., 9.]]) tensor([[1., 2.],\n",
            "        [3., 4.]])\n"
          ]
        }
      ]
    },
    {
      "cell_type": "code",
      "source": [
        "corr2d(X, K)"
      ],
      "metadata": {
        "colab": {
          "base_uri": "https://localhost:8080/"
        },
        "id": "Ee4_EW2Ba2cc",
        "outputId": "48618918-42b4-4209-df4a-059928954f48"
      },
      "execution_count": 5,
      "outputs": [
        {
          "output_type": "execute_result",
          "data": {
            "text/plain": [
              "tensor([[37., 47.],\n",
              "        [67., 77.]])"
            ]
          },
          "metadata": {},
          "execution_count": 5
        }
      ]
    },
    {
      "cell_type": "code",
      "source": [
        "def corr2d_multi_in(X, K):\n",
        "  # iterate through the zero'th dimension of K first, then add them up\n",
        "  return sum(corr2d(x, k) for x, k in zip(X, K))"
      ],
      "metadata": {
        "id": "Iv8xK9f_a5CR"
      },
      "execution_count": 6,
      "outputs": []
    },
    {
      "cell_type": "code",
      "source": [
        "torch.stack??"
      ],
      "metadata": {
        "id": "bqYZwvEGcxSZ"
      },
      "execution_count": 7,
      "outputs": []
    },
    {
      "cell_type": "code",
      "source": [
        "x1 = torch.arange(1, 10, dtype=torch.float32).reshape(3, 3)\n",
        "x2 = torch.arange(0, 9, dtype=torch.float32).reshape(3, 3)\n",
        "print(x1, '\\n', x2)\n",
        "\n",
        "X = torch.stack([x1, x2])\n",
        "print(X.shape)\n",
        "\n",
        "k1 = torch.arange(1, 5, dtype=torch.float32).reshape(2, 2)\n",
        "k2 = torch.arange(0, 4, dtype=torch.float32).reshape(2, 2)\n",
        "print(k1, '\\n', k2)\n",
        "\n",
        "K = torch.stack([k1, k2])\n",
        "print(K.shape)"
      ],
      "metadata": {
        "colab": {
          "base_uri": "https://localhost:8080/"
        },
        "id": "h5eEqjmwcg6N",
        "outputId": "231921ec-828b-4e23-ea6d-2d82b54e6eb2"
      },
      "execution_count": 8,
      "outputs": [
        {
          "output_type": "stream",
          "name": "stdout",
          "text": [
            "tensor([[1., 2., 3.],\n",
            "        [4., 5., 6.],\n",
            "        [7., 8., 9.]]) \n",
            " tensor([[0., 1., 2.],\n",
            "        [3., 4., 5.],\n",
            "        [6., 7., 8.]])\n",
            "torch.Size([2, 3, 3])\n",
            "tensor([[1., 2.],\n",
            "        [3., 4.]]) \n",
            " tensor([[0., 1.],\n",
            "        [2., 3.]])\n",
            "torch.Size([2, 2, 2])\n"
          ]
        }
      ]
    },
    {
      "cell_type": "code",
      "source": [
        "corr2d_multi_in(X, K)"
      ],
      "metadata": {
        "colab": {
          "base_uri": "https://localhost:8080/"
        },
        "id": "nYRIRsssdhl0",
        "outputId": "c557f134-85bc-429a-a347-cae4f7819c5e"
      },
      "execution_count": 9,
      "outputs": [
        {
          "output_type": "execute_result",
          "data": {
            "text/plain": [
              "tensor([[ 56.,  72.],\n",
              "        [104., 120.]])"
            ]
          },
          "metadata": {},
          "execution_count": 9
        }
      ]
    },
    {
      "cell_type": "code",
      "source": [
        "X = torch.rand(3, 3, 3)\n",
        "K = torch.rand(3, 2, 2)\n",
        "zip(X, K)"
      ],
      "metadata": {
        "colab": {
          "base_uri": "https://localhost:8080/"
        },
        "id": "Kij40HlDbdV-",
        "outputId": "e464cc89-4ae7-4dbd-cbf0-445631ec3da0"
      },
      "execution_count": 10,
      "outputs": [
        {
          "output_type": "execute_result",
          "data": {
            "text/plain": [
              "<zip at 0x7f00dae9ad40>"
            ]
          },
          "metadata": {},
          "execution_count": 10
        }
      ]
    },
    {
      "cell_type": "code",
      "source": [
        "print(X, K)"
      ],
      "metadata": {
        "colab": {
          "base_uri": "https://localhost:8080/"
        },
        "id": "4l8-_mBgbxU0",
        "outputId": "a3cde589-93c5-4e49-a033-9957bf5c28d0"
      },
      "execution_count": 11,
      "outputs": [
        {
          "output_type": "stream",
          "name": "stdout",
          "text": [
            "tensor([[[0.6211, 0.6390, 0.3107],\n",
            "         [0.1240, 0.4980, 0.6314],\n",
            "         [0.1084, 0.4268, 0.0809]],\n",
            "\n",
            "        [[0.7977, 0.6423, 0.9722],\n",
            "         [0.9570, 0.3614, 0.0707],\n",
            "         [0.9442, 0.7366, 0.9719]],\n",
            "\n",
            "        [[0.5981, 0.3794, 0.9532],\n",
            "         [0.4325, 0.9573, 0.6565],\n",
            "         [0.5572, 0.3857, 0.1771]]]) tensor([[[0.7102, 0.3305],\n",
            "         [0.6978, 0.4978]],\n",
            "\n",
            "        [[0.1133, 0.9595],\n",
            "         [0.6459, 0.6039]],\n",
            "\n",
            "        [[0.7627, 0.5535],\n",
            "         [0.9434, 0.6433]]])\n"
          ]
        }
      ]
    },
    {
      "cell_type": "code",
      "source": [
        "for x, k in zip(X, K):\n",
        "  print(f\" x = {x}\")\n",
        "  print(f\" k = {k}\")\n",
        "  print('*' * 100)"
      ],
      "metadata": {
        "colab": {
          "base_uri": "https://localhost:8080/"
        },
        "id": "BvW3qoqPbkkN",
        "outputId": "8c605545-b0ed-4d49-e97c-1e7b62889631"
      },
      "execution_count": 12,
      "outputs": [
        {
          "output_type": "stream",
          "name": "stdout",
          "text": [
            " x = tensor([[0.6211, 0.6390, 0.3107],\n",
            "        [0.1240, 0.4980, 0.6314],\n",
            "        [0.1084, 0.4268, 0.0809]])\n",
            " k = tensor([[0.7102, 0.3305],\n",
            "        [0.6978, 0.4978]])\n",
            "****************************************************************************************************\n",
            " x = tensor([[0.7977, 0.6423, 0.9722],\n",
            "        [0.9570, 0.3614, 0.0707],\n",
            "        [0.9442, 0.7366, 0.9719]])\n",
            " k = tensor([[0.1133, 0.9595],\n",
            "        [0.6459, 0.6039]])\n",
            "****************************************************************************************************\n",
            " x = tensor([[0.5981, 0.3794, 0.9532],\n",
            "        [0.4325, 0.9573, 0.6565],\n",
            "        [0.5572, 0.3857, 0.1771]])\n",
            " k = tensor([[0.7627, 0.5535],\n",
            "        [0.9434, 0.6433]])\n",
            "****************************************************************************************************\n"
          ]
        }
      ]
    },
    {
      "cell_type": "code",
      "source": [
        "sum(x for x, k in zip(X, K))"
      ],
      "metadata": {
        "colab": {
          "base_uri": "https://localhost:8080/"
        },
        "id": "QLj-UsvdbuI6",
        "outputId": "77a8c116-973e-4117-b2e9-a3ba4f43bac4"
      },
      "execution_count": 13,
      "outputs": [
        {
          "output_type": "execute_result",
          "data": {
            "text/plain": [
              "tensor([[2.0169, 1.6608, 2.2361],\n",
              "        [1.5134, 1.8167, 1.3586],\n",
              "        [1.6098, 1.5490, 1.2300]])"
            ]
          },
          "metadata": {},
          "execution_count": 13
        }
      ]
    },
    {
      "cell_type": "code",
      "source": [
        "torch.sum(X, dim=0)"
      ],
      "metadata": {
        "colab": {
          "base_uri": "https://localhost:8080/"
        },
        "id": "SPz-SuxNcQ7z",
        "outputId": "59f7b1a5-075f-41ab-f30b-72a425da5907"
      },
      "execution_count": 14,
      "outputs": [
        {
          "output_type": "execute_result",
          "data": {
            "text/plain": [
              "tensor([[2.0169, 1.6608, 2.2361],\n",
              "        [1.5134, 1.8167, 1.3586],\n",
              "        [1.6098, 1.5490, 1.2300]])"
            ]
          },
          "metadata": {},
          "execution_count": 14
        }
      ]
    },
    {
      "cell_type": "code",
      "source": [
        "torch.stack??"
      ],
      "metadata": {
        "id": "MC2i_rL_egrd"
      },
      "execution_count": 15,
      "outputs": []
    },
    {
      "cell_type": "code",
      "source": [
        "def corr2d_multi_in_out(X, K):\n",
        "\n",
        "  return torch.stack([corr2d_multi_in(X, k) for k in K], 0)"
      ],
      "metadata": {
        "id": "eOe7vnxGcXxZ"
      },
      "execution_count": 16,
      "outputs": []
    },
    {
      "cell_type": "code",
      "source": [
        "K = torch.stack((K, K+1, K+2))\n",
        "K.shape"
      ],
      "metadata": {
        "colab": {
          "base_uri": "https://localhost:8080/"
        },
        "id": "zZ65ZRBaeq6V",
        "outputId": "8b5213bf-5576-477a-a754-513fd0dd6d82"
      },
      "execution_count": 17,
      "outputs": [
        {
          "output_type": "execute_result",
          "data": {
            "text/plain": [
              "torch.Size([3, 3, 2, 2])"
            ]
          },
          "metadata": {},
          "execution_count": 17
        }
      ]
    },
    {
      "cell_type": "code",
      "source": [
        "X"
      ],
      "metadata": {
        "colab": {
          "base_uri": "https://localhost:8080/"
        },
        "id": "6WTRlEBQe7te",
        "outputId": "bb0f58fb-d827-42e5-c407-1d8d3610b8c0"
      },
      "execution_count": 18,
      "outputs": [
        {
          "output_type": "execute_result",
          "data": {
            "text/plain": [
              "tensor([[[0.6211, 0.6390, 0.3107],\n",
              "         [0.1240, 0.4980, 0.6314],\n",
              "         [0.1084, 0.4268, 0.0809]],\n",
              "\n",
              "        [[0.7977, 0.6423, 0.9722],\n",
              "         [0.9570, 0.3614, 0.0707],\n",
              "         [0.9442, 0.7366, 0.9719]],\n",
              "\n",
              "        [[0.5981, 0.3794, 0.9532],\n",
              "         [0.4325, 0.9573, 0.6565],\n",
              "         [0.5572, 0.3857, 0.1771]]])"
            ]
          },
          "metadata": {},
          "execution_count": 18
        }
      ]
    },
    {
      "cell_type": "code",
      "source": [
        "corr2d_multi_in_out(X, K)"
      ],
      "metadata": {
        "colab": {
          "base_uri": "https://localhost:8080/"
        },
        "id": "-bDORNpmeypl",
        "outputId": "7569ef9d-024c-4361-ab6c-0dd5a9aa70bd"
      },
      "execution_count": 19,
      "outputs": [
        {
          "output_type": "execute_result",
          "data": {
            "text/plain": [
              "tensor([[[ 4.2197,  4.6424],\n",
              "         [ 3.6840,  3.6431]],\n",
              "\n",
              "        [[11.2275, 11.7146],\n",
              "         [10.1729,  9.5974]],\n",
              "\n",
              "        [[18.2354, 18.7867],\n",
              "         [16.6619, 15.5517]]])"
            ]
          },
          "metadata": {},
          "execution_count": 19
        }
      ]
    },
    {
      "cell_type": "code",
      "source": [
        "def corr2d_multi_in_out_1x1(X, K):\n",
        "  c_i, h, w = X.shape\n",
        "  c_o = K.shape[0]\n",
        "  X = X.reshape(c_i, h * w)\n",
        "  K = K.reshape(c_o, c_i)\n",
        "\n",
        "  Y = torch.mm(K, X)\n",
        "  return Y.reshape(c_o, h, w)"
      ],
      "metadata": {
        "id": "oZkDG1m8gSUy"
      },
      "execution_count": 20,
      "outputs": []
    },
    {
      "cell_type": "code",
      "source": [
        "X = torch.normal(0, 1, (3, 3, 3))\n",
        "K = torch.normal(0, 1, (2, 3, 1, 1))\n",
        "print(f\"X.shape = {X.shape}\")\n",
        "print(f\"K.shape = {K.shape}\")"
      ],
      "metadata": {
        "colab": {
          "base_uri": "https://localhost:8080/"
        },
        "id": "f1fa6AgliDIn",
        "outputId": "bd10f469-982c-4c6c-ff91-7bdecdb5c50e"
      },
      "execution_count": 21,
      "outputs": [
        {
          "output_type": "stream",
          "name": "stdout",
          "text": [
            "X.shape = torch.Size([3, 3, 3])\n",
            "K.shape = torch.Size([2, 3, 1, 1])\n"
          ]
        }
      ]
    },
    {
      "cell_type": "code",
      "source": [
        "Y1 = corr2d_multi_in_out(X, K)\n",
        "Y2 = corr2d_multi_in_out_1x1(X, K)\n",
        "\n",
        "assert float(torch.abs(Y1-Y2).sum()) < 1e-6"
      ],
      "metadata": {
        "id": "rMWyPXJOiSPU"
      },
      "execution_count": 22,
      "outputs": []
    },
    {
      "cell_type": "code",
      "source": [
        "print(f\"Y1.shape = {Y1.shape}\")\n",
        "print(f\"Y2.shape = {Y2.shape}\")"
      ],
      "metadata": {
        "colab": {
          "base_uri": "https://localhost:8080/"
        },
        "id": "EhBy0MUpGx2u",
        "outputId": "50f92f37-03ec-448c-ec33-86fa76d5e800"
      },
      "execution_count": 23,
      "outputs": [
        {
          "output_type": "stream",
          "name": "stdout",
          "text": [
            "Y1.shape = torch.Size([2, 3, 3])\n",
            "Y2.shape = torch.Size([2, 3, 3])\n"
          ]
        }
      ]
    },
    {
      "cell_type": "markdown",
      "source": [
        "## Ex 7.4:"
      ],
      "metadata": {
        "id": "4HWpoWiMHSwW"
      }
    },
    {
      "cell_type": "markdown",
      "source": [
        "### Q4:"
      ],
      "metadata": {
        "id": "8ZCkwa19HVAG"
      }
    },
    {
      "cell_type": "code",
      "source": [
        "Y1 == Y2"
      ],
      "metadata": {
        "colab": {
          "base_uri": "https://localhost:8080/"
        },
        "id": "le33an-aihlw",
        "outputId": "514a791d-eda8-42a8-98cd-666ca94a5238"
      },
      "execution_count": 24,
      "outputs": [
        {
          "output_type": "execute_result",
          "data": {
            "text/plain": [
              "tensor([[[True, True, True],\n",
              "         [True, True, True],\n",
              "         [True, True, True]],\n",
              "\n",
              "        [[True, True, True],\n",
              "         [True, True, True],\n",
              "         [True, True, True]]])"
            ]
          },
          "metadata": {},
          "execution_count": 24
        }
      ]
    },
    {
      "cell_type": "markdown",
      "source": [
        "# 7.5 : Pooling"
      ],
      "metadata": {
        "id": "282FdIDgIpk9"
      }
    },
    {
      "cell_type": "code",
      "source": [
        "import torch\n",
        "from d2l import torch as d2l\n",
        "from torch import nn"
      ],
      "metadata": {
        "id": "Gx2XmyGWHMEm"
      },
      "execution_count": 25,
      "outputs": []
    },
    {
      "cell_type": "code",
      "source": [
        "def pool2d(X, pool_size, mode='max'):\n",
        "  p_h, p_w = pool_size\n",
        "  Y = torch.zeros(X.shape[0]-p_h+1, X.shape[1]-p_w+1)\n",
        "  \n",
        "  for i in range(Y.shape[0]):\n",
        "    for j in range(Y.shape[1]):\n",
        "      if mode == 'max':\n",
        "        Y[i, j] = X[i:i+p_h, j:j+p_w].max()\n",
        "      elif mode == 'avg':\n",
        "        Y[i, j] = X[i:i+p_h, j:j+p_w].mean()\n",
        "\n",
        "  return Y"
      ],
      "metadata": {
        "id": "H1viGrkPMaMC"
      },
      "execution_count": 26,
      "outputs": []
    },
    {
      "cell_type": "code",
      "source": [
        "X = torch.arange(0, 9, dtype=torch.float32).reshape(3, 3)\n",
        "print(f\"X = {X}\")\n",
        "print(f\"pool2d(X) : {pool2d(X, (2, 2))}\")"
      ],
      "metadata": {
        "colab": {
          "base_uri": "https://localhost:8080/"
        },
        "id": "HU4oAgsYM6Dy",
        "outputId": "beca6765-63f5-4743-e028-472b9dc43f93"
      },
      "execution_count": 27,
      "outputs": [
        {
          "output_type": "stream",
          "name": "stdout",
          "text": [
            "X = tensor([[0., 1., 2.],\n",
            "        [3., 4., 5.],\n",
            "        [6., 7., 8.]])\n",
            "pool2d(X) : tensor([[4., 5.],\n",
            "        [7., 8.]])\n"
          ]
        }
      ]
    },
    {
      "cell_type": "code",
      "source": [
        "pool2d(X, (2, 2), 'avg')"
      ],
      "metadata": {
        "colab": {
          "base_uri": "https://localhost:8080/"
        },
        "id": "K_7997zhM_zQ",
        "outputId": "fc59932f-9f81-4c42-fc8e-040cf84357a8"
      },
      "execution_count": 28,
      "outputs": [
        {
          "output_type": "execute_result",
          "data": {
            "text/plain": [
              "tensor([[2., 3.],\n",
              "        [5., 6.]])"
            ]
          },
          "metadata": {},
          "execution_count": 28
        }
      ]
    },
    {
      "cell_type": "code",
      "source": [
        "X = torch.arange(0, 16, dtype=torch.float32).reshape(1, 1, 4, 4)\n",
        "X"
      ],
      "metadata": {
        "colab": {
          "base_uri": "https://localhost:8080/"
        },
        "id": "KrpPOOesNdDh",
        "outputId": "d5ba4afc-4cbb-4eb7-8084-96d33618d9c3"
      },
      "execution_count": 29,
      "outputs": [
        {
          "output_type": "execute_result",
          "data": {
            "text/plain": [
              "tensor([[[[ 0.,  1.,  2.,  3.],\n",
              "          [ 4.,  5.,  6.,  7.],\n",
              "          [ 8.,  9., 10., 11.],\n",
              "          [12., 13., 14., 15.]]]])"
            ]
          },
          "metadata": {},
          "execution_count": 29
        }
      ]
    },
    {
      "cell_type": "code",
      "source": [
        "nn.MaxPool2d??"
      ],
      "metadata": {
        "id": "7chpNBSBN2xb"
      },
      "execution_count": 30,
      "outputs": []
    },
    {
      "cell_type": "code",
      "source": [
        "pool2d = nn.MaxPool2d(3)\n",
        "pool2d"
      ],
      "metadata": {
        "colab": {
          "base_uri": "https://localhost:8080/"
        },
        "id": "qlMTaEM0NsIR",
        "outputId": "878f46dc-58ce-4c0e-95f4-03164f258d5e"
      },
      "execution_count": 31,
      "outputs": [
        {
          "output_type": "execute_result",
          "data": {
            "text/plain": [
              "MaxPool2d(kernel_size=3, stride=3, padding=0, dilation=1, ceil_mode=False)"
            ]
          },
          "metadata": {},
          "execution_count": 31
        }
      ]
    },
    {
      "cell_type": "code",
      "source": [
        "print(f\"pool2d : {pool2d(X)}\")\n",
        "print(f\"pool2d(X).shape : {pool2d(X).shape}\")"
      ],
      "metadata": {
        "colab": {
          "base_uri": "https://localhost:8080/"
        },
        "id": "3Jd3HYmvOAx5",
        "outputId": "923ee73d-37eb-4ddc-a147-6c4d7349afe2"
      },
      "execution_count": 32,
      "outputs": [
        {
          "output_type": "stream",
          "name": "stdout",
          "text": [
            "pool2d : tensor([[[[10.]]]])\n",
            "pool2d(X).shape : torch.Size([1, 1, 1, 1])\n"
          ]
        }
      ]
    },
    {
      "cell_type": "code",
      "source": [
        "pool2d = nn.MaxPool2d((2, 3), stride=(2, 3), padding=(0, 1))\n",
        "pool2d"
      ],
      "metadata": {
        "colab": {
          "base_uri": "https://localhost:8080/"
        },
        "id": "ciNuA8ebPvU7",
        "outputId": "5e507612-b81d-431f-ce66-75a466c330e6"
      },
      "execution_count": 33,
      "outputs": [
        {
          "output_type": "execute_result",
          "data": {
            "text/plain": [
              "MaxPool2d(kernel_size=(2, 3), stride=(2, 3), padding=(0, 1), dilation=1, ceil_mode=False)"
            ]
          },
          "metadata": {},
          "execution_count": 33
        }
      ]
    },
    {
      "cell_type": "code",
      "source": [
        "pool2d(X)"
      ],
      "metadata": {
        "colab": {
          "base_uri": "https://localhost:8080/"
        },
        "id": "gZjgS_8cQv_L",
        "outputId": "57092580-94f5-43e7-c601-e7a3c19aa924"
      },
      "execution_count": 34,
      "outputs": [
        {
          "output_type": "execute_result",
          "data": {
            "text/plain": [
              "tensor([[[[ 5.,  7.],\n",
              "          [13., 15.]]]])"
            ]
          },
          "metadata": {},
          "execution_count": 34
        }
      ]
    },
    {
      "cell_type": "code",
      "source": [
        "a = nn.LazyConv2d(1, kernel_size=1, padding=1)\n",
        "b = torch.arange(9, dtype=torch.float32).reshape(1, 1, 3, 3)\n",
        "print(f\"b = {b}\")\n",
        "print(f\"a(b).shape = {a(b).shape}\")"
      ],
      "metadata": {
        "colab": {
          "base_uri": "https://localhost:8080/"
        },
        "id": "2Mt4PbJxQGYe",
        "outputId": "23c71cab-860a-45c6-dc36-e8648b46a653"
      },
      "execution_count": 35,
      "outputs": [
        {
          "output_type": "stream",
          "name": "stdout",
          "text": [
            "b = tensor([[[[0., 1., 2.],\n",
            "          [3., 4., 5.],\n",
            "          [6., 7., 8.]]]])\n",
            "a(b).shape = torch.Size([1, 1, 5, 5])\n"
          ]
        },
        {
          "output_type": "stream",
          "name": "stderr",
          "text": [
            "/usr/local/lib/python3.8/dist-packages/torch/nn/modules/lazy.py:180: UserWarning: Lazy modules are a new feature under heavy development so changes to the API or functionality can happen at any moment.\n",
            "  warnings.warn('Lazy modules are a new feature under heavy development '\n"
          ]
        }
      ]
    },
    {
      "cell_type": "code",
      "source": [
        "torch.cat??\n",
        "# stacks along a given demension"
      ],
      "metadata": {
        "id": "zl-rf8zLQgsg"
      },
      "execution_count": 36,
      "outputs": []
    },
    {
      "cell_type": "code",
      "source": [
        "torch.stack??\n",
        "# stacks along a new dimension"
      ],
      "metadata": {
        "id": "9iuDWY2WRTUm"
      },
      "execution_count": 38,
      "outputs": []
    },
    {
      "cell_type": "code",
      "source": [
        "# mutltiple input channels : \n",
        "X = torch.arange(16, dtype=torch.float32).reshape(1, 1, 4, 4)\n",
        "X = torch.cat([X, X+1], dim=1)\n",
        "print(f\"X = {X}\")\n",
        "print(f\"X.shape = {X.shape}\")"
      ],
      "metadata": {
        "colab": {
          "base_uri": "https://localhost:8080/"
        },
        "id": "-twwYZPYRW9y",
        "outputId": "0a7c7dd1-d26d-4644-a952-d3a1e68bdf28"
      },
      "execution_count": 39,
      "outputs": [
        {
          "output_type": "stream",
          "name": "stdout",
          "text": [
            "X = tensor([[[[ 0.,  1.,  2.,  3.],\n",
            "          [ 4.,  5.,  6.,  7.],\n",
            "          [ 8.,  9., 10., 11.],\n",
            "          [12., 13., 14., 15.]],\n",
            "\n",
            "         [[ 1.,  2.,  3.,  4.],\n",
            "          [ 5.,  6.,  7.,  8.],\n",
            "          [ 9., 10., 11., 12.],\n",
            "          [13., 14., 15., 16.]]]])\n",
            "X.shape = torch.Size([1, 2, 4, 4])\n"
          ]
        }
      ]
    },
    {
      "cell_type": "code",
      "source": [
        "nn.MaxPool2d??"
      ],
      "metadata": {
        "id": "UtQGnjyKSg83"
      },
      "execution_count": 40,
      "outputs": []
    },
    {
      "cell_type": "code",
      "source": [
        "pool2d = nn.MaxPool2d(3, padding=1, stride=2)\n",
        "pool2d(X)"
      ],
      "metadata": {
        "colab": {
          "base_uri": "https://localhost:8080/"
        },
        "id": "cNLg6PjsRfPB",
        "outputId": "e025c640-e6af-4bca-9c65-8c0a7030ec2b"
      },
      "execution_count": 41,
      "outputs": [
        {
          "output_type": "execute_result",
          "data": {
            "text/plain": [
              "tensor([[[[ 5.,  7.],\n",
              "          [13., 15.]],\n",
              "\n",
              "         [[ 6.,  8.],\n",
              "          [14., 16.]]]])"
            ]
          },
          "metadata": {},
          "execution_count": 41
        }
      ]
    },
    {
      "cell_type": "markdown",
      "source": [
        "## Ex 7.5:"
      ],
      "metadata": {
        "id": "WI5XRfZnUZkP"
      }
    },
    {
      "cell_type": "markdown",
      "source": [
        "### Q1:\n",
        "\n",
        "average pooling we need a kernel of ones multiplied with 1 / numel() \n",
        "\n",
        "- for pooling what all will be the inputs ?? \n",
        "- X will be rank 4 tensor : batch_size x channel x height x width\n",
        "\n",
        "size of kernel : ?? rank 2 tensor (k_h x k_w)\n",
        " i need to define the kernel size : \n",
        " also need stride : (s_h, s_w)"
      ],
      "metadata": {
        "id": "gqfG-AJUUbWG"
      }
    },
    {
      "cell_type": "code",
      "source": [
        "import math"
      ],
      "metadata": {
        "id": "L0Woh6Ubi1OA"
      },
      "execution_count": 53,
      "outputs": []
    },
    {
      "cell_type": "code",
      "source": [
        "math.floor(3.4)"
      ],
      "metadata": {
        "colab": {
          "base_uri": "https://localhost:8080/"
        },
        "id": "1Ghpu4yOi8BG",
        "outputId": "4b51ce6e-d777-47fc-e021-f25697702923"
      },
      "execution_count": 54,
      "outputs": [
        {
          "output_type": "execute_result",
          "data": {
            "text/plain": [
              "3"
            ]
          },
          "metadata": {},
          "execution_count": 54
        }
      ]
    },
    {
      "cell_type": "code",
      "source": [
        "for i in range(0, 2, 2):\n",
        "  print(i)"
      ],
      "metadata": {
        "colab": {
          "base_uri": "https://localhost:8080/"
        },
        "id": "PYofOXiMRVRD",
        "outputId": "2ba39fa3-42a8-4db1-da4b-f2870fafddd5"
      },
      "execution_count": 116,
      "outputs": [
        {
          "output_type": "stream",
          "name": "stdout",
          "text": [
            "0\n"
          ]
        }
      ]
    },
    {
      "cell_type": "code",
      "source": [
        "a = torch.ones(3, 3) / 9.\n",
        "b = torch.rand(1, 2, 4, 4)"
      ],
      "metadata": {
        "id": "FZZ79CtZPluq"
      },
      "execution_count": 115,
      "outputs": []
    },
    {
      "cell_type": "code",
      "source": [
        "corr2d_stride(b[0, 1], a, 2, 2)"
      ],
      "metadata": {
        "colab": {
          "base_uri": "https://localhost:8080/"
        },
        "id": "atGE5H3dQJH-",
        "outputId": "f2b690ac-544b-4335-8a0e-2a99dc0fd824"
      },
      "execution_count": 117,
      "outputs": [
        {
          "output_type": "stream",
          "name": "stdout",
          "text": [
            "K_h = 3, k_w = 3, f_h = 2, f_w = 2, s_h = 2, s_w = 2\n",
            " i = 0, j = 0\n"
          ]
        }
      ]
    },
    {
      "cell_type": "code",
      "source": [
        "def corr2d(X, K):\n",
        "  # X : rank 2 tensor\n",
        "  # K : rank 2 tensor\n",
        "  Y = torch.zeros(X.shape[0]-K.shape[0]+1, X.shape[1]-K.shape[1]+1)\n",
        "  k_h, k_w = K.shape\n",
        "  \n",
        "  for i in range(Y.shape[0]):\n",
        "    for j in range(Y.shape[1]):\n",
        "      Y[i, j] = (X[i:i+k_h, j:j+k_w] * K).sum()\n",
        "\n",
        "  return Y"
      ],
      "metadata": {
        "id": "u59or7YXUqV1"
      },
      "execution_count": 119,
      "outputs": []
    },
    {
      "cell_type": "code",
      "source": [
        "class Pool_Conv2d(nn.Module):\n",
        "\n",
        "  def __init__(self, kernel_size):\n",
        "    # kernel_size, stride both will be a tuple (h x w)\n",
        "    # this layer won't have any bias\n",
        "    # keeping stride to be (1, 1)\n",
        "    super().__init__()\n",
        "    self.k_h, self.k_w = kernel_size\n",
        "    self.weight = nn.Parameter(torch.ones(kernel_size)) / float(self.k_h * self.k_w)\n",
        "\n",
        "  def forward(self, X):\n",
        "    # when we use pooling the rank of output is same as that of the input\n",
        "    # X must be a rank 4 tensor\n",
        "    # loop over batch_size and channel\n",
        "    Y = torch.zeros(X.shape[0], X.shape[1], X.shape[2] - self.k_h + 1, X.shape[3] - self.k_w + 1)\n",
        "\n",
        "    for i1 in range(Y.shape[0]):\n",
        "      for i2 in range(Y.shape[1]):\n",
        "        Y[i1, i2] = corr2d(X[i1, i2], self.weight)\n",
        "        print(f\"Y[i1, i2] for i1 = {i1} and i2 = {i2} : {Y[i1, i2]}\")\n",
        "\n",
        "    return Y"
      ],
      "metadata": {
        "id": "8fOsRnJ7gimm"
      },
      "execution_count": 126,
      "outputs": []
    },
    {
      "cell_type": "code",
      "source": [
        "my_layer = Pool_Conv2d(kernel_size=(3, 3))\n",
        "my_layer"
      ],
      "metadata": {
        "colab": {
          "base_uri": "https://localhost:8080/"
        },
        "id": "86s9nKFUm_MH",
        "outputId": "d5b0186b-9711-4187-aa0d-8c6b73659b32"
      },
      "execution_count": 127,
      "outputs": [
        {
          "output_type": "execute_result",
          "data": {
            "text/plain": [
              "Pool_Conv2d()"
            ]
          },
          "metadata": {},
          "execution_count": 127
        }
      ]
    },
    {
      "cell_type": "code",
      "source": [
        "X = torch.arange(0, 16, dtype=torch.float32).reshape(1, 1, 4, 4)\n",
        "print(X.shape)\n",
        "X = torch.cat((X, X+1), 1)\n",
        "print(X.shape)"
      ],
      "metadata": {
        "colab": {
          "base_uri": "https://localhost:8080/"
        },
        "id": "__ffoAWrokZ6",
        "outputId": "df67d59c-9ac9-4670-f4d3-0f143eed4859"
      },
      "execution_count": 122,
      "outputs": [
        {
          "output_type": "stream",
          "name": "stdout",
          "text": [
            "torch.Size([1, 1, 4, 4])\n",
            "torch.Size([1, 2, 4, 4])\n"
          ]
        }
      ]
    },
    {
      "cell_type": "code",
      "source": [
        "X"
      ],
      "metadata": {
        "colab": {
          "base_uri": "https://localhost:8080/"
        },
        "id": "tHbE0Wbxo3EN",
        "outputId": "53aa2db4-27fa-45de-d5c0-4b96ed5b4cb4"
      },
      "execution_count": 124,
      "outputs": [
        {
          "output_type": "execute_result",
          "data": {
            "text/plain": [
              "tensor([[[[ 0.,  1.,  2.,  3.],\n",
              "          [ 4.,  5.,  6.,  7.],\n",
              "          [ 8.,  9., 10., 11.],\n",
              "          [12., 13., 14., 15.]],\n",
              "\n",
              "         [[ 1.,  2.,  3.,  4.],\n",
              "          [ 5.,  6.,  7.,  8.],\n",
              "          [ 9., 10., 11., 12.],\n",
              "          [13., 14., 15., 16.]]]])"
            ]
          },
          "metadata": {},
          "execution_count": 124
        }
      ]
    },
    {
      "cell_type": "code",
      "source": [
        "my_layer(X)"
      ],
      "metadata": {
        "colab": {
          "base_uri": "https://localhost:8080/"
        },
        "id": "JL2N6gfLo49S",
        "outputId": "f57736a9-eb60-4e34-d4f6-d3b615940ffa"
      },
      "execution_count": 128,
      "outputs": [
        {
          "output_type": "stream",
          "name": "stdout",
          "text": [
            "Y[i1, i2] for i1 = 0 and i2 = 0 : tensor([[ 5.0000,  6.0000],\n",
            "        [ 9.0000, 10.0000]], grad_fn=<SelectBackward0>)\n",
            "Y[i1, i2] for i1 = 0 and i2 = 1 : tensor([[ 6.0000,  7.0000],\n",
            "        [10.0000, 11.0000]], grad_fn=<SelectBackward0>)\n"
          ]
        },
        {
          "output_type": "execute_result",
          "data": {
            "text/plain": [
              "tensor([[[[ 5.0000,  6.0000],\n",
              "          [ 9.0000, 10.0000]],\n",
              "\n",
              "         [[ 6.0000,  7.0000],\n",
              "          [10.0000, 11.0000]]]], grad_fn=<CopySlices>)"
            ]
          },
          "metadata": {},
          "execution_count": 128
        }
      ]
    },
    {
      "cell_type": "code",
      "source": [
        "a = torch.ones(2, 2, 4, 4)\n",
        "a[1, 1].shape"
      ],
      "metadata": {
        "colab": {
          "base_uri": "https://localhost:8080/"
        },
        "id": "XmZnimqs8r4n",
        "outputId": "95f74a4c-77f4-4f60-f0c8-e94fff26ecef"
      },
      "execution_count": 87,
      "outputs": [
        {
          "output_type": "execute_result",
          "data": {
            "text/plain": [
              "torch.Size([4, 4])"
            ]
          },
          "metadata": {},
          "execution_count": 87
        }
      ]
    },
    {
      "cell_type": "code",
      "source": [
        "c = (3, 4)\n",
        "print(c[0])"
      ],
      "metadata": {
        "colab": {
          "base_uri": "https://localhost:8080/"
        },
        "id": "9MCc7Lstid6l",
        "outputId": "9d8016f8-71c7-44ce-b421-1326e330122e"
      },
      "execution_count": 51,
      "outputs": [
        {
          "output_type": "stream",
          "name": "stdout",
          "text": [
            "3\n"
          ]
        }
      ]
    },
    {
      "cell_type": "code",
      "source": [
        "b = torch.rand(3, 3)\n",
        "b.size()"
      ],
      "metadata": {
        "colab": {
          "base_uri": "https://localhost:8080/"
        },
        "id": "MBS_V9RGePwd",
        "outputId": "fb2342da-1440-4cfc-c6c9-db05ca9db840"
      },
      "execution_count": 44,
      "outputs": [
        {
          "output_type": "execute_result",
          "data": {
            "text/plain": [
              "torch.Size([3, 3])"
            ]
          },
          "metadata": {},
          "execution_count": 44
        }
      ]
    },
    {
      "cell_type": "code",
      "source": [
        "b_h, b_w = b.size()\n",
        "print(f\"b_h = {b_h}\")\n",
        "print(f\"b_w = {b_w}\")"
      ],
      "metadata": {
        "colab": {
          "base_uri": "https://localhost:8080/"
        },
        "id": "aRds9_sPgVDw",
        "outputId": "2a432352-09bf-40f0-8d43-4b1b89cf9adc"
      },
      "execution_count": 48,
      "outputs": [
        {
          "output_type": "stream",
          "name": "stdout",
          "text": [
            "b_h = 3\n",
            "b_w = 3\n"
          ]
        }
      ]
    },
    {
      "cell_type": "code",
      "source": [
        "type(b_h * b_w)"
      ],
      "metadata": {
        "colab": {
          "base_uri": "https://localhost:8080/"
        },
        "id": "PdCAqde7hxBK",
        "outputId": "7fc77878-1f0a-4c09-d9c1-bcda0f47c8ca"
      },
      "execution_count": 49,
      "outputs": [
        {
          "output_type": "execute_result",
          "data": {
            "text/plain": [
              "int"
            ]
          },
          "metadata": {},
          "execution_count": 49
        }
      ]
    },
    {
      "cell_type": "code",
      "source": [
        "float(b_h * b_w)"
      ],
      "metadata": {
        "colab": {
          "base_uri": "https://localhost:8080/"
        },
        "id": "PMgRPgdwh0QK",
        "outputId": "c2850ec4-425f-4ac8-d90f-dac648a984b2"
      },
      "execution_count": 50,
      "outputs": [
        {
          "output_type": "execute_result",
          "data": {
            "text/plain": [
              "9.0"
            ]
          },
          "metadata": {},
          "execution_count": 50
        }
      ]
    },
    {
      "cell_type": "code",
      "source": [
        "a = nn.Parameter(torch.ones(b.size())) / b.numel()\n",
        "a"
      ],
      "metadata": {
        "colab": {
          "base_uri": "https://localhost:8080/"
        },
        "id": "OJA9-Do4eM9Q",
        "outputId": "bc1a2352-74f9-4ea9-8aab-5ba1cfc2795f"
      },
      "execution_count": 46,
      "outputs": [
        {
          "output_type": "execute_result",
          "data": {
            "text/plain": [
              "tensor([[0.1111, 0.1111, 0.1111],\n",
              "        [0.1111, 0.1111, 0.1111],\n",
              "        [0.1111, 0.1111, 0.1111]], grad_fn=<DivBackward0>)"
            ]
          },
          "metadata": {},
          "execution_count": 46
        }
      ]
    },
    {
      "cell_type": "code",
      "source": [
        "a = torch.ones(4, 2, 4, 4)\n",
        "print(a.shape)"
      ],
      "metadata": {
        "colab": {
          "base_uri": "https://localhost:8080/"
        },
        "id": "3uA5O-tPgYe9",
        "outputId": "c82accb2-31cf-4b17-86e5-2cf812655305"
      },
      "execution_count": 66,
      "outputs": [
        {
          "output_type": "stream",
          "name": "stdout",
          "text": [
            "torch.Size([4, 2, 4, 4])\n"
          ]
        }
      ]
    },
    {
      "cell_type": "code",
      "source": [
        "a[1, 1].shape"
      ],
      "metadata": {
        "colab": {
          "base_uri": "https://localhost:8080/"
        },
        "id": "lmu_EiJ5mvZB",
        "outputId": "d08a9409-7fc3-483f-a5e0-27b7f896edf1"
      },
      "execution_count": 68,
      "outputs": [
        {
          "output_type": "execute_result",
          "data": {
            "text/plain": [
              "torch.Size([4, 4])"
            ]
          },
          "metadata": {},
          "execution_count": 68
        }
      ]
    },
    {
      "cell_type": "markdown",
      "source": [
        "max pooling can't be done through max pooling alone"
      ],
      "metadata": {
        "id": "1A43-T9TW2Nt"
      }
    },
    {
      "cell_type": "markdown",
      "source": [
        "### Q3:"
      ],
      "metadata": {
        "id": "YRxyrASTXPgC"
      }
    },
    {
      "cell_type": "code",
      "source": [
        "a = torch.randn(1)\n",
        "print(f\"a = {a}\")\n",
        "print(torch.relu(a))"
      ],
      "metadata": {
        "colab": {
          "base_uri": "https://localhost:8080/"
        },
        "id": "EG9suNSCXcPc",
        "outputId": "1761ccd0-5f8a-4058-cddd-4cf0020555cd"
      },
      "execution_count": 133,
      "outputs": [
        {
          "output_type": "stream",
          "name": "stdout",
          "text": [
            "a = tensor([-0.3296])\n",
            "tensor([0.])\n"
          ]
        }
      ]
    },
    {
      "cell_type": "code",
      "source": [
        "def max_relu(a, b):\n",
        "  # find maximum of a and b using only relu functions\n",
        "  temp = torch.relu(a-b)\n",
        "  ans = a if temp > 0 else b\n",
        "  return ans"
      ],
      "metadata": {
        "id": "KUgQd0ieW1wC"
      },
      "execution_count": 134,
      "outputs": []
    },
    {
      "cell_type": "code",
      "source": [
        "a = torch.randn(1)\n",
        "b = torch.randn(1)\n",
        "\n",
        "print(f\"a = {a}, b = {b}\")\n",
        "print(max_relu(a, b))"
      ],
      "metadata": {
        "colab": {
          "base_uri": "https://localhost:8080/"
        },
        "id": "LB-Pwos-X6PQ",
        "outputId": "59e0c378-275a-4b0c-f744-6cf761c42d1b"
      },
      "execution_count": 138,
      "outputs": [
        {
          "output_type": "stream",
          "name": "stdout",
          "text": [
            "a = tensor([-0.6161]), b = tensor([0.2817])\n",
            "tensor([0.2817])\n"
          ]
        }
      ]
    },
    {
      "cell_type": "markdown",
      "source": [
        "now to implement max pooling using convulations and relu : at each step of convulation we need to pass the input to max operation made using relu to get the maximum value of that step"
      ],
      "metadata": {
        "id": "eVXrV-_tYqkl"
      }
    },
    {
      "cell_type": "code",
      "source": [
        "def corr2d_relu(X, K):\n",
        "  # X : tensor of rank 2\n",
        "  # K : tensor of rank 2\n",
        "  # after applying convulation : pass "
      ],
      "metadata": {
        "id": "3nYScJhAZpwR"
      },
      "execution_count": null,
      "outputs": []
    },
    {
      "cell_type": "code",
      "source": [
        "class MaxPool_relu(nn.Module):\n",
        "\n",
        "  def __init__(self, kernel_size):\n",
        "    # keeping stride = (1, 1)\n",
        "    # weight : tensor of rank 2\n",
        "    super().__init__()\n",
        "    self.k_h, self.k_w = kernel_size\n",
        "    self.weight = nn.Parameter(torch.ones(kernel_size))\n",
        "\n",
        "  def forward(self, X):\n",
        "    # X : tensor of rank 4\n",
        "    f_h = X.shape[2] - self.k_h + 1\n",
        "    f_w = X.shape[2] - self.k_w + 1\n",
        "    Y = torch.zeros(X.shape[0], X.shape[1], f_h, f_w)\n",
        "\n",
        "    for i1 in range(Y.shape[0]):\n",
        "      for i2 in range(Y.shape[1]):\n",
        "        Y[i1, i2] = corr2d_relu(X[i1, i2], self.weight)\n",
        "    \n",
        "    return Y\n"
      ],
      "metadata": {
        "id": "iNaw3Pi8YC6_"
      },
      "execution_count": null,
      "outputs": []
    },
    {
      "cell_type": "markdown",
      "source": [
        "### Q5:\n",
        "\n",
        "we are using the pooling layer after passing the input through the convulation layer so we already know where the features are present, where the values will be close to 1, now if use avg pooling layer, the overall value will be downsamples and its effect decreases. When we use a max pooling layer we are preserving the important information while downsampling\n"
      ],
      "metadata": {
        "id": "O_I3NVhTb_JZ"
      }
    },
    {
      "cell_type": "markdown",
      "source": [
        "### Q6 : \n",
        "Minimum pooling layer can prove to be useful, because if we assume the rest of values in the input window is neglibile considered to the max value then we after applying max pooling, we would not loose any important information\n",
        "\n",
        "But in the case when the values are close to the max value, in that case by just considering the maximum value from the respective window we loose out on important information"
      ],
      "metadata": {
        "id": "dtjRPU_MchpC"
      }
    },
    {
      "cell_type": "markdown",
      "source": [
        "### Q7:\n",
        "\n",
        "does not accuratley represent the magnitude of feature map"
      ],
      "metadata": {
        "id": "u96o1-cQdJ2V"
      }
    },
    {
      "cell_type": "code",
      "source": [
        "def softmax(x):\n",
        "  # x is a tensor of rank 1\n",
        "  x_exp = torch.exp(x)\n",
        "  sum = torch.sum(x_exp)\n",
        "  return x_exp / sum"
      ],
      "metadata": {
        "id": "2apCHJaUdPMw"
      },
      "execution_count": 139,
      "outputs": []
    },
    {
      "cell_type": "code",
      "source": [
        "a = torch.tensor([1, 0.01, 0.04, 0.005])\n",
        "softmax(a)"
      ],
      "metadata": {
        "colab": {
          "base_uri": "https://localhost:8080/"
        },
        "id": "KI2vKgRgcbKM",
        "outputId": "ee90f8fb-9f61-433a-95ae-fbc4ac305690"
      },
      "execution_count": 140,
      "outputs": [
        {
          "output_type": "execute_result",
          "data": {
            "text/plain": [
              "tensor([0.4708, 0.1749, 0.1803, 0.1741])"
            ]
          },
          "metadata": {},
          "execution_count": 140
        }
      ]
    },
    {
      "cell_type": "code",
      "source": [],
      "metadata": {
        "id": "xYmzJyaUeA5Z"
      },
      "execution_count": null,
      "outputs": []
    }
  ]
}