{
  "nbformat": 4,
  "nbformat_minor": 0,
  "metadata": {
    "colab": {
      "provenance": [],
      "collapsed_sections": [
        "Ys1GgT3XG_S9",
        "6cXw3GqWJtzC",
        "IDL9azHgixaB"
      ],
      "authorship_tag": "ABX9TyMILY+3AYE4YKpKR64WliEI",
      "include_colab_link": true
    },
    "kernelspec": {
      "name": "python3",
      "display_name": "Python 3"
    },
    "language_info": {
      "name": "python"
    },
    "gpuClass": "standard"
  },
  "cells": [
    {
      "cell_type": "markdown",
      "metadata": {
        "id": "view-in-github",
        "colab_type": "text"
      },
      "source": [
        "<a href=\"https://colab.research.google.com/github/arnav39/d2el-en/blob/main/8_5_Batch_Normalization.ipynb\" target=\"_parent\"><img src=\"https://colab.research.google.com/assets/colab-badge.svg\" alt=\"Open In Colab\"/></a>"
      ]
    },
    {
      "cell_type": "code",
      "execution_count": 1,
      "metadata": {
        "colab": {
          "base_uri": "https://localhost:8080/"
        },
        "id": "Ux2NnxE7t5_m",
        "outputId": "c5898ee3-fd86-4c54-ebb4-cdfeffb3c5b3"
      },
      "outputs": [
        {
          "output_type": "stream",
          "name": "stdout",
          "text": [
            "Installing collected packages: jedi, qtpy, qtconsole, jupyter, d2l\n",
            "Successfully installed d2l-1.0.0a0 jedi-0.18.2 jupyter-1.0.0 qtconsole-5.4.0 qtpy-2.3.0\n"
          ]
        }
      ],
      "source": [
        "!pip install matplotlib_inline\n",
        "!pip install --upgrade d2l==1.0.0a0"
      ]
    },
    {
      "cell_type": "code",
      "source": [
        "import torch\n",
        "from torch import nn\n",
        "from d2l import torch as d2l"
      ],
      "metadata": {
        "colab": {
          "base_uri": "https://localhost:8080/"
        },
        "id": "pQvWA9sWt_N5",
        "outputId": "b934dfdd-2d87-447a-bafc-0b1e3ce83fe7"
      },
      "execution_count": 2,
      "outputs": [
        {
          "output_type": "stream",
          "name": "stderr",
          "text": [
            "/usr/local/lib/python3.8/dist-packages/torch/cuda/__init__.py:497: UserWarning: Can't initialize NVML\n",
            "  warnings.warn(\"Can't initialize NVML\")\n"
          ]
        }
      ]
    },
    {
      "cell_type": "code",
      "source": [
        "import torchvision\n",
        "import torchvision.transforms as transforms"
      ],
      "metadata": {
        "id": "q-Up_MkYJyrD"
      },
      "execution_count": 3,
      "outputs": []
    },
    {
      "cell_type": "code",
      "source": [
        "torch.is_grad_enabled()"
      ],
      "metadata": {
        "colab": {
          "base_uri": "https://localhost:8080/"
        },
        "id": "xOPU976vuUxL",
        "outputId": "a523a089-48d5-4303-c00a-e01be1add201"
      },
      "execution_count": 4,
      "outputs": [
        {
          "output_type": "execute_result",
          "data": {
            "text/plain": [
              "True"
            ]
          },
          "metadata": {},
          "execution_count": 4
        }
      ]
    },
    {
      "cell_type": "code",
      "source": [
        "a = torch.randn(1, 28, 28)\n",
        "\n",
        "assert len(a.shape) in (2, 4)"
      ],
      "metadata": {
        "colab": {
          "base_uri": "https://localhost:8080/",
          "height": 198
        },
        "id": "IektUvzau1WC",
        "outputId": "f1a9d952-1f2e-4dc3-ba63-20ebabc15a45"
      },
      "execution_count": 7,
      "outputs": [
        {
          "output_type": "error",
          "ename": "AssertionError",
          "evalue": "ignored",
          "traceback": [
            "\u001b[0;31m---------------------------------------------------------------------------\u001b[0m",
            "\u001b[0;31mAssertionError\u001b[0m                            Traceback (most recent call last)",
            "\u001b[0;32m<ipython-input-7-238658f4b4f3>\u001b[0m in \u001b[0;36m<module>\u001b[0;34m\u001b[0m\n\u001b[1;32m      1\u001b[0m \u001b[0ma\u001b[0m \u001b[0;34m=\u001b[0m \u001b[0mtorch\u001b[0m\u001b[0;34m.\u001b[0m\u001b[0mrandn\u001b[0m\u001b[0;34m(\u001b[0m\u001b[0;36m1\u001b[0m\u001b[0;34m,\u001b[0m \u001b[0;36m28\u001b[0m\u001b[0;34m,\u001b[0m \u001b[0;36m28\u001b[0m\u001b[0;34m)\u001b[0m\u001b[0;34m\u001b[0m\u001b[0;34m\u001b[0m\u001b[0m\n\u001b[1;32m      2\u001b[0m \u001b[0;34m\u001b[0m\u001b[0m\n\u001b[0;32m----> 3\u001b[0;31m \u001b[0;32massert\u001b[0m \u001b[0mlen\u001b[0m\u001b[0;34m(\u001b[0m\u001b[0ma\u001b[0m\u001b[0;34m.\u001b[0m\u001b[0mshape\u001b[0m\u001b[0;34m)\u001b[0m \u001b[0;32min\u001b[0m \u001b[0;34m(\u001b[0m\u001b[0;36m2\u001b[0m\u001b[0;34m,\u001b[0m \u001b[0;36m4\u001b[0m\u001b[0;34m)\u001b[0m\u001b[0;34m\u001b[0m\u001b[0;34m\u001b[0m\u001b[0m\n\u001b[0m",
            "\u001b[0;31mAssertionError\u001b[0m: "
          ]
        }
      ]
    },
    {
      "cell_type": "code",
      "source": [
        "a = torch.arange(16.).reshape(8, 2)\n",
        "print(a)"
      ],
      "metadata": {
        "colab": {
          "base_uri": "https://localhost:8080/"
        },
        "id": "qQRHwVnyvotu",
        "outputId": "4846a06c-06a0-4ec7-b9d0-0ba25afe7f0d"
      },
      "execution_count": 8,
      "outputs": [
        {
          "output_type": "stream",
          "name": "stdout",
          "text": [
            "tensor([[ 0.,  1.],\n",
            "        [ 2.,  3.],\n",
            "        [ 4.,  5.],\n",
            "        [ 6.,  7.],\n",
            "        [ 8.,  9.],\n",
            "        [10., 11.],\n",
            "        [12., 13.],\n",
            "        [14., 15.]])\n"
          ]
        }
      ]
    },
    {
      "cell_type": "code",
      "source": [
        "a_m = a.mean(dim=0)\n",
        "a_hat = a - a_m\n",
        "print(a_hat)"
      ],
      "metadata": {
        "colab": {
          "base_uri": "https://localhost:8080/"
        },
        "id": "xYJTclUGvw8z",
        "outputId": "bd8e61e4-b593-4eac-d1e9-a62d2c5504d8"
      },
      "execution_count": 10,
      "outputs": [
        {
          "output_type": "stream",
          "name": "stdout",
          "text": [
            "tensor([[-7., -7.],\n",
            "        [-5., -5.],\n",
            "        [-3., -3.],\n",
            "        [-1., -1.],\n",
            "        [ 1.,  1.],\n",
            "        [ 3.,  3.],\n",
            "        [ 5.,  5.],\n",
            "        [ 7.,  7.]])\n"
          ]
        }
      ]
    },
    {
      "cell_type": "code",
      "source": [
        "print(a_m.shape)\n",
        "print(a_m)"
      ],
      "metadata": {
        "colab": {
          "base_uri": "https://localhost:8080/"
        },
        "id": "IpnaSpa7wIAj",
        "outputId": "586cef3f-0c9b-42da-847b-dc1c3d8db32d"
      },
      "execution_count": 12,
      "outputs": [
        {
          "output_type": "stream",
          "name": "stdout",
          "text": [
            "torch.Size([2])\n",
            "tensor([7., 8.])\n"
          ]
        }
      ]
    },
    {
      "cell_type": "code",
      "source": [
        "torch.mean??"
      ],
      "metadata": {
        "id": "JwEQb_vuwRYH"
      },
      "execution_count": 14,
      "outputs": []
    },
    {
      "cell_type": "code",
      "source": [
        "b = torch.arange(96.).reshape(2, 3, 4, 4)\n",
        "print(b)"
      ],
      "metadata": {
        "colab": {
          "base_uri": "https://localhost:8080/"
        },
        "id": "BgZ0BzKSwnZq",
        "outputId": "c11f82b2-412b-46cf-9fc6-0b7f22b0faf3"
      },
      "execution_count": 15,
      "outputs": [
        {
          "output_type": "stream",
          "name": "stdout",
          "text": [
            "tensor([[[[ 0.,  1.,  2.,  3.],\n",
            "          [ 4.,  5.,  6.,  7.],\n",
            "          [ 8.,  9., 10., 11.],\n",
            "          [12., 13., 14., 15.]],\n",
            "\n",
            "         [[16., 17., 18., 19.],\n",
            "          [20., 21., 22., 23.],\n",
            "          [24., 25., 26., 27.],\n",
            "          [28., 29., 30., 31.]],\n",
            "\n",
            "         [[32., 33., 34., 35.],\n",
            "          [36., 37., 38., 39.],\n",
            "          [40., 41., 42., 43.],\n",
            "          [44., 45., 46., 47.]]],\n",
            "\n",
            "\n",
            "        [[[48., 49., 50., 51.],\n",
            "          [52., 53., 54., 55.],\n",
            "          [56., 57., 58., 59.],\n",
            "          [60., 61., 62., 63.]],\n",
            "\n",
            "         [[64., 65., 66., 67.],\n",
            "          [68., 69., 70., 71.],\n",
            "          [72., 73., 74., 75.],\n",
            "          [76., 77., 78., 79.]],\n",
            "\n",
            "         [[80., 81., 82., 83.],\n",
            "          [84., 85., 86., 87.],\n",
            "          [88., 89., 90., 91.],\n",
            "          [92., 93., 94., 95.]]]])\n"
          ]
        }
      ]
    },
    {
      "cell_type": "code",
      "source": [
        "print(f\"b.shape = {b.shape}\")\n",
        "b.mean(dim=(0, 2, 3), keepdim=True).shape"
      ],
      "metadata": {
        "colab": {
          "base_uri": "https://localhost:8080/"
        },
        "id": "ZMQP7IS0wykP",
        "outputId": "a36b67b1-10b7-405c-d753-2e7b0fe763aa"
      },
      "execution_count": 19,
      "outputs": [
        {
          "output_type": "stream",
          "name": "stdout",
          "text": [
            "b.shape = torch.Size([2, 3, 4, 4])\n"
          ]
        },
        {
          "output_type": "execute_result",
          "data": {
            "text/plain": [
              "torch.Size([3])"
            ]
          },
          "metadata": {},
          "execution_count": 19
        }
      ]
    },
    {
      "cell_type": "markdown",
      "source": [
        "this takes each channel for all the examples seperately and calculates the mean of each channel on the batch level"
      ],
      "metadata": {
        "id": "M8j8XvRCyqbC"
      }
    },
    {
      "cell_type": "code",
      "source": [
        "print(b.mean(dim=(0, 2, 3), keepdim=True).shape)"
      ],
      "metadata": {
        "colab": {
          "base_uri": "https://localhost:8080/"
        },
        "id": "zB20_TirxBRI",
        "outputId": "9321e08a-3621-4121-f2eb-06e209d537f6"
      },
      "execution_count": 24,
      "outputs": [
        {
          "output_type": "stream",
          "name": "stdout",
          "text": [
            "torch.Size([1, 3, 1, 1])\n"
          ]
        }
      ]
    },
    {
      "cell_type": "code",
      "source": [
        "b - b.mean(dim=(0, 2, 3), keepdim=True)"
      ],
      "metadata": {
        "colab": {
          "base_uri": "https://localhost:8080/"
        },
        "id": "QdkSf0OAy7vZ",
        "outputId": "7a8c9946-d40a-4abd-c733-c80cbaa27a8f"
      },
      "execution_count": 25,
      "outputs": [
        {
          "output_type": "execute_result",
          "data": {
            "text/plain": [
              "tensor([[[[-31.5000, -30.5000, -29.5000, -28.5000],\n",
              "          [-27.5000, -26.5000, -25.5000, -24.5000],\n",
              "          [-23.5000, -22.5000, -21.5000, -20.5000],\n",
              "          [-19.5000, -18.5000, -17.5000, -16.5000]],\n",
              "\n",
              "         [[-31.5000, -30.5000, -29.5000, -28.5000],\n",
              "          [-27.5000, -26.5000, -25.5000, -24.5000],\n",
              "          [-23.5000, -22.5000, -21.5000, -20.5000],\n",
              "          [-19.5000, -18.5000, -17.5000, -16.5000]],\n",
              "\n",
              "         [[-31.5000, -30.5000, -29.5000, -28.5000],\n",
              "          [-27.5000, -26.5000, -25.5000, -24.5000],\n",
              "          [-23.5000, -22.5000, -21.5000, -20.5000],\n",
              "          [-19.5000, -18.5000, -17.5000, -16.5000]]],\n",
              "\n",
              "\n",
              "        [[[ 16.5000,  17.5000,  18.5000,  19.5000],\n",
              "          [ 20.5000,  21.5000,  22.5000,  23.5000],\n",
              "          [ 24.5000,  25.5000,  26.5000,  27.5000],\n",
              "          [ 28.5000,  29.5000,  30.5000,  31.5000]],\n",
              "\n",
              "         [[ 16.5000,  17.5000,  18.5000,  19.5000],\n",
              "          [ 20.5000,  21.5000,  22.5000,  23.5000],\n",
              "          [ 24.5000,  25.5000,  26.5000,  27.5000],\n",
              "          [ 28.5000,  29.5000,  30.5000,  31.5000]],\n",
              "\n",
              "         [[ 16.5000,  17.5000,  18.5000,  19.5000],\n",
              "          [ 20.5000,  21.5000,  22.5000,  23.5000],\n",
              "          [ 24.5000,  25.5000,  26.5000,  27.5000],\n",
              "          [ 28.5000,  29.5000,  30.5000,  31.5000]]]])"
            ]
          },
          "metadata": {},
          "execution_count": 25
        }
      ]
    },
    {
      "cell_type": "code",
      "source": [
        "def batch_norm(X, gamma, beta, moving_mean, moving_var, eps, momentum):\n",
        "\n",
        "  # for prediction mode :\n",
        "  if not torch.is_grad_enabled():\n",
        "    X_hat = (X - moving_mean) / torch.sqrt(moving_var + eps)\n",
        "\n",
        "  else:\n",
        "    assert len(X.shape) in (2, 4)\n",
        "\n",
        "    if len(X.shape) == 2:\n",
        "      # for fully connected layers\n",
        "      # we calculate mean and variance for the feature dimension\n",
        "      mean = X.mean(dim=0)\n",
        "      var = ((X - mean) ** 2).mean(dim=0)\n",
        "\n",
        "    else:\n",
        "      # when using convulational layers we calculate the mean and variance on the channel dimension\n",
        "      mean = X.mean(dim=(0, 2, 3), keepdim=True)\n",
        "      var = ((X - mean) ** 2).mean(dim=(0, 2, 3), keepdim=True)\n",
        "\n",
        "    # in the training mode, the current mean and the variance are used\n",
        "    X_hat = (X - mean) / torch.sqrt(var + eps)\n",
        "\n",
        "    # update the mean and variance using moving avergae\n",
        "    moving_mean = (1.0 - momentum) * moving_mean + momentum * mean\n",
        "    moving_var = (1.0 - momentum) * moving_var + momentum * var\n",
        "\n",
        "  Y = gamma * X_hat + beta\n",
        "  return Y, moving_mean.data, moving_var.data"
      ],
      "metadata": {
        "id": "TVN73kT0uEO5"
      },
      "execution_count": 4,
      "outputs": []
    },
    {
      "cell_type": "code",
      "source": [
        "a = nn.Parameter(torch.ones(4, 3))\n",
        "a"
      ],
      "metadata": {
        "colab": {
          "base_uri": "https://localhost:8080/"
        },
        "id": "EU0PhesL13CA",
        "outputId": "6a17af61-2280-4635-fac0-4eb4bcba371c"
      },
      "execution_count": 26,
      "outputs": [
        {
          "output_type": "execute_result",
          "data": {
            "text/plain": [
              "Parameter containing:\n",
              "tensor([[1., 1., 1.],\n",
              "        [1., 1., 1.],\n",
              "        [1., 1., 1.],\n",
              "        [1., 1., 1.]], requires_grad=True)"
            ]
          },
          "metadata": {},
          "execution_count": 26
        }
      ]
    },
    {
      "cell_type": "code",
      "source": [
        "a.data"
      ],
      "metadata": {
        "colab": {
          "base_uri": "https://localhost:8080/"
        },
        "id": "DIgxCK9q19EZ",
        "outputId": "92474438-2add-49a5-a69d-617d830cdca0"
      },
      "execution_count": 27,
      "outputs": [
        {
          "output_type": "execute_result",
          "data": {
            "text/plain": [
              "tensor([[1., 1., 1.],\n",
              "        [1., 1., 1.],\n",
              "        [1., 1., 1.],\n",
              "        [1., 1., 1.]])"
            ]
          },
          "metadata": {},
          "execution_count": 27
        }
      ]
    },
    {
      "cell_type": "code",
      "source": [
        "c = torch.ones(1, 3)\n",
        "print(c.data)"
      ],
      "metadata": {
        "colab": {
          "base_uri": "https://localhost:8080/"
        },
        "id": "HHA9RIJs8wdi",
        "outputId": "6ff9d398-f7d0-444b-a794-ff114821341e"
      },
      "execution_count": 12,
      "outputs": [
        {
          "output_type": "stream",
          "name": "stdout",
          "text": [
            "tensor([[1., 1., 1.]])\n"
          ]
        }
      ]
    },
    {
      "cell_type": "code",
      "source": [
        "class BatchNorm(nn.Module):\n",
        "\n",
        "  def __init__(self, num_features, num_dims):\n",
        "    # num_dims : dimensions of input 2 or 4\n",
        "    # num_features : number of outputs\n",
        "    super().__init__()\n",
        "    if num_dims == 2:\n",
        "      shape = (1, num_features)\n",
        "    else:\n",
        "      shape = (1, num_features, 1, 1)\n",
        "\n",
        "    self.gamma = nn.Parameter(torch.ones(shape)) # scale factor\n",
        "    self.beta = nn.Parameter(torch.zeros(shape)) # shift parameter\n",
        "\n",
        "    self.moving_mean = torch.zeros(shape)\n",
        "    self.moving_var = torch.ones(shape)\n",
        "\n",
        "  def forward(self, X):\n",
        "    if self.moving_mean.device != X.device:\n",
        "      self.moving_mean = self.moving_mean.to(X.device)\n",
        "      self.moving_var = self.moving_var.to(X.device)\n",
        "\n",
        "    Y, self.moving_mean, self.moving_var = batch_norm(X, self.gamma, self.beta, self.moving_mean, self.moving_var, eps=1e-5, momentum=0.1)\n",
        "    return Y"
      ],
      "metadata": {
        "id": "q9etypjZ1-Gh"
      },
      "execution_count": 5,
      "outputs": []
    },
    {
      "cell_type": "code",
      "source": [
        "class BNLeNetScratch(d2l.Classifier):\n",
        "\n",
        "  def __init__(self, lr=0.1, num_classes=10):\n",
        "    super().__init__()\n",
        "    self.save_hyperparameters()\n",
        "    self.net = nn.Sequential(\n",
        "        nn.LazyConv2d(6, kernel_size=5), BatchNorm(num_features=6, num_dims=4),\n",
        "        nn.Sigmoid(), nn.AvgPool2d(kernel_size=2, stride=2),\n",
        "        nn.LazyConv2d(16, kernel_size=5), BatchNorm(16, num_dims=4),\n",
        "        nn.Sigmoid(), nn.AvgPool2d(kernel_size=2, stride=2),\n",
        "        nn.Flatten(),\n",
        "        nn.LazyLinear(120), BatchNorm(120, num_dims=2), nn.Sigmoid(),\n",
        "        nn.LazyLinear(84), BatchNorm(84, num_dims=2), nn.Sigmoid(),\n",
        "        nn.LazyLinear(num_classes)\n",
        "    )\n",
        "\n",
        "  def forward(self, X):\n",
        "    return self.net(X)"
      ],
      "metadata": {
        "id": "unBANeA_2lk7"
      },
      "execution_count": 6,
      "outputs": []
    },
    {
      "cell_type": "markdown",
      "source": [
        "just took 2min 52seconds to train using CPU"
      ],
      "metadata": {
        "id": "sYSOfZ_2_1I_"
      }
    },
    {
      "cell_type": "code",
      "source": [
        "trainer = d2l.Trainer(max_epochs=10, num_gpus=1)\n",
        "data = d2l.FashionMNIST(batch_size=128)\n",
        "model = BNLeNetScratch(lr=0.1)\n",
        "model.apply_init([next(iter(data.get_dataloader(train=True)))[0]], d2l.init_cnn)\n",
        "trainer.fit(model, data)"
      ],
      "metadata": {
        "colab": {
          "base_uri": "https://localhost:8080/",
          "height": 262
        },
        "id": "4ACSDgMx7U4i",
        "outputId": "e0073c65-736c-40b7-ded9-4feb9a3be848"
      },
      "execution_count": 10,
      "outputs": [
        {
          "output_type": "display_data",
          "data": {
            "text/plain": [
              "<Figure size 252x180 with 1 Axes>"
            ],
            "image/svg+xml": "<?xml version=\"1.0\" encoding=\"utf-8\" standalone=\"no\"?>\n<!DOCTYPE svg PUBLIC \"-//W3C//DTD SVG 1.1//EN\"\n  \"http://www.w3.org/Graphics/SVG/1.1/DTD/svg11.dtd\">\n<!-- Created with matplotlib (https://matplotlib.org/) -->\n<svg height=\"180.65625pt\" version=\"1.1\" viewBox=\"0 0 238.965625 180.65625\" width=\"238.965625pt\" xmlns=\"http://www.w3.org/2000/svg\" xmlns:xlink=\"http://www.w3.org/1999/xlink\">\n <defs>\n  <style type=\"text/css\">\n*{stroke-linecap:butt;stroke-linejoin:round;}\n  </style>\n </defs>\n <g id=\"figure_1\">\n  <g id=\"patch_1\">\n   <path d=\"M 0 180.65625 \nL 238.965625 180.65625 \nL 238.965625 0 \nL 0 0 \nz\n\" style=\"fill:none;\"/>\n  </g>\n  <g id=\"axes_1\">\n   <g id=\"patch_2\">\n    <path d=\"M 30.103125 143.1 \nL 225.403125 143.1 \nL 225.403125 7.2 \nL 30.103125 7.2 \nz\n\" style=\"fill:#ffffff;\"/>\n   </g>\n   <g id=\"matplotlib.axis_1\">\n    <g id=\"xtick_1\">\n     <g id=\"line2d_1\">\n      <defs>\n       <path d=\"M 0 0 \nL 0 3.5 \n\" id=\"mbfeb7cdeb5\" style=\"stroke:#000000;stroke-width:0.8;\"/>\n      </defs>\n      <g>\n       <use style=\"stroke:#000000;stroke-width:0.8;\" x=\"30.103125\" xlink:href=\"#mbfeb7cdeb5\" y=\"143.1\"/>\n      </g>\n     </g>\n     <g id=\"text_1\">\n      <!-- 0 -->\n      <defs>\n       <path d=\"M 31.78125 66.40625 \nQ 24.171875 66.40625 20.328125 58.90625 \nQ 16.5 51.421875 16.5 36.375 \nQ 16.5 21.390625 20.328125 13.890625 \nQ 24.171875 6.390625 31.78125 6.390625 \nQ 39.453125 6.390625 43.28125 13.890625 \nQ 47.125 21.390625 47.125 36.375 \nQ 47.125 51.421875 43.28125 58.90625 \nQ 39.453125 66.40625 31.78125 66.40625 \nz\nM 31.78125 74.21875 \nQ 44.046875 74.21875 50.515625 64.515625 \nQ 56.984375 54.828125 56.984375 36.375 \nQ 56.984375 17.96875 50.515625 8.265625 \nQ 44.046875 -1.421875 31.78125 -1.421875 \nQ 19.53125 -1.421875 13.0625 8.265625 \nQ 6.59375 17.96875 6.59375 36.375 \nQ 6.59375 54.828125 13.0625 64.515625 \nQ 19.53125 74.21875 31.78125 74.21875 \nz\n\" id=\"DejaVuSans-48\"/>\n      </defs>\n      <g transform=\"translate(26.921875 157.698438)scale(0.1 -0.1)\">\n       <use xlink:href=\"#DejaVuSans-48\"/>\n      </g>\n     </g>\n    </g>\n    <g id=\"xtick_2\">\n     <g id=\"line2d_2\">\n      <g>\n       <use style=\"stroke:#000000;stroke-width:0.8;\" x=\"69.163125\" xlink:href=\"#mbfeb7cdeb5\" y=\"143.1\"/>\n      </g>\n     </g>\n     <g id=\"text_2\">\n      <!-- 2 -->\n      <defs>\n       <path d=\"M 19.1875 8.296875 \nL 53.609375 8.296875 \nL 53.609375 0 \nL 7.328125 0 \nL 7.328125 8.296875 \nQ 12.9375 14.109375 22.625 23.890625 \nQ 32.328125 33.6875 34.8125 36.53125 \nQ 39.546875 41.84375 41.421875 45.53125 \nQ 43.3125 49.21875 43.3125 52.78125 \nQ 43.3125 58.59375 39.234375 62.25 \nQ 35.15625 65.921875 28.609375 65.921875 \nQ 23.96875 65.921875 18.8125 64.3125 \nQ 13.671875 62.703125 7.8125 59.421875 \nL 7.8125 69.390625 \nQ 13.765625 71.78125 18.9375 73 \nQ 24.125 74.21875 28.421875 74.21875 \nQ 39.75 74.21875 46.484375 68.546875 \nQ 53.21875 62.890625 53.21875 53.421875 \nQ 53.21875 48.921875 51.53125 44.890625 \nQ 49.859375 40.875 45.40625 35.40625 \nQ 44.1875 33.984375 37.640625 27.21875 \nQ 31.109375 20.453125 19.1875 8.296875 \nz\n\" id=\"DejaVuSans-50\"/>\n      </defs>\n      <g transform=\"translate(65.981875 157.698438)scale(0.1 -0.1)\">\n       <use xlink:href=\"#DejaVuSans-50\"/>\n      </g>\n     </g>\n    </g>\n    <g id=\"xtick_3\">\n     <g id=\"line2d_3\">\n      <g>\n       <use style=\"stroke:#000000;stroke-width:0.8;\" x=\"108.223125\" xlink:href=\"#mbfeb7cdeb5\" y=\"143.1\"/>\n      </g>\n     </g>\n     <g id=\"text_3\">\n      <!-- 4 -->\n      <defs>\n       <path d=\"M 37.796875 64.3125 \nL 12.890625 25.390625 \nL 37.796875 25.390625 \nz\nM 35.203125 72.90625 \nL 47.609375 72.90625 \nL 47.609375 25.390625 \nL 58.015625 25.390625 \nL 58.015625 17.1875 \nL 47.609375 17.1875 \nL 47.609375 0 \nL 37.796875 0 \nL 37.796875 17.1875 \nL 4.890625 17.1875 \nL 4.890625 26.703125 \nz\n\" id=\"DejaVuSans-52\"/>\n      </defs>\n      <g transform=\"translate(105.041875 157.698438)scale(0.1 -0.1)\">\n       <use xlink:href=\"#DejaVuSans-52\"/>\n      </g>\n     </g>\n    </g>\n    <g id=\"xtick_4\">\n     <g id=\"line2d_4\">\n      <g>\n       <use style=\"stroke:#000000;stroke-width:0.8;\" x=\"147.283125\" xlink:href=\"#mbfeb7cdeb5\" y=\"143.1\"/>\n      </g>\n     </g>\n     <g id=\"text_4\">\n      <!-- 6 -->\n      <defs>\n       <path d=\"M 33.015625 40.375 \nQ 26.375 40.375 22.484375 35.828125 \nQ 18.609375 31.296875 18.609375 23.390625 \nQ 18.609375 15.53125 22.484375 10.953125 \nQ 26.375 6.390625 33.015625 6.390625 \nQ 39.65625 6.390625 43.53125 10.953125 \nQ 47.40625 15.53125 47.40625 23.390625 \nQ 47.40625 31.296875 43.53125 35.828125 \nQ 39.65625 40.375 33.015625 40.375 \nz\nM 52.59375 71.296875 \nL 52.59375 62.3125 \nQ 48.875 64.0625 45.09375 64.984375 \nQ 41.3125 65.921875 37.59375 65.921875 \nQ 27.828125 65.921875 22.671875 59.328125 \nQ 17.53125 52.734375 16.796875 39.40625 \nQ 19.671875 43.65625 24.015625 45.921875 \nQ 28.375 48.1875 33.59375 48.1875 \nQ 44.578125 48.1875 50.953125 41.515625 \nQ 57.328125 34.859375 57.328125 23.390625 \nQ 57.328125 12.15625 50.6875 5.359375 \nQ 44.046875 -1.421875 33.015625 -1.421875 \nQ 20.359375 -1.421875 13.671875 8.265625 \nQ 6.984375 17.96875 6.984375 36.375 \nQ 6.984375 53.65625 15.1875 63.9375 \nQ 23.390625 74.21875 37.203125 74.21875 \nQ 40.921875 74.21875 44.703125 73.484375 \nQ 48.484375 72.75 52.59375 71.296875 \nz\n\" id=\"DejaVuSans-54\"/>\n      </defs>\n      <g transform=\"translate(144.101875 157.698438)scale(0.1 -0.1)\">\n       <use xlink:href=\"#DejaVuSans-54\"/>\n      </g>\n     </g>\n    </g>\n    <g id=\"xtick_5\">\n     <g id=\"line2d_5\">\n      <g>\n       <use style=\"stroke:#000000;stroke-width:0.8;\" x=\"186.343125\" xlink:href=\"#mbfeb7cdeb5\" y=\"143.1\"/>\n      </g>\n     </g>\n     <g id=\"text_5\">\n      <!-- 8 -->\n      <defs>\n       <path d=\"M 31.78125 34.625 \nQ 24.75 34.625 20.71875 30.859375 \nQ 16.703125 27.09375 16.703125 20.515625 \nQ 16.703125 13.921875 20.71875 10.15625 \nQ 24.75 6.390625 31.78125 6.390625 \nQ 38.8125 6.390625 42.859375 10.171875 \nQ 46.921875 13.96875 46.921875 20.515625 \nQ 46.921875 27.09375 42.890625 30.859375 \nQ 38.875 34.625 31.78125 34.625 \nz\nM 21.921875 38.8125 \nQ 15.578125 40.375 12.03125 44.71875 \nQ 8.5 49.078125 8.5 55.328125 \nQ 8.5 64.0625 14.71875 69.140625 \nQ 20.953125 74.21875 31.78125 74.21875 \nQ 42.671875 74.21875 48.875 69.140625 \nQ 55.078125 64.0625 55.078125 55.328125 \nQ 55.078125 49.078125 51.53125 44.71875 \nQ 48 40.375 41.703125 38.8125 \nQ 48.828125 37.15625 52.796875 32.3125 \nQ 56.78125 27.484375 56.78125 20.515625 \nQ 56.78125 9.90625 50.3125 4.234375 \nQ 43.84375 -1.421875 31.78125 -1.421875 \nQ 19.734375 -1.421875 13.25 4.234375 \nQ 6.78125 9.90625 6.78125 20.515625 \nQ 6.78125 27.484375 10.78125 32.3125 \nQ 14.796875 37.15625 21.921875 38.8125 \nz\nM 18.3125 54.390625 \nQ 18.3125 48.734375 21.84375 45.5625 \nQ 25.390625 42.390625 31.78125 42.390625 \nQ 38.140625 42.390625 41.71875 45.5625 \nQ 45.3125 48.734375 45.3125 54.390625 \nQ 45.3125 60.0625 41.71875 63.234375 \nQ 38.140625 66.40625 31.78125 66.40625 \nQ 25.390625 66.40625 21.84375 63.234375 \nQ 18.3125 60.0625 18.3125 54.390625 \nz\n\" id=\"DejaVuSans-56\"/>\n      </defs>\n      <g transform=\"translate(183.161875 157.698438)scale(0.1 -0.1)\">\n       <use xlink:href=\"#DejaVuSans-56\"/>\n      </g>\n     </g>\n    </g>\n    <g id=\"xtick_6\">\n     <g id=\"line2d_6\">\n      <g>\n       <use style=\"stroke:#000000;stroke-width:0.8;\" x=\"225.403125\" xlink:href=\"#mbfeb7cdeb5\" y=\"143.1\"/>\n      </g>\n     </g>\n     <g id=\"text_6\">\n      <!-- 10 -->\n      <defs>\n       <path d=\"M 12.40625 8.296875 \nL 28.515625 8.296875 \nL 28.515625 63.921875 \nL 10.984375 60.40625 \nL 10.984375 69.390625 \nL 28.421875 72.90625 \nL 38.28125 72.90625 \nL 38.28125 8.296875 \nL 54.390625 8.296875 \nL 54.390625 0 \nL 12.40625 0 \nz\n\" id=\"DejaVuSans-49\"/>\n      </defs>\n      <g transform=\"translate(219.040625 157.698438)scale(0.1 -0.1)\">\n       <use xlink:href=\"#DejaVuSans-49\"/>\n       <use x=\"63.623047\" xlink:href=\"#DejaVuSans-48\"/>\n      </g>\n     </g>\n    </g>\n    <g id=\"text_7\">\n     <!-- epoch -->\n     <defs>\n      <path d=\"M 56.203125 29.59375 \nL 56.203125 25.203125 \nL 14.890625 25.203125 \nQ 15.484375 15.921875 20.484375 11.0625 \nQ 25.484375 6.203125 34.421875 6.203125 \nQ 39.59375 6.203125 44.453125 7.46875 \nQ 49.3125 8.734375 54.109375 11.28125 \nL 54.109375 2.78125 \nQ 49.265625 0.734375 44.1875 -0.34375 \nQ 39.109375 -1.421875 33.890625 -1.421875 \nQ 20.796875 -1.421875 13.15625 6.1875 \nQ 5.515625 13.8125 5.515625 26.8125 \nQ 5.515625 40.234375 12.765625 48.109375 \nQ 20.015625 56 32.328125 56 \nQ 43.359375 56 49.78125 48.890625 \nQ 56.203125 41.796875 56.203125 29.59375 \nz\nM 47.21875 32.234375 \nQ 47.125 39.59375 43.09375 43.984375 \nQ 39.0625 48.390625 32.421875 48.390625 \nQ 24.90625 48.390625 20.390625 44.140625 \nQ 15.875 39.890625 15.1875 32.171875 \nz\n\" id=\"DejaVuSans-101\"/>\n      <path d=\"M 18.109375 8.203125 \nL 18.109375 -20.796875 \nL 9.078125 -20.796875 \nL 9.078125 54.6875 \nL 18.109375 54.6875 \nL 18.109375 46.390625 \nQ 20.953125 51.265625 25.265625 53.625 \nQ 29.59375 56 35.59375 56 \nQ 45.5625 56 51.78125 48.09375 \nQ 58.015625 40.1875 58.015625 27.296875 \nQ 58.015625 14.40625 51.78125 6.484375 \nQ 45.5625 -1.421875 35.59375 -1.421875 \nQ 29.59375 -1.421875 25.265625 0.953125 \nQ 20.953125 3.328125 18.109375 8.203125 \nz\nM 48.6875 27.296875 \nQ 48.6875 37.203125 44.609375 42.84375 \nQ 40.53125 48.484375 33.40625 48.484375 \nQ 26.265625 48.484375 22.1875 42.84375 \nQ 18.109375 37.203125 18.109375 27.296875 \nQ 18.109375 17.390625 22.1875 11.75 \nQ 26.265625 6.109375 33.40625 6.109375 \nQ 40.53125 6.109375 44.609375 11.75 \nQ 48.6875 17.390625 48.6875 27.296875 \nz\n\" id=\"DejaVuSans-112\"/>\n      <path d=\"M 30.609375 48.390625 \nQ 23.390625 48.390625 19.1875 42.75 \nQ 14.984375 37.109375 14.984375 27.296875 \nQ 14.984375 17.484375 19.15625 11.84375 \nQ 23.34375 6.203125 30.609375 6.203125 \nQ 37.796875 6.203125 41.984375 11.859375 \nQ 46.1875 17.53125 46.1875 27.296875 \nQ 46.1875 37.015625 41.984375 42.703125 \nQ 37.796875 48.390625 30.609375 48.390625 \nz\nM 30.609375 56 \nQ 42.328125 56 49.015625 48.375 \nQ 55.71875 40.765625 55.71875 27.296875 \nQ 55.71875 13.875 49.015625 6.21875 \nQ 42.328125 -1.421875 30.609375 -1.421875 \nQ 18.84375 -1.421875 12.171875 6.21875 \nQ 5.515625 13.875 5.515625 27.296875 \nQ 5.515625 40.765625 12.171875 48.375 \nQ 18.84375 56 30.609375 56 \nz\n\" id=\"DejaVuSans-111\"/>\n      <path d=\"M 48.78125 52.59375 \nL 48.78125 44.1875 \nQ 44.96875 46.296875 41.140625 47.34375 \nQ 37.3125 48.390625 33.40625 48.390625 \nQ 24.65625 48.390625 19.8125 42.84375 \nQ 14.984375 37.3125 14.984375 27.296875 \nQ 14.984375 17.28125 19.8125 11.734375 \nQ 24.65625 6.203125 33.40625 6.203125 \nQ 37.3125 6.203125 41.140625 7.25 \nQ 44.96875 8.296875 48.78125 10.40625 \nL 48.78125 2.09375 \nQ 45.015625 0.34375 40.984375 -0.53125 \nQ 36.96875 -1.421875 32.421875 -1.421875 \nQ 20.0625 -1.421875 12.78125 6.34375 \nQ 5.515625 14.109375 5.515625 27.296875 \nQ 5.515625 40.671875 12.859375 48.328125 \nQ 20.21875 56 33.015625 56 \nQ 37.15625 56 41.109375 55.140625 \nQ 45.0625 54.296875 48.78125 52.59375 \nz\n\" id=\"DejaVuSans-99\"/>\n      <path d=\"M 54.890625 33.015625 \nL 54.890625 0 \nL 45.90625 0 \nL 45.90625 32.71875 \nQ 45.90625 40.484375 42.875 44.328125 \nQ 39.84375 48.1875 33.796875 48.1875 \nQ 26.515625 48.1875 22.3125 43.546875 \nQ 18.109375 38.921875 18.109375 30.90625 \nL 18.109375 0 \nL 9.078125 0 \nL 9.078125 75.984375 \nL 18.109375 75.984375 \nL 18.109375 46.1875 \nQ 21.34375 51.125 25.703125 53.5625 \nQ 30.078125 56 35.796875 56 \nQ 45.21875 56 50.046875 50.171875 \nQ 54.890625 44.34375 54.890625 33.015625 \nz\n\" id=\"DejaVuSans-104\"/>\n     </defs>\n     <g transform=\"translate(112.525 171.376563)scale(0.1 -0.1)\">\n      <use xlink:href=\"#DejaVuSans-101\"/>\n      <use x=\"61.523438\" xlink:href=\"#DejaVuSans-112\"/>\n      <use x=\"125\" xlink:href=\"#DejaVuSans-111\"/>\n      <use x=\"186.181641\" xlink:href=\"#DejaVuSans-99\"/>\n      <use x=\"241.162109\" xlink:href=\"#DejaVuSans-104\"/>\n     </g>\n    </g>\n   </g>\n   <g id=\"matplotlib.axis_2\">\n    <g id=\"ytick_1\">\n     <g id=\"line2d_7\">\n      <defs>\n       <path d=\"M 0 0 \nL -3.5 0 \n\" id=\"m2e26452f60\" style=\"stroke:#000000;stroke-width:0.8;\"/>\n      </defs>\n      <g>\n       <use style=\"stroke:#000000;stroke-width:0.8;\" x=\"30.103125\" xlink:href=\"#m2e26452f60\" y=\"118.302598\"/>\n      </g>\n     </g>\n     <g id=\"text_8\">\n      <!-- 0.4 -->\n      <defs>\n       <path d=\"M 10.6875 12.40625 \nL 21 12.40625 \nL 21 0 \nL 10.6875 0 \nz\n\" id=\"DejaVuSans-46\"/>\n      </defs>\n      <g transform=\"translate(7.2 122.101817)scale(0.1 -0.1)\">\n       <use xlink:href=\"#DejaVuSans-48\"/>\n       <use x=\"63.623047\" xlink:href=\"#DejaVuSans-46\"/>\n       <use x=\"95.410156\" xlink:href=\"#DejaVuSans-52\"/>\n      </g>\n     </g>\n    </g>\n    <g id=\"ytick_2\">\n     <g id=\"line2d_8\">\n      <g>\n       <use style=\"stroke:#000000;stroke-width:0.8;\" x=\"30.103125\" xlink:href=\"#m2e26452f60\" y=\"79.899013\"/>\n      </g>\n     </g>\n     <g id=\"text_9\">\n      <!-- 0.6 -->\n      <g transform=\"translate(7.2 83.698231)scale(0.1 -0.1)\">\n       <use xlink:href=\"#DejaVuSans-48\"/>\n       <use x=\"63.623047\" xlink:href=\"#DejaVuSans-46\"/>\n       <use x=\"95.410156\" xlink:href=\"#DejaVuSans-54\"/>\n      </g>\n     </g>\n    </g>\n    <g id=\"ytick_3\">\n     <g id=\"line2d_9\">\n      <g>\n       <use style=\"stroke:#000000;stroke-width:0.8;\" x=\"30.103125\" xlink:href=\"#m2e26452f60\" y=\"41.495427\"/>\n      </g>\n     </g>\n     <g id=\"text_10\">\n      <!-- 0.8 -->\n      <g transform=\"translate(7.2 45.294646)scale(0.1 -0.1)\">\n       <use xlink:href=\"#DejaVuSans-48\"/>\n       <use x=\"63.623047\" xlink:href=\"#DejaVuSans-46\"/>\n       <use x=\"95.410156\" xlink:href=\"#DejaVuSans-56\"/>\n      </g>\n     </g>\n    </g>\n   </g>\n   <g id=\"line2d_10\">\n    <path clip-path=\"url(#pdcd7c942b3)\" d=\"M 34.954394 13.377273 \n\" style=\"fill:none;stroke:#1f77b4;stroke-linecap:square;stroke-width:1.5;\"/>\n   </g>\n   <g id=\"line2d_11\">\n    <path clip-path=\"url(#pdcd7c942b3)\" d=\"M 34.954394 13.377273 \nL 44.698573 77.342482 \n\" style=\"fill:none;stroke:#1f77b4;stroke-linecap:square;stroke-width:1.5;\"/>\n   </g>\n   <g id=\"line2d_12\">\n    <path clip-path=\"url(#pdcd7c942b3)\" d=\"M 34.954394 13.377273 \nL 44.698573 77.342482 \n\" style=\"fill:none;stroke:#1f77b4;stroke-linecap:square;stroke-width:1.5;\"/>\n   </g>\n   <g id=\"line2d_13\">\n    <path clip-path=\"url(#pdcd7c942b3)\" d=\"M 49.633125 69.165436 \n\" style=\"fill:none;stroke:#ff7f0e;stroke-dasharray:5.55,2.4;stroke-dashoffset:0;stroke-width:1.5;\"/>\n   </g>\n   <g id=\"line2d_14\"/>\n   <g id=\"line2d_15\">\n    <path clip-path=\"url(#pdcd7c942b3)\" d=\"M 34.954394 13.377273 \nL 44.698573 77.342482 \n\" style=\"fill:none;stroke:#1f77b4;stroke-linecap:square;stroke-width:1.5;\"/>\n   </g>\n   <g id=\"line2d_16\">\n    <path clip-path=\"url(#pdcd7c942b3)\" d=\"M 49.633125 69.165436 \n\" style=\"fill:none;stroke:#ff7f0e;stroke-dasharray:5.55,2.4;stroke-dashoffset:0;stroke-width:1.5;\"/>\n   </g>\n   <g id=\"line2d_17\">\n    <path clip-path=\"url(#pdcd7c942b3)\" d=\"M 49.633125 44.241253 \n\" style=\"fill:none;stroke:#2ca02c;stroke-dasharray:9.6,2.4,1.5,2.4;stroke-dashoffset:0;stroke-width:1.5;\"/>\n   </g>\n   <g id=\"line2d_18\">\n    <path clip-path=\"url(#pdcd7c942b3)\" d=\"M 34.954394 13.377273 \nL 44.698573 77.342482 \nL 54.442752 92.682281 \n\" style=\"fill:none;stroke:#1f77b4;stroke-linecap:square;stroke-width:1.5;\"/>\n   </g>\n   <g id=\"line2d_19\">\n    <path clip-path=\"url(#pdcd7c942b3)\" d=\"M 49.633125 69.165436 \n\" style=\"fill:none;stroke:#ff7f0e;stroke-dasharray:5.55,2.4;stroke-dashoffset:0;stroke-width:1.5;\"/>\n   </g>\n   <g id=\"line2d_20\">\n    <path clip-path=\"url(#pdcd7c942b3)\" d=\"M 49.633125 44.241253 \n\" style=\"fill:none;stroke:#2ca02c;stroke-dasharray:9.6,2.4,1.5,2.4;stroke-dashoffset:0;stroke-width:1.5;\"/>\n   </g>\n   <g id=\"line2d_21\">\n    <path clip-path=\"url(#pdcd7c942b3)\" d=\"M 34.954394 13.377273 \nL 44.698573 77.342482 \nL 54.442752 92.682281 \nL 64.186931 103.176272 \n\" style=\"fill:none;stroke:#1f77b4;stroke-linecap:square;stroke-width:1.5;\"/>\n   </g>\n   <g id=\"line2d_22\">\n    <path clip-path=\"url(#pdcd7c942b3)\" d=\"M 49.633125 69.165436 \n\" style=\"fill:none;stroke:#ff7f0e;stroke-dasharray:5.55,2.4;stroke-dashoffset:0;stroke-width:1.5;\"/>\n   </g>\n   <g id=\"line2d_23\">\n    <path clip-path=\"url(#pdcd7c942b3)\" d=\"M 49.633125 44.241253 \n\" style=\"fill:none;stroke:#2ca02c;stroke-dasharray:9.6,2.4,1.5,2.4;stroke-dashoffset:0;stroke-width:1.5;\"/>\n   </g>\n   <g id=\"line2d_24\">\n    <path clip-path=\"url(#pdcd7c942b3)\" d=\"M 34.954394 13.377273 \nL 44.698573 77.342482 \nL 54.442752 92.682281 \nL 64.186931 103.176272 \n\" style=\"fill:none;stroke:#1f77b4;stroke-linecap:square;stroke-width:1.5;\"/>\n   </g>\n   <g id=\"line2d_25\">\n    <path clip-path=\"url(#pdcd7c942b3)\" d=\"M 49.633125 69.165436 \nL 69.163125 77.939957 \n\" style=\"fill:none;stroke:#ff7f0e;stroke-dasharray:5.55,2.4;stroke-dashoffset:0;stroke-width:1.5;\"/>\n   </g>\n   <g id=\"line2d_26\">\n    <path clip-path=\"url(#pdcd7c942b3)\" d=\"M 49.633125 44.241253 \n\" style=\"fill:none;stroke:#2ca02c;stroke-dasharray:9.6,2.4,1.5,2.4;stroke-dashoffset:0;stroke-width:1.5;\"/>\n   </g>\n   <g id=\"line2d_27\">\n    <path clip-path=\"url(#pdcd7c942b3)\" d=\"M 34.954394 13.377273 \nL 44.698573 77.342482 \nL 54.442752 92.682281 \nL 64.186931 103.176272 \n\" style=\"fill:none;stroke:#1f77b4;stroke-linecap:square;stroke-width:1.5;\"/>\n   </g>\n   <g id=\"line2d_28\">\n    <path clip-path=\"url(#pdcd7c942b3)\" d=\"M 49.633125 69.165436 \nL 69.163125 77.939957 \n\" style=\"fill:none;stroke:#ff7f0e;stroke-dasharray:5.55,2.4;stroke-dashoffset:0;stroke-width:1.5;\"/>\n   </g>\n   <g id=\"line2d_29\">\n    <path clip-path=\"url(#pdcd7c942b3)\" d=\"M 49.633125 44.241253 \nL 69.163125 44.810927 \n\" style=\"fill:none;stroke:#2ca02c;stroke-dasharray:9.6,2.4,1.5,2.4;stroke-dashoffset:0;stroke-width:1.5;\"/>\n   </g>\n   <g id=\"line2d_30\">\n    <path clip-path=\"url(#pdcd7c942b3)\" d=\"M 34.954394 13.377273 \nL 44.698573 77.342482 \nL 54.442752 92.682281 \nL 64.186931 103.176272 \nL 73.93111 108.307862 \n\" style=\"fill:none;stroke:#1f77b4;stroke-linecap:square;stroke-width:1.5;\"/>\n   </g>\n   <g id=\"line2d_31\">\n    <path clip-path=\"url(#pdcd7c942b3)\" d=\"M 49.633125 69.165436 \nL 69.163125 77.939957 \n\" style=\"fill:none;stroke:#ff7f0e;stroke-dasharray:5.55,2.4;stroke-dashoffset:0;stroke-width:1.5;\"/>\n   </g>\n   <g id=\"line2d_32\">\n    <path clip-path=\"url(#pdcd7c942b3)\" d=\"M 49.633125 44.241253 \nL 69.163125 44.810927 \n\" style=\"fill:none;stroke:#2ca02c;stroke-dasharray:9.6,2.4,1.5,2.4;stroke-dashoffset:0;stroke-width:1.5;\"/>\n   </g>\n   <g id=\"line2d_33\">\n    <path clip-path=\"url(#pdcd7c942b3)\" d=\"M 34.954394 13.377273 \nL 44.698573 77.342482 \nL 54.442752 92.682281 \nL 64.186931 103.176272 \nL 73.93111 108.307862 \nL 83.675289 112.782959 \n\" style=\"fill:none;stroke:#1f77b4;stroke-linecap:square;stroke-width:1.5;\"/>\n   </g>\n   <g id=\"line2d_34\">\n    <path clip-path=\"url(#pdcd7c942b3)\" d=\"M 49.633125 69.165436 \nL 69.163125 77.939957 \n\" style=\"fill:none;stroke:#ff7f0e;stroke-dasharray:5.55,2.4;stroke-dashoffset:0;stroke-width:1.5;\"/>\n   </g>\n   <g id=\"line2d_35\">\n    <path clip-path=\"url(#pdcd7c942b3)\" d=\"M 49.633125 44.241253 \nL 69.163125 44.810927 \n\" style=\"fill:none;stroke:#2ca02c;stroke-dasharray:9.6,2.4,1.5,2.4;stroke-dashoffset:0;stroke-width:1.5;\"/>\n   </g>\n   <g id=\"line2d_36\">\n    <path clip-path=\"url(#pdcd7c942b3)\" d=\"M 34.954394 13.377273 \nL 44.698573 77.342482 \nL 54.442752 92.682281 \nL 64.186931 103.176272 \nL 73.93111 108.307862 \nL 83.675289 112.782959 \n\" style=\"fill:none;stroke:#1f77b4;stroke-linecap:square;stroke-width:1.5;\"/>\n   </g>\n   <g id=\"line2d_37\">\n    <path clip-path=\"url(#pdcd7c942b3)\" d=\"M 49.633125 69.165436 \nL 69.163125 77.939957 \nL 88.693125 69.572228 \n\" style=\"fill:none;stroke:#ff7f0e;stroke-dasharray:5.55,2.4;stroke-dashoffset:0;stroke-width:1.5;\"/>\n   </g>\n   <g id=\"line2d_38\">\n    <path clip-path=\"url(#pdcd7c942b3)\" d=\"M 49.633125 44.241253 \nL 69.163125 44.810927 \n\" style=\"fill:none;stroke:#2ca02c;stroke-dasharray:9.6,2.4,1.5,2.4;stroke-dashoffset:0;stroke-width:1.5;\"/>\n   </g>\n   <g id=\"line2d_39\">\n    <path clip-path=\"url(#pdcd7c942b3)\" d=\"M 34.954394 13.377273 \nL 44.698573 77.342482 \nL 54.442752 92.682281 \nL 64.186931 103.176272 \nL 73.93111 108.307862 \nL 83.675289 112.782959 \n\" style=\"fill:none;stroke:#1f77b4;stroke-linecap:square;stroke-width:1.5;\"/>\n   </g>\n   <g id=\"line2d_40\">\n    <path clip-path=\"url(#pdcd7c942b3)\" d=\"M 49.633125 69.165436 \nL 69.163125 77.939957 \nL 88.693125 69.572228 \n\" style=\"fill:none;stroke:#ff7f0e;stroke-dasharray:5.55,2.4;stroke-dashoffset:0;stroke-width:1.5;\"/>\n   </g>\n   <g id=\"line2d_41\">\n    <path clip-path=\"url(#pdcd7c942b3)\" d=\"M 49.633125 44.241253 \nL 69.163125 44.810927 \nL 88.693125 44.981829 \n\" style=\"fill:none;stroke:#2ca02c;stroke-dasharray:9.6,2.4,1.5,2.4;stroke-dashoffset:0;stroke-width:1.5;\"/>\n   </g>\n   <g id=\"line2d_42\">\n    <path clip-path=\"url(#pdcd7c942b3)\" d=\"M 34.954394 13.377273 \nL 44.698573 77.342482 \nL 54.442752 92.682281 \nL 64.186931 103.176272 \nL 73.93111 108.307862 \nL 83.675289 112.782959 \nL 93.419468 116.18626 \n\" style=\"fill:none;stroke:#1f77b4;stroke-linecap:square;stroke-width:1.5;\"/>\n   </g>\n   <g id=\"line2d_43\">\n    <path clip-path=\"url(#pdcd7c942b3)\" d=\"M 49.633125 69.165436 \nL 69.163125 77.939957 \nL 88.693125 69.572228 \n\" style=\"fill:none;stroke:#ff7f0e;stroke-dasharray:5.55,2.4;stroke-dashoffset:0;stroke-width:1.5;\"/>\n   </g>\n   <g id=\"line2d_44\">\n    <path clip-path=\"url(#pdcd7c942b3)\" d=\"M 49.633125 44.241253 \nL 69.163125 44.810927 \nL 88.693125 44.981829 \n\" style=\"fill:none;stroke:#2ca02c;stroke-dasharray:9.6,2.4,1.5,2.4;stroke-dashoffset:0;stroke-width:1.5;\"/>\n   </g>\n   <g id=\"line2d_45\">\n    <path clip-path=\"url(#pdcd7c942b3)\" d=\"M 34.954394 13.377273 \nL 44.698573 77.342482 \nL 54.442752 92.682281 \nL 64.186931 103.176272 \nL 73.93111 108.307862 \nL 83.675289 112.782959 \nL 93.419468 116.18626 \nL 103.163647 120.073093 \n\" style=\"fill:none;stroke:#1f77b4;stroke-linecap:square;stroke-width:1.5;\"/>\n   </g>\n   <g id=\"line2d_46\">\n    <path clip-path=\"url(#pdcd7c942b3)\" d=\"M 49.633125 69.165436 \nL 69.163125 77.939957 \nL 88.693125 69.572228 \n\" style=\"fill:none;stroke:#ff7f0e;stroke-dasharray:5.55,2.4;stroke-dashoffset:0;stroke-width:1.5;\"/>\n   </g>\n   <g id=\"line2d_47\">\n    <path clip-path=\"url(#pdcd7c942b3)\" d=\"M 49.633125 44.241253 \nL 69.163125 44.810927 \nL 88.693125 44.981829 \n\" style=\"fill:none;stroke:#2ca02c;stroke-dasharray:9.6,2.4,1.5,2.4;stroke-dashoffset:0;stroke-width:1.5;\"/>\n   </g>\n   <g id=\"line2d_48\">\n    <path clip-path=\"url(#pdcd7c942b3)\" d=\"M 34.954394 13.377273 \nL 44.698573 77.342482 \nL 54.442752 92.682281 \nL 64.186931 103.176272 \nL 73.93111 108.307862 \nL 83.675289 112.782959 \nL 93.419468 116.18626 \nL 103.163647 120.073093 \n\" style=\"fill:none;stroke:#1f77b4;stroke-linecap:square;stroke-width:1.5;\"/>\n   </g>\n   <g id=\"line2d_49\">\n    <path clip-path=\"url(#pdcd7c942b3)\" d=\"M 49.633125 69.165436 \nL 69.163125 77.939957 \nL 88.693125 69.572228 \nL 108.223125 113.526752 \n\" style=\"fill:none;stroke:#ff7f0e;stroke-dasharray:5.55,2.4;stroke-dashoffset:0;stroke-width:1.5;\"/>\n   </g>\n   <g id=\"line2d_50\">\n    <path clip-path=\"url(#pdcd7c942b3)\" d=\"M 49.633125 44.241253 \nL 69.163125 44.810927 \nL 88.693125 44.981829 \n\" style=\"fill:none;stroke:#2ca02c;stroke-dasharray:9.6,2.4,1.5,2.4;stroke-dashoffset:0;stroke-width:1.5;\"/>\n   </g>\n   <g id=\"line2d_51\">\n    <path clip-path=\"url(#pdcd7c942b3)\" d=\"M 34.954394 13.377273 \nL 44.698573 77.342482 \nL 54.442752 92.682281 \nL 64.186931 103.176272 \nL 73.93111 108.307862 \nL 83.675289 112.782959 \nL 93.419468 116.18626 \nL 103.163647 120.073093 \n\" style=\"fill:none;stroke:#1f77b4;stroke-linecap:square;stroke-width:1.5;\"/>\n   </g>\n   <g id=\"line2d_52\">\n    <path clip-path=\"url(#pdcd7c942b3)\" d=\"M 49.633125 69.165436 \nL 69.163125 77.939957 \nL 88.693125 69.572228 \nL 108.223125 113.526752 \n\" style=\"fill:none;stroke:#ff7f0e;stroke-dasharray:5.55,2.4;stroke-dashoffset:0;stroke-width:1.5;\"/>\n   </g>\n   <g id=\"line2d_53\">\n    <path clip-path=\"url(#pdcd7c942b3)\" d=\"M 49.633125 44.241253 \nL 69.163125 44.810927 \nL 88.693125 44.981829 \nL 108.223125 31.689449 \n\" style=\"fill:none;stroke:#2ca02c;stroke-dasharray:9.6,2.4,1.5,2.4;stroke-dashoffset:0;stroke-width:1.5;\"/>\n   </g>\n   <g id=\"line2d_54\">\n    <path clip-path=\"url(#pdcd7c942b3)\" d=\"M 34.954394 13.377273 \nL 44.698573 77.342482 \nL 54.442752 92.682281 \nL 64.186931 103.176272 \nL 73.93111 108.307862 \nL 83.675289 112.782959 \nL 93.419468 116.18626 \nL 103.163647 120.073093 \nL 112.907826 123.465204 \n\" style=\"fill:none;stroke:#1f77b4;stroke-linecap:square;stroke-width:1.5;\"/>\n   </g>\n   <g id=\"line2d_55\">\n    <path clip-path=\"url(#pdcd7c942b3)\" d=\"M 49.633125 69.165436 \nL 69.163125 77.939957 \nL 88.693125 69.572228 \nL 108.223125 113.526752 \n\" style=\"fill:none;stroke:#ff7f0e;stroke-dasharray:5.55,2.4;stroke-dashoffset:0;stroke-width:1.5;\"/>\n   </g>\n   <g id=\"line2d_56\">\n    <path clip-path=\"url(#pdcd7c942b3)\" d=\"M 49.633125 44.241253 \nL 69.163125 44.810927 \nL 88.693125 44.981829 \nL 108.223125 31.689449 \n\" style=\"fill:none;stroke:#2ca02c;stroke-dasharray:9.6,2.4,1.5,2.4;stroke-dashoffset:0;stroke-width:1.5;\"/>\n   </g>\n   <g id=\"line2d_57\">\n    <path clip-path=\"url(#pdcd7c942b3)\" d=\"M 34.954394 13.377273 \nL 44.698573 77.342482 \nL 54.442752 92.682281 \nL 64.186931 103.176272 \nL 73.93111 108.307862 \nL 83.675289 112.782959 \nL 93.419468 116.18626 \nL 103.163647 120.073093 \nL 112.907826 123.465204 \nL 122.652006 124.001688 \n\" style=\"fill:none;stroke:#1f77b4;stroke-linecap:square;stroke-width:1.5;\"/>\n   </g>\n   <g id=\"line2d_58\">\n    <path clip-path=\"url(#pdcd7c942b3)\" d=\"M 49.633125 69.165436 \nL 69.163125 77.939957 \nL 88.693125 69.572228 \nL 108.223125 113.526752 \n\" style=\"fill:none;stroke:#ff7f0e;stroke-dasharray:5.55,2.4;stroke-dashoffset:0;stroke-width:1.5;\"/>\n   </g>\n   <g id=\"line2d_59\">\n    <path clip-path=\"url(#pdcd7c942b3)\" d=\"M 49.633125 44.241253 \nL 69.163125 44.810927 \nL 88.693125 44.981829 \nL 108.223125 31.689449 \n\" style=\"fill:none;stroke:#2ca02c;stroke-dasharray:9.6,2.4,1.5,2.4;stroke-dashoffset:0;stroke-width:1.5;\"/>\n   </g>\n   <g id=\"line2d_60\">\n    <path clip-path=\"url(#pdcd7c942b3)\" d=\"M 34.954394 13.377273 \nL 44.698573 77.342482 \nL 54.442752 92.682281 \nL 64.186931 103.176272 \nL 73.93111 108.307862 \nL 83.675289 112.782959 \nL 93.419468 116.18626 \nL 103.163647 120.073093 \nL 112.907826 123.465204 \nL 122.652006 124.001688 \n\" style=\"fill:none;stroke:#1f77b4;stroke-linecap:square;stroke-width:1.5;\"/>\n   </g>\n   <g id=\"line2d_61\">\n    <path clip-path=\"url(#pdcd7c942b3)\" d=\"M 49.633125 69.165436 \nL 69.163125 77.939957 \nL 88.693125 69.572228 \nL 108.223125 113.526752 \nL 127.753125 108.429075 \n\" style=\"fill:none;stroke:#ff7f0e;stroke-dasharray:5.55,2.4;stroke-dashoffset:0;stroke-width:1.5;\"/>\n   </g>\n   <g id=\"line2d_62\">\n    <path clip-path=\"url(#pdcd7c942b3)\" d=\"M 49.633125 44.241253 \nL 69.163125 44.810927 \nL 88.693125 44.981829 \nL 108.223125 31.689449 \n\" style=\"fill:none;stroke:#2ca02c;stroke-dasharray:9.6,2.4,1.5,2.4;stroke-dashoffset:0;stroke-width:1.5;\"/>\n   </g>\n   <g id=\"line2d_63\">\n    <path clip-path=\"url(#pdcd7c942b3)\" d=\"M 34.954394 13.377273 \nL 44.698573 77.342482 \nL 54.442752 92.682281 \nL 64.186931 103.176272 \nL 73.93111 108.307862 \nL 83.675289 112.782959 \nL 93.419468 116.18626 \nL 103.163647 120.073093 \nL 112.907826 123.465204 \nL 122.652006 124.001688 \n\" style=\"fill:none;stroke:#1f77b4;stroke-linecap:square;stroke-width:1.5;\"/>\n   </g>\n   <g id=\"line2d_64\">\n    <path clip-path=\"url(#pdcd7c942b3)\" d=\"M 49.633125 69.165436 \nL 69.163125 77.939957 \nL 88.693125 69.572228 \nL 108.223125 113.526752 \nL 127.753125 108.429075 \n\" style=\"fill:none;stroke:#ff7f0e;stroke-dasharray:5.55,2.4;stroke-dashoffset:0;stroke-width:1.5;\"/>\n   </g>\n   <g id=\"line2d_65\">\n    <path clip-path=\"url(#pdcd7c942b3)\" d=\"M 49.633125 44.241253 \nL 69.163125 44.810927 \nL 88.693125 44.981829 \nL 108.223125 31.689449 \nL 127.753125 34.613772 \n\" style=\"fill:none;stroke:#2ca02c;stroke-dasharray:9.6,2.4,1.5,2.4;stroke-dashoffset:0;stroke-width:1.5;\"/>\n   </g>\n   <g id=\"line2d_66\">\n    <path clip-path=\"url(#pdcd7c942b3)\" d=\"M 34.954394 13.377273 \nL 44.698573 77.342482 \nL 54.442752 92.682281 \nL 64.186931 103.176272 \nL 73.93111 108.307862 \nL 83.675289 112.782959 \nL 93.419468 116.18626 \nL 103.163647 120.073093 \nL 112.907826 123.465204 \nL 122.652006 124.001688 \nL 132.396185 126.290954 \n\" style=\"fill:none;stroke:#1f77b4;stroke-linecap:square;stroke-width:1.5;\"/>\n   </g>\n   <g id=\"line2d_67\">\n    <path clip-path=\"url(#pdcd7c942b3)\" d=\"M 49.633125 69.165436 \nL 69.163125 77.939957 \nL 88.693125 69.572228 \nL 108.223125 113.526752 \nL 127.753125 108.429075 \n\" style=\"fill:none;stroke:#ff7f0e;stroke-dasharray:5.55,2.4;stroke-dashoffset:0;stroke-width:1.5;\"/>\n   </g>\n   <g id=\"line2d_68\">\n    <path clip-path=\"url(#pdcd7c942b3)\" d=\"M 49.633125 44.241253 \nL 69.163125 44.810927 \nL 88.693125 44.981829 \nL 108.223125 31.689449 \nL 127.753125 34.613772 \n\" style=\"fill:none;stroke:#2ca02c;stroke-dasharray:9.6,2.4,1.5,2.4;stroke-dashoffset:0;stroke-width:1.5;\"/>\n   </g>\n   <g id=\"line2d_69\">\n    <path clip-path=\"url(#pdcd7c942b3)\" d=\"M 34.954394 13.377273 \nL 44.698573 77.342482 \nL 54.442752 92.682281 \nL 64.186931 103.176272 \nL 73.93111 108.307862 \nL 83.675289 112.782959 \nL 93.419468 116.18626 \nL 103.163647 120.073093 \nL 112.907826 123.465204 \nL 122.652006 124.001688 \nL 132.396185 126.290954 \nL 142.140364 128.576635 \n\" style=\"fill:none;stroke:#1f77b4;stroke-linecap:square;stroke-width:1.5;\"/>\n   </g>\n   <g id=\"line2d_70\">\n    <path clip-path=\"url(#pdcd7c942b3)\" d=\"M 49.633125 69.165436 \nL 69.163125 77.939957 \nL 88.693125 69.572228 \nL 108.223125 113.526752 \nL 127.753125 108.429075 \n\" style=\"fill:none;stroke:#ff7f0e;stroke-dasharray:5.55,2.4;stroke-dashoffset:0;stroke-width:1.5;\"/>\n   </g>\n   <g id=\"line2d_71\">\n    <path clip-path=\"url(#pdcd7c942b3)\" d=\"M 49.633125 44.241253 \nL 69.163125 44.810927 \nL 88.693125 44.981829 \nL 108.223125 31.689449 \nL 127.753125 34.613772 \n\" style=\"fill:none;stroke:#2ca02c;stroke-dasharray:9.6,2.4,1.5,2.4;stroke-dashoffset:0;stroke-width:1.5;\"/>\n   </g>\n   <g id=\"line2d_72\">\n    <path clip-path=\"url(#pdcd7c942b3)\" d=\"M 34.954394 13.377273 \nL 44.698573 77.342482 \nL 54.442752 92.682281 \nL 64.186931 103.176272 \nL 73.93111 108.307862 \nL 83.675289 112.782959 \nL 93.419468 116.18626 \nL 103.163647 120.073093 \nL 112.907826 123.465204 \nL 122.652006 124.001688 \nL 132.396185 126.290954 \nL 142.140364 128.576635 \n\" style=\"fill:none;stroke:#1f77b4;stroke-linecap:square;stroke-width:1.5;\"/>\n   </g>\n   <g id=\"line2d_73\">\n    <path clip-path=\"url(#pdcd7c942b3)\" d=\"M 49.633125 69.165436 \nL 69.163125 77.939957 \nL 88.693125 69.572228 \nL 108.223125 113.526752 \nL 127.753125 108.429075 \nL 147.283125 113.962809 \n\" style=\"fill:none;stroke:#ff7f0e;stroke-dasharray:5.55,2.4;stroke-dashoffset:0;stroke-width:1.5;\"/>\n   </g>\n   <g id=\"line2d_74\">\n    <path clip-path=\"url(#pdcd7c942b3)\" d=\"M 49.633125 44.241253 \nL 69.163125 44.810927 \nL 88.693125 44.981829 \nL 108.223125 31.689449 \nL 127.753125 34.613772 \n\" style=\"fill:none;stroke:#2ca02c;stroke-dasharray:9.6,2.4,1.5,2.4;stroke-dashoffset:0;stroke-width:1.5;\"/>\n   </g>\n   <g id=\"line2d_75\">\n    <path clip-path=\"url(#pdcd7c942b3)\" d=\"M 34.954394 13.377273 \nL 44.698573 77.342482 \nL 54.442752 92.682281 \nL 64.186931 103.176272 \nL 73.93111 108.307862 \nL 83.675289 112.782959 \nL 93.419468 116.18626 \nL 103.163647 120.073093 \nL 112.907826 123.465204 \nL 122.652006 124.001688 \nL 132.396185 126.290954 \nL 142.140364 128.576635 \n\" style=\"fill:none;stroke:#1f77b4;stroke-linecap:square;stroke-width:1.5;\"/>\n   </g>\n   <g id=\"line2d_76\">\n    <path clip-path=\"url(#pdcd7c942b3)\" d=\"M 49.633125 69.165436 \nL 69.163125 77.939957 \nL 88.693125 69.572228 \nL 108.223125 113.526752 \nL 127.753125 108.429075 \nL 147.283125 113.962809 \n\" style=\"fill:none;stroke:#ff7f0e;stroke-dasharray:5.55,2.4;stroke-dashoffset:0;stroke-width:1.5;\"/>\n   </g>\n   <g id=\"line2d_77\">\n    <path clip-path=\"url(#pdcd7c942b3)\" d=\"M 49.633125 44.241253 \nL 69.163125 44.810927 \nL 88.693125 44.981829 \nL 108.223125 31.689449 \nL 127.753125 34.613772 \nL 147.283125 33.208578 \n\" style=\"fill:none;stroke:#2ca02c;stroke-dasharray:9.6,2.4,1.5,2.4;stroke-dashoffset:0;stroke-width:1.5;\"/>\n   </g>\n   <g id=\"line2d_78\">\n    <path clip-path=\"url(#pdcd7c942b3)\" d=\"M 34.954394 13.377273 \nL 44.698573 77.342482 \nL 54.442752 92.682281 \nL 64.186931 103.176272 \nL 73.93111 108.307862 \nL 83.675289 112.782959 \nL 93.419468 116.18626 \nL 103.163647 120.073093 \nL 112.907826 123.465204 \nL 122.652006 124.001688 \nL 132.396185 126.290954 \nL 142.140364 128.576635 \nL 151.884543 129.634728 \n\" style=\"fill:none;stroke:#1f77b4;stroke-linecap:square;stroke-width:1.5;\"/>\n   </g>\n   <g id=\"line2d_79\">\n    <path clip-path=\"url(#pdcd7c942b3)\" d=\"M 49.633125 69.165436 \nL 69.163125 77.939957 \nL 88.693125 69.572228 \nL 108.223125 113.526752 \nL 127.753125 108.429075 \nL 147.283125 113.962809 \n\" style=\"fill:none;stroke:#ff7f0e;stroke-dasharray:5.55,2.4;stroke-dashoffset:0;stroke-width:1.5;\"/>\n   </g>\n   <g id=\"line2d_80\">\n    <path clip-path=\"url(#pdcd7c942b3)\" d=\"M 49.633125 44.241253 \nL 69.163125 44.810927 \nL 88.693125 44.981829 \nL 108.223125 31.689449 \nL 127.753125 34.613772 \nL 147.283125 33.208578 \n\" style=\"fill:none;stroke:#2ca02c;stroke-dasharray:9.6,2.4,1.5,2.4;stroke-dashoffset:0;stroke-width:1.5;\"/>\n   </g>\n   <g id=\"line2d_81\">\n    <path clip-path=\"url(#pdcd7c942b3)\" d=\"M 34.954394 13.377273 \nL 44.698573 77.342482 \nL 54.442752 92.682281 \nL 64.186931 103.176272 \nL 73.93111 108.307862 \nL 83.675289 112.782959 \nL 93.419468 116.18626 \nL 103.163647 120.073093 \nL 112.907826 123.465204 \nL 122.652006 124.001688 \nL 132.396185 126.290954 \nL 142.140364 128.576635 \nL 151.884543 129.634728 \nL 161.628722 130.983548 \n\" style=\"fill:none;stroke:#1f77b4;stroke-linecap:square;stroke-width:1.5;\"/>\n   </g>\n   <g id=\"line2d_82\">\n    <path clip-path=\"url(#pdcd7c942b3)\" d=\"M 49.633125 69.165436 \nL 69.163125 77.939957 \nL 88.693125 69.572228 \nL 108.223125 113.526752 \nL 127.753125 108.429075 \nL 147.283125 113.962809 \n\" style=\"fill:none;stroke:#ff7f0e;stroke-dasharray:5.55,2.4;stroke-dashoffset:0;stroke-width:1.5;\"/>\n   </g>\n   <g id=\"line2d_83\">\n    <path clip-path=\"url(#pdcd7c942b3)\" d=\"M 49.633125 44.241253 \nL 69.163125 44.810927 \nL 88.693125 44.981829 \nL 108.223125 31.689449 \nL 127.753125 34.613772 \nL 147.283125 33.208578 \n\" style=\"fill:none;stroke:#2ca02c;stroke-dasharray:9.6,2.4,1.5,2.4;stroke-dashoffset:0;stroke-width:1.5;\"/>\n   </g>\n   <g id=\"line2d_84\">\n    <path clip-path=\"url(#pdcd7c942b3)\" d=\"M 34.954394 13.377273 \nL 44.698573 77.342482 \nL 54.442752 92.682281 \nL 64.186931 103.176272 \nL 73.93111 108.307862 \nL 83.675289 112.782959 \nL 93.419468 116.18626 \nL 103.163647 120.073093 \nL 112.907826 123.465204 \nL 122.652006 124.001688 \nL 132.396185 126.290954 \nL 142.140364 128.576635 \nL 151.884543 129.634728 \nL 161.628722 130.983548 \n\" style=\"fill:none;stroke:#1f77b4;stroke-linecap:square;stroke-width:1.5;\"/>\n   </g>\n   <g id=\"line2d_85\">\n    <path clip-path=\"url(#pdcd7c942b3)\" d=\"M 49.633125 69.165436 \nL 69.163125 77.939957 \nL 88.693125 69.572228 \nL 108.223125 113.526752 \nL 127.753125 108.429075 \nL 147.283125 113.962809 \nL 166.813125 122.625909 \n\" style=\"fill:none;stroke:#ff7f0e;stroke-dasharray:5.55,2.4;stroke-dashoffset:0;stroke-width:1.5;\"/>\n   </g>\n   <g id=\"line2d_86\">\n    <path clip-path=\"url(#pdcd7c942b3)\" d=\"M 49.633125 44.241253 \nL 69.163125 44.810927 \nL 88.693125 44.981829 \nL 108.223125 31.689449 \nL 127.753125 34.613772 \nL 147.283125 33.208578 \n\" style=\"fill:none;stroke:#2ca02c;stroke-dasharray:9.6,2.4,1.5,2.4;stroke-dashoffset:0;stroke-width:1.5;\"/>\n   </g>\n   <g id=\"line2d_87\">\n    <path clip-path=\"url(#pdcd7c942b3)\" d=\"M 34.954394 13.377273 \nL 44.698573 77.342482 \nL 54.442752 92.682281 \nL 64.186931 103.176272 \nL 73.93111 108.307862 \nL 83.675289 112.782959 \nL 93.419468 116.18626 \nL 103.163647 120.073093 \nL 112.907826 123.465204 \nL 122.652006 124.001688 \nL 132.396185 126.290954 \nL 142.140364 128.576635 \nL 151.884543 129.634728 \nL 161.628722 130.983548 \n\" style=\"fill:none;stroke:#1f77b4;stroke-linecap:square;stroke-width:1.5;\"/>\n   </g>\n   <g id=\"line2d_88\">\n    <path clip-path=\"url(#pdcd7c942b3)\" d=\"M 49.633125 69.165436 \nL 69.163125 77.939957 \nL 88.693125 69.572228 \nL 108.223125 113.526752 \nL 127.753125 108.429075 \nL 147.283125 113.962809 \nL 166.813125 122.625909 \n\" style=\"fill:none;stroke:#ff7f0e;stroke-dasharray:5.55,2.4;stroke-dashoffset:0;stroke-width:1.5;\"/>\n   </g>\n   <g id=\"line2d_89\">\n    <path clip-path=\"url(#pdcd7c942b3)\" d=\"M 49.633125 44.241253 \nL 69.163125 44.810927 \nL 88.693125 44.981829 \nL 108.223125 31.689449 \nL 127.753125 34.613772 \nL 147.283125 33.208578 \nL 166.813125 28.822092 \n\" style=\"fill:none;stroke:#2ca02c;stroke-dasharray:9.6,2.4,1.5,2.4;stroke-dashoffset:0;stroke-width:1.5;\"/>\n   </g>\n   <g id=\"line2d_90\">\n    <path clip-path=\"url(#pdcd7c942b3)\" d=\"M 34.954394 13.377273 \nL 44.698573 77.342482 \nL 54.442752 92.682281 \nL 64.186931 103.176272 \nL 73.93111 108.307862 \nL 83.675289 112.782959 \nL 93.419468 116.18626 \nL 103.163647 120.073093 \nL 112.907826 123.465204 \nL 122.652006 124.001688 \nL 132.396185 126.290954 \nL 142.140364 128.576635 \nL 151.884543 129.634728 \nL 161.628722 130.983548 \nL 171.372901 131.917899 \n\" style=\"fill:none;stroke:#1f77b4;stroke-linecap:square;stroke-width:1.5;\"/>\n   </g>\n   <g id=\"line2d_91\">\n    <path clip-path=\"url(#pdcd7c942b3)\" d=\"M 49.633125 69.165436 \nL 69.163125 77.939957 \nL 88.693125 69.572228 \nL 108.223125 113.526752 \nL 127.753125 108.429075 \nL 147.283125 113.962809 \nL 166.813125 122.625909 \n\" style=\"fill:none;stroke:#ff7f0e;stroke-dasharray:5.55,2.4;stroke-dashoffset:0;stroke-width:1.5;\"/>\n   </g>\n   <g id=\"line2d_92\">\n    <path clip-path=\"url(#pdcd7c942b3)\" d=\"M 49.633125 44.241253 \nL 69.163125 44.810927 \nL 88.693125 44.981829 \nL 108.223125 31.689449 \nL 127.753125 34.613772 \nL 147.283125 33.208578 \nL 166.813125 28.822092 \n\" style=\"fill:none;stroke:#2ca02c;stroke-dasharray:9.6,2.4,1.5,2.4;stroke-dashoffset:0;stroke-width:1.5;\"/>\n   </g>\n   <g id=\"line2d_93\">\n    <path clip-path=\"url(#pdcd7c942b3)\" d=\"M 34.954394 13.377273 \nL 44.698573 77.342482 \nL 54.442752 92.682281 \nL 64.186931 103.176272 \nL 73.93111 108.307862 \nL 83.675289 112.782959 \nL 93.419468 116.18626 \nL 103.163647 120.073093 \nL 112.907826 123.465204 \nL 122.652006 124.001688 \nL 132.396185 126.290954 \nL 142.140364 128.576635 \nL 151.884543 129.634728 \nL 161.628722 130.983548 \nL 171.372901 131.917899 \nL 181.11708 134.418852 \n\" style=\"fill:none;stroke:#1f77b4;stroke-linecap:square;stroke-width:1.5;\"/>\n   </g>\n   <g id=\"line2d_94\">\n    <path clip-path=\"url(#pdcd7c942b3)\" d=\"M 49.633125 69.165436 \nL 69.163125 77.939957 \nL 88.693125 69.572228 \nL 108.223125 113.526752 \nL 127.753125 108.429075 \nL 147.283125 113.962809 \nL 166.813125 122.625909 \n\" style=\"fill:none;stroke:#ff7f0e;stroke-dasharray:5.55,2.4;stroke-dashoffset:0;stroke-width:1.5;\"/>\n   </g>\n   <g id=\"line2d_95\">\n    <path clip-path=\"url(#pdcd7c942b3)\" d=\"M 49.633125 44.241253 \nL 69.163125 44.810927 \nL 88.693125 44.981829 \nL 108.223125 31.689449 \nL 127.753125 34.613772 \nL 147.283125 33.208578 \nL 166.813125 28.822092 \n\" style=\"fill:none;stroke:#2ca02c;stroke-dasharray:9.6,2.4,1.5,2.4;stroke-dashoffset:0;stroke-width:1.5;\"/>\n   </g>\n   <g id=\"line2d_96\">\n    <path clip-path=\"url(#pdcd7c942b3)\" d=\"M 34.954394 13.377273 \nL 44.698573 77.342482 \nL 54.442752 92.682281 \nL 64.186931 103.176272 \nL 73.93111 108.307862 \nL 83.675289 112.782959 \nL 93.419468 116.18626 \nL 103.163647 120.073093 \nL 112.907826 123.465204 \nL 122.652006 124.001688 \nL 132.396185 126.290954 \nL 142.140364 128.576635 \nL 151.884543 129.634728 \nL 161.628722 130.983548 \nL 171.372901 131.917899 \nL 181.11708 134.418852 \n\" style=\"fill:none;stroke:#1f77b4;stroke-linecap:square;stroke-width:1.5;\"/>\n   </g>\n   <g id=\"line2d_97\">\n    <path clip-path=\"url(#pdcd7c942b3)\" d=\"M 49.633125 69.165436 \nL 69.163125 77.939957 \nL 88.693125 69.572228 \nL 108.223125 113.526752 \nL 127.753125 108.429075 \nL 147.283125 113.962809 \nL 166.813125 122.625909 \nL 186.343125 102.598951 \n\" style=\"fill:none;stroke:#ff7f0e;stroke-dasharray:5.55,2.4;stroke-dashoffset:0;stroke-width:1.5;\"/>\n   </g>\n   <g id=\"line2d_98\">\n    <path clip-path=\"url(#pdcd7c942b3)\" d=\"M 49.633125 44.241253 \nL 69.163125 44.810927 \nL 88.693125 44.981829 \nL 108.223125 31.689449 \nL 127.753125 34.613772 \nL 147.283125 33.208578 \nL 166.813125 28.822092 \n\" style=\"fill:none;stroke:#2ca02c;stroke-dasharray:9.6,2.4,1.5,2.4;stroke-dashoffset:0;stroke-width:1.5;\"/>\n   </g>\n   <g id=\"line2d_99\">\n    <path clip-path=\"url(#pdcd7c942b3)\" d=\"M 34.954394 13.377273 \nL 44.698573 77.342482 \nL 54.442752 92.682281 \nL 64.186931 103.176272 \nL 73.93111 108.307862 \nL 83.675289 112.782959 \nL 93.419468 116.18626 \nL 103.163647 120.073093 \nL 112.907826 123.465204 \nL 122.652006 124.001688 \nL 132.396185 126.290954 \nL 142.140364 128.576635 \nL 151.884543 129.634728 \nL 161.628722 130.983548 \nL 171.372901 131.917899 \nL 181.11708 134.418852 \n\" style=\"fill:none;stroke:#1f77b4;stroke-linecap:square;stroke-width:1.5;\"/>\n   </g>\n   <g id=\"line2d_100\">\n    <path clip-path=\"url(#pdcd7c942b3)\" d=\"M 49.633125 69.165436 \nL 69.163125 77.939957 \nL 88.693125 69.572228 \nL 108.223125 113.526752 \nL 127.753125 108.429075 \nL 147.283125 113.962809 \nL 166.813125 122.625909 \nL 186.343125 102.598951 \n\" style=\"fill:none;stroke:#ff7f0e;stroke-dasharray:5.55,2.4;stroke-dashoffset:0;stroke-width:1.5;\"/>\n   </g>\n   <g id=\"line2d_101\">\n    <path clip-path=\"url(#pdcd7c942b3)\" d=\"M 49.633125 44.241253 \nL 69.163125 44.810927 \nL 88.693125 44.981829 \nL 108.223125 31.689449 \nL 127.753125 34.613772 \nL 147.283125 33.208578 \nL 166.813125 28.822092 \nL 186.343125 36.208858 \n\" style=\"fill:none;stroke:#2ca02c;stroke-dasharray:9.6,2.4,1.5,2.4;stroke-dashoffset:0;stroke-width:1.5;\"/>\n   </g>\n   <g id=\"line2d_102\">\n    <path clip-path=\"url(#pdcd7c942b3)\" d=\"M 34.954394 13.377273 \nL 44.698573 77.342482 \nL 54.442752 92.682281 \nL 64.186931 103.176272 \nL 73.93111 108.307862 \nL 83.675289 112.782959 \nL 93.419468 116.18626 \nL 103.163647 120.073093 \nL 112.907826 123.465204 \nL 122.652006 124.001688 \nL 132.396185 126.290954 \nL 142.140364 128.576635 \nL 151.884543 129.634728 \nL 161.628722 130.983548 \nL 171.372901 131.917899 \nL 181.11708 134.418852 \nL 190.861259 134.866043 \n\" style=\"fill:none;stroke:#1f77b4;stroke-linecap:square;stroke-width:1.5;\"/>\n   </g>\n   <g id=\"line2d_103\">\n    <path clip-path=\"url(#pdcd7c942b3)\" d=\"M 49.633125 69.165436 \nL 69.163125 77.939957 \nL 88.693125 69.572228 \nL 108.223125 113.526752 \nL 127.753125 108.429075 \nL 147.283125 113.962809 \nL 166.813125 122.625909 \nL 186.343125 102.598951 \n\" style=\"fill:none;stroke:#ff7f0e;stroke-dasharray:5.55,2.4;stroke-dashoffset:0;stroke-width:1.5;\"/>\n   </g>\n   <g id=\"line2d_104\">\n    <path clip-path=\"url(#pdcd7c942b3)\" d=\"M 49.633125 44.241253 \nL 69.163125 44.810927 \nL 88.693125 44.981829 \nL 108.223125 31.689449 \nL 127.753125 34.613772 \nL 147.283125 33.208578 \nL 166.813125 28.822092 \nL 186.343125 36.208858 \n\" style=\"fill:none;stroke:#2ca02c;stroke-dasharray:9.6,2.4,1.5,2.4;stroke-dashoffset:0;stroke-width:1.5;\"/>\n   </g>\n   <g id=\"line2d_105\">\n    <path clip-path=\"url(#pdcd7c942b3)\" d=\"M 34.954394 13.377273 \nL 44.698573 77.342482 \nL 54.442752 92.682281 \nL 64.186931 103.176272 \nL 73.93111 108.307862 \nL 83.675289 112.782959 \nL 93.419468 116.18626 \nL 103.163647 120.073093 \nL 112.907826 123.465204 \nL 122.652006 124.001688 \nL 132.396185 126.290954 \nL 142.140364 128.576635 \nL 151.884543 129.634728 \nL 161.628722 130.983548 \nL 171.372901 131.917899 \nL 181.11708 134.418852 \nL 190.861259 134.866043 \nL 200.605438 134.882298 \n\" style=\"fill:none;stroke:#1f77b4;stroke-linecap:square;stroke-width:1.5;\"/>\n   </g>\n   <g id=\"line2d_106\">\n    <path clip-path=\"url(#pdcd7c942b3)\" d=\"M 49.633125 69.165436 \nL 69.163125 77.939957 \nL 88.693125 69.572228 \nL 108.223125 113.526752 \nL 127.753125 108.429075 \nL 147.283125 113.962809 \nL 166.813125 122.625909 \nL 186.343125 102.598951 \n\" style=\"fill:none;stroke:#ff7f0e;stroke-dasharray:5.55,2.4;stroke-dashoffset:0;stroke-width:1.5;\"/>\n   </g>\n   <g id=\"line2d_107\">\n    <path clip-path=\"url(#pdcd7c942b3)\" d=\"M 49.633125 44.241253 \nL 69.163125 44.810927 \nL 88.693125 44.981829 \nL 108.223125 31.689449 \nL 127.753125 34.613772 \nL 147.283125 33.208578 \nL 166.813125 28.822092 \nL 186.343125 36.208858 \n\" style=\"fill:none;stroke:#2ca02c;stroke-dasharray:9.6,2.4,1.5,2.4;stroke-dashoffset:0;stroke-width:1.5;\"/>\n   </g>\n   <g id=\"line2d_108\">\n    <path clip-path=\"url(#pdcd7c942b3)\" d=\"M 34.954394 13.377273 \nL 44.698573 77.342482 \nL 54.442752 92.682281 \nL 64.186931 103.176272 \nL 73.93111 108.307862 \nL 83.675289 112.782959 \nL 93.419468 116.18626 \nL 103.163647 120.073093 \nL 112.907826 123.465204 \nL 122.652006 124.001688 \nL 132.396185 126.290954 \nL 142.140364 128.576635 \nL 151.884543 129.634728 \nL 161.628722 130.983548 \nL 171.372901 131.917899 \nL 181.11708 134.418852 \nL 190.861259 134.866043 \nL 200.605438 134.882298 \n\" style=\"fill:none;stroke:#1f77b4;stroke-linecap:square;stroke-width:1.5;\"/>\n   </g>\n   <g id=\"line2d_109\">\n    <path clip-path=\"url(#pdcd7c942b3)\" d=\"M 49.633125 69.165436 \nL 69.163125 77.939957 \nL 88.693125 69.572228 \nL 108.223125 113.526752 \nL 127.753125 108.429075 \nL 147.283125 113.962809 \nL 166.813125 122.625909 \nL 186.343125 102.598951 \nL 205.873125 127.789975 \n\" style=\"fill:none;stroke:#ff7f0e;stroke-dasharray:5.55,2.4;stroke-dashoffset:0;stroke-width:1.5;\"/>\n   </g>\n   <g id=\"line2d_110\">\n    <path clip-path=\"url(#pdcd7c942b3)\" d=\"M 49.633125 44.241253 \nL 69.163125 44.810927 \nL 88.693125 44.981829 \nL 108.223125 31.689449 \nL 127.753125 34.613772 \nL 147.283125 33.208578 \nL 166.813125 28.822092 \nL 186.343125 36.208858 \n\" style=\"fill:none;stroke:#2ca02c;stroke-dasharray:9.6,2.4,1.5,2.4;stroke-dashoffset:0;stroke-width:1.5;\"/>\n   </g>\n   <g id=\"line2d_111\">\n    <path clip-path=\"url(#pdcd7c942b3)\" d=\"M 34.954394 13.377273 \nL 44.698573 77.342482 \nL 54.442752 92.682281 \nL 64.186931 103.176272 \nL 73.93111 108.307862 \nL 83.675289 112.782959 \nL 93.419468 116.18626 \nL 103.163647 120.073093 \nL 112.907826 123.465204 \nL 122.652006 124.001688 \nL 132.396185 126.290954 \nL 142.140364 128.576635 \nL 151.884543 129.634728 \nL 161.628722 130.983548 \nL 171.372901 131.917899 \nL 181.11708 134.418852 \nL 190.861259 134.866043 \nL 200.605438 134.882298 \n\" style=\"fill:none;stroke:#1f77b4;stroke-linecap:square;stroke-width:1.5;\"/>\n   </g>\n   <g id=\"line2d_112\">\n    <path clip-path=\"url(#pdcd7c942b3)\" d=\"M 49.633125 69.165436 \nL 69.163125 77.939957 \nL 88.693125 69.572228 \nL 108.223125 113.526752 \nL 127.753125 108.429075 \nL 147.283125 113.962809 \nL 166.813125 122.625909 \nL 186.343125 102.598951 \nL 205.873125 127.789975 \n\" style=\"fill:none;stroke:#ff7f0e;stroke-dasharray:5.55,2.4;stroke-dashoffset:0;stroke-width:1.5;\"/>\n   </g>\n   <g id=\"line2d_113\">\n    <path clip-path=\"url(#pdcd7c942b3)\" d=\"M 49.633125 44.241253 \nL 69.163125 44.810927 \nL 88.693125 44.981829 \nL 108.223125 31.689449 \nL 127.753125 34.613772 \nL 147.283125 33.208578 \nL 166.813125 28.822092 \nL 186.343125 36.208858 \nL 205.873125 26.695312 \n\" style=\"fill:none;stroke:#2ca02c;stroke-dasharray:9.6,2.4,1.5,2.4;stroke-dashoffset:0;stroke-width:1.5;\"/>\n   </g>\n   <g id=\"line2d_114\">\n    <path clip-path=\"url(#pdcd7c942b3)\" d=\"M 34.954394 13.377273 \nL 44.698573 77.342482 \nL 54.442752 92.682281 \nL 64.186931 103.176272 \nL 73.93111 108.307862 \nL 83.675289 112.782959 \nL 93.419468 116.18626 \nL 103.163647 120.073093 \nL 112.907826 123.465204 \nL 122.652006 124.001688 \nL 132.396185 126.290954 \nL 142.140364 128.576635 \nL 151.884543 129.634728 \nL 161.628722 130.983548 \nL 171.372901 131.917899 \nL 181.11708 134.418852 \nL 190.861259 134.866043 \nL 200.605438 134.882298 \nL 210.349618 136.922727 \n\" style=\"fill:none;stroke:#1f77b4;stroke-linecap:square;stroke-width:1.5;\"/>\n   </g>\n   <g id=\"line2d_115\">\n    <path clip-path=\"url(#pdcd7c942b3)\" d=\"M 49.633125 69.165436 \nL 69.163125 77.939957 \nL 88.693125 69.572228 \nL 108.223125 113.526752 \nL 127.753125 108.429075 \nL 147.283125 113.962809 \nL 166.813125 122.625909 \nL 186.343125 102.598951 \nL 205.873125 127.789975 \n\" style=\"fill:none;stroke:#ff7f0e;stroke-dasharray:5.55,2.4;stroke-dashoffset:0;stroke-width:1.5;\"/>\n   </g>\n   <g id=\"line2d_116\">\n    <path clip-path=\"url(#pdcd7c942b3)\" d=\"M 49.633125 44.241253 \nL 69.163125 44.810927 \nL 88.693125 44.981829 \nL 108.223125 31.689449 \nL 127.753125 34.613772 \nL 147.283125 33.208578 \nL 166.813125 28.822092 \nL 186.343125 36.208858 \nL 205.873125 26.695312 \n\" style=\"fill:none;stroke:#2ca02c;stroke-dasharray:9.6,2.4,1.5,2.4;stroke-dashoffset:0;stroke-width:1.5;\"/>\n   </g>\n   <g id=\"line2d_117\">\n    <path clip-path=\"url(#pdcd7c942b3)\" d=\"M 34.954394 13.377273 \nL 44.698573 77.342482 \nL 54.442752 92.682281 \nL 64.186931 103.176272 \nL 73.93111 108.307862 \nL 83.675289 112.782959 \nL 93.419468 116.18626 \nL 103.163647 120.073093 \nL 112.907826 123.465204 \nL 122.652006 124.001688 \nL 132.396185 126.290954 \nL 142.140364 128.576635 \nL 151.884543 129.634728 \nL 161.628722 130.983548 \nL 171.372901 131.917899 \nL 181.11708 134.418852 \nL 190.861259 134.866043 \nL 200.605438 134.882298 \nL 210.349618 136.922727 \nL 220.093797 136.521719 \n\" style=\"fill:none;stroke:#1f77b4;stroke-linecap:square;stroke-width:1.5;\"/>\n   </g>\n   <g id=\"line2d_118\">\n    <path clip-path=\"url(#pdcd7c942b3)\" d=\"M 49.633125 69.165436 \nL 69.163125 77.939957 \nL 88.693125 69.572228 \nL 108.223125 113.526752 \nL 127.753125 108.429075 \nL 147.283125 113.962809 \nL 166.813125 122.625909 \nL 186.343125 102.598951 \nL 205.873125 127.789975 \n\" style=\"fill:none;stroke:#ff7f0e;stroke-dasharray:5.55,2.4;stroke-dashoffset:0;stroke-width:1.5;\"/>\n   </g>\n   <g id=\"line2d_119\">\n    <path clip-path=\"url(#pdcd7c942b3)\" d=\"M 49.633125 44.241253 \nL 69.163125 44.810927 \nL 88.693125 44.981829 \nL 108.223125 31.689449 \nL 127.753125 34.613772 \nL 147.283125 33.208578 \nL 166.813125 28.822092 \nL 186.343125 36.208858 \nL 205.873125 26.695312 \n\" style=\"fill:none;stroke:#2ca02c;stroke-dasharray:9.6,2.4,1.5,2.4;stroke-dashoffset:0;stroke-width:1.5;\"/>\n   </g>\n   <g id=\"line2d_120\">\n    <path clip-path=\"url(#pdcd7c942b3)\" d=\"M 34.954394 13.377273 \nL 44.698573 77.342482 \nL 54.442752 92.682281 \nL 64.186931 103.176272 \nL 73.93111 108.307862 \nL 83.675289 112.782959 \nL 93.419468 116.18626 \nL 103.163647 120.073093 \nL 112.907826 123.465204 \nL 122.652006 124.001688 \nL 132.396185 126.290954 \nL 142.140364 128.576635 \nL 151.884543 129.634728 \nL 161.628722 130.983548 \nL 171.372901 131.917899 \nL 181.11708 134.418852 \nL 190.861259 134.866043 \nL 200.605438 134.882298 \nL 210.349618 136.922727 \nL 220.093797 136.521719 \n\" style=\"fill:none;stroke:#1f77b4;stroke-linecap:square;stroke-width:1.5;\"/>\n   </g>\n   <g id=\"line2d_121\">\n    <path clip-path=\"url(#pdcd7c942b3)\" d=\"M 49.633125 69.165436 \nL 69.163125 77.939957 \nL 88.693125 69.572228 \nL 108.223125 113.526752 \nL 127.753125 108.429075 \nL 147.283125 113.962809 \nL 166.813125 122.625909 \nL 186.343125 102.598951 \nL 205.873125 127.789975 \nL 225.403125 113.204212 \n\" style=\"fill:none;stroke:#ff7f0e;stroke-dasharray:5.55,2.4;stroke-dashoffset:0;stroke-width:1.5;\"/>\n   </g>\n   <g id=\"line2d_122\">\n    <path clip-path=\"url(#pdcd7c942b3)\" d=\"M 49.633125 44.241253 \nL 69.163125 44.810927 \nL 88.693125 44.981829 \nL 108.223125 31.689449 \nL 127.753125 34.613772 \nL 147.283125 33.208578 \nL 166.813125 28.822092 \nL 186.343125 36.208858 \nL 205.873125 26.695312 \n\" style=\"fill:none;stroke:#2ca02c;stroke-dasharray:9.6,2.4,1.5,2.4;stroke-dashoffset:0;stroke-width:1.5;\"/>\n   </g>\n   <g id=\"line2d_123\">\n    <path clip-path=\"url(#pdcd7c942b3)\" d=\"M 34.954394 13.377273 \nL 44.698573 77.342482 \nL 54.442752 92.682281 \nL 64.186931 103.176272 \nL 73.93111 108.307862 \nL 83.675289 112.782959 \nL 93.419468 116.18626 \nL 103.163647 120.073093 \nL 112.907826 123.465204 \nL 122.652006 124.001688 \nL 132.396185 126.290954 \nL 142.140364 128.576635 \nL 151.884543 129.634728 \nL 161.628722 130.983548 \nL 171.372901 131.917899 \nL 181.11708 134.418852 \nL 190.861259 134.866043 \nL 200.605438 134.882298 \nL 210.349618 136.922727 \nL 220.093797 136.521719 \n\" style=\"fill:none;stroke:#1f77b4;stroke-linecap:square;stroke-width:1.5;\"/>\n   </g>\n   <g id=\"line2d_124\">\n    <path clip-path=\"url(#pdcd7c942b3)\" d=\"M 49.633125 69.165436 \nL 69.163125 77.939957 \nL 88.693125 69.572228 \nL 108.223125 113.526752 \nL 127.753125 108.429075 \nL 147.283125 113.962809 \nL 166.813125 122.625909 \nL 186.343125 102.598951 \nL 205.873125 127.789975 \nL 225.403125 113.204212 \n\" style=\"fill:none;stroke:#ff7f0e;stroke-dasharray:5.55,2.4;stroke-dashoffset:0;stroke-width:1.5;\"/>\n   </g>\n   <g id=\"line2d_125\">\n    <path clip-path=\"url(#pdcd7c942b3)\" d=\"M 49.633125 44.241253 \nL 69.163125 44.810927 \nL 88.693125 44.981829 \nL 108.223125 31.689449 \nL 127.753125 34.613772 \nL 147.283125 33.208578 \nL 166.813125 28.822092 \nL 186.343125 36.208858 \nL 205.873125 26.695312 \nL 225.403125 33.892186 \n\" style=\"fill:none;stroke:#2ca02c;stroke-dasharray:9.6,2.4,1.5,2.4;stroke-dashoffset:0;stroke-width:1.5;\"/>\n   </g>\n   <g id=\"patch_3\">\n    <path d=\"M 30.103125 143.1 \nL 30.103125 7.2 \n\" style=\"fill:none;stroke:#000000;stroke-linecap:square;stroke-linejoin:miter;stroke-width:0.8;\"/>\n   </g>\n   <g id=\"patch_4\">\n    <path d=\"M 225.403125 143.1 \nL 225.403125 7.2 \n\" style=\"fill:none;stroke:#000000;stroke-linecap:square;stroke-linejoin:miter;stroke-width:0.8;\"/>\n   </g>\n   <g id=\"patch_5\">\n    <path d=\"M 30.103125 143.1 \nL 225.403125 143.1 \n\" style=\"fill:none;stroke:#000000;stroke-linecap:square;stroke-linejoin:miter;stroke-width:0.8;\"/>\n   </g>\n   <g id=\"patch_6\">\n    <path d=\"M 30.103125 7.2 \nL 225.403125 7.2 \n\" style=\"fill:none;stroke:#000000;stroke-linecap:square;stroke-linejoin:miter;stroke-width:0.8;\"/>\n   </g>\n   <g id=\"legend_1\">\n    <g id=\"patch_7\">\n     <path d=\"M 138.8125 99.084375 \nL 218.403125 99.084375 \nQ 220.403125 99.084375 220.403125 97.084375 \nL 220.403125 53.215625 \nQ 220.403125 51.215625 218.403125 51.215625 \nL 138.8125 51.215625 \nQ 136.8125 51.215625 136.8125 53.215625 \nL 136.8125 97.084375 \nQ 136.8125 99.084375 138.8125 99.084375 \nz\n\" style=\"fill:#ffffff;opacity:0.8;stroke:#cccccc;stroke-linejoin:miter;\"/>\n    </g>\n    <g id=\"line2d_126\">\n     <path d=\"M 140.8125 59.314062 \nL 160.8125 59.314062 \n\" style=\"fill:none;stroke:#1f77b4;stroke-linecap:square;stroke-width:1.5;\"/>\n    </g>\n    <g id=\"line2d_127\"/>\n    <g id=\"text_11\">\n     <!-- train_loss -->\n     <defs>\n      <path d=\"M 18.3125 70.21875 \nL 18.3125 54.6875 \nL 36.8125 54.6875 \nL 36.8125 47.703125 \nL 18.3125 47.703125 \nL 18.3125 18.015625 \nQ 18.3125 11.328125 20.140625 9.421875 \nQ 21.96875 7.515625 27.59375 7.515625 \nL 36.8125 7.515625 \nL 36.8125 0 \nL 27.59375 0 \nQ 17.1875 0 13.234375 3.875 \nQ 9.28125 7.765625 9.28125 18.015625 \nL 9.28125 47.703125 \nL 2.6875 47.703125 \nL 2.6875 54.6875 \nL 9.28125 54.6875 \nL 9.28125 70.21875 \nz\n\" id=\"DejaVuSans-116\"/>\n      <path d=\"M 41.109375 46.296875 \nQ 39.59375 47.171875 37.8125 47.578125 \nQ 36.03125 48 33.890625 48 \nQ 26.265625 48 22.1875 43.046875 \nQ 18.109375 38.09375 18.109375 28.8125 \nL 18.109375 0 \nL 9.078125 0 \nL 9.078125 54.6875 \nL 18.109375 54.6875 \nL 18.109375 46.1875 \nQ 20.953125 51.171875 25.484375 53.578125 \nQ 30.03125 56 36.53125 56 \nQ 37.453125 56 38.578125 55.875 \nQ 39.703125 55.765625 41.0625 55.515625 \nz\n\" id=\"DejaVuSans-114\"/>\n      <path d=\"M 34.28125 27.484375 \nQ 23.390625 27.484375 19.1875 25 \nQ 14.984375 22.515625 14.984375 16.5 \nQ 14.984375 11.71875 18.140625 8.90625 \nQ 21.296875 6.109375 26.703125 6.109375 \nQ 34.1875 6.109375 38.703125 11.40625 \nQ 43.21875 16.703125 43.21875 25.484375 \nL 43.21875 27.484375 \nz\nM 52.203125 31.203125 \nL 52.203125 0 \nL 43.21875 0 \nL 43.21875 8.296875 \nQ 40.140625 3.328125 35.546875 0.953125 \nQ 30.953125 -1.421875 24.3125 -1.421875 \nQ 15.921875 -1.421875 10.953125 3.296875 \nQ 6 8.015625 6 15.921875 \nQ 6 25.140625 12.171875 29.828125 \nQ 18.359375 34.515625 30.609375 34.515625 \nL 43.21875 34.515625 \nL 43.21875 35.40625 \nQ 43.21875 41.609375 39.140625 45 \nQ 35.0625 48.390625 27.6875 48.390625 \nQ 23 48.390625 18.546875 47.265625 \nQ 14.109375 46.140625 10.015625 43.890625 \nL 10.015625 52.203125 \nQ 14.9375 54.109375 19.578125 55.046875 \nQ 24.21875 56 28.609375 56 \nQ 40.484375 56 46.34375 49.84375 \nQ 52.203125 43.703125 52.203125 31.203125 \nz\n\" id=\"DejaVuSans-97\"/>\n      <path d=\"M 9.421875 54.6875 \nL 18.40625 54.6875 \nL 18.40625 0 \nL 9.421875 0 \nz\nM 9.421875 75.984375 \nL 18.40625 75.984375 \nL 18.40625 64.59375 \nL 9.421875 64.59375 \nz\n\" id=\"DejaVuSans-105\"/>\n      <path d=\"M 54.890625 33.015625 \nL 54.890625 0 \nL 45.90625 0 \nL 45.90625 32.71875 \nQ 45.90625 40.484375 42.875 44.328125 \nQ 39.84375 48.1875 33.796875 48.1875 \nQ 26.515625 48.1875 22.3125 43.546875 \nQ 18.109375 38.921875 18.109375 30.90625 \nL 18.109375 0 \nL 9.078125 0 \nL 9.078125 54.6875 \nL 18.109375 54.6875 \nL 18.109375 46.1875 \nQ 21.34375 51.125 25.703125 53.5625 \nQ 30.078125 56 35.796875 56 \nQ 45.21875 56 50.046875 50.171875 \nQ 54.890625 44.34375 54.890625 33.015625 \nz\n\" id=\"DejaVuSans-110\"/>\n      <path d=\"M 50.984375 -16.609375 \nL 50.984375 -23.578125 \nL -0.984375 -23.578125 \nL -0.984375 -16.609375 \nz\n\" id=\"DejaVuSans-95\"/>\n      <path d=\"M 9.421875 75.984375 \nL 18.40625 75.984375 \nL 18.40625 0 \nL 9.421875 0 \nz\n\" id=\"DejaVuSans-108\"/>\n      <path d=\"M 44.28125 53.078125 \nL 44.28125 44.578125 \nQ 40.484375 46.53125 36.375 47.5 \nQ 32.28125 48.484375 27.875 48.484375 \nQ 21.1875 48.484375 17.84375 46.4375 \nQ 14.5 44.390625 14.5 40.28125 \nQ 14.5 37.15625 16.890625 35.375 \nQ 19.28125 33.59375 26.515625 31.984375 \nL 29.59375 31.296875 \nQ 39.15625 29.25 43.1875 25.515625 \nQ 47.21875 21.78125 47.21875 15.09375 \nQ 47.21875 7.46875 41.1875 3.015625 \nQ 35.15625 -1.421875 24.609375 -1.421875 \nQ 20.21875 -1.421875 15.453125 -0.5625 \nQ 10.6875 0.296875 5.421875 2 \nL 5.421875 11.28125 \nQ 10.40625 8.6875 15.234375 7.390625 \nQ 20.0625 6.109375 24.8125 6.109375 \nQ 31.15625 6.109375 34.5625 8.28125 \nQ 37.984375 10.453125 37.984375 14.40625 \nQ 37.984375 18.0625 35.515625 20.015625 \nQ 33.0625 21.96875 24.703125 23.78125 \nL 21.578125 24.515625 \nQ 13.234375 26.265625 9.515625 29.90625 \nQ 5.8125 33.546875 5.8125 39.890625 \nQ 5.8125 47.609375 11.28125 51.796875 \nQ 16.75 56 26.8125 56 \nQ 31.78125 56 36.171875 55.265625 \nQ 40.578125 54.546875 44.28125 53.078125 \nz\n\" id=\"DejaVuSans-115\"/>\n     </defs>\n     <g transform=\"translate(168.8125 62.814062)scale(0.1 -0.1)\">\n      <use xlink:href=\"#DejaVuSans-116\"/>\n      <use x=\"39.208984\" xlink:href=\"#DejaVuSans-114\"/>\n      <use x=\"80.322266\" xlink:href=\"#DejaVuSans-97\"/>\n      <use x=\"141.601562\" xlink:href=\"#DejaVuSans-105\"/>\n      <use x=\"169.384766\" xlink:href=\"#DejaVuSans-110\"/>\n      <use x=\"232.763672\" xlink:href=\"#DejaVuSans-95\"/>\n      <use x=\"282.763672\" xlink:href=\"#DejaVuSans-108\"/>\n      <use x=\"310.546875\" xlink:href=\"#DejaVuSans-111\"/>\n      <use x=\"371.728516\" xlink:href=\"#DejaVuSans-115\"/>\n      <use x=\"423.828125\" xlink:href=\"#DejaVuSans-115\"/>\n     </g>\n    </g>\n    <g id=\"line2d_128\">\n     <path d=\"M 140.8125 74.270312 \nL 160.8125 74.270312 \n\" style=\"fill:none;stroke:#ff7f0e;stroke-dasharray:5.55,2.4;stroke-dashoffset:0;stroke-width:1.5;\"/>\n    </g>\n    <g id=\"line2d_129\"/>\n    <g id=\"text_12\">\n     <!-- val_loss -->\n     <defs>\n      <path d=\"M 2.984375 54.6875 \nL 12.5 54.6875 \nL 29.59375 8.796875 \nL 46.6875 54.6875 \nL 56.203125 54.6875 \nL 35.6875 0 \nL 23.484375 0 \nz\n\" id=\"DejaVuSans-118\"/>\n     </defs>\n     <g transform=\"translate(168.8125 77.770312)scale(0.1 -0.1)\">\n      <use xlink:href=\"#DejaVuSans-118\"/>\n      <use x=\"59.179688\" xlink:href=\"#DejaVuSans-97\"/>\n      <use x=\"120.458984\" xlink:href=\"#DejaVuSans-108\"/>\n      <use x=\"148.242188\" xlink:href=\"#DejaVuSans-95\"/>\n      <use x=\"198.242188\" xlink:href=\"#DejaVuSans-108\"/>\n      <use x=\"226.025391\" xlink:href=\"#DejaVuSans-111\"/>\n      <use x=\"287.207031\" xlink:href=\"#DejaVuSans-115\"/>\n      <use x=\"339.306641\" xlink:href=\"#DejaVuSans-115\"/>\n     </g>\n    </g>\n    <g id=\"line2d_130\">\n     <path d=\"M 140.8125 89.226562 \nL 160.8125 89.226562 \n\" style=\"fill:none;stroke:#2ca02c;stroke-dasharray:9.6,2.4,1.5,2.4;stroke-dashoffset:0;stroke-width:1.5;\"/>\n    </g>\n    <g id=\"line2d_131\"/>\n    <g id=\"text_13\">\n     <!-- val_acc -->\n     <g transform=\"translate(168.8125 92.726562)scale(0.1 -0.1)\">\n      <use xlink:href=\"#DejaVuSans-118\"/>\n      <use x=\"59.179688\" xlink:href=\"#DejaVuSans-97\"/>\n      <use x=\"120.458984\" xlink:href=\"#DejaVuSans-108\"/>\n      <use x=\"148.242188\" xlink:href=\"#DejaVuSans-95\"/>\n      <use x=\"198.242188\" xlink:href=\"#DejaVuSans-97\"/>\n      <use x=\"259.521484\" xlink:href=\"#DejaVuSans-99\"/>\n      <use x=\"314.501953\" xlink:href=\"#DejaVuSans-99\"/>\n     </g>\n    </g>\n   </g>\n  </g>\n </g>\n <defs>\n  <clipPath id=\"pdcd7c942b3\">\n   <rect height=\"135.9\" width=\"195.3\" x=\"30.103125\" y=\"7.2\"/>\n  </clipPath>\n </defs>\n</svg>\n"
          },
          "metadata": {
            "needs_background": "light"
          }
        }
      ]
    },
    {
      "cell_type": "code",
      "source": [
        "model.net[1].gamma.reshape(-1)"
      ],
      "metadata": {
        "colab": {
          "base_uri": "https://localhost:8080/"
        },
        "id": "PicsGRcc8DGq",
        "outputId": "53a69625-fa33-4863-a9d7-b93717cbb915"
      },
      "execution_count": 13,
      "outputs": [
        {
          "output_type": "execute_result",
          "data": {
            "text/plain": [
              "tensor([1.5873, 1.6004, 2.2562, 2.1231, 1.4516, 1.7504],\n",
              "       grad_fn=<ReshapeAliasBackward0>)"
            ]
          },
          "metadata": {},
          "execution_count": 13
        }
      ]
    },
    {
      "cell_type": "code",
      "source": [
        "model.net[1].beta.reshape(-1)"
      ],
      "metadata": {
        "colab": {
          "base_uri": "https://localhost:8080/"
        },
        "id": "LNtYbj42ABOK",
        "outputId": "c20a5892-2ce3-4c62-8360-5eeb3ce1ac83"
      },
      "execution_count": 15,
      "outputs": [
        {
          "output_type": "execute_result",
          "data": {
            "text/plain": [
              "tensor([ 0.5664,  1.1851, -0.8355, -1.5280,  1.5593,  0.7815],\n",
              "       grad_fn=<ReshapeAliasBackward0>)"
            ]
          },
          "metadata": {},
          "execution_count": 15
        }
      ]
    },
    {
      "cell_type": "markdown",
      "source": [
        "concise implementation :"
      ],
      "metadata": {
        "id": "RImWB3-UAgM_"
      }
    },
    {
      "cell_type": "code",
      "source": [
        "nn.LazyBatchNorm1d??"
      ],
      "metadata": {
        "id": "S7sb-PTDA1F-"
      },
      "execution_count": 17,
      "outputs": []
    },
    {
      "cell_type": "code",
      "source": [
        "class BNLeNet(d2l.Classifier):\n",
        "\n",
        "  def __init__(self, lr=0.1, num_classes=10):\n",
        "    super().__init__()\n",
        "    self.save_hyperparameters()\n",
        "    self.net = nn.Sequential(\n",
        "        nn.LazyConv2d(6, kernel_size=5), nn.LazyBatchNorm2d(), nn.Sigmoid(),\n",
        "        nn.AvgPool2d(kernel_size=2, stride=2),\n",
        "        nn.LazyConv2d(16, kernel_size=5), nn.LazyBatchNorm2d(), nn.Sigmoid(),\n",
        "        nn.AvgPool2d(kernel_size=2, stride=2),\n",
        "        nn.Flatten(),\n",
        "        nn.LazyLinear(120), nn.LazyBatchNorm1d(), nn.Sigmoid(),\n",
        "        nn.LazyLinear(84), nn.LazyBatchNorm1d(), nn.Sigmoid(),\n",
        "        nn.LazyLinear(num_classes)\n",
        "    )\n",
        "\n",
        "  def forward(self, X):\n",
        "    return self.net(X)"
      ],
      "metadata": {
        "id": "zBEf00LeALfZ"
      },
      "execution_count": 7,
      "outputs": []
    },
    {
      "cell_type": "markdown",
      "source": [
        "took 2min 29 seconds to train"
      ],
      "metadata": {
        "id": "4zEyO4-LCY8v"
      }
    },
    {
      "cell_type": "code",
      "source": [
        "trainer = d2l.Trainer(max_epochs=10)\n",
        "data = d2l.FashionMNIST(batch_size=128)\n",
        "model = BNLeNet(lr=0.1)\n",
        "model.apply_init([next(iter(data.get_dataloader(train=True)))[0]], d2l.init_cnn)\n",
        "trainer.fit(model, data)"
      ],
      "metadata": {
        "colab": {
          "base_uri": "https://localhost:8080/",
          "height": 262
        },
        "id": "5C2bk60bBgFT",
        "outputId": "6fd5ca25-c82e-4b8f-bd33-83e6f8da7f36"
      },
      "execution_count": 19,
      "outputs": [
        {
          "output_type": "display_data",
          "data": {
            "text/plain": [
              "<Figure size 252x180 with 1 Axes>"
            ],
            "image/svg+xml": "<?xml version=\"1.0\" encoding=\"utf-8\" standalone=\"no\"?>\n<!DOCTYPE svg PUBLIC \"-//W3C//DTD SVG 1.1//EN\"\n  \"http://www.w3.org/Graphics/SVG/1.1/DTD/svg11.dtd\">\n<!-- Created with matplotlib (https://matplotlib.org/) -->\n<svg height=\"180.65625pt\" version=\"1.1\" viewBox=\"0 0 238.965625 180.65625\" width=\"238.965625pt\" xmlns=\"http://www.w3.org/2000/svg\" xmlns:xlink=\"http://www.w3.org/1999/xlink\">\n <defs>\n  <style type=\"text/css\">\n*{stroke-linecap:butt;stroke-linejoin:round;}\n  </style>\n </defs>\n <g id=\"figure_1\">\n  <g id=\"patch_1\">\n   <path d=\"M 0 180.65625 \nL 238.965625 180.65625 \nL 238.965625 0 \nL 0 0 \nz\n\" style=\"fill:none;\"/>\n  </g>\n  <g id=\"axes_1\">\n   <g id=\"patch_2\">\n    <path d=\"M 30.103125 143.1 \nL 225.403125 143.1 \nL 225.403125 7.2 \nL 30.103125 7.2 \nz\n\" style=\"fill:#ffffff;\"/>\n   </g>\n   <g id=\"matplotlib.axis_1\">\n    <g id=\"xtick_1\">\n     <g id=\"line2d_1\">\n      <defs>\n       <path d=\"M 0 0 \nL 0 3.5 \n\" id=\"mbce7be3098\" style=\"stroke:#000000;stroke-width:0.8;\"/>\n      </defs>\n      <g>\n       <use style=\"stroke:#000000;stroke-width:0.8;\" x=\"30.103125\" xlink:href=\"#mbce7be3098\" y=\"143.1\"/>\n      </g>\n     </g>\n     <g id=\"text_1\">\n      <!-- 0 -->\n      <defs>\n       <path d=\"M 31.78125 66.40625 \nQ 24.171875 66.40625 20.328125 58.90625 \nQ 16.5 51.421875 16.5 36.375 \nQ 16.5 21.390625 20.328125 13.890625 \nQ 24.171875 6.390625 31.78125 6.390625 \nQ 39.453125 6.390625 43.28125 13.890625 \nQ 47.125 21.390625 47.125 36.375 \nQ 47.125 51.421875 43.28125 58.90625 \nQ 39.453125 66.40625 31.78125 66.40625 \nz\nM 31.78125 74.21875 \nQ 44.046875 74.21875 50.515625 64.515625 \nQ 56.984375 54.828125 56.984375 36.375 \nQ 56.984375 17.96875 50.515625 8.265625 \nQ 44.046875 -1.421875 31.78125 -1.421875 \nQ 19.53125 -1.421875 13.0625 8.265625 \nQ 6.59375 17.96875 6.59375 36.375 \nQ 6.59375 54.828125 13.0625 64.515625 \nQ 19.53125 74.21875 31.78125 74.21875 \nz\n\" id=\"DejaVuSans-48\"/>\n      </defs>\n      <g transform=\"translate(26.921875 157.698438)scale(0.1 -0.1)\">\n       <use xlink:href=\"#DejaVuSans-48\"/>\n      </g>\n     </g>\n    </g>\n    <g id=\"xtick_2\">\n     <g id=\"line2d_2\">\n      <g>\n       <use style=\"stroke:#000000;stroke-width:0.8;\" x=\"69.163125\" xlink:href=\"#mbce7be3098\" y=\"143.1\"/>\n      </g>\n     </g>\n     <g id=\"text_2\">\n      <!-- 2 -->\n      <defs>\n       <path d=\"M 19.1875 8.296875 \nL 53.609375 8.296875 \nL 53.609375 0 \nL 7.328125 0 \nL 7.328125 8.296875 \nQ 12.9375 14.109375 22.625 23.890625 \nQ 32.328125 33.6875 34.8125 36.53125 \nQ 39.546875 41.84375 41.421875 45.53125 \nQ 43.3125 49.21875 43.3125 52.78125 \nQ 43.3125 58.59375 39.234375 62.25 \nQ 35.15625 65.921875 28.609375 65.921875 \nQ 23.96875 65.921875 18.8125 64.3125 \nQ 13.671875 62.703125 7.8125 59.421875 \nL 7.8125 69.390625 \nQ 13.765625 71.78125 18.9375 73 \nQ 24.125 74.21875 28.421875 74.21875 \nQ 39.75 74.21875 46.484375 68.546875 \nQ 53.21875 62.890625 53.21875 53.421875 \nQ 53.21875 48.921875 51.53125 44.890625 \nQ 49.859375 40.875 45.40625 35.40625 \nQ 44.1875 33.984375 37.640625 27.21875 \nQ 31.109375 20.453125 19.1875 8.296875 \nz\n\" id=\"DejaVuSans-50\"/>\n      </defs>\n      <g transform=\"translate(65.981875 157.698438)scale(0.1 -0.1)\">\n       <use xlink:href=\"#DejaVuSans-50\"/>\n      </g>\n     </g>\n    </g>\n    <g id=\"xtick_3\">\n     <g id=\"line2d_3\">\n      <g>\n       <use style=\"stroke:#000000;stroke-width:0.8;\" x=\"108.223125\" xlink:href=\"#mbce7be3098\" y=\"143.1\"/>\n      </g>\n     </g>\n     <g id=\"text_3\">\n      <!-- 4 -->\n      <defs>\n       <path d=\"M 37.796875 64.3125 \nL 12.890625 25.390625 \nL 37.796875 25.390625 \nz\nM 35.203125 72.90625 \nL 47.609375 72.90625 \nL 47.609375 25.390625 \nL 58.015625 25.390625 \nL 58.015625 17.1875 \nL 47.609375 17.1875 \nL 47.609375 0 \nL 37.796875 0 \nL 37.796875 17.1875 \nL 4.890625 17.1875 \nL 4.890625 26.703125 \nz\n\" id=\"DejaVuSans-52\"/>\n      </defs>\n      <g transform=\"translate(105.041875 157.698438)scale(0.1 -0.1)\">\n       <use xlink:href=\"#DejaVuSans-52\"/>\n      </g>\n     </g>\n    </g>\n    <g id=\"xtick_4\">\n     <g id=\"line2d_4\">\n      <g>\n       <use style=\"stroke:#000000;stroke-width:0.8;\" x=\"147.283125\" xlink:href=\"#mbce7be3098\" y=\"143.1\"/>\n      </g>\n     </g>\n     <g id=\"text_4\">\n      <!-- 6 -->\n      <defs>\n       <path d=\"M 33.015625 40.375 \nQ 26.375 40.375 22.484375 35.828125 \nQ 18.609375 31.296875 18.609375 23.390625 \nQ 18.609375 15.53125 22.484375 10.953125 \nQ 26.375 6.390625 33.015625 6.390625 \nQ 39.65625 6.390625 43.53125 10.953125 \nQ 47.40625 15.53125 47.40625 23.390625 \nQ 47.40625 31.296875 43.53125 35.828125 \nQ 39.65625 40.375 33.015625 40.375 \nz\nM 52.59375 71.296875 \nL 52.59375 62.3125 \nQ 48.875 64.0625 45.09375 64.984375 \nQ 41.3125 65.921875 37.59375 65.921875 \nQ 27.828125 65.921875 22.671875 59.328125 \nQ 17.53125 52.734375 16.796875 39.40625 \nQ 19.671875 43.65625 24.015625 45.921875 \nQ 28.375 48.1875 33.59375 48.1875 \nQ 44.578125 48.1875 50.953125 41.515625 \nQ 57.328125 34.859375 57.328125 23.390625 \nQ 57.328125 12.15625 50.6875 5.359375 \nQ 44.046875 -1.421875 33.015625 -1.421875 \nQ 20.359375 -1.421875 13.671875 8.265625 \nQ 6.984375 17.96875 6.984375 36.375 \nQ 6.984375 53.65625 15.1875 63.9375 \nQ 23.390625 74.21875 37.203125 74.21875 \nQ 40.921875 74.21875 44.703125 73.484375 \nQ 48.484375 72.75 52.59375 71.296875 \nz\n\" id=\"DejaVuSans-54\"/>\n      </defs>\n      <g transform=\"translate(144.101875 157.698438)scale(0.1 -0.1)\">\n       <use xlink:href=\"#DejaVuSans-54\"/>\n      </g>\n     </g>\n    </g>\n    <g id=\"xtick_5\">\n     <g id=\"line2d_5\">\n      <g>\n       <use style=\"stroke:#000000;stroke-width:0.8;\" x=\"186.343125\" xlink:href=\"#mbce7be3098\" y=\"143.1\"/>\n      </g>\n     </g>\n     <g id=\"text_5\">\n      <!-- 8 -->\n      <defs>\n       <path d=\"M 31.78125 34.625 \nQ 24.75 34.625 20.71875 30.859375 \nQ 16.703125 27.09375 16.703125 20.515625 \nQ 16.703125 13.921875 20.71875 10.15625 \nQ 24.75 6.390625 31.78125 6.390625 \nQ 38.8125 6.390625 42.859375 10.171875 \nQ 46.921875 13.96875 46.921875 20.515625 \nQ 46.921875 27.09375 42.890625 30.859375 \nQ 38.875 34.625 31.78125 34.625 \nz\nM 21.921875 38.8125 \nQ 15.578125 40.375 12.03125 44.71875 \nQ 8.5 49.078125 8.5 55.328125 \nQ 8.5 64.0625 14.71875 69.140625 \nQ 20.953125 74.21875 31.78125 74.21875 \nQ 42.671875 74.21875 48.875 69.140625 \nQ 55.078125 64.0625 55.078125 55.328125 \nQ 55.078125 49.078125 51.53125 44.71875 \nQ 48 40.375 41.703125 38.8125 \nQ 48.828125 37.15625 52.796875 32.3125 \nQ 56.78125 27.484375 56.78125 20.515625 \nQ 56.78125 9.90625 50.3125 4.234375 \nQ 43.84375 -1.421875 31.78125 -1.421875 \nQ 19.734375 -1.421875 13.25 4.234375 \nQ 6.78125 9.90625 6.78125 20.515625 \nQ 6.78125 27.484375 10.78125 32.3125 \nQ 14.796875 37.15625 21.921875 38.8125 \nz\nM 18.3125 54.390625 \nQ 18.3125 48.734375 21.84375 45.5625 \nQ 25.390625 42.390625 31.78125 42.390625 \nQ 38.140625 42.390625 41.71875 45.5625 \nQ 45.3125 48.734375 45.3125 54.390625 \nQ 45.3125 60.0625 41.71875 63.234375 \nQ 38.140625 66.40625 31.78125 66.40625 \nQ 25.390625 66.40625 21.84375 63.234375 \nQ 18.3125 60.0625 18.3125 54.390625 \nz\n\" id=\"DejaVuSans-56\"/>\n      </defs>\n      <g transform=\"translate(183.161875 157.698438)scale(0.1 -0.1)\">\n       <use xlink:href=\"#DejaVuSans-56\"/>\n      </g>\n     </g>\n    </g>\n    <g id=\"xtick_6\">\n     <g id=\"line2d_6\">\n      <g>\n       <use style=\"stroke:#000000;stroke-width:0.8;\" x=\"225.403125\" xlink:href=\"#mbce7be3098\" y=\"143.1\"/>\n      </g>\n     </g>\n     <g id=\"text_6\">\n      <!-- 10 -->\n      <defs>\n       <path d=\"M 12.40625 8.296875 \nL 28.515625 8.296875 \nL 28.515625 63.921875 \nL 10.984375 60.40625 \nL 10.984375 69.390625 \nL 28.421875 72.90625 \nL 38.28125 72.90625 \nL 38.28125 8.296875 \nL 54.390625 8.296875 \nL 54.390625 0 \nL 12.40625 0 \nz\n\" id=\"DejaVuSans-49\"/>\n      </defs>\n      <g transform=\"translate(219.040625 157.698438)scale(0.1 -0.1)\">\n       <use xlink:href=\"#DejaVuSans-49\"/>\n       <use x=\"63.623047\" xlink:href=\"#DejaVuSans-48\"/>\n      </g>\n     </g>\n    </g>\n    <g id=\"text_7\">\n     <!-- epoch -->\n     <defs>\n      <path d=\"M 56.203125 29.59375 \nL 56.203125 25.203125 \nL 14.890625 25.203125 \nQ 15.484375 15.921875 20.484375 11.0625 \nQ 25.484375 6.203125 34.421875 6.203125 \nQ 39.59375 6.203125 44.453125 7.46875 \nQ 49.3125 8.734375 54.109375 11.28125 \nL 54.109375 2.78125 \nQ 49.265625 0.734375 44.1875 -0.34375 \nQ 39.109375 -1.421875 33.890625 -1.421875 \nQ 20.796875 -1.421875 13.15625 6.1875 \nQ 5.515625 13.8125 5.515625 26.8125 \nQ 5.515625 40.234375 12.765625 48.109375 \nQ 20.015625 56 32.328125 56 \nQ 43.359375 56 49.78125 48.890625 \nQ 56.203125 41.796875 56.203125 29.59375 \nz\nM 47.21875 32.234375 \nQ 47.125 39.59375 43.09375 43.984375 \nQ 39.0625 48.390625 32.421875 48.390625 \nQ 24.90625 48.390625 20.390625 44.140625 \nQ 15.875 39.890625 15.1875 32.171875 \nz\n\" id=\"DejaVuSans-101\"/>\n      <path d=\"M 18.109375 8.203125 \nL 18.109375 -20.796875 \nL 9.078125 -20.796875 \nL 9.078125 54.6875 \nL 18.109375 54.6875 \nL 18.109375 46.390625 \nQ 20.953125 51.265625 25.265625 53.625 \nQ 29.59375 56 35.59375 56 \nQ 45.5625 56 51.78125 48.09375 \nQ 58.015625 40.1875 58.015625 27.296875 \nQ 58.015625 14.40625 51.78125 6.484375 \nQ 45.5625 -1.421875 35.59375 -1.421875 \nQ 29.59375 -1.421875 25.265625 0.953125 \nQ 20.953125 3.328125 18.109375 8.203125 \nz\nM 48.6875 27.296875 \nQ 48.6875 37.203125 44.609375 42.84375 \nQ 40.53125 48.484375 33.40625 48.484375 \nQ 26.265625 48.484375 22.1875 42.84375 \nQ 18.109375 37.203125 18.109375 27.296875 \nQ 18.109375 17.390625 22.1875 11.75 \nQ 26.265625 6.109375 33.40625 6.109375 \nQ 40.53125 6.109375 44.609375 11.75 \nQ 48.6875 17.390625 48.6875 27.296875 \nz\n\" id=\"DejaVuSans-112\"/>\n      <path d=\"M 30.609375 48.390625 \nQ 23.390625 48.390625 19.1875 42.75 \nQ 14.984375 37.109375 14.984375 27.296875 \nQ 14.984375 17.484375 19.15625 11.84375 \nQ 23.34375 6.203125 30.609375 6.203125 \nQ 37.796875 6.203125 41.984375 11.859375 \nQ 46.1875 17.53125 46.1875 27.296875 \nQ 46.1875 37.015625 41.984375 42.703125 \nQ 37.796875 48.390625 30.609375 48.390625 \nz\nM 30.609375 56 \nQ 42.328125 56 49.015625 48.375 \nQ 55.71875 40.765625 55.71875 27.296875 \nQ 55.71875 13.875 49.015625 6.21875 \nQ 42.328125 -1.421875 30.609375 -1.421875 \nQ 18.84375 -1.421875 12.171875 6.21875 \nQ 5.515625 13.875 5.515625 27.296875 \nQ 5.515625 40.765625 12.171875 48.375 \nQ 18.84375 56 30.609375 56 \nz\n\" id=\"DejaVuSans-111\"/>\n      <path d=\"M 48.78125 52.59375 \nL 48.78125 44.1875 \nQ 44.96875 46.296875 41.140625 47.34375 \nQ 37.3125 48.390625 33.40625 48.390625 \nQ 24.65625 48.390625 19.8125 42.84375 \nQ 14.984375 37.3125 14.984375 27.296875 \nQ 14.984375 17.28125 19.8125 11.734375 \nQ 24.65625 6.203125 33.40625 6.203125 \nQ 37.3125 6.203125 41.140625 7.25 \nQ 44.96875 8.296875 48.78125 10.40625 \nL 48.78125 2.09375 \nQ 45.015625 0.34375 40.984375 -0.53125 \nQ 36.96875 -1.421875 32.421875 -1.421875 \nQ 20.0625 -1.421875 12.78125 6.34375 \nQ 5.515625 14.109375 5.515625 27.296875 \nQ 5.515625 40.671875 12.859375 48.328125 \nQ 20.21875 56 33.015625 56 \nQ 37.15625 56 41.109375 55.140625 \nQ 45.0625 54.296875 48.78125 52.59375 \nz\n\" id=\"DejaVuSans-99\"/>\n      <path d=\"M 54.890625 33.015625 \nL 54.890625 0 \nL 45.90625 0 \nL 45.90625 32.71875 \nQ 45.90625 40.484375 42.875 44.328125 \nQ 39.84375 48.1875 33.796875 48.1875 \nQ 26.515625 48.1875 22.3125 43.546875 \nQ 18.109375 38.921875 18.109375 30.90625 \nL 18.109375 0 \nL 9.078125 0 \nL 9.078125 75.984375 \nL 18.109375 75.984375 \nL 18.109375 46.1875 \nQ 21.34375 51.125 25.703125 53.5625 \nQ 30.078125 56 35.796875 56 \nQ 45.21875 56 50.046875 50.171875 \nQ 54.890625 44.34375 54.890625 33.015625 \nz\n\" id=\"DejaVuSans-104\"/>\n     </defs>\n     <g transform=\"translate(112.525 171.376563)scale(0.1 -0.1)\">\n      <use xlink:href=\"#DejaVuSans-101\"/>\n      <use x=\"61.523438\" xlink:href=\"#DejaVuSans-112\"/>\n      <use x=\"125\" xlink:href=\"#DejaVuSans-111\"/>\n      <use x=\"186.181641\" xlink:href=\"#DejaVuSans-99\"/>\n      <use x=\"241.162109\" xlink:href=\"#DejaVuSans-104\"/>\n     </g>\n    </g>\n   </g>\n   <g id=\"matplotlib.axis_2\">\n    <g id=\"ytick_1\">\n     <g id=\"line2d_7\">\n      <defs>\n       <path d=\"M 0 0 \nL -3.5 0 \n\" id=\"mcbde001282\" style=\"stroke:#000000;stroke-width:0.8;\"/>\n      </defs>\n      <g>\n       <use style=\"stroke:#000000;stroke-width:0.8;\" x=\"30.103125\" xlink:href=\"#mcbde001282\" y=\"119.739706\"/>\n      </g>\n     </g>\n     <g id=\"text_8\">\n      <!-- 0.4 -->\n      <defs>\n       <path d=\"M 10.6875 12.40625 \nL 21 12.40625 \nL 21 0 \nL 10.6875 0 \nz\n\" id=\"DejaVuSans-46\"/>\n      </defs>\n      <g transform=\"translate(7.2 123.538925)scale(0.1 -0.1)\">\n       <use xlink:href=\"#DejaVuSans-48\"/>\n       <use x=\"63.623047\" xlink:href=\"#DejaVuSans-46\"/>\n       <use x=\"95.410156\" xlink:href=\"#DejaVuSans-52\"/>\n      </g>\n     </g>\n    </g>\n    <g id=\"ytick_2\">\n     <g id=\"line2d_8\">\n      <g>\n       <use style=\"stroke:#000000;stroke-width:0.8;\" x=\"30.103125\" xlink:href=\"#mcbde001282\" y=\"80.902703\"/>\n      </g>\n     </g>\n     <g id=\"text_9\">\n      <!-- 0.6 -->\n      <g transform=\"translate(7.2 84.701922)scale(0.1 -0.1)\">\n       <use xlink:href=\"#DejaVuSans-48\"/>\n       <use x=\"63.623047\" xlink:href=\"#DejaVuSans-46\"/>\n       <use x=\"95.410156\" xlink:href=\"#DejaVuSans-54\"/>\n      </g>\n     </g>\n    </g>\n    <g id=\"ytick_3\">\n     <g id=\"line2d_9\">\n      <g>\n       <use style=\"stroke:#000000;stroke-width:0.8;\" x=\"30.103125\" xlink:href=\"#mcbde001282\" y=\"42.0657\"/>\n      </g>\n     </g>\n     <g id=\"text_10\">\n      <!-- 0.8 -->\n      <g transform=\"translate(7.2 45.864918)scale(0.1 -0.1)\">\n       <use xlink:href=\"#DejaVuSans-48\"/>\n       <use x=\"63.623047\" xlink:href=\"#DejaVuSans-46\"/>\n       <use x=\"95.410156\" xlink:href=\"#DejaVuSans-56\"/>\n      </g>\n     </g>\n    </g>\n   </g>\n   <g id=\"line2d_10\">\n    <path clip-path=\"url(#p5c3aac931a)\" d=\"M 34.954394 13.377273 \n\" style=\"fill:none;stroke:#1f77b4;stroke-linecap:square;stroke-width:1.5;\"/>\n   </g>\n   <g id=\"line2d_11\">\n    <path clip-path=\"url(#p5c3aac931a)\" d=\"M 34.954394 13.377273 \nL 44.698573 79.263567 \n\" style=\"fill:none;stroke:#1f77b4;stroke-linecap:square;stroke-width:1.5;\"/>\n   </g>\n   <g id=\"line2d_12\">\n    <path clip-path=\"url(#p5c3aac931a)\" d=\"M 34.954394 13.377273 \nL 44.698573 79.263567 \n\" style=\"fill:none;stroke:#1f77b4;stroke-linecap:square;stroke-width:1.5;\"/>\n   </g>\n   <g id=\"line2d_13\">\n    <path clip-path=\"url(#p5c3aac931a)\" d=\"M 49.633125 74.450626 \n\" style=\"fill:none;stroke:#ff7f0e;stroke-dasharray:5.55,2.4;stroke-dashoffset:0;stroke-width:1.5;\"/>\n   </g>\n   <g id=\"line2d_14\"/>\n   <g id=\"line2d_15\">\n    <path clip-path=\"url(#p5c3aac931a)\" d=\"M 34.954394 13.377273 \nL 44.698573 79.263567 \n\" style=\"fill:none;stroke:#1f77b4;stroke-linecap:square;stroke-width:1.5;\"/>\n   </g>\n   <g id=\"line2d_16\">\n    <path clip-path=\"url(#p5c3aac931a)\" d=\"M 49.633125 74.450626 \n\" style=\"fill:none;stroke:#ff7f0e;stroke-dasharray:5.55,2.4;stroke-dashoffset:0;stroke-width:1.5;\"/>\n   </g>\n   <g id=\"line2d_17\">\n    <path clip-path=\"url(#p5c3aac931a)\" d=\"M 49.633125 44.823311 \n\" style=\"fill:none;stroke:#2ca02c;stroke-dasharray:9.6,2.4,1.5,2.4;stroke-dashoffset:0;stroke-width:1.5;\"/>\n   </g>\n   <g id=\"line2d_18\">\n    <path clip-path=\"url(#p5c3aac931a)\" d=\"M 34.954394 13.377273 \nL 44.698573 79.263567 \nL 54.442752 93.774143 \n\" style=\"fill:none;stroke:#1f77b4;stroke-linecap:square;stroke-width:1.5;\"/>\n   </g>\n   <g id=\"line2d_19\">\n    <path clip-path=\"url(#p5c3aac931a)\" d=\"M 49.633125 74.450626 \n\" style=\"fill:none;stroke:#ff7f0e;stroke-dasharray:5.55,2.4;stroke-dashoffset:0;stroke-width:1.5;\"/>\n   </g>\n   <g id=\"line2d_20\">\n    <path clip-path=\"url(#p5c3aac931a)\" d=\"M 49.633125 44.823311 \n\" style=\"fill:none;stroke:#2ca02c;stroke-dasharray:9.6,2.4,1.5,2.4;stroke-dashoffset:0;stroke-width:1.5;\"/>\n   </g>\n   <g id=\"line2d_21\">\n    <path clip-path=\"url(#p5c3aac931a)\" d=\"M 34.954394 13.377273 \nL 44.698573 79.263567 \nL 54.442752 93.774143 \nL 64.186931 102.352431 \n\" style=\"fill:none;stroke:#1f77b4;stroke-linecap:square;stroke-width:1.5;\"/>\n   </g>\n   <g id=\"line2d_22\">\n    <path clip-path=\"url(#p5c3aac931a)\" d=\"M 49.633125 74.450626 \n\" style=\"fill:none;stroke:#ff7f0e;stroke-dasharray:5.55,2.4;stroke-dashoffset:0;stroke-width:1.5;\"/>\n   </g>\n   <g id=\"line2d_23\">\n    <path clip-path=\"url(#p5c3aac931a)\" d=\"M 49.633125 44.823311 \n\" style=\"fill:none;stroke:#2ca02c;stroke-dasharray:9.6,2.4,1.5,2.4;stroke-dashoffset:0;stroke-width:1.5;\"/>\n   </g>\n   <g id=\"line2d_24\">\n    <path clip-path=\"url(#p5c3aac931a)\" d=\"M 34.954394 13.377273 \nL 44.698573 79.263567 \nL 54.442752 93.774143 \nL 64.186931 102.352431 \n\" style=\"fill:none;stroke:#1f77b4;stroke-linecap:square;stroke-width:1.5;\"/>\n   </g>\n   <g id=\"line2d_25\">\n    <path clip-path=\"url(#p5c3aac931a)\" d=\"M 49.633125 74.450626 \nL 69.163125 102.220159 \n\" style=\"fill:none;stroke:#ff7f0e;stroke-dasharray:5.55,2.4;stroke-dashoffset:0;stroke-width:1.5;\"/>\n   </g>\n   <g id=\"line2d_26\">\n    <path clip-path=\"url(#p5c3aac931a)\" d=\"M 49.633125 44.823311 \n\" style=\"fill:none;stroke:#2ca02c;stroke-dasharray:9.6,2.4,1.5,2.4;stroke-dashoffset:0;stroke-width:1.5;\"/>\n   </g>\n   <g id=\"line2d_27\">\n    <path clip-path=\"url(#p5c3aac931a)\" d=\"M 34.954394 13.377273 \nL 44.698573 79.263567 \nL 54.442752 93.774143 \nL 64.186931 102.352431 \n\" style=\"fill:none;stroke:#1f77b4;stroke-linecap:square;stroke-width:1.5;\"/>\n   </g>\n   <g id=\"line2d_28\">\n    <path clip-path=\"url(#p5c3aac931a)\" d=\"M 49.633125 74.450626 \nL 69.163125 102.220159 \n\" style=\"fill:none;stroke:#ff7f0e;stroke-dasharray:5.55,2.4;stroke-dashoffset:0;stroke-width:1.5;\"/>\n   </g>\n   <g id=\"line2d_29\">\n    <path clip-path=\"url(#p5c3aac931a)\" d=\"M 49.633125 44.823311 \nL 69.163125 36.508229 \n\" style=\"fill:none;stroke:#2ca02c;stroke-dasharray:9.6,2.4,1.5,2.4;stroke-dashoffset:0;stroke-width:1.5;\"/>\n   </g>\n   <g id=\"line2d_30\">\n    <path clip-path=\"url(#p5c3aac931a)\" d=\"M 34.954394 13.377273 \nL 44.698573 79.263567 \nL 54.442752 93.774143 \nL 64.186931 102.352431 \nL 73.93111 107.942965 \n\" style=\"fill:none;stroke:#1f77b4;stroke-linecap:square;stroke-width:1.5;\"/>\n   </g>\n   <g id=\"line2d_31\">\n    <path clip-path=\"url(#p5c3aac931a)\" d=\"M 49.633125 74.450626 \nL 69.163125 102.220159 \n\" style=\"fill:none;stroke:#ff7f0e;stroke-dasharray:5.55,2.4;stroke-dashoffset:0;stroke-width:1.5;\"/>\n   </g>\n   <g id=\"line2d_32\">\n    <path clip-path=\"url(#p5c3aac931a)\" d=\"M 49.633125 44.823311 \nL 69.163125 36.508229 \n\" style=\"fill:none;stroke:#2ca02c;stroke-dasharray:9.6,2.4,1.5,2.4;stroke-dashoffset:0;stroke-width:1.5;\"/>\n   </g>\n   <g id=\"line2d_33\">\n    <path clip-path=\"url(#p5c3aac931a)\" d=\"M 34.954394 13.377273 \nL 44.698573 79.263567 \nL 54.442752 93.774143 \nL 64.186931 102.352431 \nL 73.93111 107.942965 \nL 83.675289 113.427366 \n\" style=\"fill:none;stroke:#1f77b4;stroke-linecap:square;stroke-width:1.5;\"/>\n   </g>\n   <g id=\"line2d_34\">\n    <path clip-path=\"url(#p5c3aac931a)\" d=\"M 49.633125 74.450626 \nL 69.163125 102.220159 \n\" style=\"fill:none;stroke:#ff7f0e;stroke-dasharray:5.55,2.4;stroke-dashoffset:0;stroke-width:1.5;\"/>\n   </g>\n   <g id=\"line2d_35\">\n    <path clip-path=\"url(#p5c3aac931a)\" d=\"M 49.633125 44.823311 \nL 69.163125 36.508229 \n\" style=\"fill:none;stroke:#2ca02c;stroke-dasharray:9.6,2.4,1.5,2.4;stroke-dashoffset:0;stroke-width:1.5;\"/>\n   </g>\n   <g id=\"line2d_36\">\n    <path clip-path=\"url(#p5c3aac931a)\" d=\"M 34.954394 13.377273 \nL 44.698573 79.263567 \nL 54.442752 93.774143 \nL 64.186931 102.352431 \nL 73.93111 107.942965 \nL 83.675289 113.427366 \n\" style=\"fill:none;stroke:#1f77b4;stroke-linecap:square;stroke-width:1.5;\"/>\n   </g>\n   <g id=\"line2d_37\">\n    <path clip-path=\"url(#p5c3aac931a)\" d=\"M 49.633125 74.450626 \nL 69.163125 102.220159 \nL 88.693125 104.812437 \n\" style=\"fill:none;stroke:#ff7f0e;stroke-dasharray:5.55,2.4;stroke-dashoffset:0;stroke-width:1.5;\"/>\n   </g>\n   <g id=\"line2d_38\">\n    <path clip-path=\"url(#p5c3aac931a)\" d=\"M 49.633125 44.823311 \nL 69.163125 36.508229 \n\" style=\"fill:none;stroke:#2ca02c;stroke-dasharray:9.6,2.4,1.5,2.4;stroke-dashoffset:0;stroke-width:1.5;\"/>\n   </g>\n   <g id=\"line2d_39\">\n    <path clip-path=\"url(#p5c3aac931a)\" d=\"M 34.954394 13.377273 \nL 44.698573 79.263567 \nL 54.442752 93.774143 \nL 64.186931 102.352431 \nL 73.93111 107.942965 \nL 83.675289 113.427366 \n\" style=\"fill:none;stroke:#1f77b4;stroke-linecap:square;stroke-width:1.5;\"/>\n   </g>\n   <g id=\"line2d_40\">\n    <path clip-path=\"url(#p5c3aac931a)\" d=\"M 49.633125 74.450626 \nL 69.163125 102.220159 \nL 88.693125 104.812437 \n\" style=\"fill:none;stroke:#ff7f0e;stroke-dasharray:5.55,2.4;stroke-dashoffset:0;stroke-width:1.5;\"/>\n   </g>\n   <g id=\"line2d_41\">\n    <path clip-path=\"url(#p5c3aac931a)\" d=\"M 49.633125 44.823311 \nL 69.163125 36.508229 \nL 88.693125 36.354602 \n\" style=\"fill:none;stroke:#2ca02c;stroke-dasharray:9.6,2.4,1.5,2.4;stroke-dashoffset:0;stroke-width:1.5;\"/>\n   </g>\n   <g id=\"line2d_42\">\n    <path clip-path=\"url(#p5c3aac931a)\" d=\"M 34.954394 13.377273 \nL 44.698573 79.263567 \nL 54.442752 93.774143 \nL 64.186931 102.352431 \nL 73.93111 107.942965 \nL 83.675289 113.427366 \nL 93.419468 116.198058 \n\" style=\"fill:none;stroke:#1f77b4;stroke-linecap:square;stroke-width:1.5;\"/>\n   </g>\n   <g id=\"line2d_43\">\n    <path clip-path=\"url(#p5c3aac931a)\" d=\"M 49.633125 74.450626 \nL 69.163125 102.220159 \nL 88.693125 104.812437 \n\" style=\"fill:none;stroke:#ff7f0e;stroke-dasharray:5.55,2.4;stroke-dashoffset:0;stroke-width:1.5;\"/>\n   </g>\n   <g id=\"line2d_44\">\n    <path clip-path=\"url(#p5c3aac931a)\" d=\"M 49.633125 44.823311 \nL 69.163125 36.508229 \nL 88.693125 36.354602 \n\" style=\"fill:none;stroke:#2ca02c;stroke-dasharray:9.6,2.4,1.5,2.4;stroke-dashoffset:0;stroke-width:1.5;\"/>\n   </g>\n   <g id=\"line2d_45\">\n    <path clip-path=\"url(#p5c3aac931a)\" d=\"M 34.954394 13.377273 \nL 44.698573 79.263567 \nL 54.442752 93.774143 \nL 64.186931 102.352431 \nL 73.93111 107.942965 \nL 83.675289 113.427366 \nL 93.419468 116.198058 \nL 103.163647 119.43852 \n\" style=\"fill:none;stroke:#1f77b4;stroke-linecap:square;stroke-width:1.5;\"/>\n   </g>\n   <g id=\"line2d_46\">\n    <path clip-path=\"url(#p5c3aac931a)\" d=\"M 49.633125 74.450626 \nL 69.163125 102.220159 \nL 88.693125 104.812437 \n\" style=\"fill:none;stroke:#ff7f0e;stroke-dasharray:5.55,2.4;stroke-dashoffset:0;stroke-width:1.5;\"/>\n   </g>\n   <g id=\"line2d_47\">\n    <path clip-path=\"url(#p5c3aac931a)\" d=\"M 49.633125 44.823311 \nL 69.163125 36.508229 \nL 88.693125 36.354602 \n\" style=\"fill:none;stroke:#2ca02c;stroke-dasharray:9.6,2.4,1.5,2.4;stroke-dashoffset:0;stroke-width:1.5;\"/>\n   </g>\n   <g id=\"line2d_48\">\n    <path clip-path=\"url(#p5c3aac931a)\" d=\"M 34.954394 13.377273 \nL 44.698573 79.263567 \nL 54.442752 93.774143 \nL 64.186931 102.352431 \nL 73.93111 107.942965 \nL 83.675289 113.427366 \nL 93.419468 116.198058 \nL 103.163647 119.43852 \n\" style=\"fill:none;stroke:#1f77b4;stroke-linecap:square;stroke-width:1.5;\"/>\n   </g>\n   <g id=\"line2d_49\">\n    <path clip-path=\"url(#p5c3aac931a)\" d=\"M 49.633125 74.450626 \nL 69.163125 102.220159 \nL 88.693125 104.812437 \nL 108.223125 107.156332 \n\" style=\"fill:none;stroke:#ff7f0e;stroke-dasharray:5.55,2.4;stroke-dashoffset:0;stroke-width:1.5;\"/>\n   </g>\n   <g id=\"line2d_50\">\n    <path clip-path=\"url(#p5c3aac931a)\" d=\"M 49.633125 44.823311 \nL 69.163125 36.508229 \nL 88.693125 36.354602 \n\" style=\"fill:none;stroke:#2ca02c;stroke-dasharray:9.6,2.4,1.5,2.4;stroke-dashoffset:0;stroke-width:1.5;\"/>\n   </g>\n   <g id=\"line2d_51\">\n    <path clip-path=\"url(#p5c3aac931a)\" d=\"M 34.954394 13.377273 \nL 44.698573 79.263567 \nL 54.442752 93.774143 \nL 64.186931 102.352431 \nL 73.93111 107.942965 \nL 83.675289 113.427366 \nL 93.419468 116.198058 \nL 103.163647 119.43852 \n\" style=\"fill:none;stroke:#1f77b4;stroke-linecap:square;stroke-width:1.5;\"/>\n   </g>\n   <g id=\"line2d_52\">\n    <path clip-path=\"url(#p5c3aac931a)\" d=\"M 49.633125 74.450626 \nL 69.163125 102.220159 \nL 88.693125 104.812437 \nL 108.223125 107.156332 \n\" style=\"fill:none;stroke:#ff7f0e;stroke-dasharray:5.55,2.4;stroke-dashoffset:0;stroke-width:1.5;\"/>\n   </g>\n   <g id=\"line2d_53\">\n    <path clip-path=\"url(#p5c3aac931a)\" d=\"M 49.633125 44.823311 \nL 69.163125 36.508229 \nL 88.693125 36.354602 \nL 108.223125 35.586465 \n\" style=\"fill:none;stroke:#2ca02c;stroke-dasharray:9.6,2.4,1.5,2.4;stroke-dashoffset:0;stroke-width:1.5;\"/>\n   </g>\n   <g id=\"line2d_54\">\n    <path clip-path=\"url(#p5c3aac931a)\" d=\"M 34.954394 13.377273 \nL 44.698573 79.263567 \nL 54.442752 93.774143 \nL 64.186931 102.352431 \nL 73.93111 107.942965 \nL 83.675289 113.427366 \nL 93.419468 116.198058 \nL 103.163647 119.43852 \nL 112.907826 123.053632 \n\" style=\"fill:none;stroke:#1f77b4;stroke-linecap:square;stroke-width:1.5;\"/>\n   </g>\n   <g id=\"line2d_55\">\n    <path clip-path=\"url(#p5c3aac931a)\" d=\"M 49.633125 74.450626 \nL 69.163125 102.220159 \nL 88.693125 104.812437 \nL 108.223125 107.156332 \n\" style=\"fill:none;stroke:#ff7f0e;stroke-dasharray:5.55,2.4;stroke-dashoffset:0;stroke-width:1.5;\"/>\n   </g>\n   <g id=\"line2d_56\">\n    <path clip-path=\"url(#p5c3aac931a)\" d=\"M 49.633125 44.823311 \nL 69.163125 36.508229 \nL 88.693125 36.354602 \nL 108.223125 35.586465 \n\" style=\"fill:none;stroke:#2ca02c;stroke-dasharray:9.6,2.4,1.5,2.4;stroke-dashoffset:0;stroke-width:1.5;\"/>\n   </g>\n   <g id=\"line2d_57\">\n    <path clip-path=\"url(#p5c3aac931a)\" d=\"M 34.954394 13.377273 \nL 44.698573 79.263567 \nL 54.442752 93.774143 \nL 64.186931 102.352431 \nL 73.93111 107.942965 \nL 83.675289 113.427366 \nL 93.419468 116.198058 \nL 103.163647 119.43852 \nL 112.907826 123.053632 \nL 122.652006 123.991871 \n\" style=\"fill:none;stroke:#1f77b4;stroke-linecap:square;stroke-width:1.5;\"/>\n   </g>\n   <g id=\"line2d_58\">\n    <path clip-path=\"url(#p5c3aac931a)\" d=\"M 49.633125 74.450626 \nL 69.163125 102.220159 \nL 88.693125 104.812437 \nL 108.223125 107.156332 \n\" style=\"fill:none;stroke:#ff7f0e;stroke-dasharray:5.55,2.4;stroke-dashoffset:0;stroke-width:1.5;\"/>\n   </g>\n   <g id=\"line2d_59\">\n    <path clip-path=\"url(#p5c3aac931a)\" d=\"M 49.633125 44.823311 \nL 69.163125 36.508229 \nL 88.693125 36.354602 \nL 108.223125 35.586465 \n\" style=\"fill:none;stroke:#2ca02c;stroke-dasharray:9.6,2.4,1.5,2.4;stroke-dashoffset:0;stroke-width:1.5;\"/>\n   </g>\n   <g id=\"line2d_60\">\n    <path clip-path=\"url(#p5c3aac931a)\" d=\"M 34.954394 13.377273 \nL 44.698573 79.263567 \nL 54.442752 93.774143 \nL 64.186931 102.352431 \nL 73.93111 107.942965 \nL 83.675289 113.427366 \nL 93.419468 116.198058 \nL 103.163647 119.43852 \nL 112.907826 123.053632 \nL 122.652006 123.991871 \n\" style=\"fill:none;stroke:#1f77b4;stroke-linecap:square;stroke-width:1.5;\"/>\n   </g>\n   <g id=\"line2d_61\">\n    <path clip-path=\"url(#p5c3aac931a)\" d=\"M 49.633125 74.450626 \nL 69.163125 102.220159 \nL 88.693125 104.812437 \nL 108.223125 107.156332 \nL 127.753125 119.062121 \n\" style=\"fill:none;stroke:#ff7f0e;stroke-dasharray:5.55,2.4;stroke-dashoffset:0;stroke-width:1.5;\"/>\n   </g>\n   <g id=\"line2d_62\">\n    <path clip-path=\"url(#p5c3aac931a)\" d=\"M 49.633125 44.823311 \nL 69.163125 36.508229 \nL 88.693125 36.354602 \nL 108.223125 35.586465 \n\" style=\"fill:none;stroke:#2ca02c;stroke-dasharray:9.6,2.4,1.5,2.4;stroke-dashoffset:0;stroke-width:1.5;\"/>\n   </g>\n   <g id=\"line2d_63\">\n    <path clip-path=\"url(#p5c3aac931a)\" d=\"M 34.954394 13.377273 \nL 44.698573 79.263567 \nL 54.442752 93.774143 \nL 64.186931 102.352431 \nL 73.93111 107.942965 \nL 83.675289 113.427366 \nL 93.419468 116.198058 \nL 103.163647 119.43852 \nL 112.907826 123.053632 \nL 122.652006 123.991871 \n\" style=\"fill:none;stroke:#1f77b4;stroke-linecap:square;stroke-width:1.5;\"/>\n   </g>\n   <g id=\"line2d_64\">\n    <path clip-path=\"url(#p5c3aac931a)\" d=\"M 49.633125 74.450626 \nL 69.163125 102.220159 \nL 88.693125 104.812437 \nL 108.223125 107.156332 \nL 127.753125 119.062121 \n\" style=\"fill:none;stroke:#ff7f0e;stroke-dasharray:5.55,2.4;stroke-dashoffset:0;stroke-width:1.5;\"/>\n   </g>\n   <g id=\"line2d_65\">\n    <path clip-path=\"url(#p5c3aac931a)\" d=\"M 49.633125 44.823311 \nL 69.163125 36.508229 \nL 88.693125 36.354602 \nL 108.223125 35.586465 \nL 127.753125 31.918611 \n\" style=\"fill:none;stroke:#2ca02c;stroke-dasharray:9.6,2.4,1.5,2.4;stroke-dashoffset:0;stroke-width:1.5;\"/>\n   </g>\n   <g id=\"line2d_66\">\n    <path clip-path=\"url(#p5c3aac931a)\" d=\"M 34.954394 13.377273 \nL 44.698573 79.263567 \nL 54.442752 93.774143 \nL 64.186931 102.352431 \nL 73.93111 107.942965 \nL 83.675289 113.427366 \nL 93.419468 116.198058 \nL 103.163647 119.43852 \nL 112.907826 123.053632 \nL 122.652006 123.991871 \nL 132.396185 126.614517 \n\" style=\"fill:none;stroke:#1f77b4;stroke-linecap:square;stroke-width:1.5;\"/>\n   </g>\n   <g id=\"line2d_67\">\n    <path clip-path=\"url(#p5c3aac931a)\" d=\"M 49.633125 74.450626 \nL 69.163125 102.220159 \nL 88.693125 104.812437 \nL 108.223125 107.156332 \nL 127.753125 119.062121 \n\" style=\"fill:none;stroke:#ff7f0e;stroke-dasharray:5.55,2.4;stroke-dashoffset:0;stroke-width:1.5;\"/>\n   </g>\n   <g id=\"line2d_68\">\n    <path clip-path=\"url(#p5c3aac931a)\" d=\"M 49.633125 44.823311 \nL 69.163125 36.508229 \nL 88.693125 36.354602 \nL 108.223125 35.586465 \nL 127.753125 31.918611 \n\" style=\"fill:none;stroke:#2ca02c;stroke-dasharray:9.6,2.4,1.5,2.4;stroke-dashoffset:0;stroke-width:1.5;\"/>\n   </g>\n   <g id=\"line2d_69\">\n    <path clip-path=\"url(#p5c3aac931a)\" d=\"M 34.954394 13.377273 \nL 44.698573 79.263567 \nL 54.442752 93.774143 \nL 64.186931 102.352431 \nL 73.93111 107.942965 \nL 83.675289 113.427366 \nL 93.419468 116.198058 \nL 103.163647 119.43852 \nL 112.907826 123.053632 \nL 122.652006 123.991871 \nL 132.396185 126.614517 \nL 142.140364 127.073441 \n\" style=\"fill:none;stroke:#1f77b4;stroke-linecap:square;stroke-width:1.5;\"/>\n   </g>\n   <g id=\"line2d_70\">\n    <path clip-path=\"url(#p5c3aac931a)\" d=\"M 49.633125 74.450626 \nL 69.163125 102.220159 \nL 88.693125 104.812437 \nL 108.223125 107.156332 \nL 127.753125 119.062121 \n\" style=\"fill:none;stroke:#ff7f0e;stroke-dasharray:5.55,2.4;stroke-dashoffset:0;stroke-width:1.5;\"/>\n   </g>\n   <g id=\"line2d_71\">\n    <path clip-path=\"url(#p5c3aac931a)\" d=\"M 49.633125 44.823311 \nL 69.163125 36.508229 \nL 88.693125 36.354602 \nL 108.223125 35.586465 \nL 127.753125 31.918611 \n\" style=\"fill:none;stroke:#2ca02c;stroke-dasharray:9.6,2.4,1.5,2.4;stroke-dashoffset:0;stroke-width:1.5;\"/>\n   </g>\n   <g id=\"line2d_72\">\n    <path clip-path=\"url(#p5c3aac931a)\" d=\"M 34.954394 13.377273 \nL 44.698573 79.263567 \nL 54.442752 93.774143 \nL 64.186931 102.352431 \nL 73.93111 107.942965 \nL 83.675289 113.427366 \nL 93.419468 116.198058 \nL 103.163647 119.43852 \nL 112.907826 123.053632 \nL 122.652006 123.991871 \nL 132.396185 126.614517 \nL 142.140364 127.073441 \n\" style=\"fill:none;stroke:#1f77b4;stroke-linecap:square;stroke-width:1.5;\"/>\n   </g>\n   <g id=\"line2d_73\">\n    <path clip-path=\"url(#p5c3aac931a)\" d=\"M 49.633125 74.450626 \nL 69.163125 102.220159 \nL 88.693125 104.812437 \nL 108.223125 107.156332 \nL 127.753125 119.062121 \nL 147.283125 121.010385 \n\" style=\"fill:none;stroke:#ff7f0e;stroke-dasharray:5.55,2.4;stroke-dashoffset:0;stroke-width:1.5;\"/>\n   </g>\n   <g id=\"line2d_74\">\n    <path clip-path=\"url(#p5c3aac931a)\" d=\"M 49.633125 44.823311 \nL 69.163125 36.508229 \nL 88.693125 36.354602 \nL 108.223125 35.586465 \nL 127.753125 31.918611 \n\" style=\"fill:none;stroke:#2ca02c;stroke-dasharray:9.6,2.4,1.5,2.4;stroke-dashoffset:0;stroke-width:1.5;\"/>\n   </g>\n   <g id=\"line2d_75\">\n    <path clip-path=\"url(#p5c3aac931a)\" d=\"M 34.954394 13.377273 \nL 44.698573 79.263567 \nL 54.442752 93.774143 \nL 64.186931 102.352431 \nL 73.93111 107.942965 \nL 83.675289 113.427366 \nL 93.419468 116.198058 \nL 103.163647 119.43852 \nL 112.907826 123.053632 \nL 122.652006 123.991871 \nL 132.396185 126.614517 \nL 142.140364 127.073441 \n\" style=\"fill:none;stroke:#1f77b4;stroke-linecap:square;stroke-width:1.5;\"/>\n   </g>\n   <g id=\"line2d_76\">\n    <path clip-path=\"url(#p5c3aac931a)\" d=\"M 49.633125 74.450626 \nL 69.163125 102.220159 \nL 88.693125 104.812437 \nL 108.223125 107.156332 \nL 127.753125 119.062121 \nL 147.283125 121.010385 \n\" style=\"fill:none;stroke:#ff7f0e;stroke-dasharray:5.55,2.4;stroke-dashoffset:0;stroke-width:1.5;\"/>\n   </g>\n   <g id=\"line2d_77\">\n    <path clip-path=\"url(#p5c3aac931a)\" d=\"M 49.633125 44.823311 \nL 69.163125 36.508229 \nL 88.693125 36.354602 \nL 108.223125 35.586465 \nL 127.753125 31.918611 \nL 147.283125 31.150474 \n\" style=\"fill:none;stroke:#2ca02c;stroke-dasharray:9.6,2.4,1.5,2.4;stroke-dashoffset:0;stroke-width:1.5;\"/>\n   </g>\n   <g id=\"line2d_78\">\n    <path clip-path=\"url(#p5c3aac931a)\" d=\"M 34.954394 13.377273 \nL 44.698573 79.263567 \nL 54.442752 93.774143 \nL 64.186931 102.352431 \nL 73.93111 107.942965 \nL 83.675289 113.427366 \nL 93.419468 116.198058 \nL 103.163647 119.43852 \nL 112.907826 123.053632 \nL 122.652006 123.991871 \nL 132.396185 126.614517 \nL 142.140364 127.073441 \nL 151.884543 130.866817 \n\" style=\"fill:none;stroke:#1f77b4;stroke-linecap:square;stroke-width:1.5;\"/>\n   </g>\n   <g id=\"line2d_79\">\n    <path clip-path=\"url(#p5c3aac931a)\" d=\"M 49.633125 74.450626 \nL 69.163125 102.220159 \nL 88.693125 104.812437 \nL 108.223125 107.156332 \nL 127.753125 119.062121 \nL 147.283125 121.010385 \n\" style=\"fill:none;stroke:#ff7f0e;stroke-dasharray:5.55,2.4;stroke-dashoffset:0;stroke-width:1.5;\"/>\n   </g>\n   <g id=\"line2d_80\">\n    <path clip-path=\"url(#p5c3aac931a)\" d=\"M 49.633125 44.823311 \nL 69.163125 36.508229 \nL 88.693125 36.354602 \nL 108.223125 35.586465 \nL 127.753125 31.918611 \nL 147.283125 31.150474 \n\" style=\"fill:none;stroke:#2ca02c;stroke-dasharray:9.6,2.4,1.5,2.4;stroke-dashoffset:0;stroke-width:1.5;\"/>\n   </g>\n   <g id=\"line2d_81\">\n    <path clip-path=\"url(#p5c3aac931a)\" d=\"M 34.954394 13.377273 \nL 44.698573 79.263567 \nL 54.442752 93.774143 \nL 64.186931 102.352431 \nL 73.93111 107.942965 \nL 83.675289 113.427366 \nL 93.419468 116.198058 \nL 103.163647 119.43852 \nL 112.907826 123.053632 \nL 122.652006 123.991871 \nL 132.396185 126.614517 \nL 142.140364 127.073441 \nL 151.884543 130.866817 \nL 161.628722 129.609879 \n\" style=\"fill:none;stroke:#1f77b4;stroke-linecap:square;stroke-width:1.5;\"/>\n   </g>\n   <g id=\"line2d_82\">\n    <path clip-path=\"url(#p5c3aac931a)\" d=\"M 49.633125 74.450626 \nL 69.163125 102.220159 \nL 88.693125 104.812437 \nL 108.223125 107.156332 \nL 127.753125 119.062121 \nL 147.283125 121.010385 \n\" style=\"fill:none;stroke:#ff7f0e;stroke-dasharray:5.55,2.4;stroke-dashoffset:0;stroke-width:1.5;\"/>\n   </g>\n   <g id=\"line2d_83\">\n    <path clip-path=\"url(#p5c3aac931a)\" d=\"M 49.633125 44.823311 \nL 69.163125 36.508229 \nL 88.693125 36.354602 \nL 108.223125 35.586465 \nL 127.753125 31.918611 \nL 147.283125 31.150474 \n\" style=\"fill:none;stroke:#2ca02c;stroke-dasharray:9.6,2.4,1.5,2.4;stroke-dashoffset:0;stroke-width:1.5;\"/>\n   </g>\n   <g id=\"line2d_84\">\n    <path clip-path=\"url(#p5c3aac931a)\" d=\"M 34.954394 13.377273 \nL 44.698573 79.263567 \nL 54.442752 93.774143 \nL 64.186931 102.352431 \nL 73.93111 107.942965 \nL 83.675289 113.427366 \nL 93.419468 116.198058 \nL 103.163647 119.43852 \nL 112.907826 123.053632 \nL 122.652006 123.991871 \nL 132.396185 126.614517 \nL 142.140364 127.073441 \nL 151.884543 130.866817 \nL 161.628722 129.609879 \n\" style=\"fill:none;stroke:#1f77b4;stroke-linecap:square;stroke-width:1.5;\"/>\n   </g>\n   <g id=\"line2d_85\">\n    <path clip-path=\"url(#p5c3aac931a)\" d=\"M 49.633125 74.450626 \nL 69.163125 102.220159 \nL 88.693125 104.812437 \nL 108.223125 107.156332 \nL 127.753125 119.062121 \nL 147.283125 121.010385 \nL 166.813125 111.871773 \n\" style=\"fill:none;stroke:#ff7f0e;stroke-dasharray:5.55,2.4;stroke-dashoffset:0;stroke-width:1.5;\"/>\n   </g>\n   <g id=\"line2d_86\">\n    <path clip-path=\"url(#p5c3aac931a)\" d=\"M 49.633125 44.823311 \nL 69.163125 36.508229 \nL 88.693125 36.354602 \nL 108.223125 35.586465 \nL 127.753125 31.918611 \nL 147.283125 31.150474 \n\" style=\"fill:none;stroke:#2ca02c;stroke-dasharray:9.6,2.4,1.5,2.4;stroke-dashoffset:0;stroke-width:1.5;\"/>\n   </g>\n   <g id=\"line2d_87\">\n    <path clip-path=\"url(#p5c3aac931a)\" d=\"M 34.954394 13.377273 \nL 44.698573 79.263567 \nL 54.442752 93.774143 \nL 64.186931 102.352431 \nL 73.93111 107.942965 \nL 83.675289 113.427366 \nL 93.419468 116.198058 \nL 103.163647 119.43852 \nL 112.907826 123.053632 \nL 122.652006 123.991871 \nL 132.396185 126.614517 \nL 142.140364 127.073441 \nL 151.884543 130.866817 \nL 161.628722 129.609879 \n\" style=\"fill:none;stroke:#1f77b4;stroke-linecap:square;stroke-width:1.5;\"/>\n   </g>\n   <g id=\"line2d_88\">\n    <path clip-path=\"url(#p5c3aac931a)\" d=\"M 49.633125 74.450626 \nL 69.163125 102.220159 \nL 88.693125 104.812437 \nL 108.223125 107.156332 \nL 127.753125 119.062121 \nL 147.283125 121.010385 \nL 166.813125 111.871773 \n\" style=\"fill:none;stroke:#ff7f0e;stroke-dasharray:5.55,2.4;stroke-dashoffset:0;stroke-width:1.5;\"/>\n   </g>\n   <g id=\"line2d_89\">\n    <path clip-path=\"url(#p5c3aac931a)\" d=\"M 49.633125 44.823311 \nL 69.163125 36.508229 \nL 88.693125 36.354602 \nL 108.223125 35.586465 \nL 127.753125 31.918611 \nL 147.283125 31.150474 \nL 166.813125 35.586465 \n\" style=\"fill:none;stroke:#2ca02c;stroke-dasharray:9.6,2.4,1.5,2.4;stroke-dashoffset:0;stroke-width:1.5;\"/>\n   </g>\n   <g id=\"line2d_90\">\n    <path clip-path=\"url(#p5c3aac931a)\" d=\"M 34.954394 13.377273 \nL 44.698573 79.263567 \nL 54.442752 93.774143 \nL 64.186931 102.352431 \nL 73.93111 107.942965 \nL 83.675289 113.427366 \nL 93.419468 116.198058 \nL 103.163647 119.43852 \nL 112.907826 123.053632 \nL 122.652006 123.991871 \nL 132.396185 126.614517 \nL 142.140364 127.073441 \nL 151.884543 130.866817 \nL 161.628722 129.609879 \nL 171.372901 132.965347 \n\" style=\"fill:none;stroke:#1f77b4;stroke-linecap:square;stroke-width:1.5;\"/>\n   </g>\n   <g id=\"line2d_91\">\n    <path clip-path=\"url(#p5c3aac931a)\" d=\"M 49.633125 74.450626 \nL 69.163125 102.220159 \nL 88.693125 104.812437 \nL 108.223125 107.156332 \nL 127.753125 119.062121 \nL 147.283125 121.010385 \nL 166.813125 111.871773 \n\" style=\"fill:none;stroke:#ff7f0e;stroke-dasharray:5.55,2.4;stroke-dashoffset:0;stroke-width:1.5;\"/>\n   </g>\n   <g id=\"line2d_92\">\n    <path clip-path=\"url(#p5c3aac931a)\" d=\"M 49.633125 44.823311 \nL 69.163125 36.508229 \nL 88.693125 36.354602 \nL 108.223125 35.586465 \nL 127.753125 31.918611 \nL 147.283125 31.150474 \nL 166.813125 35.586465 \n\" style=\"fill:none;stroke:#2ca02c;stroke-dasharray:9.6,2.4,1.5,2.4;stroke-dashoffset:0;stroke-width:1.5;\"/>\n   </g>\n   <g id=\"line2d_93\">\n    <path clip-path=\"url(#p5c3aac931a)\" d=\"M 34.954394 13.377273 \nL 44.698573 79.263567 \nL 54.442752 93.774143 \nL 64.186931 102.352431 \nL 73.93111 107.942965 \nL 83.675289 113.427366 \nL 93.419468 116.198058 \nL 103.163647 119.43852 \nL 112.907826 123.053632 \nL 122.652006 123.991871 \nL 132.396185 126.614517 \nL 142.140364 127.073441 \nL 151.884543 130.866817 \nL 161.628722 129.609879 \nL 171.372901 132.965347 \nL 181.11708 132.954377 \n\" style=\"fill:none;stroke:#1f77b4;stroke-linecap:square;stroke-width:1.5;\"/>\n   </g>\n   <g id=\"line2d_94\">\n    <path clip-path=\"url(#p5c3aac931a)\" d=\"M 49.633125 74.450626 \nL 69.163125 102.220159 \nL 88.693125 104.812437 \nL 108.223125 107.156332 \nL 127.753125 119.062121 \nL 147.283125 121.010385 \nL 166.813125 111.871773 \n\" style=\"fill:none;stroke:#ff7f0e;stroke-dasharray:5.55,2.4;stroke-dashoffset:0;stroke-width:1.5;\"/>\n   </g>\n   <g id=\"line2d_95\">\n    <path clip-path=\"url(#p5c3aac931a)\" d=\"M 49.633125 44.823311 \nL 69.163125 36.508229 \nL 88.693125 36.354602 \nL 108.223125 35.586465 \nL 127.753125 31.918611 \nL 147.283125 31.150474 \nL 166.813125 35.586465 \n\" style=\"fill:none;stroke:#2ca02c;stroke-dasharray:9.6,2.4,1.5,2.4;stroke-dashoffset:0;stroke-width:1.5;\"/>\n   </g>\n   <g id=\"line2d_96\">\n    <path clip-path=\"url(#p5c3aac931a)\" d=\"M 34.954394 13.377273 \nL 44.698573 79.263567 \nL 54.442752 93.774143 \nL 64.186931 102.352431 \nL 73.93111 107.942965 \nL 83.675289 113.427366 \nL 93.419468 116.198058 \nL 103.163647 119.43852 \nL 112.907826 123.053632 \nL 122.652006 123.991871 \nL 132.396185 126.614517 \nL 142.140364 127.073441 \nL 151.884543 130.866817 \nL 161.628722 129.609879 \nL 171.372901 132.965347 \nL 181.11708 132.954377 \n\" style=\"fill:none;stroke:#1f77b4;stroke-linecap:square;stroke-width:1.5;\"/>\n   </g>\n   <g id=\"line2d_97\">\n    <path clip-path=\"url(#p5c3aac931a)\" d=\"M 49.633125 74.450626 \nL 69.163125 102.220159 \nL 88.693125 104.812437 \nL 108.223125 107.156332 \nL 127.753125 119.062121 \nL 147.283125 121.010385 \nL 166.813125 111.871773 \nL 186.343125 126.085215 \n\" style=\"fill:none;stroke:#ff7f0e;stroke-dasharray:5.55,2.4;stroke-dashoffset:0;stroke-width:1.5;\"/>\n   </g>\n   <g id=\"line2d_98\">\n    <path clip-path=\"url(#p5c3aac931a)\" d=\"M 49.633125 44.823311 \nL 69.163125 36.508229 \nL 88.693125 36.354602 \nL 108.223125 35.586465 \nL 127.753125 31.918611 \nL 147.283125 31.150474 \nL 166.813125 35.586465 \n\" style=\"fill:none;stroke:#2ca02c;stroke-dasharray:9.6,2.4,1.5,2.4;stroke-dashoffset:0;stroke-width:1.5;\"/>\n   </g>\n   <g id=\"line2d_99\">\n    <path clip-path=\"url(#p5c3aac931a)\" d=\"M 34.954394 13.377273 \nL 44.698573 79.263567 \nL 54.442752 93.774143 \nL 64.186931 102.352431 \nL 73.93111 107.942965 \nL 83.675289 113.427366 \nL 93.419468 116.198058 \nL 103.163647 119.43852 \nL 112.907826 123.053632 \nL 122.652006 123.991871 \nL 132.396185 126.614517 \nL 142.140364 127.073441 \nL 151.884543 130.866817 \nL 161.628722 129.609879 \nL 171.372901 132.965347 \nL 181.11708 132.954377 \n\" style=\"fill:none;stroke:#1f77b4;stroke-linecap:square;stroke-width:1.5;\"/>\n   </g>\n   <g id=\"line2d_100\">\n    <path clip-path=\"url(#p5c3aac931a)\" d=\"M 49.633125 74.450626 \nL 69.163125 102.220159 \nL 88.693125 104.812437 \nL 108.223125 107.156332 \nL 127.753125 119.062121 \nL 147.283125 121.010385 \nL 166.813125 111.871773 \nL 186.343125 126.085215 \n\" style=\"fill:none;stroke:#ff7f0e;stroke-dasharray:5.55,2.4;stroke-dashoffset:0;stroke-width:1.5;\"/>\n   </g>\n   <g id=\"line2d_101\">\n    <path clip-path=\"url(#p5c3aac931a)\" d=\"M 49.633125 44.823311 \nL 69.163125 36.508229 \nL 88.693125 36.354602 \nL 108.223125 35.586465 \nL 127.753125 31.918611 \nL 147.283125 31.150474 \nL 166.813125 35.586465 \nL 186.343125 29.345352 \n\" style=\"fill:none;stroke:#2ca02c;stroke-dasharray:9.6,2.4,1.5,2.4;stroke-dashoffset:0;stroke-width:1.5;\"/>\n   </g>\n   <g id=\"line2d_102\">\n    <path clip-path=\"url(#p5c3aac931a)\" d=\"M 34.954394 13.377273 \nL 44.698573 79.263567 \nL 54.442752 93.774143 \nL 64.186931 102.352431 \nL 73.93111 107.942965 \nL 83.675289 113.427366 \nL 93.419468 116.198058 \nL 103.163647 119.43852 \nL 112.907826 123.053632 \nL 122.652006 123.991871 \nL 132.396185 126.614517 \nL 142.140364 127.073441 \nL 151.884543 130.866817 \nL 161.628722 129.609879 \nL 171.372901 132.965347 \nL 181.11708 132.954377 \nL 190.861259 134.566117 \n\" style=\"fill:none;stroke:#1f77b4;stroke-linecap:square;stroke-width:1.5;\"/>\n   </g>\n   <g id=\"line2d_103\">\n    <path clip-path=\"url(#p5c3aac931a)\" d=\"M 49.633125 74.450626 \nL 69.163125 102.220159 \nL 88.693125 104.812437 \nL 108.223125 107.156332 \nL 127.753125 119.062121 \nL 147.283125 121.010385 \nL 166.813125 111.871773 \nL 186.343125 126.085215 \n\" style=\"fill:none;stroke:#ff7f0e;stroke-dasharray:5.55,2.4;stroke-dashoffset:0;stroke-width:1.5;\"/>\n   </g>\n   <g id=\"line2d_104\">\n    <path clip-path=\"url(#p5c3aac931a)\" d=\"M 49.633125 44.823311 \nL 69.163125 36.508229 \nL 88.693125 36.354602 \nL 108.223125 35.586465 \nL 127.753125 31.918611 \nL 147.283125 31.150474 \nL 166.813125 35.586465 \nL 186.343125 29.345352 \n\" style=\"fill:none;stroke:#2ca02c;stroke-dasharray:9.6,2.4,1.5,2.4;stroke-dashoffset:0;stroke-width:1.5;\"/>\n   </g>\n   <g id=\"line2d_105\">\n    <path clip-path=\"url(#p5c3aac931a)\" d=\"M 34.954394 13.377273 \nL 44.698573 79.263567 \nL 54.442752 93.774143 \nL 64.186931 102.352431 \nL 73.93111 107.942965 \nL 83.675289 113.427366 \nL 93.419468 116.198058 \nL 103.163647 119.43852 \nL 112.907826 123.053632 \nL 122.652006 123.991871 \nL 132.396185 126.614517 \nL 142.140364 127.073441 \nL 151.884543 130.866817 \nL 161.628722 129.609879 \nL 171.372901 132.965347 \nL 181.11708 132.954377 \nL 190.861259 134.566117 \nL 200.605438 135.396194 \n\" style=\"fill:none;stroke:#1f77b4;stroke-linecap:square;stroke-width:1.5;\"/>\n   </g>\n   <g id=\"line2d_106\">\n    <path clip-path=\"url(#p5c3aac931a)\" d=\"M 49.633125 74.450626 \nL 69.163125 102.220159 \nL 88.693125 104.812437 \nL 108.223125 107.156332 \nL 127.753125 119.062121 \nL 147.283125 121.010385 \nL 166.813125 111.871773 \nL 186.343125 126.085215 \n\" style=\"fill:none;stroke:#ff7f0e;stroke-dasharray:5.55,2.4;stroke-dashoffset:0;stroke-width:1.5;\"/>\n   </g>\n   <g id=\"line2d_107\">\n    <path clip-path=\"url(#p5c3aac931a)\" d=\"M 49.633125 44.823311 \nL 69.163125 36.508229 \nL 88.693125 36.354602 \nL 108.223125 35.586465 \nL 127.753125 31.918611 \nL 147.283125 31.150474 \nL 166.813125 35.586465 \nL 186.343125 29.345352 \n\" style=\"fill:none;stroke:#2ca02c;stroke-dasharray:9.6,2.4,1.5,2.4;stroke-dashoffset:0;stroke-width:1.5;\"/>\n   </g>\n   <g id=\"line2d_108\">\n    <path clip-path=\"url(#p5c3aac931a)\" d=\"M 34.954394 13.377273 \nL 44.698573 79.263567 \nL 54.442752 93.774143 \nL 64.186931 102.352431 \nL 73.93111 107.942965 \nL 83.675289 113.427366 \nL 93.419468 116.198058 \nL 103.163647 119.43852 \nL 112.907826 123.053632 \nL 122.652006 123.991871 \nL 132.396185 126.614517 \nL 142.140364 127.073441 \nL 151.884543 130.866817 \nL 161.628722 129.609879 \nL 171.372901 132.965347 \nL 181.11708 132.954377 \nL 190.861259 134.566117 \nL 200.605438 135.396194 \n\" style=\"fill:none;stroke:#1f77b4;stroke-linecap:square;stroke-width:1.5;\"/>\n   </g>\n   <g id=\"line2d_109\">\n    <path clip-path=\"url(#p5c3aac931a)\" d=\"M 49.633125 74.450626 \nL 69.163125 102.220159 \nL 88.693125 104.812437 \nL 108.223125 107.156332 \nL 127.753125 119.062121 \nL 147.283125 121.010385 \nL 166.813125 111.871773 \nL 186.343125 126.085215 \nL 205.873125 117.594843 \n\" style=\"fill:none;stroke:#ff7f0e;stroke-dasharray:5.55,2.4;stroke-dashoffset:0;stroke-width:1.5;\"/>\n   </g>\n   <g id=\"line2d_110\">\n    <path clip-path=\"url(#p5c3aac931a)\" d=\"M 49.633125 44.823311 \nL 69.163125 36.508229 \nL 88.693125 36.354602 \nL 108.223125 35.586465 \nL 127.753125 31.918611 \nL 147.283125 31.150474 \nL 166.813125 35.586465 \nL 186.343125 29.345352 \n\" style=\"fill:none;stroke:#2ca02c;stroke-dasharray:9.6,2.4,1.5,2.4;stroke-dashoffset:0;stroke-width:1.5;\"/>\n   </g>\n   <g id=\"line2d_111\">\n    <path clip-path=\"url(#p5c3aac931a)\" d=\"M 34.954394 13.377273 \nL 44.698573 79.263567 \nL 54.442752 93.774143 \nL 64.186931 102.352431 \nL 73.93111 107.942965 \nL 83.675289 113.427366 \nL 93.419468 116.198058 \nL 103.163647 119.43852 \nL 112.907826 123.053632 \nL 122.652006 123.991871 \nL 132.396185 126.614517 \nL 142.140364 127.073441 \nL 151.884543 130.866817 \nL 161.628722 129.609879 \nL 171.372901 132.965347 \nL 181.11708 132.954377 \nL 190.861259 134.566117 \nL 200.605438 135.396194 \n\" style=\"fill:none;stroke:#1f77b4;stroke-linecap:square;stroke-width:1.5;\"/>\n   </g>\n   <g id=\"line2d_112\">\n    <path clip-path=\"url(#p5c3aac931a)\" d=\"M 49.633125 74.450626 \nL 69.163125 102.220159 \nL 88.693125 104.812437 \nL 108.223125 107.156332 \nL 127.753125 119.062121 \nL 147.283125 121.010385 \nL 166.813125 111.871773 \nL 186.343125 126.085215 \nL 205.873125 117.594843 \n\" style=\"fill:none;stroke:#ff7f0e;stroke-dasharray:5.55,2.4;stroke-dashoffset:0;stroke-width:1.5;\"/>\n   </g>\n   <g id=\"line2d_113\">\n    <path clip-path=\"url(#p5c3aac931a)\" d=\"M 49.633125 44.823311 \nL 69.163125 36.508229 \nL 88.693125 36.354602 \nL 108.223125 35.586465 \nL 127.753125 31.918611 \nL 147.283125 31.150474 \nL 166.813125 35.586465 \nL 186.343125 29.345352 \nL 205.873125 31.668966 \n\" style=\"fill:none;stroke:#2ca02c;stroke-dasharray:9.6,2.4,1.5,2.4;stroke-dashoffset:0;stroke-width:1.5;\"/>\n   </g>\n   <g id=\"line2d_114\">\n    <path clip-path=\"url(#p5c3aac931a)\" d=\"M 34.954394 13.377273 \nL 44.698573 79.263567 \nL 54.442752 93.774143 \nL 64.186931 102.352431 \nL 73.93111 107.942965 \nL 83.675289 113.427366 \nL 93.419468 116.198058 \nL 103.163647 119.43852 \nL 112.907826 123.053632 \nL 122.652006 123.991871 \nL 132.396185 126.614517 \nL 142.140364 127.073441 \nL 151.884543 130.866817 \nL 161.628722 129.609879 \nL 171.372901 132.965347 \nL 181.11708 132.954377 \nL 190.861259 134.566117 \nL 200.605438 135.396194 \nL 210.349618 136.859192 \n\" style=\"fill:none;stroke:#1f77b4;stroke-linecap:square;stroke-width:1.5;\"/>\n   </g>\n   <g id=\"line2d_115\">\n    <path clip-path=\"url(#p5c3aac931a)\" d=\"M 49.633125 74.450626 \nL 69.163125 102.220159 \nL 88.693125 104.812437 \nL 108.223125 107.156332 \nL 127.753125 119.062121 \nL 147.283125 121.010385 \nL 166.813125 111.871773 \nL 186.343125 126.085215 \nL 205.873125 117.594843 \n\" style=\"fill:none;stroke:#ff7f0e;stroke-dasharray:5.55,2.4;stroke-dashoffset:0;stroke-width:1.5;\"/>\n   </g>\n   <g id=\"line2d_116\">\n    <path clip-path=\"url(#p5c3aac931a)\" d=\"M 49.633125 44.823311 \nL 69.163125 36.508229 \nL 88.693125 36.354602 \nL 108.223125 35.586465 \nL 127.753125 31.918611 \nL 147.283125 31.150474 \nL 166.813125 35.586465 \nL 186.343125 29.345352 \nL 205.873125 31.668966 \n\" style=\"fill:none;stroke:#2ca02c;stroke-dasharray:9.6,2.4,1.5,2.4;stroke-dashoffset:0;stroke-width:1.5;\"/>\n   </g>\n   <g id=\"line2d_117\">\n    <path clip-path=\"url(#p5c3aac931a)\" d=\"M 34.954394 13.377273 \nL 44.698573 79.263567 \nL 54.442752 93.774143 \nL 64.186931 102.352431 \nL 73.93111 107.942965 \nL 83.675289 113.427366 \nL 93.419468 116.198058 \nL 103.163647 119.43852 \nL 112.907826 123.053632 \nL 122.652006 123.991871 \nL 132.396185 126.614517 \nL 142.140364 127.073441 \nL 151.884543 130.866817 \nL 161.628722 129.609879 \nL 171.372901 132.965347 \nL 181.11708 132.954377 \nL 190.861259 134.566117 \nL 200.605438 135.396194 \nL 210.349618 136.859192 \nL 220.093797 136.922727 \n\" style=\"fill:none;stroke:#1f77b4;stroke-linecap:square;stroke-width:1.5;\"/>\n   </g>\n   <g id=\"line2d_118\">\n    <path clip-path=\"url(#p5c3aac931a)\" d=\"M 49.633125 74.450626 \nL 69.163125 102.220159 \nL 88.693125 104.812437 \nL 108.223125 107.156332 \nL 127.753125 119.062121 \nL 147.283125 121.010385 \nL 166.813125 111.871773 \nL 186.343125 126.085215 \nL 205.873125 117.594843 \n\" style=\"fill:none;stroke:#ff7f0e;stroke-dasharray:5.55,2.4;stroke-dashoffset:0;stroke-width:1.5;\"/>\n   </g>\n   <g id=\"line2d_119\">\n    <path clip-path=\"url(#p5c3aac931a)\" d=\"M 49.633125 44.823311 \nL 69.163125 36.508229 \nL 88.693125 36.354602 \nL 108.223125 35.586465 \nL 127.753125 31.918611 \nL 147.283125 31.150474 \nL 166.813125 35.586465 \nL 186.343125 29.345352 \nL 205.873125 31.668966 \n\" style=\"fill:none;stroke:#2ca02c;stroke-dasharray:9.6,2.4,1.5,2.4;stroke-dashoffset:0;stroke-width:1.5;\"/>\n   </g>\n   <g id=\"line2d_120\">\n    <path clip-path=\"url(#p5c3aac931a)\" d=\"M 34.954394 13.377273 \nL 44.698573 79.263567 \nL 54.442752 93.774143 \nL 64.186931 102.352431 \nL 73.93111 107.942965 \nL 83.675289 113.427366 \nL 93.419468 116.198058 \nL 103.163647 119.43852 \nL 112.907826 123.053632 \nL 122.652006 123.991871 \nL 132.396185 126.614517 \nL 142.140364 127.073441 \nL 151.884543 130.866817 \nL 161.628722 129.609879 \nL 171.372901 132.965347 \nL 181.11708 132.954377 \nL 190.861259 134.566117 \nL 200.605438 135.396194 \nL 210.349618 136.859192 \nL 220.093797 136.922727 \n\" style=\"fill:none;stroke:#1f77b4;stroke-linecap:square;stroke-width:1.5;\"/>\n   </g>\n   <g id=\"line2d_121\">\n    <path clip-path=\"url(#p5c3aac931a)\" d=\"M 49.633125 74.450626 \nL 69.163125 102.220159 \nL 88.693125 104.812437 \nL 108.223125 107.156332 \nL 127.753125 119.062121 \nL 147.283125 121.010385 \nL 166.813125 111.871773 \nL 186.343125 126.085215 \nL 205.873125 117.594843 \nL 225.403125 120.202156 \n\" style=\"fill:none;stroke:#ff7f0e;stroke-dasharray:5.55,2.4;stroke-dashoffset:0;stroke-width:1.5;\"/>\n   </g>\n   <g id=\"line2d_122\">\n    <path clip-path=\"url(#p5c3aac931a)\" d=\"M 49.633125 44.823311 \nL 69.163125 36.508229 \nL 88.693125 36.354602 \nL 108.223125 35.586465 \nL 127.753125 31.918611 \nL 147.283125 31.150474 \nL 166.813125 35.586465 \nL 186.343125 29.345352 \nL 205.873125 31.668966 \n\" style=\"fill:none;stroke:#2ca02c;stroke-dasharray:9.6,2.4,1.5,2.4;stroke-dashoffset:0;stroke-width:1.5;\"/>\n   </g>\n   <g id=\"line2d_123\">\n    <path clip-path=\"url(#p5c3aac931a)\" d=\"M 34.954394 13.377273 \nL 44.698573 79.263567 \nL 54.442752 93.774143 \nL 64.186931 102.352431 \nL 73.93111 107.942965 \nL 83.675289 113.427366 \nL 93.419468 116.198058 \nL 103.163647 119.43852 \nL 112.907826 123.053632 \nL 122.652006 123.991871 \nL 132.396185 126.614517 \nL 142.140364 127.073441 \nL 151.884543 130.866817 \nL 161.628722 129.609879 \nL 171.372901 132.965347 \nL 181.11708 132.954377 \nL 190.861259 134.566117 \nL 200.605438 135.396194 \nL 210.349618 136.859192 \nL 220.093797 136.922727 \n\" style=\"fill:none;stroke:#1f77b4;stroke-linecap:square;stroke-width:1.5;\"/>\n   </g>\n   <g id=\"line2d_124\">\n    <path clip-path=\"url(#p5c3aac931a)\" d=\"M 49.633125 74.450626 \nL 69.163125 102.220159 \nL 88.693125 104.812437 \nL 108.223125 107.156332 \nL 127.753125 119.062121 \nL 147.283125 121.010385 \nL 166.813125 111.871773 \nL 186.343125 126.085215 \nL 205.873125 117.594843 \nL 225.403125 120.202156 \n\" style=\"fill:none;stroke:#ff7f0e;stroke-dasharray:5.55,2.4;stroke-dashoffset:0;stroke-width:1.5;\"/>\n   </g>\n   <g id=\"line2d_125\">\n    <path clip-path=\"url(#p5c3aac931a)\" d=\"M 49.633125 44.823311 \nL 69.163125 36.508229 \nL 88.693125 36.354602 \nL 108.223125 35.586465 \nL 127.753125 31.918611 \nL 147.283125 31.150474 \nL 166.813125 35.586465 \nL 186.343125 29.345352 \nL 205.873125 31.668966 \nL 225.403125 32.321883 \n\" style=\"fill:none;stroke:#2ca02c;stroke-dasharray:9.6,2.4,1.5,2.4;stroke-dashoffset:0;stroke-width:1.5;\"/>\n   </g>\n   <g id=\"patch_3\">\n    <path d=\"M 30.103125 143.1 \nL 30.103125 7.2 \n\" style=\"fill:none;stroke:#000000;stroke-linecap:square;stroke-linejoin:miter;stroke-width:0.8;\"/>\n   </g>\n   <g id=\"patch_4\">\n    <path d=\"M 225.403125 143.1 \nL 225.403125 7.2 \n\" style=\"fill:none;stroke:#000000;stroke-linecap:square;stroke-linejoin:miter;stroke-width:0.8;\"/>\n   </g>\n   <g id=\"patch_5\">\n    <path d=\"M 30.103125 143.1 \nL 225.403125 143.1 \n\" style=\"fill:none;stroke:#000000;stroke-linecap:square;stroke-linejoin:miter;stroke-width:0.8;\"/>\n   </g>\n   <g id=\"patch_6\">\n    <path d=\"M 30.103125 7.2 \nL 225.403125 7.2 \n\" style=\"fill:none;stroke:#000000;stroke-linecap:square;stroke-linejoin:miter;stroke-width:0.8;\"/>\n   </g>\n   <g id=\"legend_1\">\n    <g id=\"patch_7\">\n     <path d=\"M 138.8125 99.084375 \nL 218.403125 99.084375 \nQ 220.403125 99.084375 220.403125 97.084375 \nL 220.403125 53.215625 \nQ 220.403125 51.215625 218.403125 51.215625 \nL 138.8125 51.215625 \nQ 136.8125 51.215625 136.8125 53.215625 \nL 136.8125 97.084375 \nQ 136.8125 99.084375 138.8125 99.084375 \nz\n\" style=\"fill:#ffffff;opacity:0.8;stroke:#cccccc;stroke-linejoin:miter;\"/>\n    </g>\n    <g id=\"line2d_126\">\n     <path d=\"M 140.8125 59.314062 \nL 160.8125 59.314062 \n\" style=\"fill:none;stroke:#1f77b4;stroke-linecap:square;stroke-width:1.5;\"/>\n    </g>\n    <g id=\"line2d_127\"/>\n    <g id=\"text_11\">\n     <!-- train_loss -->\n     <defs>\n      <path d=\"M 18.3125 70.21875 \nL 18.3125 54.6875 \nL 36.8125 54.6875 \nL 36.8125 47.703125 \nL 18.3125 47.703125 \nL 18.3125 18.015625 \nQ 18.3125 11.328125 20.140625 9.421875 \nQ 21.96875 7.515625 27.59375 7.515625 \nL 36.8125 7.515625 \nL 36.8125 0 \nL 27.59375 0 \nQ 17.1875 0 13.234375 3.875 \nQ 9.28125 7.765625 9.28125 18.015625 \nL 9.28125 47.703125 \nL 2.6875 47.703125 \nL 2.6875 54.6875 \nL 9.28125 54.6875 \nL 9.28125 70.21875 \nz\n\" id=\"DejaVuSans-116\"/>\n      <path d=\"M 41.109375 46.296875 \nQ 39.59375 47.171875 37.8125 47.578125 \nQ 36.03125 48 33.890625 48 \nQ 26.265625 48 22.1875 43.046875 \nQ 18.109375 38.09375 18.109375 28.8125 \nL 18.109375 0 \nL 9.078125 0 \nL 9.078125 54.6875 \nL 18.109375 54.6875 \nL 18.109375 46.1875 \nQ 20.953125 51.171875 25.484375 53.578125 \nQ 30.03125 56 36.53125 56 \nQ 37.453125 56 38.578125 55.875 \nQ 39.703125 55.765625 41.0625 55.515625 \nz\n\" id=\"DejaVuSans-114\"/>\n      <path d=\"M 34.28125 27.484375 \nQ 23.390625 27.484375 19.1875 25 \nQ 14.984375 22.515625 14.984375 16.5 \nQ 14.984375 11.71875 18.140625 8.90625 \nQ 21.296875 6.109375 26.703125 6.109375 \nQ 34.1875 6.109375 38.703125 11.40625 \nQ 43.21875 16.703125 43.21875 25.484375 \nL 43.21875 27.484375 \nz\nM 52.203125 31.203125 \nL 52.203125 0 \nL 43.21875 0 \nL 43.21875 8.296875 \nQ 40.140625 3.328125 35.546875 0.953125 \nQ 30.953125 -1.421875 24.3125 -1.421875 \nQ 15.921875 -1.421875 10.953125 3.296875 \nQ 6 8.015625 6 15.921875 \nQ 6 25.140625 12.171875 29.828125 \nQ 18.359375 34.515625 30.609375 34.515625 \nL 43.21875 34.515625 \nL 43.21875 35.40625 \nQ 43.21875 41.609375 39.140625 45 \nQ 35.0625 48.390625 27.6875 48.390625 \nQ 23 48.390625 18.546875 47.265625 \nQ 14.109375 46.140625 10.015625 43.890625 \nL 10.015625 52.203125 \nQ 14.9375 54.109375 19.578125 55.046875 \nQ 24.21875 56 28.609375 56 \nQ 40.484375 56 46.34375 49.84375 \nQ 52.203125 43.703125 52.203125 31.203125 \nz\n\" id=\"DejaVuSans-97\"/>\n      <path d=\"M 9.421875 54.6875 \nL 18.40625 54.6875 \nL 18.40625 0 \nL 9.421875 0 \nz\nM 9.421875 75.984375 \nL 18.40625 75.984375 \nL 18.40625 64.59375 \nL 9.421875 64.59375 \nz\n\" id=\"DejaVuSans-105\"/>\n      <path d=\"M 54.890625 33.015625 \nL 54.890625 0 \nL 45.90625 0 \nL 45.90625 32.71875 \nQ 45.90625 40.484375 42.875 44.328125 \nQ 39.84375 48.1875 33.796875 48.1875 \nQ 26.515625 48.1875 22.3125 43.546875 \nQ 18.109375 38.921875 18.109375 30.90625 \nL 18.109375 0 \nL 9.078125 0 \nL 9.078125 54.6875 \nL 18.109375 54.6875 \nL 18.109375 46.1875 \nQ 21.34375 51.125 25.703125 53.5625 \nQ 30.078125 56 35.796875 56 \nQ 45.21875 56 50.046875 50.171875 \nQ 54.890625 44.34375 54.890625 33.015625 \nz\n\" id=\"DejaVuSans-110\"/>\n      <path d=\"M 50.984375 -16.609375 \nL 50.984375 -23.578125 \nL -0.984375 -23.578125 \nL -0.984375 -16.609375 \nz\n\" id=\"DejaVuSans-95\"/>\n      <path d=\"M 9.421875 75.984375 \nL 18.40625 75.984375 \nL 18.40625 0 \nL 9.421875 0 \nz\n\" id=\"DejaVuSans-108\"/>\n      <path d=\"M 44.28125 53.078125 \nL 44.28125 44.578125 \nQ 40.484375 46.53125 36.375 47.5 \nQ 32.28125 48.484375 27.875 48.484375 \nQ 21.1875 48.484375 17.84375 46.4375 \nQ 14.5 44.390625 14.5 40.28125 \nQ 14.5 37.15625 16.890625 35.375 \nQ 19.28125 33.59375 26.515625 31.984375 \nL 29.59375 31.296875 \nQ 39.15625 29.25 43.1875 25.515625 \nQ 47.21875 21.78125 47.21875 15.09375 \nQ 47.21875 7.46875 41.1875 3.015625 \nQ 35.15625 -1.421875 24.609375 -1.421875 \nQ 20.21875 -1.421875 15.453125 -0.5625 \nQ 10.6875 0.296875 5.421875 2 \nL 5.421875 11.28125 \nQ 10.40625 8.6875 15.234375 7.390625 \nQ 20.0625 6.109375 24.8125 6.109375 \nQ 31.15625 6.109375 34.5625 8.28125 \nQ 37.984375 10.453125 37.984375 14.40625 \nQ 37.984375 18.0625 35.515625 20.015625 \nQ 33.0625 21.96875 24.703125 23.78125 \nL 21.578125 24.515625 \nQ 13.234375 26.265625 9.515625 29.90625 \nQ 5.8125 33.546875 5.8125 39.890625 \nQ 5.8125 47.609375 11.28125 51.796875 \nQ 16.75 56 26.8125 56 \nQ 31.78125 56 36.171875 55.265625 \nQ 40.578125 54.546875 44.28125 53.078125 \nz\n\" id=\"DejaVuSans-115\"/>\n     </defs>\n     <g transform=\"translate(168.8125 62.814062)scale(0.1 -0.1)\">\n      <use xlink:href=\"#DejaVuSans-116\"/>\n      <use x=\"39.208984\" xlink:href=\"#DejaVuSans-114\"/>\n      <use x=\"80.322266\" xlink:href=\"#DejaVuSans-97\"/>\n      <use x=\"141.601562\" xlink:href=\"#DejaVuSans-105\"/>\n      <use x=\"169.384766\" xlink:href=\"#DejaVuSans-110\"/>\n      <use x=\"232.763672\" xlink:href=\"#DejaVuSans-95\"/>\n      <use x=\"282.763672\" xlink:href=\"#DejaVuSans-108\"/>\n      <use x=\"310.546875\" xlink:href=\"#DejaVuSans-111\"/>\n      <use x=\"371.728516\" xlink:href=\"#DejaVuSans-115\"/>\n      <use x=\"423.828125\" xlink:href=\"#DejaVuSans-115\"/>\n     </g>\n    </g>\n    <g id=\"line2d_128\">\n     <path d=\"M 140.8125 74.270312 \nL 160.8125 74.270312 \n\" style=\"fill:none;stroke:#ff7f0e;stroke-dasharray:5.55,2.4;stroke-dashoffset:0;stroke-width:1.5;\"/>\n    </g>\n    <g id=\"line2d_129\"/>\n    <g id=\"text_12\">\n     <!-- val_loss -->\n     <defs>\n      <path d=\"M 2.984375 54.6875 \nL 12.5 54.6875 \nL 29.59375 8.796875 \nL 46.6875 54.6875 \nL 56.203125 54.6875 \nL 35.6875 0 \nL 23.484375 0 \nz\n\" id=\"DejaVuSans-118\"/>\n     </defs>\n     <g transform=\"translate(168.8125 77.770312)scale(0.1 -0.1)\">\n      <use xlink:href=\"#DejaVuSans-118\"/>\n      <use x=\"59.179688\" xlink:href=\"#DejaVuSans-97\"/>\n      <use x=\"120.458984\" xlink:href=\"#DejaVuSans-108\"/>\n      <use x=\"148.242188\" xlink:href=\"#DejaVuSans-95\"/>\n      <use x=\"198.242188\" xlink:href=\"#DejaVuSans-108\"/>\n      <use x=\"226.025391\" xlink:href=\"#DejaVuSans-111\"/>\n      <use x=\"287.207031\" xlink:href=\"#DejaVuSans-115\"/>\n      <use x=\"339.306641\" xlink:href=\"#DejaVuSans-115\"/>\n     </g>\n    </g>\n    <g id=\"line2d_130\">\n     <path d=\"M 140.8125 89.226562 \nL 160.8125 89.226562 \n\" style=\"fill:none;stroke:#2ca02c;stroke-dasharray:9.6,2.4,1.5,2.4;stroke-dashoffset:0;stroke-width:1.5;\"/>\n    </g>\n    <g id=\"line2d_131\"/>\n    <g id=\"text_13\">\n     <!-- val_acc -->\n     <g transform=\"translate(168.8125 92.726562)scale(0.1 -0.1)\">\n      <use xlink:href=\"#DejaVuSans-118\"/>\n      <use x=\"59.179688\" xlink:href=\"#DejaVuSans-97\"/>\n      <use x=\"120.458984\" xlink:href=\"#DejaVuSans-108\"/>\n      <use x=\"148.242188\" xlink:href=\"#DejaVuSans-95\"/>\n      <use x=\"198.242188\" xlink:href=\"#DejaVuSans-97\"/>\n      <use x=\"259.521484\" xlink:href=\"#DejaVuSans-99\"/>\n      <use x=\"314.501953\" xlink:href=\"#DejaVuSans-99\"/>\n     </g>\n    </g>\n   </g>\n  </g>\n </g>\n <defs>\n  <clipPath id=\"p5c3aac931a\">\n   <rect height=\"135.9\" width=\"195.3\" x=\"30.103125\" y=\"7.2\"/>\n  </clipPath>\n </defs>\n</svg>\n"
          },
          "metadata": {
            "needs_background": "light"
          }
        }
      ]
    },
    {
      "cell_type": "markdown",
      "source": [
        "## Ex 8.5 :"
      ],
      "metadata": {
        "id": "idMgaNfqGVeg"
      }
    },
    {
      "cell_type": "markdown",
      "source": [
        "### Q1:"
      ],
      "metadata": {
        "id": "Ys1GgT3XG_S9"
      }
    },
    {
      "cell_type": "markdown",
      "source": [
        "in BNLeNet model setting bias = False in the fully connected layers\n",
        "\n",
        "when using batch norm layer : due to the shift vector(beta) we don't need the bias term in the preceeding linear layer"
      ],
      "metadata": {
        "id": "Z8j7LWsTH0_7"
      }
    },
    {
      "cell_type": "code",
      "source": [
        "class BNLeNet1(d2l.Classifier):\n",
        "\n",
        "  def __init__(self, lr=0.1, num_classes=10):\n",
        "    super().__init__()\n",
        "    self.save_hyperparameters()\n",
        "    self.net = nn.Sequential(\n",
        "        nn.LazyConv2d(6, kernel_size=5), nn.LazyBatchNorm2d(), nn.ReLU(),\n",
        "        nn.MaxPool2d(kernel_size=2, stride=2),\n",
        "        nn.LazyConv2d(16, kernel_size=5), nn.LazyBatchNorm2d(), nn.ReLU(),\n",
        "        nn.MaxPool2d(kernel_size=2, stride=2),\n",
        "        nn.Flatten(),\n",
        "        nn.LazyLinear(120, bias=False), nn.LazyBatchNorm1d(), nn.ReLU(),\n",
        "        nn.LazyLinear(84, bias=False), nn.LazyBatchNorm1d(), nn.ReLU(),\n",
        "        nn.LazyLinear(num_classes, bias=False)\n",
        "    )\n",
        "\n",
        "  def forward(self, X):\n",
        "    return self.net(X)"
      ],
      "metadata": {
        "id": "A1CQRQV6Bw2l"
      },
      "execution_count": 8,
      "outputs": []
    },
    {
      "cell_type": "code",
      "source": [
        "trainer = d2l.Trainer(max_epochs=10)\n",
        "data = d2l.FashionMNIST(batch_size=128)\n",
        "model = BNLeNet1(lr=0.1)\n",
        "model.apply_init([next(iter(data.get_dataloader(train=True)))[0]], d2l.init_cnn)\n",
        "trainer.fit(model, data)"
      ],
      "metadata": {
        "colab": {
          "base_uri": "https://localhost:8080/",
          "height": 262
        },
        "id": "Y38KRseUHOzj",
        "outputId": "2b065c65-eabd-44ae-eec4-7f24c48c6883"
      },
      "execution_count": 22,
      "outputs": [
        {
          "output_type": "display_data",
          "data": {
            "text/plain": [
              "<Figure size 252x180 with 1 Axes>"
            ],
            "image/svg+xml": "<?xml version=\"1.0\" encoding=\"utf-8\" standalone=\"no\"?>\n<!DOCTYPE svg PUBLIC \"-//W3C//DTD SVG 1.1//EN\"\n  \"http://www.w3.org/Graphics/SVG/1.1/DTD/svg11.dtd\">\n<!-- Created with matplotlib (https://matplotlib.org/) -->\n<svg height=\"180.65625pt\" version=\"1.1\" viewBox=\"0 0 238.965625 180.65625\" width=\"238.965625pt\" xmlns=\"http://www.w3.org/2000/svg\" xmlns:xlink=\"http://www.w3.org/1999/xlink\">\n <defs>\n  <style type=\"text/css\">\n*{stroke-linecap:butt;stroke-linejoin:round;}\n  </style>\n </defs>\n <g id=\"figure_1\">\n  <g id=\"patch_1\">\n   <path d=\"M 0 180.65625 \nL 238.965625 180.65625 \nL 238.965625 0 \nL 0 0 \nz\n\" style=\"fill:none;\"/>\n  </g>\n  <g id=\"axes_1\">\n   <g id=\"patch_2\">\n    <path d=\"M 30.103125 143.1 \nL 225.403125 143.1 \nL 225.403125 7.2 \nL 30.103125 7.2 \nz\n\" style=\"fill:#ffffff;\"/>\n   </g>\n   <g id=\"matplotlib.axis_1\">\n    <g id=\"xtick_1\">\n     <g id=\"line2d_1\">\n      <defs>\n       <path d=\"M 0 0 \nL 0 3.5 \n\" id=\"mb460584b7a\" style=\"stroke:#000000;stroke-width:0.8;\"/>\n      </defs>\n      <g>\n       <use style=\"stroke:#000000;stroke-width:0.8;\" x=\"30.103125\" xlink:href=\"#mb460584b7a\" y=\"143.1\"/>\n      </g>\n     </g>\n     <g id=\"text_1\">\n      <!-- 0 -->\n      <defs>\n       <path d=\"M 31.78125 66.40625 \nQ 24.171875 66.40625 20.328125 58.90625 \nQ 16.5 51.421875 16.5 36.375 \nQ 16.5 21.390625 20.328125 13.890625 \nQ 24.171875 6.390625 31.78125 6.390625 \nQ 39.453125 6.390625 43.28125 13.890625 \nQ 47.125 21.390625 47.125 36.375 \nQ 47.125 51.421875 43.28125 58.90625 \nQ 39.453125 66.40625 31.78125 66.40625 \nz\nM 31.78125 74.21875 \nQ 44.046875 74.21875 50.515625 64.515625 \nQ 56.984375 54.828125 56.984375 36.375 \nQ 56.984375 17.96875 50.515625 8.265625 \nQ 44.046875 -1.421875 31.78125 -1.421875 \nQ 19.53125 -1.421875 13.0625 8.265625 \nQ 6.59375 17.96875 6.59375 36.375 \nQ 6.59375 54.828125 13.0625 64.515625 \nQ 19.53125 74.21875 31.78125 74.21875 \nz\n\" id=\"DejaVuSans-48\"/>\n      </defs>\n      <g transform=\"translate(26.921875 157.698438)scale(0.1 -0.1)\">\n       <use xlink:href=\"#DejaVuSans-48\"/>\n      </g>\n     </g>\n    </g>\n    <g id=\"xtick_2\">\n     <g id=\"line2d_2\">\n      <g>\n       <use style=\"stroke:#000000;stroke-width:0.8;\" x=\"69.163125\" xlink:href=\"#mb460584b7a\" y=\"143.1\"/>\n      </g>\n     </g>\n     <g id=\"text_2\">\n      <!-- 2 -->\n      <defs>\n       <path d=\"M 19.1875 8.296875 \nL 53.609375 8.296875 \nL 53.609375 0 \nL 7.328125 0 \nL 7.328125 8.296875 \nQ 12.9375 14.109375 22.625 23.890625 \nQ 32.328125 33.6875 34.8125 36.53125 \nQ 39.546875 41.84375 41.421875 45.53125 \nQ 43.3125 49.21875 43.3125 52.78125 \nQ 43.3125 58.59375 39.234375 62.25 \nQ 35.15625 65.921875 28.609375 65.921875 \nQ 23.96875 65.921875 18.8125 64.3125 \nQ 13.671875 62.703125 7.8125 59.421875 \nL 7.8125 69.390625 \nQ 13.765625 71.78125 18.9375 73 \nQ 24.125 74.21875 28.421875 74.21875 \nQ 39.75 74.21875 46.484375 68.546875 \nQ 53.21875 62.890625 53.21875 53.421875 \nQ 53.21875 48.921875 51.53125 44.890625 \nQ 49.859375 40.875 45.40625 35.40625 \nQ 44.1875 33.984375 37.640625 27.21875 \nQ 31.109375 20.453125 19.1875 8.296875 \nz\n\" id=\"DejaVuSans-50\"/>\n      </defs>\n      <g transform=\"translate(65.981875 157.698438)scale(0.1 -0.1)\">\n       <use xlink:href=\"#DejaVuSans-50\"/>\n      </g>\n     </g>\n    </g>\n    <g id=\"xtick_3\">\n     <g id=\"line2d_3\">\n      <g>\n       <use style=\"stroke:#000000;stroke-width:0.8;\" x=\"108.223125\" xlink:href=\"#mb460584b7a\" y=\"143.1\"/>\n      </g>\n     </g>\n     <g id=\"text_3\">\n      <!-- 4 -->\n      <defs>\n       <path d=\"M 37.796875 64.3125 \nL 12.890625 25.390625 \nL 37.796875 25.390625 \nz\nM 35.203125 72.90625 \nL 47.609375 72.90625 \nL 47.609375 25.390625 \nL 58.015625 25.390625 \nL 58.015625 17.1875 \nL 47.609375 17.1875 \nL 47.609375 0 \nL 37.796875 0 \nL 37.796875 17.1875 \nL 4.890625 17.1875 \nL 4.890625 26.703125 \nz\n\" id=\"DejaVuSans-52\"/>\n      </defs>\n      <g transform=\"translate(105.041875 157.698438)scale(0.1 -0.1)\">\n       <use xlink:href=\"#DejaVuSans-52\"/>\n      </g>\n     </g>\n    </g>\n    <g id=\"xtick_4\">\n     <g id=\"line2d_4\">\n      <g>\n       <use style=\"stroke:#000000;stroke-width:0.8;\" x=\"147.283125\" xlink:href=\"#mb460584b7a\" y=\"143.1\"/>\n      </g>\n     </g>\n     <g id=\"text_4\">\n      <!-- 6 -->\n      <defs>\n       <path d=\"M 33.015625 40.375 \nQ 26.375 40.375 22.484375 35.828125 \nQ 18.609375 31.296875 18.609375 23.390625 \nQ 18.609375 15.53125 22.484375 10.953125 \nQ 26.375 6.390625 33.015625 6.390625 \nQ 39.65625 6.390625 43.53125 10.953125 \nQ 47.40625 15.53125 47.40625 23.390625 \nQ 47.40625 31.296875 43.53125 35.828125 \nQ 39.65625 40.375 33.015625 40.375 \nz\nM 52.59375 71.296875 \nL 52.59375 62.3125 \nQ 48.875 64.0625 45.09375 64.984375 \nQ 41.3125 65.921875 37.59375 65.921875 \nQ 27.828125 65.921875 22.671875 59.328125 \nQ 17.53125 52.734375 16.796875 39.40625 \nQ 19.671875 43.65625 24.015625 45.921875 \nQ 28.375 48.1875 33.59375 48.1875 \nQ 44.578125 48.1875 50.953125 41.515625 \nQ 57.328125 34.859375 57.328125 23.390625 \nQ 57.328125 12.15625 50.6875 5.359375 \nQ 44.046875 -1.421875 33.015625 -1.421875 \nQ 20.359375 -1.421875 13.671875 8.265625 \nQ 6.984375 17.96875 6.984375 36.375 \nQ 6.984375 53.65625 15.1875 63.9375 \nQ 23.390625 74.21875 37.203125 74.21875 \nQ 40.921875 74.21875 44.703125 73.484375 \nQ 48.484375 72.75 52.59375 71.296875 \nz\n\" id=\"DejaVuSans-54\"/>\n      </defs>\n      <g transform=\"translate(144.101875 157.698438)scale(0.1 -0.1)\">\n       <use xlink:href=\"#DejaVuSans-54\"/>\n      </g>\n     </g>\n    </g>\n    <g id=\"xtick_5\">\n     <g id=\"line2d_5\">\n      <g>\n       <use style=\"stroke:#000000;stroke-width:0.8;\" x=\"186.343125\" xlink:href=\"#mb460584b7a\" y=\"143.1\"/>\n      </g>\n     </g>\n     <g id=\"text_5\">\n      <!-- 8 -->\n      <defs>\n       <path d=\"M 31.78125 34.625 \nQ 24.75 34.625 20.71875 30.859375 \nQ 16.703125 27.09375 16.703125 20.515625 \nQ 16.703125 13.921875 20.71875 10.15625 \nQ 24.75 6.390625 31.78125 6.390625 \nQ 38.8125 6.390625 42.859375 10.171875 \nQ 46.921875 13.96875 46.921875 20.515625 \nQ 46.921875 27.09375 42.890625 30.859375 \nQ 38.875 34.625 31.78125 34.625 \nz\nM 21.921875 38.8125 \nQ 15.578125 40.375 12.03125 44.71875 \nQ 8.5 49.078125 8.5 55.328125 \nQ 8.5 64.0625 14.71875 69.140625 \nQ 20.953125 74.21875 31.78125 74.21875 \nQ 42.671875 74.21875 48.875 69.140625 \nQ 55.078125 64.0625 55.078125 55.328125 \nQ 55.078125 49.078125 51.53125 44.71875 \nQ 48 40.375 41.703125 38.8125 \nQ 48.828125 37.15625 52.796875 32.3125 \nQ 56.78125 27.484375 56.78125 20.515625 \nQ 56.78125 9.90625 50.3125 4.234375 \nQ 43.84375 -1.421875 31.78125 -1.421875 \nQ 19.734375 -1.421875 13.25 4.234375 \nQ 6.78125 9.90625 6.78125 20.515625 \nQ 6.78125 27.484375 10.78125 32.3125 \nQ 14.796875 37.15625 21.921875 38.8125 \nz\nM 18.3125 54.390625 \nQ 18.3125 48.734375 21.84375 45.5625 \nQ 25.390625 42.390625 31.78125 42.390625 \nQ 38.140625 42.390625 41.71875 45.5625 \nQ 45.3125 48.734375 45.3125 54.390625 \nQ 45.3125 60.0625 41.71875 63.234375 \nQ 38.140625 66.40625 31.78125 66.40625 \nQ 25.390625 66.40625 21.84375 63.234375 \nQ 18.3125 60.0625 18.3125 54.390625 \nz\n\" id=\"DejaVuSans-56\"/>\n      </defs>\n      <g transform=\"translate(183.161875 157.698438)scale(0.1 -0.1)\">\n       <use xlink:href=\"#DejaVuSans-56\"/>\n      </g>\n     </g>\n    </g>\n    <g id=\"xtick_6\">\n     <g id=\"line2d_6\">\n      <g>\n       <use style=\"stroke:#000000;stroke-width:0.8;\" x=\"225.403125\" xlink:href=\"#mb460584b7a\" y=\"143.1\"/>\n      </g>\n     </g>\n     <g id=\"text_6\">\n      <!-- 10 -->\n      <defs>\n       <path d=\"M 12.40625 8.296875 \nL 28.515625 8.296875 \nL 28.515625 63.921875 \nL 10.984375 60.40625 \nL 10.984375 69.390625 \nL 28.421875 72.90625 \nL 38.28125 72.90625 \nL 38.28125 8.296875 \nL 54.390625 8.296875 \nL 54.390625 0 \nL 12.40625 0 \nz\n\" id=\"DejaVuSans-49\"/>\n      </defs>\n      <g transform=\"translate(219.040625 157.698438)scale(0.1 -0.1)\">\n       <use xlink:href=\"#DejaVuSans-49\"/>\n       <use x=\"63.623047\" xlink:href=\"#DejaVuSans-48\"/>\n      </g>\n     </g>\n    </g>\n    <g id=\"text_7\">\n     <!-- epoch -->\n     <defs>\n      <path d=\"M 56.203125 29.59375 \nL 56.203125 25.203125 \nL 14.890625 25.203125 \nQ 15.484375 15.921875 20.484375 11.0625 \nQ 25.484375 6.203125 34.421875 6.203125 \nQ 39.59375 6.203125 44.453125 7.46875 \nQ 49.3125 8.734375 54.109375 11.28125 \nL 54.109375 2.78125 \nQ 49.265625 0.734375 44.1875 -0.34375 \nQ 39.109375 -1.421875 33.890625 -1.421875 \nQ 20.796875 -1.421875 13.15625 6.1875 \nQ 5.515625 13.8125 5.515625 26.8125 \nQ 5.515625 40.234375 12.765625 48.109375 \nQ 20.015625 56 32.328125 56 \nQ 43.359375 56 49.78125 48.890625 \nQ 56.203125 41.796875 56.203125 29.59375 \nz\nM 47.21875 32.234375 \nQ 47.125 39.59375 43.09375 43.984375 \nQ 39.0625 48.390625 32.421875 48.390625 \nQ 24.90625 48.390625 20.390625 44.140625 \nQ 15.875 39.890625 15.1875 32.171875 \nz\n\" id=\"DejaVuSans-101\"/>\n      <path d=\"M 18.109375 8.203125 \nL 18.109375 -20.796875 \nL 9.078125 -20.796875 \nL 9.078125 54.6875 \nL 18.109375 54.6875 \nL 18.109375 46.390625 \nQ 20.953125 51.265625 25.265625 53.625 \nQ 29.59375 56 35.59375 56 \nQ 45.5625 56 51.78125 48.09375 \nQ 58.015625 40.1875 58.015625 27.296875 \nQ 58.015625 14.40625 51.78125 6.484375 \nQ 45.5625 -1.421875 35.59375 -1.421875 \nQ 29.59375 -1.421875 25.265625 0.953125 \nQ 20.953125 3.328125 18.109375 8.203125 \nz\nM 48.6875 27.296875 \nQ 48.6875 37.203125 44.609375 42.84375 \nQ 40.53125 48.484375 33.40625 48.484375 \nQ 26.265625 48.484375 22.1875 42.84375 \nQ 18.109375 37.203125 18.109375 27.296875 \nQ 18.109375 17.390625 22.1875 11.75 \nQ 26.265625 6.109375 33.40625 6.109375 \nQ 40.53125 6.109375 44.609375 11.75 \nQ 48.6875 17.390625 48.6875 27.296875 \nz\n\" id=\"DejaVuSans-112\"/>\n      <path d=\"M 30.609375 48.390625 \nQ 23.390625 48.390625 19.1875 42.75 \nQ 14.984375 37.109375 14.984375 27.296875 \nQ 14.984375 17.484375 19.15625 11.84375 \nQ 23.34375 6.203125 30.609375 6.203125 \nQ 37.796875 6.203125 41.984375 11.859375 \nQ 46.1875 17.53125 46.1875 27.296875 \nQ 46.1875 37.015625 41.984375 42.703125 \nQ 37.796875 48.390625 30.609375 48.390625 \nz\nM 30.609375 56 \nQ 42.328125 56 49.015625 48.375 \nQ 55.71875 40.765625 55.71875 27.296875 \nQ 55.71875 13.875 49.015625 6.21875 \nQ 42.328125 -1.421875 30.609375 -1.421875 \nQ 18.84375 -1.421875 12.171875 6.21875 \nQ 5.515625 13.875 5.515625 27.296875 \nQ 5.515625 40.765625 12.171875 48.375 \nQ 18.84375 56 30.609375 56 \nz\n\" id=\"DejaVuSans-111\"/>\n      <path d=\"M 48.78125 52.59375 \nL 48.78125 44.1875 \nQ 44.96875 46.296875 41.140625 47.34375 \nQ 37.3125 48.390625 33.40625 48.390625 \nQ 24.65625 48.390625 19.8125 42.84375 \nQ 14.984375 37.3125 14.984375 27.296875 \nQ 14.984375 17.28125 19.8125 11.734375 \nQ 24.65625 6.203125 33.40625 6.203125 \nQ 37.3125 6.203125 41.140625 7.25 \nQ 44.96875 8.296875 48.78125 10.40625 \nL 48.78125 2.09375 \nQ 45.015625 0.34375 40.984375 -0.53125 \nQ 36.96875 -1.421875 32.421875 -1.421875 \nQ 20.0625 -1.421875 12.78125 6.34375 \nQ 5.515625 14.109375 5.515625 27.296875 \nQ 5.515625 40.671875 12.859375 48.328125 \nQ 20.21875 56 33.015625 56 \nQ 37.15625 56 41.109375 55.140625 \nQ 45.0625 54.296875 48.78125 52.59375 \nz\n\" id=\"DejaVuSans-99\"/>\n      <path d=\"M 54.890625 33.015625 \nL 54.890625 0 \nL 45.90625 0 \nL 45.90625 32.71875 \nQ 45.90625 40.484375 42.875 44.328125 \nQ 39.84375 48.1875 33.796875 48.1875 \nQ 26.515625 48.1875 22.3125 43.546875 \nQ 18.109375 38.921875 18.109375 30.90625 \nL 18.109375 0 \nL 9.078125 0 \nL 9.078125 75.984375 \nL 18.109375 75.984375 \nL 18.109375 46.1875 \nQ 21.34375 51.125 25.703125 53.5625 \nQ 30.078125 56 35.796875 56 \nQ 45.21875 56 50.046875 50.171875 \nQ 54.890625 44.34375 54.890625 33.015625 \nz\n\" id=\"DejaVuSans-104\"/>\n     </defs>\n     <g transform=\"translate(112.525 171.376563)scale(0.1 -0.1)\">\n      <use xlink:href=\"#DejaVuSans-101\"/>\n      <use x=\"61.523438\" xlink:href=\"#DejaVuSans-112\"/>\n      <use x=\"125\" xlink:href=\"#DejaVuSans-111\"/>\n      <use x=\"186.181641\" xlink:href=\"#DejaVuSans-99\"/>\n      <use x=\"241.162109\" xlink:href=\"#DejaVuSans-104\"/>\n     </g>\n    </g>\n   </g>\n   <g id=\"matplotlib.axis_2\">\n    <g id=\"ytick_1\">\n     <g id=\"line2d_7\">\n      <defs>\n       <path d=\"M 0 0 \nL -3.5 0 \n\" id=\"me3fcec80bd\" style=\"stroke:#000000;stroke-width:0.8;\"/>\n      </defs>\n      <g>\n       <use style=\"stroke:#000000;stroke-width:0.8;\" x=\"30.103125\" xlink:href=\"#me3fcec80bd\" y=\"139.866641\"/>\n      </g>\n     </g>\n     <g id=\"text_8\">\n      <!-- 0.2 -->\n      <defs>\n       <path d=\"M 10.6875 12.40625 \nL 21 12.40625 \nL 21 0 \nL 10.6875 0 \nz\n\" id=\"DejaVuSans-46\"/>\n      </defs>\n      <g transform=\"translate(7.2 143.66586)scale(0.1 -0.1)\">\n       <use xlink:href=\"#DejaVuSans-48\"/>\n       <use x=\"63.623047\" xlink:href=\"#DejaVuSans-46\"/>\n       <use x=\"95.410156\" xlink:href=\"#DejaVuSans-50\"/>\n      </g>\n     </g>\n    </g>\n    <g id=\"ytick_2\">\n     <g id=\"line2d_8\">\n      <g>\n       <use style=\"stroke:#000000;stroke-width:0.8;\" x=\"30.103125\" xlink:href=\"#me3fcec80bd\" y=\"102.801019\"/>\n      </g>\n     </g>\n     <g id=\"text_9\">\n      <!-- 0.4 -->\n      <g transform=\"translate(7.2 106.600238)scale(0.1 -0.1)\">\n       <use xlink:href=\"#DejaVuSans-48\"/>\n       <use x=\"63.623047\" xlink:href=\"#DejaVuSans-46\"/>\n       <use x=\"95.410156\" xlink:href=\"#DejaVuSans-52\"/>\n      </g>\n     </g>\n    </g>\n    <g id=\"ytick_3\">\n     <g id=\"line2d_9\">\n      <g>\n       <use style=\"stroke:#000000;stroke-width:0.8;\" x=\"30.103125\" xlink:href=\"#me3fcec80bd\" y=\"65.735397\"/>\n      </g>\n     </g>\n     <g id=\"text_10\">\n      <!-- 0.6 -->\n      <g transform=\"translate(7.2 69.534615)scale(0.1 -0.1)\">\n       <use xlink:href=\"#DejaVuSans-48\"/>\n       <use x=\"63.623047\" xlink:href=\"#DejaVuSans-46\"/>\n       <use x=\"95.410156\" xlink:href=\"#DejaVuSans-54\"/>\n      </g>\n     </g>\n    </g>\n    <g id=\"ytick_4\">\n     <g id=\"line2d_10\">\n      <g>\n       <use style=\"stroke:#000000;stroke-width:0.8;\" x=\"30.103125\" xlink:href=\"#me3fcec80bd\" y=\"28.669774\"/>\n      </g>\n     </g>\n     <g id=\"text_11\">\n      <!-- 0.8 -->\n      <g transform=\"translate(7.2 32.468993)scale(0.1 -0.1)\">\n       <use xlink:href=\"#DejaVuSans-48\"/>\n       <use x=\"63.623047\" xlink:href=\"#DejaVuSans-46\"/>\n       <use x=\"95.410156\" xlink:href=\"#DejaVuSans-56\"/>\n      </g>\n     </g>\n    </g>\n   </g>\n   <g id=\"line2d_11\">\n    <path clip-path=\"url(#pc657dd9811)\" d=\"M 34.954394 67.016472 \n\" style=\"fill:none;stroke:#1f77b4;stroke-linecap:square;stroke-width:1.5;\"/>\n   </g>\n   <g id=\"line2d_12\">\n    <path clip-path=\"url(#pc657dd9811)\" d=\"M 34.954394 67.016472 \nL 44.698573 100.178395 \n\" style=\"fill:none;stroke:#1f77b4;stroke-linecap:square;stroke-width:1.5;\"/>\n   </g>\n   <g id=\"line2d_13\">\n    <path clip-path=\"url(#pc657dd9811)\" d=\"M 34.954394 67.016472 \nL 44.698573 100.178395 \n\" style=\"fill:none;stroke:#1f77b4;stroke-linecap:square;stroke-width:1.5;\"/>\n   </g>\n   <g id=\"line2d_14\">\n    <path clip-path=\"url(#pc657dd9811)\" d=\"M 49.633125 102.944507 \n\" style=\"fill:none;stroke:#ff7f0e;stroke-dasharray:5.55,2.4;stroke-dashoffset:0;stroke-width:1.5;\"/>\n   </g>\n   <g id=\"line2d_15\"/>\n   <g id=\"line2d_16\">\n    <path clip-path=\"url(#pc657dd9811)\" d=\"M 34.954394 67.016472 \nL 44.698573 100.178395 \n\" style=\"fill:none;stroke:#1f77b4;stroke-linecap:square;stroke-width:1.5;\"/>\n   </g>\n   <g id=\"line2d_17\">\n    <path clip-path=\"url(#pc657dd9811)\" d=\"M 49.633125 102.944507 \n\" style=\"fill:none;stroke:#ff7f0e;stroke-dasharray:5.55,2.4;stroke-dashoffset:0;stroke-width:1.5;\"/>\n   </g>\n   <g id=\"line2d_18\">\n    <path clip-path=\"url(#pc657dd9811)\" d=\"M 49.633125 18.050796 \n\" style=\"fill:none;stroke:#2ca02c;stroke-dasharray:9.6,2.4,1.5,2.4;stroke-dashoffset:0;stroke-width:1.5;\"/>\n   </g>\n   <g id=\"line2d_19\">\n    <path clip-path=\"url(#pc657dd9811)\" d=\"M 34.954394 67.016472 \nL 44.698573 100.178395 \nL 54.442752 110.609038 \n\" style=\"fill:none;stroke:#1f77b4;stroke-linecap:square;stroke-width:1.5;\"/>\n   </g>\n   <g id=\"line2d_20\">\n    <path clip-path=\"url(#pc657dd9811)\" d=\"M 49.633125 102.944507 \n\" style=\"fill:none;stroke:#ff7f0e;stroke-dasharray:5.55,2.4;stroke-dashoffset:0;stroke-width:1.5;\"/>\n   </g>\n   <g id=\"line2d_21\">\n    <path clip-path=\"url(#pc657dd9811)\" d=\"M 49.633125 18.050796 \n\" style=\"fill:none;stroke:#2ca02c;stroke-dasharray:9.6,2.4,1.5,2.4;stroke-dashoffset:0;stroke-width:1.5;\"/>\n   </g>\n   <g id=\"line2d_22\">\n    <path clip-path=\"url(#pc657dd9811)\" d=\"M 34.954394 67.016472 \nL 44.698573 100.178395 \nL 54.442752 110.609038 \nL 64.186931 113.401484 \n\" style=\"fill:none;stroke:#1f77b4;stroke-linecap:square;stroke-width:1.5;\"/>\n   </g>\n   <g id=\"line2d_23\">\n    <path clip-path=\"url(#pc657dd9811)\" d=\"M 49.633125 102.944507 \n\" style=\"fill:none;stroke:#ff7f0e;stroke-dasharray:5.55,2.4;stroke-dashoffset:0;stroke-width:1.5;\"/>\n   </g>\n   <g id=\"line2d_24\">\n    <path clip-path=\"url(#pc657dd9811)\" d=\"M 49.633125 18.050796 \n\" style=\"fill:none;stroke:#2ca02c;stroke-dasharray:9.6,2.4,1.5,2.4;stroke-dashoffset:0;stroke-width:1.5;\"/>\n   </g>\n   <g id=\"line2d_25\">\n    <path clip-path=\"url(#pc657dd9811)\" d=\"M 34.954394 67.016472 \nL 44.698573 100.178395 \nL 54.442752 110.609038 \nL 64.186931 113.401484 \n\" style=\"fill:none;stroke:#1f77b4;stroke-linecap:square;stroke-width:1.5;\"/>\n   </g>\n   <g id=\"line2d_26\">\n    <path clip-path=\"url(#pc657dd9811)\" d=\"M 49.633125 102.944507 \nL 69.163125 107.984306 \n\" style=\"fill:none;stroke:#ff7f0e;stroke-dasharray:5.55,2.4;stroke-dashoffset:0;stroke-width:1.5;\"/>\n   </g>\n   <g id=\"line2d_27\">\n    <path clip-path=\"url(#pc657dd9811)\" d=\"M 49.633125 18.050796 \n\" style=\"fill:none;stroke:#2ca02c;stroke-dasharray:9.6,2.4,1.5,2.4;stroke-dashoffset:0;stroke-width:1.5;\"/>\n   </g>\n   <g id=\"line2d_28\">\n    <path clip-path=\"url(#pc657dd9811)\" d=\"M 34.954394 67.016472 \nL 44.698573 100.178395 \nL 54.442752 110.609038 \nL 64.186931 113.401484 \n\" style=\"fill:none;stroke:#1f77b4;stroke-linecap:square;stroke-width:1.5;\"/>\n   </g>\n   <g id=\"line2d_29\">\n    <path clip-path=\"url(#pc657dd9811)\" d=\"M 49.633125 102.944507 \nL 69.163125 107.984306 \n\" style=\"fill:none;stroke:#ff7f0e;stroke-dasharray:5.55,2.4;stroke-dashoffset:0;stroke-width:1.5;\"/>\n   </g>\n   <g id=\"line2d_30\">\n    <path clip-path=\"url(#pc657dd9811)\" d=\"M 49.633125 18.050796 \nL 69.163125 16.822851 \n\" style=\"fill:none;stroke:#2ca02c;stroke-dasharray:9.6,2.4,1.5,2.4;stroke-dashoffset:0;stroke-width:1.5;\"/>\n   </g>\n   <g id=\"line2d_31\">\n    <path clip-path=\"url(#pc657dd9811)\" d=\"M 34.954394 67.016472 \nL 44.698573 100.178395 \nL 54.442752 110.609038 \nL 64.186931 113.401484 \nL 73.93111 118.062413 \n\" style=\"fill:none;stroke:#1f77b4;stroke-linecap:square;stroke-width:1.5;\"/>\n   </g>\n   <g id=\"line2d_32\">\n    <path clip-path=\"url(#pc657dd9811)\" d=\"M 49.633125 102.944507 \nL 69.163125 107.984306 \n\" style=\"fill:none;stroke:#ff7f0e;stroke-dasharray:5.55,2.4;stroke-dashoffset:0;stroke-width:1.5;\"/>\n   </g>\n   <g id=\"line2d_33\">\n    <path clip-path=\"url(#pc657dd9811)\" d=\"M 49.633125 18.050796 \nL 69.163125 16.822851 \n\" style=\"fill:none;stroke:#2ca02c;stroke-dasharray:9.6,2.4,1.5,2.4;stroke-dashoffset:0;stroke-width:1.5;\"/>\n   </g>\n   <g id=\"line2d_34\">\n    <path clip-path=\"url(#pc657dd9811)\" d=\"M 34.954394 67.016472 \nL 44.698573 100.178395 \nL 54.442752 110.609038 \nL 64.186931 113.401484 \nL 73.93111 118.062413 \nL 83.675289 119.747829 \n\" style=\"fill:none;stroke:#1f77b4;stroke-linecap:square;stroke-width:1.5;\"/>\n   </g>\n   <g id=\"line2d_35\">\n    <path clip-path=\"url(#pc657dd9811)\" d=\"M 49.633125 102.944507 \nL 69.163125 107.984306 \n\" style=\"fill:none;stroke:#ff7f0e;stroke-dasharray:5.55,2.4;stroke-dashoffset:0;stroke-width:1.5;\"/>\n   </g>\n   <g id=\"line2d_36\">\n    <path clip-path=\"url(#pc657dd9811)\" d=\"M 49.633125 18.050796 \nL 69.163125 16.822851 \n\" style=\"fill:none;stroke:#2ca02c;stroke-dasharray:9.6,2.4,1.5,2.4;stroke-dashoffset:0;stroke-width:1.5;\"/>\n   </g>\n   <g id=\"line2d_37\">\n    <path clip-path=\"url(#pc657dd9811)\" d=\"M 34.954394 67.016472 \nL 44.698573 100.178395 \nL 54.442752 110.609038 \nL 64.186931 113.401484 \nL 73.93111 118.062413 \nL 83.675289 119.747829 \n\" style=\"fill:none;stroke:#1f77b4;stroke-linecap:square;stroke-width:1.5;\"/>\n   </g>\n   <g id=\"line2d_38\">\n    <path clip-path=\"url(#pc657dd9811)\" d=\"M 49.633125 102.944507 \nL 69.163125 107.984306 \nL 88.693125 115.297419 \n\" style=\"fill:none;stroke:#ff7f0e;stroke-dasharray:5.55,2.4;stroke-dashoffset:0;stroke-width:1.5;\"/>\n   </g>\n   <g id=\"line2d_39\">\n    <path clip-path=\"url(#pc657dd9811)\" d=\"M 49.633125 18.050796 \nL 69.163125 16.822851 \n\" style=\"fill:none;stroke:#2ca02c;stroke-dasharray:9.6,2.4,1.5,2.4;stroke-dashoffset:0;stroke-width:1.5;\"/>\n   </g>\n   <g id=\"line2d_40\">\n    <path clip-path=\"url(#pc657dd9811)\" d=\"M 34.954394 67.016472 \nL 44.698573 100.178395 \nL 54.442752 110.609038 \nL 64.186931 113.401484 \nL 73.93111 118.062413 \nL 83.675289 119.747829 \n\" style=\"fill:none;stroke:#1f77b4;stroke-linecap:square;stroke-width:1.5;\"/>\n   </g>\n   <g id=\"line2d_41\">\n    <path clip-path=\"url(#pc657dd9811)\" d=\"M 49.633125 102.944507 \nL 69.163125 107.984306 \nL 88.693125 115.297419 \n\" style=\"fill:none;stroke:#ff7f0e;stroke-dasharray:5.55,2.4;stroke-dashoffset:0;stroke-width:1.5;\"/>\n   </g>\n   <g id=\"line2d_42\">\n    <path clip-path=\"url(#pc657dd9811)\" d=\"M 49.633125 18.050796 \nL 69.163125 16.822851 \nL 88.693125 14.14703 \n\" style=\"fill:none;stroke:#2ca02c;stroke-dasharray:9.6,2.4,1.5,2.4;stroke-dashoffset:0;stroke-width:1.5;\"/>\n   </g>\n   <g id=\"line2d_43\">\n    <path clip-path=\"url(#pc657dd9811)\" d=\"M 34.954394 67.016472 \nL 44.698573 100.178395 \nL 54.442752 110.609038 \nL 64.186931 113.401484 \nL 73.93111 118.062413 \nL 83.675289 119.747829 \nL 93.419468 123.846378 \n\" style=\"fill:none;stroke:#1f77b4;stroke-linecap:square;stroke-width:1.5;\"/>\n   </g>\n   <g id=\"line2d_44\">\n    <path clip-path=\"url(#pc657dd9811)\" d=\"M 49.633125 102.944507 \nL 69.163125 107.984306 \nL 88.693125 115.297419 \n\" style=\"fill:none;stroke:#ff7f0e;stroke-dasharray:5.55,2.4;stroke-dashoffset:0;stroke-width:1.5;\"/>\n   </g>\n   <g id=\"line2d_45\">\n    <path clip-path=\"url(#pc657dd9811)\" d=\"M 49.633125 18.050796 \nL 69.163125 16.822851 \nL 88.693125 14.14703 \n\" style=\"fill:none;stroke:#2ca02c;stroke-dasharray:9.6,2.4,1.5,2.4;stroke-dashoffset:0;stroke-width:1.5;\"/>\n   </g>\n   <g id=\"line2d_46\">\n    <path clip-path=\"url(#pc657dd9811)\" d=\"M 34.954394 67.016472 \nL 44.698573 100.178395 \nL 54.442752 110.609038 \nL 64.186931 113.401484 \nL 73.93111 118.062413 \nL 83.675289 119.747829 \nL 93.419468 123.846378 \nL 103.163647 123.168062 \n\" style=\"fill:none;stroke:#1f77b4;stroke-linecap:square;stroke-width:1.5;\"/>\n   </g>\n   <g id=\"line2d_47\">\n    <path clip-path=\"url(#pc657dd9811)\" d=\"M 49.633125 102.944507 \nL 69.163125 107.984306 \nL 88.693125 115.297419 \n\" style=\"fill:none;stroke:#ff7f0e;stroke-dasharray:5.55,2.4;stroke-dashoffset:0;stroke-width:1.5;\"/>\n   </g>\n   <g id=\"line2d_48\">\n    <path clip-path=\"url(#pc657dd9811)\" d=\"M 49.633125 18.050796 \nL 69.163125 16.822851 \nL 88.693125 14.14703 \n\" style=\"fill:none;stroke:#2ca02c;stroke-dasharray:9.6,2.4,1.5,2.4;stroke-dashoffset:0;stroke-width:1.5;\"/>\n   </g>\n   <g id=\"line2d_49\">\n    <path clip-path=\"url(#pc657dd9811)\" d=\"M 34.954394 67.016472 \nL 44.698573 100.178395 \nL 54.442752 110.609038 \nL 64.186931 113.401484 \nL 73.93111 118.062413 \nL 83.675289 119.747829 \nL 93.419468 123.846378 \nL 103.163647 123.168062 \n\" style=\"fill:none;stroke:#1f77b4;stroke-linecap:square;stroke-width:1.5;\"/>\n   </g>\n   <g id=\"line2d_50\">\n    <path clip-path=\"url(#pc657dd9811)\" d=\"M 49.633125 102.944507 \nL 69.163125 107.984306 \nL 88.693125 115.297419 \nL 108.223125 113.705134 \n\" style=\"fill:none;stroke:#ff7f0e;stroke-dasharray:5.55,2.4;stroke-dashoffset:0;stroke-width:1.5;\"/>\n   </g>\n   <g id=\"line2d_51\">\n    <path clip-path=\"url(#pc657dd9811)\" d=\"M 49.633125 18.050796 \nL 69.163125 16.822851 \nL 88.693125 14.14703 \n\" style=\"fill:none;stroke:#2ca02c;stroke-dasharray:9.6,2.4,1.5,2.4;stroke-dashoffset:0;stroke-width:1.5;\"/>\n   </g>\n   <g id=\"line2d_52\">\n    <path clip-path=\"url(#pc657dd9811)\" d=\"M 34.954394 67.016472 \nL 44.698573 100.178395 \nL 54.442752 110.609038 \nL 64.186931 113.401484 \nL 73.93111 118.062413 \nL 83.675289 119.747829 \nL 93.419468 123.846378 \nL 103.163647 123.168062 \n\" style=\"fill:none;stroke:#1f77b4;stroke-linecap:square;stroke-width:1.5;\"/>\n   </g>\n   <g id=\"line2d_53\">\n    <path clip-path=\"url(#pc657dd9811)\" d=\"M 49.633125 102.944507 \nL 69.163125 107.984306 \nL 88.693125 115.297419 \nL 108.223125 113.705134 \n\" style=\"fill:none;stroke:#ff7f0e;stroke-dasharray:5.55,2.4;stroke-dashoffset:0;stroke-width:1.5;\"/>\n   </g>\n   <g id=\"line2d_54\">\n    <path clip-path=\"url(#pc657dd9811)\" d=\"M 49.633125 18.050796 \nL 69.163125 16.822851 \nL 88.693125 14.14703 \nL 108.223125 14.311977 \n\" style=\"fill:none;stroke:#2ca02c;stroke-dasharray:9.6,2.4,1.5,2.4;stroke-dashoffset:0;stroke-width:1.5;\"/>\n   </g>\n   <g id=\"line2d_55\">\n    <path clip-path=\"url(#pc657dd9811)\" d=\"M 34.954394 67.016472 \nL 44.698573 100.178395 \nL 54.442752 110.609038 \nL 64.186931 113.401484 \nL 73.93111 118.062413 \nL 83.675289 119.747829 \nL 93.419468 123.846378 \nL 103.163647 123.168062 \nL 112.907826 126.706055 \n\" style=\"fill:none;stroke:#1f77b4;stroke-linecap:square;stroke-width:1.5;\"/>\n   </g>\n   <g id=\"line2d_56\">\n    <path clip-path=\"url(#pc657dd9811)\" d=\"M 49.633125 102.944507 \nL 69.163125 107.984306 \nL 88.693125 115.297419 \nL 108.223125 113.705134 \n\" style=\"fill:none;stroke:#ff7f0e;stroke-dasharray:5.55,2.4;stroke-dashoffset:0;stroke-width:1.5;\"/>\n   </g>\n   <g id=\"line2d_57\">\n    <path clip-path=\"url(#pc657dd9811)\" d=\"M 49.633125 18.050796 \nL 69.163125 16.822851 \nL 88.693125 14.14703 \nL 108.223125 14.311977 \n\" style=\"fill:none;stroke:#2ca02c;stroke-dasharray:9.6,2.4,1.5,2.4;stroke-dashoffset:0;stroke-width:1.5;\"/>\n   </g>\n   <g id=\"line2d_58\">\n    <path clip-path=\"url(#pc657dd9811)\" d=\"M 34.954394 67.016472 \nL 44.698573 100.178395 \nL 54.442752 110.609038 \nL 64.186931 113.401484 \nL 73.93111 118.062413 \nL 83.675289 119.747829 \nL 93.419468 123.846378 \nL 103.163647 123.168062 \nL 112.907826 126.706055 \nL 122.652006 126.703442 \n\" style=\"fill:none;stroke:#1f77b4;stroke-linecap:square;stroke-width:1.5;\"/>\n   </g>\n   <g id=\"line2d_59\">\n    <path clip-path=\"url(#pc657dd9811)\" d=\"M 49.633125 102.944507 \nL 69.163125 107.984306 \nL 88.693125 115.297419 \nL 108.223125 113.705134 \n\" style=\"fill:none;stroke:#ff7f0e;stroke-dasharray:5.55,2.4;stroke-dashoffset:0;stroke-width:1.5;\"/>\n   </g>\n   <g id=\"line2d_60\">\n    <path clip-path=\"url(#pc657dd9811)\" d=\"M 49.633125 18.050796 \nL 69.163125 16.822851 \nL 88.693125 14.14703 \nL 108.223125 14.311977 \n\" style=\"fill:none;stroke:#2ca02c;stroke-dasharray:9.6,2.4,1.5,2.4;stroke-dashoffset:0;stroke-width:1.5;\"/>\n   </g>\n   <g id=\"line2d_61\">\n    <path clip-path=\"url(#pc657dd9811)\" d=\"M 34.954394 67.016472 \nL 44.698573 100.178395 \nL 54.442752 110.609038 \nL 64.186931 113.401484 \nL 73.93111 118.062413 \nL 83.675289 119.747829 \nL 93.419468 123.846378 \nL 103.163647 123.168062 \nL 112.907826 126.706055 \nL 122.652006 126.703442 \n\" style=\"fill:none;stroke:#1f77b4;stroke-linecap:square;stroke-width:1.5;\"/>\n   </g>\n   <g id=\"line2d_62\">\n    <path clip-path=\"url(#pc657dd9811)\" d=\"M 49.633125 102.944507 \nL 69.163125 107.984306 \nL 88.693125 115.297419 \nL 108.223125 113.705134 \nL 127.753125 116.558008 \n\" style=\"fill:none;stroke:#ff7f0e;stroke-dasharray:5.55,2.4;stroke-dashoffset:0;stroke-width:1.5;\"/>\n   </g>\n   <g id=\"line2d_63\">\n    <path clip-path=\"url(#pc657dd9811)\" d=\"M 49.633125 18.050796 \nL 69.163125 16.822851 \nL 88.693125 14.14703 \nL 108.223125 14.311977 \n\" style=\"fill:none;stroke:#2ca02c;stroke-dasharray:9.6,2.4,1.5,2.4;stroke-dashoffset:0;stroke-width:1.5;\"/>\n   </g>\n   <g id=\"line2d_64\">\n    <path clip-path=\"url(#pc657dd9811)\" d=\"M 34.954394 67.016472 \nL 44.698573 100.178395 \nL 54.442752 110.609038 \nL 64.186931 113.401484 \nL 73.93111 118.062413 \nL 83.675289 119.747829 \nL 93.419468 123.846378 \nL 103.163647 123.168062 \nL 112.907826 126.706055 \nL 122.652006 126.703442 \n\" style=\"fill:none;stroke:#1f77b4;stroke-linecap:square;stroke-width:1.5;\"/>\n   </g>\n   <g id=\"line2d_65\">\n    <path clip-path=\"url(#pc657dd9811)\" d=\"M 49.633125 102.944507 \nL 69.163125 107.984306 \nL 88.693125 115.297419 \nL 108.223125 113.705134 \nL 127.753125 116.558008 \n\" style=\"fill:none;stroke:#ff7f0e;stroke-dasharray:5.55,2.4;stroke-dashoffset:0;stroke-width:1.5;\"/>\n   </g>\n   <g id=\"line2d_66\">\n    <path clip-path=\"url(#pc657dd9811)\" d=\"M 49.633125 18.050796 \nL 69.163125 16.822851 \nL 88.693125 14.14703 \nL 108.223125 14.311977 \nL 127.753125 13.377273 \n\" style=\"fill:none;stroke:#2ca02c;stroke-dasharray:9.6,2.4,1.5,2.4;stroke-dashoffset:0;stroke-width:1.5;\"/>\n   </g>\n   <g id=\"line2d_67\">\n    <path clip-path=\"url(#pc657dd9811)\" d=\"M 34.954394 67.016472 \nL 44.698573 100.178395 \nL 54.442752 110.609038 \nL 64.186931 113.401484 \nL 73.93111 118.062413 \nL 83.675289 119.747829 \nL 93.419468 123.846378 \nL 103.163647 123.168062 \nL 112.907826 126.706055 \nL 122.652006 126.703442 \nL 132.396185 129.492018 \n\" style=\"fill:none;stroke:#1f77b4;stroke-linecap:square;stroke-width:1.5;\"/>\n   </g>\n   <g id=\"line2d_68\">\n    <path clip-path=\"url(#pc657dd9811)\" d=\"M 49.633125 102.944507 \nL 69.163125 107.984306 \nL 88.693125 115.297419 \nL 108.223125 113.705134 \nL 127.753125 116.558008 \n\" style=\"fill:none;stroke:#ff7f0e;stroke-dasharray:5.55,2.4;stroke-dashoffset:0;stroke-width:1.5;\"/>\n   </g>\n   <g id=\"line2d_69\">\n    <path clip-path=\"url(#pc657dd9811)\" d=\"M 49.633125 18.050796 \nL 69.163125 16.822851 \nL 88.693125 14.14703 \nL 108.223125 14.311977 \nL 127.753125 13.377273 \n\" style=\"fill:none;stroke:#2ca02c;stroke-dasharray:9.6,2.4,1.5,2.4;stroke-dashoffset:0;stroke-width:1.5;\"/>\n   </g>\n   <g id=\"line2d_70\">\n    <path clip-path=\"url(#pc657dd9811)\" d=\"M 34.954394 67.016472 \nL 44.698573 100.178395 \nL 54.442752 110.609038 \nL 64.186931 113.401484 \nL 73.93111 118.062413 \nL 83.675289 119.747829 \nL 93.419468 123.846378 \nL 103.163647 123.168062 \nL 112.907826 126.706055 \nL 122.652006 126.703442 \nL 132.396185 129.492018 \nL 142.140364 128.462723 \n\" style=\"fill:none;stroke:#1f77b4;stroke-linecap:square;stroke-width:1.5;\"/>\n   </g>\n   <g id=\"line2d_71\">\n    <path clip-path=\"url(#pc657dd9811)\" d=\"M 49.633125 102.944507 \nL 69.163125 107.984306 \nL 88.693125 115.297419 \nL 108.223125 113.705134 \nL 127.753125 116.558008 \n\" style=\"fill:none;stroke:#ff7f0e;stroke-dasharray:5.55,2.4;stroke-dashoffset:0;stroke-width:1.5;\"/>\n   </g>\n   <g id=\"line2d_72\">\n    <path clip-path=\"url(#pc657dd9811)\" d=\"M 49.633125 18.050796 \nL 69.163125 16.822851 \nL 88.693125 14.14703 \nL 108.223125 14.311977 \nL 127.753125 13.377273 \n\" style=\"fill:none;stroke:#2ca02c;stroke-dasharray:9.6,2.4,1.5,2.4;stroke-dashoffset:0;stroke-width:1.5;\"/>\n   </g>\n   <g id=\"line2d_73\">\n    <path clip-path=\"url(#pc657dd9811)\" d=\"M 34.954394 67.016472 \nL 44.698573 100.178395 \nL 54.442752 110.609038 \nL 64.186931 113.401484 \nL 73.93111 118.062413 \nL 83.675289 119.747829 \nL 93.419468 123.846378 \nL 103.163647 123.168062 \nL 112.907826 126.706055 \nL 122.652006 126.703442 \nL 132.396185 129.492018 \nL 142.140364 128.462723 \n\" style=\"fill:none;stroke:#1f77b4;stroke-linecap:square;stroke-width:1.5;\"/>\n   </g>\n   <g id=\"line2d_74\">\n    <path clip-path=\"url(#pc657dd9811)\" d=\"M 49.633125 102.944507 \nL 69.163125 107.984306 \nL 88.693125 115.297419 \nL 108.223125 113.705134 \nL 127.753125 116.558008 \nL 147.283125 109.692653 \n\" style=\"fill:none;stroke:#ff7f0e;stroke-dasharray:5.55,2.4;stroke-dashoffset:0;stroke-width:1.5;\"/>\n   </g>\n   <g id=\"line2d_75\">\n    <path clip-path=\"url(#pc657dd9811)\" d=\"M 49.633125 18.050796 \nL 69.163125 16.822851 \nL 88.693125 14.14703 \nL 108.223125 14.311977 \nL 127.753125 13.377273 \n\" style=\"fill:none;stroke:#2ca02c;stroke-dasharray:9.6,2.4,1.5,2.4;stroke-dashoffset:0;stroke-width:1.5;\"/>\n   </g>\n   <g id=\"line2d_76\">\n    <path clip-path=\"url(#pc657dd9811)\" d=\"M 34.954394 67.016472 \nL 44.698573 100.178395 \nL 54.442752 110.609038 \nL 64.186931 113.401484 \nL 73.93111 118.062413 \nL 83.675289 119.747829 \nL 93.419468 123.846378 \nL 103.163647 123.168062 \nL 112.907826 126.706055 \nL 122.652006 126.703442 \nL 132.396185 129.492018 \nL 142.140364 128.462723 \n\" style=\"fill:none;stroke:#1f77b4;stroke-linecap:square;stroke-width:1.5;\"/>\n   </g>\n   <g id=\"line2d_77\">\n    <path clip-path=\"url(#pc657dd9811)\" d=\"M 49.633125 102.944507 \nL 69.163125 107.984306 \nL 88.693125 115.297419 \nL 108.223125 113.705134 \nL 127.753125 116.558008 \nL 147.283125 109.692653 \n\" style=\"fill:none;stroke:#ff7f0e;stroke-dasharray:5.55,2.4;stroke-dashoffset:0;stroke-width:1.5;\"/>\n   </g>\n   <g id=\"line2d_78\">\n    <path clip-path=\"url(#pc657dd9811)\" d=\"M 49.633125 18.050796 \nL 69.163125 16.822851 \nL 88.693125 14.14703 \nL 108.223125 14.311977 \nL 127.753125 13.377273 \nL 147.283125 16.30968 \n\" style=\"fill:none;stroke:#2ca02c;stroke-dasharray:9.6,2.4,1.5,2.4;stroke-dashoffset:0;stroke-width:1.5;\"/>\n   </g>\n   <g id=\"line2d_79\">\n    <path clip-path=\"url(#pc657dd9811)\" d=\"M 34.954394 67.016472 \nL 44.698573 100.178395 \nL 54.442752 110.609038 \nL 64.186931 113.401484 \nL 73.93111 118.062413 \nL 83.675289 119.747829 \nL 93.419468 123.846378 \nL 103.163647 123.168062 \nL 112.907826 126.706055 \nL 122.652006 126.703442 \nL 132.396185 129.492018 \nL 142.140364 128.462723 \nL 151.884543 131.596492 \n\" style=\"fill:none;stroke:#1f77b4;stroke-linecap:square;stroke-width:1.5;\"/>\n   </g>\n   <g id=\"line2d_80\">\n    <path clip-path=\"url(#pc657dd9811)\" d=\"M 49.633125 102.944507 \nL 69.163125 107.984306 \nL 88.693125 115.297419 \nL 108.223125 113.705134 \nL 127.753125 116.558008 \nL 147.283125 109.692653 \n\" style=\"fill:none;stroke:#ff7f0e;stroke-dasharray:5.55,2.4;stroke-dashoffset:0;stroke-width:1.5;\"/>\n   </g>\n   <g id=\"line2d_81\">\n    <path clip-path=\"url(#pc657dd9811)\" d=\"M 49.633125 18.050796 \nL 69.163125 16.822851 \nL 88.693125 14.14703 \nL 108.223125 14.311977 \nL 127.753125 13.377273 \nL 147.283125 16.30968 \n\" style=\"fill:none;stroke:#2ca02c;stroke-dasharray:9.6,2.4,1.5,2.4;stroke-dashoffset:0;stroke-width:1.5;\"/>\n   </g>\n   <g id=\"line2d_82\">\n    <path clip-path=\"url(#pc657dd9811)\" d=\"M 34.954394 67.016472 \nL 44.698573 100.178395 \nL 54.442752 110.609038 \nL 64.186931 113.401484 \nL 73.93111 118.062413 \nL 83.675289 119.747829 \nL 93.419468 123.846378 \nL 103.163647 123.168062 \nL 112.907826 126.706055 \nL 122.652006 126.703442 \nL 132.396185 129.492018 \nL 142.140364 128.462723 \nL 151.884543 131.596492 \nL 161.628722 132.033048 \n\" style=\"fill:none;stroke:#1f77b4;stroke-linecap:square;stroke-width:1.5;\"/>\n   </g>\n   <g id=\"line2d_83\">\n    <path clip-path=\"url(#pc657dd9811)\" d=\"M 49.633125 102.944507 \nL 69.163125 107.984306 \nL 88.693125 115.297419 \nL 108.223125 113.705134 \nL 127.753125 116.558008 \nL 147.283125 109.692653 \n\" style=\"fill:none;stroke:#ff7f0e;stroke-dasharray:5.55,2.4;stroke-dashoffset:0;stroke-width:1.5;\"/>\n   </g>\n   <g id=\"line2d_84\">\n    <path clip-path=\"url(#pc657dd9811)\" d=\"M 49.633125 18.050796 \nL 69.163125 16.822851 \nL 88.693125 14.14703 \nL 108.223125 14.311977 \nL 127.753125 13.377273 \nL 147.283125 16.30968 \n\" style=\"fill:none;stroke:#2ca02c;stroke-dasharray:9.6,2.4,1.5,2.4;stroke-dashoffset:0;stroke-width:1.5;\"/>\n   </g>\n   <g id=\"line2d_85\">\n    <path clip-path=\"url(#pc657dd9811)\" d=\"M 34.954394 67.016472 \nL 44.698573 100.178395 \nL 54.442752 110.609038 \nL 64.186931 113.401484 \nL 73.93111 118.062413 \nL 83.675289 119.747829 \nL 93.419468 123.846378 \nL 103.163647 123.168062 \nL 112.907826 126.706055 \nL 122.652006 126.703442 \nL 132.396185 129.492018 \nL 142.140364 128.462723 \nL 151.884543 131.596492 \nL 161.628722 132.033048 \n\" style=\"fill:none;stroke:#1f77b4;stroke-linecap:square;stroke-width:1.5;\"/>\n   </g>\n   <g id=\"line2d_86\">\n    <path clip-path=\"url(#pc657dd9811)\" d=\"M 49.633125 102.944507 \nL 69.163125 107.984306 \nL 88.693125 115.297419 \nL 108.223125 113.705134 \nL 127.753125 116.558008 \nL 147.283125 109.692653 \nL 166.813125 113.379759 \n\" style=\"fill:none;stroke:#ff7f0e;stroke-dasharray:5.55,2.4;stroke-dashoffset:0;stroke-width:1.5;\"/>\n   </g>\n   <g id=\"line2d_87\">\n    <path clip-path=\"url(#pc657dd9811)\" d=\"M 49.633125 18.050796 \nL 69.163125 16.822851 \nL 88.693125 14.14703 \nL 108.223125 14.311977 \nL 127.753125 13.377273 \nL 147.283125 16.30968 \n\" style=\"fill:none;stroke:#2ca02c;stroke-dasharray:9.6,2.4,1.5,2.4;stroke-dashoffset:0;stroke-width:1.5;\"/>\n   </g>\n   <g id=\"line2d_88\">\n    <path clip-path=\"url(#pc657dd9811)\" d=\"M 34.954394 67.016472 \nL 44.698573 100.178395 \nL 54.442752 110.609038 \nL 64.186931 113.401484 \nL 73.93111 118.062413 \nL 83.675289 119.747829 \nL 93.419468 123.846378 \nL 103.163647 123.168062 \nL 112.907826 126.706055 \nL 122.652006 126.703442 \nL 132.396185 129.492018 \nL 142.140364 128.462723 \nL 151.884543 131.596492 \nL 161.628722 132.033048 \n\" style=\"fill:none;stroke:#1f77b4;stroke-linecap:square;stroke-width:1.5;\"/>\n   </g>\n   <g id=\"line2d_89\">\n    <path clip-path=\"url(#pc657dd9811)\" d=\"M 49.633125 102.944507 \nL 69.163125 107.984306 \nL 88.693125 115.297419 \nL 108.223125 113.705134 \nL 127.753125 116.558008 \nL 147.283125 109.692653 \nL 166.813125 113.379759 \n\" style=\"fill:none;stroke:#ff7f0e;stroke-dasharray:5.55,2.4;stroke-dashoffset:0;stroke-width:1.5;\"/>\n   </g>\n   <g id=\"line2d_90\">\n    <path clip-path=\"url(#pc657dd9811)\" d=\"M 49.633125 18.050796 \nL 69.163125 16.822851 \nL 88.693125 14.14703 \nL 108.223125 14.311977 \nL 127.753125 13.377273 \nL 147.283125 16.30968 \nL 166.813125 14.971769 \n\" style=\"fill:none;stroke:#2ca02c;stroke-dasharray:9.6,2.4,1.5,2.4;stroke-dashoffset:0;stroke-width:1.5;\"/>\n   </g>\n   <g id=\"line2d_91\">\n    <path clip-path=\"url(#pc657dd9811)\" d=\"M 34.954394 67.016472 \nL 44.698573 100.178395 \nL 54.442752 110.609038 \nL 64.186931 113.401484 \nL 73.93111 118.062413 \nL 83.675289 119.747829 \nL 93.419468 123.846378 \nL 103.163647 123.168062 \nL 112.907826 126.706055 \nL 122.652006 126.703442 \nL 132.396185 129.492018 \nL 142.140364 128.462723 \nL 151.884543 131.596492 \nL 161.628722 132.033048 \nL 171.372901 133.506534 \n\" style=\"fill:none;stroke:#1f77b4;stroke-linecap:square;stroke-width:1.5;\"/>\n   </g>\n   <g id=\"line2d_92\">\n    <path clip-path=\"url(#pc657dd9811)\" d=\"M 49.633125 102.944507 \nL 69.163125 107.984306 \nL 88.693125 115.297419 \nL 108.223125 113.705134 \nL 127.753125 116.558008 \nL 147.283125 109.692653 \nL 166.813125 113.379759 \n\" style=\"fill:none;stroke:#ff7f0e;stroke-dasharray:5.55,2.4;stroke-dashoffset:0;stroke-width:1.5;\"/>\n   </g>\n   <g id=\"line2d_93\">\n    <path clip-path=\"url(#pc657dd9811)\" d=\"M 49.633125 18.050796 \nL 69.163125 16.822851 \nL 88.693125 14.14703 \nL 108.223125 14.311977 \nL 127.753125 13.377273 \nL 147.283125 16.30968 \nL 166.813125 14.971769 \n\" style=\"fill:none;stroke:#2ca02c;stroke-dasharray:9.6,2.4,1.5,2.4;stroke-dashoffset:0;stroke-width:1.5;\"/>\n   </g>\n   <g id=\"line2d_94\">\n    <path clip-path=\"url(#pc657dd9811)\" d=\"M 34.954394 67.016472 \nL 44.698573 100.178395 \nL 54.442752 110.609038 \nL 64.186931 113.401484 \nL 73.93111 118.062413 \nL 83.675289 119.747829 \nL 93.419468 123.846378 \nL 103.163647 123.168062 \nL 112.907826 126.706055 \nL 122.652006 126.703442 \nL 132.396185 129.492018 \nL 142.140364 128.462723 \nL 151.884543 131.596492 \nL 161.628722 132.033048 \nL 171.372901 133.506534 \nL 181.11708 133.19233 \n\" style=\"fill:none;stroke:#1f77b4;stroke-linecap:square;stroke-width:1.5;\"/>\n   </g>\n   <g id=\"line2d_95\">\n    <path clip-path=\"url(#pc657dd9811)\" d=\"M 49.633125 102.944507 \nL 69.163125 107.984306 \nL 88.693125 115.297419 \nL 108.223125 113.705134 \nL 127.753125 116.558008 \nL 147.283125 109.692653 \nL 166.813125 113.379759 \n\" style=\"fill:none;stroke:#ff7f0e;stroke-dasharray:5.55,2.4;stroke-dashoffset:0;stroke-width:1.5;\"/>\n   </g>\n   <g id=\"line2d_96\">\n    <path clip-path=\"url(#pc657dd9811)\" d=\"M 49.633125 18.050796 \nL 69.163125 16.822851 \nL 88.693125 14.14703 \nL 108.223125 14.311977 \nL 127.753125 13.377273 \nL 147.283125 16.30968 \nL 166.813125 14.971769 \n\" style=\"fill:none;stroke:#2ca02c;stroke-dasharray:9.6,2.4,1.5,2.4;stroke-dashoffset:0;stroke-width:1.5;\"/>\n   </g>\n   <g id=\"line2d_97\">\n    <path clip-path=\"url(#pc657dd9811)\" d=\"M 34.954394 67.016472 \nL 44.698573 100.178395 \nL 54.442752 110.609038 \nL 64.186931 113.401484 \nL 73.93111 118.062413 \nL 83.675289 119.747829 \nL 93.419468 123.846378 \nL 103.163647 123.168062 \nL 112.907826 126.706055 \nL 122.652006 126.703442 \nL 132.396185 129.492018 \nL 142.140364 128.462723 \nL 151.884543 131.596492 \nL 161.628722 132.033048 \nL 171.372901 133.506534 \nL 181.11708 133.19233 \n\" style=\"fill:none;stroke:#1f77b4;stroke-linecap:square;stroke-width:1.5;\"/>\n   </g>\n   <g id=\"line2d_98\">\n    <path clip-path=\"url(#pc657dd9811)\" d=\"M 49.633125 102.944507 \nL 69.163125 107.984306 \nL 88.693125 115.297419 \nL 108.223125 113.705134 \nL 127.753125 116.558008 \nL 147.283125 109.692653 \nL 166.813125 113.379759 \nL 186.343125 115.877195 \n\" style=\"fill:none;stroke:#ff7f0e;stroke-dasharray:5.55,2.4;stroke-dashoffset:0;stroke-width:1.5;\"/>\n   </g>\n   <g id=\"line2d_99\">\n    <path clip-path=\"url(#pc657dd9811)\" d=\"M 49.633125 18.050796 \nL 69.163125 16.822851 \nL 88.693125 14.14703 \nL 108.223125 14.311977 \nL 127.753125 13.377273 \nL 147.283125 16.30968 \nL 166.813125 14.971769 \n\" style=\"fill:none;stroke:#2ca02c;stroke-dasharray:9.6,2.4,1.5,2.4;stroke-dashoffset:0;stroke-width:1.5;\"/>\n   </g>\n   <g id=\"line2d_100\">\n    <path clip-path=\"url(#pc657dd9811)\" d=\"M 34.954394 67.016472 \nL 44.698573 100.178395 \nL 54.442752 110.609038 \nL 64.186931 113.401484 \nL 73.93111 118.062413 \nL 83.675289 119.747829 \nL 93.419468 123.846378 \nL 103.163647 123.168062 \nL 112.907826 126.706055 \nL 122.652006 126.703442 \nL 132.396185 129.492018 \nL 142.140364 128.462723 \nL 151.884543 131.596492 \nL 161.628722 132.033048 \nL 171.372901 133.506534 \nL 181.11708 133.19233 \n\" style=\"fill:none;stroke:#1f77b4;stroke-linecap:square;stroke-width:1.5;\"/>\n   </g>\n   <g id=\"line2d_101\">\n    <path clip-path=\"url(#pc657dd9811)\" d=\"M 49.633125 102.944507 \nL 69.163125 107.984306 \nL 88.693125 115.297419 \nL 108.223125 113.705134 \nL 127.753125 116.558008 \nL 147.283125 109.692653 \nL 166.813125 113.379759 \nL 186.343125 115.877195 \n\" style=\"fill:none;stroke:#ff7f0e;stroke-dasharray:5.55,2.4;stroke-dashoffset:0;stroke-width:1.5;\"/>\n   </g>\n   <g id=\"line2d_102\">\n    <path clip-path=\"url(#pc657dd9811)\" d=\"M 49.633125 18.050796 \nL 69.163125 16.822851 \nL 88.693125 14.14703 \nL 108.223125 14.311977 \nL 127.753125 13.377273 \nL 147.283125 16.30968 \nL 166.813125 14.971769 \nL 186.343125 13.633858 \n\" style=\"fill:none;stroke:#2ca02c;stroke-dasharray:9.6,2.4,1.5,2.4;stroke-dashoffset:0;stroke-width:1.5;\"/>\n   </g>\n   <g id=\"line2d_103\">\n    <path clip-path=\"url(#pc657dd9811)\" d=\"M 34.954394 67.016472 \nL 44.698573 100.178395 \nL 54.442752 110.609038 \nL 64.186931 113.401484 \nL 73.93111 118.062413 \nL 83.675289 119.747829 \nL 93.419468 123.846378 \nL 103.163647 123.168062 \nL 112.907826 126.706055 \nL 122.652006 126.703442 \nL 132.396185 129.492018 \nL 142.140364 128.462723 \nL 151.884543 131.596492 \nL 161.628722 132.033048 \nL 171.372901 133.506534 \nL 181.11708 133.19233 \nL 190.861259 135.525842 \n\" style=\"fill:none;stroke:#1f77b4;stroke-linecap:square;stroke-width:1.5;\"/>\n   </g>\n   <g id=\"line2d_104\">\n    <path clip-path=\"url(#pc657dd9811)\" d=\"M 49.633125 102.944507 \nL 69.163125 107.984306 \nL 88.693125 115.297419 \nL 108.223125 113.705134 \nL 127.753125 116.558008 \nL 147.283125 109.692653 \nL 166.813125 113.379759 \nL 186.343125 115.877195 \n\" style=\"fill:none;stroke:#ff7f0e;stroke-dasharray:5.55,2.4;stroke-dashoffset:0;stroke-width:1.5;\"/>\n   </g>\n   <g id=\"line2d_105\">\n    <path clip-path=\"url(#pc657dd9811)\" d=\"M 49.633125 18.050796 \nL 69.163125 16.822851 \nL 88.693125 14.14703 \nL 108.223125 14.311977 \nL 127.753125 13.377273 \nL 147.283125 16.30968 \nL 166.813125 14.971769 \nL 186.343125 13.633858 \n\" style=\"fill:none;stroke:#2ca02c;stroke-dasharray:9.6,2.4,1.5,2.4;stroke-dashoffset:0;stroke-width:1.5;\"/>\n   </g>\n   <g id=\"line2d_106\">\n    <path clip-path=\"url(#pc657dd9811)\" d=\"M 34.954394 67.016472 \nL 44.698573 100.178395 \nL 54.442752 110.609038 \nL 64.186931 113.401484 \nL 73.93111 118.062413 \nL 83.675289 119.747829 \nL 93.419468 123.846378 \nL 103.163647 123.168062 \nL 112.907826 126.706055 \nL 122.652006 126.703442 \nL 132.396185 129.492018 \nL 142.140364 128.462723 \nL 151.884543 131.596492 \nL 161.628722 132.033048 \nL 171.372901 133.506534 \nL 181.11708 133.19233 \nL 190.861259 135.525842 \nL 200.605438 134.523669 \n\" style=\"fill:none;stroke:#1f77b4;stroke-linecap:square;stroke-width:1.5;\"/>\n   </g>\n   <g id=\"line2d_107\">\n    <path clip-path=\"url(#pc657dd9811)\" d=\"M 49.633125 102.944507 \nL 69.163125 107.984306 \nL 88.693125 115.297419 \nL 108.223125 113.705134 \nL 127.753125 116.558008 \nL 147.283125 109.692653 \nL 166.813125 113.379759 \nL 186.343125 115.877195 \n\" style=\"fill:none;stroke:#ff7f0e;stroke-dasharray:5.55,2.4;stroke-dashoffset:0;stroke-width:1.5;\"/>\n   </g>\n   <g id=\"line2d_108\">\n    <path clip-path=\"url(#pc657dd9811)\" d=\"M 49.633125 18.050796 \nL 69.163125 16.822851 \nL 88.693125 14.14703 \nL 108.223125 14.311977 \nL 127.753125 13.377273 \nL 147.283125 16.30968 \nL 166.813125 14.971769 \nL 186.343125 13.633858 \n\" style=\"fill:none;stroke:#2ca02c;stroke-dasharray:9.6,2.4,1.5,2.4;stroke-dashoffset:0;stroke-width:1.5;\"/>\n   </g>\n   <g id=\"line2d_109\">\n    <path clip-path=\"url(#pc657dd9811)\" d=\"M 34.954394 67.016472 \nL 44.698573 100.178395 \nL 54.442752 110.609038 \nL 64.186931 113.401484 \nL 73.93111 118.062413 \nL 83.675289 119.747829 \nL 93.419468 123.846378 \nL 103.163647 123.168062 \nL 112.907826 126.706055 \nL 122.652006 126.703442 \nL 132.396185 129.492018 \nL 142.140364 128.462723 \nL 151.884543 131.596492 \nL 161.628722 132.033048 \nL 171.372901 133.506534 \nL 181.11708 133.19233 \nL 190.861259 135.525842 \nL 200.605438 134.523669 \n\" style=\"fill:none;stroke:#1f77b4;stroke-linecap:square;stroke-width:1.5;\"/>\n   </g>\n   <g id=\"line2d_110\">\n    <path clip-path=\"url(#pc657dd9811)\" d=\"M 49.633125 102.944507 \nL 69.163125 107.984306 \nL 88.693125 115.297419 \nL 108.223125 113.705134 \nL 127.753125 116.558008 \nL 147.283125 109.692653 \nL 166.813125 113.379759 \nL 186.343125 115.877195 \nL 205.873125 116.452862 \n\" style=\"fill:none;stroke:#ff7f0e;stroke-dasharray:5.55,2.4;stroke-dashoffset:0;stroke-width:1.5;\"/>\n   </g>\n   <g id=\"line2d_111\">\n    <path clip-path=\"url(#pc657dd9811)\" d=\"M 49.633125 18.050796 \nL 69.163125 16.822851 \nL 88.693125 14.14703 \nL 108.223125 14.311977 \nL 127.753125 13.377273 \nL 147.283125 16.30968 \nL 166.813125 14.971769 \nL 186.343125 13.633858 \n\" style=\"fill:none;stroke:#2ca02c;stroke-dasharray:9.6,2.4,1.5,2.4;stroke-dashoffset:0;stroke-width:1.5;\"/>\n   </g>\n   <g id=\"line2d_112\">\n    <path clip-path=\"url(#pc657dd9811)\" d=\"M 34.954394 67.016472 \nL 44.698573 100.178395 \nL 54.442752 110.609038 \nL 64.186931 113.401484 \nL 73.93111 118.062413 \nL 83.675289 119.747829 \nL 93.419468 123.846378 \nL 103.163647 123.168062 \nL 112.907826 126.706055 \nL 122.652006 126.703442 \nL 132.396185 129.492018 \nL 142.140364 128.462723 \nL 151.884543 131.596492 \nL 161.628722 132.033048 \nL 171.372901 133.506534 \nL 181.11708 133.19233 \nL 190.861259 135.525842 \nL 200.605438 134.523669 \n\" style=\"fill:none;stroke:#1f77b4;stroke-linecap:square;stroke-width:1.5;\"/>\n   </g>\n   <g id=\"line2d_113\">\n    <path clip-path=\"url(#pc657dd9811)\" d=\"M 49.633125 102.944507 \nL 69.163125 107.984306 \nL 88.693125 115.297419 \nL 108.223125 113.705134 \nL 127.753125 116.558008 \nL 147.283125 109.692653 \nL 166.813125 113.379759 \nL 186.343125 115.877195 \nL 205.873125 116.452862 \n\" style=\"fill:none;stroke:#ff7f0e;stroke-dasharray:5.55,2.4;stroke-dashoffset:0;stroke-width:1.5;\"/>\n   </g>\n   <g id=\"line2d_114\">\n    <path clip-path=\"url(#pc657dd9811)\" d=\"M 49.633125 18.050796 \nL 69.163125 16.822851 \nL 88.693125 14.14703 \nL 108.223125 14.311977 \nL 127.753125 13.377273 \nL 147.283125 16.30968 \nL 166.813125 14.971769 \nL 186.343125 13.633858 \nL 205.873125 13.377273 \n\" style=\"fill:none;stroke:#2ca02c;stroke-dasharray:9.6,2.4,1.5,2.4;stroke-dashoffset:0;stroke-width:1.5;\"/>\n   </g>\n   <g id=\"line2d_115\">\n    <path clip-path=\"url(#pc657dd9811)\" d=\"M 34.954394 67.016472 \nL 44.698573 100.178395 \nL 54.442752 110.609038 \nL 64.186931 113.401484 \nL 73.93111 118.062413 \nL 83.675289 119.747829 \nL 93.419468 123.846378 \nL 103.163647 123.168062 \nL 112.907826 126.706055 \nL 122.652006 126.703442 \nL 132.396185 129.492018 \nL 142.140364 128.462723 \nL 151.884543 131.596492 \nL 161.628722 132.033048 \nL 171.372901 133.506534 \nL 181.11708 133.19233 \nL 190.861259 135.525842 \nL 200.605438 134.523669 \nL 210.349618 136.922727 \n\" style=\"fill:none;stroke:#1f77b4;stroke-linecap:square;stroke-width:1.5;\"/>\n   </g>\n   <g id=\"line2d_116\">\n    <path clip-path=\"url(#pc657dd9811)\" d=\"M 49.633125 102.944507 \nL 69.163125 107.984306 \nL 88.693125 115.297419 \nL 108.223125 113.705134 \nL 127.753125 116.558008 \nL 147.283125 109.692653 \nL 166.813125 113.379759 \nL 186.343125 115.877195 \nL 205.873125 116.452862 \n\" style=\"fill:none;stroke:#ff7f0e;stroke-dasharray:5.55,2.4;stroke-dashoffset:0;stroke-width:1.5;\"/>\n   </g>\n   <g id=\"line2d_117\">\n    <path clip-path=\"url(#pc657dd9811)\" d=\"M 49.633125 18.050796 \nL 69.163125 16.822851 \nL 88.693125 14.14703 \nL 108.223125 14.311977 \nL 127.753125 13.377273 \nL 147.283125 16.30968 \nL 166.813125 14.971769 \nL 186.343125 13.633858 \nL 205.873125 13.377273 \n\" style=\"fill:none;stroke:#2ca02c;stroke-dasharray:9.6,2.4,1.5,2.4;stroke-dashoffset:0;stroke-width:1.5;\"/>\n   </g>\n   <g id=\"line2d_118\">\n    <path clip-path=\"url(#pc657dd9811)\" d=\"M 34.954394 67.016472 \nL 44.698573 100.178395 \nL 54.442752 110.609038 \nL 64.186931 113.401484 \nL 73.93111 118.062413 \nL 83.675289 119.747829 \nL 93.419468 123.846378 \nL 103.163647 123.168062 \nL 112.907826 126.706055 \nL 122.652006 126.703442 \nL 132.396185 129.492018 \nL 142.140364 128.462723 \nL 151.884543 131.596492 \nL 161.628722 132.033048 \nL 171.372901 133.506534 \nL 181.11708 133.19233 \nL 190.861259 135.525842 \nL 200.605438 134.523669 \nL 210.349618 136.922727 \nL 220.093797 136.077145 \n\" style=\"fill:none;stroke:#1f77b4;stroke-linecap:square;stroke-width:1.5;\"/>\n   </g>\n   <g id=\"line2d_119\">\n    <path clip-path=\"url(#pc657dd9811)\" d=\"M 49.633125 102.944507 \nL 69.163125 107.984306 \nL 88.693125 115.297419 \nL 108.223125 113.705134 \nL 127.753125 116.558008 \nL 147.283125 109.692653 \nL 166.813125 113.379759 \nL 186.343125 115.877195 \nL 205.873125 116.452862 \n\" style=\"fill:none;stroke:#ff7f0e;stroke-dasharray:5.55,2.4;stroke-dashoffset:0;stroke-width:1.5;\"/>\n   </g>\n   <g id=\"line2d_120\">\n    <path clip-path=\"url(#pc657dd9811)\" d=\"M 49.633125 18.050796 \nL 69.163125 16.822851 \nL 88.693125 14.14703 \nL 108.223125 14.311977 \nL 127.753125 13.377273 \nL 147.283125 16.30968 \nL 166.813125 14.971769 \nL 186.343125 13.633858 \nL 205.873125 13.377273 \n\" style=\"fill:none;stroke:#2ca02c;stroke-dasharray:9.6,2.4,1.5,2.4;stroke-dashoffset:0;stroke-width:1.5;\"/>\n   </g>\n   <g id=\"line2d_121\">\n    <path clip-path=\"url(#pc657dd9811)\" d=\"M 34.954394 67.016472 \nL 44.698573 100.178395 \nL 54.442752 110.609038 \nL 64.186931 113.401484 \nL 73.93111 118.062413 \nL 83.675289 119.747829 \nL 93.419468 123.846378 \nL 103.163647 123.168062 \nL 112.907826 126.706055 \nL 122.652006 126.703442 \nL 132.396185 129.492018 \nL 142.140364 128.462723 \nL 151.884543 131.596492 \nL 161.628722 132.033048 \nL 171.372901 133.506534 \nL 181.11708 133.19233 \nL 190.861259 135.525842 \nL 200.605438 134.523669 \nL 210.349618 136.922727 \nL 220.093797 136.077145 \n\" style=\"fill:none;stroke:#1f77b4;stroke-linecap:square;stroke-width:1.5;\"/>\n   </g>\n   <g id=\"line2d_122\">\n    <path clip-path=\"url(#pc657dd9811)\" d=\"M 49.633125 102.944507 \nL 69.163125 107.984306 \nL 88.693125 115.297419 \nL 108.223125 113.705134 \nL 127.753125 116.558008 \nL 147.283125 109.692653 \nL 166.813125 113.379759 \nL 186.343125 115.877195 \nL 205.873125 116.452862 \nL 225.403125 93.39535 \n\" style=\"fill:none;stroke:#ff7f0e;stroke-dasharray:5.55,2.4;stroke-dashoffset:0;stroke-width:1.5;\"/>\n   </g>\n   <g id=\"line2d_123\">\n    <path clip-path=\"url(#pc657dd9811)\" d=\"M 49.633125 18.050796 \nL 69.163125 16.822851 \nL 88.693125 14.14703 \nL 108.223125 14.311977 \nL 127.753125 13.377273 \nL 147.283125 16.30968 \nL 166.813125 14.971769 \nL 186.343125 13.633858 \nL 205.873125 13.377273 \n\" style=\"fill:none;stroke:#2ca02c;stroke-dasharray:9.6,2.4,1.5,2.4;stroke-dashoffset:0;stroke-width:1.5;\"/>\n   </g>\n   <g id=\"line2d_124\">\n    <path clip-path=\"url(#pc657dd9811)\" d=\"M 34.954394 67.016472 \nL 44.698573 100.178395 \nL 54.442752 110.609038 \nL 64.186931 113.401484 \nL 73.93111 118.062413 \nL 83.675289 119.747829 \nL 93.419468 123.846378 \nL 103.163647 123.168062 \nL 112.907826 126.706055 \nL 122.652006 126.703442 \nL 132.396185 129.492018 \nL 142.140364 128.462723 \nL 151.884543 131.596492 \nL 161.628722 132.033048 \nL 171.372901 133.506534 \nL 181.11708 133.19233 \nL 190.861259 135.525842 \nL 200.605438 134.523669 \nL 210.349618 136.922727 \nL 220.093797 136.077145 \n\" style=\"fill:none;stroke:#1f77b4;stroke-linecap:square;stroke-width:1.5;\"/>\n   </g>\n   <g id=\"line2d_125\">\n    <path clip-path=\"url(#pc657dd9811)\" d=\"M 49.633125 102.944507 \nL 69.163125 107.984306 \nL 88.693125 115.297419 \nL 108.223125 113.705134 \nL 127.753125 116.558008 \nL 147.283125 109.692653 \nL 166.813125 113.379759 \nL 186.343125 115.877195 \nL 205.873125 116.452862 \nL 225.403125 93.39535 \n\" style=\"fill:none;stroke:#ff7f0e;stroke-dasharray:5.55,2.4;stroke-dashoffset:0;stroke-width:1.5;\"/>\n   </g>\n   <g id=\"line2d_126\">\n    <path clip-path=\"url(#pc657dd9811)\" d=\"M 49.633125 18.050796 \nL 69.163125 16.822851 \nL 88.693125 14.14703 \nL 108.223125 14.311977 \nL 127.753125 13.377273 \nL 147.283125 16.30968 \nL 166.813125 14.971769 \nL 186.343125 13.633858 \nL 205.873125 13.377273 \nL 225.403125 21.67965 \n\" style=\"fill:none;stroke:#2ca02c;stroke-dasharray:9.6,2.4,1.5,2.4;stroke-dashoffset:0;stroke-width:1.5;\"/>\n   </g>\n   <g id=\"patch_3\">\n    <path d=\"M 30.103125 143.1 \nL 30.103125 7.2 \n\" style=\"fill:none;stroke:#000000;stroke-linecap:square;stroke-linejoin:miter;stroke-width:0.8;\"/>\n   </g>\n   <g id=\"patch_4\">\n    <path d=\"M 225.403125 143.1 \nL 225.403125 7.2 \n\" style=\"fill:none;stroke:#000000;stroke-linecap:square;stroke-linejoin:miter;stroke-width:0.8;\"/>\n   </g>\n   <g id=\"patch_5\">\n    <path d=\"M 30.103125 143.1 \nL 225.403125 143.1 \n\" style=\"fill:none;stroke:#000000;stroke-linecap:square;stroke-linejoin:miter;stroke-width:0.8;\"/>\n   </g>\n   <g id=\"patch_6\">\n    <path d=\"M 30.103125 7.2 \nL 225.403125 7.2 \n\" style=\"fill:none;stroke:#000000;stroke-linecap:square;stroke-linejoin:miter;stroke-width:0.8;\"/>\n   </g>\n   <g id=\"legend_1\">\n    <g id=\"patch_7\">\n     <path d=\"M 138.8125 99.084375 \nL 218.403125 99.084375 \nQ 220.403125 99.084375 220.403125 97.084375 \nL 220.403125 53.215625 \nQ 220.403125 51.215625 218.403125 51.215625 \nL 138.8125 51.215625 \nQ 136.8125 51.215625 136.8125 53.215625 \nL 136.8125 97.084375 \nQ 136.8125 99.084375 138.8125 99.084375 \nz\n\" style=\"fill:#ffffff;opacity:0.8;stroke:#cccccc;stroke-linejoin:miter;\"/>\n    </g>\n    <g id=\"line2d_127\">\n     <path d=\"M 140.8125 59.314062 \nL 160.8125 59.314062 \n\" style=\"fill:none;stroke:#1f77b4;stroke-linecap:square;stroke-width:1.5;\"/>\n    </g>\n    <g id=\"line2d_128\"/>\n    <g id=\"text_12\">\n     <!-- train_loss -->\n     <defs>\n      <path d=\"M 18.3125 70.21875 \nL 18.3125 54.6875 \nL 36.8125 54.6875 \nL 36.8125 47.703125 \nL 18.3125 47.703125 \nL 18.3125 18.015625 \nQ 18.3125 11.328125 20.140625 9.421875 \nQ 21.96875 7.515625 27.59375 7.515625 \nL 36.8125 7.515625 \nL 36.8125 0 \nL 27.59375 0 \nQ 17.1875 0 13.234375 3.875 \nQ 9.28125 7.765625 9.28125 18.015625 \nL 9.28125 47.703125 \nL 2.6875 47.703125 \nL 2.6875 54.6875 \nL 9.28125 54.6875 \nL 9.28125 70.21875 \nz\n\" id=\"DejaVuSans-116\"/>\n      <path d=\"M 41.109375 46.296875 \nQ 39.59375 47.171875 37.8125 47.578125 \nQ 36.03125 48 33.890625 48 \nQ 26.265625 48 22.1875 43.046875 \nQ 18.109375 38.09375 18.109375 28.8125 \nL 18.109375 0 \nL 9.078125 0 \nL 9.078125 54.6875 \nL 18.109375 54.6875 \nL 18.109375 46.1875 \nQ 20.953125 51.171875 25.484375 53.578125 \nQ 30.03125 56 36.53125 56 \nQ 37.453125 56 38.578125 55.875 \nQ 39.703125 55.765625 41.0625 55.515625 \nz\n\" id=\"DejaVuSans-114\"/>\n      <path d=\"M 34.28125 27.484375 \nQ 23.390625 27.484375 19.1875 25 \nQ 14.984375 22.515625 14.984375 16.5 \nQ 14.984375 11.71875 18.140625 8.90625 \nQ 21.296875 6.109375 26.703125 6.109375 \nQ 34.1875 6.109375 38.703125 11.40625 \nQ 43.21875 16.703125 43.21875 25.484375 \nL 43.21875 27.484375 \nz\nM 52.203125 31.203125 \nL 52.203125 0 \nL 43.21875 0 \nL 43.21875 8.296875 \nQ 40.140625 3.328125 35.546875 0.953125 \nQ 30.953125 -1.421875 24.3125 -1.421875 \nQ 15.921875 -1.421875 10.953125 3.296875 \nQ 6 8.015625 6 15.921875 \nQ 6 25.140625 12.171875 29.828125 \nQ 18.359375 34.515625 30.609375 34.515625 \nL 43.21875 34.515625 \nL 43.21875 35.40625 \nQ 43.21875 41.609375 39.140625 45 \nQ 35.0625 48.390625 27.6875 48.390625 \nQ 23 48.390625 18.546875 47.265625 \nQ 14.109375 46.140625 10.015625 43.890625 \nL 10.015625 52.203125 \nQ 14.9375 54.109375 19.578125 55.046875 \nQ 24.21875 56 28.609375 56 \nQ 40.484375 56 46.34375 49.84375 \nQ 52.203125 43.703125 52.203125 31.203125 \nz\n\" id=\"DejaVuSans-97\"/>\n      <path d=\"M 9.421875 54.6875 \nL 18.40625 54.6875 \nL 18.40625 0 \nL 9.421875 0 \nz\nM 9.421875 75.984375 \nL 18.40625 75.984375 \nL 18.40625 64.59375 \nL 9.421875 64.59375 \nz\n\" id=\"DejaVuSans-105\"/>\n      <path d=\"M 54.890625 33.015625 \nL 54.890625 0 \nL 45.90625 0 \nL 45.90625 32.71875 \nQ 45.90625 40.484375 42.875 44.328125 \nQ 39.84375 48.1875 33.796875 48.1875 \nQ 26.515625 48.1875 22.3125 43.546875 \nQ 18.109375 38.921875 18.109375 30.90625 \nL 18.109375 0 \nL 9.078125 0 \nL 9.078125 54.6875 \nL 18.109375 54.6875 \nL 18.109375 46.1875 \nQ 21.34375 51.125 25.703125 53.5625 \nQ 30.078125 56 35.796875 56 \nQ 45.21875 56 50.046875 50.171875 \nQ 54.890625 44.34375 54.890625 33.015625 \nz\n\" id=\"DejaVuSans-110\"/>\n      <path d=\"M 50.984375 -16.609375 \nL 50.984375 -23.578125 \nL -0.984375 -23.578125 \nL -0.984375 -16.609375 \nz\n\" id=\"DejaVuSans-95\"/>\n      <path d=\"M 9.421875 75.984375 \nL 18.40625 75.984375 \nL 18.40625 0 \nL 9.421875 0 \nz\n\" id=\"DejaVuSans-108\"/>\n      <path d=\"M 44.28125 53.078125 \nL 44.28125 44.578125 \nQ 40.484375 46.53125 36.375 47.5 \nQ 32.28125 48.484375 27.875 48.484375 \nQ 21.1875 48.484375 17.84375 46.4375 \nQ 14.5 44.390625 14.5 40.28125 \nQ 14.5 37.15625 16.890625 35.375 \nQ 19.28125 33.59375 26.515625 31.984375 \nL 29.59375 31.296875 \nQ 39.15625 29.25 43.1875 25.515625 \nQ 47.21875 21.78125 47.21875 15.09375 \nQ 47.21875 7.46875 41.1875 3.015625 \nQ 35.15625 -1.421875 24.609375 -1.421875 \nQ 20.21875 -1.421875 15.453125 -0.5625 \nQ 10.6875 0.296875 5.421875 2 \nL 5.421875 11.28125 \nQ 10.40625 8.6875 15.234375 7.390625 \nQ 20.0625 6.109375 24.8125 6.109375 \nQ 31.15625 6.109375 34.5625 8.28125 \nQ 37.984375 10.453125 37.984375 14.40625 \nQ 37.984375 18.0625 35.515625 20.015625 \nQ 33.0625 21.96875 24.703125 23.78125 \nL 21.578125 24.515625 \nQ 13.234375 26.265625 9.515625 29.90625 \nQ 5.8125 33.546875 5.8125 39.890625 \nQ 5.8125 47.609375 11.28125 51.796875 \nQ 16.75 56 26.8125 56 \nQ 31.78125 56 36.171875 55.265625 \nQ 40.578125 54.546875 44.28125 53.078125 \nz\n\" id=\"DejaVuSans-115\"/>\n     </defs>\n     <g transform=\"translate(168.8125 62.814062)scale(0.1 -0.1)\">\n      <use xlink:href=\"#DejaVuSans-116\"/>\n      <use x=\"39.208984\" xlink:href=\"#DejaVuSans-114\"/>\n      <use x=\"80.322266\" xlink:href=\"#DejaVuSans-97\"/>\n      <use x=\"141.601562\" xlink:href=\"#DejaVuSans-105\"/>\n      <use x=\"169.384766\" xlink:href=\"#DejaVuSans-110\"/>\n      <use x=\"232.763672\" xlink:href=\"#DejaVuSans-95\"/>\n      <use x=\"282.763672\" xlink:href=\"#DejaVuSans-108\"/>\n      <use x=\"310.546875\" xlink:href=\"#DejaVuSans-111\"/>\n      <use x=\"371.728516\" xlink:href=\"#DejaVuSans-115\"/>\n      <use x=\"423.828125\" xlink:href=\"#DejaVuSans-115\"/>\n     </g>\n    </g>\n    <g id=\"line2d_129\">\n     <path d=\"M 140.8125 74.270312 \nL 160.8125 74.270312 \n\" style=\"fill:none;stroke:#ff7f0e;stroke-dasharray:5.55,2.4;stroke-dashoffset:0;stroke-width:1.5;\"/>\n    </g>\n    <g id=\"line2d_130\"/>\n    <g id=\"text_13\">\n     <!-- val_loss -->\n     <defs>\n      <path d=\"M 2.984375 54.6875 \nL 12.5 54.6875 \nL 29.59375 8.796875 \nL 46.6875 54.6875 \nL 56.203125 54.6875 \nL 35.6875 0 \nL 23.484375 0 \nz\n\" id=\"DejaVuSans-118\"/>\n     </defs>\n     <g transform=\"translate(168.8125 77.770312)scale(0.1 -0.1)\">\n      <use xlink:href=\"#DejaVuSans-118\"/>\n      <use x=\"59.179688\" xlink:href=\"#DejaVuSans-97\"/>\n      <use x=\"120.458984\" xlink:href=\"#DejaVuSans-108\"/>\n      <use x=\"148.242188\" xlink:href=\"#DejaVuSans-95\"/>\n      <use x=\"198.242188\" xlink:href=\"#DejaVuSans-108\"/>\n      <use x=\"226.025391\" xlink:href=\"#DejaVuSans-111\"/>\n      <use x=\"287.207031\" xlink:href=\"#DejaVuSans-115\"/>\n      <use x=\"339.306641\" xlink:href=\"#DejaVuSans-115\"/>\n     </g>\n    </g>\n    <g id=\"line2d_131\">\n     <path d=\"M 140.8125 89.226562 \nL 160.8125 89.226562 \n\" style=\"fill:none;stroke:#2ca02c;stroke-dasharray:9.6,2.4,1.5,2.4;stroke-dashoffset:0;stroke-width:1.5;\"/>\n    </g>\n    <g id=\"line2d_132\"/>\n    <g id=\"text_14\">\n     <!-- val_acc -->\n     <g transform=\"translate(168.8125 92.726562)scale(0.1 -0.1)\">\n      <use xlink:href=\"#DejaVuSans-118\"/>\n      <use x=\"59.179688\" xlink:href=\"#DejaVuSans-97\"/>\n      <use x=\"120.458984\" xlink:href=\"#DejaVuSans-108\"/>\n      <use x=\"148.242188\" xlink:href=\"#DejaVuSans-95\"/>\n      <use x=\"198.242188\" xlink:href=\"#DejaVuSans-97\"/>\n      <use x=\"259.521484\" xlink:href=\"#DejaVuSans-99\"/>\n      <use x=\"314.501953\" xlink:href=\"#DejaVuSans-99\"/>\n     </g>\n    </g>\n   </g>\n  </g>\n </g>\n <defs>\n  <clipPath id=\"pc657dd9811\">\n   <rect height=\"135.9\" width=\"195.3\" x=\"30.103125\" y=\"7.2\"/>\n  </clipPath>\n </defs>\n</svg>\n"
          },
          "metadata": {
            "needs_background": "light"
          }
        }
      ]
    },
    {
      "cell_type": "markdown",
      "source": [
        "### Q2:"
      ],
      "metadata": {
        "id": "6cXw3GqWJtzC"
      }
    },
    {
      "cell_type": "code",
      "source": [
        "#@title DataSets\n",
        "train_set = torchvision.datasets.FashionMNIST(\n",
        "    root='./data',\n",
        "    train=True,\n",
        "    download=True,\n",
        "    transform=transforms.ToTensor()\n",
        ")\n",
        "\n",
        "test_set = torchvision.datasets.FashionMNIST(\n",
        "    root='./data',\n",
        "    train=False,\n",
        "    download=True,\n",
        "    transform=transforms.ToTensor()\n",
        ")"
      ],
      "metadata": {
        "cellView": "form",
        "id": "Pifj8je5JsQR"
      },
      "execution_count": null,
      "outputs": []
    },
    {
      "cell_type": "code",
      "source": [
        "#@title Data Loaders\n",
        "train_loader = torch.utils.data.DataLoader(dataset=train_set,\n",
        "                                           shuffle=True,\n",
        "                                           batch_size=128)\n",
        "\n",
        "test_loader = torch.utils.data.DataLoader(dataset=test_set,\n",
        "                                           shuffle=False,\n",
        "                                           batch_size=128)"
      ],
      "metadata": {
        "cellView": "form",
        "id": "fx2_iAAnKY1k"
      },
      "execution_count": 10,
      "outputs": []
    },
    {
      "cell_type": "code",
      "source": [
        "#@title Init CNN\n",
        "def init_cnn(module):\n",
        "  if type(module) == nn.Linear or type(module) == nn.Conv2d:\n",
        "    nn.init.xavier_uniform_(module.weight)"
      ],
      "metadata": {
        "cellView": "form",
        "id": "l3nJTr9VL-1J"
      },
      "execution_count": 11,
      "outputs": []
    },
    {
      "cell_type": "code",
      "source": [
        "#@title LeNet without Batch Norm\n",
        "class LeNet(nn.Module):\n",
        "\n",
        "  # without batch_norm\n",
        "  def __init__(self, lr=0.01, num_classes=10):\n",
        "    super().__init__()\n",
        "    self.lr = lr\n",
        "    self.num_classes = num_classes\n",
        "    self.net = nn.Sequential(\n",
        "        nn.LazyConv2d(6, kernel_size=5), nn.ReLU(), \n",
        "        nn.MaxPool2d(kernel_size=2, stride=2),\n",
        "        nn.LazyConv2d(16, kernel_size=5), nn.ReLU(),\n",
        "        nn.MaxPool2d(kernel_size=2, stride=2),\n",
        "        nn.Flatten(),\n",
        "        nn.LazyLinear(120), nn.ReLU(),\n",
        "        nn.LazyLinear(84), nn.ReLU(),\n",
        "        nn.LazyLinear(num_classes)\n",
        "    )\n",
        "\n",
        "  def forward(self, X):\n",
        "    return self.net(X)\n",
        "\n",
        "  def apply_init(self, inputs, init=None):\n",
        "    self.forward(*inputs)\n",
        "    if init is not None:\n",
        "      self.net.apply(init)"
      ],
      "metadata": {
        "cellView": "form",
        "id": "pAWRaFKfKkhH"
      },
      "execution_count": 12,
      "outputs": []
    },
    {
      "cell_type": "code",
      "source": [
        "#@title Trainer Class\n",
        "class Trainer():\n",
        "\n",
        "  def __init__(self, num_epochs):\n",
        "    self.num_epochs = num_epochs\n",
        "\n",
        "  def fit(self, model, loader):\n",
        "\n",
        "    optimizer = torch.optim.SGD(model.parameters(), model.lr)\n",
        "    criterion = nn.CrossEntropyLoss()\n",
        "    \n",
        "    # training loop : \n",
        "    for epoch in range(self.num_epochs):\n",
        "      for i, (features, targets) in enumerate(loader):\n",
        "\n",
        "        outputs = model(features)\n",
        "        loss = criterion(outputs, targets)\n",
        "\n",
        "        optimizer.zero_grad()\n",
        "        loss.backward()\n",
        "        optimizer.step()"
      ],
      "metadata": {
        "cellView": "form",
        "id": "GcePjW6rMcri"
      },
      "execution_count": 13,
      "outputs": []
    },
    {
      "cell_type": "code",
      "source": [
        "#@title Accuracy Function\n",
        "def acc_model(model, loader):\n",
        "\n",
        "  with torch.no_grad():\n",
        "    n_samples = 0\n",
        "    n_correct = 0\n",
        "    for features, targets in loader:\n",
        "      outputs = model(features)\n",
        "      _, preds = torch.max(outputs, 1)\n",
        "      n_samples += targets.shape[0]\n",
        "      n_correct += (preds == targets).sum().item()\n",
        "\n",
        "  acc = 100 * n_correct / n_samples\n",
        "  return acc"
      ],
      "metadata": {
        "cellView": "form",
        "id": "sjIh67zaMwZi"
      },
      "execution_count": 14,
      "outputs": []
    },
    {
      "cell_type": "markdown",
      "source": [
        "first let's find the optimum learning rate for LeNet without batch norm:\n",
        "\n",
        "took 19min 41seconds to train\n",
        "\n",
        "lr = 0.1 is good"
      ],
      "metadata": {
        "id": "rMgrhCThMWY7"
      }
    },
    {
      "cell_type": "code",
      "source": [
        "lr_list = [0.01, 0.03, 0.05, 0.07, 0.1, 0.2, 0.3, 0.4, 0.5]\n",
        "acc_list = []\n",
        "\n",
        "for lr in lr_list:\n",
        "  model = LeNet(lr=lr)\n",
        "  trainer = Trainer(num_epochs=10)\n",
        "  model.apply_init([next(iter(train_loader))[0]], init_cnn)\n",
        "  trainer.fit(model, train_loader)\n",
        "  acc_list.append(acc_model(model, test_loader))"
      ],
      "metadata": {
        "colab": {
          "base_uri": "https://localhost:8080/"
        },
        "id": "srt0X3e2L9oN",
        "outputId": "3c36d2a6-6f15-4e13-a17f-e67a6bddbd26"
      },
      "execution_count": 50,
      "outputs": [
        {
          "output_type": "stream",
          "name": "stderr",
          "text": [
            "/usr/local/lib/python3.8/dist-packages/torch/nn/modules/lazy.py:180: UserWarning: Lazy modules are a new feature under heavy development so changes to the API or functionality can happen at any moment.\n",
            "  warnings.warn('Lazy modules are a new feature under heavy development '\n"
          ]
        }
      ]
    },
    {
      "cell_type": "code",
      "source": [
        "import matplotlib.pyplot as plt\n",
        "from matplotlib import rcParams, cycler\n",
        "\n",
        "rcParams['figure.figsize'] = 16, 8\n",
        "rcParams['lines.linewidth'] = 2.5\n",
        "rcParams['axes.prop_cycle'] = cycler(color = ['#424242'])\n",
        "rcParams['xtick.labelsize'] = 'xx-large'\n",
        "rcParams['ytick.labelsize'] = 'xx-large'"
      ],
      "metadata": {
        "id": "imeHdGqsNen8"
      },
      "execution_count": 15,
      "outputs": []
    },
    {
      "cell_type": "code",
      "source": [
        "acc_list"
      ],
      "metadata": {
        "colab": {
          "base_uri": "https://localhost:8080/"
        },
        "id": "3P1g669eU8r5",
        "outputId": "ee7631d4-af2c-42d2-b5d5-d22c8e99abf9"
      },
      "execution_count": 55,
      "outputs": [
        {
          "output_type": "execute_result",
          "data": {
            "text/plain": [
              "[82.11, 85.88, 86.95, 87.39, 87.99, 88.07, 88.69, 87.75, 10.0]"
            ]
          },
          "metadata": {},
          "execution_count": 55
        }
      ]
    },
    {
      "cell_type": "code",
      "source": [
        "plt.plot(lr_list, acc_list, 'r-')\n",
        "plt.xticks(lr_list, lr_list)\n",
        "plt.grid();"
      ],
      "metadata": {
        "colab": {
          "base_uri": "https://localhost:8080/",
          "height": 652
        },
        "id": "FL_Cp6hpUXOS",
        "outputId": "ab5651f8-0129-4278-e438-aff3dfec5db5"
      },
      "execution_count": 57,
      "outputs": [
        {
          "output_type": "display_data",
          "data": {
            "text/plain": [
              "<Figure size 1152x576 with 1 Axes>"
            ],
            "image/svg+xml": "<?xml version=\"1.0\" encoding=\"utf-8\" standalone=\"no\"?>\n<!DOCTYPE svg PUBLIC \"-//W3C//DTD SVG 1.1//EN\"\n  \"http://www.w3.org/Graphics/SVG/1.1/DTD/svg11.dtd\">\n<!-- Created with matplotlib (https://matplotlib.org/) -->\n<svg height=\"473.0038pt\" version=\"1.1\" viewBox=\"0 0 936.1888 473.0038\" width=\"936.1888pt\" xmlns=\"http://www.w3.org/2000/svg\" xmlns:xlink=\"http://www.w3.org/1999/xlink\">\n <defs>\n  <style type=\"text/css\">\n*{stroke-linecap:butt;stroke-linejoin:round;}\n  </style>\n </defs>\n <g id=\"figure_1\">\n  <g id=\"patch_1\">\n   <path d=\"M 0 473.0038 \nL 936.1888 473.0038 \nL 936.1888 0 \nL 0 0 \nz\n\" style=\"fill:none;\"/>\n  </g>\n  <g id=\"axes_1\">\n   <g id=\"patch_2\">\n    <path d=\"M 36.1888 442.08 \nL 928.9888 442.08 \nL 928.9888 7.2 \nL 36.1888 7.2 \nz\n\" style=\"fill:#ffffff;\"/>\n   </g>\n   <g id=\"matplotlib.axis_1\">\n    <g id=\"xtick_1\">\n     <g id=\"line2d_1\">\n      <path clip-path=\"url(#p0fc448f019)\" d=\"M 76.770618 442.08 \nL 76.770618 7.2 \n\" style=\"fill:none;stroke:#b0b0b0;stroke-linecap:square;stroke-width:0.8;\"/>\n     </g>\n     <g id=\"line2d_2\">\n      <defs>\n       <path d=\"M 0 0 \nL 0 3.5 \n\" id=\"m913c72e940\" style=\"stroke:#000000;stroke-width:0.8;\"/>\n      </defs>\n      <g>\n       <use style=\"stroke:#000000;stroke-width:0.8;\" x=\"76.770618\" xlink:href=\"#m913c72e940\" y=\"442.08\"/>\n      </g>\n     </g>\n     <g id=\"text_1\">\n      <!-- 0.01 -->\n      <defs>\n       <path d=\"M 31.78125 66.40625 \nQ 24.171875 66.40625 20.328125 58.90625 \nQ 16.5 51.421875 16.5 36.375 \nQ 16.5 21.390625 20.328125 13.890625 \nQ 24.171875 6.390625 31.78125 6.390625 \nQ 39.453125 6.390625 43.28125 13.890625 \nQ 47.125 21.390625 47.125 36.375 \nQ 47.125 51.421875 43.28125 58.90625 \nQ 39.453125 66.40625 31.78125 66.40625 \nz\nM 31.78125 74.21875 \nQ 44.046875 74.21875 50.515625 64.515625 \nQ 56.984375 54.828125 56.984375 36.375 \nQ 56.984375 17.96875 50.515625 8.265625 \nQ 44.046875 -1.421875 31.78125 -1.421875 \nQ 19.53125 -1.421875 13.0625 8.265625 \nQ 6.59375 17.96875 6.59375 36.375 \nQ 6.59375 54.828125 13.0625 64.515625 \nQ 19.53125 74.21875 31.78125 74.21875 \nz\n\" id=\"DejaVuSans-48\"/>\n       <path d=\"M 10.6875 12.40625 \nL 21 12.40625 \nL 21 0 \nL 10.6875 0 \nz\n\" id=\"DejaVuSans-46\"/>\n       <path d=\"M 12.40625 8.296875 \nL 28.515625 8.296875 \nL 28.515625 63.921875 \nL 10.984375 60.40625 \nL 10.984375 69.390625 \nL 28.421875 72.90625 \nL 38.28125 72.90625 \nL 38.28125 8.296875 \nL 54.390625 8.296875 \nL 54.390625 0 \nL 12.40625 0 \nz\n\" id=\"DejaVuSans-49\"/>\n      </defs>\n      <g transform=\"translate(57.533118 462.2101)scale(0.1728 -0.1728)\">\n       <use xlink:href=\"#DejaVuSans-48\"/>\n       <use x=\"63.623047\" xlink:href=\"#DejaVuSans-46\"/>\n       <use x=\"95.410156\" xlink:href=\"#DejaVuSans-48\"/>\n       <use x=\"159.033203\" xlink:href=\"#DejaVuSans-49\"/>\n      </g>\n     </g>\n    </g>\n    <g id=\"xtick_2\">\n     <g id=\"line2d_3\">\n      <path clip-path=\"url(#p0fc448f019)\" d=\"M 109.898633 442.08 \nL 109.898633 7.2 \n\" style=\"fill:none;stroke:#b0b0b0;stroke-linecap:square;stroke-width:0.8;\"/>\n     </g>\n     <g id=\"line2d_4\">\n      <g>\n       <use style=\"stroke:#000000;stroke-width:0.8;\" x=\"109.898633\" xlink:href=\"#m913c72e940\" y=\"442.08\"/>\n      </g>\n     </g>\n     <g id=\"text_2\">\n      <!-- 0.03 -->\n      <defs>\n       <path d=\"M 40.578125 39.3125 \nQ 47.65625 37.796875 51.625 33 \nQ 55.609375 28.21875 55.609375 21.1875 \nQ 55.609375 10.40625 48.1875 4.484375 \nQ 40.765625 -1.421875 27.09375 -1.421875 \nQ 22.515625 -1.421875 17.65625 -0.515625 \nQ 12.796875 0.390625 7.625 2.203125 \nL 7.625 11.71875 \nQ 11.71875 9.328125 16.59375 8.109375 \nQ 21.484375 6.890625 26.8125 6.890625 \nQ 36.078125 6.890625 40.9375 10.546875 \nQ 45.796875 14.203125 45.796875 21.1875 \nQ 45.796875 27.640625 41.28125 31.265625 \nQ 36.765625 34.90625 28.71875 34.90625 \nL 20.21875 34.90625 \nL 20.21875 43.015625 \nL 29.109375 43.015625 \nQ 36.375 43.015625 40.234375 45.921875 \nQ 44.09375 48.828125 44.09375 54.296875 \nQ 44.09375 59.90625 40.109375 62.90625 \nQ 36.140625 65.921875 28.71875 65.921875 \nQ 24.65625 65.921875 20.015625 65.03125 \nQ 15.375 64.15625 9.8125 62.3125 \nL 9.8125 71.09375 \nQ 15.4375 72.65625 20.34375 73.4375 \nQ 25.25 74.21875 29.59375 74.21875 \nQ 40.828125 74.21875 47.359375 69.109375 \nQ 53.90625 64.015625 53.90625 55.328125 \nQ 53.90625 49.265625 50.4375 45.09375 \nQ 46.96875 40.921875 40.578125 39.3125 \nz\n\" id=\"DejaVuSans-51\"/>\n      </defs>\n      <g transform=\"translate(90.661133 462.2101)scale(0.1728 -0.1728)\">\n       <use xlink:href=\"#DejaVuSans-48\"/>\n       <use x=\"63.623047\" xlink:href=\"#DejaVuSans-46\"/>\n       <use x=\"95.410156\" xlink:href=\"#DejaVuSans-48\"/>\n       <use x=\"159.033203\" xlink:href=\"#DejaVuSans-51\"/>\n      </g>\n     </g>\n    </g>\n    <g id=\"xtick_3\">\n     <g id=\"line2d_5\">\n      <path clip-path=\"url(#p0fc448f019)\" d=\"M 143.026648 442.08 \nL 143.026648 7.2 \n\" style=\"fill:none;stroke:#b0b0b0;stroke-linecap:square;stroke-width:0.8;\"/>\n     </g>\n     <g id=\"line2d_6\">\n      <g>\n       <use style=\"stroke:#000000;stroke-width:0.8;\" x=\"143.026648\" xlink:href=\"#m913c72e940\" y=\"442.08\"/>\n      </g>\n     </g>\n     <g id=\"text_3\">\n      <!-- 0.05 -->\n      <defs>\n       <path d=\"M 10.796875 72.90625 \nL 49.515625 72.90625 \nL 49.515625 64.59375 \nL 19.828125 64.59375 \nL 19.828125 46.734375 \nQ 21.96875 47.46875 24.109375 47.828125 \nQ 26.265625 48.1875 28.421875 48.1875 \nQ 40.625 48.1875 47.75 41.5 \nQ 54.890625 34.8125 54.890625 23.390625 \nQ 54.890625 11.625 47.5625 5.09375 \nQ 40.234375 -1.421875 26.90625 -1.421875 \nQ 22.3125 -1.421875 17.546875 -0.640625 \nQ 12.796875 0.140625 7.71875 1.703125 \nL 7.71875 11.625 \nQ 12.109375 9.234375 16.796875 8.0625 \nQ 21.484375 6.890625 26.703125 6.890625 \nQ 35.15625 6.890625 40.078125 11.328125 \nQ 45.015625 15.765625 45.015625 23.390625 \nQ 45.015625 31 40.078125 35.4375 \nQ 35.15625 39.890625 26.703125 39.890625 \nQ 22.75 39.890625 18.8125 39.015625 \nQ 14.890625 38.140625 10.796875 36.28125 \nz\n\" id=\"DejaVuSans-53\"/>\n      </defs>\n      <g transform=\"translate(123.789148 462.2101)scale(0.1728 -0.1728)\">\n       <use xlink:href=\"#DejaVuSans-48\"/>\n       <use x=\"63.623047\" xlink:href=\"#DejaVuSans-46\"/>\n       <use x=\"95.410156\" xlink:href=\"#DejaVuSans-48\"/>\n       <use x=\"159.033203\" xlink:href=\"#DejaVuSans-53\"/>\n      </g>\n     </g>\n    </g>\n    <g id=\"xtick_4\">\n     <g id=\"line2d_7\">\n      <path clip-path=\"url(#p0fc448f019)\" d=\"M 176.154663 442.08 \nL 176.154663 7.2 \n\" style=\"fill:none;stroke:#b0b0b0;stroke-linecap:square;stroke-width:0.8;\"/>\n     </g>\n     <g id=\"line2d_8\">\n      <g>\n       <use style=\"stroke:#000000;stroke-width:0.8;\" x=\"176.154663\" xlink:href=\"#m913c72e940\" y=\"442.08\"/>\n      </g>\n     </g>\n     <g id=\"text_4\">\n      <!-- 0.07 -->\n      <defs>\n       <path d=\"M 8.203125 72.90625 \nL 55.078125 72.90625 \nL 55.078125 68.703125 \nL 28.609375 0 \nL 18.3125 0 \nL 43.21875 64.59375 \nL 8.203125 64.59375 \nz\n\" id=\"DejaVuSans-55\"/>\n      </defs>\n      <g transform=\"translate(156.917163 462.2101)scale(0.1728 -0.1728)\">\n       <use xlink:href=\"#DejaVuSans-48\"/>\n       <use x=\"63.623047\" xlink:href=\"#DejaVuSans-46\"/>\n       <use x=\"95.410156\" xlink:href=\"#DejaVuSans-48\"/>\n       <use x=\"159.033203\" xlink:href=\"#DejaVuSans-55\"/>\n      </g>\n     </g>\n    </g>\n    <g id=\"xtick_5\">\n     <g id=\"line2d_9\">\n      <path clip-path=\"url(#p0fc448f019)\" d=\"M 225.846685 442.08 \nL 225.846685 7.2 \n\" style=\"fill:none;stroke:#b0b0b0;stroke-linecap:square;stroke-width:0.8;\"/>\n     </g>\n     <g id=\"line2d_10\">\n      <g>\n       <use style=\"stroke:#000000;stroke-width:0.8;\" x=\"225.846685\" xlink:href=\"#m913c72e940\" y=\"442.08\"/>\n      </g>\n     </g>\n     <g id=\"text_5\">\n      <!-- 0.1 -->\n      <g transform=\"translate(212.106385 462.2101)scale(0.1728 -0.1728)\">\n       <use xlink:href=\"#DejaVuSans-48\"/>\n       <use x=\"63.623047\" xlink:href=\"#DejaVuSans-46\"/>\n       <use x=\"95.410156\" xlink:href=\"#DejaVuSans-49\"/>\n      </g>\n     </g>\n    </g>\n    <g id=\"xtick_6\">\n     <g id=\"line2d_11\">\n      <path clip-path=\"url(#p0fc448f019)\" d=\"M 391.486759 442.08 \nL 391.486759 7.2 \n\" style=\"fill:none;stroke:#b0b0b0;stroke-linecap:square;stroke-width:0.8;\"/>\n     </g>\n     <g id=\"line2d_12\">\n      <g>\n       <use style=\"stroke:#000000;stroke-width:0.8;\" x=\"391.486759\" xlink:href=\"#m913c72e940\" y=\"442.08\"/>\n      </g>\n     </g>\n     <g id=\"text_6\">\n      <!-- 0.2 -->\n      <defs>\n       <path d=\"M 19.1875 8.296875 \nL 53.609375 8.296875 \nL 53.609375 0 \nL 7.328125 0 \nL 7.328125 8.296875 \nQ 12.9375 14.109375 22.625 23.890625 \nQ 32.328125 33.6875 34.8125 36.53125 \nQ 39.546875 41.84375 41.421875 45.53125 \nQ 43.3125 49.21875 43.3125 52.78125 \nQ 43.3125 58.59375 39.234375 62.25 \nQ 35.15625 65.921875 28.609375 65.921875 \nQ 23.96875 65.921875 18.8125 64.3125 \nQ 13.671875 62.703125 7.8125 59.421875 \nL 7.8125 69.390625 \nQ 13.765625 71.78125 18.9375 73 \nQ 24.125 74.21875 28.421875 74.21875 \nQ 39.75 74.21875 46.484375 68.546875 \nQ 53.21875 62.890625 53.21875 53.421875 \nQ 53.21875 48.921875 51.53125 44.890625 \nQ 49.859375 40.875 45.40625 35.40625 \nQ 44.1875 33.984375 37.640625 27.21875 \nQ 31.109375 20.453125 19.1875 8.296875 \nz\n\" id=\"DejaVuSans-50\"/>\n      </defs>\n      <g transform=\"translate(377.746459 462.2101)scale(0.1728 -0.1728)\">\n       <use xlink:href=\"#DejaVuSans-48\"/>\n       <use x=\"63.623047\" xlink:href=\"#DejaVuSans-46\"/>\n       <use x=\"95.410156\" xlink:href=\"#DejaVuSans-50\"/>\n      </g>\n     </g>\n    </g>\n    <g id=\"xtick_7\">\n     <g id=\"line2d_13\">\n      <path clip-path=\"url(#p0fc448f019)\" d=\"M 557.126833 442.08 \nL 557.126833 7.2 \n\" style=\"fill:none;stroke:#b0b0b0;stroke-linecap:square;stroke-width:0.8;\"/>\n     </g>\n     <g id=\"line2d_14\">\n      <g>\n       <use style=\"stroke:#000000;stroke-width:0.8;\" x=\"557.126833\" xlink:href=\"#m913c72e940\" y=\"442.08\"/>\n      </g>\n     </g>\n     <g id=\"text_7\">\n      <!-- 0.3 -->\n      <g transform=\"translate(543.386533 462.2101)scale(0.1728 -0.1728)\">\n       <use xlink:href=\"#DejaVuSans-48\"/>\n       <use x=\"63.623047\" xlink:href=\"#DejaVuSans-46\"/>\n       <use x=\"95.410156\" xlink:href=\"#DejaVuSans-51\"/>\n      </g>\n     </g>\n    </g>\n    <g id=\"xtick_8\">\n     <g id=\"line2d_15\">\n      <path clip-path=\"url(#p0fc448f019)\" d=\"M 722.766908 442.08 \nL 722.766908 7.2 \n\" style=\"fill:none;stroke:#b0b0b0;stroke-linecap:square;stroke-width:0.8;\"/>\n     </g>\n     <g id=\"line2d_16\">\n      <g>\n       <use style=\"stroke:#000000;stroke-width:0.8;\" x=\"722.766908\" xlink:href=\"#m913c72e940\" y=\"442.08\"/>\n      </g>\n     </g>\n     <g id=\"text_8\">\n      <!-- 0.4 -->\n      <defs>\n       <path d=\"M 37.796875 64.3125 \nL 12.890625 25.390625 \nL 37.796875 25.390625 \nz\nM 35.203125 72.90625 \nL 47.609375 72.90625 \nL 47.609375 25.390625 \nL 58.015625 25.390625 \nL 58.015625 17.1875 \nL 47.609375 17.1875 \nL 47.609375 0 \nL 37.796875 0 \nL 37.796875 17.1875 \nL 4.890625 17.1875 \nL 4.890625 26.703125 \nz\n\" id=\"DejaVuSans-52\"/>\n      </defs>\n      <g transform=\"translate(709.026608 462.2101)scale(0.1728 -0.1728)\">\n       <use xlink:href=\"#DejaVuSans-48\"/>\n       <use x=\"63.623047\" xlink:href=\"#DejaVuSans-46\"/>\n       <use x=\"95.410156\" xlink:href=\"#DejaVuSans-52\"/>\n      </g>\n     </g>\n    </g>\n    <g id=\"xtick_9\">\n     <g id=\"line2d_17\">\n      <path clip-path=\"url(#p0fc448f019)\" d=\"M 888.406982 442.08 \nL 888.406982 7.2 \n\" style=\"fill:none;stroke:#b0b0b0;stroke-linecap:square;stroke-width:0.8;\"/>\n     </g>\n     <g id=\"line2d_18\">\n      <g>\n       <use style=\"stroke:#000000;stroke-width:0.8;\" x=\"888.406982\" xlink:href=\"#m913c72e940\" y=\"442.08\"/>\n      </g>\n     </g>\n     <g id=\"text_9\">\n      <!-- 0.5 -->\n      <g transform=\"translate(874.666682 462.2101)scale(0.1728 -0.1728)\">\n       <use xlink:href=\"#DejaVuSans-48\"/>\n       <use x=\"63.623047\" xlink:href=\"#DejaVuSans-46\"/>\n       <use x=\"95.410156\" xlink:href=\"#DejaVuSans-53\"/>\n      </g>\n     </g>\n    </g>\n   </g>\n   <g id=\"matplotlib.axis_2\">\n    <g id=\"ytick_1\">\n     <g id=\"line2d_19\">\n      <path clip-path=\"url(#p0fc448f019)\" d=\"M 36.1888 422.312727 \nL 928.9888 422.312727 \n\" style=\"fill:none;stroke:#b0b0b0;stroke-linecap:square;stroke-width:0.8;\"/>\n     </g>\n     <g id=\"line2d_20\">\n      <defs>\n       <path d=\"M 0 0 \nL -3.5 0 \n\" id=\"m8e6a60c8d0\" style=\"stroke:#000000;stroke-width:0.8;\"/>\n      </defs>\n      <g>\n       <use style=\"stroke:#000000;stroke-width:0.8;\" x=\"36.1888\" xlink:href=\"#m8e6a60c8d0\" y=\"422.312727\"/>\n      </g>\n     </g>\n     <g id=\"text_10\">\n      <!-- 10 -->\n      <g transform=\"translate(7.2 428.877777)scale(0.1728 -0.1728)\">\n       <use xlink:href=\"#DejaVuSans-49\"/>\n       <use x=\"63.623047\" xlink:href=\"#DejaVuSans-48\"/>\n      </g>\n     </g>\n    </g>\n    <g id=\"ytick_2\">\n     <g id=\"line2d_21\">\n      <path clip-path=\"url(#p0fc448f019)\" d=\"M 36.1888 372.071851 \nL 928.9888 372.071851 \n\" style=\"fill:none;stroke:#b0b0b0;stroke-linecap:square;stroke-width:0.8;\"/>\n     </g>\n     <g id=\"line2d_22\">\n      <g>\n       <use style=\"stroke:#000000;stroke-width:0.8;\" x=\"36.1888\" xlink:href=\"#m8e6a60c8d0\" y=\"372.071851\"/>\n      </g>\n     </g>\n     <g id=\"text_11\">\n      <!-- 20 -->\n      <g transform=\"translate(7.2 378.636901)scale(0.1728 -0.1728)\">\n       <use xlink:href=\"#DejaVuSans-50\"/>\n       <use x=\"63.623047\" xlink:href=\"#DejaVuSans-48\"/>\n      </g>\n     </g>\n    </g>\n    <g id=\"ytick_3\">\n     <g id=\"line2d_23\">\n      <path clip-path=\"url(#p0fc448f019)\" d=\"M 36.1888 321.830975 \nL 928.9888 321.830975 \n\" style=\"fill:none;stroke:#b0b0b0;stroke-linecap:square;stroke-width:0.8;\"/>\n     </g>\n     <g id=\"line2d_24\">\n      <g>\n       <use style=\"stroke:#000000;stroke-width:0.8;\" x=\"36.1888\" xlink:href=\"#m8e6a60c8d0\" y=\"321.830975\"/>\n      </g>\n     </g>\n     <g id=\"text_12\">\n      <!-- 30 -->\n      <g transform=\"translate(7.2 328.396025)scale(0.1728 -0.1728)\">\n       <use xlink:href=\"#DejaVuSans-51\"/>\n       <use x=\"63.623047\" xlink:href=\"#DejaVuSans-48\"/>\n      </g>\n     </g>\n    </g>\n    <g id=\"ytick_4\">\n     <g id=\"line2d_25\">\n      <path clip-path=\"url(#p0fc448f019)\" d=\"M 36.1888 271.590099 \nL 928.9888 271.590099 \n\" style=\"fill:none;stroke:#b0b0b0;stroke-linecap:square;stroke-width:0.8;\"/>\n     </g>\n     <g id=\"line2d_26\">\n      <g>\n       <use style=\"stroke:#000000;stroke-width:0.8;\" x=\"36.1888\" xlink:href=\"#m8e6a60c8d0\" y=\"271.590099\"/>\n      </g>\n     </g>\n     <g id=\"text_13\">\n      <!-- 40 -->\n      <g transform=\"translate(7.2 278.155149)scale(0.1728 -0.1728)\">\n       <use xlink:href=\"#DejaVuSans-52\"/>\n       <use x=\"63.623047\" xlink:href=\"#DejaVuSans-48\"/>\n      </g>\n     </g>\n    </g>\n    <g id=\"ytick_5\">\n     <g id=\"line2d_27\">\n      <path clip-path=\"url(#p0fc448f019)\" d=\"M 36.1888 221.349223 \nL 928.9888 221.349223 \n\" style=\"fill:none;stroke:#b0b0b0;stroke-linecap:square;stroke-width:0.8;\"/>\n     </g>\n     <g id=\"line2d_28\">\n      <g>\n       <use style=\"stroke:#000000;stroke-width:0.8;\" x=\"36.1888\" xlink:href=\"#m8e6a60c8d0\" y=\"221.349223\"/>\n      </g>\n     </g>\n     <g id=\"text_14\">\n      <!-- 50 -->\n      <g transform=\"translate(7.2 227.914273)scale(0.1728 -0.1728)\">\n       <use xlink:href=\"#DejaVuSans-53\"/>\n       <use x=\"63.623047\" xlink:href=\"#DejaVuSans-48\"/>\n      </g>\n     </g>\n    </g>\n    <g id=\"ytick_6\">\n     <g id=\"line2d_29\">\n      <path clip-path=\"url(#p0fc448f019)\" d=\"M 36.1888 171.108346 \nL 928.9888 171.108346 \n\" style=\"fill:none;stroke:#b0b0b0;stroke-linecap:square;stroke-width:0.8;\"/>\n     </g>\n     <g id=\"line2d_30\">\n      <g>\n       <use style=\"stroke:#000000;stroke-width:0.8;\" x=\"36.1888\" xlink:href=\"#m8e6a60c8d0\" y=\"171.108346\"/>\n      </g>\n     </g>\n     <g id=\"text_15\">\n      <!-- 60 -->\n      <defs>\n       <path d=\"M 33.015625 40.375 \nQ 26.375 40.375 22.484375 35.828125 \nQ 18.609375 31.296875 18.609375 23.390625 \nQ 18.609375 15.53125 22.484375 10.953125 \nQ 26.375 6.390625 33.015625 6.390625 \nQ 39.65625 6.390625 43.53125 10.953125 \nQ 47.40625 15.53125 47.40625 23.390625 \nQ 47.40625 31.296875 43.53125 35.828125 \nQ 39.65625 40.375 33.015625 40.375 \nz\nM 52.59375 71.296875 \nL 52.59375 62.3125 \nQ 48.875 64.0625 45.09375 64.984375 \nQ 41.3125 65.921875 37.59375 65.921875 \nQ 27.828125 65.921875 22.671875 59.328125 \nQ 17.53125 52.734375 16.796875 39.40625 \nQ 19.671875 43.65625 24.015625 45.921875 \nQ 28.375 48.1875 33.59375 48.1875 \nQ 44.578125 48.1875 50.953125 41.515625 \nQ 57.328125 34.859375 57.328125 23.390625 \nQ 57.328125 12.15625 50.6875 5.359375 \nQ 44.046875 -1.421875 33.015625 -1.421875 \nQ 20.359375 -1.421875 13.671875 8.265625 \nQ 6.984375 17.96875 6.984375 36.375 \nQ 6.984375 53.65625 15.1875 63.9375 \nQ 23.390625 74.21875 37.203125 74.21875 \nQ 40.921875 74.21875 44.703125 73.484375 \nQ 48.484375 72.75 52.59375 71.296875 \nz\n\" id=\"DejaVuSans-54\"/>\n      </defs>\n      <g transform=\"translate(7.2 177.673396)scale(0.1728 -0.1728)\">\n       <use xlink:href=\"#DejaVuSans-54\"/>\n       <use x=\"63.623047\" xlink:href=\"#DejaVuSans-48\"/>\n      </g>\n     </g>\n    </g>\n    <g id=\"ytick_7\">\n     <g id=\"line2d_31\">\n      <path clip-path=\"url(#p0fc448f019)\" d=\"M 36.1888 120.86747 \nL 928.9888 120.86747 \n\" style=\"fill:none;stroke:#b0b0b0;stroke-linecap:square;stroke-width:0.8;\"/>\n     </g>\n     <g id=\"line2d_32\">\n      <g>\n       <use style=\"stroke:#000000;stroke-width:0.8;\" x=\"36.1888\" xlink:href=\"#m8e6a60c8d0\" y=\"120.86747\"/>\n      </g>\n     </g>\n     <g id=\"text_16\">\n      <!-- 70 -->\n      <g transform=\"translate(7.2 127.43252)scale(0.1728 -0.1728)\">\n       <use xlink:href=\"#DejaVuSans-55\"/>\n       <use x=\"63.623047\" xlink:href=\"#DejaVuSans-48\"/>\n      </g>\n     </g>\n    </g>\n    <g id=\"ytick_8\">\n     <g id=\"line2d_33\">\n      <path clip-path=\"url(#p0fc448f019)\" d=\"M 36.1888 70.626594 \nL 928.9888 70.626594 \n\" style=\"fill:none;stroke:#b0b0b0;stroke-linecap:square;stroke-width:0.8;\"/>\n     </g>\n     <g id=\"line2d_34\">\n      <g>\n       <use style=\"stroke:#000000;stroke-width:0.8;\" x=\"36.1888\" xlink:href=\"#m8e6a60c8d0\" y=\"70.626594\"/>\n      </g>\n     </g>\n     <g id=\"text_17\">\n      <!-- 80 -->\n      <defs>\n       <path d=\"M 31.78125 34.625 \nQ 24.75 34.625 20.71875 30.859375 \nQ 16.703125 27.09375 16.703125 20.515625 \nQ 16.703125 13.921875 20.71875 10.15625 \nQ 24.75 6.390625 31.78125 6.390625 \nQ 38.8125 6.390625 42.859375 10.171875 \nQ 46.921875 13.96875 46.921875 20.515625 \nQ 46.921875 27.09375 42.890625 30.859375 \nQ 38.875 34.625 31.78125 34.625 \nz\nM 21.921875 38.8125 \nQ 15.578125 40.375 12.03125 44.71875 \nQ 8.5 49.078125 8.5 55.328125 \nQ 8.5 64.0625 14.71875 69.140625 \nQ 20.953125 74.21875 31.78125 74.21875 \nQ 42.671875 74.21875 48.875 69.140625 \nQ 55.078125 64.0625 55.078125 55.328125 \nQ 55.078125 49.078125 51.53125 44.71875 \nQ 48 40.375 41.703125 38.8125 \nQ 48.828125 37.15625 52.796875 32.3125 \nQ 56.78125 27.484375 56.78125 20.515625 \nQ 56.78125 9.90625 50.3125 4.234375 \nQ 43.84375 -1.421875 31.78125 -1.421875 \nQ 19.734375 -1.421875 13.25 4.234375 \nQ 6.78125 9.90625 6.78125 20.515625 \nQ 6.78125 27.484375 10.78125 32.3125 \nQ 14.796875 37.15625 21.921875 38.8125 \nz\nM 18.3125 54.390625 \nQ 18.3125 48.734375 21.84375 45.5625 \nQ 25.390625 42.390625 31.78125 42.390625 \nQ 38.140625 42.390625 41.71875 45.5625 \nQ 45.3125 48.734375 45.3125 54.390625 \nQ 45.3125 60.0625 41.71875 63.234375 \nQ 38.140625 66.40625 31.78125 66.40625 \nQ 25.390625 66.40625 21.84375 63.234375 \nQ 18.3125 60.0625 18.3125 54.390625 \nz\n\" id=\"DejaVuSans-56\"/>\n      </defs>\n      <g transform=\"translate(7.2 77.191644)scale(0.1728 -0.1728)\">\n       <use xlink:href=\"#DejaVuSans-56\"/>\n       <use x=\"63.623047\" xlink:href=\"#DejaVuSans-48\"/>\n      </g>\n     </g>\n    </g>\n    <g id=\"ytick_9\">\n     <g id=\"line2d_35\">\n      <path clip-path=\"url(#p0fc448f019)\" d=\"M 36.1888 20.385718 \nL 928.9888 20.385718 \n\" style=\"fill:none;stroke:#b0b0b0;stroke-linecap:square;stroke-width:0.8;\"/>\n     </g>\n     <g id=\"line2d_36\">\n      <g>\n       <use style=\"stroke:#000000;stroke-width:0.8;\" x=\"36.1888\" xlink:href=\"#m8e6a60c8d0\" y=\"20.385718\"/>\n      </g>\n     </g>\n     <g id=\"text_18\">\n      <!-- 90 -->\n      <defs>\n       <path d=\"M 10.984375 1.515625 \nL 10.984375 10.5 \nQ 14.703125 8.734375 18.5 7.8125 \nQ 22.3125 6.890625 25.984375 6.890625 \nQ 35.75 6.890625 40.890625 13.453125 \nQ 46.046875 20.015625 46.78125 33.40625 \nQ 43.953125 29.203125 39.59375 26.953125 \nQ 35.25 24.703125 29.984375 24.703125 \nQ 19.046875 24.703125 12.671875 31.3125 \nQ 6.296875 37.9375 6.296875 49.421875 \nQ 6.296875 60.640625 12.9375 67.421875 \nQ 19.578125 74.21875 30.609375 74.21875 \nQ 43.265625 74.21875 49.921875 64.515625 \nQ 56.59375 54.828125 56.59375 36.375 \nQ 56.59375 19.140625 48.40625 8.859375 \nQ 40.234375 -1.421875 26.421875 -1.421875 \nQ 22.703125 -1.421875 18.890625 -0.6875 \nQ 15.09375 0.046875 10.984375 1.515625 \nz\nM 30.609375 32.421875 \nQ 37.25 32.421875 41.125 36.953125 \nQ 45.015625 41.5 45.015625 49.421875 \nQ 45.015625 57.28125 41.125 61.84375 \nQ 37.25 66.40625 30.609375 66.40625 \nQ 23.96875 66.40625 20.09375 61.84375 \nQ 16.21875 57.28125 16.21875 49.421875 \nQ 16.21875 41.5 20.09375 36.953125 \nQ 23.96875 32.421875 30.609375 32.421875 \nz\n\" id=\"DejaVuSans-57\"/>\n      </defs>\n      <g transform=\"translate(7.2 26.950768)scale(0.1728 -0.1728)\">\n       <use xlink:href=\"#DejaVuSans-57\"/>\n       <use x=\"63.623047\" xlink:href=\"#DejaVuSans-48\"/>\n      </g>\n     </g>\n    </g>\n   </g>\n   <g id=\"line2d_37\">\n    <path clip-path=\"url(#p0fc448f019)\" d=\"M 76.770618 60.025769 \nL 109.898633 41.084959 \nL 143.026648 35.709185 \nL 176.154663 33.498587 \nL 225.846685 30.484134 \nL 391.486759 30.082207 \nL 557.126833 26.967273 \nL 722.766908 31.689915 \nL 888.406982 422.312727 \n\" style=\"fill:none;stroke:#ff0000;stroke-linecap:square;stroke-width:2.5;\"/>\n   </g>\n   <g id=\"patch_3\">\n    <path d=\"M 36.1888 442.08 \nL 36.1888 7.2 \n\" style=\"fill:none;stroke:#000000;stroke-linecap:square;stroke-linejoin:miter;stroke-width:0.8;\"/>\n   </g>\n   <g id=\"patch_4\">\n    <path d=\"M 928.9888 442.08 \nL 928.9888 7.2 \n\" style=\"fill:none;stroke:#000000;stroke-linecap:square;stroke-linejoin:miter;stroke-width:0.8;\"/>\n   </g>\n   <g id=\"patch_5\">\n    <path d=\"M 36.1888 442.08 \nL 928.9888 442.08 \n\" style=\"fill:none;stroke:#000000;stroke-linecap:square;stroke-linejoin:miter;stroke-width:0.8;\"/>\n   </g>\n   <g id=\"patch_6\">\n    <path d=\"M 36.1888 7.2 \nL 928.9888 7.2 \n\" style=\"fill:none;stroke:#000000;stroke-linecap:square;stroke-linejoin:miter;stroke-width:0.8;\"/>\n   </g>\n  </g>\n </g>\n <defs>\n  <clipPath id=\"p0fc448f019\">\n   <rect height=\"434.88\" width=\"892.8\" x=\"36.1888\" y=\"7.2\"/>\n  </clipPath>\n </defs>\n</svg>\n"
          },
          "metadata": {
            "needs_background": "light"
          }
        }
      ]
    },
    {
      "cell_type": "markdown",
      "source": [
        "let's try with batch norm: \n",
        "\n",
        "training time: 21min 10 seconds\n",
        "\n",
        "lr = 0.5 is good\n",
        "\n",
        "since we are using batch normalization it allows us to use much larger learning rates\n",
        "\n",
        "for lr = 1.0 also the model is working fine"
      ],
      "metadata": {
        "id": "2QcADYZOVf1_"
      }
    },
    {
      "cell_type": "code",
      "source": [
        "#@title LeNet with batch norm\n",
        "class BNLeNet1(nn.Module):\n",
        "\n",
        "  def __init__(self, lr=0.1, num_classes=10):\n",
        "    super().__init__()\n",
        "    self.lr = lr\n",
        "    self.num_classes = num_classes\n",
        "    self.net = nn.Sequential(\n",
        "        nn.LazyConv2d(6, kernel_size=5), nn.LazyBatchNorm2d(), nn.ReLU(),\n",
        "        nn.MaxPool2d(kernel_size=2, stride=2),\n",
        "        nn.LazyConv2d(16, kernel_size=5), nn.LazyBatchNorm2d(), nn.ReLU(),\n",
        "        nn.MaxPool2d(kernel_size=2, stride=2),\n",
        "        nn.Flatten(),\n",
        "        nn.LazyLinear(120, bias=False), nn.LazyBatchNorm1d(), nn.ReLU(),\n",
        "        nn.LazyLinear(84, bias=False), nn.LazyBatchNorm1d(), nn.ReLU(),\n",
        "        nn.LazyLinear(num_classes, bias=False)\n",
        "    )\n",
        "\n",
        "  def forward(self, X):\n",
        "    return self.net(X)\n",
        "\n",
        "  def apply_init(self, inputs, init=None):\n",
        "    self.forward(*inputs)\n",
        "    if init is not None:\n",
        "      self.net.apply(init)"
      ],
      "metadata": {
        "cellView": "form",
        "id": "XcQTHpaPUeQi"
      },
      "execution_count": 16,
      "outputs": []
    },
    {
      "cell_type": "code",
      "source": [
        "lr_list = [0.01, 0.03, 0.05, 0.07, 0.1, 0.2, 0.3, 0.4, 0.5]\n",
        "acc_list = []\n",
        "\n",
        "for lr in lr_list:\n",
        "  model = BNLeNet1(lr=lr)\n",
        "  trainer = Trainer(num_epochs=10)\n",
        "  model.apply_init([next(iter(train_loader))[0]], init_cnn)\n",
        "  trainer.fit(model, train_loader)\n",
        "  acc_list.append(acc_model(model, test_loader))"
      ],
      "metadata": {
        "colab": {
          "base_uri": "https://localhost:8080/"
        },
        "id": "8saQAgFxV74L",
        "outputId": "0e5ddf3b-2d7f-48b9-f9ea-b54960f68dbb"
      },
      "execution_count": 59,
      "outputs": [
        {
          "output_type": "stream",
          "name": "stderr",
          "text": [
            "/usr/local/lib/python3.8/dist-packages/torch/nn/modules/lazy.py:180: UserWarning: Lazy modules are a new feature under heavy development so changes to the API or functionality can happen at any moment.\n",
            "  warnings.warn('Lazy modules are a new feature under heavy development '\n"
          ]
        }
      ]
    },
    {
      "cell_type": "code",
      "source": [
        "acc_list"
      ],
      "metadata": {
        "colab": {
          "base_uri": "https://localhost:8080/"
        },
        "id": "0vpyEgWihPx9",
        "outputId": "73313c64-1cfe-45c4-8e57-27e100f4c2f9"
      },
      "execution_count": 60,
      "outputs": [
        {
          "output_type": "execute_result",
          "data": {
            "text/plain": [
              "[86.7, 88.06, 88.94, 88.67, 89.22, 89.71, 89.49, 89.2, 90.47]"
            ]
          },
          "metadata": {},
          "execution_count": 60
        }
      ]
    },
    {
      "cell_type": "code",
      "source": [
        "plt.plot(lr_list, acc_list, 'r-')\n",
        "plt.xticks(lr_list, lr_list)\n",
        "plt.grid();"
      ],
      "metadata": {
        "colab": {
          "base_uri": "https://localhost:8080/",
          "height": 652
        },
        "id": "cpYIsEurhQjT",
        "outputId": "d79b6311-dfaf-4cb4-bf32-338d851807bf"
      },
      "execution_count": 61,
      "outputs": [
        {
          "output_type": "display_data",
          "data": {
            "text/plain": [
              "<Figure size 1152x576 with 1 Axes>"
            ],
            "image/svg+xml": "<?xml version=\"1.0\" encoding=\"utf-8\" standalone=\"no\"?>\n<!DOCTYPE svg PUBLIC \"-//W3C//DTD SVG 1.1//EN\"\n  \"http://www.w3.org/Graphics/SVG/1.1/DTD/svg11.dtd\">\n<!-- Created with matplotlib (https://matplotlib.org/) -->\n<svg height=\"473.0038pt\" version=\"1.1\" viewBox=\"0 0 952.675 473.0038\" width=\"952.675pt\" xmlns=\"http://www.w3.org/2000/svg\" xmlns:xlink=\"http://www.w3.org/1999/xlink\">\n <defs>\n  <style type=\"text/css\">\n*{stroke-linecap:butt;stroke-linejoin:round;}\n  </style>\n </defs>\n <g id=\"figure_1\">\n  <g id=\"patch_1\">\n   <path d=\"M 0 473.0038 \nL 952.675 473.0038 \nL 952.675 0 \nL 0 0 \nz\n\" style=\"fill:none;\"/>\n  </g>\n  <g id=\"axes_1\">\n   <g id=\"patch_2\">\n    <path d=\"M 52.675 442.08 \nL 945.475 442.08 \nL 945.475 7.2 \nL 52.675 7.2 \nz\n\" style=\"fill:#ffffff;\"/>\n   </g>\n   <g id=\"matplotlib.axis_1\">\n    <g id=\"xtick_1\">\n     <g id=\"line2d_1\">\n      <path clip-path=\"url(#p81f1d0f9cf)\" d=\"M 93.256818 442.08 \nL 93.256818 7.2 \n\" style=\"fill:none;stroke:#b0b0b0;stroke-linecap:square;stroke-width:0.8;\"/>\n     </g>\n     <g id=\"line2d_2\">\n      <defs>\n       <path d=\"M 0 0 \nL 0 3.5 \n\" id=\"m33e84b10dc\" style=\"stroke:#000000;stroke-width:0.8;\"/>\n      </defs>\n      <g>\n       <use style=\"stroke:#000000;stroke-width:0.8;\" x=\"93.256818\" xlink:href=\"#m33e84b10dc\" y=\"442.08\"/>\n      </g>\n     </g>\n     <g id=\"text_1\">\n      <!-- 0.01 -->\n      <defs>\n       <path d=\"M 31.78125 66.40625 \nQ 24.171875 66.40625 20.328125 58.90625 \nQ 16.5 51.421875 16.5 36.375 \nQ 16.5 21.390625 20.328125 13.890625 \nQ 24.171875 6.390625 31.78125 6.390625 \nQ 39.453125 6.390625 43.28125 13.890625 \nQ 47.125 21.390625 47.125 36.375 \nQ 47.125 51.421875 43.28125 58.90625 \nQ 39.453125 66.40625 31.78125 66.40625 \nz\nM 31.78125 74.21875 \nQ 44.046875 74.21875 50.515625 64.515625 \nQ 56.984375 54.828125 56.984375 36.375 \nQ 56.984375 17.96875 50.515625 8.265625 \nQ 44.046875 -1.421875 31.78125 -1.421875 \nQ 19.53125 -1.421875 13.0625 8.265625 \nQ 6.59375 17.96875 6.59375 36.375 \nQ 6.59375 54.828125 13.0625 64.515625 \nQ 19.53125 74.21875 31.78125 74.21875 \nz\n\" id=\"DejaVuSans-48\"/>\n       <path d=\"M 10.6875 12.40625 \nL 21 12.40625 \nL 21 0 \nL 10.6875 0 \nz\n\" id=\"DejaVuSans-46\"/>\n       <path d=\"M 12.40625 8.296875 \nL 28.515625 8.296875 \nL 28.515625 63.921875 \nL 10.984375 60.40625 \nL 10.984375 69.390625 \nL 28.421875 72.90625 \nL 38.28125 72.90625 \nL 38.28125 8.296875 \nL 54.390625 8.296875 \nL 54.390625 0 \nL 12.40625 0 \nz\n\" id=\"DejaVuSans-49\"/>\n      </defs>\n      <g transform=\"translate(74.019318 462.2101)scale(0.1728 -0.1728)\">\n       <use xlink:href=\"#DejaVuSans-48\"/>\n       <use x=\"63.623047\" xlink:href=\"#DejaVuSans-46\"/>\n       <use x=\"95.410156\" xlink:href=\"#DejaVuSans-48\"/>\n       <use x=\"159.033203\" xlink:href=\"#DejaVuSans-49\"/>\n      </g>\n     </g>\n    </g>\n    <g id=\"xtick_2\">\n     <g id=\"line2d_3\">\n      <path clip-path=\"url(#p81f1d0f9cf)\" d=\"M 126.384833 442.08 \nL 126.384833 7.2 \n\" style=\"fill:none;stroke:#b0b0b0;stroke-linecap:square;stroke-width:0.8;\"/>\n     </g>\n     <g id=\"line2d_4\">\n      <g>\n       <use style=\"stroke:#000000;stroke-width:0.8;\" x=\"126.384833\" xlink:href=\"#m33e84b10dc\" y=\"442.08\"/>\n      </g>\n     </g>\n     <g id=\"text_2\">\n      <!-- 0.03 -->\n      <defs>\n       <path d=\"M 40.578125 39.3125 \nQ 47.65625 37.796875 51.625 33 \nQ 55.609375 28.21875 55.609375 21.1875 \nQ 55.609375 10.40625 48.1875 4.484375 \nQ 40.765625 -1.421875 27.09375 -1.421875 \nQ 22.515625 -1.421875 17.65625 -0.515625 \nQ 12.796875 0.390625 7.625 2.203125 \nL 7.625 11.71875 \nQ 11.71875 9.328125 16.59375 8.109375 \nQ 21.484375 6.890625 26.8125 6.890625 \nQ 36.078125 6.890625 40.9375 10.546875 \nQ 45.796875 14.203125 45.796875 21.1875 \nQ 45.796875 27.640625 41.28125 31.265625 \nQ 36.765625 34.90625 28.71875 34.90625 \nL 20.21875 34.90625 \nL 20.21875 43.015625 \nL 29.109375 43.015625 \nQ 36.375 43.015625 40.234375 45.921875 \nQ 44.09375 48.828125 44.09375 54.296875 \nQ 44.09375 59.90625 40.109375 62.90625 \nQ 36.140625 65.921875 28.71875 65.921875 \nQ 24.65625 65.921875 20.015625 65.03125 \nQ 15.375 64.15625 9.8125 62.3125 \nL 9.8125 71.09375 \nQ 15.4375 72.65625 20.34375 73.4375 \nQ 25.25 74.21875 29.59375 74.21875 \nQ 40.828125 74.21875 47.359375 69.109375 \nQ 53.90625 64.015625 53.90625 55.328125 \nQ 53.90625 49.265625 50.4375 45.09375 \nQ 46.96875 40.921875 40.578125 39.3125 \nz\n\" id=\"DejaVuSans-51\"/>\n      </defs>\n      <g transform=\"translate(107.147333 462.2101)scale(0.1728 -0.1728)\">\n       <use xlink:href=\"#DejaVuSans-48\"/>\n       <use x=\"63.623047\" xlink:href=\"#DejaVuSans-46\"/>\n       <use x=\"95.410156\" xlink:href=\"#DejaVuSans-48\"/>\n       <use x=\"159.033203\" xlink:href=\"#DejaVuSans-51\"/>\n      </g>\n     </g>\n    </g>\n    <g id=\"xtick_3\">\n     <g id=\"line2d_5\">\n      <path clip-path=\"url(#p81f1d0f9cf)\" d=\"M 159.512848 442.08 \nL 159.512848 7.2 \n\" style=\"fill:none;stroke:#b0b0b0;stroke-linecap:square;stroke-width:0.8;\"/>\n     </g>\n     <g id=\"line2d_6\">\n      <g>\n       <use style=\"stroke:#000000;stroke-width:0.8;\" x=\"159.512848\" xlink:href=\"#m33e84b10dc\" y=\"442.08\"/>\n      </g>\n     </g>\n     <g id=\"text_3\">\n      <!-- 0.05 -->\n      <defs>\n       <path d=\"M 10.796875 72.90625 \nL 49.515625 72.90625 \nL 49.515625 64.59375 \nL 19.828125 64.59375 \nL 19.828125 46.734375 \nQ 21.96875 47.46875 24.109375 47.828125 \nQ 26.265625 48.1875 28.421875 48.1875 \nQ 40.625 48.1875 47.75 41.5 \nQ 54.890625 34.8125 54.890625 23.390625 \nQ 54.890625 11.625 47.5625 5.09375 \nQ 40.234375 -1.421875 26.90625 -1.421875 \nQ 22.3125 -1.421875 17.546875 -0.640625 \nQ 12.796875 0.140625 7.71875 1.703125 \nL 7.71875 11.625 \nQ 12.109375 9.234375 16.796875 8.0625 \nQ 21.484375 6.890625 26.703125 6.890625 \nQ 35.15625 6.890625 40.078125 11.328125 \nQ 45.015625 15.765625 45.015625 23.390625 \nQ 45.015625 31 40.078125 35.4375 \nQ 35.15625 39.890625 26.703125 39.890625 \nQ 22.75 39.890625 18.8125 39.015625 \nQ 14.890625 38.140625 10.796875 36.28125 \nz\n\" id=\"DejaVuSans-53\"/>\n      </defs>\n      <g transform=\"translate(140.275348 462.2101)scale(0.1728 -0.1728)\">\n       <use xlink:href=\"#DejaVuSans-48\"/>\n       <use x=\"63.623047\" xlink:href=\"#DejaVuSans-46\"/>\n       <use x=\"95.410156\" xlink:href=\"#DejaVuSans-48\"/>\n       <use x=\"159.033203\" xlink:href=\"#DejaVuSans-53\"/>\n      </g>\n     </g>\n    </g>\n    <g id=\"xtick_4\">\n     <g id=\"line2d_7\">\n      <path clip-path=\"url(#p81f1d0f9cf)\" d=\"M 192.640863 442.08 \nL 192.640863 7.2 \n\" style=\"fill:none;stroke:#b0b0b0;stroke-linecap:square;stroke-width:0.8;\"/>\n     </g>\n     <g id=\"line2d_8\">\n      <g>\n       <use style=\"stroke:#000000;stroke-width:0.8;\" x=\"192.640863\" xlink:href=\"#m33e84b10dc\" y=\"442.08\"/>\n      </g>\n     </g>\n     <g id=\"text_4\">\n      <!-- 0.07 -->\n      <defs>\n       <path d=\"M 8.203125 72.90625 \nL 55.078125 72.90625 \nL 55.078125 68.703125 \nL 28.609375 0 \nL 18.3125 0 \nL 43.21875 64.59375 \nL 8.203125 64.59375 \nz\n\" id=\"DejaVuSans-55\"/>\n      </defs>\n      <g transform=\"translate(173.403363 462.2101)scale(0.1728 -0.1728)\">\n       <use xlink:href=\"#DejaVuSans-48\"/>\n       <use x=\"63.623047\" xlink:href=\"#DejaVuSans-46\"/>\n       <use x=\"95.410156\" xlink:href=\"#DejaVuSans-48\"/>\n       <use x=\"159.033203\" xlink:href=\"#DejaVuSans-55\"/>\n      </g>\n     </g>\n    </g>\n    <g id=\"xtick_5\">\n     <g id=\"line2d_9\">\n      <path clip-path=\"url(#p81f1d0f9cf)\" d=\"M 242.332885 442.08 \nL 242.332885 7.2 \n\" style=\"fill:none;stroke:#b0b0b0;stroke-linecap:square;stroke-width:0.8;\"/>\n     </g>\n     <g id=\"line2d_10\">\n      <g>\n       <use style=\"stroke:#000000;stroke-width:0.8;\" x=\"242.332885\" xlink:href=\"#m33e84b10dc\" y=\"442.08\"/>\n      </g>\n     </g>\n     <g id=\"text_5\">\n      <!-- 0.1 -->\n      <g transform=\"translate(228.592585 462.2101)scale(0.1728 -0.1728)\">\n       <use xlink:href=\"#DejaVuSans-48\"/>\n       <use x=\"63.623047\" xlink:href=\"#DejaVuSans-46\"/>\n       <use x=\"95.410156\" xlink:href=\"#DejaVuSans-49\"/>\n      </g>\n     </g>\n    </g>\n    <g id=\"xtick_6\">\n     <g id=\"line2d_11\">\n      <path clip-path=\"url(#p81f1d0f9cf)\" d=\"M 407.972959 442.08 \nL 407.972959 7.2 \n\" style=\"fill:none;stroke:#b0b0b0;stroke-linecap:square;stroke-width:0.8;\"/>\n     </g>\n     <g id=\"line2d_12\">\n      <g>\n       <use style=\"stroke:#000000;stroke-width:0.8;\" x=\"407.972959\" xlink:href=\"#m33e84b10dc\" y=\"442.08\"/>\n      </g>\n     </g>\n     <g id=\"text_6\">\n      <!-- 0.2 -->\n      <defs>\n       <path d=\"M 19.1875 8.296875 \nL 53.609375 8.296875 \nL 53.609375 0 \nL 7.328125 0 \nL 7.328125 8.296875 \nQ 12.9375 14.109375 22.625 23.890625 \nQ 32.328125 33.6875 34.8125 36.53125 \nQ 39.546875 41.84375 41.421875 45.53125 \nQ 43.3125 49.21875 43.3125 52.78125 \nQ 43.3125 58.59375 39.234375 62.25 \nQ 35.15625 65.921875 28.609375 65.921875 \nQ 23.96875 65.921875 18.8125 64.3125 \nQ 13.671875 62.703125 7.8125 59.421875 \nL 7.8125 69.390625 \nQ 13.765625 71.78125 18.9375 73 \nQ 24.125 74.21875 28.421875 74.21875 \nQ 39.75 74.21875 46.484375 68.546875 \nQ 53.21875 62.890625 53.21875 53.421875 \nQ 53.21875 48.921875 51.53125 44.890625 \nQ 49.859375 40.875 45.40625 35.40625 \nQ 44.1875 33.984375 37.640625 27.21875 \nQ 31.109375 20.453125 19.1875 8.296875 \nz\n\" id=\"DejaVuSans-50\"/>\n      </defs>\n      <g transform=\"translate(394.232659 462.2101)scale(0.1728 -0.1728)\">\n       <use xlink:href=\"#DejaVuSans-48\"/>\n       <use x=\"63.623047\" xlink:href=\"#DejaVuSans-46\"/>\n       <use x=\"95.410156\" xlink:href=\"#DejaVuSans-50\"/>\n      </g>\n     </g>\n    </g>\n    <g id=\"xtick_7\">\n     <g id=\"line2d_13\">\n      <path clip-path=\"url(#p81f1d0f9cf)\" d=\"M 573.613033 442.08 \nL 573.613033 7.2 \n\" style=\"fill:none;stroke:#b0b0b0;stroke-linecap:square;stroke-width:0.8;\"/>\n     </g>\n     <g id=\"line2d_14\">\n      <g>\n       <use style=\"stroke:#000000;stroke-width:0.8;\" x=\"573.613033\" xlink:href=\"#m33e84b10dc\" y=\"442.08\"/>\n      </g>\n     </g>\n     <g id=\"text_7\">\n      <!-- 0.3 -->\n      <g transform=\"translate(559.872733 462.2101)scale(0.1728 -0.1728)\">\n       <use xlink:href=\"#DejaVuSans-48\"/>\n       <use x=\"63.623047\" xlink:href=\"#DejaVuSans-46\"/>\n       <use x=\"95.410156\" xlink:href=\"#DejaVuSans-51\"/>\n      </g>\n     </g>\n    </g>\n    <g id=\"xtick_8\">\n     <g id=\"line2d_15\">\n      <path clip-path=\"url(#p81f1d0f9cf)\" d=\"M 739.253108 442.08 \nL 739.253108 7.2 \n\" style=\"fill:none;stroke:#b0b0b0;stroke-linecap:square;stroke-width:0.8;\"/>\n     </g>\n     <g id=\"line2d_16\">\n      <g>\n       <use style=\"stroke:#000000;stroke-width:0.8;\" x=\"739.253108\" xlink:href=\"#m33e84b10dc\" y=\"442.08\"/>\n      </g>\n     </g>\n     <g id=\"text_8\">\n      <!-- 0.4 -->\n      <defs>\n       <path d=\"M 37.796875 64.3125 \nL 12.890625 25.390625 \nL 37.796875 25.390625 \nz\nM 35.203125 72.90625 \nL 47.609375 72.90625 \nL 47.609375 25.390625 \nL 58.015625 25.390625 \nL 58.015625 17.1875 \nL 47.609375 17.1875 \nL 47.609375 0 \nL 37.796875 0 \nL 37.796875 17.1875 \nL 4.890625 17.1875 \nL 4.890625 26.703125 \nz\n\" id=\"DejaVuSans-52\"/>\n      </defs>\n      <g transform=\"translate(725.512808 462.2101)scale(0.1728 -0.1728)\">\n       <use xlink:href=\"#DejaVuSans-48\"/>\n       <use x=\"63.623047\" xlink:href=\"#DejaVuSans-46\"/>\n       <use x=\"95.410156\" xlink:href=\"#DejaVuSans-52\"/>\n      </g>\n     </g>\n    </g>\n    <g id=\"xtick_9\">\n     <g id=\"line2d_17\">\n      <path clip-path=\"url(#p81f1d0f9cf)\" d=\"M 904.893182 442.08 \nL 904.893182 7.2 \n\" style=\"fill:none;stroke:#b0b0b0;stroke-linecap:square;stroke-width:0.8;\"/>\n     </g>\n     <g id=\"line2d_18\">\n      <g>\n       <use style=\"stroke:#000000;stroke-width:0.8;\" x=\"904.893182\" xlink:href=\"#m33e84b10dc\" y=\"442.08\"/>\n      </g>\n     </g>\n     <g id=\"text_9\">\n      <!-- 0.5 -->\n      <g transform=\"translate(891.152882 462.2101)scale(0.1728 -0.1728)\">\n       <use xlink:href=\"#DejaVuSans-48\"/>\n       <use x=\"63.623047\" xlink:href=\"#DejaVuSans-46\"/>\n       <use x=\"95.410156\" xlink:href=\"#DejaVuSans-53\"/>\n      </g>\n     </g>\n    </g>\n   </g>\n   <g id=\"matplotlib.axis_2\">\n    <g id=\"ytick_1\">\n     <g id=\"line2d_19\">\n      <path clip-path=\"url(#p81f1d0f9cf)\" d=\"M 52.675 390.852877 \nL 945.475 390.852877 \n\" style=\"fill:none;stroke:#b0b0b0;stroke-linecap:square;stroke-width:0.8;\"/>\n     </g>\n     <g id=\"line2d_20\">\n      <defs>\n       <path d=\"M 0 0 \nL -3.5 0 \n\" id=\"mfcb9d5f575\" style=\"stroke:#000000;stroke-width:0.8;\"/>\n      </defs>\n      <g>\n       <use style=\"stroke:#000000;stroke-width:0.8;\" x=\"52.675\" xlink:href=\"#mfcb9d5f575\" y=\"390.852877\"/>\n      </g>\n     </g>\n     <g id=\"text_10\">\n      <!-- 87.0 -->\n      <defs>\n       <path d=\"M 31.78125 34.625 \nQ 24.75 34.625 20.71875 30.859375 \nQ 16.703125 27.09375 16.703125 20.515625 \nQ 16.703125 13.921875 20.71875 10.15625 \nQ 24.75 6.390625 31.78125 6.390625 \nQ 38.8125 6.390625 42.859375 10.171875 \nQ 46.921875 13.96875 46.921875 20.515625 \nQ 46.921875 27.09375 42.890625 30.859375 \nQ 38.875 34.625 31.78125 34.625 \nz\nM 21.921875 38.8125 \nQ 15.578125 40.375 12.03125 44.71875 \nQ 8.5 49.078125 8.5 55.328125 \nQ 8.5 64.0625 14.71875 69.140625 \nQ 20.953125 74.21875 31.78125 74.21875 \nQ 42.671875 74.21875 48.875 69.140625 \nQ 55.078125 64.0625 55.078125 55.328125 \nQ 55.078125 49.078125 51.53125 44.71875 \nQ 48 40.375 41.703125 38.8125 \nQ 48.828125 37.15625 52.796875 32.3125 \nQ 56.78125 27.484375 56.78125 20.515625 \nQ 56.78125 9.90625 50.3125 4.234375 \nQ 43.84375 -1.421875 31.78125 -1.421875 \nQ 19.734375 -1.421875 13.25 4.234375 \nQ 6.78125 9.90625 6.78125 20.515625 \nQ 6.78125 27.484375 10.78125 32.3125 \nQ 14.796875 37.15625 21.921875 38.8125 \nz\nM 18.3125 54.390625 \nQ 18.3125 48.734375 21.84375 45.5625 \nQ 25.390625 42.390625 31.78125 42.390625 \nQ 38.140625 42.390625 41.71875 45.5625 \nQ 45.3125 48.734375 45.3125 54.390625 \nQ 45.3125 60.0625 41.71875 63.234375 \nQ 38.140625 66.40625 31.78125 66.40625 \nQ 25.390625 66.40625 21.84375 63.234375 \nQ 18.3125 60.0625 18.3125 54.390625 \nz\n\" id=\"DejaVuSans-56\"/>\n      </defs>\n      <g transform=\"translate(7.2 397.417927)scale(0.1728 -0.1728)\">\n       <use xlink:href=\"#DejaVuSans-56\"/>\n       <use x=\"63.623047\" xlink:href=\"#DejaVuSans-55\"/>\n       <use x=\"127.246094\" xlink:href=\"#DejaVuSans-46\"/>\n       <use x=\"159.033203\" xlink:href=\"#DejaVuSans-48\"/>\n      </g>\n     </g>\n    </g>\n    <g id=\"ytick_2\">\n     <g id=\"line2d_21\">\n      <path clip-path=\"url(#p81f1d0f9cf)\" d=\"M 52.675 338.419793 \nL 945.475 338.419793 \n\" style=\"fill:none;stroke:#b0b0b0;stroke-linecap:square;stroke-width:0.8;\"/>\n     </g>\n     <g id=\"line2d_22\">\n      <g>\n       <use style=\"stroke:#000000;stroke-width:0.8;\" x=\"52.675\" xlink:href=\"#mfcb9d5f575\" y=\"338.419793\"/>\n      </g>\n     </g>\n     <g id=\"text_11\">\n      <!-- 87.5 -->\n      <g transform=\"translate(7.2 344.984843)scale(0.1728 -0.1728)\">\n       <use xlink:href=\"#DejaVuSans-56\"/>\n       <use x=\"63.623047\" xlink:href=\"#DejaVuSans-55\"/>\n       <use x=\"127.246094\" xlink:href=\"#DejaVuSans-46\"/>\n       <use x=\"159.033203\" xlink:href=\"#DejaVuSans-53\"/>\n      </g>\n     </g>\n    </g>\n    <g id=\"ytick_3\">\n     <g id=\"line2d_23\">\n      <path clip-path=\"url(#p81f1d0f9cf)\" d=\"M 52.675 285.986708 \nL 945.475 285.986708 \n\" style=\"fill:none;stroke:#b0b0b0;stroke-linecap:square;stroke-width:0.8;\"/>\n     </g>\n     <g id=\"line2d_24\">\n      <g>\n       <use style=\"stroke:#000000;stroke-width:0.8;\" x=\"52.675\" xlink:href=\"#mfcb9d5f575\" y=\"285.986708\"/>\n      </g>\n     </g>\n     <g id=\"text_12\">\n      <!-- 88.0 -->\n      <g transform=\"translate(7.2 292.551758)scale(0.1728 -0.1728)\">\n       <use xlink:href=\"#DejaVuSans-56\"/>\n       <use x=\"63.623047\" xlink:href=\"#DejaVuSans-56\"/>\n       <use x=\"127.246094\" xlink:href=\"#DejaVuSans-46\"/>\n       <use x=\"159.033203\" xlink:href=\"#DejaVuSans-48\"/>\n      </g>\n     </g>\n    </g>\n    <g id=\"ytick_4\">\n     <g id=\"line2d_25\">\n      <path clip-path=\"url(#p81f1d0f9cf)\" d=\"M 52.675 233.553624 \nL 945.475 233.553624 \n\" style=\"fill:none;stroke:#b0b0b0;stroke-linecap:square;stroke-width:0.8;\"/>\n     </g>\n     <g id=\"line2d_26\">\n      <g>\n       <use style=\"stroke:#000000;stroke-width:0.8;\" x=\"52.675\" xlink:href=\"#mfcb9d5f575\" y=\"233.553624\"/>\n      </g>\n     </g>\n     <g id=\"text_13\">\n      <!-- 88.5 -->\n      <g transform=\"translate(7.2 240.118674)scale(0.1728 -0.1728)\">\n       <use xlink:href=\"#DejaVuSans-56\"/>\n       <use x=\"63.623047\" xlink:href=\"#DejaVuSans-56\"/>\n       <use x=\"127.246094\" xlink:href=\"#DejaVuSans-46\"/>\n       <use x=\"159.033203\" xlink:href=\"#DejaVuSans-53\"/>\n      </g>\n     </g>\n    </g>\n    <g id=\"ytick_5\">\n     <g id=\"line2d_27\">\n      <path clip-path=\"url(#p81f1d0f9cf)\" d=\"M 52.675 181.12054 \nL 945.475 181.12054 \n\" style=\"fill:none;stroke:#b0b0b0;stroke-linecap:square;stroke-width:0.8;\"/>\n     </g>\n     <g id=\"line2d_28\">\n      <g>\n       <use style=\"stroke:#000000;stroke-width:0.8;\" x=\"52.675\" xlink:href=\"#mfcb9d5f575\" y=\"181.12054\"/>\n      </g>\n     </g>\n     <g id=\"text_14\">\n      <!-- 89.0 -->\n      <defs>\n       <path d=\"M 10.984375 1.515625 \nL 10.984375 10.5 \nQ 14.703125 8.734375 18.5 7.8125 \nQ 22.3125 6.890625 25.984375 6.890625 \nQ 35.75 6.890625 40.890625 13.453125 \nQ 46.046875 20.015625 46.78125 33.40625 \nQ 43.953125 29.203125 39.59375 26.953125 \nQ 35.25 24.703125 29.984375 24.703125 \nQ 19.046875 24.703125 12.671875 31.3125 \nQ 6.296875 37.9375 6.296875 49.421875 \nQ 6.296875 60.640625 12.9375 67.421875 \nQ 19.578125 74.21875 30.609375 74.21875 \nQ 43.265625 74.21875 49.921875 64.515625 \nQ 56.59375 54.828125 56.59375 36.375 \nQ 56.59375 19.140625 48.40625 8.859375 \nQ 40.234375 -1.421875 26.421875 -1.421875 \nQ 22.703125 -1.421875 18.890625 -0.6875 \nQ 15.09375 0.046875 10.984375 1.515625 \nz\nM 30.609375 32.421875 \nQ 37.25 32.421875 41.125 36.953125 \nQ 45.015625 41.5 45.015625 49.421875 \nQ 45.015625 57.28125 41.125 61.84375 \nQ 37.25 66.40625 30.609375 66.40625 \nQ 23.96875 66.40625 20.09375 61.84375 \nQ 16.21875 57.28125 16.21875 49.421875 \nQ 16.21875 41.5 20.09375 36.953125 \nQ 23.96875 32.421875 30.609375 32.421875 \nz\n\" id=\"DejaVuSans-57\"/>\n      </defs>\n      <g transform=\"translate(7.2 187.68559)scale(0.1728 -0.1728)\">\n       <use xlink:href=\"#DejaVuSans-56\"/>\n       <use x=\"63.623047\" xlink:href=\"#DejaVuSans-57\"/>\n       <use x=\"127.246094\" xlink:href=\"#DejaVuSans-46\"/>\n       <use x=\"159.033203\" xlink:href=\"#DejaVuSans-48\"/>\n      </g>\n     </g>\n    </g>\n    <g id=\"ytick_6\">\n     <g id=\"line2d_29\">\n      <path clip-path=\"url(#p81f1d0f9cf)\" d=\"M 52.675 128.687456 \nL 945.475 128.687456 \n\" style=\"fill:none;stroke:#b0b0b0;stroke-linecap:square;stroke-width:0.8;\"/>\n     </g>\n     <g id=\"line2d_30\">\n      <g>\n       <use style=\"stroke:#000000;stroke-width:0.8;\" x=\"52.675\" xlink:href=\"#mfcb9d5f575\" y=\"128.687456\"/>\n      </g>\n     </g>\n     <g id=\"text_15\">\n      <!-- 89.5 -->\n      <g transform=\"translate(7.2 135.252506)scale(0.1728 -0.1728)\">\n       <use xlink:href=\"#DejaVuSans-56\"/>\n       <use x=\"63.623047\" xlink:href=\"#DejaVuSans-57\"/>\n       <use x=\"127.246094\" xlink:href=\"#DejaVuSans-46\"/>\n       <use x=\"159.033203\" xlink:href=\"#DejaVuSans-53\"/>\n      </g>\n     </g>\n    </g>\n    <g id=\"ytick_7\">\n     <g id=\"line2d_31\">\n      <path clip-path=\"url(#p81f1d0f9cf)\" d=\"M 52.675 76.254372 \nL 945.475 76.254372 \n\" style=\"fill:none;stroke:#b0b0b0;stroke-linecap:square;stroke-width:0.8;\"/>\n     </g>\n     <g id=\"line2d_32\">\n      <g>\n       <use style=\"stroke:#000000;stroke-width:0.8;\" x=\"52.675\" xlink:href=\"#mfcb9d5f575\" y=\"76.254372\"/>\n      </g>\n     </g>\n     <g id=\"text_16\">\n      <!-- 90.0 -->\n      <g transform=\"translate(7.2 82.819422)scale(0.1728 -0.1728)\">\n       <use xlink:href=\"#DejaVuSans-57\"/>\n       <use x=\"63.623047\" xlink:href=\"#DejaVuSans-48\"/>\n       <use x=\"127.246094\" xlink:href=\"#DejaVuSans-46\"/>\n       <use x=\"159.033203\" xlink:href=\"#DejaVuSans-48\"/>\n      </g>\n     </g>\n    </g>\n    <g id=\"ytick_8\">\n     <g id=\"line2d_33\">\n      <path clip-path=\"url(#p81f1d0f9cf)\" d=\"M 52.675 23.821288 \nL 945.475 23.821288 \n\" style=\"fill:none;stroke:#b0b0b0;stroke-linecap:square;stroke-width:0.8;\"/>\n     </g>\n     <g id=\"line2d_34\">\n      <g>\n       <use style=\"stroke:#000000;stroke-width:0.8;\" x=\"52.675\" xlink:href=\"#mfcb9d5f575\" y=\"23.821288\"/>\n      </g>\n     </g>\n     <g id=\"text_17\">\n      <!-- 90.5 -->\n      <g transform=\"translate(7.2 30.386338)scale(0.1728 -0.1728)\">\n       <use xlink:href=\"#DejaVuSans-57\"/>\n       <use x=\"63.623047\" xlink:href=\"#DejaVuSans-48\"/>\n       <use x=\"127.246094\" xlink:href=\"#DejaVuSans-46\"/>\n       <use x=\"159.033203\" xlink:href=\"#DejaVuSans-53\"/>\n      </g>\n     </g>\n    </g>\n   </g>\n   <g id=\"line2d_35\">\n    <path clip-path=\"url(#p81f1d0f9cf)\" d=\"M 93.256818 422.312727 \nL 126.384833 279.694738 \nL 159.512848 187.41251 \nL 192.640863 215.726376 \nL 242.332885 158.049983 \nL 407.972959 106.665561 \nL 573.613033 129.736118 \nL 739.253108 160.147306 \nL 904.893182 26.967273 \n\" style=\"fill:none;stroke:#ff0000;stroke-linecap:square;stroke-width:2.5;\"/>\n   </g>\n   <g id=\"patch_3\">\n    <path d=\"M 52.675 442.08 \nL 52.675 7.2 \n\" style=\"fill:none;stroke:#000000;stroke-linecap:square;stroke-linejoin:miter;stroke-width:0.8;\"/>\n   </g>\n   <g id=\"patch_4\">\n    <path d=\"M 945.475 442.08 \nL 945.475 7.2 \n\" style=\"fill:none;stroke:#000000;stroke-linecap:square;stroke-linejoin:miter;stroke-width:0.8;\"/>\n   </g>\n   <g id=\"patch_5\">\n    <path d=\"M 52.675 442.08 \nL 945.475 442.08 \n\" style=\"fill:none;stroke:#000000;stroke-linecap:square;stroke-linejoin:miter;stroke-width:0.8;\"/>\n   </g>\n   <g id=\"patch_6\">\n    <path d=\"M 52.675 7.2 \nL 945.475 7.2 \n\" style=\"fill:none;stroke:#000000;stroke-linecap:square;stroke-linejoin:miter;stroke-width:0.8;\"/>\n   </g>\n  </g>\n </g>\n <defs>\n  <clipPath id=\"p81f1d0f9cf\">\n   <rect height=\"434.88\" width=\"892.8\" x=\"52.675\" y=\"7.2\"/>\n  </clipPath>\n </defs>\n</svg>\n"
          },
          "metadata": {
            "needs_background": "light"
          }
        }
      ]
    },
    {
      "cell_type": "code",
      "source": [
        "model = BNLeNet1(lr=0.6)\n",
        "trainer = Trainer(num_epochs=10)\n",
        "model.apply_init([next(iter(train_loader))[0]], init_cnn)\n",
        "trainer.fit(model, train_loader)\n",
        "acc = acc_model(model, test_loader)\n",
        "print(acc)"
      ],
      "metadata": {
        "colab": {
          "base_uri": "https://localhost:8080/"
        },
        "id": "bgj2XkWphTL3",
        "outputId": "c3a41c5e-d6fd-4242-8bf3-d034d3412577"
      },
      "execution_count": 65,
      "outputs": [
        {
          "output_type": "stream",
          "name": "stderr",
          "text": [
            "/usr/local/lib/python3.8/dist-packages/torch/nn/modules/lazy.py:180: UserWarning: Lazy modules are a new feature under heavy development so changes to the API or functionality can happen at any moment.\n",
            "  warnings.warn('Lazy modules are a new feature under heavy development '\n"
          ]
        },
        {
          "output_type": "stream",
          "name": "stdout",
          "text": [
            "89.36\n"
          ]
        }
      ]
    },
    {
      "cell_type": "code",
      "source": [
        "lr_list = [0.7, 0.8, 0.9, 1.0]\n",
        "acc_list = []\n",
        "\n",
        "for lr in lr_list:\n",
        "  model = BNLeNet1(lr=lr)\n",
        "  trainer = Trainer(num_epochs=10)\n",
        "  model.apply_init([next(iter(train_loader))[0]], init_cnn)\n",
        "  trainer.fit(model, train_loader)\n",
        "  acc_list.append(acc_model(model, test_loader))"
      ],
      "metadata": {
        "colab": {
          "base_uri": "https://localhost:8080/"
        },
        "id": "xVmUMa3WKDci",
        "outputId": "a84508a1-cf32-4019-ed65-bbd50e9c32f9"
      },
      "execution_count": 66,
      "outputs": [
        {
          "output_type": "stream",
          "name": "stderr",
          "text": [
            "/usr/local/lib/python3.8/dist-packages/torch/nn/modules/lazy.py:180: UserWarning: Lazy modules are a new feature under heavy development so changes to the API or functionality can happen at any moment.\n",
            "  warnings.warn('Lazy modules are a new feature under heavy development '\n"
          ]
        }
      ]
    },
    {
      "cell_type": "code",
      "source": [
        "plt.plot(lr_list, acc_list, 'r-')\n",
        "plt.xticks(lr_list, lr_list)\n",
        "plt.grid();"
      ],
      "metadata": {
        "colab": {
          "base_uri": "https://localhost:8080/",
          "height": 652
        },
        "id": "227bx53MMZ-A",
        "outputId": "f3384a7a-82d4-4dee-a185-e10cb622f372"
      },
      "execution_count": 67,
      "outputs": [
        {
          "output_type": "display_data",
          "data": {
            "text/plain": [
              "<Figure size 1152x576 with 1 Axes>"
            ],
            "image/svg+xml": "<?xml version=\"1.0\" encoding=\"utf-8\" standalone=\"no\"?>\n<!DOCTYPE svg PUBLIC \"-//W3C//DTD SVG 1.1//EN\"\n  \"http://www.w3.org/Graphics/SVG/1.1/DTD/svg11.dtd\">\n<!-- Created with matplotlib (https://matplotlib.org/) -->\n<svg height=\"473.0038pt\" version=\"1.1\" viewBox=\"0 0 952.675 473.0038\" width=\"952.675pt\" xmlns=\"http://www.w3.org/2000/svg\" xmlns:xlink=\"http://www.w3.org/1999/xlink\">\n <defs>\n  <style type=\"text/css\">\n*{stroke-linecap:butt;stroke-linejoin:round;}\n  </style>\n </defs>\n <g id=\"figure_1\">\n  <g id=\"patch_1\">\n   <path d=\"M 0 473.0038 \nL 952.675 473.0038 \nL 952.675 0 \nL 0 0 \nz\n\" style=\"fill:none;\"/>\n  </g>\n  <g id=\"axes_1\">\n   <g id=\"patch_2\">\n    <path d=\"M 52.675 442.08 \nL 945.475 442.08 \nL 945.475 7.2 \nL 52.675 7.2 \nz\n\" style=\"fill:#ffffff;\"/>\n   </g>\n   <g id=\"matplotlib.axis_1\">\n    <g id=\"xtick_1\">\n     <g id=\"line2d_1\">\n      <path clip-path=\"url(#p7b9a99101d)\" d=\"M 93.256818 442.08 \nL 93.256818 7.2 \n\" style=\"fill:none;stroke:#b0b0b0;stroke-linecap:square;stroke-width:0.8;\"/>\n     </g>\n     <g id=\"line2d_2\">\n      <defs>\n       <path d=\"M 0 0 \nL 0 3.5 \n\" id=\"m5b5d53b416\" style=\"stroke:#000000;stroke-width:0.8;\"/>\n      </defs>\n      <g>\n       <use style=\"stroke:#000000;stroke-width:0.8;\" x=\"93.256818\" xlink:href=\"#m5b5d53b416\" y=\"442.08\"/>\n      </g>\n     </g>\n     <g id=\"text_1\">\n      <!-- 0.7 -->\n      <defs>\n       <path d=\"M 31.78125 66.40625 \nQ 24.171875 66.40625 20.328125 58.90625 \nQ 16.5 51.421875 16.5 36.375 \nQ 16.5 21.390625 20.328125 13.890625 \nQ 24.171875 6.390625 31.78125 6.390625 \nQ 39.453125 6.390625 43.28125 13.890625 \nQ 47.125 21.390625 47.125 36.375 \nQ 47.125 51.421875 43.28125 58.90625 \nQ 39.453125 66.40625 31.78125 66.40625 \nz\nM 31.78125 74.21875 \nQ 44.046875 74.21875 50.515625 64.515625 \nQ 56.984375 54.828125 56.984375 36.375 \nQ 56.984375 17.96875 50.515625 8.265625 \nQ 44.046875 -1.421875 31.78125 -1.421875 \nQ 19.53125 -1.421875 13.0625 8.265625 \nQ 6.59375 17.96875 6.59375 36.375 \nQ 6.59375 54.828125 13.0625 64.515625 \nQ 19.53125 74.21875 31.78125 74.21875 \nz\n\" id=\"DejaVuSans-48\"/>\n       <path d=\"M 10.6875 12.40625 \nL 21 12.40625 \nL 21 0 \nL 10.6875 0 \nz\n\" id=\"DejaVuSans-46\"/>\n       <path d=\"M 8.203125 72.90625 \nL 55.078125 72.90625 \nL 55.078125 68.703125 \nL 28.609375 0 \nL 18.3125 0 \nL 43.21875 64.59375 \nL 8.203125 64.59375 \nz\n\" id=\"DejaVuSans-55\"/>\n      </defs>\n      <g transform=\"translate(79.516518 462.2101)scale(0.1728 -0.1728)\">\n       <use xlink:href=\"#DejaVuSans-48\"/>\n       <use x=\"63.623047\" xlink:href=\"#DejaVuSans-46\"/>\n       <use x=\"95.410156\" xlink:href=\"#DejaVuSans-55\"/>\n      </g>\n     </g>\n    </g>\n    <g id=\"xtick_2\">\n     <g id=\"line2d_3\">\n      <path clip-path=\"url(#p7b9a99101d)\" d=\"M 363.802273 442.08 \nL 363.802273 7.2 \n\" style=\"fill:none;stroke:#b0b0b0;stroke-linecap:square;stroke-width:0.8;\"/>\n     </g>\n     <g id=\"line2d_4\">\n      <g>\n       <use style=\"stroke:#000000;stroke-width:0.8;\" x=\"363.802273\" xlink:href=\"#m5b5d53b416\" y=\"442.08\"/>\n      </g>\n     </g>\n     <g id=\"text_2\">\n      <!-- 0.8 -->\n      <defs>\n       <path d=\"M 31.78125 34.625 \nQ 24.75 34.625 20.71875 30.859375 \nQ 16.703125 27.09375 16.703125 20.515625 \nQ 16.703125 13.921875 20.71875 10.15625 \nQ 24.75 6.390625 31.78125 6.390625 \nQ 38.8125 6.390625 42.859375 10.171875 \nQ 46.921875 13.96875 46.921875 20.515625 \nQ 46.921875 27.09375 42.890625 30.859375 \nQ 38.875 34.625 31.78125 34.625 \nz\nM 21.921875 38.8125 \nQ 15.578125 40.375 12.03125 44.71875 \nQ 8.5 49.078125 8.5 55.328125 \nQ 8.5 64.0625 14.71875 69.140625 \nQ 20.953125 74.21875 31.78125 74.21875 \nQ 42.671875 74.21875 48.875 69.140625 \nQ 55.078125 64.0625 55.078125 55.328125 \nQ 55.078125 49.078125 51.53125 44.71875 \nQ 48 40.375 41.703125 38.8125 \nQ 48.828125 37.15625 52.796875 32.3125 \nQ 56.78125 27.484375 56.78125 20.515625 \nQ 56.78125 9.90625 50.3125 4.234375 \nQ 43.84375 -1.421875 31.78125 -1.421875 \nQ 19.734375 -1.421875 13.25 4.234375 \nQ 6.78125 9.90625 6.78125 20.515625 \nQ 6.78125 27.484375 10.78125 32.3125 \nQ 14.796875 37.15625 21.921875 38.8125 \nz\nM 18.3125 54.390625 \nQ 18.3125 48.734375 21.84375 45.5625 \nQ 25.390625 42.390625 31.78125 42.390625 \nQ 38.140625 42.390625 41.71875 45.5625 \nQ 45.3125 48.734375 45.3125 54.390625 \nQ 45.3125 60.0625 41.71875 63.234375 \nQ 38.140625 66.40625 31.78125 66.40625 \nQ 25.390625 66.40625 21.84375 63.234375 \nQ 18.3125 60.0625 18.3125 54.390625 \nz\n\" id=\"DejaVuSans-56\"/>\n      </defs>\n      <g transform=\"translate(350.061973 462.2101)scale(0.1728 -0.1728)\">\n       <use xlink:href=\"#DejaVuSans-48\"/>\n       <use x=\"63.623047\" xlink:href=\"#DejaVuSans-46\"/>\n       <use x=\"95.410156\" xlink:href=\"#DejaVuSans-56\"/>\n      </g>\n     </g>\n    </g>\n    <g id=\"xtick_3\">\n     <g id=\"line2d_5\">\n      <path clip-path=\"url(#p7b9a99101d)\" d=\"M 634.347727 442.08 \nL 634.347727 7.2 \n\" style=\"fill:none;stroke:#b0b0b0;stroke-linecap:square;stroke-width:0.8;\"/>\n     </g>\n     <g id=\"line2d_6\">\n      <g>\n       <use style=\"stroke:#000000;stroke-width:0.8;\" x=\"634.347727\" xlink:href=\"#m5b5d53b416\" y=\"442.08\"/>\n      </g>\n     </g>\n     <g id=\"text_3\">\n      <!-- 0.9 -->\n      <defs>\n       <path d=\"M 10.984375 1.515625 \nL 10.984375 10.5 \nQ 14.703125 8.734375 18.5 7.8125 \nQ 22.3125 6.890625 25.984375 6.890625 \nQ 35.75 6.890625 40.890625 13.453125 \nQ 46.046875 20.015625 46.78125 33.40625 \nQ 43.953125 29.203125 39.59375 26.953125 \nQ 35.25 24.703125 29.984375 24.703125 \nQ 19.046875 24.703125 12.671875 31.3125 \nQ 6.296875 37.9375 6.296875 49.421875 \nQ 6.296875 60.640625 12.9375 67.421875 \nQ 19.578125 74.21875 30.609375 74.21875 \nQ 43.265625 74.21875 49.921875 64.515625 \nQ 56.59375 54.828125 56.59375 36.375 \nQ 56.59375 19.140625 48.40625 8.859375 \nQ 40.234375 -1.421875 26.421875 -1.421875 \nQ 22.703125 -1.421875 18.890625 -0.6875 \nQ 15.09375 0.046875 10.984375 1.515625 \nz\nM 30.609375 32.421875 \nQ 37.25 32.421875 41.125 36.953125 \nQ 45.015625 41.5 45.015625 49.421875 \nQ 45.015625 57.28125 41.125 61.84375 \nQ 37.25 66.40625 30.609375 66.40625 \nQ 23.96875 66.40625 20.09375 61.84375 \nQ 16.21875 57.28125 16.21875 49.421875 \nQ 16.21875 41.5 20.09375 36.953125 \nQ 23.96875 32.421875 30.609375 32.421875 \nz\n\" id=\"DejaVuSans-57\"/>\n      </defs>\n      <g transform=\"translate(620.607427 462.2101)scale(0.1728 -0.1728)\">\n       <use xlink:href=\"#DejaVuSans-48\"/>\n       <use x=\"63.623047\" xlink:href=\"#DejaVuSans-46\"/>\n       <use x=\"95.410156\" xlink:href=\"#DejaVuSans-57\"/>\n      </g>\n     </g>\n    </g>\n    <g id=\"xtick_4\">\n     <g id=\"line2d_7\">\n      <path clip-path=\"url(#p7b9a99101d)\" d=\"M 904.893182 442.08 \nL 904.893182 7.2 \n\" style=\"fill:none;stroke:#b0b0b0;stroke-linecap:square;stroke-width:0.8;\"/>\n     </g>\n     <g id=\"line2d_8\">\n      <g>\n       <use style=\"stroke:#000000;stroke-width:0.8;\" x=\"904.893182\" xlink:href=\"#m5b5d53b416\" y=\"442.08\"/>\n      </g>\n     </g>\n     <g id=\"text_4\">\n      <!-- 1.0 -->\n      <defs>\n       <path d=\"M 12.40625 8.296875 \nL 28.515625 8.296875 \nL 28.515625 63.921875 \nL 10.984375 60.40625 \nL 10.984375 69.390625 \nL 28.421875 72.90625 \nL 38.28125 72.90625 \nL 38.28125 8.296875 \nL 54.390625 8.296875 \nL 54.390625 0 \nL 12.40625 0 \nz\n\" id=\"DejaVuSans-49\"/>\n      </defs>\n      <g transform=\"translate(891.152882 462.2101)scale(0.1728 -0.1728)\">\n       <use xlink:href=\"#DejaVuSans-49\"/>\n       <use x=\"63.623047\" xlink:href=\"#DejaVuSans-46\"/>\n       <use x=\"95.410156\" xlink:href=\"#DejaVuSans-48\"/>\n      </g>\n     </g>\n    </g>\n   </g>\n   <g id=\"matplotlib.axis_2\">\n    <g id=\"ytick_1\">\n     <g id=\"line2d_9\">\n      <path clip-path=\"url(#p7b9a99101d)\" d=\"M 52.675 413.901122 \nL 945.475 413.901122 \n\" style=\"fill:none;stroke:#b0b0b0;stroke-linecap:square;stroke-width:0.8;\"/>\n     </g>\n     <g id=\"line2d_10\">\n      <defs>\n       <path d=\"M 0 0 \nL -3.5 0 \n\" id=\"mfd86311b21\" style=\"stroke:#000000;stroke-width:0.8;\"/>\n      </defs>\n      <g>\n       <use style=\"stroke:#000000;stroke-width:0.8;\" x=\"52.675\" xlink:href=\"#mfd86311b21\" y=\"413.901122\"/>\n      </g>\n     </g>\n     <g id=\"text_5\">\n      <!-- 89.3 -->\n      <defs>\n       <path d=\"M 40.578125 39.3125 \nQ 47.65625 37.796875 51.625 33 \nQ 55.609375 28.21875 55.609375 21.1875 \nQ 55.609375 10.40625 48.1875 4.484375 \nQ 40.765625 -1.421875 27.09375 -1.421875 \nQ 22.515625 -1.421875 17.65625 -0.515625 \nQ 12.796875 0.390625 7.625 2.203125 \nL 7.625 11.71875 \nQ 11.71875 9.328125 16.59375 8.109375 \nQ 21.484375 6.890625 26.8125 6.890625 \nQ 36.078125 6.890625 40.9375 10.546875 \nQ 45.796875 14.203125 45.796875 21.1875 \nQ 45.796875 27.640625 41.28125 31.265625 \nQ 36.765625 34.90625 28.71875 34.90625 \nL 20.21875 34.90625 \nL 20.21875 43.015625 \nL 29.109375 43.015625 \nQ 36.375 43.015625 40.234375 45.921875 \nQ 44.09375 48.828125 44.09375 54.296875 \nQ 44.09375 59.90625 40.109375 62.90625 \nQ 36.140625 65.921875 28.71875 65.921875 \nQ 24.65625 65.921875 20.015625 65.03125 \nQ 15.375 64.15625 9.8125 62.3125 \nL 9.8125 71.09375 \nQ 15.4375 72.65625 20.34375 73.4375 \nQ 25.25 74.21875 29.59375 74.21875 \nQ 40.828125 74.21875 47.359375 69.109375 \nQ 53.90625 64.015625 53.90625 55.328125 \nQ 53.90625 49.265625 50.4375 45.09375 \nQ 46.96875 40.921875 40.578125 39.3125 \nz\n\" id=\"DejaVuSans-51\"/>\n      </defs>\n      <g transform=\"translate(7.2 420.466172)scale(0.1728 -0.1728)\">\n       <use xlink:href=\"#DejaVuSans-56\"/>\n       <use x=\"63.623047\" xlink:href=\"#DejaVuSans-57\"/>\n       <use x=\"127.246094\" xlink:href=\"#DejaVuSans-46\"/>\n       <use x=\"159.033203\" xlink:href=\"#DejaVuSans-51\"/>\n      </g>\n     </g>\n    </g>\n    <g id=\"ytick_2\">\n     <g id=\"line2d_11\">\n      <path clip-path=\"url(#p7b9a99101d)\" d=\"M 52.675 329.785068 \nL 945.475 329.785068 \n\" style=\"fill:none;stroke:#b0b0b0;stroke-linecap:square;stroke-width:0.8;\"/>\n     </g>\n     <g id=\"line2d_12\">\n      <g>\n       <use style=\"stroke:#000000;stroke-width:0.8;\" x=\"52.675\" xlink:href=\"#mfd86311b21\" y=\"329.785068\"/>\n      </g>\n     </g>\n     <g id=\"text_6\">\n      <!-- 89.4 -->\n      <defs>\n       <path d=\"M 37.796875 64.3125 \nL 12.890625 25.390625 \nL 37.796875 25.390625 \nz\nM 35.203125 72.90625 \nL 47.609375 72.90625 \nL 47.609375 25.390625 \nL 58.015625 25.390625 \nL 58.015625 17.1875 \nL 47.609375 17.1875 \nL 47.609375 0 \nL 37.796875 0 \nL 37.796875 17.1875 \nL 4.890625 17.1875 \nL 4.890625 26.703125 \nz\n\" id=\"DejaVuSans-52\"/>\n      </defs>\n      <g transform=\"translate(7.2 336.350118)scale(0.1728 -0.1728)\">\n       <use xlink:href=\"#DejaVuSans-56\"/>\n       <use x=\"63.623047\" xlink:href=\"#DejaVuSans-57\"/>\n       <use x=\"127.246094\" xlink:href=\"#DejaVuSans-46\"/>\n       <use x=\"159.033203\" xlink:href=\"#DejaVuSans-52\"/>\n      </g>\n     </g>\n    </g>\n    <g id=\"ytick_3\">\n     <g id=\"line2d_13\">\n      <path clip-path=\"url(#p7b9a99101d)\" d=\"M 52.675 245.669014 \nL 945.475 245.669014 \n\" style=\"fill:none;stroke:#b0b0b0;stroke-linecap:square;stroke-width:0.8;\"/>\n     </g>\n     <g id=\"line2d_14\">\n      <g>\n       <use style=\"stroke:#000000;stroke-width:0.8;\" x=\"52.675\" xlink:href=\"#mfd86311b21\" y=\"245.669014\"/>\n      </g>\n     </g>\n     <g id=\"text_7\">\n      <!-- 89.5 -->\n      <defs>\n       <path d=\"M 10.796875 72.90625 \nL 49.515625 72.90625 \nL 49.515625 64.59375 \nL 19.828125 64.59375 \nL 19.828125 46.734375 \nQ 21.96875 47.46875 24.109375 47.828125 \nQ 26.265625 48.1875 28.421875 48.1875 \nQ 40.625 48.1875 47.75 41.5 \nQ 54.890625 34.8125 54.890625 23.390625 \nQ 54.890625 11.625 47.5625 5.09375 \nQ 40.234375 -1.421875 26.90625 -1.421875 \nQ 22.3125 -1.421875 17.546875 -0.640625 \nQ 12.796875 0.140625 7.71875 1.703125 \nL 7.71875 11.625 \nQ 12.109375 9.234375 16.796875 8.0625 \nQ 21.484375 6.890625 26.703125 6.890625 \nQ 35.15625 6.890625 40.078125 11.328125 \nQ 45.015625 15.765625 45.015625 23.390625 \nQ 45.015625 31 40.078125 35.4375 \nQ 35.15625 39.890625 26.703125 39.890625 \nQ 22.75 39.890625 18.8125 39.015625 \nQ 14.890625 38.140625 10.796875 36.28125 \nz\n\" id=\"DejaVuSans-53\"/>\n      </defs>\n      <g transform=\"translate(7.2 252.234064)scale(0.1728 -0.1728)\">\n       <use xlink:href=\"#DejaVuSans-56\"/>\n       <use x=\"63.623047\" xlink:href=\"#DejaVuSans-57\"/>\n       <use x=\"127.246094\" xlink:href=\"#DejaVuSans-46\"/>\n       <use x=\"159.033203\" xlink:href=\"#DejaVuSans-53\"/>\n      </g>\n     </g>\n    </g>\n    <g id=\"ytick_4\">\n     <g id=\"line2d_15\">\n      <path clip-path=\"url(#p7b9a99101d)\" d=\"M 52.675 161.552959 \nL 945.475 161.552959 \n\" style=\"fill:none;stroke:#b0b0b0;stroke-linecap:square;stroke-width:0.8;\"/>\n     </g>\n     <g id=\"line2d_16\">\n      <g>\n       <use style=\"stroke:#000000;stroke-width:0.8;\" x=\"52.675\" xlink:href=\"#mfd86311b21\" y=\"161.552959\"/>\n      </g>\n     </g>\n     <g id=\"text_8\">\n      <!-- 89.6 -->\n      <defs>\n       <path d=\"M 33.015625 40.375 \nQ 26.375 40.375 22.484375 35.828125 \nQ 18.609375 31.296875 18.609375 23.390625 \nQ 18.609375 15.53125 22.484375 10.953125 \nQ 26.375 6.390625 33.015625 6.390625 \nQ 39.65625 6.390625 43.53125 10.953125 \nQ 47.40625 15.53125 47.40625 23.390625 \nQ 47.40625 31.296875 43.53125 35.828125 \nQ 39.65625 40.375 33.015625 40.375 \nz\nM 52.59375 71.296875 \nL 52.59375 62.3125 \nQ 48.875 64.0625 45.09375 64.984375 \nQ 41.3125 65.921875 37.59375 65.921875 \nQ 27.828125 65.921875 22.671875 59.328125 \nQ 17.53125 52.734375 16.796875 39.40625 \nQ 19.671875 43.65625 24.015625 45.921875 \nQ 28.375 48.1875 33.59375 48.1875 \nQ 44.578125 48.1875 50.953125 41.515625 \nQ 57.328125 34.859375 57.328125 23.390625 \nQ 57.328125 12.15625 50.6875 5.359375 \nQ 44.046875 -1.421875 33.015625 -1.421875 \nQ 20.359375 -1.421875 13.671875 8.265625 \nQ 6.984375 17.96875 6.984375 36.375 \nQ 6.984375 53.65625 15.1875 63.9375 \nQ 23.390625 74.21875 37.203125 74.21875 \nQ 40.921875 74.21875 44.703125 73.484375 \nQ 48.484375 72.75 52.59375 71.296875 \nz\n\" id=\"DejaVuSans-54\"/>\n      </defs>\n      <g transform=\"translate(7.2 168.118009)scale(0.1728 -0.1728)\">\n       <use xlink:href=\"#DejaVuSans-56\"/>\n       <use x=\"63.623047\" xlink:href=\"#DejaVuSans-57\"/>\n       <use x=\"127.246094\" xlink:href=\"#DejaVuSans-46\"/>\n       <use x=\"159.033203\" xlink:href=\"#DejaVuSans-54\"/>\n      </g>\n     </g>\n    </g>\n    <g id=\"ytick_5\">\n     <g id=\"line2d_17\">\n      <path clip-path=\"url(#p7b9a99101d)\" d=\"M 52.675 77.436905 \nL 945.475 77.436905 \n\" style=\"fill:none;stroke:#b0b0b0;stroke-linecap:square;stroke-width:0.8;\"/>\n     </g>\n     <g id=\"line2d_18\">\n      <g>\n       <use style=\"stroke:#000000;stroke-width:0.8;\" x=\"52.675\" xlink:href=\"#mfd86311b21\" y=\"77.436905\"/>\n      </g>\n     </g>\n     <g id=\"text_9\">\n      <!-- 89.7 -->\n      <g transform=\"translate(7.2 84.001955)scale(0.1728 -0.1728)\">\n       <use xlink:href=\"#DejaVuSans-56\"/>\n       <use x=\"63.623047\" xlink:href=\"#DejaVuSans-57\"/>\n       <use x=\"127.246094\" xlink:href=\"#DejaVuSans-46\"/>\n       <use x=\"159.033203\" xlink:href=\"#DejaVuSans-55\"/>\n      </g>\n     </g>\n    </g>\n   </g>\n   <g id=\"line2d_19\">\n    <path clip-path=\"url(#p7b9a99101d)\" d=\"M 93.256818 26.967273 \nL 363.802273 422.312727 \nL 634.347727 60.613694 \nL 904.893182 363.431489 \n\" style=\"fill:none;stroke:#ff0000;stroke-linecap:square;stroke-width:2.5;\"/>\n   </g>\n   <g id=\"patch_3\">\n    <path d=\"M 52.675 442.08 \nL 52.675 7.2 \n\" style=\"fill:none;stroke:#000000;stroke-linecap:square;stroke-linejoin:miter;stroke-width:0.8;\"/>\n   </g>\n   <g id=\"patch_4\">\n    <path d=\"M 945.475 442.08 \nL 945.475 7.2 \n\" style=\"fill:none;stroke:#000000;stroke-linecap:square;stroke-linejoin:miter;stroke-width:0.8;\"/>\n   </g>\n   <g id=\"patch_5\">\n    <path d=\"M 52.675 442.08 \nL 945.475 442.08 \n\" style=\"fill:none;stroke:#000000;stroke-linecap:square;stroke-linejoin:miter;stroke-width:0.8;\"/>\n   </g>\n   <g id=\"patch_6\">\n    <path d=\"M 52.675 7.2 \nL 945.475 7.2 \n\" style=\"fill:none;stroke:#000000;stroke-linecap:square;stroke-linejoin:miter;stroke-width:0.8;\"/>\n   </g>\n  </g>\n </g>\n <defs>\n  <clipPath id=\"p7b9a99101d\">\n   <rect height=\"434.88\" width=\"892.8\" x=\"52.675\" y=\"7.2\"/>\n  </clipPath>\n </defs>\n</svg>\n"
          },
          "metadata": {
            "needs_background": "light"
          }
        }
      ]
    },
    {
      "cell_type": "markdown",
      "source": [
        "### Q3:"
      ],
      "metadata": {
        "id": "IDL9azHgixaB"
      }
    },
    {
      "cell_type": "markdown",
      "source": [
        "using batch norm layer:\n",
        "\n",
        "after conv layers only : acc = 89.31% (2min 20sec)\n",
        "\n",
        "after fully connected layers only : acc = 89.01% (2min 11sec) with lr = 0.5\n",
        "\n",
        "  acc = 89.47% (2min 15sec) with lr = 0.1\n",
        "\n",
        "accuracy decreased a bit when we didn't use batch norm layers after every layer"
      ],
      "metadata": {
        "id": "vNiT2mo2I_RU"
      }
    },
    {
      "cell_type": "code",
      "source": [
        "#@title BNLeNet2\n",
        "class BNLeNet2(nn.Module):\n",
        "\n",
        "  def __init__(self, lr=0.1, num_classes=10):\n",
        "    super().__init__()\n",
        "    self.lr = lr\n",
        "    self.num_classes = num_classes\n",
        "    self.net = nn.Sequential(\n",
        "        nn.LazyConv2d(6, kernel_size=5), nn.ReLU(),\n",
        "        nn.MaxPool2d(kernel_size=2, stride=2),\n",
        "        nn.LazyConv2d(16, kernel_size=5), nn.ReLU(),\n",
        "        nn.MaxPool2d(kernel_size=2, stride=2),\n",
        "        nn.Flatten(),\n",
        "        nn.LazyLinear(120, bias=False), nn.LazyBatchNorm1d(), nn.ReLU(),\n",
        "        nn.LazyLinear(84, bias=False),  nn.LazyBatchNorm1d(), nn.ReLU(),\n",
        "        nn.LazyLinear(num_classes, bias=False)\n",
        "    )\n",
        "\n",
        "  def forward(self, X):\n",
        "    return self.net(X)\n",
        "\n",
        "  def apply_init(self, inputs, init=None):\n",
        "    self.forward(*inputs)\n",
        "    if init is not None:\n",
        "      self.net.apply(init)"
      ],
      "metadata": {
        "cellView": "form",
        "id": "cHZhkADwiLyI"
      },
      "execution_count": 17,
      "outputs": []
    },
    {
      "cell_type": "code",
      "source": [
        "model = BNLeNet2(lr=0.1)\n",
        "trainer = Trainer(num_epochs=10)\n",
        "model.apply_init([next(iter(train_loader))[0]], init_cnn)\n",
        "trainer.fit(model, train_loader)\n",
        "acc = acc_model(model, test_loader)\n",
        "print(acc)"
      ],
      "metadata": {
        "colab": {
          "base_uri": "https://localhost:8080/"
        },
        "id": "1YRg8aeCJPlX",
        "outputId": "26fb0329-e0af-4298-80b7-df1fa6691626"
      },
      "execution_count": 74,
      "outputs": [
        {
          "output_type": "stream",
          "name": "stdout",
          "text": [
            "89.47\n"
          ]
        }
      ]
    },
    {
      "cell_type": "code",
      "source": [
        "model.net[8].state_dict()"
      ],
      "metadata": {
        "colab": {
          "base_uri": "https://localhost:8080/"
        },
        "id": "khWGM4qYRWbc",
        "outputId": "dd3b9b71-eed6-406a-e4e5-500b6d3e8ad1"
      },
      "execution_count": 84,
      "outputs": [
        {
          "output_type": "execute_result",
          "data": {
            "text/plain": [
              "OrderedDict([('weight',\n",
              "              tensor([0.9766, 0.9978, 1.0322, 1.0186, 0.9809, 1.0304, 1.0147, 1.0637, 1.0035,\n",
              "                      0.9842, 0.9932, 0.9758, 0.9587, 1.0102, 1.0544, 0.9968, 1.0261, 0.9826,\n",
              "                      1.0007, 0.9882, 0.9628, 1.0361, 0.9892, 0.9539, 0.9801, 0.9847, 1.0474,\n",
              "                      0.9608, 1.0035, 0.9578, 0.9526, 0.9557, 0.9930, 0.9635, 1.0366, 1.0120,\n",
              "                      1.0102, 0.9979, 0.9641, 0.9437, 1.0168, 0.9841, 0.9556, 0.9986, 1.0027,\n",
              "                      0.9734, 1.0092, 1.0306, 0.9984, 0.9820, 1.0378, 0.9809, 0.9737, 0.9819,\n",
              "                      1.0482, 0.9899, 1.0613, 1.0287, 1.0612, 0.9689, 0.9358, 0.9907, 0.9732,\n",
              "                      0.9824, 1.0116, 1.0203, 0.9847, 0.9657, 1.0251, 1.0431, 0.9963, 0.9835,\n",
              "                      0.9731, 0.9911, 0.9867, 0.9710, 1.0196, 1.0535, 1.0066, 0.9802, 0.9531,\n",
              "                      1.0469, 1.0244, 0.9877, 0.9962, 0.9989, 0.9862, 1.0058, 1.0357, 0.9423,\n",
              "                      0.9902, 1.0040, 1.0237, 0.9712, 1.0475, 1.0383, 0.9569, 0.9652, 1.0158,\n",
              "                      1.0348, 1.0513, 1.0016, 0.9838, 0.9997, 0.9710, 1.0030, 0.9662, 1.0479,\n",
              "                      1.0029, 0.9960, 0.9982, 0.9792, 1.0289, 1.0255, 1.0053, 1.0558, 1.0309,\n",
              "                      1.0217, 0.9984, 1.0071])),\n",
              "             ('bias',\n",
              "              tensor([-0.0443,  0.0058, -0.0569, -0.0181,  0.0137,  0.0270, -0.0329,  0.0495,\n",
              "                       0.0844, -0.0070, -0.0453, -0.0485, -0.0272,  0.0444, -0.0265, -0.0613,\n",
              "                       0.0114, -0.0388,  0.0498,  0.0142,  0.0030, -0.0149,  0.0035, -0.0376,\n",
              "                      -0.0292,  0.0370,  0.0275, -0.0288, -0.0210, -0.0747, -0.0524, -0.0440,\n",
              "                      -0.0142, -0.0372,  0.0230, -0.0077,  0.0293, -0.0161,  0.0009, -0.0304,\n",
              "                       0.0476, -0.0030, -0.0224, -0.0719, -0.0666, -0.0024, -0.0287,  0.0523,\n",
              "                      -0.0259, -0.0453, -0.0571, -0.0389,  0.0272, -0.0592,  0.0104,  0.0026,\n",
              "                      -0.0211, -0.0065,  0.0422, -0.0508, -0.0360, -0.0039, -0.0038, -0.0279,\n",
              "                       0.0047, -0.0538, -0.0006, -0.0477, -0.0046, -0.0152, -0.0659, -0.0265,\n",
              "                       0.0119,  0.0054, -0.0275,  0.0056, -0.0835,  0.0022,  0.0353, -0.0144,\n",
              "                      -0.0292, -0.0114,  0.0683, -0.0046,  0.0388, -0.0172, -0.0175,  0.0254,\n",
              "                       0.0880, -0.0003, -0.0144,  0.0293, -0.0456, -0.0375, -0.0085, -0.0218,\n",
              "                      -0.0748, -0.0290,  0.0075,  0.0083,  0.0055,  0.0066,  0.0106, -0.0047,\n",
              "                      -0.1306, -0.0307,  0.0430, -0.0484,  0.0027, -0.0158, -0.0512, -0.0144,\n",
              "                      -0.0323,  0.0537, -0.0553,  0.0469, -0.0465, -0.0237, -0.0027,  0.0108])),\n",
              "             ('running_mean',\n",
              "              tensor([ 0.9613,  0.5595, -1.8000, -0.5479, -0.2295, -0.0318, -0.5316, -0.0936,\n",
              "                      -1.5261, -0.3803,  0.3575,  0.1516, -0.2763, -0.2556, -0.4878, -0.6572,\n",
              "                      -0.2448,  0.2276,  1.5134,  0.2018,  0.3055, -0.6885, -0.1037,  0.7879,\n",
              "                       0.2630, -1.4659, -0.5157, -0.1223,  0.6879, -0.2141, -1.1834, -1.2305,\n",
              "                      -0.7812,  0.3727,  0.0119, -0.2881, -0.8139, -0.2831, -0.7817,  1.9151,\n",
              "                      -1.3243, -1.1079,  1.9180, -0.6676, -1.0303,  0.0249, -1.1321, -0.1104,\n",
              "                       0.8926, -2.3920, -1.7216,  0.3804,  1.3141,  2.1270, -0.4748, -1.3752,\n",
              "                      -0.8551, -0.2311, -0.8043, -0.3503, -1.3983, -0.6555, -0.3844, -0.1775,\n",
              "                      -1.3095,  0.0622,  0.1809,  0.7023, -1.7979,  0.4207, -0.0112,  0.0293,\n",
              "                      -0.8630, -0.0309,  0.5185, -0.5414,  0.4783, -1.4988, -1.1413, -0.6812,\n",
              "                       0.1329, -2.0051, -1.3277,  0.0281, -0.5492, -0.3410, -0.3048, -1.1495,\n",
              "                      -1.2233, -0.1573, -2.0149, -0.0905,  0.0114,  1.0551, -0.2786, -0.3707,\n",
              "                       1.3575, -0.1183, -0.4179, -0.2293, -0.4262, -1.2040, -0.8444,  0.7774,\n",
              "                      -0.5977, -1.1319, -0.4384, -0.8136, -0.1187, -2.1147,  0.3585,  0.0886,\n",
              "                       0.0583, -0.5597, -2.1044,  0.1775,  0.6725, -1.2019,  0.1963,  0.8319])),\n",
              "             ('running_var',\n",
              "              tensor([0.2439, 0.1441, 0.3769, 0.2986, 0.2421, 0.3824, 0.2721, 0.3241, 0.4084,\n",
              "                      0.4133, 0.1902, 0.1982, 0.3226, 0.2635, 0.3002, 0.1702, 0.3901, 0.2846,\n",
              "                      0.2594, 0.5505, 0.4980, 0.2478, 0.2091, 0.4831, 0.5439, 0.2997, 0.2663,\n",
              "                      0.3155, 0.3057, 0.2779, 0.1573, 0.2887, 0.2367, 0.2529, 0.2761, 0.2741,\n",
              "                      0.2482, 0.2327, 0.2672, 0.6065, 0.2923, 0.4146, 0.6172, 0.3110, 0.2435,\n",
              "                      0.2458, 0.4879, 0.4166, 0.3274, 0.4260, 0.2799, 0.2056, 0.3386, 0.4478,\n",
              "                      0.2498, 0.1871, 0.2243, 0.3564, 0.4019, 0.3060, 0.2427, 0.3323, 0.4027,\n",
              "                      0.1441, 0.3210, 0.5596, 0.3011, 0.2740, 0.5252, 0.2609, 0.2068, 0.3644,\n",
              "                      0.3921, 0.4217, 0.3945, 0.2050, 0.3965, 0.2511, 0.3292, 0.3714, 0.2640,\n",
              "                      0.3171, 0.3832, 0.5163, 0.2314, 0.2616, 0.2093, 0.4121, 0.2150, 0.2857,\n",
              "                      0.3439, 0.2715, 0.2747, 0.1824, 0.2564, 0.2506, 0.2138, 0.3320, 0.2577,\n",
              "                      0.2550, 0.2428, 0.4176, 0.2636, 0.2276, 0.2758, 0.1681, 0.1952, 0.1861,\n",
              "                      0.4106, 0.2702, 0.2004, 0.3601, 0.3219, 0.2996, 0.3805, 0.2881, 0.2432,\n",
              "                      0.2884, 0.3336, 0.2825])),\n",
              "             ('num_batches_tracked', tensor(4770))])"
            ]
          },
          "metadata": {},
          "execution_count": 84
        }
      ]
    },
    {
      "cell_type": "markdown",
      "source": [
        "### Q4:"
      ],
      "metadata": {
        "id": "nnIY-gZOO800"
      }
    },
    {
      "cell_type": "markdown",
      "source": [
        "when we just make the mean of the batch to be zero without changing the variance : acc = 86.96% (2min 29sec) lr = 0.1\n",
        "\n",
        "unit variance but not changing the mean: \n",
        "acc = 85.81% (3min 46sec) lr = 0.1\n",
        "\n",
        "accuracy decreased a bit in both the cases"
      ],
      "metadata": {
        "id": "sSAXM12HJ11W"
      }
    },
    {
      "cell_type": "code",
      "source": [
        "def batch_norm_mod(X, gamma, beta, moving_var, eps, momentum):\n",
        "\n",
        "  # just makes the mean of the batch zero\n",
        "\n",
        "  if not torch.is_grad_enabled():\n",
        "    X_hat = X / torch.sqrt(moving_var + eps)\n",
        "\n",
        "  else:\n",
        "    assert len(X.shape) in (2, 4)\n",
        "\n",
        "    if len(X.shape) == 2:\n",
        "      # we are using a fully connected layer\n",
        "      mean = X.mean(dim=0)\n",
        "      var = ((X - mean) ** 2).mean(dim=0)\n",
        "    else:\n",
        "      mean = X.mean(dim=(0, 2, 3), keepdim=True)\n",
        "      var = ((X - mean) ** 2).mean(dim=(0, 2, 3), keepdim=True)\n",
        "\n",
        "    X_hat = X / torch.sqrt(var + eps)\n",
        "    moving_var = (1.0 - momentum) * moving_var + momentum * var\n",
        "\n",
        "  Y = gamma * X_hat + beta\n",
        "  return Y, moving_var"
      ],
      "metadata": {
        "id": "ZTeNYdb6JR6_"
      },
      "execution_count": 18,
      "outputs": []
    },
    {
      "cell_type": "code",
      "source": [
        "class BatchNorm1(nn.Module):\n",
        "\n",
        "  def __init__(self, num_features, num_dims):\n",
        "    # num_features : number of outputs for a conv or fc layer\n",
        "    # num_dims : 2 for fc layer and 4 for conv layer\n",
        "    super().__init__()\n",
        "\n",
        "    if num_dims == 2:\n",
        "      shape = (1, num_features)\n",
        "    else:\n",
        "      shape = (1, num_features, 1, 1)\n",
        "    \n",
        "    self.gamma = nn.Parameter(torch.ones(shape)) # scale parameter\n",
        "    self.beta = nn.Parameter(torch.zeros(shape)) # shift parameter\n",
        "\n",
        "    self.moving_var = torch.ones(shape)\n",
        "\n",
        "  def forward(self, X):\n",
        "    Y, self.moving_var = batch_norm_mod(X, self.gamma, self.beta, self.moving_var, eps=1e-5, momentum=0.1)\n",
        "    return Y"
      ],
      "metadata": {
        "id": "lJtRvUF3P1Fr"
      },
      "execution_count": 19,
      "outputs": []
    },
    {
      "cell_type": "code",
      "source": [
        "#@title BNLeNet3 with custom batch_norm layer\n",
        "class BNLeNet3(nn.Module):\n",
        "\n",
        "  def __init__(self, lr=0.1, num_classes=10):\n",
        "    super().__init__()\n",
        "    self.lr = lr\n",
        "    self.num_classes = num_classes\n",
        "    self.net = nn.Sequential(\n",
        "        nn.LazyConv2d(6, kernel_size=5), BatchNorm1(6, 4),nn.ReLU(),\n",
        "        nn.MaxPool2d(kernel_size=2, stride=2),\n",
        "        nn.LazyConv2d(16, kernel_size=5), BatchNorm1(16, 4),nn.ReLU(),\n",
        "        nn.MaxPool2d(kernel_size=2, stride=2),\n",
        "        nn.Flatten(),\n",
        "        nn.LazyLinear(120), BatchNorm1(120, 2), nn.ReLU(),\n",
        "        nn.LazyLinear(84),  BatchNorm1(84, 2), nn.ReLU(),\n",
        "        nn.LazyLinear(num_classes)\n",
        "    )\n",
        "\n",
        "  def forward(self, X):\n",
        "    return self.net(X)\n",
        "\n",
        "  def apply_init(self, inputs, init=None):\n",
        "    self.forward(*inputs)\n",
        "    if init is not None:\n",
        "      self.net.apply(init)"
      ],
      "metadata": {
        "id": "FYgfal8_QUVE"
      },
      "execution_count": 20,
      "outputs": []
    },
    {
      "cell_type": "code",
      "source": [
        "model = BNLeNet3(lr=0.1)\n",
        "trainer = Trainer(num_epochs=10)\n",
        "model.apply_init([next(iter(train_loader))[0]], init_cnn)\n",
        "trainer.fit(model, train_loader)\n",
        "acc = acc_model(model, test_loader)\n",
        "print(acc)"
      ],
      "metadata": {
        "colab": {
          "base_uri": "https://localhost:8080/"
        },
        "id": "oWg4ak2-RUTE",
        "outputId": "9a24b530-4efc-4eae-a539-5fd4ca4006d7"
      },
      "execution_count": 21,
      "outputs": [
        {
          "output_type": "stream",
          "name": "stderr",
          "text": [
            "/usr/local/lib/python3.8/dist-packages/torch/nn/modules/lazy.py:180: UserWarning: Lazy modules are a new feature under heavy development so changes to the API or functionality can happen at any moment.\n",
            "  warnings.warn('Lazy modules are a new feature under heavy development '\n"
          ]
        },
        {
          "output_type": "stream",
          "name": "stdout",
          "text": [
            "85.81\n"
          ]
        }
      ]
    },
    {
      "cell_type": "code",
      "source": [
        "model.net[1].gamma.reshape(-1), model.net[1].beta.reshape(-1)"
      ],
      "metadata": {
        "colab": {
          "base_uri": "https://localhost:8080/"
        },
        "id": "aBpWPhTGKAjr",
        "outputId": "2ab10fbb-9771-4d52-93c7-635e8a1ada4d"
      },
      "execution_count": 26,
      "outputs": [
        {
          "output_type": "execute_result",
          "data": {
            "text/plain": [
              "(tensor([0.7183, 0.7086, 0.9902, 2.0279, 0.6023, 1.0053],\n",
              "        grad_fn=<ReshapeAliasBackward0>),\n",
              " tensor([-0.2237, -0.1515, -0.0920,  0.3600,  0.0393, -0.0834],\n",
              "        grad_fn=<ReshapeAliasBackward0>))"
            ]
          },
          "metadata": {},
          "execution_count": 26
        }
      ]
    },
    {
      "cell_type": "markdown",
      "source": [
        "### Q5:"
      ],
      "metadata": {
        "id": "_GzOlAaiJm3b"
      }
    },
    {
      "cell_type": "markdown",
      "source": [
        "need to make a custom layer with fixed beta and gamma\n",
        "\n",
        "acc = 88.12% (4min) lr = 0.1"
      ],
      "metadata": {
        "id": "-9O7fyyaKTHm"
      }
    },
    {
      "cell_type": "code",
      "source": [
        "#@title BatchNorm2 fixes beta and gamma\n",
        "class BatchNorm2(nn.Module):\n",
        "\n",
        "  def __init__(self, num_features, num_dims):\n",
        "    super().__init__()\n",
        "\n",
        "    if num_dims == 2:\n",
        "      shape = (1, num_features)\n",
        "    else:\n",
        "      shape = (1, num_features, 1, 1)\n",
        "    \n",
        "    self.gamma = torch.rand(shape) # keeping beta and gamma to be fixed and not updating them during training\n",
        "    self.beta = torch.rand(shape)\n",
        "\n",
        "    self.moving_mean = torch.zeros(shape)\n",
        "    self.moving_var = torch.zeros(shape)\n",
        "\n",
        "  def forward(self, X):\n",
        "    Y, self.moving_mean, self.moving_var = batch_norm(X, self.gamma, self.beta, self.moving_mean, self.moving_var, eps=1e-5, momentum=0.1)\n",
        "    return Y"
      ],
      "metadata": {
        "cellView": "form",
        "id": "7wYLsB0qLnfF"
      },
      "execution_count": 32,
      "outputs": []
    },
    {
      "cell_type": "code",
      "source": [
        "#@title BNLeNet4\n",
        "class BNLeNet4(nn.Module):\n",
        "\n",
        "  def __init__(self, lr=0.1, num_classes=10):\n",
        "    super().__init__()\n",
        "    self.num_classes = num_classes\n",
        "    self.lr = lr\n",
        "    self.net = nn.Sequential(\n",
        "        nn.LazyConv2d(6, kernel_size=5), BatchNorm2(6, 4), nn.ReLU(),\n",
        "        nn.MaxPool2d(kernel_size=2, stride=2),\n",
        "        nn.LazyConv2d(16, kernel_size=5), BatchNorm2(16, 4), nn.ReLU(),\n",
        "        nn.MaxPool2d(kernel_size=2, stride=2),\n",
        "        nn.Flatten(),\n",
        "        nn.LazyLinear(120), BatchNorm2(120, 2), nn.ReLU(),\n",
        "        nn.LazyLinear(84), BatchNorm2(84, 2), nn.ReLU(),\n",
        "        nn.LazyLinear(num_classes)\n",
        "    )\n",
        "\n",
        "  def forward(self, X):\n",
        "    return self.net(X)\n",
        "\n",
        "  def apply_init(self, inputs, init=None):\n",
        "    self.forward(*inputs)\n",
        "    if init is not None:\n",
        "      self.net.apply(init)"
      ],
      "metadata": {
        "cellView": "form",
        "id": "5T2UDbE0Rnuk"
      },
      "execution_count": 30,
      "outputs": []
    },
    {
      "cell_type": "code",
      "source": [
        "model = BNLeNet4(lr=0.1)\n",
        "trainer = Trainer(num_epochs=10)\n",
        "model.apply_init([next(iter(train_loader))[0]], init_cnn)\n",
        "trainer.fit(model, train_loader)\n",
        "acc = acc_model(model, test_loader)\n",
        "print(acc)"
      ],
      "metadata": {
        "colab": {
          "base_uri": "https://localhost:8080/"
        },
        "id": "AEOBde_BMqJb",
        "outputId": "0d21159c-2e0c-416c-c7b9-ccebf941cfc8"
      },
      "execution_count": 31,
      "outputs": [
        {
          "output_type": "stream",
          "name": "stdout",
          "text": [
            "88.12\n"
          ]
        }
      ]
    },
    {
      "cell_type": "markdown",
      "source": [
        "### Q6:\n",
        "\n",
        "using dropout instead of batch norm : acc = 80.64% (2min 56sec) lr = 0.1"
      ],
      "metadata": {
        "id": "Ctnxi7gXNj4Z"
      }
    },
    {
      "cell_type": "code",
      "source": [
        "#@title LeNet with dropout : DLeNet\n",
        "class DLeNet(nn.Module):\n",
        "\n",
        "  def __init__(self, lr=0.1, num_classes=10):\n",
        "    super().__init__()\n",
        "    self.lr = lr\n",
        "    self.num_classes = num_classes\n",
        "    self.net = nn.Sequential(\n",
        "        nn.LazyConv2d(6, kernel_size=5), nn.ReLU(), nn.Dropout(p=0.5),\n",
        "        nn.MaxPool2d(kernel_size=2, stride=2),\n",
        "        nn.LazyConv2d(16, kernel_size=5), nn.ReLU(), nn.Dropout(p=0.5),\n",
        "        nn.MaxPool2d(kernel_size=2, stride=2),\n",
        "        nn.Flatten(),\n",
        "        nn.LazyLinear(120), nn.ReLU(), nn.Dropout(p=0.5),\n",
        "        nn.LazyLinear(84), nn.ReLU(), nn.Dropout(p=0.5),\n",
        "        nn.LazyLinear(num_classes)\n",
        "    )\n",
        "\n",
        "  def forward(self, X):\n",
        "    return self.net(X)\n",
        "\n",
        "  def apply_init(self, inputs, init=None):\n",
        "    self.forward(*inputs)\n",
        "    if init is not None:\n",
        "      self.net.apply(init)"
      ],
      "metadata": {
        "cellView": "form",
        "id": "8U-xieB6MsXW"
      },
      "execution_count": 34,
      "outputs": []
    },
    {
      "cell_type": "code",
      "source": [
        "model = DLeNet(lr=0.1)\n",
        "trainer = Trainer(num_epochs=10)\n",
        "model.apply_init([next(iter(train_loader))[0]], init_cnn)\n",
        "trainer.fit(model, train_loader)\n",
        "acc = acc_model(model, test_loader)\n",
        "print(acc)"
      ],
      "metadata": {
        "colab": {
          "base_uri": "https://localhost:8080/"
        },
        "id": "-M-5VoWcO4pf",
        "outputId": "27380a85-6e18-49a8-cb8d-c19ca2b983f9"
      },
      "execution_count": 36,
      "outputs": [
        {
          "output_type": "stream",
          "name": "stderr",
          "text": [
            "/usr/local/lib/python3.8/dist-packages/torch/nn/modules/lazy.py:180: UserWarning: Lazy modules are a new feature under heavy development so changes to the API or functionality can happen at any moment.\n",
            "  warnings.warn('Lazy modules are a new feature under heavy development '\n"
          ]
        },
        {
          "output_type": "stream",
          "name": "stdout",
          "text": [
            "80.64\n"
          ]
        }
      ]
    }
  ]
}