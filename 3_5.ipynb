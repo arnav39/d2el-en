{
  "nbformat": 4,
  "nbformat_minor": 0,
  "metadata": {
    "colab": {
      "provenance": [],
      "authorship_tag": "ABX9TyMI5btYnF2vTbJOHNMQpHkk",
      "include_colab_link": true
    },
    "kernelspec": {
      "name": "python3",
      "display_name": "Python 3"
    },
    "language_info": {
      "name": "python"
    }
  },
  "cells": [
    {
      "cell_type": "markdown",
      "metadata": {
        "id": "view-in-github",
        "colab_type": "text"
      },
      "source": [
        "<a href=\"https://colab.research.google.com/github/arnav39/d2el-en/blob/main/3_5.ipynb\" target=\"_parent\"><img src=\"https://colab.research.google.com/assets/colab-badge.svg\" alt=\"Open In Colab\"/></a>"
      ]
    },
    {
      "cell_type": "code",
      "execution_count": 29,
      "metadata": {
        "id": "LTadvcm5kmyl"
      },
      "outputs": [],
      "source": [
        "import numpy as np\n",
        "import torch \n",
        "import torch.nn as nn"
      ]
    },
    {
      "cell_type": "code",
      "source": [
        "nn.LazyLinear??"
      ],
      "metadata": {
        "id": "75ocTt9ilAoN"
      },
      "execution_count": null,
      "outputs": []
    },
    {
      "cell_type": "code",
      "source": [
        "model = nn.LazyLinear(1)\n",
        "model"
      ],
      "metadata": {
        "colab": {
          "base_uri": "https://localhost:8080/"
        },
        "id": "PKrFF6DamQii",
        "outputId": "f501e53f-61fb-4f2a-e861-a593bcc222ba"
      },
      "execution_count": null,
      "outputs": [
        {
          "output_type": "stream",
          "name": "stderr",
          "text": [
            "/usr/local/lib/python3.8/dist-packages/torch/nn/modules/lazy.py:178: UserWarning: Lazy modules are a new feature under heavy development so changes to the API or functionality can happen at any moment.\n",
            "  warnings.warn('Lazy modules are a new feature under heavy development '\n"
          ]
        },
        {
          "output_type": "execute_result",
          "data": {
            "text/plain": [
              "LazyLinear(in_features=0, out_features=1, bias=True)"
            ]
          },
          "metadata": {},
          "execution_count": 16
        }
      ]
    },
    {
      "cell_type": "code",
      "source": [
        "model.weight.data"
      ],
      "metadata": {
        "colab": {
          "base_uri": "https://localhost:8080/"
        },
        "id": "WZplOl6Hmv3O",
        "outputId": "43e2d1d3-c35b-4ccc-de9f-d74562deb9a0"
      },
      "execution_count": null,
      "outputs": [
        {
          "output_type": "execute_result",
          "data": {
            "text/plain": [
              "tensor([])"
            ]
          },
          "metadata": {},
          "execution_count": 17
        }
      ]
    },
    {
      "cell_type": "code",
      "source": [
        "print(model.weight.grad)"
      ],
      "metadata": {
        "colab": {
          "base_uri": "https://localhost:8080/"
        },
        "id": "vgFg2EUQoA3d",
        "outputId": "887f4baa-8e9b-45de-e45e-f4c1ad3ddc44"
      },
      "execution_count": null,
      "outputs": [
        {
          "output_type": "stream",
          "name": "stdout",
          "text": [
            "None\n"
          ]
        }
      ]
    },
    {
      "cell_type": "code",
      "source": [
        "model.bias.data"
      ],
      "metadata": {
        "colab": {
          "base_uri": "https://localhost:8080/"
        },
        "id": "XqXhh3zsnA7a",
        "outputId": "06f4e940-9041-4921-dd33-930495c486ef"
      },
      "execution_count": null,
      "outputs": [
        {
          "output_type": "execute_result",
          "data": {
            "text/plain": [
              "tensor([])"
            ]
          },
          "metadata": {},
          "execution_count": 18
        }
      ]
    },
    {
      "cell_type": "code",
      "source": [
        "for par in model.parameters():\n",
        "  print(par)"
      ],
      "metadata": {
        "colab": {
          "base_uri": "https://localhost:8080/"
        },
        "id": "3TTDHT6QnHU-",
        "outputId": "5979d156-29b4-4674-89aa-2e69ea69ee46"
      },
      "execution_count": null,
      "outputs": [
        {
          "output_type": "stream",
          "name": "stdout",
          "text": [
            "<UninitializedParameter>\n",
            "<UninitializedParameter>\n"
          ]
        }
      ]
    },
    {
      "cell_type": "code",
      "source": [
        "X = torch.randn(1000, 5)\n",
        "print(f\"X.shape = {X.shape}\")"
      ],
      "metadata": {
        "colab": {
          "base_uri": "https://localhost:8080/"
        },
        "id": "jNCs1EenmZAz",
        "outputId": "cd537bf5-6a6b-4fbf-af69-d76f2682cf13"
      },
      "execution_count": null,
      "outputs": [
        {
          "output_type": "stream",
          "name": "stdout",
          "text": [
            "X.shape = torch.Size([1000, 5])\n"
          ]
        }
      ]
    },
    {
      "cell_type": "code",
      "source": [
        "model(X)"
      ],
      "metadata": {
        "id": "g37DkIg0mlGq"
      },
      "execution_count": null,
      "outputs": []
    },
    {
      "cell_type": "code",
      "source": [
        "model"
      ],
      "metadata": {
        "colab": {
          "base_uri": "https://localhost:8080/"
        },
        "id": "D_9gVrt7mmf9",
        "outputId": "977232c4-e1a5-42d3-ece2-ab6b46db53ff"
      },
      "execution_count": null,
      "outputs": [
        {
          "output_type": "execute_result",
          "data": {
            "text/plain": [
              "Linear(in_features=5, out_features=1, bias=True)"
            ]
          },
          "metadata": {},
          "execution_count": 6
        }
      ]
    },
    {
      "cell_type": "markdown",
      "source": [
        "# Ex 3.5"
      ],
      "metadata": {
        "id": "9d8Xc0O0oKdj"
      }
    },
    {
      "cell_type": "markdown",
      "source": [
        "## Q1 : \n",
        "both are the same, because we are still using average loss functions"
      ],
      "metadata": {
        "id": "1wS1oGhDoMnS"
      }
    },
    {
      "cell_type": "code",
      "source": [
        "nn.MSELoss(reduction=\"mean\") "
      ],
      "metadata": {
        "colab": {
          "base_uri": "https://localhost:8080/"
        },
        "id": "SOeLYd5Amo0F",
        "outputId": "f1eda36a-e909-4d8c-d183-eec501ab5328"
      },
      "execution_count": null,
      "outputs": [
        {
          "output_type": "execute_result",
          "data": {
            "text/plain": [
              "MSELoss()"
            ]
          },
          "metadata": {},
          "execution_count": 21
        }
      ]
    },
    {
      "cell_type": "markdown",
      "source": [
        "## Q2:"
      ],
      "metadata": {
        "id": "U4jooQODo3Qf"
      }
    },
    {
      "cell_type": "code",
      "source": [
        "l = nn.L1Loss() # mean absolute error loss function"
      ],
      "metadata": {
        "id": "v6gsooSJooAp"
      },
      "execution_count": null,
      "outputs": []
    },
    {
      "cell_type": "code",
      "source": [
        "y = torch.tensor([1, 2, 3, 4], dtype=torch.float32)\n",
        "y_hat = torch.tensor([1, 2, 3, 6], dtype=torch.float32)\n",
        "\n",
        "print(l(y, y_hat)) # should be = 2/4"
      ],
      "metadata": {
        "colab": {
          "base_uri": "https://localhost:8080/"
        },
        "id": "XdLDbvAVpgJO",
        "outputId": "ee9b91e5-cb17-448c-e354-570021bb6d5b"
      },
      "execution_count": null,
      "outputs": [
        {
          "output_type": "stream",
          "name": "stdout",
          "text": [
            "tensor(0.5000)\n"
          ]
        }
      ]
    },
    {
      "cell_type": "markdown",
      "source": [
        "## Q5:"
      ],
      "metadata": {
        "id": "_uqQ72FMsk6t"
      }
    },
    {
      "cell_type": "markdown",
      "source": [
        "for very less amount of data, loss is significant\n",
        "\n",
        "but after a certain point, as the amount of data increase the loss is already at a very low level so doesn't create much of differnce"
      ],
      "metadata": {
        "id": "RFb4B5AiweGp"
      }
    },
    {
      "cell_type": "code",
      "source": [
        "def give_data(n_samples, w, b):\n",
        "  torch.manual_seed(0)\n",
        "\n",
        "  try:\n",
        "    w.shape[1]\n",
        "  except:\n",
        "    w = w.reshape(-1, 1)\n",
        "\n",
        "    X = torch.randn(n_samples, w.shape[0])\n",
        "    noise = torch.normal(0, 0.01, (n_samples, 1)) * 0.01\n",
        "    y = torch.mm(X, w) + noise + b\n",
        "\n",
        "    return X, y"
      ],
      "metadata": {
        "id": "Vz6-mv8wpwJO"
      },
      "execution_count": 4,
      "outputs": []
    },
    {
      "cell_type": "code",
      "source": [
        "def doLinearRegression(X, y, learning_rate=0.01):\n",
        "\n",
        "  model = nn.Linear(X.shape[1], y.shape[1])\n",
        "  optimizer = torch.optim.SGD(model.parameters(), lr=learning_rate)\n",
        "  criterion = nn.MSELoss()\n",
        "\n",
        "  max_epochs = 1000\n",
        "\n",
        "  for epoch in range(max_epochs):\n",
        "\n",
        "    #forward pass : loss and y_hat\n",
        "    y_hat = model(X)\n",
        "    l = criterion(y, y_hat)\n",
        "\n",
        "    # backward pass : gradient\n",
        "    l.backward(retain_graph=True)\n",
        "\n",
        "    # update the params\n",
        "    optimizer.step()\n",
        "\n",
        "    # empty the gradient\n",
        "    optimizer.zero_grad()\n",
        "\n",
        "    if (epoch+1) % (max_epochs/10) == 0:\n",
        "      print(f\"epoch : {epoch+1}/{max_epochs}, loss = {l}\")"
      ],
      "metadata": {
        "id": "fEzS2SsnshVz"
      },
      "execution_count": null,
      "outputs": []
    },
    {
      "cell_type": "code",
      "source": [
        "w = torch.tensor([-5.6, 1.34, 8.12], dtype=torch.float32, requires_grad=True)\n",
        "b = torch.tensor([-3.234], dtype=torch.float32, requires_grad=True)"
      ],
      "metadata": {
        "id": "Qt7A5QMoqs4Z"
      },
      "execution_count": null,
      "outputs": []
    },
    {
      "cell_type": "code",
      "source": [
        "n_samples = 10\n",
        "X, y = give_data(n_samples, w, b)\n",
        "\n",
        "doLinearRegression(X, y, 0.01)"
      ],
      "metadata": {
        "colab": {
          "base_uri": "https://localhost:8080/"
        },
        "id": "gdJQqsJ5rWLz",
        "outputId": "63ad1989-bb2d-4ab6-aea8-24791cc4786a"
      },
      "execution_count": null,
      "outputs": [
        {
          "output_type": "stream",
          "name": "stdout",
          "text": [
            "epoch : 100/1000, loss = 4.5694427490234375\n",
            "epoch : 200/1000, loss = 1.6857534646987915\n",
            "epoch : 300/1000, loss = 0.8019669651985168\n",
            "epoch : 400/1000, loss = 0.3922577202320099\n",
            "epoch : 500/1000, loss = 0.19246433675289154\n",
            "epoch : 600/1000, loss = 0.09446774423122406\n",
            "epoch : 700/1000, loss = 0.04636945575475693\n",
            "epoch : 800/1000, loss = 0.022760611027479172\n",
            "epoch : 900/1000, loss = 0.01117223035544157\n",
            "epoch : 1000/1000, loss = 0.005483879707753658\n"
          ]
        }
      ]
    },
    {
      "cell_type": "code",
      "source": [
        "n_samples = 100000\n",
        "X, y = give_data(n_samples, w, b)\n",
        "\n",
        "doLinearRegression(X, y, 0.01)"
      ],
      "metadata": {
        "id": "bpK0sYofrh1L",
        "colab": {
          "base_uri": "https://localhost:8080/"
        },
        "outputId": "0c853068-f6a8-447c-d223-f80f3ed17e18"
      },
      "execution_count": null,
      "outputs": [
        {
          "output_type": "stream",
          "name": "stdout",
          "text": [
            "epoch : 100/1000, loss = 2.2484850883483887\n",
            "epoch : 200/1000, loss = 0.04001777246594429\n",
            "epoch : 300/1000, loss = 0.0007124202093109488\n",
            "epoch : 400/1000, loss = 1.2697524653049186e-05\n",
            "epoch : 500/1000, loss = 2.3633852208604367e-07\n",
            "epoch : 600/1000, loss = 1.4434906603355557e-08\n",
            "epoch : 700/1000, loss = 1.079957723248981e-08\n",
            "epoch : 800/1000, loss = 1.079957723248981e-08\n",
            "epoch : 900/1000, loss = 1.079957723248981e-08\n",
            "epoch : 1000/1000, loss = 1.079957723248981e-08\n"
          ]
        }
      ]
    },
    {
      "cell_type": "code",
      "source": [
        "X.shape[1]"
      ],
      "metadata": {
        "colab": {
          "base_uri": "https://localhost:8080/"
        },
        "id": "wLbiFBr7u4z4",
        "outputId": "aa18cf62-8d3d-44d2-dc50-a122d451a748"
      },
      "execution_count": null,
      "outputs": [
        {
          "output_type": "execute_result",
          "data": {
            "text/plain": [
              "3"
            ]
          },
          "metadata": {},
          "execution_count": 18
        }
      ]
    },
    {
      "cell_type": "code",
      "source": [
        "w = torch.tensor([-5.6, 1.34, 8.12], dtype=torch.float32, requires_grad=True).reshape(-1, 1)\n",
        "b = torch.tensor([-3.234], dtype=torch.float32, requires_grad=True)\n",
        "n_samples=1000\n",
        "learning_rate=0.01\n",
        "max_epochs = 1000\n",
        "\n",
        "X = torch.randn(1000, 3)\n",
        "y = torch.mm(X, w) + b + torch.normal(0, 1, (1000, 1)) * 0.01\n",
        "model = nn.Linear(X.shape[1], y.shape[1])\n",
        "optimizer = torch.optim.SGD(model.parameters(), lr=learning_rate)\n",
        "criterion = nn.MSELoss()\n",
        "\n",
        "for epoch in range(max_epochs):\n",
        "\n",
        "  # forward pass\n",
        "  y_hat = model(X)\n",
        "  loss = criterion(y, y_hat)\n",
        "\n",
        "  # backward pass\n",
        "  loss.backward(retain_graph=True)\n",
        "\n",
        "  # update the params\n",
        "  optimizer.step()\n",
        "\n",
        "  # empty the grad\n",
        "  optimizer.zero_grad()\n",
        "\n",
        "  if (epoch+1) % 100 == 0:\n",
        "    print(f\"epoch : {epoch+1}/{max_epochs}, loss = {loss}\")"
      ],
      "metadata": {
        "colab": {
          "base_uri": "https://localhost:8080/"
        },
        "id": "PpvJG1N5t5uY",
        "outputId": "d9765315-d031-44e8-b5c0-705442c7181d"
      },
      "execution_count": 10,
      "outputs": [
        {
          "output_type": "stream",
          "name": "stdout",
          "text": [
            "epoch : 100/1000, loss = 1.8055247068405151\n",
            "epoch : 200/1000, loss = 0.027833448722958565\n",
            "epoch : 300/1000, loss = 0.0005302201025187969\n",
            "epoch : 400/1000, loss = 0.00010378998558735475\n",
            "epoch : 500/1000, loss = 9.70336768659763e-05\n",
            "epoch : 600/1000, loss = 9.692541061667725e-05\n",
            "epoch : 700/1000, loss = 9.692324965726584e-05\n",
            "epoch : 800/1000, loss = 9.692324965726584e-05\n",
            "epoch : 900/1000, loss = 9.692324965726584e-05\n",
            "epoch : 1000/1000, loss = 9.692324965726584e-05\n"
          ]
        }
      ]
    },
    {
      "cell_type": "markdown",
      "source": [
        "## Q5: \n",
        "\n",
        "after a certain point of time amount of data has no effect on the loss, \n",
        "so the params almost converge to true_params\n",
        "\n",
        "if we increased the data linearly then there is no conclusion to be drawn"
      ],
      "metadata": {
        "id": "Bw0ajXe5ww6t"
      }
    },
    {
      "cell_type": "code",
      "source": [
        "def LR(X, y, learning_rate=0.01):\n",
        "\n",
        "  model = nn.Linear(X.shape[1], y.shape[1])\n",
        "  optimizer = torch.optim.SGD(model.parameters(), lr=learning_rate)\n",
        "  criterion = nn.MSELoss()\n",
        "\n",
        "  max_epochs = 1000\n",
        "\n",
        "  for epoch in range(max_epochs):\n",
        "\n",
        "    #forward pass : loss and y_hat\n",
        "    y_hat = model(X)\n",
        "    l = criterion(y, y_hat)\n",
        "\n",
        "    # backward pass : gradient\n",
        "    l.backward(retain_graph=True)\n",
        "\n",
        "    # update the params\n",
        "    optimizer.step()\n",
        "\n",
        "    # empty the gradient\n",
        "    optimizer.zero_grad()\n",
        "\n",
        "    # if (epoch+1) % (max_epochs/10) == 0:\n",
        "    #   print(f\"epoch : {epoch+1}/{max_epochs}, loss = {l}\")\n",
        "\n",
        "  return model"
      ],
      "metadata": {
        "id": "VG-TABnuxpN9"
      },
      "execution_count": 24,
      "outputs": []
    },
    {
      "cell_type": "code",
      "source": [
        "w = torch.tensor([-6.7], dtype=torch.float32, requires_grad=True)\n",
        "b = torch.tensor([-9.54], dtype=torch.float32, requires_grad=True)"
      ],
      "metadata": {
        "id": "Acz3eDpzxYn8"
      },
      "execution_count": 25,
      "outputs": []
    },
    {
      "cell_type": "code",
      "source": [
        "error_w = []\n",
        "error_b = []\n",
        "\n",
        "n_samples_list = [5, 10, 20, 50, 100, 250, 500, 1000, 2000, 8000, 16000, 320000] # for log\n",
        "# n_samples_list = [1000, 2000, 3000, 4000, 5000, 6000, 7000, 8000, 90000, 10000] # for linear\n",
        "# n_samples_list = [1000] # testing\n",
        "\n",
        "for n_samples in n_samples_list:\n",
        "  X, y = give_data(n_samples, w, b)\n",
        "  model = LR(X, y)\n",
        "\n",
        "  for i, par in enumerate(model.parameters()):\n",
        "    if i == 0:\n",
        "      error_w.append(abs(par[0].item() - w.item()))\n",
        "    else:\n",
        "      error_b.append(abs(par[0].item() - b.item()))"
      ],
      "metadata": {
        "id": "2H4UPxdiuo8B"
      },
      "execution_count": 43,
      "outputs": []
    },
    {
      "cell_type": "code",
      "source": [
        "import matplotlib.pyplot as plt\n",
        "from matplotlib import rcParams, cycler\n",
        "\n",
        "rcParams['figure.figsize'] = 12, 6\n",
        "rcParams['lines.linewidth'] = 3\n",
        "rcParams['axes.prop_cycle'] = cycler(color = ['#424242'])\n",
        "rcParams['xtick.labelsize'] = 'xx-large'\n",
        "rcParams['ytick.labelsize'] = 'xx-large'"
      ],
      "metadata": {
        "id": "7aBpmArny_Xa"
      },
      "execution_count": 47,
      "outputs": []
    },
    {
      "cell_type": "code",
      "source": [
        "plt.plot(np.log(n_samples_list), error_w, 'ro')\n",
        "plt.plot(np.log(n_samples_list), error_b, 'bo')\n",
        "plt.xlabel(\"log of Number of samples\")\n",
        "plt.ylabel(\"error\")\n",
        "plt.grid()\n",
        "plt.show()"
      ],
      "metadata": {
        "colab": {
          "base_uri": "https://localhost:8080/",
          "height": 413
        },
        "id": "MsEDIg2lzOCw",
        "outputId": "9d592884-ce1a-4645-9dc7-ef6f29e75578"
      },
      "execution_count": 48,
      "outputs": [
        {
          "output_type": "display_data",
          "data": {
            "text/plain": [
              "<Figure size 864x432 with 1 Axes>"
            ],
            "image/png": "[encoded data removed]"
          },
          "metadata": {
            "needs_background": "light"
          }
        }
      ]
    },
    {
      "cell_type": "code",
      "source": [],
      "metadata": {
        "id": "gpngS3sN1Rdc"
      },
      "execution_count": null,
      "outputs": []
    }
  ]
}