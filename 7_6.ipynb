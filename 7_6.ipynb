{
  "cells": [
    {
      "cell_type": "markdown",
      "metadata": {
        "id": "view-in-github",
        "colab_type": "text"
      },
      "source": [
        "<a href=\"https://colab.research.google.com/github/arnav39/d2el-en/blob/main/7_6.ipynb\" target=\"_parent\"><img src=\"https://colab.research.google.com/assets/colab-badge.svg\" alt=\"Open In Colab\"/></a>"
      ]
    },
    {
      "cell_type": "markdown",
      "metadata": {
        "id": "s4fcfG5rKIOp"
      },
      "source": [
        "# 7.6 : Convulational Neural Networks (LeNet)"
      ]
    },
    {
      "cell_type": "code",
      "execution_count": null,
      "metadata": {
        "id": "MWdlZ0yXKHZ3"
      },
      "outputs": [],
      "source": [
        "!pip install matplotlib_inline\n",
        "!pip install --upgrade d2l==1.0.0a0"
      ]
    },
    {
      "cell_type": "code",
      "execution_count": null,
      "metadata": {
        "colab": {
          "base_uri": "https://localhost:8080/"
        },
        "id": "LuOgNr6ZKZ6O",
        "outputId": "d98cd5d0-367a-44ad-dbc3-d82ce671ea1a"
      },
      "outputs": [
        {
          "name": "stderr",
          "output_type": "stream",
          "text": [
            "/usr/local/lib/python3.8/dist-packages/torch/cuda/__init__.py:497: UserWarning: Can't initialize NVML\n",
            "  warnings.warn(\"Can't initialize NVML\")\n"
          ]
        }
      ],
      "source": [
        "import torch\n",
        "from torch import nn\n",
        "from d2l import torch as d2l"
      ]
    },
    {
      "cell_type": "code",
      "execution_count": null,
      "metadata": {
        "colab": {
          "base_uri": "https://localhost:8080/"
        },
        "id": "k1CH6NE1KgLR",
        "outputId": "a7910e19-8f0e-4602-ed8b-ea2a77c6970c"
      },
      "outputs": [
        {
          "name": "stderr",
          "output_type": "stream",
          "text": [
            "/usr/local/lib/python3.8/dist-packages/torch/nn/modules/lazy.py:180: UserWarning: Lazy modules are a new feature under heavy development so changes to the API or functionality can happen at any moment.\n",
            "  warnings.warn('Lazy modules are a new feature under heavy development '\n"
          ]
        },
        {
          "data": {
            "text/plain": [
              "LazyConv2d(0, 1, kernel_size=(3, 3), stride=(1, 1))"
            ]
          },
          "execution_count": 3,
          "metadata": {},
          "output_type": "execute_result"
        }
      ],
      "source": [
        "a = nn.LazyConv2d(1, kernel_size=3)\n",
        "a"
      ]
    },
    {
      "cell_type": "code",
      "execution_count": null,
      "metadata": {
        "colab": {
          "base_uri": "https://localhost:8080/"
        },
        "id": "31xzbthzKxTu",
        "outputId": "6513ad88-9efd-413b-8179-36c291b92768"
      },
      "outputs": [
        {
          "data": {
            "text/plain": [
              "torch.nn.modules.conv.LazyConv2d"
            ]
          },
          "execution_count": 4,
          "metadata": {},
          "output_type": "execute_result"
        }
      ],
      "source": [
        "type(a)"
      ]
    },
    {
      "cell_type": "code",
      "execution_count": null,
      "metadata": {
        "colab": {
          "base_uri": "https://localhost:8080/"
        },
        "id": "gHdhWfdfK0ZL",
        "outputId": "4d067355-89d6-4e00-bb49-6735aaaad4c6"
      },
      "outputs": [
        {
          "data": {
            "text/plain": [
              "True"
            ]
          },
          "execution_count": 5,
          "metadata": {},
          "output_type": "execute_result"
        }
      ],
      "source": [
        "type(a) == nn.LazyConv2d"
      ]
    },
    {
      "cell_type": "code",
      "execution_count": null,
      "metadata": {
        "id": "MOyDeIM7LPm8"
      },
      "outputs": [],
      "source": [
        "nn.init.xavier_uniform_??"
      ]
    },
    {
      "cell_type": "code",
      "execution_count": null,
      "metadata": {
        "colab": {
          "base_uri": "https://localhost:8080/"
        },
        "id": "aoxTINnQK3Zw",
        "outputId": "69cc316d-010f-4edc-e9de-a1396c2a25d6"
      },
      "outputs": [
        {
          "name": "stdout",
          "output_type": "stream",
          "text": [
            "a = tensor([[ 5.2262e-01,  1.7073e-01,  2.4705e-01],\n",
            "        [-7.6995e-01,  5.6661e-01, -2.3159e-01],\n",
            "        [-1.3444e-01, -9.4903e-04, -9.7841e-01]])\n",
            "b = tensor([[ 5.2262e-01,  1.7073e-01,  2.4705e-01],\n",
            "        [-7.6995e-01,  5.6661e-01, -2.3159e-01],\n",
            "        [-1.3444e-01, -9.4903e-04, -9.7841e-01]])\n"
          ]
        }
      ],
      "source": [
        "a = torch.zeros(3, 3)\n",
        "b = nn.init.xavier_uniform_(a)\n",
        "print(f\"a = {a}\")\n",
        "print(f\"b = {b}\")"
      ]
    },
    {
      "cell_type": "code",
      "execution_count": null,
      "metadata": {
        "colab": {
          "base_uri": "https://localhost:8080/"
        },
        "id": "E4Utn8AjLejm",
        "outputId": "5b45fe81-291e-4cb2-cbdb-ebb02cab17f3"
      },
      "outputs": [
        {
          "data": {
            "text/plain": [
              "tensor(-0.0676)"
            ]
          },
          "execution_count": 9,
          "metadata": {},
          "output_type": "execute_result"
        }
      ],
      "source": [
        "b.mean()"
      ]
    },
    {
      "cell_type": "code",
      "execution_count": null,
      "metadata": {
        "colab": {
          "base_uri": "https://localhost:8080/"
        },
        "id": "z65wLkRzLhQe",
        "outputId": "0156e9cb-25c1-471e-cd2e-771b3d28db3d"
      },
      "outputs": [
        {
          "data": {
            "text/plain": [
              "tensor(0.5321)"
            ]
          },
          "execution_count": 10,
          "metadata": {},
          "output_type": "execute_result"
        }
      ],
      "source": [
        "b.std()"
      ]
    },
    {
      "cell_type": "code",
      "execution_count": null,
      "metadata": {
        "id": "m-CA0jCdPeFY"
      },
      "outputs": [],
      "source": [
        "def add_to_class(Class):\n",
        "  def wrapper(obj):\n",
        "    setattr(Class, obj.__name__, obj)\n",
        "  return wrapper"
      ]
    },
    {
      "cell_type": "code",
      "execution_count": null,
      "metadata": {
        "id": "bYJ6C0m0Liw3"
      },
      "outputs": [],
      "source": [
        "def init_cnn(module):\n",
        "  # initialize the weights for the CNN\n",
        "  if type(module) == nn.Linear or type(module) == nn.LazyConv2d:\n",
        "    nn.init.xavier_uniform_(module.weight)"
      ]
    },
    {
      "cell_type": "code",
      "execution_count": null,
      "metadata": {
        "id": "IRRNLM_uM4iy"
      },
      "outputs": [],
      "source": [
        "class LeNet(d2l.Classifier):\n",
        "\n",
        "  def __init__(self, lr=0.1, num_classes=10):\n",
        "    super().__init__()\n",
        "    self.lr = lr\n",
        "    self.num_classes = num_classes\n",
        "    self.net = nn.Sequential(nn.LazyConv2d(6, kernel_size=5, padding=2), nn.Sigmoid(),\n",
        "                             nn.AvgPool2d(kernel_size=2, stride=2),\n",
        "                             nn.LazyConv2d(16, kernel_size=5), nn.Sigmoid(),\n",
        "                             nn.AvgPool2d(kernel_size=2, stride=2),\n",
        "                             nn.Flatten(),\n",
        "                             nn.LazyLinear(128), nn.Sigmoid(),\n",
        "                             nn.LazyLinear(84), nn.Sigmoid(),\n",
        "                             nn.LazyLinear(num_classes))\n",
        "    \n",
        "  def layer_summery(self, X_shape):\n",
        "    X = torch.randn(*X_shape)\n",
        "    for layer in self.net:\n",
        "      X = layer(X)\n",
        "      print(layer.__class__.__name__, 'output shape:\\t', X.shape)\n",
        "  "
      ]
    },
    {
      "cell_type": "code",
      "execution_count": null,
      "metadata": {
        "colab": {
          "base_uri": "https://localhost:8080/"
        },
        "id": "IgH8HPLRSZQ3",
        "outputId": "98857063-9937-429a-eec0-f0afa1cf6f83"
      },
      "outputs": [
        {
          "name": "stdout",
          "output_type": "stream",
          "text": [
            "Conv2d output shape:\t torch.Size([1, 6, 28, 28])\n",
            "Sigmoid output shape:\t torch.Size([1, 6, 28, 28])\n",
            "AvgPool2d output shape:\t torch.Size([1, 6, 14, 14])\n",
            "Conv2d output shape:\t torch.Size([1, 16, 10, 10])\n",
            "Sigmoid output shape:\t torch.Size([1, 16, 10, 10])\n",
            "AvgPool2d output shape:\t torch.Size([1, 16, 5, 5])\n",
            "Flatten output shape:\t torch.Size([1, 400])\n",
            "Linear output shape:\t torch.Size([1, 128])\n",
            "Sigmoid output shape:\t torch.Size([1, 128])\n",
            "Linear output shape:\t torch.Size([1, 84])\n",
            "Sigmoid output shape:\t torch.Size([1, 84])\n",
            "Linear output shape:\t torch.Size([1, 10])\n"
          ]
        },
        {
          "name": "stderr",
          "output_type": "stream",
          "text": [
            "/usr/local/lib/python3.8/dist-packages/torch/nn/modules/lazy.py:180: UserWarning: Lazy modules are a new feature under heavy development so changes to the API or functionality can happen at any moment.\n",
            "  warnings.warn('Lazy modules are a new feature under heavy development '\n"
          ]
        }
      ],
      "source": [
        "model = LeNet()\n",
        "model.layer_summery((1, 1, 28, 28)) # gray scale image of 28 x 28 pixels"
      ]
    },
    {
      "cell_type": "code",
      "execution_count": null,
      "metadata": {
        "id": "kymbV6c2T5XB"
      },
      "outputs": [],
      "source": [
        "model.apply_init??"
      ]
    },
    {
      "cell_type": "code",
      "execution_count": null,
      "metadata": {
        "id": "3XcXXv28SLcx"
      },
      "outputs": [],
      "source": [
        "def fun(shape):\n",
        "  return torch.randn(*shape)"
      ]
    },
    {
      "cell_type": "code",
      "execution_count": null,
      "metadata": {
        "colab": {
          "base_uri": "https://localhost:8080/"
        },
        "id": "Hbus5y_6SQbG",
        "outputId": "eecc795e-df76-41cb-8c79-bbce48b9afe4"
      },
      "outputs": [
        {
          "name": "stdout",
          "output_type": "stream",
          "text": [
            "torch.Size([3, 4, 5, 6])\n"
          ]
        }
      ],
      "source": [
        "a = fun((3, 4, 5, 6))\n",
        "print(a.shape)"
      ]
    },
    {
      "cell_type": "code",
      "execution_count": null,
      "metadata": {
        "id": "Y0uDJ5fdRuWb"
      },
      "outputs": [],
      "source": [
        "class Person():\n",
        "\n",
        "  def __init__(self, name, age):\n",
        "    self.name = name\n",
        "    self.age = age\n",
        "\n",
        "  def tell_age(self):\n",
        "    print(f\"I am {age} years old!\")"
      ]
    },
    {
      "cell_type": "code",
      "execution_count": null,
      "metadata": {
        "colab": {
          "base_uri": "https://localhost:8080/"
        },
        "id": "jvdDKs05ROfS",
        "outputId": "27f36386-4c4e-43b7-eab5-080ac2df7791"
      },
      "outputs": [
        {
          "name": "stdout",
          "output_type": "stream",
          "text": [
            "<class '__main__.Person'>\n",
            "Person\n",
            "<__main__.Person object at 0x7f112b5e7ac0>\n"
          ]
        }
      ],
      "source": [
        "i = Person(\"arnav\", 19)\n",
        "print(i.__class__)\n",
        "print(i.__class__.__name__) # gives the exact name of the class as described by me\n",
        "print(i)"
      ]
    },
    {
      "cell_type": "code",
      "execution_count": null,
      "metadata": {
        "colab": {
          "base_uri": "https://localhost:8080/",
          "height": 262
        },
        "id": "iGYpO1yVSCPT",
        "outputId": "e45ac0f8-4b84-4481-f6b2-77284e8bee8f"
      },
      "outputs": [
        {
          "data": {
            "image/svg+xml": "<?xml version=\"1.0\" encoding=\"utf-8\" standalone=\"no\"?>\n<!DOCTYPE svg PUBLIC \"-//W3C//DTD SVG 1.1//EN\"\n  \"http://www.w3.org/Graphics/SVG/1.1/DTD/svg11.dtd\">\n<!-- Created with matplotlib (https://matplotlib.org/) -->\n<svg height=\"180.65625pt\" version=\"1.1\" viewBox=\"0 0 238.965625 180.65625\" width=\"238.965625pt\" xmlns=\"http://www.w3.org/2000/svg\" xmlns:xlink=\"http://www.w3.org/1999/xlink\">\n <defs>\n  <style type=\"text/css\">\n*{stroke-linecap:butt;stroke-linejoin:round;}\n  </style>\n </defs>\n <g id=\"figure_1\">\n  <g id=\"patch_1\">\n   <path d=\"M 0 180.65625 \nL 238.965625 180.65625 \nL 238.965625 0 \nL 0 0 \nz\n\" style=\"fill:none;\"/>\n  </g>\n  <g id=\"axes_1\">\n   <g id=\"patch_2\">\n    <path d=\"M 30.103125 143.1 \nL 225.403125 143.1 \nL 225.403125 7.2 \nL 30.103125 7.2 \nz\n\" style=\"fill:#ffffff;\"/>\n   </g>\n   <g id=\"matplotlib.axis_1\">\n    <g id=\"xtick_1\">\n     <g id=\"line2d_1\">\n      <defs>\n       <path d=\"M 0 0 \nL 0 3.5 \n\" id=\"m80648d2292\" style=\"stroke:#000000;stroke-width:0.8;\"/>\n      </defs>\n      <g>\n       <use style=\"stroke:#000000;stroke-width:0.8;\" x=\"30.103125\" xlink:href=\"#m80648d2292\" y=\"143.1\"/>\n      </g>\n     </g>\n     <g id=\"text_1\">\n      <!-- 0 -->\n      <defs>\n       <path d=\"M 31.78125 66.40625 \nQ 24.171875 66.40625 20.328125 58.90625 \nQ 16.5 51.421875 16.5 36.375 \nQ 16.5 21.390625 20.328125 13.890625 \nQ 24.171875 6.390625 31.78125 6.390625 \nQ 39.453125 6.390625 43.28125 13.890625 \nQ 47.125 21.390625 47.125 36.375 \nQ 47.125 51.421875 43.28125 58.90625 \nQ 39.453125 66.40625 31.78125 66.40625 \nz\nM 31.78125 74.21875 \nQ 44.046875 74.21875 50.515625 64.515625 \nQ 56.984375 54.828125 56.984375 36.375 \nQ 56.984375 17.96875 50.515625 8.265625 \nQ 44.046875 -1.421875 31.78125 -1.421875 \nQ 19.53125 -1.421875 13.0625 8.265625 \nQ 6.59375 17.96875 6.59375 36.375 \nQ 6.59375 54.828125 13.0625 64.515625 \nQ 19.53125 74.21875 31.78125 74.21875 \nz\n\" id=\"DejaVuSans-48\"/>\n      </defs>\n      <g transform=\"translate(26.921875 157.698438)scale(0.1 -0.1)\">\n       <use xlink:href=\"#DejaVuSans-48\"/>\n      </g>\n     </g>\n    </g>\n    <g id=\"xtick_2\">\n     <g id=\"line2d_2\">\n      <g>\n       <use style=\"stroke:#000000;stroke-width:0.8;\" x=\"69.163125\" xlink:href=\"#m80648d2292\" y=\"143.1\"/>\n      </g>\n     </g>\n     <g id=\"text_2\">\n      <!-- 2 -->\n      <defs>\n       <path d=\"M 19.1875 8.296875 \nL 53.609375 8.296875 \nL 53.609375 0 \nL 7.328125 0 \nL 7.328125 8.296875 \nQ 12.9375 14.109375 22.625 23.890625 \nQ 32.328125 33.6875 34.8125 36.53125 \nQ 39.546875 41.84375 41.421875 45.53125 \nQ 43.3125 49.21875 43.3125 52.78125 \nQ 43.3125 58.59375 39.234375 62.25 \nQ 35.15625 65.921875 28.609375 65.921875 \nQ 23.96875 65.921875 18.8125 64.3125 \nQ 13.671875 62.703125 7.8125 59.421875 \nL 7.8125 69.390625 \nQ 13.765625 71.78125 18.9375 73 \nQ 24.125 74.21875 28.421875 74.21875 \nQ 39.75 74.21875 46.484375 68.546875 \nQ 53.21875 62.890625 53.21875 53.421875 \nQ 53.21875 48.921875 51.53125 44.890625 \nQ 49.859375 40.875 45.40625 35.40625 \nQ 44.1875 33.984375 37.640625 27.21875 \nQ 31.109375 20.453125 19.1875 8.296875 \nz\n\" id=\"DejaVuSans-50\"/>\n      </defs>\n      <g transform=\"translate(65.981875 157.698438)scale(0.1 -0.1)\">\n       <use xlink:href=\"#DejaVuSans-50\"/>\n      </g>\n     </g>\n    </g>\n    <g id=\"xtick_3\">\n     <g id=\"line2d_3\">\n      <g>\n       <use style=\"stroke:#000000;stroke-width:0.8;\" x=\"108.223125\" xlink:href=\"#m80648d2292\" y=\"143.1\"/>\n      </g>\n     </g>\n     <g id=\"text_3\">\n      <!-- 4 -->\n      <defs>\n       <path d=\"M 37.796875 64.3125 \nL 12.890625 25.390625 \nL 37.796875 25.390625 \nz\nM 35.203125 72.90625 \nL 47.609375 72.90625 \nL 47.609375 25.390625 \nL 58.015625 25.390625 \nL 58.015625 17.1875 \nL 47.609375 17.1875 \nL 47.609375 0 \nL 37.796875 0 \nL 37.796875 17.1875 \nL 4.890625 17.1875 \nL 4.890625 26.703125 \nz\n\" id=\"DejaVuSans-52\"/>\n      </defs>\n      <g transform=\"translate(105.041875 157.698438)scale(0.1 -0.1)\">\n       <use xlink:href=\"#DejaVuSans-52\"/>\n      </g>\n     </g>\n    </g>\n    <g id=\"xtick_4\">\n     <g id=\"line2d_4\">\n      <g>\n       <use style=\"stroke:#000000;stroke-width:0.8;\" x=\"147.283125\" xlink:href=\"#m80648d2292\" y=\"143.1\"/>\n      </g>\n     </g>\n     <g id=\"text_4\">\n      <!-- 6 -->\n      <defs>\n       <path d=\"M 33.015625 40.375 \nQ 26.375 40.375 22.484375 35.828125 \nQ 18.609375 31.296875 18.609375 23.390625 \nQ 18.609375 15.53125 22.484375 10.953125 \nQ 26.375 6.390625 33.015625 6.390625 \nQ 39.65625 6.390625 43.53125 10.953125 \nQ 47.40625 15.53125 47.40625 23.390625 \nQ 47.40625 31.296875 43.53125 35.828125 \nQ 39.65625 40.375 33.015625 40.375 \nz\nM 52.59375 71.296875 \nL 52.59375 62.3125 \nQ 48.875 64.0625 45.09375 64.984375 \nQ 41.3125 65.921875 37.59375 65.921875 \nQ 27.828125 65.921875 22.671875 59.328125 \nQ 17.53125 52.734375 16.796875 39.40625 \nQ 19.671875 43.65625 24.015625 45.921875 \nQ 28.375 48.1875 33.59375 48.1875 \nQ 44.578125 48.1875 50.953125 41.515625 \nQ 57.328125 34.859375 57.328125 23.390625 \nQ 57.328125 12.15625 50.6875 5.359375 \nQ 44.046875 -1.421875 33.015625 -1.421875 \nQ 20.359375 -1.421875 13.671875 8.265625 \nQ 6.984375 17.96875 6.984375 36.375 \nQ 6.984375 53.65625 15.1875 63.9375 \nQ 23.390625 74.21875 37.203125 74.21875 \nQ 40.921875 74.21875 44.703125 73.484375 \nQ 48.484375 72.75 52.59375 71.296875 \nz\n\" id=\"DejaVuSans-54\"/>\n      </defs>\n      <g transform=\"translate(144.101875 157.698438)scale(0.1 -0.1)\">\n       <use xlink:href=\"#DejaVuSans-54\"/>\n      </g>\n     </g>\n    </g>\n    <g id=\"xtick_5\">\n     <g id=\"line2d_5\">\n      <g>\n       <use style=\"stroke:#000000;stroke-width:0.8;\" x=\"186.343125\" xlink:href=\"#m80648d2292\" y=\"143.1\"/>\n      </g>\n     </g>\n     <g id=\"text_5\">\n      <!-- 8 -->\n      <defs>\n       <path d=\"M 31.78125 34.625 \nQ 24.75 34.625 20.71875 30.859375 \nQ 16.703125 27.09375 16.703125 20.515625 \nQ 16.703125 13.921875 20.71875 10.15625 \nQ 24.75 6.390625 31.78125 6.390625 \nQ 38.8125 6.390625 42.859375 10.171875 \nQ 46.921875 13.96875 46.921875 20.515625 \nQ 46.921875 27.09375 42.890625 30.859375 \nQ 38.875 34.625 31.78125 34.625 \nz\nM 21.921875 38.8125 \nQ 15.578125 40.375 12.03125 44.71875 \nQ 8.5 49.078125 8.5 55.328125 \nQ 8.5 64.0625 14.71875 69.140625 \nQ 20.953125 74.21875 31.78125 74.21875 \nQ 42.671875 74.21875 48.875 69.140625 \nQ 55.078125 64.0625 55.078125 55.328125 \nQ 55.078125 49.078125 51.53125 44.71875 \nQ 48 40.375 41.703125 38.8125 \nQ 48.828125 37.15625 52.796875 32.3125 \nQ 56.78125 27.484375 56.78125 20.515625 \nQ 56.78125 9.90625 50.3125 4.234375 \nQ 43.84375 -1.421875 31.78125 -1.421875 \nQ 19.734375 -1.421875 13.25 4.234375 \nQ 6.78125 9.90625 6.78125 20.515625 \nQ 6.78125 27.484375 10.78125 32.3125 \nQ 14.796875 37.15625 21.921875 38.8125 \nz\nM 18.3125 54.390625 \nQ 18.3125 48.734375 21.84375 45.5625 \nQ 25.390625 42.390625 31.78125 42.390625 \nQ 38.140625 42.390625 41.71875 45.5625 \nQ 45.3125 48.734375 45.3125 54.390625 \nQ 45.3125 60.0625 41.71875 63.234375 \nQ 38.140625 66.40625 31.78125 66.40625 \nQ 25.390625 66.40625 21.84375 63.234375 \nQ 18.3125 60.0625 18.3125 54.390625 \nz\n\" id=\"DejaVuSans-56\"/>\n      </defs>\n      <g transform=\"translate(183.161875 157.698438)scale(0.1 -0.1)\">\n       <use xlink:href=\"#DejaVuSans-56\"/>\n      </g>\n     </g>\n    </g>\n    <g id=\"xtick_6\">\n     <g id=\"line2d_6\">\n      <g>\n       <use style=\"stroke:#000000;stroke-width:0.8;\" x=\"225.403125\" xlink:href=\"#m80648d2292\" y=\"143.1\"/>\n      </g>\n     </g>\n     <g id=\"text_6\">\n      <!-- 10 -->\n      <defs>\n       <path d=\"M 12.40625 8.296875 \nL 28.515625 8.296875 \nL 28.515625 63.921875 \nL 10.984375 60.40625 \nL 10.984375 69.390625 \nL 28.421875 72.90625 \nL 38.28125 72.90625 \nL 38.28125 8.296875 \nL 54.390625 8.296875 \nL 54.390625 0 \nL 12.40625 0 \nz\n\" id=\"DejaVuSans-49\"/>\n      </defs>\n      <g transform=\"translate(219.040625 157.698438)scale(0.1 -0.1)\">\n       <use xlink:href=\"#DejaVuSans-49\"/>\n       <use x=\"63.623047\" xlink:href=\"#DejaVuSans-48\"/>\n      </g>\n     </g>\n    </g>\n    <g id=\"text_7\">\n     <!-- epoch -->\n     <defs>\n      <path d=\"M 56.203125 29.59375 \nL 56.203125 25.203125 \nL 14.890625 25.203125 \nQ 15.484375 15.921875 20.484375 11.0625 \nQ 25.484375 6.203125 34.421875 6.203125 \nQ 39.59375 6.203125 44.453125 7.46875 \nQ 49.3125 8.734375 54.109375 11.28125 \nL 54.109375 2.78125 \nQ 49.265625 0.734375 44.1875 -0.34375 \nQ 39.109375 -1.421875 33.890625 -1.421875 \nQ 20.796875 -1.421875 13.15625 6.1875 \nQ 5.515625 13.8125 5.515625 26.8125 \nQ 5.515625 40.234375 12.765625 48.109375 \nQ 20.015625 56 32.328125 56 \nQ 43.359375 56 49.78125 48.890625 \nQ 56.203125 41.796875 56.203125 29.59375 \nz\nM 47.21875 32.234375 \nQ 47.125 39.59375 43.09375 43.984375 \nQ 39.0625 48.390625 32.421875 48.390625 \nQ 24.90625 48.390625 20.390625 44.140625 \nQ 15.875 39.890625 15.1875 32.171875 \nz\n\" id=\"DejaVuSans-101\"/>\n      <path d=\"M 18.109375 8.203125 \nL 18.109375 -20.796875 \nL 9.078125 -20.796875 \nL 9.078125 54.6875 \nL 18.109375 54.6875 \nL 18.109375 46.390625 \nQ 20.953125 51.265625 25.265625 53.625 \nQ 29.59375 56 35.59375 56 \nQ 45.5625 56 51.78125 48.09375 \nQ 58.015625 40.1875 58.015625 27.296875 \nQ 58.015625 14.40625 51.78125 6.484375 \nQ 45.5625 -1.421875 35.59375 -1.421875 \nQ 29.59375 -1.421875 25.265625 0.953125 \nQ 20.953125 3.328125 18.109375 8.203125 \nz\nM 48.6875 27.296875 \nQ 48.6875 37.203125 44.609375 42.84375 \nQ 40.53125 48.484375 33.40625 48.484375 \nQ 26.265625 48.484375 22.1875 42.84375 \nQ 18.109375 37.203125 18.109375 27.296875 \nQ 18.109375 17.390625 22.1875 11.75 \nQ 26.265625 6.109375 33.40625 6.109375 \nQ 40.53125 6.109375 44.609375 11.75 \nQ 48.6875 17.390625 48.6875 27.296875 \nz\n\" id=\"DejaVuSans-112\"/>\n      <path d=\"M 30.609375 48.390625 \nQ 23.390625 48.390625 19.1875 42.75 \nQ 14.984375 37.109375 14.984375 27.296875 \nQ 14.984375 17.484375 19.15625 11.84375 \nQ 23.34375 6.203125 30.609375 6.203125 \nQ 37.796875 6.203125 41.984375 11.859375 \nQ 46.1875 17.53125 46.1875 27.296875 \nQ 46.1875 37.015625 41.984375 42.703125 \nQ 37.796875 48.390625 30.609375 48.390625 \nz\nM 30.609375 56 \nQ 42.328125 56 49.015625 48.375 \nQ 55.71875 40.765625 55.71875 27.296875 \nQ 55.71875 13.875 49.015625 6.21875 \nQ 42.328125 -1.421875 30.609375 -1.421875 \nQ 18.84375 -1.421875 12.171875 6.21875 \nQ 5.515625 13.875 5.515625 27.296875 \nQ 5.515625 40.765625 12.171875 48.375 \nQ 18.84375 56 30.609375 56 \nz\n\" id=\"DejaVuSans-111\"/>\n      <path d=\"M 48.78125 52.59375 \nL 48.78125 44.1875 \nQ 44.96875 46.296875 41.140625 47.34375 \nQ 37.3125 48.390625 33.40625 48.390625 \nQ 24.65625 48.390625 19.8125 42.84375 \nQ 14.984375 37.3125 14.984375 27.296875 \nQ 14.984375 17.28125 19.8125 11.734375 \nQ 24.65625 6.203125 33.40625 6.203125 \nQ 37.3125 6.203125 41.140625 7.25 \nQ 44.96875 8.296875 48.78125 10.40625 \nL 48.78125 2.09375 \nQ 45.015625 0.34375 40.984375 -0.53125 \nQ 36.96875 -1.421875 32.421875 -1.421875 \nQ 20.0625 -1.421875 12.78125 6.34375 \nQ 5.515625 14.109375 5.515625 27.296875 \nQ 5.515625 40.671875 12.859375 48.328125 \nQ 20.21875 56 33.015625 56 \nQ 37.15625 56 41.109375 55.140625 \nQ 45.0625 54.296875 48.78125 52.59375 \nz\n\" id=\"DejaVuSans-99\"/>\n      <path d=\"M 54.890625 33.015625 \nL 54.890625 0 \nL 45.90625 0 \nL 45.90625 32.71875 \nQ 45.90625 40.484375 42.875 44.328125 \nQ 39.84375 48.1875 33.796875 48.1875 \nQ 26.515625 48.1875 22.3125 43.546875 \nQ 18.109375 38.921875 18.109375 30.90625 \nL 18.109375 0 \nL 9.078125 0 \nL 9.078125 75.984375 \nL 18.109375 75.984375 \nL 18.109375 46.1875 \nQ 21.34375 51.125 25.703125 53.5625 \nQ 30.078125 56 35.796875 56 \nQ 45.21875 56 50.046875 50.171875 \nQ 54.890625 44.34375 54.890625 33.015625 \nz\n\" id=\"DejaVuSans-104\"/>\n     </defs>\n     <g transform=\"translate(112.525 171.376563)scale(0.1 -0.1)\">\n      <use xlink:href=\"#DejaVuSans-101\"/>\n      <use x=\"61.523438\" xlink:href=\"#DejaVuSans-112\"/>\n      <use x=\"125\" xlink:href=\"#DejaVuSans-111\"/>\n      <use x=\"186.181641\" xlink:href=\"#DejaVuSans-99\"/>\n      <use x=\"241.162109\" xlink:href=\"#DejaVuSans-104\"/>\n     </g>\n    </g>\n   </g>\n   <g id=\"matplotlib.axis_2\">\n    <g id=\"ytick_1\">\n     <g id=\"line2d_7\">\n      <defs>\n       <path d=\"M 0 0 \nL -3.5 0 \n\" id=\"m0aa0c251a2\" style=\"stroke:#000000;stroke-width:0.8;\"/>\n      </defs>\n      <g>\n       <use style=\"stroke:#000000;stroke-width:0.8;\" x=\"30.103125\" xlink:href=\"#m0aa0c251a2\" y=\"142.487246\"/>\n      </g>\n     </g>\n     <g id=\"text_8\">\n      <!-- 0.0 -->\n      <defs>\n       <path d=\"M 10.6875 12.40625 \nL 21 12.40625 \nL 21 0 \nL 10.6875 0 \nz\n\" id=\"DejaVuSans-46\"/>\n      </defs>\n      <g transform=\"translate(7.2 146.286465)scale(0.1 -0.1)\">\n       <use xlink:href=\"#DejaVuSans-48\"/>\n       <use x=\"63.623047\" xlink:href=\"#DejaVuSans-46\"/>\n       <use x=\"95.410156\" xlink:href=\"#DejaVuSans-48\"/>\n      </g>\n     </g>\n    </g>\n    <g id=\"ytick_2\">\n     <g id=\"line2d_8\">\n      <g>\n       <use style=\"stroke:#000000;stroke-width:0.8;\" x=\"30.103125\" xlink:href=\"#m0aa0c251a2\" y=\"114.548609\"/>\n      </g>\n     </g>\n     <g id=\"text_9\">\n      <!-- 0.5 -->\n      <defs>\n       <path d=\"M 10.796875 72.90625 \nL 49.515625 72.90625 \nL 49.515625 64.59375 \nL 19.828125 64.59375 \nL 19.828125 46.734375 \nQ 21.96875 47.46875 24.109375 47.828125 \nQ 26.265625 48.1875 28.421875 48.1875 \nQ 40.625 48.1875 47.75 41.5 \nQ 54.890625 34.8125 54.890625 23.390625 \nQ 54.890625 11.625 47.5625 5.09375 \nQ 40.234375 -1.421875 26.90625 -1.421875 \nQ 22.3125 -1.421875 17.546875 -0.640625 \nQ 12.796875 0.140625 7.71875 1.703125 \nL 7.71875 11.625 \nQ 12.109375 9.234375 16.796875 8.0625 \nQ 21.484375 6.890625 26.703125 6.890625 \nQ 35.15625 6.890625 40.078125 11.328125 \nQ 45.015625 15.765625 45.015625 23.390625 \nQ 45.015625 31 40.078125 35.4375 \nQ 35.15625 39.890625 26.703125 39.890625 \nQ 22.75 39.890625 18.8125 39.015625 \nQ 14.890625 38.140625 10.796875 36.28125 \nz\n\" id=\"DejaVuSans-53\"/>\n      </defs>\n      <g transform=\"translate(7.2 118.347828)scale(0.1 -0.1)\">\n       <use xlink:href=\"#DejaVuSans-48\"/>\n       <use x=\"63.623047\" xlink:href=\"#DejaVuSans-46\"/>\n       <use x=\"95.410156\" xlink:href=\"#DejaVuSans-53\"/>\n      </g>\n     </g>\n    </g>\n    <g id=\"ytick_3\">\n     <g id=\"line2d_9\">\n      <g>\n       <use style=\"stroke:#000000;stroke-width:0.8;\" x=\"30.103125\" xlink:href=\"#m0aa0c251a2\" y=\"86.609973\"/>\n      </g>\n     </g>\n     <g id=\"text_10\">\n      <!-- 1.0 -->\n      <g transform=\"translate(7.2 90.409192)scale(0.1 -0.1)\">\n       <use xlink:href=\"#DejaVuSans-49\"/>\n       <use x=\"63.623047\" xlink:href=\"#DejaVuSans-46\"/>\n       <use x=\"95.410156\" xlink:href=\"#DejaVuSans-48\"/>\n      </g>\n     </g>\n    </g>\n    <g id=\"ytick_4\">\n     <g id=\"line2d_10\">\n      <g>\n       <use style=\"stroke:#000000;stroke-width:0.8;\" x=\"30.103125\" xlink:href=\"#m0aa0c251a2\" y=\"58.671336\"/>\n      </g>\n     </g>\n     <g id=\"text_11\">\n      <!-- 1.5 -->\n      <g transform=\"translate(7.2 62.470555)scale(0.1 -0.1)\">\n       <use xlink:href=\"#DejaVuSans-49\"/>\n       <use x=\"63.623047\" xlink:href=\"#DejaVuSans-46\"/>\n       <use x=\"95.410156\" xlink:href=\"#DejaVuSans-53\"/>\n      </g>\n     </g>\n    </g>\n    <g id=\"ytick_5\">\n     <g id=\"line2d_11\">\n      <g>\n       <use style=\"stroke:#000000;stroke-width:0.8;\" x=\"30.103125\" xlink:href=\"#m0aa0c251a2\" y=\"30.7327\"/>\n      </g>\n     </g>\n     <g id=\"text_12\">\n      <!-- 2.0 -->\n      <g transform=\"translate(7.2 34.531918)scale(0.1 -0.1)\">\n       <use xlink:href=\"#DejaVuSans-50\"/>\n       <use x=\"63.623047\" xlink:href=\"#DejaVuSans-46\"/>\n       <use x=\"95.410156\" xlink:href=\"#DejaVuSans-48\"/>\n      </g>\n     </g>\n    </g>\n   </g>\n   <g id=\"line2d_12\">\n    <path clip-path=\"url(#p7a156b0138)\" d=\"M 34.954394 13.377273 \n\" style=\"fill:none;stroke:#1f77b4;stroke-linecap:square;stroke-width:1.5;\"/>\n   </g>\n   <g id=\"line2d_13\">\n    <path clip-path=\"url(#p7a156b0138)\" d=\"M 34.954394 13.377273 \nL 44.698573 13.537636 \n\" style=\"fill:none;stroke:#1f77b4;stroke-linecap:square;stroke-width:1.5;\"/>\n   </g>\n   <g id=\"line2d_14\">\n    <path clip-path=\"url(#p7a156b0138)\" d=\"M 34.954394 13.377273 \nL 44.698573 13.537636 \n\" style=\"fill:none;stroke:#1f77b4;stroke-linecap:square;stroke-width:1.5;\"/>\n   </g>\n   <g id=\"line2d_15\">\n    <path clip-path=\"url(#p7a156b0138)\" d=\"M 49.633125 13.415661 \n\" style=\"fill:none;stroke:#ff7f0e;stroke-dasharray:5.55,2.4;stroke-dashoffset:0;stroke-width:1.5;\"/>\n   </g>\n   <g id=\"line2d_16\"/>\n   <g id=\"line2d_17\">\n    <path clip-path=\"url(#p7a156b0138)\" d=\"M 34.954394 13.377273 \nL 44.698573 13.537636 \n\" style=\"fill:none;stroke:#1f77b4;stroke-linecap:square;stroke-width:1.5;\"/>\n   </g>\n   <g id=\"line2d_18\">\n    <path clip-path=\"url(#p7a156b0138)\" d=\"M 49.633125 13.415661 \n\" style=\"fill:none;stroke:#ff7f0e;stroke-dasharray:5.55,2.4;stroke-dashoffset:0;stroke-width:1.5;\"/>\n   </g>\n   <g id=\"line2d_19\">\n    <path clip-path=\"url(#p7a156b0138)\" d=\"M 49.633125 136.845366 \n\" style=\"fill:none;stroke:#2ca02c;stroke-dasharray:9.6,2.4,1.5,2.4;stroke-dashoffset:0;stroke-width:1.5;\"/>\n   </g>\n   <g id=\"line2d_20\">\n    <path clip-path=\"url(#p7a156b0138)\" d=\"M 34.954394 13.377273 \nL 44.698573 13.537636 \nL 54.442752 13.548692 \n\" style=\"fill:none;stroke:#1f77b4;stroke-linecap:square;stroke-width:1.5;\"/>\n   </g>\n   <g id=\"line2d_21\">\n    <path clip-path=\"url(#p7a156b0138)\" d=\"M 49.633125 13.415661 \n\" style=\"fill:none;stroke:#ff7f0e;stroke-dasharray:5.55,2.4;stroke-dashoffset:0;stroke-width:1.5;\"/>\n   </g>\n   <g id=\"line2d_22\">\n    <path clip-path=\"url(#p7a156b0138)\" d=\"M 49.633125 136.845366 \n\" style=\"fill:none;stroke:#2ca02c;stroke-dasharray:9.6,2.4,1.5,2.4;stroke-dashoffset:0;stroke-width:1.5;\"/>\n   </g>\n   <g id=\"line2d_23\">\n    <path clip-path=\"url(#p7a156b0138)\" d=\"M 34.954394 13.377273 \nL 44.698573 13.537636 \nL 54.442752 13.548692 \nL 64.186931 13.600489 \n\" style=\"fill:none;stroke:#1f77b4;stroke-linecap:square;stroke-width:1.5;\"/>\n   </g>\n   <g id=\"line2d_24\">\n    <path clip-path=\"url(#p7a156b0138)\" d=\"M 49.633125 13.415661 \n\" style=\"fill:none;stroke:#ff7f0e;stroke-dasharray:5.55,2.4;stroke-dashoffset:0;stroke-width:1.5;\"/>\n   </g>\n   <g id=\"line2d_25\">\n    <path clip-path=\"url(#p7a156b0138)\" d=\"M 49.633125 136.845366 \n\" style=\"fill:none;stroke:#2ca02c;stroke-dasharray:9.6,2.4,1.5,2.4;stroke-dashoffset:0;stroke-width:1.5;\"/>\n   </g>\n   <g id=\"line2d_26\">\n    <path clip-path=\"url(#p7a156b0138)\" d=\"M 34.954394 13.377273 \nL 44.698573 13.537636 \nL 54.442752 13.548692 \nL 64.186931 13.600489 \n\" style=\"fill:none;stroke:#1f77b4;stroke-linecap:square;stroke-width:1.5;\"/>\n   </g>\n   <g id=\"line2d_27\">\n    <path clip-path=\"url(#p7a156b0138)\" d=\"M 49.633125 13.415661 \nL 69.163125 13.662416 \n\" style=\"fill:none;stroke:#ff7f0e;stroke-dasharray:5.55,2.4;stroke-dashoffset:0;stroke-width:1.5;\"/>\n   </g>\n   <g id=\"line2d_28\">\n    <path clip-path=\"url(#p7a156b0138)\" d=\"M 49.633125 136.845366 \n\" style=\"fill:none;stroke:#2ca02c;stroke-dasharray:9.6,2.4,1.5,2.4;stroke-dashoffset:0;stroke-width:1.5;\"/>\n   </g>\n   <g id=\"line2d_29\">\n    <path clip-path=\"url(#p7a156b0138)\" d=\"M 34.954394 13.377273 \nL 44.698573 13.537636 \nL 54.442752 13.548692 \nL 64.186931 13.600489 \n\" style=\"fill:none;stroke:#1f77b4;stroke-linecap:square;stroke-width:1.5;\"/>\n   </g>\n   <g id=\"line2d_30\">\n    <path clip-path=\"url(#p7a156b0138)\" d=\"M 49.633125 13.415661 \nL 69.163125 13.662416 \n\" style=\"fill:none;stroke:#ff7f0e;stroke-dasharray:5.55,2.4;stroke-dashoffset:0;stroke-width:1.5;\"/>\n   </g>\n   <g id=\"line2d_31\">\n    <path clip-path=\"url(#p7a156b0138)\" d=\"M 49.633125 136.845366 \nL 69.163125 136.922727 \n\" style=\"fill:none;stroke:#2ca02c;stroke-dasharray:9.6,2.4,1.5,2.4;stroke-dashoffset:0;stroke-width:1.5;\"/>\n   </g>\n   <g id=\"line2d_32\">\n    <path clip-path=\"url(#p7a156b0138)\" d=\"M 34.954394 13.377273 \nL 44.698573 13.537636 \nL 54.442752 13.548692 \nL 64.186931 13.600489 \nL 73.93111 13.647875 \n\" style=\"fill:none;stroke:#1f77b4;stroke-linecap:square;stroke-width:1.5;\"/>\n   </g>\n   <g id=\"line2d_33\">\n    <path clip-path=\"url(#p7a156b0138)\" d=\"M 49.633125 13.415661 \nL 69.163125 13.662416 \n\" style=\"fill:none;stroke:#ff7f0e;stroke-dasharray:5.55,2.4;stroke-dashoffset:0;stroke-width:1.5;\"/>\n   </g>\n   <g id=\"line2d_34\">\n    <path clip-path=\"url(#p7a156b0138)\" d=\"M 49.633125 136.845366 \nL 69.163125 136.922727 \n\" style=\"fill:none;stroke:#2ca02c;stroke-dasharray:9.6,2.4,1.5,2.4;stroke-dashoffset:0;stroke-width:1.5;\"/>\n   </g>\n   <g id=\"line2d_35\">\n    <path clip-path=\"url(#p7a156b0138)\" d=\"M 34.954394 13.377273 \nL 44.698573 13.537636 \nL 54.442752 13.548692 \nL 64.186931 13.600489 \nL 73.93111 13.647875 \nL 83.675289 13.740101 \n\" style=\"fill:none;stroke:#1f77b4;stroke-linecap:square;stroke-width:1.5;\"/>\n   </g>\n   <g id=\"line2d_36\">\n    <path clip-path=\"url(#p7a156b0138)\" d=\"M 49.633125 13.415661 \nL 69.163125 13.662416 \n\" style=\"fill:none;stroke:#ff7f0e;stroke-dasharray:5.55,2.4;stroke-dashoffset:0;stroke-width:1.5;\"/>\n   </g>\n   <g id=\"line2d_37\">\n    <path clip-path=\"url(#p7a156b0138)\" d=\"M 49.633125 136.845366 \nL 69.163125 136.922727 \n\" style=\"fill:none;stroke:#2ca02c;stroke-dasharray:9.6,2.4,1.5,2.4;stroke-dashoffset:0;stroke-width:1.5;\"/>\n   </g>\n   <g id=\"line2d_38\">\n    <path clip-path=\"url(#p7a156b0138)\" d=\"M 34.954394 13.377273 \nL 44.698573 13.537636 \nL 54.442752 13.548692 \nL 64.186931 13.600489 \nL 73.93111 13.647875 \nL 83.675289 13.740101 \n\" style=\"fill:none;stroke:#1f77b4;stroke-linecap:square;stroke-width:1.5;\"/>\n   </g>\n   <g id=\"line2d_39\">\n    <path clip-path=\"url(#p7a156b0138)\" d=\"M 49.633125 13.415661 \nL 69.163125 13.662416 \nL 88.693125 13.882221 \n\" style=\"fill:none;stroke:#ff7f0e;stroke-dasharray:5.55,2.4;stroke-dashoffset:0;stroke-width:1.5;\"/>\n   </g>\n   <g id=\"line2d_40\">\n    <path clip-path=\"url(#p7a156b0138)\" d=\"M 49.633125 136.845366 \nL 69.163125 136.922727 \n\" style=\"fill:none;stroke:#2ca02c;stroke-dasharray:9.6,2.4,1.5,2.4;stroke-dashoffset:0;stroke-width:1.5;\"/>\n   </g>\n   <g id=\"line2d_41\">\n    <path clip-path=\"url(#p7a156b0138)\" d=\"M 34.954394 13.377273 \nL 44.698573 13.537636 \nL 54.442752 13.548692 \nL 64.186931 13.600489 \nL 73.93111 13.647875 \nL 83.675289 13.740101 \n\" style=\"fill:none;stroke:#1f77b4;stroke-linecap:square;stroke-width:1.5;\"/>\n   </g>\n   <g id=\"line2d_42\">\n    <path clip-path=\"url(#p7a156b0138)\" d=\"M 49.633125 13.415661 \nL 69.163125 13.662416 \nL 88.693125 13.882221 \n\" style=\"fill:none;stroke:#ff7f0e;stroke-dasharray:5.55,2.4;stroke-dashoffset:0;stroke-width:1.5;\"/>\n   </g>\n   <g id=\"line2d_43\">\n    <path clip-path=\"url(#p7a156b0138)\" d=\"M 49.633125 136.845366 \nL 69.163125 136.922727 \nL 88.693125 136.922727 \n\" style=\"fill:none;stroke:#2ca02c;stroke-dasharray:9.6,2.4,1.5,2.4;stroke-dashoffset:0;stroke-width:1.5;\"/>\n   </g>\n   <g id=\"line2d_44\">\n    <path clip-path=\"url(#p7a156b0138)\" d=\"M 34.954394 13.377273 \nL 44.698573 13.537636 \nL 54.442752 13.548692 \nL 64.186931 13.600489 \nL 73.93111 13.647875 \nL 83.675289 13.740101 \nL 93.419468 13.967681 \n\" style=\"fill:none;stroke:#1f77b4;stroke-linecap:square;stroke-width:1.5;\"/>\n   </g>\n   <g id=\"line2d_45\">\n    <path clip-path=\"url(#p7a156b0138)\" d=\"M 49.633125 13.415661 \nL 69.163125 13.662416 \nL 88.693125 13.882221 \n\" style=\"fill:none;stroke:#ff7f0e;stroke-dasharray:5.55,2.4;stroke-dashoffset:0;stroke-width:1.5;\"/>\n   </g>\n   <g id=\"line2d_46\">\n    <path clip-path=\"url(#p7a156b0138)\" d=\"M 49.633125 136.845366 \nL 69.163125 136.922727 \nL 88.693125 136.922727 \n\" style=\"fill:none;stroke:#2ca02c;stroke-dasharray:9.6,2.4,1.5,2.4;stroke-dashoffset:0;stroke-width:1.5;\"/>\n   </g>\n   <g id=\"line2d_47\">\n    <path clip-path=\"url(#p7a156b0138)\" d=\"M 34.954394 13.377273 \nL 44.698573 13.537636 \nL 54.442752 13.548692 \nL 64.186931 13.600489 \nL 73.93111 13.647875 \nL 83.675289 13.740101 \nL 93.419468 13.967681 \nL 103.163647 15.236262 \n\" style=\"fill:none;stroke:#1f77b4;stroke-linecap:square;stroke-width:1.5;\"/>\n   </g>\n   <g id=\"line2d_48\">\n    <path clip-path=\"url(#p7a156b0138)\" d=\"M 49.633125 13.415661 \nL 69.163125 13.662416 \nL 88.693125 13.882221 \n\" style=\"fill:none;stroke:#ff7f0e;stroke-dasharray:5.55,2.4;stroke-dashoffset:0;stroke-width:1.5;\"/>\n   </g>\n   <g id=\"line2d_49\">\n    <path clip-path=\"url(#p7a156b0138)\" d=\"M 49.633125 136.845366 \nL 69.163125 136.922727 \nL 88.693125 136.922727 \n\" style=\"fill:none;stroke:#2ca02c;stroke-dasharray:9.6,2.4,1.5,2.4;stroke-dashoffset:0;stroke-width:1.5;\"/>\n   </g>\n   <g id=\"line2d_50\">\n    <path clip-path=\"url(#p7a156b0138)\" d=\"M 34.954394 13.377273 \nL 44.698573 13.537636 \nL 54.442752 13.548692 \nL 64.186931 13.600489 \nL 73.93111 13.647875 \nL 83.675289 13.740101 \nL 93.419468 13.967681 \nL 103.163647 15.236262 \n\" style=\"fill:none;stroke:#1f77b4;stroke-linecap:square;stroke-width:1.5;\"/>\n   </g>\n   <g id=\"line2d_51\">\n    <path clip-path=\"url(#p7a156b0138)\" d=\"M 49.633125 13.415661 \nL 69.163125 13.662416 \nL 88.693125 13.882221 \nL 108.223125 17.488596 \n\" style=\"fill:none;stroke:#ff7f0e;stroke-dasharray:5.55,2.4;stroke-dashoffset:0;stroke-width:1.5;\"/>\n   </g>\n   <g id=\"line2d_52\">\n    <path clip-path=\"url(#p7a156b0138)\" d=\"M 49.633125 136.845366 \nL 69.163125 136.922727 \nL 88.693125 136.922727 \n\" style=\"fill:none;stroke:#2ca02c;stroke-dasharray:9.6,2.4,1.5,2.4;stroke-dashoffset:0;stroke-width:1.5;\"/>\n   </g>\n   <g id=\"line2d_53\">\n    <path clip-path=\"url(#p7a156b0138)\" d=\"M 34.954394 13.377273 \nL 44.698573 13.537636 \nL 54.442752 13.548692 \nL 64.186931 13.600489 \nL 73.93111 13.647875 \nL 83.675289 13.740101 \nL 93.419468 13.967681 \nL 103.163647 15.236262 \n\" style=\"fill:none;stroke:#1f77b4;stroke-linecap:square;stroke-width:1.5;\"/>\n   </g>\n   <g id=\"line2d_54\">\n    <path clip-path=\"url(#p7a156b0138)\" d=\"M 49.633125 13.415661 \nL 69.163125 13.662416 \nL 88.693125 13.882221 \nL 108.223125 17.488596 \n\" style=\"fill:none;stroke:#ff7f0e;stroke-dasharray:5.55,2.4;stroke-dashoffset:0;stroke-width:1.5;\"/>\n   </g>\n   <g id=\"line2d_55\">\n    <path clip-path=\"url(#p7a156b0138)\" d=\"M 49.633125 136.845366 \nL 69.163125 136.922727 \nL 88.693125 136.922727 \nL 108.223125 132.485479 \n\" style=\"fill:none;stroke:#2ca02c;stroke-dasharray:9.6,2.4,1.5,2.4;stroke-dashoffset:0;stroke-width:1.5;\"/>\n   </g>\n   <g id=\"line2d_56\">\n    <path clip-path=\"url(#p7a156b0138)\" d=\"M 34.954394 13.377273 \nL 44.698573 13.537636 \nL 54.442752 13.548692 \nL 64.186931 13.600489 \nL 73.93111 13.647875 \nL 83.675289 13.740101 \nL 93.419468 13.967681 \nL 103.163647 15.236262 \nL 112.907826 30.270329 \n\" style=\"fill:none;stroke:#1f77b4;stroke-linecap:square;stroke-width:1.5;\"/>\n   </g>\n   <g id=\"line2d_57\">\n    <path clip-path=\"url(#p7a156b0138)\" d=\"M 49.633125 13.415661 \nL 69.163125 13.662416 \nL 88.693125 13.882221 \nL 108.223125 17.488596 \n\" style=\"fill:none;stroke:#ff7f0e;stroke-dasharray:5.55,2.4;stroke-dashoffset:0;stroke-width:1.5;\"/>\n   </g>\n   <g id=\"line2d_58\">\n    <path clip-path=\"url(#p7a156b0138)\" d=\"M 49.633125 136.845366 \nL 69.163125 136.922727 \nL 88.693125 136.922727 \nL 108.223125 132.485479 \n\" style=\"fill:none;stroke:#2ca02c;stroke-dasharray:9.6,2.4,1.5,2.4;stroke-dashoffset:0;stroke-width:1.5;\"/>\n   </g>\n   <g id=\"line2d_59\">\n    <path clip-path=\"url(#p7a156b0138)\" d=\"M 34.954394 13.377273 \nL 44.698573 13.537636 \nL 54.442752 13.548692 \nL 64.186931 13.600489 \nL 73.93111 13.647875 \nL 83.675289 13.740101 \nL 93.419468 13.967681 \nL 103.163647 15.236262 \nL 112.907826 30.270329 \nL 122.652006 62.956379 \n\" style=\"fill:none;stroke:#1f77b4;stroke-linecap:square;stroke-width:1.5;\"/>\n   </g>\n   <g id=\"line2d_60\">\n    <path clip-path=\"url(#p7a156b0138)\" d=\"M 49.633125 13.415661 \nL 69.163125 13.662416 \nL 88.693125 13.882221 \nL 108.223125 17.488596 \n\" style=\"fill:none;stroke:#ff7f0e;stroke-dasharray:5.55,2.4;stroke-dashoffset:0;stroke-width:1.5;\"/>\n   </g>\n   <g id=\"line2d_61\">\n    <path clip-path=\"url(#p7a156b0138)\" d=\"M 49.633125 136.845366 \nL 69.163125 136.922727 \nL 88.693125 136.922727 \nL 108.223125 132.485479 \n\" style=\"fill:none;stroke:#2ca02c;stroke-dasharray:9.6,2.4,1.5,2.4;stroke-dashoffset:0;stroke-width:1.5;\"/>\n   </g>\n   <g id=\"line2d_62\">\n    <path clip-path=\"url(#p7a156b0138)\" d=\"M 34.954394 13.377273 \nL 44.698573 13.537636 \nL 54.442752 13.548692 \nL 64.186931 13.600489 \nL 73.93111 13.647875 \nL 83.675289 13.740101 \nL 93.419468 13.967681 \nL 103.163647 15.236262 \nL 112.907826 30.270329 \nL 122.652006 62.956379 \n\" style=\"fill:none;stroke:#1f77b4;stroke-linecap:square;stroke-width:1.5;\"/>\n   </g>\n   <g id=\"line2d_63\">\n    <path clip-path=\"url(#p7a156b0138)\" d=\"M 49.633125 13.415661 \nL 69.163125 13.662416 \nL 88.693125 13.882221 \nL 108.223125 17.488596 \nL 127.753125 72.307563 \n\" style=\"fill:none;stroke:#ff7f0e;stroke-dasharray:5.55,2.4;stroke-dashoffset:0;stroke-width:1.5;\"/>\n   </g>\n   <g id=\"line2d_64\">\n    <path clip-path=\"url(#p7a156b0138)\" d=\"M 49.633125 136.845366 \nL 69.163125 136.922727 \nL 88.693125 136.922727 \nL 108.223125 132.485479 \n\" style=\"fill:none;stroke:#2ca02c;stroke-dasharray:9.6,2.4,1.5,2.4;stroke-dashoffset:0;stroke-width:1.5;\"/>\n   </g>\n   <g id=\"line2d_65\">\n    <path clip-path=\"url(#p7a156b0138)\" d=\"M 34.954394 13.377273 \nL 44.698573 13.537636 \nL 54.442752 13.548692 \nL 64.186931 13.600489 \nL 73.93111 13.647875 \nL 83.675289 13.740101 \nL 93.419468 13.967681 \nL 103.163647 15.236262 \nL 112.907826 30.270329 \nL 122.652006 62.956379 \n\" style=\"fill:none;stroke:#1f77b4;stroke-linecap:square;stroke-width:1.5;\"/>\n   </g>\n   <g id=\"line2d_66\">\n    <path clip-path=\"url(#p7a156b0138)\" d=\"M 49.633125 13.415661 \nL 69.163125 13.662416 \nL 88.693125 13.882221 \nL 108.223125 17.488596 \nL 127.753125 72.307563 \n\" style=\"fill:none;stroke:#ff7f0e;stroke-dasharray:5.55,2.4;stroke-dashoffset:0;stroke-width:1.5;\"/>\n   </g>\n   <g id=\"line2d_67\">\n    <path clip-path=\"url(#p7a156b0138)\" d=\"M 49.633125 136.845366 \nL 69.163125 136.922727 \nL 88.693125 136.922727 \nL 108.223125 132.485479 \nL 127.753125 112.27749 \n\" style=\"fill:none;stroke:#2ca02c;stroke-dasharray:9.6,2.4,1.5,2.4;stroke-dashoffset:0;stroke-width:1.5;\"/>\n   </g>\n   <g id=\"line2d_68\">\n    <path clip-path=\"url(#p7a156b0138)\" d=\"M 34.954394 13.377273 \nL 44.698573 13.537636 \nL 54.442752 13.548692 \nL 64.186931 13.600489 \nL 73.93111 13.647875 \nL 83.675289 13.740101 \nL 93.419468 13.967681 \nL 103.163647 15.236262 \nL 112.907826 30.270329 \nL 122.652006 62.956379 \nL 132.396185 76.446749 \n\" style=\"fill:none;stroke:#1f77b4;stroke-linecap:square;stroke-width:1.5;\"/>\n   </g>\n   <g id=\"line2d_69\">\n    <path clip-path=\"url(#p7a156b0138)\" d=\"M 49.633125 13.415661 \nL 69.163125 13.662416 \nL 88.693125 13.882221 \nL 108.223125 17.488596 \nL 127.753125 72.307563 \n\" style=\"fill:none;stroke:#ff7f0e;stroke-dasharray:5.55,2.4;stroke-dashoffset:0;stroke-width:1.5;\"/>\n   </g>\n   <g id=\"line2d_70\">\n    <path clip-path=\"url(#p7a156b0138)\" d=\"M 49.633125 136.845366 \nL 69.163125 136.922727 \nL 88.693125 136.922727 \nL 108.223125 132.485479 \nL 127.753125 112.27749 \n\" style=\"fill:none;stroke:#2ca02c;stroke-dasharray:9.6,2.4,1.5,2.4;stroke-dashoffset:0;stroke-width:1.5;\"/>\n   </g>\n   <g id=\"line2d_71\">\n    <path clip-path=\"url(#p7a156b0138)\" d=\"M 34.954394 13.377273 \nL 44.698573 13.537636 \nL 54.442752 13.548692 \nL 64.186931 13.600489 \nL 73.93111 13.647875 \nL 83.675289 13.740101 \nL 93.419468 13.967681 \nL 103.163647 15.236262 \nL 112.907826 30.270329 \nL 122.652006 62.956379 \nL 132.396185 76.446749 \nL 142.140364 82.699878 \n\" style=\"fill:none;stroke:#1f77b4;stroke-linecap:square;stroke-width:1.5;\"/>\n   </g>\n   <g id=\"line2d_72\">\n    <path clip-path=\"url(#p7a156b0138)\" d=\"M 49.633125 13.415661 \nL 69.163125 13.662416 \nL 88.693125 13.882221 \nL 108.223125 17.488596 \nL 127.753125 72.307563 \n\" style=\"fill:none;stroke:#ff7f0e;stroke-dasharray:5.55,2.4;stroke-dashoffset:0;stroke-width:1.5;\"/>\n   </g>\n   <g id=\"line2d_73\">\n    <path clip-path=\"url(#p7a156b0138)\" d=\"M 49.633125 136.845366 \nL 69.163125 136.922727 \nL 88.693125 136.922727 \nL 108.223125 132.485479 \nL 127.753125 112.27749 \n\" style=\"fill:none;stroke:#2ca02c;stroke-dasharray:9.6,2.4,1.5,2.4;stroke-dashoffset:0;stroke-width:1.5;\"/>\n   </g>\n   <g id=\"line2d_74\">\n    <path clip-path=\"url(#p7a156b0138)\" d=\"M 34.954394 13.377273 \nL 44.698573 13.537636 \nL 54.442752 13.548692 \nL 64.186931 13.600489 \nL 73.93111 13.647875 \nL 83.675289 13.740101 \nL 93.419468 13.967681 \nL 103.163647 15.236262 \nL 112.907826 30.270329 \nL 122.652006 62.956379 \nL 132.396185 76.446749 \nL 142.140364 82.699878 \n\" style=\"fill:none;stroke:#1f77b4;stroke-linecap:square;stroke-width:1.5;\"/>\n   </g>\n   <g id=\"line2d_75\">\n    <path clip-path=\"url(#p7a156b0138)\" d=\"M 49.633125 13.415661 \nL 69.163125 13.662416 \nL 88.693125 13.882221 \nL 108.223125 17.488596 \nL 127.753125 72.307563 \nL 147.283125 84.587035 \n\" style=\"fill:none;stroke:#ff7f0e;stroke-dasharray:5.55,2.4;stroke-dashoffset:0;stroke-width:1.5;\"/>\n   </g>\n   <g id=\"line2d_76\">\n    <path clip-path=\"url(#p7a156b0138)\" d=\"M 49.633125 136.845366 \nL 69.163125 136.922727 \nL 88.693125 136.922727 \nL 108.223125 132.485479 \nL 127.753125 112.27749 \n\" style=\"fill:none;stroke:#2ca02c;stroke-dasharray:9.6,2.4,1.5,2.4;stroke-dashoffset:0;stroke-width:1.5;\"/>\n   </g>\n   <g id=\"line2d_77\">\n    <path clip-path=\"url(#p7a156b0138)\" d=\"M 34.954394 13.377273 \nL 44.698573 13.537636 \nL 54.442752 13.548692 \nL 64.186931 13.600489 \nL 73.93111 13.647875 \nL 83.675289 13.740101 \nL 93.419468 13.967681 \nL 103.163647 15.236262 \nL 112.907826 30.270329 \nL 122.652006 62.956379 \nL 132.396185 76.446749 \nL 142.140364 82.699878 \n\" style=\"fill:none;stroke:#1f77b4;stroke-linecap:square;stroke-width:1.5;\"/>\n   </g>\n   <g id=\"line2d_78\">\n    <path clip-path=\"url(#p7a156b0138)\" d=\"M 49.633125 13.415661 \nL 69.163125 13.662416 \nL 88.693125 13.882221 \nL 108.223125 17.488596 \nL 127.753125 72.307563 \nL 147.283125 84.587035 \n\" style=\"fill:none;stroke:#ff7f0e;stroke-dasharray:5.55,2.4;stroke-dashoffset:0;stroke-width:1.5;\"/>\n   </g>\n   <g id=\"line2d_79\">\n    <path clip-path=\"url(#p7a156b0138)\" d=\"M 49.633125 136.845366 \nL 69.163125 136.922727 \nL 88.693125 136.922727 \nL 108.223125 132.485479 \nL 127.753125 112.27749 \nL 147.283125 108.437033 \n\" style=\"fill:none;stroke:#2ca02c;stroke-dasharray:9.6,2.4,1.5,2.4;stroke-dashoffset:0;stroke-width:1.5;\"/>\n   </g>\n   <g id=\"line2d_80\">\n    <path clip-path=\"url(#p7a156b0138)\" d=\"M 34.954394 13.377273 \nL 44.698573 13.537636 \nL 54.442752 13.548692 \nL 64.186931 13.600489 \nL 73.93111 13.647875 \nL 83.675289 13.740101 \nL 93.419468 13.967681 \nL 103.163647 15.236262 \nL 112.907826 30.270329 \nL 122.652006 62.956379 \nL 132.396185 76.446749 \nL 142.140364 82.699878 \nL 151.884543 87.121067 \n\" style=\"fill:none;stroke:#1f77b4;stroke-linecap:square;stroke-width:1.5;\"/>\n   </g>\n   <g id=\"line2d_81\">\n    <path clip-path=\"url(#p7a156b0138)\" d=\"M 49.633125 13.415661 \nL 69.163125 13.662416 \nL 88.693125 13.882221 \nL 108.223125 17.488596 \nL 127.753125 72.307563 \nL 147.283125 84.587035 \n\" style=\"fill:none;stroke:#ff7f0e;stroke-dasharray:5.55,2.4;stroke-dashoffset:0;stroke-width:1.5;\"/>\n   </g>\n   <g id=\"line2d_82\">\n    <path clip-path=\"url(#p7a156b0138)\" d=\"M 49.633125 136.845366 \nL 69.163125 136.922727 \nL 88.693125 136.922727 \nL 108.223125 132.485479 \nL 127.753125 112.27749 \nL 147.283125 108.437033 \n\" style=\"fill:none;stroke:#2ca02c;stroke-dasharray:9.6,2.4,1.5,2.4;stroke-dashoffset:0;stroke-width:1.5;\"/>\n   </g>\n   <g id=\"line2d_83\">\n    <path clip-path=\"url(#p7a156b0138)\" d=\"M 34.954394 13.377273 \nL 44.698573 13.537636 \nL 54.442752 13.548692 \nL 64.186931 13.600489 \nL 73.93111 13.647875 \nL 83.675289 13.740101 \nL 93.419468 13.967681 \nL 103.163647 15.236262 \nL 112.907826 30.270329 \nL 122.652006 62.956379 \nL 132.396185 76.446749 \nL 142.140364 82.699878 \nL 151.884543 87.121067 \nL 161.628722 90.880609 \n\" style=\"fill:none;stroke:#1f77b4;stroke-linecap:square;stroke-width:1.5;\"/>\n   </g>\n   <g id=\"line2d_84\">\n    <path clip-path=\"url(#p7a156b0138)\" d=\"M 49.633125 13.415661 \nL 69.163125 13.662416 \nL 88.693125 13.882221 \nL 108.223125 17.488596 \nL 127.753125 72.307563 \nL 147.283125 84.587035 \n\" style=\"fill:none;stroke:#ff7f0e;stroke-dasharray:5.55,2.4;stroke-dashoffset:0;stroke-width:1.5;\"/>\n   </g>\n   <g id=\"line2d_85\">\n    <path clip-path=\"url(#p7a156b0138)\" d=\"M 49.633125 136.845366 \nL 69.163125 136.922727 \nL 88.693125 136.922727 \nL 108.223125 132.485479 \nL 127.753125 112.27749 \nL 147.283125 108.437033 \n\" style=\"fill:none;stroke:#2ca02c;stroke-dasharray:9.6,2.4,1.5,2.4;stroke-dashoffset:0;stroke-width:1.5;\"/>\n   </g>\n   <g id=\"line2d_86\">\n    <path clip-path=\"url(#p7a156b0138)\" d=\"M 34.954394 13.377273 \nL 44.698573 13.537636 \nL 54.442752 13.548692 \nL 64.186931 13.600489 \nL 73.93111 13.647875 \nL 83.675289 13.740101 \nL 93.419468 13.967681 \nL 103.163647 15.236262 \nL 112.907826 30.270329 \nL 122.652006 62.956379 \nL 132.396185 76.446749 \nL 142.140364 82.699878 \nL 151.884543 87.121067 \nL 161.628722 90.880609 \n\" style=\"fill:none;stroke:#1f77b4;stroke-linecap:square;stroke-width:1.5;\"/>\n   </g>\n   <g id=\"line2d_87\">\n    <path clip-path=\"url(#p7a156b0138)\" d=\"M 49.633125 13.415661 \nL 69.163125 13.662416 \nL 88.693125 13.882221 \nL 108.223125 17.488596 \nL 127.753125 72.307563 \nL 147.283125 84.587035 \nL 166.813125 91.877458 \n\" style=\"fill:none;stroke:#ff7f0e;stroke-dasharray:5.55,2.4;stroke-dashoffset:0;stroke-width:1.5;\"/>\n   </g>\n   <g id=\"line2d_88\">\n    <path clip-path=\"url(#p7a156b0138)\" d=\"M 49.633125 136.845366 \nL 69.163125 136.922727 \nL 88.693125 136.922727 \nL 108.223125 132.485479 \nL 127.753125 112.27749 \nL 147.283125 108.437033 \n\" style=\"fill:none;stroke:#2ca02c;stroke-dasharray:9.6,2.4,1.5,2.4;stroke-dashoffset:0;stroke-width:1.5;\"/>\n   </g>\n   <g id=\"line2d_89\">\n    <path clip-path=\"url(#p7a156b0138)\" d=\"M 34.954394 13.377273 \nL 44.698573 13.537636 \nL 54.442752 13.548692 \nL 64.186931 13.600489 \nL 73.93111 13.647875 \nL 83.675289 13.740101 \nL 93.419468 13.967681 \nL 103.163647 15.236262 \nL 112.907826 30.270329 \nL 122.652006 62.956379 \nL 132.396185 76.446749 \nL 142.140364 82.699878 \nL 151.884543 87.121067 \nL 161.628722 90.880609 \n\" style=\"fill:none;stroke:#1f77b4;stroke-linecap:square;stroke-width:1.5;\"/>\n   </g>\n   <g id=\"line2d_90\">\n    <path clip-path=\"url(#p7a156b0138)\" d=\"M 49.633125 13.415661 \nL 69.163125 13.662416 \nL 88.693125 13.882221 \nL 108.223125 17.488596 \nL 127.753125 72.307563 \nL 147.283125 84.587035 \nL 166.813125 91.877458 \n\" style=\"fill:none;stroke:#ff7f0e;stroke-dasharray:5.55,2.4;stroke-dashoffset:0;stroke-width:1.5;\"/>\n   </g>\n   <g id=\"line2d_91\">\n    <path clip-path=\"url(#p7a156b0138)\" d=\"M 49.633125 136.845366 \nL 69.163125 136.922727 \nL 88.693125 136.922727 \nL 108.223125 132.485479 \nL 127.753125 112.27749 \nL 147.283125 108.437033 \nL 166.813125 105.419925 \n\" style=\"fill:none;stroke:#2ca02c;stroke-dasharray:9.6,2.4,1.5,2.4;stroke-dashoffset:0;stroke-width:1.5;\"/>\n   </g>\n   <g id=\"line2d_92\">\n    <path clip-path=\"url(#p7a156b0138)\" d=\"M 34.954394 13.377273 \nL 44.698573 13.537636 \nL 54.442752 13.548692 \nL 64.186931 13.600489 \nL 73.93111 13.647875 \nL 83.675289 13.740101 \nL 93.419468 13.967681 \nL 103.163647 15.236262 \nL 112.907826 30.270329 \nL 122.652006 62.956379 \nL 132.396185 76.446749 \nL 142.140364 82.699878 \nL 151.884543 87.121067 \nL 161.628722 90.880609 \nL 171.372901 93.625816 \n\" style=\"fill:none;stroke:#1f77b4;stroke-linecap:square;stroke-width:1.5;\"/>\n   </g>\n   <g id=\"line2d_93\">\n    <path clip-path=\"url(#p7a156b0138)\" d=\"M 49.633125 13.415661 \nL 69.163125 13.662416 \nL 88.693125 13.882221 \nL 108.223125 17.488596 \nL 127.753125 72.307563 \nL 147.283125 84.587035 \nL 166.813125 91.877458 \n\" style=\"fill:none;stroke:#ff7f0e;stroke-dasharray:5.55,2.4;stroke-dashoffset:0;stroke-width:1.5;\"/>\n   </g>\n   <g id=\"line2d_94\">\n    <path clip-path=\"url(#p7a156b0138)\" d=\"M 49.633125 136.845366 \nL 69.163125 136.922727 \nL 88.693125 136.922727 \nL 108.223125 132.485479 \nL 127.753125 112.27749 \nL 147.283125 108.437033 \nL 166.813125 105.419925 \n\" style=\"fill:none;stroke:#2ca02c;stroke-dasharray:9.6,2.4,1.5,2.4;stroke-dashoffset:0;stroke-width:1.5;\"/>\n   </g>\n   <g id=\"line2d_95\">\n    <path clip-path=\"url(#p7a156b0138)\" d=\"M 34.954394 13.377273 \nL 44.698573 13.537636 \nL 54.442752 13.548692 \nL 64.186931 13.600489 \nL 73.93111 13.647875 \nL 83.675289 13.740101 \nL 93.419468 13.967681 \nL 103.163647 15.236262 \nL 112.907826 30.270329 \nL 122.652006 62.956379 \nL 132.396185 76.446749 \nL 142.140364 82.699878 \nL 151.884543 87.121067 \nL 161.628722 90.880609 \nL 171.372901 93.625816 \nL 181.11708 95.105812 \n\" style=\"fill:none;stroke:#1f77b4;stroke-linecap:square;stroke-width:1.5;\"/>\n   </g>\n   <g id=\"line2d_96\">\n    <path clip-path=\"url(#p7a156b0138)\" d=\"M 49.633125 13.415661 \nL 69.163125 13.662416 \nL 88.693125 13.882221 \nL 108.223125 17.488596 \nL 127.753125 72.307563 \nL 147.283125 84.587035 \nL 166.813125 91.877458 \n\" style=\"fill:none;stroke:#ff7f0e;stroke-dasharray:5.55,2.4;stroke-dashoffset:0;stroke-width:1.5;\"/>\n   </g>\n   <g id=\"line2d_97\">\n    <path clip-path=\"url(#p7a156b0138)\" d=\"M 49.633125 136.845366 \nL 69.163125 136.922727 \nL 88.693125 136.922727 \nL 108.223125 132.485479 \nL 127.753125 112.27749 \nL 147.283125 108.437033 \nL 166.813125 105.419925 \n\" style=\"fill:none;stroke:#2ca02c;stroke-dasharray:9.6,2.4,1.5,2.4;stroke-dashoffset:0;stroke-width:1.5;\"/>\n   </g>\n   <g id=\"line2d_98\">\n    <path clip-path=\"url(#p7a156b0138)\" d=\"M 34.954394 13.377273 \nL 44.698573 13.537636 \nL 54.442752 13.548692 \nL 64.186931 13.600489 \nL 73.93111 13.647875 \nL 83.675289 13.740101 \nL 93.419468 13.967681 \nL 103.163647 15.236262 \nL 112.907826 30.270329 \nL 122.652006 62.956379 \nL 132.396185 76.446749 \nL 142.140364 82.699878 \nL 151.884543 87.121067 \nL 161.628722 90.880609 \nL 171.372901 93.625816 \nL 181.11708 95.105812 \n\" style=\"fill:none;stroke:#1f77b4;stroke-linecap:square;stroke-width:1.5;\"/>\n   </g>\n   <g id=\"line2d_99\">\n    <path clip-path=\"url(#p7a156b0138)\" d=\"M 49.633125 13.415661 \nL 69.163125 13.662416 \nL 88.693125 13.882221 \nL 108.223125 17.488596 \nL 127.753125 72.307563 \nL 147.283125 84.587035 \nL 166.813125 91.877458 \nL 186.343125 95.480248 \n\" style=\"fill:none;stroke:#ff7f0e;stroke-dasharray:5.55,2.4;stroke-dashoffset:0;stroke-width:1.5;\"/>\n   </g>\n   <g id=\"line2d_100\">\n    <path clip-path=\"url(#p7a156b0138)\" d=\"M 49.633125 136.845366 \nL 69.163125 136.922727 \nL 88.693125 136.922727 \nL 108.223125 132.485479 \nL 127.753125 112.27749 \nL 147.283125 108.437033 \nL 166.813125 105.419925 \n\" style=\"fill:none;stroke:#2ca02c;stroke-dasharray:9.6,2.4,1.5,2.4;stroke-dashoffset:0;stroke-width:1.5;\"/>\n   </g>\n   <g id=\"line2d_101\">\n    <path clip-path=\"url(#p7a156b0138)\" d=\"M 34.954394 13.377273 \nL 44.698573 13.537636 \nL 54.442752 13.548692 \nL 64.186931 13.600489 \nL 73.93111 13.647875 \nL 83.675289 13.740101 \nL 93.419468 13.967681 \nL 103.163647 15.236262 \nL 112.907826 30.270329 \nL 122.652006 62.956379 \nL 132.396185 76.446749 \nL 142.140364 82.699878 \nL 151.884543 87.121067 \nL 161.628722 90.880609 \nL 171.372901 93.625816 \nL 181.11708 95.105812 \n\" style=\"fill:none;stroke:#1f77b4;stroke-linecap:square;stroke-width:1.5;\"/>\n   </g>\n   <g id=\"line2d_102\">\n    <path clip-path=\"url(#p7a156b0138)\" d=\"M 49.633125 13.415661 \nL 69.163125 13.662416 \nL 88.693125 13.882221 \nL 108.223125 17.488596 \nL 127.753125 72.307563 \nL 147.283125 84.587035 \nL 166.813125 91.877458 \nL 186.343125 95.480248 \n\" style=\"fill:none;stroke:#ff7f0e;stroke-dasharray:5.55,2.4;stroke-dashoffset:0;stroke-width:1.5;\"/>\n   </g>\n   <g id=\"line2d_103\">\n    <path clip-path=\"url(#p7a156b0138)\" d=\"M 49.633125 136.845366 \nL 69.163125 136.922727 \nL 88.693125 136.922727 \nL 108.223125 132.485479 \nL 127.753125 112.27749 \nL 147.283125 108.437033 \nL 166.813125 105.419925 \nL 186.343125 103.67376 \n\" style=\"fill:none;stroke:#2ca02c;stroke-dasharray:9.6,2.4,1.5,2.4;stroke-dashoffset:0;stroke-width:1.5;\"/>\n   </g>\n   <g id=\"line2d_104\">\n    <path clip-path=\"url(#p7a156b0138)\" d=\"M 34.954394 13.377273 \nL 44.698573 13.537636 \nL 54.442752 13.548692 \nL 64.186931 13.600489 \nL 73.93111 13.647875 \nL 83.675289 13.740101 \nL 93.419468 13.967681 \nL 103.163647 15.236262 \nL 112.907826 30.270329 \nL 122.652006 62.956379 \nL 132.396185 76.446749 \nL 142.140364 82.699878 \nL 151.884543 87.121067 \nL 161.628722 90.880609 \nL 171.372901 93.625816 \nL 181.11708 95.105812 \nL 190.861259 96.333243 \n\" style=\"fill:none;stroke:#1f77b4;stroke-linecap:square;stroke-width:1.5;\"/>\n   </g>\n   <g id=\"line2d_105\">\n    <path clip-path=\"url(#p7a156b0138)\" d=\"M 49.633125 13.415661 \nL 69.163125 13.662416 \nL 88.693125 13.882221 \nL 108.223125 17.488596 \nL 127.753125 72.307563 \nL 147.283125 84.587035 \nL 166.813125 91.877458 \nL 186.343125 95.480248 \n\" style=\"fill:none;stroke:#ff7f0e;stroke-dasharray:5.55,2.4;stroke-dashoffset:0;stroke-width:1.5;\"/>\n   </g>\n   <g id=\"line2d_106\">\n    <path clip-path=\"url(#p7a156b0138)\" d=\"M 49.633125 136.845366 \nL 69.163125 136.922727 \nL 88.693125 136.922727 \nL 108.223125 132.485479 \nL 127.753125 112.27749 \nL 147.283125 108.437033 \nL 166.813125 105.419925 \nL 186.343125 103.67376 \n\" style=\"fill:none;stroke:#2ca02c;stroke-dasharray:9.6,2.4,1.5,2.4;stroke-dashoffset:0;stroke-width:1.5;\"/>\n   </g>\n   <g id=\"line2d_107\">\n    <path clip-path=\"url(#p7a156b0138)\" d=\"M 34.954394 13.377273 \nL 44.698573 13.537636 \nL 54.442752 13.548692 \nL 64.186931 13.600489 \nL 73.93111 13.647875 \nL 83.675289 13.740101 \nL 93.419468 13.967681 \nL 103.163647 15.236262 \nL 112.907826 30.270329 \nL 122.652006 62.956379 \nL 132.396185 76.446749 \nL 142.140364 82.699878 \nL 151.884543 87.121067 \nL 161.628722 90.880609 \nL 171.372901 93.625816 \nL 181.11708 95.105812 \nL 190.861259 96.333243 \nL 200.605438 98.619391 \n\" style=\"fill:none;stroke:#1f77b4;stroke-linecap:square;stroke-width:1.5;\"/>\n   </g>\n   <g id=\"line2d_108\">\n    <path clip-path=\"url(#p7a156b0138)\" d=\"M 49.633125 13.415661 \nL 69.163125 13.662416 \nL 88.693125 13.882221 \nL 108.223125 17.488596 \nL 127.753125 72.307563 \nL 147.283125 84.587035 \nL 166.813125 91.877458 \nL 186.343125 95.480248 \n\" style=\"fill:none;stroke:#ff7f0e;stroke-dasharray:5.55,2.4;stroke-dashoffset:0;stroke-width:1.5;\"/>\n   </g>\n   <g id=\"line2d_109\">\n    <path clip-path=\"url(#p7a156b0138)\" d=\"M 49.633125 136.845366 \nL 69.163125 136.922727 \nL 88.693125 136.922727 \nL 108.223125 132.485479 \nL 127.753125 112.27749 \nL 147.283125 108.437033 \nL 166.813125 105.419925 \nL 186.343125 103.67376 \n\" style=\"fill:none;stroke:#2ca02c;stroke-dasharray:9.6,2.4,1.5,2.4;stroke-dashoffset:0;stroke-width:1.5;\"/>\n   </g>\n   <g id=\"line2d_110\">\n    <path clip-path=\"url(#p7a156b0138)\" d=\"M 34.954394 13.377273 \nL 44.698573 13.537636 \nL 54.442752 13.548692 \nL 64.186931 13.600489 \nL 73.93111 13.647875 \nL 83.675289 13.740101 \nL 93.419468 13.967681 \nL 103.163647 15.236262 \nL 112.907826 30.270329 \nL 122.652006 62.956379 \nL 132.396185 76.446749 \nL 142.140364 82.699878 \nL 151.884543 87.121067 \nL 161.628722 90.880609 \nL 171.372901 93.625816 \nL 181.11708 95.105812 \nL 190.861259 96.333243 \nL 200.605438 98.619391 \n\" style=\"fill:none;stroke:#1f77b4;stroke-linecap:square;stroke-width:1.5;\"/>\n   </g>\n   <g id=\"line2d_111\">\n    <path clip-path=\"url(#p7a156b0138)\" d=\"M 49.633125 13.415661 \nL 69.163125 13.662416 \nL 88.693125 13.882221 \nL 108.223125 17.488596 \nL 127.753125 72.307563 \nL 147.283125 84.587035 \nL 166.813125 91.877458 \nL 186.343125 95.480248 \nL 205.873125 98.319902 \n\" style=\"fill:none;stroke:#ff7f0e;stroke-dasharray:5.55,2.4;stroke-dashoffset:0;stroke-width:1.5;\"/>\n   </g>\n   <g id=\"line2d_112\">\n    <path clip-path=\"url(#p7a156b0138)\" d=\"M 49.633125 136.845366 \nL 69.163125 136.922727 \nL 88.693125 136.922727 \nL 108.223125 132.485479 \nL 127.753125 112.27749 \nL 147.283125 108.437033 \nL 166.813125 105.419925 \nL 186.343125 103.67376 \n\" style=\"fill:none;stroke:#2ca02c;stroke-dasharray:9.6,2.4,1.5,2.4;stroke-dashoffset:0;stroke-width:1.5;\"/>\n   </g>\n   <g id=\"line2d_113\">\n    <path clip-path=\"url(#p7a156b0138)\" d=\"M 34.954394 13.377273 \nL 44.698573 13.537636 \nL 54.442752 13.548692 \nL 64.186931 13.600489 \nL 73.93111 13.647875 \nL 83.675289 13.740101 \nL 93.419468 13.967681 \nL 103.163647 15.236262 \nL 112.907826 30.270329 \nL 122.652006 62.956379 \nL 132.396185 76.446749 \nL 142.140364 82.699878 \nL 151.884543 87.121067 \nL 161.628722 90.880609 \nL 171.372901 93.625816 \nL 181.11708 95.105812 \nL 190.861259 96.333243 \nL 200.605438 98.619391 \n\" style=\"fill:none;stroke:#1f77b4;stroke-linecap:square;stroke-width:1.5;\"/>\n   </g>\n   <g id=\"line2d_114\">\n    <path clip-path=\"url(#p7a156b0138)\" d=\"M 49.633125 13.415661 \nL 69.163125 13.662416 \nL 88.693125 13.882221 \nL 108.223125 17.488596 \nL 127.753125 72.307563 \nL 147.283125 84.587035 \nL 166.813125 91.877458 \nL 186.343125 95.480248 \nL 205.873125 98.319902 \n\" style=\"fill:none;stroke:#ff7f0e;stroke-dasharray:5.55,2.4;stroke-dashoffset:0;stroke-width:1.5;\"/>\n   </g>\n   <g id=\"line2d_115\">\n    <path clip-path=\"url(#p7a156b0138)\" d=\"M 49.633125 136.845366 \nL 69.163125 136.922727 \nL 88.693125 136.922727 \nL 108.223125 132.485479 \nL 127.753125 112.27749 \nL 147.283125 108.437033 \nL 166.813125 105.419925 \nL 186.343125 103.67376 \nL 205.873125 102.596222 \n\" style=\"fill:none;stroke:#2ca02c;stroke-dasharray:9.6,2.4,1.5,2.4;stroke-dashoffset:0;stroke-width:1.5;\"/>\n   </g>\n   <g id=\"line2d_116\">\n    <path clip-path=\"url(#p7a156b0138)\" d=\"M 34.954394 13.377273 \nL 44.698573 13.537636 \nL 54.442752 13.548692 \nL 64.186931 13.600489 \nL 73.93111 13.647875 \nL 83.675289 13.740101 \nL 93.419468 13.967681 \nL 103.163647 15.236262 \nL 112.907826 30.270329 \nL 122.652006 62.956379 \nL 132.396185 76.446749 \nL 142.140364 82.699878 \nL 151.884543 87.121067 \nL 161.628722 90.880609 \nL 171.372901 93.625816 \nL 181.11708 95.105812 \nL 190.861259 96.333243 \nL 200.605438 98.619391 \nL 210.349618 99.584327 \n\" style=\"fill:none;stroke:#1f77b4;stroke-linecap:square;stroke-width:1.5;\"/>\n   </g>\n   <g id=\"line2d_117\">\n    <path clip-path=\"url(#p7a156b0138)\" d=\"M 49.633125 13.415661 \nL 69.163125 13.662416 \nL 88.693125 13.882221 \nL 108.223125 17.488596 \nL 127.753125 72.307563 \nL 147.283125 84.587035 \nL 166.813125 91.877458 \nL 186.343125 95.480248 \nL 205.873125 98.319902 \n\" style=\"fill:none;stroke:#ff7f0e;stroke-dasharray:5.55,2.4;stroke-dashoffset:0;stroke-width:1.5;\"/>\n   </g>\n   <g id=\"line2d_118\">\n    <path clip-path=\"url(#p7a156b0138)\" d=\"M 49.633125 136.845366 \nL 69.163125 136.922727 \nL 88.693125 136.922727 \nL 108.223125 132.485479 \nL 127.753125 112.27749 \nL 147.283125 108.437033 \nL 166.813125 105.419925 \nL 186.343125 103.67376 \nL 205.873125 102.596222 \n\" style=\"fill:none;stroke:#2ca02c;stroke-dasharray:9.6,2.4,1.5,2.4;stroke-dashoffset:0;stroke-width:1.5;\"/>\n   </g>\n   <g id=\"line2d_119\">\n    <path clip-path=\"url(#p7a156b0138)\" d=\"M 34.954394 13.377273 \nL 44.698573 13.537636 \nL 54.442752 13.548692 \nL 64.186931 13.600489 \nL 73.93111 13.647875 \nL 83.675289 13.740101 \nL 93.419468 13.967681 \nL 103.163647 15.236262 \nL 112.907826 30.270329 \nL 122.652006 62.956379 \nL 132.396185 76.446749 \nL 142.140364 82.699878 \nL 151.884543 87.121067 \nL 161.628722 90.880609 \nL 171.372901 93.625816 \nL 181.11708 95.105812 \nL 190.861259 96.333243 \nL 200.605438 98.619391 \nL 210.349618 99.584327 \nL 220.093797 101.053466 \n\" style=\"fill:none;stroke:#1f77b4;stroke-linecap:square;stroke-width:1.5;\"/>\n   </g>\n   <g id=\"line2d_120\">\n    <path clip-path=\"url(#p7a156b0138)\" d=\"M 49.633125 13.415661 \nL 69.163125 13.662416 \nL 88.693125 13.882221 \nL 108.223125 17.488596 \nL 127.753125 72.307563 \nL 147.283125 84.587035 \nL 166.813125 91.877458 \nL 186.343125 95.480248 \nL 205.873125 98.319902 \n\" style=\"fill:none;stroke:#ff7f0e;stroke-dasharray:5.55,2.4;stroke-dashoffset:0;stroke-width:1.5;\"/>\n   </g>\n   <g id=\"line2d_121\">\n    <path clip-path=\"url(#p7a156b0138)\" d=\"M 49.633125 136.845366 \nL 69.163125 136.922727 \nL 88.693125 136.922727 \nL 108.223125 132.485479 \nL 127.753125 112.27749 \nL 147.283125 108.437033 \nL 166.813125 105.419925 \nL 186.343125 103.67376 \nL 205.873125 102.596222 \n\" style=\"fill:none;stroke:#2ca02c;stroke-dasharray:9.6,2.4,1.5,2.4;stroke-dashoffset:0;stroke-width:1.5;\"/>\n   </g>\n   <g id=\"line2d_122\">\n    <path clip-path=\"url(#p7a156b0138)\" d=\"M 34.954394 13.377273 \nL 44.698573 13.537636 \nL 54.442752 13.548692 \nL 64.186931 13.600489 \nL 73.93111 13.647875 \nL 83.675289 13.740101 \nL 93.419468 13.967681 \nL 103.163647 15.236262 \nL 112.907826 30.270329 \nL 122.652006 62.956379 \nL 132.396185 76.446749 \nL 142.140364 82.699878 \nL 151.884543 87.121067 \nL 161.628722 90.880609 \nL 171.372901 93.625816 \nL 181.11708 95.105812 \nL 190.861259 96.333243 \nL 200.605438 98.619391 \nL 210.349618 99.584327 \nL 220.093797 101.053466 \n\" style=\"fill:none;stroke:#1f77b4;stroke-linecap:square;stroke-width:1.5;\"/>\n   </g>\n   <g id=\"line2d_123\">\n    <path clip-path=\"url(#p7a156b0138)\" d=\"M 49.633125 13.415661 \nL 69.163125 13.662416 \nL 88.693125 13.882221 \nL 108.223125 17.488596 \nL 127.753125 72.307563 \nL 147.283125 84.587035 \nL 166.813125 91.877458 \nL 186.343125 95.480248 \nL 205.873125 98.319902 \nL 225.403125 101.151833 \n\" style=\"fill:none;stroke:#ff7f0e;stroke-dasharray:5.55,2.4;stroke-dashoffset:0;stroke-width:1.5;\"/>\n   </g>\n   <g id=\"line2d_124\">\n    <path clip-path=\"url(#p7a156b0138)\" d=\"M 49.633125 136.845366 \nL 69.163125 136.922727 \nL 88.693125 136.922727 \nL 108.223125 132.485479 \nL 127.753125 112.27749 \nL 147.283125 108.437033 \nL 166.813125 105.419925 \nL 186.343125 103.67376 \nL 205.873125 102.596222 \n\" style=\"fill:none;stroke:#2ca02c;stroke-dasharray:9.6,2.4,1.5,2.4;stroke-dashoffset:0;stroke-width:1.5;\"/>\n   </g>\n   <g id=\"line2d_125\">\n    <path clip-path=\"url(#p7a156b0138)\" d=\"M 34.954394 13.377273 \nL 44.698573 13.537636 \nL 54.442752 13.548692 \nL 64.186931 13.600489 \nL 73.93111 13.647875 \nL 83.675289 13.740101 \nL 93.419468 13.967681 \nL 103.163647 15.236262 \nL 112.907826 30.270329 \nL 122.652006 62.956379 \nL 132.396185 76.446749 \nL 142.140364 82.699878 \nL 151.884543 87.121067 \nL 161.628722 90.880609 \nL 171.372901 93.625816 \nL 181.11708 95.105812 \nL 190.861259 96.333243 \nL 200.605438 98.619391 \nL 210.349618 99.584327 \nL 220.093797 101.053466 \n\" style=\"fill:none;stroke:#1f77b4;stroke-linecap:square;stroke-width:1.5;\"/>\n   </g>\n   <g id=\"line2d_126\">\n    <path clip-path=\"url(#p7a156b0138)\" d=\"M 49.633125 13.415661 \nL 69.163125 13.662416 \nL 88.693125 13.882221 \nL 108.223125 17.488596 \nL 127.753125 72.307563 \nL 147.283125 84.587035 \nL 166.813125 91.877458 \nL 186.343125 95.480248 \nL 205.873125 98.319902 \nL 225.403125 101.151833 \n\" style=\"fill:none;stroke:#ff7f0e;stroke-dasharray:5.55,2.4;stroke-dashoffset:0;stroke-width:1.5;\"/>\n   </g>\n   <g id=\"line2d_127\">\n    <path clip-path=\"url(#p7a156b0138)\" d=\"M 49.633125 136.845366 \nL 69.163125 136.922727 \nL 88.693125 136.922727 \nL 108.223125 132.485479 \nL 127.753125 112.27749 \nL 147.283125 108.437033 \nL 166.813125 105.419925 \nL 186.343125 103.67376 \nL 205.873125 102.596222 \nL 225.403125 101.684459 \n\" style=\"fill:none;stroke:#2ca02c;stroke-dasharray:9.6,2.4,1.5,2.4;stroke-dashoffset:0;stroke-width:1.5;\"/>\n   </g>\n   <g id=\"patch_3\">\n    <path d=\"M 30.103125 143.1 \nL 30.103125 7.2 \n\" style=\"fill:none;stroke:#000000;stroke-linecap:square;stroke-linejoin:miter;stroke-width:0.8;\"/>\n   </g>\n   <g id=\"patch_4\">\n    <path d=\"M 225.403125 143.1 \nL 225.403125 7.2 \n\" style=\"fill:none;stroke:#000000;stroke-linecap:square;stroke-linejoin:miter;stroke-width:0.8;\"/>\n   </g>\n   <g id=\"patch_5\">\n    <path d=\"M 30.103125 143.1 \nL 225.403125 143.1 \n\" style=\"fill:none;stroke:#000000;stroke-linecap:square;stroke-linejoin:miter;stroke-width:0.8;\"/>\n   </g>\n   <g id=\"patch_6\">\n    <path d=\"M 30.103125 7.2 \nL 225.403125 7.2 \n\" style=\"fill:none;stroke:#000000;stroke-linecap:square;stroke-linejoin:miter;stroke-width:0.8;\"/>\n   </g>\n   <g id=\"legend_1\">\n    <g id=\"patch_7\">\n     <path d=\"M 138.8125 60.06875 \nL 218.403125 60.06875 \nQ 220.403125 60.06875 220.403125 58.06875 \nL 220.403125 14.2 \nQ 220.403125 12.2 218.403125 12.2 \nL 138.8125 12.2 \nQ 136.8125 12.2 136.8125 14.2 \nL 136.8125 58.06875 \nQ 136.8125 60.06875 138.8125 60.06875 \nz\n\" style=\"fill:#ffffff;opacity:0.8;stroke:#cccccc;stroke-linejoin:miter;\"/>\n    </g>\n    <g id=\"line2d_128\">\n     <path d=\"M 140.8125 20.298437 \nL 160.8125 20.298437 \n\" style=\"fill:none;stroke:#1f77b4;stroke-linecap:square;stroke-width:1.5;\"/>\n    </g>\n    <g id=\"line2d_129\"/>\n    <g id=\"text_13\">\n     <!-- train_loss -->\n     <defs>\n      <path d=\"M 18.3125 70.21875 \nL 18.3125 54.6875 \nL 36.8125 54.6875 \nL 36.8125 47.703125 \nL 18.3125 47.703125 \nL 18.3125 18.015625 \nQ 18.3125 11.328125 20.140625 9.421875 \nQ 21.96875 7.515625 27.59375 7.515625 \nL 36.8125 7.515625 \nL 36.8125 0 \nL 27.59375 0 \nQ 17.1875 0 13.234375 3.875 \nQ 9.28125 7.765625 9.28125 18.015625 \nL 9.28125 47.703125 \nL 2.6875 47.703125 \nL 2.6875 54.6875 \nL 9.28125 54.6875 \nL 9.28125 70.21875 \nz\n\" id=\"DejaVuSans-116\"/>\n      <path d=\"M 41.109375 46.296875 \nQ 39.59375 47.171875 37.8125 47.578125 \nQ 36.03125 48 33.890625 48 \nQ 26.265625 48 22.1875 43.046875 \nQ 18.109375 38.09375 18.109375 28.8125 \nL 18.109375 0 \nL 9.078125 0 \nL 9.078125 54.6875 \nL 18.109375 54.6875 \nL 18.109375 46.1875 \nQ 20.953125 51.171875 25.484375 53.578125 \nQ 30.03125 56 36.53125 56 \nQ 37.453125 56 38.578125 55.875 \nQ 39.703125 55.765625 41.0625 55.515625 \nz\n\" id=\"DejaVuSans-114\"/>\n      <path d=\"M 34.28125 27.484375 \nQ 23.390625 27.484375 19.1875 25 \nQ 14.984375 22.515625 14.984375 16.5 \nQ 14.984375 11.71875 18.140625 8.90625 \nQ 21.296875 6.109375 26.703125 6.109375 \nQ 34.1875 6.109375 38.703125 11.40625 \nQ 43.21875 16.703125 43.21875 25.484375 \nL 43.21875 27.484375 \nz\nM 52.203125 31.203125 \nL 52.203125 0 \nL 43.21875 0 \nL 43.21875 8.296875 \nQ 40.140625 3.328125 35.546875 0.953125 \nQ 30.953125 -1.421875 24.3125 -1.421875 \nQ 15.921875 -1.421875 10.953125 3.296875 \nQ 6 8.015625 6 15.921875 \nQ 6 25.140625 12.171875 29.828125 \nQ 18.359375 34.515625 30.609375 34.515625 \nL 43.21875 34.515625 \nL 43.21875 35.40625 \nQ 43.21875 41.609375 39.140625 45 \nQ 35.0625 48.390625 27.6875 48.390625 \nQ 23 48.390625 18.546875 47.265625 \nQ 14.109375 46.140625 10.015625 43.890625 \nL 10.015625 52.203125 \nQ 14.9375 54.109375 19.578125 55.046875 \nQ 24.21875 56 28.609375 56 \nQ 40.484375 56 46.34375 49.84375 \nQ 52.203125 43.703125 52.203125 31.203125 \nz\n\" id=\"DejaVuSans-97\"/>\n      <path d=\"M 9.421875 54.6875 \nL 18.40625 54.6875 \nL 18.40625 0 \nL 9.421875 0 \nz\nM 9.421875 75.984375 \nL 18.40625 75.984375 \nL 18.40625 64.59375 \nL 9.421875 64.59375 \nz\n\" id=\"DejaVuSans-105\"/>\n      <path d=\"M 54.890625 33.015625 \nL 54.890625 0 \nL 45.90625 0 \nL 45.90625 32.71875 \nQ 45.90625 40.484375 42.875 44.328125 \nQ 39.84375 48.1875 33.796875 48.1875 \nQ 26.515625 48.1875 22.3125 43.546875 \nQ 18.109375 38.921875 18.109375 30.90625 \nL 18.109375 0 \nL 9.078125 0 \nL 9.078125 54.6875 \nL 18.109375 54.6875 \nL 18.109375 46.1875 \nQ 21.34375 51.125 25.703125 53.5625 \nQ 30.078125 56 35.796875 56 \nQ 45.21875 56 50.046875 50.171875 \nQ 54.890625 44.34375 54.890625 33.015625 \nz\n\" id=\"DejaVuSans-110\"/>\n      <path d=\"M 50.984375 -16.609375 \nL 50.984375 -23.578125 \nL -0.984375 -23.578125 \nL -0.984375 -16.609375 \nz\n\" id=\"DejaVuSans-95\"/>\n      <path d=\"M 9.421875 75.984375 \nL 18.40625 75.984375 \nL 18.40625 0 \nL 9.421875 0 \nz\n\" id=\"DejaVuSans-108\"/>\n      <path d=\"M 44.28125 53.078125 \nL 44.28125 44.578125 \nQ 40.484375 46.53125 36.375 47.5 \nQ 32.28125 48.484375 27.875 48.484375 \nQ 21.1875 48.484375 17.84375 46.4375 \nQ 14.5 44.390625 14.5 40.28125 \nQ 14.5 37.15625 16.890625 35.375 \nQ 19.28125 33.59375 26.515625 31.984375 \nL 29.59375 31.296875 \nQ 39.15625 29.25 43.1875 25.515625 \nQ 47.21875 21.78125 47.21875 15.09375 \nQ 47.21875 7.46875 41.1875 3.015625 \nQ 35.15625 -1.421875 24.609375 -1.421875 \nQ 20.21875 -1.421875 15.453125 -0.5625 \nQ 10.6875 0.296875 5.421875 2 \nL 5.421875 11.28125 \nQ 10.40625 8.6875 15.234375 7.390625 \nQ 20.0625 6.109375 24.8125 6.109375 \nQ 31.15625 6.109375 34.5625 8.28125 \nQ 37.984375 10.453125 37.984375 14.40625 \nQ 37.984375 18.0625 35.515625 20.015625 \nQ 33.0625 21.96875 24.703125 23.78125 \nL 21.578125 24.515625 \nQ 13.234375 26.265625 9.515625 29.90625 \nQ 5.8125 33.546875 5.8125 39.890625 \nQ 5.8125 47.609375 11.28125 51.796875 \nQ 16.75 56 26.8125 56 \nQ 31.78125 56 36.171875 55.265625 \nQ 40.578125 54.546875 44.28125 53.078125 \nz\n\" id=\"DejaVuSans-115\"/>\n     </defs>\n     <g transform=\"translate(168.8125 23.798437)scale(0.1 -0.1)\">\n      <use xlink:href=\"#DejaVuSans-116\"/>\n      <use x=\"39.208984\" xlink:href=\"#DejaVuSans-114\"/>\n      <use x=\"80.322266\" xlink:href=\"#DejaVuSans-97\"/>\n      <use x=\"141.601562\" xlink:href=\"#DejaVuSans-105\"/>\n      <use x=\"169.384766\" xlink:href=\"#DejaVuSans-110\"/>\n      <use x=\"232.763672\" xlink:href=\"#DejaVuSans-95\"/>\n      <use x=\"282.763672\" xlink:href=\"#DejaVuSans-108\"/>\n      <use x=\"310.546875\" xlink:href=\"#DejaVuSans-111\"/>\n      <use x=\"371.728516\" xlink:href=\"#DejaVuSans-115\"/>\n      <use x=\"423.828125\" xlink:href=\"#DejaVuSans-115\"/>\n     </g>\n    </g>\n    <g id=\"line2d_130\">\n     <path d=\"M 140.8125 35.254687 \nL 160.8125 35.254687 \n\" style=\"fill:none;stroke:#ff7f0e;stroke-dasharray:5.55,2.4;stroke-dashoffset:0;stroke-width:1.5;\"/>\n    </g>\n    <g id=\"line2d_131\"/>\n    <g id=\"text_14\">\n     <!-- val_loss -->\n     <defs>\n      <path d=\"M 2.984375 54.6875 \nL 12.5 54.6875 \nL 29.59375 8.796875 \nL 46.6875 54.6875 \nL 56.203125 54.6875 \nL 35.6875 0 \nL 23.484375 0 \nz\n\" id=\"DejaVuSans-118\"/>\n     </defs>\n     <g transform=\"translate(168.8125 38.754687)scale(0.1 -0.1)\">\n      <use xlink:href=\"#DejaVuSans-118\"/>\n      <use x=\"59.179688\" xlink:href=\"#DejaVuSans-97\"/>\n      <use x=\"120.458984\" xlink:href=\"#DejaVuSans-108\"/>\n      <use x=\"148.242188\" xlink:href=\"#DejaVuSans-95\"/>\n      <use x=\"198.242188\" xlink:href=\"#DejaVuSans-108\"/>\n      <use x=\"226.025391\" xlink:href=\"#DejaVuSans-111\"/>\n      <use x=\"287.207031\" xlink:href=\"#DejaVuSans-115\"/>\n      <use x=\"339.306641\" xlink:href=\"#DejaVuSans-115\"/>\n     </g>\n    </g>\n    <g id=\"line2d_132\">\n     <path d=\"M 140.8125 50.210937 \nL 160.8125 50.210937 \n\" style=\"fill:none;stroke:#2ca02c;stroke-dasharray:9.6,2.4,1.5,2.4;stroke-dashoffset:0;stroke-width:1.5;\"/>\n    </g>\n    <g id=\"line2d_133\"/>\n    <g id=\"text_15\">\n     <!-- val_acc -->\n     <g transform=\"translate(168.8125 53.710937)scale(0.1 -0.1)\">\n      <use xlink:href=\"#DejaVuSans-118\"/>\n      <use x=\"59.179688\" xlink:href=\"#DejaVuSans-97\"/>\n      <use x=\"120.458984\" xlink:href=\"#DejaVuSans-108\"/>\n      <use x=\"148.242188\" xlink:href=\"#DejaVuSans-95\"/>\n      <use x=\"198.242188\" xlink:href=\"#DejaVuSans-97\"/>\n      <use x=\"259.521484\" xlink:href=\"#DejaVuSans-99\"/>\n      <use x=\"314.501953\" xlink:href=\"#DejaVuSans-99\"/>\n     </g>\n    </g>\n   </g>\n  </g>\n </g>\n <defs>\n  <clipPath id=\"p7a156b0138\">\n   <rect height=\"135.9\" width=\"195.3\" x=\"30.103125\" y=\"7.2\"/>\n  </clipPath>\n </defs>\n</svg>\n",
            "text/plain": [
              "<Figure size 252x180 with 1 Axes>"
            ]
          },
          "metadata": {},
          "output_type": "display_data"
        }
      ],
      "source": [
        "trainer = d2l.Trainer(max_epochs=10, num_gpus=1)\n",
        "data = d2l.FashionMNIST(batch_size=128)\n",
        "model = LeNet()\n",
        "model.apply_init([next(iter(data.get_dataloader(True)))[0]], init_cnn)\n",
        "trainer.fit(model, data)"
      ]
    },
    {
      "cell_type": "markdown",
      "metadata": {
        "id": "kfsmFMqrlJ2m"
      },
      "source": [
        "# Trying to implement from scratch:"
      ]
    },
    {
      "cell_type": "code",
      "execution_count": 1,
      "metadata": {
        "id": "tg-chVf1lOKL"
      },
      "outputs": [],
      "source": [
        "import torch\n",
        "from torch import nn\n",
        "import torchvision\n",
        "import torchvision.transforms as transforms\n",
        "import torch.nn.functional as F\n",
        "import numpy as np"
      ]
    },
    {
      "cell_type": "code",
      "execution_count": 2,
      "metadata": {
        "id": "y5D0lUiYm0np"
      },
      "outputs": [],
      "source": [
        "# hyper parameters : \n",
        "num_epochs = 10\n",
        "batch_size = 4\n",
        "learning_rate = 0.1"
      ]
    },
    {
      "cell_type": "markdown",
      "metadata": {
        "id": "ys8haSGETeiD"
      },
      "source": [
        "with learning rate = 0.01 the model is performing much better"
      ]
    },
    {
      "cell_type": "code",
      "execution_count": 3,
      "metadata": {
        "id": "PyF5maDkl4A_"
      },
      "outputs": [],
      "source": [
        "transform = transforms.Compose([\n",
        "    transforms.ToTensor(),\n",
        "    transforms.Normalize([0.5], [0.5])\n",
        "])"
      ]
    },
    {
      "cell_type": "code",
      "execution_count": null,
      "metadata": {
        "id": "_0ctj48SmFhM"
      },
      "outputs": [],
      "source": [
        "torchvision.datasets.FashionMNIST??"
      ]
    },
    {
      "cell_type": "code",
      "execution_count": 4,
      "metadata": {
        "colab": {
          "base_uri": "https://localhost:8080/",
          "height": 417,
          "referenced_widgets": [
            "79e7fad3b6d64ecc97ea16f9e2cbfc6c",
            "3df939a3a01d4237ad497e2d37a1cb65",
            "2f4762ae540b4a0bb9229c97a77cdbd2",
            "e4b5ba7596294d3f813bb5df60275a4e",
            "901d0977dfab40fe91e0e419754b9602",
            "ffb3981383114f93afbb275713345253",
            "d8d0e7fd1ea746a1936dfc68d131cd20",
            "d1f7252c1a1f4f3bb7e31abc7b58894a",
            "451b8e8a0d564c1d9ebb46840f93ff60",
            "a0f649de067140e48c23b89845160127",
            "a44f6d61cad24916864b8198f6eeaff7",
            "6f56316d89ec4be08a9e4bb2188e6cdb",
            "01225da6db594b74b8bbe0d0677e77da",
            "b5d0b20fe16b4540876401a5ba66cd01",
            "c5dc448833b04cc892ebaa0cd311c513",
            "a98f1afc01b848da94a2ab4b4e77dbd3",
            "a4eca6b69e6046ed99563e6f531e4ed9",
            "8367e70e2e714749bbbab2e9baf3a07a",
            "8ecf43e5bc184832a1f3a8b65de9d540",
            "de2226cd9cea486e8808b466379eee0b",
            "7f16319bc8d64c429be09e9290e752c6",
            "b66a84b8237d4f1cbd92a7e7f9150151",
            "d4c24de1d1f24c30886cfd48b80b1af6",
            "ddc3bd16708a4295af1f27783cd98d1f",
            "67202a3b10de47f8a2ddcdc51aea3880",
            "812afd9f7e9b4c0e86dd57aa3ff8ca0e",
            "0427a18fd8f1407081c38deb81d6b818",
            "3af1a83419f349b9a720d31ec6eefdf8",
            "d2129122a2374ae9a4040aedcaef9888",
            "b97d065fdc07460fbe55af646a5e7672",
            "6f7a9fd159be4679a535b10fd3035f9e",
            "3cf50cdfbec847d7b6b13278a68f2a45",
            "8d6a817557e6401383f8e51751be5ca5",
            "b63e92347f284e46bc4df6412a0ef95a",
            "aad073d3d9c74f3cad450f2c35ec4914",
            "26efedbe6644427cac74d7e04695041a",
            "f3bfdb5047ce4abeb5f16ee6f2b50d7b",
            "755ce91754fe4d0d97f29a9acc2dc582",
            "51b57796e7af4584b5480a36a3616c68",
            "ed3508e45d4c4313a1cef97904e9abf7",
            "ffd4386bda934a2d961d5d724d9a1610",
            "f695405720c34ce4b6596b143d338f41",
            "4f58986c88124837a35b06e5d4eedeb7",
            "02b5b7f4fbed469b95cbdc8f0926daad"
          ]
        },
        "id": "PydPK9u6ls87",
        "outputId": "c31e3d7c-bcf0-42f8-be4b-2b831695e240"
      },
      "outputs": [
        {
          "output_type": "stream",
          "name": "stdout",
          "text": [
            "Downloading http://fashion-mnist.s3-website.eu-central-1.amazonaws.com/train-images-idx3-ubyte.gz\n",
            "Downloading http://fashion-mnist.s3-website.eu-central-1.amazonaws.com/train-images-idx3-ubyte.gz to ./data/FashionMNIST/raw/train-images-idx3-ubyte.gz\n"
          ]
        },
        {
          "output_type": "display_data",
          "data": {
            "text/plain": [
              "  0%|          | 0/26421880 [00:00<?, ?it/s]"
            ],
            "application/vnd.jupyter.widget-view+json": {
              "version_major": 2,
              "version_minor": 0,
              "model_id": "79e7fad3b6d64ecc97ea16f9e2cbfc6c"
            }
          },
          "metadata": {}
        },
        {
          "output_type": "stream",
          "name": "stdout",
          "text": [
            "Extracting ./data/FashionMNIST/raw/train-images-idx3-ubyte.gz to ./data/FashionMNIST/raw\n",
            "\n",
            "Downloading http://fashion-mnist.s3-website.eu-central-1.amazonaws.com/train-labels-idx1-ubyte.gz\n",
            "Downloading http://fashion-mnist.s3-website.eu-central-1.amazonaws.com/train-labels-idx1-ubyte.gz to ./data/FashionMNIST/raw/train-labels-idx1-ubyte.gz\n"
          ]
        },
        {
          "output_type": "display_data",
          "data": {
            "text/plain": [
              "  0%|          | 0/29515 [00:00<?, ?it/s]"
            ],
            "application/vnd.jupyter.widget-view+json": {
              "version_major": 2,
              "version_minor": 0,
              "model_id": "6f56316d89ec4be08a9e4bb2188e6cdb"
            }
          },
          "metadata": {}
        },
        {
          "output_type": "stream",
          "name": "stdout",
          "text": [
            "Extracting ./data/FashionMNIST/raw/train-labels-idx1-ubyte.gz to ./data/FashionMNIST/raw\n",
            "\n",
            "Downloading http://fashion-mnist.s3-website.eu-central-1.amazonaws.com/t10k-images-idx3-ubyte.gz\n",
            "Downloading http://fashion-mnist.s3-website.eu-central-1.amazonaws.com/t10k-images-idx3-ubyte.gz to ./data/FashionMNIST/raw/t10k-images-idx3-ubyte.gz\n"
          ]
        },
        {
          "output_type": "display_data",
          "data": {
            "text/plain": [
              "  0%|          | 0/4422102 [00:00<?, ?it/s]"
            ],
            "application/vnd.jupyter.widget-view+json": {
              "version_major": 2,
              "version_minor": 0,
              "model_id": "d4c24de1d1f24c30886cfd48b80b1af6"
            }
          },
          "metadata": {}
        },
        {
          "output_type": "stream",
          "name": "stdout",
          "text": [
            "Extracting ./data/FashionMNIST/raw/t10k-images-idx3-ubyte.gz to ./data/FashionMNIST/raw\n",
            "\n",
            "Downloading http://fashion-mnist.s3-website.eu-central-1.amazonaws.com/t10k-labels-idx1-ubyte.gz\n",
            "Downloading http://fashion-mnist.s3-website.eu-central-1.amazonaws.com/t10k-labels-idx1-ubyte.gz to ./data/FashionMNIST/raw/t10k-labels-idx1-ubyte.gz\n"
          ]
        },
        {
          "output_type": "display_data",
          "data": {
            "text/plain": [
              "  0%|          | 0/5148 [00:00<?, ?it/s]"
            ],
            "application/vnd.jupyter.widget-view+json": {
              "version_major": 2,
              "version_minor": 0,
              "model_id": "b63e92347f284e46bc4df6412a0ef95a"
            }
          },
          "metadata": {}
        },
        {
          "output_type": "stream",
          "name": "stdout",
          "text": [
            "Extracting ./data/FashionMNIST/raw/t10k-labels-idx1-ubyte.gz to ./data/FashionMNIST/raw\n",
            "\n"
          ]
        }
      ],
      "source": [
        "# first let's prep the data\n",
        "train_set = torchvision.datasets.FashionMNIST(root='./data',\n",
        "                                              train=True,\n",
        "                                              transform=transform,\n",
        "                                              download=True)\n",
        "\n",
        "test_set = torchvision.datasets.FashionMNIST(root='./data',\n",
        "                                             train=False,\n",
        "                                             transform=transform,\n",
        "                                             download=False)"
      ]
    },
    {
      "cell_type": "code",
      "execution_count": null,
      "metadata": {
        "colab": {
          "base_uri": "https://localhost:8080/"
        },
        "id": "kmd_PaatmgGs",
        "outputId": "b186395a-5c34-410d-baee-b84ccd282cf5"
      },
      "outputs": [
        {
          "data": {
            "text/plain": [
              "torch.Size([60000, 28, 28])"
            ]
          },
          "execution_count": 10,
          "metadata": {},
          "output_type": "execute_result"
        }
      ],
      "source": [
        "train_set.data.shape # so we are working with gray scale images"
      ]
    },
    {
      "cell_type": "code",
      "execution_count": null,
      "metadata": {
        "id": "7rHTUs00nKf1"
      },
      "outputs": [],
      "source": [
        "torch.utils.data.DataLoader??"
      ]
    },
    {
      "cell_type": "code",
      "execution_count": 5,
      "metadata": {
        "id": "MJsXA7yPmk1j"
      },
      "outputs": [],
      "source": [
        "train_loader = torch.utils.data.DataLoader(dataset=train_set,\n",
        "                                           shuffle=True,\n",
        "                                           batch_size=batch_size)\n",
        "\n",
        "test_loader = torch.utils.data.DataLoader(dataset=test_set,\n",
        "                                           shuffle=True,\n",
        "                                           batch_size=batch_size)"
      ]
    },
    {
      "cell_type": "code",
      "execution_count": null,
      "metadata": {
        "colab": {
          "base_uri": "https://localhost:8080/"
        },
        "id": "lYE1ZLANnS8-",
        "outputId": "c01b8fe6-294e-435c-bb66-d686b4ba6743"
      },
      "outputs": [
        {
          "name": "stdout",
          "output_type": "stream",
          "text": [
            "features.shape = torch.Size([4, 1, 28, 28])\n",
            "targets.shape = torch.Size([4])\n"
          ]
        }
      ],
      "source": [
        "examples = next(iter(train_loader))\n",
        "features, targets = examples\n",
        "print(f\"features.shape = {features.shape}\")\n",
        "print(f\"targets.shape = {targets.shape}\")"
      ]
    },
    {
      "cell_type": "code",
      "execution_count": 6,
      "metadata": {
        "colab": {
          "base_uri": "https://localhost:8080/"
        },
        "id": "IXnxvCyPndZd",
        "outputId": "554bb7be-8315-400c-d459-9ee2de2afe91"
      },
      "outputs": [
        {
          "output_type": "stream",
          "name": "stdout",
          "text": [
            "['T-shirt/top', 'Trouser', 'Pullover', 'Dress', 'Coat', 'Sandal', 'Shirt', 'Sneaker', 'Bag', 'Ankle boot']\n"
          ]
        }
      ],
      "source": [
        "classes = train_set.classes\n",
        "print(classes)"
      ]
    },
    {
      "cell_type": "code",
      "execution_count": null,
      "metadata": {
        "id": "b92uHzDun0Ii"
      },
      "outputs": [],
      "source": [
        "class LeNet(nn.Module):\n",
        "\n",
        "  def __init__(self):\n",
        "    super().__init__()\n",
        "    self.net = nn.Sequential(\n",
        "        nn.LazyConv2d(6, kernel_size=5, padding=2), nn.Sigmoid(),\n",
        "        nn.AvgPool2d(kernel_size=2, stride=2),\n",
        "        nn.LazyConv2d(16, kernel_size=5), nn.Sigmoid(),\n",
        "        nn.AvgPool2d(kernel_size=2, stride=2),\n",
        "        nn.Flatten(),\n",
        "        nn.LazyLinear(120), nn.Sigmoid(),\n",
        "        nn.LazyLinear(84), nn.Sigmoid(),\n",
        "        nn.LazyLinear(10)\n",
        "        )\n",
        "  \n",
        "  def forward(self, X):\n",
        "    return self.net(X)"
      ]
    },
    {
      "cell_type": "code",
      "execution_count": 7,
      "metadata": {
        "colab": {
          "base_uri": "https://localhost:8080/"
        },
        "id": "hF_UOjMcpgaX",
        "outputId": "cb8619d5-07c5-4021-c9d4-2aefe95ec01e"
      },
      "outputs": [
        {
          "output_type": "stream",
          "name": "stdout",
          "text": [
            "cuda\n"
          ]
        }
      ],
      "source": [
        "device = torch.device('cuda' if torch.cuda.is_available() else 'cpu')\n",
        "print(device)"
      ]
    },
    {
      "cell_type": "code",
      "execution_count": null,
      "metadata": {
        "colab": {
          "base_uri": "https://localhost:8080/"
        },
        "id": "3I0HwJgTpvwC",
        "outputId": "4559fb2a-bf03-41ae-b360-1f6fa38427e0"
      },
      "outputs": [
        {
          "name": "stderr",
          "output_type": "stream",
          "text": [
            "/usr/local/lib/python3.8/dist-packages/torch/nn/modules/lazy.py:180: UserWarning: Lazy modules are a new feature under heavy development so changes to the API or functionality can happen at any moment.\n",
            "  warnings.warn('Lazy modules are a new feature under heavy development '\n"
          ]
        }
      ],
      "source": [
        "model = LeNet().to(device)\n",
        "optimizer = torch.optim.SGD(model.parameters(), lr=learning_rate)\n",
        "criterion = nn.CrossEntropyLoss()"
      ]
    },
    {
      "cell_type": "code",
      "execution_count": 8,
      "metadata": {
        "colab": {
          "base_uri": "https://localhost:8080/"
        },
        "id": "tsl2t3HGp4sk",
        "outputId": "40081715-c3e3-4d72-be46-a7f83184fcdb"
      },
      "outputs": [
        {
          "output_type": "stream",
          "name": "stdout",
          "text": [
            "15000\n"
          ]
        }
      ],
      "source": [
        "n_total_steps = len(train_loader)\n",
        "print(n_total_steps)"
      ]
    },
    {
      "cell_type": "code",
      "execution_count": null,
      "metadata": {
        "id": "CUwSQNRbqg9i"
      },
      "outputs": [],
      "source": [
        "nn.CrossEntropyLoss??"
      ]
    },
    {
      "cell_type": "code",
      "execution_count": null,
      "metadata": {
        "colab": {
          "base_uri": "https://localhost:8080/"
        },
        "id": "wbnGdUO9qFcU",
        "outputId": "d6551cc3-05f3-412a-efd8-6f468423ff59"
      },
      "outputs": [
        {
          "name": "stdout",
          "output_type": "stream",
          "text": [
            "epoch : 1/10, step : 5000/15000, loss : 2.3337\n",
            "epoch : 1/10, step : 10000/15000, loss : 2.1240\n",
            "epoch : 1/10, step : 15000/15000, loss : 1.0018\n",
            "epoch : 2/10, step : 5000/15000, loss : 0.5593\n",
            "epoch : 2/10, step : 10000/15000, loss : 0.1212\n",
            "epoch : 2/10, step : 15000/15000, loss : 0.5674\n",
            "epoch : 3/10, step : 5000/15000, loss : 0.1882\n",
            "epoch : 3/10, step : 10000/15000, loss : 0.2225\n",
            "epoch : 3/10, step : 15000/15000, loss : 0.6081\n",
            "epoch : 4/10, step : 5000/15000, loss : 0.1917\n",
            "epoch : 4/10, step : 10000/15000, loss : 0.0202\n",
            "epoch : 4/10, step : 15000/15000, loss : 0.1473\n",
            "epoch : 5/10, step : 5000/15000, loss : 0.1426\n",
            "epoch : 5/10, step : 10000/15000, loss : 0.5885\n",
            "epoch : 5/10, step : 15000/15000, loss : 0.1538\n",
            "epoch : 6/10, step : 5000/15000, loss : 0.4544\n",
            "epoch : 6/10, step : 10000/15000, loss : 0.4084\n",
            "epoch : 6/10, step : 15000/15000, loss : 0.2764\n",
            "epoch : 7/10, step : 5000/15000, loss : 0.1393\n",
            "epoch : 7/10, step : 10000/15000, loss : 0.0655\n",
            "epoch : 7/10, step : 15000/15000, loss : 0.0255\n",
            "epoch : 8/10, step : 5000/15000, loss : 0.0152\n",
            "epoch : 8/10, step : 10000/15000, loss : 0.2191\n",
            "epoch : 8/10, step : 15000/15000, loss : 0.4247\n",
            "epoch : 9/10, step : 5000/15000, loss : 0.0404\n",
            "epoch : 9/10, step : 10000/15000, loss : 0.8634\n",
            "epoch : 9/10, step : 15000/15000, loss : 0.6504\n",
            "epoch : 10/10, step : 5000/15000, loss : 0.1173\n",
            "epoch : 10/10, step : 10000/15000, loss : 0.0084\n",
            "epoch : 10/10, step : 15000/15000, loss : 0.1661\n",
            "Finished Training : Model ready to make some predictions\n"
          ]
        }
      ],
      "source": [
        "# training loop : \n",
        "for epoch in range(num_epochs):\n",
        "  for i, (features, targets) in enumerate(train_loader):\n",
        "\n",
        "    features = features.to(device)\n",
        "    targets = targets.to(device)\n",
        "\n",
        "    # forward pass : outputs and loss\n",
        "    outputs = model(features)\n",
        "    loss = criterion(outputs, targets)\n",
        "\n",
        "    # backward pass : gradient\n",
        "    optimizer.zero_grad()\n",
        "    loss.backward()\n",
        "\n",
        "    # update the params\n",
        "    optimizer.step()\n",
        "\n",
        "    if (epoch+1)%(num_epochs/10) == 0:\n",
        "      if (i+1)%(5000) == 0:\n",
        "        print(f\"epoch : {epoch+1}/{num_epochs}, step : {i+1}/{n_total_steps}, loss : {loss.item():.4f}\")\n",
        "\n",
        "print(\"Finished Training : Model ready to make some predictions\")"
      ]
    },
    {
      "cell_type": "code",
      "execution_count": null,
      "metadata": {
        "colab": {
          "base_uri": "https://localhost:8080/"
        },
        "id": "jusCsczytaSa",
        "outputId": "eb327226-93f0-46e0-c9d3-b7438cbfa6a5"
      },
      "outputs": [
        {
          "name": "stdout",
          "output_type": "stream",
          "text": [
            "accuracy = 88.4100\n"
          ]
        }
      ],
      "source": [
        "# Evaluation : \n",
        "with torch.no_grad():\n",
        "  n_samples = 0\n",
        "  n_correct = 0\n",
        "  for features, targets in test_loader:\n",
        "    features = features.to(device)\n",
        "    targets = targets.to(device)\n",
        "    outputs = model(features)\n",
        "    _, preds = torch.max(outputs, 1)\n",
        "    n_samples += targets.shape[0]\n",
        "    n_correct += (preds == targets).sum().item()\n",
        "\n",
        "  acc = 100 * n_correct / n_samples\n",
        "  print(f\"accuracy = {acc:.4f}\")"
      ]
    },
    {
      "cell_type": "markdown",
      "metadata": {
        "id": "ivu8WrcBzL4o"
      },
      "source": [
        "Now we talkin😁"
      ]
    },
    {
      "cell_type": "markdown",
      "metadata": {
        "id": "6QRnnE4wzQkm"
      },
      "source": [
        "## Ex 7.6:"
      ]
    },
    {
      "cell_type": "markdown",
      "metadata": {
        "id": "UHVhjkXZzTM2"
      },
      "source": [
        "### Q1:"
      ]
    },
    {
      "cell_type": "code",
      "execution_count": null,
      "metadata": {
        "id": "7PGx6ZnDzQMm"
      },
      "outputs": [],
      "source": [
        "class LeNet2(nn.Module):\n",
        "\n",
        "  def __init__(self):\n",
        "    super().__init__()\n",
        "    self.net = nn.Sequential(\n",
        "        nn.LazyConv2d(6, kernel_size=5, padding=2), nn.Sigmoid(),\n",
        "        nn.MaxPool2d(kernel_size=2, stride=2),\n",
        "        nn.LazyConv2d(16, kernel_size=5), nn.Sigmoid(),\n",
        "        nn.Flatten(),\n",
        "        nn.LazyLinear(128), nn.Sigmoid(),\n",
        "        nn.LazyLinear(84), nn.Sigmoid(),\n",
        "        nn.LazyLinear(10)\n",
        "    )\n",
        "\n",
        "  def forward(self, X):\n",
        "    return self.net(X)"
      ]
    },
    {
      "cell_type": "code",
      "execution_count": null,
      "metadata": {
        "colab": {
          "base_uri": "https://localhost:8080/"
        },
        "id": "jS6HtuLiz6bt",
        "outputId": "7da3fe91-db41-4c44-e13c-1564ad635560"
      },
      "outputs": [
        {
          "name": "stdout",
          "output_type": "stream",
          "text": [
            "epoch : 1/10, step : 5000/15000, loss = 2.3739\n",
            "epoch : 1/10, step : 10000/15000, loss = 2.3550\n",
            "epoch : 1/10, step : 15000/15000, loss = 2.2961\n",
            "epoch : 2/10, step : 5000/15000, loss = 2.3348\n",
            "epoch : 2/10, step : 10000/15000, loss = 2.3118\n",
            "epoch : 2/10, step : 15000/15000, loss = 2.3394\n",
            "epoch : 3/10, step : 5000/15000, loss = 2.2887\n",
            "epoch : 3/10, step : 10000/15000, loss = 2.1148\n",
            "epoch : 3/10, step : 15000/15000, loss = 1.1959\n",
            "epoch : 4/10, step : 5000/15000, loss = 0.3822\n",
            "epoch : 4/10, step : 10000/15000, loss = 1.2721\n",
            "epoch : 4/10, step : 15000/15000, loss = 1.6279\n",
            "epoch : 5/10, step : 5000/15000, loss = 1.3431\n",
            "epoch : 5/10, step : 10000/15000, loss = 1.2473\n",
            "epoch : 5/10, step : 15000/15000, loss = 0.0745\n",
            "epoch : 6/10, step : 5000/15000, loss = 0.6763\n",
            "epoch : 6/10, step : 10000/15000, loss = 0.0047\n",
            "epoch : 6/10, step : 15000/15000, loss = 0.3881\n",
            "epoch : 7/10, step : 5000/15000, loss = 0.0197\n",
            "epoch : 7/10, step : 10000/15000, loss = 0.1628\n",
            "epoch : 7/10, step : 15000/15000, loss = 0.6288\n",
            "epoch : 8/10, step : 5000/15000, loss = 0.0100\n",
            "epoch : 8/10, step : 10000/15000, loss = 0.2574\n",
            "epoch : 8/10, step : 15000/15000, loss = 0.0029\n",
            "epoch : 9/10, step : 5000/15000, loss = 0.0530\n",
            "epoch : 9/10, step : 10000/15000, loss = 0.0206\n",
            "epoch : 9/10, step : 15000/15000, loss = 1.7740\n",
            "epoch : 10/10, step : 5000/15000, loss = 0.3263\n",
            "epoch : 10/10, step : 10000/15000, loss = 0.4202\n",
            "epoch : 10/10, step : 15000/15000, loss = 0.0851\n"
          ]
        }
      ],
      "source": [
        "model = LeNet2().to(device)\n",
        "optimizer = torch.optim.SGD(model.parameters(), lr=learning_rate)\n",
        "criterion = nn.CrossEntropyLoss()\n",
        "\n",
        "# training loop \n",
        "for epoch in range(num_epochs):\n",
        "  for i, (features, targets) in enumerate(train_loader):\n",
        "\n",
        "    features = features.to(device)\n",
        "    targets = targets.to(device)\n",
        "\n",
        "    outputs = model(features)\n",
        "    loss = criterion(outputs, targets)\n",
        "\n",
        "    optimizer.zero_grad()\n",
        "    loss.backward()\n",
        "    optimizer.step()\n",
        "\n",
        "    if (epoch+1)%(num_epochs/10) == 0 and (i+1)%5000 == 0:\n",
        "      print(f\"epoch : {epoch+1}/{num_epochs}, step : {i+1}/{n_total_steps}, loss = {loss.item():.4f}\")"
      ]
    },
    {
      "cell_type": "code",
      "execution_count": null,
      "metadata": {
        "colab": {
          "base_uri": "https://localhost:8080/"
        },
        "id": "ClHf0wTw0sU1",
        "outputId": "4ba82292-c4c5-4743-aee1-a5d6a64eca6e"
      },
      "outputs": [
        {
          "name": "stdout",
          "output_type": "stream",
          "text": [
            "accuracy = 89.6200\n"
          ]
        }
      ],
      "source": [
        "# Evaluation : \n",
        "with torch.no_grad():\n",
        "  n_samples = 0\n",
        "  n_correct = 0\n",
        "  for features, targets in test_loader:\n",
        "    features = features.to(device)\n",
        "    targets = targets.to(device)\n",
        "    outputs = model(features)\n",
        "    _, preds = torch.max(outputs, 1)\n",
        "    n_samples += targets.shape[0]\n",
        "    n_correct += (preds == targets).sum().item()\n",
        "\n",
        "  acc = 100 * n_correct / n_samples\n",
        "  print(f\"accuracy = {acc:.4f}\")"
      ]
    },
    {
      "cell_type": "markdown",
      "metadata": {
        "id": "OOj4v_fFfrKX"
      },
      "source": [
        "Now Let's replacem the Sigmoid function with relu:"
      ]
    },
    {
      "cell_type": "code",
      "execution_count": null,
      "metadata": {
        "id": "qhvckdzqkwet"
      },
      "outputs": [],
      "source": [
        "nn.ReLU??"
      ]
    },
    {
      "cell_type": "code",
      "execution_count": null,
      "metadata": {
        "id": "ZCQz3-m8fvlN"
      },
      "outputs": [],
      "source": [
        "class LeNet3(nn.Module):\n",
        "\n",
        "  def __init__(self):\n",
        "    super().__init__()\n",
        "    self.net = nn.Sequential(\n",
        "        nn.LazyConv2d(6, kernel_size=5, stride=2), nn.ReLU(),\n",
        "        nn.MaxPool2d(kernel_size=2, stride=2),\n",
        "        nn.LazyConv2d(16, kernel_size=5), nn.ReLU(),\n",
        "        nn.MaxPool2d(kernel_size=2, stride=2),\n",
        "        nn.Flatten(),\n",
        "        nn.LazyLinear(120), nn.ReLU(),\n",
        "        nn.LazyLinear(84), nn.ReLU(),\n",
        "        nn.LazyLinear(10)\n",
        "    )\n",
        "\n",
        "  def forward(self, X):\n",
        "    return self.net(X)"
      ]
    },
    {
      "cell_type": "code",
      "execution_count": null,
      "metadata": {
        "colab": {
          "base_uri": "https://localhost:8080/"
        },
        "id": "GXVLtvXvgX8T",
        "outputId": "71564f5b-45a5-4a7d-f23c-687b00433072"
      },
      "outputs": [
        {
          "name": "stderr",
          "output_type": "stream",
          "text": [
            "/usr/local/lib/python3.8/dist-packages/torch/nn/modules/lazy.py:180: UserWarning: Lazy modules are a new feature under heavy development so changes to the API or functionality can happen at any moment.\n",
            "  warnings.warn('Lazy modules are a new feature under heavy development '\n"
          ]
        },
        {
          "name": "stdout",
          "output_type": "stream",
          "text": [
            "epoch : 1/10, step : 5000/15000, loss = 0.8801\n",
            "epoch : 1/10, step : 10000/15000, loss = 0.1162\n",
            "epoch : 1/10, step : 15000/15000, loss = 0.0113\n",
            "epoch : 2/10, step : 5000/15000, loss = 0.4454\n",
            "epoch : 2/10, step : 10000/15000, loss = 0.8948\n",
            "epoch : 2/10, step : 15000/15000, loss = 0.4283\n",
            "epoch : 3/10, step : 5000/15000, loss = 0.7044\n",
            "epoch : 3/10, step : 10000/15000, loss = 0.3037\n",
            "epoch : 3/10, step : 15000/15000, loss = 0.0566\n",
            "epoch : 4/10, step : 5000/15000, loss = 0.1120\n",
            "epoch : 4/10, step : 10000/15000, loss = 0.6526\n",
            "epoch : 4/10, step : 15000/15000, loss = 0.0633\n",
            "epoch : 5/10, step : 5000/15000, loss = 0.0362\n",
            "epoch : 5/10, step : 10000/15000, loss = 0.4658\n",
            "epoch : 5/10, step : 15000/15000, loss = 0.2909\n",
            "epoch : 6/10, step : 5000/15000, loss = 0.3437\n",
            "epoch : 6/10, step : 10000/15000, loss = 0.6214\n",
            "epoch : 6/10, step : 15000/15000, loss = 0.9698\n",
            "epoch : 7/10, step : 5000/15000, loss = 1.4871\n",
            "epoch : 7/10, step : 10000/15000, loss = 0.1691\n",
            "epoch : 7/10, step : 15000/15000, loss = 0.0255\n",
            "epoch : 8/10, step : 5000/15000, loss = 0.0752\n",
            "epoch : 8/10, step : 10000/15000, loss = 0.2956\n",
            "epoch : 8/10, step : 15000/15000, loss = 0.0489\n",
            "epoch : 9/10, step : 5000/15000, loss = 0.0406\n",
            "epoch : 9/10, step : 10000/15000, loss = 0.1338\n",
            "epoch : 9/10, step : 15000/15000, loss = 0.3576\n",
            "epoch : 10/10, step : 5000/15000, loss = 0.0016\n",
            "epoch : 10/10, step : 10000/15000, loss = 0.4018\n",
            "epoch : 10/10, step : 15000/15000, loss = 0.1542\n"
          ]
        }
      ],
      "source": [
        "model = LeNet3().to(device)\n",
        "optimizer = torch.optim.SGD(model.parameters(), lr=0.01)\n",
        "criterion = nn.CrossEntropyLoss()\n",
        "\n",
        "# training loop \n",
        "for epoch in range(num_epochs):\n",
        "  for i, (features, targets) in enumerate(train_loader):\n",
        "\n",
        "    features = features.to(device)\n",
        "    targets = targets.to(device)\n",
        "\n",
        "    outputs = model(features)\n",
        "    loss = criterion(outputs, targets)\n",
        "\n",
        "    optimizer.zero_grad()\n",
        "    loss.backward()\n",
        "    optimizer.step()\n",
        "\n",
        "    if (epoch+1)%(num_epochs/10) == 0 and (i+1)%5000 == 0:\n",
        "      print(f\"epoch : {epoch+1}/{num_epochs}, step : {i+1}/{n_total_steps}, loss = {loss.item():.4f}\")"
      ]
    },
    {
      "cell_type": "code",
      "execution_count": null,
      "metadata": {
        "colab": {
          "base_uri": "https://localhost:8080/"
        },
        "id": "f3sSTFV1gaSt",
        "outputId": "7b4b599b-4b8f-482f-982f-060340037a71"
      },
      "outputs": [
        {
          "name": "stdout",
          "output_type": "stream",
          "text": [
            "accuracy = 87.0300\n"
          ]
        }
      ],
      "source": [
        "# Evaluation : \n",
        "with torch.no_grad():\n",
        "  n_samples = 0\n",
        "  n_correct = 0\n",
        "  for features, targets in test_loader:\n",
        "    features = features.to(device)\n",
        "    targets = targets.to(device)\n",
        "    outputs = model(features)\n",
        "    _, preds = torch.max(outputs, 1)\n",
        "    n_samples += targets.shape[0]\n",
        "    n_correct += (preds == targets).sum().item()\n",
        "\n",
        "  acc = 100 * n_correct / n_samples\n",
        "  print(f\"accuracy = {acc:.4f}\")"
      ]
    },
    {
      "cell_type": "markdown",
      "metadata": {
        "id": "D2b_cVEqld1Y"
      },
      "source": [
        "### Q2: \n",
        "\n",
        "learning rate = 0.01 is much better\n",
        "\n",
        "num_epochs = 10\n",
        "\n",
        "batch_size = 4\n",
        "\n",
        "accuracy socres : changing the size of convulation window\n",
        "\n",
        "when we are increasing the kernel_size for the convulation window we are decreasing the number of input features for the fully connected layers : so the model might becomes less expressive at a certain stage\n",
        "\n",
        "- kernel_size = 3 : 89.92%\n",
        "- kernel_size = 5 : 87.03%\n",
        "- kernel_size = 7 : 89.62%\n",
        "- kernel_size = 9 : 88.76%\n",
        "- kernel_size = 11 : 87.58%\n",
        "\n",
        "so we'll be using kernel_size = 5\n",
        "\n",
        "Now let's play with the outputs channels and find an optimum value:\n",
        "\n",
        "- (3, 16) : 89.75%\n",
        "- (4, 16) : 88.99%\n",
        "- (5, 16) : 90.67%\n",
        "- (6, 16) : 89.62%\n",
        "- (7, 16) : 90.30%\n",
        "- (8, 16) : 90.13%\n",
        "- (9, 16) : 90.50%\n",
        "- (10, 16) : 90.59%\n",
        "- (11, 16) : 91.20%\n",
        "- (12, 16) : 90.55%\n",
        "- (13, 16) : 90.48%\n",
        "\n",
        "all the inputs are giving almost the same accuracy\n",
        "\n",
        "using 3 convulational layers :\n",
        "\n",
        "- 3fc : acc = 89.37%\n",
        "- 4fc : acc = 88.61%\n",
        "\n",
        "with xavier initialization : acc = 89.54%"
      ]
    },
    {
      "cell_type": "code",
      "execution_count": 9,
      "metadata": {
        "id": "u5zNZ_9MQoR-"
      },
      "outputs": [],
      "source": [
        "def acc_model(model, loader):\n",
        "\n",
        "  with torch.no_grad():\n",
        "    n_samples = 0\n",
        "    n_correct = 0\n",
        "    for features, targets in loader:\n",
        "      features = features.to(device)\n",
        "      targets = targets.to(device)\n",
        "\n",
        "      outputs = model(features)\n",
        "      _, preds = torch.max(outputs, 1)\n",
        "      n_samples += targets.shape[0]\n",
        "      n_correct += (preds == targets).sum().item()\n",
        "\n",
        "  acc = 100 * n_correct / n_samples\n",
        "  print(f\"accuracy of model : {acc:.4f}\")\n",
        "  return acc"
      ]
    },
    {
      "cell_type": "code",
      "execution_count": 13,
      "metadata": {
        "id": "NqVQcT4NPa1Y"
      },
      "outputs": [],
      "source": [
        "class Trainer():\n",
        "\n",
        "  def __init__(self, num_epochs, lr):\n",
        "    self.num_epochs = num_epochs\n",
        "    self.lr = lr\n",
        "\n",
        "  def fit(self, model, loader):\n",
        "\n",
        "    optimizer = torch.optim.SGD(model.parameters(), self.lr)\n",
        "    criterion = nn.CrossEntropyLoss()\n",
        "    n_total_steps = len(loader)\n",
        "\n",
        "    # training loop : \n",
        "    for epoch in range(self.num_epochs):\n",
        "      for i, (features, targets) in enumerate(loader):\n",
        "\n",
        "        features = features.to(device)\n",
        "        targets = targets.to(device)\n",
        "\n",
        "        outputs = model(features)\n",
        "        loss = criterion(outputs, targets)\n",
        "\n",
        "        optimizer.zero_grad()\n",
        "        loss.backward()\n",
        "        optimizer.step()\n",
        "\n",
        "        if (epoch+1) % (num_epochs/10) == 0 and (i+1)%(n_total_steps/3) == 0:\n",
        "          print(f\"epoch : {epoch+1}/{self.num_epochs}, step : {i+1}/{n_total_steps}, loss : {loss.item():.4f}\")"
      ]
    },
    {
      "cell_type": "code",
      "execution_count": null,
      "metadata": {
        "id": "WA-QSxgPlgIe"
      },
      "outputs": [],
      "source": [
        "class LeNet4(nn.Module):\n",
        "\n",
        "  def __init__(self, output_channel_1):\n",
        "    super().__init__()\n",
        "    self.net = nn.Sequential(\n",
        "        nn.LazyConv2d(output_channel_1, kernel_size=3, padding=1), nn.ReLU(),\n",
        "        nn.MaxPool2d(kernel_size=2, stride=2),\n",
        "        nn.LazyConv2d(16, kernel_size=3), nn.ReLU(),\n",
        "        nn.MaxPool2d(kernel_size=2, stride=2),\n",
        "        nn.Flatten(),\n",
        "        nn.LazyLinear(120), nn.ReLU(),\n",
        "        nn.LazyLinear(84), nn.ReLU(),\n",
        "        nn.LazyLinear(10)\n",
        "    )\n",
        "\n",
        "  def forward(self, X):\n",
        "    return self.net(X)"
      ]
    },
    {
      "cell_type": "code",
      "execution_count": null,
      "metadata": {
        "colab": {
          "base_uri": "https://localhost:8080/"
        },
        "id": "rOqtd2EwO585",
        "outputId": "44d2d88e-f4e9-4a98-9d64-efc3f763dfd0"
      },
      "outputs": [
        {
          "name": "stdout",
          "output_type": "stream",
          "text": [
            "epoch : 1/10, step : 5000/15000, loss : 0.5401\n",
            "epoch : 1/10, step : 10000/15000, loss : 0.1995\n",
            "epoch : 1/10, step : 15000/15000, loss : 0.4662\n",
            "epoch : 2/10, step : 5000/15000, loss : 0.0064\n",
            "epoch : 2/10, step : 10000/15000, loss : 0.5162\n",
            "epoch : 2/10, step : 15000/15000, loss : 0.1391\n",
            "epoch : 3/10, step : 5000/15000, loss : 0.2293\n",
            "epoch : 3/10, step : 10000/15000, loss : 0.1788\n",
            "epoch : 3/10, step : 15000/15000, loss : 0.0304\n",
            "epoch : 4/10, step : 5000/15000, loss : 0.9400\n",
            "epoch : 4/10, step : 10000/15000, loss : 0.0368\n",
            "epoch : 4/10, step : 15000/15000, loss : 0.0908\n",
            "epoch : 5/10, step : 5000/15000, loss : 0.4565\n",
            "epoch : 5/10, step : 10000/15000, loss : 0.0281\n",
            "epoch : 5/10, step : 15000/15000, loss : 0.2657\n",
            "epoch : 6/10, step : 5000/15000, loss : 0.0122\n",
            "epoch : 6/10, step : 10000/15000, loss : 0.1342\n",
            "epoch : 6/10, step : 15000/15000, loss : 0.4669\n",
            "epoch : 7/10, step : 5000/15000, loss : 0.0366\n",
            "epoch : 7/10, step : 10000/15000, loss : 0.0158\n",
            "epoch : 7/10, step : 15000/15000, loss : 0.0088\n",
            "epoch : 8/10, step : 5000/15000, loss : 0.0458\n",
            "epoch : 8/10, step : 10000/15000, loss : 0.1259\n",
            "epoch : 8/10, step : 15000/15000, loss : 0.1750\n",
            "epoch : 9/10, step : 5000/15000, loss : 0.0366\n",
            "epoch : 9/10, step : 10000/15000, loss : 0.0013\n",
            "epoch : 9/10, step : 15000/15000, loss : 0.0012\n",
            "epoch : 10/10, step : 5000/15000, loss : 0.1801\n",
            "epoch : 10/10, step : 10000/15000, loss : 0.0008\n",
            "epoch : 10/10, step : 15000/15000, loss : 0.1798\n",
            "accuracy of model : 89.9200\n"
          ]
        }
      ],
      "source": [
        "model = LeNet4().to(device)\n",
        "trainer = Trainer(num_epochs=num_epochs, lr=0.01)\n",
        "trainer.fit(model, train_loader)\n",
        "acc_model(model, test_loader)"
      ]
    },
    {
      "cell_type": "code",
      "execution_count": null,
      "metadata": {
        "colab": {
          "base_uri": "https://localhost:8080/"
        },
        "id": "TaMNAPMURdz8",
        "outputId": "7c6a50b2-dcb0-4a27-95be-ada546fb5eb5"
      },
      "outputs": [
        {
          "name": "stdout",
          "output_type": "stream",
          "text": [
            "accuracy of model : 89.7500\n",
            "accuracy of model : 88.9900\n",
            "accuracy of model : 90.6700\n",
            "accuracy of model : 90.3000\n",
            "accuracy of model : 90.1300\n",
            "accuracy of model : 90.5000\n",
            "accuracy of model : 90.5900\n",
            "accuracy of model : 91.2000\n"
          ]
        }
      ],
      "source": [
        "output_channels_1 = [3, 4, 5, 7, 8, 9, 10, 11]\n",
        "acc_list = []\n",
        "\n",
        "for output_channel in output_channels_1:\n",
        "  model = LeNet4(output_channel).to(device)\n",
        "  trainer = Trainer(num_epochs=num_epochs, lr=0.01)\n",
        "  trainer.fit(model, train_loader)\n",
        "  acc_list.append(acc_model(model, test_loader))"
      ]
    },
    {
      "cell_type": "code",
      "execution_count": 40,
      "metadata": {
        "colab": {
          "base_uri": "https://localhost:8080/"
        },
        "id": "Kd-DXgSwenJP",
        "outputId": "1858e998-8cb9-45c4-ddf3-38ec6d79a09a"
      },
      "outputs": [
        {
          "output_type": "stream",
          "name": "stdout",
          "text": [
            "accuracy of model : 90.4800\n"
          ]
        },
        {
          "output_type": "execute_result",
          "data": {
            "text/plain": [
              "90.48"
            ]
          },
          "metadata": {},
          "execution_count": 40
        }
      ],
      "source": [
        "model = LeNet4(13).to(device)\n",
        "trainer = Trainer(num_epochs=num_epochs, lr=0.01)\n",
        "trainer.fit(model, train_loader)\n",
        "acc_model(model, test_loader)"
      ]
    },
    {
      "cell_type": "markdown",
      "source": [
        "Now let's try 3 convulational layers"
      ],
      "metadata": {
        "id": "eI6LIKgNhYqF"
      }
    },
    {
      "cell_type": "code",
      "execution_count": 15,
      "metadata": {
        "id": "dRvfApKNtlPI"
      },
      "outputs": [],
      "source": [
        "class LeNet(nn.Module):\n",
        "\n",
        "  def __init__(self):\n",
        "    super().__init__()\n",
        "    self.net = nn.Sequential(\n",
        "        nn.LazyConv2d(6, kernel_size=5, padding=2), nn.ReLU(),\n",
        "        nn.MaxPool2d(kernel_size=2, stride=2),\n",
        "        nn.LazyConv2d(12, kernel_size=5, padding=2), nn.ReLU(),\n",
        "        nn.MaxPool2d(kernel_size=2, stride=2),\n",
        "        nn.LazyConv2d(16, kernel_size=2, padding=0), nn.ReLU(),\n",
        "        nn.MaxPool2d(kernel_size=2, stride=2), \n",
        "        nn.Flatten(),\n",
        "        nn.LazyLinear(120), nn.ReLU(),\n",
        "        nn.LazyLinear(84), nn.ReLU(),\n",
        "        nn.LazyLinear(32), nn.ReLU(),\n",
        "        nn.LazyLinear(10)\n",
        "    )\n",
        "\n",
        "  def forward(self, X):\n",
        "    return self.net(X)"
      ]
    },
    {
      "cell_type": "code",
      "source": [
        "model = LeNet().to(device)\n",
        "trainer = Trainer(num_epochs=num_epochs, lr=0.01)\n",
        "trainer.fit(model, train_loader)\n",
        "acc_model(model, test_loader)"
      ],
      "metadata": {
        "colab": {
          "base_uri": "https://localhost:8080/"
        },
        "id": "VexRMOifitss",
        "outputId": "da3a6a55-e6b6-4db5-bd2e-521c4e590946"
      },
      "execution_count": 16,
      "outputs": [
        {
          "output_type": "stream",
          "name": "stderr",
          "text": [
            "/usr/local/lib/python3.8/dist-packages/torch/nn/modules/lazy.py:180: UserWarning: Lazy modules are a new feature under heavy development so changes to the API or functionality can happen at any moment.\n",
            "  warnings.warn('Lazy modules are a new feature under heavy development '\n"
          ]
        },
        {
          "output_type": "stream",
          "name": "stdout",
          "text": [
            "epoch : 1/10, step : 5000/15000, loss : 1.8439\n",
            "epoch : 1/10, step : 10000/15000, loss : 0.2056\n",
            "epoch : 1/10, step : 15000/15000, loss : 0.5839\n",
            "epoch : 2/10, step : 5000/15000, loss : 0.4415\n",
            "epoch : 2/10, step : 10000/15000, loss : 0.2587\n",
            "epoch : 2/10, step : 15000/15000, loss : 0.4156\n",
            "epoch : 3/10, step : 5000/15000, loss : 0.4243\n",
            "epoch : 3/10, step : 10000/15000, loss : 0.0862\n",
            "epoch : 3/10, step : 15000/15000, loss : 0.4854\n",
            "epoch : 4/10, step : 5000/15000, loss : 0.3905\n",
            "epoch : 4/10, step : 10000/15000, loss : 0.0047\n",
            "epoch : 4/10, step : 15000/15000, loss : 1.7692\n",
            "epoch : 5/10, step : 5000/15000, loss : 0.8076\n",
            "epoch : 5/10, step : 10000/15000, loss : 0.4982\n",
            "epoch : 5/10, step : 15000/15000, loss : 0.4753\n",
            "epoch : 6/10, step : 5000/15000, loss : 0.1741\n",
            "epoch : 6/10, step : 10000/15000, loss : 0.1533\n",
            "epoch : 6/10, step : 15000/15000, loss : 0.0394\n",
            "epoch : 7/10, step : 5000/15000, loss : 0.0426\n",
            "epoch : 7/10, step : 10000/15000, loss : 0.3827\n",
            "epoch : 7/10, step : 15000/15000, loss : 0.9798\n",
            "epoch : 8/10, step : 5000/15000, loss : 0.1090\n",
            "epoch : 8/10, step : 10000/15000, loss : 0.0132\n",
            "epoch : 8/10, step : 15000/15000, loss : 0.3049\n",
            "epoch : 9/10, step : 5000/15000, loss : 0.2757\n",
            "epoch : 9/10, step : 10000/15000, loss : 0.0168\n",
            "epoch : 9/10, step : 15000/15000, loss : 0.9929\n",
            "epoch : 10/10, step : 5000/15000, loss : 0.2083\n",
            "epoch : 10/10, step : 10000/15000, loss : 0.0667\n",
            "epoch : 10/10, step : 15000/15000, loss : 0.0297\n",
            "accuracy of model : 88.6100\n"
          ]
        },
        {
          "output_type": "execute_result",
          "data": {
            "text/plain": [
              "88.61"
            ]
          },
          "metadata": {},
          "execution_count": 16
        }
      ]
    },
    {
      "cell_type": "markdown",
      "source": [
        "let's try with xavier initialialization : "
      ],
      "metadata": {
        "id": "qxI0oVnplPPX"
      }
    },
    {
      "cell_type": "code",
      "source": [
        "class LeNet_init(nn.Module):\n",
        "\n",
        "  def __init__(self):\n",
        "    super().__init__()\n",
        "    self.net = nn.Sequential(\n",
        "        nn.Conv2d(1, 6, kernel_size=5, padding=2), nn.ReLU(),\n",
        "        nn.MaxPool2d(kernel_size=2, stride=2),\n",
        "        nn.Conv2d(6, 16, kernel_size=5), nn.ReLU(),\n",
        "        nn.MaxPool2d(kernel_size=2, stride=2),\n",
        "        nn.Flatten(),\n",
        "        nn.Linear(16*5*5, 120), nn.ReLU(),\n",
        "        nn.Linear(120, 84), nn.ReLU(),\n",
        "        nn.Linear(84, 10)\n",
        "    )\n",
        "    \n",
        "    for module in self.net:\n",
        "      if type(module) == nn.Linear or type(module) == nn.Conv2d:\n",
        "        nn.init.xavier_uniform_(module.weight)\n",
        "\n",
        "  def forward(self, X):\n",
        "    return self.net(X)"
      ],
      "metadata": {
        "id": "X02f4Vpji6zF"
      },
      "execution_count": 18,
      "outputs": []
    },
    {
      "cell_type": "code",
      "source": [
        "model = LeNet().to(device)\n",
        "trainer = Trainer(num_epochs=num_epochs, lr=0.01)\n",
        "trainer.fit(model, train_loader)\n",
        "acc_model(model, test_loader)"
      ],
      "metadata": {
        "colab": {
          "base_uri": "https://localhost:8080/"
        },
        "id": "wHiXAk9BnWhc",
        "outputId": "6222a315-f9fd-4a61-a055-a611ec3d1cb6"
      },
      "execution_count": 19,
      "outputs": [
        {
          "output_type": "stream",
          "name": "stderr",
          "text": [
            "/usr/local/lib/python3.8/dist-packages/torch/nn/modules/lazy.py:180: UserWarning: Lazy modules are a new feature under heavy development so changes to the API or functionality can happen at any moment.\n",
            "  warnings.warn('Lazy modules are a new feature under heavy development '\n"
          ]
        },
        {
          "output_type": "stream",
          "name": "stdout",
          "text": [
            "epoch : 1/10, step : 5000/15000, loss : 1.6483\n",
            "epoch : 1/10, step : 10000/15000, loss : 0.5932\n",
            "epoch : 1/10, step : 15000/15000, loss : 0.0179\n",
            "epoch : 2/10, step : 5000/15000, loss : 0.4207\n",
            "epoch : 2/10, step : 10000/15000, loss : 0.0886\n",
            "epoch : 2/10, step : 15000/15000, loss : 0.3072\n",
            "epoch : 3/10, step : 5000/15000, loss : 0.3495\n",
            "epoch : 3/10, step : 10000/15000, loss : 0.7671\n",
            "epoch : 3/10, step : 15000/15000, loss : 0.1619\n",
            "epoch : 4/10, step : 5000/15000, loss : 0.0870\n",
            "epoch : 4/10, step : 10000/15000, loss : 0.3366\n",
            "epoch : 4/10, step : 15000/15000, loss : 0.4819\n",
            "epoch : 5/10, step : 5000/15000, loss : 0.5640\n",
            "epoch : 5/10, step : 10000/15000, loss : 0.0324\n",
            "epoch : 5/10, step : 15000/15000, loss : 0.1429\n",
            "epoch : 6/10, step : 5000/15000, loss : 0.1415\n",
            "epoch : 6/10, step : 10000/15000, loss : 0.3041\n",
            "epoch : 6/10, step : 15000/15000, loss : 0.2900\n",
            "epoch : 7/10, step : 5000/15000, loss : 0.2418\n",
            "epoch : 7/10, step : 10000/15000, loss : 0.0011\n",
            "epoch : 7/10, step : 15000/15000, loss : 0.2570\n",
            "epoch : 8/10, step : 5000/15000, loss : 0.0887\n",
            "epoch : 8/10, step : 10000/15000, loss : 0.2988\n",
            "epoch : 8/10, step : 15000/15000, loss : 0.6451\n",
            "epoch : 9/10, step : 5000/15000, loss : 0.0039\n",
            "epoch : 9/10, step : 10000/15000, loss : 0.1072\n",
            "epoch : 9/10, step : 15000/15000, loss : 0.1908\n",
            "epoch : 10/10, step : 5000/15000, loss : 0.0429\n",
            "epoch : 10/10, step : 10000/15000, loss : 0.0006\n",
            "epoch : 10/10, step : 15000/15000, loss : 0.0002\n",
            "accuracy of model : 89.5400\n"
          ]
        },
        {
          "output_type": "execute_result",
          "data": {
            "text/plain": [
              "89.54"
            ]
          },
          "metadata": {},
          "execution_count": 19
        }
      ]
    },
    {
      "cell_type": "markdown",
      "source": [
        "### Q4:"
      ],
      "metadata": {
        "id": "E_YVqpUfpmBd"
      }
    },
    {
      "cell_type": "code",
      "source": [
        "import matplotlib.pyplot as plt"
      ],
      "metadata": {
        "id": "4_QHLkAbqgzk"
      },
      "execution_count": 27,
      "outputs": []
    },
    {
      "cell_type": "code",
      "source": [
        "first_layer_activation = model.net[0:3]\n",
        "examples = next(iter(train_loader))\n",
        "features, targets = examples\n",
        "features = features.to(device)\n",
        "targets = targets.to(device)"
      ],
      "metadata": {
        "id": "ixl7qfWdplTN"
      },
      "execution_count": 34,
      "outputs": []
    },
    {
      "cell_type": "code",
      "source": [
        "features.shape"
      ],
      "metadata": {
        "colab": {
          "base_uri": "https://localhost:8080/"
        },
        "id": "MIMWRPSbqp-o",
        "outputId": "0a76bcfa-6ed8-4199-900d-246252ec713a"
      },
      "execution_count": 36,
      "outputs": [
        {
          "output_type": "execute_result",
          "data": {
            "text/plain": [
              "torch.Size([4, 1, 28, 28])"
            ]
          },
          "metadata": {},
          "execution_count": 36
        }
      ]
    },
    {
      "cell_type": "code",
      "source": [
        "for i in range(4):\n",
        "  plt.subplot(1, 4, i+1)\n",
        "  plt.imshow(features.cpu()[i][0], cmap='gray')\n",
        "\n",
        "plt.show()"
      ],
      "metadata": {
        "colab": {
          "base_uri": "https://localhost:8080/",
          "height": 123
        },
        "id": "HstV8wccpyiy",
        "outputId": "6d242b67-b582-4744-f864-c41c93d7cbdc"
      },
      "execution_count": 42,
      "outputs": [
        {
          "output_type": "display_data",
          "data": {
            "text/plain": [
              "<Figure size 432x288 with 4 Axes>"
            ],
            "image/png": "[encoded data removed]"
          },
          "metadata": {
            "needs_background": "light"
          }
        }
      ]
    },
    {
      "cell_type": "code",
      "source": [
        "for i in range(4):\n",
        "  print(f\"i = {i}, true_label = {classes[targets[i].item()]}\")"
      ],
      "metadata": {
        "colab": {
          "base_uri": "https://localhost:8080/"
        },
        "id": "bjUREsqHrN0f",
        "outputId": "42fd13b1-011e-4066-c0de-533f6c112630"
      },
      "execution_count": 44,
      "outputs": [
        {
          "output_type": "stream",
          "name": "stdout",
          "text": [
            "i = 0, true_label = Ankle boot\n",
            "i = 1, true_label = Pullover\n",
            "i = 2, true_label = T-shirt/top\n",
            "i = 3, true_label = Shirt\n"
          ]
        }
      ]
    },
    {
      "cell_type": "code",
      "source": [
        "for i in range(4):\n",
        "  plt.subplot(1, 4, i+1)\n",
        "  plt.imshow(first_layer_activation(features).cpu().detach()[i][0], cmap='gray')\n",
        "plt.show()"
      ],
      "metadata": {
        "colab": {
          "base_uri": "https://localhost:8080/",
          "height": 122
        },
        "id": "B42uBe-groL1",
        "outputId": "cc22c479-91d7-4979-f685-6d9cc3c57405"
      },
      "execution_count": 46,
      "outputs": [
        {
          "output_type": "display_data",
          "data": {
            "text/plain": [
              "<Figure size 432x288 with 4 Axes>"
            ],
            "image/png": "[encoded data removed]"
          },
          "metadata": {
            "needs_background": "light"
          }
        }
      ]
    },
    {
      "cell_type": "code",
      "source": [
        "for i in range(4):\n",
        "  plt.subplot(1, 4, i+1)\n",
        "  plt.imshow(first_layer_activation(features).cpu().detach()[i][1], cmap='gray')\n",
        "plt.show()"
      ],
      "metadata": {
        "colab": {
          "base_uri": "https://localhost:8080/",
          "height": 122
        },
        "id": "qsYS-WoYsEe_",
        "outputId": "6c6f6715-41f4-4cc7-c0cb-28f187bf9a5e"
      },
      "execution_count": 47,
      "outputs": [
        {
          "output_type": "display_data",
          "data": {
            "text/plain": [
              "<Figure size 432x288 with 4 Axes>"
            ],
            "image/png": "[encoded data removed]"
          },
          "metadata": {
            "needs_background": "light"
          }
        }
      ]
    },
    {
      "cell_type": "code",
      "source": [
        "for i in range(4):\n",
        "  plt.subplot(1, 4, i+1)\n",
        "  plt.imshow(first_layer_activation(features).cpu().detach()[i][5], cmap='gray')\n",
        "plt.show()"
      ],
      "metadata": {
        "colab": {
          "base_uri": "https://localhost:8080/",
          "height": 122
        },
        "id": "ZPw6p_c6sKnq",
        "outputId": "37f53dfa-56cd-48b8-f14f-9ef7218ff6bf"
      },
      "execution_count": 53,
      "outputs": [
        {
          "output_type": "display_data",
          "data": {
            "text/plain": [
              "<Figure size 432x288 with 4 Axes>"
            ],
            "image/png": "[encoded data removed]"
          },
          "metadata": {
            "needs_background": "light"
          }
        }
      ]
    },
    {
      "cell_type": "code",
      "source": [
        "second_layer_activation = model.net[0:6]\n",
        "second_layer_activation"
      ],
      "metadata": {
        "colab": {
          "base_uri": "https://localhost:8080/"
        },
        "id": "s7nDQ7x6sN5z",
        "outputId": "42fb8119-3379-4603-d103-a5beef30bb43"
      },
      "execution_count": 55,
      "outputs": [
        {
          "output_type": "execute_result",
          "data": {
            "text/plain": [
              "Sequential(\n",
              "  (0): Conv2d(1, 6, kernel_size=(5, 5), stride=(1, 1), padding=(2, 2))\n",
              "  (1): ReLU()\n",
              "  (2): MaxPool2d(kernel_size=2, stride=2, padding=0, dilation=1, ceil_mode=False)\n",
              "  (3): Conv2d(6, 12, kernel_size=(5, 5), stride=(1, 1), padding=(2, 2))\n",
              "  (4): ReLU()\n",
              "  (5): MaxPool2d(kernel_size=2, stride=2, padding=0, dilation=1, ceil_mode=False)\n",
              ")"
            ]
          },
          "metadata": {},
          "execution_count": 55
        }
      ]
    },
    {
      "cell_type": "code",
      "source": [
        "for i in range(4):\n",
        "  plt.subplot(1, 4, i+1)\n",
        "  plt.imshow(second_layer_activation(features).cpu().detach()[i][11], cmap='gray')\n",
        "plt.show()"
      ],
      "metadata": {
        "colab": {
          "base_uri": "https://localhost:8080/",
          "height": 121
        },
        "id": "6olSzwbDsZUR",
        "outputId": "3891d567-2424-4955-89a9-a82215c81e5e"
      },
      "execution_count": 67,
      "outputs": [
        {
          "output_type": "display_data",
          "data": {
            "text/plain": [
              "<Figure size 432x288 with 4 Axes>"
            ],
            "image/png": "[encoded data removed]"
          },
          "metadata": {
            "needs_background": "light"
          }
        }
      ]
    }
  ],
  "metadata": {
    "accelerator": "GPU",
    "colab": {
      "provenance": [],
      "collapsed_sections": [
        "s4fcfG5rKIOp"
      ],
      "authorship_tag": "ABX9TyM3yjOD+asMLoEx3Jd7FJhg",
      "include_colab_link": true
    },
    "gpuClass": "standard",
    "kernelspec": {
      "display_name": "Python 3",
      "name": "python3"
    },
    "language_info": {
      "name": "python"
    },
    "widgets": {
      "application/vnd.jupyter.widget-state+json": {
        "79e7fad3b6d64ecc97ea16f9e2cbfc6c": {
          "model_module": "@jupyter-widgets/controls",
          "model_name": "HBoxModel",
          "model_module_version": "1.5.0",
          "state": {
            "_dom_classes": [],
            "_model_module": "@jupyter-widgets/controls",
            "_model_module_version": "1.5.0",
            "_model_name": "HBoxModel",
            "_view_count": null,
            "_view_module": "@jupyter-widgets/controls",
            "_view_module_version": "1.5.0",
            "_view_name": "HBoxView",
            "box_style": "",
            "children": [
              "IPY_MODEL_3df939a3a01d4237ad497e2d37a1cb65",
              "IPY_MODEL_2f4762ae540b4a0bb9229c97a77cdbd2",
              "IPY_MODEL_e4b5ba7596294d3f813bb5df60275a4e"
            ],
            "layout": "IPY_MODEL_901d0977dfab40fe91e0e419754b9602"
          }
        },
        "3df939a3a01d4237ad497e2d37a1cb65": {
          "model_module": "@jupyter-widgets/controls",
          "model_name": "HTMLModel",
          "model_module_version": "1.5.0",
          "state": {
            "_dom_classes": [],
            "_model_module": "@jupyter-widgets/controls",
            "_model_module_version": "1.5.0",
            "_model_name": "HTMLModel",
            "_view_count": null,
            "_view_module": "@jupyter-widgets/controls",
            "_view_module_version": "1.5.0",
            "_view_name": "HTMLView",
            "description": "",
            "description_tooltip": null,
            "layout": "IPY_MODEL_ffb3981383114f93afbb275713345253",
            "placeholder": "​",
            "style": "IPY_MODEL_d8d0e7fd1ea746a1936dfc68d131cd20",
            "value": "100%"
          }
        },
        "2f4762ae540b4a0bb9229c97a77cdbd2": {
          "model_module": "@jupyter-widgets/controls",
          "model_name": "FloatProgressModel",
          "model_module_version": "1.5.0",
          "state": {
            "_dom_classes": [],
            "_model_module": "@jupyter-widgets/controls",
            "_model_module_version": "1.5.0",
            "_model_name": "FloatProgressModel",
            "_view_count": null,
            "_view_module": "@jupyter-widgets/controls",
            "_view_module_version": "1.5.0",
            "_view_name": "ProgressView",
            "bar_style": "success",
            "description": "",
            "description_tooltip": null,
            "layout": "IPY_MODEL_d1f7252c1a1f4f3bb7e31abc7b58894a",
            "max": 26421880,
            "min": 0,
            "orientation": "horizontal",
            "style": "IPY_MODEL_451b8e8a0d564c1d9ebb46840f93ff60",
            "value": 26421880
          }
        },
        "e4b5ba7596294d3f813bb5df60275a4e": {
          "model_module": "@jupyter-widgets/controls",
          "model_name": "HTMLModel",
          "model_module_version": "1.5.0",
          "state": {
            "_dom_classes": [],
            "_model_module": "@jupyter-widgets/controls",
            "_model_module_version": "1.5.0",
            "_model_name": "HTMLModel",
            "_view_count": null,
            "_view_module": "@jupyter-widgets/controls",
            "_view_module_version": "1.5.0",
            "_view_name": "HTMLView",
            "description": "",
            "description_tooltip": null,
            "layout": "IPY_MODEL_a0f649de067140e48c23b89845160127",
            "placeholder": "​",
            "style": "IPY_MODEL_a44f6d61cad24916864b8198f6eeaff7",
            "value": " 26421880/26421880 [00:03&lt;00:00, 13924042.93it/s]"
          }
        },
        "901d0977dfab40fe91e0e419754b9602": {
          "model_module": "@jupyter-widgets/base",
          "model_name": "LayoutModel",
          "model_module_version": "1.2.0",
          "state": {
            "_model_module": "@jupyter-widgets/base",
            "_model_module_version": "1.2.0",
            "_model_name": "LayoutModel",
            "_view_count": null,
            "_view_module": "@jupyter-widgets/base",
            "_view_module_version": "1.2.0",
            "_view_name": "LayoutView",
            "align_content": null,
            "align_items": null,
            "align_self": null,
            "border": null,
            "bottom": null,
            "display": null,
            "flex": null,
            "flex_flow": null,
            "grid_area": null,
            "grid_auto_columns": null,
            "grid_auto_flow": null,
            "grid_auto_rows": null,
            "grid_column": null,
            "grid_gap": null,
            "grid_row": null,
            "grid_template_areas": null,
            "grid_template_columns": null,
            "grid_template_rows": null,
            "height": null,
            "justify_content": null,
            "justify_items": null,
            "left": null,
            "margin": null,
            "max_height": null,
            "max_width": null,
            "min_height": null,
            "min_width": null,
            "object_fit": null,
            "object_position": null,
            "order": null,
            "overflow": null,
            "overflow_x": null,
            "overflow_y": null,
            "padding": null,
            "right": null,
            "top": null,
            "visibility": null,
            "width": null
          }
        },
        "ffb3981383114f93afbb275713345253": {
          "model_module": "@jupyter-widgets/base",
          "model_name": "LayoutModel",
          "model_module_version": "1.2.0",
          "state": {
            "_model_module": "@jupyter-widgets/base",
            "_model_module_version": "1.2.0",
            "_model_name": "LayoutModel",
            "_view_count": null,
            "_view_module": "@jupyter-widgets/base",
            "_view_module_version": "1.2.0",
            "_view_name": "LayoutView",
            "align_content": null,
            "align_items": null,
            "align_self": null,
            "border": null,
            "bottom": null,
            "display": null,
            "flex": null,
            "flex_flow": null,
            "grid_area": null,
            "grid_auto_columns": null,
            "grid_auto_flow": null,
            "grid_auto_rows": null,
            "grid_column": null,
            "grid_gap": null,
            "grid_row": null,
            "grid_template_areas": null,
            "grid_template_columns": null,
            "grid_template_rows": null,
            "height": null,
            "justify_content": null,
            "justify_items": null,
            "left": null,
            "margin": null,
            "max_height": null,
            "max_width": null,
            "min_height": null,
            "min_width": null,
            "object_fit": null,
            "object_position": null,
            "order": null,
            "overflow": null,
            "overflow_x": null,
            "overflow_y": null,
            "padding": null,
            "right": null,
            "top": null,
            "visibility": null,
            "width": null
          }
        },
        "d8d0e7fd1ea746a1936dfc68d131cd20": {
          "model_module": "@jupyter-widgets/controls",
          "model_name": "DescriptionStyleModel",
          "model_module_version": "1.5.0",
          "state": {
            "_model_module": "@jupyter-widgets/controls",
            "_model_module_version": "1.5.0",
            "_model_name": "DescriptionStyleModel",
            "_view_count": null,
            "_view_module": "@jupyter-widgets/base",
            "_view_module_version": "1.2.0",
            "_view_name": "StyleView",
            "description_width": ""
          }
        },
        "d1f7252c1a1f4f3bb7e31abc7b58894a": {
          "model_module": "@jupyter-widgets/base",
          "model_name": "LayoutModel",
          "model_module_version": "1.2.0",
          "state": {
            "_model_module": "@jupyter-widgets/base",
            "_model_module_version": "1.2.0",
            "_model_name": "LayoutModel",
            "_view_count": null,
            "_view_module": "@jupyter-widgets/base",
            "_view_module_version": "1.2.0",
            "_view_name": "LayoutView",
            "align_content": null,
            "align_items": null,
            "align_self": null,
            "border": null,
            "bottom": null,
            "display": null,
            "flex": null,
            "flex_flow": null,
            "grid_area": null,
            "grid_auto_columns": null,
            "grid_auto_flow": null,
            "grid_auto_rows": null,
            "grid_column": null,
            "grid_gap": null,
            "grid_row": null,
            "grid_template_areas": null,
            "grid_template_columns": null,
            "grid_template_rows": null,
            "height": null,
            "justify_content": null,
            "justify_items": null,
            "left": null,
            "margin": null,
            "max_height": null,
            "max_width": null,
            "min_height": null,
            "min_width": null,
            "object_fit": null,
            "object_position": null,
            "order": null,
            "overflow": null,
            "overflow_x": null,
            "overflow_y": null,
            "padding": null,
            "right": null,
            "top": null,
            "visibility": null,
            "width": null
          }
        },
        "451b8e8a0d564c1d9ebb46840f93ff60": {
          "model_module": "@jupyter-widgets/controls",
          "model_name": "ProgressStyleModel",
          "model_module_version": "1.5.0",
          "state": {
            "_model_module": "@jupyter-widgets/controls",
            "_model_module_version": "1.5.0",
            "_model_name": "ProgressStyleModel",
            "_view_count": null,
            "_view_module": "@jupyter-widgets/base",
            "_view_module_version": "1.2.0",
            "_view_name": "StyleView",
            "bar_color": null,
            "description_width": ""
          }
        },
        "a0f649de067140e48c23b89845160127": {
          "model_module": "@jupyter-widgets/base",
          "model_name": "LayoutModel",
          "model_module_version": "1.2.0",
          "state": {
            "_model_module": "@jupyter-widgets/base",
            "_model_module_version": "1.2.0",
            "_model_name": "LayoutModel",
            "_view_count": null,
            "_view_module": "@jupyter-widgets/base",
            "_view_module_version": "1.2.0",
            "_view_name": "LayoutView",
            "align_content": null,
            "align_items": null,
            "align_self": null,
            "border": null,
            "bottom": null,
            "display": null,
            "flex": null,
            "flex_flow": null,
            "grid_area": null,
            "grid_auto_columns": null,
            "grid_auto_flow": null,
            "grid_auto_rows": null,
            "grid_column": null,
            "grid_gap": null,
            "grid_row": null,
            "grid_template_areas": null,
            "grid_template_columns": null,
            "grid_template_rows": null,
            "height": null,
            "justify_content": null,
            "justify_items": null,
            "left": null,
            "margin": null,
            "max_height": null,
            "max_width": null,
            "min_height": null,
            "min_width": null,
            "object_fit": null,
            "object_position": null,
            "order": null,
            "overflow": null,
            "overflow_x": null,
            "overflow_y": null,
            "padding": null,
            "right": null,
            "top": null,
            "visibility": null,
            "width": null
          }
        },
        "a44f6d61cad24916864b8198f6eeaff7": {
          "model_module": "@jupyter-widgets/controls",
          "model_name": "DescriptionStyleModel",
          "model_module_version": "1.5.0",
          "state": {
            "_model_module": "@jupyter-widgets/controls",
            "_model_module_version": "1.5.0",
            "_model_name": "DescriptionStyleModel",
            "_view_count": null,
            "_view_module": "@jupyter-widgets/base",
            "_view_module_version": "1.2.0",
            "_view_name": "StyleView",
            "description_width": ""
          }
        },
        "6f56316d89ec4be08a9e4bb2188e6cdb": {
          "model_module": "@jupyter-widgets/controls",
          "model_name": "HBoxModel",
          "model_module_version": "1.5.0",
          "state": {
            "_dom_classes": [],
            "_model_module": "@jupyter-widgets/controls",
            "_model_module_version": "1.5.0",
            "_model_name": "HBoxModel",
            "_view_count": null,
            "_view_module": "@jupyter-widgets/controls",
            "_view_module_version": "1.5.0",
            "_view_name": "HBoxView",
            "box_style": "",
            "children": [
              "IPY_MODEL_01225da6db594b74b8bbe0d0677e77da",
              "IPY_MODEL_b5d0b20fe16b4540876401a5ba66cd01",
              "IPY_MODEL_c5dc448833b04cc892ebaa0cd311c513"
            ],
            "layout": "IPY_MODEL_a98f1afc01b848da94a2ab4b4e77dbd3"
          }
        },
        "01225da6db594b74b8bbe0d0677e77da": {
          "model_module": "@jupyter-widgets/controls",
          "model_name": "HTMLModel",
          "model_module_version": "1.5.0",
          "state": {
            "_dom_classes": [],
            "_model_module": "@jupyter-widgets/controls",
            "_model_module_version": "1.5.0",
            "_model_name": "HTMLModel",
            "_view_count": null,
            "_view_module": "@jupyter-widgets/controls",
            "_view_module_version": "1.5.0",
            "_view_name": "HTMLView",
            "description": "",
            "description_tooltip": null,
            "layout": "IPY_MODEL_a4eca6b69e6046ed99563e6f531e4ed9",
            "placeholder": "​",
            "style": "IPY_MODEL_8367e70e2e714749bbbab2e9baf3a07a",
            "value": "100%"
          }
        },
        "b5d0b20fe16b4540876401a5ba66cd01": {
          "model_module": "@jupyter-widgets/controls",
          "model_name": "FloatProgressModel",
          "model_module_version": "1.5.0",
          "state": {
            "_dom_classes": [],
            "_model_module": "@jupyter-widgets/controls",
            "_model_module_version": "1.5.0",
            "_model_name": "FloatProgressModel",
            "_view_count": null,
            "_view_module": "@jupyter-widgets/controls",
            "_view_module_version": "1.5.0",
            "_view_name": "ProgressView",
            "bar_style": "success",
            "description": "",
            "description_tooltip": null,
            "layout": "IPY_MODEL_8ecf43e5bc184832a1f3a8b65de9d540",
            "max": 29515,
            "min": 0,
            "orientation": "horizontal",
            "style": "IPY_MODEL_de2226cd9cea486e8808b466379eee0b",
            "value": 29515
          }
        },
        "c5dc448833b04cc892ebaa0cd311c513": {
          "model_module": "@jupyter-widgets/controls",
          "model_name": "HTMLModel",
          "model_module_version": "1.5.0",
          "state": {
            "_dom_classes": [],
            "_model_module": "@jupyter-widgets/controls",
            "_model_module_version": "1.5.0",
            "_model_name": "HTMLModel",
            "_view_count": null,
            "_view_module": "@jupyter-widgets/controls",
            "_view_module_version": "1.5.0",
            "_view_name": "HTMLView",
            "description": "",
            "description_tooltip": null,
            "layout": "IPY_MODEL_7f16319bc8d64c429be09e9290e752c6",
            "placeholder": "​",
            "style": "IPY_MODEL_b66a84b8237d4f1cbd92a7e7f9150151",
            "value": " 29515/29515 [00:00&lt;00:00, 143375.70it/s]"
          }
        },
        "a98f1afc01b848da94a2ab4b4e77dbd3": {
          "model_module": "@jupyter-widgets/base",
          "model_name": "LayoutModel",
          "model_module_version": "1.2.0",
          "state": {
            "_model_module": "@jupyter-widgets/base",
            "_model_module_version": "1.2.0",
            "_model_name": "LayoutModel",
            "_view_count": null,
            "_view_module": "@jupyter-widgets/base",
            "_view_module_version": "1.2.0",
            "_view_name": "LayoutView",
            "align_content": null,
            "align_items": null,
            "align_self": null,
            "border": null,
            "bottom": null,
            "display": null,
            "flex": null,
            "flex_flow": null,
            "grid_area": null,
            "grid_auto_columns": null,
            "grid_auto_flow": null,
            "grid_auto_rows": null,
            "grid_column": null,
            "grid_gap": null,
            "grid_row": null,
            "grid_template_areas": null,
            "grid_template_columns": null,
            "grid_template_rows": null,
            "height": null,
            "justify_content": null,
            "justify_items": null,
            "left": null,
            "margin": null,
            "max_height": null,
            "max_width": null,
            "min_height": null,
            "min_width": null,
            "object_fit": null,
            "object_position": null,
            "order": null,
            "overflow": null,
            "overflow_x": null,
            "overflow_y": null,
            "padding": null,
            "right": null,
            "top": null,
            "visibility": null,
            "width": null
          }
        },
        "a4eca6b69e6046ed99563e6f531e4ed9": {
          "model_module": "@jupyter-widgets/base",
          "model_name": "LayoutModel",
          "model_module_version": "1.2.0",
          "state": {
            "_model_module": "@jupyter-widgets/base",
            "_model_module_version": "1.2.0",
            "_model_name": "LayoutModel",
            "_view_count": null,
            "_view_module": "@jupyter-widgets/base",
            "_view_module_version": "1.2.0",
            "_view_name": "LayoutView",
            "align_content": null,
            "align_items": null,
            "align_self": null,
            "border": null,
            "bottom": null,
            "display": null,
            "flex": null,
            "flex_flow": null,
            "grid_area": null,
            "grid_auto_columns": null,
            "grid_auto_flow": null,
            "grid_auto_rows": null,
            "grid_column": null,
            "grid_gap": null,
            "grid_row": null,
            "grid_template_areas": null,
            "grid_template_columns": null,
            "grid_template_rows": null,
            "height": null,
            "justify_content": null,
            "justify_items": null,
            "left": null,
            "margin": null,
            "max_height": null,
            "max_width": null,
            "min_height": null,
            "min_width": null,
            "object_fit": null,
            "object_position": null,
            "order": null,
            "overflow": null,
            "overflow_x": null,
            "overflow_y": null,
            "padding": null,
            "right": null,
            "top": null,
            "visibility": null,
            "width": null
          }
        },
        "8367e70e2e714749bbbab2e9baf3a07a": {
          "model_module": "@jupyter-widgets/controls",
          "model_name": "DescriptionStyleModel",
          "model_module_version": "1.5.0",
          "state": {
            "_model_module": "@jupyter-widgets/controls",
            "_model_module_version": "1.5.0",
            "_model_name": "DescriptionStyleModel",
            "_view_count": null,
            "_view_module": "@jupyter-widgets/base",
            "_view_module_version": "1.2.0",
            "_view_name": "StyleView",
            "description_width": ""
          }
        },
        "8ecf43e5bc184832a1f3a8b65de9d540": {
          "model_module": "@jupyter-widgets/base",
          "model_name": "LayoutModel",
          "model_module_version": "1.2.0",
          "state": {
            "_model_module": "@jupyter-widgets/base",
            "_model_module_version": "1.2.0",
            "_model_name": "LayoutModel",
            "_view_count": null,
            "_view_module": "@jupyter-widgets/base",
            "_view_module_version": "1.2.0",
            "_view_name": "LayoutView",
            "align_content": null,
            "align_items": null,
            "align_self": null,
            "border": null,
            "bottom": null,
            "display": null,
            "flex": null,
            "flex_flow": null,
            "grid_area": null,
            "grid_auto_columns": null,
            "grid_auto_flow": null,
            "grid_auto_rows": null,
            "grid_column": null,
            "grid_gap": null,
            "grid_row": null,
            "grid_template_areas": null,
            "grid_template_columns": null,
            "grid_template_rows": null,
            "height": null,
            "justify_content": null,
            "justify_items": null,
            "left": null,
            "margin": null,
            "max_height": null,
            "max_width": null,
            "min_height": null,
            "min_width": null,
            "object_fit": null,
            "object_position": null,
            "order": null,
            "overflow": null,
            "overflow_x": null,
            "overflow_y": null,
            "padding": null,
            "right": null,
            "top": null,
            "visibility": null,
            "width": null
          }
        },
        "de2226cd9cea486e8808b466379eee0b": {
          "model_module": "@jupyter-widgets/controls",
          "model_name": "ProgressStyleModel",
          "model_module_version": "1.5.0",
          "state": {
            "_model_module": "@jupyter-widgets/controls",
            "_model_module_version": "1.5.0",
            "_model_name": "ProgressStyleModel",
            "_view_count": null,
            "_view_module": "@jupyter-widgets/base",
            "_view_module_version": "1.2.0",
            "_view_name": "StyleView",
            "bar_color": null,
            "description_width": ""
          }
        },
        "7f16319bc8d64c429be09e9290e752c6": {
          "model_module": "@jupyter-widgets/base",
          "model_name": "LayoutModel",
          "model_module_version": "1.2.0",
          "state": {
            "_model_module": "@jupyter-widgets/base",
            "_model_module_version": "1.2.0",
            "_model_name": "LayoutModel",
            "_view_count": null,
            "_view_module": "@jupyter-widgets/base",
            "_view_module_version": "1.2.0",
            "_view_name": "LayoutView",
            "align_content": null,
            "align_items": null,
            "align_self": null,
            "border": null,
            "bottom": null,
            "display": null,
            "flex": null,
            "flex_flow": null,
            "grid_area": null,
            "grid_auto_columns": null,
            "grid_auto_flow": null,
            "grid_auto_rows": null,
            "grid_column": null,
            "grid_gap": null,
            "grid_row": null,
            "grid_template_areas": null,
            "grid_template_columns": null,
            "grid_template_rows": null,
            "height": null,
            "justify_content": null,
            "justify_items": null,
            "left": null,
            "margin": null,
            "max_height": null,
            "max_width": null,
            "min_height": null,
            "min_width": null,
            "object_fit": null,
            "object_position": null,
            "order": null,
            "overflow": null,
            "overflow_x": null,
            "overflow_y": null,
            "padding": null,
            "right": null,
            "top": null,
            "visibility": null,
            "width": null
          }
        },
        "b66a84b8237d4f1cbd92a7e7f9150151": {
          "model_module": "@jupyter-widgets/controls",
          "model_name": "DescriptionStyleModel",
          "model_module_version": "1.5.0",
          "state": {
            "_model_module": "@jupyter-widgets/controls",
            "_model_module_version": "1.5.0",
            "_model_name": "DescriptionStyleModel",
            "_view_count": null,
            "_view_module": "@jupyter-widgets/base",
            "_view_module_version": "1.2.0",
            "_view_name": "StyleView",
            "description_width": ""
          }
        },
        "d4c24de1d1f24c30886cfd48b80b1af6": {
          "model_module": "@jupyter-widgets/controls",
          "model_name": "HBoxModel",
          "model_module_version": "1.5.0",
          "state": {
            "_dom_classes": [],
            "_model_module": "@jupyter-widgets/controls",
            "_model_module_version": "1.5.0",
            "_model_name": "HBoxModel",
            "_view_count": null,
            "_view_module": "@jupyter-widgets/controls",
            "_view_module_version": "1.5.0",
            "_view_name": "HBoxView",
            "box_style": "",
            "children": [
              "IPY_MODEL_ddc3bd16708a4295af1f27783cd98d1f",
              "IPY_MODEL_67202a3b10de47f8a2ddcdc51aea3880",
              "IPY_MODEL_812afd9f7e9b4c0e86dd57aa3ff8ca0e"
            ],
            "layout": "IPY_MODEL_0427a18fd8f1407081c38deb81d6b818"
          }
        },
        "ddc3bd16708a4295af1f27783cd98d1f": {
          "model_module": "@jupyter-widgets/controls",
          "model_name": "HTMLModel",
          "model_module_version": "1.5.0",
          "state": {
            "_dom_classes": [],
            "_model_module": "@jupyter-widgets/controls",
            "_model_module_version": "1.5.0",
            "_model_name": "HTMLModel",
            "_view_count": null,
            "_view_module": "@jupyter-widgets/controls",
            "_view_module_version": "1.5.0",
            "_view_name": "HTMLView",
            "description": "",
            "description_tooltip": null,
            "layout": "IPY_MODEL_3af1a83419f349b9a720d31ec6eefdf8",
            "placeholder": "​",
            "style": "IPY_MODEL_d2129122a2374ae9a4040aedcaef9888",
            "value": "100%"
          }
        },
        "67202a3b10de47f8a2ddcdc51aea3880": {
          "model_module": "@jupyter-widgets/controls",
          "model_name": "FloatProgressModel",
          "model_module_version": "1.5.0",
          "state": {
            "_dom_classes": [],
            "_model_module": "@jupyter-widgets/controls",
            "_model_module_version": "1.5.0",
            "_model_name": "FloatProgressModel",
            "_view_count": null,
            "_view_module": "@jupyter-widgets/controls",
            "_view_module_version": "1.5.0",
            "_view_name": "ProgressView",
            "bar_style": "success",
            "description": "",
            "description_tooltip": null,
            "layout": "IPY_MODEL_b97d065fdc07460fbe55af646a5e7672",
            "max": 4422102,
            "min": 0,
            "orientation": "horizontal",
            "style": "IPY_MODEL_6f7a9fd159be4679a535b10fd3035f9e",
            "value": 4422102
          }
        },
        "812afd9f7e9b4c0e86dd57aa3ff8ca0e": {
          "model_module": "@jupyter-widgets/controls",
          "model_name": "HTMLModel",
          "model_module_version": "1.5.0",
          "state": {
            "_dom_classes": [],
            "_model_module": "@jupyter-widgets/controls",
            "_model_module_version": "1.5.0",
            "_model_name": "HTMLModel",
            "_view_count": null,
            "_view_module": "@jupyter-widgets/controls",
            "_view_module_version": "1.5.0",
            "_view_name": "HTMLView",
            "description": "",
            "description_tooltip": null,
            "layout": "IPY_MODEL_3cf50cdfbec847d7b6b13278a68f2a45",
            "placeholder": "​",
            "style": "IPY_MODEL_8d6a817557e6401383f8e51751be5ca5",
            "value": " 4422102/4422102 [00:01&lt;00:00, 4634445.37it/s]"
          }
        },
        "0427a18fd8f1407081c38deb81d6b818": {
          "model_module": "@jupyter-widgets/base",
          "model_name": "LayoutModel",
          "model_module_version": "1.2.0",
          "state": {
            "_model_module": "@jupyter-widgets/base",
            "_model_module_version": "1.2.0",
            "_model_name": "LayoutModel",
            "_view_count": null,
            "_view_module": "@jupyter-widgets/base",
            "_view_module_version": "1.2.0",
            "_view_name": "LayoutView",
            "align_content": null,
            "align_items": null,
            "align_self": null,
            "border": null,
            "bottom": null,
            "display": null,
            "flex": null,
            "flex_flow": null,
            "grid_area": null,
            "grid_auto_columns": null,
            "grid_auto_flow": null,
            "grid_auto_rows": null,
            "grid_column": null,
            "grid_gap": null,
            "grid_row": null,
            "grid_template_areas": null,
            "grid_template_columns": null,
            "grid_template_rows": null,
            "height": null,
            "justify_content": null,
            "justify_items": null,
            "left": null,
            "margin": null,
            "max_height": null,
            "max_width": null,
            "min_height": null,
            "min_width": null,
            "object_fit": null,
            "object_position": null,
            "order": null,
            "overflow": null,
            "overflow_x": null,
            "overflow_y": null,
            "padding": null,
            "right": null,
            "top": null,
            "visibility": null,
            "width": null
          }
        },
        "3af1a83419f349b9a720d31ec6eefdf8": {
          "model_module": "@jupyter-widgets/base",
          "model_name": "LayoutModel",
          "model_module_version": "1.2.0",
          "state": {
            "_model_module": "@jupyter-widgets/base",
            "_model_module_version": "1.2.0",
            "_model_name": "LayoutModel",
            "_view_count": null,
            "_view_module": "@jupyter-widgets/base",
            "_view_module_version": "1.2.0",
            "_view_name": "LayoutView",
            "align_content": null,
            "align_items": null,
            "align_self": null,
            "border": null,
            "bottom": null,
            "display": null,
            "flex": null,
            "flex_flow": null,
            "grid_area": null,
            "grid_auto_columns": null,
            "grid_auto_flow": null,
            "grid_auto_rows": null,
            "grid_column": null,
            "grid_gap": null,
            "grid_row": null,
            "grid_template_areas": null,
            "grid_template_columns": null,
            "grid_template_rows": null,
            "height": null,
            "justify_content": null,
            "justify_items": null,
            "left": null,
            "margin": null,
            "max_height": null,
            "max_width": null,
            "min_height": null,
            "min_width": null,
            "object_fit": null,
            "object_position": null,
            "order": null,
            "overflow": null,
            "overflow_x": null,
            "overflow_y": null,
            "padding": null,
            "right": null,
            "top": null,
            "visibility": null,
            "width": null
          }
        },
        "d2129122a2374ae9a4040aedcaef9888": {
          "model_module": "@jupyter-widgets/controls",
          "model_name": "DescriptionStyleModel",
          "model_module_version": "1.5.0",
          "state": {
            "_model_module": "@jupyter-widgets/controls",
            "_model_module_version": "1.5.0",
            "_model_name": "DescriptionStyleModel",
            "_view_count": null,
            "_view_module": "@jupyter-widgets/base",
            "_view_module_version": "1.2.0",
            "_view_name": "StyleView",
            "description_width": ""
          }
        },
        "b97d065fdc07460fbe55af646a5e7672": {
          "model_module": "@jupyter-widgets/base",
          "model_name": "LayoutModel",
          "model_module_version": "1.2.0",
          "state": {
            "_model_module": "@jupyter-widgets/base",
            "_model_module_version": "1.2.0",
            "_model_name": "LayoutModel",
            "_view_count": null,
            "_view_module": "@jupyter-widgets/base",
            "_view_module_version": "1.2.0",
            "_view_name": "LayoutView",
            "align_content": null,
            "align_items": null,
            "align_self": null,
            "border": null,
            "bottom": null,
            "display": null,
            "flex": null,
            "flex_flow": null,
            "grid_area": null,
            "grid_auto_columns": null,
            "grid_auto_flow": null,
            "grid_auto_rows": null,
            "grid_column": null,
            "grid_gap": null,
            "grid_row": null,
            "grid_template_areas": null,
            "grid_template_columns": null,
            "grid_template_rows": null,
            "height": null,
            "justify_content": null,
            "justify_items": null,
            "left": null,
            "margin": null,
            "max_height": null,
            "max_width": null,
            "min_height": null,
            "min_width": null,
            "object_fit": null,
            "object_position": null,
            "order": null,
            "overflow": null,
            "overflow_x": null,
            "overflow_y": null,
            "padding": null,
            "right": null,
            "top": null,
            "visibility": null,
            "width": null
          }
        },
        "6f7a9fd159be4679a535b10fd3035f9e": {
          "model_module": "@jupyter-widgets/controls",
          "model_name": "ProgressStyleModel",
          "model_module_version": "1.5.0",
          "state": {
            "_model_module": "@jupyter-widgets/controls",
            "_model_module_version": "1.5.0",
            "_model_name": "ProgressStyleModel",
            "_view_count": null,
            "_view_module": "@jupyter-widgets/base",
            "_view_module_version": "1.2.0",
            "_view_name": "StyleView",
            "bar_color": null,
            "description_width": ""
          }
        },
        "3cf50cdfbec847d7b6b13278a68f2a45": {
          "model_module": "@jupyter-widgets/base",
          "model_name": "LayoutModel",
          "model_module_version": "1.2.0",
          "state": {
            "_model_module": "@jupyter-widgets/base",
            "_model_module_version": "1.2.0",
            "_model_name": "LayoutModel",
            "_view_count": null,
            "_view_module": "@jupyter-widgets/base",
            "_view_module_version": "1.2.0",
            "_view_name": "LayoutView",
            "align_content": null,
            "align_items": null,
            "align_self": null,
            "border": null,
            "bottom": null,
            "display": null,
            "flex": null,
            "flex_flow": null,
            "grid_area": null,
            "grid_auto_columns": null,
            "grid_auto_flow": null,
            "grid_auto_rows": null,
            "grid_column": null,
            "grid_gap": null,
            "grid_row": null,
            "grid_template_areas": null,
            "grid_template_columns": null,
            "grid_template_rows": null,
            "height": null,
            "justify_content": null,
            "justify_items": null,
            "left": null,
            "margin": null,
            "max_height": null,
            "max_width": null,
            "min_height": null,
            "min_width": null,
            "object_fit": null,
            "object_position": null,
            "order": null,
            "overflow": null,
            "overflow_x": null,
            "overflow_y": null,
            "padding": null,
            "right": null,
            "top": null,
            "visibility": null,
            "width": null
          }
        },
        "8d6a817557e6401383f8e51751be5ca5": {
          "model_module": "@jupyter-widgets/controls",
          "model_name": "DescriptionStyleModel",
          "model_module_version": "1.5.0",
          "state": {
            "_model_module": "@jupyter-widgets/controls",
            "_model_module_version": "1.5.0",
            "_model_name": "DescriptionStyleModel",
            "_view_count": null,
            "_view_module": "@jupyter-widgets/base",
            "_view_module_version": "1.2.0",
            "_view_name": "StyleView",
            "description_width": ""
          }
        },
        "b63e92347f284e46bc4df6412a0ef95a": {
          "model_module": "@jupyter-widgets/controls",
          "model_name": "HBoxModel",
          "model_module_version": "1.5.0",
          "state": {
            "_dom_classes": [],
            "_model_module": "@jupyter-widgets/controls",
            "_model_module_version": "1.5.0",
            "_model_name": "HBoxModel",
            "_view_count": null,
            "_view_module": "@jupyter-widgets/controls",
            "_view_module_version": "1.5.0",
            "_view_name": "HBoxView",
            "box_style": "",
            "children": [
              "IPY_MODEL_aad073d3d9c74f3cad450f2c35ec4914",
              "IPY_MODEL_26efedbe6644427cac74d7e04695041a",
              "IPY_MODEL_f3bfdb5047ce4abeb5f16ee6f2b50d7b"
            ],
            "layout": "IPY_MODEL_755ce91754fe4d0d97f29a9acc2dc582"
          }
        },
        "aad073d3d9c74f3cad450f2c35ec4914": {
          "model_module": "@jupyter-widgets/controls",
          "model_name": "HTMLModel",
          "model_module_version": "1.5.0",
          "state": {
            "_dom_classes": [],
            "_model_module": "@jupyter-widgets/controls",
            "_model_module_version": "1.5.0",
            "_model_name": "HTMLModel",
            "_view_count": null,
            "_view_module": "@jupyter-widgets/controls",
            "_view_module_version": "1.5.0",
            "_view_name": "HTMLView",
            "description": "",
            "description_tooltip": null,
            "layout": "IPY_MODEL_51b57796e7af4584b5480a36a3616c68",
            "placeholder": "​",
            "style": "IPY_MODEL_ed3508e45d4c4313a1cef97904e9abf7",
            "value": "100%"
          }
        },
        "26efedbe6644427cac74d7e04695041a": {
          "model_module": "@jupyter-widgets/controls",
          "model_name": "FloatProgressModel",
          "model_module_version": "1.5.0",
          "state": {
            "_dom_classes": [],
            "_model_module": "@jupyter-widgets/controls",
            "_model_module_version": "1.5.0",
            "_model_name": "FloatProgressModel",
            "_view_count": null,
            "_view_module": "@jupyter-widgets/controls",
            "_view_module_version": "1.5.0",
            "_view_name": "ProgressView",
            "bar_style": "success",
            "description": "",
            "description_tooltip": null,
            "layout": "IPY_MODEL_ffd4386bda934a2d961d5d724d9a1610",
            "max": 5148,
            "min": 0,
            "orientation": "horizontal",
            "style": "IPY_MODEL_f695405720c34ce4b6596b143d338f41",
            "value": 5148
          }
        },
        "f3bfdb5047ce4abeb5f16ee6f2b50d7b": {
          "model_module": "@jupyter-widgets/controls",
          "model_name": "HTMLModel",
          "model_module_version": "1.5.0",
          "state": {
            "_dom_classes": [],
            "_model_module": "@jupyter-widgets/controls",
            "_model_module_version": "1.5.0",
            "_model_name": "HTMLModel",
            "_view_count": null,
            "_view_module": "@jupyter-widgets/controls",
            "_view_module_version": "1.5.0",
            "_view_name": "HTMLView",
            "description": "",
            "description_tooltip": null,
            "layout": "IPY_MODEL_4f58986c88124837a35b06e5d4eedeb7",
            "placeholder": "​",
            "style": "IPY_MODEL_02b5b7f4fbed469b95cbdc8f0926daad",
            "value": " 5148/5148 [00:00&lt;00:00, 327101.20it/s]"
          }
        },
        "755ce91754fe4d0d97f29a9acc2dc582": {
          "model_module": "@jupyter-widgets/base",
          "model_name": "LayoutModel",
          "model_module_version": "1.2.0",
          "state": {
            "_model_module": "@jupyter-widgets/base",
            "_model_module_version": "1.2.0",
            "_model_name": "LayoutModel",
            "_view_count": null,
            "_view_module": "@jupyter-widgets/base",
            "_view_module_version": "1.2.0",
            "_view_name": "LayoutView",
            "align_content": null,
            "align_items": null,
            "align_self": null,
            "border": null,
            "bottom": null,
            "display": null,
            "flex": null,
            "flex_flow": null,
            "grid_area": null,
            "grid_auto_columns": null,
            "grid_auto_flow": null,
            "grid_auto_rows": null,
            "grid_column": null,
            "grid_gap": null,
            "grid_row": null,
            "grid_template_areas": null,
            "grid_template_columns": null,
            "grid_template_rows": null,
            "height": null,
            "justify_content": null,
            "justify_items": null,
            "left": null,
            "margin": null,
            "max_height": null,
            "max_width": null,
            "min_height": null,
            "min_width": null,
            "object_fit": null,
            "object_position": null,
            "order": null,
            "overflow": null,
            "overflow_x": null,
            "overflow_y": null,
            "padding": null,
            "right": null,
            "top": null,
            "visibility": null,
            "width": null
          }
        },
        "51b57796e7af4584b5480a36a3616c68": {
          "model_module": "@jupyter-widgets/base",
          "model_name": "LayoutModel",
          "model_module_version": "1.2.0",
          "state": {
            "_model_module": "@jupyter-widgets/base",
            "_model_module_version": "1.2.0",
            "_model_name": "LayoutModel",
            "_view_count": null,
            "_view_module": "@jupyter-widgets/base",
            "_view_module_version": "1.2.0",
            "_view_name": "LayoutView",
            "align_content": null,
            "align_items": null,
            "align_self": null,
            "border": null,
            "bottom": null,
            "display": null,
            "flex": null,
            "flex_flow": null,
            "grid_area": null,
            "grid_auto_columns": null,
            "grid_auto_flow": null,
            "grid_auto_rows": null,
            "grid_column": null,
            "grid_gap": null,
            "grid_row": null,
            "grid_template_areas": null,
            "grid_template_columns": null,
            "grid_template_rows": null,
            "height": null,
            "justify_content": null,
            "justify_items": null,
            "left": null,
            "margin": null,
            "max_height": null,
            "max_width": null,
            "min_height": null,
            "min_width": null,
            "object_fit": null,
            "object_position": null,
            "order": null,
            "overflow": null,
            "overflow_x": null,
            "overflow_y": null,
            "padding": null,
            "right": null,
            "top": null,
            "visibility": null,
            "width": null
          }
        },
        "ed3508e45d4c4313a1cef97904e9abf7": {
          "model_module": "@jupyter-widgets/controls",
          "model_name": "DescriptionStyleModel",
          "model_module_version": "1.5.0",
          "state": {
            "_model_module": "@jupyter-widgets/controls",
            "_model_module_version": "1.5.0",
            "_model_name": "DescriptionStyleModel",
            "_view_count": null,
            "_view_module": "@jupyter-widgets/base",
            "_view_module_version": "1.2.0",
            "_view_name": "StyleView",
            "description_width": ""
          }
        },
        "ffd4386bda934a2d961d5d724d9a1610": {
          "model_module": "@jupyter-widgets/base",
          "model_name": "LayoutModel",
          "model_module_version": "1.2.0",
          "state": {
            "_model_module": "@jupyter-widgets/base",
            "_model_module_version": "1.2.0",
            "_model_name": "LayoutModel",
            "_view_count": null,
            "_view_module": "@jupyter-widgets/base",
            "_view_module_version": "1.2.0",
            "_view_name": "LayoutView",
            "align_content": null,
            "align_items": null,
            "align_self": null,
            "border": null,
            "bottom": null,
            "display": null,
            "flex": null,
            "flex_flow": null,
            "grid_area": null,
            "grid_auto_columns": null,
            "grid_auto_flow": null,
            "grid_auto_rows": null,
            "grid_column": null,
            "grid_gap": null,
            "grid_row": null,
            "grid_template_areas": null,
            "grid_template_columns": null,
            "grid_template_rows": null,
            "height": null,
            "justify_content": null,
            "justify_items": null,
            "left": null,
            "margin": null,
            "max_height": null,
            "max_width": null,
            "min_height": null,
            "min_width": null,
            "object_fit": null,
            "object_position": null,
            "order": null,
            "overflow": null,
            "overflow_x": null,
            "overflow_y": null,
            "padding": null,
            "right": null,
            "top": null,
            "visibility": null,
            "width": null
          }
        },
        "f695405720c34ce4b6596b143d338f41": {
          "model_module": "@jupyter-widgets/controls",
          "model_name": "ProgressStyleModel",
          "model_module_version": "1.5.0",
          "state": {
            "_model_module": "@jupyter-widgets/controls",
            "_model_module_version": "1.5.0",
            "_model_name": "ProgressStyleModel",
            "_view_count": null,
            "_view_module": "@jupyter-widgets/base",
            "_view_module_version": "1.2.0",
            "_view_name": "StyleView",
            "bar_color": null,
            "description_width": ""
          }
        },
        "4f58986c88124837a35b06e5d4eedeb7": {
          "model_module": "@jupyter-widgets/base",
          "model_name": "LayoutModel",
          "model_module_version": "1.2.0",
          "state": {
            "_model_module": "@jupyter-widgets/base",
            "_model_module_version": "1.2.0",
            "_model_name": "LayoutModel",
            "_view_count": null,
            "_view_module": "@jupyter-widgets/base",
            "_view_module_version": "1.2.0",
            "_view_name": "LayoutView",
            "align_content": null,
            "align_items": null,
            "align_self": null,
            "border": null,
            "bottom": null,
            "display": null,
            "flex": null,
            "flex_flow": null,
            "grid_area": null,
            "grid_auto_columns": null,
            "grid_auto_flow": null,
            "grid_auto_rows": null,
            "grid_column": null,
            "grid_gap": null,
            "grid_row": null,
            "grid_template_areas": null,
            "grid_template_columns": null,
            "grid_template_rows": null,
            "height": null,
            "justify_content": null,
            "justify_items": null,
            "left": null,
            "margin": null,
            "max_height": null,
            "max_width": null,
            "min_height": null,
            "min_width": null,
            "object_fit": null,
            "object_position": null,
            "order": null,
            "overflow": null,
            "overflow_x": null,
            "overflow_y": null,
            "padding": null,
            "right": null,
            "top": null,
            "visibility": null,
            "width": null
          }
        },
        "02b5b7f4fbed469b95cbdc8f0926daad": {
          "model_module": "@jupyter-widgets/controls",
          "model_name": "DescriptionStyleModel",
          "model_module_version": "1.5.0",
          "state": {
            "_model_module": "@jupyter-widgets/controls",
            "_model_module_version": "1.5.0",
            "_model_name": "DescriptionStyleModel",
            "_view_count": null,
            "_view_module": "@jupyter-widgets/base",
            "_view_module_version": "1.2.0",
            "_view_name": "StyleView",
            "description_width": ""
          }
        }
      }
    }
  },
  "nbformat": 4,
  "nbformat_minor": 0
}