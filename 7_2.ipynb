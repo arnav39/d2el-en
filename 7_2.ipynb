{
  "nbformat": 4,
  "nbformat_minor": 0,
  "metadata": {
    "colab": {
      "provenance": [],
      "authorship_tag": "ABX9TyOfj3q1hvvzVbUrALQ9J4si",
      "include_colab_link": true
    },
    "kernelspec": {
      "name": "python3",
      "display_name": "Python 3"
    },
    "language_info": {
      "name": "python"
    }
  },
  "cells": [
    {
      "cell_type": "markdown",
      "metadata": {
        "id": "view-in-github",
        "colab_type": "text"
      },
      "source": [
        "<a href=\"https://colab.research.google.com/github/arnav39/d2el-en/blob/main/7_2.ipynb\" target=\"_parent\"><img src=\"https://colab.research.google.com/assets/colab-badge.svg\" alt=\"Open In Colab\"/></a>"
      ]
    },
    {
      "cell_type": "markdown",
      "source": [
        "# 7.2 : Convolutions for Images"
      ],
      "metadata": {
        "id": "rdGso1lEY5qe"
      }
    },
    {
      "cell_type": "code",
      "execution_count": 1,
      "metadata": {
        "colab": {
          "base_uri": "https://localhost:8080/"
        },
        "id": "j3zeED5-Y3mI",
        "outputId": "85a03e63-2352-4bbb-f1d8-ea6379dfd2cc"
      },
      "outputs": [
        {
          "output_type": "stream",
          "name": "stdout",
          "text": [
            "Installing collected packages: jedi, qtpy, qtconsole, jupyter, d2l\n",
            "Successfully installed d2l-1.0.0a0 jedi-0.18.2 jupyter-1.0.0 qtconsole-5.4.0 qtpy-2.3.0\n"
          ]
        }
      ],
      "source": [
        "!pip install matplotlib_inline\n",
        "!pip install --upgrade d2l==1.0.0a0"
      ]
    },
    {
      "cell_type": "code",
      "source": [
        "import torch\n",
        "from torch import nn\n",
        "from d2l import torch as d2l"
      ],
      "metadata": {
        "colab": {
          "base_uri": "https://localhost:8080/"
        },
        "id": "VEUJh1UsZG-9",
        "outputId": "0f627304-c52d-4d77-9f62-5ae30c23e635"
      },
      "execution_count": 2,
      "outputs": [
        {
          "output_type": "stream",
          "name": "stderr",
          "text": [
            "/usr/local/lib/python3.8/dist-packages/torch/cuda/__init__.py:497: UserWarning: Can't initialize NVML\n",
            "  warnings.warn(\"Can't initialize NVML\")\n"
          ]
        }
      ]
    },
    {
      "cell_type": "code",
      "source": [
        "a = torch.randn(3, 3)\n",
        "b = torch.randn(2, 2)"
      ],
      "metadata": {
        "id": "ED9_B432Zrsv"
      },
      "execution_count": 3,
      "outputs": []
    },
    {
      "cell_type": "code",
      "source": [
        "print(a[0:2, 0:2], a[0:2, 1:3], a[1:3, 0:2], a[1:3, 1:3])"
      ],
      "metadata": {
        "colab": {
          "base_uri": "https://localhost:8080/"
        },
        "id": "sAk0O6WYZxGW",
        "outputId": "be0d7a41-1b24-4950-cf2b-912b516d132f"
      },
      "execution_count": 7,
      "outputs": [
        {
          "output_type": "stream",
          "name": "stdout",
          "text": [
            "tensor([[-0.0892,  1.4906],\n",
            "        [ 0.3701,  0.3691]]) tensor([[ 1.4906, -0.1939],\n",
            "        [ 0.3691,  0.3531]]) tensor([[0.3701, 0.3691],\n",
            "        [0.0654, 1.9160]]) tensor([[ 0.3691,  0.3531],\n",
            "        [ 1.9160, -1.3037]])\n"
          ]
        }
      ]
    },
    {
      "cell_type": "code",
      "source": [
        "def corr2d(X, K): # cross-corelation operation\n",
        "\n",
        "  h, w = K.shape\n",
        "  Y = torch.zeros(X.shape[0]-h+1, X.shape[1]-w+1)\n",
        "\n",
        "  for i in range(Y.shape[0]):\n",
        "    for j in range(Y.shape[1]):\n",
        "      Y[i, j] = (X[i:i+h, j:j+w] * K).sum()\n",
        "  return Y"
      ],
      "metadata": {
        "id": "8m1pG2Z-ZVmB"
      },
      "execution_count": 8,
      "outputs": []
    },
    {
      "cell_type": "code",
      "source": [
        "X = torch.arange(9.).reshape(3, 3)\n",
        "K = torch.arange(4.).reshape(2, 2)\n",
        "print(f\"X = {X}\")\n",
        "print(f\"K = {K}\")"
      ],
      "metadata": {
        "colab": {
          "base_uri": "https://localhost:8080/"
        },
        "id": "F-bHyZFfaPav",
        "outputId": "5b19cfa6-9517-4d8b-8de6-fcb9a5b5c298"
      },
      "execution_count": 10,
      "outputs": [
        {
          "output_type": "stream",
          "name": "stdout",
          "text": [
            "X = tensor([[0., 1., 2.],\n",
            "        [3., 4., 5.],\n",
            "        [6., 7., 8.]])\n",
            "K = tensor([[0., 1.],\n",
            "        [2., 3.]])\n"
          ]
        }
      ]
    },
    {
      "cell_type": "code",
      "source": [
        "corr2d(X, K)"
      ],
      "metadata": {
        "colab": {
          "base_uri": "https://localhost:8080/"
        },
        "id": "VN3KNAK1ae8T",
        "outputId": "d05b4838-2933-4ad9-fa7f-e29000e17ab1"
      },
      "execution_count": 11,
      "outputs": [
        {
          "output_type": "execute_result",
          "data": {
            "text/plain": [
              "tensor([[19., 25.],\n",
              "        [37., 43.]])"
            ]
          },
          "metadata": {},
          "execution_count": 11
        }
      ]
    },
    {
      "cell_type": "code",
      "source": [
        "a = nn.Parameter"
      ],
      "metadata": {
        "id": "cZcnSg5B4CSq"
      },
      "execution_count": null,
      "outputs": []
    },
    {
      "cell_type": "code",
      "source": [
        "nn.Parameter??"
      ],
      "metadata": {
        "id": "B32QO2WB3_AA"
      },
      "execution_count": 69,
      "outputs": []
    },
    {
      "cell_type": "code",
      "source": [
        "class Conv2D(nn.Module):\n",
        "\n",
        "  def __init__(self, kernel_size):\n",
        "    super().__init__()\n",
        "    self.weight = nn.Parameter(torch.rand(kernel_size))\n",
        "    self.bias = nn.Parameter(torch.zeros(1))\n",
        "\n",
        "  def forward(self, X):\n",
        "    return corr2d(X, self.weight) + self.bias"
      ],
      "metadata": {
        "id": "SOoCz6Yxakhs"
      },
      "execution_count": 12,
      "outputs": []
    },
    {
      "cell_type": "code",
      "source": [
        "X = torch.ones(6, 8)\n",
        "X[:, 2:6] = 0\n",
        "print(X)"
      ],
      "metadata": {
        "colab": {
          "base_uri": "https://localhost:8080/"
        },
        "id": "6usicWXDbRXc",
        "outputId": "5c0fd969-d6f2-427f-80b1-9a418d0a4d93"
      },
      "execution_count": 13,
      "outputs": [
        {
          "output_type": "stream",
          "name": "stdout",
          "text": [
            "tensor([[1., 1., 0., 0., 0., 0., 1., 1.],\n",
            "        [1., 1., 0., 0., 0., 0., 1., 1.],\n",
            "        [1., 1., 0., 0., 0., 0., 1., 1.],\n",
            "        [1., 1., 0., 0., 0., 0., 1., 1.],\n",
            "        [1., 1., 0., 0., 0., 0., 1., 1.],\n",
            "        [1., 1., 0., 0., 0., 0., 1., 1.]])\n"
          ]
        }
      ]
    },
    {
      "cell_type": "code",
      "source": [
        "K = torch.tensor([1.0, -1.0]).reshape(1, 2) # to detect vertical edges only\n",
        "K"
      ],
      "metadata": {
        "colab": {
          "base_uri": "https://localhost:8080/"
        },
        "id": "5Q3jY2mybwxX",
        "outputId": "f4f93dfc-1df0-4420-dfd4-ab05f755f6a1"
      },
      "execution_count": 14,
      "outputs": [
        {
          "output_type": "execute_result",
          "data": {
            "text/plain": [
              "tensor([[ 1., -1.]])"
            ]
          },
          "metadata": {},
          "execution_count": 14
        }
      ]
    },
    {
      "cell_type": "code",
      "source": [
        "Y = corr2d(X, K)\n",
        "Y"
      ],
      "metadata": {
        "colab": {
          "base_uri": "https://localhost:8080/"
        },
        "id": "leUg-FbCcRVH",
        "outputId": "38d16a77-77ed-40e8-9bf7-0b2eca9a8c47"
      },
      "execution_count": 15,
      "outputs": [
        {
          "output_type": "execute_result",
          "data": {
            "text/plain": [
              "tensor([[ 0.,  1.,  0.,  0.,  0., -1.,  0.],\n",
              "        [ 0.,  1.,  0.,  0.,  0., -1.,  0.],\n",
              "        [ 0.,  1.,  0.,  0.,  0., -1.,  0.],\n",
              "        [ 0.,  1.,  0.,  0.,  0., -1.,  0.],\n",
              "        [ 0.,  1.,  0.,  0.,  0., -1.,  0.],\n",
              "        [ 0.,  1.,  0.,  0.,  0., -1.,  0.]])"
            ]
          },
          "metadata": {},
          "execution_count": 15
        }
      ]
    },
    {
      "cell_type": "code",
      "source": [
        "corr2d(X.T, K) # K cant detect horizontal edges"
      ],
      "metadata": {
        "colab": {
          "base_uri": "https://localhost:8080/"
        },
        "id": "LMg0bcnrcgCr",
        "outputId": "fd03add2-aee4-4743-e3d5-321e2e8071dd"
      },
      "execution_count": 16,
      "outputs": [
        {
          "output_type": "execute_result",
          "data": {
            "text/plain": [
              "tensor([[0., 0., 0., 0., 0.],\n",
              "        [0., 0., 0., 0., 0.],\n",
              "        [0., 0., 0., 0., 0.],\n",
              "        [0., 0., 0., 0., 0.],\n",
              "        [0., 0., 0., 0., 0.],\n",
              "        [0., 0., 0., 0., 0.],\n",
              "        [0., 0., 0., 0., 0.],\n",
              "        [0., 0., 0., 0., 0.]])"
            ]
          },
          "metadata": {},
          "execution_count": 16
        }
      ]
    },
    {
      "cell_type": "code",
      "source": [
        "nn.LazyConv2d??"
      ],
      "metadata": {
        "id": "67kFvuAIcw3u"
      },
      "execution_count": 17,
      "outputs": []
    },
    {
      "cell_type": "code",
      "source": [
        "conv2d = nn.LazyConv2d(1, kernel_size=(1, 2), bias=False)"
      ],
      "metadata": {
        "colab": {
          "base_uri": "https://localhost:8080/"
        },
        "id": "Te9UCKHYdG-H",
        "outputId": "267921ab-0ba5-48d0-bf85-686747052b7b"
      },
      "execution_count": 18,
      "outputs": [
        {
          "output_type": "stream",
          "name": "stderr",
          "text": [
            "/usr/local/lib/python3.8/dist-packages/torch/nn/modules/lazy.py:180: UserWarning: Lazy modules are a new feature under heavy development so changes to the API or functionality can happen at any moment.\n",
            "  warnings.warn('Lazy modules are a new feature under heavy development '\n"
          ]
        }
      ]
    },
    {
      "cell_type": "code",
      "source": [
        "conv2d.weight, conv2d.bias"
      ],
      "metadata": {
        "colab": {
          "base_uri": "https://localhost:8080/"
        },
        "id": "4Yq2MXt_efKH",
        "outputId": "8ee43213-351b-421d-bce1-c1603bb60f76"
      },
      "execution_count": 22,
      "outputs": [
        {
          "output_type": "execute_result",
          "data": {
            "text/plain": [
              "(<UninitializedParameter>, None)"
            ]
          },
          "metadata": {},
          "execution_count": 22
        }
      ]
    },
    {
      "cell_type": "code",
      "source": [
        "X = X.reshape(1, 1, 6, 8)\n",
        "Y = Y.reshape(1, 1, 6, 7)\n",
        "lr = 3e-2\n",
        "print(\"X = \", X)\n",
        "print(\"Y = \", Y)\n",
        "print(\"lr = \", lr)"
      ],
      "metadata": {
        "colab": {
          "base_uri": "https://localhost:8080/"
        },
        "id": "xOLPoUAqdmGz",
        "outputId": "c32cf745-154f-4d9c-f0d7-bc26bcc7a370"
      },
      "execution_count": 19,
      "outputs": [
        {
          "output_type": "stream",
          "name": "stdout",
          "text": [
            "X =  tensor([[[[1., 1., 0., 0., 0., 0., 1., 1.],\n",
            "          [1., 1., 0., 0., 0., 0., 1., 1.],\n",
            "          [1., 1., 0., 0., 0., 0., 1., 1.],\n",
            "          [1., 1., 0., 0., 0., 0., 1., 1.],\n",
            "          [1., 1., 0., 0., 0., 0., 1., 1.],\n",
            "          [1., 1., 0., 0., 0., 0., 1., 1.]]]])\n",
            "Y =  tensor([[[[ 0.,  1.,  0.,  0.,  0., -1.,  0.],\n",
            "          [ 0.,  1.,  0.,  0.,  0., -1.,  0.],\n",
            "          [ 0.,  1.,  0.,  0.,  0., -1.,  0.],\n",
            "          [ 0.,  1.,  0.,  0.,  0., -1.,  0.],\n",
            "          [ 0.,  1.,  0.,  0.,  0., -1.,  0.],\n",
            "          [ 0.,  1.,  0.,  0.,  0., -1.,  0.]]]])\n",
            "lr =  0.03\n"
          ]
        }
      ]
    },
    {
      "cell_type": "code",
      "source": [
        "a = nn.Parameter(torch.randn(2, 2))\n",
        "a"
      ],
      "metadata": {
        "colab": {
          "base_uri": "https://localhost:8080/"
        },
        "id": "IzeseuE_eyMM",
        "outputId": "6fd93b6f-4b65-471d-cd72-fd11d8715d0a"
      },
      "execution_count": 25,
      "outputs": [
        {
          "output_type": "execute_result",
          "data": {
            "text/plain": [
              "Parameter containing:\n",
              "tensor([[-0.4256,  0.8014],\n",
              "        [-0.7781,  1.7734]], requires_grad=True)"
            ]
          },
          "metadata": {},
          "execution_count": 25
        }
      ]
    },
    {
      "cell_type": "code",
      "source": [
        "print(a.grad)"
      ],
      "metadata": {
        "colab": {
          "base_uri": "https://localhost:8080/"
        },
        "id": "R8UZFnncfA9_",
        "outputId": "cbf29299-6127-4e86-d75d-fa5442d07f02"
      },
      "execution_count": 29,
      "outputs": [
        {
          "output_type": "stream",
          "name": "stdout",
          "text": [
            "None\n"
          ]
        }
      ]
    },
    {
      "cell_type": "code",
      "source": [
        "b = a + 1\n",
        "b"
      ],
      "metadata": {
        "colab": {
          "base_uri": "https://localhost:8080/"
        },
        "id": "DTZmsWHKe39q",
        "outputId": "7fe35e22-1537-4faf-ff6f-250e9b9095df"
      },
      "execution_count": 30,
      "outputs": [
        {
          "output_type": "execute_result",
          "data": {
            "text/plain": [
              "tensor([[0.5744, 1.8014],\n",
              "        [0.2219, 2.7734]], grad_fn=<AddBackward0>)"
            ]
          },
          "metadata": {},
          "execution_count": 30
        }
      ]
    },
    {
      "cell_type": "code",
      "source": [
        "b.sum().backward()\n",
        "a.data[:] -= 2 * a.grad\n",
        "print(a)"
      ],
      "metadata": {
        "colab": {
          "base_uri": "https://localhost:8080/"
        },
        "id": "Hkbfjx-RfJrA",
        "outputId": "7be48edd-eaf9-4b20-e06d-1b3731513841"
      },
      "execution_count": 32,
      "outputs": [
        {
          "output_type": "stream",
          "name": "stdout",
          "text": [
            "Parameter containing:\n",
            "tensor([[-2.4256, -1.1986],\n",
            "        [-2.7781, -0.2266]], requires_grad=True)\n"
          ]
        }
      ]
    },
    {
      "cell_type": "code",
      "source": [
        "print(a.grad)"
      ],
      "metadata": {
        "colab": {
          "base_uri": "https://localhost:8080/"
        },
        "id": "WqNgdmSTfcXp",
        "outputId": "4d53031d-f94e-466f-f771-0ae8043c89a5"
      },
      "execution_count": 33,
      "outputs": [
        {
          "output_type": "stream",
          "name": "stdout",
          "text": [
            "tensor([[1., 1.],\n",
            "        [1., 1.]])\n"
          ]
        }
      ]
    },
    {
      "cell_type": "code",
      "source": [
        "for i in range(10):\n",
        "\n",
        "  Y_hat = conv2d(X)\n",
        "  l = (Y_hat - Y) ** 2\n",
        "  conv2d.zero_grad()\n",
        "  l.sum().backward()\n",
        "\n",
        "  # update the kernel : \n",
        "  conv2d.weight.data[:] -= lr * conv2d.weight.grad\n",
        "\n",
        "  if (i+1) % 2 == 0:\n",
        "    print(f\"epoch : {i+1}/{10}, loss = {l.sum():.4f}\")"
      ],
      "metadata": {
        "colab": {
          "base_uri": "https://localhost:8080/"
        },
        "id": "Jlen0a-Jd8Xy",
        "outputId": "a071ceb0-f551-4d55-f3f5-7e2b3f0bc235"
      },
      "execution_count": 35,
      "outputs": [
        {
          "output_type": "stream",
          "name": "stdout",
          "text": [
            "epoch : 2/10, loss = 10.1708\n",
            "epoch : 4/10, loss = 1.7212\n",
            "epoch : 6/10, loss = 0.2948\n",
            "epoch : 8/10, loss = 0.0520\n",
            "epoch : 10/10, loss = 0.0097\n"
          ]
        }
      ]
    },
    {
      "cell_type": "code",
      "source": [
        "conv2d.weight.data.reshape(1, 2)"
      ],
      "metadata": {
        "colab": {
          "base_uri": "https://localhost:8080/"
        },
        "id": "IX_swKuJfr2h",
        "outputId": "bcc6ce1d-644c-4c2f-97de-80f4a673d110"
      },
      "execution_count": 37,
      "outputs": [
        {
          "output_type": "execute_result",
          "data": {
            "text/plain": [
              "tensor([[ 0.9792, -0.9878]])"
            ]
          },
          "metadata": {},
          "execution_count": 37
        }
      ]
    },
    {
      "cell_type": "markdown",
      "source": [
        "## Ex 7.2 "
      ],
      "metadata": {
        "id": "DSGNH6irvdDj"
      }
    },
    {
      "cell_type": "markdown",
      "source": [
        "### Q1:"
      ],
      "metadata": {
        "id": "R1jRUEBkvgO3"
      }
    },
    {
      "cell_type": "code",
      "source": [
        "X = torch.zeros(6, 6)\n",
        "for i in range(6):\n",
        "  X[i, i] = 1.0\n",
        "print(X) #main diagonal"
      ],
      "metadata": {
        "colab": {
          "base_uri": "https://localhost:8080/"
        },
        "id": "qXjzvCTOfuSU",
        "outputId": "ad4cd458-30e6-4db8-903e-71f145baaad2"
      },
      "execution_count": 38,
      "outputs": [
        {
          "output_type": "stream",
          "name": "stdout",
          "text": [
            "tensor([[1., 0., 0., 0., 0., 0.],\n",
            "        [0., 1., 0., 0., 0., 0.],\n",
            "        [0., 0., 1., 0., 0., 0.],\n",
            "        [0., 0., 0., 1., 0., 0.],\n",
            "        [0., 0., 0., 0., 1., 0.],\n",
            "        [0., 0., 0., 0., 0., 1.]])\n"
          ]
        }
      ]
    },
    {
      "cell_type": "code",
      "source": [
        "print(K)"
      ],
      "metadata": {
        "colab": {
          "base_uri": "https://localhost:8080/"
        },
        "id": "3j51qaAMv2m3",
        "outputId": "ac97272f-6b0b-476b-b22d-32c4b3cc083e"
      },
      "execution_count": 39,
      "outputs": [
        {
          "output_type": "stream",
          "name": "stdout",
          "text": [
            "tensor([[ 1., -1.]])\n"
          ]
        }
      ]
    },
    {
      "cell_type": "code",
      "source": [
        "corr2d(X, K)"
      ],
      "metadata": {
        "colab": {
          "base_uri": "https://localhost:8080/"
        },
        "id": "aqmT_qJCv69S",
        "outputId": "4c3908a7-a0bd-44dd-e8db-69810777065a"
      },
      "execution_count": 41,
      "outputs": [
        {
          "output_type": "execute_result",
          "data": {
            "text/plain": [
              "tensor([[ 1.,  0.,  0.,  0.,  0.],\n",
              "        [-1.,  1.,  0.,  0.,  0.],\n",
              "        [ 0., -1.,  1.,  0.,  0.],\n",
              "        [ 0.,  0., -1.,  1.,  0.],\n",
              "        [ 0.,  0.,  0., -1.,  1.],\n",
              "        [ 0.,  0.,  0.,  0., -1.]])"
            ]
          },
          "metadata": {},
          "execution_count": 41
        }
      ]
    },
    {
      "cell_type": "code",
      "source": [
        "corr2d(X.T, K)"
      ],
      "metadata": {
        "colab": {
          "base_uri": "https://localhost:8080/"
        },
        "id": "dqkeapX0v-94",
        "outputId": "c06623c9-fe1d-4545-e8df-bd26f14e9bbd"
      },
      "execution_count": 42,
      "outputs": [
        {
          "output_type": "execute_result",
          "data": {
            "text/plain": [
              "tensor([[ 1.,  0.,  0.,  0.,  0.],\n",
              "        [-1.,  1.,  0.,  0.,  0.],\n",
              "        [ 0., -1.,  1.,  0.,  0.],\n",
              "        [ 0.,  0., -1.,  1.,  0.],\n",
              "        [ 0.,  0.,  0., -1.,  1.],\n",
              "        [ 0.,  0.,  0.,  0., -1.]])"
            ]
          },
          "metadata": {},
          "execution_count": 42
        }
      ]
    },
    {
      "cell_type": "code",
      "source": [
        "corr2d(X, K.T)"
      ],
      "metadata": {
        "colab": {
          "base_uri": "https://localhost:8080/"
        },
        "id": "vClRpqB1wMuH",
        "outputId": "6b1a0fc5-16ce-4c35-ed35-80e78d6ccc41"
      },
      "execution_count": 43,
      "outputs": [
        {
          "output_type": "execute_result",
          "data": {
            "text/plain": [
              "tensor([[ 1., -1.,  0.,  0.,  0.,  0.],\n",
              "        [ 0.,  1., -1.,  0.,  0.,  0.],\n",
              "        [ 0.,  0.,  1., -1.,  0.,  0.],\n",
              "        [ 0.,  0.,  0.,  1., -1.,  0.],\n",
              "        [ 0.,  0.,  0.,  0.,  1., -1.]])"
            ]
          },
          "metadata": {},
          "execution_count": 43
        }
      ]
    },
    {
      "cell_type": "markdown",
      "source": [
        "### Q2:\n",
        "\n",
        "- nhi ho rha😢"
      ],
      "metadata": {
        "id": "6y1kynGnyLHj"
      }
    },
    {
      "cell_type": "code",
      "source": [
        "# trying to detect horizontal edges\n",
        "X = torch.zeros(6, 8)\n",
        "X[0:2, :] = 1\n",
        "X[4:6, :] = 1\n",
        "print(X)"
      ],
      "metadata": {
        "colab": {
          "base_uri": "https://localhost:8080/"
        },
        "id": "EW937XLZwTQT",
        "outputId": "c42afc5d-33c5-4577-d7e1-eda356538f86"
      },
      "execution_count": 48,
      "outputs": [
        {
          "output_type": "stream",
          "name": "stdout",
          "text": [
            "tensor([[1., 1., 1., 1., 1., 1., 1., 1.],\n",
            "        [1., 1., 1., 1., 1., 1., 1., 1.],\n",
            "        [0., 0., 0., 0., 0., 0., 0., 0.],\n",
            "        [0., 0., 0., 0., 0., 0., 0., 0.],\n",
            "        [1., 1., 1., 1., 1., 1., 1., 1.],\n",
            "        [1., 1., 1., 1., 1., 1., 1., 1.]])\n"
          ]
        }
      ]
    },
    {
      "cell_type": "code",
      "source": [
        "K = torch.tensor([-1., 1.]).reshape(2, 1) # detects horizontal edges\n",
        "print(K)"
      ],
      "metadata": {
        "colab": {
          "base_uri": "https://localhost:8080/"
        },
        "id": "GuVoIlDv0Je2",
        "outputId": "6875b710-1473-46ac-f1c2-932458123c72"
      },
      "execution_count": 51,
      "outputs": [
        {
          "output_type": "stream",
          "name": "stdout",
          "text": [
            "tensor([[-1.],\n",
            "        [ 1.]])\n"
          ]
        }
      ]
    },
    {
      "cell_type": "code",
      "source": [
        "corr2d(X, K)"
      ],
      "metadata": {
        "colab": {
          "base_uri": "https://localhost:8080/"
        },
        "id": "Aw78WMVn0g05",
        "outputId": "f0a57421-64d0-4f43-ac38-3885474bd7b0"
      },
      "execution_count": 52,
      "outputs": [
        {
          "output_type": "execute_result",
          "data": {
            "text/plain": [
              "tensor([[ 0.,  0.,  0.,  0.,  0.,  0.,  0.,  0.],\n",
              "        [-1., -1., -1., -1., -1., -1., -1., -1.],\n",
              "        [ 0.,  0.,  0.,  0.,  0.,  0.,  0.,  0.],\n",
              "        [ 1.,  1.,  1.,  1.,  1.,  1.,  1.,  1.],\n",
              "        [ 0.,  0.,  0.,  0.,  0.,  0.,  0.,  0.]])"
            ]
          },
          "metadata": {},
          "execution_count": 52
        }
      ]
    },
    {
      "cell_type": "code",
      "source": [
        "# let's try to detect perpendicular edges\n",
        "X = torch.zeros(6, 8)\n",
        "X[:, 4] = 1\n",
        "X[3, :] = 1\n",
        "print(X)"
      ],
      "metadata": {
        "colab": {
          "base_uri": "https://localhost:8080/"
        },
        "id": "g8rG-SpL0i77",
        "outputId": "64f253d4-07b8-4f19-ae31-a695669a6965"
      },
      "execution_count": 53,
      "outputs": [
        {
          "output_type": "stream",
          "name": "stdout",
          "text": [
            "tensor([[0., 0., 0., 0., 1., 0., 0., 0.],\n",
            "        [0., 0., 0., 0., 1., 0., 0., 0.],\n",
            "        [0., 0., 0., 0., 1., 0., 0., 0.],\n",
            "        [1., 1., 1., 1., 1., 1., 1., 1.],\n",
            "        [0., 0., 0., 0., 1., 0., 0., 0.],\n",
            "        [0., 0., 0., 0., 1., 0., 0., 0.]])\n"
          ]
        }
      ]
    },
    {
      "cell_type": "code",
      "source": [
        "K = torch.tensor([-1.0, 0, 0, 1.0]).reshape(2, 2)\n",
        "print(K)"
      ],
      "metadata": {
        "colab": {
          "base_uri": "https://localhost:8080/"
        },
        "id": "lxUVl5Ys0_tA",
        "outputId": "72668e06-3300-4c9d-c42d-435b90b982bd"
      },
      "execution_count": 60,
      "outputs": [
        {
          "output_type": "stream",
          "name": "stdout",
          "text": [
            "tensor([[-1.,  0.],\n",
            "        [ 0.,  1.]])\n"
          ]
        }
      ]
    },
    {
      "cell_type": "code",
      "source": [
        "corr2d(X, K)"
      ],
      "metadata": {
        "colab": {
          "base_uri": "https://localhost:8080/"
        },
        "id": "bd6dcBVx1JB4",
        "outputId": "6ebe862b-cff2-41e4-8b76-9597fcbcd646"
      },
      "execution_count": 61,
      "outputs": [
        {
          "output_type": "execute_result",
          "data": {
            "text/plain": [
              "tensor([[ 0.,  0.,  0.,  1., -1.,  0.,  0.],\n",
              "        [ 0.,  0.,  0.,  1., -1.,  0.,  0.],\n",
              "        [ 1.,  1.,  1.,  1.,  0.,  1.,  1.],\n",
              "        [-1., -1., -1.,  0., -1., -1., -1.],\n",
              "        [ 0.,  0.,  0.,  1., -1.,  0.,  0.]])"
            ]
          },
          "metadata": {},
          "execution_count": 61
        }
      ]
    },
    {
      "cell_type": "markdown",
      "source": [
        "### Q3:"
      ],
      "metadata": {
        "id": "Y53goETq2Jox"
      }
    },
    {
      "cell_type": "code",
      "source": [
        "K = torch.tensor([1., -1.]).reshape(1, 2) # detects vertical edges\n",
        "X = torch.zeros(6, 8)\n",
        "X[:, :2] = 1\n",
        "X[:, 6:8] = 1\n",
        "print(X, K)"
      ],
      "metadata": {
        "colab": {
          "base_uri": "https://localhost:8080/"
        },
        "id": "3tEOztSJ1LTh",
        "outputId": "28602e54-1452-4182-ca51-2eed971e5c93"
      },
      "execution_count": 63,
      "outputs": [
        {
          "output_type": "stream",
          "name": "stdout",
          "text": [
            "tensor([[1., 1., 0., 0., 0., 0., 1., 1.],\n",
            "        [1., 1., 0., 0., 0., 0., 1., 1.],\n",
            "        [1., 1., 0., 0., 0., 0., 1., 1.],\n",
            "        [1., 1., 0., 0., 0., 0., 1., 1.],\n",
            "        [1., 1., 0., 0., 0., 0., 1., 1.],\n",
            "        [1., 1., 0., 0., 0., 0., 1., 1.]]) tensor([[ 1., -1.]])\n"
          ]
        }
      ]
    },
    {
      "cell_type": "code",
      "source": [
        "Y = corr2d(X, K)\n",
        "print(Y)"
      ],
      "metadata": {
        "colab": {
          "base_uri": "https://localhost:8080/"
        },
        "id": "5CksQdJJ2rEC",
        "outputId": "705816c1-d760-451f-d14e-b00409c91d6a"
      },
      "execution_count": 64,
      "outputs": [
        {
          "output_type": "stream",
          "name": "stdout",
          "text": [
            "tensor([[ 0.,  1.,  0.,  0.,  0., -1.,  0.],\n",
            "        [ 0.,  1.,  0.,  0.,  0., -1.,  0.],\n",
            "        [ 0.,  1.,  0.,  0.,  0., -1.,  0.],\n",
            "        [ 0.,  1.,  0.,  0.,  0., -1.,  0.],\n",
            "        [ 0.,  1.,  0.,  0.,  0., -1.,  0.],\n",
            "        [ 0.,  1.,  0.,  0.,  0., -1.,  0.]])\n"
          ]
        }
      ]
    },
    {
      "cell_type": "code",
      "source": [
        "conv_net = Conv2D(K.shape)"
      ],
      "metadata": {
        "id": "Dh9tUEbx2xfJ"
      },
      "execution_count": 65,
      "outputs": []
    },
    {
      "cell_type": "code",
      "source": [
        "conv_net"
      ],
      "metadata": {
        "colab": {
          "base_uri": "https://localhost:8080/"
        },
        "id": "86jMIJi625Fd",
        "outputId": "7a9b47c9-692f-4b65-b4cb-70d5615cddf5"
      },
      "execution_count": 66,
      "outputs": [
        {
          "output_type": "execute_result",
          "data": {
            "text/plain": [
              "Conv2D()"
            ]
          },
          "metadata": {},
          "execution_count": 66
        }
      ]
    },
    {
      "cell_type": "code",
      "source": [
        "lr = 3e-2"
      ],
      "metadata": {
        "id": "dqKccl3W3XwP"
      },
      "execution_count": 67,
      "outputs": []
    },
    {
      "cell_type": "code",
      "source": [
        "for epoch in range(10):\n",
        "\n",
        "  y_hat = conv_net.forward(X)\n",
        "  loss = (y_hat - Y) ** 2\n",
        "\n",
        "  loss.sum().backward()\n",
        "\n",
        "  conv_net.weight.data[:] -= lr * conv_net.weight.grad\n",
        "  conv_net.bias.data[:] -= lr * conv_net.bias.grad\n",
        "\n",
        "  conv_net.weight.grad.zero_()\n",
        "  conv_net.bias.grad.zero_()\n",
        "\n",
        "  print(f\"epoch : {epoch+1}/{10}, loss = {loss.sum().item():.4f}\")"
      ],
      "metadata": {
        "colab": {
          "base_uri": "https://localhost:8080/"
        },
        "id": "baimqw9S26Vv",
        "outputId": "164b01c4-deaa-4677-c50d-c105d99fc1cf"
      },
      "execution_count": 71,
      "outputs": [
        {
          "output_type": "stream",
          "name": "stdout",
          "text": [
            "epoch : 1/10, loss = 18.6658\n",
            "epoch : 2/10, loss = 68.5387\n",
            "epoch : 3/10, loss = 501.2296\n",
            "epoch : 4/10, loss = 3729.6558\n",
            "epoch : 5/10, loss = 27778.9922\n",
            "epoch : 6/10, loss = 206912.5938\n",
            "epoch : 7/10, loss = 1541198.7500\n",
            "epoch : 8/10, loss = 11479698.0000\n",
            "epoch : 9/10, loss = 85507136.0000\n",
            "epoch : 10/10, loss = 636904192.0000\n"
          ]
        }
      ]
    },
    {
      "cell_type": "code",
      "source": [
        "conv_net.weight.data"
      ],
      "metadata": {
        "colab": {
          "base_uri": "https://localhost:8080/"
        },
        "id": "WGddGmVS35zn",
        "outputId": "c2f102d0-b47a-4178-e399-08e9d09e1820"
      },
      "execution_count": 72,
      "outputs": [
        {
          "output_type": "execute_result",
          "data": {
            "text/plain": [
              "tensor([[3835.5981, 3833.6106]])"
            ]
          },
          "metadata": {},
          "execution_count": 72
        }
      ]
    }
  ]
}