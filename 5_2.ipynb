{
  "nbformat": 4,
  "nbformat_minor": 0,
  "metadata": {
    "colab": {
      "provenance": [],
      "authorship_tag": "ABX9TyNx4EXfr+SKp4B6nHmsE0cO",
      "include_colab_link": true
    },
    "kernelspec": {
      "name": "python3",
      "display_name": "Python 3"
    },
    "language_info": {
      "name": "python"
    },
    "accelerator": "GPU",
    "gpuClass": "standard",
    "widgets": {
      "application/vnd.jupyter.widget-state+json": {
        "1cc8a354aecb44b29f6f6be87b76b1bf": {
          "model_module": "@jupyter-widgets/controls",
          "model_name": "HBoxModel",
          "model_module_version": "1.5.0",
          "state": {
            "_dom_classes": [],
            "_model_module": "@jupyter-widgets/controls",
            "_model_module_version": "1.5.0",
            "_model_name": "HBoxModel",
            "_view_count": null,
            "_view_module": "@jupyter-widgets/controls",
            "_view_module_version": "1.5.0",
            "_view_name": "HBoxView",
            "box_style": "",
            "children": [
              "IPY_MODEL_6eab7ac1b7a4418392d616155c68cc43",
              "IPY_MODEL_317d0113666442ea9bff12049ccc05c8",
              "IPY_MODEL_3702cc7e2cb34f3cb77e9a249af69666"
            ],
            "layout": "IPY_MODEL_f0aa0551db5c476396265c361bfbc89a"
          }
        },
        "6eab7ac1b7a4418392d616155c68cc43": {
          "model_module": "@jupyter-widgets/controls",
          "model_name": "HTMLModel",
          "model_module_version": "1.5.0",
          "state": {
            "_dom_classes": [],
            "_model_module": "@jupyter-widgets/controls",
            "_model_module_version": "1.5.0",
            "_model_name": "HTMLModel",
            "_view_count": null,
            "_view_module": "@jupyter-widgets/controls",
            "_view_module_version": "1.5.0",
            "_view_name": "HTMLView",
            "description": "",
            "description_tooltip": null,
            "layout": "IPY_MODEL_ba49617c73834656bc211098d021e8d3",
            "placeholder": "​",
            "style": "IPY_MODEL_ceec162a5de144d1b30ce84282da7bf4",
            "value": "100%"
          }
        },
        "317d0113666442ea9bff12049ccc05c8": {
          "model_module": "@jupyter-widgets/controls",
          "model_name": "FloatProgressModel",
          "model_module_version": "1.5.0",
          "state": {
            "_dom_classes": [],
            "_model_module": "@jupyter-widgets/controls",
            "_model_module_version": "1.5.0",
            "_model_name": "FloatProgressModel",
            "_view_count": null,
            "_view_module": "@jupyter-widgets/controls",
            "_view_module_version": "1.5.0",
            "_view_name": "ProgressView",
            "bar_style": "success",
            "description": "",
            "description_tooltip": null,
            "layout": "IPY_MODEL_a11dbf197d67426891a1215e153b831e",
            "max": 26421880,
            "min": 0,
            "orientation": "horizontal",
            "style": "IPY_MODEL_d28e20b7b36d46c7b3dcbb9eca2830fc",
            "value": 26421880
          }
        },
        "3702cc7e2cb34f3cb77e9a249af69666": {
          "model_module": "@jupyter-widgets/controls",
          "model_name": "HTMLModel",
          "model_module_version": "1.5.0",
          "state": {
            "_dom_classes": [],
            "_model_module": "@jupyter-widgets/controls",
            "_model_module_version": "1.5.0",
            "_model_name": "HTMLModel",
            "_view_count": null,
            "_view_module": "@jupyter-widgets/controls",
            "_view_module_version": "1.5.0",
            "_view_name": "HTMLView",
            "description": "",
            "description_tooltip": null,
            "layout": "IPY_MODEL_57955e767b2d40f08ad51944a1db5539",
            "placeholder": "​",
            "style": "IPY_MODEL_14749d20dbdb4621b22053db749cec88",
            "value": " 26421880/26421880 [00:01&lt;00:00, 24593485.09it/s]"
          }
        },
        "f0aa0551db5c476396265c361bfbc89a": {
          "model_module": "@jupyter-widgets/base",
          "model_name": "LayoutModel",
          "model_module_version": "1.2.0",
          "state": {
            "_model_module": "@jupyter-widgets/base",
            "_model_module_version": "1.2.0",
            "_model_name": "LayoutModel",
            "_view_count": null,
            "_view_module": "@jupyter-widgets/base",
            "_view_module_version": "1.2.0",
            "_view_name": "LayoutView",
            "align_content": null,
            "align_items": null,
            "align_self": null,
            "border": null,
            "bottom": null,
            "display": null,
            "flex": null,
            "flex_flow": null,
            "grid_area": null,
            "grid_auto_columns": null,
            "grid_auto_flow": null,
            "grid_auto_rows": null,
            "grid_column": null,
            "grid_gap": null,
            "grid_row": null,
            "grid_template_areas": null,
            "grid_template_columns": null,
            "grid_template_rows": null,
            "height": null,
            "justify_content": null,
            "justify_items": null,
            "left": null,
            "margin": null,
            "max_height": null,
            "max_width": null,
            "min_height": null,
            "min_width": null,
            "object_fit": null,
            "object_position": null,
            "order": null,
            "overflow": null,
            "overflow_x": null,
            "overflow_y": null,
            "padding": null,
            "right": null,
            "top": null,
            "visibility": null,
            "width": null
          }
        },
        "ba49617c73834656bc211098d021e8d3": {
          "model_module": "@jupyter-widgets/base",
          "model_name": "LayoutModel",
          "model_module_version": "1.2.0",
          "state": {
            "_model_module": "@jupyter-widgets/base",
            "_model_module_version": "1.2.0",
            "_model_name": "LayoutModel",
            "_view_count": null,
            "_view_module": "@jupyter-widgets/base",
            "_view_module_version": "1.2.0",
            "_view_name": "LayoutView",
            "align_content": null,
            "align_items": null,
            "align_self": null,
            "border": null,
            "bottom": null,
            "display": null,
            "flex": null,
            "flex_flow": null,
            "grid_area": null,
            "grid_auto_columns": null,
            "grid_auto_flow": null,
            "grid_auto_rows": null,
            "grid_column": null,
            "grid_gap": null,
            "grid_row": null,
            "grid_template_areas": null,
            "grid_template_columns": null,
            "grid_template_rows": null,
            "height": null,
            "justify_content": null,
            "justify_items": null,
            "left": null,
            "margin": null,
            "max_height": null,
            "max_width": null,
            "min_height": null,
            "min_width": null,
            "object_fit": null,
            "object_position": null,
            "order": null,
            "overflow": null,
            "overflow_x": null,
            "overflow_y": null,
            "padding": null,
            "right": null,
            "top": null,
            "visibility": null,
            "width": null
          }
        },
        "ceec162a5de144d1b30ce84282da7bf4": {
          "model_module": "@jupyter-widgets/controls",
          "model_name": "DescriptionStyleModel",
          "model_module_version": "1.5.0",
          "state": {
            "_model_module": "@jupyter-widgets/controls",
            "_model_module_version": "1.5.0",
            "_model_name": "DescriptionStyleModel",
            "_view_count": null,
            "_view_module": "@jupyter-widgets/base",
            "_view_module_version": "1.2.0",
            "_view_name": "StyleView",
            "description_width": ""
          }
        },
        "a11dbf197d67426891a1215e153b831e": {
          "model_module": "@jupyter-widgets/base",
          "model_name": "LayoutModel",
          "model_module_version": "1.2.0",
          "state": {
            "_model_module": "@jupyter-widgets/base",
            "_model_module_version": "1.2.0",
            "_model_name": "LayoutModel",
            "_view_count": null,
            "_view_module": "@jupyter-widgets/base",
            "_view_module_version": "1.2.0",
            "_view_name": "LayoutView",
            "align_content": null,
            "align_items": null,
            "align_self": null,
            "border": null,
            "bottom": null,
            "display": null,
            "flex": null,
            "flex_flow": null,
            "grid_area": null,
            "grid_auto_columns": null,
            "grid_auto_flow": null,
            "grid_auto_rows": null,
            "grid_column": null,
            "grid_gap": null,
            "grid_row": null,
            "grid_template_areas": null,
            "grid_template_columns": null,
            "grid_template_rows": null,
            "height": null,
            "justify_content": null,
            "justify_items": null,
            "left": null,
            "margin": null,
            "max_height": null,
            "max_width": null,
            "min_height": null,
            "min_width": null,
            "object_fit": null,
            "object_position": null,
            "order": null,
            "overflow": null,
            "overflow_x": null,
            "overflow_y": null,
            "padding": null,
            "right": null,
            "top": null,
            "visibility": null,
            "width": null
          }
        },
        "d28e20b7b36d46c7b3dcbb9eca2830fc": {
          "model_module": "@jupyter-widgets/controls",
          "model_name": "ProgressStyleModel",
          "model_module_version": "1.5.0",
          "state": {
            "_model_module": "@jupyter-widgets/controls",
            "_model_module_version": "1.5.0",
            "_model_name": "ProgressStyleModel",
            "_view_count": null,
            "_view_module": "@jupyter-widgets/base",
            "_view_module_version": "1.2.0",
            "_view_name": "StyleView",
            "bar_color": null,
            "description_width": ""
          }
        },
        "57955e767b2d40f08ad51944a1db5539": {
          "model_module": "@jupyter-widgets/base",
          "model_name": "LayoutModel",
          "model_module_version": "1.2.0",
          "state": {
            "_model_module": "@jupyter-widgets/base",
            "_model_module_version": "1.2.0",
            "_model_name": "LayoutModel",
            "_view_count": null,
            "_view_module": "@jupyter-widgets/base",
            "_view_module_version": "1.2.0",
            "_view_name": "LayoutView",
            "align_content": null,
            "align_items": null,
            "align_self": null,
            "border": null,
            "bottom": null,
            "display": null,
            "flex": null,
            "flex_flow": null,
            "grid_area": null,
            "grid_auto_columns": null,
            "grid_auto_flow": null,
            "grid_auto_rows": null,
            "grid_column": null,
            "grid_gap": null,
            "grid_row": null,
            "grid_template_areas": null,
            "grid_template_columns": null,
            "grid_template_rows": null,
            "height": null,
            "justify_content": null,
            "justify_items": null,
            "left": null,
            "margin": null,
            "max_height": null,
            "max_width": null,
            "min_height": null,
            "min_width": null,
            "object_fit": null,
            "object_position": null,
            "order": null,
            "overflow": null,
            "overflow_x": null,
            "overflow_y": null,
            "padding": null,
            "right": null,
            "top": null,
            "visibility": null,
            "width": null
          }
        },
        "14749d20dbdb4621b22053db749cec88": {
          "model_module": "@jupyter-widgets/controls",
          "model_name": "DescriptionStyleModel",
          "model_module_version": "1.5.0",
          "state": {
            "_model_module": "@jupyter-widgets/controls",
            "_model_module_version": "1.5.0",
            "_model_name": "DescriptionStyleModel",
            "_view_count": null,
            "_view_module": "@jupyter-widgets/base",
            "_view_module_version": "1.2.0",
            "_view_name": "StyleView",
            "description_width": ""
          }
        },
        "ba34e2df6f174b64b1c7821aa9e648b5": {
          "model_module": "@jupyter-widgets/controls",
          "model_name": "HBoxModel",
          "model_module_version": "1.5.0",
          "state": {
            "_dom_classes": [],
            "_model_module": "@jupyter-widgets/controls",
            "_model_module_version": "1.5.0",
            "_model_name": "HBoxModel",
            "_view_count": null,
            "_view_module": "@jupyter-widgets/controls",
            "_view_module_version": "1.5.0",
            "_view_name": "HBoxView",
            "box_style": "",
            "children": [
              "IPY_MODEL_fe6b3c21b31447198bddf3359ba99f59",
              "IPY_MODEL_d620815af08a4a279000888303f1625a",
              "IPY_MODEL_4e2be7a98f5e49d9a53dbbb36c68e7dd"
            ],
            "layout": "IPY_MODEL_301a95cbe04d4b7cb255fb906a5aa9f2"
          }
        },
        "fe6b3c21b31447198bddf3359ba99f59": {
          "model_module": "@jupyter-widgets/controls",
          "model_name": "HTMLModel",
          "model_module_version": "1.5.0",
          "state": {
            "_dom_classes": [],
            "_model_module": "@jupyter-widgets/controls",
            "_model_module_version": "1.5.0",
            "_model_name": "HTMLModel",
            "_view_count": null,
            "_view_module": "@jupyter-widgets/controls",
            "_view_module_version": "1.5.0",
            "_view_name": "HTMLView",
            "description": "",
            "description_tooltip": null,
            "layout": "IPY_MODEL_8f48333b62a4485a82503755eb02f4eb",
            "placeholder": "​",
            "style": "IPY_MODEL_71adaa20ad6e4b7aafda0782a46b477d",
            "value": "100%"
          }
        },
        "d620815af08a4a279000888303f1625a": {
          "model_module": "@jupyter-widgets/controls",
          "model_name": "FloatProgressModel",
          "model_module_version": "1.5.0",
          "state": {
            "_dom_classes": [],
            "_model_module": "@jupyter-widgets/controls",
            "_model_module_version": "1.5.0",
            "_model_name": "FloatProgressModel",
            "_view_count": null,
            "_view_module": "@jupyter-widgets/controls",
            "_view_module_version": "1.5.0",
            "_view_name": "ProgressView",
            "bar_style": "success",
            "description": "",
            "description_tooltip": null,
            "layout": "IPY_MODEL_dfc528996c854bdc825aebf98967fe9a",
            "max": 29515,
            "min": 0,
            "orientation": "horizontal",
            "style": "IPY_MODEL_1bc73bcc7873471ebb0b19055496ccd3",
            "value": 29515
          }
        },
        "4e2be7a98f5e49d9a53dbbb36c68e7dd": {
          "model_module": "@jupyter-widgets/controls",
          "model_name": "HTMLModel",
          "model_module_version": "1.5.0",
          "state": {
            "_dom_classes": [],
            "_model_module": "@jupyter-widgets/controls",
            "_model_module_version": "1.5.0",
            "_model_name": "HTMLModel",
            "_view_count": null,
            "_view_module": "@jupyter-widgets/controls",
            "_view_module_version": "1.5.0",
            "_view_name": "HTMLView",
            "description": "",
            "description_tooltip": null,
            "layout": "IPY_MODEL_20e4d60a73a64d81b3b6ac98ab1f0583",
            "placeholder": "​",
            "style": "IPY_MODEL_482b8a02bb374d6884adb987c9999f96",
            "value": " 29515/29515 [00:00&lt;00:00, 266122.54it/s]"
          }
        },
        "301a95cbe04d4b7cb255fb906a5aa9f2": {
          "model_module": "@jupyter-widgets/base",
          "model_name": "LayoutModel",
          "model_module_version": "1.2.0",
          "state": {
            "_model_module": "@jupyter-widgets/base",
            "_model_module_version": "1.2.0",
            "_model_name": "LayoutModel",
            "_view_count": null,
            "_view_module": "@jupyter-widgets/base",
            "_view_module_version": "1.2.0",
            "_view_name": "LayoutView",
            "align_content": null,
            "align_items": null,
            "align_self": null,
            "border": null,
            "bottom": null,
            "display": null,
            "flex": null,
            "flex_flow": null,
            "grid_area": null,
            "grid_auto_columns": null,
            "grid_auto_flow": null,
            "grid_auto_rows": null,
            "grid_column": null,
            "grid_gap": null,
            "grid_row": null,
            "grid_template_areas": null,
            "grid_template_columns": null,
            "grid_template_rows": null,
            "height": null,
            "justify_content": null,
            "justify_items": null,
            "left": null,
            "margin": null,
            "max_height": null,
            "max_width": null,
            "min_height": null,
            "min_width": null,
            "object_fit": null,
            "object_position": null,
            "order": null,
            "overflow": null,
            "overflow_x": null,
            "overflow_y": null,
            "padding": null,
            "right": null,
            "top": null,
            "visibility": null,
            "width": null
          }
        },
        "8f48333b62a4485a82503755eb02f4eb": {
          "model_module": "@jupyter-widgets/base",
          "model_name": "LayoutModel",
          "model_module_version": "1.2.0",
          "state": {
            "_model_module": "@jupyter-widgets/base",
            "_model_module_version": "1.2.0",
            "_model_name": "LayoutModel",
            "_view_count": null,
            "_view_module": "@jupyter-widgets/base",
            "_view_module_version": "1.2.0",
            "_view_name": "LayoutView",
            "align_content": null,
            "align_items": null,
            "align_self": null,
            "border": null,
            "bottom": null,
            "display": null,
            "flex": null,
            "flex_flow": null,
            "grid_area": null,
            "grid_auto_columns": null,
            "grid_auto_flow": null,
            "grid_auto_rows": null,
            "grid_column": null,
            "grid_gap": null,
            "grid_row": null,
            "grid_template_areas": null,
            "grid_template_columns": null,
            "grid_template_rows": null,
            "height": null,
            "justify_content": null,
            "justify_items": null,
            "left": null,
            "margin": null,
            "max_height": null,
            "max_width": null,
            "min_height": null,
            "min_width": null,
            "object_fit": null,
            "object_position": null,
            "order": null,
            "overflow": null,
            "overflow_x": null,
            "overflow_y": null,
            "padding": null,
            "right": null,
            "top": null,
            "visibility": null,
            "width": null
          }
        },
        "71adaa20ad6e4b7aafda0782a46b477d": {
          "model_module": "@jupyter-widgets/controls",
          "model_name": "DescriptionStyleModel",
          "model_module_version": "1.5.0",
          "state": {
            "_model_module": "@jupyter-widgets/controls",
            "_model_module_version": "1.5.0",
            "_model_name": "DescriptionStyleModel",
            "_view_count": null,
            "_view_module": "@jupyter-widgets/base",
            "_view_module_version": "1.2.0",
            "_view_name": "StyleView",
            "description_width": ""
          }
        },
        "dfc528996c854bdc825aebf98967fe9a": {
          "model_module": "@jupyter-widgets/base",
          "model_name": "LayoutModel",
          "model_module_version": "1.2.0",
          "state": {
            "_model_module": "@jupyter-widgets/base",
            "_model_module_version": "1.2.0",
            "_model_name": "LayoutModel",
            "_view_count": null,
            "_view_module": "@jupyter-widgets/base",
            "_view_module_version": "1.2.0",
            "_view_name": "LayoutView",
            "align_content": null,
            "align_items": null,
            "align_self": null,
            "border": null,
            "bottom": null,
            "display": null,
            "flex": null,
            "flex_flow": null,
            "grid_area": null,
            "grid_auto_columns": null,
            "grid_auto_flow": null,
            "grid_auto_rows": null,
            "grid_column": null,
            "grid_gap": null,
            "grid_row": null,
            "grid_template_areas": null,
            "grid_template_columns": null,
            "grid_template_rows": null,
            "height": null,
            "justify_content": null,
            "justify_items": null,
            "left": null,
            "margin": null,
            "max_height": null,
            "max_width": null,
            "min_height": null,
            "min_width": null,
            "object_fit": null,
            "object_position": null,
            "order": null,
            "overflow": null,
            "overflow_x": null,
            "overflow_y": null,
            "padding": null,
            "right": null,
            "top": null,
            "visibility": null,
            "width": null
          }
        },
        "1bc73bcc7873471ebb0b19055496ccd3": {
          "model_module": "@jupyter-widgets/controls",
          "model_name": "ProgressStyleModel",
          "model_module_version": "1.5.0",
          "state": {
            "_model_module": "@jupyter-widgets/controls",
            "_model_module_version": "1.5.0",
            "_model_name": "ProgressStyleModel",
            "_view_count": null,
            "_view_module": "@jupyter-widgets/base",
            "_view_module_version": "1.2.0",
            "_view_name": "StyleView",
            "bar_color": null,
            "description_width": ""
          }
        },
        "20e4d60a73a64d81b3b6ac98ab1f0583": {
          "model_module": "@jupyter-widgets/base",
          "model_name": "LayoutModel",
          "model_module_version": "1.2.0",
          "state": {
            "_model_module": "@jupyter-widgets/base",
            "_model_module_version": "1.2.0",
            "_model_name": "LayoutModel",
            "_view_count": null,
            "_view_module": "@jupyter-widgets/base",
            "_view_module_version": "1.2.0",
            "_view_name": "LayoutView",
            "align_content": null,
            "align_items": null,
            "align_self": null,
            "border": null,
            "bottom": null,
            "display": null,
            "flex": null,
            "flex_flow": null,
            "grid_area": null,
            "grid_auto_columns": null,
            "grid_auto_flow": null,
            "grid_auto_rows": null,
            "grid_column": null,
            "grid_gap": null,
            "grid_row": null,
            "grid_template_areas": null,
            "grid_template_columns": null,
            "grid_template_rows": null,
            "height": null,
            "justify_content": null,
            "justify_items": null,
            "left": null,
            "margin": null,
            "max_height": null,
            "max_width": null,
            "min_height": null,
            "min_width": null,
            "object_fit": null,
            "object_position": null,
            "order": null,
            "overflow": null,
            "overflow_x": null,
            "overflow_y": null,
            "padding": null,
            "right": null,
            "top": null,
            "visibility": null,
            "width": null
          }
        },
        "482b8a02bb374d6884adb987c9999f96": {
          "model_module": "@jupyter-widgets/controls",
          "model_name": "DescriptionStyleModel",
          "model_module_version": "1.5.0",
          "state": {
            "_model_module": "@jupyter-widgets/controls",
            "_model_module_version": "1.5.0",
            "_model_name": "DescriptionStyleModel",
            "_view_count": null,
            "_view_module": "@jupyter-widgets/base",
            "_view_module_version": "1.2.0",
            "_view_name": "StyleView",
            "description_width": ""
          }
        },
        "b687003e8e014e21bdb69106e7c788db": {
          "model_module": "@jupyter-widgets/controls",
          "model_name": "HBoxModel",
          "model_module_version": "1.5.0",
          "state": {
            "_dom_classes": [],
            "_model_module": "@jupyter-widgets/controls",
            "_model_module_version": "1.5.0",
            "_model_name": "HBoxModel",
            "_view_count": null,
            "_view_module": "@jupyter-widgets/controls",
            "_view_module_version": "1.5.0",
            "_view_name": "HBoxView",
            "box_style": "",
            "children": [
              "IPY_MODEL_7a12f674e5654b6cad7f2aa0fa3687e7",
              "IPY_MODEL_2c0886a863bd46379c95b23d53709c39",
              "IPY_MODEL_369bb87c4c0840f2ba61fd7373b81809"
            ],
            "layout": "IPY_MODEL_cd4c27f3ec2d4f2c820a4ae1f4ed0432"
          }
        },
        "7a12f674e5654b6cad7f2aa0fa3687e7": {
          "model_module": "@jupyter-widgets/controls",
          "model_name": "HTMLModel",
          "model_module_version": "1.5.0",
          "state": {
            "_dom_classes": [],
            "_model_module": "@jupyter-widgets/controls",
            "_model_module_version": "1.5.0",
            "_model_name": "HTMLModel",
            "_view_count": null,
            "_view_module": "@jupyter-widgets/controls",
            "_view_module_version": "1.5.0",
            "_view_name": "HTMLView",
            "description": "",
            "description_tooltip": null,
            "layout": "IPY_MODEL_7b950770fafc4c17aad11d48556792e0",
            "placeholder": "​",
            "style": "IPY_MODEL_bd0edff4fb9c47f49f9699719853b350",
            "value": "100%"
          }
        },
        "2c0886a863bd46379c95b23d53709c39": {
          "model_module": "@jupyter-widgets/controls",
          "model_name": "FloatProgressModel",
          "model_module_version": "1.5.0",
          "state": {
            "_dom_classes": [],
            "_model_module": "@jupyter-widgets/controls",
            "_model_module_version": "1.5.0",
            "_model_name": "FloatProgressModel",
            "_view_count": null,
            "_view_module": "@jupyter-widgets/controls",
            "_view_module_version": "1.5.0",
            "_view_name": "ProgressView",
            "bar_style": "success",
            "description": "",
            "description_tooltip": null,
            "layout": "IPY_MODEL_6f30bd33e57a49f5b081694234edab3c",
            "max": 4422102,
            "min": 0,
            "orientation": "horizontal",
            "style": "IPY_MODEL_3c7da971a1674736825c2b5022b1f73e",
            "value": 4422102
          }
        },
        "369bb87c4c0840f2ba61fd7373b81809": {
          "model_module": "@jupyter-widgets/controls",
          "model_name": "HTMLModel",
          "model_module_version": "1.5.0",
          "state": {
            "_dom_classes": [],
            "_model_module": "@jupyter-widgets/controls",
            "_model_module_version": "1.5.0",
            "_model_name": "HTMLModel",
            "_view_count": null,
            "_view_module": "@jupyter-widgets/controls",
            "_view_module_version": "1.5.0",
            "_view_name": "HTMLView",
            "description": "",
            "description_tooltip": null,
            "layout": "IPY_MODEL_7d6209b219ac4783a605fb1bdc57db13",
            "placeholder": "​",
            "style": "IPY_MODEL_ac064dfcbd7148aeb445817608102926",
            "value": " 4422102/4422102 [00:00&lt;00:00, 8442331.42it/s]"
          }
        },
        "cd4c27f3ec2d4f2c820a4ae1f4ed0432": {
          "model_module": "@jupyter-widgets/base",
          "model_name": "LayoutModel",
          "model_module_version": "1.2.0",
          "state": {
            "_model_module": "@jupyter-widgets/base",
            "_model_module_version": "1.2.0",
            "_model_name": "LayoutModel",
            "_view_count": null,
            "_view_module": "@jupyter-widgets/base",
            "_view_module_version": "1.2.0",
            "_view_name": "LayoutView",
            "align_content": null,
            "align_items": null,
            "align_self": null,
            "border": null,
            "bottom": null,
            "display": null,
            "flex": null,
            "flex_flow": null,
            "grid_area": null,
            "grid_auto_columns": null,
            "grid_auto_flow": null,
            "grid_auto_rows": null,
            "grid_column": null,
            "grid_gap": null,
            "grid_row": null,
            "grid_template_areas": null,
            "grid_template_columns": null,
            "grid_template_rows": null,
            "height": null,
            "justify_content": null,
            "justify_items": null,
            "left": null,
            "margin": null,
            "max_height": null,
            "max_width": null,
            "min_height": null,
            "min_width": null,
            "object_fit": null,
            "object_position": null,
            "order": null,
            "overflow": null,
            "overflow_x": null,
            "overflow_y": null,
            "padding": null,
            "right": null,
            "top": null,
            "visibility": null,
            "width": null
          }
        },
        "7b950770fafc4c17aad11d48556792e0": {
          "model_module": "@jupyter-widgets/base",
          "model_name": "LayoutModel",
          "model_module_version": "1.2.0",
          "state": {
            "_model_module": "@jupyter-widgets/base",
            "_model_module_version": "1.2.0",
            "_model_name": "LayoutModel",
            "_view_count": null,
            "_view_module": "@jupyter-widgets/base",
            "_view_module_version": "1.2.0",
            "_view_name": "LayoutView",
            "align_content": null,
            "align_items": null,
            "align_self": null,
            "border": null,
            "bottom": null,
            "display": null,
            "flex": null,
            "flex_flow": null,
            "grid_area": null,
            "grid_auto_columns": null,
            "grid_auto_flow": null,
            "grid_auto_rows": null,
            "grid_column": null,
            "grid_gap": null,
            "grid_row": null,
            "grid_template_areas": null,
            "grid_template_columns": null,
            "grid_template_rows": null,
            "height": null,
            "justify_content": null,
            "justify_items": null,
            "left": null,
            "margin": null,
            "max_height": null,
            "max_width": null,
            "min_height": null,
            "min_width": null,
            "object_fit": null,
            "object_position": null,
            "order": null,
            "overflow": null,
            "overflow_x": null,
            "overflow_y": null,
            "padding": null,
            "right": null,
            "top": null,
            "visibility": null,
            "width": null
          }
        },
        "bd0edff4fb9c47f49f9699719853b350": {
          "model_module": "@jupyter-widgets/controls",
          "model_name": "DescriptionStyleModel",
          "model_module_version": "1.5.0",
          "state": {
            "_model_module": "@jupyter-widgets/controls",
            "_model_module_version": "1.5.0",
            "_model_name": "DescriptionStyleModel",
            "_view_count": null,
            "_view_module": "@jupyter-widgets/base",
            "_view_module_version": "1.2.0",
            "_view_name": "StyleView",
            "description_width": ""
          }
        },
        "6f30bd33e57a49f5b081694234edab3c": {
          "model_module": "@jupyter-widgets/base",
          "model_name": "LayoutModel",
          "model_module_version": "1.2.0",
          "state": {
            "_model_module": "@jupyter-widgets/base",
            "_model_module_version": "1.2.0",
            "_model_name": "LayoutModel",
            "_view_count": null,
            "_view_module": "@jupyter-widgets/base",
            "_view_module_version": "1.2.0",
            "_view_name": "LayoutView",
            "align_content": null,
            "align_items": null,
            "align_self": null,
            "border": null,
            "bottom": null,
            "display": null,
            "flex": null,
            "flex_flow": null,
            "grid_area": null,
            "grid_auto_columns": null,
            "grid_auto_flow": null,
            "grid_auto_rows": null,
            "grid_column": null,
            "grid_gap": null,
            "grid_row": null,
            "grid_template_areas": null,
            "grid_template_columns": null,
            "grid_template_rows": null,
            "height": null,
            "justify_content": null,
            "justify_items": null,
            "left": null,
            "margin": null,
            "max_height": null,
            "max_width": null,
            "min_height": null,
            "min_width": null,
            "object_fit": null,
            "object_position": null,
            "order": null,
            "overflow": null,
            "overflow_x": null,
            "overflow_y": null,
            "padding": null,
            "right": null,
            "top": null,
            "visibility": null,
            "width": null
          }
        },
        "3c7da971a1674736825c2b5022b1f73e": {
          "model_module": "@jupyter-widgets/controls",
          "model_name": "ProgressStyleModel",
          "model_module_version": "1.5.0",
          "state": {
            "_model_module": "@jupyter-widgets/controls",
            "_model_module_version": "1.5.0",
            "_model_name": "ProgressStyleModel",
            "_view_count": null,
            "_view_module": "@jupyter-widgets/base",
            "_view_module_version": "1.2.0",
            "_view_name": "StyleView",
            "bar_color": null,
            "description_width": ""
          }
        },
        "7d6209b219ac4783a605fb1bdc57db13": {
          "model_module": "@jupyter-widgets/base",
          "model_name": "LayoutModel",
          "model_module_version": "1.2.0",
          "state": {
            "_model_module": "@jupyter-widgets/base",
            "_model_module_version": "1.2.0",
            "_model_name": "LayoutModel",
            "_view_count": null,
            "_view_module": "@jupyter-widgets/base",
            "_view_module_version": "1.2.0",
            "_view_name": "LayoutView",
            "align_content": null,
            "align_items": null,
            "align_self": null,
            "border": null,
            "bottom": null,
            "display": null,
            "flex": null,
            "flex_flow": null,
            "grid_area": null,
            "grid_auto_columns": null,
            "grid_auto_flow": null,
            "grid_auto_rows": null,
            "grid_column": null,
            "grid_gap": null,
            "grid_row": null,
            "grid_template_areas": null,
            "grid_template_columns": null,
            "grid_template_rows": null,
            "height": null,
            "justify_content": null,
            "justify_items": null,
            "left": null,
            "margin": null,
            "max_height": null,
            "max_width": null,
            "min_height": null,
            "min_width": null,
            "object_fit": null,
            "object_position": null,
            "order": null,
            "overflow": null,
            "overflow_x": null,
            "overflow_y": null,
            "padding": null,
            "right": null,
            "top": null,
            "visibility": null,
            "width": null
          }
        },
        "ac064dfcbd7148aeb445817608102926": {
          "model_module": "@jupyter-widgets/controls",
          "model_name": "DescriptionStyleModel",
          "model_module_version": "1.5.0",
          "state": {
            "_model_module": "@jupyter-widgets/controls",
            "_model_module_version": "1.5.0",
            "_model_name": "DescriptionStyleModel",
            "_view_count": null,
            "_view_module": "@jupyter-widgets/base",
            "_view_module_version": "1.2.0",
            "_view_name": "StyleView",
            "description_width": ""
          }
        },
        "082e33ab1fdd4e0c84e0ef862b0190b8": {
          "model_module": "@jupyter-widgets/controls",
          "model_name": "HBoxModel",
          "model_module_version": "1.5.0",
          "state": {
            "_dom_classes": [],
            "_model_module": "@jupyter-widgets/controls",
            "_model_module_version": "1.5.0",
            "_model_name": "HBoxModel",
            "_view_count": null,
            "_view_module": "@jupyter-widgets/controls",
            "_view_module_version": "1.5.0",
            "_view_name": "HBoxView",
            "box_style": "",
            "children": [
              "IPY_MODEL_c1cce94234484d4998f6bcc600987efc",
              "IPY_MODEL_5e87147264fa4c25b266cdb617cc031b",
              "IPY_MODEL_5bc6509827854fad98f97b6ac2540e99"
            ],
            "layout": "IPY_MODEL_58a75247198d4bf38f679a60346a61ab"
          }
        },
        "c1cce94234484d4998f6bcc600987efc": {
          "model_module": "@jupyter-widgets/controls",
          "model_name": "HTMLModel",
          "model_module_version": "1.5.0",
          "state": {
            "_dom_classes": [],
            "_model_module": "@jupyter-widgets/controls",
            "_model_module_version": "1.5.0",
            "_model_name": "HTMLModel",
            "_view_count": null,
            "_view_module": "@jupyter-widgets/controls",
            "_view_module_version": "1.5.0",
            "_view_name": "HTMLView",
            "description": "",
            "description_tooltip": null,
            "layout": "IPY_MODEL_91418ed789f34a3898c1edca7faa81d9",
            "placeholder": "​",
            "style": "IPY_MODEL_3f231e815e074ed0a051fcd1b4434e81",
            "value": "100%"
          }
        },
        "5e87147264fa4c25b266cdb617cc031b": {
          "model_module": "@jupyter-widgets/controls",
          "model_name": "FloatProgressModel",
          "model_module_version": "1.5.0",
          "state": {
            "_dom_classes": [],
            "_model_module": "@jupyter-widgets/controls",
            "_model_module_version": "1.5.0",
            "_model_name": "FloatProgressModel",
            "_view_count": null,
            "_view_module": "@jupyter-widgets/controls",
            "_view_module_version": "1.5.0",
            "_view_name": "ProgressView",
            "bar_style": "success",
            "description": "",
            "description_tooltip": null,
            "layout": "IPY_MODEL_3734289ec8f74daaabaab7cfcbb22856",
            "max": 5148,
            "min": 0,
            "orientation": "horizontal",
            "style": "IPY_MODEL_3308fd98c2ad4e978340d13b7ae46e52",
            "value": 5148
          }
        },
        "5bc6509827854fad98f97b6ac2540e99": {
          "model_module": "@jupyter-widgets/controls",
          "model_name": "HTMLModel",
          "model_module_version": "1.5.0",
          "state": {
            "_dom_classes": [],
            "_model_module": "@jupyter-widgets/controls",
            "_model_module_version": "1.5.0",
            "_model_name": "HTMLModel",
            "_view_count": null,
            "_view_module": "@jupyter-widgets/controls",
            "_view_module_version": "1.5.0",
            "_view_name": "HTMLView",
            "description": "",
            "description_tooltip": null,
            "layout": "IPY_MODEL_1338ae8fbe694cc187abfb4b75491b94",
            "placeholder": "​",
            "style": "IPY_MODEL_5e970568ef204f2480e2bee1090e513c",
            "value": " 5148/5148 [00:00&lt;00:00, 105113.85it/s]"
          }
        },
        "58a75247198d4bf38f679a60346a61ab": {
          "model_module": "@jupyter-widgets/base",
          "model_name": "LayoutModel",
          "model_module_version": "1.2.0",
          "state": {
            "_model_module": "@jupyter-widgets/base",
            "_model_module_version": "1.2.0",
            "_model_name": "LayoutModel",
            "_view_count": null,
            "_view_module": "@jupyter-widgets/base",
            "_view_module_version": "1.2.0",
            "_view_name": "LayoutView",
            "align_content": null,
            "align_items": null,
            "align_self": null,
            "border": null,
            "bottom": null,
            "display": null,
            "flex": null,
            "flex_flow": null,
            "grid_area": null,
            "grid_auto_columns": null,
            "grid_auto_flow": null,
            "grid_auto_rows": null,
            "grid_column": null,
            "grid_gap": null,
            "grid_row": null,
            "grid_template_areas": null,
            "grid_template_columns": null,
            "grid_template_rows": null,
            "height": null,
            "justify_content": null,
            "justify_items": null,
            "left": null,
            "margin": null,
            "max_height": null,
            "max_width": null,
            "min_height": null,
            "min_width": null,
            "object_fit": null,
            "object_position": null,
            "order": null,
            "overflow": null,
            "overflow_x": null,
            "overflow_y": null,
            "padding": null,
            "right": null,
            "top": null,
            "visibility": null,
            "width": null
          }
        },
        "91418ed789f34a3898c1edca7faa81d9": {
          "model_module": "@jupyter-widgets/base",
          "model_name": "LayoutModel",
          "model_module_version": "1.2.0",
          "state": {
            "_model_module": "@jupyter-widgets/base",
            "_model_module_version": "1.2.0",
            "_model_name": "LayoutModel",
            "_view_count": null,
            "_view_module": "@jupyter-widgets/base",
            "_view_module_version": "1.2.0",
            "_view_name": "LayoutView",
            "align_content": null,
            "align_items": null,
            "align_self": null,
            "border": null,
            "bottom": null,
            "display": null,
            "flex": null,
            "flex_flow": null,
            "grid_area": null,
            "grid_auto_columns": null,
            "grid_auto_flow": null,
            "grid_auto_rows": null,
            "grid_column": null,
            "grid_gap": null,
            "grid_row": null,
            "grid_template_areas": null,
            "grid_template_columns": null,
            "grid_template_rows": null,
            "height": null,
            "justify_content": null,
            "justify_items": null,
            "left": null,
            "margin": null,
            "max_height": null,
            "max_width": null,
            "min_height": null,
            "min_width": null,
            "object_fit": null,
            "object_position": null,
            "order": null,
            "overflow": null,
            "overflow_x": null,
            "overflow_y": null,
            "padding": null,
            "right": null,
            "top": null,
            "visibility": null,
            "width": null
          }
        },
        "3f231e815e074ed0a051fcd1b4434e81": {
          "model_module": "@jupyter-widgets/controls",
          "model_name": "DescriptionStyleModel",
          "model_module_version": "1.5.0",
          "state": {
            "_model_module": "@jupyter-widgets/controls",
            "_model_module_version": "1.5.0",
            "_model_name": "DescriptionStyleModel",
            "_view_count": null,
            "_view_module": "@jupyter-widgets/base",
            "_view_module_version": "1.2.0",
            "_view_name": "StyleView",
            "description_width": ""
          }
        },
        "3734289ec8f74daaabaab7cfcbb22856": {
          "model_module": "@jupyter-widgets/base",
          "model_name": "LayoutModel",
          "model_module_version": "1.2.0",
          "state": {
            "_model_module": "@jupyter-widgets/base",
            "_model_module_version": "1.2.0",
            "_model_name": "LayoutModel",
            "_view_count": null,
            "_view_module": "@jupyter-widgets/base",
            "_view_module_version": "1.2.0",
            "_view_name": "LayoutView",
            "align_content": null,
            "align_items": null,
            "align_self": null,
            "border": null,
            "bottom": null,
            "display": null,
            "flex": null,
            "flex_flow": null,
            "grid_area": null,
            "grid_auto_columns": null,
            "grid_auto_flow": null,
            "grid_auto_rows": null,
            "grid_column": null,
            "grid_gap": null,
            "grid_row": null,
            "grid_template_areas": null,
            "grid_template_columns": null,
            "grid_template_rows": null,
            "height": null,
            "justify_content": null,
            "justify_items": null,
            "left": null,
            "margin": null,
            "max_height": null,
            "max_width": null,
            "min_height": null,
            "min_width": null,
            "object_fit": null,
            "object_position": null,
            "order": null,
            "overflow": null,
            "overflow_x": null,
            "overflow_y": null,
            "padding": null,
            "right": null,
            "top": null,
            "visibility": null,
            "width": null
          }
        },
        "3308fd98c2ad4e978340d13b7ae46e52": {
          "model_module": "@jupyter-widgets/controls",
          "model_name": "ProgressStyleModel",
          "model_module_version": "1.5.0",
          "state": {
            "_model_module": "@jupyter-widgets/controls",
            "_model_module_version": "1.5.0",
            "_model_name": "ProgressStyleModel",
            "_view_count": null,
            "_view_module": "@jupyter-widgets/base",
            "_view_module_version": "1.2.0",
            "_view_name": "StyleView",
            "bar_color": null,
            "description_width": ""
          }
        },
        "1338ae8fbe694cc187abfb4b75491b94": {
          "model_module": "@jupyter-widgets/base",
          "model_name": "LayoutModel",
          "model_module_version": "1.2.0",
          "state": {
            "_model_module": "@jupyter-widgets/base",
            "_model_module_version": "1.2.0",
            "_model_name": "LayoutModel",
            "_view_count": null,
            "_view_module": "@jupyter-widgets/base",
            "_view_module_version": "1.2.0",
            "_view_name": "LayoutView",
            "align_content": null,
            "align_items": null,
            "align_self": null,
            "border": null,
            "bottom": null,
            "display": null,
            "flex": null,
            "flex_flow": null,
            "grid_area": null,
            "grid_auto_columns": null,
            "grid_auto_flow": null,
            "grid_auto_rows": null,
            "grid_column": null,
            "grid_gap": null,
            "grid_row": null,
            "grid_template_areas": null,
            "grid_template_columns": null,
            "grid_template_rows": null,
            "height": null,
            "justify_content": null,
            "justify_items": null,
            "left": null,
            "margin": null,
            "max_height": null,
            "max_width": null,
            "min_height": null,
            "min_width": null,
            "object_fit": null,
            "object_position": null,
            "order": null,
            "overflow": null,
            "overflow_x": null,
            "overflow_y": null,
            "padding": null,
            "right": null,
            "top": null,
            "visibility": null,
            "width": null
          }
        },
        "5e970568ef204f2480e2bee1090e513c": {
          "model_module": "@jupyter-widgets/controls",
          "model_name": "DescriptionStyleModel",
          "model_module_version": "1.5.0",
          "state": {
            "_model_module": "@jupyter-widgets/controls",
            "_model_module_version": "1.5.0",
            "_model_name": "DescriptionStyleModel",
            "_view_count": null,
            "_view_module": "@jupyter-widgets/base",
            "_view_module_version": "1.2.0",
            "_view_name": "StyleView",
            "description_width": ""
          }
        },
        "3714b89b30a049e3a56aefd37665a0aa": {
          "model_module": "@jupyter-widgets/controls",
          "model_name": "HBoxModel",
          "model_module_version": "1.5.0",
          "state": {
            "_dom_classes": [],
            "_model_module": "@jupyter-widgets/controls",
            "_model_module_version": "1.5.0",
            "_model_name": "HBoxModel",
            "_view_count": null,
            "_view_module": "@jupyter-widgets/controls",
            "_view_module_version": "1.5.0",
            "_view_name": "HBoxView",
            "box_style": "",
            "children": [
              "IPY_MODEL_058a3e6a94054ad7a6eafe246b3c4df9",
              "IPY_MODEL_b51e7b39a7e4463b9a4fca0a44bacbd1",
              "IPY_MODEL_ab2d6425cbc04587b7dcf4b600f493ec"
            ],
            "layout": "IPY_MODEL_75f892a62b1046ca8e2de46206ea98fe"
          }
        },
        "058a3e6a94054ad7a6eafe246b3c4df9": {
          "model_module": "@jupyter-widgets/controls",
          "model_name": "HTMLModel",
          "model_module_version": "1.5.0",
          "state": {
            "_dom_classes": [],
            "_model_module": "@jupyter-widgets/controls",
            "_model_module_version": "1.5.0",
            "_model_name": "HTMLModel",
            "_view_count": null,
            "_view_module": "@jupyter-widgets/controls",
            "_view_module_version": "1.5.0",
            "_view_name": "HTMLView",
            "description": "",
            "description_tooltip": null,
            "layout": "IPY_MODEL_231ae5db8fec4f949c2320d9b8353cc5",
            "placeholder": "​",
            "style": "IPY_MODEL_0346149597c04291964ca32098cdb92b",
            "value": "100%"
          }
        },
        "b51e7b39a7e4463b9a4fca0a44bacbd1": {
          "model_module": "@jupyter-widgets/controls",
          "model_name": "FloatProgressModel",
          "model_module_version": "1.5.0",
          "state": {
            "_dom_classes": [],
            "_model_module": "@jupyter-widgets/controls",
            "_model_module_version": "1.5.0",
            "_model_name": "FloatProgressModel",
            "_view_count": null,
            "_view_module": "@jupyter-widgets/controls",
            "_view_module_version": "1.5.0",
            "_view_name": "ProgressView",
            "bar_style": "success",
            "description": "",
            "description_tooltip": null,
            "layout": "IPY_MODEL_ac20198d3edd45bc8d0c7b27cf549cd1",
            "max": 26421880,
            "min": 0,
            "orientation": "horizontal",
            "style": "IPY_MODEL_362036ac4dda4d018c4757bd4174ddc1",
            "value": 26421880
          }
        },
        "ab2d6425cbc04587b7dcf4b600f493ec": {
          "model_module": "@jupyter-widgets/controls",
          "model_name": "HTMLModel",
          "model_module_version": "1.5.0",
          "state": {
            "_dom_classes": [],
            "_model_module": "@jupyter-widgets/controls",
            "_model_module_version": "1.5.0",
            "_model_name": "HTMLModel",
            "_view_count": null,
            "_view_module": "@jupyter-widgets/controls",
            "_view_module_version": "1.5.0",
            "_view_name": "HTMLView",
            "description": "",
            "description_tooltip": null,
            "layout": "IPY_MODEL_34f3f356854d4ad1ac1c79acd340188b",
            "placeholder": "​",
            "style": "IPY_MODEL_2bbccf081abc457cb2774da47f3c34d2",
            "value": " 26421880/26421880 [00:03&lt;00:00, 13570512.54it/s]"
          }
        },
        "75f892a62b1046ca8e2de46206ea98fe": {
          "model_module": "@jupyter-widgets/base",
          "model_name": "LayoutModel",
          "model_module_version": "1.2.0",
          "state": {
            "_model_module": "@jupyter-widgets/base",
            "_model_module_version": "1.2.0",
            "_model_name": "LayoutModel",
            "_view_count": null,
            "_view_module": "@jupyter-widgets/base",
            "_view_module_version": "1.2.0",
            "_view_name": "LayoutView",
            "align_content": null,
            "align_items": null,
            "align_self": null,
            "border": null,
            "bottom": null,
            "display": null,
            "flex": null,
            "flex_flow": null,
            "grid_area": null,
            "grid_auto_columns": null,
            "grid_auto_flow": null,
            "grid_auto_rows": null,
            "grid_column": null,
            "grid_gap": null,
            "grid_row": null,
            "grid_template_areas": null,
            "grid_template_columns": null,
            "grid_template_rows": null,
            "height": null,
            "justify_content": null,
            "justify_items": null,
            "left": null,
            "margin": null,
            "max_height": null,
            "max_width": null,
            "min_height": null,
            "min_width": null,
            "object_fit": null,
            "object_position": null,
            "order": null,
            "overflow": null,
            "overflow_x": null,
            "overflow_y": null,
            "padding": null,
            "right": null,
            "top": null,
            "visibility": null,
            "width": null
          }
        },
        "231ae5db8fec4f949c2320d9b8353cc5": {
          "model_module": "@jupyter-widgets/base",
          "model_name": "LayoutModel",
          "model_module_version": "1.2.0",
          "state": {
            "_model_module": "@jupyter-widgets/base",
            "_model_module_version": "1.2.0",
            "_model_name": "LayoutModel",
            "_view_count": null,
            "_view_module": "@jupyter-widgets/base",
            "_view_module_version": "1.2.0",
            "_view_name": "LayoutView",
            "align_content": null,
            "align_items": null,
            "align_self": null,
            "border": null,
            "bottom": null,
            "display": null,
            "flex": null,
            "flex_flow": null,
            "grid_area": null,
            "grid_auto_columns": null,
            "grid_auto_flow": null,
            "grid_auto_rows": null,
            "grid_column": null,
            "grid_gap": null,
            "grid_row": null,
            "grid_template_areas": null,
            "grid_template_columns": null,
            "grid_template_rows": null,
            "height": null,
            "justify_content": null,
            "justify_items": null,
            "left": null,
            "margin": null,
            "max_height": null,
            "max_width": null,
            "min_height": null,
            "min_width": null,
            "object_fit": null,
            "object_position": null,
            "order": null,
            "overflow": null,
            "overflow_x": null,
            "overflow_y": null,
            "padding": null,
            "right": null,
            "top": null,
            "visibility": null,
            "width": null
          }
        },
        "0346149597c04291964ca32098cdb92b": {
          "model_module": "@jupyter-widgets/controls",
          "model_name": "DescriptionStyleModel",
          "model_module_version": "1.5.0",
          "state": {
            "_model_module": "@jupyter-widgets/controls",
            "_model_module_version": "1.5.0",
            "_model_name": "DescriptionStyleModel",
            "_view_count": null,
            "_view_module": "@jupyter-widgets/base",
            "_view_module_version": "1.2.0",
            "_view_name": "StyleView",
            "description_width": ""
          }
        },
        "ac20198d3edd45bc8d0c7b27cf549cd1": {
          "model_module": "@jupyter-widgets/base",
          "model_name": "LayoutModel",
          "model_module_version": "1.2.0",
          "state": {
            "_model_module": "@jupyter-widgets/base",
            "_model_module_version": "1.2.0",
            "_model_name": "LayoutModel",
            "_view_count": null,
            "_view_module": "@jupyter-widgets/base",
            "_view_module_version": "1.2.0",
            "_view_name": "LayoutView",
            "align_content": null,
            "align_items": null,
            "align_self": null,
            "border": null,
            "bottom": null,
            "display": null,
            "flex": null,
            "flex_flow": null,
            "grid_area": null,
            "grid_auto_columns": null,
            "grid_auto_flow": null,
            "grid_auto_rows": null,
            "grid_column": null,
            "grid_gap": null,
            "grid_row": null,
            "grid_template_areas": null,
            "grid_template_columns": null,
            "grid_template_rows": null,
            "height": null,
            "justify_content": null,
            "justify_items": null,
            "left": null,
            "margin": null,
            "max_height": null,
            "max_width": null,
            "min_height": null,
            "min_width": null,
            "object_fit": null,
            "object_position": null,
            "order": null,
            "overflow": null,
            "overflow_x": null,
            "overflow_y": null,
            "padding": null,
            "right": null,
            "top": null,
            "visibility": null,
            "width": null
          }
        },
        "362036ac4dda4d018c4757bd4174ddc1": {
          "model_module": "@jupyter-widgets/controls",
          "model_name": "ProgressStyleModel",
          "model_module_version": "1.5.0",
          "state": {
            "_model_module": "@jupyter-widgets/controls",
            "_model_module_version": "1.5.0",
            "_model_name": "ProgressStyleModel",
            "_view_count": null,
            "_view_module": "@jupyter-widgets/base",
            "_view_module_version": "1.2.0",
            "_view_name": "StyleView",
            "bar_color": null,
            "description_width": ""
          }
        },
        "34f3f356854d4ad1ac1c79acd340188b": {
          "model_module": "@jupyter-widgets/base",
          "model_name": "LayoutModel",
          "model_module_version": "1.2.0",
          "state": {
            "_model_module": "@jupyter-widgets/base",
            "_model_module_version": "1.2.0",
            "_model_name": "LayoutModel",
            "_view_count": null,
            "_view_module": "@jupyter-widgets/base",
            "_view_module_version": "1.2.0",
            "_view_name": "LayoutView",
            "align_content": null,
            "align_items": null,
            "align_self": null,
            "border": null,
            "bottom": null,
            "display": null,
            "flex": null,
            "flex_flow": null,
            "grid_area": null,
            "grid_auto_columns": null,
            "grid_auto_flow": null,
            "grid_auto_rows": null,
            "grid_column": null,
            "grid_gap": null,
            "grid_row": null,
            "grid_template_areas": null,
            "grid_template_columns": null,
            "grid_template_rows": null,
            "height": null,
            "justify_content": null,
            "justify_items": null,
            "left": null,
            "margin": null,
            "max_height": null,
            "max_width": null,
            "min_height": null,
            "min_width": null,
            "object_fit": null,
            "object_position": null,
            "order": null,
            "overflow": null,
            "overflow_x": null,
            "overflow_y": null,
            "padding": null,
            "right": null,
            "top": null,
            "visibility": null,
            "width": null
          }
        },
        "2bbccf081abc457cb2774da47f3c34d2": {
          "model_module": "@jupyter-widgets/controls",
          "model_name": "DescriptionStyleModel",
          "model_module_version": "1.5.0",
          "state": {
            "_model_module": "@jupyter-widgets/controls",
            "_model_module_version": "1.5.0",
            "_model_name": "DescriptionStyleModel",
            "_view_count": null,
            "_view_module": "@jupyter-widgets/base",
            "_view_module_version": "1.2.0",
            "_view_name": "StyleView",
            "description_width": ""
          }
        },
        "fc6839d5651e47f3b4774149f4f830b7": {
          "model_module": "@jupyter-widgets/controls",
          "model_name": "HBoxModel",
          "model_module_version": "1.5.0",
          "state": {
            "_dom_classes": [],
            "_model_module": "@jupyter-widgets/controls",
            "_model_module_version": "1.5.0",
            "_model_name": "HBoxModel",
            "_view_count": null,
            "_view_module": "@jupyter-widgets/controls",
            "_view_module_version": "1.5.0",
            "_view_name": "HBoxView",
            "box_style": "",
            "children": [
              "IPY_MODEL_5769bb0299634b269707829eda361b39",
              "IPY_MODEL_f2ad9bc7a60c4e9a9c52ab92e7bad4c8",
              "IPY_MODEL_46855db8788f42f2845ac98815a791f7"
            ],
            "layout": "IPY_MODEL_f575e1d061df454798d7f7129d3022c4"
          }
        },
        "5769bb0299634b269707829eda361b39": {
          "model_module": "@jupyter-widgets/controls",
          "model_name": "HTMLModel",
          "model_module_version": "1.5.0",
          "state": {
            "_dom_classes": [],
            "_model_module": "@jupyter-widgets/controls",
            "_model_module_version": "1.5.0",
            "_model_name": "HTMLModel",
            "_view_count": null,
            "_view_module": "@jupyter-widgets/controls",
            "_view_module_version": "1.5.0",
            "_view_name": "HTMLView",
            "description": "",
            "description_tooltip": null,
            "layout": "IPY_MODEL_78baf63fc42f47dea389b1347294164b",
            "placeholder": "​",
            "style": "IPY_MODEL_ec845e7d39ad4d4bb0d840637f524010",
            "value": "100%"
          }
        },
        "f2ad9bc7a60c4e9a9c52ab92e7bad4c8": {
          "model_module": "@jupyter-widgets/controls",
          "model_name": "FloatProgressModel",
          "model_module_version": "1.5.0",
          "state": {
            "_dom_classes": [],
            "_model_module": "@jupyter-widgets/controls",
            "_model_module_version": "1.5.0",
            "_model_name": "FloatProgressModel",
            "_view_count": null,
            "_view_module": "@jupyter-widgets/controls",
            "_view_module_version": "1.5.0",
            "_view_name": "ProgressView",
            "bar_style": "success",
            "description": "",
            "description_tooltip": null,
            "layout": "IPY_MODEL_c408fa07eff6471281c582938aa5beb5",
            "max": 29515,
            "min": 0,
            "orientation": "horizontal",
            "style": "IPY_MODEL_028def0d02bf4514adf6b26614fcb8bb",
            "value": 29515
          }
        },
        "46855db8788f42f2845ac98815a791f7": {
          "model_module": "@jupyter-widgets/controls",
          "model_name": "HTMLModel",
          "model_module_version": "1.5.0",
          "state": {
            "_dom_classes": [],
            "_model_module": "@jupyter-widgets/controls",
            "_model_module_version": "1.5.0",
            "_model_name": "HTMLModel",
            "_view_count": null,
            "_view_module": "@jupyter-widgets/controls",
            "_view_module_version": "1.5.0",
            "_view_name": "HTMLView",
            "description": "",
            "description_tooltip": null,
            "layout": "IPY_MODEL_209e8c4cdb3046bcb980afea6da5fd57",
            "placeholder": "​",
            "style": "IPY_MODEL_1ee3423d83894551a336f3867a6bc9d8",
            "value": " 29515/29515 [00:00&lt;00:00, 145371.84it/s]"
          }
        },
        "f575e1d061df454798d7f7129d3022c4": {
          "model_module": "@jupyter-widgets/base",
          "model_name": "LayoutModel",
          "model_module_version": "1.2.0",
          "state": {
            "_model_module": "@jupyter-widgets/base",
            "_model_module_version": "1.2.0",
            "_model_name": "LayoutModel",
            "_view_count": null,
            "_view_module": "@jupyter-widgets/base",
            "_view_module_version": "1.2.0",
            "_view_name": "LayoutView",
            "align_content": null,
            "align_items": null,
            "align_self": null,
            "border": null,
            "bottom": null,
            "display": null,
            "flex": null,
            "flex_flow": null,
            "grid_area": null,
            "grid_auto_columns": null,
            "grid_auto_flow": null,
            "grid_auto_rows": null,
            "grid_column": null,
            "grid_gap": null,
            "grid_row": null,
            "grid_template_areas": null,
            "grid_template_columns": null,
            "grid_template_rows": null,
            "height": null,
            "justify_content": null,
            "justify_items": null,
            "left": null,
            "margin": null,
            "max_height": null,
            "max_width": null,
            "min_height": null,
            "min_width": null,
            "object_fit": null,
            "object_position": null,
            "order": null,
            "overflow": null,
            "overflow_x": null,
            "overflow_y": null,
            "padding": null,
            "right": null,
            "top": null,
            "visibility": null,
            "width": null
          }
        },
        "78baf63fc42f47dea389b1347294164b": {
          "model_module": "@jupyter-widgets/base",
          "model_name": "LayoutModel",
          "model_module_version": "1.2.0",
          "state": {
            "_model_module": "@jupyter-widgets/base",
            "_model_module_version": "1.2.0",
            "_model_name": "LayoutModel",
            "_view_count": null,
            "_view_module": "@jupyter-widgets/base",
            "_view_module_version": "1.2.0",
            "_view_name": "LayoutView",
            "align_content": null,
            "align_items": null,
            "align_self": null,
            "border": null,
            "bottom": null,
            "display": null,
            "flex": null,
            "flex_flow": null,
            "grid_area": null,
            "grid_auto_columns": null,
            "grid_auto_flow": null,
            "grid_auto_rows": null,
            "grid_column": null,
            "grid_gap": null,
            "grid_row": null,
            "grid_template_areas": null,
            "grid_template_columns": null,
            "grid_template_rows": null,
            "height": null,
            "justify_content": null,
            "justify_items": null,
            "left": null,
            "margin": null,
            "max_height": null,
            "max_width": null,
            "min_height": null,
            "min_width": null,
            "object_fit": null,
            "object_position": null,
            "order": null,
            "overflow": null,
            "overflow_x": null,
            "overflow_y": null,
            "padding": null,
            "right": null,
            "top": null,
            "visibility": null,
            "width": null
          }
        },
        "ec845e7d39ad4d4bb0d840637f524010": {
          "model_module": "@jupyter-widgets/controls",
          "model_name": "DescriptionStyleModel",
          "model_module_version": "1.5.0",
          "state": {
            "_model_module": "@jupyter-widgets/controls",
            "_model_module_version": "1.5.0",
            "_model_name": "DescriptionStyleModel",
            "_view_count": null,
            "_view_module": "@jupyter-widgets/base",
            "_view_module_version": "1.2.0",
            "_view_name": "StyleView",
            "description_width": ""
          }
        },
        "c408fa07eff6471281c582938aa5beb5": {
          "model_module": "@jupyter-widgets/base",
          "model_name": "LayoutModel",
          "model_module_version": "1.2.0",
          "state": {
            "_model_module": "@jupyter-widgets/base",
            "_model_module_version": "1.2.0",
            "_model_name": "LayoutModel",
            "_view_count": null,
            "_view_module": "@jupyter-widgets/base",
            "_view_module_version": "1.2.0",
            "_view_name": "LayoutView",
            "align_content": null,
            "align_items": null,
            "align_self": null,
            "border": null,
            "bottom": null,
            "display": null,
            "flex": null,
            "flex_flow": null,
            "grid_area": null,
            "grid_auto_columns": null,
            "grid_auto_flow": null,
            "grid_auto_rows": null,
            "grid_column": null,
            "grid_gap": null,
            "grid_row": null,
            "grid_template_areas": null,
            "grid_template_columns": null,
            "grid_template_rows": null,
            "height": null,
            "justify_content": null,
            "justify_items": null,
            "left": null,
            "margin": null,
            "max_height": null,
            "max_width": null,
            "min_height": null,
            "min_width": null,
            "object_fit": null,
            "object_position": null,
            "order": null,
            "overflow": null,
            "overflow_x": null,
            "overflow_y": null,
            "padding": null,
            "right": null,
            "top": null,
            "visibility": null,
            "width": null
          }
        },
        "028def0d02bf4514adf6b26614fcb8bb": {
          "model_module": "@jupyter-widgets/controls",
          "model_name": "ProgressStyleModel",
          "model_module_version": "1.5.0",
          "state": {
            "_model_module": "@jupyter-widgets/controls",
            "_model_module_version": "1.5.0",
            "_model_name": "ProgressStyleModel",
            "_view_count": null,
            "_view_module": "@jupyter-widgets/base",
            "_view_module_version": "1.2.0",
            "_view_name": "StyleView",
            "bar_color": null,
            "description_width": ""
          }
        },
        "209e8c4cdb3046bcb980afea6da5fd57": {
          "model_module": "@jupyter-widgets/base",
          "model_name": "LayoutModel",
          "model_module_version": "1.2.0",
          "state": {
            "_model_module": "@jupyter-widgets/base",
            "_model_module_version": "1.2.0",
            "_model_name": "LayoutModel",
            "_view_count": null,
            "_view_module": "@jupyter-widgets/base",
            "_view_module_version": "1.2.0",
            "_view_name": "LayoutView",
            "align_content": null,
            "align_items": null,
            "align_self": null,
            "border": null,
            "bottom": null,
            "display": null,
            "flex": null,
            "flex_flow": null,
            "grid_area": null,
            "grid_auto_columns": null,
            "grid_auto_flow": null,
            "grid_auto_rows": null,
            "grid_column": null,
            "grid_gap": null,
            "grid_row": null,
            "grid_template_areas": null,
            "grid_template_columns": null,
            "grid_template_rows": null,
            "height": null,
            "justify_content": null,
            "justify_items": null,
            "left": null,
            "margin": null,
            "max_height": null,
            "max_width": null,
            "min_height": null,
            "min_width": null,
            "object_fit": null,
            "object_position": null,
            "order": null,
            "overflow": null,
            "overflow_x": null,
            "overflow_y": null,
            "padding": null,
            "right": null,
            "top": null,
            "visibility": null,
            "width": null
          }
        },
        "1ee3423d83894551a336f3867a6bc9d8": {
          "model_module": "@jupyter-widgets/controls",
          "model_name": "DescriptionStyleModel",
          "model_module_version": "1.5.0",
          "state": {
            "_model_module": "@jupyter-widgets/controls",
            "_model_module_version": "1.5.0",
            "_model_name": "DescriptionStyleModel",
            "_view_count": null,
            "_view_module": "@jupyter-widgets/base",
            "_view_module_version": "1.2.0",
            "_view_name": "StyleView",
            "description_width": ""
          }
        },
        "6d7c75fb9c8b4008bd6609f9e6ae659d": {
          "model_module": "@jupyter-widgets/controls",
          "model_name": "HBoxModel",
          "model_module_version": "1.5.0",
          "state": {
            "_dom_classes": [],
            "_model_module": "@jupyter-widgets/controls",
            "_model_module_version": "1.5.0",
            "_model_name": "HBoxModel",
            "_view_count": null,
            "_view_module": "@jupyter-widgets/controls",
            "_view_module_version": "1.5.0",
            "_view_name": "HBoxView",
            "box_style": "",
            "children": [
              "IPY_MODEL_0c55caf1c44c40c0823d058c293148db",
              "IPY_MODEL_bc667200f5644b0a85b1bfcbb5502640",
              "IPY_MODEL_cb4453c0a01649c38847db4c9d7d55ad"
            ],
            "layout": "IPY_MODEL_b24e003a1e4c40d0802be0c5a81a59e8"
          }
        },
        "0c55caf1c44c40c0823d058c293148db": {
          "model_module": "@jupyter-widgets/controls",
          "model_name": "HTMLModel",
          "model_module_version": "1.5.0",
          "state": {
            "_dom_classes": [],
            "_model_module": "@jupyter-widgets/controls",
            "_model_module_version": "1.5.0",
            "_model_name": "HTMLModel",
            "_view_count": null,
            "_view_module": "@jupyter-widgets/controls",
            "_view_module_version": "1.5.0",
            "_view_name": "HTMLView",
            "description": "",
            "description_tooltip": null,
            "layout": "IPY_MODEL_74d90b71786f41ab9c3c3ea1907a4a25",
            "placeholder": "​",
            "style": "IPY_MODEL_575d37acd87a45e9a71029ef57995827",
            "value": "100%"
          }
        },
        "bc667200f5644b0a85b1bfcbb5502640": {
          "model_module": "@jupyter-widgets/controls",
          "model_name": "FloatProgressModel",
          "model_module_version": "1.5.0",
          "state": {
            "_dom_classes": [],
            "_model_module": "@jupyter-widgets/controls",
            "_model_module_version": "1.5.0",
            "_model_name": "FloatProgressModel",
            "_view_count": null,
            "_view_module": "@jupyter-widgets/controls",
            "_view_module_version": "1.5.0",
            "_view_name": "ProgressView",
            "bar_style": "success",
            "description": "",
            "description_tooltip": null,
            "layout": "IPY_MODEL_16d2230f4deb4f62b6f1c0e92b501e10",
            "max": 4422102,
            "min": 0,
            "orientation": "horizontal",
            "style": "IPY_MODEL_50b81cc770234ef4b18c52c25707d8a3",
            "value": 4422102
          }
        },
        "cb4453c0a01649c38847db4c9d7d55ad": {
          "model_module": "@jupyter-widgets/controls",
          "model_name": "HTMLModel",
          "model_module_version": "1.5.0",
          "state": {
            "_dom_classes": [],
            "_model_module": "@jupyter-widgets/controls",
            "_model_module_version": "1.5.0",
            "_model_name": "HTMLModel",
            "_view_count": null,
            "_view_module": "@jupyter-widgets/controls",
            "_view_module_version": "1.5.0",
            "_view_name": "HTMLView",
            "description": "",
            "description_tooltip": null,
            "layout": "IPY_MODEL_e427d736e1e7402eac3e35475725ccfa",
            "placeholder": "​",
            "style": "IPY_MODEL_d13c4099a69e4aac8c5755fd9d86ed24",
            "value": " 4422102/4422102 [00:01&lt;00:00, 4588918.54it/s]"
          }
        },
        "b24e003a1e4c40d0802be0c5a81a59e8": {
          "model_module": "@jupyter-widgets/base",
          "model_name": "LayoutModel",
          "model_module_version": "1.2.0",
          "state": {
            "_model_module": "@jupyter-widgets/base",
            "_model_module_version": "1.2.0",
            "_model_name": "LayoutModel",
            "_view_count": null,
            "_view_module": "@jupyter-widgets/base",
            "_view_module_version": "1.2.0",
            "_view_name": "LayoutView",
            "align_content": null,
            "align_items": null,
            "align_self": null,
            "border": null,
            "bottom": null,
            "display": null,
            "flex": null,
            "flex_flow": null,
            "grid_area": null,
            "grid_auto_columns": null,
            "grid_auto_flow": null,
            "grid_auto_rows": null,
            "grid_column": null,
            "grid_gap": null,
            "grid_row": null,
            "grid_template_areas": null,
            "grid_template_columns": null,
            "grid_template_rows": null,
            "height": null,
            "justify_content": null,
            "justify_items": null,
            "left": null,
            "margin": null,
            "max_height": null,
            "max_width": null,
            "min_height": null,
            "min_width": null,
            "object_fit": null,
            "object_position": null,
            "order": null,
            "overflow": null,
            "overflow_x": null,
            "overflow_y": null,
            "padding": null,
            "right": null,
            "top": null,
            "visibility": null,
            "width": null
          }
        },
        "74d90b71786f41ab9c3c3ea1907a4a25": {
          "model_module": "@jupyter-widgets/base",
          "model_name": "LayoutModel",
          "model_module_version": "1.2.0",
          "state": {
            "_model_module": "@jupyter-widgets/base",
            "_model_module_version": "1.2.0",
            "_model_name": "LayoutModel",
            "_view_count": null,
            "_view_module": "@jupyter-widgets/base",
            "_view_module_version": "1.2.0",
            "_view_name": "LayoutView",
            "align_content": null,
            "align_items": null,
            "align_self": null,
            "border": null,
            "bottom": null,
            "display": null,
            "flex": null,
            "flex_flow": null,
            "grid_area": null,
            "grid_auto_columns": null,
            "grid_auto_flow": null,
            "grid_auto_rows": null,
            "grid_column": null,
            "grid_gap": null,
            "grid_row": null,
            "grid_template_areas": null,
            "grid_template_columns": null,
            "grid_template_rows": null,
            "height": null,
            "justify_content": null,
            "justify_items": null,
            "left": null,
            "margin": null,
            "max_height": null,
            "max_width": null,
            "min_height": null,
            "min_width": null,
            "object_fit": null,
            "object_position": null,
            "order": null,
            "overflow": null,
            "overflow_x": null,
            "overflow_y": null,
            "padding": null,
            "right": null,
            "top": null,
            "visibility": null,
            "width": null
          }
        },
        "575d37acd87a45e9a71029ef57995827": {
          "model_module": "@jupyter-widgets/controls",
          "model_name": "DescriptionStyleModel",
          "model_module_version": "1.5.0",
          "state": {
            "_model_module": "@jupyter-widgets/controls",
            "_model_module_version": "1.5.0",
            "_model_name": "DescriptionStyleModel",
            "_view_count": null,
            "_view_module": "@jupyter-widgets/base",
            "_view_module_version": "1.2.0",
            "_view_name": "StyleView",
            "description_width": ""
          }
        },
        "16d2230f4deb4f62b6f1c0e92b501e10": {
          "model_module": "@jupyter-widgets/base",
          "model_name": "LayoutModel",
          "model_module_version": "1.2.0",
          "state": {
            "_model_module": "@jupyter-widgets/base",
            "_model_module_version": "1.2.0",
            "_model_name": "LayoutModel",
            "_view_count": null,
            "_view_module": "@jupyter-widgets/base",
            "_view_module_version": "1.2.0",
            "_view_name": "LayoutView",
            "align_content": null,
            "align_items": null,
            "align_self": null,
            "border": null,
            "bottom": null,
            "display": null,
            "flex": null,
            "flex_flow": null,
            "grid_area": null,
            "grid_auto_columns": null,
            "grid_auto_flow": null,
            "grid_auto_rows": null,
            "grid_column": null,
            "grid_gap": null,
            "grid_row": null,
            "grid_template_areas": null,
            "grid_template_columns": null,
            "grid_template_rows": null,
            "height": null,
            "justify_content": null,
            "justify_items": null,
            "left": null,
            "margin": null,
            "max_height": null,
            "max_width": null,
            "min_height": null,
            "min_width": null,
            "object_fit": null,
            "object_position": null,
            "order": null,
            "overflow": null,
            "overflow_x": null,
            "overflow_y": null,
            "padding": null,
            "right": null,
            "top": null,
            "visibility": null,
            "width": null
          }
        },
        "50b81cc770234ef4b18c52c25707d8a3": {
          "model_module": "@jupyter-widgets/controls",
          "model_name": "ProgressStyleModel",
          "model_module_version": "1.5.0",
          "state": {
            "_model_module": "@jupyter-widgets/controls",
            "_model_module_version": "1.5.0",
            "_model_name": "ProgressStyleModel",
            "_view_count": null,
            "_view_module": "@jupyter-widgets/base",
            "_view_module_version": "1.2.0",
            "_view_name": "StyleView",
            "bar_color": null,
            "description_width": ""
          }
        },
        "e427d736e1e7402eac3e35475725ccfa": {
          "model_module": "@jupyter-widgets/base",
          "model_name": "LayoutModel",
          "model_module_version": "1.2.0",
          "state": {
            "_model_module": "@jupyter-widgets/base",
            "_model_module_version": "1.2.0",
            "_model_name": "LayoutModel",
            "_view_count": null,
            "_view_module": "@jupyter-widgets/base",
            "_view_module_version": "1.2.0",
            "_view_name": "LayoutView",
            "align_content": null,
            "align_items": null,
            "align_self": null,
            "border": null,
            "bottom": null,
            "display": null,
            "flex": null,
            "flex_flow": null,
            "grid_area": null,
            "grid_auto_columns": null,
            "grid_auto_flow": null,
            "grid_auto_rows": null,
            "grid_column": null,
            "grid_gap": null,
            "grid_row": null,
            "grid_template_areas": null,
            "grid_template_columns": null,
            "grid_template_rows": null,
            "height": null,
            "justify_content": null,
            "justify_items": null,
            "left": null,
            "margin": null,
            "max_height": null,
            "max_width": null,
            "min_height": null,
            "min_width": null,
            "object_fit": null,
            "object_position": null,
            "order": null,
            "overflow": null,
            "overflow_x": null,
            "overflow_y": null,
            "padding": null,
            "right": null,
            "top": null,
            "visibility": null,
            "width": null
          }
        },
        "d13c4099a69e4aac8c5755fd9d86ed24": {
          "model_module": "@jupyter-widgets/controls",
          "model_name": "DescriptionStyleModel",
          "model_module_version": "1.5.0",
          "state": {
            "_model_module": "@jupyter-widgets/controls",
            "_model_module_version": "1.5.0",
            "_model_name": "DescriptionStyleModel",
            "_view_count": null,
            "_view_module": "@jupyter-widgets/base",
            "_view_module_version": "1.2.0",
            "_view_name": "StyleView",
            "description_width": ""
          }
        },
        "e6bcf54cc9954760bf04130ff6cda4f5": {
          "model_module": "@jupyter-widgets/controls",
          "model_name": "HBoxModel",
          "model_module_version": "1.5.0",
          "state": {
            "_dom_classes": [],
            "_model_module": "@jupyter-widgets/controls",
            "_model_module_version": "1.5.0",
            "_model_name": "HBoxModel",
            "_view_count": null,
            "_view_module": "@jupyter-widgets/controls",
            "_view_module_version": "1.5.0",
            "_view_name": "HBoxView",
            "box_style": "",
            "children": [
              "IPY_MODEL_17929665b0464dd9be96e645c8c612d1",
              "IPY_MODEL_556be94655ca479ca2e89eafdb9cf031",
              "IPY_MODEL_8c4c7d37a92f4ac5a5cc40befbcaccb2"
            ],
            "layout": "IPY_MODEL_aa558fd913734091bbf17abdeceb2eaf"
          }
        },
        "17929665b0464dd9be96e645c8c612d1": {
          "model_module": "@jupyter-widgets/controls",
          "model_name": "HTMLModel",
          "model_module_version": "1.5.0",
          "state": {
            "_dom_classes": [],
            "_model_module": "@jupyter-widgets/controls",
            "_model_module_version": "1.5.0",
            "_model_name": "HTMLModel",
            "_view_count": null,
            "_view_module": "@jupyter-widgets/controls",
            "_view_module_version": "1.5.0",
            "_view_name": "HTMLView",
            "description": "",
            "description_tooltip": null,
            "layout": "IPY_MODEL_71e5e0cdd33b4533ac5a4aea81e8c572",
            "placeholder": "​",
            "style": "IPY_MODEL_2ae6910b36d647fe998b0aeb4f77f12e",
            "value": "100%"
          }
        },
        "556be94655ca479ca2e89eafdb9cf031": {
          "model_module": "@jupyter-widgets/controls",
          "model_name": "FloatProgressModel",
          "model_module_version": "1.5.0",
          "state": {
            "_dom_classes": [],
            "_model_module": "@jupyter-widgets/controls",
            "_model_module_version": "1.5.0",
            "_model_name": "FloatProgressModel",
            "_view_count": null,
            "_view_module": "@jupyter-widgets/controls",
            "_view_module_version": "1.5.0",
            "_view_name": "ProgressView",
            "bar_style": "success",
            "description": "",
            "description_tooltip": null,
            "layout": "IPY_MODEL_2eb5d9bdd8104cf8af43b3c0506ffd38",
            "max": 5148,
            "min": 0,
            "orientation": "horizontal",
            "style": "IPY_MODEL_382f60e5f4ac4dfd81f5d5cc08e4cb46",
            "value": 5148
          }
        },
        "8c4c7d37a92f4ac5a5cc40befbcaccb2": {
          "model_module": "@jupyter-widgets/controls",
          "model_name": "HTMLModel",
          "model_module_version": "1.5.0",
          "state": {
            "_dom_classes": [],
            "_model_module": "@jupyter-widgets/controls",
            "_model_module_version": "1.5.0",
            "_model_name": "HTMLModel",
            "_view_count": null,
            "_view_module": "@jupyter-widgets/controls",
            "_view_module_version": "1.5.0",
            "_view_name": "HTMLView",
            "description": "",
            "description_tooltip": null,
            "layout": "IPY_MODEL_11698484c0fc4c60bf1b99c5fc0be799",
            "placeholder": "​",
            "style": "IPY_MODEL_c0f7e76e2dab45aeb4eca683615ce35d",
            "value": " 5148/5148 [00:00&lt;00:00, 140916.00it/s]"
          }
        },
        "aa558fd913734091bbf17abdeceb2eaf": {
          "model_module": "@jupyter-widgets/base",
          "model_name": "LayoutModel",
          "model_module_version": "1.2.0",
          "state": {
            "_model_module": "@jupyter-widgets/base",
            "_model_module_version": "1.2.0",
            "_model_name": "LayoutModel",
            "_view_count": null,
            "_view_module": "@jupyter-widgets/base",
            "_view_module_version": "1.2.0",
            "_view_name": "LayoutView",
            "align_content": null,
            "align_items": null,
            "align_self": null,
            "border": null,
            "bottom": null,
            "display": null,
            "flex": null,
            "flex_flow": null,
            "grid_area": null,
            "grid_auto_columns": null,
            "grid_auto_flow": null,
            "grid_auto_rows": null,
            "grid_column": null,
            "grid_gap": null,
            "grid_row": null,
            "grid_template_areas": null,
            "grid_template_columns": null,
            "grid_template_rows": null,
            "height": null,
            "justify_content": null,
            "justify_items": null,
            "left": null,
            "margin": null,
            "max_height": null,
            "max_width": null,
            "min_height": null,
            "min_width": null,
            "object_fit": null,
            "object_position": null,
            "order": null,
            "overflow": null,
            "overflow_x": null,
            "overflow_y": null,
            "padding": null,
            "right": null,
            "top": null,
            "visibility": null,
            "width": null
          }
        },
        "71e5e0cdd33b4533ac5a4aea81e8c572": {
          "model_module": "@jupyter-widgets/base",
          "model_name": "LayoutModel",
          "model_module_version": "1.2.0",
          "state": {
            "_model_module": "@jupyter-widgets/base",
            "_model_module_version": "1.2.0",
            "_model_name": "LayoutModel",
            "_view_count": null,
            "_view_module": "@jupyter-widgets/base",
            "_view_module_version": "1.2.0",
            "_view_name": "LayoutView",
            "align_content": null,
            "align_items": null,
            "align_self": null,
            "border": null,
            "bottom": null,
            "display": null,
            "flex": null,
            "flex_flow": null,
            "grid_area": null,
            "grid_auto_columns": null,
            "grid_auto_flow": null,
            "grid_auto_rows": null,
            "grid_column": null,
            "grid_gap": null,
            "grid_row": null,
            "grid_template_areas": null,
            "grid_template_columns": null,
            "grid_template_rows": null,
            "height": null,
            "justify_content": null,
            "justify_items": null,
            "left": null,
            "margin": null,
            "max_height": null,
            "max_width": null,
            "min_height": null,
            "min_width": null,
            "object_fit": null,
            "object_position": null,
            "order": null,
            "overflow": null,
            "overflow_x": null,
            "overflow_y": null,
            "padding": null,
            "right": null,
            "top": null,
            "visibility": null,
            "width": null
          }
        },
        "2ae6910b36d647fe998b0aeb4f77f12e": {
          "model_module": "@jupyter-widgets/controls",
          "model_name": "DescriptionStyleModel",
          "model_module_version": "1.5.0",
          "state": {
            "_model_module": "@jupyter-widgets/controls",
            "_model_module_version": "1.5.0",
            "_model_name": "DescriptionStyleModel",
            "_view_count": null,
            "_view_module": "@jupyter-widgets/base",
            "_view_module_version": "1.2.0",
            "_view_name": "StyleView",
            "description_width": ""
          }
        },
        "2eb5d9bdd8104cf8af43b3c0506ffd38": {
          "model_module": "@jupyter-widgets/base",
          "model_name": "LayoutModel",
          "model_module_version": "1.2.0",
          "state": {
            "_model_module": "@jupyter-widgets/base",
            "_model_module_version": "1.2.0",
            "_model_name": "LayoutModel",
            "_view_count": null,
            "_view_module": "@jupyter-widgets/base",
            "_view_module_version": "1.2.0",
            "_view_name": "LayoutView",
            "align_content": null,
            "align_items": null,
            "align_self": null,
            "border": null,
            "bottom": null,
            "display": null,
            "flex": null,
            "flex_flow": null,
            "grid_area": null,
            "grid_auto_columns": null,
            "grid_auto_flow": null,
            "grid_auto_rows": null,
            "grid_column": null,
            "grid_gap": null,
            "grid_row": null,
            "grid_template_areas": null,
            "grid_template_columns": null,
            "grid_template_rows": null,
            "height": null,
            "justify_content": null,
            "justify_items": null,
            "left": null,
            "margin": null,
            "max_height": null,
            "max_width": null,
            "min_height": null,
            "min_width": null,
            "object_fit": null,
            "object_position": null,
            "order": null,
            "overflow": null,
            "overflow_x": null,
            "overflow_y": null,
            "padding": null,
            "right": null,
            "top": null,
            "visibility": null,
            "width": null
          }
        },
        "382f60e5f4ac4dfd81f5d5cc08e4cb46": {
          "model_module": "@jupyter-widgets/controls",
          "model_name": "ProgressStyleModel",
          "model_module_version": "1.5.0",
          "state": {
            "_model_module": "@jupyter-widgets/controls",
            "_model_module_version": "1.5.0",
            "_model_name": "ProgressStyleModel",
            "_view_count": null,
            "_view_module": "@jupyter-widgets/base",
            "_view_module_version": "1.2.0",
            "_view_name": "StyleView",
            "bar_color": null,
            "description_width": ""
          }
        },
        "11698484c0fc4c60bf1b99c5fc0be799": {
          "model_module": "@jupyter-widgets/base",
          "model_name": "LayoutModel",
          "model_module_version": "1.2.0",
          "state": {
            "_model_module": "@jupyter-widgets/base",
            "_model_module_version": "1.2.0",
            "_model_name": "LayoutModel",
            "_view_count": null,
            "_view_module": "@jupyter-widgets/base",
            "_view_module_version": "1.2.0",
            "_view_name": "LayoutView",
            "align_content": null,
            "align_items": null,
            "align_self": null,
            "border": null,
            "bottom": null,
            "display": null,
            "flex": null,
            "flex_flow": null,
            "grid_area": null,
            "grid_auto_columns": null,
            "grid_auto_flow": null,
            "grid_auto_rows": null,
            "grid_column": null,
            "grid_gap": null,
            "grid_row": null,
            "grid_template_areas": null,
            "grid_template_columns": null,
            "grid_template_rows": null,
            "height": null,
            "justify_content": null,
            "justify_items": null,
            "left": null,
            "margin": null,
            "max_height": null,
            "max_width": null,
            "min_height": null,
            "min_width": null,
            "object_fit": null,
            "object_position": null,
            "order": null,
            "overflow": null,
            "overflow_x": null,
            "overflow_y": null,
            "padding": null,
            "right": null,
            "top": null,
            "visibility": null,
            "width": null
          }
        },
        "c0f7e76e2dab45aeb4eca683615ce35d": {
          "model_module": "@jupyter-widgets/controls",
          "model_name": "DescriptionStyleModel",
          "model_module_version": "1.5.0",
          "state": {
            "_model_module": "@jupyter-widgets/controls",
            "_model_module_version": "1.5.0",
            "_model_name": "DescriptionStyleModel",
            "_view_count": null,
            "_view_module": "@jupyter-widgets/base",
            "_view_module_version": "1.2.0",
            "_view_name": "StyleView",
            "description_width": ""
          }
        }
      }
    }
  },
  "cells": [
    {
      "cell_type": "markdown",
      "metadata": {
        "id": "view-in-github",
        "colab_type": "text"
      },
      "source": [
        "<a href=\"https://colab.research.google.com/github/arnav39/d2el-en/blob/main/5_2.ipynb\" target=\"_parent\"><img src=\"https://colab.research.google.com/assets/colab-badge.svg\" alt=\"Open In Colab\"/></a>"
      ]
    },
    {
      "cell_type": "markdown",
      "source": [
        "# 5.2 Implementation of Multilayer perceptrons"
      ],
      "metadata": {
        "id": "EOkhSC0eK9hp"
      }
    },
    {
      "cell_type": "code",
      "execution_count": null,
      "metadata": {
        "id": "aPbSTfbZK4wg"
      },
      "outputs": [],
      "source": [
        "!pip install matplotlib_inline\n",
        "!pip install --upgrade d2l==1.0.0a0"
      ]
    },
    {
      "cell_type": "code",
      "source": [
        "import torch\n",
        "import torch.nn as nn\n",
        "from d2l import torch as d2l"
      ],
      "metadata": {
        "id": "zTPB9sV8LE2M"
      },
      "execution_count": 2,
      "outputs": []
    },
    {
      "cell_type": "code",
      "source": [
        "import torchvision"
      ],
      "metadata": {
        "id": "d-jBKuJrSUEZ"
      },
      "execution_count": 3,
      "outputs": []
    },
    {
      "cell_type": "code",
      "source": [
        "a = nn.Parameter(torch.randn(3, 1))\n",
        "print(a)"
      ],
      "metadata": {
        "colab": {
          "base_uri": "https://localhost:8080/"
        },
        "id": "FRUnnMYsL9WZ",
        "outputId": "20ac0af8-ecb3-4806-bcc0-e434c3ceb167"
      },
      "execution_count": 6,
      "outputs": [
        {
          "output_type": "stream",
          "name": "stdout",
          "text": [
            "Parameter containing:\n",
            "tensor([[ 1.0409e-01],\n",
            "        [-1.7994e+00],\n",
            "        [-6.1802e-04]], requires_grad=True)\n"
          ]
        }
      ]
    },
    {
      "cell_type": "code",
      "source": [
        "nn.Parameter??"
      ],
      "metadata": {
        "id": "K5PIczVeMBI_"
      },
      "execution_count": 4,
      "outputs": []
    },
    {
      "cell_type": "code",
      "source": [
        "a = torch.randn(100, 1, 28, 28)\n",
        "print(a.shape)"
      ],
      "metadata": {
        "colab": {
          "base_uri": "https://localhost:8080/"
        },
        "id": "DeYma_qHOB42",
        "outputId": "cf400380-83a9-4261-b120-51f8dc13a7dd"
      },
      "execution_count": 13,
      "outputs": [
        {
          "output_type": "stream",
          "name": "stdout",
          "text": [
            "torch.Size([100, 1, 28, 28])\n"
          ]
        }
      ]
    },
    {
      "cell_type": "code",
      "source": [
        "a = a.reshape(-1, 784)\n",
        "print(a.shape)"
      ],
      "metadata": {
        "colab": {
          "base_uri": "https://localhost:8080/"
        },
        "id": "oXs2eN3nObgX",
        "outputId": "98699ff3-9554-451c-9504-bcc0b095d4fb"
      },
      "execution_count": 14,
      "outputs": [
        {
          "output_type": "stream",
          "name": "stdout",
          "text": [
            "torch.Size([100, 784])\n"
          ]
        }
      ]
    },
    {
      "cell_type": "code",
      "source": [
        "a = a.reshape(100, -1)\n",
        "a.shape"
      ],
      "metadata": {
        "colab": {
          "base_uri": "https://localhost:8080/"
        },
        "id": "X2S49zOKOF3k",
        "outputId": "b32f7e68-f696-4ffa-c4e0-dc95ea576935"
      },
      "execution_count": 12,
      "outputs": [
        {
          "output_type": "execute_result",
          "data": {
            "text/plain": [
              "torch.Size([100, 784])"
            ]
          },
          "metadata": {},
          "execution_count": 12
        }
      ]
    },
    {
      "cell_type": "code",
      "source": [
        "class MLPScratch(d2l.Classifier):\n",
        "  \n",
        "  def __init__(self, num_inputs, num_outputs, num_hiddens, lr, sigma=0.01):\n",
        "    super().__init__()\n",
        "    self.save_hyperparameters()\n",
        "    self.W1 = nn.Parameter(torch.randn(num_inputs, num_hiddens) * sigma)\n",
        "    self.b1 = nn.Parameter(torch.zeros(num_hiddens))\n",
        "    self.W2 = nn.Parameter(torch.randn(num_hiddens, num_outputs) * sigma)\n",
        "    self.b2 = nn.Parameter(torch.zeros(num_outputs))\n",
        "\n",
        "  def forward(self, X):\n",
        "    X = X.reshape(X.shape[0], -1)\n",
        "    out = relu(torch.mm(X, self.W1) + self.b1)\n",
        "    out = torch.mm(out, self.W2) + self.b2\n",
        "    return out"
      ],
      "metadata": {
        "id": "zY0CgmoxLQ8t"
      },
      "execution_count": 4,
      "outputs": []
    },
    {
      "cell_type": "code",
      "source": [
        "b = torch.randn(4, 4)\n",
        "print(b)\n",
        "a = torch.zeros_like(b)\n",
        "print(torch.max(a, b))"
      ],
      "metadata": {
        "colab": {
          "base_uri": "https://localhost:8080/"
        },
        "id": "Om5IsbTtNBRE",
        "outputId": "ce67a9b7-5f06-415b-fcc9-d8d58ac95512"
      },
      "execution_count": 8,
      "outputs": [
        {
          "output_type": "stream",
          "name": "stdout",
          "text": [
            "tensor([[-0.1583,  0.5632,  0.4435, -1.1850],\n",
            "        [ 0.7719, -0.2190, -1.1370,  1.5180],\n",
            "        [-0.0370,  0.8013, -0.9884,  0.0960],\n",
            "        [ 1.4302, -0.3622, -0.3721,  1.8424]])\n",
            "tensor([[0.0000, 0.5632, 0.4435, 0.0000],\n",
            "        [0.7719, 0.0000, 0.0000, 1.5180],\n",
            "        [0.0000, 0.8013, 0.0000, 0.0960],\n",
            "        [1.4302, 0.0000, 0.0000, 1.8424]])\n"
          ]
        }
      ]
    },
    {
      "cell_type": "code",
      "source": [
        "def relu(X):\n",
        "  a = torch.zeros_like(X)\n",
        "  return torch.max(X, a)"
      ],
      "metadata": {
        "id": "7NZIybOiM3lr"
      },
      "execution_count": 5,
      "outputs": []
    },
    {
      "cell_type": "code",
      "source": [
        "d2l.FashionMNIST??"
      ],
      "metadata": {
        "id": "iU0EtmyhPGGX"
      },
      "execution_count": 16,
      "outputs": []
    },
    {
      "cell_type": "code",
      "source": [
        "model = MLPScratch(num_inputs=784, num_outputs=10, num_hiddens=256, lr=0.1)\n",
        "data = d2l.FashionMNIST(batch_size=256)\n",
        "trainer = d2l.Trainer(max_epochs=10)\n",
        "trainer.fit(model, data)"
      ],
      "metadata": {
        "colab": {
          "base_uri": "https://localhost:8080/",
          "height": 262,
          "referenced_widgets": [
            "1cc8a354aecb44b29f6f6be87b76b1bf",
            "6eab7ac1b7a4418392d616155c68cc43",
            "317d0113666442ea9bff12049ccc05c8",
            "3702cc7e2cb34f3cb77e9a249af69666",
            "f0aa0551db5c476396265c361bfbc89a",
            "ba49617c73834656bc211098d021e8d3",
            "ceec162a5de144d1b30ce84282da7bf4",
            "a11dbf197d67426891a1215e153b831e",
            "d28e20b7b36d46c7b3dcbb9eca2830fc",
            "57955e767b2d40f08ad51944a1db5539",
            "14749d20dbdb4621b22053db749cec88",
            "ba34e2df6f174b64b1c7821aa9e648b5",
            "fe6b3c21b31447198bddf3359ba99f59",
            "d620815af08a4a279000888303f1625a",
            "4e2be7a98f5e49d9a53dbbb36c68e7dd",
            "301a95cbe04d4b7cb255fb906a5aa9f2",
            "8f48333b62a4485a82503755eb02f4eb",
            "71adaa20ad6e4b7aafda0782a46b477d",
            "dfc528996c854bdc825aebf98967fe9a",
            "1bc73bcc7873471ebb0b19055496ccd3",
            "20e4d60a73a64d81b3b6ac98ab1f0583",
            "482b8a02bb374d6884adb987c9999f96",
            "b687003e8e014e21bdb69106e7c788db",
            "7a12f674e5654b6cad7f2aa0fa3687e7",
            "2c0886a863bd46379c95b23d53709c39",
            "369bb87c4c0840f2ba61fd7373b81809",
            "cd4c27f3ec2d4f2c820a4ae1f4ed0432",
            "7b950770fafc4c17aad11d48556792e0",
            "bd0edff4fb9c47f49f9699719853b350",
            "6f30bd33e57a49f5b081694234edab3c",
            "3c7da971a1674736825c2b5022b1f73e",
            "7d6209b219ac4783a605fb1bdc57db13",
            "ac064dfcbd7148aeb445817608102926",
            "082e33ab1fdd4e0c84e0ef862b0190b8",
            "c1cce94234484d4998f6bcc600987efc",
            "5e87147264fa4c25b266cdb617cc031b",
            "5bc6509827854fad98f97b6ac2540e99",
            "58a75247198d4bf38f679a60346a61ab",
            "91418ed789f34a3898c1edca7faa81d9",
            "3f231e815e074ed0a051fcd1b4434e81",
            "3734289ec8f74daaabaab7cfcbb22856",
            "3308fd98c2ad4e978340d13b7ae46e52",
            "1338ae8fbe694cc187abfb4b75491b94",
            "5e970568ef204f2480e2bee1090e513c"
          ]
        },
        "id": "6ckVrL0ROzo3",
        "outputId": "8409761f-3dad-46ac-cd25-2e37b72ae7cc"
      },
      "execution_count": 19,
      "outputs": [
        {
          "output_type": "display_data",
          "data": {
            "text/plain": [
              "<Figure size 252x180 with 1 Axes>"
            ],
            "image/svg+xml": "<?xml version=\"1.0\" encoding=\"utf-8\" standalone=\"no\"?>\n<!DOCTYPE svg PUBLIC \"-//W3C//DTD SVG 1.1//EN\"\n  \"http://www.w3.org/Graphics/SVG/1.1/DTD/svg11.dtd\">\n<!-- Created with matplotlib (https://matplotlib.org/) -->\n<svg height=\"180.65625pt\" version=\"1.1\" viewBox=\"0 0 238.965625 180.65625\" width=\"238.965625pt\" xmlns=\"http://www.w3.org/2000/svg\" xmlns:xlink=\"http://www.w3.org/1999/xlink\">\n <defs>\n  <style type=\"text/css\">\n*{stroke-linecap:butt;stroke-linejoin:round;}\n  </style>\n </defs>\n <g id=\"figure_1\">\n  <g id=\"patch_1\">\n   <path d=\"M 0 180.65625 \nL 238.965625 180.65625 \nL 238.965625 0 \nL 0 0 \nz\n\" style=\"fill:none;\"/>\n  </g>\n  <g id=\"axes_1\">\n   <g id=\"patch_2\">\n    <path d=\"M 30.103125 143.1 \nL 225.403125 143.1 \nL 225.403125 7.2 \nL 30.103125 7.2 \nz\n\" style=\"fill:#ffffff;\"/>\n   </g>\n   <g id=\"matplotlib.axis_1\">\n    <g id=\"xtick_1\">\n     <g id=\"line2d_1\">\n      <defs>\n       <path d=\"M 0 0 \nL 0 3.5 \n\" id=\"m8bc6d9a7de\" style=\"stroke:#000000;stroke-width:0.8;\"/>\n      </defs>\n      <g>\n       <use style=\"stroke:#000000;stroke-width:0.8;\" x=\"30.103125\" xlink:href=\"#m8bc6d9a7de\" y=\"143.1\"/>\n      </g>\n     </g>\n     <g id=\"text_1\">\n      <!-- 0 -->\n      <defs>\n       <path d=\"M 31.78125 66.40625 \nQ 24.171875 66.40625 20.328125 58.90625 \nQ 16.5 51.421875 16.5 36.375 \nQ 16.5 21.390625 20.328125 13.890625 \nQ 24.171875 6.390625 31.78125 6.390625 \nQ 39.453125 6.390625 43.28125 13.890625 \nQ 47.125 21.390625 47.125 36.375 \nQ 47.125 51.421875 43.28125 58.90625 \nQ 39.453125 66.40625 31.78125 66.40625 \nz\nM 31.78125 74.21875 \nQ 44.046875 74.21875 50.515625 64.515625 \nQ 56.984375 54.828125 56.984375 36.375 \nQ 56.984375 17.96875 50.515625 8.265625 \nQ 44.046875 -1.421875 31.78125 -1.421875 \nQ 19.53125 -1.421875 13.0625 8.265625 \nQ 6.59375 17.96875 6.59375 36.375 \nQ 6.59375 54.828125 13.0625 64.515625 \nQ 19.53125 74.21875 31.78125 74.21875 \nz\n\" id=\"DejaVuSans-48\"/>\n      </defs>\n      <g transform=\"translate(26.921875 157.698438)scale(0.1 -0.1)\">\n       <use xlink:href=\"#DejaVuSans-48\"/>\n      </g>\n     </g>\n    </g>\n    <g id=\"xtick_2\">\n     <g id=\"line2d_2\">\n      <g>\n       <use style=\"stroke:#000000;stroke-width:0.8;\" x=\"69.163125\" xlink:href=\"#m8bc6d9a7de\" y=\"143.1\"/>\n      </g>\n     </g>\n     <g id=\"text_2\">\n      <!-- 2 -->\n      <defs>\n       <path d=\"M 19.1875 8.296875 \nL 53.609375 8.296875 \nL 53.609375 0 \nL 7.328125 0 \nL 7.328125 8.296875 \nQ 12.9375 14.109375 22.625 23.890625 \nQ 32.328125 33.6875 34.8125 36.53125 \nQ 39.546875 41.84375 41.421875 45.53125 \nQ 43.3125 49.21875 43.3125 52.78125 \nQ 43.3125 58.59375 39.234375 62.25 \nQ 35.15625 65.921875 28.609375 65.921875 \nQ 23.96875 65.921875 18.8125 64.3125 \nQ 13.671875 62.703125 7.8125 59.421875 \nL 7.8125 69.390625 \nQ 13.765625 71.78125 18.9375 73 \nQ 24.125 74.21875 28.421875 74.21875 \nQ 39.75 74.21875 46.484375 68.546875 \nQ 53.21875 62.890625 53.21875 53.421875 \nQ 53.21875 48.921875 51.53125 44.890625 \nQ 49.859375 40.875 45.40625 35.40625 \nQ 44.1875 33.984375 37.640625 27.21875 \nQ 31.109375 20.453125 19.1875 8.296875 \nz\n\" id=\"DejaVuSans-50\"/>\n      </defs>\n      <g transform=\"translate(65.981875 157.698438)scale(0.1 -0.1)\">\n       <use xlink:href=\"#DejaVuSans-50\"/>\n      </g>\n     </g>\n    </g>\n    <g id=\"xtick_3\">\n     <g id=\"line2d_3\">\n      <g>\n       <use style=\"stroke:#000000;stroke-width:0.8;\" x=\"108.223125\" xlink:href=\"#m8bc6d9a7de\" y=\"143.1\"/>\n      </g>\n     </g>\n     <g id=\"text_3\">\n      <!-- 4 -->\n      <defs>\n       <path d=\"M 37.796875 64.3125 \nL 12.890625 25.390625 \nL 37.796875 25.390625 \nz\nM 35.203125 72.90625 \nL 47.609375 72.90625 \nL 47.609375 25.390625 \nL 58.015625 25.390625 \nL 58.015625 17.1875 \nL 47.609375 17.1875 \nL 47.609375 0 \nL 37.796875 0 \nL 37.796875 17.1875 \nL 4.890625 17.1875 \nL 4.890625 26.703125 \nz\n\" id=\"DejaVuSans-52\"/>\n      </defs>\n      <g transform=\"translate(105.041875 157.698438)scale(0.1 -0.1)\">\n       <use xlink:href=\"#DejaVuSans-52\"/>\n      </g>\n     </g>\n    </g>\n    <g id=\"xtick_4\">\n     <g id=\"line2d_4\">\n      <g>\n       <use style=\"stroke:#000000;stroke-width:0.8;\" x=\"147.283125\" xlink:href=\"#m8bc6d9a7de\" y=\"143.1\"/>\n      </g>\n     </g>\n     <g id=\"text_4\">\n      <!-- 6 -->\n      <defs>\n       <path d=\"M 33.015625 40.375 \nQ 26.375 40.375 22.484375 35.828125 \nQ 18.609375 31.296875 18.609375 23.390625 \nQ 18.609375 15.53125 22.484375 10.953125 \nQ 26.375 6.390625 33.015625 6.390625 \nQ 39.65625 6.390625 43.53125 10.953125 \nQ 47.40625 15.53125 47.40625 23.390625 \nQ 47.40625 31.296875 43.53125 35.828125 \nQ 39.65625 40.375 33.015625 40.375 \nz\nM 52.59375 71.296875 \nL 52.59375 62.3125 \nQ 48.875 64.0625 45.09375 64.984375 \nQ 41.3125 65.921875 37.59375 65.921875 \nQ 27.828125 65.921875 22.671875 59.328125 \nQ 17.53125 52.734375 16.796875 39.40625 \nQ 19.671875 43.65625 24.015625 45.921875 \nQ 28.375 48.1875 33.59375 48.1875 \nQ 44.578125 48.1875 50.953125 41.515625 \nQ 57.328125 34.859375 57.328125 23.390625 \nQ 57.328125 12.15625 50.6875 5.359375 \nQ 44.046875 -1.421875 33.015625 -1.421875 \nQ 20.359375 -1.421875 13.671875 8.265625 \nQ 6.984375 17.96875 6.984375 36.375 \nQ 6.984375 53.65625 15.1875 63.9375 \nQ 23.390625 74.21875 37.203125 74.21875 \nQ 40.921875 74.21875 44.703125 73.484375 \nQ 48.484375 72.75 52.59375 71.296875 \nz\n\" id=\"DejaVuSans-54\"/>\n      </defs>\n      <g transform=\"translate(144.101875 157.698438)scale(0.1 -0.1)\">\n       <use xlink:href=\"#DejaVuSans-54\"/>\n      </g>\n     </g>\n    </g>\n    <g id=\"xtick_5\">\n     <g id=\"line2d_5\">\n      <g>\n       <use style=\"stroke:#000000;stroke-width:0.8;\" x=\"186.343125\" xlink:href=\"#m8bc6d9a7de\" y=\"143.1\"/>\n      </g>\n     </g>\n     <g id=\"text_5\">\n      <!-- 8 -->\n      <defs>\n       <path d=\"M 31.78125 34.625 \nQ 24.75 34.625 20.71875 30.859375 \nQ 16.703125 27.09375 16.703125 20.515625 \nQ 16.703125 13.921875 20.71875 10.15625 \nQ 24.75 6.390625 31.78125 6.390625 \nQ 38.8125 6.390625 42.859375 10.171875 \nQ 46.921875 13.96875 46.921875 20.515625 \nQ 46.921875 27.09375 42.890625 30.859375 \nQ 38.875 34.625 31.78125 34.625 \nz\nM 21.921875 38.8125 \nQ 15.578125 40.375 12.03125 44.71875 \nQ 8.5 49.078125 8.5 55.328125 \nQ 8.5 64.0625 14.71875 69.140625 \nQ 20.953125 74.21875 31.78125 74.21875 \nQ 42.671875 74.21875 48.875 69.140625 \nQ 55.078125 64.0625 55.078125 55.328125 \nQ 55.078125 49.078125 51.53125 44.71875 \nQ 48 40.375 41.703125 38.8125 \nQ 48.828125 37.15625 52.796875 32.3125 \nQ 56.78125 27.484375 56.78125 20.515625 \nQ 56.78125 9.90625 50.3125 4.234375 \nQ 43.84375 -1.421875 31.78125 -1.421875 \nQ 19.734375 -1.421875 13.25 4.234375 \nQ 6.78125 9.90625 6.78125 20.515625 \nQ 6.78125 27.484375 10.78125 32.3125 \nQ 14.796875 37.15625 21.921875 38.8125 \nz\nM 18.3125 54.390625 \nQ 18.3125 48.734375 21.84375 45.5625 \nQ 25.390625 42.390625 31.78125 42.390625 \nQ 38.140625 42.390625 41.71875 45.5625 \nQ 45.3125 48.734375 45.3125 54.390625 \nQ 45.3125 60.0625 41.71875 63.234375 \nQ 38.140625 66.40625 31.78125 66.40625 \nQ 25.390625 66.40625 21.84375 63.234375 \nQ 18.3125 60.0625 18.3125 54.390625 \nz\n\" id=\"DejaVuSans-56\"/>\n      </defs>\n      <g transform=\"translate(183.161875 157.698438)scale(0.1 -0.1)\">\n       <use xlink:href=\"#DejaVuSans-56\"/>\n      </g>\n     </g>\n    </g>\n    <g id=\"xtick_6\">\n     <g id=\"line2d_6\">\n      <g>\n       <use style=\"stroke:#000000;stroke-width:0.8;\" x=\"225.403125\" xlink:href=\"#m8bc6d9a7de\" y=\"143.1\"/>\n      </g>\n     </g>\n     <g id=\"text_6\">\n      <!-- 10 -->\n      <defs>\n       <path d=\"M 12.40625 8.296875 \nL 28.515625 8.296875 \nL 28.515625 63.921875 \nL 10.984375 60.40625 \nL 10.984375 69.390625 \nL 28.421875 72.90625 \nL 38.28125 72.90625 \nL 38.28125 8.296875 \nL 54.390625 8.296875 \nL 54.390625 0 \nL 12.40625 0 \nz\n\" id=\"DejaVuSans-49\"/>\n      </defs>\n      <g transform=\"translate(219.040625 157.698438)scale(0.1 -0.1)\">\n       <use xlink:href=\"#DejaVuSans-49\"/>\n       <use x=\"63.623047\" xlink:href=\"#DejaVuSans-48\"/>\n      </g>\n     </g>\n    </g>\n    <g id=\"text_7\">\n     <!-- epoch -->\n     <defs>\n      <path d=\"M 56.203125 29.59375 \nL 56.203125 25.203125 \nL 14.890625 25.203125 \nQ 15.484375 15.921875 20.484375 11.0625 \nQ 25.484375 6.203125 34.421875 6.203125 \nQ 39.59375 6.203125 44.453125 7.46875 \nQ 49.3125 8.734375 54.109375 11.28125 \nL 54.109375 2.78125 \nQ 49.265625 0.734375 44.1875 -0.34375 \nQ 39.109375 -1.421875 33.890625 -1.421875 \nQ 20.796875 -1.421875 13.15625 6.1875 \nQ 5.515625 13.8125 5.515625 26.8125 \nQ 5.515625 40.234375 12.765625 48.109375 \nQ 20.015625 56 32.328125 56 \nQ 43.359375 56 49.78125 48.890625 \nQ 56.203125 41.796875 56.203125 29.59375 \nz\nM 47.21875 32.234375 \nQ 47.125 39.59375 43.09375 43.984375 \nQ 39.0625 48.390625 32.421875 48.390625 \nQ 24.90625 48.390625 20.390625 44.140625 \nQ 15.875 39.890625 15.1875 32.171875 \nz\n\" id=\"DejaVuSans-101\"/>\n      <path d=\"M 18.109375 8.203125 \nL 18.109375 -20.796875 \nL 9.078125 -20.796875 \nL 9.078125 54.6875 \nL 18.109375 54.6875 \nL 18.109375 46.390625 \nQ 20.953125 51.265625 25.265625 53.625 \nQ 29.59375 56 35.59375 56 \nQ 45.5625 56 51.78125 48.09375 \nQ 58.015625 40.1875 58.015625 27.296875 \nQ 58.015625 14.40625 51.78125 6.484375 \nQ 45.5625 -1.421875 35.59375 -1.421875 \nQ 29.59375 -1.421875 25.265625 0.953125 \nQ 20.953125 3.328125 18.109375 8.203125 \nz\nM 48.6875 27.296875 \nQ 48.6875 37.203125 44.609375 42.84375 \nQ 40.53125 48.484375 33.40625 48.484375 \nQ 26.265625 48.484375 22.1875 42.84375 \nQ 18.109375 37.203125 18.109375 27.296875 \nQ 18.109375 17.390625 22.1875 11.75 \nQ 26.265625 6.109375 33.40625 6.109375 \nQ 40.53125 6.109375 44.609375 11.75 \nQ 48.6875 17.390625 48.6875 27.296875 \nz\n\" id=\"DejaVuSans-112\"/>\n      <path d=\"M 30.609375 48.390625 \nQ 23.390625 48.390625 19.1875 42.75 \nQ 14.984375 37.109375 14.984375 27.296875 \nQ 14.984375 17.484375 19.15625 11.84375 \nQ 23.34375 6.203125 30.609375 6.203125 \nQ 37.796875 6.203125 41.984375 11.859375 \nQ 46.1875 17.53125 46.1875 27.296875 \nQ 46.1875 37.015625 41.984375 42.703125 \nQ 37.796875 48.390625 30.609375 48.390625 \nz\nM 30.609375 56 \nQ 42.328125 56 49.015625 48.375 \nQ 55.71875 40.765625 55.71875 27.296875 \nQ 55.71875 13.875 49.015625 6.21875 \nQ 42.328125 -1.421875 30.609375 -1.421875 \nQ 18.84375 -1.421875 12.171875 6.21875 \nQ 5.515625 13.875 5.515625 27.296875 \nQ 5.515625 40.765625 12.171875 48.375 \nQ 18.84375 56 30.609375 56 \nz\n\" id=\"DejaVuSans-111\"/>\n      <path d=\"M 48.78125 52.59375 \nL 48.78125 44.1875 \nQ 44.96875 46.296875 41.140625 47.34375 \nQ 37.3125 48.390625 33.40625 48.390625 \nQ 24.65625 48.390625 19.8125 42.84375 \nQ 14.984375 37.3125 14.984375 27.296875 \nQ 14.984375 17.28125 19.8125 11.734375 \nQ 24.65625 6.203125 33.40625 6.203125 \nQ 37.3125 6.203125 41.140625 7.25 \nQ 44.96875 8.296875 48.78125 10.40625 \nL 48.78125 2.09375 \nQ 45.015625 0.34375 40.984375 -0.53125 \nQ 36.96875 -1.421875 32.421875 -1.421875 \nQ 20.0625 -1.421875 12.78125 6.34375 \nQ 5.515625 14.109375 5.515625 27.296875 \nQ 5.515625 40.671875 12.859375 48.328125 \nQ 20.21875 56 33.015625 56 \nQ 37.15625 56 41.109375 55.140625 \nQ 45.0625 54.296875 48.78125 52.59375 \nz\n\" id=\"DejaVuSans-99\"/>\n      <path d=\"M 54.890625 33.015625 \nL 54.890625 0 \nL 45.90625 0 \nL 45.90625 32.71875 \nQ 45.90625 40.484375 42.875 44.328125 \nQ 39.84375 48.1875 33.796875 48.1875 \nQ 26.515625 48.1875 22.3125 43.546875 \nQ 18.109375 38.921875 18.109375 30.90625 \nL 18.109375 0 \nL 9.078125 0 \nL 9.078125 75.984375 \nL 18.109375 75.984375 \nL 18.109375 46.1875 \nQ 21.34375 51.125 25.703125 53.5625 \nQ 30.078125 56 35.796875 56 \nQ 45.21875 56 50.046875 50.171875 \nQ 54.890625 44.34375 54.890625 33.015625 \nz\n\" id=\"DejaVuSans-104\"/>\n     </defs>\n     <g transform=\"translate(112.525 171.376563)scale(0.1 -0.1)\">\n      <use xlink:href=\"#DejaVuSans-101\"/>\n      <use x=\"61.523438\" xlink:href=\"#DejaVuSans-112\"/>\n      <use x=\"125\" xlink:href=\"#DejaVuSans-111\"/>\n      <use x=\"186.181641\" xlink:href=\"#DejaVuSans-99\"/>\n      <use x=\"241.162109\" xlink:href=\"#DejaVuSans-104\"/>\n     </g>\n    </g>\n   </g>\n   <g id=\"matplotlib.axis_2\">\n    <g id=\"ytick_1\">\n     <g id=\"line2d_7\">\n      <defs>\n       <path d=\"M 0 0 \nL -3.5 0 \n\" id=\"mf456260103\" style=\"stroke:#000000;stroke-width:0.8;\"/>\n      </defs>\n      <g>\n       <use style=\"stroke:#000000;stroke-width:0.8;\" x=\"30.103125\" xlink:href=\"#mf456260103\" y=\"134.411681\"/>\n      </g>\n     </g>\n     <g id=\"text_8\">\n      <!-- 0.4 -->\n      <defs>\n       <path d=\"M 10.6875 12.40625 \nL 21 12.40625 \nL 21 0 \nL 10.6875 0 \nz\n\" id=\"DejaVuSans-46\"/>\n      </defs>\n      <g transform=\"translate(7.2 138.210899)scale(0.1 -0.1)\">\n       <use xlink:href=\"#DejaVuSans-48\"/>\n       <use x=\"63.623047\" xlink:href=\"#DejaVuSans-46\"/>\n       <use x=\"95.410156\" xlink:href=\"#DejaVuSans-52\"/>\n      </g>\n     </g>\n    </g>\n    <g id=\"ytick_2\">\n     <g id=\"line2d_8\">\n      <g>\n       <use style=\"stroke:#000000;stroke-width:0.8;\" x=\"30.103125\" xlink:href=\"#mf456260103\" y=\"108.473191\"/>\n      </g>\n     </g>\n     <g id=\"text_9\">\n      <!-- 0.6 -->\n      <g transform=\"translate(7.2 112.272409)scale(0.1 -0.1)\">\n       <use xlink:href=\"#DejaVuSans-48\"/>\n       <use x=\"63.623047\" xlink:href=\"#DejaVuSans-46\"/>\n       <use x=\"95.410156\" xlink:href=\"#DejaVuSans-54\"/>\n      </g>\n     </g>\n    </g>\n    <g id=\"ytick_3\">\n     <g id=\"line2d_9\">\n      <g>\n       <use style=\"stroke:#000000;stroke-width:0.8;\" x=\"30.103125\" xlink:href=\"#mf456260103\" y=\"82.534701\"/>\n      </g>\n     </g>\n     <g id=\"text_10\">\n      <!-- 0.8 -->\n      <g transform=\"translate(7.2 86.33392)scale(0.1 -0.1)\">\n       <use xlink:href=\"#DejaVuSans-48\"/>\n       <use x=\"63.623047\" xlink:href=\"#DejaVuSans-46\"/>\n       <use x=\"95.410156\" xlink:href=\"#DejaVuSans-56\"/>\n      </g>\n     </g>\n    </g>\n    <g id=\"ytick_4\">\n     <g id=\"line2d_10\">\n      <g>\n       <use style=\"stroke:#000000;stroke-width:0.8;\" x=\"30.103125\" xlink:href=\"#mf456260103\" y=\"56.596211\"/>\n      </g>\n     </g>\n     <g id=\"text_11\">\n      <!-- 1.0 -->\n      <g transform=\"translate(7.2 60.39543)scale(0.1 -0.1)\">\n       <use xlink:href=\"#DejaVuSans-49\"/>\n       <use x=\"63.623047\" xlink:href=\"#DejaVuSans-46\"/>\n       <use x=\"95.410156\" xlink:href=\"#DejaVuSans-48\"/>\n      </g>\n     </g>\n    </g>\n    <g id=\"ytick_5\">\n     <g id=\"line2d_11\">\n      <g>\n       <use style=\"stroke:#000000;stroke-width:0.8;\" x=\"30.103125\" xlink:href=\"#mf456260103\" y=\"30.657721\"/>\n      </g>\n     </g>\n     <g id=\"text_12\">\n      <!-- 1.2 -->\n      <g transform=\"translate(7.2 34.45694)scale(0.1 -0.1)\">\n       <use xlink:href=\"#DejaVuSans-49\"/>\n       <use x=\"63.623047\" xlink:href=\"#DejaVuSans-46\"/>\n       <use x=\"95.410156\" xlink:href=\"#DejaVuSans-50\"/>\n      </g>\n     </g>\n    </g>\n   </g>\n   <g id=\"line2d_12\">\n    <path clip-path=\"url(#pc9cb10c916)\" d=\"M 34.923295 13.377273 \n\" style=\"fill:none;stroke:#1f77b4;stroke-linecap:square;stroke-width:1.5;\"/>\n   </g>\n   <g id=\"line2d_13\">\n    <path clip-path=\"url(#pc9cb10c916)\" d=\"M 34.923295 13.377273 \nL 44.646742 88.401353 \n\" style=\"fill:none;stroke:#1f77b4;stroke-linecap:square;stroke-width:1.5;\"/>\n   </g>\n   <g id=\"line2d_14\">\n    <path clip-path=\"url(#pc9cb10c916)\" d=\"M 34.923295 13.377273 \nL 44.646742 88.401353 \n\" style=\"fill:none;stroke:#1f77b4;stroke-linecap:square;stroke-width:1.5;\"/>\n   </g>\n   <g id=\"line2d_15\">\n    <path clip-path=\"url(#pc9cb10c916)\" d=\"M 49.633125 97.790506 \n\" style=\"fill:none;stroke:#ff7f0e;stroke-dasharray:5.55,2.4;stroke-dashoffset:0;stroke-width:1.5;\"/>\n   </g>\n   <g id=\"line2d_16\"/>\n   <g id=\"line2d_17\">\n    <path clip-path=\"url(#pc9cb10c916)\" d=\"M 34.923295 13.377273 \nL 44.646742 88.401353 \n\" style=\"fill:none;stroke:#1f77b4;stroke-linecap:square;stroke-width:1.5;\"/>\n   </g>\n   <g id=\"line2d_18\">\n    <path clip-path=\"url(#pc9cb10c916)\" d=\"M 49.633125 97.790506 \n\" style=\"fill:none;stroke:#ff7f0e;stroke-dasharray:5.55,2.4;stroke-dashoffset:0;stroke-width:1.5;\"/>\n   </g>\n   <g id=\"line2d_19\">\n    <path clip-path=\"url(#pc9cb10c916)\" d=\"M 49.633125 87.74013 \n\" style=\"fill:none;stroke:#2ca02c;stroke-dasharray:9.6,2.4,1.5,2.4;stroke-dashoffset:0;stroke-width:1.5;\"/>\n   </g>\n   <g id=\"line2d_20\">\n    <path clip-path=\"url(#pc9cb10c916)\" d=\"M 34.923295 13.377273 \nL 44.646742 88.401353 \nL 54.370189 104.179832 \n\" style=\"fill:none;stroke:#1f77b4;stroke-linecap:square;stroke-width:1.5;\"/>\n   </g>\n   <g id=\"line2d_21\">\n    <path clip-path=\"url(#pc9cb10c916)\" d=\"M 49.633125 97.790506 \n\" style=\"fill:none;stroke:#ff7f0e;stroke-dasharray:5.55,2.4;stroke-dashoffset:0;stroke-width:1.5;\"/>\n   </g>\n   <g id=\"line2d_22\">\n    <path clip-path=\"url(#pc9cb10c916)\" d=\"M 49.633125 87.74013 \n\" style=\"fill:none;stroke:#2ca02c;stroke-dasharray:9.6,2.4,1.5,2.4;stroke-dashoffset:0;stroke-width:1.5;\"/>\n   </g>\n   <g id=\"line2d_23\">\n    <path clip-path=\"url(#pc9cb10c916)\" d=\"M 34.923295 13.377273 \nL 44.646742 88.401353 \nL 54.370189 104.179832 \nL 64.093636 112.339904 \n\" style=\"fill:none;stroke:#1f77b4;stroke-linecap:square;stroke-width:1.5;\"/>\n   </g>\n   <g id=\"line2d_24\">\n    <path clip-path=\"url(#pc9cb10c916)\" d=\"M 49.633125 97.790506 \n\" style=\"fill:none;stroke:#ff7f0e;stroke-dasharray:5.55,2.4;stroke-dashoffset:0;stroke-width:1.5;\"/>\n   </g>\n   <g id=\"line2d_25\">\n    <path clip-path=\"url(#pc9cb10c916)\" d=\"M 49.633125 87.74013 \n\" style=\"fill:none;stroke:#2ca02c;stroke-dasharray:9.6,2.4,1.5,2.4;stroke-dashoffset:0;stroke-width:1.5;\"/>\n   </g>\n   <g id=\"line2d_26\">\n    <path clip-path=\"url(#pc9cb10c916)\" d=\"M 34.923295 13.377273 \nL 44.646742 88.401353 \nL 54.370189 104.179832 \nL 64.093636 112.339904 \n\" style=\"fill:none;stroke:#1f77b4;stroke-linecap:square;stroke-width:1.5;\"/>\n   </g>\n   <g id=\"line2d_27\">\n    <path clip-path=\"url(#pc9cb10c916)\" d=\"M 49.633125 97.790506 \nL 69.163125 113.17726 \n\" style=\"fill:none;stroke:#ff7f0e;stroke-dasharray:5.55,2.4;stroke-dashoffset:0;stroke-width:1.5;\"/>\n   </g>\n   <g id=\"line2d_28\">\n    <path clip-path=\"url(#pc9cb10c916)\" d=\"M 49.633125 87.74013 \n\" style=\"fill:none;stroke:#2ca02c;stroke-dasharray:9.6,2.4,1.5,2.4;stroke-dashoffset:0;stroke-width:1.5;\"/>\n   </g>\n   <g id=\"line2d_29\">\n    <path clip-path=\"url(#pc9cb10c916)\" d=\"M 34.923295 13.377273 \nL 44.646742 88.401353 \nL 54.370189 104.179832 \nL 64.093636 112.339904 \n\" style=\"fill:none;stroke:#1f77b4;stroke-linecap:square;stroke-width:1.5;\"/>\n   </g>\n   <g id=\"line2d_30\">\n    <path clip-path=\"url(#pc9cb10c916)\" d=\"M 49.633125 97.790506 \nL 69.163125 113.17726 \n\" style=\"fill:none;stroke:#ff7f0e;stroke-dasharray:5.55,2.4;stroke-dashoffset:0;stroke-width:1.5;\"/>\n   </g>\n   <g id=\"line2d_31\">\n    <path clip-path=\"url(#pc9cb10c916)\" d=\"M 49.633125 87.74013 \nL 69.163125 82.370052 \n\" style=\"fill:none;stroke:#2ca02c;stroke-dasharray:9.6,2.4,1.5,2.4;stroke-dashoffset:0;stroke-width:1.5;\"/>\n   </g>\n   <g id=\"line2d_32\">\n    <path clip-path=\"url(#pc9cb10c916)\" d=\"M 34.923295 13.377273 \nL 44.646742 88.401353 \nL 54.370189 104.179832 \nL 64.093636 112.339904 \nL 73.817082 117.532194 \n\" style=\"fill:none;stroke:#1f77b4;stroke-linecap:square;stroke-width:1.5;\"/>\n   </g>\n   <g id=\"line2d_33\">\n    <path clip-path=\"url(#pc9cb10c916)\" d=\"M 49.633125 97.790506 \nL 69.163125 113.17726 \n\" style=\"fill:none;stroke:#ff7f0e;stroke-dasharray:5.55,2.4;stroke-dashoffset:0;stroke-width:1.5;\"/>\n   </g>\n   <g id=\"line2d_34\">\n    <path clip-path=\"url(#pc9cb10c916)\" d=\"M 49.633125 87.74013 \nL 69.163125 82.370052 \n\" style=\"fill:none;stroke:#2ca02c;stroke-dasharray:9.6,2.4,1.5,2.4;stroke-dashoffset:0;stroke-width:1.5;\"/>\n   </g>\n   <g id=\"line2d_35\">\n    <path clip-path=\"url(#pc9cb10c916)\" d=\"M 34.923295 13.377273 \nL 44.646742 88.401353 \nL 54.370189 104.179832 \nL 64.093636 112.339904 \nL 73.817082 117.532194 \nL 83.540529 120.216066 \n\" style=\"fill:none;stroke:#1f77b4;stroke-linecap:square;stroke-width:1.5;\"/>\n   </g>\n   <g id=\"line2d_36\">\n    <path clip-path=\"url(#pc9cb10c916)\" d=\"M 49.633125 97.790506 \nL 69.163125 113.17726 \n\" style=\"fill:none;stroke:#ff7f0e;stroke-dasharray:5.55,2.4;stroke-dashoffset:0;stroke-width:1.5;\"/>\n   </g>\n   <g id=\"line2d_37\">\n    <path clip-path=\"url(#pc9cb10c916)\" d=\"M 49.633125 87.74013 \nL 69.163125 82.370052 \n\" style=\"fill:none;stroke:#2ca02c;stroke-dasharray:9.6,2.4,1.5,2.4;stroke-dashoffset:0;stroke-width:1.5;\"/>\n   </g>\n   <g id=\"line2d_38\">\n    <path clip-path=\"url(#pc9cb10c916)\" d=\"M 34.923295 13.377273 \nL 44.646742 88.401353 \nL 54.370189 104.179832 \nL 64.093636 112.339904 \nL 73.817082 117.532194 \nL 83.540529 120.216066 \n\" style=\"fill:none;stroke:#1f77b4;stroke-linecap:square;stroke-width:1.5;\"/>\n   </g>\n   <g id=\"line2d_39\">\n    <path clip-path=\"url(#pc9cb10c916)\" d=\"M 49.633125 97.790506 \nL 69.163125 113.17726 \nL 88.693125 111.725975 \n\" style=\"fill:none;stroke:#ff7f0e;stroke-dasharray:5.55,2.4;stroke-dashoffset:0;stroke-width:1.5;\"/>\n   </g>\n   <g id=\"line2d_40\">\n    <path clip-path=\"url(#pc9cb10c916)\" d=\"M 49.633125 87.74013 \nL 69.163125 82.370052 \n\" style=\"fill:none;stroke:#2ca02c;stroke-dasharray:9.6,2.4,1.5,2.4;stroke-dashoffset:0;stroke-width:1.5;\"/>\n   </g>\n   <g id=\"line2d_41\">\n    <path clip-path=\"url(#pc9cb10c916)\" d=\"M 34.923295 13.377273 \nL 44.646742 88.401353 \nL 54.370189 104.179832 \nL 64.093636 112.339904 \nL 73.817082 117.532194 \nL 83.540529 120.216066 \n\" style=\"fill:none;stroke:#1f77b4;stroke-linecap:square;stroke-width:1.5;\"/>\n   </g>\n   <g id=\"line2d_42\">\n    <path clip-path=\"url(#pc9cb10c916)\" d=\"M 49.633125 97.790506 \nL 69.163125 113.17726 \nL 88.693125 111.725975 \n\" style=\"fill:none;stroke:#ff7f0e;stroke-dasharray:5.55,2.4;stroke-dashoffset:0;stroke-width:1.5;\"/>\n   </g>\n   <g id=\"line2d_43\">\n    <path clip-path=\"url(#pc9cb10c916)\" d=\"M 49.633125 87.74013 \nL 69.163125 82.370052 \nL 88.693125 82.230734 \n\" style=\"fill:none;stroke:#2ca02c;stroke-dasharray:9.6,2.4,1.5,2.4;stroke-dashoffset:0;stroke-width:1.5;\"/>\n   </g>\n   <g id=\"line2d_44\">\n    <path clip-path=\"url(#pc9cb10c916)\" d=\"M 34.923295 13.377273 \nL 44.646742 88.401353 \nL 54.370189 104.179832 \nL 64.093636 112.339904 \nL 73.817082 117.532194 \nL 83.540529 120.216066 \nL 93.263976 123.830172 \n\" style=\"fill:none;stroke:#1f77b4;stroke-linecap:square;stroke-width:1.5;\"/>\n   </g>\n   <g id=\"line2d_45\">\n    <path clip-path=\"url(#pc9cb10c916)\" d=\"M 49.633125 97.790506 \nL 69.163125 113.17726 \nL 88.693125 111.725975 \n\" style=\"fill:none;stroke:#ff7f0e;stroke-dasharray:5.55,2.4;stroke-dashoffset:0;stroke-width:1.5;\"/>\n   </g>\n   <g id=\"line2d_46\">\n    <path clip-path=\"url(#pc9cb10c916)\" d=\"M 49.633125 87.74013 \nL 69.163125 82.370052 \nL 88.693125 82.230734 \n\" style=\"fill:none;stroke:#2ca02c;stroke-dasharray:9.6,2.4,1.5,2.4;stroke-dashoffset:0;stroke-width:1.5;\"/>\n   </g>\n   <g id=\"line2d_47\">\n    <path clip-path=\"url(#pc9cb10c916)\" d=\"M 34.923295 13.377273 \nL 44.646742 88.401353 \nL 54.370189 104.179832 \nL 64.093636 112.339904 \nL 73.817082 117.532194 \nL 83.540529 120.216066 \nL 93.263976 123.830172 \nL 102.987423 124.161663 \n\" style=\"fill:none;stroke:#1f77b4;stroke-linecap:square;stroke-width:1.5;\"/>\n   </g>\n   <g id=\"line2d_48\">\n    <path clip-path=\"url(#pc9cb10c916)\" d=\"M 49.633125 97.790506 \nL 69.163125 113.17726 \nL 88.693125 111.725975 \n\" style=\"fill:none;stroke:#ff7f0e;stroke-dasharray:5.55,2.4;stroke-dashoffset:0;stroke-width:1.5;\"/>\n   </g>\n   <g id=\"line2d_49\">\n    <path clip-path=\"url(#pc9cb10c916)\" d=\"M 49.633125 87.74013 \nL 69.163125 82.370052 \nL 88.693125 82.230734 \n\" style=\"fill:none;stroke:#2ca02c;stroke-dasharray:9.6,2.4,1.5,2.4;stroke-dashoffset:0;stroke-width:1.5;\"/>\n   </g>\n   <g id=\"line2d_50\">\n    <path clip-path=\"url(#pc9cb10c916)\" d=\"M 34.923295 13.377273 \nL 44.646742 88.401353 \nL 54.370189 104.179832 \nL 64.093636 112.339904 \nL 73.817082 117.532194 \nL 83.540529 120.216066 \nL 93.263976 123.830172 \nL 102.987423 124.161663 \n\" style=\"fill:none;stroke:#1f77b4;stroke-linecap:square;stroke-width:1.5;\"/>\n   </g>\n   <g id=\"line2d_51\">\n    <path clip-path=\"url(#pc9cb10c916)\" d=\"M 49.633125 97.790506 \nL 69.163125 113.17726 \nL 88.693125 111.725975 \nL 108.223125 123.721835 \n\" style=\"fill:none;stroke:#ff7f0e;stroke-dasharray:5.55,2.4;stroke-dashoffset:0;stroke-width:1.5;\"/>\n   </g>\n   <g id=\"line2d_52\">\n    <path clip-path=\"url(#pc9cb10c916)\" d=\"M 49.633125 87.74013 \nL 69.163125 82.370052 \nL 88.693125 82.230734 \n\" style=\"fill:none;stroke:#2ca02c;stroke-dasharray:9.6,2.4,1.5,2.4;stroke-dashoffset:0;stroke-width:1.5;\"/>\n   </g>\n   <g id=\"line2d_53\">\n    <path clip-path=\"url(#pc9cb10c916)\" d=\"M 34.923295 13.377273 \nL 44.646742 88.401353 \nL 54.370189 104.179832 \nL 64.093636 112.339904 \nL 73.817082 117.532194 \nL 83.540529 120.216066 \nL 93.263976 123.830172 \nL 102.987423 124.161663 \n\" style=\"fill:none;stroke:#1f77b4;stroke-linecap:square;stroke-width:1.5;\"/>\n   </g>\n   <g id=\"line2d_54\">\n    <path clip-path=\"url(#pc9cb10c916)\" d=\"M 49.633125 97.790506 \nL 69.163125 113.17726 \nL 88.693125 111.725975 \nL 108.223125 123.721835 \n\" style=\"fill:none;stroke:#ff7f0e;stroke-dasharray:5.55,2.4;stroke-dashoffset:0;stroke-width:1.5;\"/>\n   </g>\n   <g id=\"line2d_55\">\n    <path clip-path=\"url(#pc9cb10c916)\" d=\"M 49.633125 87.74013 \nL 69.163125 82.370052 \nL 88.693125 82.230734 \nL 108.223125 78.557803 \n\" style=\"fill:none;stroke:#2ca02c;stroke-dasharray:9.6,2.4,1.5,2.4;stroke-dashoffset:0;stroke-width:1.5;\"/>\n   </g>\n   <g id=\"line2d_56\">\n    <path clip-path=\"url(#pc9cb10c916)\" d=\"M 34.923295 13.377273 \nL 44.646742 88.401353 \nL 54.370189 104.179832 \nL 64.093636 112.339904 \nL 73.817082 117.532194 \nL 83.540529 120.216066 \nL 93.263976 123.830172 \nL 102.987423 124.161663 \nL 112.71087 126.40748 \n\" style=\"fill:none;stroke:#1f77b4;stroke-linecap:square;stroke-width:1.5;\"/>\n   </g>\n   <g id=\"line2d_57\">\n    <path clip-path=\"url(#pc9cb10c916)\" d=\"M 49.633125 97.790506 \nL 69.163125 113.17726 \nL 88.693125 111.725975 \nL 108.223125 123.721835 \n\" style=\"fill:none;stroke:#ff7f0e;stroke-dasharray:5.55,2.4;stroke-dashoffset:0;stroke-width:1.5;\"/>\n   </g>\n   <g id=\"line2d_58\">\n    <path clip-path=\"url(#pc9cb10c916)\" d=\"M 49.633125 87.74013 \nL 69.163125 82.370052 \nL 88.693125 82.230734 \nL 108.223125 78.557803 \n\" style=\"fill:none;stroke:#2ca02c;stroke-dasharray:9.6,2.4,1.5,2.4;stroke-dashoffset:0;stroke-width:1.5;\"/>\n   </g>\n   <g id=\"line2d_59\">\n    <path clip-path=\"url(#pc9cb10c916)\" d=\"M 34.923295 13.377273 \nL 44.646742 88.401353 \nL 54.370189 104.179832 \nL 64.093636 112.339904 \nL 73.817082 117.532194 \nL 83.540529 120.216066 \nL 93.263976 123.830172 \nL 102.987423 124.161663 \nL 112.71087 126.40748 \nL 122.434316 127.948711 \n\" style=\"fill:none;stroke:#1f77b4;stroke-linecap:square;stroke-width:1.5;\"/>\n   </g>\n   <g id=\"line2d_60\">\n    <path clip-path=\"url(#pc9cb10c916)\" d=\"M 49.633125 97.790506 \nL 69.163125 113.17726 \nL 88.693125 111.725975 \nL 108.223125 123.721835 \n\" style=\"fill:none;stroke:#ff7f0e;stroke-dasharray:5.55,2.4;stroke-dashoffset:0;stroke-width:1.5;\"/>\n   </g>\n   <g id=\"line2d_61\">\n    <path clip-path=\"url(#pc9cb10c916)\" d=\"M 49.633125 87.74013 \nL 69.163125 82.370052 \nL 88.693125 82.230734 \nL 108.223125 78.557803 \n\" style=\"fill:none;stroke:#2ca02c;stroke-dasharray:9.6,2.4,1.5,2.4;stroke-dashoffset:0;stroke-width:1.5;\"/>\n   </g>\n   <g id=\"line2d_62\">\n    <path clip-path=\"url(#pc9cb10c916)\" d=\"M 34.923295 13.377273 \nL 44.646742 88.401353 \nL 54.370189 104.179832 \nL 64.093636 112.339904 \nL 73.817082 117.532194 \nL 83.540529 120.216066 \nL 93.263976 123.830172 \nL 102.987423 124.161663 \nL 112.71087 126.40748 \nL 122.434316 127.948711 \n\" style=\"fill:none;stroke:#1f77b4;stroke-linecap:square;stroke-width:1.5;\"/>\n   </g>\n   <g id=\"line2d_63\">\n    <path clip-path=\"url(#pc9cb10c916)\" d=\"M 49.633125 97.790506 \nL 69.163125 113.17726 \nL 88.693125 111.725975 \nL 108.223125 123.721835 \nL 127.753125 125.621039 \n\" style=\"fill:none;stroke:#ff7f0e;stroke-dasharray:5.55,2.4;stroke-dashoffset:0;stroke-width:1.5;\"/>\n   </g>\n   <g id=\"line2d_64\">\n    <path clip-path=\"url(#pc9cb10c916)\" d=\"M 49.633125 87.74013 \nL 69.163125 82.370052 \nL 88.693125 82.230734 \nL 108.223125 78.557803 \n\" style=\"fill:none;stroke:#2ca02c;stroke-dasharray:9.6,2.4,1.5,2.4;stroke-dashoffset:0;stroke-width:1.5;\"/>\n   </g>\n   <g id=\"line2d_65\">\n    <path clip-path=\"url(#pc9cb10c916)\" d=\"M 34.923295 13.377273 \nL 44.646742 88.401353 \nL 54.370189 104.179832 \nL 64.093636 112.339904 \nL 73.817082 117.532194 \nL 83.540529 120.216066 \nL 93.263976 123.830172 \nL 102.987423 124.161663 \nL 112.71087 126.40748 \nL 122.434316 127.948711 \n\" style=\"fill:none;stroke:#1f77b4;stroke-linecap:square;stroke-width:1.5;\"/>\n   </g>\n   <g id=\"line2d_66\">\n    <path clip-path=\"url(#pc9cb10c916)\" d=\"M 49.633125 97.790506 \nL 69.163125 113.17726 \nL 88.693125 111.725975 \nL 108.223125 123.721835 \nL 127.753125 125.621039 \n\" style=\"fill:none;stroke:#ff7f0e;stroke-dasharray:5.55,2.4;stroke-dashoffset:0;stroke-width:1.5;\"/>\n   </g>\n   <g id=\"line2d_67\">\n    <path clip-path=\"url(#pc9cb10c916)\" d=\"M 49.633125 87.74013 \nL 69.163125 82.370052 \nL 88.693125 82.230734 \nL 108.223125 78.557803 \nL 127.753125 78.215841 \n\" style=\"fill:none;stroke:#2ca02c;stroke-dasharray:9.6,2.4,1.5,2.4;stroke-dashoffset:0;stroke-width:1.5;\"/>\n   </g>\n   <g id=\"line2d_68\">\n    <path clip-path=\"url(#pc9cb10c916)\" d=\"M 34.923295 13.377273 \nL 44.646742 88.401353 \nL 54.370189 104.179832 \nL 64.093636 112.339904 \nL 73.817082 117.532194 \nL 83.540529 120.216066 \nL 93.263976 123.830172 \nL 102.987423 124.161663 \nL 112.71087 126.40748 \nL 122.434316 127.948711 \nL 132.157763 130.749313 \n\" style=\"fill:none;stroke:#1f77b4;stroke-linecap:square;stroke-width:1.5;\"/>\n   </g>\n   <g id=\"line2d_69\">\n    <path clip-path=\"url(#pc9cb10c916)\" d=\"M 49.633125 97.790506 \nL 69.163125 113.17726 \nL 88.693125 111.725975 \nL 108.223125 123.721835 \nL 127.753125 125.621039 \n\" style=\"fill:none;stroke:#ff7f0e;stroke-dasharray:5.55,2.4;stroke-dashoffset:0;stroke-width:1.5;\"/>\n   </g>\n   <g id=\"line2d_70\">\n    <path clip-path=\"url(#pc9cb10c916)\" d=\"M 49.633125 87.74013 \nL 69.163125 82.370052 \nL 88.693125 82.230734 \nL 108.223125 78.557803 \nL 127.753125 78.215841 \n\" style=\"fill:none;stroke:#2ca02c;stroke-dasharray:9.6,2.4,1.5,2.4;stroke-dashoffset:0;stroke-width:1.5;\"/>\n   </g>\n   <g id=\"line2d_71\">\n    <path clip-path=\"url(#pc9cb10c916)\" d=\"M 34.923295 13.377273 \nL 44.646742 88.401353 \nL 54.370189 104.179832 \nL 64.093636 112.339904 \nL 73.817082 117.532194 \nL 83.540529 120.216066 \nL 93.263976 123.830172 \nL 102.987423 124.161663 \nL 112.71087 126.40748 \nL 122.434316 127.948711 \nL 132.157763 130.749313 \nL 141.88121 129.397029 \n\" style=\"fill:none;stroke:#1f77b4;stroke-linecap:square;stroke-width:1.5;\"/>\n   </g>\n   <g id=\"line2d_72\">\n    <path clip-path=\"url(#pc9cb10c916)\" d=\"M 49.633125 97.790506 \nL 69.163125 113.17726 \nL 88.693125 111.725975 \nL 108.223125 123.721835 \nL 127.753125 125.621039 \n\" style=\"fill:none;stroke:#ff7f0e;stroke-dasharray:5.55,2.4;stroke-dashoffset:0;stroke-width:1.5;\"/>\n   </g>\n   <g id=\"line2d_73\">\n    <path clip-path=\"url(#pc9cb10c916)\" d=\"M 49.633125 87.74013 \nL 69.163125 82.370052 \nL 88.693125 82.230734 \nL 108.223125 78.557803 \nL 127.753125 78.215841 \n\" style=\"fill:none;stroke:#2ca02c;stroke-dasharray:9.6,2.4,1.5,2.4;stroke-dashoffset:0;stroke-width:1.5;\"/>\n   </g>\n   <g id=\"line2d_74\">\n    <path clip-path=\"url(#pc9cb10c916)\" d=\"M 34.923295 13.377273 \nL 44.646742 88.401353 \nL 54.370189 104.179832 \nL 64.093636 112.339904 \nL 73.817082 117.532194 \nL 83.540529 120.216066 \nL 93.263976 123.830172 \nL 102.987423 124.161663 \nL 112.71087 126.40748 \nL 122.434316 127.948711 \nL 132.157763 130.749313 \nL 141.88121 129.397029 \n\" style=\"fill:none;stroke:#1f77b4;stroke-linecap:square;stroke-width:1.5;\"/>\n   </g>\n   <g id=\"line2d_75\">\n    <path clip-path=\"url(#pc9cb10c916)\" d=\"M 49.633125 97.790506 \nL 69.163125 113.17726 \nL 88.693125 111.725975 \nL 108.223125 123.721835 \nL 127.753125 125.621039 \nL 147.283125 126.143002 \n\" style=\"fill:none;stroke:#ff7f0e;stroke-dasharray:5.55,2.4;stroke-dashoffset:0;stroke-width:1.5;\"/>\n   </g>\n   <g id=\"line2d_76\">\n    <path clip-path=\"url(#pc9cb10c916)\" d=\"M 49.633125 87.74013 \nL 69.163125 82.370052 \nL 88.693125 82.230734 \nL 108.223125 78.557803 \nL 127.753125 78.215841 \n\" style=\"fill:none;stroke:#2ca02c;stroke-dasharray:9.6,2.4,1.5,2.4;stroke-dashoffset:0;stroke-width:1.5;\"/>\n   </g>\n   <g id=\"line2d_77\">\n    <path clip-path=\"url(#pc9cb10c916)\" d=\"M 34.923295 13.377273 \nL 44.646742 88.401353 \nL 54.370189 104.179832 \nL 64.093636 112.339904 \nL 73.817082 117.532194 \nL 83.540529 120.216066 \nL 93.263976 123.830172 \nL 102.987423 124.161663 \nL 112.71087 126.40748 \nL 122.434316 127.948711 \nL 132.157763 130.749313 \nL 141.88121 129.397029 \n\" style=\"fill:none;stroke:#1f77b4;stroke-linecap:square;stroke-width:1.5;\"/>\n   </g>\n   <g id=\"line2d_78\">\n    <path clip-path=\"url(#pc9cb10c916)\" d=\"M 49.633125 97.790506 \nL 69.163125 113.17726 \nL 88.693125 111.725975 \nL 108.223125 123.721835 \nL 127.753125 125.621039 \nL 147.283125 126.143002 \n\" style=\"fill:none;stroke:#ff7f0e;stroke-dasharray:5.55,2.4;stroke-dashoffset:0;stroke-width:1.5;\"/>\n   </g>\n   <g id=\"line2d_79\">\n    <path clip-path=\"url(#pc9cb10c916)\" d=\"M 49.633125 87.74013 \nL 69.163125 82.370052 \nL 88.693125 82.230734 \nL 108.223125 78.557803 \nL 127.753125 78.215841 \nL 147.283125 78.114519 \n\" style=\"fill:none;stroke:#2ca02c;stroke-dasharray:9.6,2.4,1.5,2.4;stroke-dashoffset:0;stroke-width:1.5;\"/>\n   </g>\n   <g id=\"line2d_80\">\n    <path clip-path=\"url(#pc9cb10c916)\" d=\"M 34.923295 13.377273 \nL 44.646742 88.401353 \nL 54.370189 104.179832 \nL 64.093636 112.339904 \nL 73.817082 117.532194 \nL 83.540529 120.216066 \nL 93.263976 123.830172 \nL 102.987423 124.161663 \nL 112.71087 126.40748 \nL 122.434316 127.948711 \nL 132.157763 130.749313 \nL 141.88121 129.397029 \nL 151.604657 131.308654 \n\" style=\"fill:none;stroke:#1f77b4;stroke-linecap:square;stroke-width:1.5;\"/>\n   </g>\n   <g id=\"line2d_81\">\n    <path clip-path=\"url(#pc9cb10c916)\" d=\"M 49.633125 97.790506 \nL 69.163125 113.17726 \nL 88.693125 111.725975 \nL 108.223125 123.721835 \nL 127.753125 125.621039 \nL 147.283125 126.143002 \n\" style=\"fill:none;stroke:#ff7f0e;stroke-dasharray:5.55,2.4;stroke-dashoffset:0;stroke-width:1.5;\"/>\n   </g>\n   <g id=\"line2d_82\">\n    <path clip-path=\"url(#pc9cb10c916)\" d=\"M 49.633125 87.74013 \nL 69.163125 82.370052 \nL 88.693125 82.230734 \nL 108.223125 78.557803 \nL 127.753125 78.215841 \nL 147.283125 78.114519 \n\" style=\"fill:none;stroke:#2ca02c;stroke-dasharray:9.6,2.4,1.5,2.4;stroke-dashoffset:0;stroke-width:1.5;\"/>\n   </g>\n   <g id=\"line2d_83\">\n    <path clip-path=\"url(#pc9cb10c916)\" d=\"M 34.923295 13.377273 \nL 44.646742 88.401353 \nL 54.370189 104.179832 \nL 64.093636 112.339904 \nL 73.817082 117.532194 \nL 83.540529 120.216066 \nL 93.263976 123.830172 \nL 102.987423 124.161663 \nL 112.71087 126.40748 \nL 122.434316 127.948711 \nL 132.157763 130.749313 \nL 141.88121 129.397029 \nL 151.604657 131.308654 \nL 161.328104 132.84893 \n\" style=\"fill:none;stroke:#1f77b4;stroke-linecap:square;stroke-width:1.5;\"/>\n   </g>\n   <g id=\"line2d_84\">\n    <path clip-path=\"url(#pc9cb10c916)\" d=\"M 49.633125 97.790506 \nL 69.163125 113.17726 \nL 88.693125 111.725975 \nL 108.223125 123.721835 \nL 127.753125 125.621039 \nL 147.283125 126.143002 \n\" style=\"fill:none;stroke:#ff7f0e;stroke-dasharray:5.55,2.4;stroke-dashoffset:0;stroke-width:1.5;\"/>\n   </g>\n   <g id=\"line2d_85\">\n    <path clip-path=\"url(#pc9cb10c916)\" d=\"M 49.633125 87.74013 \nL 69.163125 82.370052 \nL 88.693125 82.230734 \nL 108.223125 78.557803 \nL 127.753125 78.215841 \nL 147.283125 78.114519 \n\" style=\"fill:none;stroke:#2ca02c;stroke-dasharray:9.6,2.4,1.5,2.4;stroke-dashoffset:0;stroke-width:1.5;\"/>\n   </g>\n   <g id=\"line2d_86\">\n    <path clip-path=\"url(#pc9cb10c916)\" d=\"M 34.923295 13.377273 \nL 44.646742 88.401353 \nL 54.370189 104.179832 \nL 64.093636 112.339904 \nL 73.817082 117.532194 \nL 83.540529 120.216066 \nL 93.263976 123.830172 \nL 102.987423 124.161663 \nL 112.71087 126.40748 \nL 122.434316 127.948711 \nL 132.157763 130.749313 \nL 141.88121 129.397029 \nL 151.604657 131.308654 \nL 161.328104 132.84893 \n\" style=\"fill:none;stroke:#1f77b4;stroke-linecap:square;stroke-width:1.5;\"/>\n   </g>\n   <g id=\"line2d_87\">\n    <path clip-path=\"url(#pc9cb10c916)\" d=\"M 49.633125 97.790506 \nL 69.163125 113.17726 \nL 88.693125 111.725975 \nL 108.223125 123.721835 \nL 127.753125 125.621039 \nL 147.283125 126.143002 \nL 166.813125 124.604428 \n\" style=\"fill:none;stroke:#ff7f0e;stroke-dasharray:5.55,2.4;stroke-dashoffset:0;stroke-width:1.5;\"/>\n   </g>\n   <g id=\"line2d_88\">\n    <path clip-path=\"url(#pc9cb10c916)\" d=\"M 49.633125 87.74013 \nL 69.163125 82.370052 \nL 88.693125 82.230734 \nL 108.223125 78.557803 \nL 127.753125 78.215841 \nL 147.283125 78.114519 \n\" style=\"fill:none;stroke:#2ca02c;stroke-dasharray:9.6,2.4,1.5,2.4;stroke-dashoffset:0;stroke-width:1.5;\"/>\n   </g>\n   <g id=\"line2d_89\">\n    <path clip-path=\"url(#pc9cb10c916)\" d=\"M 34.923295 13.377273 \nL 44.646742 88.401353 \nL 54.370189 104.179832 \nL 64.093636 112.339904 \nL 73.817082 117.532194 \nL 83.540529 120.216066 \nL 93.263976 123.830172 \nL 102.987423 124.161663 \nL 112.71087 126.40748 \nL 122.434316 127.948711 \nL 132.157763 130.749313 \nL 141.88121 129.397029 \nL 151.604657 131.308654 \nL 161.328104 132.84893 \n\" style=\"fill:none;stroke:#1f77b4;stroke-linecap:square;stroke-width:1.5;\"/>\n   </g>\n   <g id=\"line2d_90\">\n    <path clip-path=\"url(#pc9cb10c916)\" d=\"M 49.633125 97.790506 \nL 69.163125 113.17726 \nL 88.693125 111.725975 \nL 108.223125 123.721835 \nL 127.753125 125.621039 \nL 147.283125 126.143002 \nL 166.813125 124.604428 \n\" style=\"fill:none;stroke:#ff7f0e;stroke-dasharray:5.55,2.4;stroke-dashoffset:0;stroke-width:1.5;\"/>\n   </g>\n   <g id=\"line2d_91\">\n    <path clip-path=\"url(#pc9cb10c916)\" d=\"M 49.633125 87.74013 \nL 69.163125 82.370052 \nL 88.693125 82.230734 \nL 108.223125 78.557803 \nL 127.753125 78.215841 \nL 147.283125 78.114519 \nL 166.813125 78.963092 \n\" style=\"fill:none;stroke:#2ca02c;stroke-dasharray:9.6,2.4,1.5,2.4;stroke-dashoffset:0;stroke-width:1.5;\"/>\n   </g>\n   <g id=\"line2d_92\">\n    <path clip-path=\"url(#pc9cb10c916)\" d=\"M 34.923295 13.377273 \nL 44.646742 88.401353 \nL 54.370189 104.179832 \nL 64.093636 112.339904 \nL 73.817082 117.532194 \nL 83.540529 120.216066 \nL 93.263976 123.830172 \nL 102.987423 124.161663 \nL 112.71087 126.40748 \nL 122.434316 127.948711 \nL 132.157763 130.749313 \nL 141.88121 129.397029 \nL 151.604657 131.308654 \nL 161.328104 132.84893 \nL 171.051551 133.823821 \n\" style=\"fill:none;stroke:#1f77b4;stroke-linecap:square;stroke-width:1.5;\"/>\n   </g>\n   <g id=\"line2d_93\">\n    <path clip-path=\"url(#pc9cb10c916)\" d=\"M 49.633125 97.790506 \nL 69.163125 113.17726 \nL 88.693125 111.725975 \nL 108.223125 123.721835 \nL 127.753125 125.621039 \nL 147.283125 126.143002 \nL 166.813125 124.604428 \n\" style=\"fill:none;stroke:#ff7f0e;stroke-dasharray:5.55,2.4;stroke-dashoffset:0;stroke-width:1.5;\"/>\n   </g>\n   <g id=\"line2d_94\">\n    <path clip-path=\"url(#pc9cb10c916)\" d=\"M 49.633125 87.74013 \nL 69.163125 82.370052 \nL 88.693125 82.230734 \nL 108.223125 78.557803 \nL 127.753125 78.215841 \nL 147.283125 78.114519 \nL 166.813125 78.963092 \n\" style=\"fill:none;stroke:#2ca02c;stroke-dasharray:9.6,2.4,1.5,2.4;stroke-dashoffset:0;stroke-width:1.5;\"/>\n   </g>\n   <g id=\"line2d_95\">\n    <path clip-path=\"url(#pc9cb10c916)\" d=\"M 34.923295 13.377273 \nL 44.646742 88.401353 \nL 54.370189 104.179832 \nL 64.093636 112.339904 \nL 73.817082 117.532194 \nL 83.540529 120.216066 \nL 93.263976 123.830172 \nL 102.987423 124.161663 \nL 112.71087 126.40748 \nL 122.434316 127.948711 \nL 132.157763 130.749313 \nL 141.88121 129.397029 \nL 151.604657 131.308654 \nL 161.328104 132.84893 \nL 171.051551 133.823821 \nL 180.774997 133.789762 \n\" style=\"fill:none;stroke:#1f77b4;stroke-linecap:square;stroke-width:1.5;\"/>\n   </g>\n   <g id=\"line2d_96\">\n    <path clip-path=\"url(#pc9cb10c916)\" d=\"M 49.633125 97.790506 \nL 69.163125 113.17726 \nL 88.693125 111.725975 \nL 108.223125 123.721835 \nL 127.753125 125.621039 \nL 147.283125 126.143002 \nL 166.813125 124.604428 \n\" style=\"fill:none;stroke:#ff7f0e;stroke-dasharray:5.55,2.4;stroke-dashoffset:0;stroke-width:1.5;\"/>\n   </g>\n   <g id=\"line2d_97\">\n    <path clip-path=\"url(#pc9cb10c916)\" d=\"M 49.633125 87.74013 \nL 69.163125 82.370052 \nL 88.693125 82.230734 \nL 108.223125 78.557803 \nL 127.753125 78.215841 \nL 147.283125 78.114519 \nL 166.813125 78.963092 \n\" style=\"fill:none;stroke:#2ca02c;stroke-dasharray:9.6,2.4,1.5,2.4;stroke-dashoffset:0;stroke-width:1.5;\"/>\n   </g>\n   <g id=\"line2d_98\">\n    <path clip-path=\"url(#pc9cb10c916)\" d=\"M 34.923295 13.377273 \nL 44.646742 88.401353 \nL 54.370189 104.179832 \nL 64.093636 112.339904 \nL 73.817082 117.532194 \nL 83.540529 120.216066 \nL 93.263976 123.830172 \nL 102.987423 124.161663 \nL 112.71087 126.40748 \nL 122.434316 127.948711 \nL 132.157763 130.749313 \nL 141.88121 129.397029 \nL 151.604657 131.308654 \nL 161.328104 132.84893 \nL 171.051551 133.823821 \nL 180.774997 133.789762 \n\" style=\"fill:none;stroke:#1f77b4;stroke-linecap:square;stroke-width:1.5;\"/>\n   </g>\n   <g id=\"line2d_99\">\n    <path clip-path=\"url(#pc9cb10c916)\" d=\"M 49.633125 97.790506 \nL 69.163125 113.17726 \nL 88.693125 111.725975 \nL 108.223125 123.721835 \nL 127.753125 125.621039 \nL 147.283125 126.143002 \nL 166.813125 124.604428 \nL 186.343125 129.669654 \n\" style=\"fill:none;stroke:#ff7f0e;stroke-dasharray:5.55,2.4;stroke-dashoffset:0;stroke-width:1.5;\"/>\n   </g>\n   <g id=\"line2d_100\">\n    <path clip-path=\"url(#pc9cb10c916)\" d=\"M 49.633125 87.74013 \nL 69.163125 82.370052 \nL 88.693125 82.230734 \nL 108.223125 78.557803 \nL 127.753125 78.215841 \nL 147.283125 78.114519 \nL 166.813125 78.963092 \n\" style=\"fill:none;stroke:#2ca02c;stroke-dasharray:9.6,2.4,1.5,2.4;stroke-dashoffset:0;stroke-width:1.5;\"/>\n   </g>\n   <g id=\"line2d_101\">\n    <path clip-path=\"url(#pc9cb10c916)\" d=\"M 34.923295 13.377273 \nL 44.646742 88.401353 \nL 54.370189 104.179832 \nL 64.093636 112.339904 \nL 73.817082 117.532194 \nL 83.540529 120.216066 \nL 93.263976 123.830172 \nL 102.987423 124.161663 \nL 112.71087 126.40748 \nL 122.434316 127.948711 \nL 132.157763 130.749313 \nL 141.88121 129.397029 \nL 151.604657 131.308654 \nL 161.328104 132.84893 \nL 171.051551 133.823821 \nL 180.774997 133.789762 \n\" style=\"fill:none;stroke:#1f77b4;stroke-linecap:square;stroke-width:1.5;\"/>\n   </g>\n   <g id=\"line2d_102\">\n    <path clip-path=\"url(#pc9cb10c916)\" d=\"M 49.633125 97.790506 \nL 69.163125 113.17726 \nL 88.693125 111.725975 \nL 108.223125 123.721835 \nL 127.753125 125.621039 \nL 147.283125 126.143002 \nL 166.813125 124.604428 \nL 186.343125 129.669654 \n\" style=\"fill:none;stroke:#ff7f0e;stroke-dasharray:5.55,2.4;stroke-dashoffset:0;stroke-width:1.5;\"/>\n   </g>\n   <g id=\"line2d_103\">\n    <path clip-path=\"url(#pc9cb10c916)\" d=\"M 49.633125 87.74013 \nL 69.163125 82.370052 \nL 88.693125 82.230734 \nL 108.223125 78.557803 \nL 127.753125 78.215841 \nL 147.283125 78.114519 \nL 166.813125 78.963092 \nL 186.343125 77.113962 \n\" style=\"fill:none;stroke:#2ca02c;stroke-dasharray:9.6,2.4,1.5,2.4;stroke-dashoffset:0;stroke-width:1.5;\"/>\n   </g>\n   <g id=\"line2d_104\">\n    <path clip-path=\"url(#pc9cb10c916)\" d=\"M 34.923295 13.377273 \nL 44.646742 88.401353 \nL 54.370189 104.179832 \nL 64.093636 112.339904 \nL 73.817082 117.532194 \nL 83.540529 120.216066 \nL 93.263976 123.830172 \nL 102.987423 124.161663 \nL 112.71087 126.40748 \nL 122.434316 127.948711 \nL 132.157763 130.749313 \nL 141.88121 129.397029 \nL 151.604657 131.308654 \nL 161.328104 132.84893 \nL 171.051551 133.823821 \nL 180.774997 133.789762 \nL 190.498444 135.590886 \n\" style=\"fill:none;stroke:#1f77b4;stroke-linecap:square;stroke-width:1.5;\"/>\n   </g>\n   <g id=\"line2d_105\">\n    <path clip-path=\"url(#pc9cb10c916)\" d=\"M 49.633125 97.790506 \nL 69.163125 113.17726 \nL 88.693125 111.725975 \nL 108.223125 123.721835 \nL 127.753125 125.621039 \nL 147.283125 126.143002 \nL 166.813125 124.604428 \nL 186.343125 129.669654 \n\" style=\"fill:none;stroke:#ff7f0e;stroke-dasharray:5.55,2.4;stroke-dashoffset:0;stroke-width:1.5;\"/>\n   </g>\n   <g id=\"line2d_106\">\n    <path clip-path=\"url(#pc9cb10c916)\" d=\"M 49.633125 87.74013 \nL 69.163125 82.370052 \nL 88.693125 82.230734 \nL 108.223125 78.557803 \nL 127.753125 78.215841 \nL 147.283125 78.114519 \nL 166.813125 78.963092 \nL 186.343125 77.113962 \n\" style=\"fill:none;stroke:#2ca02c;stroke-dasharray:9.6,2.4,1.5,2.4;stroke-dashoffset:0;stroke-width:1.5;\"/>\n   </g>\n   <g id=\"line2d_107\">\n    <path clip-path=\"url(#pc9cb10c916)\" d=\"M 34.923295 13.377273 \nL 44.646742 88.401353 \nL 54.370189 104.179832 \nL 64.093636 112.339904 \nL 73.817082 117.532194 \nL 83.540529 120.216066 \nL 93.263976 123.830172 \nL 102.987423 124.161663 \nL 112.71087 126.40748 \nL 122.434316 127.948711 \nL 132.157763 130.749313 \nL 141.88121 129.397029 \nL 151.604657 131.308654 \nL 161.328104 132.84893 \nL 171.051551 133.823821 \nL 180.774997 133.789762 \nL 190.498444 135.590886 \nL 200.221891 135.218251 \n\" style=\"fill:none;stroke:#1f77b4;stroke-linecap:square;stroke-width:1.5;\"/>\n   </g>\n   <g id=\"line2d_108\">\n    <path clip-path=\"url(#pc9cb10c916)\" d=\"M 49.633125 97.790506 \nL 69.163125 113.17726 \nL 88.693125 111.725975 \nL 108.223125 123.721835 \nL 127.753125 125.621039 \nL 147.283125 126.143002 \nL 166.813125 124.604428 \nL 186.343125 129.669654 \n\" style=\"fill:none;stroke:#ff7f0e;stroke-dasharray:5.55,2.4;stroke-dashoffset:0;stroke-width:1.5;\"/>\n   </g>\n   <g id=\"line2d_109\">\n    <path clip-path=\"url(#pc9cb10c916)\" d=\"M 49.633125 87.74013 \nL 69.163125 82.370052 \nL 88.693125 82.230734 \nL 108.223125 78.557803 \nL 127.753125 78.215841 \nL 147.283125 78.114519 \nL 166.813125 78.963092 \nL 186.343125 77.113962 \n\" style=\"fill:none;stroke:#2ca02c;stroke-dasharray:9.6,2.4,1.5,2.4;stroke-dashoffset:0;stroke-width:1.5;\"/>\n   </g>\n   <g id=\"line2d_110\">\n    <path clip-path=\"url(#pc9cb10c916)\" d=\"M 34.923295 13.377273 \nL 44.646742 88.401353 \nL 54.370189 104.179832 \nL 64.093636 112.339904 \nL 73.817082 117.532194 \nL 83.540529 120.216066 \nL 93.263976 123.830172 \nL 102.987423 124.161663 \nL 112.71087 126.40748 \nL 122.434316 127.948711 \nL 132.157763 130.749313 \nL 141.88121 129.397029 \nL 151.604657 131.308654 \nL 161.328104 132.84893 \nL 171.051551 133.823821 \nL 180.774997 133.789762 \nL 190.498444 135.590886 \nL 200.221891 135.218251 \n\" style=\"fill:none;stroke:#1f77b4;stroke-linecap:square;stroke-width:1.5;\"/>\n   </g>\n   <g id=\"line2d_111\">\n    <path clip-path=\"url(#pc9cb10c916)\" d=\"M 49.633125 97.790506 \nL 69.163125 113.17726 \nL 88.693125 111.725975 \nL 108.223125 123.721835 \nL 127.753125 125.621039 \nL 147.283125 126.143002 \nL 166.813125 124.604428 \nL 186.343125 129.669654 \nL 205.873125 129.652133 \n\" style=\"fill:none;stroke:#ff7f0e;stroke-dasharray:5.55,2.4;stroke-dashoffset:0;stroke-width:1.5;\"/>\n   </g>\n   <g id=\"line2d_112\">\n    <path clip-path=\"url(#pc9cb10c916)\" d=\"M 49.633125 87.74013 \nL 69.163125 82.370052 \nL 88.693125 82.230734 \nL 108.223125 78.557803 \nL 127.753125 78.215841 \nL 147.283125 78.114519 \nL 166.813125 78.963092 \nL 186.343125 77.113962 \n\" style=\"fill:none;stroke:#2ca02c;stroke-dasharray:9.6,2.4,1.5,2.4;stroke-dashoffset:0;stroke-width:1.5;\"/>\n   </g>\n   <g id=\"line2d_113\">\n    <path clip-path=\"url(#pc9cb10c916)\" d=\"M 34.923295 13.377273 \nL 44.646742 88.401353 \nL 54.370189 104.179832 \nL 64.093636 112.339904 \nL 73.817082 117.532194 \nL 83.540529 120.216066 \nL 93.263976 123.830172 \nL 102.987423 124.161663 \nL 112.71087 126.40748 \nL 122.434316 127.948711 \nL 132.157763 130.749313 \nL 141.88121 129.397029 \nL 151.604657 131.308654 \nL 161.328104 132.84893 \nL 171.051551 133.823821 \nL 180.774997 133.789762 \nL 190.498444 135.590886 \nL 200.221891 135.218251 \n\" style=\"fill:none;stroke:#1f77b4;stroke-linecap:square;stroke-width:1.5;\"/>\n   </g>\n   <g id=\"line2d_114\">\n    <path clip-path=\"url(#pc9cb10c916)\" d=\"M 49.633125 97.790506 \nL 69.163125 113.17726 \nL 88.693125 111.725975 \nL 108.223125 123.721835 \nL 127.753125 125.621039 \nL 147.283125 126.143002 \nL 166.813125 124.604428 \nL 186.343125 129.669654 \nL 205.873125 129.652133 \n\" style=\"fill:none;stroke:#ff7f0e;stroke-dasharray:5.55,2.4;stroke-dashoffset:0;stroke-width:1.5;\"/>\n   </g>\n   <g id=\"line2d_115\">\n    <path clip-path=\"url(#pc9cb10c916)\" d=\"M 49.633125 87.74013 \nL 69.163125 82.370052 \nL 88.693125 82.230734 \nL 108.223125 78.557803 \nL 127.753125 78.215841 \nL 147.283125 78.114519 \nL 166.813125 78.963092 \nL 186.343125 77.113962 \nL 205.873125 76.987309 \n\" style=\"fill:none;stroke:#2ca02c;stroke-dasharray:9.6,2.4,1.5,2.4;stroke-dashoffset:0;stroke-width:1.5;\"/>\n   </g>\n   <g id=\"line2d_116\">\n    <path clip-path=\"url(#pc9cb10c916)\" d=\"M 34.923295 13.377273 \nL 44.646742 88.401353 \nL 54.370189 104.179832 \nL 64.093636 112.339904 \nL 73.817082 117.532194 \nL 83.540529 120.216066 \nL 93.263976 123.830172 \nL 102.987423 124.161663 \nL 112.71087 126.40748 \nL 122.434316 127.948711 \nL 132.157763 130.749313 \nL 141.88121 129.397029 \nL 151.604657 131.308654 \nL 161.328104 132.84893 \nL 171.051551 133.823821 \nL 180.774997 133.789762 \nL 190.498444 135.590886 \nL 200.221891 135.218251 \nL 209.945338 136.253023 \n\" style=\"fill:none;stroke:#1f77b4;stroke-linecap:square;stroke-width:1.5;\"/>\n   </g>\n   <g id=\"line2d_117\">\n    <path clip-path=\"url(#pc9cb10c916)\" d=\"M 49.633125 97.790506 \nL 69.163125 113.17726 \nL 88.693125 111.725975 \nL 108.223125 123.721835 \nL 127.753125 125.621039 \nL 147.283125 126.143002 \nL 166.813125 124.604428 \nL 186.343125 129.669654 \nL 205.873125 129.652133 \n\" style=\"fill:none;stroke:#ff7f0e;stroke-dasharray:5.55,2.4;stroke-dashoffset:0;stroke-width:1.5;\"/>\n   </g>\n   <g id=\"line2d_118\">\n    <path clip-path=\"url(#pc9cb10c916)\" d=\"M 49.633125 87.74013 \nL 69.163125 82.370052 \nL 88.693125 82.230734 \nL 108.223125 78.557803 \nL 127.753125 78.215841 \nL 147.283125 78.114519 \nL 166.813125 78.963092 \nL 186.343125 77.113962 \nL 205.873125 76.987309 \n\" style=\"fill:none;stroke:#2ca02c;stroke-dasharray:9.6,2.4,1.5,2.4;stroke-dashoffset:0;stroke-width:1.5;\"/>\n   </g>\n   <g id=\"line2d_119\">\n    <path clip-path=\"url(#pc9cb10c916)\" d=\"M 34.923295 13.377273 \nL 44.646742 88.401353 \nL 54.370189 104.179832 \nL 64.093636 112.339904 \nL 73.817082 117.532194 \nL 83.540529 120.216066 \nL 93.263976 123.830172 \nL 102.987423 124.161663 \nL 112.71087 126.40748 \nL 122.434316 127.948711 \nL 132.157763 130.749313 \nL 141.88121 129.397029 \nL 151.604657 131.308654 \nL 161.328104 132.84893 \nL 171.051551 133.823821 \nL 180.774997 133.789762 \nL 190.498444 135.590886 \nL 200.221891 135.218251 \nL 209.945338 136.253023 \nL 219.668785 136.922727 \n\" style=\"fill:none;stroke:#1f77b4;stroke-linecap:square;stroke-width:1.5;\"/>\n   </g>\n   <g id=\"line2d_120\">\n    <path clip-path=\"url(#pc9cb10c916)\" d=\"M 49.633125 97.790506 \nL 69.163125 113.17726 \nL 88.693125 111.725975 \nL 108.223125 123.721835 \nL 127.753125 125.621039 \nL 147.283125 126.143002 \nL 166.813125 124.604428 \nL 186.343125 129.669654 \nL 205.873125 129.652133 \n\" style=\"fill:none;stroke:#ff7f0e;stroke-dasharray:5.55,2.4;stroke-dashoffset:0;stroke-width:1.5;\"/>\n   </g>\n   <g id=\"line2d_121\">\n    <path clip-path=\"url(#pc9cb10c916)\" d=\"M 49.633125 87.74013 \nL 69.163125 82.370052 \nL 88.693125 82.230734 \nL 108.223125 78.557803 \nL 127.753125 78.215841 \nL 147.283125 78.114519 \nL 166.813125 78.963092 \nL 186.343125 77.113962 \nL 205.873125 76.987309 \n\" style=\"fill:none;stroke:#2ca02c;stroke-dasharray:9.6,2.4,1.5,2.4;stroke-dashoffset:0;stroke-width:1.5;\"/>\n   </g>\n   <g id=\"line2d_122\">\n    <path clip-path=\"url(#pc9cb10c916)\" d=\"M 34.923295 13.377273 \nL 44.646742 88.401353 \nL 54.370189 104.179832 \nL 64.093636 112.339904 \nL 73.817082 117.532194 \nL 83.540529 120.216066 \nL 93.263976 123.830172 \nL 102.987423 124.161663 \nL 112.71087 126.40748 \nL 122.434316 127.948711 \nL 132.157763 130.749313 \nL 141.88121 129.397029 \nL 151.604657 131.308654 \nL 161.328104 132.84893 \nL 171.051551 133.823821 \nL 180.774997 133.789762 \nL 190.498444 135.590886 \nL 200.221891 135.218251 \nL 209.945338 136.253023 \nL 219.668785 136.922727 \n\" style=\"fill:none;stroke:#1f77b4;stroke-linecap:square;stroke-width:1.5;\"/>\n   </g>\n   <g id=\"line2d_123\">\n    <path clip-path=\"url(#pc9cb10c916)\" d=\"M 49.633125 97.790506 \nL 69.163125 113.17726 \nL 88.693125 111.725975 \nL 108.223125 123.721835 \nL 127.753125 125.621039 \nL 147.283125 126.143002 \nL 166.813125 124.604428 \nL 186.343125 129.669654 \nL 205.873125 129.652133 \nL 225.403125 131.687818 \n\" style=\"fill:none;stroke:#ff7f0e;stroke-dasharray:5.55,2.4;stroke-dashoffset:0;stroke-width:1.5;\"/>\n   </g>\n   <g id=\"line2d_124\">\n    <path clip-path=\"url(#pc9cb10c916)\" d=\"M 49.633125 87.74013 \nL 69.163125 82.370052 \nL 88.693125 82.230734 \nL 108.223125 78.557803 \nL 127.753125 78.215841 \nL 147.283125 78.114519 \nL 166.813125 78.963092 \nL 186.343125 77.113962 \nL 205.873125 76.987309 \n\" style=\"fill:none;stroke:#2ca02c;stroke-dasharray:9.6,2.4,1.5,2.4;stroke-dashoffset:0;stroke-width:1.5;\"/>\n   </g>\n   <g id=\"line2d_125\">\n    <path clip-path=\"url(#pc9cb10c916)\" d=\"M 34.923295 13.377273 \nL 44.646742 88.401353 \nL 54.370189 104.179832 \nL 64.093636 112.339904 \nL 73.817082 117.532194 \nL 83.540529 120.216066 \nL 93.263976 123.830172 \nL 102.987423 124.161663 \nL 112.71087 126.40748 \nL 122.434316 127.948711 \nL 132.157763 130.749313 \nL 141.88121 129.397029 \nL 151.604657 131.308654 \nL 161.328104 132.84893 \nL 171.051551 133.823821 \nL 180.774997 133.789762 \nL 190.498444 135.590886 \nL 200.221891 135.218251 \nL 209.945338 136.253023 \nL 219.668785 136.922727 \n\" style=\"fill:none;stroke:#1f77b4;stroke-linecap:square;stroke-width:1.5;\"/>\n   </g>\n   <g id=\"line2d_126\">\n    <path clip-path=\"url(#pc9cb10c916)\" d=\"M 49.633125 97.790506 \nL 69.163125 113.17726 \nL 88.693125 111.725975 \nL 108.223125 123.721835 \nL 127.753125 125.621039 \nL 147.283125 126.143002 \nL 166.813125 124.604428 \nL 186.343125 129.669654 \nL 205.873125 129.652133 \nL 225.403125 131.687818 \n\" style=\"fill:none;stroke:#ff7f0e;stroke-dasharray:5.55,2.4;stroke-dashoffset:0;stroke-width:1.5;\"/>\n   </g>\n   <g id=\"line2d_127\">\n    <path clip-path=\"url(#pc9cb10c916)\" d=\"M 49.633125 87.74013 \nL 69.163125 82.370052 \nL 88.693125 82.230734 \nL 108.223125 78.557803 \nL 127.753125 78.215841 \nL 147.283125 78.114519 \nL 166.813125 78.963092 \nL 186.343125 77.113962 \nL 205.873125 76.987309 \nL 225.403125 76.531359 \n\" style=\"fill:none;stroke:#2ca02c;stroke-dasharray:9.6,2.4,1.5,2.4;stroke-dashoffset:0;stroke-width:1.5;\"/>\n   </g>\n   <g id=\"patch_3\">\n    <path d=\"M 30.103125 143.1 \nL 30.103125 7.2 \n\" style=\"fill:none;stroke:#000000;stroke-linecap:square;stroke-linejoin:miter;stroke-width:0.8;\"/>\n   </g>\n   <g id=\"patch_4\">\n    <path d=\"M 225.403125 143.1 \nL 225.403125 7.2 \n\" style=\"fill:none;stroke:#000000;stroke-linecap:square;stroke-linejoin:miter;stroke-width:0.8;\"/>\n   </g>\n   <g id=\"patch_5\">\n    <path d=\"M 30.103125 143.1 \nL 225.403125 143.1 \n\" style=\"fill:none;stroke:#000000;stroke-linecap:square;stroke-linejoin:miter;stroke-width:0.8;\"/>\n   </g>\n   <g id=\"patch_6\">\n    <path d=\"M 30.103125 7.2 \nL 225.403125 7.2 \n\" style=\"fill:none;stroke:#000000;stroke-linecap:square;stroke-linejoin:miter;stroke-width:0.8;\"/>\n   </g>\n   <g id=\"legend_1\">\n    <g id=\"patch_7\">\n     <path d=\"M 138.8125 60.06875 \nL 218.403125 60.06875 \nQ 220.403125 60.06875 220.403125 58.06875 \nL 220.403125 14.2 \nQ 220.403125 12.2 218.403125 12.2 \nL 138.8125 12.2 \nQ 136.8125 12.2 136.8125 14.2 \nL 136.8125 58.06875 \nQ 136.8125 60.06875 138.8125 60.06875 \nz\n\" style=\"fill:#ffffff;opacity:0.8;stroke:#cccccc;stroke-linejoin:miter;\"/>\n    </g>\n    <g id=\"line2d_128\">\n     <path d=\"M 140.8125 20.298437 \nL 160.8125 20.298437 \n\" style=\"fill:none;stroke:#1f77b4;stroke-linecap:square;stroke-width:1.5;\"/>\n    </g>\n    <g id=\"line2d_129\"/>\n    <g id=\"text_13\">\n     <!-- train_loss -->\n     <defs>\n      <path d=\"M 18.3125 70.21875 \nL 18.3125 54.6875 \nL 36.8125 54.6875 \nL 36.8125 47.703125 \nL 18.3125 47.703125 \nL 18.3125 18.015625 \nQ 18.3125 11.328125 20.140625 9.421875 \nQ 21.96875 7.515625 27.59375 7.515625 \nL 36.8125 7.515625 \nL 36.8125 0 \nL 27.59375 0 \nQ 17.1875 0 13.234375 3.875 \nQ 9.28125 7.765625 9.28125 18.015625 \nL 9.28125 47.703125 \nL 2.6875 47.703125 \nL 2.6875 54.6875 \nL 9.28125 54.6875 \nL 9.28125 70.21875 \nz\n\" id=\"DejaVuSans-116\"/>\n      <path d=\"M 41.109375 46.296875 \nQ 39.59375 47.171875 37.8125 47.578125 \nQ 36.03125 48 33.890625 48 \nQ 26.265625 48 22.1875 43.046875 \nQ 18.109375 38.09375 18.109375 28.8125 \nL 18.109375 0 \nL 9.078125 0 \nL 9.078125 54.6875 \nL 18.109375 54.6875 \nL 18.109375 46.1875 \nQ 20.953125 51.171875 25.484375 53.578125 \nQ 30.03125 56 36.53125 56 \nQ 37.453125 56 38.578125 55.875 \nQ 39.703125 55.765625 41.0625 55.515625 \nz\n\" id=\"DejaVuSans-114\"/>\n      <path d=\"M 34.28125 27.484375 \nQ 23.390625 27.484375 19.1875 25 \nQ 14.984375 22.515625 14.984375 16.5 \nQ 14.984375 11.71875 18.140625 8.90625 \nQ 21.296875 6.109375 26.703125 6.109375 \nQ 34.1875 6.109375 38.703125 11.40625 \nQ 43.21875 16.703125 43.21875 25.484375 \nL 43.21875 27.484375 \nz\nM 52.203125 31.203125 \nL 52.203125 0 \nL 43.21875 0 \nL 43.21875 8.296875 \nQ 40.140625 3.328125 35.546875 0.953125 \nQ 30.953125 -1.421875 24.3125 -1.421875 \nQ 15.921875 -1.421875 10.953125 3.296875 \nQ 6 8.015625 6 15.921875 \nQ 6 25.140625 12.171875 29.828125 \nQ 18.359375 34.515625 30.609375 34.515625 \nL 43.21875 34.515625 \nL 43.21875 35.40625 \nQ 43.21875 41.609375 39.140625 45 \nQ 35.0625 48.390625 27.6875 48.390625 \nQ 23 48.390625 18.546875 47.265625 \nQ 14.109375 46.140625 10.015625 43.890625 \nL 10.015625 52.203125 \nQ 14.9375 54.109375 19.578125 55.046875 \nQ 24.21875 56 28.609375 56 \nQ 40.484375 56 46.34375 49.84375 \nQ 52.203125 43.703125 52.203125 31.203125 \nz\n\" id=\"DejaVuSans-97\"/>\n      <path d=\"M 9.421875 54.6875 \nL 18.40625 54.6875 \nL 18.40625 0 \nL 9.421875 0 \nz\nM 9.421875 75.984375 \nL 18.40625 75.984375 \nL 18.40625 64.59375 \nL 9.421875 64.59375 \nz\n\" id=\"DejaVuSans-105\"/>\n      <path d=\"M 54.890625 33.015625 \nL 54.890625 0 \nL 45.90625 0 \nL 45.90625 32.71875 \nQ 45.90625 40.484375 42.875 44.328125 \nQ 39.84375 48.1875 33.796875 48.1875 \nQ 26.515625 48.1875 22.3125 43.546875 \nQ 18.109375 38.921875 18.109375 30.90625 \nL 18.109375 0 \nL 9.078125 0 \nL 9.078125 54.6875 \nL 18.109375 54.6875 \nL 18.109375 46.1875 \nQ 21.34375 51.125 25.703125 53.5625 \nQ 30.078125 56 35.796875 56 \nQ 45.21875 56 50.046875 50.171875 \nQ 54.890625 44.34375 54.890625 33.015625 \nz\n\" id=\"DejaVuSans-110\"/>\n      <path d=\"M 50.984375 -16.609375 \nL 50.984375 -23.578125 \nL -0.984375 -23.578125 \nL -0.984375 -16.609375 \nz\n\" id=\"DejaVuSans-95\"/>\n      <path d=\"M 9.421875 75.984375 \nL 18.40625 75.984375 \nL 18.40625 0 \nL 9.421875 0 \nz\n\" id=\"DejaVuSans-108\"/>\n      <path d=\"M 44.28125 53.078125 \nL 44.28125 44.578125 \nQ 40.484375 46.53125 36.375 47.5 \nQ 32.28125 48.484375 27.875 48.484375 \nQ 21.1875 48.484375 17.84375 46.4375 \nQ 14.5 44.390625 14.5 40.28125 \nQ 14.5 37.15625 16.890625 35.375 \nQ 19.28125 33.59375 26.515625 31.984375 \nL 29.59375 31.296875 \nQ 39.15625 29.25 43.1875 25.515625 \nQ 47.21875 21.78125 47.21875 15.09375 \nQ 47.21875 7.46875 41.1875 3.015625 \nQ 35.15625 -1.421875 24.609375 -1.421875 \nQ 20.21875 -1.421875 15.453125 -0.5625 \nQ 10.6875 0.296875 5.421875 2 \nL 5.421875 11.28125 \nQ 10.40625 8.6875 15.234375 7.390625 \nQ 20.0625 6.109375 24.8125 6.109375 \nQ 31.15625 6.109375 34.5625 8.28125 \nQ 37.984375 10.453125 37.984375 14.40625 \nQ 37.984375 18.0625 35.515625 20.015625 \nQ 33.0625 21.96875 24.703125 23.78125 \nL 21.578125 24.515625 \nQ 13.234375 26.265625 9.515625 29.90625 \nQ 5.8125 33.546875 5.8125 39.890625 \nQ 5.8125 47.609375 11.28125 51.796875 \nQ 16.75 56 26.8125 56 \nQ 31.78125 56 36.171875 55.265625 \nQ 40.578125 54.546875 44.28125 53.078125 \nz\n\" id=\"DejaVuSans-115\"/>\n     </defs>\n     <g transform=\"translate(168.8125 23.798437)scale(0.1 -0.1)\">\n      <use xlink:href=\"#DejaVuSans-116\"/>\n      <use x=\"39.208984\" xlink:href=\"#DejaVuSans-114\"/>\n      <use x=\"80.322266\" xlink:href=\"#DejaVuSans-97\"/>\n      <use x=\"141.601562\" xlink:href=\"#DejaVuSans-105\"/>\n      <use x=\"169.384766\" xlink:href=\"#DejaVuSans-110\"/>\n      <use x=\"232.763672\" xlink:href=\"#DejaVuSans-95\"/>\n      <use x=\"282.763672\" xlink:href=\"#DejaVuSans-108\"/>\n      <use x=\"310.546875\" xlink:href=\"#DejaVuSans-111\"/>\n      <use x=\"371.728516\" xlink:href=\"#DejaVuSans-115\"/>\n      <use x=\"423.828125\" xlink:href=\"#DejaVuSans-115\"/>\n     </g>\n    </g>\n    <g id=\"line2d_130\">\n     <path d=\"M 140.8125 35.254687 \nL 160.8125 35.254687 \n\" style=\"fill:none;stroke:#ff7f0e;stroke-dasharray:5.55,2.4;stroke-dashoffset:0;stroke-width:1.5;\"/>\n    </g>\n    <g id=\"line2d_131\"/>\n    <g id=\"text_14\">\n     <!-- val_loss -->\n     <defs>\n      <path d=\"M 2.984375 54.6875 \nL 12.5 54.6875 \nL 29.59375 8.796875 \nL 46.6875 54.6875 \nL 56.203125 54.6875 \nL 35.6875 0 \nL 23.484375 0 \nz\n\" id=\"DejaVuSans-118\"/>\n     </defs>\n     <g transform=\"translate(168.8125 38.754687)scale(0.1 -0.1)\">\n      <use xlink:href=\"#DejaVuSans-118\"/>\n      <use x=\"59.179688\" xlink:href=\"#DejaVuSans-97\"/>\n      <use x=\"120.458984\" xlink:href=\"#DejaVuSans-108\"/>\n      <use x=\"148.242188\" xlink:href=\"#DejaVuSans-95\"/>\n      <use x=\"198.242188\" xlink:href=\"#DejaVuSans-108\"/>\n      <use x=\"226.025391\" xlink:href=\"#DejaVuSans-111\"/>\n      <use x=\"287.207031\" xlink:href=\"#DejaVuSans-115\"/>\n      <use x=\"339.306641\" xlink:href=\"#DejaVuSans-115\"/>\n     </g>\n    </g>\n    <g id=\"line2d_132\">\n     <path d=\"M 140.8125 50.210937 \nL 160.8125 50.210937 \n\" style=\"fill:none;stroke:#2ca02c;stroke-dasharray:9.6,2.4,1.5,2.4;stroke-dashoffset:0;stroke-width:1.5;\"/>\n    </g>\n    <g id=\"line2d_133\"/>\n    <g id=\"text_15\">\n     <!-- val_acc -->\n     <g transform=\"translate(168.8125 53.710937)scale(0.1 -0.1)\">\n      <use xlink:href=\"#DejaVuSans-118\"/>\n      <use x=\"59.179688\" xlink:href=\"#DejaVuSans-97\"/>\n      <use x=\"120.458984\" xlink:href=\"#DejaVuSans-108\"/>\n      <use x=\"148.242188\" xlink:href=\"#DejaVuSans-95\"/>\n      <use x=\"198.242188\" xlink:href=\"#DejaVuSans-97\"/>\n      <use x=\"259.521484\" xlink:href=\"#DejaVuSans-99\"/>\n      <use x=\"314.501953\" xlink:href=\"#DejaVuSans-99\"/>\n     </g>\n    </g>\n   </g>\n  </g>\n </g>\n <defs>\n  <clipPath id=\"pc9cb10c916\">\n   <rect height=\"135.9\" width=\"195.3\" x=\"30.103125\" y=\"7.2\"/>\n  </clipPath>\n </defs>\n</svg>\n"
          },
          "metadata": {
            "needs_background": "light"
          }
        }
      ]
    },
    {
      "cell_type": "markdown",
      "source": [
        "concise implementation"
      ],
      "metadata": {
        "id": "useDtaTDPs0y"
      }
    },
    {
      "cell_type": "code",
      "source": [
        "nn.Sequential??"
      ],
      "metadata": {
        "id": "D0bfWPh9QO8C"
      },
      "execution_count": 20,
      "outputs": []
    },
    {
      "cell_type": "code",
      "source": [
        "nn.Flatten??"
      ],
      "metadata": {
        "id": "dv1rn4mDQhO_"
      },
      "execution_count": 24,
      "outputs": []
    },
    {
      "cell_type": "code",
      "source": [
        "nn.ReLU??"
      ],
      "metadata": {
        "id": "miHhdw7XRKZ3"
      },
      "execution_count": 25,
      "outputs": []
    },
    {
      "cell_type": "code",
      "source": [
        "nn.CrossEntropyLoss??"
      ],
      "metadata": {
        "id": "xKmCPtggRwA8"
      },
      "execution_count": 26,
      "outputs": []
    },
    {
      "cell_type": "code",
      "source": [
        "class MLP(nn.Module):\n",
        "\n",
        "  def __init__(self, num_outputs, num_hiddens, lr):\n",
        "    super().__init__()\n",
        "    self.num_outputs = num_outputs\n",
        "    self.num_hiddens = num_hiddens\n",
        "    self.lr = lr\n",
        "    self.net = nn.Sequential(nn.Flatten(),\n",
        "                             nn.LazyLinear(num_hiddens),\n",
        "                             nn.ReLU(),\n",
        "                             nn.LazyLinear(num_outputs))\n",
        "    \n",
        "  def forward(self, X):\n",
        "    return self.net(X)"
      ],
      "metadata": {
        "id": "JGbQUZkQPeP7"
      },
      "execution_count": 6,
      "outputs": []
    },
    {
      "cell_type": "code",
      "source": [
        "torchvision.datasets.FashionMNIST??"
      ],
      "metadata": {
        "id": "j6XX7qNtSt3k"
      },
      "execution_count": 30,
      "outputs": []
    },
    {
      "cell_type": "code",
      "source": [
        "import torchvision\n",
        "import torchvision.transforms as transforms"
      ],
      "metadata": {
        "id": "nqcFYALcS7IR"
      },
      "execution_count": 7,
      "outputs": []
    },
    {
      "cell_type": "code",
      "source": [
        "transforms.ToTensor??"
      ],
      "metadata": {
        "id": "6nyxw_rOTGU6"
      },
      "execution_count": 32,
      "outputs": []
    },
    {
      "cell_type": "code",
      "source": [
        "# Hyper_parameters\n",
        "batch_size = 256\n",
        "num_outputs = 10\n",
        "num_hiddens = 256\n",
        "num_epochs = 10"
      ],
      "metadata": {
        "id": "GpMGBAAdUPx-"
      },
      "execution_count": 8,
      "outputs": []
    },
    {
      "cell_type": "code",
      "source": [
        "a = torchvision.datasets.FashionMNIST(root='./trial',\n",
        "                                      train=True,\n",
        "                                      download=True)"
      ],
      "metadata": {
        "id": "8JU1sdGFUupS"
      },
      "execution_count": null,
      "outputs": []
    },
    {
      "cell_type": "code",
      "source": [
        "a"
      ],
      "metadata": {
        "colab": {
          "base_uri": "https://localhost:8080/"
        },
        "id": "yppIUmNXU9HV",
        "outputId": "fef1e454-a2a7-4f65-df9b-d49e30e66d87"
      },
      "execution_count": 44,
      "outputs": [
        {
          "output_type": "execute_result",
          "data": {
            "text/plain": [
              "Dataset FashionMNIST\n",
              "    Number of datapoints: 60000\n",
              "    Root location: ./trial\n",
              "    Split: Train"
            ]
          },
          "metadata": {},
          "execution_count": 44
        }
      ]
    },
    {
      "cell_type": "code",
      "source": [
        "a.data.shape"
      ],
      "metadata": {
        "colab": {
          "base_uri": "https://localhost:8080/"
        },
        "id": "YTgc0UDRU_Ju",
        "outputId": "39e249d3-f19d-49a4-8fae-6ecf72f4da54"
      },
      "execution_count": 46,
      "outputs": [
        {
          "output_type": "execute_result",
          "data": {
            "text/plain": [
              "torch.Size([60000, 28, 28])"
            ]
          },
          "metadata": {},
          "execution_count": 46
        }
      ]
    },
    {
      "cell_type": "code",
      "source": [
        "# STEP 0 : PREPARE THE DATASET\n",
        "\n",
        "# FashionMNIST\n",
        "\n",
        "train_dataset = torchvision.datasets.FashionMNIST(root='./data',\n",
        "                                                  train=True,\n",
        "                                                  download=True,\n",
        "                                                  transform=transforms.ToTensor())\n",
        "\n",
        "\n",
        "test_dataset = torchvision.datasets.FashionMNIST(root='./data',\n",
        "                                                 train=False,\n",
        "                                                 download=False,\n",
        "                                                 transform=transforms.ToTensor())"
      ],
      "metadata": {
        "colab": {
          "base_uri": "https://localhost:8080/",
          "height": 417,
          "referenced_widgets": [
            "3714b89b30a049e3a56aefd37665a0aa",
            "058a3e6a94054ad7a6eafe246b3c4df9",
            "b51e7b39a7e4463b9a4fca0a44bacbd1",
            "ab2d6425cbc04587b7dcf4b600f493ec",
            "75f892a62b1046ca8e2de46206ea98fe",
            "231ae5db8fec4f949c2320d9b8353cc5",
            "0346149597c04291964ca32098cdb92b",
            "ac20198d3edd45bc8d0c7b27cf549cd1",
            "362036ac4dda4d018c4757bd4174ddc1",
            "34f3f356854d4ad1ac1c79acd340188b",
            "2bbccf081abc457cb2774da47f3c34d2",
            "fc6839d5651e47f3b4774149f4f830b7",
            "5769bb0299634b269707829eda361b39",
            "f2ad9bc7a60c4e9a9c52ab92e7bad4c8",
            "46855db8788f42f2845ac98815a791f7",
            "f575e1d061df454798d7f7129d3022c4",
            "78baf63fc42f47dea389b1347294164b",
            "ec845e7d39ad4d4bb0d840637f524010",
            "c408fa07eff6471281c582938aa5beb5",
            "028def0d02bf4514adf6b26614fcb8bb",
            "209e8c4cdb3046bcb980afea6da5fd57",
            "1ee3423d83894551a336f3867a6bc9d8",
            "6d7c75fb9c8b4008bd6609f9e6ae659d",
            "0c55caf1c44c40c0823d058c293148db",
            "bc667200f5644b0a85b1bfcbb5502640",
            "cb4453c0a01649c38847db4c9d7d55ad",
            "b24e003a1e4c40d0802be0c5a81a59e8",
            "74d90b71786f41ab9c3c3ea1907a4a25",
            "575d37acd87a45e9a71029ef57995827",
            "16d2230f4deb4f62b6f1c0e92b501e10",
            "50b81cc770234ef4b18c52c25707d8a3",
            "e427d736e1e7402eac3e35475725ccfa",
            "d13c4099a69e4aac8c5755fd9d86ed24",
            "e6bcf54cc9954760bf04130ff6cda4f5",
            "17929665b0464dd9be96e645c8c612d1",
            "556be94655ca479ca2e89eafdb9cf031",
            "8c4c7d37a92f4ac5a5cc40befbcaccb2",
            "aa558fd913734091bbf17abdeceb2eaf",
            "71e5e0cdd33b4533ac5a4aea81e8c572",
            "2ae6910b36d647fe998b0aeb4f77f12e",
            "2eb5d9bdd8104cf8af43b3c0506ffd38",
            "382f60e5f4ac4dfd81f5d5cc08e4cb46",
            "11698484c0fc4c60bf1b99c5fc0be799",
            "c0f7e76e2dab45aeb4eca683615ce35d"
          ]
        },
        "id": "uFE4OXgOSP3M",
        "outputId": "c9277fda-9e9b-4271-a44d-54e64fbd3b01"
      },
      "execution_count": 9,
      "outputs": [
        {
          "output_type": "stream",
          "name": "stdout",
          "text": [
            "Downloading http://fashion-mnist.s3-website.eu-central-1.amazonaws.com/train-images-idx3-ubyte.gz\n",
            "Downloading http://fashion-mnist.s3-website.eu-central-1.amazonaws.com/train-images-idx3-ubyte.gz to ./data/FashionMNIST/raw/train-images-idx3-ubyte.gz\n"
          ]
        },
        {
          "output_type": "display_data",
          "data": {
            "text/plain": [
              "  0%|          | 0/26421880 [00:00<?, ?it/s]"
            ],
            "application/vnd.jupyter.widget-view+json": {
              "version_major": 2,
              "version_minor": 0,
              "model_id": "3714b89b30a049e3a56aefd37665a0aa"
            }
          },
          "metadata": {}
        },
        {
          "output_type": "stream",
          "name": "stdout",
          "text": [
            "Extracting ./data/FashionMNIST/raw/train-images-idx3-ubyte.gz to ./data/FashionMNIST/raw\n",
            "\n",
            "Downloading http://fashion-mnist.s3-website.eu-central-1.amazonaws.com/train-labels-idx1-ubyte.gz\n",
            "Downloading http://fashion-mnist.s3-website.eu-central-1.amazonaws.com/train-labels-idx1-ubyte.gz to ./data/FashionMNIST/raw/train-labels-idx1-ubyte.gz\n"
          ]
        },
        {
          "output_type": "display_data",
          "data": {
            "text/plain": [
              "  0%|          | 0/29515 [00:00<?, ?it/s]"
            ],
            "application/vnd.jupyter.widget-view+json": {
              "version_major": 2,
              "version_minor": 0,
              "model_id": "fc6839d5651e47f3b4774149f4f830b7"
            }
          },
          "metadata": {}
        },
        {
          "output_type": "stream",
          "name": "stdout",
          "text": [
            "Extracting ./data/FashionMNIST/raw/train-labels-idx1-ubyte.gz to ./data/FashionMNIST/raw\n",
            "\n",
            "Downloading http://fashion-mnist.s3-website.eu-central-1.amazonaws.com/t10k-images-idx3-ubyte.gz\n",
            "Downloading http://fashion-mnist.s3-website.eu-central-1.amazonaws.com/t10k-images-idx3-ubyte.gz to ./data/FashionMNIST/raw/t10k-images-idx3-ubyte.gz\n"
          ]
        },
        {
          "output_type": "display_data",
          "data": {
            "text/plain": [
              "  0%|          | 0/4422102 [00:00<?, ?it/s]"
            ],
            "application/vnd.jupyter.widget-view+json": {
              "version_major": 2,
              "version_minor": 0,
              "model_id": "6d7c75fb9c8b4008bd6609f9e6ae659d"
            }
          },
          "metadata": {}
        },
        {
          "output_type": "stream",
          "name": "stdout",
          "text": [
            "Extracting ./data/FashionMNIST/raw/t10k-images-idx3-ubyte.gz to ./data/FashionMNIST/raw\n",
            "\n",
            "Downloading http://fashion-mnist.s3-website.eu-central-1.amazonaws.com/t10k-labels-idx1-ubyte.gz\n",
            "Downloading http://fashion-mnist.s3-website.eu-central-1.amazonaws.com/t10k-labels-idx1-ubyte.gz to ./data/FashionMNIST/raw/t10k-labels-idx1-ubyte.gz\n"
          ]
        },
        {
          "output_type": "display_data",
          "data": {
            "text/plain": [
              "  0%|          | 0/5148 [00:00<?, ?it/s]"
            ],
            "application/vnd.jupyter.widget-view+json": {
              "version_major": 2,
              "version_minor": 0,
              "model_id": "e6bcf54cc9954760bf04130ff6cda4f5"
            }
          },
          "metadata": {}
        },
        {
          "output_type": "stream",
          "name": "stdout",
          "text": [
            "Extracting ./data/FashionMNIST/raw/t10k-labels-idx1-ubyte.gz to ./data/FashionMNIST/raw\n",
            "\n"
          ]
        }
      ]
    },
    {
      "cell_type": "code",
      "source": [
        "train_dataset"
      ],
      "metadata": {
        "colab": {
          "base_uri": "https://localhost:8080/"
        },
        "id": "fTH7jGbqUb_e",
        "outputId": "01b83615-6c43-4b07-f949-c229238b182f"
      },
      "execution_count": 39,
      "outputs": [
        {
          "output_type": "execute_result",
          "data": {
            "text/plain": [
              "Dataset FashionMNIST\n",
              "    Number of datapoints: 60000\n",
              "    Root location: ./data\n",
              "    Split: Train\n",
              "    StandardTransform\n",
              "Transform: ToTensor()"
            ]
          },
          "metadata": {},
          "execution_count": 39
        }
      ]
    },
    {
      "cell_type": "code",
      "source": [
        "train_dataset.data.shape"
      ],
      "metadata": {
        "colab": {
          "base_uri": "https://localhost:8080/"
        },
        "id": "0jWamG75T98t",
        "outputId": "76fdd3ee-070c-4977-8c0f-7766562e128c"
      },
      "execution_count": 35,
      "outputs": [
        {
          "output_type": "execute_result",
          "data": {
            "text/plain": [
              "torch.Size([60000, 28, 28])"
            ]
          },
          "metadata": {},
          "execution_count": 35
        }
      ]
    },
    {
      "cell_type": "code",
      "source": [
        "train_dataset.targets.shape"
      ],
      "metadata": {
        "colab": {
          "base_uri": "https://localhost:8080/"
        },
        "id": "nXDaqLmWUB1e",
        "outputId": "071c2bc7-a820-4913-d8bb-519c2c8bf636"
      },
      "execution_count": 36,
      "outputs": [
        {
          "output_type": "execute_result",
          "data": {
            "text/plain": [
              "torch.Size([60000])"
            ]
          },
          "metadata": {},
          "execution_count": 36
        }
      ]
    },
    {
      "cell_type": "code",
      "source": [
        "test_dataset.data.shape"
      ],
      "metadata": {
        "colab": {
          "base_uri": "https://localhost:8080/"
        },
        "id": "5-V8dB_BUfX3",
        "outputId": "7b087a8b-5f71-4d30-ec38-57fb27a491a8"
      },
      "execution_count": 40,
      "outputs": [
        {
          "output_type": "execute_result",
          "data": {
            "text/plain": [
              "torch.Size([10000, 28, 28])"
            ]
          },
          "metadata": {},
          "execution_count": 40
        }
      ]
    },
    {
      "cell_type": "code",
      "source": [
        "test_dataset.targets.shape"
      ],
      "metadata": {
        "colab": {
          "base_uri": "https://localhost:8080/"
        },
        "id": "juavLmdiUiUZ",
        "outputId": "15890ac6-6bf1-4bfc-d27d-7937884e8e4c"
      },
      "execution_count": 41,
      "outputs": [
        {
          "output_type": "execute_result",
          "data": {
            "text/plain": [
              "torch.Size([10000])"
            ]
          },
          "metadata": {},
          "execution_count": 41
        }
      ]
    },
    {
      "cell_type": "code",
      "source": [
        "train_dataset.targets[0:5]"
      ],
      "metadata": {
        "colab": {
          "base_uri": "https://localhost:8080/"
        },
        "id": "mHpH3bKOUmF3",
        "outputId": "f4fb3fa4-2fa1-43d7-c8a6-a41b53a36e4c"
      },
      "execution_count": 42,
      "outputs": [
        {
          "output_type": "execute_result",
          "data": {
            "text/plain": [
              "tensor([9, 0, 0, 3, 0])"
            ]
          },
          "metadata": {},
          "execution_count": 42
        }
      ]
    },
    {
      "cell_type": "code",
      "source": [
        "train_dataloader = torch.utils.data.DataLoader(dataset=train_dataset,\n",
        "                                               shuffle=True,\n",
        "                                               batch_size=batch_size,\n",
        "                                               num_workers=4)\n",
        "\n",
        "test_dataloader = torch.utils.data.DataLoader(dataset=test_dataset,\n",
        "                                              shuffle=False,\n",
        "                                              batch_size=batch_size,\n",
        "                                              num_workers=4)"
      ],
      "metadata": {
        "colab": {
          "base_uri": "https://localhost:8080/"
        },
        "id": "NipJ5yy4TwZm",
        "outputId": "8c5cb8df-ad61-4e4f-92a1-3271ad89f188"
      },
      "execution_count": 10,
      "outputs": [
        {
          "output_type": "stream",
          "name": "stderr",
          "text": [
            "/usr/local/lib/python3.8/dist-packages/torch/utils/data/dataloader.py:554: UserWarning: This DataLoader will create 4 worker processes in total. Our suggested max number of worker in current system is 2, which is smaller than what this DataLoader is going to create. Please be aware that excessive worker creation might get DataLoader running slow or even freeze, lower the worker number to avoid potential slowness/freeze if necessary.\n",
            "  warnings.warn(_create_warning_msg(\n"
          ]
        }
      ]
    },
    {
      "cell_type": "code",
      "source": [
        "len(train_dataloader) # so we have 235 batches"
      ],
      "metadata": {
        "colab": {
          "base_uri": "https://localhost:8080/"
        },
        "id": "86rgMjm2VR2d",
        "outputId": "728f1489-4629-4c35-f1ed-20c39e00188e"
      },
      "execution_count": 49,
      "outputs": [
        {
          "output_type": "execute_result",
          "data": {
            "text/plain": [
              "235"
            ]
          },
          "metadata": {},
          "execution_count": 49
        }
      ]
    },
    {
      "cell_type": "code",
      "source": [
        "len(test_dataloader) "
      ],
      "metadata": {
        "colab": {
          "base_uri": "https://localhost:8080/"
        },
        "id": "8g6-Joo0VWvp",
        "outputId": "e8a1710c-10f9-4742-990e-969cc375aabd"
      },
      "execution_count": 50,
      "outputs": [
        {
          "output_type": "execute_result",
          "data": {
            "text/plain": [
              "40"
            ]
          },
          "metadata": {},
          "execution_count": 50
        }
      ]
    },
    {
      "cell_type": "code",
      "source": [
        "examples = next(iter(train_dataloader))\n",
        "features, targets = examples\n",
        "print(features.shape, targets.shape)"
      ],
      "metadata": {
        "colab": {
          "base_uri": "https://localhost:8080/"
        },
        "id": "VcgQDJ4ZVfP3",
        "outputId": "b5669626-46ad-497f-94fb-8f3890b98b5b"
      },
      "execution_count": 52,
      "outputs": [
        {
          "output_type": "stream",
          "name": "stderr",
          "text": [
            "/usr/local/lib/python3.8/dist-packages/torch/utils/data/dataloader.py:554: UserWarning: This DataLoader will create 4 worker processes in total. Our suggested max number of worker in current system is 2, which is smaller than what this DataLoader is going to create. Please be aware that excessive worker creation might get DataLoader running slow or even freeze, lower the worker number to avoid potential slowness/freeze if necessary.\n",
            "  warnings.warn(_create_warning_msg(\n"
          ]
        },
        {
          "output_type": "stream",
          "name": "stdout",
          "text": [
            "torch.Size([256, 1, 28, 28]) torch.Size([256])\n"
          ]
        }
      ]
    },
    {
      "cell_type": "code",
      "source": [
        "import matplotlib.pyplot as plt"
      ],
      "metadata": {
        "id": "E0mVe6hPV0vb"
      },
      "execution_count": 11,
      "outputs": []
    },
    {
      "cell_type": "code",
      "source": [
        "plt.subplot??"
      ],
      "metadata": {
        "id": "uSvuO8OvWJft"
      },
      "execution_count": 58,
      "outputs": []
    },
    {
      "cell_type": "code",
      "source": [
        "plt.imshow??"
      ],
      "metadata": {
        "id": "lMAVnMz1WxYz"
      },
      "execution_count": 60,
      "outputs": []
    },
    {
      "cell_type": "code",
      "source": [
        "for i in range(10):\n",
        "  plt.subplot(2, 5, i+1)\n",
        "  plt.imshow(features[i][0])\n",
        "\n",
        "plt.show()"
      ],
      "metadata": {
        "colab": {
          "base_uri": "https://localhost:8080/",
          "height": 301
        },
        "id": "xfHXMC46VyIX",
        "outputId": "955686ec-0751-4988-a0f4-ad9d60a64a23"
      },
      "execution_count": 59,
      "outputs": [
        {
          "output_type": "display_data",
          "data": {
            "text/plain": [
              "<Figure size 432x288 with 10 Axes>"
            ],
            "image/svg+xml": "<?xml version=\"1.0\" encoding=\"utf-8\" standalone=\"no\"?>\n<!DOCTYPE svg PUBLIC \"-//W3C//DTD SVG 1.1//EN\"\n  \"http://www.w3.org/Graphics/SVG/1.1/DTD/svg11.dtd\">\n<!-- Created with matplotlib (https://matplotlib.org/) -->\n<svg height=\"210.17433pt\" version=\"1.1\" viewBox=\"0 0 370.133559 210.17433\" width=\"370.133559pt\" xmlns=\"http://www.w3.org/2000/svg\" xmlns:xlink=\"http://www.w3.org/1999/xlink\">\n <defs>\n  <style type=\"text/css\">\n*{stroke-linecap:butt;stroke-linejoin:round;}\n  </style>\n </defs>\n <g id=\"figure_1\">\n  <g id=\"patch_1\">\n   <path d=\"M -0 210.17433 \nL 370.133559 210.17433 \nL 370.133559 0 \nL -0 0 \nz\n\" style=\"fill:none;\"/>\n  </g>\n  <g id=\"axes_1\">\n   <g id=\"patch_2\">\n    <path d=\"M 26.925 67.692569 \nL 84.649138 67.692569 \nL 84.649138 9.968431 \nL 26.925 9.968431 \nz\n\" style=\"fill:#ffffff;\"/>\n   </g>\n   <g clip-path=\"url(#p7c97ec7064)\">\n    <image height=\"58\" id=\"image5c5620cd77\" transform=\"scale(1 -1)translate(0 -58)\" width=\"58\" x=\"26.925\" xlink:href=\"data:image/png;base64,\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\" y=\"-9.692569\"/>\n   </g>\n   <g id=\"matplotlib.axis_1\">\n    <g id=\"xtick_1\">\n     <g id=\"line2d_1\">\n      <defs>\n       <path d=\"M 0 0 \nL 0 3.5 \n\" id=\"m99c83a5d85\" style=\"stroke:#000000;stroke-width:0.8;\"/>\n      </defs>\n      <g>\n       <use style=\"stroke:#000000;stroke-width:0.8;\" x=\"27.955788\" xlink:href=\"#m99c83a5d85\" y=\"67.692569\"/>\n      </g>\n     </g>\n     <g id=\"text_1\">\n      <!-- 0 -->\n      <defs>\n       <path d=\"M 31.78125 66.40625 \nQ 24.171875 66.40625 20.328125 58.90625 \nQ 16.5 51.421875 16.5 36.375 \nQ 16.5 21.390625 20.328125 13.890625 \nQ 24.171875 6.390625 31.78125 6.390625 \nQ 39.453125 6.390625 43.28125 13.890625 \nQ 47.125 21.390625 47.125 36.375 \nQ 47.125 51.421875 43.28125 58.90625 \nQ 39.453125 66.40625 31.78125 66.40625 \nz\nM 31.78125 74.21875 \nQ 44.046875 74.21875 50.515625 64.515625 \nQ 56.984375 54.828125 56.984375 36.375 \nQ 56.984375 17.96875 50.515625 8.265625 \nQ 44.046875 -1.421875 31.78125 -1.421875 \nQ 19.53125 -1.421875 13.0625 8.265625 \nQ 6.59375 17.96875 6.59375 36.375 \nQ 6.59375 54.828125 13.0625 64.515625 \nQ 19.53125 74.21875 31.78125 74.21875 \nz\n\" id=\"DejaVuSans-48\"/>\n      </defs>\n      <g transform=\"translate(24.774538 82.291006)scale(0.1 -0.1)\">\n       <use xlink:href=\"#DejaVuSans-48\"/>\n      </g>\n     </g>\n    </g>\n    <g id=\"xtick_2\">\n     <g id=\"line2d_2\">\n      <g>\n       <use style=\"stroke:#000000;stroke-width:0.8;\" x=\"79.495197\" xlink:href=\"#m99c83a5d85\" y=\"67.692569\"/>\n      </g>\n     </g>\n     <g id=\"text_2\">\n      <!-- 25 -->\n      <defs>\n       <path d=\"M 19.1875 8.296875 \nL 53.609375 8.296875 \nL 53.609375 0 \nL 7.328125 0 \nL 7.328125 8.296875 \nQ 12.9375 14.109375 22.625 23.890625 \nQ 32.328125 33.6875 34.8125 36.53125 \nQ 39.546875 41.84375 41.421875 45.53125 \nQ 43.3125 49.21875 43.3125 52.78125 \nQ 43.3125 58.59375 39.234375 62.25 \nQ 35.15625 65.921875 28.609375 65.921875 \nQ 23.96875 65.921875 18.8125 64.3125 \nQ 13.671875 62.703125 7.8125 59.421875 \nL 7.8125 69.390625 \nQ 13.765625 71.78125 18.9375 73 \nQ 24.125 74.21875 28.421875 74.21875 \nQ 39.75 74.21875 46.484375 68.546875 \nQ 53.21875 62.890625 53.21875 53.421875 \nQ 53.21875 48.921875 51.53125 44.890625 \nQ 49.859375 40.875 45.40625 35.40625 \nQ 44.1875 33.984375 37.640625 27.21875 \nQ 31.109375 20.453125 19.1875 8.296875 \nz\n\" id=\"DejaVuSans-50\"/>\n       <path d=\"M 10.796875 72.90625 \nL 49.515625 72.90625 \nL 49.515625 64.59375 \nL 19.828125 64.59375 \nL 19.828125 46.734375 \nQ 21.96875 47.46875 24.109375 47.828125 \nQ 26.265625 48.1875 28.421875 48.1875 \nQ 40.625 48.1875 47.75 41.5 \nQ 54.890625 34.8125 54.890625 23.390625 \nQ 54.890625 11.625 47.5625 5.09375 \nQ 40.234375 -1.421875 26.90625 -1.421875 \nQ 22.3125 -1.421875 17.546875 -0.640625 \nQ 12.796875 0.140625 7.71875 1.703125 \nL 7.71875 11.625 \nQ 12.109375 9.234375 16.796875 8.0625 \nQ 21.484375 6.890625 26.703125 6.890625 \nQ 35.15625 6.890625 40.078125 11.328125 \nQ 45.015625 15.765625 45.015625 23.390625 \nQ 45.015625 31 40.078125 35.4375 \nQ 35.15625 39.890625 26.703125 39.890625 \nQ 22.75 39.890625 18.8125 39.015625 \nQ 14.890625 38.140625 10.796875 36.28125 \nz\n\" id=\"DejaVuSans-53\"/>\n      </defs>\n      <g transform=\"translate(73.132697 82.291006)scale(0.1 -0.1)\">\n       <use xlink:href=\"#DejaVuSans-50\"/>\n       <use x=\"63.623047\" xlink:href=\"#DejaVuSans-53\"/>\n      </g>\n     </g>\n    </g>\n   </g>\n   <g id=\"matplotlib.axis_2\">\n    <g id=\"ytick_1\">\n     <g id=\"line2d_3\">\n      <defs>\n       <path d=\"M 0 0 \nL -3.5 0 \n\" id=\"mb12dc3a513\" style=\"stroke:#000000;stroke-width:0.8;\"/>\n      </defs>\n      <g>\n       <use style=\"stroke:#000000;stroke-width:0.8;\" x=\"26.925\" xlink:href=\"#mb12dc3a513\" y=\"10.999219\"/>\n      </g>\n     </g>\n     <g id=\"text_3\">\n      <!-- 0 -->\n      <g transform=\"translate(13.5625 14.798437)scale(0.1 -0.1)\">\n       <use xlink:href=\"#DejaVuSans-48\"/>\n      </g>\n     </g>\n    </g>\n    <g id=\"ytick_2\">\n     <g id=\"line2d_4\">\n      <g>\n       <use style=\"stroke:#000000;stroke-width:0.8;\" x=\"26.925\" xlink:href=\"#mb12dc3a513\" y=\"52.230746\"/>\n      </g>\n     </g>\n     <g id=\"text_4\">\n      <!-- 20 -->\n      <g transform=\"translate(7.2 56.029965)scale(0.1 -0.1)\">\n       <use xlink:href=\"#DejaVuSans-50\"/>\n       <use x=\"63.623047\" xlink:href=\"#DejaVuSans-48\"/>\n      </g>\n     </g>\n    </g>\n   </g>\n   <g id=\"patch_3\">\n    <path d=\"M 26.925 67.692569 \nL 26.925 9.968431 \n\" style=\"fill:none;stroke:#000000;stroke-linecap:square;stroke-linejoin:miter;stroke-width:0.8;\"/>\n   </g>\n   <g id=\"patch_4\">\n    <path d=\"M 84.649138 67.692569 \nL 84.649138 9.968431 \n\" style=\"fill:none;stroke:#000000;stroke-linecap:square;stroke-linejoin:miter;stroke-width:0.8;\"/>\n   </g>\n   <g id=\"patch_5\">\n    <path d=\"M 26.925 67.692569 \nL 84.649138 67.692569 \n\" style=\"fill:none;stroke:#000000;stroke-linecap:square;stroke-linejoin:miter;stroke-width:0.8;\"/>\n   </g>\n   <g id=\"patch_6\">\n    <path d=\"M 26.925 9.968431 \nL 84.649138 9.968431 \n\" style=\"fill:none;stroke:#000000;stroke-linecap:square;stroke-linejoin:miter;stroke-width:0.8;\"/>\n   </g>\n  </g>\n  <g id=\"axes_2\">\n   <g id=\"patch_7\">\n    <path d=\"M 96.193966 67.692569 \nL 153.918103 67.692569 \nL 153.918103 9.968431 \nL 96.193966 9.968431 \nz\n\" style=\"fill:#ffffff;\"/>\n   </g>\n   <g clip-path=\"url(#p92353e5dd5)\">\n    <image height=\"58\" id=\"image8490cc9cd3\" transform=\"scale(1 -1)translate(0 -58)\" width=\"58\" x=\"96.193966\" xlink:href=\"data:image/png;base64,\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\" y=\"-9.692569\"/>\n   </g>\n   <g id=\"matplotlib.axis_3\">\n    <g id=\"xtick_3\">\n     <g id=\"line2d_5\">\n      <g>\n       <use style=\"stroke:#000000;stroke-width:0.8;\" x=\"97.224754\" xlink:href=\"#m99c83a5d85\" y=\"67.692569\"/>\n      </g>\n     </g>\n     <g id=\"text_5\">\n      <!-- 0 -->\n      <g transform=\"translate(94.043504 82.291006)scale(0.1 -0.1)\">\n       <use xlink:href=\"#DejaVuSans-48\"/>\n      </g>\n     </g>\n    </g>\n    <g id=\"xtick_4\">\n     <g id=\"line2d_6\">\n      <g>\n       <use style=\"stroke:#000000;stroke-width:0.8;\" x=\"148.764163\" xlink:href=\"#m99c83a5d85\" y=\"67.692569\"/>\n      </g>\n     </g>\n     <g id=\"text_6\">\n      <!-- 25 -->\n      <g transform=\"translate(142.401663 82.291006)scale(0.1 -0.1)\">\n       <use xlink:href=\"#DejaVuSans-50\"/>\n       <use x=\"63.623047\" xlink:href=\"#DejaVuSans-53\"/>\n      </g>\n     </g>\n    </g>\n   </g>\n   <g id=\"matplotlib.axis_4\">\n    <g id=\"ytick_3\">\n     <g id=\"line2d_7\">\n      <g>\n       <use style=\"stroke:#000000;stroke-width:0.8;\" x=\"96.193966\" xlink:href=\"#mb12dc3a513\" y=\"10.999219\"/>\n      </g>\n     </g>\n     <g id=\"text_7\">\n      <!-- 0 -->\n      <g transform=\"translate(82.831466 14.798437)scale(0.1 -0.1)\">\n       <use xlink:href=\"#DejaVuSans-48\"/>\n      </g>\n     </g>\n    </g>\n    <g id=\"ytick_4\">\n     <g id=\"line2d_8\">\n      <g>\n       <use style=\"stroke:#000000;stroke-width:0.8;\" x=\"96.193966\" xlink:href=\"#mb12dc3a513\" y=\"52.230746\"/>\n      </g>\n     </g>\n     <g id=\"text_8\">\n      <!-- 20 -->\n      <g transform=\"translate(76.468966 56.029965)scale(0.1 -0.1)\">\n       <use xlink:href=\"#DejaVuSans-50\"/>\n       <use x=\"63.623047\" xlink:href=\"#DejaVuSans-48\"/>\n      </g>\n     </g>\n    </g>\n   </g>\n   <g id=\"patch_8\">\n    <path d=\"M 96.193966 67.692569 \nL 96.193966 9.968431 \n\" style=\"fill:none;stroke:#000000;stroke-linecap:square;stroke-linejoin:miter;stroke-width:0.8;\"/>\n   </g>\n   <g id=\"patch_9\">\n    <path d=\"M 153.918103 67.692569 \nL 153.918103 9.968431 \n\" style=\"fill:none;stroke:#000000;stroke-linecap:square;stroke-linejoin:miter;stroke-width:0.8;\"/>\n   </g>\n   <g id=\"patch_10\">\n    <path d=\"M 96.193966 67.692569 \nL 153.918103 67.692569 \n\" style=\"fill:none;stroke:#000000;stroke-linecap:square;stroke-linejoin:miter;stroke-width:0.8;\"/>\n   </g>\n   <g id=\"patch_11\">\n    <path d=\"M 96.193966 9.968431 \nL 153.918103 9.968431 \n\" style=\"fill:none;stroke:#000000;stroke-linecap:square;stroke-linejoin:miter;stroke-width:0.8;\"/>\n   </g>\n  </g>\n  <g id=\"axes_3\">\n   <g id=\"patch_12\">\n    <path d=\"M 165.462931 67.692569 \nL 223.187069 67.692569 \nL 223.187069 9.968431 \nL 165.462931 9.968431 \nz\n\" style=\"fill:#ffffff;\"/>\n   </g>\n   <g clip-path=\"url(#p251fc05eb2)\">\n    <image height=\"58\" id=\"image029f4193d0\" transform=\"scale(1 -1)translate(0 -58)\" width=\"58\" x=\"165.462931\" xlink:href=\"data:image/png;base64,\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\" y=\"-9.692569\"/>\n   </g>\n   <g id=\"matplotlib.axis_5\">\n    <g id=\"xtick_5\">\n     <g id=\"line2d_9\">\n      <g>\n       <use style=\"stroke:#000000;stroke-width:0.8;\" x=\"166.493719\" xlink:href=\"#m99c83a5d85\" y=\"67.692569\"/>\n      </g>\n     </g>\n     <g id=\"text_9\">\n      <!-- 0 -->\n      <g transform=\"translate(163.312469 82.291006)scale(0.1 -0.1)\">\n       <use xlink:href=\"#DejaVuSans-48\"/>\n      </g>\n     </g>\n    </g>\n    <g id=\"xtick_6\">\n     <g id=\"line2d_10\">\n      <g>\n       <use style=\"stroke:#000000;stroke-width:0.8;\" x=\"218.033128\" xlink:href=\"#m99c83a5d85\" y=\"67.692569\"/>\n      </g>\n     </g>\n     <g id=\"text_10\">\n      <!-- 25 -->\n      <g transform=\"translate(211.670628 82.291006)scale(0.1 -0.1)\">\n       <use xlink:href=\"#DejaVuSans-50\"/>\n       <use x=\"63.623047\" xlink:href=\"#DejaVuSans-53\"/>\n      </g>\n     </g>\n    </g>\n   </g>\n   <g id=\"matplotlib.axis_6\">\n    <g id=\"ytick_5\">\n     <g id=\"line2d_11\">\n      <g>\n       <use style=\"stroke:#000000;stroke-width:0.8;\" x=\"165.462931\" xlink:href=\"#mb12dc3a513\" y=\"10.999219\"/>\n      </g>\n     </g>\n     <g id=\"text_11\">\n      <!-- 0 -->\n      <g transform=\"translate(152.100431 14.798437)scale(0.1 -0.1)\">\n       <use xlink:href=\"#DejaVuSans-48\"/>\n      </g>\n     </g>\n    </g>\n    <g id=\"ytick_6\">\n     <g id=\"line2d_12\">\n      <g>\n       <use style=\"stroke:#000000;stroke-width:0.8;\" x=\"165.462931\" xlink:href=\"#mb12dc3a513\" y=\"52.230746\"/>\n      </g>\n     </g>\n     <g id=\"text_12\">\n      <!-- 20 -->\n      <g transform=\"translate(145.737931 56.029965)scale(0.1 -0.1)\">\n       <use xlink:href=\"#DejaVuSans-50\"/>\n       <use x=\"63.623047\" xlink:href=\"#DejaVuSans-48\"/>\n      </g>\n     </g>\n    </g>\n   </g>\n   <g id=\"patch_13\">\n    <path d=\"M 165.462931 67.692569 \nL 165.462931 9.968431 \n\" style=\"fill:none;stroke:#000000;stroke-linecap:square;stroke-linejoin:miter;stroke-width:0.8;\"/>\n   </g>\n   <g id=\"patch_14\">\n    <path d=\"M 223.187069 67.692569 \nL 223.187069 9.968431 \n\" style=\"fill:none;stroke:#000000;stroke-linecap:square;stroke-linejoin:miter;stroke-width:0.8;\"/>\n   </g>\n   <g id=\"patch_15\">\n    <path d=\"M 165.462931 67.692569 \nL 223.187069 67.692569 \n\" style=\"fill:none;stroke:#000000;stroke-linecap:square;stroke-linejoin:miter;stroke-width:0.8;\"/>\n   </g>\n   <g id=\"patch_16\">\n    <path d=\"M 165.462931 9.968431 \nL 223.187069 9.968431 \n\" style=\"fill:none;stroke:#000000;stroke-linecap:square;stroke-linejoin:miter;stroke-width:0.8;\"/>\n   </g>\n  </g>\n  <g id=\"axes_4\">\n   <g id=\"patch_17\">\n    <path d=\"M 234.731897 67.692569 \nL 292.456034 67.692569 \nL 292.456034 9.968431 \nL 234.731897 9.968431 \nz\n\" style=\"fill:#ffffff;\"/>\n   </g>\n   <g clip-path=\"url(#p46b0595960)\">\n    <image height=\"58\" id=\"image927cf02ba5\" transform=\"scale(1 -1)translate(0 -58)\" width=\"58\" x=\"234.731897\" xlink:href=\"data:image/png;base64,\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\" y=\"-9.692569\"/>\n   </g>\n   <g id=\"matplotlib.axis_7\">\n    <g id=\"xtick_7\">\n     <g id=\"line2d_13\">\n      <g>\n       <use style=\"stroke:#000000;stroke-width:0.8;\" x=\"235.762685\" xlink:href=\"#m99c83a5d85\" y=\"67.692569\"/>\n      </g>\n     </g>\n     <g id=\"text_13\">\n      <!-- 0 -->\n      <g transform=\"translate(232.581435 82.291006)scale(0.1 -0.1)\">\n       <use xlink:href=\"#DejaVuSans-48\"/>\n      </g>\n     </g>\n    </g>\n    <g id=\"xtick_8\">\n     <g id=\"line2d_14\">\n      <g>\n       <use style=\"stroke:#000000;stroke-width:0.8;\" x=\"287.302094\" xlink:href=\"#m99c83a5d85\" y=\"67.692569\"/>\n      </g>\n     </g>\n     <g id=\"text_14\">\n      <!-- 25 -->\n      <g transform=\"translate(280.939594 82.291006)scale(0.1 -0.1)\">\n       <use xlink:href=\"#DejaVuSans-50\"/>\n       <use x=\"63.623047\" xlink:href=\"#DejaVuSans-53\"/>\n      </g>\n     </g>\n    </g>\n   </g>\n   <g id=\"matplotlib.axis_8\">\n    <g id=\"ytick_7\">\n     <g id=\"line2d_15\">\n      <g>\n       <use style=\"stroke:#000000;stroke-width:0.8;\" x=\"234.731897\" xlink:href=\"#mb12dc3a513\" y=\"10.999219\"/>\n      </g>\n     </g>\n     <g id=\"text_15\">\n      <!-- 0 -->\n      <g transform=\"translate(221.369397 14.798437)scale(0.1 -0.1)\">\n       <use xlink:href=\"#DejaVuSans-48\"/>\n      </g>\n     </g>\n    </g>\n    <g id=\"ytick_8\">\n     <g id=\"line2d_16\">\n      <g>\n       <use style=\"stroke:#000000;stroke-width:0.8;\" x=\"234.731897\" xlink:href=\"#mb12dc3a513\" y=\"52.230746\"/>\n      </g>\n     </g>\n     <g id=\"text_16\">\n      <!-- 20 -->\n      <g transform=\"translate(215.006897 56.029965)scale(0.1 -0.1)\">\n       <use xlink:href=\"#DejaVuSans-50\"/>\n       <use x=\"63.623047\" xlink:href=\"#DejaVuSans-48\"/>\n      </g>\n     </g>\n    </g>\n   </g>\n   <g id=\"patch_18\">\n    <path d=\"M 234.731897 67.692569 \nL 234.731897 9.968431 \n\" style=\"fill:none;stroke:#000000;stroke-linecap:square;stroke-linejoin:miter;stroke-width:0.8;\"/>\n   </g>\n   <g id=\"patch_19\">\n    <path d=\"M 292.456034 67.692569 \nL 292.456034 9.968431 \n\" style=\"fill:none;stroke:#000000;stroke-linecap:square;stroke-linejoin:miter;stroke-width:0.8;\"/>\n   </g>\n   <g id=\"patch_20\">\n    <path d=\"M 234.731897 67.692569 \nL 292.456034 67.692569 \n\" style=\"fill:none;stroke:#000000;stroke-linecap:square;stroke-linejoin:miter;stroke-width:0.8;\"/>\n   </g>\n   <g id=\"patch_21\">\n    <path d=\"M 234.731897 9.968431 \nL 292.456034 9.968431 \n\" style=\"fill:none;stroke:#000000;stroke-linecap:square;stroke-linejoin:miter;stroke-width:0.8;\"/>\n   </g>\n  </g>\n  <g id=\"axes_5\">\n   <g id=\"patch_22\">\n    <path d=\"M 304.000862 67.692569 \nL 361.725 67.692569 \nL 361.725 9.968431 \nL 304.000862 9.968431 \nz\n\" style=\"fill:#ffffff;\"/>\n   </g>\n   <g clip-path=\"url(#p13f0cbcf2b)\">\n    <image height=\"58\" id=\"imagec160956e6b\" transform=\"scale(1 -1)translate(0 -58)\" width=\"58\" x=\"304.000862\" xlink:href=\"data:image/png;base64,\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\" y=\"-9.692569\"/>\n   </g>\n   <g id=\"matplotlib.axis_9\">\n    <g id=\"xtick_9\">\n     <g id=\"line2d_17\">\n      <g>\n       <use style=\"stroke:#000000;stroke-width:0.8;\" x=\"305.03165\" xlink:href=\"#m99c83a5d85\" y=\"67.692569\"/>\n      </g>\n     </g>\n     <g id=\"text_17\">\n      <!-- 0 -->\n      <g transform=\"translate(301.8504 82.291006)scale(0.1 -0.1)\">\n       <use xlink:href=\"#DejaVuSans-48\"/>\n      </g>\n     </g>\n    </g>\n    <g id=\"xtick_10\">\n     <g id=\"line2d_18\">\n      <g>\n       <use style=\"stroke:#000000;stroke-width:0.8;\" x=\"356.571059\" xlink:href=\"#m99c83a5d85\" y=\"67.692569\"/>\n      </g>\n     </g>\n     <g id=\"text_18\">\n      <!-- 25 -->\n      <g transform=\"translate(350.208559 82.291006)scale(0.1 -0.1)\">\n       <use xlink:href=\"#DejaVuSans-50\"/>\n       <use x=\"63.623047\" xlink:href=\"#DejaVuSans-53\"/>\n      </g>\n     </g>\n    </g>\n   </g>\n   <g id=\"matplotlib.axis_10\">\n    <g id=\"ytick_9\">\n     <g id=\"line2d_19\">\n      <g>\n       <use style=\"stroke:#000000;stroke-width:0.8;\" x=\"304.000862\" xlink:href=\"#mb12dc3a513\" y=\"10.999219\"/>\n      </g>\n     </g>\n     <g id=\"text_19\">\n      <!-- 0 -->\n      <g transform=\"translate(290.638362 14.798437)scale(0.1 -0.1)\">\n       <use xlink:href=\"#DejaVuSans-48\"/>\n      </g>\n     </g>\n    </g>\n    <g id=\"ytick_10\">\n     <g id=\"line2d_20\">\n      <g>\n       <use style=\"stroke:#000000;stroke-width:0.8;\" x=\"304.000862\" xlink:href=\"#mb12dc3a513\" y=\"52.230746\"/>\n      </g>\n     </g>\n     <g id=\"text_20\">\n      <!-- 20 -->\n      <g transform=\"translate(284.275862 56.029965)scale(0.1 -0.1)\">\n       <use xlink:href=\"#DejaVuSans-50\"/>\n       <use x=\"63.623047\" xlink:href=\"#DejaVuSans-48\"/>\n      </g>\n     </g>\n    </g>\n   </g>\n   <g id=\"patch_23\">\n    <path d=\"M 304.000862 67.692569 \nL 304.000862 9.968431 \n\" style=\"fill:none;stroke:#000000;stroke-linecap:square;stroke-linejoin:miter;stroke-width:0.8;\"/>\n   </g>\n   <g id=\"patch_24\">\n    <path d=\"M 361.725 67.692569 \nL 361.725 9.968431 \n\" style=\"fill:none;stroke:#000000;stroke-linecap:square;stroke-linejoin:miter;stroke-width:0.8;\"/>\n   </g>\n   <g id=\"patch_25\">\n    <path d=\"M 304.000862 67.692569 \nL 361.725 67.692569 \n\" style=\"fill:none;stroke:#000000;stroke-linecap:square;stroke-linejoin:miter;stroke-width:0.8;\"/>\n   </g>\n   <g id=\"patch_26\">\n    <path d=\"M 304.000862 9.968431 \nL 361.725 9.968431 \n\" style=\"fill:none;stroke:#000000;stroke-linecap:square;stroke-linejoin:miter;stroke-width:0.8;\"/>\n   </g>\n  </g>\n  <g id=\"axes_6\">\n   <g id=\"patch_27\">\n    <path d=\"M 26.925 186.296205 \nL 84.649138 186.296205 \nL 84.649138 128.572067 \nL 26.925 128.572067 \nz\n\" style=\"fill:#ffffff;\"/>\n   </g>\n   <g clip-path=\"url(#p560f26ebc9)\">\n    <image height=\"58\" id=\"image1ddb38b757\" transform=\"scale(1 -1)translate(0 -58)\" width=\"58\" x=\"26.925\" xlink:href=\"data:image/png;base64,\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\" y=\"-128.296205\"/>\n   </g>\n   <g id=\"matplotlib.axis_11\">\n    <g id=\"xtick_11\">\n     <g id=\"line2d_21\">\n      <g>\n       <use style=\"stroke:#000000;stroke-width:0.8;\" x=\"27.955788\" xlink:href=\"#m99c83a5d85\" y=\"186.296205\"/>\n      </g>\n     </g>\n     <g id=\"text_21\">\n      <!-- 0 -->\n      <g transform=\"translate(24.774538 200.894642)scale(0.1 -0.1)\">\n       <use xlink:href=\"#DejaVuSans-48\"/>\n      </g>\n     </g>\n    </g>\n    <g id=\"xtick_12\">\n     <g id=\"line2d_22\">\n      <g>\n       <use style=\"stroke:#000000;stroke-width:0.8;\" x=\"79.495197\" xlink:href=\"#m99c83a5d85\" y=\"186.296205\"/>\n      </g>\n     </g>\n     <g id=\"text_22\">\n      <!-- 25 -->\n      <g transform=\"translate(73.132697 200.894642)scale(0.1 -0.1)\">\n       <use xlink:href=\"#DejaVuSans-50\"/>\n       <use x=\"63.623047\" xlink:href=\"#DejaVuSans-53\"/>\n      </g>\n     </g>\n    </g>\n   </g>\n   <g id=\"matplotlib.axis_12\">\n    <g id=\"ytick_11\">\n     <g id=\"line2d_23\">\n      <g>\n       <use style=\"stroke:#000000;stroke-width:0.8;\" x=\"26.925\" xlink:href=\"#mb12dc3a513\" y=\"129.602855\"/>\n      </g>\n     </g>\n     <g id=\"text_23\">\n      <!-- 0 -->\n      <g transform=\"translate(13.5625 133.402074)scale(0.1 -0.1)\">\n       <use xlink:href=\"#DejaVuSans-48\"/>\n      </g>\n     </g>\n    </g>\n    <g id=\"ytick_12\">\n     <g id=\"line2d_24\">\n      <g>\n       <use style=\"stroke:#000000;stroke-width:0.8;\" x=\"26.925\" xlink:href=\"#mb12dc3a513\" y=\"170.834382\"/>\n      </g>\n     </g>\n     <g id=\"text_24\">\n      <!-- 20 -->\n      <g transform=\"translate(7.2 174.633601)scale(0.1 -0.1)\">\n       <use xlink:href=\"#DejaVuSans-50\"/>\n       <use x=\"63.623047\" xlink:href=\"#DejaVuSans-48\"/>\n      </g>\n     </g>\n    </g>\n   </g>\n   <g id=\"patch_28\">\n    <path d=\"M 26.925 186.296205 \nL 26.925 128.572067 \n\" style=\"fill:none;stroke:#000000;stroke-linecap:square;stroke-linejoin:miter;stroke-width:0.8;\"/>\n   </g>\n   <g id=\"patch_29\">\n    <path d=\"M 84.649138 186.296205 \nL 84.649138 128.572067 \n\" style=\"fill:none;stroke:#000000;stroke-linecap:square;stroke-linejoin:miter;stroke-width:0.8;\"/>\n   </g>\n   <g id=\"patch_30\">\n    <path d=\"M 26.925 186.296205 \nL 84.649138 186.296205 \n\" style=\"fill:none;stroke:#000000;stroke-linecap:square;stroke-linejoin:miter;stroke-width:0.8;\"/>\n   </g>\n   <g id=\"patch_31\">\n    <path d=\"M 26.925 128.572067 \nL 84.649138 128.572067 \n\" style=\"fill:none;stroke:#000000;stroke-linecap:square;stroke-linejoin:miter;stroke-width:0.8;\"/>\n   </g>\n  </g>\n  <g id=\"axes_7\">\n   <g id=\"patch_32\">\n    <path d=\"M 96.193966 186.296205 \nL 153.918103 186.296205 \nL 153.918103 128.572067 \nL 96.193966 128.572067 \nz\n\" style=\"fill:#ffffff;\"/>\n   </g>\n   <g clip-path=\"url(#p436e50bba6)\">\n    <image height=\"58\" id=\"image0b95d93526\" transform=\"scale(1 -1)translate(0 -58)\" width=\"58\" x=\"96.193966\" xlink:href=\"data:image/png;base64,\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\" y=\"-128.296205\"/>\n   </g>\n   <g id=\"matplotlib.axis_13\">\n    <g id=\"xtick_13\">\n     <g id=\"line2d_25\">\n      <g>\n       <use style=\"stroke:#000000;stroke-width:0.8;\" x=\"97.224754\" xlink:href=\"#m99c83a5d85\" y=\"186.296205\"/>\n      </g>\n     </g>\n     <g id=\"text_25\">\n      <!-- 0 -->\n      <g transform=\"translate(94.043504 200.894642)scale(0.1 -0.1)\">\n       <use xlink:href=\"#DejaVuSans-48\"/>\n      </g>\n     </g>\n    </g>\n    <g id=\"xtick_14\">\n     <g id=\"line2d_26\">\n      <g>\n       <use style=\"stroke:#000000;stroke-width:0.8;\" x=\"148.764163\" xlink:href=\"#m99c83a5d85\" y=\"186.296205\"/>\n      </g>\n     </g>\n     <g id=\"text_26\">\n      <!-- 25 -->\n      <g transform=\"translate(142.401663 200.894642)scale(0.1 -0.1)\">\n       <use xlink:href=\"#DejaVuSans-50\"/>\n       <use x=\"63.623047\" xlink:href=\"#DejaVuSans-53\"/>\n      </g>\n     </g>\n    </g>\n   </g>\n   <g id=\"matplotlib.axis_14\">\n    <g id=\"ytick_13\">\n     <g id=\"line2d_27\">\n      <g>\n       <use style=\"stroke:#000000;stroke-width:0.8;\" x=\"96.193966\" xlink:href=\"#mb12dc3a513\" y=\"129.602855\"/>\n      </g>\n     </g>\n     <g id=\"text_27\">\n      <!-- 0 -->\n      <g transform=\"translate(82.831466 133.402074)scale(0.1 -0.1)\">\n       <use xlink:href=\"#DejaVuSans-48\"/>\n      </g>\n     </g>\n    </g>\n    <g id=\"ytick_14\">\n     <g id=\"line2d_28\">\n      <g>\n       <use style=\"stroke:#000000;stroke-width:0.8;\" x=\"96.193966\" xlink:href=\"#mb12dc3a513\" y=\"170.834382\"/>\n      </g>\n     </g>\n     <g id=\"text_28\">\n      <!-- 20 -->\n      <g transform=\"translate(76.468966 174.633601)scale(0.1 -0.1)\">\n       <use xlink:href=\"#DejaVuSans-50\"/>\n       <use x=\"63.623047\" xlink:href=\"#DejaVuSans-48\"/>\n      </g>\n     </g>\n    </g>\n   </g>\n   <g id=\"patch_33\">\n    <path d=\"M 96.193966 186.296205 \nL 96.193966 128.572067 \n\" style=\"fill:none;stroke:#000000;stroke-linecap:square;stroke-linejoin:miter;stroke-width:0.8;\"/>\n   </g>\n   <g id=\"patch_34\">\n    <path d=\"M 153.918103 186.296205 \nL 153.918103 128.572067 \n\" style=\"fill:none;stroke:#000000;stroke-linecap:square;stroke-linejoin:miter;stroke-width:0.8;\"/>\n   </g>\n   <g id=\"patch_35\">\n    <path d=\"M 96.193966 186.296205 \nL 153.918103 186.296205 \n\" style=\"fill:none;stroke:#000000;stroke-linecap:square;stroke-linejoin:miter;stroke-width:0.8;\"/>\n   </g>\n   <g id=\"patch_36\">\n    <path d=\"M 96.193966 128.572067 \nL 153.918103 128.572067 \n\" style=\"fill:none;stroke:#000000;stroke-linecap:square;stroke-linejoin:miter;stroke-width:0.8;\"/>\n   </g>\n  </g>\n  <g id=\"axes_8\">\n   <g id=\"patch_37\">\n    <path d=\"M 165.462931 186.296205 \nL 223.187069 186.296205 \nL 223.187069 128.572067 \nL 165.462931 128.572067 \nz\n\" style=\"fill:#ffffff;\"/>\n   </g>\n   <g clip-path=\"url(#pd67ae81eaa)\">\n    <image height=\"58\" id=\"imagecaa3eb4796\" transform=\"scale(1 -1)translate(0 -58)\" width=\"58\" x=\"165.462931\" xlink:href=\"data:image/png;base64,\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\" y=\"-128.296205\"/>\n   </g>\n   <g id=\"matplotlib.axis_15\">\n    <g id=\"xtick_15\">\n     <g id=\"line2d_29\">\n      <g>\n       <use style=\"stroke:#000000;stroke-width:0.8;\" x=\"166.493719\" xlink:href=\"#m99c83a5d85\" y=\"186.296205\"/>\n      </g>\n     </g>\n     <g id=\"text_29\">\n      <!-- 0 -->\n      <g transform=\"translate(163.312469 200.894642)scale(0.1 -0.1)\">\n       <use xlink:href=\"#DejaVuSans-48\"/>\n      </g>\n     </g>\n    </g>\n    <g id=\"xtick_16\">\n     <g id=\"line2d_30\">\n      <g>\n       <use style=\"stroke:#000000;stroke-width:0.8;\" x=\"218.033128\" xlink:href=\"#m99c83a5d85\" y=\"186.296205\"/>\n      </g>\n     </g>\n     <g id=\"text_30\">\n      <!-- 25 -->\n      <g transform=\"translate(211.670628 200.894642)scale(0.1 -0.1)\">\n       <use xlink:href=\"#DejaVuSans-50\"/>\n       <use x=\"63.623047\" xlink:href=\"#DejaVuSans-53\"/>\n      </g>\n     </g>\n    </g>\n   </g>\n   <g id=\"matplotlib.axis_16\">\n    <g id=\"ytick_15\">\n     <g id=\"line2d_31\">\n      <g>\n       <use style=\"stroke:#000000;stroke-width:0.8;\" x=\"165.462931\" xlink:href=\"#mb12dc3a513\" y=\"129.602855\"/>\n      </g>\n     </g>\n     <g id=\"text_31\">\n      <!-- 0 -->\n      <g transform=\"translate(152.100431 133.402074)scale(0.1 -0.1)\">\n       <use xlink:href=\"#DejaVuSans-48\"/>\n      </g>\n     </g>\n    </g>\n    <g id=\"ytick_16\">\n     <g id=\"line2d_32\">\n      <g>\n       <use style=\"stroke:#000000;stroke-width:0.8;\" x=\"165.462931\" xlink:href=\"#mb12dc3a513\" y=\"170.834382\"/>\n      </g>\n     </g>\n     <g id=\"text_32\">\n      <!-- 20 -->\n      <g transform=\"translate(145.737931 174.633601)scale(0.1 -0.1)\">\n       <use xlink:href=\"#DejaVuSans-50\"/>\n       <use x=\"63.623047\" xlink:href=\"#DejaVuSans-48\"/>\n      </g>\n     </g>\n    </g>\n   </g>\n   <g id=\"patch_38\">\n    <path d=\"M 165.462931 186.296205 \nL 165.462931 128.572067 \n\" style=\"fill:none;stroke:#000000;stroke-linecap:square;stroke-linejoin:miter;stroke-width:0.8;\"/>\n   </g>\n   <g id=\"patch_39\">\n    <path d=\"M 223.187069 186.296205 \nL 223.187069 128.572067 \n\" style=\"fill:none;stroke:#000000;stroke-linecap:square;stroke-linejoin:miter;stroke-width:0.8;\"/>\n   </g>\n   <g id=\"patch_40\">\n    <path d=\"M 165.462931 186.296205 \nL 223.187069 186.296205 \n\" style=\"fill:none;stroke:#000000;stroke-linecap:square;stroke-linejoin:miter;stroke-width:0.8;\"/>\n   </g>\n   <g id=\"patch_41\">\n    <path d=\"M 165.462931 128.572067 \nL 223.187069 128.572067 \n\" style=\"fill:none;stroke:#000000;stroke-linecap:square;stroke-linejoin:miter;stroke-width:0.8;\"/>\n   </g>\n  </g>\n  <g id=\"axes_9\">\n   <g id=\"patch_42\">\n    <path d=\"M 234.731897 186.296205 \nL 292.456034 186.296205 \nL 292.456034 128.572067 \nL 234.731897 128.572067 \nz\n\" style=\"fill:#ffffff;\"/>\n   </g>\n   <g clip-path=\"url(#p5c028d9045)\">\n    <image height=\"58\" id=\"image68357eaf55\" transform=\"scale(1 -1)translate(0 -58)\" width=\"58\" x=\"234.731897\" xlink:href=\"data:image/png;base64,\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\" y=\"-128.296205\"/>\n   </g>\n   <g id=\"matplotlib.axis_17\">\n    <g id=\"xtick_17\">\n     <g id=\"line2d_33\">\n      <g>\n       <use style=\"stroke:#000000;stroke-width:0.8;\" x=\"235.762685\" xlink:href=\"#m99c83a5d85\" y=\"186.296205\"/>\n      </g>\n     </g>\n     <g id=\"text_33\">\n      <!-- 0 -->\n      <g transform=\"translate(232.581435 200.894642)scale(0.1 -0.1)\">\n       <use xlink:href=\"#DejaVuSans-48\"/>\n      </g>\n     </g>\n    </g>\n    <g id=\"xtick_18\">\n     <g id=\"line2d_34\">\n      <g>\n       <use style=\"stroke:#000000;stroke-width:0.8;\" x=\"287.302094\" xlink:href=\"#m99c83a5d85\" y=\"186.296205\"/>\n      </g>\n     </g>\n     <g id=\"text_34\">\n      <!-- 25 -->\n      <g transform=\"translate(280.939594 200.894642)scale(0.1 -0.1)\">\n       <use xlink:href=\"#DejaVuSans-50\"/>\n       <use x=\"63.623047\" xlink:href=\"#DejaVuSans-53\"/>\n      </g>\n     </g>\n    </g>\n   </g>\n   <g id=\"matplotlib.axis_18\">\n    <g id=\"ytick_17\">\n     <g id=\"line2d_35\">\n      <g>\n       <use style=\"stroke:#000000;stroke-width:0.8;\" x=\"234.731897\" xlink:href=\"#mb12dc3a513\" y=\"129.602855\"/>\n      </g>\n     </g>\n     <g id=\"text_35\">\n      <!-- 0 -->\n      <g transform=\"translate(221.369397 133.402074)scale(0.1 -0.1)\">\n       <use xlink:href=\"#DejaVuSans-48\"/>\n      </g>\n     </g>\n    </g>\n    <g id=\"ytick_18\">\n     <g id=\"line2d_36\">\n      <g>\n       <use style=\"stroke:#000000;stroke-width:0.8;\" x=\"234.731897\" xlink:href=\"#mb12dc3a513\" y=\"170.834382\"/>\n      </g>\n     </g>\n     <g id=\"text_36\">\n      <!-- 20 -->\n      <g transform=\"translate(215.006897 174.633601)scale(0.1 -0.1)\">\n       <use xlink:href=\"#DejaVuSans-50\"/>\n       <use x=\"63.623047\" xlink:href=\"#DejaVuSans-48\"/>\n      </g>\n     </g>\n    </g>\n   </g>\n   <g id=\"patch_43\">\n    <path d=\"M 234.731897 186.296205 \nL 234.731897 128.572067 \n\" style=\"fill:none;stroke:#000000;stroke-linecap:square;stroke-linejoin:miter;stroke-width:0.8;\"/>\n   </g>\n   <g id=\"patch_44\">\n    <path d=\"M 292.456034 186.296205 \nL 292.456034 128.572067 \n\" style=\"fill:none;stroke:#000000;stroke-linecap:square;stroke-linejoin:miter;stroke-width:0.8;\"/>\n   </g>\n   <g id=\"patch_45\">\n    <path d=\"M 234.731897 186.296205 \nL 292.456034 186.296205 \n\" style=\"fill:none;stroke:#000000;stroke-linecap:square;stroke-linejoin:miter;stroke-width:0.8;\"/>\n   </g>\n   <g id=\"patch_46\">\n    <path d=\"M 234.731897 128.572067 \nL 292.456034 128.572067 \n\" style=\"fill:none;stroke:#000000;stroke-linecap:square;stroke-linejoin:miter;stroke-width:0.8;\"/>\n   </g>\n  </g>\n  <g id=\"axes_10\">\n   <g id=\"patch_47\">\n    <path d=\"M 304.000862 186.296205 \nL 361.725 186.296205 \nL 361.725 128.572067 \nL 304.000862 128.572067 \nz\n\" style=\"fill:#ffffff;\"/>\n   </g>\n   <g clip-path=\"url(#p6c8b3b8f51)\">\n    <image height=\"58\" id=\"image87bfef587a\" transform=\"scale(1 -1)translate(0 -58)\" width=\"58\" x=\"304.000862\" xlink:href=\"data:image/png;base64,\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\" y=\"-128.296205\"/>\n   </g>\n   <g id=\"matplotlib.axis_19\">\n    <g id=\"xtick_19\">\n     <g id=\"line2d_37\">\n      <g>\n       <use style=\"stroke:#000000;stroke-width:0.8;\" x=\"305.03165\" xlink:href=\"#m99c83a5d85\" y=\"186.296205\"/>\n      </g>\n     </g>\n     <g id=\"text_37\">\n      <!-- 0 -->\n      <g transform=\"translate(301.8504 200.894642)scale(0.1 -0.1)\">\n       <use xlink:href=\"#DejaVuSans-48\"/>\n      </g>\n     </g>\n    </g>\n    <g id=\"xtick_20\">\n     <g id=\"line2d_38\">\n      <g>\n       <use style=\"stroke:#000000;stroke-width:0.8;\" x=\"356.571059\" xlink:href=\"#m99c83a5d85\" y=\"186.296205\"/>\n      </g>\n     </g>\n     <g id=\"text_38\">\n      <!-- 25 -->\n      <g transform=\"translate(350.208559 200.894642)scale(0.1 -0.1)\">\n       <use xlink:href=\"#DejaVuSans-50\"/>\n       <use x=\"63.623047\" xlink:href=\"#DejaVuSans-53\"/>\n      </g>\n     </g>\n    </g>\n   </g>\n   <g id=\"matplotlib.axis_20\">\n    <g id=\"ytick_19\">\n     <g id=\"line2d_39\">\n      <g>\n       <use style=\"stroke:#000000;stroke-width:0.8;\" x=\"304.000862\" xlink:href=\"#mb12dc3a513\" y=\"129.602855\"/>\n      </g>\n     </g>\n     <g id=\"text_39\">\n      <!-- 0 -->\n      <g transform=\"translate(290.638362 133.402074)scale(0.1 -0.1)\">\n       <use xlink:href=\"#DejaVuSans-48\"/>\n      </g>\n     </g>\n    </g>\n    <g id=\"ytick_20\">\n     <g id=\"line2d_40\">\n      <g>\n       <use style=\"stroke:#000000;stroke-width:0.8;\" x=\"304.000862\" xlink:href=\"#mb12dc3a513\" y=\"170.834382\"/>\n      </g>\n     </g>\n     <g id=\"text_40\">\n      <!-- 20 -->\n      <g transform=\"translate(284.275862 174.633601)scale(0.1 -0.1)\">\n       <use xlink:href=\"#DejaVuSans-50\"/>\n       <use x=\"63.623047\" xlink:href=\"#DejaVuSans-48\"/>\n      </g>\n     </g>\n    </g>\n   </g>\n   <g id=\"patch_48\">\n    <path d=\"M 304.000862 186.296205 \nL 304.000862 128.572067 \n\" style=\"fill:none;stroke:#000000;stroke-linecap:square;stroke-linejoin:miter;stroke-width:0.8;\"/>\n   </g>\n   <g id=\"patch_49\">\n    <path d=\"M 361.725 186.296205 \nL 361.725 128.572067 \n\" style=\"fill:none;stroke:#000000;stroke-linecap:square;stroke-linejoin:miter;stroke-width:0.8;\"/>\n   </g>\n   <g id=\"patch_50\">\n    <path d=\"M 304.000862 186.296205 \nL 361.725 186.296205 \n\" style=\"fill:none;stroke:#000000;stroke-linecap:square;stroke-linejoin:miter;stroke-width:0.8;\"/>\n   </g>\n   <g id=\"patch_51\">\n    <path d=\"M 304.000862 128.572067 \nL 361.725 128.572067 \n\" style=\"fill:none;stroke:#000000;stroke-linecap:square;stroke-linejoin:miter;stroke-width:0.8;\"/>\n   </g>\n  </g>\n </g>\n <defs>\n  <clipPath id=\"p7c97ec7064\">\n   <rect height=\"57.724138\" width=\"57.724138\" x=\"26.925\" y=\"9.968431\"/>\n  </clipPath>\n  <clipPath id=\"p92353e5dd5\">\n   <rect height=\"57.724138\" width=\"57.724138\" x=\"96.193966\" y=\"9.968431\"/>\n  </clipPath>\n  <clipPath id=\"p251fc05eb2\">\n   <rect height=\"57.724138\" width=\"57.724138\" x=\"165.462931\" y=\"9.968431\"/>\n  </clipPath>\n  <clipPath id=\"p46b0595960\">\n   <rect height=\"57.724138\" width=\"57.724138\" x=\"234.731897\" y=\"9.968431\"/>\n  </clipPath>\n  <clipPath id=\"p13f0cbcf2b\">\n   <rect height=\"57.724138\" width=\"57.724138\" x=\"304.000862\" y=\"9.968431\"/>\n  </clipPath>\n  <clipPath id=\"p560f26ebc9\">\n   <rect height=\"57.724138\" width=\"57.724138\" x=\"26.925\" y=\"128.572067\"/>\n  </clipPath>\n  <clipPath id=\"p436e50bba6\">\n   <rect height=\"57.724138\" width=\"57.724138\" x=\"96.193966\" y=\"128.572067\"/>\n  </clipPath>\n  <clipPath id=\"pd67ae81eaa\">\n   <rect height=\"57.724138\" width=\"57.724138\" x=\"165.462931\" y=\"128.572067\"/>\n  </clipPath>\n  <clipPath id=\"p5c028d9045\">\n   <rect height=\"57.724138\" width=\"57.724138\" x=\"234.731897\" y=\"128.572067\"/>\n  </clipPath>\n  <clipPath id=\"p6c8b3b8f51\">\n   <rect height=\"57.724138\" width=\"57.724138\" x=\"304.000862\" y=\"128.572067\"/>\n  </clipPath>\n </defs>\n</svg>\n"
          },
          "metadata": {
            "needs_background": "light"
          }
        }
      ]
    },
    {
      "cell_type": "code",
      "source": [
        "model = MLP(num_outputs, num_hiddens, lr=0.1)"
      ],
      "metadata": {
        "colab": {
          "base_uri": "https://localhost:8080/"
        },
        "id": "l3BQGCuXXFW8",
        "outputId": "431298bf-55dc-4177-d978-a9e49b608796"
      },
      "execution_count": 16,
      "outputs": [
        {
          "output_type": "stream",
          "name": "stderr",
          "text": [
            "/usr/local/lib/python3.8/dist-packages/torch/nn/modules/lazy.py:180: UserWarning: Lazy modules are a new feature under heavy development so changes to the API or functionality can happen at any moment.\n",
            "  warnings.warn('Lazy modules are a new feature under heavy development '\n"
          ]
        }
      ]
    },
    {
      "cell_type": "code",
      "source": [
        "# optimizer and loss functon\n",
        "optimizer = torch.optim.SGD(model.parameters(), model.lr)\n",
        "criterion = nn.CrossEntropyLoss()"
      ],
      "metadata": {
        "id": "RlClM2xFR50L"
      },
      "execution_count": 17,
      "outputs": []
    },
    {
      "cell_type": "code",
      "source": [
        "len(train_dataloader)"
      ],
      "metadata": {
        "colab": {
          "base_uri": "https://localhost:8080/"
        },
        "id": "SIHKthfRZScF",
        "outputId": "d97d1939-b9cb-45f6-a8e3-c6aea2fd8df2"
      },
      "execution_count": 69,
      "outputs": [
        {
          "output_type": "execute_result",
          "data": {
            "text/plain": [
              "235"
            ]
          },
          "metadata": {},
          "execution_count": 69
        }
      ]
    },
    {
      "cell_type": "code",
      "source": [
        "# Training_loop : \n",
        "\n",
        "n_total_steps = len(train_dataloader)\n",
        "\n",
        "for epoch in range(num_epochs):\n",
        "\n",
        "  for i, (images, labels) in enumerate(train_dataloader):\n",
        "\n",
        "    # fwd pass : y_hat and loss\n",
        "    y_hat = model.forward(images)\n",
        "    loss = criterion(y_hat, labels)\n",
        "\n",
        "    # backward pass : gradient\n",
        "    loss.backward()\n",
        "\n",
        "    # update the params\n",
        "    optimizer.step()\n",
        "\n",
        "    # zero the grad\n",
        "    optimizer.zero_grad()\n",
        "\n",
        "    if (i+1) % 100 == 0:\n",
        "      print(f\"epoch : {epoch+1}/{num_epochs}, step : {i+1}/{n_total_steps}, loss = {loss.item():.4f}\")"
      ],
      "metadata": {
        "colab": {
          "base_uri": "https://localhost:8080/"
        },
        "id": "TTyGAY_EYRCc",
        "outputId": "1c449923-8d75-4094-a04c-ce886c8c9412"
      },
      "execution_count": 78,
      "outputs": [
        {
          "output_type": "stream",
          "name": "stdout",
          "text": [
            "epoch : 1/10, step : 100/235, loss = 0.7442\n",
            "epoch : 1/10, step : 200/235, loss = 0.6585\n",
            "epoch : 2/10, step : 100/235, loss = 0.5146\n",
            "epoch : 2/10, step : 200/235, loss = 0.4707\n",
            "epoch : 3/10, step : 100/235, loss = 0.4265\n",
            "epoch : 3/10, step : 200/235, loss = 0.4632\n",
            "epoch : 4/10, step : 100/235, loss = 0.4136\n",
            "epoch : 4/10, step : 200/235, loss = 0.4820\n",
            "epoch : 5/10, step : 100/235, loss = 0.4259\n",
            "epoch : 5/10, step : 200/235, loss = 0.4013\n",
            "epoch : 6/10, step : 100/235, loss = 0.4779\n",
            "epoch : 6/10, step : 200/235, loss = 0.4560\n",
            "epoch : 7/10, step : 100/235, loss = 0.3442\n",
            "epoch : 7/10, step : 200/235, loss = 0.4550\n",
            "epoch : 8/10, step : 100/235, loss = 0.3318\n",
            "epoch : 8/10, step : 200/235, loss = 0.4220\n",
            "epoch : 9/10, step : 100/235, loss = 0.3115\n",
            "epoch : 9/10, step : 200/235, loss = 0.3899\n",
            "epoch : 10/10, step : 100/235, loss = 0.4720\n",
            "epoch : 10/10, step : 200/235, loss = 0.4119\n"
          ]
        }
      ]
    },
    {
      "cell_type": "markdown",
      "source": [
        "now let's evaluate the model"
      ],
      "metadata": {
        "id": "xMFetFplabKP"
      }
    },
    {
      "cell_type": "code",
      "source": [
        "a = torch.arange(12).reshape(3, 4)\n",
        "b, c = torch.max(a, 1)\n",
        "print(a)\n",
        "print(b)\n",
        "print(c)"
      ],
      "metadata": {
        "colab": {
          "base_uri": "https://localhost:8080/"
        },
        "id": "vIAc6EY0bM28",
        "outputId": "f2f755c4-952e-4926-a7eb-80dec2e4cb00"
      },
      "execution_count": 80,
      "outputs": [
        {
          "output_type": "stream",
          "name": "stdout",
          "text": [
            "tensor([[ 0,  1,  2,  3],\n",
            "        [ 4,  5,  6,  7],\n",
            "        [ 8,  9, 10, 11]])\n",
            "tensor([ 3,  7, 11])\n",
            "tensor([3, 3, 3])\n"
          ]
        }
      ]
    },
    {
      "cell_type": "code",
      "source": [
        "with torch.no_grad():\n",
        "  X, y = next(iter(test_dataloader))\n",
        "  print(f\"X.shape = {X.shape}, y.shape = {y.shape}\")\n",
        "  y_1 = model.forward(X)\n",
        "  print(f\"y_1.shape = {y_1.shape}\")\n",
        "  y_2 = model(X)\n",
        "  print(f\"y_2.shape = {y_2.shape}\")"
      ],
      "metadata": {
        "colab": {
          "base_uri": "https://localhost:8080/"
        },
        "id": "GxMQM0Qwb697",
        "outputId": "092306ca-03bf-4474-dad4-4e51651bc2a7"
      },
      "execution_count": 83,
      "outputs": [
        {
          "output_type": "stream",
          "name": "stderr",
          "text": [
            "/usr/local/lib/python3.8/dist-packages/torch/utils/data/dataloader.py:554: UserWarning: This DataLoader will create 4 worker processes in total. Our suggested max number of worker in current system is 2, which is smaller than what this DataLoader is going to create. Please be aware that excessive worker creation might get DataLoader running slow or even freeze, lower the worker number to avoid potential slowness/freeze if necessary.\n",
            "  warnings.warn(_create_warning_msg(\n"
          ]
        },
        {
          "output_type": "stream",
          "name": "stdout",
          "text": [
            "X.shape = torch.Size([256, 1, 28, 28]), y.shape = torch.Size([256])\n",
            "y_1.shape = torch.Size([256, 10])\n",
            "y_2.shape = torch.Size([256, 10])\n"
          ]
        }
      ]
    },
    {
      "cell_type": "code",
      "source": [
        "_, preds = torch.max(y_1, 1)\n",
        "preds.shape"
      ],
      "metadata": {
        "colab": {
          "base_uri": "https://localhost:8080/"
        },
        "id": "WjamTpA7chrB",
        "outputId": "a7d4f051-79d3-4826-f00f-39f1a400c74a"
      },
      "execution_count": 86,
      "outputs": [
        {
          "output_type": "execute_result",
          "data": {
            "text/plain": [
              "torch.Size([256])"
            ]
          },
          "metadata": {},
          "execution_count": 86
        }
      ]
    },
    {
      "cell_type": "code",
      "source": [
        "(preds == y).sum() / preds.numel()"
      ],
      "metadata": {
        "colab": {
          "base_uri": "https://localhost:8080/"
        },
        "id": "AWDSSlj6cnF5",
        "outputId": "55ae6d87-feea-4442-c9b3-e28b0d0c046d"
      },
      "execution_count": 88,
      "outputs": [
        {
          "output_type": "execute_result",
          "data": {
            "text/plain": [
              "tensor(0.8789)"
            ]
          },
          "metadata": {},
          "execution_count": 88
        }
      ]
    },
    {
      "cell_type": "code",
      "source": [
        "(y_1 == y_2).sum() / y_1.numel()"
      ],
      "metadata": {
        "colab": {
          "base_uri": "https://localhost:8080/"
        },
        "id": "YuKl5D1AcYWh",
        "outputId": "78c17356-ddaa-4e32-dad5-c3a6fd891f61"
      },
      "execution_count": 85,
      "outputs": [
        {
          "output_type": "execute_result",
          "data": {
            "text/plain": [
              "tensor(1.)"
            ]
          },
          "metadata": {},
          "execution_count": 85
        }
      ]
    },
    {
      "cell_type": "code",
      "source": [
        "with torch.no_grad():\n",
        "\n",
        "  n_samples = 0\n",
        "  n_correct = 0\n",
        "\n",
        "  for features, labels in test_dataloader:\n",
        "\n",
        "    outputs = model.forward(features)\n",
        "    _, predictions = torch.max(outputs, 1)\n",
        "    n_samples += labels.shape[0]\n",
        "    n_correct += (predictions == labels).sum().item()\n",
        "\n",
        "  acc = 100 * (n_correct / n_samples)\n",
        "  print(f'accuracy = {acc:.4f}')"
      ],
      "metadata": {
        "colab": {
          "base_uri": "https://localhost:8080/"
        },
        "id": "BOZxnMw9Zjvb",
        "outputId": "6647cde1-89d3-4ac8-cd89-21fd1957e22f"
      },
      "execution_count": 89,
      "outputs": [
        {
          "output_type": "stream",
          "name": "stderr",
          "text": [
            "/usr/local/lib/python3.8/dist-packages/torch/utils/data/dataloader.py:554: UserWarning: This DataLoader will create 4 worker processes in total. Our suggested max number of worker in current system is 2, which is smaller than what this DataLoader is going to create. Please be aware that excessive worker creation might get DataLoader running slow or even freeze, lower the worker number to avoid potential slowness/freeze if necessary.\n",
            "  warnings.warn(_create_warning_msg(\n"
          ]
        },
        {
          "output_type": "stream",
          "name": "stdout",
          "text": [
            "accuracy = 84.9100\n"
          ]
        }
      ]
    },
    {
      "cell_type": "markdown",
      "source": [
        "## Ex 5.2"
      ],
      "metadata": {
        "id": "eG_ZvyKLdEAx"
      }
    },
    {
      "cell_type": "markdown",
      "source": [
        "### Q1: \n",
        "\n",
        "optimum value is 512 or 128"
      ],
      "metadata": {
        "id": "1Ti9U20kdF2o"
      }
    },
    {
      "cell_type": "code",
      "source": [
        "# hyperparameters\n",
        "\n",
        "learning_rate = 0.1\n",
        "max_epochs = 10\n",
        "num_outputs = 10"
      ],
      "metadata": {
        "id": "bb1sxdwIia6y"
      },
      "execution_count": 91,
      "outputs": []
    },
    {
      "cell_type": "code",
      "source": [
        "def give_accuracy(num_hiddens):\n",
        "\n",
        "  '''\n",
        "  functions gives the accuracy of the model corresponding to the given number of hidden units\n",
        "  '''\n",
        "\n",
        "  model = MLP(num_outputs, num_hiddens, lr = learning_rate)\n",
        "  criterion = nn.CrossEntropyLoss()\n",
        "  optimizer = torch.optim.SGD(model.parameters(), model.lr)\n",
        "\n",
        "  # training loop\n",
        "  for epoch in range(max_epochs):\n",
        "\n",
        "    for features, targets in train_dataloader:\n",
        "\n",
        "      # fwd pass : y_hat and the loss\n",
        "      outputs = model(features)\n",
        "      loss = criterion(outputs, targets)\n",
        "\n",
        "      # backward pass : gradient\n",
        "      loss.backward()\n",
        "\n",
        "      # update the params\n",
        "      optimizer.step()\n",
        "\n",
        "      # zero the grad\n",
        "      optimizer.zero_grad()\n",
        "\n",
        "    # loss calculate the accuracy\n",
        "\n",
        "  with torch.no_grad():\n",
        "    n_samples = 0\n",
        "    n_correct = 0\n",
        "    for features, targets in test_dataloader:\n",
        "      outputs = model(features)\n",
        "      _, preds = torch.max(outputs, 1)\n",
        "      n_samples += targets.shape[0]\n",
        "      n_correct += (preds == targets).sum().item()\n",
        "\n",
        "    acc = 100 * (n_correct / n_samples)\n",
        "    return acc"
      ],
      "metadata": {
        "id": "TLCgjOCEbyB0"
      },
      "execution_count": 92,
      "outputs": []
    },
    {
      "cell_type": "code",
      "source": [
        "num_hiddens_list = [2, 4, 8, 16, 32, 64, 128, 256, 512, 1024]\n",
        "acc_list = []\n",
        "\n",
        "for i, num_hiddens in enumerate(num_hiddens_list):\n",
        "  t = give_accuracy(num_hiddens)\n",
        "  print(f\"i = {i+1}, acc = {t}\")\n",
        "  acc_list.append(t)"
      ],
      "metadata": {
        "colab": {
          "base_uri": "https://localhost:8080/"
        },
        "id": "aNydhq-jkMGz",
        "outputId": "039e2d0c-372c-49f4-b641-cfe222b02e70"
      },
      "execution_count": 93,
      "outputs": [
        {
          "output_type": "stream",
          "name": "stderr",
          "text": [
            "/usr/local/lib/python3.8/dist-packages/torch/nn/modules/lazy.py:180: UserWarning: Lazy modules are a new feature under heavy development so changes to the API or functionality can happen at any moment.\n",
            "  warnings.warn('Lazy modules are a new feature under heavy development '\n",
            "/usr/local/lib/python3.8/dist-packages/torch/utils/data/dataloader.py:554: UserWarning: This DataLoader will create 4 worker processes in total. Our suggested max number of worker in current system is 2, which is smaller than what this DataLoader is going to create. Please be aware that excessive worker creation might get DataLoader running slow or even freeze, lower the worker number to avoid potential slowness/freeze if necessary.\n",
            "  warnings.warn(_create_warning_msg(\n"
          ]
        },
        {
          "output_type": "stream",
          "name": "stdout",
          "text": [
            "i = 1, acc = 60.919999999999995\n",
            "i = 2, acc = 78.3\n",
            "i = 3, acc = 80.25999999999999\n",
            "i = 4, acc = 83.11\n",
            "i = 5, acc = 83.47\n",
            "i = 6, acc = 83.25\n",
            "i = 7, acc = 85.11\n",
            "i = 8, acc = 83.47\n",
            "i = 9, acc = 85.18\n",
            "i = 10, acc = 81.54\n"
          ]
        }
      ]
    },
    {
      "cell_type": "code",
      "source": [
        "plt.plot(num_hiddens_list, acc_list, 'c')\n",
        "plt.xlabel(\"Num of hidden units in the hidden layer\")\n",
        "plt.ylabel(\"Accuracy\")\n",
        "plt.grid();"
      ],
      "metadata": {
        "colab": {
          "base_uri": "https://localhost:8080/",
          "height": 371
        },
        "id": "BgVacOpLoA69",
        "outputId": "6d6a7d3b-8301-44cd-d60b-c4a2a3a2b312"
      },
      "execution_count": 96,
      "outputs": [
        {
          "output_type": "display_data",
          "data": {
            "text/plain": [
              "<Figure size 432x288 with 1 Axes>"
            ],
            "image/svg+xml": "<?xml version=\"1.0\" encoding=\"utf-8\" standalone=\"no\"?>\n<!DOCTYPE svg PUBLIC \"-//W3C//DTD SVG 1.1//EN\"\n  \"http://www.w3.org/Graphics/SVG/1.1/DTD/svg11.dtd\">\n<!-- Created with matplotlib (https://matplotlib.org/) -->\n<svg height=\"262.19625pt\" version=\"1.1\" viewBox=\"0 0 382.603125 262.19625\" width=\"382.603125pt\" xmlns=\"http://www.w3.org/2000/svg\" xmlns:xlink=\"http://www.w3.org/1999/xlink\">\n <defs>\n  <style type=\"text/css\">\n*{stroke-linecap:butt;stroke-linejoin:round;}\n  </style>\n </defs>\n <g id=\"figure_1\">\n  <g id=\"patch_1\">\n   <path d=\"M 0 262.19625 \nL 382.603125 262.19625 \nL 382.603125 0 \nL 0 0 \nz\n\" style=\"fill:none;\"/>\n  </g>\n  <g id=\"axes_1\">\n   <g id=\"patch_2\">\n    <path d=\"M 40.603125 224.64 \nL 375.403125 224.64 \nL 375.403125 7.2 \nL 40.603125 7.2 \nz\n\" style=\"fill:#ffffff;\"/>\n   </g>\n   <g id=\"matplotlib.axis_1\">\n    <g id=\"xtick_1\">\n     <g id=\"line2d_1\">\n      <path clip-path=\"url(#p81a6c43e9c)\" d=\"M 55.225683 224.64 \nL 55.225683 7.2 \n\" style=\"fill:none;stroke:#b0b0b0;stroke-linecap:square;stroke-width:0.8;\"/>\n     </g>\n     <g id=\"line2d_2\">\n      <defs>\n       <path d=\"M 0 0 \nL 0 3.5 \n\" id=\"m0d8f710591\" style=\"stroke:#000000;stroke-width:0.8;\"/>\n      </defs>\n      <g>\n       <use style=\"stroke:#000000;stroke-width:0.8;\" x=\"55.225683\" xlink:href=\"#m0d8f710591\" y=\"224.64\"/>\n      </g>\n     </g>\n     <g id=\"text_1\">\n      <!-- 0 -->\n      <defs>\n       <path d=\"M 31.78125 66.40625 \nQ 24.171875 66.40625 20.328125 58.90625 \nQ 16.5 51.421875 16.5 36.375 \nQ 16.5 21.390625 20.328125 13.890625 \nQ 24.171875 6.390625 31.78125 6.390625 \nQ 39.453125 6.390625 43.28125 13.890625 \nQ 47.125 21.390625 47.125 36.375 \nQ 47.125 51.421875 43.28125 58.90625 \nQ 39.453125 66.40625 31.78125 66.40625 \nz\nM 31.78125 74.21875 \nQ 44.046875 74.21875 50.515625 64.515625 \nQ 56.984375 54.828125 56.984375 36.375 \nQ 56.984375 17.96875 50.515625 8.265625 \nQ 44.046875 -1.421875 31.78125 -1.421875 \nQ 19.53125 -1.421875 13.0625 8.265625 \nQ 6.59375 17.96875 6.59375 36.375 \nQ 6.59375 54.828125 13.0625 64.515625 \nQ 19.53125 74.21875 31.78125 74.21875 \nz\n\" id=\"DejaVuSans-48\"/>\n      </defs>\n      <g transform=\"translate(52.044433 239.238437)scale(0.1 -0.1)\">\n       <use xlink:href=\"#DejaVuSans-48\"/>\n      </g>\n     </g>\n    </g>\n    <g id=\"xtick_2\">\n     <g id=\"line2d_3\">\n      <path clip-path=\"url(#p81a6c43e9c)\" d=\"M 114.788039 224.64 \nL 114.788039 7.2 \n\" style=\"fill:none;stroke:#b0b0b0;stroke-linecap:square;stroke-width:0.8;\"/>\n     </g>\n     <g id=\"line2d_4\">\n      <g>\n       <use style=\"stroke:#000000;stroke-width:0.8;\" x=\"114.788039\" xlink:href=\"#m0d8f710591\" y=\"224.64\"/>\n      </g>\n     </g>\n     <g id=\"text_2\">\n      <!-- 200 -->\n      <defs>\n       <path d=\"M 19.1875 8.296875 \nL 53.609375 8.296875 \nL 53.609375 0 \nL 7.328125 0 \nL 7.328125 8.296875 \nQ 12.9375 14.109375 22.625 23.890625 \nQ 32.328125 33.6875 34.8125 36.53125 \nQ 39.546875 41.84375 41.421875 45.53125 \nQ 43.3125 49.21875 43.3125 52.78125 \nQ 43.3125 58.59375 39.234375 62.25 \nQ 35.15625 65.921875 28.609375 65.921875 \nQ 23.96875 65.921875 18.8125 64.3125 \nQ 13.671875 62.703125 7.8125 59.421875 \nL 7.8125 69.390625 \nQ 13.765625 71.78125 18.9375 73 \nQ 24.125 74.21875 28.421875 74.21875 \nQ 39.75 74.21875 46.484375 68.546875 \nQ 53.21875 62.890625 53.21875 53.421875 \nQ 53.21875 48.921875 51.53125 44.890625 \nQ 49.859375 40.875 45.40625 35.40625 \nQ 44.1875 33.984375 37.640625 27.21875 \nQ 31.109375 20.453125 19.1875 8.296875 \nz\n\" id=\"DejaVuSans-50\"/>\n      </defs>\n      <g transform=\"translate(105.244289 239.238437)scale(0.1 -0.1)\">\n       <use xlink:href=\"#DejaVuSans-50\"/>\n       <use x=\"63.623047\" xlink:href=\"#DejaVuSans-48\"/>\n       <use x=\"127.246094\" xlink:href=\"#DejaVuSans-48\"/>\n      </g>\n     </g>\n    </g>\n    <g id=\"xtick_3\">\n     <g id=\"line2d_5\">\n      <path clip-path=\"url(#p81a6c43e9c)\" d=\"M 174.350394 224.64 \nL 174.350394 7.2 \n\" style=\"fill:none;stroke:#b0b0b0;stroke-linecap:square;stroke-width:0.8;\"/>\n     </g>\n     <g id=\"line2d_6\">\n      <g>\n       <use style=\"stroke:#000000;stroke-width:0.8;\" x=\"174.350394\" xlink:href=\"#m0d8f710591\" y=\"224.64\"/>\n      </g>\n     </g>\n     <g id=\"text_3\">\n      <!-- 400 -->\n      <defs>\n       <path d=\"M 37.796875 64.3125 \nL 12.890625 25.390625 \nL 37.796875 25.390625 \nz\nM 35.203125 72.90625 \nL 47.609375 72.90625 \nL 47.609375 25.390625 \nL 58.015625 25.390625 \nL 58.015625 17.1875 \nL 47.609375 17.1875 \nL 47.609375 0 \nL 37.796875 0 \nL 37.796875 17.1875 \nL 4.890625 17.1875 \nL 4.890625 26.703125 \nz\n\" id=\"DejaVuSans-52\"/>\n      </defs>\n      <g transform=\"translate(164.806644 239.238437)scale(0.1 -0.1)\">\n       <use xlink:href=\"#DejaVuSans-52\"/>\n       <use x=\"63.623047\" xlink:href=\"#DejaVuSans-48\"/>\n       <use x=\"127.246094\" xlink:href=\"#DejaVuSans-48\"/>\n      </g>\n     </g>\n    </g>\n    <g id=\"xtick_4\">\n     <g id=\"line2d_7\">\n      <path clip-path=\"url(#p81a6c43e9c)\" d=\"M 233.91275 224.64 \nL 233.91275 7.2 \n\" style=\"fill:none;stroke:#b0b0b0;stroke-linecap:square;stroke-width:0.8;\"/>\n     </g>\n     <g id=\"line2d_8\">\n      <g>\n       <use style=\"stroke:#000000;stroke-width:0.8;\" x=\"233.91275\" xlink:href=\"#m0d8f710591\" y=\"224.64\"/>\n      </g>\n     </g>\n     <g id=\"text_4\">\n      <!-- 600 -->\n      <defs>\n       <path d=\"M 33.015625 40.375 \nQ 26.375 40.375 22.484375 35.828125 \nQ 18.609375 31.296875 18.609375 23.390625 \nQ 18.609375 15.53125 22.484375 10.953125 \nQ 26.375 6.390625 33.015625 6.390625 \nQ 39.65625 6.390625 43.53125 10.953125 \nQ 47.40625 15.53125 47.40625 23.390625 \nQ 47.40625 31.296875 43.53125 35.828125 \nQ 39.65625 40.375 33.015625 40.375 \nz\nM 52.59375 71.296875 \nL 52.59375 62.3125 \nQ 48.875 64.0625 45.09375 64.984375 \nQ 41.3125 65.921875 37.59375 65.921875 \nQ 27.828125 65.921875 22.671875 59.328125 \nQ 17.53125 52.734375 16.796875 39.40625 \nQ 19.671875 43.65625 24.015625 45.921875 \nQ 28.375 48.1875 33.59375 48.1875 \nQ 44.578125 48.1875 50.953125 41.515625 \nQ 57.328125 34.859375 57.328125 23.390625 \nQ 57.328125 12.15625 50.6875 5.359375 \nQ 44.046875 -1.421875 33.015625 -1.421875 \nQ 20.359375 -1.421875 13.671875 8.265625 \nQ 6.984375 17.96875 6.984375 36.375 \nQ 6.984375 53.65625 15.1875 63.9375 \nQ 23.390625 74.21875 37.203125 74.21875 \nQ 40.921875 74.21875 44.703125 73.484375 \nQ 48.484375 72.75 52.59375 71.296875 \nz\n\" id=\"DejaVuSans-54\"/>\n      </defs>\n      <g transform=\"translate(224.369 239.238437)scale(0.1 -0.1)\">\n       <use xlink:href=\"#DejaVuSans-54\"/>\n       <use x=\"63.623047\" xlink:href=\"#DejaVuSans-48\"/>\n       <use x=\"127.246094\" xlink:href=\"#DejaVuSans-48\"/>\n      </g>\n     </g>\n    </g>\n    <g id=\"xtick_5\">\n     <g id=\"line2d_9\">\n      <path clip-path=\"url(#p81a6c43e9c)\" d=\"M 293.475105 224.64 \nL 293.475105 7.2 \n\" style=\"fill:none;stroke:#b0b0b0;stroke-linecap:square;stroke-width:0.8;\"/>\n     </g>\n     <g id=\"line2d_10\">\n      <g>\n       <use style=\"stroke:#000000;stroke-width:0.8;\" x=\"293.475105\" xlink:href=\"#m0d8f710591\" y=\"224.64\"/>\n      </g>\n     </g>\n     <g id=\"text_5\">\n      <!-- 800 -->\n      <defs>\n       <path d=\"M 31.78125 34.625 \nQ 24.75 34.625 20.71875 30.859375 \nQ 16.703125 27.09375 16.703125 20.515625 \nQ 16.703125 13.921875 20.71875 10.15625 \nQ 24.75 6.390625 31.78125 6.390625 \nQ 38.8125 6.390625 42.859375 10.171875 \nQ 46.921875 13.96875 46.921875 20.515625 \nQ 46.921875 27.09375 42.890625 30.859375 \nQ 38.875 34.625 31.78125 34.625 \nz\nM 21.921875 38.8125 \nQ 15.578125 40.375 12.03125 44.71875 \nQ 8.5 49.078125 8.5 55.328125 \nQ 8.5 64.0625 14.71875 69.140625 \nQ 20.953125 74.21875 31.78125 74.21875 \nQ 42.671875 74.21875 48.875 69.140625 \nQ 55.078125 64.0625 55.078125 55.328125 \nQ 55.078125 49.078125 51.53125 44.71875 \nQ 48 40.375 41.703125 38.8125 \nQ 48.828125 37.15625 52.796875 32.3125 \nQ 56.78125 27.484375 56.78125 20.515625 \nQ 56.78125 9.90625 50.3125 4.234375 \nQ 43.84375 -1.421875 31.78125 -1.421875 \nQ 19.734375 -1.421875 13.25 4.234375 \nQ 6.78125 9.90625 6.78125 20.515625 \nQ 6.78125 27.484375 10.78125 32.3125 \nQ 14.796875 37.15625 21.921875 38.8125 \nz\nM 18.3125 54.390625 \nQ 18.3125 48.734375 21.84375 45.5625 \nQ 25.390625 42.390625 31.78125 42.390625 \nQ 38.140625 42.390625 41.71875 45.5625 \nQ 45.3125 48.734375 45.3125 54.390625 \nQ 45.3125 60.0625 41.71875 63.234375 \nQ 38.140625 66.40625 31.78125 66.40625 \nQ 25.390625 66.40625 21.84375 63.234375 \nQ 18.3125 60.0625 18.3125 54.390625 \nz\n\" id=\"DejaVuSans-56\"/>\n      </defs>\n      <g transform=\"translate(283.931355 239.238437)scale(0.1 -0.1)\">\n       <use xlink:href=\"#DejaVuSans-56\"/>\n       <use x=\"63.623047\" xlink:href=\"#DejaVuSans-48\"/>\n       <use x=\"127.246094\" xlink:href=\"#DejaVuSans-48\"/>\n      </g>\n     </g>\n    </g>\n    <g id=\"xtick_6\">\n     <g id=\"line2d_11\">\n      <path clip-path=\"url(#p81a6c43e9c)\" d=\"M 353.037461 224.64 \nL 353.037461 7.2 \n\" style=\"fill:none;stroke:#b0b0b0;stroke-linecap:square;stroke-width:0.8;\"/>\n     </g>\n     <g id=\"line2d_12\">\n      <g>\n       <use style=\"stroke:#000000;stroke-width:0.8;\" x=\"353.037461\" xlink:href=\"#m0d8f710591\" y=\"224.64\"/>\n      </g>\n     </g>\n     <g id=\"text_6\">\n      <!-- 1000 -->\n      <defs>\n       <path d=\"M 12.40625 8.296875 \nL 28.515625 8.296875 \nL 28.515625 63.921875 \nL 10.984375 60.40625 \nL 10.984375 69.390625 \nL 28.421875 72.90625 \nL 38.28125 72.90625 \nL 38.28125 8.296875 \nL 54.390625 8.296875 \nL 54.390625 0 \nL 12.40625 0 \nz\n\" id=\"DejaVuSans-49\"/>\n      </defs>\n      <g transform=\"translate(340.312461 239.238437)scale(0.1 -0.1)\">\n       <use xlink:href=\"#DejaVuSans-49\"/>\n       <use x=\"63.623047\" xlink:href=\"#DejaVuSans-48\"/>\n       <use x=\"127.246094\" xlink:href=\"#DejaVuSans-48\"/>\n       <use x=\"190.869141\" xlink:href=\"#DejaVuSans-48\"/>\n      </g>\n     </g>\n    </g>\n    <g id=\"text_7\">\n     <!-- Num of hidden units in the hidden layer -->\n     <defs>\n      <path d=\"M 9.8125 72.90625 \nL 23.09375 72.90625 \nL 55.421875 11.921875 \nL 55.421875 72.90625 \nL 64.984375 72.90625 \nL 64.984375 0 \nL 51.703125 0 \nL 19.390625 60.984375 \nL 19.390625 0 \nL 9.8125 0 \nz\n\" id=\"DejaVuSans-78\"/>\n      <path d=\"M 8.5 21.578125 \nL 8.5 54.6875 \nL 17.484375 54.6875 \nL 17.484375 21.921875 \nQ 17.484375 14.15625 20.5 10.265625 \nQ 23.53125 6.390625 29.59375 6.390625 \nQ 36.859375 6.390625 41.078125 11.03125 \nQ 45.3125 15.671875 45.3125 23.6875 \nL 45.3125 54.6875 \nL 54.296875 54.6875 \nL 54.296875 0 \nL 45.3125 0 \nL 45.3125 8.40625 \nQ 42.046875 3.421875 37.71875 1 \nQ 33.40625 -1.421875 27.6875 -1.421875 \nQ 18.265625 -1.421875 13.375 4.4375 \nQ 8.5 10.296875 8.5 21.578125 \nz\nM 31.109375 56 \nz\n\" id=\"DejaVuSans-117\"/>\n      <path d=\"M 52 44.1875 \nQ 55.375 50.25 60.0625 53.125 \nQ 64.75 56 71.09375 56 \nQ 79.640625 56 84.28125 50.015625 \nQ 88.921875 44.046875 88.921875 33.015625 \nL 88.921875 0 \nL 79.890625 0 \nL 79.890625 32.71875 \nQ 79.890625 40.578125 77.09375 44.375 \nQ 74.3125 48.1875 68.609375 48.1875 \nQ 61.625 48.1875 57.5625 43.546875 \nQ 53.515625 38.921875 53.515625 30.90625 \nL 53.515625 0 \nL 44.484375 0 \nL 44.484375 32.71875 \nQ 44.484375 40.625 41.703125 44.40625 \nQ 38.921875 48.1875 33.109375 48.1875 \nQ 26.21875 48.1875 22.15625 43.53125 \nQ 18.109375 38.875 18.109375 30.90625 \nL 18.109375 0 \nL 9.078125 0 \nL 9.078125 54.6875 \nL 18.109375 54.6875 \nL 18.109375 46.1875 \nQ 21.1875 51.21875 25.484375 53.609375 \nQ 29.78125 56 35.6875 56 \nQ 41.65625 56 45.828125 52.96875 \nQ 50 49.953125 52 44.1875 \nz\n\" id=\"DejaVuSans-109\"/>\n      <path id=\"DejaVuSans-32\"/>\n      <path d=\"M 30.609375 48.390625 \nQ 23.390625 48.390625 19.1875 42.75 \nQ 14.984375 37.109375 14.984375 27.296875 \nQ 14.984375 17.484375 19.15625 11.84375 \nQ 23.34375 6.203125 30.609375 6.203125 \nQ 37.796875 6.203125 41.984375 11.859375 \nQ 46.1875 17.53125 46.1875 27.296875 \nQ 46.1875 37.015625 41.984375 42.703125 \nQ 37.796875 48.390625 30.609375 48.390625 \nz\nM 30.609375 56 \nQ 42.328125 56 49.015625 48.375 \nQ 55.71875 40.765625 55.71875 27.296875 \nQ 55.71875 13.875 49.015625 6.21875 \nQ 42.328125 -1.421875 30.609375 -1.421875 \nQ 18.84375 -1.421875 12.171875 6.21875 \nQ 5.515625 13.875 5.515625 27.296875 \nQ 5.515625 40.765625 12.171875 48.375 \nQ 18.84375 56 30.609375 56 \nz\n\" id=\"DejaVuSans-111\"/>\n      <path d=\"M 37.109375 75.984375 \nL 37.109375 68.5 \nL 28.515625 68.5 \nQ 23.6875 68.5 21.796875 66.546875 \nQ 19.921875 64.59375 19.921875 59.515625 \nL 19.921875 54.6875 \nL 34.71875 54.6875 \nL 34.71875 47.703125 \nL 19.921875 47.703125 \nL 19.921875 0 \nL 10.890625 0 \nL 10.890625 47.703125 \nL 2.296875 47.703125 \nL 2.296875 54.6875 \nL 10.890625 54.6875 \nL 10.890625 58.5 \nQ 10.890625 67.625 15.140625 71.796875 \nQ 19.390625 75.984375 28.609375 75.984375 \nz\n\" id=\"DejaVuSans-102\"/>\n      <path d=\"M 54.890625 33.015625 \nL 54.890625 0 \nL 45.90625 0 \nL 45.90625 32.71875 \nQ 45.90625 40.484375 42.875 44.328125 \nQ 39.84375 48.1875 33.796875 48.1875 \nQ 26.515625 48.1875 22.3125 43.546875 \nQ 18.109375 38.921875 18.109375 30.90625 \nL 18.109375 0 \nL 9.078125 0 \nL 9.078125 75.984375 \nL 18.109375 75.984375 \nL 18.109375 46.1875 \nQ 21.34375 51.125 25.703125 53.5625 \nQ 30.078125 56 35.796875 56 \nQ 45.21875 56 50.046875 50.171875 \nQ 54.890625 44.34375 54.890625 33.015625 \nz\n\" id=\"DejaVuSans-104\"/>\n      <path d=\"M 9.421875 54.6875 \nL 18.40625 54.6875 \nL 18.40625 0 \nL 9.421875 0 \nz\nM 9.421875 75.984375 \nL 18.40625 75.984375 \nL 18.40625 64.59375 \nL 9.421875 64.59375 \nz\n\" id=\"DejaVuSans-105\"/>\n      <path d=\"M 45.40625 46.390625 \nL 45.40625 75.984375 \nL 54.390625 75.984375 \nL 54.390625 0 \nL 45.40625 0 \nL 45.40625 8.203125 \nQ 42.578125 3.328125 38.25 0.953125 \nQ 33.9375 -1.421875 27.875 -1.421875 \nQ 17.96875 -1.421875 11.734375 6.484375 \nQ 5.515625 14.40625 5.515625 27.296875 \nQ 5.515625 40.1875 11.734375 48.09375 \nQ 17.96875 56 27.875 56 \nQ 33.9375 56 38.25 53.625 \nQ 42.578125 51.265625 45.40625 46.390625 \nz\nM 14.796875 27.296875 \nQ 14.796875 17.390625 18.875 11.75 \nQ 22.953125 6.109375 30.078125 6.109375 \nQ 37.203125 6.109375 41.296875 11.75 \nQ 45.40625 17.390625 45.40625 27.296875 \nQ 45.40625 37.203125 41.296875 42.84375 \nQ 37.203125 48.484375 30.078125 48.484375 \nQ 22.953125 48.484375 18.875 42.84375 \nQ 14.796875 37.203125 14.796875 27.296875 \nz\n\" id=\"DejaVuSans-100\"/>\n      <path d=\"M 56.203125 29.59375 \nL 56.203125 25.203125 \nL 14.890625 25.203125 \nQ 15.484375 15.921875 20.484375 11.0625 \nQ 25.484375 6.203125 34.421875 6.203125 \nQ 39.59375 6.203125 44.453125 7.46875 \nQ 49.3125 8.734375 54.109375 11.28125 \nL 54.109375 2.78125 \nQ 49.265625 0.734375 44.1875 -0.34375 \nQ 39.109375 -1.421875 33.890625 -1.421875 \nQ 20.796875 -1.421875 13.15625 6.1875 \nQ 5.515625 13.8125 5.515625 26.8125 \nQ 5.515625 40.234375 12.765625 48.109375 \nQ 20.015625 56 32.328125 56 \nQ 43.359375 56 49.78125 48.890625 \nQ 56.203125 41.796875 56.203125 29.59375 \nz\nM 47.21875 32.234375 \nQ 47.125 39.59375 43.09375 43.984375 \nQ 39.0625 48.390625 32.421875 48.390625 \nQ 24.90625 48.390625 20.390625 44.140625 \nQ 15.875 39.890625 15.1875 32.171875 \nz\n\" id=\"DejaVuSans-101\"/>\n      <path d=\"M 54.890625 33.015625 \nL 54.890625 0 \nL 45.90625 0 \nL 45.90625 32.71875 \nQ 45.90625 40.484375 42.875 44.328125 \nQ 39.84375 48.1875 33.796875 48.1875 \nQ 26.515625 48.1875 22.3125 43.546875 \nQ 18.109375 38.921875 18.109375 30.90625 \nL 18.109375 0 \nL 9.078125 0 \nL 9.078125 54.6875 \nL 18.109375 54.6875 \nL 18.109375 46.1875 \nQ 21.34375 51.125 25.703125 53.5625 \nQ 30.078125 56 35.796875 56 \nQ 45.21875 56 50.046875 50.171875 \nQ 54.890625 44.34375 54.890625 33.015625 \nz\n\" id=\"DejaVuSans-110\"/>\n      <path d=\"M 18.3125 70.21875 \nL 18.3125 54.6875 \nL 36.8125 54.6875 \nL 36.8125 47.703125 \nL 18.3125 47.703125 \nL 18.3125 18.015625 \nQ 18.3125 11.328125 20.140625 9.421875 \nQ 21.96875 7.515625 27.59375 7.515625 \nL 36.8125 7.515625 \nL 36.8125 0 \nL 27.59375 0 \nQ 17.1875 0 13.234375 3.875 \nQ 9.28125 7.765625 9.28125 18.015625 \nL 9.28125 47.703125 \nL 2.6875 47.703125 \nL 2.6875 54.6875 \nL 9.28125 54.6875 \nL 9.28125 70.21875 \nz\n\" id=\"DejaVuSans-116\"/>\n      <path d=\"M 44.28125 53.078125 \nL 44.28125 44.578125 \nQ 40.484375 46.53125 36.375 47.5 \nQ 32.28125 48.484375 27.875 48.484375 \nQ 21.1875 48.484375 17.84375 46.4375 \nQ 14.5 44.390625 14.5 40.28125 \nQ 14.5 37.15625 16.890625 35.375 \nQ 19.28125 33.59375 26.515625 31.984375 \nL 29.59375 31.296875 \nQ 39.15625 29.25 43.1875 25.515625 \nQ 47.21875 21.78125 47.21875 15.09375 \nQ 47.21875 7.46875 41.1875 3.015625 \nQ 35.15625 -1.421875 24.609375 -1.421875 \nQ 20.21875 -1.421875 15.453125 -0.5625 \nQ 10.6875 0.296875 5.421875 2 \nL 5.421875 11.28125 \nQ 10.40625 8.6875 15.234375 7.390625 \nQ 20.0625 6.109375 24.8125 6.109375 \nQ 31.15625 6.109375 34.5625 8.28125 \nQ 37.984375 10.453125 37.984375 14.40625 \nQ 37.984375 18.0625 35.515625 20.015625 \nQ 33.0625 21.96875 24.703125 23.78125 \nL 21.578125 24.515625 \nQ 13.234375 26.265625 9.515625 29.90625 \nQ 5.8125 33.546875 5.8125 39.890625 \nQ 5.8125 47.609375 11.28125 51.796875 \nQ 16.75 56 26.8125 56 \nQ 31.78125 56 36.171875 55.265625 \nQ 40.578125 54.546875 44.28125 53.078125 \nz\n\" id=\"DejaVuSans-115\"/>\n      <path d=\"M 9.421875 75.984375 \nL 18.40625 75.984375 \nL 18.40625 0 \nL 9.421875 0 \nz\n\" id=\"DejaVuSans-108\"/>\n      <path d=\"M 34.28125 27.484375 \nQ 23.390625 27.484375 19.1875 25 \nQ 14.984375 22.515625 14.984375 16.5 \nQ 14.984375 11.71875 18.140625 8.90625 \nQ 21.296875 6.109375 26.703125 6.109375 \nQ 34.1875 6.109375 38.703125 11.40625 \nQ 43.21875 16.703125 43.21875 25.484375 \nL 43.21875 27.484375 \nz\nM 52.203125 31.203125 \nL 52.203125 0 \nL 43.21875 0 \nL 43.21875 8.296875 \nQ 40.140625 3.328125 35.546875 0.953125 \nQ 30.953125 -1.421875 24.3125 -1.421875 \nQ 15.921875 -1.421875 10.953125 3.296875 \nQ 6 8.015625 6 15.921875 \nQ 6 25.140625 12.171875 29.828125 \nQ 18.359375 34.515625 30.609375 34.515625 \nL 43.21875 34.515625 \nL 43.21875 35.40625 \nQ 43.21875 41.609375 39.140625 45 \nQ 35.0625 48.390625 27.6875 48.390625 \nQ 23 48.390625 18.546875 47.265625 \nQ 14.109375 46.140625 10.015625 43.890625 \nL 10.015625 52.203125 \nQ 14.9375 54.109375 19.578125 55.046875 \nQ 24.21875 56 28.609375 56 \nQ 40.484375 56 46.34375 49.84375 \nQ 52.203125 43.703125 52.203125 31.203125 \nz\n\" id=\"DejaVuSans-97\"/>\n      <path d=\"M 32.171875 -5.078125 \nQ 28.375 -14.84375 24.75 -17.8125 \nQ 21.140625 -20.796875 15.09375 -20.796875 \nL 7.90625 -20.796875 \nL 7.90625 -13.28125 \nL 13.1875 -13.28125 \nQ 16.890625 -13.28125 18.9375 -11.515625 \nQ 21 -9.765625 23.484375 -3.21875 \nL 25.09375 0.875 \nL 2.984375 54.6875 \nL 12.5 54.6875 \nL 29.59375 11.921875 \nL 46.6875 54.6875 \nL 56.203125 54.6875 \nz\n\" id=\"DejaVuSans-121\"/>\n      <path d=\"M 41.109375 46.296875 \nQ 39.59375 47.171875 37.8125 47.578125 \nQ 36.03125 48 33.890625 48 \nQ 26.265625 48 22.1875 43.046875 \nQ 18.109375 38.09375 18.109375 28.8125 \nL 18.109375 0 \nL 9.078125 0 \nL 9.078125 54.6875 \nL 18.109375 54.6875 \nL 18.109375 46.1875 \nQ 20.953125 51.171875 25.484375 53.578125 \nQ 30.03125 56 36.53125 56 \nQ 37.453125 56 38.578125 55.875 \nQ 39.703125 55.765625 41.0625 55.515625 \nz\n\" id=\"DejaVuSans-114\"/>\n     </defs>\n     <g transform=\"translate(108.378125 252.916562)scale(0.1 -0.1)\">\n      <use xlink:href=\"#DejaVuSans-78\"/>\n      <use x=\"74.804688\" xlink:href=\"#DejaVuSans-117\"/>\n      <use x=\"138.183594\" xlink:href=\"#DejaVuSans-109\"/>\n      <use x=\"235.595703\" xlink:href=\"#DejaVuSans-32\"/>\n      <use x=\"267.382812\" xlink:href=\"#DejaVuSans-111\"/>\n      <use x=\"328.564453\" xlink:href=\"#DejaVuSans-102\"/>\n      <use x=\"363.769531\" xlink:href=\"#DejaVuSans-32\"/>\n      <use x=\"395.556641\" xlink:href=\"#DejaVuSans-104\"/>\n      <use x=\"458.935547\" xlink:href=\"#DejaVuSans-105\"/>\n      <use x=\"486.71875\" xlink:href=\"#DejaVuSans-100\"/>\n      <use x=\"550.195312\" xlink:href=\"#DejaVuSans-100\"/>\n      <use x=\"613.671875\" xlink:href=\"#DejaVuSans-101\"/>\n      <use x=\"675.195312\" xlink:href=\"#DejaVuSans-110\"/>\n      <use x=\"738.574219\" xlink:href=\"#DejaVuSans-32\"/>\n      <use x=\"770.361328\" xlink:href=\"#DejaVuSans-117\"/>\n      <use x=\"833.740234\" xlink:href=\"#DejaVuSans-110\"/>\n      <use x=\"897.119141\" xlink:href=\"#DejaVuSans-105\"/>\n      <use x=\"924.902344\" xlink:href=\"#DejaVuSans-116\"/>\n      <use x=\"964.111328\" xlink:href=\"#DejaVuSans-115\"/>\n      <use x=\"1016.210938\" xlink:href=\"#DejaVuSans-32\"/>\n      <use x=\"1047.998047\" xlink:href=\"#DejaVuSans-105\"/>\n      <use x=\"1075.78125\" xlink:href=\"#DejaVuSans-110\"/>\n      <use x=\"1139.160156\" xlink:href=\"#DejaVuSans-32\"/>\n      <use x=\"1170.947266\" xlink:href=\"#DejaVuSans-116\"/>\n      <use x=\"1210.15625\" xlink:href=\"#DejaVuSans-104\"/>\n      <use x=\"1273.535156\" xlink:href=\"#DejaVuSans-101\"/>\n      <use x=\"1335.058594\" xlink:href=\"#DejaVuSans-32\"/>\n      <use x=\"1366.845703\" xlink:href=\"#DejaVuSans-104\"/>\n      <use x=\"1430.224609\" xlink:href=\"#DejaVuSans-105\"/>\n      <use x=\"1458.007812\" xlink:href=\"#DejaVuSans-100\"/>\n      <use x=\"1521.484375\" xlink:href=\"#DejaVuSans-100\"/>\n      <use x=\"1584.960938\" xlink:href=\"#DejaVuSans-101\"/>\n      <use x=\"1646.484375\" xlink:href=\"#DejaVuSans-110\"/>\n      <use x=\"1709.863281\" xlink:href=\"#DejaVuSans-32\"/>\n      <use x=\"1741.650391\" xlink:href=\"#DejaVuSans-108\"/>\n      <use x=\"1769.433594\" xlink:href=\"#DejaVuSans-97\"/>\n      <use x=\"1830.712891\" xlink:href=\"#DejaVuSans-121\"/>\n      <use x=\"1889.892578\" xlink:href=\"#DejaVuSans-101\"/>\n      <use x=\"1951.416016\" xlink:href=\"#DejaVuSans-114\"/>\n     </g>\n    </g>\n   </g>\n   <g id=\"matplotlib.axis_2\">\n    <g id=\"ytick_1\">\n     <g id=\"line2d_13\">\n      <path clip-path=\"url(#p81a6c43e9c)\" d=\"M 40.603125 222.252609 \nL 375.403125 222.252609 \n\" style=\"fill:none;stroke:#b0b0b0;stroke-linecap:square;stroke-width:0.8;\"/>\n     </g>\n     <g id=\"line2d_14\">\n      <defs>\n       <path d=\"M 0 0 \nL -3.5 0 \n\" id=\"m76dc6b3e47\" style=\"stroke:#000000;stroke-width:0.8;\"/>\n      </defs>\n      <g>\n       <use style=\"stroke:#000000;stroke-width:0.8;\" x=\"40.603125\" xlink:href=\"#m76dc6b3e47\" y=\"222.252609\"/>\n      </g>\n     </g>\n     <g id=\"text_8\">\n      <!-- 60 -->\n      <g transform=\"translate(20.878125 226.051828)scale(0.1 -0.1)\">\n       <use xlink:href=\"#DejaVuSans-54\"/>\n       <use x=\"63.623047\" xlink:href=\"#DejaVuSans-48\"/>\n      </g>\n     </g>\n    </g>\n    <g id=\"ytick_2\">\n     <g id=\"line2d_15\">\n      <path clip-path=\"url(#p81a6c43e9c)\" d=\"M 40.603125 181.512146 \nL 375.403125 181.512146 \n\" style=\"fill:none;stroke:#b0b0b0;stroke-linecap:square;stroke-width:0.8;\"/>\n     </g>\n     <g id=\"line2d_16\">\n      <g>\n       <use style=\"stroke:#000000;stroke-width:0.8;\" x=\"40.603125\" xlink:href=\"#m76dc6b3e47\" y=\"181.512146\"/>\n      </g>\n     </g>\n     <g id=\"text_9\">\n      <!-- 65 -->\n      <defs>\n       <path d=\"M 10.796875 72.90625 \nL 49.515625 72.90625 \nL 49.515625 64.59375 \nL 19.828125 64.59375 \nL 19.828125 46.734375 \nQ 21.96875 47.46875 24.109375 47.828125 \nQ 26.265625 48.1875 28.421875 48.1875 \nQ 40.625 48.1875 47.75 41.5 \nQ 54.890625 34.8125 54.890625 23.390625 \nQ 54.890625 11.625 47.5625 5.09375 \nQ 40.234375 -1.421875 26.90625 -1.421875 \nQ 22.3125 -1.421875 17.546875 -0.640625 \nQ 12.796875 0.140625 7.71875 1.703125 \nL 7.71875 11.625 \nQ 12.109375 9.234375 16.796875 8.0625 \nQ 21.484375 6.890625 26.703125 6.890625 \nQ 35.15625 6.890625 40.078125 11.328125 \nQ 45.015625 15.765625 45.015625 23.390625 \nQ 45.015625 31 40.078125 35.4375 \nQ 35.15625 39.890625 26.703125 39.890625 \nQ 22.75 39.890625 18.8125 39.015625 \nQ 14.890625 38.140625 10.796875 36.28125 \nz\n\" id=\"DejaVuSans-53\"/>\n      </defs>\n      <g transform=\"translate(20.878125 185.311364)scale(0.1 -0.1)\">\n       <use xlink:href=\"#DejaVuSans-54\"/>\n       <use x=\"63.623047\" xlink:href=\"#DejaVuSans-53\"/>\n      </g>\n     </g>\n    </g>\n    <g id=\"ytick_3\">\n     <g id=\"line2d_17\">\n      <path clip-path=\"url(#p81a6c43e9c)\" d=\"M 40.603125 140.771683 \nL 375.403125 140.771683 \n\" style=\"fill:none;stroke:#b0b0b0;stroke-linecap:square;stroke-width:0.8;\"/>\n     </g>\n     <g id=\"line2d_18\">\n      <g>\n       <use style=\"stroke:#000000;stroke-width:0.8;\" x=\"40.603125\" xlink:href=\"#m76dc6b3e47\" y=\"140.771683\"/>\n      </g>\n     </g>\n     <g id=\"text_10\">\n      <!-- 70 -->\n      <defs>\n       <path d=\"M 8.203125 72.90625 \nL 55.078125 72.90625 \nL 55.078125 68.703125 \nL 28.609375 0 \nL 18.3125 0 \nL 43.21875 64.59375 \nL 8.203125 64.59375 \nz\n\" id=\"DejaVuSans-55\"/>\n      </defs>\n      <g transform=\"translate(20.878125 144.570901)scale(0.1 -0.1)\">\n       <use xlink:href=\"#DejaVuSans-55\"/>\n       <use x=\"63.623047\" xlink:href=\"#DejaVuSans-48\"/>\n      </g>\n     </g>\n    </g>\n    <g id=\"ytick_4\">\n     <g id=\"line2d_19\">\n      <path clip-path=\"url(#p81a6c43e9c)\" d=\"M 40.603125 100.031219 \nL 375.403125 100.031219 \n\" style=\"fill:none;stroke:#b0b0b0;stroke-linecap:square;stroke-width:0.8;\"/>\n     </g>\n     <g id=\"line2d_20\">\n      <g>\n       <use style=\"stroke:#000000;stroke-width:0.8;\" x=\"40.603125\" xlink:href=\"#m76dc6b3e47\" y=\"100.031219\"/>\n      </g>\n     </g>\n     <g id=\"text_11\">\n      <!-- 75 -->\n      <g transform=\"translate(20.878125 103.830438)scale(0.1 -0.1)\">\n       <use xlink:href=\"#DejaVuSans-55\"/>\n       <use x=\"63.623047\" xlink:href=\"#DejaVuSans-53\"/>\n      </g>\n     </g>\n    </g>\n    <g id=\"ytick_5\">\n     <g id=\"line2d_21\">\n      <path clip-path=\"url(#p81a6c43e9c)\" d=\"M 40.603125 59.290756 \nL 375.403125 59.290756 \n\" style=\"fill:none;stroke:#b0b0b0;stroke-linecap:square;stroke-width:0.8;\"/>\n     </g>\n     <g id=\"line2d_22\">\n      <g>\n       <use style=\"stroke:#000000;stroke-width:0.8;\" x=\"40.603125\" xlink:href=\"#m76dc6b3e47\" y=\"59.290756\"/>\n      </g>\n     </g>\n     <g id=\"text_12\">\n      <!-- 80 -->\n      <g transform=\"translate(20.878125 63.089975)scale(0.1 -0.1)\">\n       <use xlink:href=\"#DejaVuSans-56\"/>\n       <use x=\"63.623047\" xlink:href=\"#DejaVuSans-48\"/>\n      </g>\n     </g>\n    </g>\n    <g id=\"ytick_6\">\n     <g id=\"line2d_23\">\n      <path clip-path=\"url(#p81a6c43e9c)\" d=\"M 40.603125 18.550293 \nL 375.403125 18.550293 \n\" style=\"fill:none;stroke:#b0b0b0;stroke-linecap:square;stroke-width:0.8;\"/>\n     </g>\n     <g id=\"line2d_24\">\n      <g>\n       <use style=\"stroke:#000000;stroke-width:0.8;\" x=\"40.603125\" xlink:href=\"#m76dc6b3e47\" y=\"18.550293\"/>\n      </g>\n     </g>\n     <g id=\"text_13\">\n      <!-- 85 -->\n      <g transform=\"translate(20.878125 22.349512)scale(0.1 -0.1)\">\n       <use xlink:href=\"#DejaVuSans-56\"/>\n       <use x=\"63.623047\" xlink:href=\"#DejaVuSans-53\"/>\n      </g>\n     </g>\n    </g>\n    <g id=\"text_14\">\n     <!-- Accuracy -->\n     <defs>\n      <path d=\"M 34.1875 63.1875 \nL 20.796875 26.90625 \nL 47.609375 26.90625 \nz\nM 28.609375 72.90625 \nL 39.796875 72.90625 \nL 67.578125 0 \nL 57.328125 0 \nL 50.6875 18.703125 \nL 17.828125 18.703125 \nL 11.1875 0 \nL 0.78125 0 \nz\n\" id=\"DejaVuSans-65\"/>\n      <path d=\"M 48.78125 52.59375 \nL 48.78125 44.1875 \nQ 44.96875 46.296875 41.140625 47.34375 \nQ 37.3125 48.390625 33.40625 48.390625 \nQ 24.65625 48.390625 19.8125 42.84375 \nQ 14.984375 37.3125 14.984375 27.296875 \nQ 14.984375 17.28125 19.8125 11.734375 \nQ 24.65625 6.203125 33.40625 6.203125 \nQ 37.3125 6.203125 41.140625 7.25 \nQ 44.96875 8.296875 48.78125 10.40625 \nL 48.78125 2.09375 \nQ 45.015625 0.34375 40.984375 -0.53125 \nQ 36.96875 -1.421875 32.421875 -1.421875 \nQ 20.0625 -1.421875 12.78125 6.34375 \nQ 5.515625 14.109375 5.515625 27.296875 \nQ 5.515625 40.671875 12.859375 48.328125 \nQ 20.21875 56 33.015625 56 \nQ 37.15625 56 41.109375 55.140625 \nQ 45.0625 54.296875 48.78125 52.59375 \nz\n\" id=\"DejaVuSans-99\"/>\n     </defs>\n     <g transform=\"translate(14.798438 138.748125)rotate(-90)scale(0.1 -0.1)\">\n      <use xlink:href=\"#DejaVuSans-65\"/>\n      <use x=\"66.658203\" xlink:href=\"#DejaVuSans-99\"/>\n      <use x=\"121.638672\" xlink:href=\"#DejaVuSans-99\"/>\n      <use x=\"176.619141\" xlink:href=\"#DejaVuSans-117\"/>\n      <use x=\"239.998047\" xlink:href=\"#DejaVuSans-114\"/>\n      <use x=\"281.111328\" xlink:href=\"#DejaVuSans-97\"/>\n      <use x=\"342.390625\" xlink:href=\"#DejaVuSans-99\"/>\n      <use x=\"397.371094\" xlink:href=\"#DejaVuSans-121\"/>\n     </g>\n    </g>\n   </g>\n   <g id=\"line2d_25\">\n    <path clip-path=\"url(#p81a6c43e9c)\" d=\"M 55.821307 214.756364 \nL 56.41693 73.142514 \nL 57.608177 57.172252 \nL 59.990672 33.950188 \nL 64.75566 31.016875 \nL 74.285637 32.809455 \nL 93.345591 17.654003 \nL 131.465498 31.016875 \nL 207.705313 17.083636 \nL 360.184943 46.742694 \n\" style=\"fill:none;stroke:#00bfbf;stroke-linecap:square;stroke-width:1.5;\"/>\n   </g>\n   <g id=\"patch_3\">\n    <path d=\"M 40.603125 224.64 \nL 40.603125 7.2 \n\" style=\"fill:none;stroke:#000000;stroke-linecap:square;stroke-linejoin:miter;stroke-width:0.8;\"/>\n   </g>\n   <g id=\"patch_4\">\n    <path d=\"M 375.403125 224.64 \nL 375.403125 7.2 \n\" style=\"fill:none;stroke:#000000;stroke-linecap:square;stroke-linejoin:miter;stroke-width:0.8;\"/>\n   </g>\n   <g id=\"patch_5\">\n    <path d=\"M 40.603125 224.64 \nL 375.403125 224.64 \n\" style=\"fill:none;stroke:#000000;stroke-linecap:square;stroke-linejoin:miter;stroke-width:0.8;\"/>\n   </g>\n   <g id=\"patch_6\">\n    <path d=\"M 40.603125 7.2 \nL 375.403125 7.2 \n\" style=\"fill:none;stroke:#000000;stroke-linecap:square;stroke-linejoin:miter;stroke-width:0.8;\"/>\n   </g>\n  </g>\n </g>\n <defs>\n  <clipPath id=\"p81a6c43e9c\">\n   <rect height=\"217.44\" width=\"334.8\" x=\"40.603125\" y=\"7.2\"/>\n  </clipPath>\n </defs>\n</svg>\n"
          },
          "metadata": {
            "needs_background": "light"
          }
        }
      ]
    },
    {
      "cell_type": "markdown",
      "source": [
        "### Q2:\n",
        "\n",
        "accuracy imporved a bit"
      ],
      "metadata": {
        "id": "n8EYpiLtmXR7"
      }
    },
    {
      "cell_type": "code",
      "source": [
        "class MLP2(nn.Module):\n",
        "\n",
        "  def __init__(self, num_outputs, num_hiddens1, num_hiddens2, lr):\n",
        "    super().__init__()\n",
        "    self.lr = lr\n",
        "    self.net = nn.Sequential(nn.Flatten(),\n",
        "                             nn.LazyLinear(num_hiddens1),\n",
        "                             nn.ReLU(),\n",
        "                             nn.LazyLinear(num_hiddens2),\n",
        "                             nn.LeakyReLU(),\n",
        "                             nn.LazyLinear(num_outputs))\n",
        "    \n",
        "  def forward(self, X):\n",
        "    return self.net(X)"
      ],
      "metadata": {
        "id": "kDZ4oSrDmZw1"
      },
      "execution_count": 12,
      "outputs": []
    },
    {
      "cell_type": "code",
      "source": [
        "# hyperparameters\n",
        "num_outputs = 10\n",
        "num_hiddens1 = 128\n",
        "num_hiddens2 = 512\n",
        "learning_rate = 0.1\n",
        "max_epochs = 10\n",
        "batch_size = 256"
      ],
      "metadata": {
        "id": "2j41iPC-pNrj"
      },
      "execution_count": 105,
      "outputs": []
    },
    {
      "cell_type": "code",
      "source": [
        "model = MLP2(num_outputs, num_hiddens1, num_hiddens2, lr=learning_rate)"
      ],
      "metadata": {
        "colab": {
          "base_uri": "https://localhost:8080/"
        },
        "id": "67QMnlJqnoLL",
        "outputId": "7d1d116c-0393-4176-c0c5-23201433ef3c"
      },
      "execution_count": 99,
      "outputs": [
        {
          "output_type": "stream",
          "name": "stderr",
          "text": [
            "/usr/local/lib/python3.8/dist-packages/torch/nn/modules/lazy.py:180: UserWarning: Lazy modules are a new feature under heavy development so changes to the API or functionality can happen at any moment.\n",
            "  warnings.warn('Lazy modules are a new feature under heavy development '\n"
          ]
        }
      ]
    },
    {
      "cell_type": "code",
      "source": [
        "criterion = nn.CrossEntropyLoss()\n",
        "optimizer = torch.optim.SGD(model.parameters(), model.lr)"
      ],
      "metadata": {
        "id": "6q4AE4lcpeCP"
      },
      "execution_count": 100,
      "outputs": []
    },
    {
      "cell_type": "code",
      "source": [
        "len(train_dataloader)"
      ],
      "metadata": {
        "colab": {
          "base_uri": "https://localhost:8080/"
        },
        "id": "zlBAhGtDqfwm",
        "outputId": "10746151-7361-4128-9fe9-e385af52389a"
      },
      "execution_count": 106,
      "outputs": [
        {
          "output_type": "execute_result",
          "data": {
            "text/plain": [
              "235"
            ]
          },
          "metadata": {},
          "execution_count": 106
        }
      ]
    },
    {
      "cell_type": "code",
      "source": [
        "# training_loop\n",
        "\n",
        "for epoch in range(max_epochs):\n",
        "\n",
        "  for i, (features, targets) in enumerate(train_dataloader):\n",
        "\n",
        "    # fwd pass: \n",
        "    outputs = model(features)\n",
        "    loss = criterion(outputs, targets)\n",
        "\n",
        "    # backward pass :\n",
        "    loss.backward()\n",
        "\n",
        "    # update the params\n",
        "    optimizer.step()\n",
        "\n",
        "    # zero the grad:\n",
        "    optimizer.zero_grad()\n",
        "\n",
        "    if (i+1)%100 == 0:\n",
        "      print(f\"epoch : {epoch+1}/{max_epochs}, step : {i+1}/{len(train_dataloader)}, loss = {loss.item():.4f}\")"
      ],
      "metadata": {
        "colab": {
          "base_uri": "https://localhost:8080/"
        },
        "id": "mZzcb6depyxs",
        "outputId": "9c39824c-478e-4d9c-f02f-a43227119aef"
      },
      "execution_count": 107,
      "outputs": [
        {
          "output_type": "stream",
          "name": "stderr",
          "text": [
            "/usr/local/lib/python3.8/dist-packages/torch/utils/data/dataloader.py:554: UserWarning: This DataLoader will create 4 worker processes in total. Our suggested max number of worker in current system is 2, which is smaller than what this DataLoader is going to create. Please be aware that excessive worker creation might get DataLoader running slow or even freeze, lower the worker number to avoid potential slowness/freeze if necessary.\n",
            "  warnings.warn(_create_warning_msg(\n"
          ]
        },
        {
          "output_type": "stream",
          "name": "stdout",
          "text": [
            "epoch : 1/10, step : 100/235, loss = 0.7600\n",
            "epoch : 1/10, step : 200/235, loss = 0.6124\n",
            "epoch : 2/10, step : 100/235, loss = 0.6226\n",
            "epoch : 2/10, step : 200/235, loss = 0.4901\n",
            "epoch : 3/10, step : 100/235, loss = 0.4247\n",
            "epoch : 3/10, step : 200/235, loss = 0.5300\n",
            "epoch : 4/10, step : 100/235, loss = 0.4728\n",
            "epoch : 4/10, step : 200/235, loss = 0.4242\n",
            "epoch : 5/10, step : 100/235, loss = 0.3762\n",
            "epoch : 5/10, step : 200/235, loss = 0.3890\n",
            "epoch : 6/10, step : 100/235, loss = 0.4186\n",
            "epoch : 6/10, step : 200/235, loss = 0.4412\n",
            "epoch : 7/10, step : 100/235, loss = 0.3689\n",
            "epoch : 7/10, step : 200/235, loss = 0.3496\n",
            "epoch : 8/10, step : 100/235, loss = 0.3409\n",
            "epoch : 8/10, step : 200/235, loss = 0.3910\n",
            "epoch : 9/10, step : 100/235, loss = 0.4869\n",
            "epoch : 9/10, step : 200/235, loss = 0.3363\n",
            "epoch : 10/10, step : 100/235, loss = 0.4531\n",
            "epoch : 10/10, step : 200/235, loss = 0.3828\n"
          ]
        }
      ]
    },
    {
      "cell_type": "code",
      "source": [
        "# evalutation\n",
        "with torch.no_grad():\n",
        "  n_samples = 0.\n",
        "  n_correct = 0.\n",
        "\n",
        "  for features, targets in test_dataloader:\n",
        "    outputs = model(features)\n",
        "    _, preds = torch.max(outputs, 1)\n",
        "    n_samples += targets.shape[0]\n",
        "    n_correct += (preds == targets).sum().item()\n",
        "\n",
        "  acc = 100 * (n_correct / n_samples)\n",
        "  print(f\"accuracy = {acc:.4f}%\")"
      ],
      "metadata": {
        "colab": {
          "base_uri": "https://localhost:8080/"
        },
        "id": "CiJBCdMWrLP0",
        "outputId": "8e6cc4f5-1c56-49b5-ab97-a279a217bbd4"
      },
      "execution_count": 108,
      "outputs": [
        {
          "output_type": "stream",
          "name": "stderr",
          "text": [
            "/usr/local/lib/python3.8/dist-packages/torch/utils/data/dataloader.py:554: UserWarning: This DataLoader will create 4 worker processes in total. Our suggested max number of worker in current system is 2, which is smaller than what this DataLoader is going to create. Please be aware that excessive worker creation might get DataLoader running slow or even freeze, lower the worker number to avoid potential slowness/freeze if necessary.\n",
            "  warnings.warn(_create_warning_msg(\n"
          ]
        },
        {
          "output_type": "stream",
          "name": "stdout",
          "text": [
            "accuracy = 86.2100\n"
          ]
        }
      ]
    },
    {
      "cell_type": "markdown",
      "source": [
        "### Q3: \n",
        "\n",
        "let's see"
      ],
      "metadata": {
        "id": "7XPmHVN7stb0"
      }
    },
    {
      "cell_type": "code",
      "source": [
        "model = MLP(10, 1, 0.1)\n",
        "criterion = nn.CrossEntropyLoss()\n",
        "optimizer = torch.optim.SGD(model.parameters(), model.lr)"
      ],
      "metadata": {
        "colab": {
          "base_uri": "https://localhost:8080/"
        },
        "id": "5idjlVlwt6T7",
        "outputId": "c324fba3-3c81-475e-decb-6e10766e6d43"
      },
      "execution_count": 109,
      "outputs": [
        {
          "output_type": "stream",
          "name": "stderr",
          "text": [
            "/usr/local/lib/python3.8/dist-packages/torch/nn/modules/lazy.py:180: UserWarning: Lazy modules are a new feature under heavy development so changes to the API or functionality can happen at any moment.\n",
            "  warnings.warn('Lazy modules are a new feature under heavy development '\n"
          ]
        }
      ]
    },
    {
      "cell_type": "code",
      "source": [
        "max_epochs = 10\n",
        "\n",
        "for epoch in range(max_epochs):\n",
        "\n",
        "  for i, (features, targets) in enumerate(train_dataloader):\n",
        "\n",
        "    # forward pass : \n",
        "    outputs = model(features)\n",
        "    loss = criterion(outputs, targets)\n",
        "\n",
        "    # backward pass :\n",
        "    loss.backward()\n",
        "\n",
        "    # update the params\n",
        "    optimizer.step()\n",
        "\n",
        "    # zero the grad\n",
        "    optimizer.zero_grad()\n",
        "\n",
        "    if (i+1)%100 == 0:\n",
        "      print(f\"epoch : {epoch+1}/{max_epochs}, step : {i+1}/{len(train_dataloader)}, loss = {loss.item():.4f}\")"
      ],
      "metadata": {
        "colab": {
          "base_uri": "https://localhost:8080/"
        },
        "id": "IYhHCcgKuF84",
        "outputId": "f09ad377-d578-47d8-dfa6-f7071ad479c1"
      },
      "execution_count": 110,
      "outputs": [
        {
          "output_type": "stream",
          "name": "stderr",
          "text": [
            "/usr/local/lib/python3.8/dist-packages/torch/utils/data/dataloader.py:554: UserWarning: This DataLoader will create 4 worker processes in total. Our suggested max number of worker in current system is 2, which is smaller than what this DataLoader is going to create. Please be aware that excessive worker creation might get DataLoader running slow or even freeze, lower the worker number to avoid potential slowness/freeze if necessary.\n",
            "  warnings.warn(_create_warning_msg(\n"
          ]
        },
        {
          "output_type": "stream",
          "name": "stdout",
          "text": [
            "epoch : 1/10, step : 100/235, loss = 2.3318\n",
            "epoch : 1/10, step : 200/235, loss = 2.3069\n",
            "epoch : 2/10, step : 100/235, loss = 2.3031\n",
            "epoch : 2/10, step : 200/235, loss = 2.3032\n",
            "epoch : 3/10, step : 100/235, loss = 2.3022\n",
            "epoch : 3/10, step : 200/235, loss = 2.3032\n",
            "epoch : 4/10, step : 100/235, loss = 2.3023\n",
            "epoch : 4/10, step : 200/235, loss = 2.3027\n",
            "epoch : 5/10, step : 100/235, loss = 2.3029\n",
            "epoch : 5/10, step : 200/235, loss = 2.3031\n",
            "epoch : 6/10, step : 100/235, loss = 2.3028\n",
            "epoch : 6/10, step : 200/235, loss = 2.3022\n",
            "epoch : 7/10, step : 100/235, loss = 2.3016\n",
            "epoch : 7/10, step : 200/235, loss = 2.3030\n",
            "epoch : 8/10, step : 100/235, loss = 2.3029\n",
            "epoch : 8/10, step : 200/235, loss = 2.3032\n",
            "epoch : 9/10, step : 100/235, loss = 2.3023\n",
            "epoch : 9/10, step : 200/235, loss = 2.3031\n",
            "epoch : 10/10, step : 100/235, loss = 2.3027\n",
            "epoch : 10/10, step : 200/235, loss = 2.3018\n"
          ]
        }
      ]
    },
    {
      "cell_type": "code",
      "source": [
        "# evalutation\n",
        "with torch.no_grad():\n",
        "  n_samples = 0.\n",
        "  n_correct = 0.\n",
        "\n",
        "  for features, targets in test_dataloader:\n",
        "    outputs = model(features)\n",
        "    _, preds = torch.max(outputs, 1)\n",
        "    n_samples += targets.shape[0]\n",
        "    n_correct += (preds == targets).sum().item()\n",
        "\n",
        "  acc = 100 * (n_correct / n_samples)\n",
        "  print(f\"accuracy = {acc:.4f}%\")"
      ],
      "metadata": {
        "colab": {
          "base_uri": "https://localhost:8080/"
        },
        "id": "ptha4mYXu7fd",
        "outputId": "8185ce3c-cb7b-4dc2-ef2a-fec2ab6de9a7"
      },
      "execution_count": 111,
      "outputs": [
        {
          "output_type": "stream",
          "name": "stdout",
          "text": [
            "accuracy = 10.0000%\n"
          ]
        }
      ]
    },
    {
      "cell_type": "markdown",
      "source": [
        "accuracy went down alot"
      ],
      "metadata": {
        "id": "VNvYx0C8vHSN"
      }
    },
    {
      "cell_type": "markdown",
      "source": [
        "### Q4:\n",
        "\n",
        "best learning_rate = 0.4"
      ],
      "metadata": {
        "id": "rDXkD7H4CDaO"
      }
    },
    {
      "cell_type": "code",
      "source": [
        "num_outputs=10\n",
        "num_hiddens=256\n",
        "max_epochs = 10"
      ],
      "metadata": {
        "id": "RcstSCYZCQjb"
      },
      "execution_count": 20,
      "outputs": []
    },
    {
      "cell_type": "code",
      "source": [
        "def give_acc(lr):\n",
        "\n",
        "  model = MLP(num_outputs, num_hiddens, lr)\n",
        "  criterion = nn.CrossEntropyLoss()\n",
        "  optimizer = torch.optim.SGD(model.parameters(), model.lr)\n",
        "\n",
        "  # Training loop\n",
        "  for epoch in range(max_epochs):\n",
        "\n",
        "    for i, (features, targets) in enumerate(train_dataloader):\n",
        "\n",
        "      # forward pass :\n",
        "      outputs = model(features)\n",
        "      loss = criterion(outputs, targets)\n",
        "\n",
        "      # backward pass :\n",
        "      loss.backward()\n",
        "\n",
        "      # update the params :\n",
        "      optimizer.step()\n",
        "\n",
        "      # zero the grad :  \n",
        "      optimizer.zero_grad()\n",
        "\n",
        "    # now evaluation\n",
        "  with torch.no_grad():\n",
        "    n_samples = 0.0\n",
        "    n_correct = 0.0\n",
        "    for features, targets in test_dataloader:\n",
        "      outputs = model(features)\n",
        "      _, preds = torch.max(outputs, 1)\n",
        "      n_samples += targets.shape[0]\n",
        "      n_correct += (preds == targets).sum().item()\n",
        "\n",
        "    acc = 100 * (n_correct / n_samples)\n",
        "    return acc"
      ],
      "metadata": {
        "id": "7Hj7Xt-SvI19"
      },
      "execution_count": 26,
      "outputs": []
    },
    {
      "cell_type": "code",
      "source": [
        "lr_list = [0.01, 0.03, 0.05, 0.07, 0.09, 0.1, 0.2, 0.3, 0.4, 0.5, 0.6]\n",
        "\n",
        "acc_list = list(map(give_acc, lr_list))"
      ],
      "metadata": {
        "id": "2X25WL0XD8a-"
      },
      "execution_count": 27,
      "outputs": []
    },
    {
      "cell_type": "code",
      "source": [
        "acc_list"
      ],
      "metadata": {
        "colab": {
          "base_uri": "https://localhost:8080/"
        },
        "id": "_oiRapAwJCDZ",
        "outputId": "0dfc6d27-4142-41ae-b7c8-9819746ddabc"
      },
      "execution_count": 29,
      "outputs": [
        {
          "output_type": "execute_result",
          "data": {
            "text/plain": [
              "[80.07,\n",
              " 82.95,\n",
              " 82.78999999999999,\n",
              " 84.82,\n",
              " 85.08,\n",
              " 85.48,\n",
              " 82.16,\n",
              " 81.22,\n",
              " 87.21,\n",
              " 86.48,\n",
              " 84.54]"
            ]
          },
          "metadata": {},
          "execution_count": 29
        }
      ]
    },
    {
      "cell_type": "code",
      "source": [
        "plt.plot(lr_list, acc_list, 'c')\n",
        "plt.xlabel(\"Learning Rate\")\n",
        "plt.ylabel(\"Accuracy\")\n",
        "plt.title(\"Accuracy for different learning rates\")\n",
        "plt.grid();"
      ],
      "metadata": {
        "colab": {
          "base_uri": "https://localhost:8080/",
          "height": 295
        },
        "id": "-Z8yX8sJJGAN",
        "outputId": "82b5f53d-d938-41a8-b386-ea48d7bfdc4e"
      },
      "execution_count": 30,
      "outputs": [
        {
          "output_type": "display_data",
          "data": {
            "text/plain": [
              "<Figure size 432x288 with 1 Axes>"
            ],
            "image/png": "[encoded data removed]"
          },
          "metadata": {
            "needs_background": "light"
          }
        }
      ]
    },
    {
      "cell_type": "code",
      "source": [
        "class Trainer():\n",
        "\n",
        "  def __init__(self, max_epochs):\n",
        "    self.max_epochs = max_epochs\n",
        "\n",
        "  def fit(self, model, data_loader, print=False):\n",
        "\n",
        "    # loss and optimizer\n",
        "    optimizer = torch.optim.SGD(model.parameters(), model.lr)\n",
        "    criterion = nn.CrossEntropyLoss()\n",
        "\n",
        "    # training loop:\n",
        "    for epoch in range(self.max_epochs):\n",
        "\n",
        "      for i, (features, targets) in enumerate(data_loader):\n",
        "\n",
        "        # forward pass:\n",
        "        outputs = model(features)\n",
        "        loss = criterion(outputs, targets)\n",
        "\n",
        "        # backward pass:\n",
        "        loss.backward()\n",
        "\n",
        "        # update the params\n",
        "        optimizer.step()\n",
        "\n",
        "        # zero the grad\n",
        "        optimizer.zero_grad()\n",
        "\n",
        "        if print:\n",
        "          if (i+1)%100 == 0 and (epoch+1)%(self.max_epochs/10) == 0:\n",
        "            print(f\"epoch : {epoch+1}/{self.max_epochs}, step : {i+1}/{len(data_loader)}, loss = {loss.item():.4f}\")"
      ],
      "metadata": {
        "id": "OXxn2ZC5EJFE"
      },
      "execution_count": 13,
      "outputs": []
    },
    {
      "cell_type": "code",
      "source": [
        "def give_acc(model, test_dataloader):\n",
        "  with torch.no_grad():\n",
        "    n_samples = 0.0\n",
        "    n_correct = 0.0\n",
        "    for features, targets in test_dataloader:\n",
        "      outputs = model(features)\n",
        "      _, preds = torch.max(outputs, 1)\n",
        "      n_samples += targets.shape[0]\n",
        "      n_correct += (preds == targets).sum().item()\n",
        "\n",
        "    acc = 100 * (n_correct / n_samples)\n",
        "    return acc"
      ],
      "metadata": {
        "id": "vpwyNgFTJrct"
      },
      "execution_count": 27,
      "outputs": []
    },
    {
      "cell_type": "code",
      "source": [
        "epoch_list = [10, 20, 40, 80, 120, 160, 200] \n",
        "acc_list = []\n",
        "\n",
        "for i, epochs in enumerate(epoch_list):\n",
        "  model = MLP(num_outputs, num_hiddens, lr=0.4)\n",
        "  trainer = Trainer(epochs)\n",
        "  trainer.fit(model, train_dataloader)\n",
        "  t = give_acc(model, test_dataloader)\n",
        "  print(f\"i = {i+1}/{len(epoch_list)}, acc of model = {t:.4f}\")\n",
        "  acc_list.append(t)"
      ],
      "metadata": {
        "colab": {
          "base_uri": "https://localhost:8080/"
        },
        "id": "xL9UK0E-F0h7",
        "outputId": "f4ca9b17-8a40-417b-b7bb-54ca5bda04c2"
      },
      "execution_count": 34,
      "outputs": [
        {
          "output_type": "stream",
          "name": "stdout",
          "text": [
            "i = 1/7, acc of model = 86.1700\n",
            "i = 2/7, acc of model = 85.8800\n",
            "i = 3/7, acc of model = 88.3200\n",
            "i = 4/7, acc of model = 83.8400\n",
            "i = 5/7, acc of model = 88.8100\n",
            "i = 6/7, acc of model = 87.8900\n",
            "i = 7/7, acc of model = 85.4000\n"
          ]
        }
      ]
    },
    {
      "cell_type": "code",
      "source": [
        "plt.plot(epoch_list, acc_list, 'c')\n",
        "plt.xlabel(\"epochs\")\n",
        "plt.ylabel(\"accuracy\")\n",
        "plt.title(\"accuracy for different epochs\")\n",
        "plt.grid();"
      ],
      "metadata": {
        "colab": {
          "base_uri": "https://localhost:8080/",
          "height": 295
        },
        "id": "Fe5krXHsqAn6",
        "outputId": "da83d0a1-0e8a-4fef-bf88-65c5d593db42"
      },
      "execution_count": 36,
      "outputs": [
        {
          "output_type": "display_data",
          "data": {
            "text/plain": [
              "<Figure size 432x288 with 1 Axes>"
            ],
            "image/png": "[encoded data removed]"
          },
          "metadata": {
            "needs_background": "light"
          }
        }
      ]
    },
    {
      "cell_type": "markdown",
      "source": [
        "### Q5:\n",
        "\n",
        "optimum value of hyperparameters:\n",
        "\n",
        "learning_rate = 0.4\n",
        "\n",
        "hidden_units in layer = 512 or 128\n",
        "\n",
        "batch_size = 256\n",
        "\n",
        "max_epochs = 120"
      ],
      "metadata": {
        "id": "jNbGWkJoXhzN"
      }
    },
    {
      "cell_type": "code",
      "source": [
        "# Hyperparameters\n",
        "\n",
        "num_outputs = 10\n",
        "num_hiddens = 512\n",
        "batch_size = 256\n",
        "learning_rate = 0.4\n",
        "batch_size = 256\n",
        "max_epochs = 120"
      ],
      "metadata": {
        "id": "LZPzyOiVYK8t"
      },
      "execution_count": 37,
      "outputs": []
    },
    {
      "cell_type": "code",
      "source": [
        "model = MLP(num_outputs, num_hiddens, lr=learning_rate)\n",
        "trainer = Trainer(max_epochs)\n",
        "trainer.fit(model, train_dataloader)\n",
        "acc = give_acc(model, test_dataloader)\n",
        "print(f\"accuracy = {acc:.4f}\")"
      ],
      "metadata": {
        "colab": {
          "base_uri": "https://localhost:8080/"
        },
        "id": "ID03BwbuYIvs",
        "outputId": "cc6d5836-2141-4a4f-c485-19744321fd76"
      },
      "execution_count": 40,
      "outputs": [
        {
          "output_type": "stream",
          "name": "stdout",
          "text": [
            "accuracy = 89.6100\n"
          ]
        }
      ]
    },
    {
      "cell_type": "markdown",
      "source": [
        "### Q7:"
      ],
      "metadata": {
        "id": "XigwyoBeZpks"
      }
    },
    {
      "cell_type": "code",
      "source": [
        "import time\n",
        "import torch\n",
        "import torch.nn as nn"
      ],
      "metadata": {
        "id": "kQBnsb37bEH1"
      },
      "execution_count": 13,
      "outputs": []
    },
    {
      "cell_type": "code",
      "source": [
        "dim = 2000\n",
        "mat = torch.randn(dim, dim)\n",
        "tic = time.time()\n",
        "pdt = torch.mm(mat, mat)\n",
        "print(f\"time taken using CPU = {time.time() - tic:.4f} sec\")"
      ],
      "metadata": {
        "colab": {
          "base_uri": "https://localhost:8080/"
        },
        "id": "1L8F4QnOa4om",
        "outputId": "caa5cad7-c5cb-49f1-a9ba-89b3342639a8"
      },
      "execution_count": 6,
      "outputs": [
        {
          "output_type": "stream",
          "name": "stdout",
          "text": [
            "time taken using CPU = 0.1307 sec\n"
          ]
        }
      ]
    },
    {
      "cell_type": "code",
      "source": [
        "dim = 2000\n",
        "mat = torch.randn(dim, dim).cuda()\n",
        "tic = time.time()\n",
        "pdt = torch.mm(mat, mat)\n",
        "print(f\"time taken using GPU = {time.time() - tic:.4f} sec\")"
      ],
      "metadata": {
        "colab": {
          "base_uri": "https://localhost:8080/"
        },
        "id": "XfvygfUfyPix",
        "outputId": "f8b94e62-28db-4a53-a6cc-e263d20509f1"
      },
      "execution_count": 7,
      "outputs": [
        {
          "output_type": "stream",
          "name": "stdout",
          "text": [
            "time taken using GPU = 0.0006 sec\n"
          ]
        }
      ]
    },
    {
      "cell_type": "markdown",
      "source": [
        "### Q8:\n",
        "\n",
        "ReLU function is most widely used activation function in hidden layers"
      ],
      "metadata": {
        "id": "r2cO2Jgryx2k"
      }
    },
    {
      "cell_type": "markdown",
      "source": [
        "### Q9:\n",
        "\n",
        "initialization plays an important role\n",
        "\n",
        "when weights are initialized to zero then the model is not able to learn anything : acc = 10%\n",
        "\n",
        "normal(0, 0.001) : acc = 83.6%\n",
        "\n",
        "normal(0, 0.01) : acc = 75.3%\n",
        "\n",
        "normal(0, 1) : acc = 74.79%\n",
        "\n",
        "normal(0, 100) : acc = 23.21%"
      ],
      "metadata": {
        "id": "NkyJkvaHzOaM"
      }
    },
    {
      "cell_type": "code",
      "source": [
        "torch.relu"
      ],
      "metadata": {
        "colab": {
          "base_uri": "https://localhost:8080/"
        },
        "id": "s15kKpWK0JXN",
        "outputId": "70c30f64-9901-4583-84d2-432529c17ce5"
      },
      "execution_count": 8,
      "outputs": [
        {
          "output_type": "execute_result",
          "data": {
            "text/plain": [
              "<function torch._VariableFunctionsClass.relu>"
            ]
          },
          "metadata": {},
          "execution_count": 8
        }
      ]
    },
    {
      "cell_type": "code",
      "source": [
        "a = torch.randn(100, 1, 28, 28)\n",
        "a = a.reshape(100, -1)\n",
        "print(a.shape)"
      ],
      "metadata": {
        "colab": {
          "base_uri": "https://localhost:8080/"
        },
        "id": "7gZkgAu89QIx",
        "outputId": "b8b37a6e-4251-4d8c-f2c7-cafb581eac17"
      },
      "execution_count": 16,
      "outputs": [
        {
          "output_type": "stream",
          "name": "stdout",
          "text": [
            "torch.Size([100, 784])\n"
          ]
        }
      ]
    },
    {
      "cell_type": "code",
      "source": [
        "class MLP_zero():\n",
        "\n",
        "  def __init__(self, num_inputs, num_outputs, num_hiddens, lr):\n",
        "    self.lr = lr\n",
        "    self.W1 = torch.normal(0, 0.001, (num_inputs, num_hiddens), requires_grad=True)\n",
        "    self.b1 = torch.zeros(1, num_hiddens, requires_grad=True)\n",
        "    self.W2 = torch.normal(0, 0.001, (num_hiddens, num_outputs), requires_grad=True)\n",
        "    self.b2 = torch.zeros(1, num_outputs, requires_grad=True)\n",
        "\n",
        "  def forward(self, X):\n",
        "    X = X.reshape(X.shape[0], -1)\n",
        "    out = torch.relu(torch.mm(X, self.W1) + self.b1)\n",
        "    out = torch.mm(out, self.W2) + self.b2\n",
        "    return out"
      ],
      "metadata": {
        "id": "RJvkQb75x_K1"
      },
      "execution_count": 32,
      "outputs": []
    },
    {
      "cell_type": "code",
      "source": [
        "num_inputs = 784\n",
        "num_outputs = 10\n",
        "num_hiddens = 100\n",
        "lr = 0.3\n",
        "max_epochs = 10"
      ],
      "metadata": {
        "id": "W5ZESc082ihD"
      },
      "execution_count": 15,
      "outputs": []
    },
    {
      "cell_type": "code",
      "source": [
        "model = MLP_zero(num_inputs, num_outputs, num_hiddens, lr)"
      ],
      "metadata": {
        "id": "80pjuNED8j38"
      },
      "execution_count": 33,
      "outputs": []
    },
    {
      "cell_type": "code",
      "source": [
        "criterion = nn.CrossEntropyLoss()\n",
        "optimizer = torch.optim.SGD([model.W1, model.b1, model.W2, model.b2], model.lr)"
      ],
      "metadata": {
        "id": "gBLK6wlR3BzZ"
      },
      "execution_count": 34,
      "outputs": []
    },
    {
      "cell_type": "code",
      "source": [
        "# training_loop\n",
        "for epoch in range(max_epochs):\n",
        "\n",
        "  for i, (features, labels) in enumerate(train_dataloader):\n",
        "  \n",
        "    outputs = model.forward(features)\n",
        "    loss = criterion(outputs, labels) # will use fashion mnist dataset \n",
        "    loss.backward()\n",
        "    optimizer.step()\n",
        "    optimizer.zero_grad()\n",
        "\n",
        "    if (i+1)%100 == 0:\n",
        "      print(f\"epoch : {epoch+1}/{max_epochs}, step : {i+1}/{len(train_dataloader)},loss = {loss.item():.4f}\")"
      ],
      "metadata": {
        "colab": {
          "base_uri": "https://localhost:8080/"
        },
        "id": "oEIVPfMF3aJ6",
        "outputId": "3f0cca43-854d-4264-89e9-bc1d1d5bf0fe"
      },
      "execution_count": 35,
      "outputs": [
        {
          "output_type": "stream",
          "name": "stderr",
          "text": [
            "/usr/local/lib/python3.8/dist-packages/torch/utils/data/dataloader.py:554: UserWarning: This DataLoader will create 4 worker processes in total. Our suggested max number of worker in current system is 2, which is smaller than what this DataLoader is going to create. Please be aware that excessive worker creation might get DataLoader running slow or even freeze, lower the worker number to avoid potential slowness/freeze if necessary.\n",
            "  warnings.warn(_create_warning_msg(\n"
          ]
        },
        {
          "output_type": "stream",
          "name": "stdout",
          "text": [
            "epoch : 1/10, step : 100/235,loss = 0.8069\n",
            "epoch : 1/10, step : 200/235,loss = 0.6098\n",
            "epoch : 2/10, step : 100/235,loss = 0.5997\n",
            "epoch : 2/10, step : 200/235,loss = 0.4263\n",
            "epoch : 3/10, step : 100/235,loss = 0.3761\n",
            "epoch : 3/10, step : 200/235,loss = 0.4250\n",
            "epoch : 4/10, step : 100/235,loss = 0.4307\n",
            "epoch : 4/10, step : 200/235,loss = 0.3672\n",
            "epoch : 5/10, step : 100/235,loss = 0.3720\n",
            "epoch : 5/10, step : 200/235,loss = 0.5066\n",
            "epoch : 6/10, step : 100/235,loss = 0.3565\n",
            "epoch : 6/10, step : 200/235,loss = 0.4053\n",
            "epoch : 7/10, step : 100/235,loss = 0.3448\n",
            "epoch : 7/10, step : 200/235,loss = 0.3557\n",
            "epoch : 8/10, step : 100/235,loss = 0.4185\n",
            "epoch : 8/10, step : 200/235,loss = 0.2942\n",
            "epoch : 9/10, step : 100/235,loss = 0.4071\n",
            "epoch : 9/10, step : 200/235,loss = 0.3106\n",
            "epoch : 10/10, step : 100/235,loss = 0.2980\n",
            "epoch : 10/10, step : 200/235,loss = 0.2990\n"
          ]
        }
      ]
    },
    {
      "cell_type": "code",
      "source": [
        "with torch.no_grad():\n",
        "  n_samples = 0.0\n",
        "  n_correct = 0.\n",
        "  for features, targets in test_dataloader:\n",
        "    outputs = model.forward(features)\n",
        "    _, preds = torch.max(outputs, 1)\n",
        "    n_samples += targets.shape[0]\n",
        "    n_correct += (preds == targets).sum().item()\n",
        "\n",
        "  acc = 100 * (n_correct / n_samples)\n",
        "  print(f\"accuracy = {acc:.4f}\")"
      ],
      "metadata": {
        "colab": {
          "base_uri": "https://localhost:8080/"
        },
        "id": "dO9p9eNn_cqa",
        "outputId": "487166d4-5bf3-48cc-8e66-68ad9d23e1ba"
      },
      "execution_count": 36,
      "outputs": [
        {
          "output_type": "stream",
          "name": "stdout",
          "text": [
            "accuracy = 83.6600\n"
          ]
        }
      ]
    }
  ]
}