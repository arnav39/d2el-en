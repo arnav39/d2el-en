{
  "nbformat": 4,
  "nbformat_minor": 0,
  "metadata": {
    "colab": {
      "provenance": [],
      "authorship_tag": "ABX9TyNjhQuWmlTdScvURIWQh4s7",
      "include_colab_link": true
    },
    "kernelspec": {
      "name": "python3",
      "display_name": "Python 3"
    },
    "language_info": {
      "name": "python"
    },
    "gpuClass": "standard",
    "widgets": {
      "application/vnd.jupyter.widget-state+json": {
        "3cec66b56c984a64a3fb04eab066ca3e": {
          "model_module": "@jupyter-widgets/controls",
          "model_name": "HBoxModel",
          "model_module_version": "1.5.0",
          "state": {
            "_dom_classes": [],
            "_model_module": "@jupyter-widgets/controls",
            "_model_module_version": "1.5.0",
            "_model_name": "HBoxModel",
            "_view_count": null,
            "_view_module": "@jupyter-widgets/controls",
            "_view_module_version": "1.5.0",
            "_view_name": "HBoxView",
            "box_style": "",
            "children": [
              "IPY_MODEL_d1c9266d00e04009aa144e22f5772e66",
              "IPY_MODEL_3d039f4d6ea44200b4a5a0d33cb49bfd",
              "IPY_MODEL_7368a397d40b4f9bbe0355d813d9f207"
            ],
            "layout": "IPY_MODEL_235526cf0e1844e7b25df17c663c7798"
          }
        },
        "d1c9266d00e04009aa144e22f5772e66": {
          "model_module": "@jupyter-widgets/controls",
          "model_name": "HTMLModel",
          "model_module_version": "1.5.0",
          "state": {
            "_dom_classes": [],
            "_model_module": "@jupyter-widgets/controls",
            "_model_module_version": "1.5.0",
            "_model_name": "HTMLModel",
            "_view_count": null,
            "_view_module": "@jupyter-widgets/controls",
            "_view_module_version": "1.5.0",
            "_view_name": "HTMLView",
            "description": "",
            "description_tooltip": null,
            "layout": "IPY_MODEL_5869538f76de45078563aee7dfcb17c4",
            "placeholder": "​",
            "style": "IPY_MODEL_06fcf24f7104432181fbc52ceb0e2c82",
            "value": "100%"
          }
        },
        "3d039f4d6ea44200b4a5a0d33cb49bfd": {
          "model_module": "@jupyter-widgets/controls",
          "model_name": "FloatProgressModel",
          "model_module_version": "1.5.0",
          "state": {
            "_dom_classes": [],
            "_model_module": "@jupyter-widgets/controls",
            "_model_module_version": "1.5.0",
            "_model_name": "FloatProgressModel",
            "_view_count": null,
            "_view_module": "@jupyter-widgets/controls",
            "_view_module_version": "1.5.0",
            "_view_name": "ProgressView",
            "bar_style": "success",
            "description": "",
            "description_tooltip": null,
            "layout": "IPY_MODEL_b8fd8beb0e3d4602b7c0f60c8f12b314",
            "max": 26421880,
            "min": 0,
            "orientation": "horizontal",
            "style": "IPY_MODEL_53ee9d8f3bc9441ca4755ab9f15251c9",
            "value": 26421880
          }
        },
        "7368a397d40b4f9bbe0355d813d9f207": {
          "model_module": "@jupyter-widgets/controls",
          "model_name": "HTMLModel",
          "model_module_version": "1.5.0",
          "state": {
            "_dom_classes": [],
            "_model_module": "@jupyter-widgets/controls",
            "_model_module_version": "1.5.0",
            "_model_name": "HTMLModel",
            "_view_count": null,
            "_view_module": "@jupyter-widgets/controls",
            "_view_module_version": "1.5.0",
            "_view_name": "HTMLView",
            "description": "",
            "description_tooltip": null,
            "layout": "IPY_MODEL_a684666c9e9a4fd9a37fb5084601c4d2",
            "placeholder": "​",
            "style": "IPY_MODEL_a7decda9dcb246d193862c6514c390ba",
            "value": " 26421880/26421880 [00:01&lt;00:00, 29895640.26it/s]"
          }
        },
        "235526cf0e1844e7b25df17c663c7798": {
          "model_module": "@jupyter-widgets/base",
          "model_name": "LayoutModel",
          "model_module_version": "1.2.0",
          "state": {
            "_model_module": "@jupyter-widgets/base",
            "_model_module_version": "1.2.0",
            "_model_name": "LayoutModel",
            "_view_count": null,
            "_view_module": "@jupyter-widgets/base",
            "_view_module_version": "1.2.0",
            "_view_name": "LayoutView",
            "align_content": null,
            "align_items": null,
            "align_self": null,
            "border": null,
            "bottom": null,
            "display": null,
            "flex": null,
            "flex_flow": null,
            "grid_area": null,
            "grid_auto_columns": null,
            "grid_auto_flow": null,
            "grid_auto_rows": null,
            "grid_column": null,
            "grid_gap": null,
            "grid_row": null,
            "grid_template_areas": null,
            "grid_template_columns": null,
            "grid_template_rows": null,
            "height": null,
            "justify_content": null,
            "justify_items": null,
            "left": null,
            "margin": null,
            "max_height": null,
            "max_width": null,
            "min_height": null,
            "min_width": null,
            "object_fit": null,
            "object_position": null,
            "order": null,
            "overflow": null,
            "overflow_x": null,
            "overflow_y": null,
            "padding": null,
            "right": null,
            "top": null,
            "visibility": null,
            "width": null
          }
        },
        "5869538f76de45078563aee7dfcb17c4": {
          "model_module": "@jupyter-widgets/base",
          "model_name": "LayoutModel",
          "model_module_version": "1.2.0",
          "state": {
            "_model_module": "@jupyter-widgets/base",
            "_model_module_version": "1.2.0",
            "_model_name": "LayoutModel",
            "_view_count": null,
            "_view_module": "@jupyter-widgets/base",
            "_view_module_version": "1.2.0",
            "_view_name": "LayoutView",
            "align_content": null,
            "align_items": null,
            "align_self": null,
            "border": null,
            "bottom": null,
            "display": null,
            "flex": null,
            "flex_flow": null,
            "grid_area": null,
            "grid_auto_columns": null,
            "grid_auto_flow": null,
            "grid_auto_rows": null,
            "grid_column": null,
            "grid_gap": null,
            "grid_row": null,
            "grid_template_areas": null,
            "grid_template_columns": null,
            "grid_template_rows": null,
            "height": null,
            "justify_content": null,
            "justify_items": null,
            "left": null,
            "margin": null,
            "max_height": null,
            "max_width": null,
            "min_height": null,
            "min_width": null,
            "object_fit": null,
            "object_position": null,
            "order": null,
            "overflow": null,
            "overflow_x": null,
            "overflow_y": null,
            "padding": null,
            "right": null,
            "top": null,
            "visibility": null,
            "width": null
          }
        },
        "06fcf24f7104432181fbc52ceb0e2c82": {
          "model_module": "@jupyter-widgets/controls",
          "model_name": "DescriptionStyleModel",
          "model_module_version": "1.5.0",
          "state": {
            "_model_module": "@jupyter-widgets/controls",
            "_model_module_version": "1.5.0",
            "_model_name": "DescriptionStyleModel",
            "_view_count": null,
            "_view_module": "@jupyter-widgets/base",
            "_view_module_version": "1.2.0",
            "_view_name": "StyleView",
            "description_width": ""
          }
        },
        "b8fd8beb0e3d4602b7c0f60c8f12b314": {
          "model_module": "@jupyter-widgets/base",
          "model_name": "LayoutModel",
          "model_module_version": "1.2.0",
          "state": {
            "_model_module": "@jupyter-widgets/base",
            "_model_module_version": "1.2.0",
            "_model_name": "LayoutModel",
            "_view_count": null,
            "_view_module": "@jupyter-widgets/base",
            "_view_module_version": "1.2.0",
            "_view_name": "LayoutView",
            "align_content": null,
            "align_items": null,
            "align_self": null,
            "border": null,
            "bottom": null,
            "display": null,
            "flex": null,
            "flex_flow": null,
            "grid_area": null,
            "grid_auto_columns": null,
            "grid_auto_flow": null,
            "grid_auto_rows": null,
            "grid_column": null,
            "grid_gap": null,
            "grid_row": null,
            "grid_template_areas": null,
            "grid_template_columns": null,
            "grid_template_rows": null,
            "height": null,
            "justify_content": null,
            "justify_items": null,
            "left": null,
            "margin": null,
            "max_height": null,
            "max_width": null,
            "min_height": null,
            "min_width": null,
            "object_fit": null,
            "object_position": null,
            "order": null,
            "overflow": null,
            "overflow_x": null,
            "overflow_y": null,
            "padding": null,
            "right": null,
            "top": null,
            "visibility": null,
            "width": null
          }
        },
        "53ee9d8f3bc9441ca4755ab9f15251c9": {
          "model_module": "@jupyter-widgets/controls",
          "model_name": "ProgressStyleModel",
          "model_module_version": "1.5.0",
          "state": {
            "_model_module": "@jupyter-widgets/controls",
            "_model_module_version": "1.5.0",
            "_model_name": "ProgressStyleModel",
            "_view_count": null,
            "_view_module": "@jupyter-widgets/base",
            "_view_module_version": "1.2.0",
            "_view_name": "StyleView",
            "bar_color": null,
            "description_width": ""
          }
        },
        "a684666c9e9a4fd9a37fb5084601c4d2": {
          "model_module": "@jupyter-widgets/base",
          "model_name": "LayoutModel",
          "model_module_version": "1.2.0",
          "state": {
            "_model_module": "@jupyter-widgets/base",
            "_model_module_version": "1.2.0",
            "_model_name": "LayoutModel",
            "_view_count": null,
            "_view_module": "@jupyter-widgets/base",
            "_view_module_version": "1.2.0",
            "_view_name": "LayoutView",
            "align_content": null,
            "align_items": null,
            "align_self": null,
            "border": null,
            "bottom": null,
            "display": null,
            "flex": null,
            "flex_flow": null,
            "grid_area": null,
            "grid_auto_columns": null,
            "grid_auto_flow": null,
            "grid_auto_rows": null,
            "grid_column": null,
            "grid_gap": null,
            "grid_row": null,
            "grid_template_areas": null,
            "grid_template_columns": null,
            "grid_template_rows": null,
            "height": null,
            "justify_content": null,
            "justify_items": null,
            "left": null,
            "margin": null,
            "max_height": null,
            "max_width": null,
            "min_height": null,
            "min_width": null,
            "object_fit": null,
            "object_position": null,
            "order": null,
            "overflow": null,
            "overflow_x": null,
            "overflow_y": null,
            "padding": null,
            "right": null,
            "top": null,
            "visibility": null,
            "width": null
          }
        },
        "a7decda9dcb246d193862c6514c390ba": {
          "model_module": "@jupyter-widgets/controls",
          "model_name": "DescriptionStyleModel",
          "model_module_version": "1.5.0",
          "state": {
            "_model_module": "@jupyter-widgets/controls",
            "_model_module_version": "1.5.0",
            "_model_name": "DescriptionStyleModel",
            "_view_count": null,
            "_view_module": "@jupyter-widgets/base",
            "_view_module_version": "1.2.0",
            "_view_name": "StyleView",
            "description_width": ""
          }
        },
        "aa4b8da79053478989d32dc45ce9114e": {
          "model_module": "@jupyter-widgets/controls",
          "model_name": "HBoxModel",
          "model_module_version": "1.5.0",
          "state": {
            "_dom_classes": [],
            "_model_module": "@jupyter-widgets/controls",
            "_model_module_version": "1.5.0",
            "_model_name": "HBoxModel",
            "_view_count": null,
            "_view_module": "@jupyter-widgets/controls",
            "_view_module_version": "1.5.0",
            "_view_name": "HBoxView",
            "box_style": "",
            "children": [
              "IPY_MODEL_7cc28782b3b4417c928fbf43074ebfc3",
              "IPY_MODEL_cd78f11d109847a48d38027763d068a1",
              "IPY_MODEL_80cf3dadeac24f57af9b2fa68426fe6e"
            ],
            "layout": "IPY_MODEL_943fa8c2650b4f6f8c454be611fba952"
          }
        },
        "7cc28782b3b4417c928fbf43074ebfc3": {
          "model_module": "@jupyter-widgets/controls",
          "model_name": "HTMLModel",
          "model_module_version": "1.5.0",
          "state": {
            "_dom_classes": [],
            "_model_module": "@jupyter-widgets/controls",
            "_model_module_version": "1.5.0",
            "_model_name": "HTMLModel",
            "_view_count": null,
            "_view_module": "@jupyter-widgets/controls",
            "_view_module_version": "1.5.0",
            "_view_name": "HTMLView",
            "description": "",
            "description_tooltip": null,
            "layout": "IPY_MODEL_f5ff0fddd07940fcb4ec4496e99eda5c",
            "placeholder": "​",
            "style": "IPY_MODEL_bb09cacd52c9487fa6b062a334121adf",
            "value": "100%"
          }
        },
        "cd78f11d109847a48d38027763d068a1": {
          "model_module": "@jupyter-widgets/controls",
          "model_name": "FloatProgressModel",
          "model_module_version": "1.5.0",
          "state": {
            "_dom_classes": [],
            "_model_module": "@jupyter-widgets/controls",
            "_model_module_version": "1.5.0",
            "_model_name": "FloatProgressModel",
            "_view_count": null,
            "_view_module": "@jupyter-widgets/controls",
            "_view_module_version": "1.5.0",
            "_view_name": "ProgressView",
            "bar_style": "success",
            "description": "",
            "description_tooltip": null,
            "layout": "IPY_MODEL_39ee081541bc469ca1c4c11c0483f593",
            "max": 29515,
            "min": 0,
            "orientation": "horizontal",
            "style": "IPY_MODEL_ff1844a784184df49e834a7a292fa2d5",
            "value": 29515
          }
        },
        "80cf3dadeac24f57af9b2fa68426fe6e": {
          "model_module": "@jupyter-widgets/controls",
          "model_name": "HTMLModel",
          "model_module_version": "1.5.0",
          "state": {
            "_dom_classes": [],
            "_model_module": "@jupyter-widgets/controls",
            "_model_module_version": "1.5.0",
            "_model_name": "HTMLModel",
            "_view_count": null,
            "_view_module": "@jupyter-widgets/controls",
            "_view_module_version": "1.5.0",
            "_view_name": "HTMLView",
            "description": "",
            "description_tooltip": null,
            "layout": "IPY_MODEL_2f33747931bd4df49384662a0da24c46",
            "placeholder": "​",
            "style": "IPY_MODEL_505847cbc34646429ca53f50d980e93b",
            "value": " 29515/29515 [00:00&lt;00:00, 329154.17it/s]"
          }
        },
        "943fa8c2650b4f6f8c454be611fba952": {
          "model_module": "@jupyter-widgets/base",
          "model_name": "LayoutModel",
          "model_module_version": "1.2.0",
          "state": {
            "_model_module": "@jupyter-widgets/base",
            "_model_module_version": "1.2.0",
            "_model_name": "LayoutModel",
            "_view_count": null,
            "_view_module": "@jupyter-widgets/base",
            "_view_module_version": "1.2.0",
            "_view_name": "LayoutView",
            "align_content": null,
            "align_items": null,
            "align_self": null,
            "border": null,
            "bottom": null,
            "display": null,
            "flex": null,
            "flex_flow": null,
            "grid_area": null,
            "grid_auto_columns": null,
            "grid_auto_flow": null,
            "grid_auto_rows": null,
            "grid_column": null,
            "grid_gap": null,
            "grid_row": null,
            "grid_template_areas": null,
            "grid_template_columns": null,
            "grid_template_rows": null,
            "height": null,
            "justify_content": null,
            "justify_items": null,
            "left": null,
            "margin": null,
            "max_height": null,
            "max_width": null,
            "min_height": null,
            "min_width": null,
            "object_fit": null,
            "object_position": null,
            "order": null,
            "overflow": null,
            "overflow_x": null,
            "overflow_y": null,
            "padding": null,
            "right": null,
            "top": null,
            "visibility": null,
            "width": null
          }
        },
        "f5ff0fddd07940fcb4ec4496e99eda5c": {
          "model_module": "@jupyter-widgets/base",
          "model_name": "LayoutModel",
          "model_module_version": "1.2.0",
          "state": {
            "_model_module": "@jupyter-widgets/base",
            "_model_module_version": "1.2.0",
            "_model_name": "LayoutModel",
            "_view_count": null,
            "_view_module": "@jupyter-widgets/base",
            "_view_module_version": "1.2.0",
            "_view_name": "LayoutView",
            "align_content": null,
            "align_items": null,
            "align_self": null,
            "border": null,
            "bottom": null,
            "display": null,
            "flex": null,
            "flex_flow": null,
            "grid_area": null,
            "grid_auto_columns": null,
            "grid_auto_flow": null,
            "grid_auto_rows": null,
            "grid_column": null,
            "grid_gap": null,
            "grid_row": null,
            "grid_template_areas": null,
            "grid_template_columns": null,
            "grid_template_rows": null,
            "height": null,
            "justify_content": null,
            "justify_items": null,
            "left": null,
            "margin": null,
            "max_height": null,
            "max_width": null,
            "min_height": null,
            "min_width": null,
            "object_fit": null,
            "object_position": null,
            "order": null,
            "overflow": null,
            "overflow_x": null,
            "overflow_y": null,
            "padding": null,
            "right": null,
            "top": null,
            "visibility": null,
            "width": null
          }
        },
        "bb09cacd52c9487fa6b062a334121adf": {
          "model_module": "@jupyter-widgets/controls",
          "model_name": "DescriptionStyleModel",
          "model_module_version": "1.5.0",
          "state": {
            "_model_module": "@jupyter-widgets/controls",
            "_model_module_version": "1.5.0",
            "_model_name": "DescriptionStyleModel",
            "_view_count": null,
            "_view_module": "@jupyter-widgets/base",
            "_view_module_version": "1.2.0",
            "_view_name": "StyleView",
            "description_width": ""
          }
        },
        "39ee081541bc469ca1c4c11c0483f593": {
          "model_module": "@jupyter-widgets/base",
          "model_name": "LayoutModel",
          "model_module_version": "1.2.0",
          "state": {
            "_model_module": "@jupyter-widgets/base",
            "_model_module_version": "1.2.0",
            "_model_name": "LayoutModel",
            "_view_count": null,
            "_view_module": "@jupyter-widgets/base",
            "_view_module_version": "1.2.0",
            "_view_name": "LayoutView",
            "align_content": null,
            "align_items": null,
            "align_self": null,
            "border": null,
            "bottom": null,
            "display": null,
            "flex": null,
            "flex_flow": null,
            "grid_area": null,
            "grid_auto_columns": null,
            "grid_auto_flow": null,
            "grid_auto_rows": null,
            "grid_column": null,
            "grid_gap": null,
            "grid_row": null,
            "grid_template_areas": null,
            "grid_template_columns": null,
            "grid_template_rows": null,
            "height": null,
            "justify_content": null,
            "justify_items": null,
            "left": null,
            "margin": null,
            "max_height": null,
            "max_width": null,
            "min_height": null,
            "min_width": null,
            "object_fit": null,
            "object_position": null,
            "order": null,
            "overflow": null,
            "overflow_x": null,
            "overflow_y": null,
            "padding": null,
            "right": null,
            "top": null,
            "visibility": null,
            "width": null
          }
        },
        "ff1844a784184df49e834a7a292fa2d5": {
          "model_module": "@jupyter-widgets/controls",
          "model_name": "ProgressStyleModel",
          "model_module_version": "1.5.0",
          "state": {
            "_model_module": "@jupyter-widgets/controls",
            "_model_module_version": "1.5.0",
            "_model_name": "ProgressStyleModel",
            "_view_count": null,
            "_view_module": "@jupyter-widgets/base",
            "_view_module_version": "1.2.0",
            "_view_name": "StyleView",
            "bar_color": null,
            "description_width": ""
          }
        },
        "2f33747931bd4df49384662a0da24c46": {
          "model_module": "@jupyter-widgets/base",
          "model_name": "LayoutModel",
          "model_module_version": "1.2.0",
          "state": {
            "_model_module": "@jupyter-widgets/base",
            "_model_module_version": "1.2.0",
            "_model_name": "LayoutModel",
            "_view_count": null,
            "_view_module": "@jupyter-widgets/base",
            "_view_module_version": "1.2.0",
            "_view_name": "LayoutView",
            "align_content": null,
            "align_items": null,
            "align_self": null,
            "border": null,
            "bottom": null,
            "display": null,
            "flex": null,
            "flex_flow": null,
            "grid_area": null,
            "grid_auto_columns": null,
            "grid_auto_flow": null,
            "grid_auto_rows": null,
            "grid_column": null,
            "grid_gap": null,
            "grid_row": null,
            "grid_template_areas": null,
            "grid_template_columns": null,
            "grid_template_rows": null,
            "height": null,
            "justify_content": null,
            "justify_items": null,
            "left": null,
            "margin": null,
            "max_height": null,
            "max_width": null,
            "min_height": null,
            "min_width": null,
            "object_fit": null,
            "object_position": null,
            "order": null,
            "overflow": null,
            "overflow_x": null,
            "overflow_y": null,
            "padding": null,
            "right": null,
            "top": null,
            "visibility": null,
            "width": null
          }
        },
        "505847cbc34646429ca53f50d980e93b": {
          "model_module": "@jupyter-widgets/controls",
          "model_name": "DescriptionStyleModel",
          "model_module_version": "1.5.0",
          "state": {
            "_model_module": "@jupyter-widgets/controls",
            "_model_module_version": "1.5.0",
            "_model_name": "DescriptionStyleModel",
            "_view_count": null,
            "_view_module": "@jupyter-widgets/base",
            "_view_module_version": "1.2.0",
            "_view_name": "StyleView",
            "description_width": ""
          }
        },
        "e9a82c18c3894f3aa338d7a10319142e": {
          "model_module": "@jupyter-widgets/controls",
          "model_name": "HBoxModel",
          "model_module_version": "1.5.0",
          "state": {
            "_dom_classes": [],
            "_model_module": "@jupyter-widgets/controls",
            "_model_module_version": "1.5.0",
            "_model_name": "HBoxModel",
            "_view_count": null,
            "_view_module": "@jupyter-widgets/controls",
            "_view_module_version": "1.5.0",
            "_view_name": "HBoxView",
            "box_style": "",
            "children": [
              "IPY_MODEL_d9616579ae0c4155a806ec2a556cd241",
              "IPY_MODEL_d6ee4368d15345f58433ecc3a6a840aa",
              "IPY_MODEL_f336d62583dc466e8593e6bb04a0cde0"
            ],
            "layout": "IPY_MODEL_a653bcf4c51141daa1412a929bc33d7d"
          }
        },
        "d9616579ae0c4155a806ec2a556cd241": {
          "model_module": "@jupyter-widgets/controls",
          "model_name": "HTMLModel",
          "model_module_version": "1.5.0",
          "state": {
            "_dom_classes": [],
            "_model_module": "@jupyter-widgets/controls",
            "_model_module_version": "1.5.0",
            "_model_name": "HTMLModel",
            "_view_count": null,
            "_view_module": "@jupyter-widgets/controls",
            "_view_module_version": "1.5.0",
            "_view_name": "HTMLView",
            "description": "",
            "description_tooltip": null,
            "layout": "IPY_MODEL_97dc0d80724f4cd48af1173b46240372",
            "placeholder": "​",
            "style": "IPY_MODEL_52ad51fa12da40508637a5b81644bb09",
            "value": "100%"
          }
        },
        "d6ee4368d15345f58433ecc3a6a840aa": {
          "model_module": "@jupyter-widgets/controls",
          "model_name": "FloatProgressModel",
          "model_module_version": "1.5.0",
          "state": {
            "_dom_classes": [],
            "_model_module": "@jupyter-widgets/controls",
            "_model_module_version": "1.5.0",
            "_model_name": "FloatProgressModel",
            "_view_count": null,
            "_view_module": "@jupyter-widgets/controls",
            "_view_module_version": "1.5.0",
            "_view_name": "ProgressView",
            "bar_style": "success",
            "description": "",
            "description_tooltip": null,
            "layout": "IPY_MODEL_18644a61b688473f90c7993e00431dc3",
            "max": 4422102,
            "min": 0,
            "orientation": "horizontal",
            "style": "IPY_MODEL_ebdabf8e9d644683a0370d0976bf1723",
            "value": 4422102
          }
        },
        "f336d62583dc466e8593e6bb04a0cde0": {
          "model_module": "@jupyter-widgets/controls",
          "model_name": "HTMLModel",
          "model_module_version": "1.5.0",
          "state": {
            "_dom_classes": [],
            "_model_module": "@jupyter-widgets/controls",
            "_model_module_version": "1.5.0",
            "_model_name": "HTMLModel",
            "_view_count": null,
            "_view_module": "@jupyter-widgets/controls",
            "_view_module_version": "1.5.0",
            "_view_name": "HTMLView",
            "description": "",
            "description_tooltip": null,
            "layout": "IPY_MODEL_bee3ff95eda24771a31c1049e50b9910",
            "placeholder": "​",
            "style": "IPY_MODEL_adcdeafe49d44fe6a72dc98d413e682e",
            "value": " 4422102/4422102 [00:00&lt;00:00, 4268621.79it/s]"
          }
        },
        "a653bcf4c51141daa1412a929bc33d7d": {
          "model_module": "@jupyter-widgets/base",
          "model_name": "LayoutModel",
          "model_module_version": "1.2.0",
          "state": {
            "_model_module": "@jupyter-widgets/base",
            "_model_module_version": "1.2.0",
            "_model_name": "LayoutModel",
            "_view_count": null,
            "_view_module": "@jupyter-widgets/base",
            "_view_module_version": "1.2.0",
            "_view_name": "LayoutView",
            "align_content": null,
            "align_items": null,
            "align_self": null,
            "border": null,
            "bottom": null,
            "display": null,
            "flex": null,
            "flex_flow": null,
            "grid_area": null,
            "grid_auto_columns": null,
            "grid_auto_flow": null,
            "grid_auto_rows": null,
            "grid_column": null,
            "grid_gap": null,
            "grid_row": null,
            "grid_template_areas": null,
            "grid_template_columns": null,
            "grid_template_rows": null,
            "height": null,
            "justify_content": null,
            "justify_items": null,
            "left": null,
            "margin": null,
            "max_height": null,
            "max_width": null,
            "min_height": null,
            "min_width": null,
            "object_fit": null,
            "object_position": null,
            "order": null,
            "overflow": null,
            "overflow_x": null,
            "overflow_y": null,
            "padding": null,
            "right": null,
            "top": null,
            "visibility": null,
            "width": null
          }
        },
        "97dc0d80724f4cd48af1173b46240372": {
          "model_module": "@jupyter-widgets/base",
          "model_name": "LayoutModel",
          "model_module_version": "1.2.0",
          "state": {
            "_model_module": "@jupyter-widgets/base",
            "_model_module_version": "1.2.0",
            "_model_name": "LayoutModel",
            "_view_count": null,
            "_view_module": "@jupyter-widgets/base",
            "_view_module_version": "1.2.0",
            "_view_name": "LayoutView",
            "align_content": null,
            "align_items": null,
            "align_self": null,
            "border": null,
            "bottom": null,
            "display": null,
            "flex": null,
            "flex_flow": null,
            "grid_area": null,
            "grid_auto_columns": null,
            "grid_auto_flow": null,
            "grid_auto_rows": null,
            "grid_column": null,
            "grid_gap": null,
            "grid_row": null,
            "grid_template_areas": null,
            "grid_template_columns": null,
            "grid_template_rows": null,
            "height": null,
            "justify_content": null,
            "justify_items": null,
            "left": null,
            "margin": null,
            "max_height": null,
            "max_width": null,
            "min_height": null,
            "min_width": null,
            "object_fit": null,
            "object_position": null,
            "order": null,
            "overflow": null,
            "overflow_x": null,
            "overflow_y": null,
            "padding": null,
            "right": null,
            "top": null,
            "visibility": null,
            "width": null
          }
        },
        "52ad51fa12da40508637a5b81644bb09": {
          "model_module": "@jupyter-widgets/controls",
          "model_name": "DescriptionStyleModel",
          "model_module_version": "1.5.0",
          "state": {
            "_model_module": "@jupyter-widgets/controls",
            "_model_module_version": "1.5.0",
            "_model_name": "DescriptionStyleModel",
            "_view_count": null,
            "_view_module": "@jupyter-widgets/base",
            "_view_module_version": "1.2.0",
            "_view_name": "StyleView",
            "description_width": ""
          }
        },
        "18644a61b688473f90c7993e00431dc3": {
          "model_module": "@jupyter-widgets/base",
          "model_name": "LayoutModel",
          "model_module_version": "1.2.0",
          "state": {
            "_model_module": "@jupyter-widgets/base",
            "_model_module_version": "1.2.0",
            "_model_name": "LayoutModel",
            "_view_count": null,
            "_view_module": "@jupyter-widgets/base",
            "_view_module_version": "1.2.0",
            "_view_name": "LayoutView",
            "align_content": null,
            "align_items": null,
            "align_self": null,
            "border": null,
            "bottom": null,
            "display": null,
            "flex": null,
            "flex_flow": null,
            "grid_area": null,
            "grid_auto_columns": null,
            "grid_auto_flow": null,
            "grid_auto_rows": null,
            "grid_column": null,
            "grid_gap": null,
            "grid_row": null,
            "grid_template_areas": null,
            "grid_template_columns": null,
            "grid_template_rows": null,
            "height": null,
            "justify_content": null,
            "justify_items": null,
            "left": null,
            "margin": null,
            "max_height": null,
            "max_width": null,
            "min_height": null,
            "min_width": null,
            "object_fit": null,
            "object_position": null,
            "order": null,
            "overflow": null,
            "overflow_x": null,
            "overflow_y": null,
            "padding": null,
            "right": null,
            "top": null,
            "visibility": null,
            "width": null
          }
        },
        "ebdabf8e9d644683a0370d0976bf1723": {
          "model_module": "@jupyter-widgets/controls",
          "model_name": "ProgressStyleModel",
          "model_module_version": "1.5.0",
          "state": {
            "_model_module": "@jupyter-widgets/controls",
            "_model_module_version": "1.5.0",
            "_model_name": "ProgressStyleModel",
            "_view_count": null,
            "_view_module": "@jupyter-widgets/base",
            "_view_module_version": "1.2.0",
            "_view_name": "StyleView",
            "bar_color": null,
            "description_width": ""
          }
        },
        "bee3ff95eda24771a31c1049e50b9910": {
          "model_module": "@jupyter-widgets/base",
          "model_name": "LayoutModel",
          "model_module_version": "1.2.0",
          "state": {
            "_model_module": "@jupyter-widgets/base",
            "_model_module_version": "1.2.0",
            "_model_name": "LayoutModel",
            "_view_count": null,
            "_view_module": "@jupyter-widgets/base",
            "_view_module_version": "1.2.0",
            "_view_name": "LayoutView",
            "align_content": null,
            "align_items": null,
            "align_self": null,
            "border": null,
            "bottom": null,
            "display": null,
            "flex": null,
            "flex_flow": null,
            "grid_area": null,
            "grid_auto_columns": null,
            "grid_auto_flow": null,
            "grid_auto_rows": null,
            "grid_column": null,
            "grid_gap": null,
            "grid_row": null,
            "grid_template_areas": null,
            "grid_template_columns": null,
            "grid_template_rows": null,
            "height": null,
            "justify_content": null,
            "justify_items": null,
            "left": null,
            "margin": null,
            "max_height": null,
            "max_width": null,
            "min_height": null,
            "min_width": null,
            "object_fit": null,
            "object_position": null,
            "order": null,
            "overflow": null,
            "overflow_x": null,
            "overflow_y": null,
            "padding": null,
            "right": null,
            "top": null,
            "visibility": null,
            "width": null
          }
        },
        "adcdeafe49d44fe6a72dc98d413e682e": {
          "model_module": "@jupyter-widgets/controls",
          "model_name": "DescriptionStyleModel",
          "model_module_version": "1.5.0",
          "state": {
            "_model_module": "@jupyter-widgets/controls",
            "_model_module_version": "1.5.0",
            "_model_name": "DescriptionStyleModel",
            "_view_count": null,
            "_view_module": "@jupyter-widgets/base",
            "_view_module_version": "1.2.0",
            "_view_name": "StyleView",
            "description_width": ""
          }
        },
        "c36acc8c1f134a2da50f451aac7eea01": {
          "model_module": "@jupyter-widgets/controls",
          "model_name": "HBoxModel",
          "model_module_version": "1.5.0",
          "state": {
            "_dom_classes": [],
            "_model_module": "@jupyter-widgets/controls",
            "_model_module_version": "1.5.0",
            "_model_name": "HBoxModel",
            "_view_count": null,
            "_view_module": "@jupyter-widgets/controls",
            "_view_module_version": "1.5.0",
            "_view_name": "HBoxView",
            "box_style": "",
            "children": [
              "IPY_MODEL_445cc98c3f234ec7b81d50addc3cfb2f",
              "IPY_MODEL_da71e2566eb54ad899631f68224cead5",
              "IPY_MODEL_98c8ba48ccb34d8988fa7ccd93d4d6ce"
            ],
            "layout": "IPY_MODEL_8fe4ec3bb8c04a139fdf554494bb35b7"
          }
        },
        "445cc98c3f234ec7b81d50addc3cfb2f": {
          "model_module": "@jupyter-widgets/controls",
          "model_name": "HTMLModel",
          "model_module_version": "1.5.0",
          "state": {
            "_dom_classes": [],
            "_model_module": "@jupyter-widgets/controls",
            "_model_module_version": "1.5.0",
            "_model_name": "HTMLModel",
            "_view_count": null,
            "_view_module": "@jupyter-widgets/controls",
            "_view_module_version": "1.5.0",
            "_view_name": "HTMLView",
            "description": "",
            "description_tooltip": null,
            "layout": "IPY_MODEL_bdebaaca24794a7baf40cec686d1f6ca",
            "placeholder": "​",
            "style": "IPY_MODEL_9bc22e6eadcd47cab9eece97583458c2",
            "value": "100%"
          }
        },
        "da71e2566eb54ad899631f68224cead5": {
          "model_module": "@jupyter-widgets/controls",
          "model_name": "FloatProgressModel",
          "model_module_version": "1.5.0",
          "state": {
            "_dom_classes": [],
            "_model_module": "@jupyter-widgets/controls",
            "_model_module_version": "1.5.0",
            "_model_name": "FloatProgressModel",
            "_view_count": null,
            "_view_module": "@jupyter-widgets/controls",
            "_view_module_version": "1.5.0",
            "_view_name": "ProgressView",
            "bar_style": "success",
            "description": "",
            "description_tooltip": null,
            "layout": "IPY_MODEL_8dbb308f72324259a2c23031c747714d",
            "max": 5148,
            "min": 0,
            "orientation": "horizontal",
            "style": "IPY_MODEL_21954dcf0d8843a9a94d39f902012d72",
            "value": 5148
          }
        },
        "98c8ba48ccb34d8988fa7ccd93d4d6ce": {
          "model_module": "@jupyter-widgets/controls",
          "model_name": "HTMLModel",
          "model_module_version": "1.5.0",
          "state": {
            "_dom_classes": [],
            "_model_module": "@jupyter-widgets/controls",
            "_model_module_version": "1.5.0",
            "_model_name": "HTMLModel",
            "_view_count": null,
            "_view_module": "@jupyter-widgets/controls",
            "_view_module_version": "1.5.0",
            "_view_name": "HTMLView",
            "description": "",
            "description_tooltip": null,
            "layout": "IPY_MODEL_0682a0bfe4594ef19c842f1e8ced4d9e",
            "placeholder": "​",
            "style": "IPY_MODEL_5b110a434427416d9248a2a26793515f",
            "value": " 5148/5148 [00:00&lt;00:00, 343197.60it/s]"
          }
        },
        "8fe4ec3bb8c04a139fdf554494bb35b7": {
          "model_module": "@jupyter-widgets/base",
          "model_name": "LayoutModel",
          "model_module_version": "1.2.0",
          "state": {
            "_model_module": "@jupyter-widgets/base",
            "_model_module_version": "1.2.0",
            "_model_name": "LayoutModel",
            "_view_count": null,
            "_view_module": "@jupyter-widgets/base",
            "_view_module_version": "1.2.0",
            "_view_name": "LayoutView",
            "align_content": null,
            "align_items": null,
            "align_self": null,
            "border": null,
            "bottom": null,
            "display": null,
            "flex": null,
            "flex_flow": null,
            "grid_area": null,
            "grid_auto_columns": null,
            "grid_auto_flow": null,
            "grid_auto_rows": null,
            "grid_column": null,
            "grid_gap": null,
            "grid_row": null,
            "grid_template_areas": null,
            "grid_template_columns": null,
            "grid_template_rows": null,
            "height": null,
            "justify_content": null,
            "justify_items": null,
            "left": null,
            "margin": null,
            "max_height": null,
            "max_width": null,
            "min_height": null,
            "min_width": null,
            "object_fit": null,
            "object_position": null,
            "order": null,
            "overflow": null,
            "overflow_x": null,
            "overflow_y": null,
            "padding": null,
            "right": null,
            "top": null,
            "visibility": null,
            "width": null
          }
        },
        "bdebaaca24794a7baf40cec686d1f6ca": {
          "model_module": "@jupyter-widgets/base",
          "model_name": "LayoutModel",
          "model_module_version": "1.2.0",
          "state": {
            "_model_module": "@jupyter-widgets/base",
            "_model_module_version": "1.2.0",
            "_model_name": "LayoutModel",
            "_view_count": null,
            "_view_module": "@jupyter-widgets/base",
            "_view_module_version": "1.2.0",
            "_view_name": "LayoutView",
            "align_content": null,
            "align_items": null,
            "align_self": null,
            "border": null,
            "bottom": null,
            "display": null,
            "flex": null,
            "flex_flow": null,
            "grid_area": null,
            "grid_auto_columns": null,
            "grid_auto_flow": null,
            "grid_auto_rows": null,
            "grid_column": null,
            "grid_gap": null,
            "grid_row": null,
            "grid_template_areas": null,
            "grid_template_columns": null,
            "grid_template_rows": null,
            "height": null,
            "justify_content": null,
            "justify_items": null,
            "left": null,
            "margin": null,
            "max_height": null,
            "max_width": null,
            "min_height": null,
            "min_width": null,
            "object_fit": null,
            "object_position": null,
            "order": null,
            "overflow": null,
            "overflow_x": null,
            "overflow_y": null,
            "padding": null,
            "right": null,
            "top": null,
            "visibility": null,
            "width": null
          }
        },
        "9bc22e6eadcd47cab9eece97583458c2": {
          "model_module": "@jupyter-widgets/controls",
          "model_name": "DescriptionStyleModel",
          "model_module_version": "1.5.0",
          "state": {
            "_model_module": "@jupyter-widgets/controls",
            "_model_module_version": "1.5.0",
            "_model_name": "DescriptionStyleModel",
            "_view_count": null,
            "_view_module": "@jupyter-widgets/base",
            "_view_module_version": "1.2.0",
            "_view_name": "StyleView",
            "description_width": ""
          }
        },
        "8dbb308f72324259a2c23031c747714d": {
          "model_module": "@jupyter-widgets/base",
          "model_name": "LayoutModel",
          "model_module_version": "1.2.0",
          "state": {
            "_model_module": "@jupyter-widgets/base",
            "_model_module_version": "1.2.0",
            "_model_name": "LayoutModel",
            "_view_count": null,
            "_view_module": "@jupyter-widgets/base",
            "_view_module_version": "1.2.0",
            "_view_name": "LayoutView",
            "align_content": null,
            "align_items": null,
            "align_self": null,
            "border": null,
            "bottom": null,
            "display": null,
            "flex": null,
            "flex_flow": null,
            "grid_area": null,
            "grid_auto_columns": null,
            "grid_auto_flow": null,
            "grid_auto_rows": null,
            "grid_column": null,
            "grid_gap": null,
            "grid_row": null,
            "grid_template_areas": null,
            "grid_template_columns": null,
            "grid_template_rows": null,
            "height": null,
            "justify_content": null,
            "justify_items": null,
            "left": null,
            "margin": null,
            "max_height": null,
            "max_width": null,
            "min_height": null,
            "min_width": null,
            "object_fit": null,
            "object_position": null,
            "order": null,
            "overflow": null,
            "overflow_x": null,
            "overflow_y": null,
            "padding": null,
            "right": null,
            "top": null,
            "visibility": null,
            "width": null
          }
        },
        "21954dcf0d8843a9a94d39f902012d72": {
          "model_module": "@jupyter-widgets/controls",
          "model_name": "ProgressStyleModel",
          "model_module_version": "1.5.0",
          "state": {
            "_model_module": "@jupyter-widgets/controls",
            "_model_module_version": "1.5.0",
            "_model_name": "ProgressStyleModel",
            "_view_count": null,
            "_view_module": "@jupyter-widgets/base",
            "_view_module_version": "1.2.0",
            "_view_name": "StyleView",
            "bar_color": null,
            "description_width": ""
          }
        },
        "0682a0bfe4594ef19c842f1e8ced4d9e": {
          "model_module": "@jupyter-widgets/base",
          "model_name": "LayoutModel",
          "model_module_version": "1.2.0",
          "state": {
            "_model_module": "@jupyter-widgets/base",
            "_model_module_version": "1.2.0",
            "_model_name": "LayoutModel",
            "_view_count": null,
            "_view_module": "@jupyter-widgets/base",
            "_view_module_version": "1.2.0",
            "_view_name": "LayoutView",
            "align_content": null,
            "align_items": null,
            "align_self": null,
            "border": null,
            "bottom": null,
            "display": null,
            "flex": null,
            "flex_flow": null,
            "grid_area": null,
            "grid_auto_columns": null,
            "grid_auto_flow": null,
            "grid_auto_rows": null,
            "grid_column": null,
            "grid_gap": null,
            "grid_row": null,
            "grid_template_areas": null,
            "grid_template_columns": null,
            "grid_template_rows": null,
            "height": null,
            "justify_content": null,
            "justify_items": null,
            "left": null,
            "margin": null,
            "max_height": null,
            "max_width": null,
            "min_height": null,
            "min_width": null,
            "object_fit": null,
            "object_position": null,
            "order": null,
            "overflow": null,
            "overflow_x": null,
            "overflow_y": null,
            "padding": null,
            "right": null,
            "top": null,
            "visibility": null,
            "width": null
          }
        },
        "5b110a434427416d9248a2a26793515f": {
          "model_module": "@jupyter-widgets/controls",
          "model_name": "DescriptionStyleModel",
          "model_module_version": "1.5.0",
          "state": {
            "_model_module": "@jupyter-widgets/controls",
            "_model_module_version": "1.5.0",
            "_model_name": "DescriptionStyleModel",
            "_view_count": null,
            "_view_module": "@jupyter-widgets/base",
            "_view_module_version": "1.2.0",
            "_view_name": "StyleView",
            "description_width": ""
          }
        }
      }
    }
  },
  "cells": [
    {
      "cell_type": "markdown",
      "metadata": {
        "id": "view-in-github",
        "colab_type": "text"
      },
      "source": [
        "<a href=\"https://colab.research.google.com/github/arnav39/d2el-en/blob/main/8_7_Densely_Connected_Networks.ipynb\" target=\"_parent\"><img src=\"https://colab.research.google.com/assets/colab-badge.svg\" alt=\"Open In Colab\"/></a>"
      ]
    },
    {
      "cell_type": "markdown",
      "source": [
        "# 8.7 : Densely Connected Networks (DenseNet)"
      ],
      "metadata": {
        "id": "59Et7tsSsuA0"
      }
    },
    {
      "cell_type": "code",
      "execution_count": null,
      "metadata": {
        "id": "jDBH5BU2spFZ"
      },
      "outputs": [],
      "source": [
        "!pip install matplotlib_inline\n",
        "!pip install --upgrade d2l==1.0.0a0"
      ]
    },
    {
      "cell_type": "code",
      "source": [
        "import torch\n",
        "from torch import nn\n",
        "from d2l import torch as d2l"
      ],
      "metadata": {
        "colab": {
          "base_uri": "https://localhost:8080/"
        },
        "id": "hDO_MUdluGkX",
        "outputId": "24867b66-6036-4bc7-bc1e-03eec344f99f"
      },
      "execution_count": 2,
      "outputs": [
        {
          "output_type": "stream",
          "name": "stderr",
          "text": [
            "/usr/local/lib/python3.8/dist-packages/torch/cuda/__init__.py:497: UserWarning: Can't initialize NVML\n",
            "  warnings.warn(\"Can't initialize NVML\")\n"
          ]
        }
      ]
    },
    {
      "cell_type": "code",
      "source": [
        "import torch.nn.functional as F"
      ],
      "metadata": {
        "id": "UKJE1B_N_D7d"
      },
      "execution_count": 3,
      "outputs": []
    },
    {
      "cell_type": "code",
      "source": [
        "#@title conv_block\n",
        "def conv_block(num_channels):\n",
        "  return nn.Sequential(\n",
        "      nn.LazyBatchNorm2d(), nn.ReLU(),\n",
        "      nn.LazyConv2d(num_channels, kernel_size=3, padding=1)\n",
        "  )"
      ],
      "metadata": {
        "id": "c_-7jUzwuMgT"
      },
      "execution_count": 4,
      "outputs": []
    },
    {
      "cell_type": "code",
      "source": [
        "a = []\n",
        "for i in range(4):\n",
        "  a.append(conv_block(20))"
      ],
      "metadata": {
        "id": "jJLwL5r6u47_"
      },
      "execution_count": 6,
      "outputs": []
    },
    {
      "cell_type": "code",
      "source": [
        "b = nn.Sequential(*a)\n",
        "b"
      ],
      "metadata": {
        "colab": {
          "base_uri": "https://localhost:8080/"
        },
        "id": "eGu5E301vBjf",
        "outputId": "fdc9cc1c-f949-4804-dff7-c1509f086da3"
      },
      "execution_count": 9,
      "outputs": [
        {
          "output_type": "execute_result",
          "data": {
            "text/plain": [
              "Sequential(\n",
              "  (0): Sequential(\n",
              "    (0): LazyBatchNorm2d(0, eps=1e-05, momentum=0.1, affine=True, track_running_stats=True)\n",
              "    (1): ReLU()\n",
              "    (2): LazyConv2d(0, 20, kernel_size=(3, 3), stride=(1, 1), padding=(1, 1))\n",
              "  )\n",
              "  (1): Sequential(\n",
              "    (0): LazyBatchNorm2d(0, eps=1e-05, momentum=0.1, affine=True, track_running_stats=True)\n",
              "    (1): ReLU()\n",
              "    (2): LazyConv2d(0, 20, kernel_size=(3, 3), stride=(1, 1), padding=(1, 1))\n",
              "  )\n",
              "  (2): Sequential(\n",
              "    (0): LazyBatchNorm2d(0, eps=1e-05, momentum=0.1, affine=True, track_running_stats=True)\n",
              "    (1): ReLU()\n",
              "    (2): LazyConv2d(0, 20, kernel_size=(3, 3), stride=(1, 1), padding=(1, 1))\n",
              "  )\n",
              "  (3): Sequential(\n",
              "    (0): LazyBatchNorm2d(0, eps=1e-05, momentum=0.1, affine=True, track_running_stats=True)\n",
              "    (1): ReLU()\n",
              "    (2): LazyConv2d(0, 20, kernel_size=(3, 3), stride=(1, 1), padding=(1, 1))\n",
              "  )\n",
              ")"
            ]
          },
          "metadata": {},
          "execution_count": 9
        }
      ]
    },
    {
      "cell_type": "code",
      "source": [
        "for blk in b:\n",
        "  print(blk)"
      ],
      "metadata": {
        "colab": {
          "base_uri": "https://localhost:8080/"
        },
        "id": "ULyP5_S0vRpr",
        "outputId": "051e64f3-e13f-49ff-85ca-d788c26ebd8b"
      },
      "execution_count": 10,
      "outputs": [
        {
          "output_type": "stream",
          "name": "stdout",
          "text": [
            "Sequential(\n",
            "  (0): LazyBatchNorm2d(0, eps=1e-05, momentum=0.1, affine=True, track_running_stats=True)\n",
            "  (1): ReLU()\n",
            "  (2): LazyConv2d(0, 20, kernel_size=(3, 3), stride=(1, 1), padding=(1, 1))\n",
            ")\n",
            "Sequential(\n",
            "  (0): LazyBatchNorm2d(0, eps=1e-05, momentum=0.1, affine=True, track_running_stats=True)\n",
            "  (1): ReLU()\n",
            "  (2): LazyConv2d(0, 20, kernel_size=(3, 3), stride=(1, 1), padding=(1, 1))\n",
            ")\n",
            "Sequential(\n",
            "  (0): LazyBatchNorm2d(0, eps=1e-05, momentum=0.1, affine=True, track_running_stats=True)\n",
            "  (1): ReLU()\n",
            "  (2): LazyConv2d(0, 20, kernel_size=(3, 3), stride=(1, 1), padding=(1, 1))\n",
            ")\n",
            "Sequential(\n",
            "  (0): LazyBatchNorm2d(0, eps=1e-05, momentum=0.1, affine=True, track_running_stats=True)\n",
            "  (1): ReLU()\n",
            "  (2): LazyConv2d(0, 20, kernel_size=(3, 3), stride=(1, 1), padding=(1, 1))\n",
            ")\n"
          ]
        }
      ]
    },
    {
      "cell_type": "code",
      "source": [
        "#@title DenseBlock\n",
        "class DenseBlock(nn.Module):\n",
        "\n",
        "  def __init__(self, num_convs, num_channels):\n",
        "    super().__init__()\n",
        "    layer = []\n",
        "    for i in range(num_convs):\n",
        "      layer.append(conv_block(num_channels))\n",
        "    self.net = nn.Sequential(*layer)\n",
        "\n",
        "  def forward(self, X):\n",
        "    for blk in self.net:\n",
        "      Y = blk(X)\n",
        "      X = torch.cat((Y, X), dim=1)\n",
        "    return X"
      ],
      "metadata": {
        "id": "rEyGh6IXuYpa"
      },
      "execution_count": 5,
      "outputs": []
    },
    {
      "cell_type": "code",
      "source": [
        "blk = DenseBlock(2, 10)\n",
        "X = torch.randn(4, 3, 6, 6)\n",
        "Y = blk(X)\n",
        "print(f\"Y.shape = {Y.shape}\")"
      ],
      "metadata": {
        "colab": {
          "base_uri": "https://localhost:8080/"
        },
        "id": "PcaUCZC-vi4S",
        "outputId": "dd8e0c71-52da-469e-b432-40a587dbf216"
      },
      "execution_count": 7,
      "outputs": [
        {
          "output_type": "stream",
          "name": "stdout",
          "text": [
            "Y.shape = torch.Size([4, 23, 6, 6])\n"
          ]
        }
      ]
    },
    {
      "cell_type": "code",
      "source": [
        "from torchsummary import summary\n",
        "summary(DenseBlock(10, 20).net, (3, 28, 28), device='cpu')"
      ],
      "metadata": {
        "colab": {
          "base_uri": "https://localhost:8080/"
        },
        "id": "VIYtS5hrwFaL",
        "outputId": "e9745707-46a1-45d0-9119-224149212f7c"
      },
      "execution_count": 17,
      "outputs": [
        {
          "output_type": "stream",
          "name": "stdout",
          "text": [
            "----------------------------------------------------------------\n",
            "        Layer (type)               Output Shape         Param #\n",
            "================================================================\n",
            "       BatchNorm2d-1            [-1, 3, 28, 28]               6\n",
            "              ReLU-2            [-1, 3, 28, 28]               0\n",
            "            Conv2d-3           [-1, 20, 28, 28]             560\n",
            "       BatchNorm2d-4           [-1, 20, 28, 28]              40\n",
            "              ReLU-5           [-1, 20, 28, 28]               0\n",
            "            Conv2d-6           [-1, 20, 28, 28]           3,620\n",
            "       BatchNorm2d-7           [-1, 20, 28, 28]              40\n",
            "              ReLU-8           [-1, 20, 28, 28]               0\n",
            "            Conv2d-9           [-1, 20, 28, 28]           3,620\n",
            "      BatchNorm2d-10           [-1, 20, 28, 28]              40\n",
            "             ReLU-11           [-1, 20, 28, 28]               0\n",
            "           Conv2d-12           [-1, 20, 28, 28]           3,620\n",
            "      BatchNorm2d-13           [-1, 20, 28, 28]              40\n",
            "             ReLU-14           [-1, 20, 28, 28]               0\n",
            "           Conv2d-15           [-1, 20, 28, 28]           3,620\n",
            "      BatchNorm2d-16           [-1, 20, 28, 28]              40\n",
            "             ReLU-17           [-1, 20, 28, 28]               0\n",
            "           Conv2d-18           [-1, 20, 28, 28]           3,620\n",
            "      BatchNorm2d-19           [-1, 20, 28, 28]              40\n",
            "             ReLU-20           [-1, 20, 28, 28]               0\n",
            "           Conv2d-21           [-1, 20, 28, 28]           3,620\n",
            "      BatchNorm2d-22           [-1, 20, 28, 28]              40\n",
            "             ReLU-23           [-1, 20, 28, 28]               0\n",
            "           Conv2d-24           [-1, 20, 28, 28]           3,620\n",
            "      BatchNorm2d-25           [-1, 20, 28, 28]              40\n",
            "             ReLU-26           [-1, 20, 28, 28]               0\n",
            "           Conv2d-27           [-1, 20, 28, 28]           3,620\n",
            "      BatchNorm2d-28           [-1, 20, 28, 28]              40\n",
            "             ReLU-29           [-1, 20, 28, 28]               0\n",
            "           Conv2d-30           [-1, 20, 28, 28]           3,620\n",
            "================================================================\n",
            "Total params: 33,506\n",
            "Trainable params: 33,506\n",
            "Non-trainable params: 0\n",
            "----------------------------------------------------------------\n",
            "Input size (MB): 0.01\n",
            "Forward/backward pass size (MB): 3.39\n",
            "Params size (MB): 0.13\n",
            "Estimated Total Size (MB): 3.52\n",
            "----------------------------------------------------------------\n"
          ]
        },
        {
          "output_type": "stream",
          "name": "stderr",
          "text": [
            "/usr/local/lib/python3.8/dist-packages/torch/nn/modules/lazy.py:180: UserWarning: Lazy modules are a new feature under heavy development so changes to the API or functionality can happen at any moment.\n",
            "  warnings.warn('Lazy modules are a new feature under heavy development '\n"
          ]
        }
      ]
    },
    {
      "cell_type": "code",
      "source": [
        "#@title transition_block\n",
        "def transition_block(num_channels):\n",
        "  return nn.Sequential(\n",
        "      nn.LazyBatchNorm2d(), nn.ReLU(),\n",
        "      nn.LazyConv2d(num_channels, kernel_size=1),\n",
        "      nn.AvgPool2d(kernel_size=2, stride=2)\n",
        "  )"
      ],
      "metadata": {
        "id": "Kno_fUBVwUfu"
      },
      "execution_count": 6,
      "outputs": []
    },
    {
      "cell_type": "code",
      "source": [
        "blk = transition_block(10)\n",
        "blk(Y).shape"
      ],
      "metadata": {
        "colab": {
          "base_uri": "https://localhost:8080/"
        },
        "id": "0nX2eJh6wz_n",
        "outputId": "c8f68db3-75df-471d-999a-1a5f8197af99"
      },
      "execution_count": 8,
      "outputs": [
        {
          "output_type": "execute_result",
          "data": {
            "text/plain": [
              "torch.Size([4, 10, 3, 3])"
            ]
          },
          "metadata": {},
          "execution_count": 8
        }
      ]
    },
    {
      "cell_type": "code",
      "source": [
        "a = nn.Sequential(nn.LazyLinear(20))"
      ],
      "metadata": {
        "colab": {
          "base_uri": "https://localhost:8080/"
        },
        "id": "7m6Y8As00cIq",
        "outputId": "ea03a829-1618-4ab5-8f07-d6e9772af555"
      },
      "execution_count": 20,
      "outputs": [
        {
          "output_type": "stream",
          "name": "stderr",
          "text": [
            "/usr/local/lib/python3.8/dist-packages/torch/nn/modules/lazy.py:180: UserWarning: Lazy modules are a new feature under heavy development so changes to the API or functionality can happen at any moment.\n",
            "  warnings.warn('Lazy modules are a new feature under heavy development '\n"
          ]
        }
      ]
    },
    {
      "cell_type": "code",
      "source": [
        "a.add_module(f'1', nn.ReLU())\n",
        "a"
      ],
      "metadata": {
        "colab": {
          "base_uri": "https://localhost:8080/"
        },
        "id": "IO7Bgddm0i7T",
        "outputId": "591eed7a-921f-4f17-8608-bb4959d75634"
      },
      "execution_count": 21,
      "outputs": [
        {
          "output_type": "execute_result",
          "data": {
            "text/plain": [
              "Sequential(\n",
              "  (0): LazyLinear(in_features=0, out_features=20, bias=True)\n",
              "  (1): ReLU()\n",
              ")"
            ]
          },
          "metadata": {},
          "execution_count": 21
        }
      ]
    },
    {
      "cell_type": "code",
      "source": [
        "class DenseNet(d2l.Classifier):\n",
        "\n",
        "  def __init__(self, num_channels=64, growth_rate=32, arch=(4, 4, 4, 4), lr=0.1, num_classes=10):\n",
        "    super().__init__()\n",
        "    self.save_hyperparameters()\n",
        "    self.net = nn.Sequential(self.b1())\n",
        "\n",
        "    for i, num_convs in enumerate(arch):\n",
        "      self.net.add_module(f'dense_blk{i+1}', DenseBlock(num_convs, growth_rate))\n",
        "\n",
        "      # the number of output channels in the previous dense block\n",
        "      num_channels += growth_rate * num_convs\n",
        "\n",
        "      # need to add a transition layer between each dense block so that it halfs the number of channels, width and height\n",
        "      if i != len(arch)-1: # will not add a transition block at the end\n",
        "        num_channels = num_channels // 2\n",
        "        self.net.add_module(f\"tran_blk{i+1}\", transition_block(num_channels))\n",
        "\n",
        "    self.net.add_module('last', nn.Sequential(\n",
        "        nn.LazyBatchNorm2d(), nn.ReLU(),\n",
        "        nn.AdaptiveAvgPool2d((1, 1)),\n",
        "        nn.Flatten(), nn.LazyLinear(num_classes)\n",
        "    ))\n",
        "\n",
        "    self.net.apply(d2l.init_cnn)\n",
        "\n",
        "\n",
        "  def b1(self):\n",
        "    return nn.Sequential(\n",
        "        nn.LazyConv2d(64, kernel_size=7, stride=2, padding=3), nn.LazyBatchNorm2d(), nn.ReLU(),\n",
        "        nn.MaxPool2d(kernel_size=3, stride=2, padding=1)\n",
        "    )"
      ],
      "metadata": {
        "id": "6RM_qRyKxMl0"
      },
      "execution_count": 7,
      "outputs": []
    },
    {
      "cell_type": "markdown",
      "source": [
        "using gpu : time = 6min 10sec"
      ],
      "metadata": {
        "id": "6fs5e3LaW76m"
      }
    },
    {
      "cell_type": "code",
      "source": [
        "model = DenseNet(lr=0.1)\n",
        "trainer = d2l.Trainer(max_epochs=10, num_gpus=1)\n",
        "data = d2l.FashionMNIST(batch_size=128, resize=(96, 96))\n",
        "trainer.fit(model, data)"
      ],
      "metadata": {
        "colab": {
          "base_uri": "https://localhost:8080/",
          "height": 262,
          "referenced_widgets": [
            "3cec66b56c984a64a3fb04eab066ca3e",
            "d1c9266d00e04009aa144e22f5772e66",
            "3d039f4d6ea44200b4a5a0d33cb49bfd",
            "7368a397d40b4f9bbe0355d813d9f207",
            "235526cf0e1844e7b25df17c663c7798",
            "5869538f76de45078563aee7dfcb17c4",
            "06fcf24f7104432181fbc52ceb0e2c82",
            "b8fd8beb0e3d4602b7c0f60c8f12b314",
            "53ee9d8f3bc9441ca4755ab9f15251c9",
            "a684666c9e9a4fd9a37fb5084601c4d2",
            "a7decda9dcb246d193862c6514c390ba",
            "aa4b8da79053478989d32dc45ce9114e",
            "7cc28782b3b4417c928fbf43074ebfc3",
            "cd78f11d109847a48d38027763d068a1",
            "80cf3dadeac24f57af9b2fa68426fe6e",
            "943fa8c2650b4f6f8c454be611fba952",
            "f5ff0fddd07940fcb4ec4496e99eda5c",
            "bb09cacd52c9487fa6b062a334121adf",
            "39ee081541bc469ca1c4c11c0483f593",
            "ff1844a784184df49e834a7a292fa2d5",
            "2f33747931bd4df49384662a0da24c46",
            "505847cbc34646429ca53f50d980e93b",
            "e9a82c18c3894f3aa338d7a10319142e",
            "d9616579ae0c4155a806ec2a556cd241",
            "d6ee4368d15345f58433ecc3a6a840aa",
            "f336d62583dc466e8593e6bb04a0cde0",
            "a653bcf4c51141daa1412a929bc33d7d",
            "97dc0d80724f4cd48af1173b46240372",
            "52ad51fa12da40508637a5b81644bb09",
            "18644a61b688473f90c7993e00431dc3",
            "ebdabf8e9d644683a0370d0976bf1723",
            "bee3ff95eda24771a31c1049e50b9910",
            "adcdeafe49d44fe6a72dc98d413e682e",
            "c36acc8c1f134a2da50f451aac7eea01",
            "445cc98c3f234ec7b81d50addc3cfb2f",
            "da71e2566eb54ad899631f68224cead5",
            "98c8ba48ccb34d8988fa7ccd93d4d6ce",
            "8fe4ec3bb8c04a139fdf554494bb35b7",
            "bdebaaca24794a7baf40cec686d1f6ca",
            "9bc22e6eadcd47cab9eece97583458c2",
            "8dbb308f72324259a2c23031c747714d",
            "21954dcf0d8843a9a94d39f902012d72",
            "0682a0bfe4594ef19c842f1e8ced4d9e",
            "5b110a434427416d9248a2a26793515f"
          ]
        },
        "id": "9HQDf_SGWr34",
        "outputId": "e4298265-11b8-422b-f3f8-d8c1be65d135"
      },
      "execution_count": 10,
      "outputs": [
        {
          "output_type": "display_data",
          "data": {
            "text/plain": [
              "<Figure size 252x180 with 1 Axes>"
            ],
            "image/svg+xml": "<?xml version=\"1.0\" encoding=\"utf-8\" standalone=\"no\"?>\n<!DOCTYPE svg PUBLIC \"-//W3C//DTD SVG 1.1//EN\"\n  \"http://www.w3.org/Graphics/SVG/1.1/DTD/svg11.dtd\">\n<!-- Created with matplotlib (https://matplotlib.org/) -->\n<svg height=\"180.65625pt\" version=\"1.1\" viewBox=\"0 0 238.965625 180.65625\" width=\"238.965625pt\" xmlns=\"http://www.w3.org/2000/svg\" xmlns:xlink=\"http://www.w3.org/1999/xlink\">\n <defs>\n  <style type=\"text/css\">\n*{stroke-linecap:butt;stroke-linejoin:round;}\n  </style>\n </defs>\n <g id=\"figure_1\">\n  <g id=\"patch_1\">\n   <path d=\"M 0 180.65625 \nL 238.965625 180.65625 \nL 238.965625 0 \nL 0 0 \nz\n\" style=\"fill:none;\"/>\n  </g>\n  <g id=\"axes_1\">\n   <g id=\"patch_2\">\n    <path d=\"M 30.103125 143.1 \nL 225.403125 143.1 \nL 225.403125 7.2 \nL 30.103125 7.2 \nz\n\" style=\"fill:#ffffff;\"/>\n   </g>\n   <g id=\"matplotlib.axis_1\">\n    <g id=\"xtick_1\">\n     <g id=\"line2d_1\">\n      <defs>\n       <path d=\"M 0 0 \nL 0 3.5 \n\" id=\"ma55ffaf5c8\" style=\"stroke:#000000;stroke-width:0.8;\"/>\n      </defs>\n      <g>\n       <use style=\"stroke:#000000;stroke-width:0.8;\" x=\"30.103125\" xlink:href=\"#ma55ffaf5c8\" y=\"143.1\"/>\n      </g>\n     </g>\n     <g id=\"text_1\">\n      <!-- 0 -->\n      <defs>\n       <path d=\"M 31.78125 66.40625 \nQ 24.171875 66.40625 20.328125 58.90625 \nQ 16.5 51.421875 16.5 36.375 \nQ 16.5 21.390625 20.328125 13.890625 \nQ 24.171875 6.390625 31.78125 6.390625 \nQ 39.453125 6.390625 43.28125 13.890625 \nQ 47.125 21.390625 47.125 36.375 \nQ 47.125 51.421875 43.28125 58.90625 \nQ 39.453125 66.40625 31.78125 66.40625 \nz\nM 31.78125 74.21875 \nQ 44.046875 74.21875 50.515625 64.515625 \nQ 56.984375 54.828125 56.984375 36.375 \nQ 56.984375 17.96875 50.515625 8.265625 \nQ 44.046875 -1.421875 31.78125 -1.421875 \nQ 19.53125 -1.421875 13.0625 8.265625 \nQ 6.59375 17.96875 6.59375 36.375 \nQ 6.59375 54.828125 13.0625 64.515625 \nQ 19.53125 74.21875 31.78125 74.21875 \nz\n\" id=\"DejaVuSans-48\"/>\n      </defs>\n      <g transform=\"translate(26.921875 157.698438)scale(0.1 -0.1)\">\n       <use xlink:href=\"#DejaVuSans-48\"/>\n      </g>\n     </g>\n    </g>\n    <g id=\"xtick_2\">\n     <g id=\"line2d_2\">\n      <g>\n       <use style=\"stroke:#000000;stroke-width:0.8;\" x=\"69.163125\" xlink:href=\"#ma55ffaf5c8\" y=\"143.1\"/>\n      </g>\n     </g>\n     <g id=\"text_2\">\n      <!-- 2 -->\n      <defs>\n       <path d=\"M 19.1875 8.296875 \nL 53.609375 8.296875 \nL 53.609375 0 \nL 7.328125 0 \nL 7.328125 8.296875 \nQ 12.9375 14.109375 22.625 23.890625 \nQ 32.328125 33.6875 34.8125 36.53125 \nQ 39.546875 41.84375 41.421875 45.53125 \nQ 43.3125 49.21875 43.3125 52.78125 \nQ 43.3125 58.59375 39.234375 62.25 \nQ 35.15625 65.921875 28.609375 65.921875 \nQ 23.96875 65.921875 18.8125 64.3125 \nQ 13.671875 62.703125 7.8125 59.421875 \nL 7.8125 69.390625 \nQ 13.765625 71.78125 18.9375 73 \nQ 24.125 74.21875 28.421875 74.21875 \nQ 39.75 74.21875 46.484375 68.546875 \nQ 53.21875 62.890625 53.21875 53.421875 \nQ 53.21875 48.921875 51.53125 44.890625 \nQ 49.859375 40.875 45.40625 35.40625 \nQ 44.1875 33.984375 37.640625 27.21875 \nQ 31.109375 20.453125 19.1875 8.296875 \nz\n\" id=\"DejaVuSans-50\"/>\n      </defs>\n      <g transform=\"translate(65.981875 157.698438)scale(0.1 -0.1)\">\n       <use xlink:href=\"#DejaVuSans-50\"/>\n      </g>\n     </g>\n    </g>\n    <g id=\"xtick_3\">\n     <g id=\"line2d_3\">\n      <g>\n       <use style=\"stroke:#000000;stroke-width:0.8;\" x=\"108.223125\" xlink:href=\"#ma55ffaf5c8\" y=\"143.1\"/>\n      </g>\n     </g>\n     <g id=\"text_3\">\n      <!-- 4 -->\n      <defs>\n       <path d=\"M 37.796875 64.3125 \nL 12.890625 25.390625 \nL 37.796875 25.390625 \nz\nM 35.203125 72.90625 \nL 47.609375 72.90625 \nL 47.609375 25.390625 \nL 58.015625 25.390625 \nL 58.015625 17.1875 \nL 47.609375 17.1875 \nL 47.609375 0 \nL 37.796875 0 \nL 37.796875 17.1875 \nL 4.890625 17.1875 \nL 4.890625 26.703125 \nz\n\" id=\"DejaVuSans-52\"/>\n      </defs>\n      <g transform=\"translate(105.041875 157.698438)scale(0.1 -0.1)\">\n       <use xlink:href=\"#DejaVuSans-52\"/>\n      </g>\n     </g>\n    </g>\n    <g id=\"xtick_4\">\n     <g id=\"line2d_4\">\n      <g>\n       <use style=\"stroke:#000000;stroke-width:0.8;\" x=\"147.283125\" xlink:href=\"#ma55ffaf5c8\" y=\"143.1\"/>\n      </g>\n     </g>\n     <g id=\"text_4\">\n      <!-- 6 -->\n      <defs>\n       <path d=\"M 33.015625 40.375 \nQ 26.375 40.375 22.484375 35.828125 \nQ 18.609375 31.296875 18.609375 23.390625 \nQ 18.609375 15.53125 22.484375 10.953125 \nQ 26.375 6.390625 33.015625 6.390625 \nQ 39.65625 6.390625 43.53125 10.953125 \nQ 47.40625 15.53125 47.40625 23.390625 \nQ 47.40625 31.296875 43.53125 35.828125 \nQ 39.65625 40.375 33.015625 40.375 \nz\nM 52.59375 71.296875 \nL 52.59375 62.3125 \nQ 48.875 64.0625 45.09375 64.984375 \nQ 41.3125 65.921875 37.59375 65.921875 \nQ 27.828125 65.921875 22.671875 59.328125 \nQ 17.53125 52.734375 16.796875 39.40625 \nQ 19.671875 43.65625 24.015625 45.921875 \nQ 28.375 48.1875 33.59375 48.1875 \nQ 44.578125 48.1875 50.953125 41.515625 \nQ 57.328125 34.859375 57.328125 23.390625 \nQ 57.328125 12.15625 50.6875 5.359375 \nQ 44.046875 -1.421875 33.015625 -1.421875 \nQ 20.359375 -1.421875 13.671875 8.265625 \nQ 6.984375 17.96875 6.984375 36.375 \nQ 6.984375 53.65625 15.1875 63.9375 \nQ 23.390625 74.21875 37.203125 74.21875 \nQ 40.921875 74.21875 44.703125 73.484375 \nQ 48.484375 72.75 52.59375 71.296875 \nz\n\" id=\"DejaVuSans-54\"/>\n      </defs>\n      <g transform=\"translate(144.101875 157.698438)scale(0.1 -0.1)\">\n       <use xlink:href=\"#DejaVuSans-54\"/>\n      </g>\n     </g>\n    </g>\n    <g id=\"xtick_5\">\n     <g id=\"line2d_5\">\n      <g>\n       <use style=\"stroke:#000000;stroke-width:0.8;\" x=\"186.343125\" xlink:href=\"#ma55ffaf5c8\" y=\"143.1\"/>\n      </g>\n     </g>\n     <g id=\"text_5\">\n      <!-- 8 -->\n      <defs>\n       <path d=\"M 31.78125 34.625 \nQ 24.75 34.625 20.71875 30.859375 \nQ 16.703125 27.09375 16.703125 20.515625 \nQ 16.703125 13.921875 20.71875 10.15625 \nQ 24.75 6.390625 31.78125 6.390625 \nQ 38.8125 6.390625 42.859375 10.171875 \nQ 46.921875 13.96875 46.921875 20.515625 \nQ 46.921875 27.09375 42.890625 30.859375 \nQ 38.875 34.625 31.78125 34.625 \nz\nM 21.921875 38.8125 \nQ 15.578125 40.375 12.03125 44.71875 \nQ 8.5 49.078125 8.5 55.328125 \nQ 8.5 64.0625 14.71875 69.140625 \nQ 20.953125 74.21875 31.78125 74.21875 \nQ 42.671875 74.21875 48.875 69.140625 \nQ 55.078125 64.0625 55.078125 55.328125 \nQ 55.078125 49.078125 51.53125 44.71875 \nQ 48 40.375 41.703125 38.8125 \nQ 48.828125 37.15625 52.796875 32.3125 \nQ 56.78125 27.484375 56.78125 20.515625 \nQ 56.78125 9.90625 50.3125 4.234375 \nQ 43.84375 -1.421875 31.78125 -1.421875 \nQ 19.734375 -1.421875 13.25 4.234375 \nQ 6.78125 9.90625 6.78125 20.515625 \nQ 6.78125 27.484375 10.78125 32.3125 \nQ 14.796875 37.15625 21.921875 38.8125 \nz\nM 18.3125 54.390625 \nQ 18.3125 48.734375 21.84375 45.5625 \nQ 25.390625 42.390625 31.78125 42.390625 \nQ 38.140625 42.390625 41.71875 45.5625 \nQ 45.3125 48.734375 45.3125 54.390625 \nQ 45.3125 60.0625 41.71875 63.234375 \nQ 38.140625 66.40625 31.78125 66.40625 \nQ 25.390625 66.40625 21.84375 63.234375 \nQ 18.3125 60.0625 18.3125 54.390625 \nz\n\" id=\"DejaVuSans-56\"/>\n      </defs>\n      <g transform=\"translate(183.161875 157.698438)scale(0.1 -0.1)\">\n       <use xlink:href=\"#DejaVuSans-56\"/>\n      </g>\n     </g>\n    </g>\n    <g id=\"xtick_6\">\n     <g id=\"line2d_6\">\n      <g>\n       <use style=\"stroke:#000000;stroke-width:0.8;\" x=\"225.403125\" xlink:href=\"#ma55ffaf5c8\" y=\"143.1\"/>\n      </g>\n     </g>\n     <g id=\"text_6\">\n      <!-- 10 -->\n      <defs>\n       <path d=\"M 12.40625 8.296875 \nL 28.515625 8.296875 \nL 28.515625 63.921875 \nL 10.984375 60.40625 \nL 10.984375 69.390625 \nL 28.421875 72.90625 \nL 38.28125 72.90625 \nL 38.28125 8.296875 \nL 54.390625 8.296875 \nL 54.390625 0 \nL 12.40625 0 \nz\n\" id=\"DejaVuSans-49\"/>\n      </defs>\n      <g transform=\"translate(219.040625 157.698438)scale(0.1 -0.1)\">\n       <use xlink:href=\"#DejaVuSans-49\"/>\n       <use x=\"63.623047\" xlink:href=\"#DejaVuSans-48\"/>\n      </g>\n     </g>\n    </g>\n    <g id=\"text_7\">\n     <!-- epoch -->\n     <defs>\n      <path d=\"M 56.203125 29.59375 \nL 56.203125 25.203125 \nL 14.890625 25.203125 \nQ 15.484375 15.921875 20.484375 11.0625 \nQ 25.484375 6.203125 34.421875 6.203125 \nQ 39.59375 6.203125 44.453125 7.46875 \nQ 49.3125 8.734375 54.109375 11.28125 \nL 54.109375 2.78125 \nQ 49.265625 0.734375 44.1875 -0.34375 \nQ 39.109375 -1.421875 33.890625 -1.421875 \nQ 20.796875 -1.421875 13.15625 6.1875 \nQ 5.515625 13.8125 5.515625 26.8125 \nQ 5.515625 40.234375 12.765625 48.109375 \nQ 20.015625 56 32.328125 56 \nQ 43.359375 56 49.78125 48.890625 \nQ 56.203125 41.796875 56.203125 29.59375 \nz\nM 47.21875 32.234375 \nQ 47.125 39.59375 43.09375 43.984375 \nQ 39.0625 48.390625 32.421875 48.390625 \nQ 24.90625 48.390625 20.390625 44.140625 \nQ 15.875 39.890625 15.1875 32.171875 \nz\n\" id=\"DejaVuSans-101\"/>\n      <path d=\"M 18.109375 8.203125 \nL 18.109375 -20.796875 \nL 9.078125 -20.796875 \nL 9.078125 54.6875 \nL 18.109375 54.6875 \nL 18.109375 46.390625 \nQ 20.953125 51.265625 25.265625 53.625 \nQ 29.59375 56 35.59375 56 \nQ 45.5625 56 51.78125 48.09375 \nQ 58.015625 40.1875 58.015625 27.296875 \nQ 58.015625 14.40625 51.78125 6.484375 \nQ 45.5625 -1.421875 35.59375 -1.421875 \nQ 29.59375 -1.421875 25.265625 0.953125 \nQ 20.953125 3.328125 18.109375 8.203125 \nz\nM 48.6875 27.296875 \nQ 48.6875 37.203125 44.609375 42.84375 \nQ 40.53125 48.484375 33.40625 48.484375 \nQ 26.265625 48.484375 22.1875 42.84375 \nQ 18.109375 37.203125 18.109375 27.296875 \nQ 18.109375 17.390625 22.1875 11.75 \nQ 26.265625 6.109375 33.40625 6.109375 \nQ 40.53125 6.109375 44.609375 11.75 \nQ 48.6875 17.390625 48.6875 27.296875 \nz\n\" id=\"DejaVuSans-112\"/>\n      <path d=\"M 30.609375 48.390625 \nQ 23.390625 48.390625 19.1875 42.75 \nQ 14.984375 37.109375 14.984375 27.296875 \nQ 14.984375 17.484375 19.15625 11.84375 \nQ 23.34375 6.203125 30.609375 6.203125 \nQ 37.796875 6.203125 41.984375 11.859375 \nQ 46.1875 17.53125 46.1875 27.296875 \nQ 46.1875 37.015625 41.984375 42.703125 \nQ 37.796875 48.390625 30.609375 48.390625 \nz\nM 30.609375 56 \nQ 42.328125 56 49.015625 48.375 \nQ 55.71875 40.765625 55.71875 27.296875 \nQ 55.71875 13.875 49.015625 6.21875 \nQ 42.328125 -1.421875 30.609375 -1.421875 \nQ 18.84375 -1.421875 12.171875 6.21875 \nQ 5.515625 13.875 5.515625 27.296875 \nQ 5.515625 40.765625 12.171875 48.375 \nQ 18.84375 56 30.609375 56 \nz\n\" id=\"DejaVuSans-111\"/>\n      <path d=\"M 48.78125 52.59375 \nL 48.78125 44.1875 \nQ 44.96875 46.296875 41.140625 47.34375 \nQ 37.3125 48.390625 33.40625 48.390625 \nQ 24.65625 48.390625 19.8125 42.84375 \nQ 14.984375 37.3125 14.984375 27.296875 \nQ 14.984375 17.28125 19.8125 11.734375 \nQ 24.65625 6.203125 33.40625 6.203125 \nQ 37.3125 6.203125 41.140625 7.25 \nQ 44.96875 8.296875 48.78125 10.40625 \nL 48.78125 2.09375 \nQ 45.015625 0.34375 40.984375 -0.53125 \nQ 36.96875 -1.421875 32.421875 -1.421875 \nQ 20.0625 -1.421875 12.78125 6.34375 \nQ 5.515625 14.109375 5.515625 27.296875 \nQ 5.515625 40.671875 12.859375 48.328125 \nQ 20.21875 56 33.015625 56 \nQ 37.15625 56 41.109375 55.140625 \nQ 45.0625 54.296875 48.78125 52.59375 \nz\n\" id=\"DejaVuSans-99\"/>\n      <path d=\"M 54.890625 33.015625 \nL 54.890625 0 \nL 45.90625 0 \nL 45.90625 32.71875 \nQ 45.90625 40.484375 42.875 44.328125 \nQ 39.84375 48.1875 33.796875 48.1875 \nQ 26.515625 48.1875 22.3125 43.546875 \nQ 18.109375 38.921875 18.109375 30.90625 \nL 18.109375 0 \nL 9.078125 0 \nL 9.078125 75.984375 \nL 18.109375 75.984375 \nL 18.109375 46.1875 \nQ 21.34375 51.125 25.703125 53.5625 \nQ 30.078125 56 35.796875 56 \nQ 45.21875 56 50.046875 50.171875 \nQ 54.890625 44.34375 54.890625 33.015625 \nz\n\" id=\"DejaVuSans-104\"/>\n     </defs>\n     <g transform=\"translate(112.525 171.376563)scale(0.1 -0.1)\">\n      <use xlink:href=\"#DejaVuSans-101\"/>\n      <use x=\"61.523438\" xlink:href=\"#DejaVuSans-112\"/>\n      <use x=\"125\" xlink:href=\"#DejaVuSans-111\"/>\n      <use x=\"186.181641\" xlink:href=\"#DejaVuSans-99\"/>\n      <use x=\"241.162109\" xlink:href=\"#DejaVuSans-104\"/>\n     </g>\n    </g>\n   </g>\n   <g id=\"matplotlib.axis_2\">\n    <g id=\"ytick_1\">\n     <g id=\"line2d_7\">\n      <defs>\n       <path d=\"M 0 0 \nL -3.5 0 \n\" id=\"m72481971ab\" style=\"stroke:#000000;stroke-width:0.8;\"/>\n      </defs>\n      <g>\n       <use style=\"stroke:#000000;stroke-width:0.8;\" x=\"30.103125\" xlink:href=\"#m72481971ab\" y=\"124.659497\"/>\n      </g>\n     </g>\n     <g id=\"text_8\">\n      <!-- 0.2 -->\n      <defs>\n       <path d=\"M 10.6875 12.40625 \nL 21 12.40625 \nL 21 0 \nL 10.6875 0 \nz\n\" id=\"DejaVuSans-46\"/>\n      </defs>\n      <g transform=\"translate(7.2 128.458715)scale(0.1 -0.1)\">\n       <use xlink:href=\"#DejaVuSans-48\"/>\n       <use x=\"63.623047\" xlink:href=\"#DejaVuSans-46\"/>\n       <use x=\"95.410156\" xlink:href=\"#DejaVuSans-50\"/>\n      </g>\n     </g>\n    </g>\n    <g id=\"ytick_2\">\n     <g id=\"line2d_8\">\n      <g>\n       <use style=\"stroke:#000000;stroke-width:0.8;\" x=\"30.103125\" xlink:href=\"#m72481971ab\" y=\"93.878659\"/>\n      </g>\n     </g>\n     <g id=\"text_9\">\n      <!-- 0.4 -->\n      <g transform=\"translate(7.2 97.677878)scale(0.1 -0.1)\">\n       <use xlink:href=\"#DejaVuSans-48\"/>\n       <use x=\"63.623047\" xlink:href=\"#DejaVuSans-46\"/>\n       <use x=\"95.410156\" xlink:href=\"#DejaVuSans-52\"/>\n      </g>\n     </g>\n    </g>\n    <g id=\"ytick_3\">\n     <g id=\"line2d_9\">\n      <g>\n       <use style=\"stroke:#000000;stroke-width:0.8;\" x=\"30.103125\" xlink:href=\"#m72481971ab\" y=\"63.097822\"/>\n      </g>\n     </g>\n     <g id=\"text_10\">\n      <!-- 0.6 -->\n      <g transform=\"translate(7.2 66.897041)scale(0.1 -0.1)\">\n       <use xlink:href=\"#DejaVuSans-48\"/>\n       <use x=\"63.623047\" xlink:href=\"#DejaVuSans-46\"/>\n       <use x=\"95.410156\" xlink:href=\"#DejaVuSans-54\"/>\n      </g>\n     </g>\n    </g>\n    <g id=\"ytick_4\">\n     <g id=\"line2d_10\">\n      <g>\n       <use style=\"stroke:#000000;stroke-width:0.8;\" x=\"30.103125\" xlink:href=\"#m72481971ab\" y=\"32.316985\"/>\n      </g>\n     </g>\n     <g id=\"text_11\">\n      <!-- 0.8 -->\n      <g transform=\"translate(7.2 36.116204)scale(0.1 -0.1)\">\n       <use xlink:href=\"#DejaVuSans-48\"/>\n       <use x=\"63.623047\" xlink:href=\"#DejaVuSans-46\"/>\n       <use x=\"95.410156\" xlink:href=\"#DejaVuSans-56\"/>\n      </g>\n     </g>\n    </g>\n   </g>\n   <g id=\"line2d_11\">\n    <path clip-path=\"url(#p2e576c6e08)\" d=\"M 34.954394 72.311934 \n\" style=\"fill:none;stroke:#1f77b4;stroke-linecap:square;stroke-width:1.5;\"/>\n   </g>\n   <g id=\"line2d_12\">\n    <path clip-path=\"url(#p2e576c6e08)\" d=\"M 34.954394 72.311934 \nL 44.698573 103.496354 \n\" style=\"fill:none;stroke:#1f77b4;stroke-linecap:square;stroke-width:1.5;\"/>\n   </g>\n   <g id=\"line2d_13\">\n    <path clip-path=\"url(#p2e576c6e08)\" d=\"M 34.954394 72.311934 \nL 44.698573 103.496354 \n\" style=\"fill:none;stroke:#1f77b4;stroke-linecap:square;stroke-width:1.5;\"/>\n   </g>\n   <g id=\"line2d_14\">\n    <path clip-path=\"url(#p2e576c6e08)\" d=\"M 49.633125 97.588369 \n\" style=\"fill:none;stroke:#ff7f0e;stroke-dasharray:5.55,2.4;stroke-dashoffset:0;stroke-width:1.5;\"/>\n   </g>\n   <g id=\"line2d_15\"/>\n   <g id=\"line2d_16\">\n    <path clip-path=\"url(#p2e576c6e08)\" d=\"M 34.954394 72.311934 \nL 44.698573 103.496354 \n\" style=\"fill:none;stroke:#1f77b4;stroke-linecap:square;stroke-width:1.5;\"/>\n   </g>\n   <g id=\"line2d_17\">\n    <path clip-path=\"url(#p2e576c6e08)\" d=\"M 49.633125 97.588369 \n\" style=\"fill:none;stroke:#ff7f0e;stroke-dasharray:5.55,2.4;stroke-dashoffset:0;stroke-width:1.5;\"/>\n   </g>\n   <g id=\"line2d_18\">\n    <path clip-path=\"url(#p2e576c6e08)\" d=\"M 49.633125 22.920185 \n\" style=\"fill:none;stroke:#2ca02c;stroke-dasharray:9.6,2.4,1.5,2.4;stroke-dashoffset:0;stroke-width:1.5;\"/>\n   </g>\n   <g id=\"line2d_19\">\n    <path clip-path=\"url(#p2e576c6e08)\" d=\"M 34.954394 72.311934 \nL 44.698573 103.496354 \nL 54.442752 112.677766 \n\" style=\"fill:none;stroke:#1f77b4;stroke-linecap:square;stroke-width:1.5;\"/>\n   </g>\n   <g id=\"line2d_20\">\n    <path clip-path=\"url(#p2e576c6e08)\" d=\"M 49.633125 97.588369 \n\" style=\"fill:none;stroke:#ff7f0e;stroke-dasharray:5.55,2.4;stroke-dashoffset:0;stroke-width:1.5;\"/>\n   </g>\n   <g id=\"line2d_21\">\n    <path clip-path=\"url(#p2e576c6e08)\" d=\"M 49.633125 22.920185 \n\" style=\"fill:none;stroke:#2ca02c;stroke-dasharray:9.6,2.4,1.5,2.4;stroke-dashoffset:0;stroke-width:1.5;\"/>\n   </g>\n   <g id=\"line2d_22\">\n    <path clip-path=\"url(#p2e576c6e08)\" d=\"M 34.954394 72.311934 \nL 44.698573 103.496354 \nL 54.442752 112.677766 \nL 64.186931 115.543996 \n\" style=\"fill:none;stroke:#1f77b4;stroke-linecap:square;stroke-width:1.5;\"/>\n   </g>\n   <g id=\"line2d_23\">\n    <path clip-path=\"url(#p2e576c6e08)\" d=\"M 49.633125 97.588369 \n\" style=\"fill:none;stroke:#ff7f0e;stroke-dasharray:5.55,2.4;stroke-dashoffset:0;stroke-width:1.5;\"/>\n   </g>\n   <g id=\"line2d_24\">\n    <path clip-path=\"url(#p2e576c6e08)\" d=\"M 49.633125 22.920185 \n\" style=\"fill:none;stroke:#2ca02c;stroke-dasharray:9.6,2.4,1.5,2.4;stroke-dashoffset:0;stroke-width:1.5;\"/>\n   </g>\n   <g id=\"line2d_25\">\n    <path clip-path=\"url(#p2e576c6e08)\" d=\"M 34.954394 72.311934 \nL 44.698573 103.496354 \nL 54.442752 112.677766 \nL 64.186931 115.543996 \n\" style=\"fill:none;stroke:#1f77b4;stroke-linecap:square;stroke-width:1.5;\"/>\n   </g>\n   <g id=\"line2d_26\">\n    <path clip-path=\"url(#p2e576c6e08)\" d=\"M 49.633125 97.588369 \nL 69.163125 101.441907 \n\" style=\"fill:none;stroke:#ff7f0e;stroke-dasharray:5.55,2.4;stroke-dashoffset:0;stroke-width:1.5;\"/>\n   </g>\n   <g id=\"line2d_27\">\n    <path clip-path=\"url(#p2e576c6e08)\" d=\"M 49.633125 22.920185 \n\" style=\"fill:none;stroke:#2ca02c;stroke-dasharray:9.6,2.4,1.5,2.4;stroke-dashoffset:0;stroke-width:1.5;\"/>\n   </g>\n   <g id=\"line2d_28\">\n    <path clip-path=\"url(#p2e576c6e08)\" d=\"M 34.954394 72.311934 \nL 44.698573 103.496354 \nL 54.442752 112.677766 \nL 64.186931 115.543996 \n\" style=\"fill:none;stroke:#1f77b4;stroke-linecap:square;stroke-width:1.5;\"/>\n   </g>\n   <g id=\"line2d_29\">\n    <path clip-path=\"url(#p2e576c6e08)\" d=\"M 49.633125 97.588369 \nL 69.163125 101.441907 \n\" style=\"fill:none;stroke:#ff7f0e;stroke-dasharray:5.55,2.4;stroke-dashoffset:0;stroke-width:1.5;\"/>\n   </g>\n   <g id=\"line2d_30\">\n    <path clip-path=\"url(#p2e576c6e08)\" d=\"M 49.633125 22.920185 \nL 69.163125 20.530652 \n\" style=\"fill:none;stroke:#2ca02c;stroke-dasharray:9.6,2.4,1.5,2.4;stroke-dashoffset:0;stroke-width:1.5;\"/>\n   </g>\n   <g id=\"line2d_31\">\n    <path clip-path=\"url(#p2e576c6e08)\" d=\"M 34.954394 72.311934 \nL 44.698573 103.496354 \nL 54.442752 112.677766 \nL 64.186931 115.543996 \nL 73.93111 119.234764 \n\" style=\"fill:none;stroke:#1f77b4;stroke-linecap:square;stroke-width:1.5;\"/>\n   </g>\n   <g id=\"line2d_32\">\n    <path clip-path=\"url(#p2e576c6e08)\" d=\"M 49.633125 97.588369 \nL 69.163125 101.441907 \n\" style=\"fill:none;stroke:#ff7f0e;stroke-dasharray:5.55,2.4;stroke-dashoffset:0;stroke-width:1.5;\"/>\n   </g>\n   <g id=\"line2d_33\">\n    <path clip-path=\"url(#p2e576c6e08)\" d=\"M 49.633125 22.920185 \nL 69.163125 20.530652 \n\" style=\"fill:none;stroke:#2ca02c;stroke-dasharray:9.6,2.4,1.5,2.4;stroke-dashoffset:0;stroke-width:1.5;\"/>\n   </g>\n   <g id=\"line2d_34\">\n    <path clip-path=\"url(#p2e576c6e08)\" d=\"M 34.954394 72.311934 \nL 44.698573 103.496354 \nL 54.442752 112.677766 \nL 64.186931 115.543996 \nL 73.93111 119.234764 \nL 83.675289 120.495789 \n\" style=\"fill:none;stroke:#1f77b4;stroke-linecap:square;stroke-width:1.5;\"/>\n   </g>\n   <g id=\"line2d_35\">\n    <path clip-path=\"url(#p2e576c6e08)\" d=\"M 49.633125 97.588369 \nL 69.163125 101.441907 \n\" style=\"fill:none;stroke:#ff7f0e;stroke-dasharray:5.55,2.4;stroke-dashoffset:0;stroke-width:1.5;\"/>\n   </g>\n   <g id=\"line2d_36\">\n    <path clip-path=\"url(#p2e576c6e08)\" d=\"M 49.633125 22.920185 \nL 69.163125 20.530652 \n\" style=\"fill:none;stroke:#2ca02c;stroke-dasharray:9.6,2.4,1.5,2.4;stroke-dashoffset:0;stroke-width:1.5;\"/>\n   </g>\n   <g id=\"line2d_37\">\n    <path clip-path=\"url(#p2e576c6e08)\" d=\"M 34.954394 72.311934 \nL 44.698573 103.496354 \nL 54.442752 112.677766 \nL 64.186931 115.543996 \nL 73.93111 119.234764 \nL 83.675289 120.495789 \n\" style=\"fill:none;stroke:#1f77b4;stroke-linecap:square;stroke-width:1.5;\"/>\n   </g>\n   <g id=\"line2d_38\">\n    <path clip-path=\"url(#p2e576c6e08)\" d=\"M 49.633125 97.588369 \nL 69.163125 101.441907 \nL 88.693125 115.306669 \n\" style=\"fill:none;stroke:#ff7f0e;stroke-dasharray:5.55,2.4;stroke-dashoffset:0;stroke-width:1.5;\"/>\n   </g>\n   <g id=\"line2d_39\">\n    <path clip-path=\"url(#p2e576c6e08)\" d=\"M 49.633125 22.920185 \nL 69.163125 20.530652 \n\" style=\"fill:none;stroke:#2ca02c;stroke-dasharray:9.6,2.4,1.5,2.4;stroke-dashoffset:0;stroke-width:1.5;\"/>\n   </g>\n   <g id=\"line2d_40\">\n    <path clip-path=\"url(#p2e576c6e08)\" d=\"M 34.954394 72.311934 \nL 44.698573 103.496354 \nL 54.442752 112.677766 \nL 64.186931 115.543996 \nL 73.93111 119.234764 \nL 83.675289 120.495789 \n\" style=\"fill:none;stroke:#1f77b4;stroke-linecap:square;stroke-width:1.5;\"/>\n   </g>\n   <g id=\"line2d_41\">\n    <path clip-path=\"url(#p2e576c6e08)\" d=\"M 49.633125 97.588369 \nL 69.163125 101.441907 \nL 88.693125 115.306669 \n\" style=\"fill:none;stroke:#ff7f0e;stroke-dasharray:5.55,2.4;stroke-dashoffset:0;stroke-width:1.5;\"/>\n   </g>\n   <g id=\"line2d_42\">\n    <path clip-path=\"url(#p2e576c6e08)\" d=\"M 49.633125 22.920185 \nL 69.163125 20.530652 \nL 88.693125 16.893082 \n\" style=\"fill:none;stroke:#2ca02c;stroke-dasharray:9.6,2.4,1.5,2.4;stroke-dashoffset:0;stroke-width:1.5;\"/>\n   </g>\n   <g id=\"line2d_43\">\n    <path clip-path=\"url(#p2e576c6e08)\" d=\"M 34.954394 72.311934 \nL 44.698573 103.496354 \nL 54.442752 112.677766 \nL 64.186931 115.543996 \nL 73.93111 119.234764 \nL 83.675289 120.495789 \nL 93.419468 124.022759 \n\" style=\"fill:none;stroke:#1f77b4;stroke-linecap:square;stroke-width:1.5;\"/>\n   </g>\n   <g id=\"line2d_44\">\n    <path clip-path=\"url(#p2e576c6e08)\" d=\"M 49.633125 97.588369 \nL 69.163125 101.441907 \nL 88.693125 115.306669 \n\" style=\"fill:none;stroke:#ff7f0e;stroke-dasharray:5.55,2.4;stroke-dashoffset:0;stroke-width:1.5;\"/>\n   </g>\n   <g id=\"line2d_45\">\n    <path clip-path=\"url(#p2e576c6e08)\" d=\"M 49.633125 22.920185 \nL 69.163125 20.530652 \nL 88.693125 16.893082 \n\" style=\"fill:none;stroke:#2ca02c;stroke-dasharray:9.6,2.4,1.5,2.4;stroke-dashoffset:0;stroke-width:1.5;\"/>\n   </g>\n   <g id=\"line2d_46\">\n    <path clip-path=\"url(#p2e576c6e08)\" d=\"M 34.954394 72.311934 \nL 44.698573 103.496354 \nL 54.442752 112.677766 \nL 64.186931 115.543996 \nL 73.93111 119.234764 \nL 83.675289 120.495789 \nL 93.419468 124.022759 \nL 103.163647 124.30521 \n\" style=\"fill:none;stroke:#1f77b4;stroke-linecap:square;stroke-width:1.5;\"/>\n   </g>\n   <g id=\"line2d_47\">\n    <path clip-path=\"url(#p2e576c6e08)\" d=\"M 49.633125 97.588369 \nL 69.163125 101.441907 \nL 88.693125 115.306669 \n\" style=\"fill:none;stroke:#ff7f0e;stroke-dasharray:5.55,2.4;stroke-dashoffset:0;stroke-width:1.5;\"/>\n   </g>\n   <g id=\"line2d_48\">\n    <path clip-path=\"url(#p2e576c6e08)\" d=\"M 49.633125 22.920185 \nL 69.163125 20.530652 \nL 88.693125 16.893082 \n\" style=\"fill:none;stroke:#2ca02c;stroke-dasharray:9.6,2.4,1.5,2.4;stroke-dashoffset:0;stroke-width:1.5;\"/>\n   </g>\n   <g id=\"line2d_49\">\n    <path clip-path=\"url(#p2e576c6e08)\" d=\"M 34.954394 72.311934 \nL 44.698573 103.496354 \nL 54.442752 112.677766 \nL 64.186931 115.543996 \nL 73.93111 119.234764 \nL 83.675289 120.495789 \nL 93.419468 124.022759 \nL 103.163647 124.30521 \n\" style=\"fill:none;stroke:#1f77b4;stroke-linecap:square;stroke-width:1.5;\"/>\n   </g>\n   <g id=\"line2d_50\">\n    <path clip-path=\"url(#p2e576c6e08)\" d=\"M 49.633125 97.588369 \nL 69.163125 101.441907 \nL 88.693125 115.306669 \nL 108.223125 78.466697 \n\" style=\"fill:none;stroke:#ff7f0e;stroke-dasharray:5.55,2.4;stroke-dashoffset:0;stroke-width:1.5;\"/>\n   </g>\n   <g id=\"line2d_51\">\n    <path clip-path=\"url(#p2e576c6e08)\" d=\"M 49.633125 22.920185 \nL 69.163125 20.530652 \nL 88.693125 16.893082 \n\" style=\"fill:none;stroke:#2ca02c;stroke-dasharray:9.6,2.4,1.5,2.4;stroke-dashoffset:0;stroke-width:1.5;\"/>\n   </g>\n   <g id=\"line2d_52\">\n    <path clip-path=\"url(#p2e576c6e08)\" d=\"M 34.954394 72.311934 \nL 44.698573 103.496354 \nL 54.442752 112.677766 \nL 64.186931 115.543996 \nL 73.93111 119.234764 \nL 83.675289 120.495789 \nL 93.419468 124.022759 \nL 103.163647 124.30521 \n\" style=\"fill:none;stroke:#1f77b4;stroke-linecap:square;stroke-width:1.5;\"/>\n   </g>\n   <g id=\"line2d_53\">\n    <path clip-path=\"url(#p2e576c6e08)\" d=\"M 49.633125 97.588369 \nL 69.163125 101.441907 \nL 88.693125 115.306669 \nL 108.223125 78.466697 \n\" style=\"fill:none;stroke:#ff7f0e;stroke-dasharray:5.55,2.4;stroke-dashoffset:0;stroke-width:1.5;\"/>\n   </g>\n   <g id=\"line2d_54\">\n    <path clip-path=\"url(#p2e576c6e08)\" d=\"M 49.633125 22.920185 \nL 69.163125 20.530652 \nL 88.693125 16.893082 \nL 108.223125 30.134443 \n\" style=\"fill:none;stroke:#2ca02c;stroke-dasharray:9.6,2.4,1.5,2.4;stroke-dashoffset:0;stroke-width:1.5;\"/>\n   </g>\n   <g id=\"line2d_55\">\n    <path clip-path=\"url(#p2e576c6e08)\" d=\"M 34.954394 72.311934 \nL 44.698573 103.496354 \nL 54.442752 112.677766 \nL 64.186931 115.543996 \nL 73.93111 119.234764 \nL 83.675289 120.495789 \nL 93.419468 124.022759 \nL 103.163647 124.30521 \nL 112.907826 127.801964 \n\" style=\"fill:none;stroke:#1f77b4;stroke-linecap:square;stroke-width:1.5;\"/>\n   </g>\n   <g id=\"line2d_56\">\n    <path clip-path=\"url(#p2e576c6e08)\" d=\"M 49.633125 97.588369 \nL 69.163125 101.441907 \nL 88.693125 115.306669 \nL 108.223125 78.466697 \n\" style=\"fill:none;stroke:#ff7f0e;stroke-dasharray:5.55,2.4;stroke-dashoffset:0;stroke-width:1.5;\"/>\n   </g>\n   <g id=\"line2d_57\">\n    <path clip-path=\"url(#p2e576c6e08)\" d=\"M 49.633125 22.920185 \nL 69.163125 20.530652 \nL 88.693125 16.893082 \nL 108.223125 30.134443 \n\" style=\"fill:none;stroke:#2ca02c;stroke-dasharray:9.6,2.4,1.5,2.4;stroke-dashoffset:0;stroke-width:1.5;\"/>\n   </g>\n   <g id=\"line2d_58\">\n    <path clip-path=\"url(#p2e576c6e08)\" d=\"M 34.954394 72.311934 \nL 44.698573 103.496354 \nL 54.442752 112.677766 \nL 64.186931 115.543996 \nL 73.93111 119.234764 \nL 83.675289 120.495789 \nL 93.419468 124.022759 \nL 103.163647 124.30521 \nL 112.907826 127.801964 \nL 122.652006 126.455097 \n\" style=\"fill:none;stroke:#1f77b4;stroke-linecap:square;stroke-width:1.5;\"/>\n   </g>\n   <g id=\"line2d_59\">\n    <path clip-path=\"url(#p2e576c6e08)\" d=\"M 49.633125 97.588369 \nL 69.163125 101.441907 \nL 88.693125 115.306669 \nL 108.223125 78.466697 \n\" style=\"fill:none;stroke:#ff7f0e;stroke-dasharray:5.55,2.4;stroke-dashoffset:0;stroke-width:1.5;\"/>\n   </g>\n   <g id=\"line2d_60\">\n    <path clip-path=\"url(#p2e576c6e08)\" d=\"M 49.633125 22.920185 \nL 69.163125 20.530652 \nL 88.693125 16.893082 \nL 108.223125 30.134443 \n\" style=\"fill:none;stroke:#2ca02c;stroke-dasharray:9.6,2.4,1.5,2.4;stroke-dashoffset:0;stroke-width:1.5;\"/>\n   </g>\n   <g id=\"line2d_61\">\n    <path clip-path=\"url(#p2e576c6e08)\" d=\"M 34.954394 72.311934 \nL 44.698573 103.496354 \nL 54.442752 112.677766 \nL 64.186931 115.543996 \nL 73.93111 119.234764 \nL 83.675289 120.495789 \nL 93.419468 124.022759 \nL 103.163647 124.30521 \nL 112.907826 127.801964 \nL 122.652006 126.455097 \n\" style=\"fill:none;stroke:#1f77b4;stroke-linecap:square;stroke-width:1.5;\"/>\n   </g>\n   <g id=\"line2d_62\">\n    <path clip-path=\"url(#p2e576c6e08)\" d=\"M 49.633125 97.588369 \nL 69.163125 101.441907 \nL 88.693125 115.306669 \nL 108.223125 78.466697 \nL 127.753125 118.336566 \n\" style=\"fill:none;stroke:#ff7f0e;stroke-dasharray:5.55,2.4;stroke-dashoffset:0;stroke-width:1.5;\"/>\n   </g>\n   <g id=\"line2d_63\">\n    <path clip-path=\"url(#p2e576c6e08)\" d=\"M 49.633125 22.920185 \nL 69.163125 20.530652 \nL 88.693125 16.893082 \nL 108.223125 30.134443 \n\" style=\"fill:none;stroke:#2ca02c;stroke-dasharray:9.6,2.4,1.5,2.4;stroke-dashoffset:0;stroke-width:1.5;\"/>\n   </g>\n   <g id=\"line2d_64\">\n    <path clip-path=\"url(#p2e576c6e08)\" d=\"M 34.954394 72.311934 \nL 44.698573 103.496354 \nL 54.442752 112.677766 \nL 64.186931 115.543996 \nL 73.93111 119.234764 \nL 83.675289 120.495789 \nL 93.419468 124.022759 \nL 103.163647 124.30521 \nL 112.907826 127.801964 \nL 122.652006 126.455097 \n\" style=\"fill:none;stroke:#1f77b4;stroke-linecap:square;stroke-width:1.5;\"/>\n   </g>\n   <g id=\"line2d_65\">\n    <path clip-path=\"url(#p2e576c6e08)\" d=\"M 49.633125 97.588369 \nL 69.163125 101.441907 \nL 88.693125 115.306669 \nL 108.223125 78.466697 \nL 127.753125 118.336566 \n\" style=\"fill:none;stroke:#ff7f0e;stroke-dasharray:5.55,2.4;stroke-dashoffset:0;stroke-width:1.5;\"/>\n   </g>\n   <g id=\"line2d_66\">\n    <path clip-path=\"url(#p2e576c6e08)\" d=\"M 49.633125 22.920185 \nL 69.163125 20.530652 \nL 88.693125 16.893082 \nL 108.223125 30.134443 \nL 127.753125 14.944928 \n\" style=\"fill:none;stroke:#2ca02c;stroke-dasharray:9.6,2.4,1.5,2.4;stroke-dashoffset:0;stroke-width:1.5;\"/>\n   </g>\n   <g id=\"line2d_67\">\n    <path clip-path=\"url(#p2e576c6e08)\" d=\"M 34.954394 72.311934 \nL 44.698573 103.496354 \nL 54.442752 112.677766 \nL 64.186931 115.543996 \nL 73.93111 119.234764 \nL 83.675289 120.495789 \nL 93.419468 124.022759 \nL 103.163647 124.30521 \nL 112.907826 127.801964 \nL 122.652006 126.455097 \nL 132.396185 129.44911 \n\" style=\"fill:none;stroke:#1f77b4;stroke-linecap:square;stroke-width:1.5;\"/>\n   </g>\n   <g id=\"line2d_68\">\n    <path clip-path=\"url(#p2e576c6e08)\" d=\"M 49.633125 97.588369 \nL 69.163125 101.441907 \nL 88.693125 115.306669 \nL 108.223125 78.466697 \nL 127.753125 118.336566 \n\" style=\"fill:none;stroke:#ff7f0e;stroke-dasharray:5.55,2.4;stroke-dashoffset:0;stroke-width:1.5;\"/>\n   </g>\n   <g id=\"line2d_69\">\n    <path clip-path=\"url(#p2e576c6e08)\" d=\"M 49.633125 22.920185 \nL 69.163125 20.530652 \nL 88.693125 16.893082 \nL 108.223125 30.134443 \nL 127.753125 14.944928 \n\" style=\"fill:none;stroke:#2ca02c;stroke-dasharray:9.6,2.4,1.5,2.4;stroke-dashoffset:0;stroke-width:1.5;\"/>\n   </g>\n   <g id=\"line2d_70\">\n    <path clip-path=\"url(#p2e576c6e08)\" d=\"M 34.954394 72.311934 \nL 44.698573 103.496354 \nL 54.442752 112.677766 \nL 64.186931 115.543996 \nL 73.93111 119.234764 \nL 83.675289 120.495789 \nL 93.419468 124.022759 \nL 103.163647 124.30521 \nL 112.907826 127.801964 \nL 122.652006 126.455097 \nL 132.396185 129.44911 \nL 142.140364 129.679192 \n\" style=\"fill:none;stroke:#1f77b4;stroke-linecap:square;stroke-width:1.5;\"/>\n   </g>\n   <g id=\"line2d_71\">\n    <path clip-path=\"url(#p2e576c6e08)\" d=\"M 49.633125 97.588369 \nL 69.163125 101.441907 \nL 88.693125 115.306669 \nL 108.223125 78.466697 \nL 127.753125 118.336566 \n\" style=\"fill:none;stroke:#ff7f0e;stroke-dasharray:5.55,2.4;stroke-dashoffset:0;stroke-width:1.5;\"/>\n   </g>\n   <g id=\"line2d_72\">\n    <path clip-path=\"url(#p2e576c6e08)\" d=\"M 49.633125 22.920185 \nL 69.163125 20.530652 \nL 88.693125 16.893082 \nL 108.223125 30.134443 \nL 127.753125 14.944928 \n\" style=\"fill:none;stroke:#2ca02c;stroke-dasharray:9.6,2.4,1.5,2.4;stroke-dashoffset:0;stroke-width:1.5;\"/>\n   </g>\n   <g id=\"line2d_73\">\n    <path clip-path=\"url(#p2e576c6e08)\" d=\"M 34.954394 72.311934 \nL 44.698573 103.496354 \nL 54.442752 112.677766 \nL 64.186931 115.543996 \nL 73.93111 119.234764 \nL 83.675289 120.495789 \nL 93.419468 124.022759 \nL 103.163647 124.30521 \nL 112.907826 127.801964 \nL 122.652006 126.455097 \nL 132.396185 129.44911 \nL 142.140364 129.679192 \n\" style=\"fill:none;stroke:#1f77b4;stroke-linecap:square;stroke-width:1.5;\"/>\n   </g>\n   <g id=\"line2d_74\">\n    <path clip-path=\"url(#p2e576c6e08)\" d=\"M 49.633125 97.588369 \nL 69.163125 101.441907 \nL 88.693125 115.306669 \nL 108.223125 78.466697 \nL 127.753125 118.336566 \nL 147.283125 112.870417 \n\" style=\"fill:none;stroke:#ff7f0e;stroke-dasharray:5.55,2.4;stroke-dashoffset:0;stroke-width:1.5;\"/>\n   </g>\n   <g id=\"line2d_75\">\n    <path clip-path=\"url(#p2e576c6e08)\" d=\"M 49.633125 22.920185 \nL 69.163125 20.530652 \nL 88.693125 16.893082 \nL 108.223125 30.134443 \nL 127.753125 14.944928 \n\" style=\"fill:none;stroke:#2ca02c;stroke-dasharray:9.6,2.4,1.5,2.4;stroke-dashoffset:0;stroke-width:1.5;\"/>\n   </g>\n   <g id=\"line2d_76\">\n    <path clip-path=\"url(#p2e576c6e08)\" d=\"M 34.954394 72.311934 \nL 44.698573 103.496354 \nL 54.442752 112.677766 \nL 64.186931 115.543996 \nL 73.93111 119.234764 \nL 83.675289 120.495789 \nL 93.419468 124.022759 \nL 103.163647 124.30521 \nL 112.907826 127.801964 \nL 122.652006 126.455097 \nL 132.396185 129.44911 \nL 142.140364 129.679192 \n\" style=\"fill:none;stroke:#1f77b4;stroke-linecap:square;stroke-width:1.5;\"/>\n   </g>\n   <g id=\"line2d_77\">\n    <path clip-path=\"url(#p2e576c6e08)\" d=\"M 49.633125 97.588369 \nL 69.163125 101.441907 \nL 88.693125 115.306669 \nL 108.223125 78.466697 \nL 127.753125 118.336566 \nL 147.283125 112.870417 \n\" style=\"fill:none;stroke:#ff7f0e;stroke-dasharray:5.55,2.4;stroke-dashoffset:0;stroke-width:1.5;\"/>\n   </g>\n   <g id=\"line2d_78\">\n    <path clip-path=\"url(#p2e576c6e08)\" d=\"M 49.633125 22.920185 \nL 69.163125 20.530652 \nL 88.693125 16.893082 \nL 108.223125 30.134443 \nL 127.753125 14.944928 \nL 147.283125 17.410561 \n\" style=\"fill:none;stroke:#2ca02c;stroke-dasharray:9.6,2.4,1.5,2.4;stroke-dashoffset:0;stroke-width:1.5;\"/>\n   </g>\n   <g id=\"line2d_79\">\n    <path clip-path=\"url(#p2e576c6e08)\" d=\"M 34.954394 72.311934 \nL 44.698573 103.496354 \nL 54.442752 112.677766 \nL 64.186931 115.543996 \nL 73.93111 119.234764 \nL 83.675289 120.495789 \nL 93.419468 124.022759 \nL 103.163647 124.30521 \nL 112.907826 127.801964 \nL 122.652006 126.455097 \nL 132.396185 129.44911 \nL 142.140364 129.679192 \nL 151.884543 131.762567 \n\" style=\"fill:none;stroke:#1f77b4;stroke-linecap:square;stroke-width:1.5;\"/>\n   </g>\n   <g id=\"line2d_80\">\n    <path clip-path=\"url(#p2e576c6e08)\" d=\"M 49.633125 97.588369 \nL 69.163125 101.441907 \nL 88.693125 115.306669 \nL 108.223125 78.466697 \nL 127.753125 118.336566 \nL 147.283125 112.870417 \n\" style=\"fill:none;stroke:#ff7f0e;stroke-dasharray:5.55,2.4;stroke-dashoffset:0;stroke-width:1.5;\"/>\n   </g>\n   <g id=\"line2d_81\">\n    <path clip-path=\"url(#p2e576c6e08)\" d=\"M 49.633125 22.920185 \nL 69.163125 20.530652 \nL 88.693125 16.893082 \nL 108.223125 30.134443 \nL 127.753125 14.944928 \nL 147.283125 17.410561 \n\" style=\"fill:none;stroke:#2ca02c;stroke-dasharray:9.6,2.4,1.5,2.4;stroke-dashoffset:0;stroke-width:1.5;\"/>\n   </g>\n   <g id=\"line2d_82\">\n    <path clip-path=\"url(#p2e576c6e08)\" d=\"M 34.954394 72.311934 \nL 44.698573 103.496354 \nL 54.442752 112.677766 \nL 64.186931 115.543996 \nL 73.93111 119.234764 \nL 83.675289 120.495789 \nL 93.419468 124.022759 \nL 103.163647 124.30521 \nL 112.907826 127.801964 \nL 122.652006 126.455097 \nL 132.396185 129.44911 \nL 142.140364 129.679192 \nL 151.884543 131.762567 \nL 161.628722 131.350384 \n\" style=\"fill:none;stroke:#1f77b4;stroke-linecap:square;stroke-width:1.5;\"/>\n   </g>\n   <g id=\"line2d_83\">\n    <path clip-path=\"url(#p2e576c6e08)\" d=\"M 49.633125 97.588369 \nL 69.163125 101.441907 \nL 88.693125 115.306669 \nL 108.223125 78.466697 \nL 127.753125 118.336566 \nL 147.283125 112.870417 \n\" style=\"fill:none;stroke:#ff7f0e;stroke-dasharray:5.55,2.4;stroke-dashoffset:0;stroke-width:1.5;\"/>\n   </g>\n   <g id=\"line2d_84\">\n    <path clip-path=\"url(#p2e576c6e08)\" d=\"M 49.633125 22.920185 \nL 69.163125 20.530652 \nL 88.693125 16.893082 \nL 108.223125 30.134443 \nL 127.753125 14.944928 \nL 147.283125 17.410561 \n\" style=\"fill:none;stroke:#2ca02c;stroke-dasharray:9.6,2.4,1.5,2.4;stroke-dashoffset:0;stroke-width:1.5;\"/>\n   </g>\n   <g id=\"line2d_85\">\n    <path clip-path=\"url(#p2e576c6e08)\" d=\"M 34.954394 72.311934 \nL 44.698573 103.496354 \nL 54.442752 112.677766 \nL 64.186931 115.543996 \nL 73.93111 119.234764 \nL 83.675289 120.495789 \nL 93.419468 124.022759 \nL 103.163647 124.30521 \nL 112.907826 127.801964 \nL 122.652006 126.455097 \nL 132.396185 129.44911 \nL 142.140364 129.679192 \nL 151.884543 131.762567 \nL 161.628722 131.350384 \n\" style=\"fill:none;stroke:#1f77b4;stroke-linecap:square;stroke-width:1.5;\"/>\n   </g>\n   <g id=\"line2d_86\">\n    <path clip-path=\"url(#p2e576c6e08)\" d=\"M 49.633125 97.588369 \nL 69.163125 101.441907 \nL 88.693125 115.306669 \nL 108.223125 78.466697 \nL 127.753125 118.336566 \nL 147.283125 112.870417 \nL 166.813125 119.653975 \n\" style=\"fill:none;stroke:#ff7f0e;stroke-dasharray:5.55,2.4;stroke-dashoffset:0;stroke-width:1.5;\"/>\n   </g>\n   <g id=\"line2d_87\">\n    <path clip-path=\"url(#p2e576c6e08)\" d=\"M 49.633125 22.920185 \nL 69.163125 20.530652 \nL 88.693125 16.893082 \nL 108.223125 30.134443 \nL 127.753125 14.944928 \nL 147.283125 17.410561 \n\" style=\"fill:none;stroke:#2ca02c;stroke-dasharray:9.6,2.4,1.5,2.4;stroke-dashoffset:0;stroke-width:1.5;\"/>\n   </g>\n   <g id=\"line2d_88\">\n    <path clip-path=\"url(#p2e576c6e08)\" d=\"M 34.954394 72.311934 \nL 44.698573 103.496354 \nL 54.442752 112.677766 \nL 64.186931 115.543996 \nL 73.93111 119.234764 \nL 83.675289 120.495789 \nL 93.419468 124.022759 \nL 103.163647 124.30521 \nL 112.907826 127.801964 \nL 122.652006 126.455097 \nL 132.396185 129.44911 \nL 142.140364 129.679192 \nL 151.884543 131.762567 \nL 161.628722 131.350384 \n\" style=\"fill:none;stroke:#1f77b4;stroke-linecap:square;stroke-width:1.5;\"/>\n   </g>\n   <g id=\"line2d_89\">\n    <path clip-path=\"url(#p2e576c6e08)\" d=\"M 49.633125 97.588369 \nL 69.163125 101.441907 \nL 88.693125 115.306669 \nL 108.223125 78.466697 \nL 127.753125 118.336566 \nL 147.283125 112.870417 \nL 166.813125 119.653975 \n\" style=\"fill:none;stroke:#ff7f0e;stroke-dasharray:5.55,2.4;stroke-dashoffset:0;stroke-width:1.5;\"/>\n   </g>\n   <g id=\"line2d_90\">\n    <path clip-path=\"url(#p2e576c6e08)\" d=\"M 49.633125 22.920185 \nL 69.163125 20.530652 \nL 88.693125 16.893082 \nL 108.223125 30.134443 \nL 127.753125 14.944928 \nL 147.283125 17.410561 \nL 166.813125 14.564429 \n\" style=\"fill:none;stroke:#2ca02c;stroke-dasharray:9.6,2.4,1.5,2.4;stroke-dashoffset:0;stroke-width:1.5;\"/>\n   </g>\n   <g id=\"line2d_91\">\n    <path clip-path=\"url(#p2e576c6e08)\" d=\"M 34.954394 72.311934 \nL 44.698573 103.496354 \nL 54.442752 112.677766 \nL 64.186931 115.543996 \nL 73.93111 119.234764 \nL 83.675289 120.495789 \nL 93.419468 124.022759 \nL 103.163647 124.30521 \nL 112.907826 127.801964 \nL 122.652006 126.455097 \nL 132.396185 129.44911 \nL 142.140364 129.679192 \nL 151.884543 131.762567 \nL 161.628722 131.350384 \nL 171.372901 133.515197 \n\" style=\"fill:none;stroke:#1f77b4;stroke-linecap:square;stroke-width:1.5;\"/>\n   </g>\n   <g id=\"line2d_92\">\n    <path clip-path=\"url(#p2e576c6e08)\" d=\"M 49.633125 97.588369 \nL 69.163125 101.441907 \nL 88.693125 115.306669 \nL 108.223125 78.466697 \nL 127.753125 118.336566 \nL 147.283125 112.870417 \nL 166.813125 119.653975 \n\" style=\"fill:none;stroke:#ff7f0e;stroke-dasharray:5.55,2.4;stroke-dashoffset:0;stroke-width:1.5;\"/>\n   </g>\n   <g id=\"line2d_93\">\n    <path clip-path=\"url(#p2e576c6e08)\" d=\"M 49.633125 22.920185 \nL 69.163125 20.530652 \nL 88.693125 16.893082 \nL 108.223125 30.134443 \nL 127.753125 14.944928 \nL 147.283125 17.410561 \nL 166.813125 14.564429 \n\" style=\"fill:none;stroke:#2ca02c;stroke-dasharray:9.6,2.4,1.5,2.4;stroke-dashoffset:0;stroke-width:1.5;\"/>\n   </g>\n   <g id=\"line2d_94\">\n    <path clip-path=\"url(#p2e576c6e08)\" d=\"M 34.954394 72.311934 \nL 44.698573 103.496354 \nL 54.442752 112.677766 \nL 64.186931 115.543996 \nL 73.93111 119.234764 \nL 83.675289 120.495789 \nL 93.419468 124.022759 \nL 103.163647 124.30521 \nL 112.907826 127.801964 \nL 122.652006 126.455097 \nL 132.396185 129.44911 \nL 142.140364 129.679192 \nL 151.884543 131.762567 \nL 161.628722 131.350384 \nL 171.372901 133.515197 \nL 181.11708 132.940733 \n\" style=\"fill:none;stroke:#1f77b4;stroke-linecap:square;stroke-width:1.5;\"/>\n   </g>\n   <g id=\"line2d_95\">\n    <path clip-path=\"url(#p2e576c6e08)\" d=\"M 49.633125 97.588369 \nL 69.163125 101.441907 \nL 88.693125 115.306669 \nL 108.223125 78.466697 \nL 127.753125 118.336566 \nL 147.283125 112.870417 \nL 166.813125 119.653975 \n\" style=\"fill:none;stroke:#ff7f0e;stroke-dasharray:5.55,2.4;stroke-dashoffset:0;stroke-width:1.5;\"/>\n   </g>\n   <g id=\"line2d_96\">\n    <path clip-path=\"url(#p2e576c6e08)\" d=\"M 49.633125 22.920185 \nL 69.163125 20.530652 \nL 88.693125 16.893082 \nL 108.223125 30.134443 \nL 127.753125 14.944928 \nL 147.283125 17.410561 \nL 166.813125 14.564429 \n\" style=\"fill:none;stroke:#2ca02c;stroke-dasharray:9.6,2.4,1.5,2.4;stroke-dashoffset:0;stroke-width:1.5;\"/>\n   </g>\n   <g id=\"line2d_97\">\n    <path clip-path=\"url(#p2e576c6e08)\" d=\"M 34.954394 72.311934 \nL 44.698573 103.496354 \nL 54.442752 112.677766 \nL 64.186931 115.543996 \nL 73.93111 119.234764 \nL 83.675289 120.495789 \nL 93.419468 124.022759 \nL 103.163647 124.30521 \nL 112.907826 127.801964 \nL 122.652006 126.455097 \nL 132.396185 129.44911 \nL 142.140364 129.679192 \nL 151.884543 131.762567 \nL 161.628722 131.350384 \nL 171.372901 133.515197 \nL 181.11708 132.940733 \n\" style=\"fill:none;stroke:#1f77b4;stroke-linecap:square;stroke-width:1.5;\"/>\n   </g>\n   <g id=\"line2d_98\">\n    <path clip-path=\"url(#p2e576c6e08)\" d=\"M 49.633125 97.588369 \nL 69.163125 101.441907 \nL 88.693125 115.306669 \nL 108.223125 78.466697 \nL 127.753125 118.336566 \nL 147.283125 112.870417 \nL 166.813125 119.653975 \nL 186.343125 122.126659 \n\" style=\"fill:none;stroke:#ff7f0e;stroke-dasharray:5.55,2.4;stroke-dashoffset:0;stroke-width:1.5;\"/>\n   </g>\n   <g id=\"line2d_99\">\n    <path clip-path=\"url(#p2e576c6e08)\" d=\"M 49.633125 22.920185 \nL 69.163125 20.530652 \nL 88.693125 16.893082 \nL 108.223125 30.134443 \nL 127.753125 14.944928 \nL 147.283125 17.410561 \nL 166.813125 14.564429 \n\" style=\"fill:none;stroke:#2ca02c;stroke-dasharray:9.6,2.4,1.5,2.4;stroke-dashoffset:0;stroke-width:1.5;\"/>\n   </g>\n   <g id=\"line2d_100\">\n    <path clip-path=\"url(#p2e576c6e08)\" d=\"M 34.954394 72.311934 \nL 44.698573 103.496354 \nL 54.442752 112.677766 \nL 64.186931 115.543996 \nL 73.93111 119.234764 \nL 83.675289 120.495789 \nL 93.419468 124.022759 \nL 103.163647 124.30521 \nL 112.907826 127.801964 \nL 122.652006 126.455097 \nL 132.396185 129.44911 \nL 142.140364 129.679192 \nL 151.884543 131.762567 \nL 161.628722 131.350384 \nL 171.372901 133.515197 \nL 181.11708 132.940733 \n\" style=\"fill:none;stroke:#1f77b4;stroke-linecap:square;stroke-width:1.5;\"/>\n   </g>\n   <g id=\"line2d_101\">\n    <path clip-path=\"url(#p2e576c6e08)\" d=\"M 49.633125 97.588369 \nL 69.163125 101.441907 \nL 88.693125 115.306669 \nL 108.223125 78.466697 \nL 127.753125 118.336566 \nL 147.283125 112.870417 \nL 166.813125 119.653975 \nL 186.343125 122.126659 \n\" style=\"fill:none;stroke:#ff7f0e;stroke-dasharray:5.55,2.4;stroke-dashoffset:0;stroke-width:1.5;\"/>\n   </g>\n   <g id=\"line2d_102\">\n    <path clip-path=\"url(#p2e576c6e08)\" d=\"M 49.633125 22.920185 \nL 69.163125 20.530652 \nL 88.693125 16.893082 \nL 108.223125 30.134443 \nL 127.753125 14.944928 \nL 147.283125 17.410561 \nL 166.813125 14.564429 \nL 186.343125 13.422933 \n\" style=\"fill:none;stroke:#2ca02c;stroke-dasharray:9.6,2.4,1.5,2.4;stroke-dashoffset:0;stroke-width:1.5;\"/>\n   </g>\n   <g id=\"line2d_103\">\n    <path clip-path=\"url(#p2e576c6e08)\" d=\"M 34.954394 72.311934 \nL 44.698573 103.496354 \nL 54.442752 112.677766 \nL 64.186931 115.543996 \nL 73.93111 119.234764 \nL 83.675289 120.495789 \nL 93.419468 124.022759 \nL 103.163647 124.30521 \nL 112.907826 127.801964 \nL 122.652006 126.455097 \nL 132.396185 129.44911 \nL 142.140364 129.679192 \nL 151.884543 131.762567 \nL 161.628722 131.350384 \nL 171.372901 133.515197 \nL 181.11708 132.940733 \nL 190.861259 135.347298 \n\" style=\"fill:none;stroke:#1f77b4;stroke-linecap:square;stroke-width:1.5;\"/>\n   </g>\n   <g id=\"line2d_104\">\n    <path clip-path=\"url(#p2e576c6e08)\" d=\"M 49.633125 97.588369 \nL 69.163125 101.441907 \nL 88.693125 115.306669 \nL 108.223125 78.466697 \nL 127.753125 118.336566 \nL 147.283125 112.870417 \nL 166.813125 119.653975 \nL 186.343125 122.126659 \n\" style=\"fill:none;stroke:#ff7f0e;stroke-dasharray:5.55,2.4;stroke-dashoffset:0;stroke-width:1.5;\"/>\n   </g>\n   <g id=\"line2d_105\">\n    <path clip-path=\"url(#p2e576c6e08)\" d=\"M 49.633125 22.920185 \nL 69.163125 20.530652 \nL 88.693125 16.893082 \nL 108.223125 30.134443 \nL 127.753125 14.944928 \nL 147.283125 17.410561 \nL 166.813125 14.564429 \nL 186.343125 13.422933 \n\" style=\"fill:none;stroke:#2ca02c;stroke-dasharray:9.6,2.4,1.5,2.4;stroke-dashoffset:0;stroke-width:1.5;\"/>\n   </g>\n   <g id=\"line2d_106\">\n    <path clip-path=\"url(#p2e576c6e08)\" d=\"M 34.954394 72.311934 \nL 44.698573 103.496354 \nL 54.442752 112.677766 \nL 64.186931 115.543996 \nL 73.93111 119.234764 \nL 83.675289 120.495789 \nL 93.419468 124.022759 \nL 103.163647 124.30521 \nL 112.907826 127.801964 \nL 122.652006 126.455097 \nL 132.396185 129.44911 \nL 142.140364 129.679192 \nL 151.884543 131.762567 \nL 161.628722 131.350384 \nL 171.372901 133.515197 \nL 181.11708 132.940733 \nL 190.861259 135.347298 \nL 200.605438 135.158494 \n\" style=\"fill:none;stroke:#1f77b4;stroke-linecap:square;stroke-width:1.5;\"/>\n   </g>\n   <g id=\"line2d_107\">\n    <path clip-path=\"url(#p2e576c6e08)\" d=\"M 49.633125 97.588369 \nL 69.163125 101.441907 \nL 88.693125 115.306669 \nL 108.223125 78.466697 \nL 127.753125 118.336566 \nL 147.283125 112.870417 \nL 166.813125 119.653975 \nL 186.343125 122.126659 \n\" style=\"fill:none;stroke:#ff7f0e;stroke-dasharray:5.55,2.4;stroke-dashoffset:0;stroke-width:1.5;\"/>\n   </g>\n   <g id=\"line2d_108\">\n    <path clip-path=\"url(#p2e576c6e08)\" d=\"M 49.633125 22.920185 \nL 69.163125 20.530652 \nL 88.693125 16.893082 \nL 108.223125 30.134443 \nL 127.753125 14.944928 \nL 147.283125 17.410561 \nL 166.813125 14.564429 \nL 186.343125 13.422933 \n\" style=\"fill:none;stroke:#2ca02c;stroke-dasharray:9.6,2.4,1.5,2.4;stroke-dashoffset:0;stroke-width:1.5;\"/>\n   </g>\n   <g id=\"line2d_109\">\n    <path clip-path=\"url(#p2e576c6e08)\" d=\"M 34.954394 72.311934 \nL 44.698573 103.496354 \nL 54.442752 112.677766 \nL 64.186931 115.543996 \nL 73.93111 119.234764 \nL 83.675289 120.495789 \nL 93.419468 124.022759 \nL 103.163647 124.30521 \nL 112.907826 127.801964 \nL 122.652006 126.455097 \nL 132.396185 129.44911 \nL 142.140364 129.679192 \nL 151.884543 131.762567 \nL 161.628722 131.350384 \nL 171.372901 133.515197 \nL 181.11708 132.940733 \nL 190.861259 135.347298 \nL 200.605438 135.158494 \n\" style=\"fill:none;stroke:#1f77b4;stroke-linecap:square;stroke-width:1.5;\"/>\n   </g>\n   <g id=\"line2d_110\">\n    <path clip-path=\"url(#p2e576c6e08)\" d=\"M 49.633125 97.588369 \nL 69.163125 101.441907 \nL 88.693125 115.306669 \nL 108.223125 78.466697 \nL 127.753125 118.336566 \nL 147.283125 112.870417 \nL 166.813125 119.653975 \nL 186.343125 122.126659 \nL 205.873125 121.831934 \n\" style=\"fill:none;stroke:#ff7f0e;stroke-dasharray:5.55,2.4;stroke-dashoffset:0;stroke-width:1.5;\"/>\n   </g>\n   <g id=\"line2d_111\">\n    <path clip-path=\"url(#p2e576c6e08)\" d=\"M 49.633125 22.920185 \nL 69.163125 20.530652 \nL 88.693125 16.893082 \nL 108.223125 30.134443 \nL 127.753125 14.944928 \nL 147.283125 17.410561 \nL 166.813125 14.564429 \nL 186.343125 13.422933 \n\" style=\"fill:none;stroke:#2ca02c;stroke-dasharray:9.6,2.4,1.5,2.4;stroke-dashoffset:0;stroke-width:1.5;\"/>\n   </g>\n   <g id=\"line2d_112\">\n    <path clip-path=\"url(#p2e576c6e08)\" d=\"M 34.954394 72.311934 \nL 44.698573 103.496354 \nL 54.442752 112.677766 \nL 64.186931 115.543996 \nL 73.93111 119.234764 \nL 83.675289 120.495789 \nL 93.419468 124.022759 \nL 103.163647 124.30521 \nL 112.907826 127.801964 \nL 122.652006 126.455097 \nL 132.396185 129.44911 \nL 142.140364 129.679192 \nL 151.884543 131.762567 \nL 161.628722 131.350384 \nL 171.372901 133.515197 \nL 181.11708 132.940733 \nL 190.861259 135.347298 \nL 200.605438 135.158494 \n\" style=\"fill:none;stroke:#1f77b4;stroke-linecap:square;stroke-width:1.5;\"/>\n   </g>\n   <g id=\"line2d_113\">\n    <path clip-path=\"url(#p2e576c6e08)\" d=\"M 49.633125 97.588369 \nL 69.163125 101.441907 \nL 88.693125 115.306669 \nL 108.223125 78.466697 \nL 127.753125 118.336566 \nL 147.283125 112.870417 \nL 166.813125 119.653975 \nL 186.343125 122.126659 \nL 205.873125 121.831934 \n\" style=\"fill:none;stroke:#ff7f0e;stroke-dasharray:5.55,2.4;stroke-dashoffset:0;stroke-width:1.5;\"/>\n   </g>\n   <g id=\"line2d_114\">\n    <path clip-path=\"url(#p2e576c6e08)\" d=\"M 49.633125 22.920185 \nL 69.163125 20.530652 \nL 88.693125 16.893082 \nL 108.223125 30.134443 \nL 127.753125 14.944928 \nL 147.283125 17.410561 \nL 166.813125 14.564429 \nL 186.343125 13.422933 \nL 205.873125 13.377273 \n\" style=\"fill:none;stroke:#2ca02c;stroke-dasharray:9.6,2.4,1.5,2.4;stroke-dashoffset:0;stroke-width:1.5;\"/>\n   </g>\n   <g id=\"line2d_115\">\n    <path clip-path=\"url(#p2e576c6e08)\" d=\"M 34.954394 72.311934 \nL 44.698573 103.496354 \nL 54.442752 112.677766 \nL 64.186931 115.543996 \nL 73.93111 119.234764 \nL 83.675289 120.495789 \nL 93.419468 124.022759 \nL 103.163647 124.30521 \nL 112.907826 127.801964 \nL 122.652006 126.455097 \nL 132.396185 129.44911 \nL 142.140364 129.679192 \nL 151.884543 131.762567 \nL 161.628722 131.350384 \nL 171.372901 133.515197 \nL 181.11708 132.940733 \nL 190.861259 135.347298 \nL 200.605438 135.158494 \nL 210.349618 136.922727 \n\" style=\"fill:none;stroke:#1f77b4;stroke-linecap:square;stroke-width:1.5;\"/>\n   </g>\n   <g id=\"line2d_116\">\n    <path clip-path=\"url(#p2e576c6e08)\" d=\"M 49.633125 97.588369 \nL 69.163125 101.441907 \nL 88.693125 115.306669 \nL 108.223125 78.466697 \nL 127.753125 118.336566 \nL 147.283125 112.870417 \nL 166.813125 119.653975 \nL 186.343125 122.126659 \nL 205.873125 121.831934 \n\" style=\"fill:none;stroke:#ff7f0e;stroke-dasharray:5.55,2.4;stroke-dashoffset:0;stroke-width:1.5;\"/>\n   </g>\n   <g id=\"line2d_117\">\n    <path clip-path=\"url(#p2e576c6e08)\" d=\"M 49.633125 22.920185 \nL 69.163125 20.530652 \nL 88.693125 16.893082 \nL 108.223125 30.134443 \nL 127.753125 14.944928 \nL 147.283125 17.410561 \nL 166.813125 14.564429 \nL 186.343125 13.422933 \nL 205.873125 13.377273 \n\" style=\"fill:none;stroke:#2ca02c;stroke-dasharray:9.6,2.4,1.5,2.4;stroke-dashoffset:0;stroke-width:1.5;\"/>\n   </g>\n   <g id=\"line2d_118\">\n    <path clip-path=\"url(#p2e576c6e08)\" d=\"M 34.954394 72.311934 \nL 44.698573 103.496354 \nL 54.442752 112.677766 \nL 64.186931 115.543996 \nL 73.93111 119.234764 \nL 83.675289 120.495789 \nL 93.419468 124.022759 \nL 103.163647 124.30521 \nL 112.907826 127.801964 \nL 122.652006 126.455097 \nL 132.396185 129.44911 \nL 142.140364 129.679192 \nL 151.884543 131.762567 \nL 161.628722 131.350384 \nL 171.372901 133.515197 \nL 181.11708 132.940733 \nL 190.861259 135.347298 \nL 200.605438 135.158494 \nL 210.349618 136.922727 \nL 220.093797 136.061424 \n\" style=\"fill:none;stroke:#1f77b4;stroke-linecap:square;stroke-width:1.5;\"/>\n   </g>\n   <g id=\"line2d_119\">\n    <path clip-path=\"url(#p2e576c6e08)\" d=\"M 49.633125 97.588369 \nL 69.163125 101.441907 \nL 88.693125 115.306669 \nL 108.223125 78.466697 \nL 127.753125 118.336566 \nL 147.283125 112.870417 \nL 166.813125 119.653975 \nL 186.343125 122.126659 \nL 205.873125 121.831934 \n\" style=\"fill:none;stroke:#ff7f0e;stroke-dasharray:5.55,2.4;stroke-dashoffset:0;stroke-width:1.5;\"/>\n   </g>\n   <g id=\"line2d_120\">\n    <path clip-path=\"url(#p2e576c6e08)\" d=\"M 49.633125 22.920185 \nL 69.163125 20.530652 \nL 88.693125 16.893082 \nL 108.223125 30.134443 \nL 127.753125 14.944928 \nL 147.283125 17.410561 \nL 166.813125 14.564429 \nL 186.343125 13.422933 \nL 205.873125 13.377273 \n\" style=\"fill:none;stroke:#2ca02c;stroke-dasharray:9.6,2.4,1.5,2.4;stroke-dashoffset:0;stroke-width:1.5;\"/>\n   </g>\n   <g id=\"line2d_121\">\n    <path clip-path=\"url(#p2e576c6e08)\" d=\"M 34.954394 72.311934 \nL 44.698573 103.496354 \nL 54.442752 112.677766 \nL 64.186931 115.543996 \nL 73.93111 119.234764 \nL 83.675289 120.495789 \nL 93.419468 124.022759 \nL 103.163647 124.30521 \nL 112.907826 127.801964 \nL 122.652006 126.455097 \nL 132.396185 129.44911 \nL 142.140364 129.679192 \nL 151.884543 131.762567 \nL 161.628722 131.350384 \nL 171.372901 133.515197 \nL 181.11708 132.940733 \nL 190.861259 135.347298 \nL 200.605438 135.158494 \nL 210.349618 136.922727 \nL 220.093797 136.061424 \n\" style=\"fill:none;stroke:#1f77b4;stroke-linecap:square;stroke-width:1.5;\"/>\n   </g>\n   <g id=\"line2d_122\">\n    <path clip-path=\"url(#p2e576c6e08)\" d=\"M 49.633125 97.588369 \nL 69.163125 101.441907 \nL 88.693125 115.306669 \nL 108.223125 78.466697 \nL 127.753125 118.336566 \nL 147.283125 112.870417 \nL 166.813125 119.653975 \nL 186.343125 122.126659 \nL 205.873125 121.831934 \nL 225.403125 116.680147 \n\" style=\"fill:none;stroke:#ff7f0e;stroke-dasharray:5.55,2.4;stroke-dashoffset:0;stroke-width:1.5;\"/>\n   </g>\n   <g id=\"line2d_123\">\n    <path clip-path=\"url(#p2e576c6e08)\" d=\"M 49.633125 22.920185 \nL 69.163125 20.530652 \nL 88.693125 16.893082 \nL 108.223125 30.134443 \nL 127.753125 14.944928 \nL 147.283125 17.410561 \nL 166.813125 14.564429 \nL 186.343125 13.422933 \nL 205.873125 13.377273 \n\" style=\"fill:none;stroke:#2ca02c;stroke-dasharray:9.6,2.4,1.5,2.4;stroke-dashoffset:0;stroke-width:1.5;\"/>\n   </g>\n   <g id=\"line2d_124\">\n    <path clip-path=\"url(#p2e576c6e08)\" d=\"M 34.954394 72.311934 \nL 44.698573 103.496354 \nL 54.442752 112.677766 \nL 64.186931 115.543996 \nL 73.93111 119.234764 \nL 83.675289 120.495789 \nL 93.419468 124.022759 \nL 103.163647 124.30521 \nL 112.907826 127.801964 \nL 122.652006 126.455097 \nL 132.396185 129.44911 \nL 142.140364 129.679192 \nL 151.884543 131.762567 \nL 161.628722 131.350384 \nL 171.372901 133.515197 \nL 181.11708 132.940733 \nL 190.861259 135.347298 \nL 200.605438 135.158494 \nL 210.349618 136.922727 \nL 220.093797 136.061424 \n\" style=\"fill:none;stroke:#1f77b4;stroke-linecap:square;stroke-width:1.5;\"/>\n   </g>\n   <g id=\"line2d_125\">\n    <path clip-path=\"url(#p2e576c6e08)\" d=\"M 49.633125 97.588369 \nL 69.163125 101.441907 \nL 88.693125 115.306669 \nL 108.223125 78.466697 \nL 127.753125 118.336566 \nL 147.283125 112.870417 \nL 166.813125 119.653975 \nL 186.343125 122.126659 \nL 205.873125 121.831934 \nL 225.403125 116.680147 \n\" style=\"fill:none;stroke:#ff7f0e;stroke-dasharray:5.55,2.4;stroke-dashoffset:0;stroke-width:1.5;\"/>\n   </g>\n   <g id=\"line2d_126\">\n    <path clip-path=\"url(#p2e576c6e08)\" d=\"M 49.633125 22.920185 \nL 69.163125 20.530652 \nL 88.693125 16.893082 \nL 108.223125 30.134443 \nL 127.753125 14.944928 \nL 147.283125 17.410561 \nL 166.813125 14.564429 \nL 186.343125 13.422933 \nL 205.873125 13.377273 \nL 225.403125 14.32091 \n\" style=\"fill:none;stroke:#2ca02c;stroke-dasharray:9.6,2.4,1.5,2.4;stroke-dashoffset:0;stroke-width:1.5;\"/>\n   </g>\n   <g id=\"patch_3\">\n    <path d=\"M 30.103125 143.1 \nL 30.103125 7.2 \n\" style=\"fill:none;stroke:#000000;stroke-linecap:square;stroke-linejoin:miter;stroke-width:0.8;\"/>\n   </g>\n   <g id=\"patch_4\">\n    <path d=\"M 225.403125 143.1 \nL 225.403125 7.2 \n\" style=\"fill:none;stroke:#000000;stroke-linecap:square;stroke-linejoin:miter;stroke-width:0.8;\"/>\n   </g>\n   <g id=\"patch_5\">\n    <path d=\"M 30.103125 143.1 \nL 225.403125 143.1 \n\" style=\"fill:none;stroke:#000000;stroke-linecap:square;stroke-linejoin:miter;stroke-width:0.8;\"/>\n   </g>\n   <g id=\"patch_6\">\n    <path d=\"M 30.103125 7.2 \nL 225.403125 7.2 \n\" style=\"fill:none;stroke:#000000;stroke-linecap:square;stroke-linejoin:miter;stroke-width:0.8;\"/>\n   </g>\n   <g id=\"legend_1\">\n    <g id=\"patch_7\">\n     <path d=\"M 138.8125 99.084375 \nL 218.403125 99.084375 \nQ 220.403125 99.084375 220.403125 97.084375 \nL 220.403125 53.215625 \nQ 220.403125 51.215625 218.403125 51.215625 \nL 138.8125 51.215625 \nQ 136.8125 51.215625 136.8125 53.215625 \nL 136.8125 97.084375 \nQ 136.8125 99.084375 138.8125 99.084375 \nz\n\" style=\"fill:#ffffff;opacity:0.8;stroke:#cccccc;stroke-linejoin:miter;\"/>\n    </g>\n    <g id=\"line2d_127\">\n     <path d=\"M 140.8125 59.314062 \nL 160.8125 59.314062 \n\" style=\"fill:none;stroke:#1f77b4;stroke-linecap:square;stroke-width:1.5;\"/>\n    </g>\n    <g id=\"line2d_128\"/>\n    <g id=\"text_12\">\n     <!-- train_loss -->\n     <defs>\n      <path d=\"M 18.3125 70.21875 \nL 18.3125 54.6875 \nL 36.8125 54.6875 \nL 36.8125 47.703125 \nL 18.3125 47.703125 \nL 18.3125 18.015625 \nQ 18.3125 11.328125 20.140625 9.421875 \nQ 21.96875 7.515625 27.59375 7.515625 \nL 36.8125 7.515625 \nL 36.8125 0 \nL 27.59375 0 \nQ 17.1875 0 13.234375 3.875 \nQ 9.28125 7.765625 9.28125 18.015625 \nL 9.28125 47.703125 \nL 2.6875 47.703125 \nL 2.6875 54.6875 \nL 9.28125 54.6875 \nL 9.28125 70.21875 \nz\n\" id=\"DejaVuSans-116\"/>\n      <path d=\"M 41.109375 46.296875 \nQ 39.59375 47.171875 37.8125 47.578125 \nQ 36.03125 48 33.890625 48 \nQ 26.265625 48 22.1875 43.046875 \nQ 18.109375 38.09375 18.109375 28.8125 \nL 18.109375 0 \nL 9.078125 0 \nL 9.078125 54.6875 \nL 18.109375 54.6875 \nL 18.109375 46.1875 \nQ 20.953125 51.171875 25.484375 53.578125 \nQ 30.03125 56 36.53125 56 \nQ 37.453125 56 38.578125 55.875 \nQ 39.703125 55.765625 41.0625 55.515625 \nz\n\" id=\"DejaVuSans-114\"/>\n      <path d=\"M 34.28125 27.484375 \nQ 23.390625 27.484375 19.1875 25 \nQ 14.984375 22.515625 14.984375 16.5 \nQ 14.984375 11.71875 18.140625 8.90625 \nQ 21.296875 6.109375 26.703125 6.109375 \nQ 34.1875 6.109375 38.703125 11.40625 \nQ 43.21875 16.703125 43.21875 25.484375 \nL 43.21875 27.484375 \nz\nM 52.203125 31.203125 \nL 52.203125 0 \nL 43.21875 0 \nL 43.21875 8.296875 \nQ 40.140625 3.328125 35.546875 0.953125 \nQ 30.953125 -1.421875 24.3125 -1.421875 \nQ 15.921875 -1.421875 10.953125 3.296875 \nQ 6 8.015625 6 15.921875 \nQ 6 25.140625 12.171875 29.828125 \nQ 18.359375 34.515625 30.609375 34.515625 \nL 43.21875 34.515625 \nL 43.21875 35.40625 \nQ 43.21875 41.609375 39.140625 45 \nQ 35.0625 48.390625 27.6875 48.390625 \nQ 23 48.390625 18.546875 47.265625 \nQ 14.109375 46.140625 10.015625 43.890625 \nL 10.015625 52.203125 \nQ 14.9375 54.109375 19.578125 55.046875 \nQ 24.21875 56 28.609375 56 \nQ 40.484375 56 46.34375 49.84375 \nQ 52.203125 43.703125 52.203125 31.203125 \nz\n\" id=\"DejaVuSans-97\"/>\n      <path d=\"M 9.421875 54.6875 \nL 18.40625 54.6875 \nL 18.40625 0 \nL 9.421875 0 \nz\nM 9.421875 75.984375 \nL 18.40625 75.984375 \nL 18.40625 64.59375 \nL 9.421875 64.59375 \nz\n\" id=\"DejaVuSans-105\"/>\n      <path d=\"M 54.890625 33.015625 \nL 54.890625 0 \nL 45.90625 0 \nL 45.90625 32.71875 \nQ 45.90625 40.484375 42.875 44.328125 \nQ 39.84375 48.1875 33.796875 48.1875 \nQ 26.515625 48.1875 22.3125 43.546875 \nQ 18.109375 38.921875 18.109375 30.90625 \nL 18.109375 0 \nL 9.078125 0 \nL 9.078125 54.6875 \nL 18.109375 54.6875 \nL 18.109375 46.1875 \nQ 21.34375 51.125 25.703125 53.5625 \nQ 30.078125 56 35.796875 56 \nQ 45.21875 56 50.046875 50.171875 \nQ 54.890625 44.34375 54.890625 33.015625 \nz\n\" id=\"DejaVuSans-110\"/>\n      <path d=\"M 50.984375 -16.609375 \nL 50.984375 -23.578125 \nL -0.984375 -23.578125 \nL -0.984375 -16.609375 \nz\n\" id=\"DejaVuSans-95\"/>\n      <path d=\"M 9.421875 75.984375 \nL 18.40625 75.984375 \nL 18.40625 0 \nL 9.421875 0 \nz\n\" id=\"DejaVuSans-108\"/>\n      <path d=\"M 44.28125 53.078125 \nL 44.28125 44.578125 \nQ 40.484375 46.53125 36.375 47.5 \nQ 32.28125 48.484375 27.875 48.484375 \nQ 21.1875 48.484375 17.84375 46.4375 \nQ 14.5 44.390625 14.5 40.28125 \nQ 14.5 37.15625 16.890625 35.375 \nQ 19.28125 33.59375 26.515625 31.984375 \nL 29.59375 31.296875 \nQ 39.15625 29.25 43.1875 25.515625 \nQ 47.21875 21.78125 47.21875 15.09375 \nQ 47.21875 7.46875 41.1875 3.015625 \nQ 35.15625 -1.421875 24.609375 -1.421875 \nQ 20.21875 -1.421875 15.453125 -0.5625 \nQ 10.6875 0.296875 5.421875 2 \nL 5.421875 11.28125 \nQ 10.40625 8.6875 15.234375 7.390625 \nQ 20.0625 6.109375 24.8125 6.109375 \nQ 31.15625 6.109375 34.5625 8.28125 \nQ 37.984375 10.453125 37.984375 14.40625 \nQ 37.984375 18.0625 35.515625 20.015625 \nQ 33.0625 21.96875 24.703125 23.78125 \nL 21.578125 24.515625 \nQ 13.234375 26.265625 9.515625 29.90625 \nQ 5.8125 33.546875 5.8125 39.890625 \nQ 5.8125 47.609375 11.28125 51.796875 \nQ 16.75 56 26.8125 56 \nQ 31.78125 56 36.171875 55.265625 \nQ 40.578125 54.546875 44.28125 53.078125 \nz\n\" id=\"DejaVuSans-115\"/>\n     </defs>\n     <g transform=\"translate(168.8125 62.814062)scale(0.1 -0.1)\">\n      <use xlink:href=\"#DejaVuSans-116\"/>\n      <use x=\"39.208984\" xlink:href=\"#DejaVuSans-114\"/>\n      <use x=\"80.322266\" xlink:href=\"#DejaVuSans-97\"/>\n      <use x=\"141.601562\" xlink:href=\"#DejaVuSans-105\"/>\n      <use x=\"169.384766\" xlink:href=\"#DejaVuSans-110\"/>\n      <use x=\"232.763672\" xlink:href=\"#DejaVuSans-95\"/>\n      <use x=\"282.763672\" xlink:href=\"#DejaVuSans-108\"/>\n      <use x=\"310.546875\" xlink:href=\"#DejaVuSans-111\"/>\n      <use x=\"371.728516\" xlink:href=\"#DejaVuSans-115\"/>\n      <use x=\"423.828125\" xlink:href=\"#DejaVuSans-115\"/>\n     </g>\n    </g>\n    <g id=\"line2d_129\">\n     <path d=\"M 140.8125 74.270312 \nL 160.8125 74.270312 \n\" style=\"fill:none;stroke:#ff7f0e;stroke-dasharray:5.55,2.4;stroke-dashoffset:0;stroke-width:1.5;\"/>\n    </g>\n    <g id=\"line2d_130\"/>\n    <g id=\"text_13\">\n     <!-- val_loss -->\n     <defs>\n      <path d=\"M 2.984375 54.6875 \nL 12.5 54.6875 \nL 29.59375 8.796875 \nL 46.6875 54.6875 \nL 56.203125 54.6875 \nL 35.6875 0 \nL 23.484375 0 \nz\n\" id=\"DejaVuSans-118\"/>\n     </defs>\n     <g transform=\"translate(168.8125 77.770312)scale(0.1 -0.1)\">\n      <use xlink:href=\"#DejaVuSans-118\"/>\n      <use x=\"59.179688\" xlink:href=\"#DejaVuSans-97\"/>\n      <use x=\"120.458984\" xlink:href=\"#DejaVuSans-108\"/>\n      <use x=\"148.242188\" xlink:href=\"#DejaVuSans-95\"/>\n      <use x=\"198.242188\" xlink:href=\"#DejaVuSans-108\"/>\n      <use x=\"226.025391\" xlink:href=\"#DejaVuSans-111\"/>\n      <use x=\"287.207031\" xlink:href=\"#DejaVuSans-115\"/>\n      <use x=\"339.306641\" xlink:href=\"#DejaVuSans-115\"/>\n     </g>\n    </g>\n    <g id=\"line2d_131\">\n     <path d=\"M 140.8125 89.226562 \nL 160.8125 89.226562 \n\" style=\"fill:none;stroke:#2ca02c;stroke-dasharray:9.6,2.4,1.5,2.4;stroke-dashoffset:0;stroke-width:1.5;\"/>\n    </g>\n    <g id=\"line2d_132\"/>\n    <g id=\"text_14\">\n     <!-- val_acc -->\n     <g transform=\"translate(168.8125 92.726562)scale(0.1 -0.1)\">\n      <use xlink:href=\"#DejaVuSans-118\"/>\n      <use x=\"59.179688\" xlink:href=\"#DejaVuSans-97\"/>\n      <use x=\"120.458984\" xlink:href=\"#DejaVuSans-108\"/>\n      <use x=\"148.242188\" xlink:href=\"#DejaVuSans-95\"/>\n      <use x=\"198.242188\" xlink:href=\"#DejaVuSans-97\"/>\n      <use x=\"259.521484\" xlink:href=\"#DejaVuSans-99\"/>\n      <use x=\"314.501953\" xlink:href=\"#DejaVuSans-99\"/>\n     </g>\n    </g>\n   </g>\n  </g>\n </g>\n <defs>\n  <clipPath id=\"p2e576c6e08\">\n   <rect height=\"135.9\" width=\"195.3\" x=\"30.103125\" y=\"7.2\"/>\n  </clipPath>\n </defs>\n</svg>\n"
          },
          "metadata": {
            "needs_background": "light"
          }
        }
      ]
    },
    {
      "cell_type": "markdown",
      "source": [
        "## Ex 8.7 : "
      ],
      "metadata": {
        "id": "EcvUNB5r5jXE"
      }
    },
    {
      "cell_type": "markdown",
      "source": [
        "### Q1:"
      ],
      "metadata": {
        "id": "JKGaT3mw5l6U"
      }
    },
    {
      "cell_type": "markdown",
      "source": [
        "let's replace the AvgPool layer with MaxPool layer in transition layer\n",
        "\n",
        "i don't see any discrepancies, performance is still the same, also the graph is much smoother"
      ],
      "metadata": {
        "id": "Uxqs8gtF5nMY"
      }
    },
    {
      "cell_type": "code",
      "source": [
        "#@title Transition block with MaxPool layer\n",
        "def transition_block_MP(num_channels):\n",
        "  return nn.Sequential(\n",
        "      nn.LazyBatchNorm2d(), nn.ReLU(),\n",
        "      nn.LazyConv2d(num_channels, kernel_size=1),\n",
        "      nn.MaxPool2d(kernel_size=2, stride=2)\n",
        "  )"
      ],
      "metadata": {
        "id": "nACTCGVWW20c"
      },
      "execution_count": 8,
      "outputs": []
    },
    {
      "cell_type": "code",
      "source": [
        "blk = DenseBlock(num_convs=2, num_channels=10)\n",
        "X = torch.rand(4, 3, 6, 6)\n",
        "Y = blk(X)\n",
        "print(Y.shape)"
      ],
      "metadata": {
        "colab": {
          "base_uri": "https://localhost:8080/"
        },
        "id": "kqPJBeCx5-45",
        "outputId": "00d77252-5023-43a8-d6cc-73094c2caee0"
      },
      "execution_count": 14,
      "outputs": [
        {
          "output_type": "stream",
          "name": "stdout",
          "text": [
            "torch.Size([4, 23, 6, 6])\n"
          ]
        },
        {
          "output_type": "stream",
          "name": "stderr",
          "text": [
            "/usr/local/lib/python3.8/dist-packages/torch/nn/modules/lazy.py:180: UserWarning: Lazy modules are a new feature under heavy development so changes to the API or functionality can happen at any moment.\n",
            "  warnings.warn('Lazy modules are a new feature under heavy development '\n"
          ]
        }
      ]
    },
    {
      "cell_type": "code",
      "source": [
        "blk = transition_block_MP(10)\n",
        "blk(Y).shape"
      ],
      "metadata": {
        "colab": {
          "base_uri": "https://localhost:8080/"
        },
        "id": "Qe9buT6y6MLi",
        "outputId": "f087f057-2edd-4f68-8431-1e680da13a7e"
      },
      "execution_count": 15,
      "outputs": [
        {
          "output_type": "stream",
          "name": "stderr",
          "text": [
            "/usr/local/lib/python3.8/dist-packages/torch/nn/modules/lazy.py:180: UserWarning: Lazy modules are a new feature under heavy development so changes to the API or functionality can happen at any moment.\n",
            "  warnings.warn('Lazy modules are a new feature under heavy development '\n"
          ]
        },
        {
          "output_type": "execute_result",
          "data": {
            "text/plain": [
              "torch.Size([4, 10, 3, 3])"
            ]
          },
          "metadata": {},
          "execution_count": 15
        }
      ]
    },
    {
      "cell_type": "code",
      "source": [
        "class DenseNet1(d2l.Classifier):\n",
        "\n",
        "  def __init__(self, num_channels=64, growth_rate=32, arch=(4, 4, 4, 4), lr=0.1, num_classes=10):\n",
        "    super().__init__()\n",
        "    self.save_hyperparameters()\n",
        "    self.net = nn.Sequential(self.b1())\n",
        "\n",
        "    for i, num_convs in enumerate(arch):\n",
        "      self.net.add_module(f\"dense_blk{i+1}\", DenseBlock(num_convs, growth_rate))\n",
        "\n",
        "      num_channels += growth_rate * num_convs\n",
        "\n",
        "      if i != len(arch)-1:\n",
        "        num_channels = num_channels // 2\n",
        "        self.net.add_module(f\"trans_blk{i+1}\", transition_block_MP(num_channels))\n",
        "\n",
        "    self.net.add_module('last', nn.Sequential(\n",
        "        nn.LazyBatchNorm2d(), nn.ReLU(),\n",
        "        nn.AdaptiveAvgPool2d((1, 1)), nn.Flatten(),\n",
        "        nn.LazyLinear(num_classes)\n",
        "    ))\n",
        "\n",
        "    self.net.apply(d2l.init_cnn)\n",
        "\n",
        "  def b1(self):\n",
        "    return nn.Sequential(\n",
        "        nn.LazyConv2d(64, kernel_size=7, padding=3, stride=2), nn.LazyBatchNorm2d(), nn.ReLU(),\n",
        "        nn.MaxPool2d(kernel_size=3, stride=2, padding=1)\n",
        "    )\n",
        "\n",
        "  def forward(self, X):\n",
        "    return self.net(X)"
      ],
      "metadata": {
        "id": "dPsnAe7P6WYo"
      },
      "execution_count": 9,
      "outputs": []
    },
    {
      "cell_type": "markdown",
      "source": [
        "using gpu : time = 6min 1sec"
      ],
      "metadata": {
        "id": "kYaL0mS29TEu"
      }
    },
    {
      "cell_type": "code",
      "source": [
        "model = DenseNet1(lr=0.1)\n",
        "trainer = d2l.Trainer(max_epochs=10, num_gpus=1)\n",
        "data = d2l.FashionMNIST(batch_size=128, resize=(96, 96))\n",
        "trainer.fit(model, data)"
      ],
      "metadata": {
        "colab": {
          "base_uri": "https://localhost:8080/",
          "height": 262
        },
        "id": "DKQ07xaw8AQZ",
        "outputId": "88d92dc0-4171-4e2c-e448-b5a66aa84ecc"
      },
      "execution_count": 17,
      "outputs": [
        {
          "output_type": "display_data",
          "data": {
            "text/plain": [
              "<Figure size 252x180 with 1 Axes>"
            ],
            "image/svg+xml": "<?xml version=\"1.0\" encoding=\"utf-8\" standalone=\"no\"?>\n<!DOCTYPE svg PUBLIC \"-//W3C//DTD SVG 1.1//EN\"\n  \"http://www.w3.org/Graphics/SVG/1.1/DTD/svg11.dtd\">\n<!-- Created with matplotlib (https://matplotlib.org/) -->\n<svg height=\"180.65625pt\" version=\"1.1\" viewBox=\"0 0 238.965625 180.65625\" width=\"238.965625pt\" xmlns=\"http://www.w3.org/2000/svg\" xmlns:xlink=\"http://www.w3.org/1999/xlink\">\n <defs>\n  <style type=\"text/css\">\n*{stroke-linecap:butt;stroke-linejoin:round;}\n  </style>\n </defs>\n <g id=\"figure_1\">\n  <g id=\"patch_1\">\n   <path d=\"M 0 180.65625 \nL 238.965625 180.65625 \nL 238.965625 0 \nL 0 0 \nz\n\" style=\"fill:none;\"/>\n  </g>\n  <g id=\"axes_1\">\n   <g id=\"patch_2\">\n    <path d=\"M 30.103125 143.1 \nL 225.403125 143.1 \nL 225.403125 7.2 \nL 30.103125 7.2 \nz\n\" style=\"fill:#ffffff;\"/>\n   </g>\n   <g id=\"matplotlib.axis_1\">\n    <g id=\"xtick_1\">\n     <g id=\"line2d_1\">\n      <defs>\n       <path d=\"M 0 0 \nL 0 3.5 \n\" id=\"m271f7e8409\" style=\"stroke:#000000;stroke-width:0.8;\"/>\n      </defs>\n      <g>\n       <use style=\"stroke:#000000;stroke-width:0.8;\" x=\"30.103125\" xlink:href=\"#m271f7e8409\" y=\"143.1\"/>\n      </g>\n     </g>\n     <g id=\"text_1\">\n      <!-- 0 -->\n      <defs>\n       <path d=\"M 31.78125 66.40625 \nQ 24.171875 66.40625 20.328125 58.90625 \nQ 16.5 51.421875 16.5 36.375 \nQ 16.5 21.390625 20.328125 13.890625 \nQ 24.171875 6.390625 31.78125 6.390625 \nQ 39.453125 6.390625 43.28125 13.890625 \nQ 47.125 21.390625 47.125 36.375 \nQ 47.125 51.421875 43.28125 58.90625 \nQ 39.453125 66.40625 31.78125 66.40625 \nz\nM 31.78125 74.21875 \nQ 44.046875 74.21875 50.515625 64.515625 \nQ 56.984375 54.828125 56.984375 36.375 \nQ 56.984375 17.96875 50.515625 8.265625 \nQ 44.046875 -1.421875 31.78125 -1.421875 \nQ 19.53125 -1.421875 13.0625 8.265625 \nQ 6.59375 17.96875 6.59375 36.375 \nQ 6.59375 54.828125 13.0625 64.515625 \nQ 19.53125 74.21875 31.78125 74.21875 \nz\n\" id=\"DejaVuSans-48\"/>\n      </defs>\n      <g transform=\"translate(26.921875 157.698438)scale(0.1 -0.1)\">\n       <use xlink:href=\"#DejaVuSans-48\"/>\n      </g>\n     </g>\n    </g>\n    <g id=\"xtick_2\">\n     <g id=\"line2d_2\">\n      <g>\n       <use style=\"stroke:#000000;stroke-width:0.8;\" x=\"69.163125\" xlink:href=\"#m271f7e8409\" y=\"143.1\"/>\n      </g>\n     </g>\n     <g id=\"text_2\">\n      <!-- 2 -->\n      <defs>\n       <path d=\"M 19.1875 8.296875 \nL 53.609375 8.296875 \nL 53.609375 0 \nL 7.328125 0 \nL 7.328125 8.296875 \nQ 12.9375 14.109375 22.625 23.890625 \nQ 32.328125 33.6875 34.8125 36.53125 \nQ 39.546875 41.84375 41.421875 45.53125 \nQ 43.3125 49.21875 43.3125 52.78125 \nQ 43.3125 58.59375 39.234375 62.25 \nQ 35.15625 65.921875 28.609375 65.921875 \nQ 23.96875 65.921875 18.8125 64.3125 \nQ 13.671875 62.703125 7.8125 59.421875 \nL 7.8125 69.390625 \nQ 13.765625 71.78125 18.9375 73 \nQ 24.125 74.21875 28.421875 74.21875 \nQ 39.75 74.21875 46.484375 68.546875 \nQ 53.21875 62.890625 53.21875 53.421875 \nQ 53.21875 48.921875 51.53125 44.890625 \nQ 49.859375 40.875 45.40625 35.40625 \nQ 44.1875 33.984375 37.640625 27.21875 \nQ 31.109375 20.453125 19.1875 8.296875 \nz\n\" id=\"DejaVuSans-50\"/>\n      </defs>\n      <g transform=\"translate(65.981875 157.698438)scale(0.1 -0.1)\">\n       <use xlink:href=\"#DejaVuSans-50\"/>\n      </g>\n     </g>\n    </g>\n    <g id=\"xtick_3\">\n     <g id=\"line2d_3\">\n      <g>\n       <use style=\"stroke:#000000;stroke-width:0.8;\" x=\"108.223125\" xlink:href=\"#m271f7e8409\" y=\"143.1\"/>\n      </g>\n     </g>\n     <g id=\"text_3\">\n      <!-- 4 -->\n      <defs>\n       <path d=\"M 37.796875 64.3125 \nL 12.890625 25.390625 \nL 37.796875 25.390625 \nz\nM 35.203125 72.90625 \nL 47.609375 72.90625 \nL 47.609375 25.390625 \nL 58.015625 25.390625 \nL 58.015625 17.1875 \nL 47.609375 17.1875 \nL 47.609375 0 \nL 37.796875 0 \nL 37.796875 17.1875 \nL 4.890625 17.1875 \nL 4.890625 26.703125 \nz\n\" id=\"DejaVuSans-52\"/>\n      </defs>\n      <g transform=\"translate(105.041875 157.698438)scale(0.1 -0.1)\">\n       <use xlink:href=\"#DejaVuSans-52\"/>\n      </g>\n     </g>\n    </g>\n    <g id=\"xtick_4\">\n     <g id=\"line2d_4\">\n      <g>\n       <use style=\"stroke:#000000;stroke-width:0.8;\" x=\"147.283125\" xlink:href=\"#m271f7e8409\" y=\"143.1\"/>\n      </g>\n     </g>\n     <g id=\"text_4\">\n      <!-- 6 -->\n      <defs>\n       <path d=\"M 33.015625 40.375 \nQ 26.375 40.375 22.484375 35.828125 \nQ 18.609375 31.296875 18.609375 23.390625 \nQ 18.609375 15.53125 22.484375 10.953125 \nQ 26.375 6.390625 33.015625 6.390625 \nQ 39.65625 6.390625 43.53125 10.953125 \nQ 47.40625 15.53125 47.40625 23.390625 \nQ 47.40625 31.296875 43.53125 35.828125 \nQ 39.65625 40.375 33.015625 40.375 \nz\nM 52.59375 71.296875 \nL 52.59375 62.3125 \nQ 48.875 64.0625 45.09375 64.984375 \nQ 41.3125 65.921875 37.59375 65.921875 \nQ 27.828125 65.921875 22.671875 59.328125 \nQ 17.53125 52.734375 16.796875 39.40625 \nQ 19.671875 43.65625 24.015625 45.921875 \nQ 28.375 48.1875 33.59375 48.1875 \nQ 44.578125 48.1875 50.953125 41.515625 \nQ 57.328125 34.859375 57.328125 23.390625 \nQ 57.328125 12.15625 50.6875 5.359375 \nQ 44.046875 -1.421875 33.015625 -1.421875 \nQ 20.359375 -1.421875 13.671875 8.265625 \nQ 6.984375 17.96875 6.984375 36.375 \nQ 6.984375 53.65625 15.1875 63.9375 \nQ 23.390625 74.21875 37.203125 74.21875 \nQ 40.921875 74.21875 44.703125 73.484375 \nQ 48.484375 72.75 52.59375 71.296875 \nz\n\" id=\"DejaVuSans-54\"/>\n      </defs>\n      <g transform=\"translate(144.101875 157.698438)scale(0.1 -0.1)\">\n       <use xlink:href=\"#DejaVuSans-54\"/>\n      </g>\n     </g>\n    </g>\n    <g id=\"xtick_5\">\n     <g id=\"line2d_5\">\n      <g>\n       <use style=\"stroke:#000000;stroke-width:0.8;\" x=\"186.343125\" xlink:href=\"#m271f7e8409\" y=\"143.1\"/>\n      </g>\n     </g>\n     <g id=\"text_5\">\n      <!-- 8 -->\n      <defs>\n       <path d=\"M 31.78125 34.625 \nQ 24.75 34.625 20.71875 30.859375 \nQ 16.703125 27.09375 16.703125 20.515625 \nQ 16.703125 13.921875 20.71875 10.15625 \nQ 24.75 6.390625 31.78125 6.390625 \nQ 38.8125 6.390625 42.859375 10.171875 \nQ 46.921875 13.96875 46.921875 20.515625 \nQ 46.921875 27.09375 42.890625 30.859375 \nQ 38.875 34.625 31.78125 34.625 \nz\nM 21.921875 38.8125 \nQ 15.578125 40.375 12.03125 44.71875 \nQ 8.5 49.078125 8.5 55.328125 \nQ 8.5 64.0625 14.71875 69.140625 \nQ 20.953125 74.21875 31.78125 74.21875 \nQ 42.671875 74.21875 48.875 69.140625 \nQ 55.078125 64.0625 55.078125 55.328125 \nQ 55.078125 49.078125 51.53125 44.71875 \nQ 48 40.375 41.703125 38.8125 \nQ 48.828125 37.15625 52.796875 32.3125 \nQ 56.78125 27.484375 56.78125 20.515625 \nQ 56.78125 9.90625 50.3125 4.234375 \nQ 43.84375 -1.421875 31.78125 -1.421875 \nQ 19.734375 -1.421875 13.25 4.234375 \nQ 6.78125 9.90625 6.78125 20.515625 \nQ 6.78125 27.484375 10.78125 32.3125 \nQ 14.796875 37.15625 21.921875 38.8125 \nz\nM 18.3125 54.390625 \nQ 18.3125 48.734375 21.84375 45.5625 \nQ 25.390625 42.390625 31.78125 42.390625 \nQ 38.140625 42.390625 41.71875 45.5625 \nQ 45.3125 48.734375 45.3125 54.390625 \nQ 45.3125 60.0625 41.71875 63.234375 \nQ 38.140625 66.40625 31.78125 66.40625 \nQ 25.390625 66.40625 21.84375 63.234375 \nQ 18.3125 60.0625 18.3125 54.390625 \nz\n\" id=\"DejaVuSans-56\"/>\n      </defs>\n      <g transform=\"translate(183.161875 157.698438)scale(0.1 -0.1)\">\n       <use xlink:href=\"#DejaVuSans-56\"/>\n      </g>\n     </g>\n    </g>\n    <g id=\"xtick_6\">\n     <g id=\"line2d_6\">\n      <g>\n       <use style=\"stroke:#000000;stroke-width:0.8;\" x=\"225.403125\" xlink:href=\"#m271f7e8409\" y=\"143.1\"/>\n      </g>\n     </g>\n     <g id=\"text_6\">\n      <!-- 10 -->\n      <defs>\n       <path d=\"M 12.40625 8.296875 \nL 28.515625 8.296875 \nL 28.515625 63.921875 \nL 10.984375 60.40625 \nL 10.984375 69.390625 \nL 28.421875 72.90625 \nL 38.28125 72.90625 \nL 38.28125 8.296875 \nL 54.390625 8.296875 \nL 54.390625 0 \nL 12.40625 0 \nz\n\" id=\"DejaVuSans-49\"/>\n      </defs>\n      <g transform=\"translate(219.040625 157.698438)scale(0.1 -0.1)\">\n       <use xlink:href=\"#DejaVuSans-49\"/>\n       <use x=\"63.623047\" xlink:href=\"#DejaVuSans-48\"/>\n      </g>\n     </g>\n    </g>\n    <g id=\"text_7\">\n     <!-- epoch -->\n     <defs>\n      <path d=\"M 56.203125 29.59375 \nL 56.203125 25.203125 \nL 14.890625 25.203125 \nQ 15.484375 15.921875 20.484375 11.0625 \nQ 25.484375 6.203125 34.421875 6.203125 \nQ 39.59375 6.203125 44.453125 7.46875 \nQ 49.3125 8.734375 54.109375 11.28125 \nL 54.109375 2.78125 \nQ 49.265625 0.734375 44.1875 -0.34375 \nQ 39.109375 -1.421875 33.890625 -1.421875 \nQ 20.796875 -1.421875 13.15625 6.1875 \nQ 5.515625 13.8125 5.515625 26.8125 \nQ 5.515625 40.234375 12.765625 48.109375 \nQ 20.015625 56 32.328125 56 \nQ 43.359375 56 49.78125 48.890625 \nQ 56.203125 41.796875 56.203125 29.59375 \nz\nM 47.21875 32.234375 \nQ 47.125 39.59375 43.09375 43.984375 \nQ 39.0625 48.390625 32.421875 48.390625 \nQ 24.90625 48.390625 20.390625 44.140625 \nQ 15.875 39.890625 15.1875 32.171875 \nz\n\" id=\"DejaVuSans-101\"/>\n      <path d=\"M 18.109375 8.203125 \nL 18.109375 -20.796875 \nL 9.078125 -20.796875 \nL 9.078125 54.6875 \nL 18.109375 54.6875 \nL 18.109375 46.390625 \nQ 20.953125 51.265625 25.265625 53.625 \nQ 29.59375 56 35.59375 56 \nQ 45.5625 56 51.78125 48.09375 \nQ 58.015625 40.1875 58.015625 27.296875 \nQ 58.015625 14.40625 51.78125 6.484375 \nQ 45.5625 -1.421875 35.59375 -1.421875 \nQ 29.59375 -1.421875 25.265625 0.953125 \nQ 20.953125 3.328125 18.109375 8.203125 \nz\nM 48.6875 27.296875 \nQ 48.6875 37.203125 44.609375 42.84375 \nQ 40.53125 48.484375 33.40625 48.484375 \nQ 26.265625 48.484375 22.1875 42.84375 \nQ 18.109375 37.203125 18.109375 27.296875 \nQ 18.109375 17.390625 22.1875 11.75 \nQ 26.265625 6.109375 33.40625 6.109375 \nQ 40.53125 6.109375 44.609375 11.75 \nQ 48.6875 17.390625 48.6875 27.296875 \nz\n\" id=\"DejaVuSans-112\"/>\n      <path d=\"M 30.609375 48.390625 \nQ 23.390625 48.390625 19.1875 42.75 \nQ 14.984375 37.109375 14.984375 27.296875 \nQ 14.984375 17.484375 19.15625 11.84375 \nQ 23.34375 6.203125 30.609375 6.203125 \nQ 37.796875 6.203125 41.984375 11.859375 \nQ 46.1875 17.53125 46.1875 27.296875 \nQ 46.1875 37.015625 41.984375 42.703125 \nQ 37.796875 48.390625 30.609375 48.390625 \nz\nM 30.609375 56 \nQ 42.328125 56 49.015625 48.375 \nQ 55.71875 40.765625 55.71875 27.296875 \nQ 55.71875 13.875 49.015625 6.21875 \nQ 42.328125 -1.421875 30.609375 -1.421875 \nQ 18.84375 -1.421875 12.171875 6.21875 \nQ 5.515625 13.875 5.515625 27.296875 \nQ 5.515625 40.765625 12.171875 48.375 \nQ 18.84375 56 30.609375 56 \nz\n\" id=\"DejaVuSans-111\"/>\n      <path d=\"M 48.78125 52.59375 \nL 48.78125 44.1875 \nQ 44.96875 46.296875 41.140625 47.34375 \nQ 37.3125 48.390625 33.40625 48.390625 \nQ 24.65625 48.390625 19.8125 42.84375 \nQ 14.984375 37.3125 14.984375 27.296875 \nQ 14.984375 17.28125 19.8125 11.734375 \nQ 24.65625 6.203125 33.40625 6.203125 \nQ 37.3125 6.203125 41.140625 7.25 \nQ 44.96875 8.296875 48.78125 10.40625 \nL 48.78125 2.09375 \nQ 45.015625 0.34375 40.984375 -0.53125 \nQ 36.96875 -1.421875 32.421875 -1.421875 \nQ 20.0625 -1.421875 12.78125 6.34375 \nQ 5.515625 14.109375 5.515625 27.296875 \nQ 5.515625 40.671875 12.859375 48.328125 \nQ 20.21875 56 33.015625 56 \nQ 37.15625 56 41.109375 55.140625 \nQ 45.0625 54.296875 48.78125 52.59375 \nz\n\" id=\"DejaVuSans-99\"/>\n      <path d=\"M 54.890625 33.015625 \nL 54.890625 0 \nL 45.90625 0 \nL 45.90625 32.71875 \nQ 45.90625 40.484375 42.875 44.328125 \nQ 39.84375 48.1875 33.796875 48.1875 \nQ 26.515625 48.1875 22.3125 43.546875 \nQ 18.109375 38.921875 18.109375 30.90625 \nL 18.109375 0 \nL 9.078125 0 \nL 9.078125 75.984375 \nL 18.109375 75.984375 \nL 18.109375 46.1875 \nQ 21.34375 51.125 25.703125 53.5625 \nQ 30.078125 56 35.796875 56 \nQ 45.21875 56 50.046875 50.171875 \nQ 54.890625 44.34375 54.890625 33.015625 \nz\n\" id=\"DejaVuSans-104\"/>\n     </defs>\n     <g transform=\"translate(112.525 171.376563)scale(0.1 -0.1)\">\n      <use xlink:href=\"#DejaVuSans-101\"/>\n      <use x=\"61.523438\" xlink:href=\"#DejaVuSans-112\"/>\n      <use x=\"125\" xlink:href=\"#DejaVuSans-111\"/>\n      <use x=\"186.181641\" xlink:href=\"#DejaVuSans-99\"/>\n      <use x=\"241.162109\" xlink:href=\"#DejaVuSans-104\"/>\n     </g>\n    </g>\n   </g>\n   <g id=\"matplotlib.axis_2\">\n    <g id=\"ytick_1\">\n     <g id=\"line2d_7\">\n      <defs>\n       <path d=\"M 0 0 \nL -3.5 0 \n\" id=\"m8ede2ce653\" style=\"stroke:#000000;stroke-width:0.8;\"/>\n      </defs>\n      <g>\n       <use style=\"stroke:#000000;stroke-width:0.8;\" x=\"30.103125\" xlink:href=\"#m8ede2ce653\" y=\"120.493402\"/>\n      </g>\n     </g>\n     <g id=\"text_8\">\n      <!-- 0.2 -->\n      <defs>\n       <path d=\"M 10.6875 12.40625 \nL 21 12.40625 \nL 21 0 \nL 10.6875 0 \nz\n\" id=\"DejaVuSans-46\"/>\n      </defs>\n      <g transform=\"translate(7.2 124.292621)scale(0.1 -0.1)\">\n       <use xlink:href=\"#DejaVuSans-48\"/>\n       <use x=\"63.623047\" xlink:href=\"#DejaVuSans-46\"/>\n       <use x=\"95.410156\" xlink:href=\"#DejaVuSans-50\"/>\n      </g>\n     </g>\n    </g>\n    <g id=\"ytick_2\">\n     <g id=\"line2d_8\">\n      <g>\n       <use style=\"stroke:#000000;stroke-width:0.8;\" x=\"30.103125\" xlink:href=\"#m8ede2ce653\" y=\"90.961849\"/>\n      </g>\n     </g>\n     <g id=\"text_9\">\n      <!-- 0.4 -->\n      <g transform=\"translate(7.2 94.761068)scale(0.1 -0.1)\">\n       <use xlink:href=\"#DejaVuSans-48\"/>\n       <use x=\"63.623047\" xlink:href=\"#DejaVuSans-46\"/>\n       <use x=\"95.410156\" xlink:href=\"#DejaVuSans-52\"/>\n      </g>\n     </g>\n    </g>\n    <g id=\"ytick_3\">\n     <g id=\"line2d_9\">\n      <g>\n       <use style=\"stroke:#000000;stroke-width:0.8;\" x=\"30.103125\" xlink:href=\"#m8ede2ce653\" y=\"61.430296\"/>\n      </g>\n     </g>\n     <g id=\"text_10\">\n      <!-- 0.6 -->\n      <g transform=\"translate(7.2 65.229515)scale(0.1 -0.1)\">\n       <use xlink:href=\"#DejaVuSans-48\"/>\n       <use x=\"63.623047\" xlink:href=\"#DejaVuSans-46\"/>\n       <use x=\"95.410156\" xlink:href=\"#DejaVuSans-54\"/>\n      </g>\n     </g>\n    </g>\n    <g id=\"ytick_4\">\n     <g id=\"line2d_10\">\n      <g>\n       <use style=\"stroke:#000000;stroke-width:0.8;\" x=\"30.103125\" xlink:href=\"#m8ede2ce653\" y=\"31.898743\"/>\n      </g>\n     </g>\n     <g id=\"text_11\">\n      <!-- 0.8 -->\n      <g transform=\"translate(7.2 35.697962)scale(0.1 -0.1)\">\n       <use xlink:href=\"#DejaVuSans-48\"/>\n       <use x=\"63.623047\" xlink:href=\"#DejaVuSans-46\"/>\n       <use x=\"95.410156\" xlink:href=\"#DejaVuSans-56\"/>\n      </g>\n     </g>\n    </g>\n   </g>\n   <g id=\"line2d_11\">\n    <path clip-path=\"url(#p84e8809e0c)\" d=\"M 34.954394 76.160012 \n\" style=\"fill:none;stroke:#1f77b4;stroke-linecap:square;stroke-width:1.5;\"/>\n   </g>\n   <g id=\"line2d_12\">\n    <path clip-path=\"url(#p84e8809e0c)\" d=\"M 34.954394 76.160012 \nL 44.698573 106.03858 \n\" style=\"fill:none;stroke:#1f77b4;stroke-linecap:square;stroke-width:1.5;\"/>\n   </g>\n   <g id=\"line2d_13\">\n    <path clip-path=\"url(#p84e8809e0c)\" d=\"M 34.954394 76.160012 \nL 44.698573 106.03858 \n\" style=\"fill:none;stroke:#1f77b4;stroke-linecap:square;stroke-width:1.5;\"/>\n   </g>\n   <g id=\"line2d_14\">\n    <path clip-path=\"url(#p84e8809e0c)\" d=\"M 49.633125 99.980645 \n\" style=\"fill:none;stroke:#ff7f0e;stroke-dasharray:5.55,2.4;stroke-dashoffset:0;stroke-width:1.5;\"/>\n   </g>\n   <g id=\"line2d_15\"/>\n   <g id=\"line2d_16\">\n    <path clip-path=\"url(#p84e8809e0c)\" d=\"M 34.954394 76.160012 \nL 44.698573 106.03858 \n\" style=\"fill:none;stroke:#1f77b4;stroke-linecap:square;stroke-width:1.5;\"/>\n   </g>\n   <g id=\"line2d_17\">\n    <path clip-path=\"url(#p84e8809e0c)\" d=\"M 49.633125 99.980645 \n\" style=\"fill:none;stroke:#ff7f0e;stroke-dasharray:5.55,2.4;stroke-dashoffset:0;stroke-width:1.5;\"/>\n   </g>\n   <g id=\"line2d_18\">\n    <path clip-path=\"url(#p84e8809e0c)\" d=\"M 49.633125 20.707593 \n\" style=\"fill:none;stroke:#2ca02c;stroke-dasharray:9.6,2.4,1.5,2.4;stroke-dashoffset:0;stroke-width:1.5;\"/>\n   </g>\n   <g id=\"line2d_19\">\n    <path clip-path=\"url(#p84e8809e0c)\" d=\"M 34.954394 76.160012 \nL 44.698573 106.03858 \nL 54.442752 112.161568 \n\" style=\"fill:none;stroke:#1f77b4;stroke-linecap:square;stroke-width:1.5;\"/>\n   </g>\n   <g id=\"line2d_20\">\n    <path clip-path=\"url(#p84e8809e0c)\" d=\"M 49.633125 99.980645 \n\" style=\"fill:none;stroke:#ff7f0e;stroke-dasharray:5.55,2.4;stroke-dashoffset:0;stroke-width:1.5;\"/>\n   </g>\n   <g id=\"line2d_21\">\n    <path clip-path=\"url(#p84e8809e0c)\" d=\"M 49.633125 20.707593 \n\" style=\"fill:none;stroke:#2ca02c;stroke-dasharray:9.6,2.4,1.5,2.4;stroke-dashoffset:0;stroke-width:1.5;\"/>\n   </g>\n   <g id=\"line2d_22\">\n    <path clip-path=\"url(#p84e8809e0c)\" d=\"M 34.954394 76.160012 \nL 44.698573 106.03858 \nL 54.442752 112.161568 \nL 64.186931 114.867425 \n\" style=\"fill:none;stroke:#1f77b4;stroke-linecap:square;stroke-width:1.5;\"/>\n   </g>\n   <g id=\"line2d_23\">\n    <path clip-path=\"url(#p84e8809e0c)\" d=\"M 49.633125 99.980645 \n\" style=\"fill:none;stroke:#ff7f0e;stroke-dasharray:5.55,2.4;stroke-dashoffset:0;stroke-width:1.5;\"/>\n   </g>\n   <g id=\"line2d_24\">\n    <path clip-path=\"url(#p84e8809e0c)\" d=\"M 49.633125 20.707593 \n\" style=\"fill:none;stroke:#2ca02c;stroke-dasharray:9.6,2.4,1.5,2.4;stroke-dashoffset:0;stroke-width:1.5;\"/>\n   </g>\n   <g id=\"line2d_25\">\n    <path clip-path=\"url(#p84e8809e0c)\" d=\"M 34.954394 76.160012 \nL 44.698573 106.03858 \nL 54.442752 112.161568 \nL 64.186931 114.867425 \n\" style=\"fill:none;stroke:#1f77b4;stroke-linecap:square;stroke-width:1.5;\"/>\n   </g>\n   <g id=\"line2d_26\">\n    <path clip-path=\"url(#p84e8809e0c)\" d=\"M 49.633125 99.980645 \nL 69.163125 109.173501 \n\" style=\"fill:none;stroke:#ff7f0e;stroke-dasharray:5.55,2.4;stroke-dashoffset:0;stroke-width:1.5;\"/>\n   </g>\n   <g id=\"line2d_27\">\n    <path clip-path=\"url(#p84e8809e0c)\" d=\"M 49.633125 20.707593 \n\" style=\"fill:none;stroke:#2ca02c;stroke-dasharray:9.6,2.4,1.5,2.4;stroke-dashoffset:0;stroke-width:1.5;\"/>\n   </g>\n   <g id=\"line2d_28\">\n    <path clip-path=\"url(#p84e8809e0c)\" d=\"M 34.954394 76.160012 \nL 44.698573 106.03858 \nL 54.442752 112.161568 \nL 64.186931 114.867425 \n\" style=\"fill:none;stroke:#1f77b4;stroke-linecap:square;stroke-width:1.5;\"/>\n   </g>\n   <g id=\"line2d_29\">\n    <path clip-path=\"url(#p84e8809e0c)\" d=\"M 49.633125 99.980645 \nL 69.163125 109.173501 \n\" style=\"fill:none;stroke:#ff7f0e;stroke-dasharray:5.55,2.4;stroke-dashoffset:0;stroke-width:1.5;\"/>\n   </g>\n   <g id=\"line2d_30\">\n    <path clip-path=\"url(#p84e8809e0c)\" d=\"M 49.633125 20.707593 \nL 69.163125 17.100842 \n\" style=\"fill:none;stroke:#2ca02c;stroke-dasharray:9.6,2.4,1.5,2.4;stroke-dashoffset:0;stroke-width:1.5;\"/>\n   </g>\n   <g id=\"line2d_31\">\n    <path clip-path=\"url(#p84e8809e0c)\" d=\"M 34.954394 76.160012 \nL 44.698573 106.03858 \nL 54.442752 112.161568 \nL 64.186931 114.867425 \nL 73.93111 119.582281 \n\" style=\"fill:none;stroke:#1f77b4;stroke-linecap:square;stroke-width:1.5;\"/>\n   </g>\n   <g id=\"line2d_32\">\n    <path clip-path=\"url(#p84e8809e0c)\" d=\"M 49.633125 99.980645 \nL 69.163125 109.173501 \n\" style=\"fill:none;stroke:#ff7f0e;stroke-dasharray:5.55,2.4;stroke-dashoffset:0;stroke-width:1.5;\"/>\n   </g>\n   <g id=\"line2d_33\">\n    <path clip-path=\"url(#p84e8809e0c)\" d=\"M 49.633125 20.707593 \nL 69.163125 17.100842 \n\" style=\"fill:none;stroke:#2ca02c;stroke-dasharray:9.6,2.4,1.5,2.4;stroke-dashoffset:0;stroke-width:1.5;\"/>\n   </g>\n   <g id=\"line2d_34\">\n    <path clip-path=\"url(#p84e8809e0c)\" d=\"M 34.954394 76.160012 \nL 44.698573 106.03858 \nL 54.442752 112.161568 \nL 64.186931 114.867425 \nL 73.93111 119.582281 \nL 83.675289 119.868284 \n\" style=\"fill:none;stroke:#1f77b4;stroke-linecap:square;stroke-width:1.5;\"/>\n   </g>\n   <g id=\"line2d_35\">\n    <path clip-path=\"url(#p84e8809e0c)\" d=\"M 49.633125 99.980645 \nL 69.163125 109.173501 \n\" style=\"fill:none;stroke:#ff7f0e;stroke-dasharray:5.55,2.4;stroke-dashoffset:0;stroke-width:1.5;\"/>\n   </g>\n   <g id=\"line2d_36\">\n    <path clip-path=\"url(#p84e8809e0c)\" d=\"M 49.633125 20.707593 \nL 69.163125 17.100842 \n\" style=\"fill:none;stroke:#2ca02c;stroke-dasharray:9.6,2.4,1.5,2.4;stroke-dashoffset:0;stroke-width:1.5;\"/>\n   </g>\n   <g id=\"line2d_37\">\n    <path clip-path=\"url(#p84e8809e0c)\" d=\"M 34.954394 76.160012 \nL 44.698573 106.03858 \nL 54.442752 112.161568 \nL 64.186931 114.867425 \nL 73.93111 119.582281 \nL 83.675289 119.868284 \n\" style=\"fill:none;stroke:#1f77b4;stroke-linecap:square;stroke-width:1.5;\"/>\n   </g>\n   <g id=\"line2d_38\">\n    <path clip-path=\"url(#p84e8809e0c)\" d=\"M 49.633125 99.980645 \nL 69.163125 109.173501 \nL 88.693125 117.698312 \n\" style=\"fill:none;stroke:#ff7f0e;stroke-dasharray:5.55,2.4;stroke-dashoffset:0;stroke-width:1.5;\"/>\n   </g>\n   <g id=\"line2d_39\">\n    <path clip-path=\"url(#p84e8809e0c)\" d=\"M 49.633125 20.707593 \nL 69.163125 17.100842 \n\" style=\"fill:none;stroke:#2ca02c;stroke-dasharray:9.6,2.4,1.5,2.4;stroke-dashoffset:0;stroke-width:1.5;\"/>\n   </g>\n   <g id=\"line2d_40\">\n    <path clip-path=\"url(#p84e8809e0c)\" d=\"M 34.954394 76.160012 \nL 44.698573 106.03858 \nL 54.442752 112.161568 \nL 64.186931 114.867425 \nL 73.93111 119.582281 \nL 83.675289 119.868284 \n\" style=\"fill:none;stroke:#1f77b4;stroke-linecap:square;stroke-width:1.5;\"/>\n   </g>\n   <g id=\"line2d_41\">\n    <path clip-path=\"url(#p84e8809e0c)\" d=\"M 49.633125 99.980645 \nL 69.163125 109.173501 \nL 88.693125 117.698312 \n\" style=\"fill:none;stroke:#ff7f0e;stroke-dasharray:5.55,2.4;stroke-dashoffset:0;stroke-width:1.5;\"/>\n   </g>\n   <g id=\"line2d_42\">\n    <path clip-path=\"url(#p84e8809e0c)\" d=\"M 49.633125 20.707593 \nL 69.163125 17.100842 \nL 88.693125 13.756931 \n\" style=\"fill:none;stroke:#2ca02c;stroke-dasharray:9.6,2.4,1.5,2.4;stroke-dashoffset:0;stroke-width:1.5;\"/>\n   </g>\n   <g id=\"line2d_43\">\n    <path clip-path=\"url(#p84e8809e0c)\" d=\"M 34.954394 76.160012 \nL 44.698573 106.03858 \nL 54.442752 112.161568 \nL 64.186931 114.867425 \nL 73.93111 119.582281 \nL 83.675289 119.868284 \nL 93.419468 123.501878 \n\" style=\"fill:none;stroke:#1f77b4;stroke-linecap:square;stroke-width:1.5;\"/>\n   </g>\n   <g id=\"line2d_44\">\n    <path clip-path=\"url(#p84e8809e0c)\" d=\"M 49.633125 99.980645 \nL 69.163125 109.173501 \nL 88.693125 117.698312 \n\" style=\"fill:none;stroke:#ff7f0e;stroke-dasharray:5.55,2.4;stroke-dashoffset:0;stroke-width:1.5;\"/>\n   </g>\n   <g id=\"line2d_45\">\n    <path clip-path=\"url(#p84e8809e0c)\" d=\"M 49.633125 20.707593 \nL 69.163125 17.100842 \nL 88.693125 13.756931 \n\" style=\"fill:none;stroke:#2ca02c;stroke-dasharray:9.6,2.4,1.5,2.4;stroke-dashoffset:0;stroke-width:1.5;\"/>\n   </g>\n   <g id=\"line2d_46\">\n    <path clip-path=\"url(#p84e8809e0c)\" d=\"M 34.954394 76.160012 \nL 44.698573 106.03858 \nL 54.442752 112.161568 \nL 64.186931 114.867425 \nL 73.93111 119.582281 \nL 83.675289 119.868284 \nL 93.419468 123.501878 \nL 103.163647 123.729288 \n\" style=\"fill:none;stroke:#1f77b4;stroke-linecap:square;stroke-width:1.5;\"/>\n   </g>\n   <g id=\"line2d_47\">\n    <path clip-path=\"url(#p84e8809e0c)\" d=\"M 49.633125 99.980645 \nL 69.163125 109.173501 \nL 88.693125 117.698312 \n\" style=\"fill:none;stroke:#ff7f0e;stroke-dasharray:5.55,2.4;stroke-dashoffset:0;stroke-width:1.5;\"/>\n   </g>\n   <g id=\"line2d_48\">\n    <path clip-path=\"url(#p84e8809e0c)\" d=\"M 49.633125 20.707593 \nL 69.163125 17.100842 \nL 88.693125 13.756931 \n\" style=\"fill:none;stroke:#2ca02c;stroke-dasharray:9.6,2.4,1.5,2.4;stroke-dashoffset:0;stroke-width:1.5;\"/>\n   </g>\n   <g id=\"line2d_49\">\n    <path clip-path=\"url(#p84e8809e0c)\" d=\"M 34.954394 76.160012 \nL 44.698573 106.03858 \nL 54.442752 112.161568 \nL 64.186931 114.867425 \nL 73.93111 119.582281 \nL 83.675289 119.868284 \nL 93.419468 123.501878 \nL 103.163647 123.729288 \n\" style=\"fill:none;stroke:#1f77b4;stroke-linecap:square;stroke-width:1.5;\"/>\n   </g>\n   <g id=\"line2d_50\">\n    <path clip-path=\"url(#p84e8809e0c)\" d=\"M 49.633125 99.980645 \nL 69.163125 109.173501 \nL 88.693125 117.698312 \nL 108.223125 108.540545 \n\" style=\"fill:none;stroke:#ff7f0e;stroke-dasharray:5.55,2.4;stroke-dashoffset:0;stroke-width:1.5;\"/>\n   </g>\n   <g id=\"line2d_51\">\n    <path clip-path=\"url(#p84e8809e0c)\" d=\"M 49.633125 20.707593 \nL 69.163125 17.100842 \nL 88.693125 13.756931 \n\" style=\"fill:none;stroke:#2ca02c;stroke-dasharray:9.6,2.4,1.5,2.4;stroke-dashoffset:0;stroke-width:1.5;\"/>\n   </g>\n   <g id=\"line2d_52\">\n    <path clip-path=\"url(#p84e8809e0c)\" d=\"M 34.954394 76.160012 \nL 44.698573 106.03858 \nL 54.442752 112.161568 \nL 64.186931 114.867425 \nL 73.93111 119.582281 \nL 83.675289 119.868284 \nL 93.419468 123.501878 \nL 103.163647 123.729288 \n\" style=\"fill:none;stroke:#1f77b4;stroke-linecap:square;stroke-width:1.5;\"/>\n   </g>\n   <g id=\"line2d_53\">\n    <path clip-path=\"url(#p84e8809e0c)\" d=\"M 49.633125 99.980645 \nL 69.163125 109.173501 \nL 88.693125 117.698312 \nL 108.223125 108.540545 \n\" style=\"fill:none;stroke:#ff7f0e;stroke-dasharray:5.55,2.4;stroke-dashoffset:0;stroke-width:1.5;\"/>\n   </g>\n   <g id=\"line2d_54\">\n    <path clip-path=\"url(#p84e8809e0c)\" d=\"M 49.633125 20.707593 \nL 69.163125 17.100842 \nL 88.693125 13.756931 \nL 108.223125 17.08624 \n\" style=\"fill:none;stroke:#2ca02c;stroke-dasharray:9.6,2.4,1.5,2.4;stroke-dashoffset:0;stroke-width:1.5;\"/>\n   </g>\n   <g id=\"line2d_55\">\n    <path clip-path=\"url(#p84e8809e0c)\" d=\"M 34.954394 76.160012 \nL 44.698573 106.03858 \nL 54.442752 112.161568 \nL 64.186931 114.867425 \nL 73.93111 119.582281 \nL 83.675289 119.868284 \nL 93.419468 123.501878 \nL 103.163647 123.729288 \nL 112.907826 126.540952 \n\" style=\"fill:none;stroke:#1f77b4;stroke-linecap:square;stroke-width:1.5;\"/>\n   </g>\n   <g id=\"line2d_56\">\n    <path clip-path=\"url(#p84e8809e0c)\" d=\"M 49.633125 99.980645 \nL 69.163125 109.173501 \nL 88.693125 117.698312 \nL 108.223125 108.540545 \n\" style=\"fill:none;stroke:#ff7f0e;stroke-dasharray:5.55,2.4;stroke-dashoffset:0;stroke-width:1.5;\"/>\n   </g>\n   <g id=\"line2d_57\">\n    <path clip-path=\"url(#p84e8809e0c)\" d=\"M 49.633125 20.707593 \nL 69.163125 17.100842 \nL 88.693125 13.756931 \nL 108.223125 17.08624 \n\" style=\"fill:none;stroke:#2ca02c;stroke-dasharray:9.6,2.4,1.5,2.4;stroke-dashoffset:0;stroke-width:1.5;\"/>\n   </g>\n   <g id=\"line2d_58\">\n    <path clip-path=\"url(#p84e8809e0c)\" d=\"M 34.954394 76.160012 \nL 44.698573 106.03858 \nL 54.442752 112.161568 \nL 64.186931 114.867425 \nL 73.93111 119.582281 \nL 83.675289 119.868284 \nL 93.419468 123.501878 \nL 103.163647 123.729288 \nL 112.907826 126.540952 \nL 122.652006 126.040034 \n\" style=\"fill:none;stroke:#1f77b4;stroke-linecap:square;stroke-width:1.5;\"/>\n   </g>\n   <g id=\"line2d_59\">\n    <path clip-path=\"url(#p84e8809e0c)\" d=\"M 49.633125 99.980645 \nL 69.163125 109.173501 \nL 88.693125 117.698312 \nL 108.223125 108.540545 \n\" style=\"fill:none;stroke:#ff7f0e;stroke-dasharray:5.55,2.4;stroke-dashoffset:0;stroke-width:1.5;\"/>\n   </g>\n   <g id=\"line2d_60\">\n    <path clip-path=\"url(#p84e8809e0c)\" d=\"M 49.633125 20.707593 \nL 69.163125 17.100842 \nL 88.693125 13.756931 \nL 108.223125 17.08624 \n\" style=\"fill:none;stroke:#2ca02c;stroke-dasharray:9.6,2.4,1.5,2.4;stroke-dashoffset:0;stroke-width:1.5;\"/>\n   </g>\n   <g id=\"line2d_61\">\n    <path clip-path=\"url(#p84e8809e0c)\" d=\"M 34.954394 76.160012 \nL 44.698573 106.03858 \nL 54.442752 112.161568 \nL 64.186931 114.867425 \nL 73.93111 119.582281 \nL 83.675289 119.868284 \nL 93.419468 123.501878 \nL 103.163647 123.729288 \nL 112.907826 126.540952 \nL 122.652006 126.040034 \n\" style=\"fill:none;stroke:#1f77b4;stroke-linecap:square;stroke-width:1.5;\"/>\n   </g>\n   <g id=\"line2d_62\">\n    <path clip-path=\"url(#p84e8809e0c)\" d=\"M 49.633125 99.980645 \nL 69.163125 109.173501 \nL 88.693125 117.698312 \nL 108.223125 108.540545 \nL 127.753125 114.986531 \n\" style=\"fill:none;stroke:#ff7f0e;stroke-dasharray:5.55,2.4;stroke-dashoffset:0;stroke-width:1.5;\"/>\n   </g>\n   <g id=\"line2d_63\">\n    <path clip-path=\"url(#p84e8809e0c)\" d=\"M 49.633125 20.707593 \nL 69.163125 17.100842 \nL 88.693125 13.756931 \nL 108.223125 17.08624 \n\" style=\"fill:none;stroke:#2ca02c;stroke-dasharray:9.6,2.4,1.5,2.4;stroke-dashoffset:0;stroke-width:1.5;\"/>\n   </g>\n   <g id=\"line2d_64\">\n    <path clip-path=\"url(#p84e8809e0c)\" d=\"M 34.954394 76.160012 \nL 44.698573 106.03858 \nL 54.442752 112.161568 \nL 64.186931 114.867425 \nL 73.93111 119.582281 \nL 83.675289 119.868284 \nL 93.419468 123.501878 \nL 103.163647 123.729288 \nL 112.907826 126.540952 \nL 122.652006 126.040034 \n\" style=\"fill:none;stroke:#1f77b4;stroke-linecap:square;stroke-width:1.5;\"/>\n   </g>\n   <g id=\"line2d_65\">\n    <path clip-path=\"url(#p84e8809e0c)\" d=\"M 49.633125 99.980645 \nL 69.163125 109.173501 \nL 88.693125 117.698312 \nL 108.223125 108.540545 \nL 127.753125 114.986531 \n\" style=\"fill:none;stroke:#ff7f0e;stroke-dasharray:5.55,2.4;stroke-dashoffset:0;stroke-width:1.5;\"/>\n   </g>\n   <g id=\"line2d_66\">\n    <path clip-path=\"url(#p84e8809e0c)\" d=\"M 49.633125 20.707593 \nL 69.163125 17.100842 \nL 88.693125 13.756931 \nL 108.223125 17.08624 \nL 127.753125 14.633065 \n\" style=\"fill:none;stroke:#2ca02c;stroke-dasharray:9.6,2.4,1.5,2.4;stroke-dashoffset:0;stroke-width:1.5;\"/>\n   </g>\n   <g id=\"line2d_67\">\n    <path clip-path=\"url(#p84e8809e0c)\" d=\"M 34.954394 76.160012 \nL 44.698573 106.03858 \nL 54.442752 112.161568 \nL 64.186931 114.867425 \nL 73.93111 119.582281 \nL 83.675289 119.868284 \nL 93.419468 123.501878 \nL 103.163647 123.729288 \nL 112.907826 126.540952 \nL 122.652006 126.040034 \nL 132.396185 128.787091 \n\" style=\"fill:none;stroke:#1f77b4;stroke-linecap:square;stroke-width:1.5;\"/>\n   </g>\n   <g id=\"line2d_68\">\n    <path clip-path=\"url(#p84e8809e0c)\" d=\"M 49.633125 99.980645 \nL 69.163125 109.173501 \nL 88.693125 117.698312 \nL 108.223125 108.540545 \nL 127.753125 114.986531 \n\" style=\"fill:none;stroke:#ff7f0e;stroke-dasharray:5.55,2.4;stroke-dashoffset:0;stroke-width:1.5;\"/>\n   </g>\n   <g id=\"line2d_69\">\n    <path clip-path=\"url(#p84e8809e0c)\" d=\"M 49.633125 20.707593 \nL 69.163125 17.100842 \nL 88.693125 13.756931 \nL 108.223125 17.08624 \nL 127.753125 14.633065 \n\" style=\"fill:none;stroke:#2ca02c;stroke-dasharray:9.6,2.4,1.5,2.4;stroke-dashoffset:0;stroke-width:1.5;\"/>\n   </g>\n   <g id=\"line2d_70\">\n    <path clip-path=\"url(#p84e8809e0c)\" d=\"M 34.954394 76.160012 \nL 44.698573 106.03858 \nL 54.442752 112.161568 \nL 64.186931 114.867425 \nL 73.93111 119.582281 \nL 83.675289 119.868284 \nL 93.419468 123.501878 \nL 103.163647 123.729288 \nL 112.907826 126.540952 \nL 122.652006 126.040034 \nL 132.396185 128.787091 \nL 142.140364 129.312212 \n\" style=\"fill:none;stroke:#1f77b4;stroke-linecap:square;stroke-width:1.5;\"/>\n   </g>\n   <g id=\"line2d_71\">\n    <path clip-path=\"url(#p84e8809e0c)\" d=\"M 49.633125 99.980645 \nL 69.163125 109.173501 \nL 88.693125 117.698312 \nL 108.223125 108.540545 \nL 127.753125 114.986531 \n\" style=\"fill:none;stroke:#ff7f0e;stroke-dasharray:5.55,2.4;stroke-dashoffset:0;stroke-width:1.5;\"/>\n   </g>\n   <g id=\"line2d_72\">\n    <path clip-path=\"url(#p84e8809e0c)\" d=\"M 49.633125 20.707593 \nL 69.163125 17.100842 \nL 88.693125 13.756931 \nL 108.223125 17.08624 \nL 127.753125 14.633065 \n\" style=\"fill:none;stroke:#2ca02c;stroke-dasharray:9.6,2.4,1.5,2.4;stroke-dashoffset:0;stroke-width:1.5;\"/>\n   </g>\n   <g id=\"line2d_73\">\n    <path clip-path=\"url(#p84e8809e0c)\" d=\"M 34.954394 76.160012 \nL 44.698573 106.03858 \nL 54.442752 112.161568 \nL 64.186931 114.867425 \nL 73.93111 119.582281 \nL 83.675289 119.868284 \nL 93.419468 123.501878 \nL 103.163647 123.729288 \nL 112.907826 126.540952 \nL 122.652006 126.040034 \nL 132.396185 128.787091 \nL 142.140364 129.312212 \n\" style=\"fill:none;stroke:#1f77b4;stroke-linecap:square;stroke-width:1.5;\"/>\n   </g>\n   <g id=\"line2d_74\">\n    <path clip-path=\"url(#p84e8809e0c)\" d=\"M 49.633125 99.980645 \nL 69.163125 109.173501 \nL 88.693125 117.698312 \nL 108.223125 108.540545 \nL 127.753125 114.986531 \nL 147.283125 112.234081 \n\" style=\"fill:none;stroke:#ff7f0e;stroke-dasharray:5.55,2.4;stroke-dashoffset:0;stroke-width:1.5;\"/>\n   </g>\n   <g id=\"line2d_75\">\n    <path clip-path=\"url(#p84e8809e0c)\" d=\"M 49.633125 20.707593 \nL 69.163125 17.100842 \nL 88.693125 13.756931 \nL 108.223125 17.08624 \nL 127.753125 14.633065 \n\" style=\"fill:none;stroke:#2ca02c;stroke-dasharray:9.6,2.4,1.5,2.4;stroke-dashoffset:0;stroke-width:1.5;\"/>\n   </g>\n   <g id=\"line2d_76\">\n    <path clip-path=\"url(#p84e8809e0c)\" d=\"M 34.954394 76.160012 \nL 44.698573 106.03858 \nL 54.442752 112.161568 \nL 64.186931 114.867425 \nL 73.93111 119.582281 \nL 83.675289 119.868284 \nL 93.419468 123.501878 \nL 103.163647 123.729288 \nL 112.907826 126.540952 \nL 122.652006 126.040034 \nL 132.396185 128.787091 \nL 142.140364 129.312212 \n\" style=\"fill:none;stroke:#1f77b4;stroke-linecap:square;stroke-width:1.5;\"/>\n   </g>\n   <g id=\"line2d_77\">\n    <path clip-path=\"url(#p84e8809e0c)\" d=\"M 49.633125 99.980645 \nL 69.163125 109.173501 \nL 88.693125 117.698312 \nL 108.223125 108.540545 \nL 127.753125 114.986531 \nL 147.283125 112.234081 \n\" style=\"fill:none;stroke:#ff7f0e;stroke-dasharray:5.55,2.4;stroke-dashoffset:0;stroke-width:1.5;\"/>\n   </g>\n   <g id=\"line2d_78\">\n    <path clip-path=\"url(#p84e8809e0c)\" d=\"M 49.633125 20.707593 \nL 69.163125 17.100842 \nL 88.693125 13.756931 \nL 108.223125 17.08624 \nL 127.753125 14.633065 \nL 147.283125 15.217154 \n\" style=\"fill:none;stroke:#2ca02c;stroke-dasharray:9.6,2.4,1.5,2.4;stroke-dashoffset:0;stroke-width:1.5;\"/>\n   </g>\n   <g id=\"line2d_79\">\n    <path clip-path=\"url(#p84e8809e0c)\" d=\"M 34.954394 76.160012 \nL 44.698573 106.03858 \nL 54.442752 112.161568 \nL 64.186931 114.867425 \nL 73.93111 119.582281 \nL 83.675289 119.868284 \nL 93.419468 123.501878 \nL 103.163647 123.729288 \nL 112.907826 126.540952 \nL 122.652006 126.040034 \nL 132.396185 128.787091 \nL 142.140364 129.312212 \nL 151.884543 131.630111 \n\" style=\"fill:none;stroke:#1f77b4;stroke-linecap:square;stroke-width:1.5;\"/>\n   </g>\n   <g id=\"line2d_80\">\n    <path clip-path=\"url(#p84e8809e0c)\" d=\"M 49.633125 99.980645 \nL 69.163125 109.173501 \nL 88.693125 117.698312 \nL 108.223125 108.540545 \nL 127.753125 114.986531 \nL 147.283125 112.234081 \n\" style=\"fill:none;stroke:#ff7f0e;stroke-dasharray:5.55,2.4;stroke-dashoffset:0;stroke-width:1.5;\"/>\n   </g>\n   <g id=\"line2d_81\">\n    <path clip-path=\"url(#p84e8809e0c)\" d=\"M 49.633125 20.707593 \nL 69.163125 17.100842 \nL 88.693125 13.756931 \nL 108.223125 17.08624 \nL 127.753125 14.633065 \nL 147.283125 15.217154 \n\" style=\"fill:none;stroke:#2ca02c;stroke-dasharray:9.6,2.4,1.5,2.4;stroke-dashoffset:0;stroke-width:1.5;\"/>\n   </g>\n   <g id=\"line2d_82\">\n    <path clip-path=\"url(#p84e8809e0c)\" d=\"M 34.954394 76.160012 \nL 44.698573 106.03858 \nL 54.442752 112.161568 \nL 64.186931 114.867425 \nL 73.93111 119.582281 \nL 83.675289 119.868284 \nL 93.419468 123.501878 \nL 103.163647 123.729288 \nL 112.907826 126.540952 \nL 122.652006 126.040034 \nL 132.396185 128.787091 \nL 142.140364 129.312212 \nL 151.884543 131.630111 \nL 161.628722 130.596504 \n\" style=\"fill:none;stroke:#1f77b4;stroke-linecap:square;stroke-width:1.5;\"/>\n   </g>\n   <g id=\"line2d_83\">\n    <path clip-path=\"url(#p84e8809e0c)\" d=\"M 49.633125 99.980645 \nL 69.163125 109.173501 \nL 88.693125 117.698312 \nL 108.223125 108.540545 \nL 127.753125 114.986531 \nL 147.283125 112.234081 \n\" style=\"fill:none;stroke:#ff7f0e;stroke-dasharray:5.55,2.4;stroke-dashoffset:0;stroke-width:1.5;\"/>\n   </g>\n   <g id=\"line2d_84\">\n    <path clip-path=\"url(#p84e8809e0c)\" d=\"M 49.633125 20.707593 \nL 69.163125 17.100842 \nL 88.693125 13.756931 \nL 108.223125 17.08624 \nL 127.753125 14.633065 \nL 147.283125 15.217154 \n\" style=\"fill:none;stroke:#2ca02c;stroke-dasharray:9.6,2.4,1.5,2.4;stroke-dashoffset:0;stroke-width:1.5;\"/>\n   </g>\n   <g id=\"line2d_85\">\n    <path clip-path=\"url(#p84e8809e0c)\" d=\"M 34.954394 76.160012 \nL 44.698573 106.03858 \nL 54.442752 112.161568 \nL 64.186931 114.867425 \nL 73.93111 119.582281 \nL 83.675289 119.868284 \nL 93.419468 123.501878 \nL 103.163647 123.729288 \nL 112.907826 126.540952 \nL 122.652006 126.040034 \nL 132.396185 128.787091 \nL 142.140364 129.312212 \nL 151.884543 131.630111 \nL 161.628722 130.596504 \n\" style=\"fill:none;stroke:#1f77b4;stroke-linecap:square;stroke-width:1.5;\"/>\n   </g>\n   <g id=\"line2d_86\">\n    <path clip-path=\"url(#p84e8809e0c)\" d=\"M 49.633125 99.980645 \nL 69.163125 109.173501 \nL 88.693125 117.698312 \nL 108.223125 108.540545 \nL 127.753125 114.986531 \nL 147.283125 112.234081 \nL 166.813125 109.474821 \n\" style=\"fill:none;stroke:#ff7f0e;stroke-dasharray:5.55,2.4;stroke-dashoffset:0;stroke-width:1.5;\"/>\n   </g>\n   <g id=\"line2d_87\">\n    <path clip-path=\"url(#p84e8809e0c)\" d=\"M 49.633125 20.707593 \nL 69.163125 17.100842 \nL 88.693125 13.756931 \nL 108.223125 17.08624 \nL 127.753125 14.633065 \nL 147.283125 15.217154 \n\" style=\"fill:none;stroke:#2ca02c;stroke-dasharray:9.6,2.4,1.5,2.4;stroke-dashoffset:0;stroke-width:1.5;\"/>\n   </g>\n   <g id=\"line2d_88\">\n    <path clip-path=\"url(#p84e8809e0c)\" d=\"M 34.954394 76.160012 \nL 44.698573 106.03858 \nL 54.442752 112.161568 \nL 64.186931 114.867425 \nL 73.93111 119.582281 \nL 83.675289 119.868284 \nL 93.419468 123.501878 \nL 103.163647 123.729288 \nL 112.907826 126.540952 \nL 122.652006 126.040034 \nL 132.396185 128.787091 \nL 142.140364 129.312212 \nL 151.884543 131.630111 \nL 161.628722 130.596504 \n\" style=\"fill:none;stroke:#1f77b4;stroke-linecap:square;stroke-width:1.5;\"/>\n   </g>\n   <g id=\"line2d_89\">\n    <path clip-path=\"url(#p84e8809e0c)\" d=\"M 49.633125 99.980645 \nL 69.163125 109.173501 \nL 88.693125 117.698312 \nL 108.223125 108.540545 \nL 127.753125 114.986531 \nL 147.283125 112.234081 \nL 166.813125 109.474821 \n\" style=\"fill:none;stroke:#ff7f0e;stroke-dasharray:5.55,2.4;stroke-dashoffset:0;stroke-width:1.5;\"/>\n   </g>\n   <g id=\"line2d_90\">\n    <path clip-path=\"url(#p84e8809e0c)\" d=\"M 49.633125 20.707593 \nL 69.163125 17.100842 \nL 88.693125 13.756931 \nL 108.223125 17.08624 \nL 127.753125 14.633065 \nL 147.283125 15.217154 \nL 166.813125 16.122492 \n\" style=\"fill:none;stroke:#2ca02c;stroke-dasharray:9.6,2.4,1.5,2.4;stroke-dashoffset:0;stroke-width:1.5;\"/>\n   </g>\n   <g id=\"line2d_91\">\n    <path clip-path=\"url(#p84e8809e0c)\" d=\"M 34.954394 76.160012 \nL 44.698573 106.03858 \nL 54.442752 112.161568 \nL 64.186931 114.867425 \nL 73.93111 119.582281 \nL 83.675289 119.868284 \nL 93.419468 123.501878 \nL 103.163647 123.729288 \nL 112.907826 126.540952 \nL 122.652006 126.040034 \nL 132.396185 128.787091 \nL 142.140364 129.312212 \nL 151.884543 131.630111 \nL 161.628722 130.596504 \nL 171.372901 134.287145 \n\" style=\"fill:none;stroke:#1f77b4;stroke-linecap:square;stroke-width:1.5;\"/>\n   </g>\n   <g id=\"line2d_92\">\n    <path clip-path=\"url(#p84e8809e0c)\" d=\"M 49.633125 99.980645 \nL 69.163125 109.173501 \nL 88.693125 117.698312 \nL 108.223125 108.540545 \nL 127.753125 114.986531 \nL 147.283125 112.234081 \nL 166.813125 109.474821 \n\" style=\"fill:none;stroke:#ff7f0e;stroke-dasharray:5.55,2.4;stroke-dashoffset:0;stroke-width:1.5;\"/>\n   </g>\n   <g id=\"line2d_93\">\n    <path clip-path=\"url(#p84e8809e0c)\" d=\"M 49.633125 20.707593 \nL 69.163125 17.100842 \nL 88.693125 13.756931 \nL 108.223125 17.08624 \nL 127.753125 14.633065 \nL 147.283125 15.217154 \nL 166.813125 16.122492 \n\" style=\"fill:none;stroke:#2ca02c;stroke-dasharray:9.6,2.4,1.5,2.4;stroke-dashoffset:0;stroke-width:1.5;\"/>\n   </g>\n   <g id=\"line2d_94\">\n    <path clip-path=\"url(#p84e8809e0c)\" d=\"M 34.954394 76.160012 \nL 44.698573 106.03858 \nL 54.442752 112.161568 \nL 64.186931 114.867425 \nL 73.93111 119.582281 \nL 83.675289 119.868284 \nL 93.419468 123.501878 \nL 103.163647 123.729288 \nL 112.907826 126.540952 \nL 122.652006 126.040034 \nL 132.396185 128.787091 \nL 142.140364 129.312212 \nL 151.884543 131.630111 \nL 161.628722 130.596504 \nL 171.372901 134.287145 \nL 181.11708 132.914703 \n\" style=\"fill:none;stroke:#1f77b4;stroke-linecap:square;stroke-width:1.5;\"/>\n   </g>\n   <g id=\"line2d_95\">\n    <path clip-path=\"url(#p84e8809e0c)\" d=\"M 49.633125 99.980645 \nL 69.163125 109.173501 \nL 88.693125 117.698312 \nL 108.223125 108.540545 \nL 127.753125 114.986531 \nL 147.283125 112.234081 \nL 166.813125 109.474821 \n\" style=\"fill:none;stroke:#ff7f0e;stroke-dasharray:5.55,2.4;stroke-dashoffset:0;stroke-width:1.5;\"/>\n   </g>\n   <g id=\"line2d_96\">\n    <path clip-path=\"url(#p84e8809e0c)\" d=\"M 49.633125 20.707593 \nL 69.163125 17.100842 \nL 88.693125 13.756931 \nL 108.223125 17.08624 \nL 127.753125 14.633065 \nL 147.283125 15.217154 \nL 166.813125 16.122492 \n\" style=\"fill:none;stroke:#2ca02c;stroke-dasharray:9.6,2.4,1.5,2.4;stroke-dashoffset:0;stroke-width:1.5;\"/>\n   </g>\n   <g id=\"line2d_97\">\n    <path clip-path=\"url(#p84e8809e0c)\" d=\"M 34.954394 76.160012 \nL 44.698573 106.03858 \nL 54.442752 112.161568 \nL 64.186931 114.867425 \nL 73.93111 119.582281 \nL 83.675289 119.868284 \nL 93.419468 123.501878 \nL 103.163647 123.729288 \nL 112.907826 126.540952 \nL 122.652006 126.040034 \nL 132.396185 128.787091 \nL 142.140364 129.312212 \nL 151.884543 131.630111 \nL 161.628722 130.596504 \nL 171.372901 134.287145 \nL 181.11708 132.914703 \n\" style=\"fill:none;stroke:#1f77b4;stroke-linecap:square;stroke-width:1.5;\"/>\n   </g>\n   <g id=\"line2d_98\">\n    <path clip-path=\"url(#p84e8809e0c)\" d=\"M 49.633125 99.980645 \nL 69.163125 109.173501 \nL 88.693125 117.698312 \nL 108.223125 108.540545 \nL 127.753125 114.986531 \nL 147.283125 112.234081 \nL 166.813125 109.474821 \nL 186.343125 112.256903 \n\" style=\"fill:none;stroke:#ff7f0e;stroke-dasharray:5.55,2.4;stroke-dashoffset:0;stroke-width:1.5;\"/>\n   </g>\n   <g id=\"line2d_99\">\n    <path clip-path=\"url(#p84e8809e0c)\" d=\"M 49.633125 20.707593 \nL 69.163125 17.100842 \nL 88.693125 13.756931 \nL 108.223125 17.08624 \nL 127.753125 14.633065 \nL 147.283125 15.217154 \nL 166.813125 16.122492 \n\" style=\"fill:none;stroke:#2ca02c;stroke-dasharray:9.6,2.4,1.5,2.4;stroke-dashoffset:0;stroke-width:1.5;\"/>\n   </g>\n   <g id=\"line2d_100\">\n    <path clip-path=\"url(#p84e8809e0c)\" d=\"M 34.954394 76.160012 \nL 44.698573 106.03858 \nL 54.442752 112.161568 \nL 64.186931 114.867425 \nL 73.93111 119.582281 \nL 83.675289 119.868284 \nL 93.419468 123.501878 \nL 103.163647 123.729288 \nL 112.907826 126.540952 \nL 122.652006 126.040034 \nL 132.396185 128.787091 \nL 142.140364 129.312212 \nL 151.884543 131.630111 \nL 161.628722 130.596504 \nL 171.372901 134.287145 \nL 181.11708 132.914703 \n\" style=\"fill:none;stroke:#1f77b4;stroke-linecap:square;stroke-width:1.5;\"/>\n   </g>\n   <g id=\"line2d_101\">\n    <path clip-path=\"url(#p84e8809e0c)\" d=\"M 49.633125 99.980645 \nL 69.163125 109.173501 \nL 88.693125 117.698312 \nL 108.223125 108.540545 \nL 127.753125 114.986531 \nL 147.283125 112.234081 \nL 166.813125 109.474821 \nL 186.343125 112.256903 \n\" style=\"fill:none;stroke:#ff7f0e;stroke-dasharray:5.55,2.4;stroke-dashoffset:0;stroke-width:1.5;\"/>\n   </g>\n   <g id=\"line2d_102\">\n    <path clip-path=\"url(#p84e8809e0c)\" d=\"M 49.633125 20.707593 \nL 69.163125 17.100842 \nL 88.693125 13.756931 \nL 108.223125 17.08624 \nL 127.753125 14.633065 \nL 147.283125 15.217154 \nL 166.813125 16.122492 \nL 186.343125 15.158745 \n\" style=\"fill:none;stroke:#2ca02c;stroke-dasharray:9.6,2.4,1.5,2.4;stroke-dashoffset:0;stroke-width:1.5;\"/>\n   </g>\n   <g id=\"line2d_103\">\n    <path clip-path=\"url(#p84e8809e0c)\" d=\"M 34.954394 76.160012 \nL 44.698573 106.03858 \nL 54.442752 112.161568 \nL 64.186931 114.867425 \nL 73.93111 119.582281 \nL 83.675289 119.868284 \nL 93.419468 123.501878 \nL 103.163647 123.729288 \nL 112.907826 126.540952 \nL 122.652006 126.040034 \nL 132.396185 128.787091 \nL 142.140364 129.312212 \nL 151.884543 131.630111 \nL 161.628722 130.596504 \nL 171.372901 134.287145 \nL 181.11708 132.914703 \nL 190.861259 136.073698 \n\" style=\"fill:none;stroke:#1f77b4;stroke-linecap:square;stroke-width:1.5;\"/>\n   </g>\n   <g id=\"line2d_104\">\n    <path clip-path=\"url(#p84e8809e0c)\" d=\"M 49.633125 99.980645 \nL 69.163125 109.173501 \nL 88.693125 117.698312 \nL 108.223125 108.540545 \nL 127.753125 114.986531 \nL 147.283125 112.234081 \nL 166.813125 109.474821 \nL 186.343125 112.256903 \n\" style=\"fill:none;stroke:#ff7f0e;stroke-dasharray:5.55,2.4;stroke-dashoffset:0;stroke-width:1.5;\"/>\n   </g>\n   <g id=\"line2d_105\">\n    <path clip-path=\"url(#p84e8809e0c)\" d=\"M 49.633125 20.707593 \nL 69.163125 17.100842 \nL 88.693125 13.756931 \nL 108.223125 17.08624 \nL 127.753125 14.633065 \nL 147.283125 15.217154 \nL 166.813125 16.122492 \nL 186.343125 15.158745 \n\" style=\"fill:none;stroke:#2ca02c;stroke-dasharray:9.6,2.4,1.5,2.4;stroke-dashoffset:0;stroke-width:1.5;\"/>\n   </g>\n   <g id=\"line2d_106\">\n    <path clip-path=\"url(#p84e8809e0c)\" d=\"M 34.954394 76.160012 \nL 44.698573 106.03858 \nL 54.442752 112.161568 \nL 64.186931 114.867425 \nL 73.93111 119.582281 \nL 83.675289 119.868284 \nL 93.419468 123.501878 \nL 103.163647 123.729288 \nL 112.907826 126.540952 \nL 122.652006 126.040034 \nL 132.396185 128.787091 \nL 142.140364 129.312212 \nL 151.884543 131.630111 \nL 161.628722 130.596504 \nL 171.372901 134.287145 \nL 181.11708 132.914703 \nL 190.861259 136.073698 \nL 200.605438 134.725704 \n\" style=\"fill:none;stroke:#1f77b4;stroke-linecap:square;stroke-width:1.5;\"/>\n   </g>\n   <g id=\"line2d_107\">\n    <path clip-path=\"url(#p84e8809e0c)\" d=\"M 49.633125 99.980645 \nL 69.163125 109.173501 \nL 88.693125 117.698312 \nL 108.223125 108.540545 \nL 127.753125 114.986531 \nL 147.283125 112.234081 \nL 166.813125 109.474821 \nL 186.343125 112.256903 \n\" style=\"fill:none;stroke:#ff7f0e;stroke-dasharray:5.55,2.4;stroke-dashoffset:0;stroke-width:1.5;\"/>\n   </g>\n   <g id=\"line2d_108\">\n    <path clip-path=\"url(#p84e8809e0c)\" d=\"M 49.633125 20.707593 \nL 69.163125 17.100842 \nL 88.693125 13.756931 \nL 108.223125 17.08624 \nL 127.753125 14.633065 \nL 147.283125 15.217154 \nL 166.813125 16.122492 \nL 186.343125 15.158745 \n\" style=\"fill:none;stroke:#2ca02c;stroke-dasharray:9.6,2.4,1.5,2.4;stroke-dashoffset:0;stroke-width:1.5;\"/>\n   </g>\n   <g id=\"line2d_109\">\n    <path clip-path=\"url(#p84e8809e0c)\" d=\"M 34.954394 76.160012 \nL 44.698573 106.03858 \nL 54.442752 112.161568 \nL 64.186931 114.867425 \nL 73.93111 119.582281 \nL 83.675289 119.868284 \nL 93.419468 123.501878 \nL 103.163647 123.729288 \nL 112.907826 126.540952 \nL 122.652006 126.040034 \nL 132.396185 128.787091 \nL 142.140364 129.312212 \nL 151.884543 131.630111 \nL 161.628722 130.596504 \nL 171.372901 134.287145 \nL 181.11708 132.914703 \nL 190.861259 136.073698 \nL 200.605438 134.725704 \n\" style=\"fill:none;stroke:#1f77b4;stroke-linecap:square;stroke-width:1.5;\"/>\n   </g>\n   <g id=\"line2d_110\">\n    <path clip-path=\"url(#p84e8809e0c)\" d=\"M 49.633125 99.980645 \nL 69.163125 109.173501 \nL 88.693125 117.698312 \nL 108.223125 108.540545 \nL 127.753125 114.986531 \nL 147.283125 112.234081 \nL 166.813125 109.474821 \nL 186.343125 112.256903 \nL 205.873125 112.292007 \n\" style=\"fill:none;stroke:#ff7f0e;stroke-dasharray:5.55,2.4;stroke-dashoffset:0;stroke-width:1.5;\"/>\n   </g>\n   <g id=\"line2d_111\">\n    <path clip-path=\"url(#p84e8809e0c)\" d=\"M 49.633125 20.707593 \nL 69.163125 17.100842 \nL 88.693125 13.756931 \nL 108.223125 17.08624 \nL 127.753125 14.633065 \nL 147.283125 15.217154 \nL 166.813125 16.122492 \nL 186.343125 15.158745 \n\" style=\"fill:none;stroke:#2ca02c;stroke-dasharray:9.6,2.4,1.5,2.4;stroke-dashoffset:0;stroke-width:1.5;\"/>\n   </g>\n   <g id=\"line2d_112\">\n    <path clip-path=\"url(#p84e8809e0c)\" d=\"M 34.954394 76.160012 \nL 44.698573 106.03858 \nL 54.442752 112.161568 \nL 64.186931 114.867425 \nL 73.93111 119.582281 \nL 83.675289 119.868284 \nL 93.419468 123.501878 \nL 103.163647 123.729288 \nL 112.907826 126.540952 \nL 122.652006 126.040034 \nL 132.396185 128.787091 \nL 142.140364 129.312212 \nL 151.884543 131.630111 \nL 161.628722 130.596504 \nL 171.372901 134.287145 \nL 181.11708 132.914703 \nL 190.861259 136.073698 \nL 200.605438 134.725704 \n\" style=\"fill:none;stroke:#1f77b4;stroke-linecap:square;stroke-width:1.5;\"/>\n   </g>\n   <g id=\"line2d_113\">\n    <path clip-path=\"url(#p84e8809e0c)\" d=\"M 49.633125 99.980645 \nL 69.163125 109.173501 \nL 88.693125 117.698312 \nL 108.223125 108.540545 \nL 127.753125 114.986531 \nL 147.283125 112.234081 \nL 166.813125 109.474821 \nL 186.343125 112.256903 \nL 205.873125 112.292007 \n\" style=\"fill:none;stroke:#ff7f0e;stroke-dasharray:5.55,2.4;stroke-dashoffset:0;stroke-width:1.5;\"/>\n   </g>\n   <g id=\"line2d_114\">\n    <path clip-path=\"url(#p84e8809e0c)\" d=\"M 49.633125 20.707593 \nL 69.163125 17.100842 \nL 88.693125 13.756931 \nL 108.223125 17.08624 \nL 127.753125 14.633065 \nL 147.283125 15.217154 \nL 166.813125 16.122492 \nL 186.343125 15.158745 \nL 205.873125 14.662269 \n\" style=\"fill:none;stroke:#2ca02c;stroke-dasharray:9.6,2.4,1.5,2.4;stroke-dashoffset:0;stroke-width:1.5;\"/>\n   </g>\n   <g id=\"line2d_115\">\n    <path clip-path=\"url(#p84e8809e0c)\" d=\"M 34.954394 76.160012 \nL 44.698573 106.03858 \nL 54.442752 112.161568 \nL 64.186931 114.867425 \nL 73.93111 119.582281 \nL 83.675289 119.868284 \nL 93.419468 123.501878 \nL 103.163647 123.729288 \nL 112.907826 126.540952 \nL 122.652006 126.040034 \nL 132.396185 128.787091 \nL 142.140364 129.312212 \nL 151.884543 131.630111 \nL 161.628722 130.596504 \nL 171.372901 134.287145 \nL 181.11708 132.914703 \nL 190.861259 136.073698 \nL 200.605438 134.725704 \nL 210.349618 136.922727 \n\" style=\"fill:none;stroke:#1f77b4;stroke-linecap:square;stroke-width:1.5;\"/>\n   </g>\n   <g id=\"line2d_116\">\n    <path clip-path=\"url(#p84e8809e0c)\" d=\"M 49.633125 99.980645 \nL 69.163125 109.173501 \nL 88.693125 117.698312 \nL 108.223125 108.540545 \nL 127.753125 114.986531 \nL 147.283125 112.234081 \nL 166.813125 109.474821 \nL 186.343125 112.256903 \nL 205.873125 112.292007 \n\" style=\"fill:none;stroke:#ff7f0e;stroke-dasharray:5.55,2.4;stroke-dashoffset:0;stroke-width:1.5;\"/>\n   </g>\n   <g id=\"line2d_117\">\n    <path clip-path=\"url(#p84e8809e0c)\" d=\"M 49.633125 20.707593 \nL 69.163125 17.100842 \nL 88.693125 13.756931 \nL 108.223125 17.08624 \nL 127.753125 14.633065 \nL 147.283125 15.217154 \nL 166.813125 16.122492 \nL 186.343125 15.158745 \nL 205.873125 14.662269 \n\" style=\"fill:none;stroke:#2ca02c;stroke-dasharray:9.6,2.4,1.5,2.4;stroke-dashoffset:0;stroke-width:1.5;\"/>\n   </g>\n   <g id=\"line2d_118\">\n    <path clip-path=\"url(#p84e8809e0c)\" d=\"M 34.954394 76.160012 \nL 44.698573 106.03858 \nL 54.442752 112.161568 \nL 64.186931 114.867425 \nL 73.93111 119.582281 \nL 83.675289 119.868284 \nL 93.419468 123.501878 \nL 103.163647 123.729288 \nL 112.907826 126.540952 \nL 122.652006 126.040034 \nL 132.396185 128.787091 \nL 142.140364 129.312212 \nL 151.884543 131.630111 \nL 161.628722 130.596504 \nL 171.372901 134.287145 \nL 181.11708 132.914703 \nL 190.861259 136.073698 \nL 200.605438 134.725704 \nL 210.349618 136.922727 \nL 220.093797 136.165512 \n\" style=\"fill:none;stroke:#1f77b4;stroke-linecap:square;stroke-width:1.5;\"/>\n   </g>\n   <g id=\"line2d_119\">\n    <path clip-path=\"url(#p84e8809e0c)\" d=\"M 49.633125 99.980645 \nL 69.163125 109.173501 \nL 88.693125 117.698312 \nL 108.223125 108.540545 \nL 127.753125 114.986531 \nL 147.283125 112.234081 \nL 166.813125 109.474821 \nL 186.343125 112.256903 \nL 205.873125 112.292007 \n\" style=\"fill:none;stroke:#ff7f0e;stroke-dasharray:5.55,2.4;stroke-dashoffset:0;stroke-width:1.5;\"/>\n   </g>\n   <g id=\"line2d_120\">\n    <path clip-path=\"url(#p84e8809e0c)\" d=\"M 49.633125 20.707593 \nL 69.163125 17.100842 \nL 88.693125 13.756931 \nL 108.223125 17.08624 \nL 127.753125 14.633065 \nL 147.283125 15.217154 \nL 166.813125 16.122492 \nL 186.343125 15.158745 \nL 205.873125 14.662269 \n\" style=\"fill:none;stroke:#2ca02c;stroke-dasharray:9.6,2.4,1.5,2.4;stroke-dashoffset:0;stroke-width:1.5;\"/>\n   </g>\n   <g id=\"line2d_121\">\n    <path clip-path=\"url(#p84e8809e0c)\" d=\"M 34.954394 76.160012 \nL 44.698573 106.03858 \nL 54.442752 112.161568 \nL 64.186931 114.867425 \nL 73.93111 119.582281 \nL 83.675289 119.868284 \nL 93.419468 123.501878 \nL 103.163647 123.729288 \nL 112.907826 126.540952 \nL 122.652006 126.040034 \nL 132.396185 128.787091 \nL 142.140364 129.312212 \nL 151.884543 131.630111 \nL 161.628722 130.596504 \nL 171.372901 134.287145 \nL 181.11708 132.914703 \nL 190.861259 136.073698 \nL 200.605438 134.725704 \nL 210.349618 136.922727 \nL 220.093797 136.165512 \n\" style=\"fill:none;stroke:#1f77b4;stroke-linecap:square;stroke-width:1.5;\"/>\n   </g>\n   <g id=\"line2d_122\">\n    <path clip-path=\"url(#p84e8809e0c)\" d=\"M 49.633125 99.980645 \nL 69.163125 109.173501 \nL 88.693125 117.698312 \nL 108.223125 108.540545 \nL 127.753125 114.986531 \nL 147.283125 112.234081 \nL 166.813125 109.474821 \nL 186.343125 112.256903 \nL 205.873125 112.292007 \nL 225.403125 116.042932 \n\" style=\"fill:none;stroke:#ff7f0e;stroke-dasharray:5.55,2.4;stroke-dashoffset:0;stroke-width:1.5;\"/>\n   </g>\n   <g id=\"line2d_123\">\n    <path clip-path=\"url(#p84e8809e0c)\" d=\"M 49.633125 20.707593 \nL 69.163125 17.100842 \nL 88.693125 13.756931 \nL 108.223125 17.08624 \nL 127.753125 14.633065 \nL 147.283125 15.217154 \nL 166.813125 16.122492 \nL 186.343125 15.158745 \nL 205.873125 14.662269 \n\" style=\"fill:none;stroke:#2ca02c;stroke-dasharray:9.6,2.4,1.5,2.4;stroke-dashoffset:0;stroke-width:1.5;\"/>\n   </g>\n   <g id=\"line2d_124\">\n    <path clip-path=\"url(#p84e8809e0c)\" d=\"M 34.954394 76.160012 \nL 44.698573 106.03858 \nL 54.442752 112.161568 \nL 64.186931 114.867425 \nL 73.93111 119.582281 \nL 83.675289 119.868284 \nL 93.419468 123.501878 \nL 103.163647 123.729288 \nL 112.907826 126.540952 \nL 122.652006 126.040034 \nL 132.396185 128.787091 \nL 142.140364 129.312212 \nL 151.884543 131.630111 \nL 161.628722 130.596504 \nL 171.372901 134.287145 \nL 181.11708 132.914703 \nL 190.861259 136.073698 \nL 200.605438 134.725704 \nL 210.349618 136.922727 \nL 220.093797 136.165512 \n\" style=\"fill:none;stroke:#1f77b4;stroke-linecap:square;stroke-width:1.5;\"/>\n   </g>\n   <g id=\"line2d_125\">\n    <path clip-path=\"url(#p84e8809e0c)\" d=\"M 49.633125 99.980645 \nL 69.163125 109.173501 \nL 88.693125 117.698312 \nL 108.223125 108.540545 \nL 127.753125 114.986531 \nL 147.283125 112.234081 \nL 166.813125 109.474821 \nL 186.343125 112.256903 \nL 205.873125 112.292007 \nL 225.403125 116.042932 \n\" style=\"fill:none;stroke:#ff7f0e;stroke-dasharray:5.55,2.4;stroke-dashoffset:0;stroke-width:1.5;\"/>\n   </g>\n   <g id=\"line2d_126\">\n    <path clip-path=\"url(#p84e8809e0c)\" d=\"M 49.633125 20.707593 \nL 69.163125 17.100842 \nL 88.693125 13.756931 \nL 108.223125 17.08624 \nL 127.753125 14.633065 \nL 147.283125 15.217154 \nL 166.813125 16.122492 \nL 186.343125 15.158745 \nL 205.873125 14.662269 \nL 225.403125 13.377273 \n\" style=\"fill:none;stroke:#2ca02c;stroke-dasharray:9.6,2.4,1.5,2.4;stroke-dashoffset:0;stroke-width:1.5;\"/>\n   </g>\n   <g id=\"patch_3\">\n    <path d=\"M 30.103125 143.1 \nL 30.103125 7.2 \n\" style=\"fill:none;stroke:#000000;stroke-linecap:square;stroke-linejoin:miter;stroke-width:0.8;\"/>\n   </g>\n   <g id=\"patch_4\">\n    <path d=\"M 225.403125 143.1 \nL 225.403125 7.2 \n\" style=\"fill:none;stroke:#000000;stroke-linecap:square;stroke-linejoin:miter;stroke-width:0.8;\"/>\n   </g>\n   <g id=\"patch_5\">\n    <path d=\"M 30.103125 143.1 \nL 225.403125 143.1 \n\" style=\"fill:none;stroke:#000000;stroke-linecap:square;stroke-linejoin:miter;stroke-width:0.8;\"/>\n   </g>\n   <g id=\"patch_6\">\n    <path d=\"M 30.103125 7.2 \nL 225.403125 7.2 \n\" style=\"fill:none;stroke:#000000;stroke-linecap:square;stroke-linejoin:miter;stroke-width:0.8;\"/>\n   </g>\n   <g id=\"legend_1\">\n    <g id=\"patch_7\">\n     <path d=\"M 138.8125 99.084375 \nL 218.403125 99.084375 \nQ 220.403125 99.084375 220.403125 97.084375 \nL 220.403125 53.215625 \nQ 220.403125 51.215625 218.403125 51.215625 \nL 138.8125 51.215625 \nQ 136.8125 51.215625 136.8125 53.215625 \nL 136.8125 97.084375 \nQ 136.8125 99.084375 138.8125 99.084375 \nz\n\" style=\"fill:#ffffff;opacity:0.8;stroke:#cccccc;stroke-linejoin:miter;\"/>\n    </g>\n    <g id=\"line2d_127\">\n     <path d=\"M 140.8125 59.314062 \nL 160.8125 59.314062 \n\" style=\"fill:none;stroke:#1f77b4;stroke-linecap:square;stroke-width:1.5;\"/>\n    </g>\n    <g id=\"line2d_128\"/>\n    <g id=\"text_12\">\n     <!-- train_loss -->\n     <defs>\n      <path d=\"M 18.3125 70.21875 \nL 18.3125 54.6875 \nL 36.8125 54.6875 \nL 36.8125 47.703125 \nL 18.3125 47.703125 \nL 18.3125 18.015625 \nQ 18.3125 11.328125 20.140625 9.421875 \nQ 21.96875 7.515625 27.59375 7.515625 \nL 36.8125 7.515625 \nL 36.8125 0 \nL 27.59375 0 \nQ 17.1875 0 13.234375 3.875 \nQ 9.28125 7.765625 9.28125 18.015625 \nL 9.28125 47.703125 \nL 2.6875 47.703125 \nL 2.6875 54.6875 \nL 9.28125 54.6875 \nL 9.28125 70.21875 \nz\n\" id=\"DejaVuSans-116\"/>\n      <path d=\"M 41.109375 46.296875 \nQ 39.59375 47.171875 37.8125 47.578125 \nQ 36.03125 48 33.890625 48 \nQ 26.265625 48 22.1875 43.046875 \nQ 18.109375 38.09375 18.109375 28.8125 \nL 18.109375 0 \nL 9.078125 0 \nL 9.078125 54.6875 \nL 18.109375 54.6875 \nL 18.109375 46.1875 \nQ 20.953125 51.171875 25.484375 53.578125 \nQ 30.03125 56 36.53125 56 \nQ 37.453125 56 38.578125 55.875 \nQ 39.703125 55.765625 41.0625 55.515625 \nz\n\" id=\"DejaVuSans-114\"/>\n      <path d=\"M 34.28125 27.484375 \nQ 23.390625 27.484375 19.1875 25 \nQ 14.984375 22.515625 14.984375 16.5 \nQ 14.984375 11.71875 18.140625 8.90625 \nQ 21.296875 6.109375 26.703125 6.109375 \nQ 34.1875 6.109375 38.703125 11.40625 \nQ 43.21875 16.703125 43.21875 25.484375 \nL 43.21875 27.484375 \nz\nM 52.203125 31.203125 \nL 52.203125 0 \nL 43.21875 0 \nL 43.21875 8.296875 \nQ 40.140625 3.328125 35.546875 0.953125 \nQ 30.953125 -1.421875 24.3125 -1.421875 \nQ 15.921875 -1.421875 10.953125 3.296875 \nQ 6 8.015625 6 15.921875 \nQ 6 25.140625 12.171875 29.828125 \nQ 18.359375 34.515625 30.609375 34.515625 \nL 43.21875 34.515625 \nL 43.21875 35.40625 \nQ 43.21875 41.609375 39.140625 45 \nQ 35.0625 48.390625 27.6875 48.390625 \nQ 23 48.390625 18.546875 47.265625 \nQ 14.109375 46.140625 10.015625 43.890625 \nL 10.015625 52.203125 \nQ 14.9375 54.109375 19.578125 55.046875 \nQ 24.21875 56 28.609375 56 \nQ 40.484375 56 46.34375 49.84375 \nQ 52.203125 43.703125 52.203125 31.203125 \nz\n\" id=\"DejaVuSans-97\"/>\n      <path d=\"M 9.421875 54.6875 \nL 18.40625 54.6875 \nL 18.40625 0 \nL 9.421875 0 \nz\nM 9.421875 75.984375 \nL 18.40625 75.984375 \nL 18.40625 64.59375 \nL 9.421875 64.59375 \nz\n\" id=\"DejaVuSans-105\"/>\n      <path d=\"M 54.890625 33.015625 \nL 54.890625 0 \nL 45.90625 0 \nL 45.90625 32.71875 \nQ 45.90625 40.484375 42.875 44.328125 \nQ 39.84375 48.1875 33.796875 48.1875 \nQ 26.515625 48.1875 22.3125 43.546875 \nQ 18.109375 38.921875 18.109375 30.90625 \nL 18.109375 0 \nL 9.078125 0 \nL 9.078125 54.6875 \nL 18.109375 54.6875 \nL 18.109375 46.1875 \nQ 21.34375 51.125 25.703125 53.5625 \nQ 30.078125 56 35.796875 56 \nQ 45.21875 56 50.046875 50.171875 \nQ 54.890625 44.34375 54.890625 33.015625 \nz\n\" id=\"DejaVuSans-110\"/>\n      <path d=\"M 50.984375 -16.609375 \nL 50.984375 -23.578125 \nL -0.984375 -23.578125 \nL -0.984375 -16.609375 \nz\n\" id=\"DejaVuSans-95\"/>\n      <path d=\"M 9.421875 75.984375 \nL 18.40625 75.984375 \nL 18.40625 0 \nL 9.421875 0 \nz\n\" id=\"DejaVuSans-108\"/>\n      <path d=\"M 44.28125 53.078125 \nL 44.28125 44.578125 \nQ 40.484375 46.53125 36.375 47.5 \nQ 32.28125 48.484375 27.875 48.484375 \nQ 21.1875 48.484375 17.84375 46.4375 \nQ 14.5 44.390625 14.5 40.28125 \nQ 14.5 37.15625 16.890625 35.375 \nQ 19.28125 33.59375 26.515625 31.984375 \nL 29.59375 31.296875 \nQ 39.15625 29.25 43.1875 25.515625 \nQ 47.21875 21.78125 47.21875 15.09375 \nQ 47.21875 7.46875 41.1875 3.015625 \nQ 35.15625 -1.421875 24.609375 -1.421875 \nQ 20.21875 -1.421875 15.453125 -0.5625 \nQ 10.6875 0.296875 5.421875 2 \nL 5.421875 11.28125 \nQ 10.40625 8.6875 15.234375 7.390625 \nQ 20.0625 6.109375 24.8125 6.109375 \nQ 31.15625 6.109375 34.5625 8.28125 \nQ 37.984375 10.453125 37.984375 14.40625 \nQ 37.984375 18.0625 35.515625 20.015625 \nQ 33.0625 21.96875 24.703125 23.78125 \nL 21.578125 24.515625 \nQ 13.234375 26.265625 9.515625 29.90625 \nQ 5.8125 33.546875 5.8125 39.890625 \nQ 5.8125 47.609375 11.28125 51.796875 \nQ 16.75 56 26.8125 56 \nQ 31.78125 56 36.171875 55.265625 \nQ 40.578125 54.546875 44.28125 53.078125 \nz\n\" id=\"DejaVuSans-115\"/>\n     </defs>\n     <g transform=\"translate(168.8125 62.814062)scale(0.1 -0.1)\">\n      <use xlink:href=\"#DejaVuSans-116\"/>\n      <use x=\"39.208984\" xlink:href=\"#DejaVuSans-114\"/>\n      <use x=\"80.322266\" xlink:href=\"#DejaVuSans-97\"/>\n      <use x=\"141.601562\" xlink:href=\"#DejaVuSans-105\"/>\n      <use x=\"169.384766\" xlink:href=\"#DejaVuSans-110\"/>\n      <use x=\"232.763672\" xlink:href=\"#DejaVuSans-95\"/>\n      <use x=\"282.763672\" xlink:href=\"#DejaVuSans-108\"/>\n      <use x=\"310.546875\" xlink:href=\"#DejaVuSans-111\"/>\n      <use x=\"371.728516\" xlink:href=\"#DejaVuSans-115\"/>\n      <use x=\"423.828125\" xlink:href=\"#DejaVuSans-115\"/>\n     </g>\n    </g>\n    <g id=\"line2d_129\">\n     <path d=\"M 140.8125 74.270312 \nL 160.8125 74.270312 \n\" style=\"fill:none;stroke:#ff7f0e;stroke-dasharray:5.55,2.4;stroke-dashoffset:0;stroke-width:1.5;\"/>\n    </g>\n    <g id=\"line2d_130\"/>\n    <g id=\"text_13\">\n     <!-- val_loss -->\n     <defs>\n      <path d=\"M 2.984375 54.6875 \nL 12.5 54.6875 \nL 29.59375 8.796875 \nL 46.6875 54.6875 \nL 56.203125 54.6875 \nL 35.6875 0 \nL 23.484375 0 \nz\n\" id=\"DejaVuSans-118\"/>\n     </defs>\n     <g transform=\"translate(168.8125 77.770312)scale(0.1 -0.1)\">\n      <use xlink:href=\"#DejaVuSans-118\"/>\n      <use x=\"59.179688\" xlink:href=\"#DejaVuSans-97\"/>\n      <use x=\"120.458984\" xlink:href=\"#DejaVuSans-108\"/>\n      <use x=\"148.242188\" xlink:href=\"#DejaVuSans-95\"/>\n      <use x=\"198.242188\" xlink:href=\"#DejaVuSans-108\"/>\n      <use x=\"226.025391\" xlink:href=\"#DejaVuSans-111\"/>\n      <use x=\"287.207031\" xlink:href=\"#DejaVuSans-115\"/>\n      <use x=\"339.306641\" xlink:href=\"#DejaVuSans-115\"/>\n     </g>\n    </g>\n    <g id=\"line2d_131\">\n     <path d=\"M 140.8125 89.226562 \nL 160.8125 89.226562 \n\" style=\"fill:none;stroke:#2ca02c;stroke-dasharray:9.6,2.4,1.5,2.4;stroke-dashoffset:0;stroke-width:1.5;\"/>\n    </g>\n    <g id=\"line2d_132\"/>\n    <g id=\"text_14\">\n     <!-- val_acc -->\n     <g transform=\"translate(168.8125 92.726562)scale(0.1 -0.1)\">\n      <use xlink:href=\"#DejaVuSans-118\"/>\n      <use x=\"59.179688\" xlink:href=\"#DejaVuSans-97\"/>\n      <use x=\"120.458984\" xlink:href=\"#DejaVuSans-108\"/>\n      <use x=\"148.242188\" xlink:href=\"#DejaVuSans-95\"/>\n      <use x=\"198.242188\" xlink:href=\"#DejaVuSans-97\"/>\n      <use x=\"259.521484\" xlink:href=\"#DejaVuSans-99\"/>\n      <use x=\"314.501953\" xlink:href=\"#DejaVuSans-99\"/>\n     </g>\n    </g>\n   </g>\n  </g>\n </g>\n <defs>\n  <clipPath id=\"p84e8809e0c\">\n   <rect height=\"135.9\" width=\"195.3\" x=\"30.103125\" y=\"7.2\"/>\n  </clipPath>\n </defs>\n</svg>\n"
          },
          "metadata": {
            "needs_background": "light"
          }
        }
      ]
    },
    {
      "cell_type": "markdown",
      "source": [
        "### Q2:\n",
        "\n",
        "ResNet model's parameters takes 10 times more memory than that of DenseNet model\n",
        "\n",
        "becuase in the ResNet model the number of channels are increasing continuously with not enough decrease in the dimensions of the image, so the memory keeps increasing"
      ],
      "metadata": {
        "id": "FAiLiSyC-MyC"
      }
    },
    {
      "cell_type": "code",
      "source": [
        "from torchsummary import summary\n",
        "summary(DenseNet1(lr=0.1).net, (1, 96, 96), device='cpu')"
      ],
      "metadata": {
        "colab": {
          "base_uri": "https://localhost:8080/"
        },
        "id": "cdimhr6N8ErT",
        "outputId": "12b193df-32cf-43ea-c63e-89be1b7bac9c"
      },
      "execution_count": 18,
      "outputs": [
        {
          "output_type": "stream",
          "name": "stdout",
          "text": [
            "----------------------------------------------------------------\n",
            "        Layer (type)               Output Shape         Param #\n",
            "================================================================\n",
            "            Conv2d-1           [-1, 64, 48, 48]           3,200\n",
            "       BatchNorm2d-2           [-1, 64, 48, 48]             128\n",
            "              ReLU-3           [-1, 64, 48, 48]               0\n",
            "         MaxPool2d-4           [-1, 64, 24, 24]               0\n",
            "       BatchNorm2d-5           [-1, 64, 24, 24]             128\n",
            "              ReLU-6           [-1, 64, 24, 24]               0\n",
            "            Conv2d-7           [-1, 32, 24, 24]          18,464\n",
            "       BatchNorm2d-8           [-1, 96, 24, 24]             192\n",
            "              ReLU-9           [-1, 96, 24, 24]               0\n",
            "           Conv2d-10           [-1, 32, 24, 24]          27,680\n",
            "      BatchNorm2d-11          [-1, 128, 24, 24]             256\n",
            "             ReLU-12          [-1, 128, 24, 24]               0\n",
            "           Conv2d-13           [-1, 32, 24, 24]          36,896\n",
            "      BatchNorm2d-14          [-1, 160, 24, 24]             320\n",
            "             ReLU-15          [-1, 160, 24, 24]               0\n",
            "           Conv2d-16           [-1, 32, 24, 24]          46,112\n",
            "       DenseBlock-17          [-1, 192, 24, 24]               0\n",
            "      BatchNorm2d-18          [-1, 192, 24, 24]             384\n",
            "             ReLU-19          [-1, 192, 24, 24]               0\n",
            "           Conv2d-20           [-1, 96, 24, 24]          18,528\n",
            "        MaxPool2d-21           [-1, 96, 12, 12]               0\n",
            "      BatchNorm2d-22           [-1, 96, 12, 12]             192\n",
            "             ReLU-23           [-1, 96, 12, 12]               0\n",
            "           Conv2d-24           [-1, 32, 12, 12]          27,680\n",
            "      BatchNorm2d-25          [-1, 128, 12, 12]             256\n",
            "             ReLU-26          [-1, 128, 12, 12]               0\n",
            "           Conv2d-27           [-1, 32, 12, 12]          36,896\n",
            "      BatchNorm2d-28          [-1, 160, 12, 12]             320\n",
            "             ReLU-29          [-1, 160, 12, 12]               0\n",
            "           Conv2d-30           [-1, 32, 12, 12]          46,112\n",
            "      BatchNorm2d-31          [-1, 192, 12, 12]             384\n",
            "             ReLU-32          [-1, 192, 12, 12]               0\n",
            "           Conv2d-33           [-1, 32, 12, 12]          55,328\n",
            "       DenseBlock-34          [-1, 224, 12, 12]               0\n",
            "      BatchNorm2d-35          [-1, 224, 12, 12]             448\n",
            "             ReLU-36          [-1, 224, 12, 12]               0\n",
            "           Conv2d-37          [-1, 112, 12, 12]          25,200\n",
            "        MaxPool2d-38            [-1, 112, 6, 6]               0\n",
            "      BatchNorm2d-39            [-1, 112, 6, 6]             224\n",
            "             ReLU-40            [-1, 112, 6, 6]               0\n",
            "           Conv2d-41             [-1, 32, 6, 6]          32,288\n",
            "      BatchNorm2d-42            [-1, 144, 6, 6]             288\n",
            "             ReLU-43            [-1, 144, 6, 6]               0\n",
            "           Conv2d-44             [-1, 32, 6, 6]          41,504\n",
            "      BatchNorm2d-45            [-1, 176, 6, 6]             352\n",
            "             ReLU-46            [-1, 176, 6, 6]               0\n",
            "           Conv2d-47             [-1, 32, 6, 6]          50,720\n",
            "      BatchNorm2d-48            [-1, 208, 6, 6]             416\n",
            "             ReLU-49            [-1, 208, 6, 6]               0\n",
            "           Conv2d-50             [-1, 32, 6, 6]          59,936\n",
            "       DenseBlock-51            [-1, 240, 6, 6]               0\n",
            "      BatchNorm2d-52            [-1, 240, 6, 6]             480\n",
            "             ReLU-53            [-1, 240, 6, 6]               0\n",
            "           Conv2d-54            [-1, 120, 6, 6]          28,920\n",
            "        MaxPool2d-55            [-1, 120, 3, 3]               0\n",
            "      BatchNorm2d-56            [-1, 120, 3, 3]             240\n",
            "             ReLU-57            [-1, 120, 3, 3]               0\n",
            "           Conv2d-58             [-1, 32, 3, 3]          34,592\n",
            "      BatchNorm2d-59            [-1, 152, 3, 3]             304\n",
            "             ReLU-60            [-1, 152, 3, 3]               0\n",
            "           Conv2d-61             [-1, 32, 3, 3]          43,808\n",
            "      BatchNorm2d-62            [-1, 184, 3, 3]             368\n",
            "             ReLU-63            [-1, 184, 3, 3]               0\n",
            "           Conv2d-64             [-1, 32, 3, 3]          53,024\n",
            "      BatchNorm2d-65            [-1, 216, 3, 3]             432\n",
            "             ReLU-66            [-1, 216, 3, 3]               0\n",
            "           Conv2d-67             [-1, 32, 3, 3]          62,240\n",
            "       DenseBlock-68            [-1, 248, 3, 3]               0\n",
            "      BatchNorm2d-69            [-1, 248, 3, 3]             496\n",
            "             ReLU-70            [-1, 248, 3, 3]               0\n",
            "AdaptiveAvgPool2d-71            [-1, 248, 1, 1]               0\n",
            "          Flatten-72                  [-1, 248]               0\n",
            "           Linear-73                   [-1, 10]           2,490\n",
            "================================================================\n",
            "Total params: 758,226\n",
            "Trainable params: 758,226\n",
            "Non-trainable params: 0\n",
            "----------------------------------------------------------------\n",
            "Input size (MB): 0.04\n",
            "Forward/backward pass size (MB): 14.29\n",
            "Params size (MB): 2.89\n",
            "Estimated Total Size (MB): 17.22\n",
            "----------------------------------------------------------------\n"
          ]
        },
        {
          "output_type": "stream",
          "name": "stderr",
          "text": [
            "/usr/local/lib/python3.8/dist-packages/torch/nn/modules/lazy.py:180: UserWarning: Lazy modules are a new feature under heavy development so changes to the API or functionality can happen at any moment.\n",
            "  warnings.warn('Lazy modules are a new feature under heavy development '\n"
          ]
        }
      ]
    },
    {
      "cell_type": "markdown",
      "source": [
        "let's check the same for resnet"
      ],
      "metadata": {
        "id": "1q2lrRcx-cfK"
      }
    },
    {
      "cell_type": "code",
      "source": [
        "class Residual(nn.Module):\n",
        "\n",
        "  def __init__(self, num_channels, use_1x1conv=False, strides=1):\n",
        "    super().__init__()\n",
        "    self.conv1 = nn.LazyConv2d(num_channels, kernel_size=3, padding=1, stride=strides)\n",
        "    self.conv2 = nn.LazyConv2d(num_channels, kernel_size=3, padding=1)\n",
        "\n",
        "    if use_1x1conv:\n",
        "      self.conv3 = nn.LazyConv2d(num_channels, kernel_size=1, stride=strides)\n",
        "    else:\n",
        "      self.conv3 = None\n",
        "\n",
        "    self.bn1 = nn.LazyBatchNorm2d()\n",
        "    self.bn2 = nn.LazyBatchNorm2d()\n",
        "\n",
        "  def forward(self, X):\n",
        "    Y = F.relu(self.bn1(self.conv1(X)))\n",
        "    Y = self.bn2(self.conv2(Y))\n",
        "    if self.conv3 is not None:\n",
        "      X = self.conv3(X)\n",
        "    return F.relu(Y+X) "
      ],
      "metadata": {
        "id": "P9kjq4N1-X-s"
      },
      "execution_count": 10,
      "outputs": []
    },
    {
      "cell_type": "code",
      "source": [
        "class ResNet(d2l.Classifier):\n",
        "\n",
        "  def __init__(self, arch, lr=0.1, num_classes=10):\n",
        "    super().__init__()\n",
        "    self.save_hyperparameters()\n",
        "    self.net = nn.Sequential(self.b1())\n",
        "\n",
        "    for i, b in enumerate(arch):\n",
        "      self.net.add_module(f\"b{i+2}\", self.block(*b, first_block=(i==0)))\n",
        "    self.net.add_module('last', nn.Sequential(\n",
        "        nn.AdaptiveAvgPool2d((1, 1)), nn.Flatten(),\n",
        "        nn.LazyLinear(num_classes)\n",
        "    ))\n",
        "\n",
        "  def b1(self):\n",
        "    return nn.Sequential(\n",
        "        nn.LazyConv2d(64, kernel_size=7, padding=3, stride=2), nn.LazyBatchNorm2d(), nn.ReLU(),\n",
        "        nn.MaxPool2d(kernel_size=3, stride=2, padding=1)\n",
        "    )\n",
        "\n",
        "  def block(self, num_residuals, num_channels, first_block=False):\n",
        "    blk = []\n",
        "    for i in range(num_residuals):\n",
        "      if i == 0 and not first_block:\n",
        "        blk.append(Residual(num_channels, use_1x1conv=True, strides=2))\n",
        "      else:\n",
        "        blk.append(Residual(num_channels))\n",
        "    return nn.Sequential(*blk)\n",
        "\n",
        "  def forward(self, X):\n",
        "    return self.net(X)"
      ],
      "metadata": {
        "id": "lmPY9uk-_elp"
      },
      "execution_count": 11,
      "outputs": []
    },
    {
      "cell_type": "code",
      "source": [
        "class ResNet18(ResNet):\n",
        "\n",
        "  def __init__(self, lr=0.1, num_classes=10):\n",
        "    arch = ((2, 64), (2, 128), (2, 256), (2, 512))\n",
        "    super().__init__(arch, lr, num_classes)"
      ],
      "metadata": {
        "id": "Ee9A9hi_A-ah"
      },
      "execution_count": 12,
      "outputs": []
    },
    {
      "cell_type": "code",
      "source": [
        "summary(ResNet18(), (1, 96, 96), device='cpu')"
      ],
      "metadata": {
        "colab": {
          "base_uri": "https://localhost:8080/"
        },
        "id": "0-zRKhIOBR5q",
        "outputId": "779fbf36-0929-4505-e6c8-45c90085994b"
      },
      "execution_count": 24,
      "outputs": [
        {
          "output_type": "stream",
          "name": "stdout",
          "text": [
            "----------------------------------------------------------------\n",
            "        Layer (type)               Output Shape         Param #\n",
            "================================================================\n",
            "            Conv2d-1           [-1, 64, 48, 48]           3,200\n",
            "       BatchNorm2d-2           [-1, 64, 48, 48]             128\n",
            "              ReLU-3           [-1, 64, 48, 48]               0\n",
            "         MaxPool2d-4           [-1, 64, 24, 24]               0\n",
            "            Conv2d-5           [-1, 64, 24, 24]          36,928\n",
            "       BatchNorm2d-6           [-1, 64, 24, 24]             128\n",
            "            Conv2d-7           [-1, 64, 24, 24]          36,928\n",
            "       BatchNorm2d-8           [-1, 64, 24, 24]             128\n",
            "          Residual-9           [-1, 64, 24, 24]               0\n",
            "           Conv2d-10           [-1, 64, 24, 24]          36,928\n",
            "      BatchNorm2d-11           [-1, 64, 24, 24]             128\n",
            "           Conv2d-12           [-1, 64, 24, 24]          36,928\n",
            "      BatchNorm2d-13           [-1, 64, 24, 24]             128\n",
            "         Residual-14           [-1, 64, 24, 24]               0\n",
            "           Conv2d-15          [-1, 128, 12, 12]          73,856\n",
            "      BatchNorm2d-16          [-1, 128, 12, 12]             256\n",
            "           Conv2d-17          [-1, 128, 12, 12]         147,584\n",
            "      BatchNorm2d-18          [-1, 128, 12, 12]             256\n",
            "           Conv2d-19          [-1, 128, 12, 12]           8,320\n",
            "         Residual-20          [-1, 128, 12, 12]               0\n",
            "           Conv2d-21          [-1, 128, 12, 12]         147,584\n",
            "      BatchNorm2d-22          [-1, 128, 12, 12]             256\n",
            "           Conv2d-23          [-1, 128, 12, 12]         147,584\n",
            "      BatchNorm2d-24          [-1, 128, 12, 12]             256\n",
            "         Residual-25          [-1, 128, 12, 12]               0\n",
            "           Conv2d-26            [-1, 256, 6, 6]         295,168\n",
            "      BatchNorm2d-27            [-1, 256, 6, 6]             512\n",
            "           Conv2d-28            [-1, 256, 6, 6]         590,080\n",
            "      BatchNorm2d-29            [-1, 256, 6, 6]             512\n",
            "           Conv2d-30            [-1, 256, 6, 6]          33,024\n",
            "         Residual-31            [-1, 256, 6, 6]               0\n",
            "           Conv2d-32            [-1, 256, 6, 6]         590,080\n",
            "      BatchNorm2d-33            [-1, 256, 6, 6]             512\n",
            "           Conv2d-34            [-1, 256, 6, 6]         590,080\n",
            "      BatchNorm2d-35            [-1, 256, 6, 6]             512\n",
            "         Residual-36            [-1, 256, 6, 6]               0\n",
            "           Conv2d-37            [-1, 512, 3, 3]       1,180,160\n",
            "      BatchNorm2d-38            [-1, 512, 3, 3]           1,024\n",
            "           Conv2d-39            [-1, 512, 3, 3]       2,359,808\n",
            "      BatchNorm2d-40            [-1, 512, 3, 3]           1,024\n",
            "           Conv2d-41            [-1, 512, 3, 3]         131,584\n",
            "         Residual-42            [-1, 512, 3, 3]               0\n",
            "           Conv2d-43            [-1, 512, 3, 3]       2,359,808\n",
            "      BatchNorm2d-44            [-1, 512, 3, 3]           1,024\n",
            "           Conv2d-45            [-1, 512, 3, 3]       2,359,808\n",
            "      BatchNorm2d-46            [-1, 512, 3, 3]           1,024\n",
            "         Residual-47            [-1, 512, 3, 3]               0\n",
            "AdaptiveAvgPool2d-48            [-1, 512, 1, 1]               0\n",
            "          Flatten-49                  [-1, 512]               0\n",
            "           Linear-50                   [-1, 10]           5,130\n",
            "================================================================\n",
            "Total params: 11,178,378\n",
            "Trainable params: 11,178,378\n",
            "Non-trainable params: 0\n",
            "----------------------------------------------------------------\n",
            "Input size (MB): 0.04\n",
            "Forward/backward pass size (MB): 9.18\n",
            "Params size (MB): 42.64\n",
            "Estimated Total Size (MB): 51.86\n",
            "----------------------------------------------------------------\n"
          ]
        },
        {
          "output_type": "stream",
          "name": "stderr",
          "text": [
            "/usr/local/lib/python3.8/dist-packages/torch/nn/modules/lazy.py:180: UserWarning: Lazy modules are a new feature under heavy development so changes to the API or functionality can happen at any moment.\n",
            "  warnings.warn('Lazy modules are a new feature under heavy development '\n"
          ]
        }
      ]
    },
    {
      "cell_type": "markdown",
      "source": [
        "### Q3:"
      ],
      "metadata": {
        "id": "QXKxVeEJB-bU"
      }
    },
    {
      "cell_type": "code",
      "source": [
        "summary(DenseNet1(lr=0.1).net, (1, 224, 224), device='cpu')"
      ],
      "metadata": {
        "colab": {
          "base_uri": "https://localhost:8080/"
        },
        "id": "80FzLHTZBYIF",
        "outputId": "9958c846-03f5-4e0c-b485-d8955e794a7f"
      },
      "execution_count": 27,
      "outputs": [
        {
          "output_type": "stream",
          "name": "stdout",
          "text": [
            "----------------------------------------------------------------\n",
            "        Layer (type)               Output Shape         Param #\n",
            "================================================================\n",
            "            Conv2d-1         [-1, 64, 112, 112]           3,200\n",
            "       BatchNorm2d-2         [-1, 64, 112, 112]             128\n",
            "              ReLU-3         [-1, 64, 112, 112]               0\n",
            "         MaxPool2d-4           [-1, 64, 56, 56]               0\n",
            "       BatchNorm2d-5           [-1, 64, 56, 56]             128\n",
            "              ReLU-6           [-1, 64, 56, 56]               0\n",
            "            Conv2d-7           [-1, 32, 56, 56]          18,464\n",
            "       BatchNorm2d-8           [-1, 96, 56, 56]             192\n",
            "              ReLU-9           [-1, 96, 56, 56]               0\n",
            "           Conv2d-10           [-1, 32, 56, 56]          27,680\n",
            "      BatchNorm2d-11          [-1, 128, 56, 56]             256\n",
            "             ReLU-12          [-1, 128, 56, 56]               0\n",
            "           Conv2d-13           [-1, 32, 56, 56]          36,896\n",
            "      BatchNorm2d-14          [-1, 160, 56, 56]             320\n",
            "             ReLU-15          [-1, 160, 56, 56]               0\n",
            "           Conv2d-16           [-1, 32, 56, 56]          46,112\n",
            "       DenseBlock-17          [-1, 192, 56, 56]               0\n",
            "      BatchNorm2d-18          [-1, 192, 56, 56]             384\n",
            "             ReLU-19          [-1, 192, 56, 56]               0\n",
            "           Conv2d-20           [-1, 96, 56, 56]          18,528\n",
            "        MaxPool2d-21           [-1, 96, 28, 28]               0\n",
            "      BatchNorm2d-22           [-1, 96, 28, 28]             192\n",
            "             ReLU-23           [-1, 96, 28, 28]               0\n",
            "           Conv2d-24           [-1, 32, 28, 28]          27,680\n",
            "      BatchNorm2d-25          [-1, 128, 28, 28]             256\n",
            "             ReLU-26          [-1, 128, 28, 28]               0\n",
            "           Conv2d-27           [-1, 32, 28, 28]          36,896\n",
            "      BatchNorm2d-28          [-1, 160, 28, 28]             320\n",
            "             ReLU-29          [-1, 160, 28, 28]               0\n",
            "           Conv2d-30           [-1, 32, 28, 28]          46,112\n",
            "      BatchNorm2d-31          [-1, 192, 28, 28]             384\n",
            "             ReLU-32          [-1, 192, 28, 28]               0\n",
            "           Conv2d-33           [-1, 32, 28, 28]          55,328\n",
            "       DenseBlock-34          [-1, 224, 28, 28]               0\n",
            "      BatchNorm2d-35          [-1, 224, 28, 28]             448\n",
            "             ReLU-36          [-1, 224, 28, 28]               0\n",
            "           Conv2d-37          [-1, 112, 28, 28]          25,200\n",
            "        MaxPool2d-38          [-1, 112, 14, 14]               0\n",
            "      BatchNorm2d-39          [-1, 112, 14, 14]             224\n",
            "             ReLU-40          [-1, 112, 14, 14]               0\n",
            "           Conv2d-41           [-1, 32, 14, 14]          32,288\n",
            "      BatchNorm2d-42          [-1, 144, 14, 14]             288\n",
            "             ReLU-43          [-1, 144, 14, 14]               0\n",
            "           Conv2d-44           [-1, 32, 14, 14]          41,504\n",
            "      BatchNorm2d-45          [-1, 176, 14, 14]             352\n",
            "             ReLU-46          [-1, 176, 14, 14]               0\n",
            "           Conv2d-47           [-1, 32, 14, 14]          50,720\n",
            "      BatchNorm2d-48          [-1, 208, 14, 14]             416\n",
            "             ReLU-49          [-1, 208, 14, 14]               0\n",
            "           Conv2d-50           [-1, 32, 14, 14]          59,936\n",
            "       DenseBlock-51          [-1, 240, 14, 14]               0\n",
            "      BatchNorm2d-52          [-1, 240, 14, 14]             480\n",
            "             ReLU-53          [-1, 240, 14, 14]               0\n",
            "           Conv2d-54          [-1, 120, 14, 14]          28,920\n",
            "        MaxPool2d-55            [-1, 120, 7, 7]               0\n",
            "      BatchNorm2d-56            [-1, 120, 7, 7]             240\n",
            "             ReLU-57            [-1, 120, 7, 7]               0\n",
            "           Conv2d-58             [-1, 32, 7, 7]          34,592\n",
            "      BatchNorm2d-59            [-1, 152, 7, 7]             304\n",
            "             ReLU-60            [-1, 152, 7, 7]               0\n",
            "           Conv2d-61             [-1, 32, 7, 7]          43,808\n",
            "      BatchNorm2d-62            [-1, 184, 7, 7]             368\n",
            "             ReLU-63            [-1, 184, 7, 7]               0\n",
            "           Conv2d-64             [-1, 32, 7, 7]          53,024\n",
            "      BatchNorm2d-65            [-1, 216, 7, 7]             432\n",
            "             ReLU-66            [-1, 216, 7, 7]               0\n",
            "           Conv2d-67             [-1, 32, 7, 7]          62,240\n",
            "       DenseBlock-68            [-1, 248, 7, 7]               0\n",
            "      BatchNorm2d-69            [-1, 248, 7, 7]             496\n",
            "             ReLU-70            [-1, 248, 7, 7]               0\n",
            "AdaptiveAvgPool2d-71            [-1, 248, 1, 1]               0\n",
            "          Flatten-72                  [-1, 248]               0\n",
            "           Linear-73                   [-1, 10]           2,490\n",
            "================================================================\n",
            "Total params: 758,226\n",
            "Trainable params: 758,226\n",
            "Non-trainable params: 0\n",
            "----------------------------------------------------------------\n",
            "Input size (MB): 0.19\n",
            "Forward/backward pass size (MB): 77.81\n",
            "Params size (MB): 2.89\n",
            "Estimated Total Size (MB): 80.89\n",
            "----------------------------------------------------------------\n"
          ]
        }
      ]
    },
    {
      "cell_type": "markdown",
      "source": [
        "### Q4:"
      ],
      "metadata": {
        "id": "m4IsSrcHCiO_"
      }
    },
    {
      "cell_type": "markdown",
      "source": [
        "let's try DenseNet-121 : crashed"
      ],
      "metadata": {
        "id": "TiYqWESjCj11"
      }
    },
    {
      "cell_type": "code",
      "source": [
        "arch = (6, 12, 48, 32)\n",
        "model = DenseNet(num_channels=1, arch = arch, lr=0.1)\n",
        "summary(model.net, (1, 224, 224), device='cpu')"
      ],
      "metadata": {
        "colab": {
          "base_uri": "https://localhost:8080/"
        },
        "id": "G0hc5_k5Dvih",
        "outputId": "8af93b9e-a6f3-444a-c901-1b063cf5482e"
      },
      "execution_count": 29,
      "outputs": [
        {
          "output_type": "stream",
          "name": "stderr",
          "text": [
            "/usr/local/lib/python3.8/dist-packages/torch/nn/modules/lazy.py:180: UserWarning: Lazy modules are a new feature under heavy development so changes to the API or functionality can happen at any moment.\n",
            "  warnings.warn('Lazy modules are a new feature under heavy development '\n"
          ]
        },
        {
          "output_type": "stream",
          "name": "stdout",
          "text": [
            "----------------------------------------------------------------\n",
            "        Layer (type)               Output Shape         Param #\n",
            "================================================================\n",
            "            Conv2d-1         [-1, 64, 112, 112]           3,200\n",
            "       BatchNorm2d-2         [-1, 64, 112, 112]             128\n",
            "              ReLU-3         [-1, 64, 112, 112]               0\n",
            "         MaxPool2d-4           [-1, 64, 56, 56]               0\n",
            "       BatchNorm2d-5           [-1, 64, 56, 56]             128\n",
            "              ReLU-6           [-1, 64, 56, 56]               0\n",
            "            Conv2d-7           [-1, 32, 56, 56]          18,464\n",
            "       BatchNorm2d-8           [-1, 96, 56, 56]             192\n",
            "              ReLU-9           [-1, 96, 56, 56]               0\n",
            "           Conv2d-10           [-1, 32, 56, 56]          27,680\n",
            "      BatchNorm2d-11          [-1, 128, 56, 56]             256\n",
            "             ReLU-12          [-1, 128, 56, 56]               0\n",
            "           Conv2d-13           [-1, 32, 56, 56]          36,896\n",
            "      BatchNorm2d-14          [-1, 160, 56, 56]             320\n",
            "             ReLU-15          [-1, 160, 56, 56]               0\n",
            "           Conv2d-16           [-1, 32, 56, 56]          46,112\n",
            "      BatchNorm2d-17          [-1, 192, 56, 56]             384\n",
            "             ReLU-18          [-1, 192, 56, 56]               0\n",
            "           Conv2d-19           [-1, 32, 56, 56]          55,328\n",
            "      BatchNorm2d-20          [-1, 224, 56, 56]             448\n",
            "             ReLU-21          [-1, 224, 56, 56]               0\n",
            "           Conv2d-22           [-1, 32, 56, 56]          64,544\n",
            "       DenseBlock-23          [-1, 256, 56, 56]               0\n",
            "      BatchNorm2d-24          [-1, 256, 56, 56]             512\n",
            "             ReLU-25          [-1, 256, 56, 56]               0\n",
            "           Conv2d-26           [-1, 96, 56, 56]          24,672\n",
            "        AvgPool2d-27           [-1, 96, 28, 28]               0\n",
            "      BatchNorm2d-28           [-1, 96, 28, 28]             192\n",
            "             ReLU-29           [-1, 96, 28, 28]               0\n",
            "           Conv2d-30           [-1, 32, 28, 28]          27,680\n",
            "      BatchNorm2d-31          [-1, 128, 28, 28]             256\n",
            "             ReLU-32          [-1, 128, 28, 28]               0\n",
            "           Conv2d-33           [-1, 32, 28, 28]          36,896\n",
            "      BatchNorm2d-34          [-1, 160, 28, 28]             320\n",
            "             ReLU-35          [-1, 160, 28, 28]               0\n",
            "           Conv2d-36           [-1, 32, 28, 28]          46,112\n",
            "      BatchNorm2d-37          [-1, 192, 28, 28]             384\n",
            "             ReLU-38          [-1, 192, 28, 28]               0\n",
            "           Conv2d-39           [-1, 32, 28, 28]          55,328\n",
            "      BatchNorm2d-40          [-1, 224, 28, 28]             448\n",
            "             ReLU-41          [-1, 224, 28, 28]               0\n",
            "           Conv2d-42           [-1, 32, 28, 28]          64,544\n",
            "      BatchNorm2d-43          [-1, 256, 28, 28]             512\n",
            "             ReLU-44          [-1, 256, 28, 28]               0\n",
            "           Conv2d-45           [-1, 32, 28, 28]          73,760\n",
            "      BatchNorm2d-46          [-1, 288, 28, 28]             576\n",
            "             ReLU-47          [-1, 288, 28, 28]               0\n",
            "           Conv2d-48           [-1, 32, 28, 28]          82,976\n",
            "      BatchNorm2d-49          [-1, 320, 28, 28]             640\n",
            "             ReLU-50          [-1, 320, 28, 28]               0\n",
            "           Conv2d-51           [-1, 32, 28, 28]          92,192\n",
            "      BatchNorm2d-52          [-1, 352, 28, 28]             704\n",
            "             ReLU-53          [-1, 352, 28, 28]               0\n",
            "           Conv2d-54           [-1, 32, 28, 28]         101,408\n",
            "      BatchNorm2d-55          [-1, 384, 28, 28]             768\n",
            "             ReLU-56          [-1, 384, 28, 28]               0\n",
            "           Conv2d-57           [-1, 32, 28, 28]         110,624\n",
            "      BatchNorm2d-58          [-1, 416, 28, 28]             832\n",
            "             ReLU-59          [-1, 416, 28, 28]               0\n",
            "           Conv2d-60           [-1, 32, 28, 28]         119,840\n",
            "      BatchNorm2d-61          [-1, 448, 28, 28]             896\n",
            "             ReLU-62          [-1, 448, 28, 28]               0\n",
            "           Conv2d-63           [-1, 32, 28, 28]         129,056\n",
            "       DenseBlock-64          [-1, 480, 28, 28]               0\n",
            "      BatchNorm2d-65          [-1, 480, 28, 28]             960\n",
            "             ReLU-66          [-1, 480, 28, 28]               0\n",
            "           Conv2d-67          [-1, 240, 28, 28]         115,440\n",
            "        AvgPool2d-68          [-1, 240, 14, 14]               0\n",
            "      BatchNorm2d-69          [-1, 240, 14, 14]             480\n",
            "             ReLU-70          [-1, 240, 14, 14]               0\n",
            "           Conv2d-71           [-1, 32, 14, 14]          69,152\n",
            "      BatchNorm2d-72          [-1, 272, 14, 14]             544\n",
            "             ReLU-73          [-1, 272, 14, 14]               0\n",
            "           Conv2d-74           [-1, 32, 14, 14]          78,368\n",
            "      BatchNorm2d-75          [-1, 304, 14, 14]             608\n",
            "             ReLU-76          [-1, 304, 14, 14]               0\n",
            "           Conv2d-77           [-1, 32, 14, 14]          87,584\n",
            "      BatchNorm2d-78          [-1, 336, 14, 14]             672\n",
            "             ReLU-79          [-1, 336, 14, 14]               0\n",
            "           Conv2d-80           [-1, 32, 14, 14]          96,800\n",
            "      BatchNorm2d-81          [-1, 368, 14, 14]             736\n",
            "             ReLU-82          [-1, 368, 14, 14]               0\n",
            "           Conv2d-83           [-1, 32, 14, 14]         106,016\n",
            "      BatchNorm2d-84          [-1, 400, 14, 14]             800\n",
            "             ReLU-85          [-1, 400, 14, 14]               0\n",
            "           Conv2d-86           [-1, 32, 14, 14]         115,232\n",
            "      BatchNorm2d-87          [-1, 432, 14, 14]             864\n",
            "             ReLU-88          [-1, 432, 14, 14]               0\n",
            "           Conv2d-89           [-1, 32, 14, 14]         124,448\n",
            "      BatchNorm2d-90          [-1, 464, 14, 14]             928\n",
            "             ReLU-91          [-1, 464, 14, 14]               0\n",
            "           Conv2d-92           [-1, 32, 14, 14]         133,664\n",
            "      BatchNorm2d-93          [-1, 496, 14, 14]             992\n",
            "             ReLU-94          [-1, 496, 14, 14]               0\n",
            "           Conv2d-95           [-1, 32, 14, 14]         142,880\n",
            "      BatchNorm2d-96          [-1, 528, 14, 14]           1,056\n",
            "             ReLU-97          [-1, 528, 14, 14]               0\n",
            "           Conv2d-98           [-1, 32, 14, 14]         152,096\n",
            "      BatchNorm2d-99          [-1, 560, 14, 14]           1,120\n",
            "            ReLU-100          [-1, 560, 14, 14]               0\n",
            "          Conv2d-101           [-1, 32, 14, 14]         161,312\n",
            "     BatchNorm2d-102          [-1, 592, 14, 14]           1,184\n",
            "            ReLU-103          [-1, 592, 14, 14]               0\n",
            "          Conv2d-104           [-1, 32, 14, 14]         170,528\n",
            "     BatchNorm2d-105          [-1, 624, 14, 14]           1,248\n",
            "            ReLU-106          [-1, 624, 14, 14]               0\n",
            "          Conv2d-107           [-1, 32, 14, 14]         179,744\n",
            "     BatchNorm2d-108          [-1, 656, 14, 14]           1,312\n",
            "            ReLU-109          [-1, 656, 14, 14]               0\n",
            "          Conv2d-110           [-1, 32, 14, 14]         188,960\n",
            "     BatchNorm2d-111          [-1, 688, 14, 14]           1,376\n",
            "            ReLU-112          [-1, 688, 14, 14]               0\n",
            "          Conv2d-113           [-1, 32, 14, 14]         198,176\n",
            "     BatchNorm2d-114          [-1, 720, 14, 14]           1,440\n",
            "            ReLU-115          [-1, 720, 14, 14]               0\n",
            "          Conv2d-116           [-1, 32, 14, 14]         207,392\n",
            "     BatchNorm2d-117          [-1, 752, 14, 14]           1,504\n",
            "            ReLU-118          [-1, 752, 14, 14]               0\n",
            "          Conv2d-119           [-1, 32, 14, 14]         216,608\n",
            "     BatchNorm2d-120          [-1, 784, 14, 14]           1,568\n",
            "            ReLU-121          [-1, 784, 14, 14]               0\n",
            "          Conv2d-122           [-1, 32, 14, 14]         225,824\n",
            "     BatchNorm2d-123          [-1, 816, 14, 14]           1,632\n",
            "            ReLU-124          [-1, 816, 14, 14]               0\n",
            "          Conv2d-125           [-1, 32, 14, 14]         235,040\n",
            "     BatchNorm2d-126          [-1, 848, 14, 14]           1,696\n",
            "            ReLU-127          [-1, 848, 14, 14]               0\n",
            "          Conv2d-128           [-1, 32, 14, 14]         244,256\n",
            "     BatchNorm2d-129          [-1, 880, 14, 14]           1,760\n",
            "            ReLU-130          [-1, 880, 14, 14]               0\n",
            "          Conv2d-131           [-1, 32, 14, 14]         253,472\n",
            "     BatchNorm2d-132          [-1, 912, 14, 14]           1,824\n",
            "            ReLU-133          [-1, 912, 14, 14]               0\n",
            "          Conv2d-134           [-1, 32, 14, 14]         262,688\n",
            "     BatchNorm2d-135          [-1, 944, 14, 14]           1,888\n",
            "            ReLU-136          [-1, 944, 14, 14]               0\n",
            "          Conv2d-137           [-1, 32, 14, 14]         271,904\n",
            "     BatchNorm2d-138          [-1, 976, 14, 14]           1,952\n",
            "            ReLU-139          [-1, 976, 14, 14]               0\n",
            "          Conv2d-140           [-1, 32, 14, 14]         281,120\n",
            "     BatchNorm2d-141         [-1, 1008, 14, 14]           2,016\n",
            "            ReLU-142         [-1, 1008, 14, 14]               0\n",
            "          Conv2d-143           [-1, 32, 14, 14]         290,336\n",
            "     BatchNorm2d-144         [-1, 1040, 14, 14]           2,080\n",
            "            ReLU-145         [-1, 1040, 14, 14]               0\n",
            "          Conv2d-146           [-1, 32, 14, 14]         299,552\n",
            "     BatchNorm2d-147         [-1, 1072, 14, 14]           2,144\n",
            "            ReLU-148         [-1, 1072, 14, 14]               0\n",
            "          Conv2d-149           [-1, 32, 14, 14]         308,768\n",
            "     BatchNorm2d-150         [-1, 1104, 14, 14]           2,208\n",
            "            ReLU-151         [-1, 1104, 14, 14]               0\n",
            "          Conv2d-152           [-1, 32, 14, 14]         317,984\n",
            "     BatchNorm2d-153         [-1, 1136, 14, 14]           2,272\n",
            "            ReLU-154         [-1, 1136, 14, 14]               0\n",
            "          Conv2d-155           [-1, 32, 14, 14]         327,200\n",
            "     BatchNorm2d-156         [-1, 1168, 14, 14]           2,336\n",
            "            ReLU-157         [-1, 1168, 14, 14]               0\n",
            "          Conv2d-158           [-1, 32, 14, 14]         336,416\n",
            "     BatchNorm2d-159         [-1, 1200, 14, 14]           2,400\n",
            "            ReLU-160         [-1, 1200, 14, 14]               0\n",
            "          Conv2d-161           [-1, 32, 14, 14]         345,632\n",
            "     BatchNorm2d-162         [-1, 1232, 14, 14]           2,464\n",
            "            ReLU-163         [-1, 1232, 14, 14]               0\n",
            "          Conv2d-164           [-1, 32, 14, 14]         354,848\n",
            "     BatchNorm2d-165         [-1, 1264, 14, 14]           2,528\n",
            "            ReLU-166         [-1, 1264, 14, 14]               0\n",
            "          Conv2d-167           [-1, 32, 14, 14]         364,064\n",
            "     BatchNorm2d-168         [-1, 1296, 14, 14]           2,592\n",
            "            ReLU-169         [-1, 1296, 14, 14]               0\n",
            "          Conv2d-170           [-1, 32, 14, 14]         373,280\n",
            "     BatchNorm2d-171         [-1, 1328, 14, 14]           2,656\n",
            "            ReLU-172         [-1, 1328, 14, 14]               0\n",
            "          Conv2d-173           [-1, 32, 14, 14]         382,496\n",
            "     BatchNorm2d-174         [-1, 1360, 14, 14]           2,720\n",
            "            ReLU-175         [-1, 1360, 14, 14]               0\n",
            "          Conv2d-176           [-1, 32, 14, 14]         391,712\n",
            "     BatchNorm2d-177         [-1, 1392, 14, 14]           2,784\n",
            "            ReLU-178         [-1, 1392, 14, 14]               0\n",
            "          Conv2d-179           [-1, 32, 14, 14]         400,928\n",
            "     BatchNorm2d-180         [-1, 1424, 14, 14]           2,848\n",
            "            ReLU-181         [-1, 1424, 14, 14]               0\n",
            "          Conv2d-182           [-1, 32, 14, 14]         410,144\n",
            "     BatchNorm2d-183         [-1, 1456, 14, 14]           2,912\n",
            "            ReLU-184         [-1, 1456, 14, 14]               0\n",
            "          Conv2d-185           [-1, 32, 14, 14]         419,360\n",
            "     BatchNorm2d-186         [-1, 1488, 14, 14]           2,976\n",
            "            ReLU-187         [-1, 1488, 14, 14]               0\n",
            "          Conv2d-188           [-1, 32, 14, 14]         428,576\n",
            "     BatchNorm2d-189         [-1, 1520, 14, 14]           3,040\n",
            "            ReLU-190         [-1, 1520, 14, 14]               0\n",
            "          Conv2d-191           [-1, 32, 14, 14]         437,792\n",
            "     BatchNorm2d-192         [-1, 1552, 14, 14]           3,104\n",
            "            ReLU-193         [-1, 1552, 14, 14]               0\n",
            "          Conv2d-194           [-1, 32, 14, 14]         447,008\n",
            "     BatchNorm2d-195         [-1, 1584, 14, 14]           3,168\n",
            "            ReLU-196         [-1, 1584, 14, 14]               0\n",
            "          Conv2d-197           [-1, 32, 14, 14]         456,224\n",
            "     BatchNorm2d-198         [-1, 1616, 14, 14]           3,232\n",
            "            ReLU-199         [-1, 1616, 14, 14]               0\n",
            "          Conv2d-200           [-1, 32, 14, 14]         465,440\n",
            "     BatchNorm2d-201         [-1, 1648, 14, 14]           3,296\n",
            "            ReLU-202         [-1, 1648, 14, 14]               0\n",
            "          Conv2d-203           [-1, 32, 14, 14]         474,656\n",
            "     BatchNorm2d-204         [-1, 1680, 14, 14]           3,360\n",
            "            ReLU-205         [-1, 1680, 14, 14]               0\n",
            "          Conv2d-206           [-1, 32, 14, 14]         483,872\n",
            "     BatchNorm2d-207         [-1, 1712, 14, 14]           3,424\n",
            "            ReLU-208         [-1, 1712, 14, 14]               0\n",
            "          Conv2d-209           [-1, 32, 14, 14]         493,088\n",
            "     BatchNorm2d-210         [-1, 1744, 14, 14]           3,488\n",
            "            ReLU-211         [-1, 1744, 14, 14]               0\n",
            "          Conv2d-212           [-1, 32, 14, 14]         502,304\n",
            "      DenseBlock-213         [-1, 1776, 14, 14]               0\n",
            "     BatchNorm2d-214         [-1, 1776, 14, 14]           3,552\n",
            "            ReLU-215         [-1, 1776, 14, 14]               0\n",
            "          Conv2d-216          [-1, 888, 14, 14]       1,577,976\n",
            "       AvgPool2d-217            [-1, 888, 7, 7]               0\n",
            "     BatchNorm2d-218            [-1, 888, 7, 7]           1,776\n",
            "            ReLU-219            [-1, 888, 7, 7]               0\n",
            "          Conv2d-220             [-1, 32, 7, 7]         255,776\n",
            "     BatchNorm2d-221            [-1, 920, 7, 7]           1,840\n",
            "            ReLU-222            [-1, 920, 7, 7]               0\n",
            "          Conv2d-223             [-1, 32, 7, 7]         264,992\n",
            "     BatchNorm2d-224            [-1, 952, 7, 7]           1,904\n",
            "            ReLU-225            [-1, 952, 7, 7]               0\n",
            "          Conv2d-226             [-1, 32, 7, 7]         274,208\n",
            "     BatchNorm2d-227            [-1, 984, 7, 7]           1,968\n",
            "            ReLU-228            [-1, 984, 7, 7]               0\n",
            "          Conv2d-229             [-1, 32, 7, 7]         283,424\n",
            "     BatchNorm2d-230           [-1, 1016, 7, 7]           2,032\n",
            "            ReLU-231           [-1, 1016, 7, 7]               0\n",
            "          Conv2d-232             [-1, 32, 7, 7]         292,640\n",
            "     BatchNorm2d-233           [-1, 1048, 7, 7]           2,096\n",
            "            ReLU-234           [-1, 1048, 7, 7]               0\n",
            "          Conv2d-235             [-1, 32, 7, 7]         301,856\n",
            "     BatchNorm2d-236           [-1, 1080, 7, 7]           2,160\n",
            "            ReLU-237           [-1, 1080, 7, 7]               0\n",
            "          Conv2d-238             [-1, 32, 7, 7]         311,072\n",
            "     BatchNorm2d-239           [-1, 1112, 7, 7]           2,224\n",
            "            ReLU-240           [-1, 1112, 7, 7]               0\n",
            "          Conv2d-241             [-1, 32, 7, 7]         320,288\n",
            "     BatchNorm2d-242           [-1, 1144, 7, 7]           2,288\n",
            "            ReLU-243           [-1, 1144, 7, 7]               0\n",
            "          Conv2d-244             [-1, 32, 7, 7]         329,504\n",
            "     BatchNorm2d-245           [-1, 1176, 7, 7]           2,352\n",
            "            ReLU-246           [-1, 1176, 7, 7]               0\n",
            "          Conv2d-247             [-1, 32, 7, 7]         338,720\n",
            "     BatchNorm2d-248           [-1, 1208, 7, 7]           2,416\n",
            "            ReLU-249           [-1, 1208, 7, 7]               0\n",
            "          Conv2d-250             [-1, 32, 7, 7]         347,936\n",
            "     BatchNorm2d-251           [-1, 1240, 7, 7]           2,480\n",
            "            ReLU-252           [-1, 1240, 7, 7]               0\n",
            "          Conv2d-253             [-1, 32, 7, 7]         357,152\n",
            "     BatchNorm2d-254           [-1, 1272, 7, 7]           2,544\n",
            "            ReLU-255           [-1, 1272, 7, 7]               0\n",
            "          Conv2d-256             [-1, 32, 7, 7]         366,368\n",
            "     BatchNorm2d-257           [-1, 1304, 7, 7]           2,608\n",
            "            ReLU-258           [-1, 1304, 7, 7]               0\n",
            "          Conv2d-259             [-1, 32, 7, 7]         375,584\n",
            "     BatchNorm2d-260           [-1, 1336, 7, 7]           2,672\n",
            "            ReLU-261           [-1, 1336, 7, 7]               0\n",
            "          Conv2d-262             [-1, 32, 7, 7]         384,800\n",
            "     BatchNorm2d-263           [-1, 1368, 7, 7]           2,736\n",
            "            ReLU-264           [-1, 1368, 7, 7]               0\n",
            "          Conv2d-265             [-1, 32, 7, 7]         394,016\n",
            "     BatchNorm2d-266           [-1, 1400, 7, 7]           2,800\n",
            "            ReLU-267           [-1, 1400, 7, 7]               0\n",
            "          Conv2d-268             [-1, 32, 7, 7]         403,232\n",
            "     BatchNorm2d-269           [-1, 1432, 7, 7]           2,864\n",
            "            ReLU-270           [-1, 1432, 7, 7]               0\n",
            "          Conv2d-271             [-1, 32, 7, 7]         412,448\n",
            "     BatchNorm2d-272           [-1, 1464, 7, 7]           2,928\n",
            "            ReLU-273           [-1, 1464, 7, 7]               0\n",
            "          Conv2d-274             [-1, 32, 7, 7]         421,664\n",
            "     BatchNorm2d-275           [-1, 1496, 7, 7]           2,992\n",
            "            ReLU-276           [-1, 1496, 7, 7]               0\n",
            "          Conv2d-277             [-1, 32, 7, 7]         430,880\n",
            "     BatchNorm2d-278           [-1, 1528, 7, 7]           3,056\n",
            "            ReLU-279           [-1, 1528, 7, 7]               0\n",
            "          Conv2d-280             [-1, 32, 7, 7]         440,096\n",
            "     BatchNorm2d-281           [-1, 1560, 7, 7]           3,120\n",
            "            ReLU-282           [-1, 1560, 7, 7]               0\n",
            "          Conv2d-283             [-1, 32, 7, 7]         449,312\n",
            "     BatchNorm2d-284           [-1, 1592, 7, 7]           3,184\n",
            "            ReLU-285           [-1, 1592, 7, 7]               0\n",
            "          Conv2d-286             [-1, 32, 7, 7]         458,528\n",
            "     BatchNorm2d-287           [-1, 1624, 7, 7]           3,248\n",
            "            ReLU-288           [-1, 1624, 7, 7]               0\n",
            "          Conv2d-289             [-1, 32, 7, 7]         467,744\n",
            "     BatchNorm2d-290           [-1, 1656, 7, 7]           3,312\n",
            "            ReLU-291           [-1, 1656, 7, 7]               0\n",
            "          Conv2d-292             [-1, 32, 7, 7]         476,960\n",
            "     BatchNorm2d-293           [-1, 1688, 7, 7]           3,376\n",
            "            ReLU-294           [-1, 1688, 7, 7]               0\n",
            "          Conv2d-295             [-1, 32, 7, 7]         486,176\n",
            "     BatchNorm2d-296           [-1, 1720, 7, 7]           3,440\n",
            "            ReLU-297           [-1, 1720, 7, 7]               0\n",
            "          Conv2d-298             [-1, 32, 7, 7]         495,392\n",
            "     BatchNorm2d-299           [-1, 1752, 7, 7]           3,504\n",
            "            ReLU-300           [-1, 1752, 7, 7]               0\n",
            "          Conv2d-301             [-1, 32, 7, 7]         504,608\n",
            "     BatchNorm2d-302           [-1, 1784, 7, 7]           3,568\n",
            "            ReLU-303           [-1, 1784, 7, 7]               0\n",
            "          Conv2d-304             [-1, 32, 7, 7]         513,824\n",
            "     BatchNorm2d-305           [-1, 1816, 7, 7]           3,632\n",
            "            ReLU-306           [-1, 1816, 7, 7]               0\n",
            "          Conv2d-307             [-1, 32, 7, 7]         523,040\n",
            "     BatchNorm2d-308           [-1, 1848, 7, 7]           3,696\n",
            "            ReLU-309           [-1, 1848, 7, 7]               0\n",
            "          Conv2d-310             [-1, 32, 7, 7]         532,256\n",
            "     BatchNorm2d-311           [-1, 1880, 7, 7]           3,760\n",
            "            ReLU-312           [-1, 1880, 7, 7]               0\n",
            "          Conv2d-313             [-1, 32, 7, 7]         541,472\n",
            "      DenseBlock-314           [-1, 1912, 7, 7]               0\n",
            "     BatchNorm2d-315           [-1, 1912, 7, 7]           3,824\n",
            "            ReLU-316           [-1, 1912, 7, 7]               0\n",
            "AdaptiveAvgPool2d-317           [-1, 1912, 1, 1]               0\n",
            "         Flatten-318                 [-1, 1912]               0\n",
            "          Linear-319                   [-1, 10]          19,130\n",
            "================================================================\n",
            "Total params: 29,601,810\n",
            "Trainable params: 29,601,810\n",
            "Non-trainable params: 0\n",
            "----------------------------------------------------------------\n",
            "Input size (MB): 0.19\n",
            "Forward/backward pass size (MB): 328.84\n",
            "Params size (MB): 112.92\n",
            "Estimated Total Size (MB): 441.95\n",
            "----------------------------------------------------------------\n"
          ]
        }
      ]
    },
    {
      "cell_type": "code",
      "source": [
        "arch = (6, 12, 24, 16)\n",
        "model = DenseNet(num_channels=1, arch = arch, lr=0.1)\n",
        "trainer = d2l.Trainer(max_epochs=10, num_gpus=1)\n",
        "data = d2l.FashionMNIST(batch_size=128, resize=(224, 224))\n",
        "model.apply_init([next(iter(data.get_dataloader(train=True)))[0]], d2l.init_cnn)\n",
        "trainer.fit(model, data)"
      ],
      "metadata": {
        "colab": {
          "base_uri": "https://localhost:8080/"
        },
        "id": "5rjzGCgnCFSO",
        "outputId": "9b742654-cea9-4b73-8fac-4156a27ebecf"
      },
      "execution_count": null,
      "outputs": [
        {
          "output_type": "stream",
          "name": "stderr",
          "text": [
            "/usr/local/lib/python3.8/dist-packages/torch/nn/modules/lazy.py:180: UserWarning: Lazy modules are a new feature under heavy development so changes to the API or functionality can happen at any moment.\n",
            "  warnings.warn('Lazy modules are a new feature under heavy development '\n",
            "/usr/local/lib/python3.8/dist-packages/torch/utils/data/dataloader.py:554: UserWarning: This DataLoader will create 4 worker processes in total. Our suggested max number of worker in current system is 2, which is smaller than what this DataLoader is going to create. Please be aware that excessive worker creation might get DataLoader running slow or even freeze, lower the worker number to avoid potential slowness/freeze if necessary.\n",
            "  warnings.warn(_create_warning_msg(\n"
          ]
        }
      ]
    },
    {
      "cell_type": "markdown",
      "source": [
        "### Q5:"
      ],
      "metadata": {
        "id": "BbQib6-zFsn1"
      }
    },
    {
      "cell_type": "code",
      "source": [
        "def linear_blk(num_channels):\n",
        "  return nn.Sequential(\n",
        "      nn.LazyBatchNorm1d(), nn.ReLU(),\n",
        "      nn.LazyLinear(num_channels)\n",
        "  )"
      ],
      "metadata": {
        "id": "KyTm90g9JQ5Y"
      },
      "execution_count": 14,
      "outputs": []
    },
    {
      "cell_type": "code",
      "source": [
        "class DenseBlock_Linear(nn.Module):\n",
        "\n",
        "  def __init__(self, num_convs, num_channels):\n",
        "    super().__init__()\n",
        "    layer = []\n",
        "    for i in range(num_convs):\n",
        "      layer.append(linear_blk(num_channels))\n",
        "    self.net = nn.Sequential(*layer)\n",
        "\n",
        "  def forward(self, X):\n",
        "    for module in self.net:\n",
        "      Y = self.net(X)\n",
        "      X = torch.cat((Y, X), dim=1)\n",
        "    return X"
      ],
      "metadata": {
        "id": "FX8-p6pcDsTM"
      },
      "execution_count": 15,
      "outputs": []
    }
  ]
}