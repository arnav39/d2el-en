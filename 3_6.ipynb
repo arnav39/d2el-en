{
  "nbformat": 4,
  "nbformat_minor": 0,
  "metadata": {
    "colab": {
      "provenance": [],
      "authorship_tag": "ABX9TyMo11GVKyW1ek9sv6FPwtwE",
      "include_colab_link": true
    },
    "kernelspec": {
      "name": "python3",
      "display_name": "Python 3"
    },
    "language_info": {
      "name": "python"
    }
  },
  "cells": [
    {
      "cell_type": "markdown",
      "metadata": {
        "id": "view-in-github",
        "colab_type": "text"
      },
      "source": [
        "<a href=\"https://colab.research.google.com/github/arnav39/d2el-en/blob/main/3_6.ipynb\" target=\"_parent\"><img src=\"https://colab.research.google.com/assets/colab-badge.svg\" alt=\"Open In Colab\"/></a>"
      ]
    },
    {
      "cell_type": "code",
      "execution_count": 4,
      "metadata": {
        "id": "HlZbG11dVJry"
      },
      "outputs": [],
      "source": [
        "import torch\n",
        "import torch.nn as nn"
      ]
    },
    {
      "cell_type": "code",
      "source": [
        "import random"
      ],
      "metadata": {
        "id": "TnFl3avjX7Xn"
      },
      "execution_count": 5,
      "outputs": []
    },
    {
      "cell_type": "code",
      "source": [
        "import numpy as np"
      ],
      "metadata": {
        "id": "HO4wpzOrnVjt"
      },
      "execution_count": 6,
      "outputs": []
    },
    {
      "cell_type": "code",
      "source": [
        "import matplotlib.pyplot as plt\n",
        "from matplotlib import rcParams, cycler\n",
        "\n",
        "rcParams['figure.figsize'] = 12, 6\n",
        "rcParams['axes.spines.top'] = True\n",
        "rcParams['axes.spines.right'] = True\n",
        "rcParams['lines.linewidth'] = 2.5\n",
        "rcParams['axes.prop_cycle'] = cycler(color = ['#424242'])\n",
        "rcParams['xtick.labelsize'] = 'xx-large'\n",
        "rcParams['ytick.labelsize'] = 'xx-large'"
      ],
      "metadata": {
        "id": "1Bq-nPZBmY9p"
      },
      "execution_count": 7,
      "outputs": []
    },
    {
      "cell_type": "code",
      "source": [
        "def add_to_class(Class):\n",
        "  def wrapper(obj):\n",
        "    setattr(Class, obj.__name__, obj)\n",
        "  return wrapper"
      ],
      "metadata": {
        "id": "7iru6boBmvVn"
      },
      "execution_count": 5,
      "outputs": []
    },
    {
      "cell_type": "code",
      "source": [
        "a = torch.randn(1000, 5)\n",
        "b = torch.arange(10)\n",
        "c = a[b]\n",
        "print(c)"
      ],
      "metadata": {
        "colab": {
          "base_uri": "https://localhost:8080/"
        },
        "id": "ShxkxlZAYdIY",
        "outputId": "f051b02c-7020-492e-b45c-33f9ca60c0fe"
      },
      "execution_count": null,
      "outputs": [
        {
          "output_type": "stream",
          "name": "stdout",
          "text": [
            "tensor([[ 2.0115e+00,  1.0490e+00,  2.1183e+00,  7.6310e-01,  1.2847e+00],\n",
            "        [ 5.8826e-02, -7.5226e-01,  1.2289e+00,  1.1041e+00, -1.2470e+00],\n",
            "        [-9.3430e-01,  1.7575e-01,  2.8073e-01, -2.9453e-01, -1.5801e-01],\n",
            "        [-9.5380e-01, -7.2422e-01,  2.4240e+00, -9.8855e-02,  7.9083e-02],\n",
            "        [-1.9233e-01,  6.5551e-01, -1.7140e-01, -6.7821e-01,  3.2843e+00],\n",
            "        [-1.4092e+00, -5.3080e-01, -3.9883e-01,  1.9136e-03, -1.3511e+00],\n",
            "        [ 5.3173e-01,  8.1746e-01,  2.6473e+00, -4.5807e-01, -3.3929e-01],\n",
            "        [-7.8014e-01, -1.6398e+00,  3.2639e-02,  1.0598e+00,  6.0670e-01],\n",
            "        [ 2.2797e-01, -2.0867e+00, -1.1192e+00,  3.1195e-01,  5.1415e-01],\n",
            "        [ 2.6153e+00,  2.1628e-01, -1.1127e+00,  4.8270e-01,  8.0973e-02]])\n"
          ]
        }
      ]
    },
    {
      "cell_type": "code",
      "source": [
        "l = [1, 2, 3, 4]\n",
        "l[3:7] # doesn't give an error when we access out of range index"
      ],
      "metadata": {
        "colab": {
          "base_uri": "https://localhost:8080/"
        },
        "id": "nsfqv5ldeocr",
        "outputId": "e0261176-931c-42f4-dbfb-74f14a281175"
      },
      "execution_count": null,
      "outputs": [
        {
          "output_type": "execute_result",
          "data": {
            "text/plain": [
              "[4]"
            ]
          },
          "metadata": {},
          "execution_count": 31
        }
      ]
    },
    {
      "cell_type": "code",
      "source": [
        "class Data():\n",
        "\n",
        "  def __init__(self, n_train, n_val, n_features, batch_size):\n",
        "    self.n_train = n_train # number of training examples\n",
        "    self.n_val = n_val # number of validation examples\n",
        "    self.n_features = n_features # number of features/ input size\n",
        "    self.batch_size = batch_size\n",
        "    n = n_train + n_val\n",
        "    self.X = torch.randn(n, n_features)\n",
        "    noise = torch.normal(0, 0.01, (n, 1)) * 0.01\n",
        "    w = torch.ones(n_features, 1) * 0.01\n",
        "    b = torch.tensor([0.05], dtype=torch.float32)\n",
        "    self.y = torch.mm(self.X, w) + b + noise\n",
        "\n",
        "  def get_dataloader(self, train):\n",
        "    # train takes true or false\n",
        "    if train:\n",
        "      indices = list(range(0, self.n_train))\n",
        "      random.shuffle(indices)\n",
        "\n",
        "    else:\n",
        "      indices = list(range(self.n_train, self.n_train + self.n_val))\n",
        "\n",
        "    for i in range(0, len(indices), self.batch_size):\n",
        "      batch_indices = torch.tensor(indices[i: i + self.batch_size])\n",
        "      yield self.X[batch_indices], self.y[batch_indices]"
      ],
      "metadata": {
        "id": "OhsXG8igVN7k"
      },
      "execution_count": 6,
      "outputs": []
    },
    {
      "cell_type": "code",
      "source": [
        "data = Data(1000, 500, 5, 300).get_dataloader(train=False)"
      ],
      "metadata": {
        "id": "_7kdJSwHcGWK"
      },
      "execution_count": null,
      "outputs": []
    },
    {
      "cell_type": "code",
      "source": [
        "for X, y in data:\n",
        "  print(f\"X.shape = {X.shape}, y.shape = {y.shape}\")"
      ],
      "metadata": {
        "colab": {
          "base_uri": "https://localhost:8080/"
        },
        "id": "LAz85jtPeMTZ",
        "outputId": "aa2a94d9-f0cf-4739-82c4-e60e2650d490"
      },
      "execution_count": null,
      "outputs": [
        {
          "output_type": "stream",
          "name": "stdout",
          "text": [
            "X.shape = torch.Size([300, 5]), y.shape = torch.Size([300, 1])\n",
            "X.shape = torch.Size([200, 5]), y.shape = torch.Size([200, 1])\n"
          ]
        }
      ]
    },
    {
      "cell_type": "code",
      "source": [
        "a = next(data)"
      ],
      "metadata": {
        "id": "D7HQggmMdgpT"
      },
      "execution_count": null,
      "outputs": []
    },
    {
      "cell_type": "code",
      "source": [
        "a[0].shape"
      ],
      "metadata": {
        "colab": {
          "base_uri": "https://localhost:8080/"
        },
        "id": "OSbsNuPHdmg1",
        "outputId": "08e42bc6-9bd1-4f99-d5b6-1222724cc5fc"
      },
      "execution_count": null,
      "outputs": [
        {
          "output_type": "execute_result",
          "data": {
            "text/plain": [
              "torch.Size([250, 5])"
            ]
          },
          "metadata": {},
          "execution_count": 21
        }
      ]
    },
    {
      "cell_type": "code",
      "source": [
        "a[1].shape"
      ],
      "metadata": {
        "colab": {
          "base_uri": "https://localhost:8080/"
        },
        "id": "ffYNURCqdrMo",
        "outputId": "75205051-aac1-4506-8a72-747ee370a689"
      },
      "execution_count": null,
      "outputs": [
        {
          "output_type": "execute_result",
          "data": {
            "text/plain": [
              "torch.Size([250, 1])"
            ]
          },
          "metadata": {},
          "execution_count": 22
        }
      ]
    },
    {
      "cell_type": "code",
      "source": [
        "def l2_penalty(w):\n",
        "  p = (w ** 2).sum() / 2\n",
        "  return p"
      ],
      "metadata": {
        "id": "vaAZ7RSUYb7b"
      },
      "execution_count": 13,
      "outputs": []
    },
    {
      "cell_type": "code",
      "source": [
        "class WeightDecayScratch():\n",
        "\n",
        "  def __init__(self, input_size, output_size, lambd, lr=0.01):\n",
        "    self.input_size = input_size\n",
        "    self.output_size = output_size\n",
        "    self.lambd = lambd\n",
        "    self.w = torch.normal(0, 0.01, (input_size, 1), requires_grad=True)\n",
        "    self.b = torch.zeros(1, requires_grad=True)\n",
        "    self.lr = lr # learning rate\n",
        "\n",
        "  def forward(self, X):\n",
        "    y_hat = torch.mm(X, self.w) + self.b\n",
        "    return y_hat\n",
        "\n",
        "  def loss(self, y, y_hat):\n",
        "    crit = nn.MSELoss()\n",
        "    l1 = crit(y, y_hat)\n",
        "    l2 = l2_penalty(self.w) * self.lambd\n",
        "    return (l1+l2)"
      ],
      "metadata": {
        "id": "na88igQMYx4i"
      },
      "execution_count": 7,
      "outputs": []
    },
    {
      "cell_type": "code",
      "source": [
        "a = torch.randn(5, requires_grad=True)\n",
        "b = (2 * a).sum()\n",
        "\n",
        "with torch.no_grad():\n",
        "  b = 4 * b\n",
        "  b.backward()"
      ],
      "metadata": {
        "colab": {
          "base_uri": "https://localhost:8080/",
          "height": 341
        },
        "id": "wmMPK4F2kUdx",
        "outputId": "935c2722-3106-4a12-8c70-9a21f3c4ff5a"
      },
      "execution_count": null,
      "outputs": [
        {
          "output_type": "error",
          "ename": "RuntimeError",
          "evalue": "ignored",
          "traceback": [
            "\u001b[0;31m---------------------------------------------------------------------------\u001b[0m",
            "\u001b[0;31mRuntimeError\u001b[0m                              Traceback (most recent call last)",
            "\u001b[0;32m<ipython-input-45-b43a394ab724>\u001b[0m in \u001b[0;36m<module>\u001b[0;34m\u001b[0m\n\u001b[1;32m      4\u001b[0m \u001b[0;32mwith\u001b[0m \u001b[0mtorch\u001b[0m\u001b[0;34m.\u001b[0m\u001b[0mno_grad\u001b[0m\u001b[0;34m(\u001b[0m\u001b[0;34m)\u001b[0m\u001b[0;34m:\u001b[0m\u001b[0;34m\u001b[0m\u001b[0;34m\u001b[0m\u001b[0m\n\u001b[1;32m      5\u001b[0m   \u001b[0mb\u001b[0m \u001b[0;34m=\u001b[0m \u001b[0;36m4\u001b[0m \u001b[0;34m*\u001b[0m \u001b[0mb\u001b[0m\u001b[0;34m\u001b[0m\u001b[0;34m\u001b[0m\u001b[0m\n\u001b[0;32m----> 6\u001b[0;31m   \u001b[0mb\u001b[0m\u001b[0;34m.\u001b[0m\u001b[0mbackward\u001b[0m\u001b[0;34m(\u001b[0m\u001b[0;34m)\u001b[0m\u001b[0;34m\u001b[0m\u001b[0;34m\u001b[0m\u001b[0m\n\u001b[0m",
            "\u001b[0;32m/usr/local/lib/python3.8/dist-packages/torch/_tensor.py\u001b[0m in \u001b[0;36mbackward\u001b[0;34m(self, gradient, retain_graph, create_graph, inputs)\u001b[0m\n\u001b[1;32m    394\u001b[0m                 \u001b[0mcreate_graph\u001b[0m\u001b[0;34m=\u001b[0m\u001b[0mcreate_graph\u001b[0m\u001b[0;34m,\u001b[0m\u001b[0;34m\u001b[0m\u001b[0;34m\u001b[0m\u001b[0m\n\u001b[1;32m    395\u001b[0m                 inputs=inputs)\n\u001b[0;32m--> 396\u001b[0;31m         \u001b[0mtorch\u001b[0m\u001b[0;34m.\u001b[0m\u001b[0mautograd\u001b[0m\u001b[0;34m.\u001b[0m\u001b[0mbackward\u001b[0m\u001b[0;34m(\u001b[0m\u001b[0mself\u001b[0m\u001b[0;34m,\u001b[0m \u001b[0mgradient\u001b[0m\u001b[0;34m,\u001b[0m \u001b[0mretain_graph\u001b[0m\u001b[0;34m,\u001b[0m \u001b[0mcreate_graph\u001b[0m\u001b[0;34m,\u001b[0m \u001b[0minputs\u001b[0m\u001b[0;34m=\u001b[0m\u001b[0minputs\u001b[0m\u001b[0;34m)\u001b[0m\u001b[0;34m\u001b[0m\u001b[0;34m\u001b[0m\u001b[0m\n\u001b[0m\u001b[1;32m    397\u001b[0m \u001b[0;34m\u001b[0m\u001b[0m\n\u001b[1;32m    398\u001b[0m     \u001b[0;32mdef\u001b[0m \u001b[0mregister_hook\u001b[0m\u001b[0;34m(\u001b[0m\u001b[0mself\u001b[0m\u001b[0;34m,\u001b[0m \u001b[0mhook\u001b[0m\u001b[0;34m)\u001b[0m\u001b[0;34m:\u001b[0m\u001b[0;34m\u001b[0m\u001b[0;34m\u001b[0m\u001b[0m\n",
            "\u001b[0;32m/usr/local/lib/python3.8/dist-packages/torch/autograd/__init__.py\u001b[0m in \u001b[0;36mbackward\u001b[0;34m(tensors, grad_tensors, retain_graph, create_graph, grad_variables, inputs)\u001b[0m\n\u001b[1;32m    171\u001b[0m     \u001b[0;31m# some Python versions print out the first line of a multi-line function\u001b[0m\u001b[0;34m\u001b[0m\u001b[0;34m\u001b[0m\u001b[0;34m\u001b[0m\u001b[0m\n\u001b[1;32m    172\u001b[0m     \u001b[0;31m# calls in the traceback and some print out the last line\u001b[0m\u001b[0;34m\u001b[0m\u001b[0;34m\u001b[0m\u001b[0;34m\u001b[0m\u001b[0m\n\u001b[0;32m--> 173\u001b[0;31m     Variable._execution_engine.run_backward(  # Calls into the C++ engine to run the backward pass\n\u001b[0m\u001b[1;32m    174\u001b[0m         \u001b[0mtensors\u001b[0m\u001b[0;34m,\u001b[0m \u001b[0mgrad_tensors_\u001b[0m\u001b[0;34m,\u001b[0m \u001b[0mretain_graph\u001b[0m\u001b[0;34m,\u001b[0m \u001b[0mcreate_graph\u001b[0m\u001b[0;34m,\u001b[0m \u001b[0minputs\u001b[0m\u001b[0;34m,\u001b[0m\u001b[0;34m\u001b[0m\u001b[0;34m\u001b[0m\u001b[0m\n\u001b[1;32m    175\u001b[0m         allow_unreachable=True, accumulate_grad=True)  # Calls into the C++ engine to run the backward pass\n",
            "\u001b[0;31mRuntimeError\u001b[0m: element 0 of tensors does not require grad and does not have a grad_fn"
          ]
        }
      ]
    },
    {
      "cell_type": "code",
      "source": [
        "class Trainer():\n",
        "\n",
        "  def __init__(self, max_epochs):\n",
        "    self.max_epochs = max_epochs\n",
        "    self.training_loss = [] # has the training loss at the end of each epoch\n",
        "    self.val_loss = [] # has the validation loss at the end of each epoch\n",
        "\n",
        "  def fit(self, model, data):\n",
        "    # data is a generator object\n",
        "\n",
        "    optimizer = torch.optim.SGD([model.w, model.b], model.lr)\n",
        "\n",
        "    for epoch in range(self.max_epochs):\n",
        "\n",
        "      # training_loop : \n",
        "\n",
        "      t_loss = torch.zeros(1) # stores the loss for the current epoch\n",
        "      train_data = data.get_dataloader(train=True) # just give me the training dataset\n",
        "\n",
        "      for X, y in train_data:\n",
        "        # forward_pass : y_hat and loss\n",
        "        y_hat = model.forward(X)\n",
        "        l = model.loss(y, y_hat)\n",
        "        t_loss += l\n",
        "\n",
        "        # backward pass\n",
        "        l.backward()\n",
        "\n",
        "        # update the prarms\n",
        "        optimizer.step()\n",
        "\n",
        "        # empty the grad\n",
        "        optimizer.zero_grad()\n",
        "\n",
        "      self.training_loss.append(t_loss.item())\n",
        "\n",
        "      # validation loop:\n",
        "      t_loss = torch.zeros(1)\n",
        "      val_data = data.get_dataloader(train=False)\n",
        "\n",
        "      with torch.no_grad():\n",
        "        for X, y in val_data:\n",
        "          y_hat = model.forward(X)\n",
        "          l = model.loss(y, y_hat)\n",
        "          t_loss += l\n",
        "      \n",
        "      self.val_loss.append(t_loss.item())"
      ],
      "metadata": {
        "id": "Z7RrPqNIa-RM"
      },
      "execution_count": 20,
      "outputs": []
    },
    {
      "cell_type": "code",
      "source": [
        "@add_to_class(Trainer)\n",
        "def Plot(self):\n",
        "  epochs = list(range(self.max_epochs))\n",
        "  # print(f\"len of epochs = {len(epochs)}\")\n",
        "  # print(f\"len of train_loss = {len(self.training_loss)}\")\n",
        "  # print(f\"len of valid_loss = {len(self.val_loss)}\")\n",
        "\n",
        "  plt.plot(epochs, self.training_loss, color = 'blue', linestyle='solid',label = \"train_loss\")\n",
        "  plt.plot(epochs, self.val_loss, color = 'orange', linestyle='dashed', label='val_loss')\n",
        "  plt.legend()\n",
        "  plt.grid()\n",
        "  plt.xlabel(\"epochs\")\n",
        "  plt.ylabel(\"Loss\")\n",
        "  plt.show()"
      ],
      "metadata": {
        "id": "5M_5OFRAmkYU"
      },
      "execution_count": 21,
      "outputs": []
    },
    {
      "cell_type": "code",
      "source": [
        "l = [1, 2, 3, 4]"
      ],
      "metadata": {
        "id": "lDSCpgzLpyaq"
      },
      "execution_count": null,
      "outputs": []
    },
    {
      "cell_type": "code",
      "source": [
        "len(l)"
      ],
      "metadata": {
        "colab": {
          "base_uri": "https://localhost:8080/"
        },
        "id": "hlLuIqIvp1OB",
        "outputId": "ca2179a9-6b08-46c3-883e-dcb561634da6"
      },
      "execution_count": null,
      "outputs": [
        {
          "output_type": "execute_result",
          "data": {
            "text/plain": [
              "4"
            ]
          },
          "metadata": {},
          "execution_count": 80
        }
      ]
    },
    {
      "cell_type": "markdown",
      "source": [
        "now the classes are ready time to implement"
      ],
      "metadata": {
        "id": "bVIPB6sUfm7X"
      }
    },
    {
      "cell_type": "code",
      "source": [
        "data = Data(n_train=20, n_val=100, n_features=200, batch_size=5)"
      ],
      "metadata": {
        "id": "zp6xc-QffkMT"
      },
      "execution_count": 10,
      "outputs": []
    },
    {
      "cell_type": "code",
      "source": [
        "def train_scratch(lambd):\n",
        "  trainer = Trainer(max_epochs=10)\n",
        "  model = WeightDecayScratch(200, 1, lambd)\n",
        "  trainer.fit(model, data)\n",
        "  print(f\"L2 Norm of w = {l2_penalty(model.w)}\")\n",
        "  trainer.Plot()"
      ],
      "metadata": {
        "id": "LotE3cJagER1"
      },
      "execution_count": 22,
      "outputs": []
    },
    {
      "cell_type": "code",
      "source": [
        "train_scratch(0) # without weight decay"
      ],
      "metadata": {
        "colab": {
          "base_uri": "https://localhost:8080/",
          "height": 413
        },
        "id": "4rIvmEgpghIy",
        "outputId": "2433fa56-9cbb-4013-8c15-b3992b2950b7"
      },
      "execution_count": 23,
      "outputs": [
        {
          "output_type": "stream",
          "name": "stdout",
          "text": [
            "L2 Norm of w = 0.008858496323227882\n"
          ]
        },
        {
          "output_type": "display_data",
          "data": {
            "text/plain": [
              "<Figure size 864x432 with 1 Axes>"
            ],
            "image/png": "[encoded data removed]"
          },
          "metadata": {
            "needs_background": "light"
          }
        }
      ]
    },
    {
      "cell_type": "markdown",
      "source": [
        "# PROUD MOMENT : RAN WITHOUT ERROR IN THE FIRST ATTEMPT"
      ],
      "metadata": {
        "id": "QSimAS2vmEr9"
      }
    },
    {
      "cell_type": "markdown",
      "source": [
        "too much overfitting"
      ],
      "metadata": {
        "id": "ljYhB6EYoLee"
      }
    },
    {
      "cell_type": "code",
      "source": [
        "train_scratch(3)"
      ],
      "metadata": {
        "colab": {
          "base_uri": "https://localhost:8080/",
          "height": 413
        },
        "id": "EVx-oAltl3_t",
        "outputId": "4645be23-d72b-4ac7-b7c5-6679ee110e36"
      },
      "execution_count": 24,
      "outputs": [
        {
          "output_type": "stream",
          "name": "stdout",
          "text": [
            "L2 Norm of w = 0.0014972068602219224\n"
          ]
        },
        {
          "output_type": "display_data",
          "data": {
            "text/plain": [
              "<Figure size 864x432 with 1 Axes>"
            ],
            "image/png": "[encoded data removed]"
          },
          "metadata": {
            "needs_background": "light"
          }
        }
      ]
    },
    {
      "cell_type": "code",
      "source": [
        "train_scratch(9)"
      ],
      "metadata": {
        "colab": {
          "base_uri": "https://localhost:8080/",
          "height": 413
        },
        "id": "8lqE9QTRrHHW",
        "outputId": "08065563-36a1-4658-8845-e2ef1a9f6ccf"
      },
      "execution_count": 25,
      "outputs": [
        {
          "output_type": "stream",
          "name": "stdout",
          "text": [
            "L2 Norm of w = 0.0005779908387921751\n"
          ]
        },
        {
          "output_type": "display_data",
          "data": {
            "text/plain": [
              "<Figure size 864x432 with 1 Axes>"
            ],
            "image/png": "[encoded data removed]"
          },
          "metadata": {
            "needs_background": "light"
          }
        }
      ]
    },
    {
      "cell_type": "code",
      "source": [
        "train_scratch(100)"
      ],
      "metadata": {
        "colab": {
          "base_uri": "https://localhost:8080/",
          "height": 419
        },
        "id": "eKXe8NjOrLGi",
        "outputId": "8bece84e-1a4a-449b-b49c-175ce82280a3"
      },
      "execution_count": 26,
      "outputs": [
        {
          "output_type": "stream",
          "name": "stdout",
          "text": [
            "L2 Norm of w = 0.00023870171571616083\n"
          ]
        },
        {
          "output_type": "display_data",
          "data": {
            "text/plain": [
              "<Figure size 864x432 with 1 Axes>"
            ],
            "image/png": "[encoded data removed]"
          },
          "metadata": {
            "needs_background": "light"
          }
        }
      ]
    },
    {
      "cell_type": "markdown",
      "source": [
        "## Concise Implementation"
      ],
      "metadata": {
        "id": "YKcKpAumr_6x"
      }
    },
    {
      "cell_type": "code",
      "source": [
        "def give_data(n_samples, w, b, noise=0.01):\n",
        "\n",
        "  X = torch.randn(n_samples, len(w))\n",
        "  noise = torch.randn(n_samples, 1) * noise\n",
        "  y = torch.mm(X, w) + b + noise\n",
        "  return X, y"
      ],
      "metadata": {
        "id": "7ZIct8QIvLNN"
      },
      "execution_count": 1,
      "outputs": []
    },
    {
      "cell_type": "code",
      "source": [
        "class WeightDecay():\n",
        "  \n",
        "  def __init__(self, input_size, output_size, wd, lr=0.01):\n",
        "    # wd is the weight decay\n",
        "    self.input_size = input_size\n",
        "    self.output_size = output_size\n",
        "    self.wd = wd\n",
        "    self.lr = lr\n",
        "    self.lin = nn.Linear(input_size, output_size)\n",
        "\n",
        "  def configure_optimizers(self):\n",
        "    optim = torch.optim.SGD(self.lin.parameters(), self.lr, weight_decay=self.wd)\n",
        "    return optim\n",
        "\n",
        "  def loss(self, y, y_hat):\n",
        "    crit = nn.MSELoss()\n",
        "    l1 = crit(y, y_hat)\n",
        "\n",
        "    w = next(self.lin.parameters()).data\n",
        "    l2 = ((w ** 2).sum() / 2) * self.wd\n",
        "    return (l1+l2)"
      ],
      "metadata": {
        "id": "btzkcF_GrXa3"
      },
      "execution_count": 2,
      "outputs": []
    },
    {
      "cell_type": "code",
      "source": [
        "w = torch.tensor([-5.6, 1.3, 6.7], dtype=torch.float32, requires_grad=True).reshape(-1, 1)\n",
        "b = torch.tensor([-7.7], dtype=torch.float32, requires_grad=True)\n",
        "\n",
        "X, y = give_data(1500, w, b)\n",
        "X_train, X_test = X[0:1000, :], X[1000:1500, :]\n",
        "print(f\"X_train.shape = {X_train.shape}, X_test.shape = {X_test.shape}\")\n",
        "y_train, y_test = y[0:1000, :], y[1000:1500, :]\n",
        "print(f\"y_train.shape = {y_train.shape}, y_test.shape = {y_test.shape}\")"
      ],
      "metadata": {
        "colab": {
          "base_uri": "https://localhost:8080/"
        },
        "id": "9MC7wpTwvIol",
        "outputId": "ec54f4c6-93a1-491f-9839-a8efa8a7d78b"
      },
      "execution_count": 8,
      "outputs": [
        {
          "output_type": "stream",
          "name": "stdout",
          "text": [
            "X_train.shape = torch.Size([1000, 3]), X_test.shape = torch.Size([500, 3])\n",
            "y_train.shape = torch.Size([1000, 1]), y_test.shape = torch.Size([500, 1])\n"
          ]
        }
      ]
    },
    {
      "cell_type": "code",
      "source": [
        "max_epochs=1000\n",
        "wd = 4\n",
        "train_loss = []\n",
        "val_loss = []\n",
        "\n",
        "inst = WeightDecay(X.shape[1], y.shape[1], wd)\n",
        "linear = inst.lin\n",
        "optim = inst.configure_optimizers()\n",
        "\n",
        "for epoch in range(max_epochs):\n",
        "\n",
        "  # forward_pass: \n",
        "  y_hat = linear(X_train)\n",
        "  l = inst.loss(y_train, y_hat)\n",
        "\n",
        "  # backward pass:\n",
        "  l.backward()\n",
        "\n",
        "  # update the params:\n",
        "  optim.step()\n",
        "\n",
        "  # zero the grad:\n",
        "  optim.zero_grad()\n",
        "\n",
        "  with torch.no_grad():\n",
        "    train_loss.append(l.item())\n",
        "    y_hat = linear(X_test)\n",
        "    l = inst.loss(y_test, y_hat)\n",
        "    val_loss.append(l.item())"
      ],
      "metadata": {
        "id": "s7mIW1O-viU7"
      },
      "execution_count": null,
      "outputs": []
    },
    {
      "cell_type": "code",
      "source": [
        "a = nn.parameter.Parameter(data=torch.ones(5, 1), requires_grad=True)\n",
        "print(a)"
      ],
      "metadata": {
        "colab": {
          "base_uri": "https://localhost:8080/"
        },
        "id": "FVdRiMOqt-_C",
        "outputId": "6a23e193-9576-4dec-930c-2ec3b26a29b5"
      },
      "execution_count": 33,
      "outputs": [
        {
          "output_type": "stream",
          "name": "stdout",
          "text": [
            "Parameter containing:\n",
            "tensor([[1.],\n",
            "        [1.],\n",
            "        [1.],\n",
            "        [1.],\n",
            "        [1.]], requires_grad=True)\n"
          ]
        }
      ]
    },
    {
      "cell_type": "code",
      "source": [
        "print(a.data)\n",
        "b = a.data.reshape(len(a.data))\n",
        "print(f\"square of norm of a = {torch.dot(b, b)}\")"
      ],
      "metadata": {
        "colab": {
          "base_uri": "https://localhost:8080/"
        },
        "id": "L5mlWTHVudSk",
        "outputId": "6a167929-88d2-49b0-abc2-513dfef495f0"
      },
      "execution_count": 37,
      "outputs": [
        {
          "output_type": "stream",
          "name": "stdout",
          "text": [
            "tensor([[1.],\n",
            "        [1.],\n",
            "        [1.],\n",
            "        [1.],\n",
            "        [1.]])\n",
            "square of norm of a = 5.0\n"
          ]
        }
      ]
    },
    {
      "cell_type": "code",
      "source": [],
      "metadata": {
        "id": "eFUIjF99ucit"
      },
      "execution_count": null,
      "outputs": []
    }
  ]
}