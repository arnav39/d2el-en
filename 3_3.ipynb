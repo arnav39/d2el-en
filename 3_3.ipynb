{
  "nbformat": 4,
  "nbformat_minor": 0,
  "metadata": {
    "colab": {
      "provenance": [],
      "authorship_tag": "ABX9TyMttfYYv7y0WFW3LDqcR5MD",
      "include_colab_link": true
    },
    "kernelspec": {
      "name": "python3",
      "display_name": "Python 3"
    },
    "language_info": {
      "name": "python"
    }
  },
  "cells": [
    {
      "cell_type": "markdown",
      "metadata": {
        "id": "view-in-github",
        "colab_type": "text"
      },
      "source": [
        "<a href=\"https://colab.research.google.com/github/arnav39/d2el-en/blob/main/3_3.ipynb\" target=\"_parent\"><img src=\"https://colab.research.google.com/assets/colab-badge.svg\" alt=\"Open In Colab\"/></a>"
      ]
    },
    {
      "cell_type": "markdown",
      "source": [
        "# 3.3 Synthetic Regression Data"
      ],
      "metadata": {
        "id": "2vKPmw86pGQF"
      }
    },
    {
      "cell_type": "code",
      "source": [
        "!pip install matplotlib_inline\n",
        "!pip install --upgrade d2l==1.0.0a0"
      ],
      "metadata": {
        "id": "X__rtUqRqiPZ"
      },
      "execution_count": null,
      "outputs": []
    },
    {
      "cell_type": "code",
      "execution_count": 3,
      "metadata": {
        "id": "Z8Dx0eIopDBj"
      },
      "outputs": [],
      "source": [
        "%matplotlib inline\n",
        "import random\n",
        "import torch\n",
        "from d2l import torch as d2l"
      ]
    },
    {
      "cell_type": "code",
      "source": [
        "#let's first get a hang of the save_hyperparamters function\n",
        "class First(d2l.HyperParameters):\n",
        "  def __init__(self, x1, x2, x3, x4, x5, x6):\n",
        "    self.save_hyperparameters(ignore=['x5', 'x4'])"
      ],
      "metadata": {
        "id": "z__R1NHetHys"
      },
      "execution_count": null,
      "outputs": []
    },
    {
      "cell_type": "code",
      "source": [
        "a1 = First(1, 2, 3, 4, 5, 6)"
      ],
      "metadata": {
        "id": "e_VoI6yptksc"
      },
      "execution_count": null,
      "outputs": []
    },
    {
      "cell_type": "code",
      "source": [
        "print(a1.x1, a1.x2, a1.x3, a1.x6)"
      ],
      "metadata": {
        "colab": {
          "base_uri": "https://localhost:8080/"
        },
        "id": "zGBMhk-Gtomt",
        "outputId": "e60b9cd1-cab4-4c71-b94a-654e6c4be608"
      },
      "execution_count": null,
      "outputs": [
        {
          "output_type": "stream",
          "name": "stdout",
          "text": [
            "1 2 3 6\n"
          ]
        }
      ]
    },
    {
      "cell_type": "code",
      "source": [
        "print(a1.x4)"
      ],
      "metadata": {
        "colab": {
          "base_uri": "https://localhost:8080/",
          "height": 164
        },
        "id": "h6oJykI9uFzB",
        "outputId": "c8523ce9-d134-4ec3-912f-f7a2440d347a"
      },
      "execution_count": null,
      "outputs": [
        {
          "output_type": "error",
          "ename": "AttributeError",
          "evalue": "ignored",
          "traceback": [
            "\u001b[0;31m---------------------------------------------------------------------------\u001b[0m",
            "\u001b[0;31mAttributeError\u001b[0m                            Traceback (most recent call last)",
            "\u001b[0;32m<ipython-input-12-df6777358cc5>\u001b[0m in \u001b[0;36m<module>\u001b[0;34m\u001b[0m\n\u001b[0;32m----> 1\u001b[0;31m \u001b[0mprint\u001b[0m\u001b[0;34m(\u001b[0m\u001b[0ma1\u001b[0m\u001b[0;34m.\u001b[0m\u001b[0mx4\u001b[0m\u001b[0;34m)\u001b[0m\u001b[0;34m\u001b[0m\u001b[0;34m\u001b[0m\u001b[0m\n\u001b[0m",
            "\u001b[0;31mAttributeError\u001b[0m: 'First' object has no attribute 'x4'"
          ]
        }
      ]
    },
    {
      "cell_type": "code",
      "source": [
        "class SyntheticRegressionData(d2l.DataModule):\n",
        "  def __init__(self, w, b, noise=0.01, num_train=1000, num_val=1000, batch_size=32):\n",
        "    super().__init__()\n",
        "    self.save_hyperparameters()\n",
        "    n = num_train+num_val\n",
        "    self.X = torch.randn(n, len(w))\n",
        "    noise = torch.randn(n, 1) * noise\n",
        "    self.y = torch.matmul(self.X, w.reshape(-1, 1)) + b + noise"
      ],
      "metadata": {
        "id": "kYDHEygSqTfr"
      },
      "execution_count": null,
      "outputs": []
    },
    {
      "cell_type": "code",
      "source": [
        "data = SyntheticRegressionData(w=torch.tensor([2, -3.4]),\n",
        "                               b = 4.2)"
      ],
      "metadata": {
        "id": "DkIuZDjWu9-8"
      },
      "execution_count": null,
      "outputs": []
    },
    {
      "cell_type": "code",
      "source": [
        "print(data.__dict__) # Give a dictionay containing all the attributes of 'data' and their value"
      ],
      "metadata": {
        "colab": {
          "base_uri": "https://localhost:8080/"
        },
        "id": "RtrExDKqvWfx",
        "outputId": "b8841697-c36e-4bf8-8f1f-2dbf32be2730"
      },
      "execution_count": null,
      "outputs": [
        {
          "output_type": "stream",
          "name": "stdout",
          "text": [
            "{'hparams': {'w': tensor([ 2.0000, -3.4000]), 'b': 4.2, 'noise': 0.01, 'num_train': 1000, 'num_val': 1000, 'batch_size': 32}, 'root': '../data', 'num_workers': 4, 'w': tensor([ 2.0000, -3.4000]), 'b': 4.2, 'noise': 0.01, 'num_train': 1000, 'num_val': 1000, 'batch_size': 32, 'X': tensor([[ 0.2826, -0.6326],\n",
            "        [ 2.1191,  0.7354],\n",
            "        [-0.2452,  0.0101],\n",
            "        ...,\n",
            "        [-0.1252, -0.8679],\n",
            "        [-1.3451,  0.5519],\n",
            "        [ 1.0368,  1.7343]]), 'y': tensor([[ 6.9221],\n",
            "        [ 5.9274],\n",
            "        [ 3.6788],\n",
            "        ...,\n",
            "        [ 6.9044],\n",
            "        [-0.3621],\n",
            "        [ 0.3878]])}\n"
          ]
        }
      ]
    },
    {
      "cell_type": "code",
      "source": [
        "data.X"
      ],
      "metadata": {
        "colab": {
          "base_uri": "https://localhost:8080/"
        },
        "id": "3bTByV5mvsEG",
        "outputId": "0426ea1d-bafb-4ca3-d1b7-717727469726"
      },
      "execution_count": null,
      "outputs": [
        {
          "output_type": "execute_result",
          "data": {
            "text/plain": [
              "tensor([[ 0.2826, -0.6326],\n",
              "        [ 2.1191,  0.7354],\n",
              "        [-0.2452,  0.0101],\n",
              "        ...,\n",
              "        [-0.1252, -0.8679],\n",
              "        [-1.3451,  0.5519],\n",
              "        [ 1.0368,  1.7343]])"
            ]
          },
          "metadata": {},
          "execution_count": 47
        }
      ]
    },
    {
      "cell_type": "code",
      "source": [
        "print(data.X.shape)"
      ],
      "metadata": {
        "colab": {
          "base_uri": "https://localhost:8080/"
        },
        "id": "M7RuzTVxyK9E",
        "outputId": "4552db6b-b0c9-44fb-d8b8-2b8ed861efd7"
      },
      "execution_count": null,
      "outputs": [
        {
          "output_type": "stream",
          "name": "stdout",
          "text": [
            "torch.Size([2000, 2])\n"
          ]
        }
      ]
    },
    {
      "cell_type": "code",
      "source": [
        "data.y"
      ],
      "metadata": {
        "colab": {
          "base_uri": "https://localhost:8080/"
        },
        "id": "4xrak6u3yGJn",
        "outputId": "99c963b6-7daf-41be-8ceb-f3d4a3d4b755"
      },
      "execution_count": null,
      "outputs": [
        {
          "output_type": "execute_result",
          "data": {
            "text/plain": [
              "tensor([[ 6.9221],\n",
              "        [ 5.9274],\n",
              "        [ 3.6788],\n",
              "        ...,\n",
              "        [ 6.9044],\n",
              "        [-0.3621],\n",
              "        [ 0.3878]])"
            ]
          },
          "metadata": {},
          "execution_count": 49
        }
      ]
    },
    {
      "cell_type": "code",
      "source": [
        "print(data.y.shape)"
      ],
      "metadata": {
        "colab": {
          "base_uri": "https://localhost:8080/"
        },
        "id": "Y75Kd2kpyIM4",
        "outputId": "2f21ba08-3458-446b-d855-6bee2a1c0ed6"
      },
      "execution_count": null,
      "outputs": [
        {
          "output_type": "stream",
          "name": "stdout",
          "text": [
            "torch.Size([2000, 1])\n"
          ]
        }
      ]
    },
    {
      "cell_type": "code",
      "source": [
        "# First entry of our dataset\n",
        "print(f'features : {data.X[0]}')\n",
        "print(f'label : {data.y[0]}')"
      ],
      "metadata": {
        "colab": {
          "base_uri": "https://localhost:8080/"
        },
        "id": "pUcBL7nHyPU2",
        "outputId": "831084fd-7bdc-4bdf-8731-3f697a3ff1cd"
      },
      "execution_count": null,
      "outputs": [
        {
          "output_type": "stream",
          "name": "stdout",
          "text": [
            "features : tensor([ 0.2826, -0.6326])\n",
            "label : tensor([6.9221])\n"
          ]
        }
      ]
    },
    {
      "cell_type": "code",
      "source": [
        "def add_to_class(Class):\n",
        "  def wrapper(obj):\n",
        "    setattr(Class, obj.__name__, obj)\n",
        "  return wrapper"
      ],
      "metadata": {
        "id": "JrKHuZPryiBD"
      },
      "execution_count": null,
      "outputs": []
    },
    {
      "cell_type": "code",
      "source": [
        "a = list(range(0, 10))\n",
        "print(\"Before shuffling\", a)\n",
        "random.shuffle(a)\n",
        "print(\"after shuffling\", a)"
      ],
      "metadata": {
        "colab": {
          "base_uri": "https://localhost:8080/"
        },
        "id": "espi9u861ZsG",
        "outputId": "be4b5327-5b42-4add-da67-e2c097141f2b"
      },
      "execution_count": null,
      "outputs": [
        {
          "output_type": "stream",
          "name": "stdout",
          "text": [
            "Before shuffling [0, 1, 2, 3, 4, 5, 6, 7, 8, 9]\n",
            "after shuffling [0, 9, 7, 3, 4, 6, 8, 2, 1, 5]\n"
          ]
        }
      ]
    },
    {
      "cell_type": "code",
      "source": [
        "a = torch.tensor([1, 2, 5, 6])\n",
        "data.X[a]"
      ],
      "metadata": {
        "colab": {
          "base_uri": "https://localhost:8080/"
        },
        "id": "R9Uhcvlv3Fg7",
        "outputId": "88c02df4-c913-4888-b267-85b11af69a9f"
      },
      "execution_count": null,
      "outputs": [
        {
          "output_type": "execute_result",
          "data": {
            "text/plain": [
              "tensor([[ 2.1191,  0.7354],\n",
              "        [-0.2452,  0.0101],\n",
              "        [-2.4540, -0.8380],\n",
              "        [ 0.2287,  0.8777]])"
            ]
          },
          "metadata": {},
          "execution_count": 54
        }
      ]
    },
    {
      "cell_type": "code",
      "source": [
        "@add_to_class(SyntheticRegressionData)\n",
        "def get_dataloader(self, train):\n",
        "  if train:\n",
        "    indices = list(range(0, self.num_train))\n",
        "    random.shuffle(indices) # examples are read in random order\n",
        "  else:\n",
        "    indice = list(range(self.num_train, self.num_train + self.num_val))\n",
        "  \n",
        "  for i in range(0, len(indices), self.batch_size):\n",
        "    batch_indices = torch.tensor(indices[i : i + self.batch_size])\n",
        "    yield self.X[batch_indices], self.y[batch_indices]"
      ],
      "metadata": {
        "id": "ghftgS0Dz9Bs"
      },
      "execution_count": null,
      "outputs": []
    },
    {
      "cell_type": "markdown",
      "source": [
        "### Iterators"
      ],
      "metadata": {
        "id": "GzNvv6jB3hmH"
      }
    },
    {
      "cell_type": "code",
      "source": [
        "string = 'ARNAV'\n",
        "ch_iterator = iter(string)\n",
        "\n",
        "print(next(ch_iterator))\n",
        "print(next(ch_iterator))\n",
        "print(next(ch_iterator))\n",
        "print(next(ch_iterator))"
      ],
      "metadata": {
        "colab": {
          "base_uri": "https://localhost:8080/"
        },
        "id": "dHVIj7b93gkQ",
        "outputId": "549d71aa-4df4-4e3b-c4cd-0d34e6530402"
      },
      "execution_count": null,
      "outputs": [
        {
          "output_type": "stream",
          "name": "stdout",
          "text": [
            "A\n",
            "R\n",
            "N\n",
            "A\n"
          ]
        }
      ]
    },
    {
      "cell_type": "code",
      "source": [
        "X, y = next(iter(data.get_dataloader(True)))\n",
        "print(f\"X.shape : {X.shape}\")\n",
        "print(f\"y.shape : {y.shape}\")"
      ],
      "metadata": {
        "colab": {
          "base_uri": "https://localhost:8080/"
        },
        "id": "D6jsS7E53TgA",
        "outputId": "89d86257-c3f6-4b4c-e0cd-2f85b98bcacb"
      },
      "execution_count": null,
      "outputs": [
        {
          "output_type": "stream",
          "name": "stdout",
          "text": [
            "X.shape : torch.Size([32, 2])\n",
            "y.shape : torch.Size([32, 1])\n"
          ]
        }
      ]
    },
    {
      "cell_type": "code",
      "source": [
        "a = \"Hello world\"\n",
        "obj = slice(0, None)\n",
        "print(a[obj])"
      ],
      "metadata": {
        "colab": {
          "base_uri": "https://localhost:8080/"
        },
        "id": "5NZ7-1NS7Fou",
        "outputId": "e0fe18a5-8128-425c-c6c5-ed6d8167645c"
      },
      "execution_count": null,
      "outputs": [
        {
          "output_type": "stream",
          "name": "stdout",
          "text": [
            "Hello world\n"
          ]
        }
      ]
    },
    {
      "cell_type": "code",
      "source": [
        "t = torch.tensor([1, 2, 3, 4])\n",
        "b = tuple(a for a in t)\n",
        "b"
      ],
      "metadata": {
        "colab": {
          "base_uri": "https://localhost:8080/"
        },
        "id": "W4bTpjow7grd",
        "outputId": "00130489-7c31-4325-fedc-89368c66252d"
      },
      "execution_count": null,
      "outputs": [
        {
          "output_type": "execute_result",
          "data": {
            "text/plain": [
              "(tensor(1), tensor(2), tensor(3), tensor(4))"
            ]
          },
          "metadata": {},
          "execution_count": 59
        }
      ]
    },
    {
      "cell_type": "code",
      "source": [
        "torch.utils.data??"
      ],
      "metadata": {
        "id": "IgnGVUyC8Xy_"
      },
      "execution_count": null,
      "outputs": []
    },
    {
      "cell_type": "code",
      "source": [
        "@add_to_class(d2l.DataModule)\n",
        "def get_tensorloader(self, tensors, train, indice=slice(0, None)):\n",
        "  tensors = tuple(a[indice] for a in tensors)\n",
        "  dataset = torch.utils.data.TensorDataset(*tensors)\n",
        "  return torch.utils.data.DataLoader(dataset, self.batch_size,\n",
        "                                     shuffle=train)\n",
        "  \n",
        "@add_to_class(SyntheticRegressionData)\n",
        "def get_dataloader(self, train):\n",
        "  i = slice(0, self.num_train) if train else slice(self.num_train, None)\n",
        "  return self.get_tensorloader((self.X, self.y), train, i)"
      ],
      "metadata": {
        "id": "Ly_V-rBz4L_j"
      },
      "execution_count": null,
      "outputs": []
    },
    {
      "cell_type": "code",
      "source": [
        "X, y = next(iter(data.train_dataloader()))\n",
        "print(f\"X.shape : {X.shape}\")\n",
        "print(f\"y.shape : {y.shape}\")"
      ],
      "metadata": {
        "colab": {
          "base_uri": "https://localhost:8080/"
        },
        "id": "5iPA3HMo-N8x",
        "outputId": "1696cd8a-034d-4912-d8ed-1f3834d059ef"
      },
      "execution_count": null,
      "outputs": [
        {
          "output_type": "stream",
          "name": "stdout",
          "text": [
            "X.shape : torch.Size([32, 2])\n",
            "y.shape : torch.Size([32, 1])\n"
          ]
        }
      ]
    },
    {
      "cell_type": "code",
      "source": [
        "# no_of_batches\n",
        "len(data.train_dataloader())"
      ],
      "metadata": {
        "colab": {
          "base_uri": "https://localhost:8080/"
        },
        "id": "vD5_oocQ_kxV",
        "outputId": "e0d96506-c4da-45a0-d714-f6123de71d36"
      },
      "execution_count": null,
      "outputs": [
        {
          "output_type": "execute_result",
          "data": {
            "text/plain": [
              "32"
            ]
          },
          "metadata": {},
          "execution_count": 66
        }
      ]
    },
    {
      "cell_type": "markdown",
      "source": [
        "# Ex 3.3"
      ],
      "metadata": {
        "id": "7QeOXbC2UfT8"
      }
    },
    {
      "cell_type": "markdown",
      "source": [
        "## Q1:\n",
        "\n",
        "can use math.ceil for the number of iterations in each epoch"
      ],
      "metadata": {
        "id": "ne4XviGZUi-a"
      }
    },
    {
      "cell_type": "markdown",
      "source": [
        "## Q3:"
      ],
      "metadata": {
        "id": "sCwDgSGyVHlr"
      }
    },
    {
      "cell_type": "code",
      "source": [
        "class GiveData(d2l.DataModule):\n",
        "  def __init__(self, w, b, noise=0.01, batch_size=25):\n",
        "    self.save_hyperparameters(ignore = ['w'])\n",
        "    self.w = w.reshape(-1,1)\n",
        "\n",
        "  def data_loader(self):\n",
        "    X = torch.randn(self.batch_size, len(self.w))\n",
        "    noise = torch.randn(self.batch_size, 1) * self.noise\n",
        "    y = torch.mm(X, self.w) + self.b + noise\n",
        "    return X, y"
      ],
      "metadata": {
        "id": "xMrmhNRPUhoU"
      },
      "execution_count": null,
      "outputs": []
    },
    {
      "cell_type": "code",
      "source": [
        "inst = GiveData(w = torch.tensor([1., -2.]),\n",
        "               b = 0.76)"
      ],
      "metadata": {
        "id": "TFXcDXU-YntM"
      },
      "execution_count": null,
      "outputs": []
    },
    {
      "cell_type": "code",
      "source": [
        "X1, y1 = inst.data_loader()"
      ],
      "metadata": {
        "id": "9QyX5tIKYwVw"
      },
      "execution_count": null,
      "outputs": []
    },
    {
      "cell_type": "code",
      "source": [
        "print(f\"X.shape : {X1.shape}\")\n",
        "print(f\"y.shape : {y1.shape}\")"
      ],
      "metadata": {
        "colab": {
          "base_uri": "https://localhost:8080/"
        },
        "id": "Po24WyztY3er",
        "outputId": "2f76c21a-1a86-463b-f840-a80765941e98"
      },
      "execution_count": null,
      "outputs": [
        {
          "output_type": "stream",
          "name": "stdout",
          "text": [
            "X.shape : torch.Size([25, 2])\n",
            "y.shape : torch.Size([25, 1])\n"
          ]
        }
      ]
    },
    {
      "cell_type": "code",
      "source": [
        "X2, y2 = inst.data_loader()\n",
        "print(sum(X2 == X1), sum(y2 == y1))"
      ],
      "metadata": {
        "colab": {
          "base_uri": "https://localhost:8080/"
        },
        "id": "MPhZyYUVZF9O",
        "outputId": "6d6fcefb-7767-4068-ee93-ba077e1648d3"
      },
      "execution_count": null,
      "outputs": [
        {
          "output_type": "stream",
          "name": "stdout",
          "text": [
            "tensor([0, 0]) tensor([0])\n"
          ]
        }
      ]
    },
    {
      "cell_type": "markdown",
      "source": [
        "## Q4:"
      ],
      "metadata": {
        "id": "W-Q7i5bjZlge"
      }
    },
    {
      "cell_type": "code",
      "source": [
        "class GiveFixedData(d2l.DataModule):\n",
        "  def __init__(self, w, b, noise=0.01, batch_size=25):\n",
        "    self.save_hyperparameters(ignore = ['w'])\n",
        "    self.w = w.reshape(-1,1)\n",
        "\n",
        "  def data_loader(self):\n",
        "    torch.manual_seed(0)\n",
        "    X = torch.randn(self.batch_size, len(self.w))\n",
        "    noise = torch.randn(self.batch_size, 1) * self.noise\n",
        "    y = torch.mm(X, self.w) + self.b + noise\n",
        "    return X, y"
      ],
      "metadata": {
        "id": "GUb1dz6kZb_h"
      },
      "execution_count": 4,
      "outputs": []
    },
    {
      "cell_type": "code",
      "source": [
        "inst = GiveFixedData(w = torch.tensor([1.78, 3.98]),\n",
        "                     b = -9.67)\n",
        "\n",
        "X1, y1 = inst.data_loader()\n",
        "X2, y2 = inst.data_loader()"
      ],
      "metadata": {
        "id": "rDwkEgf8aCO_"
      },
      "execution_count": null,
      "outputs": []
    },
    {
      "cell_type": "code",
      "source": [
        "print(sum(X1 == X2) / X1.shape[0])"
      ],
      "metadata": {
        "colab": {
          "base_uri": "https://localhost:8080/"
        },
        "id": "fYPFjGU3aOcF",
        "outputId": "17f4236f-c8b8-4894-dbaf-b0a67c0858c5"
      },
      "execution_count": null,
      "outputs": [
        {
          "output_type": "stream",
          "name": "stdout",
          "text": [
            "tensor([1., 1.])\n"
          ]
        }
      ]
    },
    {
      "cell_type": "code",
      "source": [
        "print(sum(y1 == y2) / y1.shape[0])"
      ],
      "metadata": {
        "colab": {
          "base_uri": "https://localhost:8080/"
        },
        "id": "BdlE6xUIaU2O",
        "outputId": "c28de03c-ed3f-4ffb-a89f-2cc4afb646b8"
      },
      "execution_count": null,
      "outputs": [
        {
          "output_type": "stream",
          "name": "stdout",
          "text": [
            "tensor([1.])\n"
          ]
        }
      ]
    },
    {
      "cell_type": "code",
      "source": [
        "len(torch.ones(2, 3)) # given the dimensions across the first axis"
      ],
      "metadata": {
        "colab": {
          "base_uri": "https://localhost:8080/"
        },
        "id": "Vmy1UXFKGHqc",
        "outputId": "82f230a6-ad13-4460-abb0-dae5859c3026"
      },
      "execution_count": 5,
      "outputs": [
        {
          "output_type": "execute_result",
          "data": {
            "text/plain": [
              "2"
            ]
          },
          "metadata": {},
          "execution_count": 5
        }
      ]
    },
    {
      "cell_type": "code",
      "source": [
        "torch.randn??"
      ],
      "metadata": {
        "id": "78fBfN1lGcQE"
      },
      "execution_count": 7,
      "outputs": []
    },
    {
      "cell_type": "code",
      "source": [
        "torch.manual_seed(0)\n",
        "class DataGen(d2l.DataModule):\n",
        "  def __init__(self, w, b, noise=0.01, batch_size=25):\n",
        "    self.save_hyperparameters(ignore=['w'])\n",
        "    self.w = w.reshape(-1, 1)\n",
        "\n",
        "  def give_data(self):\n",
        "    X = torch.randn(self.batch_size, len(self.w), )\n",
        "    noise = torch.randn(self.batch_size, 1) * self.noise\n",
        "    y = torch.mm(X, self.w) + self.b + noise\n",
        "    return X, y"
      ],
      "metadata": {
        "id": "2sIA_b1zFr6e"
      },
      "execution_count": 12,
      "outputs": []
    },
    {
      "cell_type": "code",
      "source": [
        "inst = DataGen(w = torch.tensor([1.78, 3.98]),\n",
        "                     b = -9.67)\n",
        "\n",
        "X1, y1 = inst.give_data()\n",
        "X2, y2 = inst.give_data()"
      ],
      "metadata": {
        "id": "6LcaybS6GY0a"
      },
      "execution_count": 13,
      "outputs": []
    },
    {
      "cell_type": "code",
      "source": [
        "print(sum(X1 == X2) / X1.shape[0])\n",
        "print(sum(y1 == y2) / y1.shape[0])"
      ],
      "metadata": {
        "colab": {
          "base_uri": "https://localhost:8080/"
        },
        "id": "KfPC8u4AI559",
        "outputId": "9cbf7305-065d-4052-b4ea-f44b03d9abed"
      },
      "execution_count": 14,
      "outputs": [
        {
          "output_type": "stream",
          "name": "stdout",
          "text": [
            "tensor([0., 0.])\n",
            "tensor([0.])\n"
          ]
        }
      ]
    },
    {
      "cell_type": "code",
      "source": [],
      "metadata": {
        "id": "xErg2QEHJIhM"
      },
      "execution_count": null,
      "outputs": []
    }
  ]
}