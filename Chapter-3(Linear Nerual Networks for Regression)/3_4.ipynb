{
  "nbformat": 4,
  "nbformat_minor": 0,
  "metadata": {
    "colab": {
      "provenance": [],
      "collapsed_sections": [
        "Ri6uMGPUJuxi"
      ],
      "authorship_tag": "ABX9TyOwSiocvInUTrAdqTLCGV3w",
      "include_colab_link": true
    },
    "kernelspec": {
      "name": "python3",
      "display_name": "Python 3"
    },
    "language_info": {
      "name": "python"
    }
  },
  "cells": [
    {
      "cell_type": "markdown",
      "metadata": {
        "id": "view-in-github",
        "colab_type": "text"
      },
      "source": [
        "<a href=\"https://colab.research.google.com/github/arnav39/d2el-en/blob/main/3_4.ipynb\" target=\"_parent\"><img src=\"https://colab.research.google.com/assets/colab-badge.svg\" alt=\"Open In Colab\"/></a>"
      ]
    },
    {
      "cell_type": "markdown",
      "source": [
        "# 3.4 Linear Regression from scratch"
      ],
      "metadata": {
        "id": "ZGXiovf38CMX"
      }
    },
    {
      "cell_type": "code",
      "execution_count": null,
      "metadata": {
        "id": "DN8j6UwD79mM"
      },
      "outputs": [],
      "source": [
        "!pip install matplotlib_inline\n",
        "!pip install --upgrade d2l==1.0.0a0"
      ]
    },
    {
      "cell_type": "code",
      "source": [
        "help(torch.normal)"
      ],
      "metadata": {
        "colab": {
          "base_uri": "https://localhost:8080/"
        },
        "id": "wl4dgpR0-gA7",
        "outputId": "2864520b-5624-4e6c-b599-34ad28b5b626"
      },
      "execution_count": null,
      "outputs": [
        {
          "output_type": "stream",
          "name": "stdout",
          "text": [
            "Help on built-in function normal in module torch:\n",
            "\n",
            "normal(...)\n",
            "    normal(mean, std, *, generator=None, out=None) -> Tensor\n",
            "    \n",
            "    Returns a tensor of random numbers drawn from separate normal distributions\n",
            "    whose mean and standard deviation are given.\n",
            "    \n",
            "    The :attr:`mean` is a tensor with the mean of\n",
            "    each output element's normal distribution\n",
            "    \n",
            "    The :attr:`std` is a tensor with the standard deviation of\n",
            "    each output element's normal distribution\n",
            "    \n",
            "    The shapes of :attr:`mean` and :attr:`std` don't need to match, but the\n",
            "    total number of elements in each tensor need to be the same.\n",
            "    \n",
            "    .. note:: When the shapes do not match, the shape of :attr:`mean`\n",
            "              is used as the shape for the returned output tensor\n",
            "    \n",
            "    .. note:: When :attr:`std` is a CUDA tensor, this function synchronizes\n",
            "              its device with the CPU.\n",
            "    \n",
            "    Args:\n",
            "        mean (Tensor): the tensor of per-element means\n",
            "        std (Tensor): the tensor of per-element standard deviations\n",
            "    \n",
            "    Keyword args:\n",
            "        generator (:class:`torch.Generator`, optional): a pseudorandom number generator for sampling\n",
            "        out (Tensor, optional): the output tensor.\n",
            "    \n",
            "    Example::\n",
            "    \n",
            "        >>> torch.normal(mean=torch.arange(1., 11.), std=torch.arange(1, 0, -0.1))\n",
            "        tensor([  1.0425,   3.5672,   2.7969,   4.2925,   4.7229,   6.2134,\n",
            "                  8.0505,   8.1408,   9.0563,  10.0566])\n",
            "    \n",
            "    .. function:: normal(mean=0.0, std, *, out=None) -> Tensor\n",
            "       :noindex:\n",
            "    \n",
            "    Similar to the function above, but the means are shared among all drawn\n",
            "    elements.\n",
            "    \n",
            "    Args:\n",
            "        mean (float, optional): the mean for all distributions\n",
            "        std (Tensor): the tensor of per-element standard deviations\n",
            "    \n",
            "    Keyword args:\n",
            "        out (Tensor, optional): the output tensor.\n",
            "    \n",
            "    Example::\n",
            "    \n",
            "        >>> torch.normal(mean=0.5, std=torch.arange(1., 6.))\n",
            "        tensor([-1.2793, -1.0732, -2.0687,  5.1177, -1.2303])\n",
            "    \n",
            "    .. function:: normal(mean, std=1.0, *, out=None) -> Tensor\n",
            "       :noindex:\n",
            "    \n",
            "    Similar to the function above, but the standard deviations are shared among\n",
            "    all drawn elements.\n",
            "    \n",
            "    Args:\n",
            "        mean (Tensor): the tensor of per-element means\n",
            "        std (float, optional): the standard deviation for all distributions\n",
            "    \n",
            "    Keyword args:\n",
            "        out (Tensor, optional): the output tensor\n",
            "    \n",
            "    Example::\n",
            "    \n",
            "        >>> torch.normal(mean=torch.arange(1., 6.))\n",
            "        tensor([ 1.1552,  2.6148,  2.6535,  5.8318,  4.2361])\n",
            "    \n",
            "    .. function:: normal(mean, std, size, *, out=None) -> Tensor\n",
            "       :noindex:\n",
            "    \n",
            "    Similar to the function above, but the means and standard deviations are shared\n",
            "    among all drawn elements. The resulting tensor has size given by :attr:`size`.\n",
            "    \n",
            "    Args:\n",
            "        mean (float): the mean for all distributions\n",
            "        std (float): the standard deviation for all distributions\n",
            "        size (int...): a sequence of integers defining the shape of the output tensor.\n",
            "    \n",
            "    Keyword args:\n",
            "        out (Tensor, optional): the output tensor.\n",
            "    \n",
            "    Example::\n",
            "    \n",
            "        >>> torch.normal(2, 3, size=(1, 4))\n",
            "        tensor([[-1.3987, -1.9544,  3.6048,  0.7909]])\n",
            "\n"
          ]
        }
      ]
    },
    {
      "cell_type": "code",
      "source": [
        "torch.normal(0, 1, (2, 3))\n",
        "# mean = 0\n",
        "# std_dev = 1\n",
        "# size = (2, 3)"
      ],
      "metadata": {
        "colab": {
          "base_uri": "https://localhost:8080/"
        },
        "id": "ZwmBuNu3-vgy",
        "outputId": "ba2471db-fbfc-4957-fc48-659aadfab3f4"
      },
      "execution_count": null,
      "outputs": [
        {
          "output_type": "execute_result",
          "data": {
            "text/plain": [
              "tensor([[-2.2378,  0.3761,  0.1021],\n",
              "        [ 1.2296, -0.7625, -1.3092]])"
            ]
          },
          "metadata": {},
          "execution_count": 4
        }
      ]
    },
    {
      "cell_type": "code",
      "source": [
        "%matplotlib inline\n",
        "import torch\n",
        "from d2l import torch as d2l"
      ],
      "metadata": {
        "id": "OC8bWthQ8WUc"
      },
      "execution_count": null,
      "outputs": []
    },
    {
      "cell_type": "code",
      "source": [
        "class LinearRegressionScratch(d2l.Module):\n",
        "\n",
        "  def __init__(self, num_inputs, lr, sigma=0.01):\n",
        "    super().__init__()\n",
        "    self.save_hyperparameters() # saves function arguments into class's attributes\n",
        "    self.w = torch.normal(0, sigma, (num_inputs, 1), requires_grad=True)\n",
        "    self.b = torch.zeros(1, requires_grad=True)"
      ],
      "metadata": {
        "id": "jgPYnWnn8ffP"
      },
      "execution_count": null,
      "outputs": []
    },
    {
      "cell_type": "code",
      "source": [
        "a = torch.rand(5, 1)\n",
        "b = torch.rand(1, 1, requires_grad=True)\n",
        "c = torch.randn(1, requires_grad=True)\n",
        "\n",
        "d = torch.mm(a, b) + c\n",
        "print(f\"d.shape = {d.shape}\")\n",
        "print(f\"d = {d}\")"
      ],
      "metadata": {
        "colab": {
          "base_uri": "https://localhost:8080/"
        },
        "id": "Go8-3bMMBNJW",
        "outputId": "06767977-5e41-4ff0-8acb-acf9601141da"
      },
      "execution_count": null,
      "outputs": [
        {
          "output_type": "stream",
          "name": "stdout",
          "text": [
            "d.shape = torch.Size([5, 1])\n",
            "d = tensor([[2.4605],\n",
            "        [2.4482],\n",
            "        [2.4691],\n",
            "        [2.4820],\n",
            "        [2.5713]], grad_fn=<AddBackward0>)\n"
          ]
        }
      ]
    },
    {
      "cell_type": "code",
      "source": [
        "def add_to_class(Class):\n",
        "  def wrapper(obj):\n",
        "    setattr(Class, obj.__name__, obj)\n",
        "  return wrapper"
      ],
      "metadata": {
        "id": "o66zB8P7_qTB"
      },
      "execution_count": null,
      "outputs": []
    },
    {
      "cell_type": "code",
      "source": [
        "@add_to_class(LinearRegressionScratch)\n",
        "def forward(self, X):\n",
        "  return torch.matmul(X, self.w) + self.b"
      ],
      "metadata": {
        "id": "2kHK1Bri_KIu"
      },
      "execution_count": null,
      "outputs": []
    },
    {
      "cell_type": "code",
      "source": [
        "@add_to_class(LinearRegressionScratch)\n",
        "def loss(self, y_hat, y):\n",
        "  l = (y_hat - y.reshape(y_hat.shape)) ** 2 / 2\n",
        "  return l.mean()"
      ],
      "metadata": {
        "id": "yqUc73w8AWv5"
      },
      "execution_count": null,
      "outputs": []
    },
    {
      "cell_type": "code",
      "source": [
        "# optimizer\n",
        "\n",
        "class SGD(d2l.HyperParameters):\n",
        "\n",
        "  def __init__(self, params, lr):\n",
        "    self.save_hyperparameters()\n",
        "\n",
        "  def step(self):\n",
        "    for param in self.params:\n",
        "      param -= self.lr * param.grad\n",
        "\n",
        "  def zero_grad(self):\n",
        "    for param in self.params:\n",
        "      if param.grad is not None:\n",
        "        param.grad_zero_()"
      ],
      "metadata": {
        "id": "tOorl964CNO5"
      },
      "execution_count": null,
      "outputs": []
    },
    {
      "cell_type": "code",
      "source": [
        "@add_to_class(LinearRegressionScratch)\n",
        "def configure_optimizer(self):\n",
        "  return SGD([self.w, self.b], self.lr)"
      ],
      "metadata": {
        "id": "8YDb91IGEIGF"
      },
      "execution_count": null,
      "outputs": []
    },
    {
      "cell_type": "code",
      "source": [
        "model = LinearRegressionScratch(2, lr=0.03)\n",
        "data = d2l.SyntheticRegressionData(w = torch.tensor([2, -3.4]), b = 4.2)\n",
        "trainer = d2l.Trainer(max_epochs=3)"
      ],
      "metadata": {
        "id": "ufEn8cxcFlkc"
      },
      "execution_count": null,
      "outputs": []
    },
    {
      "cell_type": "code",
      "source": [
        "model.w"
      ],
      "metadata": {
        "colab": {
          "base_uri": "https://localhost:8080/"
        },
        "id": "B7rPu3ilJCDS",
        "outputId": "877e2047-fc90-45d8-b945-1685e958aff7"
      },
      "execution_count": null,
      "outputs": [
        {
          "output_type": "execute_result",
          "data": {
            "text/plain": [
              "tensor([[-1.1922e-05],\n",
              "        [-4.4621e-03]], requires_grad=True)"
            ]
          },
          "metadata": {},
          "execution_count": 57
        }
      ]
    },
    {
      "cell_type": "code",
      "source": [
        "d2l.Trainer.fit??"
      ],
      "metadata": {
        "id": "E4kV7zPYJH2L"
      },
      "execution_count": null,
      "outputs": []
    },
    {
      "cell_type": "code",
      "source": [
        "trainer.fit(model, data)"
      ],
      "metadata": {
        "colab": {
          "base_uri": "https://localhost:8080/",
          "height": 307
        },
        "id": "4G1ZzWExGAqd",
        "outputId": "a8f7c02a-244d-4c3d-ab3d-b9c6d3fbcb08"
      },
      "execution_count": null,
      "outputs": [
        {
          "output_type": "error",
          "ename": "ValueError",
          "evalue": "ignored",
          "traceback": [
            "\u001b[0;31m---------------------------------------------------------------------------\u001b[0m",
            "\u001b[0;31mValueError\u001b[0m                                Traceback (most recent call last)",
            "\u001b[0;32m<ipython-input-60-099f36836577>\u001b[0m in \u001b[0;36m<module>\u001b[0;34m\u001b[0m\n\u001b[0;32m----> 1\u001b[0;31m \u001b[0mtrainer\u001b[0m\u001b[0;34m.\u001b[0m\u001b[0mfit\u001b[0m\u001b[0;34m(\u001b[0m\u001b[0mmodel\u001b[0m\u001b[0;34m,\u001b[0m \u001b[0mdata\u001b[0m\u001b[0;34m)\u001b[0m\u001b[0;34m\u001b[0m\u001b[0;34m\u001b[0m\u001b[0m\n\u001b[0m",
            "\u001b[0;32m/usr/local/lib/python3.8/dist-packages/d2l/torch.py\u001b[0m in \u001b[0;36mfit\u001b[0;34m(self, model, data)\u001b[0m\n\u001b[1;32m    267\u001b[0m         \u001b[0mself\u001b[0m\u001b[0;34m.\u001b[0m\u001b[0mprepare_data\u001b[0m\u001b[0;34m(\u001b[0m\u001b[0mdata\u001b[0m\u001b[0;34m)\u001b[0m\u001b[0;34m\u001b[0m\u001b[0;34m\u001b[0m\u001b[0m\n\u001b[1;32m    268\u001b[0m         \u001b[0mself\u001b[0m\u001b[0;34m.\u001b[0m\u001b[0mprepare_model\u001b[0m\u001b[0;34m(\u001b[0m\u001b[0mmodel\u001b[0m\u001b[0;34m)\u001b[0m\u001b[0;34m\u001b[0m\u001b[0;34m\u001b[0m\u001b[0m\n\u001b[0;32m--> 269\u001b[0;31m         \u001b[0mself\u001b[0m\u001b[0;34m.\u001b[0m\u001b[0moptim\u001b[0m \u001b[0;34m=\u001b[0m \u001b[0mmodel\u001b[0m\u001b[0;34m.\u001b[0m\u001b[0mconfigure_optimizers\u001b[0m\u001b[0;34m(\u001b[0m\u001b[0;34m)\u001b[0m\u001b[0;34m\u001b[0m\u001b[0;34m\u001b[0m\u001b[0m\n\u001b[0m\u001b[1;32m    270\u001b[0m         \u001b[0mself\u001b[0m\u001b[0;34m.\u001b[0m\u001b[0mepoch\u001b[0m \u001b[0;34m=\u001b[0m \u001b[0;36m0\u001b[0m\u001b[0;34m\u001b[0m\u001b[0;34m\u001b[0m\u001b[0m\n\u001b[1;32m    271\u001b[0m         \u001b[0mself\u001b[0m\u001b[0;34m.\u001b[0m\u001b[0mtrain_batch_idx\u001b[0m \u001b[0;34m=\u001b[0m \u001b[0;36m0\u001b[0m\u001b[0;34m\u001b[0m\u001b[0;34m\u001b[0m\u001b[0m\n",
            "\u001b[0;32m/usr/local/lib/python3.8/dist-packages/d2l/torch.py\u001b[0m in \u001b[0;36mconfigure_optimizers\u001b[0;34m(self)\u001b[0m\n\u001b[1;32m    217\u001b[0m     \u001b[0;32mdef\u001b[0m \u001b[0mconfigure_optimizers\u001b[0m\u001b[0;34m(\u001b[0m\u001b[0mself\u001b[0m\u001b[0;34m)\u001b[0m\u001b[0;34m:\u001b[0m\u001b[0;34m\u001b[0m\u001b[0;34m\u001b[0m\u001b[0m\n\u001b[1;32m    218\u001b[0m         \u001b[0;34m\"\"\"Defined in :numref:`sec_classification`\"\"\"\u001b[0m\u001b[0;34m\u001b[0m\u001b[0;34m\u001b[0m\u001b[0m\n\u001b[0;32m--> 219\u001b[0;31m         \u001b[0;32mreturn\u001b[0m \u001b[0mtorch\u001b[0m\u001b[0;34m.\u001b[0m\u001b[0moptim\u001b[0m\u001b[0;34m.\u001b[0m\u001b[0mSGD\u001b[0m\u001b[0;34m(\u001b[0m\u001b[0mself\u001b[0m\u001b[0;34m.\u001b[0m\u001b[0mparameters\u001b[0m\u001b[0;34m(\u001b[0m\u001b[0;34m)\u001b[0m\u001b[0;34m,\u001b[0m \u001b[0mlr\u001b[0m\u001b[0;34m=\u001b[0m\u001b[0mself\u001b[0m\u001b[0;34m.\u001b[0m\u001b[0mlr\u001b[0m\u001b[0;34m)\u001b[0m\u001b[0;34m\u001b[0m\u001b[0;34m\u001b[0m\u001b[0m\n\u001b[0m\u001b[1;32m    220\u001b[0m \u001b[0;34m\u001b[0m\u001b[0m\n\u001b[1;32m    221\u001b[0m     \u001b[0;32mdef\u001b[0m \u001b[0mapply_init\u001b[0m\u001b[0;34m(\u001b[0m\u001b[0mself\u001b[0m\u001b[0;34m,\u001b[0m \u001b[0minputs\u001b[0m\u001b[0;34m,\u001b[0m \u001b[0minit\u001b[0m\u001b[0;34m=\u001b[0m\u001b[0;32mNone\u001b[0m\u001b[0;34m)\u001b[0m\u001b[0;34m:\u001b[0m\u001b[0;34m\u001b[0m\u001b[0;34m\u001b[0m\u001b[0m\n",
            "\u001b[0;32m/usr/local/lib/python3.8/dist-packages/torch/optim/sgd.py\u001b[0m in \u001b[0;36m__init__\u001b[0;34m(self, params, lr, momentum, dampening, weight_decay, nesterov, maximize, foreach)\u001b[0m\n\u001b[1;32m    103\u001b[0m         \u001b[0;32mif\u001b[0m \u001b[0mnesterov\u001b[0m \u001b[0;32mand\u001b[0m \u001b[0;34m(\u001b[0m\u001b[0mmomentum\u001b[0m \u001b[0;34m<=\u001b[0m \u001b[0;36m0\u001b[0m \u001b[0;32mor\u001b[0m \u001b[0mdampening\u001b[0m \u001b[0;34m!=\u001b[0m \u001b[0;36m0\u001b[0m\u001b[0;34m)\u001b[0m\u001b[0;34m:\u001b[0m\u001b[0;34m\u001b[0m\u001b[0;34m\u001b[0m\u001b[0m\n\u001b[1;32m    104\u001b[0m             \u001b[0;32mraise\u001b[0m \u001b[0mValueError\u001b[0m\u001b[0;34m(\u001b[0m\u001b[0;34m\"Nesterov momentum requires a momentum and zero dampening\"\u001b[0m\u001b[0;34m)\u001b[0m\u001b[0;34m\u001b[0m\u001b[0;34m\u001b[0m\u001b[0m\n\u001b[0;32m--> 105\u001b[0;31m         \u001b[0msuper\u001b[0m\u001b[0;34m(\u001b[0m\u001b[0mSGD\u001b[0m\u001b[0;34m,\u001b[0m \u001b[0mself\u001b[0m\u001b[0;34m)\u001b[0m\u001b[0;34m.\u001b[0m\u001b[0m__init__\u001b[0m\u001b[0;34m(\u001b[0m\u001b[0mparams\u001b[0m\u001b[0;34m,\u001b[0m \u001b[0mdefaults\u001b[0m\u001b[0;34m)\u001b[0m\u001b[0;34m\u001b[0m\u001b[0;34m\u001b[0m\u001b[0m\n\u001b[0m\u001b[1;32m    106\u001b[0m \u001b[0;34m\u001b[0m\u001b[0m\n\u001b[1;32m    107\u001b[0m     \u001b[0;32mdef\u001b[0m \u001b[0m__setstate__\u001b[0m\u001b[0;34m(\u001b[0m\u001b[0mself\u001b[0m\u001b[0;34m,\u001b[0m \u001b[0mstate\u001b[0m\u001b[0;34m)\u001b[0m\u001b[0;34m:\u001b[0m\u001b[0;34m\u001b[0m\u001b[0;34m\u001b[0m\u001b[0m\n",
            "\u001b[0;32m/usr/local/lib/python3.8/dist-packages/torch/optim/optimizer.py\u001b[0m in \u001b[0;36m__init__\u001b[0;34m(self, params, defaults)\u001b[0m\n\u001b[1;32m     47\u001b[0m         \u001b[0mparam_groups\u001b[0m \u001b[0;34m=\u001b[0m \u001b[0mlist\u001b[0m\u001b[0;34m(\u001b[0m\u001b[0mparams\u001b[0m\u001b[0;34m)\u001b[0m\u001b[0;34m\u001b[0m\u001b[0;34m\u001b[0m\u001b[0m\n\u001b[1;32m     48\u001b[0m         \u001b[0;32mif\u001b[0m \u001b[0mlen\u001b[0m\u001b[0;34m(\u001b[0m\u001b[0mparam_groups\u001b[0m\u001b[0;34m)\u001b[0m \u001b[0;34m==\u001b[0m \u001b[0;36m0\u001b[0m\u001b[0;34m:\u001b[0m\u001b[0;34m\u001b[0m\u001b[0;34m\u001b[0m\u001b[0m\n\u001b[0;32m---> 49\u001b[0;31m             \u001b[0;32mraise\u001b[0m \u001b[0mValueError\u001b[0m\u001b[0;34m(\u001b[0m\u001b[0;34m\"optimizer got an empty parameter list\"\u001b[0m\u001b[0;34m)\u001b[0m\u001b[0;34m\u001b[0m\u001b[0;34m\u001b[0m\u001b[0m\n\u001b[0m\u001b[1;32m     50\u001b[0m         \u001b[0;32mif\u001b[0m \u001b[0;32mnot\u001b[0m \u001b[0misinstance\u001b[0m\u001b[0;34m(\u001b[0m\u001b[0mparam_groups\u001b[0m\u001b[0;34m[\u001b[0m\u001b[0;36m0\u001b[0m\u001b[0;34m]\u001b[0m\u001b[0;34m,\u001b[0m \u001b[0mdict\u001b[0m\u001b[0;34m)\u001b[0m\u001b[0;34m:\u001b[0m\u001b[0;34m\u001b[0m\u001b[0;34m\u001b[0m\u001b[0m\n\u001b[1;32m     51\u001b[0m             \u001b[0mparam_groups\u001b[0m \u001b[0;34m=\u001b[0m \u001b[0;34m[\u001b[0m\u001b[0;34m{\u001b[0m\u001b[0;34m'params'\u001b[0m\u001b[0;34m:\u001b[0m \u001b[0mparam_groups\u001b[0m\u001b[0;34m}\u001b[0m\u001b[0;34m]\u001b[0m\u001b[0;34m\u001b[0m\u001b[0;34m\u001b[0m\u001b[0m\n",
            "\u001b[0;31mValueError\u001b[0m: optimizer got an empty parameter list"
          ]
        }
      ]
    },
    {
      "cell_type": "markdown",
      "source": [
        "## Ex 3.4"
      ],
      "metadata": {
        "id": "Ri6uMGPUJuxi"
      }
    },
    {
      "cell_type": "markdown",
      "source": [
        "## Q1\n",
        "\n",
        "when we initialise the weights to zero, the model is not able to learn anything when we use nn.Linear model"
      ],
      "metadata": {
        "id": "sFmF9xAXK3Cx"
      }
    },
    {
      "cell_type": "code",
      "source": [
        "import torch\n",
        "import torch.nn as nn\n",
        "import numpy as np\n",
        "from sklearn import datasets\n",
        "import matplotlib.pyplot as plt"
      ],
      "metadata": {
        "id": "z6wFw5HSG-9w"
      },
      "execution_count": null,
      "outputs": []
    },
    {
      "cell_type": "code",
      "source": [
        "X_numpy, y_numpy = datasets.make_regression(n_samples=1000, n_features=5, noise=20, random_state=1)\n",
        "\n",
        "X = torch.from_numpy(X_numpy.astype(np.float32))\n",
        "y = torch.from_numpy(y_numpy.astype(np.float32)).reshape(-1, 1)"
      ],
      "metadata": {
        "id": "GX1TfZbgLDTB"
      },
      "execution_count": null,
      "outputs": []
    },
    {
      "cell_type": "code",
      "source": [
        "print(f\"X.shape = {X.shape}\")\n",
        "print(f\"y.shape = {y.shape}\")"
      ],
      "metadata": {
        "colab": {
          "base_uri": "https://localhost:8080/"
        },
        "id": "LJswQP3yNsDD",
        "outputId": "d858d67d-2b12-4937-9ca0-6ad2b4644e0f"
      },
      "execution_count": null,
      "outputs": [
        {
          "output_type": "stream",
          "name": "stdout",
          "text": [
            "X.shape = torch.Size([1000, 5])\n",
            "y.shape = torch.Size([1000, 1])\n"
          ]
        }
      ]
    },
    {
      "cell_type": "markdown",
      "source": [
        "forward pass : y_hat and loss\n",
        "\n",
        "backward pass : grad\n",
        "\n",
        "update : params"
      ],
      "metadata": {
        "id": "WqgKrCowNzSF"
      }
    },
    {
      "cell_type": "code",
      "source": [
        "a = torch.randn(100, 1)\n",
        "b = torch.randn(100, 1)\n",
        "\n",
        "c = nn.MSELoss()\n",
        "c(a, b).item()"
      ],
      "metadata": {
        "colab": {
          "base_uri": "https://localhost:8080/"
        },
        "id": "vpRwNrJaOvcj",
        "outputId": "8cbf01d8-4f1d-4fbb-d0d4-254cbb27a1b2"
      },
      "execution_count": null,
      "outputs": [
        {
          "output_type": "execute_result",
          "data": {
            "text/plain": [
              "1.8610917329788208"
            ]
          },
          "metadata": {},
          "execution_count": 61
        }
      ]
    },
    {
      "cell_type": "code",
      "source": [
        "a = torch.rand(100, 5)\n",
        "b = torch.rand(5, 1)\n",
        "\n",
        "c = torch.mm(a, b)\n",
        "print(c.shape)"
      ],
      "metadata": {
        "colab": {
          "base_uri": "https://localhost:8080/"
        },
        "id": "EfJThzazQZhi",
        "outputId": "09671c8e-5fb1-4760-cc02-7fcb4789b2ed"
      },
      "execution_count": null,
      "outputs": [
        {
          "output_type": "stream",
          "name": "stdout",
          "text": [
            "torch.Size([100, 1])\n"
          ]
        }
      ]
    },
    {
      "cell_type": "code",
      "source": [
        "a = torch.zeros((5, 1), dtype=torch.float32, requires_grad=True)\n",
        "print(a.shape)\n",
        "print(a)"
      ],
      "metadata": {
        "colab": {
          "base_uri": "https://localhost:8080/"
        },
        "id": "gqa_l2NHQw1D",
        "outputId": "00fdd2bf-20aa-4ff1-f3cd-42a307c58bb6"
      },
      "execution_count": null,
      "outputs": [
        {
          "output_type": "stream",
          "name": "stdout",
          "text": [
            "torch.Size([5, 1])\n",
            "tensor([[0.],\n",
            "        [0.],\n",
            "        [0.],\n",
            "        [0.],\n",
            "        [0.]], requires_grad=True)\n"
          ]
        }
      ]
    },
    {
      "cell_type": "code",
      "source": [
        "a = torch.rand(100, 5)\n",
        "b = torch.zeros(5, 1)\n",
        "\n",
        "print(f\"a.shape = {a.shape}\")\n",
        "print(f\"b.shape = {b.shape}\")"
      ],
      "metadata": {
        "colab": {
          "base_uri": "https://localhost:8080/"
        },
        "id": "VkuLD4jyRxZ-",
        "outputId": "b4d40125-2c0b-41a0-c6b5-674aeeee4c35"
      },
      "execution_count": null,
      "outputs": [
        {
          "output_type": "stream",
          "name": "stdout",
          "text": [
            "a.shape = torch.Size([100, 5])\n",
            "b.shape = torch.Size([5, 1])\n"
          ]
        }
      ]
    },
    {
      "cell_type": "code",
      "source": [
        "c = torch.mm(a, b)\n",
        "c.shape"
      ],
      "metadata": {
        "colab": {
          "base_uri": "https://localhost:8080/"
        },
        "id": "D1ThdIkqSJwp",
        "outputId": "fc0d478d-0e23-4368-91fb-df2e91ec83c8"
      },
      "execution_count": null,
      "outputs": [
        {
          "output_type": "execute_result",
          "data": {
            "text/plain": [
              "torch.Size([100, 1])"
            ]
          },
          "metadata": {},
          "execution_count": 52
        }
      ]
    },
    {
      "cell_type": "code",
      "source": [
        "d = [b]\n",
        "d"
      ],
      "metadata": {
        "colab": {
          "base_uri": "https://localhost:8080/"
        },
        "id": "uU7bfFf_Sba6",
        "outputId": "e38e183d-6419-47f6-dca7-af95479272d3"
      },
      "execution_count": null,
      "outputs": [
        {
          "output_type": "execute_result",
          "data": {
            "text/plain": [
              "[tensor([[0.],\n",
              "         [0.],\n",
              "         [0.],\n",
              "         [0.],\n",
              "         [0.]])]"
            ]
          },
          "metadata": {},
          "execution_count": 53
        }
      ]
    },
    {
      "cell_type": "markdown",
      "source": [
        "## Not using nn.Linear : the weights are able to learn"
      ],
      "metadata": {
        "id": "KRamymo3Xdvr"
      }
    },
    {
      "cell_type": "code",
      "source": [
        "w = torch.zeros(X.shape[1], 1, requires_grad=True)\n",
        "\n",
        "max_epochs = 100\n",
        "learning_rate = 0.07\n",
        "\n",
        "loss = nn.MSELoss()\n",
        "optimizer = torch.optim.SGD([w], lr=learning_rate)\n",
        "\n",
        "for epoch in range(max_epochs):\n",
        "\n",
        "  # forward pass\n",
        "  y_hat = torch.mm(X, w)\n",
        "  l = loss(y, y_hat)\n",
        "\n",
        "  # backward pass\n",
        "  l.backward()\n",
        "\n",
        "  # update params\n",
        "  optimizer.step()\n",
        "\n",
        "  # zero the grad\n",
        "  optimizer.zero_grad()\n",
        "\n",
        "  if (epoch+1)%10 == 0:\n",
        "    print(f\"epoch {epoch+1}/{max_epochs}, w = {w}, loss = {l}\")"
      ],
      "metadata": {
        "colab": {
          "base_uri": "https://localhost:8080/"
        },
        "id": "cUpwMsoaXM2R",
        "outputId": "73734091-8c4d-4232-84a1-a36d7ee5ca37"
      },
      "execution_count": null,
      "outputs": [
        {
          "output_type": "stream",
          "name": "stdout",
          "text": [
            "epoch 10/100, w = tensor([[54.5013],\n",
            "        [ 5.2077],\n",
            "        [ 5.4963],\n",
            "        [26.9403],\n",
            "        [23.8573]], requires_grad=True), loss = 932.4965209960938\n",
            "epoch 20/100, w = tensor([[68.0343],\n",
            "        [ 7.2285],\n",
            "        [ 6.4760],\n",
            "        [31.9780],\n",
            "        [29.3999]], requires_grad=True), loss = 428.60595703125\n",
            "epoch 30/100, w = tensor([[71.4157],\n",
            "        [ 7.8356],\n",
            "        [ 6.6342],\n",
            "        [32.9059],\n",
            "        [30.6978]], requires_grad=True), loss = 399.1352844238281\n",
            "epoch 40/100, w = tensor([[72.2644],\n",
            "        [ 7.9995],\n",
            "        [ 6.6559],\n",
            "        [33.0716],\n",
            "        [31.0045]], requires_grad=True), loss = 397.36029052734375\n",
            "epoch 50/100, w = tensor([[72.4782],\n",
            "        [ 8.0413],\n",
            "        [ 6.6579],\n",
            "        [33.0994],\n",
            "        [31.0776]], requires_grad=True), loss = 397.25115966796875\n",
            "epoch 60/100, w = tensor([[72.5322],\n",
            "        [ 8.0515],\n",
            "        [ 6.6578],\n",
            "        [33.1035],\n",
            "        [31.0951]], requires_grad=True), loss = 397.244384765625\n",
            "epoch 70/100, w = tensor([[72.5458],\n",
            "        [ 8.0539],\n",
            "        [ 6.6577],\n",
            "        [33.1039],\n",
            "        [31.0994]], requires_grad=True), loss = 397.2439270019531\n",
            "epoch 80/100, w = tensor([[72.5493],\n",
            "        [ 8.0545],\n",
            "        [ 6.6576],\n",
            "        [33.1039],\n",
            "        [31.1004]], requires_grad=True), loss = 397.243896484375\n",
            "epoch 90/100, w = tensor([[72.5502],\n",
            "        [ 8.0546],\n",
            "        [ 6.6576],\n",
            "        [33.1039],\n",
            "        [31.1007]], requires_grad=True), loss = 397.243896484375\n",
            "epoch 100/100, w = tensor([[72.5504],\n",
            "        [ 8.0546],\n",
            "        [ 6.6576],\n",
            "        [33.1038],\n",
            "        [31.1008]], requires_grad=True), loss = 397.2438659667969\n"
          ]
        }
      ]
    },
    {
      "cell_type": "markdown",
      "source": [
        "## Using torch only: weights are not able to learn"
      ],
      "metadata": {
        "id": "Dj_DX2D3XQIq"
      }
    },
    {
      "cell_type": "code",
      "source": [
        "w = torch.zeros(X.shape[1], 1, requires_grad=True)\n",
        "\n",
        "max_epochs = 10\n",
        "learning_rate = 0.07\n",
        "n_samples, n_features = X.shape\n",
        "input_size=n_features\n",
        "output_size=1\n",
        "\n",
        "model = nn.Linear(input_size, output_size)\n",
        "loss = nn.MSELoss()\n",
        "optimizer = torch.optim.SGD(model.parameters(), lr=learning_rate)\n",
        "\n",
        "for epoch in range(max_epochs):\n",
        "\n",
        "  # forward pass\n",
        "  y_hat = model(X)\n",
        "  l = loss(y, y_hat)\n",
        "\n",
        "  # backward pass\n",
        "  l.backward()\n",
        "\n",
        "  # update params\n",
        "  optimizer.step()\n",
        "\n",
        "  # zero the grad\n",
        "  optimizer.zero_grad()\n",
        "\n",
        "  if (epoch+1)%1 == 0:\n",
        "    print(f\"epoch {epoch+1}/{max_epochs}, loss = {l}\")"
      ],
      "metadata": {
        "colab": {
          "base_uri": "https://localhost:8080/"
        },
        "id": "YbEcfNUnONU4",
        "outputId": "f75ce8f1-f27e-4d03-b26a-ae71bb5e6fde"
      },
      "execution_count": null,
      "outputs": [
        {
          "output_type": "stream",
          "name": "stdout",
          "text": [
            "epoch 1/10, loss = 7565.421875\n",
            "epoch 2/10, loss = 5762.1455078125\n",
            "epoch 3/10, loss = 4414.8525390625\n",
            "epoch 4/10, loss = 3407.599365234375\n",
            "epoch 5/10, loss = 2654.09716796875\n",
            "epoch 6/10, loss = 2090.081787109375\n",
            "epoch 7/10, loss = 1667.656982421875\n",
            "epoch 8/10, loss = 1351.0985107421875\n",
            "epoch 9/10, loss = 1113.7457275390625\n",
            "epoch 10/10, loss = 935.6865844726562\n"
          ]
        }
      ]
    },
    {
      "cell_type": "code",
      "source": [
        "predictions = model(X).detach().numpy()\n",
        "\n",
        "plt.plot(X_numpy, y_numpy, 'ro')\n",
        "plt.plot(X_numpy, predictions, 'b');"
      ],
      "metadata": {
        "colab": {
          "base_uri": "https://localhost:8080/",
          "height": 265
        },
        "id": "hQIoeED8OS_2",
        "outputId": "1f0a6be9-66e7-48df-8fb7-3bcebddd9407"
      },
      "execution_count": null,
      "outputs": [
        {
          "output_type": "display_data",
          "data": {
            "text/plain": [
              "<Figure size 432x288 with 1 Axes>"
            ],
            "image/png": "[encoded data removed]"
          },
          "metadata": {
            "needs_background": "light"
          }
        }
      ]
    },
    {
      "cell_type": "code",
      "source": [
        "torch.normal(0, 100, (2, 1))"
      ],
      "metadata": {
        "colab": {
          "base_uri": "https://localhost:8080/"
        },
        "id": "eHDT6FFgX9EA",
        "outputId": "094da2ed-89e1-4a03-95a5-e47593286947"
      },
      "execution_count": null,
      "outputs": [
        {
          "output_type": "execute_result",
          "data": {
            "text/plain": [
              "tensor([[ 95.5811],\n",
              "        [-58.3666]])"
            ]
          },
          "metadata": {},
          "execution_count": 86
        }
      ]
    },
    {
      "cell_type": "code",
      "source": [
        "a = torch.rand(4, 3,requires_grad=True)"
      ],
      "metadata": {
        "id": "4Yx4f3-ikJvU"
      },
      "execution_count": null,
      "outputs": []
    },
    {
      "cell_type": "code",
      "source": [
        "try:\n",
        "  a.shape[1]\n",
        "except:\n",
        "  a = a.reshape(-1, 1)"
      ],
      "metadata": {
        "id": "fNZ5rNQakNrP"
      },
      "execution_count": null,
      "outputs": []
    },
    {
      "cell_type": "code",
      "source": [
        "a"
      ],
      "metadata": {
        "colab": {
          "base_uri": "https://localhost:8080/"
        },
        "id": "rikfUp1LkndW",
        "outputId": "43fa4db8-76d1-4993-977d-7bc904488ab8"
      },
      "execution_count": null,
      "outputs": [
        {
          "output_type": "execute_result",
          "data": {
            "text/plain": [
              "tensor([[0.8787, 0.3696, 0.2905],\n",
              "        [0.6539, 0.8666, 0.2512],\n",
              "        [0.7758, 0.4490, 0.4571],\n",
              "        [0.2726, 0.2643, 0.1135]], requires_grad=True)"
            ]
          },
          "metadata": {},
          "execution_count": 23
        }
      ]
    },
    {
      "cell_type": "code",
      "source": [
        "def give_data(n_samples, w, b, noise=0.01):\n",
        "\n",
        "  try:\n",
        "    w.shape[1]\n",
        "  except:\n",
        "    w = w.reshape(-1, 1)\n",
        "    \n",
        "  X = torch.randn(n_samples, len(w))\n",
        "  noise = torch.randn(n_samples, 1) * noise\n",
        "  y = torch.mm(X, w) + b + noise\n",
        "  return X, y"
      ],
      "metadata": {
        "id": "V3GFEkVGbK4o"
      },
      "execution_count": null,
      "outputs": []
    },
    {
      "cell_type": "code",
      "source": [
        "class LinearRegression():\n",
        "\n",
        "  def __init__(self, input_size, output_size, lr=0.01, std=0.01):\n",
        "    self.input_size = input_size\n",
        "    self.output_size = output_size\n",
        "    self.lr = lr\n",
        "    # self.w = torch.normal(0, std, (input_size, 1), requires_grad=True, dtype=torch.float32)\n",
        "    self.w = torch.zeros(input_size, 1, requires_grad=True, dtype=torch.float32)\n",
        "    self.b = torch.zeros(1, requires_grad=True, dtype=torch.float32)\n",
        "\n",
        "  def forward(self, X):\n",
        "    y_hat = torch.mm(X, self.w) + self.b\n",
        "    return y_hat\n",
        "\n",
        "  def loss(self, y_hat, y):\n",
        "    crit = nn.MSELoss()\n",
        "    return crit(y_hat, y)"
      ],
      "metadata": {
        "id": "jfB6g7ETYxpw"
      },
      "execution_count": null,
      "outputs": []
    },
    {
      "cell_type": "code",
      "source": [
        "class Optim(): \n",
        "\n",
        "  def __init__(self, params, lr):\n",
        "    self.params = params\n",
        "    self.lr = lr\n",
        "\n",
        "  def update(self):\n",
        "    with torch.no_grad():\n",
        "      for param in self.params:\n",
        "        param -= self.lr * param.grad\n",
        "\n",
        "  def empty_grad(self):\n",
        "    for param in self.params:\n",
        "      param.grad.zero_()"
      ],
      "metadata": {
        "id": "IOJtH0HalW_D"
      },
      "execution_count": null,
      "outputs": []
    },
    {
      "cell_type": "code",
      "source": [
        "class Trainer():\n",
        "\n",
        "  def __init__(self, model, X, y):\n",
        "    self.model = model\n",
        "    self.X = X\n",
        "    self.y = y\n",
        "    self.optimizer = Optim([model.w, model.b], model.lr)\n",
        "\n",
        "  def train_model(self, max_epochs=100):\n",
        "\n",
        "    for epoch in range(max_epochs):\n",
        "\n",
        "      # forward_pass:\n",
        "      y_hat = self.model.forward(self.X)\n",
        "      l = self.model.loss(self.y, y_hat)\n",
        "\n",
        "      # backward_pass:\n",
        "      l.backward(retain_graph=True)\n",
        "\n",
        "      # update the params:\n",
        "      self.optimizer.update()\n",
        "\n",
        "      # empty the grad:\n",
        "      self.optimizer.empty_grad()\n",
        "\n",
        "      if (epoch+1) % (max_epochs/10) == 0:\n",
        "        print(f\"epoch : {epoch+1}/{max_epochs}, w = {self.model.w[0][0].item():.3f} & {self.model.w[1][0].item():.3f}, b = {self.model.b.item():.3f}, loss = {l:.4f}\")"
      ],
      "metadata": {
        "id": "FLRmzw7wg0nZ"
      },
      "execution_count": null,
      "outputs": []
    },
    {
      "cell_type": "code",
      "source": [
        "w = torch.tensor([1.0, -2.5], dtype=torch.float32).reshape(-1, 1)\n",
        "b = torch.tensor(-4.6, dtype=torch.float32)\n",
        "\n",
        "X, y = give_data(1000, w, b)"
      ],
      "metadata": {
        "id": "qvb9hM7CcwXe"
      },
      "execution_count": null,
      "outputs": []
    },
    {
      "cell_type": "code",
      "source": [
        "print(X.shape, y.shape)"
      ],
      "metadata": {
        "colab": {
          "base_uri": "https://localhost:8080/"
        },
        "id": "jDhzMh9XfSbw",
        "outputId": "6b4ae53c-3f54-40c2-9517-403fb904efaf"
      },
      "execution_count": null,
      "outputs": [
        {
          "output_type": "stream",
          "name": "stdout",
          "text": [
            "torch.Size([1000, 2]) torch.Size([1000, 1])\n"
          ]
        }
      ]
    },
    {
      "cell_type": "code",
      "source": [
        "model = LinearRegression(X.shape[1], y.shape[1])\n",
        "optimizer = Optim([model.w, model.b], model.lr)\n",
        "\n",
        "max_epochs = 1000\n",
        "\n",
        "for epoch in range(max_epochs):\n",
        "\n",
        "  # forward pass\n",
        "  y_hat = model.forward(X)\n",
        "  l = model.loss(y_hat, y)\n",
        "\n",
        "  # backward pass\n",
        "  l.backward(retain_graph=True)\n",
        "\n",
        "  # update the params\n",
        "  optimizer.update()\n",
        "\n",
        "  # zero the grad\n",
        "  optimizer.empty_grad()\n",
        "\n",
        "  if (epoch+1)%100 == 0:\n",
        "    print(f\"epoch : {epoch+1}/{max_epochs}, w = {model.w[0][0].item():.3f} & {model.w[1][0].item():.3f}, b = {model.b.item():.3f}, loss = {l:.4f}\")"
      ],
      "metadata": {
        "colab": {
          "base_uri": "https://localhost:8080/",
          "height": 232
        },
        "id": "i8ZQx6nrfY21",
        "outputId": "8ad312bf-0dcd-46d6-eb75-51acf47b8cd2"
      },
      "execution_count": null,
      "outputs": [
        {
          "output_type": "error",
          "ename": "NameError",
          "evalue": "ignored",
          "traceback": [
            "\u001b[0;31m---------------------------------------------------------------------------\u001b[0m",
            "\u001b[0;31mNameError\u001b[0m                                 Traceback (most recent call last)",
            "\u001b[0;32m<ipython-input-8-c0c443a57573>\u001b[0m in \u001b[0;36m<module>\u001b[0;34m\u001b[0m\n\u001b[0;32m----> 1\u001b[0;31m \u001b[0mmodel\u001b[0m \u001b[0;34m=\u001b[0m \u001b[0mLinearRegression\u001b[0m\u001b[0;34m(\u001b[0m\u001b[0mX\u001b[0m\u001b[0;34m.\u001b[0m\u001b[0mshape\u001b[0m\u001b[0;34m[\u001b[0m\u001b[0;36m1\u001b[0m\u001b[0;34m]\u001b[0m\u001b[0;34m,\u001b[0m \u001b[0my\u001b[0m\u001b[0;34m.\u001b[0m\u001b[0mshape\u001b[0m\u001b[0;34m[\u001b[0m\u001b[0;36m1\u001b[0m\u001b[0;34m]\u001b[0m\u001b[0;34m)\u001b[0m\u001b[0;34m\u001b[0m\u001b[0;34m\u001b[0m\u001b[0m\n\u001b[0m\u001b[1;32m      2\u001b[0m \u001b[0moptimizer\u001b[0m \u001b[0;34m=\u001b[0m \u001b[0mOptim\u001b[0m\u001b[0;34m(\u001b[0m\u001b[0;34m[\u001b[0m\u001b[0mmodel\u001b[0m\u001b[0;34m.\u001b[0m\u001b[0mw\u001b[0m\u001b[0;34m,\u001b[0m \u001b[0mmodel\u001b[0m\u001b[0;34m.\u001b[0m\u001b[0mb\u001b[0m\u001b[0;34m]\u001b[0m\u001b[0;34m,\u001b[0m \u001b[0mmodel\u001b[0m\u001b[0;34m.\u001b[0m\u001b[0mlr\u001b[0m\u001b[0;34m)\u001b[0m\u001b[0;34m\u001b[0m\u001b[0;34m\u001b[0m\u001b[0m\n\u001b[1;32m      3\u001b[0m \u001b[0;34m\u001b[0m\u001b[0m\n\u001b[1;32m      4\u001b[0m \u001b[0mmax_epochs\u001b[0m \u001b[0;34m=\u001b[0m \u001b[0;36m1000\u001b[0m\u001b[0;34m\u001b[0m\u001b[0;34m\u001b[0m\u001b[0m\n\u001b[1;32m      5\u001b[0m \u001b[0;34m\u001b[0m\u001b[0m\n",
            "\u001b[0;31mNameError\u001b[0m: name 'LinearRegression' is not defined"
          ]
        }
      ]
    },
    {
      "cell_type": "code",
      "source": [
        "w = torch.tensor([-5.9, 3.2], dtype=torch.float32, requires_grad=True)\n",
        "b = torch.tensor([-9.4], dtype=torch.float32, requires_grad=True)\n",
        "\n",
        "X, y = give_data(1000, w, b)\n",
        "model = LinearRegression(X.shape[1], y.shape[1])\n",
        "trainer = Trainer(model, X, y)"
      ],
      "metadata": {
        "id": "I8xT6CvDhyny"
      },
      "execution_count": null,
      "outputs": []
    },
    {
      "cell_type": "code",
      "source": [
        "trainer.train_model(1000)"
      ],
      "metadata": {
        "colab": {
          "base_uri": "https://localhost:8080/"
        },
        "id": "XNMoJVdkjfBh",
        "outputId": "6e5322a4-2866-4564-ad03-fda68c64fd74"
      },
      "execution_count": null,
      "outputs": [
        {
          "output_type": "stream",
          "name": "stdout",
          "text": [
            "epoch : 100/1000, w = -4.829 & 2.730, b = -8.061, loss = 3.0228\n",
            "epoch : 200/1000, w = -5.709 & 3.133, b = -9.207, loss = 0.0743\n",
            "epoch : 300/1000, w = -5.867 & 3.190, b = -9.372, loss = 0.0020\n",
            "epoch : 400/1000, w = -5.895 & 3.198, b = -9.396, loss = 0.0002\n",
            "epoch : 500/1000, w = -5.900 & 3.199, b = -9.399, loss = 0.0001\n",
            "epoch : 600/1000, w = -5.901 & 3.199, b = -9.400, loss = 0.0001\n",
            "epoch : 700/1000, w = -5.901 & 3.199, b = -9.400, loss = 0.0001\n",
            "epoch : 800/1000, w = -5.901 & 3.199, b = -9.400, loss = 0.0001\n",
            "epoch : 900/1000, w = -5.901 & 3.199, b = -9.400, loss = 0.0001\n",
            "epoch : 1000/1000, w = -5.901 & 3.199, b = -9.400, loss = 0.0001\n"
          ]
        }
      ]
    },
    {
      "cell_type": "code",
      "source": [
        "X = torch.randn(1000, 5)\n",
        "w = torch.tensor([1.4, 6.7, -4.5, -3.2, 8.5], dtype=torch.float32).reshape(-1, 1)\n",
        "b = torch.tensor([-9.54], dtype=torch.float32)\n",
        "\n",
        "y = torch.mm(X, w) + b\n",
        "max_epochs = 100\n",
        "crit = nn.MSELoss()\n",
        "\n",
        "w = torch.randn(5, 1, requires_grad=True)\n",
        "b = torch.randn(1, requires_grad=True)\n",
        "\n",
        "for epoch in range(max_epochs):\n",
        "  y_hat = torch.mm(X, w) + b\n",
        "  l = crit(y, y_hat)\n",
        "  l.backward()\n",
        "\n",
        "  with torch.no_grad():\n",
        "    w -= 0.01 * w.grad\n",
        "    b -= 0.01 * b.grad\n",
        "\n",
        "  w.grad.zero_()\n",
        "  b.grad.zero_()\n",
        "\n",
        "  if (epoch+1)%10 == 0:\n",
        "    print(f\"epoch : {epoch+1}/{max_epochs}, w = {w}, b = {b}, loss = {l}\")\n"
      ],
      "metadata": {
        "id": "IO4sRhg5lpPC",
        "colab": {
          "base_uri": "https://localhost:8080/"
        },
        "outputId": "dea55027-7e68-442a-cf0a-a9b1bae91c2c"
      },
      "execution_count": null,
      "outputs": [
        {
          "output_type": "stream",
          "name": "stdout",
          "text": [
            "epoch : 10/100, w = tensor([[0.7183],\n",
            "        [1.5214],\n",
            "        [0.9248],\n",
            "        [0.6431],\n",
            "        [2.2365]], requires_grad=True), b = tensor([-0.6587], requires_grad=True), loss = 197.0800323486328\n",
            "epoch : 20/100, w = tensor([[ 0.8292],\n",
            "        [ 2.4711],\n",
            "        [-0.0373],\n",
            "        [ 0.0468],\n",
            "        [ 3.4258]], requires_grad=True), b = tensor([-2.3099], requires_grad=True), loss = 131.53370666503906\n",
            "epoch : 30/100, w = tensor([[ 0.9220],\n",
            "        [ 3.2463],\n",
            "        [-0.8281],\n",
            "        [-0.4590],\n",
            "        [ 4.3901]], requires_grad=True), b = tensor([-3.6534], requires_grad=True), loss = 87.82720947265625\n",
            "epoch : 40/100, w = tensor([[ 0.9997],\n",
            "        [ 3.8790],\n",
            "        [-1.4781],\n",
            "        [-0.8875],\n",
            "        [ 5.1718]], requires_grad=True), b = tensor([-4.7466], requires_grad=True), loss = 58.67092514038086\n",
            "epoch : 50/100, w = tensor([[ 1.0647],\n",
            "        [ 4.3956],\n",
            "        [-2.0126],\n",
            "        [-1.2503],\n",
            "        [ 5.8053]], requires_grad=True), b = tensor([-5.6364], requires_grad=True), loss = 39.21233367919922\n",
            "epoch : 60/100, w = tensor([[ 1.1191],\n",
            "        [ 4.8173],\n",
            "        [-2.4521],\n",
            "        [-1.5571],\n",
            "        [ 6.3187]], requires_grad=True), b = tensor([-6.3606], requires_grad=True), loss = 26.219970703125\n",
            "epoch : 70/100, w = tensor([[ 1.1647],\n",
            "        [ 5.1617],\n",
            "        [-2.8136],\n",
            "        [-1.8164],\n",
            "        [ 6.7347]], requires_grad=True), b = tensor([-6.9501], requires_grad=True), loss = 17.541051864624023\n",
            "epoch : 80/100, w = tensor([[ 1.2028],\n",
            "        [ 5.4429],\n",
            "        [-3.1111],\n",
            "        [-2.0354],\n",
            "        [ 7.0716]], requires_grad=True), b = tensor([-7.4300], requires_grad=True), loss = 11.740774154663086\n",
            "epoch : 90/100, w = tensor([[ 1.2347],\n",
            "        [ 5.6726],\n",
            "        [-3.3558],\n",
            "        [-2.2203],\n",
            "        [ 7.3446]], requires_grad=True), b = tensor([-7.8208], requires_grad=True), loss = 7.862475872039795\n",
            "epoch : 100/100, w = tensor([[ 1.2615],\n",
            "        [ 5.8602],\n",
            "        [-3.5573],\n",
            "        [-2.3761],\n",
            "        [ 7.5656]], requires_grad=True), b = tensor([-8.1390], requires_grad=True), loss = 5.2680134773254395\n"
          ]
        }
      ]
    },
    {
      "cell_type": "code",
      "source": [
        "a = torch.randn(5, 1, requires_grad=True)\n",
        "print(f\"a = {a}\")\n",
        "\n",
        "for i in range(5):\n",
        "  b = (2*a).sum()\n",
        "  b.backward()\n",
        "  print(f\"iter = {i+1}, a.grad = {a.grad}\")\n",
        "  a.grad.zero_()"
      ],
      "metadata": {
        "colab": {
          "base_uri": "https://localhost:8080/"
        },
        "id": "X1WF-7bbx9ok",
        "outputId": "bf196290-c72e-4f4c-8f5d-d46f443cd425"
      },
      "execution_count": null,
      "outputs": [
        {
          "output_type": "stream",
          "name": "stdout",
          "text": [
            "a = tensor([[-1.5663],\n",
            "        [-0.5506],\n",
            "        [-0.1211],\n",
            "        [-1.2993],\n",
            "        [-2.6648]], requires_grad=True)\n",
            "iter = 1, a.grad = tensor([[2.],\n",
            "        [2.],\n",
            "        [2.],\n",
            "        [2.],\n",
            "        [2.]])\n",
            "iter = 2, a.grad = tensor([[2.],\n",
            "        [2.],\n",
            "        [2.],\n",
            "        [2.],\n",
            "        [2.]])\n",
            "iter = 3, a.grad = tensor([[2.],\n",
            "        [2.],\n",
            "        [2.],\n",
            "        [2.],\n",
            "        [2.]])\n",
            "iter = 4, a.grad = tensor([[2.],\n",
            "        [2.],\n",
            "        [2.],\n",
            "        [2.],\n",
            "        [2.]])\n",
            "iter = 5, a.grad = tensor([[2.],\n",
            "        [2.],\n",
            "        [2.],\n",
            "        [2.],\n",
            "        [2.]])\n"
          ]
        }
      ]
    },
    {
      "cell_type": "code",
      "source": [
        "a = torch.randn(10, 5, requires_grad=True)\n",
        "b = 5 * a\n",
        "b = b.sum()\n",
        "b.backward(retain_graph=True)\n",
        "print(f\"a.grad = {a.grad}\")\n",
        "a.grad.zero_()\n",
        "b.backward(retain_graph=True)\n",
        "print(f\"a.grad = {a.grad}\")\n",
        "b.backward()"
      ],
      "metadata": {
        "colab": {
          "base_uri": "https://localhost:8080/"
        },
        "id": "zCY2tIm4yiJR",
        "outputId": "e27e8e47-8a9a-4745-85fa-2083beed9c19"
      },
      "execution_count": null,
      "outputs": [
        {
          "output_type": "stream",
          "name": "stdout",
          "text": [
            "a.grad = tensor([[5., 5., 5., 5., 5.],\n",
            "        [5., 5., 5., 5., 5.],\n",
            "        [5., 5., 5., 5., 5.],\n",
            "        [5., 5., 5., 5., 5.],\n",
            "        [5., 5., 5., 5., 5.],\n",
            "        [5., 5., 5., 5., 5.],\n",
            "        [5., 5., 5., 5., 5.],\n",
            "        [5., 5., 5., 5., 5.],\n",
            "        [5., 5., 5., 5., 5.],\n",
            "        [5., 5., 5., 5., 5.]])\n",
            "a.grad = tensor([[5., 5., 5., 5., 5.],\n",
            "        [5., 5., 5., 5., 5.],\n",
            "        [5., 5., 5., 5., 5.],\n",
            "        [5., 5., 5., 5., 5.],\n",
            "        [5., 5., 5., 5., 5.],\n",
            "        [5., 5., 5., 5., 5.],\n",
            "        [5., 5., 5., 5., 5.],\n",
            "        [5., 5., 5., 5., 5.],\n",
            "        [5., 5., 5., 5., 5.],\n",
            "        [5., 5., 5., 5., 5.]])\n"
          ]
        }
      ]
    },
    {
      "cell_type": "markdown",
      "source": [
        "## Trying again!!"
      ],
      "metadata": {
        "id": "zmAxS4FkzigA"
      }
    },
    {
      "cell_type": "code",
      "source": [
        "def give_data(n_samples, w, b, noise=0.01):\n",
        "\n",
        "  try:\n",
        "    w.shape[1]\n",
        "  except:\n",
        "    w = w.reshape(-1, 1)\n",
        "    \n",
        "  X = torch.randn(n_samples, len(w))\n",
        "  noise = torch.randn(n_samples, 1) * noise\n",
        "  y = torch.mm(X, w) + b + noise\n",
        "  return X, y"
      ],
      "metadata": {
        "id": "VpZCzg7by0vR"
      },
      "execution_count": 3,
      "outputs": []
    },
    {
      "cell_type": "code",
      "source": [
        "class LinearRegression():\n",
        "\n",
        "  def __init__(self, input_size, output_size, lr=0.01, std=0.01):\n",
        "    self.input_size = input_size\n",
        "    self.output_size = output_size\n",
        "    self.lr = lr\n",
        "    # self.w = torch.normal(0, std, (input_size, 1), requires_grad=True, dtype=torch.float32)\n",
        "    self.w = torch.zeros(input_size, 1, requires_grad=True, dtype=torch.float32)\n",
        "    self.b = torch.zeros(1, requires_grad=True, dtype=torch.float32)\n",
        "\n",
        "  def forward(self, X):\n",
        "    \n",
        "    y_hat = torch.mm(X, self.w) + self.b\n",
        "    return y_hat\n",
        "\n",
        "  def loss(self, y_hat, y):\n",
        "    crit = nn.MSELoss()\n",
        "    return crit(y_hat, y)"
      ],
      "metadata": {
        "id": "T9G3lGoqzs7K"
      },
      "execution_count": 4,
      "outputs": []
    },
    {
      "cell_type": "code",
      "source": [
        "class Optim(): \n",
        "\n",
        "  def __init__(self, params, lr):\n",
        "    self.params = params\n",
        "    self.lr = lr\n",
        "\n",
        "  def update(self):\n",
        "    with torch.no_grad():\n",
        "      for param in self.params:\n",
        "        param -= self.lr * param.grad\n",
        "\n",
        "  def empty_grad(self):\n",
        "    for param in self.params:\n",
        "      param.grad.zero_()"
      ],
      "metadata": {
        "id": "ARXXFoYRzvi2"
      },
      "execution_count": 5,
      "outputs": []
    },
    {
      "cell_type": "code",
      "source": [
        "class Trainer():\n",
        "\n",
        "  def __init__(self, model, X, y):\n",
        "    self.model = model\n",
        "    self.X = X\n",
        "    self.y = y\n",
        "    self.optimizer = Optim([model.w, model.b], model.lr)\n",
        "\n",
        "  def train_model(self, max_epochs=100):\n",
        "\n",
        "    for epoch in range(max_epochs):\n",
        "\n",
        "      # forward_pass:\n",
        "      y_hat = self.model.forward(self.X)\n",
        "      l = self.model.loss(self.y, y_hat)\n",
        "\n",
        "      # backward_pass:\n",
        "      l.backward(retain_graph=True)\n",
        "\n",
        "      # update the params:\n",
        "      self.optimizer.update()\n",
        "\n",
        "      # empty the grad:\n",
        "      self.optimizer.empty_grad()\n",
        "\n",
        "      if (epoch+1) % (max_epochs/10) == 0:\n",
        "        print(f\"epoch : {epoch+1}/{max_epochs}, b = {self.model.b.item():.3f}, loss = {l:.4f}\")"
      ],
      "metadata": {
        "id": "03tOTIAzzxuo"
      },
      "execution_count": 6,
      "outputs": []
    },
    {
      "cell_type": "code",
      "source": [
        "w = torch.tensor([-4, -6.7], dtype=torch.float32)\n",
        "b = torch.tensor([-5.7], dtype=torch.float32)\n",
        "n_samples = 100\n",
        "\n",
        "X, y = give_data(n_samples, w, b)\n",
        "print(f\"X.shape = {X.shape}\")\n",
        "print(f\"y.shape = {y.shape}\")"
      ],
      "metadata": {
        "colab": {
          "base_uri": "https://localhost:8080/"
        },
        "id": "PXlRLQTB0WlD",
        "outputId": "a047e6da-9f6b-4452-a4d4-4f180cfebcdb"
      },
      "execution_count": null,
      "outputs": [
        {
          "output_type": "stream",
          "name": "stdout",
          "text": [
            "X.shape = torch.Size([100, 2])\n",
            "y.shape = torch.Size([100, 1])\n"
          ]
        }
      ]
    },
    {
      "cell_type": "code",
      "source": [
        "model = LinearRegression(X.shape[1], y.shape[1])\n",
        "trainer = Trainer(model, X, y)\n",
        "trainer.train_model(max_epochs=1000)"
      ],
      "metadata": {
        "colab": {
          "base_uri": "https://localhost:8080/"
        },
        "id": "ScC_tbpN0_VJ",
        "outputId": "92d0343b-eed0-43a3-9ba4-9d5176560b03"
      },
      "execution_count": null,
      "outputs": [
        {
          "output_type": "stream",
          "name": "stdout",
          "text": [
            "epoch : 100/1000, w = -3.046 & -5.968, b = -4.859, loss = 1.9866\n",
            "epoch : 200/1000, w = -3.797 & -6.614, b = -5.566, loss = 0.0579\n",
            "epoch : 300/1000, w = -3.958 & -6.689, b = -5.678, loss = 0.0021\n",
            "epoch : 400/1000, w = -3.991 & -6.698, b = -5.696, loss = 0.0002\n",
            "epoch : 500/1000, w = -3.998 & -6.700, b = -5.700, loss = 0.0001\n",
            "epoch : 600/1000, w = -3.999 & -6.700, b = -5.700, loss = 0.0001\n",
            "epoch : 700/1000, w = -3.999 & -6.700, b = -5.700, loss = 0.0001\n",
            "epoch : 800/1000, w = -3.999 & -6.700, b = -5.700, loss = 0.0001\n",
            "epoch : 900/1000, w = -3.999 & -6.700, b = -5.700, loss = 0.0001\n",
            "epoch : 1000/1000, w = -3.999 & -6.700, b = -5.700, loss = 0.0001\n"
          ]
        }
      ]
    },
    {
      "cell_type": "code",
      "source": [
        "class LinearModel():\n",
        "\n",
        "  def __init__(self, input_size, output_size, lr=0.01):\n",
        "    self.lin = nn.Linear(input_size, output_size)\n",
        "\n",
        "  def loss(self, y_hat, y):\n",
        "    crit = nn.MSELoss()\n",
        "    return crit(y_hat, y)"
      ],
      "metadata": {
        "id": "rEl6eG4w2-lu"
      },
      "execution_count": null,
      "outputs": []
    },
    {
      "cell_type": "code",
      "source": [
        "model = LinearModel(5, 1).lin"
      ],
      "metadata": {
        "id": "O5vHeZl330pn"
      },
      "execution_count": null,
      "outputs": []
    },
    {
      "cell_type": "code",
      "source": [
        "for i, par in enumerate(model.parameters()):\n",
        "  print(f\"i = {i}, parameter = {par}\")"
      ],
      "metadata": {
        "colab": {
          "base_uri": "https://localhost:8080/"
        },
        "id": "CSnkhH094LiL",
        "outputId": "74314592-bfc5-47b1-8ef4-aff426ce457e"
      },
      "execution_count": null,
      "outputs": [
        {
          "output_type": "stream",
          "name": "stdout",
          "text": [
            "i = 0, parameter = Parameter containing:\n",
            "tensor([[0.0534, 0.2215, 0.0926, 0.2665, 0.2619]], requires_grad=True)\n",
            "i = 1, parameter = Parameter containing:\n",
            "tensor([0.2772], requires_grad=True)\n"
          ]
        }
      ]
    },
    {
      "cell_type": "code",
      "source": [
        "from torch.nn.parameter import Parameter"
      ],
      "metadata": {
        "id": "tRsHmYIW6DtR"
      },
      "execution_count": null,
      "outputs": []
    },
    {
      "cell_type": "code",
      "source": [
        "a = Parameter(torch.randn(5, 1, requires_grad=True))"
      ],
      "metadata": {
        "id": "6s7R6gAz5uyE"
      },
      "execution_count": null,
      "outputs": []
    },
    {
      "cell_type": "code",
      "source": [
        "a"
      ],
      "metadata": {
        "colab": {
          "base_uri": "https://localhost:8080/"
        },
        "id": "KaYD0Mcw6MWy",
        "outputId": "1ebb5394-a14c-4cae-812f-54c04d0ad1ac"
      },
      "execution_count": null,
      "outputs": [
        {
          "output_type": "execute_result",
          "data": {
            "text/plain": [
              "Parameter containing:\n",
              "tensor([[-0.6138],\n",
              "        [ 0.7925],\n",
              "        [-1.0220],\n",
              "        [ 1.0425],\n",
              "        [ 1.5471]], requires_grad=True)"
            ]
          },
          "metadata": {},
          "execution_count": 129
        }
      ]
    },
    {
      "cell_type": "code",
      "source": [
        "model = LinearModel(10, 1).lin\n",
        "model"
      ],
      "metadata": {
        "colab": {
          "base_uri": "https://localhost:8080/"
        },
        "id": "d3TbZ_R46ShT",
        "outputId": "0423b5b4-611d-4350-ec79-8de1ae399e5f"
      },
      "execution_count": null,
      "outputs": [
        {
          "output_type": "execute_result",
          "data": {
            "text/plain": [
              "Linear(in_features=10, out_features=1, bias=True)"
            ]
          },
          "metadata": {},
          "execution_count": 130
        }
      ]
    },
    {
      "cell_type": "code",
      "source": [
        "for i, par in enumerate(model.parameters()):\n",
        "\n",
        "  if i == 0:\n",
        "    par = Parameter(torch.zeros(10, 1), requires_grad=True)\n",
        "  else:\n",
        "    par = Parameter(torch.zeros(1, requires_grad=True))\n",
        "\n",
        "for par in model.parameters():\n",
        "  print(par)\n"
      ],
      "metadata": {
        "colab": {
          "base_uri": "https://localhost:8080/"
        },
        "id": "DjubHAgb6X5q",
        "outputId": "dba4fd69-f213-41d0-f9a5-997db64891dc"
      },
      "execution_count": null,
      "outputs": [
        {
          "output_type": "stream",
          "name": "stdout",
          "text": [
            "Parameter containing:\n",
            "tensor([[ 0.1671,  0.1896,  0.2908, -0.2934, -0.1160,  0.1101, -0.1318,  0.3157,\n",
            "          0.0034,  0.0984]], requires_grad=True)\n",
            "Parameter containing:\n",
            "tensor([-0.0829], requires_grad=True)\n"
          ]
        }
      ]
    },
    {
      "cell_type": "markdown",
      "source": [
        "## Q2:\n",
        "\n",
        "since V = IR is a linear relationship between y=V and X=I, i think we can find the learn the value of R\n",
        "\n",
        "assuming V is linear with I"
      ],
      "metadata": {
        "id": "gO_IbCVI1lEM"
      }
    },
    {
      "cell_type": "code",
      "source": [
        "r = 100 # resitance, let's see if the model can learn it\n",
        "X = torch.randn(1000, 1)\n",
        "y = r * X"
      ],
      "metadata": {
        "id": "0h_bwZn_PxgV"
      },
      "execution_count": null,
      "outputs": []
    },
    {
      "cell_type": "code",
      "source": [
        "y.shape"
      ],
      "metadata": {
        "colab": {
          "base_uri": "https://localhost:8080/"
        },
        "id": "F16r0j7I1XlQ",
        "outputId": "8fadc1a0-9686-42de-f91f-c68afad6ee06"
      },
      "execution_count": null,
      "outputs": [
        {
          "output_type": "execute_result",
          "data": {
            "text/plain": [
              "torch.Size([1000, 1])"
            ]
          },
          "metadata": {},
          "execution_count": 149
        }
      ]
    },
    {
      "cell_type": "code",
      "source": [
        "learning_rate=0.01\n",
        "max_epochs = 1000\n",
        "\n",
        "model = nn.Linear(X.shape[1], y.shape[1])\n",
        "optimizer = torch.optim.SGD(model.parameters(), lr = learning_rate)\n",
        "crit = nn.MSELoss()\n",
        "\n",
        "for epoch in range(max_epochs):\n",
        "\n",
        "  # forward pass : y_hat and loss\n",
        "  y_hat = model(X)\n",
        "  l = crit(y_hat, y)\n",
        "\n",
        "  # backward pass : gradient\n",
        "  l.backward()\n",
        "\n",
        "  # update the params\n",
        "  optimizer.step()\n",
        "\n",
        "  # zero the grad\n",
        "  optimizer.zero_grad()\n",
        "\n",
        "  if (epoch+1) % (max_epochs/10) == 0:\n",
        "    print(f\"epoch : {epoch+1}/{max_epochs}, loss = {l}\")"
      ],
      "metadata": {
        "colab": {
          "base_uri": "https://localhost:8080/"
        },
        "id": "9Jxc9Tl_QK9H",
        "outputId": "2302eb30-d02d-4389-d2e9-8c6ecda21a88"
      },
      "execution_count": null,
      "outputs": [
        {
          "output_type": "stream",
          "name": "stdout",
          "text": [
            "epoch : 100/1000, loss = 202.58876037597656\n",
            "epoch : 200/1000, loss = 4.0843048095703125\n",
            "epoch : 300/1000, loss = 0.08245765417814255\n",
            "epoch : 400/1000, loss = 0.0016662359703332186\n",
            "epoch : 500/1000, loss = 3.377368557266891e-05\n",
            "epoch : 600/1000, loss = 7.003586688369978e-07\n",
            "epoch : 700/1000, loss = 3.542697513125859e-08\n",
            "epoch : 800/1000, loss = 3.531340198037469e-08\n",
            "epoch : 900/1000, loss = 3.531340198037469e-08\n",
            "epoch : 1000/1000, loss = 3.531340198037469e-08\n"
          ]
        }
      ]
    },
    {
      "cell_type": "code",
      "source": [
        "for par in model.parameters():\n",
        "  print(par)"
      ],
      "metadata": {
        "colab": {
          "base_uri": "https://localhost:8080/"
        },
        "id": "PF0V7m62Q87g",
        "outputId": "cd2f4d49-9f5d-4ed4-bf7b-51a3edb9dae4"
      },
      "execution_count": null,
      "outputs": [
        {
          "output_type": "stream",
          "name": "stdout",
          "text": [
            "Parameter containing:\n",
            "tensor([[99.9998]], requires_grad=True)\n",
            "Parameter containing:\n",
            "tensor([3.7873e-06], requires_grad=True)\n"
          ]
        }
      ]
    },
    {
      "cell_type": "markdown",
      "source": [
        "the model correctly predicted the value of R"
      ],
      "metadata": {
        "id": "S454FXyLUcts"
      }
    },
    {
      "cell_type": "markdown",
      "source": [
        "## Q8 : using a different loss function\n",
        "\n",
        "MSELoss performs much better"
      ],
      "metadata": {
        "id": "sncuhm2zVqGA"
      }
    },
    {
      "cell_type": "code",
      "source": [
        "import torch\n",
        "import torch.nn as nn"
      ],
      "metadata": {
        "id": "t0uWXwnkavma"
      },
      "execution_count": 7,
      "outputs": []
    },
    {
      "cell_type": "code",
      "source": [
        "class ModLinear():\n",
        "\n",
        "  def __init__(self, input_size, output_size, lr=0.01, std=0.01):\n",
        "    self.input_size = input_size\n",
        "    self.output_size = output_size\n",
        "    self.lr = lr\n",
        "    # self.w = torch.normal(0, std, (input_size, 1), requires_grad=True, dtype=torch.float32)\n",
        "    self.w = torch.zeros(input_size, 1, requires_grad=True, dtype=torch.float32)\n",
        "    self.b = torch.zeros(1, requires_grad=True, dtype=torch.float32)\n",
        "\n",
        "  def forward(self, X):\n",
        "    \n",
        "    y_hat = torch.mm(X, self.w) + self.b\n",
        "    return y_hat\n",
        "\n",
        "  def loss(self, y_hat, y):\n",
        "    l = abs(y - y_hat).sum()\n",
        "    return l"
      ],
      "metadata": {
        "id": "O61Jdf6ichU_"
      },
      "execution_count": 37,
      "outputs": []
    },
    {
      "cell_type": "code",
      "source": [
        "torch.manual_seed(0)\n",
        "\n",
        "w = torch.tensor([-5.6, 7.8, 3.4, 1.6, -9.], dtype=torch.float32, requires_grad=True).reshape(-1, 1)\n",
        "b = torch.tensor([-8.56], dtype=torch.float32, requires_grad=True)\n",
        "\n",
        "X, y = give_data(1000, w, b)"
      ],
      "metadata": {
        "id": "v4lww80TUa57"
      },
      "execution_count": 38,
      "outputs": []
    },
    {
      "cell_type": "code",
      "source": [
        "print(f\"X.shape = {X.shape}\")\n",
        "print(f\"y.shape = {y.shape}\")"
      ],
      "metadata": {
        "colab": {
          "base_uri": "https://localhost:8080/"
        },
        "id": "mjlPB1y6b0Da",
        "outputId": "81277936-2fe0-4f26-cb61-0f935b7e4bb0"
      },
      "execution_count": 39,
      "outputs": [
        {
          "output_type": "stream",
          "name": "stdout",
          "text": [
            "X.shape = torch.Size([1000, 5])\n",
            "y.shape = torch.Size([1000, 1])\n"
          ]
        }
      ]
    },
    {
      "cell_type": "code",
      "source": [
        "model1 = ModLinear(X.shape[1], y.shape[1]) # using different loss function\n",
        "model2 = LinearRegression(X.shape[1], y.shape[1]) # using MSE\n",
        "trainer1 = Trainer(model1, X, y)\n",
        "trainer2 = Trainer(model2, X, y)"
      ],
      "metadata": {
        "id": "f7JZzQqoc4do"
      },
      "execution_count": 40,
      "outputs": []
    },
    {
      "cell_type": "code",
      "source": [
        "# nn.MSELoss model:\n",
        "trainer2.train_model(1000)"
      ],
      "metadata": {
        "colab": {
          "base_uri": "https://localhost:8080/"
        },
        "id": "fgunyCs9eJzC",
        "outputId": "49ab43ab-cff0-4297-a26c-5e14d1853e80"
      },
      "execution_count": 41,
      "outputs": [
        {
          "output_type": "stream",
          "name": "stdout",
          "text": [
            "epoch : 100/1000, b = -7.535, loss = 4.7808\n",
            "epoch : 200/1000, b = -8.437, loss = 0.0898\n",
            "epoch : 300/1000, b = -8.546, loss = 0.0019\n",
            "epoch : 400/1000, b = -8.559, loss = 0.0001\n",
            "epoch : 500/1000, b = -8.560, loss = 0.0001\n",
            "epoch : 600/1000, b = -8.560, loss = 0.0001\n",
            "epoch : 700/1000, b = -8.560, loss = 0.0001\n",
            "epoch : 800/1000, b = -8.560, loss = 0.0001\n",
            "epoch : 900/1000, b = -8.560, loss = 0.0001\n",
            "epoch : 1000/1000, b = -8.560, loss = 0.0001\n"
          ]
        }
      ]
    },
    {
      "cell_type": "code",
      "source": [
        "# absolute value loss\n",
        "trainer1.train_model(1000)"
      ],
      "metadata": {
        "colab": {
          "base_uri": "https://localhost:8080/"
        },
        "id": "wU9wWz0jevYu",
        "outputId": "3bbca899-26eb-4ca3-c9da-c4f0a229a964"
      },
      "execution_count": 42,
      "outputs": [
        {
          "output_type": "stream",
          "name": "stdout",
          "text": [
            "epoch : 100/1000, b = -11.660, loss = 6921.1787\n",
            "epoch : 200/1000, b = -11.660, loss = 6921.1787\n",
            "epoch : 300/1000, b = -11.660, loss = 6921.1787\n",
            "epoch : 400/1000, b = -11.660, loss = 6921.1787\n",
            "epoch : 500/1000, b = -11.660, loss = 6921.1787\n",
            "epoch : 600/1000, b = -11.660, loss = 6921.1787\n",
            "epoch : 700/1000, b = -11.660, loss = 6921.1787\n",
            "epoch : 800/1000, b = -11.660, loss = 6921.1787\n",
            "epoch : 900/1000, b = -11.660, loss = 6921.1787\n",
            "epoch : 1000/1000, b = -11.660, loss = 6921.1787\n"
          ]
        }
      ]
    },
    {
      "cell_type": "code",
      "source": [
        "a = torch.tensor([-1, -2, -3, -4], dtype=torch.float32, requires_grad=True)\n",
        "b = torch.tensor([1, 2, 3, 4], dtype=torch.float32, requires_grad=True) \n",
        "\n",
        "abs(a-b).sum().backward()\n",
        "b.grad"
      ],
      "metadata": {
        "colab": {
          "base_uri": "https://localhost:8080/"
        },
        "id": "BlmEc3AUZyNZ",
        "outputId": "1ac95abc-8d34-4c1e-f352-3968c1e159a2"
      },
      "execution_count": null,
      "outputs": [
        {
          "output_type": "execute_result",
          "data": {
            "text/plain": [
              "tensor([1., 1., 1., 1.])"
            ]
          },
          "metadata": {},
          "execution_count": 23
        }
      ]
    },
    {
      "cell_type": "code",
      "source": [
        "model = nn.Linear(5, 1)\n",
        "a = torch.randn(1000, 5)\n",
        "(model(a) - a).abs().sum()"
      ],
      "metadata": {
        "colab": {
          "base_uri": "https://localhost:8080/"
        },
        "id": "hyWiSHFjaIoq",
        "outputId": "c3dc3cd4-8fa3-4b13-89a3-cf3792d84d7c"
      },
      "execution_count": null,
      "outputs": [
        {
          "output_type": "execute_result",
          "data": {
            "text/plain": [
              "tensor(4428.3755, grad_fn=<SumBackward0>)"
            ]
          },
          "metadata": {},
          "execution_count": 18
        }
      ]
    },
    {
      "cell_type": "markdown",
      "source": [
        "# changing few values : Both the models perform equally badly"
      ],
      "metadata": {
        "id": "n-ZVprLwgqxo"
      }
    },
    {
      "cell_type": "code",
      "source": [
        "import numpy as np"
      ],
      "metadata": {
        "id": "zvW9caUjg-z-"
      },
      "execution_count": 17,
      "outputs": []
    },
    {
      "cell_type": "code",
      "source": [
        "torch.manual_seed(0)\n",
        "\n",
        "w = torch.tensor([-5.6, 7.8, 3.4, 1.6, -9.], dtype=torch.float32, requires_grad=True).reshape(-1, 1)\n",
        "b = torch.tensor([-8.56], dtype=torch.float32, requires_grad=True)\n",
        "\n",
        "X, y = give_data(1000, w, b)"
      ],
      "metadata": {
        "id": "G4hji1S1iQP4"
      },
      "execution_count": 43,
      "outputs": []
    },
    {
      "cell_type": "code",
      "source": [
        "print(f\"y.shape = {y.shape}\")"
      ],
      "metadata": {
        "id": "TvoirXg5Zgq7",
        "colab": {
          "base_uri": "https://localhost:8080/"
        },
        "outputId": "86b54591-cbb3-4084-dfc9-ed95557d9b4a"
      },
      "execution_count": 32,
      "outputs": [
        {
          "output_type": "stream",
          "name": "stdout",
          "text": [
            "y.shape = torch.Size([1000, 1])\n"
          ]
        }
      ]
    },
    {
      "cell_type": "code",
      "source": [
        "with torch.no_grad():\n",
        "  for i in np.arange(0, 1000, 200):\n",
        "    y[i, 0] = torch.tensor(10000, dtype=torch.float32, requires_grad=True)"
      ],
      "metadata": {
        "id": "bW4zUvjcgxU1"
      },
      "execution_count": 44,
      "outputs": []
    },
    {
      "cell_type": "code",
      "source": [
        "model1 = ModLinear(X.shape[1], y.shape[1]) # using different loss function\n",
        "model2 = LinearRegression(X.shape[1], y.shape[1]) # using MSE\n",
        "trainer1 = Trainer(model1, X, y)\n",
        "trainer2 = Trainer(model2, X, y)"
      ],
      "metadata": {
        "id": "t1B-7SaPhqsX"
      },
      "execution_count": 45,
      "outputs": []
    },
    {
      "cell_type": "code",
      "source": [
        "trainer1.train_model(1000)"
      ],
      "metadata": {
        "colab": {
          "base_uri": "https://localhost:8080/"
        },
        "id": "7q7X_WQIh5V-",
        "outputId": "1a0ed17e-dd80-4553-a1fa-88bbb6c8e3fd"
      },
      "execution_count": 46,
      "outputs": [
        {
          "output_type": "stream",
          "name": "stdout",
          "text": [
            "epoch : 100/1000, b = -9.340, loss = 59131.9336\n",
            "epoch : 200/1000, b = -9.080, loss = 59387.3438\n",
            "epoch : 300/1000, b = -13.200, loss = 55295.5586\n",
            "epoch : 400/1000, b = -9.020, loss = 59445.6094\n",
            "epoch : 500/1000, b = -11.160, loss = 57290.6133\n",
            "epoch : 600/1000, b = -11.580, loss = 56847.6094\n",
            "epoch : 700/1000, b = -11.240, loss = 57255.4102\n",
            "epoch : 800/1000, b = -10.840, loss = 57633.2969\n",
            "epoch : 900/1000, b = -10.960, loss = 57487.9609\n",
            "epoch : 1000/1000, b = -10.520, loss = 57943.2812\n"
          ]
        }
      ]
    },
    {
      "cell_type": "code",
      "source": [
        "trainer2.train_model(1000)"
      ],
      "metadata": {
        "colab": {
          "base_uri": "https://localhost:8080/"
        },
        "id": "FQ5fd8nzh8XZ",
        "outputId": "6106e5d1-98ae-4424-8092-b47c49491c28"
      },
      "execution_count": 47,
      "outputs": [
        {
          "output_type": "stream",
          "name": "stdout",
          "text": [
            "epoch : 100/1000, b = 36.376, loss = 497635.7500\n",
            "epoch : 200/1000, b = 41.584, loss = 497570.8125\n",
            "epoch : 300/1000, b = 42.346, loss = 497569.1562\n",
            "epoch : 400/1000, b = 42.460, loss = 497569.0938\n",
            "epoch : 500/1000, b = 42.477, loss = 497569.1562\n",
            "epoch : 600/1000, b = 42.479, loss = 497569.0938\n",
            "epoch : 700/1000, b = 42.480, loss = 497569.1562\n",
            "epoch : 800/1000, b = 42.480, loss = 497569.1562\n",
            "epoch : 900/1000, b = 42.480, loss = 497569.1562\n",
            "epoch : 1000/1000, b = 42.480, loss = 497569.1562\n"
          ]
        }
      ]
    },
    {
      "cell_type": "markdown",
      "source": [
        "## Q10:\n",
        "\n",
        "we shuffle the data to make sure that the model is not overfitting to certain order due to sort order"
      ],
      "metadata": {
        "id": "1JL0YcIDjL6-"
      }
    }
  ]
}